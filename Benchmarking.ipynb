{
 "cells": [
  {
   "cell_type": "markdown",
   "metadata": {},
   "source": [
    "We utilizerd the datasets from the pygod.\n",
    "\n",
    "See [data repository](https://github.com/pygod-team/data) for more details.\n"
   ]
  },
  {
   "cell_type": "code",
   "execution_count": 2,
   "metadata": {},
   "outputs": [
    {
     "name": "stderr",
     "output_type": "stream",
     "text": [
      "/home/roy206/.conda/envs/cent7/2020.11-py38/NWRGAE/lib/python3.8/site-packages/tqdm/auto.py:22: TqdmWarning: IProgress not found. Please update jupyter and ipywidgets. See https://ipywidgets.readthedocs.io/en/stable/user_install.html\n",
      "  from .autonotebook import tqdm as notebook_tqdm\n"
     ]
    }
   ],
   "source": [
    "import torch\n",
    "from pygod.generator import gen_contextual_outliers, gen_structural_outliers\n",
    "from pygod.utils import load_data\n",
    "from pygod.models import MLPAE,SCAN,Radar,ANOMALOUS,GCNAE,DOMINANT,DONE,AdONE,AnomalyDAE,GAAN,GUIDE,CONAD\n",
    "from pygod.metrics import eval_roc_auc\n",
    "import numpy as np\n",
    "\n",
    "dataset_name = \"enron\"\n",
    "data = load_data(dataset_name)\n",
    "\n",
    "\n",
    "contextual_n = 3\n",
    "contextual_k = 25\n",
    "structural_n = 3\n",
    "structural_m = 25\n",
    "\n",
    "data, yc = gen_contextual_outliers(data, n=contextual_n, k=contextual_k)\n",
    "data, ys = gen_structural_outliers(data, n=structural_n, m=structural_m)\n",
    "data.y = torch.logical_or(ys, yc).int()\n"
   ]
  },
  {
   "cell_type": "markdown",
   "metadata": {},
   "source": [
    "## Training and Testing\n",
    "Training different model for different type of outliers\n",
    "\n"
   ]
  },
  {
   "cell_type": "code",
   "execution_count": null,
   "metadata": {
    "collapsed": false,
    "jupyter": {
     "outputs_hidden": false
    }
   },
   "outputs": [],
   "source": [
    "# model = MLPAE(epoch=100,hid_dim=64)\n",
    "# model = SCAN()\n",
    "# model = Radar()\n",
    "# model = ANOMALOUS(epoch=100)\n",
    "# model = GCNAE(epoch=100,hid_dim=64)\n",
    "# model = DOMINANT(epoch=50,hid_dim=64)\n",
    "model = DONE(epoch=50,hid_dim=64)\n",
    "# model = AdONE(epoch=100,hid_dim=64)\n",
    "# model = AnomalyDAE(epoch=100)\n",
    "# model = GAAN(epoch=100,hid_dim=64)\n",
    "# model = GUIDE(epoch=10)\n",
    "# model = CONAD(epoch=25,hid_dim=64)\n",
    "\n",
    "\n",
    "\n",
    "roc_auc = []\n",
    "roc_auc_c = []\n",
    "roc_auc_s = []\n",
    "for i in range(5):\n",
    "    model.fit(data)\n",
    "    labels = model.predict(data)\n",
    "    outlier_scores = model.decision_function(data)\n",
    "    prob = model.predict_proba(data)\n",
    "    labels, confidence = model.predict(data, return_confidence=True)\n",
    "    \n",
    "    auc_score = eval_roc_auc(data.y.bool().numpy(), outlier_scores)\n",
    "    auc_score = auc_score * 100\n",
    "    \n",
    "    auc_score_c = eval_roc_auc(yc, outlier_scores)\n",
    "    auc_score_c = auc_score_c * 100\n",
    "    \n",
    "    auc_score_s = eval_roc_auc(ys, outlier_scores)\n",
    "    auc_score_s = auc_score_s * 100\n",
    "    \n",
    "    roc_auc.append(auc_score)\n",
    "    roc_auc_c.append(auc_score_c)\n",
    "    roc_auc_s.append(auc_score_s)\n",
    "\n",
    "\n",
    "\n",
    "roc_auc = np.array(roc_auc)\n",
    "mean = np.mean(roc_auc)\n",
    "std = np.std(roc_auc)\n",
    "\n",
    "roc_auc_c = np.array(roc_auc_c)\n",
    "mean_c = np.mean(roc_auc_c)\n",
    "std_c = np.std(roc_auc_c)\n",
    "\n",
    "roc_auc_s = np.array(roc_auc_s)\n",
    "mean_s = np.mean(roc_auc_s)\n",
    "std_s = np.std(roc_auc_s)\n",
    "\n",
    "print(model)\n",
    "print('Dataset: ', dataset_name)\n",
    "print('%.2f ± %.2f' %(mean, std))\n",
    "print('%.2f ± %.2f' %(mean_c, std_c))\n",
    "print('%.2f ± %.2f' %(mean_s, std_s))"
   ]
  },
  {
   "cell_type": "code",
   "execution_count": null,
   "metadata": {},
   "outputs": [],
   "source": []
  }
 ],
 "metadata": {
  "kernelspec": {
   "display_name": "NWRGAE",
   "language": "python",
   "name": "nwrgae"
  },
  "language_info": {
   "codemirror_mode": {
    "name": "ipython",
    "version": 3
   },
   "file_extension": ".py",
   "mimetype": "text/x-python",
   "name": "python",
   "nbconvert_exporter": "python",
   "pygments_lexer": "ipython3",
   "version": "3.8.5"
  }
 },
 "nbformat": 4,
 "nbformat_minor": 4
}
