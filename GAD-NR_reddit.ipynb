{
 "cells": [
  {
   "cell_type": "markdown",
   "id": "5727f30e-6d72-4ff1-b47c-20e13af635ea",
   "metadata": {
    "tags": []
   },
   "source": [
    "# Import Libraries"
   ]
  },
  {
   "cell_type": "code",
   "execution_count": null,
   "id": "277cb61f-9894-42a6-b3e7-f62b3265dc65",
   "metadata": {},
   "outputs": [],
   "source": [
    "import sys\n",
    "sys.path.append(\"..\")\n",
    "import seaborn as sb\n",
    "import dgl\n",
    "import torch\n",
    "\n",
    "import matplotlib.pyplot as plt\n",
    "import numpy as np\n",
    "from sklearn.manifold import TSNE\n",
    "from tqdm import tqdm\n",
    "import torch.nn.functional as F\n",
    "\n",
    "import statistics\n",
    "import argparse\n",
    "import random\n",
    "\n",
    "from dgl.data import CitationGraphDataset\n",
    "# from dgl.nn import GINConv, GraphConv, SAGEConv\n",
    "import seaborn as sb\n",
    "import torch\n",
    "import torch.nn as nn\n",
    "from torch.autograd import Variable\n",
    "from scipy.optimize import linear_sum_assignment\n",
    "import scipy\n",
    "import scipy.optimize\n",
    "import numpy as np\n",
    "from sklearn.decomposition import PCA\n",
    "from sklearn.preprocessing import StandardScaler\n",
    "import pandas as pd\n",
    "from torch.utils.data import Dataset\n",
    "import matplotlib.pyplot as plt\n",
    "from sklearn.cluster import KMeans\n",
    "import sklearn as sk\n",
    "import networkx as nx\n",
    "\n",
    "\n",
    "import torch\n",
    "import torch.nn as nn\n",
    "import torch.nn.functional as F\n",
    "import torch.multiprocessing as mp\n",
    "import random\n",
    "import math\n",
    "\n",
    "\n",
    "import torch\n",
    "import torch.nn as nn\n",
    "import torch.nn.functional as F\n",
    "from torch_geometric.data import Data\n",
    "\n",
    "from torch_geometric.nn import GCNConv,GINConv,SAGEConv,GATConv,PNAConv, GraphSAGE\n",
    "from torch_geometric.utils import add_self_loops\n",
    "from torch_geometric.transforms import normalize_features\n",
    "from pygod.utils import load_data\n",
    "from pygod.utils.utility import check_parameter\n",
    "from pygod.metrics import eval_roc_auc\n",
    "from pygod.generator import gen_contextual_outliers, gen_structural_outliers\n",
    "from scipy.linalg import sqrtm"
   ]
  },
  {
   "cell_type": "markdown",
   "id": "57a8a0f6-41cb-4b22-9192-418310bf8923",
   "metadata": {
    "tags": []
   },
   "source": [
    "# Utils"
   ]
  },
  {
   "cell_type": "code",
   "execution_count": 2,
   "id": "26a1f108-b244-4fed-92da-07a65c574a03",
   "metadata": {},
   "outputs": [],
   "source": [
    "\n",
    "def _normalize(x):\n",
    "    x_min = x.min()\n",
    "    x_max = x.max()\n",
    "    x_norm = (x - x_min)/x_max\n",
    "    return x_norm\n",
    "\n",
    "def gen_joint_structural_outliers(data, m, n, random_state=None):\n",
    "    \"\"\"\n",
    "    We randomly select n nodes from the network which will be the anomalies \n",
    "    and for each node we select m nodes from the network. \n",
    "    We connect each of n nodes with the m other nodes.\n",
    "\n",
    "    Parameters\n",
    "    ----------\n",
    "    data : PyTorch Geometric Data instance (torch_geometric.data.Data)\n",
    "        The input data.\n",
    "    m : int\n",
    "        Number nodes in the outlier cliques.\n",
    "    n : int\n",
    "        Number of outlier cliques.\n",
    "    p : int, optional\n",
    "        Probability of edge drop in cliques. Default: ``0``.\n",
    "    random_state : int, optional\n",
    "        The seed to control the randomness, Default: ``None``.\n",
    "\n",
    "    Returns\n",
    "    -------\n",
    "    data : PyTorch Geometric Data instance (torch_geometric.data.Data)\n",
    "        The structural outlier graph with injected edges.\n",
    "    y_outlier : torch.Tensor\n",
    "        The outlier label tensor where 1 represents outliers and 0 represents\n",
    "        regular nodes.\n",
    "    \"\"\"\n",
    "\n",
    "    if not isinstance(data, Data):\n",
    "        raise TypeError(\"data should be torch_geometric.data.Data\")\n",
    "\n",
    "    if isinstance(m, int):\n",
    "        check_parameter(m, low=0, high=data.num_nodes, param_name='m')\n",
    "    else:\n",
    "        raise ValueError(\"m should be int, got %s\" % m)\n",
    "\n",
    "    if isinstance(n, int):\n",
    "        check_parameter(n, low=0, high=data.num_nodes, param_name='n')\n",
    "    else:\n",
    "        raise ValueError(\"n should be int, got %s\" % n)\n",
    "\n",
    "    check_parameter(m * n, low=0, high=data.num_nodes, param_name='m*n')\n",
    "\n",
    "    if random_state:\n",
    "        np.random.seed(random_state)\n",
    "\n",
    "\n",
    "    outlier_idx = np.random.choice(data.num_nodes, size=n, replace=False)\n",
    "    all_nodes = [i for i in range(data.num_nodes)]\n",
    "    rem_nodes = []\n",
    "    \n",
    "    for node in all_nodes:\n",
    "        if node is not outlier_idx:\n",
    "            rem_nodes.append(node)\n",
    "    \n",
    "    \n",
    "    \n",
    "    new_edges = []\n",
    "    \n",
    "    # connect all m nodes in each clique\n",
    "    for i in range(0, n):\n",
    "        other_idx = np.random.choice(data.num_nodes, size=m, replace=False)\n",
    "        for j in other_idx:\n",
    "            new_edges.append(torch.tensor([[i, j]], dtype=torch.long))\n",
    "                    \n",
    "\n",
    "    new_edges = torch.cat(new_edges)\n",
    "\n",
    "\n",
    "    y_outlier = torch.zeros(data.x.shape[0], dtype=torch.long)\n",
    "    y_outlier[outlier_idx] = 1\n",
    "\n",
    "    data.edge_index = torch.cat([data.edge_index, new_edges.T], dim=1)\n",
    "\n",
    "    return data, y_outlier\n",
    "\n",
    "\n",
    "def KL_neighbor_loss(predictions, targets, mask_len):\n",
    "    x1 = predictions.squeeze().cpu().detach()\n",
    "    x2 = targets.squeeze().cpu().detach()\n",
    "    \n",
    "    mean_x1 = x1.mean(0)\n",
    "    mean_x2 = x2.mean(0)\n",
    "    \n",
    "    nn = x1.shape[0]\n",
    "    h_dim = x1.shape[1]\n",
    "    \n",
    "    cov_x1 = (x1-mean_x1).transpose(1,0).matmul(x1-mean_x1) / max((nn-1),1)\n",
    "    cov_x2 = (x2-mean_x2).transpose(1,0).matmul(x2-mean_x2) / max((nn-1),1)\n",
    "    \n",
    "    eye = torch.eye(h_dim)\n",
    "    cov_x1 = cov_x1 + eye\n",
    "    cov_x2 = cov_x2 + eye\n",
    "    \n",
    "    KL_loss = 0.5 * (math.log(torch.det(cov_x1) / torch.det(cov_x2)) - h_dim  + torch.trace(torch.inverse(cov_x2).matmul(cov_x1)) \n",
    "            + (mean_x2 - mean_x1).reshape(1,-1).matmul(torch.inverse(cov_x2)).matmul(mean_x2 - mean_x1))\n",
    "    KL_loss = KL_loss.to(device)\n",
    "    return KL_loss\n",
    "\n",
    "def W2_neighbor_loss(predictions, targets, mask_len):\n",
    "    \n",
    "    x1 = predictions.squeeze().cpu().detach()\n",
    "    x2 = targets.squeeze().cpu().detach()\n",
    "    \n",
    "    mean_x1 = x1.mean(0)\n",
    "    mean_x2 = x2.mean(0)\n",
    "\n",
    "    nn = x1.shape[0]\n",
    "    \n",
    "    cov_x1 = (x1-mean_x1).transpose(1,0).matmul(x1-mean_x1) / (nn-1)\n",
    "    cov_x2 = (x2-mean_x2).transpose(1,0).matmul(x2-mean_x2) / (nn-1)\n",
    "    \n",
    "\n",
    "    W2_loss = torch.square(mean_x1-mean_x2).sum() + torch.trace(cov_x1 + cov_x2 \n",
    "                     + 2 * sqrtm(sqrtm(cov_x1) @ (cov_x2.numpy()) @ (sqrtm(cov_x1))))\n",
    "\n",
    "    return W2_loss\n",
    "\n"
   ]
  },
  {
   "cell_type": "markdown",
   "id": "d1217613-695f-40ac-926c-46df24c27ca3",
   "metadata": {
    "tags": []
   },
   "source": [
    "# Layers"
   ]
  },
  {
   "cell_type": "code",
   "execution_count": 3,
   "id": "659e39de-85ed-4750-9c65-5071d8d894a0",
   "metadata": {},
   "outputs": [],
   "source": [
    "class MLP(nn.Module):\n",
    "    def __init__(self, num_layers, input_dim, hidden_dim, output_dim):\n",
    "        \n",
    "\n",
    "        super(MLP, self).__init__()\n",
    "\n",
    "        self.linear_or_not = True  # default is linear model\n",
    "        self.num_layers = num_layers\n",
    "\n",
    "        if num_layers < 1:\n",
    "            raise ValueError(\"number of layers should be positive!\")\n",
    "        elif num_layers == 1:\n",
    "            # Linear model\n",
    "            self.linear = nn.Linear(input_dim, output_dim)\n",
    "        else:\n",
    "            # Multi-layer model\n",
    "            self.linear_or_not = False\n",
    "            self.linears = torch.nn.ModuleList()\n",
    "            self.batch_norms = torch.nn.ModuleList()\n",
    "\n",
    "            self.linears.append(nn.Linear(input_dim, hidden_dim))\n",
    "            for layer in range(num_layers - 2):\n",
    "                self.linears.append(nn.Linear(hidden_dim, hidden_dim))\n",
    "            self.linears.append(nn.Linear(hidden_dim, output_dim))\n",
    "\n",
    "            for layer in range(num_layers - 1):\n",
    "                self.batch_norms.append(nn.BatchNorm1d((hidden_dim)))\n",
    "\n",
    "    def forward(self, x):\n",
    "        if self.linear_or_not:\n",
    "            # If linear model\n",
    "            return self.linear(x)\n",
    "        else:\n",
    "            # If MLP\n",
    "            h = x\n",
    "            for layer in range(self.num_layers - 1):\n",
    "                h = self.linears[layer](h)\n",
    "                \n",
    "                if len(h.shape) > 2:\n",
    "                    h = torch.transpose(h, 0, 1)\n",
    "                    h = torch.transpose(h, 1, 2)\n",
    "                    \n",
    "                h = self.batch_norms[layer](h)\n",
    "                \n",
    "                if len(h.shape) > 2:\n",
    "                    h = torch.transpose(h, 1, 2)\n",
    "                    h = torch.transpose(h, 0, 1)\n",
    "\n",
    "                h = F.relu(h)\n",
    "                # h = F.relu(self.linears[layer](h))\n",
    "                \n",
    "            return self.linears[self.num_layers - 1](h)\n",
    "\n",
    "\n",
    "class MLP_generator(nn.Module):\n",
    "    def __init__(self, input_dim, output_dim):\n",
    "        super(MLP_generator, self).__init__()\n",
    "        self.linear = nn.Linear(input_dim, output_dim)\n",
    "        self.linear2 = nn.Linear(output_dim, output_dim)\n",
    "        self.linear3 = nn.Linear(output_dim, output_dim)\n",
    "        self.linear4 = nn.Linear(output_dim, output_dim)\n",
    "\n",
    "    def forward(self, embedding):\n",
    "        neighbor_embedding = F.relu(self.linear(embedding))\n",
    "        neighbor_embedding = F.relu(self.linear2(neighbor_embedding))\n",
    "        neighbor_embedding = F.relu(self.linear3(neighbor_embedding))\n",
    "        neighbor_embedding = self.linear4(neighbor_embedding)\n",
    "        return neighbor_embedding\n",
    "\n",
    "\n",
    "class PairNorm(nn.Module):\n",
    "    def __init__(self, mode='PN', scale=10):\n",
    "        \n",
    "        assert mode in ['None', 'PN', 'PN-SI', 'PN-SCS']\n",
    "        super(PairNorm, self).__init__()\n",
    "        self.mode = mode\n",
    "        self.scale = scale\n",
    "\n",
    "        # Scale can be set based on origina data, and also the current feature lengths.\n",
    "        # We leave the experiments to future. A good pool we used for choosing scale:\n",
    "        # [0.1, 1, 10, 50, 100]\n",
    "    def forward(self, x):\n",
    "        if self.mode == 'None':\n",
    "            return x\n",
    "        col_mean = x.mean(dim=0)\n",
    "        if self.mode == 'PN':\n",
    "            x = x - col_mean\n",
    "            rownorm_mean = (1e-6 + x.pow(2).sum(dim=1).mean()).sqrt()\n",
    "            x = self.scale * x / rownorm_mean\n",
    "        if self.mode == 'PN-SI':\n",
    "            x = x - col_mean\n",
    "            rownorm_individual = (1e-6 + x.pow(2).sum(dim=1, keepdim=True)).sqrt()\n",
    "            x = self.scale * x / rownorm_individual\n",
    "        if self.mode == 'PN-SCS':\n",
    "            rownorm_individual = (1e-6 + x.pow(2).sum(dim=1, keepdim=True)).sqrt()\n",
    "            x = self.scale * x / rownorm_individual - col_mean\n",
    "        return x\n",
    "\n",
    "\n",
    "# FNN\n",
    "class FNN(nn.Module):\n",
    "    def __init__(self, in_features, hidden, out_features, layer_num):\n",
    "        super(FNN, self).__init__()\n",
    "        self.linear1 = MLP(layer_num, in_features, hidden, out_features)\n",
    "        self.linear2 = nn.Linear(out_features, out_features)\n",
    "    def forward(self, embedding):\n",
    "        x = self.linear1(embedding)\n",
    "        x = self.linear2(F.relu(x))\n",
    "        x = F.relu(x)\n",
    "        return x\n"
   ]
  },
  {
   "cell_type": "markdown",
   "id": "95d031cd-1dad-4094-a7d6-56cd9f0d9f53",
   "metadata": {
    "tags": []
   },
   "source": [
    "# GAD-NR"
   ]
  },
  {
   "cell_type": "code",
   "execution_count": 4,
   "id": "2bddf25c-5546-4333-8798-7ad82dbddad8",
   "metadata": {},
   "outputs": [],
   "source": [
    "\n",
    "# Training\n",
    "def train(data, y, yc, ys, yj, ysj, lr, epoch, device, encoder, lambda_loss1, lambda_loss2, lambda_loss3, hidden_dim, sample_size=10,loss_step=20,\n",
    "          real_loss=False,calculate_contextual=False,calculate_structural=False):\n",
    "    '''\n",
    "     Main training function\n",
    "     INPUT:\n",
    "     -----------------------\n",
    "     data : torch geometric dataset object\n",
    "     lr    :    learning rate\n",
    "     epoch     :    number of training epoch\n",
    "     device     :   CPU or GPU\n",
    "     encoder    :    GCN or GIN or GraphSAGE\n",
    "     lambda_loss    :   Trade-off between degree loss and neighborhood reconstruction loss\n",
    "     hidden_dim     :   latent variable dimension\n",
    "    '''\n",
    "    \n",
    "    in_nodes = data.edge_index[0,:]\n",
    "    out_nodes = data.edge_index[1,:]\n",
    "    \n",
    "    \n",
    "    neighbor_dict = {}\n",
    "    for in_node, out_node in zip(in_nodes, out_nodes):\n",
    "        if in_node.item() not in neighbor_dict:\n",
    "            neighbor_dict[in_node.item()] = []\n",
    "        neighbor_dict[in_node.item()].append(out_node.item())\n",
    "\n",
    "    neighbor_num_list = []\n",
    "    for i in neighbor_dict:\n",
    "        neighbor_num_list.append(len(neighbor_dict[i]))\n",
    "    \n",
    "    neighbor_num_list = torch.tensor(neighbor_num_list).to(device)\n",
    "    \n",
    "    in_dim = data.x.shape[1]\n",
    "    GNNModel = GNNStructEncoder(in_dim, hidden_dim, hidden_dim, 2, sample_size, device=device, \n",
    "                    neighbor_num_list=neighbor_num_list, GNN_name=encoder, \n",
    "                    lambda_loss1=lambda_loss1, lambda_loss2=lambda_loss2,lambda_loss3=lambda_loss3)\n",
    "    GNNModel.to(device)\n",
    "    degree_params = list(map(id, GNNModel.degree_decoder.parameters()))\n",
    "    base_params = filter(lambda p: id(p) not in degree_params,\n",
    "                         GNNModel.parameters())\n",
    "\n",
    "    opt = torch.optim.Adam([{'params': base_params}, {'params': GNNModel.degree_decoder.parameters(), 'lr': 1e-2}],lr=lr, weight_decay=0.0003)\n",
    "    min_loss = float('inf')\n",
    "    arg_min_loss_per_node = None\n",
    "    \n",
    "    best_auc = 0\n",
    "    best_auc_contextual = 0\n",
    "    best_auc_dense_structural = 0\n",
    "    best_auc_joint_structural = 0\n",
    "    best_auc_structure_type = 0\n",
    "    \n",
    "        \n",
    "    loss_values = []\n",
    "    for i in tqdm(range(1,epoch+1,1)):\n",
    "        \n",
    "        if i%loss_step==0:\n",
    "            GNNModel.lambda_loss2 = GNNModel.lambda_loss2 + 0.5\n",
    "            GNNModel.lambda_loss3 = GNNModel.lambda_loss3 * 2\n",
    "        \n",
    "        loss,loss_per_node,h_loss,degree_loss,feature_loss = GNNModel(data.edge_index, data.x, neighbor_num_list, neighbor_dict, device=device)\n",
    "        \n",
    "        \n",
    "        \n",
    "        loss_per_node = loss_per_node.cpu().detach()\n",
    "        \n",
    "        h_loss = h_loss.cpu().detach()\n",
    "        degree_loss = degree_loss.cpu().detach()\n",
    "        feature_loss = feature_loss.cpu().detach()\n",
    "        \n",
    "        h_loss_norm = h_loss / (torch.max(h_loss) - torch.min(h_loss))\n",
    "        degree_loss_norm = degree_loss / (torch.max(degree_loss) - torch.min(degree_loss))\n",
    "        feature_loss_norm = feature_loss / (torch.max(feature_loss) - torch.min(feature_loss))\n",
    "        \n",
    "        comb_loss = args.h_loss_weight * h_loss_norm + args.degree_loss_weight *  degree_loss_norm + args.feature_loss_weight * feature_loss_norm\n",
    "        \n",
    "        if real_loss:\n",
    "            comp_loss = loss_per_node\n",
    "        else:\n",
    "            comp_loss = comb_loss\n",
    "            \n",
    "        \n",
    "        auc_score = eval_roc_auc(y.numpy(), comp_loss.numpy()) * 100\n",
    "        print(\"Dataset Name: \",dataset_str, \", AUC Score(benchmark/combined): \", auc_score)\n",
    "        \n",
    "        contextual_auc_score = eval_roc_auc(yc.numpy(), comp_loss.numpy()) * 100\n",
    "        print(\"Dataset Name: \",dataset_str, \", AUC Score (contextual): \", contextual_auc_score)\n",
    "\n",
    "        dense_structural_auc_score = eval_roc_auc(ys.numpy(), comp_loss.numpy()) * 100\n",
    "        print(\"Dataset Name: \",dataset_str, \", AUC Score (structural): \", dense_structural_auc_score)\n",
    "        \n",
    "        joint_structural_auc_score = eval_roc_auc(yj.numpy(), comp_loss.numpy()) * 100\n",
    "        print(\"Dataset Name: \",dataset_str, \", AUC Score (joint-type): \", joint_structural_auc_score)\n",
    "        \n",
    "        structure_type_auc_score = eval_roc_auc(ysj.numpy(), comp_loss.numpy()) * 100\n",
    "        print(\"Dataset Name: \",dataset_str, \", AUC Score (structure type): \", joint_structural_auc_score) \n",
    "        \n",
    "        best_auc = max(best_auc, auc_score)\n",
    "        best_auc_contextual = max(best_auc_contextual, contextual_auc_score)\n",
    "        best_auc_dense_structural = max(best_auc_dense_structural, dense_structural_auc_score)\n",
    "        best_auc_joint_structural = max(best_auc_joint_structural, joint_structural_auc_score)\n",
    "        best_auc_structure_type = max(best_auc_structure_type, structure_type_auc_score)\n",
    "        \n",
    "        \n",
    "        \n",
    "        print(\"===========================================================================================\")\n",
    "        print(\"Dataset Name: \",dataset_str, \" Best AUC Score(benchmark/combined): \", best_auc)\n",
    "        \n",
    "        contextual_auc_score = eval_roc_auc(yc.numpy(), comp_loss.numpy()) * 100\n",
    "        print(\"Dataset Name: \",dataset_str, \" Best AUC Score (contextual): \", best_auc_contextual)\n",
    "\n",
    "        dense_structural_auc_score = eval_roc_auc(ys.numpy(), comp_loss.numpy()) * 100\n",
    "        print(\"Dataset Name: \",dataset_str, \" Best AUC Score (structural): \", best_auc_dense_structural)\n",
    "        \n",
    "        joint_structural_auc_score = eval_roc_auc(yj.numpy(), comp_loss.numpy()) * 100\n",
    "        print(\"Dataset Name: \",dataset_str, \" Best AUC Score (joint-type): \", best_auc_joint_structural)\n",
    "        \n",
    "        structure_type_auc_score = eval_roc_auc(ysj.numpy(), comp_loss.numpy()) * 100\n",
    "        print(\"Dataset Name: \",dataset_str, \" Best AUC Score (structure type): \", best_auc_structure_type) \n",
    "        print(\"===========================================================================================\")\n",
    "        \n",
    "        \n",
    "        if loss < min_loss:\n",
    "            min_loss = loss\n",
    "            arg_min_loss_per_node = loss_per_node\n",
    "        opt.zero_grad()\n",
    "        loss.backward()\n",
    "        opt.step()\n",
    "        \n",
    "        loss = loss.cpu().detach()\n",
    "        loss_values.append(loss)\n",
    "        \n",
    "        \n",
    "        if args.plot_loss:\n",
    "\n",
    "            plt.plot(np.array(loss_values), 'r')\n",
    "            plt.show()\n",
    "    \n",
    "    return min_loss.item(), arg_min_loss_per_node.cpu().detach()\n",
    "\n",
    "\n",
    "\n",
    "\n",
    "def evaluate(model, embeddings, labels, mask):\n",
    "    model.eval()\n",
    "    with torch.no_grad():\n",
    "        logits = model(embeddings)\n",
    "        logits = logits[mask]\n",
    "        labels = labels[mask]\n",
    "        _, indices = torch.max(logits, dim=1)\n",
    "        correct = torch.sum(indices == labels)\n",
    "        return correct.item() * 1.0 / len(labels)\n",
    "\n",
    "\n",
    "def train_real_datasets(dataset_str, epoch_num = 10, lr = 5e-6, encoder = \"GCN\", \n",
    "                        lambda_loss1=1e-2, lambda_loss2=1e-3, lambda_loss3=1e-3, sample_size=8, loss_step=20, hidden_dim=None,\n",
    "                        real_loss=False,calculate_contextual=False,calculate_structural=False):\n",
    "    \n",
    "    data = load_data(dataset_str)\n",
    "    node_features = data.x\n",
    "    \n",
    "    if args.normalize_feat:\n",
    "    \n",
    "        node_features_min = node_features.min()\n",
    "        node_features_max = node_features.max()\n",
    "        node_features = (node_features - node_features_min)/node_features_max\n",
    "        data.x = node_features\n",
    "    \n",
    "    yc = []\n",
    "    ys = []\n",
    "    yj = []\n",
    "    \n",
    "    if calculate_contextual:\n",
    "        \n",
    "        if dataset_str == \"inj_cora\":\n",
    "            yc = data.y >> 0 & 1 # contextual outliers\n",
    "        else:\n",
    "            data, yc = gen_contextual_outliers(data=data,n=args.contextual_n,k=args.contextual_k)\n",
    "            \n",
    "        yc = yc.cpu().detach()\n",
    "    \n",
    "    \n",
    "    if calculate_structural:\n",
    "        \n",
    "        if dataset_str == \"inj_cora\":\n",
    "            ys = data.y >> 1 & 1 # structural outliers\n",
    "        else:\n",
    "            data, ys = gen_structural_outliers(data=data,n=args.structural_n,m=args.structural_m,p=0.2)\n",
    "            \n",
    "        ys = ys.cpu().detach()\n",
    "        data, yj = gen_joint_structural_outliers(data=data,n=args.structural_n,m=args.structural_m)\n",
    "        \n",
    "    \n",
    "    if args.use_combine_outlier:\n",
    "        data.y = torch.logical_or(ys, yc).int()\n",
    "        \n",
    "    ysj = torch.logical_or(ys, yj).int()\n",
    "    y = data.y.bool()    # binary labels (inlier/outlier)\n",
    "    y = y.cpu().detach()\n",
    "    \n",
    "    edge_index = data.edge_index.cpu()\n",
    "    \n",
    "    num_nodes = node_features.shape[0]\n",
    "    self_edges = torch.tensor([[i for i in range(num_nodes)],[i for i in range(num_nodes)]])\n",
    "    edge_index = torch.cat([edge_index,self_edges],dim=1)\n",
    "    data.edge_index = edge_index\n",
    "    data = data.to(device)\n",
    "    \n",
    "\n",
    "    loss, loss_per_node, = train(data, y, yc, ys, yj, ysj, lr=lr, epoch=epoch_num, device=device, encoder=encoder, lambda_loss1=lambda_loss1, \n",
    "          lambda_loss2=lambda_loss2, lambda_loss3=lambda_loss3, hidden_dim=hidden_dim, sample_size=sample_size,loss_step=loss_step,\n",
    "                                 real_loss=real_loss,calculate_contextual=calculate_contextual,calculate_structural=calculate_structural)"
   ]
  },
  {
   "cell_type": "code",
   "execution_count": 5,
   "id": "44a718ab-e1e0-49be-9748-dc4e8e0af644",
   "metadata": {},
   "outputs": [],
   "source": [
    "# generate ground truth neighbors Hv\n",
    "def generate_gt_neighbor(neighbor_dict, node_embeddings, neighbor_num_list, in_dim):\n",
    "    max_neighbor_num = max(neighbor_num_list)\n",
    "    all_gt_neighbor_embeddings = []\n",
    "    for i, embedding in enumerate(node_embeddings):\n",
    "        neighbor_indexes = neighbor_dict[i]\n",
    "        neighbor_embeddings = []\n",
    "        for index in neighbor_indexes:\n",
    "            neighbor_embeddings.append(node_embeddings[index].tolist())\n",
    "        if len(neighbor_embeddings) < max_neighbor_num:\n",
    "            for _ in range(max_neighbor_num - len(neighbor_embeddings)):\n",
    "                neighbor_embeddings.append(torch.zeros(in_dim).tolist())\n",
    "        all_gt_neighbor_embeddings.append(neighbor_embeddings)\n",
    "    return all_gt_neighbor_embeddings\n",
    "\n",
    "\n",
    "# Main Autoencoder structure here\n",
    "class GNNStructEncoder(nn.Module):\n",
    "    def __init__(self, in_dim0, in_dim, hidden_dim, layer_num, sample_size, device, neighbor_num_list, \n",
    "                 GNN_name=\"GIN\", norm_mode=\"PN-SCS\", norm_scale=20, lambda_loss1=0.01, lambda_loss2=0.001, lambda_loss3=0.0001):\n",
    "        \n",
    "        super(GNNStructEncoder, self).__init__()\n",
    "        \n",
    "        self.mlp0 = nn.Linear(in_dim0, hidden_dim)\n",
    "        self.norm = PairNorm(norm_mode, norm_scale)\n",
    "        self.out_dim = hidden_dim\n",
    "        self.lambda_loss1 = lambda_loss1\n",
    "        self.lambda_loss2 = lambda_loss2\n",
    "        self.lambda_loss3 = lambda_loss3\n",
    "        # GNN Encoder\n",
    "        if GNN_name == \"GIN\":\n",
    "            self.linear1 = MLP(layer_num, hidden_dim, hidden_dim, hidden_dim)\n",
    "            self.graphconv1 = GINConv(self.linear1)\n",
    "            self.linear2 = MLP(layer_num, hidden_dim, hidden_dim, hidden_dim)\n",
    "            self.graphconv2 = GINConv(self.linear2)\n",
    "        elif GNN_name == \"GCN\":\n",
    "            self.graphconv1 = GCNConv(hidden_dim, hidden_dim)\n",
    "            self.graphconv2 = GCNConv(hidden_dim, hidden_dim)\n",
    "        elif GNN_name == \"GAT\":\n",
    "            self.graphconv1 = GATConv(hidden_dim, hidden_dim)\n",
    "            self.graphconv2 = GATConv(hidden_dim, hidden_dim)\n",
    "        else:\n",
    "            self.graphconv1 = SAGEConv(hidden_dim, hidden_dim, aggr='mean')\n",
    "            # self.graphconv2 = SAGEConv(hidden_dim, hidden_dim, aggr='mean')\n",
    "            \n",
    "            # self.graphconv1 = GraphSAGE(hidden_dim, hidden_dim, aggr='mean', num_layers=1)\n",
    "            \n",
    "\n",
    "        self.neighbor_num_list = neighbor_num_list\n",
    "        self.tot_node = len(neighbor_num_list)\n",
    "\n",
    "        self.gaussian_mean = nn.Parameter(\n",
    "            torch.FloatTensor(sample_size, hidden_dim).uniform_(-0.5 / hidden_dim,\n",
    "                                                                                     0.5 / hidden_dim)).to(device)\n",
    "        self.gaussian_log_sigma = nn.Parameter(\n",
    "            torch.FloatTensor(sample_size, hidden_dim).uniform_(-0.5 / hidden_dim,\n",
    "                                                                                     0.5 / hidden_dim)).to(device)\n",
    "        self.m = torch.distributions.Normal(torch.zeros(sample_size, hidden_dim),\n",
    "                                            torch.ones(sample_size, hidden_dim))\n",
    "        \n",
    "        self.m_batched = torch.distributions.Normal(torch.zeros(sample_size, self.tot_node, hidden_dim),\n",
    "                                            torch.ones(sample_size, self.tot_node, hidden_dim))\n",
    "\n",
    "        self.m_h = torch.distributions.Normal(torch.zeros(sample_size, hidden_dim),\n",
    "                                            50* torch.ones(sample_size, hidden_dim))\n",
    "\n",
    "        # Before MLP Gaussian Means, and std\n",
    "\n",
    "        self.mlp_gaussian_mean = nn.Parameter(\n",
    "            torch.FloatTensor(hidden_dim).uniform_(-0.5 / hidden_dim, 0.5 / hidden_dim)).to(device)\n",
    "        self.mlp_gaussian_log_sigma = nn.Parameter(\n",
    "            torch.FloatTensor(hidden_dim).uniform_(-0.5 / hidden_dim, 0.5 / hidden_dim)).to(device)\n",
    "        self.mlp_m = torch.distributions.Normal(torch.zeros(hidden_dim), torch.ones(hidden_dim))\n",
    "\n",
    "        self.mlp_mean = FNN(hidden_dim, hidden_dim, hidden_dim, 3)\n",
    "        self.mlp_sigma = FNN(hidden_dim, hidden_dim, hidden_dim, 3)\n",
    "        self.softplus = nn.Softplus()\n",
    "\n",
    "        # self.mean_agg = SAGEConv(hidden_dim, hidden_dim, aggr='mean', normalize = True)\n",
    "        self.mean_agg = GraphSAGE(hidden_dim, hidden_dim, aggr='mean', num_layers=1)\n",
    "        self.std_agg = PNAConv(hidden_dim, hidden_dim, aggregators=[\"std\"],scalers=[\"identity\"], deg=neighbor_num_list)        \n",
    "        self.layer1_generator = MLP_generator(hidden_dim, hidden_dim)\n",
    "        \n",
    "        # Decoders\n",
    "        self.degree_decoder = FNN(hidden_dim, hidden_dim, 1, 4)\n",
    "        self.feature_decoder = FNN(hidden_dim, hidden_dim, in_dim, 3)\n",
    "        self.degree_loss_func = nn.MSELoss()\n",
    "        self.feature_loss_func = nn.MSELoss()\n",
    "        self.pool = mp.Pool(4)\n",
    "        self.in_dim = in_dim\n",
    "        self.sample_size = sample_size \n",
    "        self.init_projection = FNN(in_dim, hidden_dim, hidden_dim, 1)\n",
    "        \n",
    "\n",
    "    def forward_encoder(self, x, edge_index):\n",
    "        \n",
    "        # Apply graph convolution and activation, pair-norm to avoid trivial solution\n",
    "        h0 = self.mlp0(x)\n",
    "        l1 = self.graphconv1(h0, edge_index)\n",
    "        return l1, h0\n",
    "        \n",
    "        \n",
    "\n",
    "    # Sample neighbors from neighbor set, if the length of neighbor set less than sample size, then do the padding.\n",
    "    def sample_neighbors(self, indexes, neighbor_dict, gt_embeddings):\n",
    "        sampled_embeddings_list = []\n",
    "        mark_len_list = []\n",
    "        for index in indexes:\n",
    "            sampled_embeddings = []\n",
    "            neighbor_indexes = neighbor_dict[index]\n",
    "            if len(neighbor_indexes) < self.sample_size:\n",
    "                mask_len = len(neighbor_indexes)\n",
    "                sample_indexes = neighbor_indexes\n",
    "            else:\n",
    "                sample_indexes = random.sample(neighbor_indexes, self.sample_size)\n",
    "                mask_len = self.sample_size\n",
    "            for index in sample_indexes:\n",
    "                sampled_embeddings.append(gt_embeddings[index].tolist())\n",
    "            if len(sampled_embeddings) < self.sample_size:\n",
    "                for _ in range(self.sample_size - len(sampled_embeddings)):\n",
    "                    sampled_embeddings.append(torch.zeros(self.out_dim).tolist())\n",
    "            sampled_embeddings_list.append(sampled_embeddings)\n",
    "            mark_len_list.append(mask_len)\n",
    "        \n",
    "        return sampled_embeddings_list, mark_len_list\n",
    "    \n",
    "    def reconstruction_neighbors2(self, l1, h0, edge_index):\n",
    "                \n",
    "        recon_loss = 0\n",
    "        recon_loss_per_node = []\n",
    "    \n",
    "        sample_sz_per_node = [self.sample_size]* self.tot_node\n",
    "\n",
    "        mean_neigh = self.graphconv1(h0, edge_index)\n",
    "        # mean_neigh = self.graphconv2(mean_neigh, edge_index)\n",
    "        # mean_neigh = l1\n",
    "        # mean_neigh = self.mean_agg(h0, edge_index, num_sampled_nodes_per_hop=sample_sz_per_node)\n",
    "        std_neigh = self.std_agg(h0, edge_index)\n",
    "        \n",
    "        cov_neigh = torch.bmm(std_neigh.unsqueeze(dim=-1),std_neigh.unsqueeze(dim=1))\n",
    "        \n",
    "        target_mean = mean_neigh\n",
    "        target_cov = cov_neigh\n",
    "        \n",
    "        self_embedding = l1\n",
    "        # self_embedding = _normalize(self_embedding)\n",
    "        \n",
    "        self_embedding = self_embedding.unsqueeze(0)\n",
    "        self_embedding = self_embedding.repeat(self.sample_size, 1, 1)\n",
    "        generated_mean = self.mlp_mean(self_embedding)\n",
    "        generated_sigma = self.mlp_sigma(self_embedding)\n",
    "\n",
    "        \n",
    "        std_z = self.m_batched.sample().to(device)\n",
    "        var = generated_mean + generated_sigma.exp() * std_z\n",
    "        nhij = self.layer1_generator(var)\n",
    "        \n",
    "        generated_mean = torch.mean(nhij,dim=0)\n",
    "        generated_std = torch.std(nhij,dim=0)\n",
    "        generated_cov = torch.bmm(generated_std.unsqueeze(dim=-1),generated_std.unsqueeze(dim=1))/self.sample_size\n",
    "        \n",
    "        \n",
    "        tot_nodes = l1.shape[0]\n",
    "        h_dim = l1.shape[1]\n",
    "        \n",
    "        single_eye = torch.eye(h_dim).to(device)\n",
    "        single_eye = single_eye.unsqueeze(dim=0)\n",
    "        batch_eye = single_eye.repeat(tot_nodes,1,1)\n",
    "        \n",
    "        target_cov = target_cov + batch_eye\n",
    "        generated_cov = generated_cov + batch_eye\n",
    "\n",
    "        \n",
    "        det_target_cov = torch.linalg.det(target_cov) \n",
    "        det_generated_cov = torch.linalg.det(generated_cov) \n",
    "        trace_mat = torch.matmul(torch.inverse(generated_cov),target_cov)\n",
    "             \n",
    "        \n",
    "        x = torch.bmm(torch.unsqueeze(generated_mean - target_mean,dim=1),torch.inverse(generated_cov))\n",
    "        y = torch.unsqueeze(generated_mean - target_mean,dim=-1)\n",
    "        z = torch.bmm(x,y).squeeze()\n",
    "        \n",
    "        KL_loss = 0.5 * (torch.log(det_target_cov / det_generated_cov) - h_dim  + trace_mat.diagonal(offset=0, dim1=-1, dim2=-2).sum(-1) + z)\n",
    "        \n",
    "        recon_loss = torch.mean(KL_loss)\n",
    "        recon_loss_per_node = KL_loss\n",
    "        \n",
    "        \n",
    "        return recon_loss, recon_loss_per_node\n",
    "    \n",
    "\n",
    "    def reconstruction_neighbors(self, FNN_generator, neighbor_indexes, neighbor_dict, from_layer, to_layer, device):\n",
    "        \n",
    "        \n",
    "        local_index_loss = 0\n",
    "        local_index_loss_per_node = []\n",
    "        sampled_embeddings_list, mark_len_list = self.sample_neighbors(neighbor_indexes, neighbor_dict, to_layer)\n",
    "        for i, neighbor_embeddings1 in enumerate(sampled_embeddings_list):\n",
    "            # Generating h^k_v, reparameterization trick\n",
    "            \n",
    "            # print(len(neighbor_embeddings1))\n",
    "            \n",
    "            index = neighbor_indexes[i]\n",
    "            mask_len1 = mark_len_list[i]\n",
    "            mean = from_layer[index].repeat(self.sample_size, 1)\n",
    "            mean = self.mlp_mean(mean)\n",
    "            sigma = from_layer[index].repeat(self.sample_size, 1)\n",
    "            sigma = self.mlp_sigma(sigma)\n",
    "            std_z = self.m.sample().to(device)\n",
    "            var = mean + sigma.exp() * std_z\n",
    "            nhij = FNN_generator(var)\n",
    "            \n",
    "            generated_neighbors = nhij\n",
    "            sum_neighbor_norm = 0\n",
    "            \n",
    "            for indexi, generated_neighbor in enumerate(generated_neighbors):\n",
    "                sum_neighbor_norm += torch.norm(generated_neighbor) / math.sqrt(self.out_dim)\n",
    "            generated_neighbors = torch.unsqueeze(generated_neighbors, dim=0).to(device)\n",
    "            target_neighbors = torch.unsqueeze(torch.FloatTensor(neighbor_embeddings1), dim=0).to(device)\n",
    "            \n",
    "            if args.neigh_loss == \"KL\":\n",
    "                KL_loss = KL_neighbor_loss(generated_neighbors, target_neighbors, mask_len1)\n",
    "                local_index_loss += KL_loss\n",
    "                local_index_loss_per_node.append(KL_loss)\n",
    "            \n",
    "            else:\n",
    "                W2_loss = W2_neighbor_loss(generated_neighbors, target_neighbors, mask_len1)\n",
    "                local_index_loss += W2_loss\n",
    "                local_index_loss_per_node.append(W2_loss)\n",
    "            \n",
    "            \n",
    "        local_index_loss_per_node = torch.stack(local_index_loss_per_node)\n",
    "        return local_index_loss, local_index_loss_per_node\n",
    "    \n",
    "\n",
    "    def neighbor_decoder(self, gij, ground_truth_degree_matrix, h0, neighbor_dict, device, h, edge_index):\n",
    "        \n",
    "        # Degree decoder below:\n",
    "        tot_nodes = gij.shape[0]\n",
    "        degree_logits = self.degree_decoding(gij)\n",
    "        ground_truth_degree_matrix = torch.unsqueeze(ground_truth_degree_matrix, dim=1)\n",
    "        degree_loss = self.degree_loss_func(degree_logits, ground_truth_degree_matrix.float())\n",
    "        degree_loss_per_node = (degree_logits-ground_truth_degree_matrix).pow(2)\n",
    "        _, degree_masks = torch.max(degree_logits.data, dim=1)\n",
    "        h_loss = 0\n",
    "        feature_loss = 0\n",
    "        # layer 1\n",
    "        loss_list = []\n",
    "        loss_list_per_node = []\n",
    "        feature_loss_list = []\n",
    "        # Sample multiple times to remove noise\n",
    "        for _ in range(3):\n",
    "            local_index_loss_sum = 0\n",
    "            local_index_loss_sum_per_node = []\n",
    "            indexes = []\n",
    "            h0_prime = self.feature_decoder(gij)\n",
    "            feature_losses = self.feature_loss_func(h0, h0_prime)\n",
    "            feature_losses_per_node = (h0-h0_prime).pow(2).mean(1)\n",
    "            feature_loss_list.append(feature_losses_per_node)\n",
    "            \n",
    "\n",
    "            \n",
    "            # local_index_loss, local_index_loss_per_node = self.reconstruction_neighbors(self.layer1_generator, indexes, neighbor_dict, gij, h0, device)\n",
    "            local_index_loss, local_index_loss_per_node = self.reconstruction_neighbors2(gij,h0,edge_index)\n",
    "            \n",
    "            # print(local_index_loss, local_index_loss2)\n",
    "            # print(local_index_loss_per_node, local_index_loss_per_node2)\n",
    "\n",
    "            loss_list.append(local_index_loss)\n",
    "            loss_list_per_node.append(local_index_loss_per_node)\n",
    "            \n",
    "        loss_list = torch.stack(loss_list)\n",
    "        h_loss += torch.mean(loss_list)\n",
    "        \n",
    "        loss_list_per_node = torch.stack(loss_list_per_node)\n",
    "        h_loss_per_node = torch.mean(loss_list_per_node,dim=0)\n",
    "        \n",
    "        feature_loss_per_node = torch.mean(torch.stack(feature_loss_list),dim=0)\n",
    "        feature_loss += torch.mean(torch.stack(feature_loss_list))\n",
    "                \n",
    "        h_loss_per_node = h_loss_per_node.reshape(tot_nodes,1)\n",
    "        degree_loss_per_node = degree_loss_per_node.reshape(tot_nodes,1)\n",
    "        feature_loss_per_node = feature_loss_per_node.reshape(tot_nodes,1)\n",
    "        \n",
    "        loss = self.lambda_loss1 * h_loss + degree_loss * self.lambda_loss3 + self.lambda_loss2 * feature_loss\n",
    "        loss_per_node = self.lambda_loss1 * h_loss_per_node + degree_loss_per_node * self.lambda_loss3 + self.lambda_loss2 * feature_loss_per_node\n",
    "        \n",
    "\n",
    "        return loss,loss_per_node,h_loss_per_node,degree_loss_per_node,feature_loss_per_node\n",
    "\n",
    "    def degree_decoding(self, node_embeddings):\n",
    "        degree_logits = F.relu(self.degree_decoder(node_embeddings))\n",
    "        return degree_logits\n",
    "\n",
    "    def forward(self, edge_index, x, ground_truth_degree_matrix, neighbor_dict, device):\n",
    "        \n",
    "        # Generate GNN encodings\n",
    "        l1, h0 = self.forward_encoder(x, edge_index)\n",
    "        loss, loss_per_node,h_loss,degree_loss,feature_loss = self.neighbor_decoder(l1, ground_truth_degree_matrix, h0, neighbor_dict, device, x, edge_index)\n",
    "        \n",
    "        return loss, loss_per_node,h_loss,degree_loss,feature_loss\n"
   ]
  },
  {
   "cell_type": "markdown",
   "id": "be33ad17-0dda-4225-a900-85f33f6680d1",
   "metadata": {},
   "source": [
    "# Execution"
   ]
  },
  {
   "cell_type": "code",
   "execution_count": 6,
   "id": "e86955e8-54b2-4103-974d-98fff445534c",
   "metadata": {
    "scrolled": true,
    "tags": []
   },
   "outputs": [
    {
     "name": "stdout",
     "output_type": "stream",
     "text": [
      "GAD-NR: Graph Anomaly Detection via Neighborhood Reconstruction\n",
      "Dataset:  reddit lr: 0.01 lambda_loss1 (neighbor): 0.01 lambda_loss2 (feature): 0.1 lambda_loss3 (degree): 0.8 sample_size: 10 dimension: 16 encoder: GCN loss_step: 50 real_loss: False h_loss_weight: 1.0 feature_loss_weight 2.0 degree_loss_weight: 1.0 calculate_contextual True calculate_structural True\n"
     ]
    },
    {
     "name": "stderr",
     "output_type": "stream",
     "text": [
      "  0%|          | 1/500 [00:01<09:18,  1.12s/it]"
     ]
    },
    {
     "name": "stdout",
     "output_type": "stream",
     "text": [
      "Dataset Name:  reddit , AUC Score(benchmark/combined):  47.953289959209386\n",
      "Dataset Name:  reddit , AUC Score (contextual):  50.460997590285864\n",
      "Dataset Name:  reddit , AUC Score (structural):  84.64586802095081\n",
      "Dataset Name:  reddit , AUC Score (joint-type):  48.343504927442964\n",
      "Dataset Name:  reddit , AUC Score (structure type):  48.343504927442964\n",
      "===========================================================================================\n",
      "Dataset Name:  reddit  Best AUC Score(benchmark/combined):  47.953289959209386\n",
      "Dataset Name:  reddit  Best AUC Score (contextual):  50.460997590285864\n",
      "Dataset Name:  reddit  Best AUC Score (structural):  84.64586802095081\n",
      "Dataset Name:  reddit  Best AUC Score (joint-type):  48.343504927442964\n",
      "Dataset Name:  reddit  Best AUC Score (structure type):  84.0504611948401\n",
      "===========================================================================================\n",
      "Dataset Name:  reddit , AUC Score(benchmark/combined):  48.108364803761425\n",
      "Dataset Name:  reddit , AUC Score (contextual):  51.67111626478624\n",
      "Dataset Name:  reddit , AUC Score (structural):  39.45244290343564\n",
      "Dataset Name:  reddit , AUC Score (joint-type):  52.29760146677371\n",
      "Dataset Name:  reddit , AUC Score (structure type):  52.29760146677371\n",
      "===========================================================================================\n",
      "Dataset Name:  reddit  Best AUC Score(benchmark/combined):  48.108364803761425\n",
      "Dataset Name:  reddit  Best AUC Score (contextual):  51.67111626478624\n",
      "Dataset Name:  reddit  Best AUC Score (structural):  84.64586802095081\n",
      "Dataset Name:  reddit  Best AUC Score (joint-type):  52.29760146677371\n",
      "Dataset Name:  reddit  Best AUC Score (structure type):  84.0504611948401\n",
      "===========================================================================================\n",
      "Dataset Name:  reddit , AUC Score(benchmark/combined):  48.693797109146544\n"
     ]
    },
    {
     "name": "stderr",
     "output_type": "stream",
     "text": [
      "  1%|          | 3/500 [00:01<03:00,  2.76it/s]"
     ]
    },
    {
     "name": "stdout",
     "output_type": "stream",
     "text": [
      "Dataset Name:  reddit , AUC Score (contextual):  51.17933322304198\n",
      "Dataset Name:  reddit , AUC Score (structural):  9.785142327811828\n",
      "Dataset Name:  reddit , AUC Score (joint-type):  52.93534346900687\n",
      "Dataset Name:  reddit , AUC Score (structure type):  52.93534346900687\n",
      "===========================================================================================\n",
      "Dataset Name:  reddit  Best AUC Score(benchmark/combined):  48.693797109146544\n",
      "Dataset Name:  reddit  Best AUC Score (contextual):  51.67111626478624\n",
      "Dataset Name:  reddit  Best AUC Score (structural):  84.64586802095081\n",
      "Dataset Name:  reddit  Best AUC Score (joint-type):  52.93534346900687\n",
      "Dataset Name:  reddit  Best AUC Score (structure type):  84.0504611948401\n",
      "===========================================================================================\n",
      "Dataset Name:  reddit , AUC Score(benchmark/combined):  50.866478924848714\n",
      "Dataset Name:  reddit , AUC Score (contextual):  51.53160783028085\n",
      "Dataset Name:  reddit , AUC Score (structural):  3.606709886526318\n",
      "Dataset Name:  reddit , AUC Score (joint-type):  52.71868168450301\n",
      "Dataset Name:  reddit , AUC Score (structure type):  52.71868168450301\n",
      "===========================================================================================\n",
      "Dataset Name:  reddit  Best AUC Score(benchmark/combined):  50.866478924848714\n",
      "Dataset Name:  reddit  Best AUC Score (contextual):  51.67111626478624\n",
      "Dataset Name:  reddit  Best AUC Score (structural):  84.64586802095081\n",
      "Dataset Name:  reddit  Best AUC Score (joint-type):  52.93534346900687\n",
      "Dataset Name:  reddit  Best AUC Score (structure type):  84.0504611948401\n",
      "===========================================================================================\n",
      "Dataset Name:  reddit , AUC Score(benchmark/combined):  50.93262343458422\n",
      "Dataset Name:  reddit , AUC Score (contextual):  51.53783069064137\n",
      "Dataset Name:  reddit , AUC Score (structural):  4.306645501003578\n",
      "Dataset Name:  reddit , AUC Score (joint-type):  52.76525195248567\n",
      "Dataset Name:  reddit , AUC Score (structure type):  52.76525195248567\n",
      "===========================================================================================\n",
      "Dataset Name:  reddit  Best AUC Score(benchmark/combined):  50.93262343458422\n"
     ]
    },
    {
     "name": "stderr",
     "output_type": "stream",
     "text": [
      "  1%|          | 5/500 [00:01<01:52,  4.42it/s]"
     ]
    },
    {
     "name": "stdout",
     "output_type": "stream",
     "text": [
      "Dataset Name:  reddit  Best AUC Score (contextual):  51.67111626478624\n",
      "Dataset Name:  reddit  Best AUC Score (structural):  84.64586802095081\n",
      "Dataset Name:  reddit  Best AUC Score (joint-type):  52.93534346900687\n",
      "Dataset Name:  reddit  Best AUC Score (structure type):  84.0504611948401\n",
      "===========================================================================================\n",
      "Dataset Name:  reddit , AUC Score(benchmark/combined):  49.78683481087379\n",
      "Dataset Name:  reddit , AUC Score (contextual):  49.690374752793076\n",
      "Dataset Name:  reddit , AUC Score (structural):  61.056895649700316\n",
      "Dataset Name:  reddit , AUC Score (joint-type):  49.74744293561161\n",
      "Dataset Name:  reddit , AUC Score (structure type):  49.74744293561161\n",
      "===========================================================================================\n",
      "Dataset Name:  reddit  Best AUC Score(benchmark/combined):  50.93262343458422\n",
      "Dataset Name:  reddit  Best AUC Score (contextual):  51.67111626478624\n",
      "Dataset Name:  reddit  Best AUC Score (structural):  84.64586802095081\n",
      "Dataset Name:  reddit  Best AUC Score (joint-type):  52.93534346900687\n",
      "Dataset Name:  reddit  Best AUC Score (structure type):  84.0504611948401\n",
      "===========================================================================================\n",
      "Dataset Name:  reddit , AUC Score(benchmark/combined):  50.35909225184165\n",
      "Dataset Name:  reddit , AUC Score (contextual):  49.73008975590704\n",
      "Dataset Name:  reddit , AUC Score (structural):  64.35692555481954\n",
      "Dataset Name:  reddit , AUC Score (joint-type):  50.33079815014092\n",
      "Dataset Name:  reddit , AUC Score (structure type):  50.33079815014092\n",
      "===========================================================================================\n",
      "Dataset Name:  reddit  Best AUC Score(benchmark/combined):  50.93262343458422\n",
      "Dataset Name:  reddit  Best AUC Score (contextual):  51.67111626478624\n",
      "Dataset Name:  reddit  Best AUC Score (structural):  84.64586802095081\n",
      "Dataset Name:  reddit  Best AUC Score (joint-type):  52.93534346900687\n"
     ]
    },
    {
     "name": "stderr",
     "output_type": "stream",
     "text": [
      "  2%|▏         | 8/500 [00:01<01:16,  6.44it/s]"
     ]
    },
    {
     "name": "stdout",
     "output_type": "stream",
     "text": [
      "Dataset Name:  reddit  Best AUC Score (structure type):  84.0504611948401\n",
      "===========================================================================================\n",
      "Dataset Name:  reddit , AUC Score(benchmark/combined):  50.22913199258502\n",
      "Dataset Name:  reddit , AUC Score (contextual):  48.14270384800436\n",
      "Dataset Name:  reddit , AUC Score (structural):  54.38605652266456\n",
      "Dataset Name:  reddit , AUC Score (joint-type):  51.00964644540604\n",
      "Dataset Name:  reddit , AUC Score (structure type):  51.00964644540604\n",
      "===========================================================================================\n",
      "Dataset Name:  reddit  Best AUC Score(benchmark/combined):  50.93262343458422\n",
      "Dataset Name:  reddit  Best AUC Score (contextual):  51.67111626478624\n",
      "Dataset Name:  reddit  Best AUC Score (structural):  84.64586802095081\n",
      "Dataset Name:  reddit  Best AUC Score (joint-type):  52.93534346900687\n",
      "Dataset Name:  reddit  Best AUC Score (structure type):  84.0504611948401\n",
      "===========================================================================================\n",
      "Dataset Name:  reddit , AUC Score(benchmark/combined):  49.39791898899384\n",
      "Dataset Name:  reddit , AUC Score (contextual):  49.40381962204471\n",
      "Dataset Name:  reddit , AUC Score (structural):  11.934866186195505\n",
      "Dataset Name:  reddit , AUC Score (joint-type):  53.173684080051274\n",
      "Dataset Name:  reddit , AUC Score (structure type):  53.173684080051274\n",
      "===========================================================================================\n",
      "Dataset Name:  reddit  Best AUC Score(benchmark/combined):  50.93262343458422\n",
      "Dataset Name:  reddit  Best AUC Score (contextual):  51.67111626478624\n",
      "Dataset Name:  reddit  Best AUC Score (structural):  84.64586802095081\n",
      "Dataset Name:  reddit  Best AUC Score (joint-type):  53.173684080051274\n",
      "Dataset Name:  reddit  Best AUC Score (structure type):  84.0504611948401\n",
      "===========================================================================================\n"
     ]
    },
    {
     "name": "stderr",
     "output_type": "stream",
     "text": [
      "  2%|▏         | 10/500 [00:01<01:04,  7.57it/s]"
     ]
    },
    {
     "name": "stdout",
     "output_type": "stream",
     "text": [
      "Dataset Name:  reddit , AUC Score(benchmark/combined):  49.30555341120913\n",
      "Dataset Name:  reddit , AUC Score (contextual):  50.35083272496019\n",
      "Dataset Name:  reddit , AUC Score (structural):  10.599662290970842\n",
      "Dataset Name:  reddit , AUC Score (joint-type):  52.64408324871761\n",
      "Dataset Name:  reddit , AUC Score (structure type):  52.64408324871761\n",
      "===========================================================================================\n",
      "Dataset Name:  reddit  Best AUC Score(benchmark/combined):  50.93262343458422\n",
      "Dataset Name:  reddit  Best AUC Score (contextual):  51.67111626478624\n",
      "Dataset Name:  reddit  Best AUC Score (structural):  84.64586802095081\n",
      "Dataset Name:  reddit  Best AUC Score (joint-type):  53.173684080051274\n",
      "Dataset Name:  reddit  Best AUC Score (structure type):  84.0504611948401\n",
      "===========================================================================================\n",
      "Dataset Name:  reddit , AUC Score(benchmark/combined):  49.22047003387381\n",
      "Dataset Name:  reddit , AUC Score (contextual):  50.76088380806675\n",
      "Dataset Name:  reddit , AUC Score (structural):  11.370380537668847\n",
      "Dataset Name:  reddit , AUC Score (joint-type):  52.30731520001943\n",
      "Dataset Name:  reddit , AUC Score (structure type):  52.30731520001943\n",
      "===========================================================================================\n",
      "Dataset Name:  reddit  Best AUC Score(benchmark/combined):  50.93262343458422\n",
      "Dataset Name:  reddit  Best AUC Score (contextual):  51.67111626478624\n",
      "Dataset Name:  reddit  Best AUC Score (structural):  84.64586802095081\n",
      "Dataset Name:  reddit  Best AUC Score (joint-type):  53.173684080051274\n",
      "Dataset Name:  reddit  Best AUC Score (structure type):  84.0504611948401\n",
      "===========================================================================================\n",
      "Dataset Name:  reddit , AUC Score(benchmark/combined):  49.08765350518297\n",
      "Dataset Name:  reddit , AUC Score (contextual):  52.18042955949738\n",
      "Dataset Name:  reddit , AUC Score (structural):  17.90248577186041\n",
      "Dataset Name:  reddit , AUC Score (joint-type):  51.72517420214583\n"
     ]
    },
    {
     "name": "stderr",
     "output_type": "stream",
     "text": [
      "  2%|▏         | 12/500 [00:02<00:58,  8.37it/s]"
     ]
    },
    {
     "name": "stdout",
     "output_type": "stream",
     "text": [
      "Dataset Name:  reddit , AUC Score (structure type):  51.72517420214583\n",
      "===========================================================================================\n",
      "Dataset Name:  reddit  Best AUC Score(benchmark/combined):  50.93262343458422\n",
      "Dataset Name:  reddit  Best AUC Score (contextual):  52.18042955949738\n",
      "Dataset Name:  reddit  Best AUC Score (structural):  84.64586802095081\n",
      "Dataset Name:  reddit  Best AUC Score (joint-type):  53.173684080051274\n",
      "Dataset Name:  reddit  Best AUC Score (structure type):  84.0504611948401\n",
      "===========================================================================================\n",
      "Dataset Name:  reddit , AUC Score(benchmark/combined):  49.04998162723985\n",
      "Dataset Name:  reddit , AUC Score (contextual):  51.159096278780105\n",
      "Dataset Name:  reddit , AUC Score (structural):  13.376697413903427\n",
      "Dataset Name:  reddit , AUC Score (joint-type):  51.62128278954135\n",
      "Dataset Name:  reddit , AUC Score (structure type):  51.62128278954135\n",
      "===========================================================================================\n",
      "Dataset Name:  reddit  Best AUC Score(benchmark/combined):  50.93262343458422\n",
      "Dataset Name:  reddit  Best AUC Score (contextual):  52.18042955949738\n",
      "Dataset Name:  reddit  Best AUC Score (structural):  84.64586802095081\n",
      "Dataset Name:  reddit  Best AUC Score (joint-type):  53.173684080051274\n",
      "Dataset Name:  reddit  Best AUC Score (structure type):  84.0504611948401\n",
      "===========================================================================================\n",
      "Dataset Name:  reddit , AUC Score(benchmark/combined):  48.79383086973662\n",
      "Dataset Name:  reddit , AUC Score (contextual):  50.596306858856934\n",
      "Dataset Name:  reddit , AUC Score (structural):  11.395017449073439\n",
      "Dataset Name:  reddit , AUC Score (joint-type):  51.981702766845615\n",
      "Dataset Name:  reddit , AUC Score (structure type):  51.981702766845615\n",
      "===========================================================================================\n",
      "Dataset Name:  reddit  Best AUC Score(benchmark/combined):  50.93262343458422\n",
      "Dataset Name:  reddit  Best AUC Score (contextual):  52.18042955949738\n",
      "Dataset Name:  reddit  Best AUC Score (structural):  84.64586802095081\n"
     ]
    },
    {
     "name": "stderr",
     "output_type": "stream",
     "text": [
      "  3%|▎         | 14/500 [00:02<00:54,  8.92it/s]"
     ]
    },
    {
     "name": "stdout",
     "output_type": "stream",
     "text": [
      "Dataset Name:  reddit  Best AUC Score (joint-type):  53.173684080051274\n",
      "Dataset Name:  reddit  Best AUC Score (structure type):  84.0504611948401\n",
      "===========================================================================================\n",
      "Dataset Name:  reddit , AUC Score(benchmark/combined):  48.81709273972334\n",
      "Dataset Name:  reddit , AUC Score (contextual):  50.8165859971476\n",
      "Dataset Name:  reddit , AUC Score (structural):  10.608385169978444\n",
      "Dataset Name:  reddit , AUC Score (joint-type):  52.4269155406072\n",
      "Dataset Name:  reddit , AUC Score (structure type):  52.4269155406072\n",
      "===========================================================================================\n",
      "Dataset Name:  reddit  Best AUC Score(benchmark/combined):  50.93262343458422\n",
      "Dataset Name:  reddit  Best AUC Score (contextual):  52.18042955949738\n",
      "Dataset Name:  reddit  Best AUC Score (structural):  84.64586802095081\n",
      "Dataset Name:  reddit  Best AUC Score (joint-type):  53.173684080051274\n",
      "Dataset Name:  reddit  Best AUC Score (structure type):  84.0504611948401\n",
      "===========================================================================================\n",
      "Dataset Name:  reddit , AUC Score(benchmark/combined):  49.54828484880299\n",
      "Dataset Name:  reddit , AUC Score (contextual):  51.482811498429356\n",
      "Dataset Name:  reddit , AUC Score (structural):  10.05371483247497\n",
      "Dataset Name:  reddit , AUC Score (joint-type):  52.869649288696706\n",
      "Dataset Name:  reddit , AUC Score (structure type):  52.869649288696706\n",
      "===========================================================================================\n",
      "Dataset Name:  reddit  Best AUC Score(benchmark/combined):  50.93262343458422\n",
      "Dataset Name:  reddit  Best AUC Score (contextual):  52.18042955949738\n",
      "Dataset Name:  reddit  Best AUC Score (structural):  84.64586802095081\n",
      "Dataset Name:  reddit  Best AUC Score (joint-type):  53.173684080051274\n",
      "Dataset Name:  reddit  Best AUC Score (structure type):  84.0504611948401\n",
      "===========================================================================================\n"
     ]
    },
    {
     "name": "stderr",
     "output_type": "stream",
     "text": [
      "  4%|▎         | 18/500 [00:02<00:50,  9.64it/s]"
     ]
    },
    {
     "name": "stdout",
     "output_type": "stream",
     "text": [
      "Dataset Name:  reddit , AUC Score(benchmark/combined):  49.78498209556512\n",
      "Dataset Name:  reddit , AUC Score (contextual):  51.7316247281293\n",
      "Dataset Name:  reddit , AUC Score (structural):  11.030554610659884\n",
      "Dataset Name:  reddit , AUC Score (joint-type):  52.52276276786758\n",
      "Dataset Name:  reddit , AUC Score (structure type):  52.52276276786758\n",
      "===========================================================================================\n",
      "Dataset Name:  reddit  Best AUC Score(benchmark/combined):  50.93262343458422\n",
      "Dataset Name:  reddit  Best AUC Score (contextual):  52.18042955949738\n",
      "Dataset Name:  reddit  Best AUC Score (structural):  84.64586802095081\n",
      "Dataset Name:  reddit  Best AUC Score (joint-type):  53.173684080051274\n",
      "Dataset Name:  reddit  Best AUC Score (structure type):  84.0504611948401\n",
      "===========================================================================================\n",
      "Dataset Name:  reddit , AUC Score(benchmark/combined):  51.44707358470563\n",
      "Dataset Name:  reddit , AUC Score (contextual):  54.29339420606168\n",
      "Dataset Name:  reddit , AUC Score (structural):  26.80866956699907\n",
      "Dataset Name:  reddit , AUC Score (joint-type):  51.5977573418369\n",
      "Dataset Name:  reddit , AUC Score (structure type):  51.5977573418369\n",
      "===========================================================================================\n",
      "Dataset Name:  reddit  Best AUC Score(benchmark/combined):  51.44707358470563\n",
      "Dataset Name:  reddit  Best AUC Score (contextual):  54.29339420606168\n",
      "Dataset Name:  reddit  Best AUC Score (structural):  84.64586802095081\n",
      "Dataset Name:  reddit  Best AUC Score (joint-type):  53.173684080051274\n",
      "Dataset Name:  reddit  Best AUC Score (structure type):  84.0504611948401\n",
      "===========================================================================================\n",
      "Dataset Name:  reddit , AUC Score(benchmark/combined):  52.026265842002495\n",
      "Dataset Name:  reddit , AUC Score (contextual):  51.761676590358206\n",
      "Dataset Name:  reddit , AUC Score (structural):  47.308983537596575\n"
     ]
    },
    {
     "name": "stderr",
     "output_type": "stream",
     "text": [
      "  4%|▍         | 20/500 [00:02<00:48,  9.81it/s]"
     ]
    },
    {
     "name": "stdout",
     "output_type": "stream",
     "text": [
      "Dataset Name:  reddit , AUC Score (joint-type):  49.62842440717137\n",
      "Dataset Name:  reddit , AUC Score (structure type):  49.62842440717137\n",
      "===========================================================================================\n",
      "Dataset Name:  reddit  Best AUC Score(benchmark/combined):  52.026265842002495\n",
      "Dataset Name:  reddit  Best AUC Score (contextual):  54.29339420606168\n",
      "Dataset Name:  reddit  Best AUC Score (structural):  84.64586802095081\n",
      "Dataset Name:  reddit  Best AUC Score (joint-type):  53.173684080051274\n",
      "Dataset Name:  reddit  Best AUC Score (structure type):  84.0504611948401\n",
      "===========================================================================================\n",
      "Dataset Name:  reddit , AUC Score(benchmark/combined):  52.070293562740666\n",
      "Dataset Name:  reddit , AUC Score (contextual):  52.498377250032\n",
      "Dataset Name:  reddit , AUC Score (structural):  50.7398997283342\n",
      "Dataset Name:  reddit , AUC Score (joint-type):  50.52226493903873\n",
      "Dataset Name:  reddit , AUC Score (structure type):  50.52226493903873\n",
      "===========================================================================================\n",
      "Dataset Name:  reddit  Best AUC Score(benchmark/combined):  52.070293562740666\n",
      "Dataset Name:  reddit  Best AUC Score (contextual):  54.29339420606168\n",
      "Dataset Name:  reddit  Best AUC Score (structural):  84.64586802095081\n",
      "Dataset Name:  reddit  Best AUC Score (joint-type):  53.173684080051274\n",
      "Dataset Name:  reddit  Best AUC Score (structure type):  84.0504611948401\n",
      "===========================================================================================\n",
      "Dataset Name:  reddit , AUC Score(benchmark/combined):  51.57036921528243\n",
      "Dataset Name:  reddit , AUC Score (contextual):  51.23829861938507\n",
      "Dataset Name:  reddit , AUC Score (structural):  73.08412621684329\n",
      "Dataset Name:  reddit , AUC Score (joint-type):  48.9144903097922\n",
      "Dataset Name:  reddit , AUC Score (structure type):  48.9144903097922\n",
      "===========================================================================================\n",
      "Dataset Name:  reddit  Best AUC Score(benchmark/combined):  52.070293562740666\n",
      "Dataset Name:  reddit  Best AUC Score (contextual):  54.29339420606168\n"
     ]
    },
    {
     "name": "stderr",
     "output_type": "stream",
     "text": [
      "  4%|▍         | 22/500 [00:03<00:48,  9.93it/s]"
     ]
    },
    {
     "name": "stdout",
     "output_type": "stream",
     "text": [
      "Dataset Name:  reddit  Best AUC Score (structural):  84.64586802095081\n",
      "Dataset Name:  reddit  Best AUC Score (joint-type):  53.173684080051274\n",
      "Dataset Name:  reddit  Best AUC Score (structure type):  84.0504611948401\n",
      "===========================================================================================\n",
      "Dataset Name:  reddit , AUC Score(benchmark/combined):  51.88423720108239\n",
      "Dataset Name:  reddit , AUC Score (contextual):  52.505308403441695\n",
      "Dataset Name:  reddit , AUC Score (structural):  55.96788316182648\n",
      "Dataset Name:  reddit , AUC Score (joint-type):  50.59081758772589\n",
      "Dataset Name:  reddit , AUC Score (structure type):  50.59081758772589\n",
      "===========================================================================================\n",
      "Dataset Name:  reddit  Best AUC Score(benchmark/combined):  52.070293562740666\n",
      "Dataset Name:  reddit  Best AUC Score (contextual):  54.29339420606168\n",
      "Dataset Name:  reddit  Best AUC Score (structural):  84.64586802095081\n",
      "Dataset Name:  reddit  Best AUC Score (joint-type):  53.173684080051274\n",
      "Dataset Name:  reddit  Best AUC Score (structure type):  84.0504611948401\n",
      "===========================================================================================\n",
      "Dataset Name:  reddit , AUC Score(benchmark/combined):  51.11879559094928\n",
      "Dataset Name:  reddit , AUC Score (contextual):  52.485450901884725\n",
      "Dataset Name:  reddit , AUC Score (structural):  20.38428409730635\n",
      "Dataset Name:  reddit , AUC Score (joint-type):  51.95061376122327\n",
      "Dataset Name:  reddit , AUC Score (structure type):  51.95061376122327\n",
      "===========================================================================================\n",
      "Dataset Name:  reddit  Best AUC Score(benchmark/combined):  52.070293562740666\n",
      "Dataset Name:  reddit  Best AUC Score (contextual):  54.29339420606168\n",
      "Dataset Name:  reddit  Best AUC Score (structural):  84.64586802095081\n",
      "Dataset Name:  reddit  Best AUC Score (joint-type):  53.173684080051274\n",
      "Dataset Name:  reddit  Best AUC Score (structure type):  84.0504611948401\n",
      "===========================================================================================\n"
     ]
    },
    {
     "name": "stderr",
     "output_type": "stream",
     "text": [
      "  5%|▍         | 24/500 [00:03<00:47, 10.02it/s]"
     ]
    },
    {
     "name": "stdout",
     "output_type": "stream",
     "text": [
      "Dataset Name:  reddit , AUC Score(benchmark/combined):  51.12669536316823\n",
      "Dataset Name:  reddit , AUC Score (contextual):  50.71689375047747\n",
      "Dataset Name:  reddit , AUC Score (structural):  37.18515413071919\n",
      "Dataset Name:  reddit , AUC Score (joint-type):  51.31193580031802\n",
      "Dataset Name:  reddit , AUC Score (structure type):  51.31193580031802\n",
      "===========================================================================================\n",
      "Dataset Name:  reddit  Best AUC Score(benchmark/combined):  52.070293562740666\n",
      "Dataset Name:  reddit  Best AUC Score (contextual):  54.29339420606168\n",
      "Dataset Name:  reddit  Best AUC Score (structural):  84.64586802095081\n",
      "Dataset Name:  reddit  Best AUC Score (joint-type):  53.173684080051274\n",
      "Dataset Name:  reddit  Best AUC Score (structure type):  84.0504611948401\n",
      "===========================================================================================\n",
      "Dataset Name:  reddit , AUC Score(benchmark/combined):  51.15605575437936\n",
      "Dataset Name:  reddit , AUC Score (contextual):  50.36009112696001\n",
      "Dataset Name:  reddit , AUC Score (structural):  43.72669671766451\n",
      "Dataset Name:  reddit , AUC Score (joint-type):  50.499979004170335\n",
      "Dataset Name:  reddit , AUC Score (structure type):  50.499979004170335\n",
      "===========================================================================================\n",
      "Dataset Name:  reddit  Best AUC Score(benchmark/combined):  52.070293562740666\n",
      "Dataset Name:  reddit  Best AUC Score (contextual):  54.29339420606168\n",
      "Dataset Name:  reddit  Best AUC Score (structural):  84.64586802095081\n",
      "Dataset Name:  reddit  Best AUC Score (joint-type):  53.173684080051274\n",
      "Dataset Name:  reddit  Best AUC Score (structure type):  84.0504611948401\n",
      "===========================================================================================\n",
      "Dataset Name:  reddit , AUC Score(benchmark/combined):  52.275829167297104\n",
      "Dataset Name:  reddit , AUC Score (contextual):  50.95596795075137\n",
      "Dataset Name:  reddit , AUC Score (structural):  46.0763638159993\n"
     ]
    },
    {
     "name": "stderr",
     "output_type": "stream",
     "text": [
      "  5%|▌         | 26/500 [00:03<00:47, 10.08it/s]"
     ]
    },
    {
     "name": "stdout",
     "output_type": "stream",
     "text": [
      "Dataset Name:  reddit , AUC Score (joint-type):  50.02769931745846\n",
      "Dataset Name:  reddit , AUC Score (structure type):  50.02769931745846\n",
      "===========================================================================================\n",
      "Dataset Name:  reddit  Best AUC Score(benchmark/combined):  52.275829167297104\n",
      "Dataset Name:  reddit  Best AUC Score (contextual):  54.29339420606168\n",
      "Dataset Name:  reddit  Best AUC Score (structural):  84.64586802095081\n",
      "Dataset Name:  reddit  Best AUC Score (joint-type):  53.173684080051274\n",
      "Dataset Name:  reddit  Best AUC Score (structure type):  84.0504611948401\n",
      "===========================================================================================\n",
      "Dataset Name:  reddit , AUC Score(benchmark/combined):  52.05536891164297\n",
      "Dataset Name:  reddit , AUC Score (contextual):  50.84888921942565\n",
      "Dataset Name:  reddit , AUC Score (structural):  44.265202708303086\n",
      "Dataset Name:  reddit , AUC Score (joint-type):  50.11889204753861\n",
      "Dataset Name:  reddit , AUC Score (structure type):  50.11889204753861\n",
      "===========================================================================================\n",
      "Dataset Name:  reddit  Best AUC Score(benchmark/combined):  52.275829167297104\n",
      "Dataset Name:  reddit  Best AUC Score (contextual):  54.29339420606168\n",
      "Dataset Name:  reddit  Best AUC Score (structural):  84.64586802095081\n",
      "Dataset Name:  reddit  Best AUC Score (joint-type):  53.173684080051274\n",
      "Dataset Name:  reddit  Best AUC Score (structure type):  84.0504611948401\n",
      "===========================================================================================\n",
      "Dataset Name:  reddit , AUC Score(benchmark/combined):  51.79040489034499\n",
      "Dataset Name:  reddit , AUC Score (contextual):  51.072507453519535\n",
      "Dataset Name:  reddit , AUC Score (structural):  48.97388474129419\n",
      "Dataset Name:  reddit , AUC Score (joint-type):  49.914878353198425\n",
      "Dataset Name:  reddit , AUC Score (structure type):  49.914878353198425\n",
      "===========================================================================================\n",
      "Dataset Name:  reddit  Best AUC Score(benchmark/combined):  52.275829167297104\n",
      "Dataset Name:  reddit  Best AUC Score (contextual):  54.29339420606168\n",
      "Dataset Name:  reddit  Best AUC Score (structural):  84.64586802095081\n"
     ]
    },
    {
     "name": "stderr",
     "output_type": "stream",
     "text": [
      "  6%|▌         | 28/500 [00:03<00:46, 10.14it/s]"
     ]
    },
    {
     "name": "stdout",
     "output_type": "stream",
     "text": [
      "Dataset Name:  reddit  Best AUC Score (joint-type):  53.173684080051274\n",
      "Dataset Name:  reddit  Best AUC Score (structure type):  84.0504611948401\n",
      "===========================================================================================\n",
      "Dataset Name:  reddit , AUC Score(benchmark/combined):  52.63467696364663\n",
      "Dataset Name:  reddit , AUC Score (contextual):  52.98085129741579\n",
      "Dataset Name:  reddit , AUC Score (structural):  37.98210069206148\n",
      "Dataset Name:  reddit , AUC Score (joint-type):  51.528901138985816\n",
      "Dataset Name:  reddit , AUC Score (structure type):  51.528901138985816\n",
      "===========================================================================================\n",
      "Dataset Name:  reddit  Best AUC Score(benchmark/combined):  52.63467696364663\n",
      "Dataset Name:  reddit  Best AUC Score (contextual):  54.29339420606168\n",
      "Dataset Name:  reddit  Best AUC Score (structural):  84.64586802095081\n",
      "Dataset Name:  reddit  Best AUC Score (joint-type):  53.173684080051274\n",
      "Dataset Name:  reddit  Best AUC Score (structure type):  84.0504611948401\n",
      "===========================================================================================\n",
      "Dataset Name:  reddit , AUC Score(benchmark/combined):  52.82051460196985\n",
      "Dataset Name:  reddit , AUC Score (contextual):  54.017691136673754\n",
      "Dataset Name:  reddit , AUC Score (structural):  37.883233108083466\n",
      "Dataset Name:  reddit , AUC Score (joint-type):  52.20868539292304\n",
      "Dataset Name:  reddit , AUC Score (structure type):  52.20868539292304\n",
      "===========================================================================================\n",
      "Dataset Name:  reddit  Best AUC Score(benchmark/combined):  52.82051460196985\n",
      "Dataset Name:  reddit  Best AUC Score (contextual):  54.29339420606168\n",
      "Dataset Name:  reddit  Best AUC Score (structural):  84.64586802095081\n",
      "Dataset Name:  reddit  Best AUC Score (joint-type):  53.173684080051274\n",
      "Dataset Name:  reddit  Best AUC Score (structure type):  84.0504611948401\n",
      "===========================================================================================\n"
     ]
    },
    {
     "name": "stderr",
     "output_type": "stream",
     "text": [
      "  6%|▋         | 32/500 [00:04<00:45, 10.19it/s]"
     ]
    },
    {
     "name": "stdout",
     "output_type": "stream",
     "text": [
      "Dataset Name:  reddit , AUC Score(benchmark/combined):  53.04231292979136\n",
      "Dataset Name:  reddit , AUC Score (contextual):  54.56990675322009\n",
      "Dataset Name:  reddit , AUC Score (structural):  37.29672807493918\n",
      "Dataset Name:  reddit , AUC Score (joint-type):  52.218829161234304\n",
      "Dataset Name:  reddit , AUC Score (structure type):  52.218829161234304\n",
      "===========================================================================================\n",
      "Dataset Name:  reddit  Best AUC Score(benchmark/combined):  53.04231292979136\n",
      "Dataset Name:  reddit  Best AUC Score (contextual):  54.56990675322009\n",
      "Dataset Name:  reddit  Best AUC Score (structural):  84.64586802095081\n",
      "Dataset Name:  reddit  Best AUC Score (joint-type):  53.173684080051274\n",
      "Dataset Name:  reddit  Best AUC Score (structure type):  84.0504611948401\n",
      "===========================================================================================\n",
      "Dataset Name:  reddit , AUC Score(benchmark/combined):  53.24598295296059\n",
      "Dataset Name:  reddit , AUC Score (contextual):  54.42799518158357\n",
      "Dataset Name:  reddit , AUC Score (structural):  50.80581863440361\n",
      "Dataset Name:  reddit , AUC Score (joint-type):  51.49323352472423\n",
      "Dataset Name:  reddit , AUC Score (structure type):  51.49323352472423\n",
      "===========================================================================================\n",
      "Dataset Name:  reddit  Best AUC Score(benchmark/combined):  53.24598295296059\n",
      "Dataset Name:  reddit  Best AUC Score (contextual):  54.56990675322009\n",
      "Dataset Name:  reddit  Best AUC Score (structural):  84.64586802095081\n",
      "Dataset Name:  reddit  Best AUC Score (joint-type):  53.173684080051274\n",
      "Dataset Name:  reddit  Best AUC Score (structure type):  84.0504611948401\n",
      "===========================================================================================\n",
      "Dataset Name:  reddit , AUC Score(benchmark/combined):  53.11040021738527\n"
     ]
    },
    {
     "name": "stderr",
     "output_type": "stream",
     "text": [
      "  7%|▋         | 34/500 [00:04<00:45, 10.14it/s]"
     ]
    },
    {
     "name": "stdout",
     "output_type": "stream",
     "text": [
      "Dataset Name:  reddit , AUC Score (contextual):  54.1955991729161\n",
      "Dataset Name:  reddit , AUC Score (structural):  61.35228495666411\n",
      "Dataset Name:  reddit , AUC Score (joint-type):  51.018575997061596\n",
      "Dataset Name:  reddit , AUC Score (structure type):  51.018575997061596\n",
      "===========================================================================================\n",
      "Dataset Name:  reddit  Best AUC Score(benchmark/combined):  53.24598295296059\n",
      "Dataset Name:  reddit  Best AUC Score (contextual):  54.56990675322009\n",
      "Dataset Name:  reddit  Best AUC Score (structural):  84.64586802095081\n",
      "Dataset Name:  reddit  Best AUC Score (joint-type):  53.173684080051274\n",
      "Dataset Name:  reddit  Best AUC Score (structure type):  84.0504611948401\n",
      "===========================================================================================\n",
      "Dataset Name:  reddit , AUC Score(benchmark/combined):  53.65687403697401\n",
      "Dataset Name:  reddit , AUC Score (contextual):  54.53735056913875\n",
      "Dataset Name:  reddit , AUC Score (structural):  58.614617171373574\n",
      "Dataset Name:  reddit , AUC Score (joint-type):  51.089253524896236\n",
      "Dataset Name:  reddit , AUC Score (structure type):  51.089253524896236\n",
      "===========================================================================================\n",
      "Dataset Name:  reddit  Best AUC Score(benchmark/combined):  53.65687403697401\n",
      "Dataset Name:  reddit  Best AUC Score (contextual):  54.56990675322009\n",
      "Dataset Name:  reddit  Best AUC Score (structural):  84.64586802095081\n",
      "Dataset Name:  reddit  Best AUC Score (joint-type):  53.173684080051274\n",
      "Dataset Name:  reddit  Best AUC Score (structure type):  84.0504611948401\n",
      "===========================================================================================\n",
      "Dataset Name:  reddit , AUC Score(benchmark/combined):  54.21320327271866\n",
      "Dataset Name:  reddit , AUC Score (contextual):  54.67921154841461\n",
      "Dataset Name:  reddit , AUC Score (structural):  54.24243238028171\n",
      "Dataset Name:  reddit , AUC Score (joint-type):  51.11303193440398\n"
     ]
    },
    {
     "name": "stderr",
     "output_type": "stream",
     "text": [
      "  7%|▋         | 36/500 [00:04<00:45, 10.15it/s]"
     ]
    },
    {
     "name": "stdout",
     "output_type": "stream",
     "text": [
      "Dataset Name:  reddit , AUC Score (structure type):  51.11303193440398\n",
      "===========================================================================================\n",
      "Dataset Name:  reddit  Best AUC Score(benchmark/combined):  54.21320327271866\n",
      "Dataset Name:  reddit  Best AUC Score (contextual):  54.67921154841461\n",
      "Dataset Name:  reddit  Best AUC Score (structural):  84.64586802095081\n",
      "Dataset Name:  reddit  Best AUC Score (joint-type):  53.173684080051274\n",
      "Dataset Name:  reddit  Best AUC Score (structure type):  84.0504611948401\n",
      "===========================================================================================\n",
      "Dataset Name:  reddit , AUC Score(benchmark/combined):  54.55526083658331\n",
      "Dataset Name:  reddit , AUC Score (contextual):  54.51721480959818\n",
      "Dataset Name:  reddit , AUC Score (structural):  51.760164922422405\n",
      "Dataset Name:  reddit , AUC Score (joint-type):  51.10964224624011\n",
      "Dataset Name:  reddit , AUC Score (structure type):  51.10964224624011\n",
      "===========================================================================================\n",
      "Dataset Name:  reddit  Best AUC Score(benchmark/combined):  54.55526083658331\n",
      "Dataset Name:  reddit  Best AUC Score (contextual):  54.67921154841461\n",
      "Dataset Name:  reddit  Best AUC Score (structural):  84.64586802095081\n",
      "Dataset Name:  reddit  Best AUC Score (joint-type):  53.173684080051274\n",
      "Dataset Name:  reddit  Best AUC Score (structure type):  84.0504611948401\n",
      "===========================================================================================\n",
      "Dataset Name:  reddit , AUC Score(benchmark/combined):  54.86539765960885\n",
      "Dataset Name:  reddit , AUC Score (contextual):  54.43302912146872\n",
      "Dataset Name:  reddit , AUC Score (structural):  47.254391775628065\n",
      "Dataset Name:  reddit , AUC Score (joint-type):  51.34694571389109\n",
      "Dataset Name:  reddit , AUC Score (structure type):  51.34694571389109\n",
      "===========================================================================================\n",
      "Dataset Name:  reddit  Best AUC Score(benchmark/combined):  54.86539765960885\n",
      "Dataset Name:  reddit  Best AUC Score (contextual):  54.67921154841461\n",
      "Dataset Name:  reddit  Best AUC Score (structural):  84.64586802095081\n"
     ]
    },
    {
     "name": "stderr",
     "output_type": "stream",
     "text": [
      "  8%|▊         | 38/500 [00:04<00:45, 10.17it/s]"
     ]
    },
    {
     "name": "stdout",
     "output_type": "stream",
     "text": [
      "Dataset Name:  reddit  Best AUC Score (joint-type):  53.173684080051274\n",
      "Dataset Name:  reddit  Best AUC Score (structure type):  84.0504611948401\n",
      "===========================================================================================\n",
      "Dataset Name:  reddit , AUC Score(benchmark/combined):  54.627992778527435\n",
      "Dataset Name:  reddit , AUC Score (contextual):  54.1970916475554\n",
      "Dataset Name:  reddit , AUC Score (structural):  47.64493539234389\n",
      "Dataset Name:  reddit , AUC Score (joint-type):  51.17857433763218\n",
      "Dataset Name:  reddit , AUC Score (structure type):  51.17857433763218\n",
      "===========================================================================================\n",
      "Dataset Name:  reddit  Best AUC Score(benchmark/combined):  54.86539765960885\n",
      "Dataset Name:  reddit  Best AUC Score (contextual):  54.67921154841461\n",
      "Dataset Name:  reddit  Best AUC Score (structural):  84.64586802095081\n",
      "Dataset Name:  reddit  Best AUC Score (joint-type):  53.173684080051274\n",
      "Dataset Name:  reddit  Best AUC Score (structure type):  84.0504611948401\n",
      "===========================================================================================\n",
      "Dataset Name:  reddit , AUC Score(benchmark/combined):  54.20586960795515\n",
      "Dataset Name:  reddit , AUC Score (contextual):  53.61416646809165\n",
      "Dataset Name:  reddit , AUC Score (structural):  51.603042033601156\n",
      "Dataset Name:  reddit , AUC Score (joint-type):  50.743302962739236\n",
      "Dataset Name:  reddit , AUC Score (structure type):  50.743302962739236\n",
      "===========================================================================================\n",
      "Dataset Name:  reddit  Best AUC Score(benchmark/combined):  54.86539765960885\n",
      "Dataset Name:  reddit  Best AUC Score (contextual):  54.67921154841461\n",
      "Dataset Name:  reddit  Best AUC Score (structural):  84.64586802095081\n",
      "Dataset Name:  reddit  Best AUC Score (joint-type):  53.173684080051274\n",
      "Dataset Name:  reddit  Best AUC Score (structure type):  84.0504611948401\n",
      "===========================================================================================\n"
     ]
    },
    {
     "name": "stderr",
     "output_type": "stream",
     "text": [
      "  8%|▊         | 40/500 [00:04<00:45, 10.20it/s]"
     ]
    },
    {
     "name": "stdout",
     "output_type": "stream",
     "text": [
      "Dataset Name:  reddit , AUC Score(benchmark/combined):  54.08100431579739\n",
      "Dataset Name:  reddit , AUC Score (contextual):  53.46238938612748\n",
      "Dataset Name:  reddit , AUC Score (structural):  53.396054513517974\n",
      "Dataset Name:  reddit , AUC Score (joint-type):  50.47311446066267\n",
      "Dataset Name:  reddit , AUC Score (structure type):  50.47311446066267\n",
      "===========================================================================================\n",
      "Dataset Name:  reddit  Best AUC Score(benchmark/combined):  54.86539765960885\n",
      "Dataset Name:  reddit  Best AUC Score (contextual):  54.67921154841461\n",
      "Dataset Name:  reddit  Best AUC Score (structural):  84.64586802095081\n",
      "Dataset Name:  reddit  Best AUC Score (joint-type):  53.173684080051274\n",
      "Dataset Name:  reddit  Best AUC Score (structure type):  84.0504611948401\n",
      "===========================================================================================\n",
      "Dataset Name:  reddit , AUC Score(benchmark/combined):  53.9194578337435\n",
      "Dataset Name:  reddit , AUC Score (contextual):  53.42100483511191\n",
      "Dataset Name:  reddit , AUC Score (structural):  49.74211476271846\n",
      "Dataset Name:  reddit , AUC Score (joint-type):  50.94245979045656\n",
      "Dataset Name:  reddit , AUC Score (structure type):  50.94245979045656\n",
      "===========================================================================================\n",
      "Dataset Name:  reddit  Best AUC Score(benchmark/combined):  54.86539765960885\n",
      "Dataset Name:  reddit  Best AUC Score (contextual):  54.67921154841461\n",
      "Dataset Name:  reddit  Best AUC Score (structural):  84.64586802095081\n",
      "Dataset Name:  reddit  Best AUC Score (joint-type):  53.173684080051274\n",
      "Dataset Name:  reddit  Best AUC Score (structure type):  84.0504611948401\n",
      "===========================================================================================\n",
      "Dataset Name:  reddit , AUC Score(benchmark/combined):  54.031907360117415\n",
      "Dataset Name:  reddit , AUC Score (contextual):  53.37430808622759\n",
      "Dataset Name:  reddit , AUC Score (structural):  49.260778275754376\n",
      "Dataset Name:  reddit , AUC Score (joint-type):  50.95601854311202\n"
     ]
    },
    {
     "name": "stderr",
     "output_type": "stream",
     "text": [
      "  8%|▊         | 42/500 [00:05<00:44, 10.20it/s]"
     ]
    },
    {
     "name": "stdout",
     "output_type": "stream",
     "text": [
      "Dataset Name:  reddit , AUC Score (structure type):  50.95601854311202\n",
      "===========================================================================================\n",
      "Dataset Name:  reddit  Best AUC Score(benchmark/combined):  54.86539765960885\n",
      "Dataset Name:  reddit  Best AUC Score (contextual):  54.67921154841461\n",
      "Dataset Name:  reddit  Best AUC Score (structural):  84.64586802095081\n",
      "Dataset Name:  reddit  Best AUC Score (joint-type):  53.173684080051274\n",
      "Dataset Name:  reddit  Best AUC Score (structure type):  84.0504611948401\n",
      "===========================================================================================\n",
      "Dataset Name:  reddit , AUC Score(benchmark/combined):  54.239823189202376\n",
      "Dataset Name:  reddit , AUC Score (contextual):  53.30707083891746\n",
      "Dataset Name:  reddit , AUC Score (structural):  48.76873794429161\n",
      "Dataset Name:  reddit , AUC Score (joint-type):  50.960217709046375\n",
      "Dataset Name:  reddit , AUC Score (structure type):  50.960217709046375\n",
      "===========================================================================================\n",
      "Dataset Name:  reddit  Best AUC Score(benchmark/combined):  54.86539765960885\n",
      "Dataset Name:  reddit  Best AUC Score (contextual):  54.67921154841461\n",
      "Dataset Name:  reddit  Best AUC Score (structural):  84.64586802095081\n",
      "Dataset Name:  reddit  Best AUC Score (joint-type):  53.173684080051274\n",
      "Dataset Name:  reddit  Best AUC Score (structure type):  84.0504611948401\n",
      "===========================================================================================\n",
      "Dataset Name:  reddit , AUC Score(benchmark/combined):  54.46994586983439\n",
      "Dataset Name:  reddit , AUC Score (contextual):  53.298090694901255\n",
      "Dataset Name:  reddit , AUC Score (structural):  46.20210124905262\n",
      "Dataset Name:  reddit , AUC Score (joint-type):  51.05887281232309\n",
      "Dataset Name:  reddit , AUC Score (structure type):  51.05887281232309\n",
      "===========================================================================================\n",
      "Dataset Name:  reddit  Best AUC Score(benchmark/combined):  54.86539765960885\n",
      "Dataset Name:  reddit  Best AUC Score (contextual):  54.67921154841461\n",
      "Dataset Name:  reddit  Best AUC Score (structural):  84.64586802095081\n"
     ]
    },
    {
     "name": "stderr",
     "output_type": "stream",
     "text": [
      "  9%|▉         | 44/500 [00:05<00:44, 10.20it/s]"
     ]
    },
    {
     "name": "stdout",
     "output_type": "stream",
     "text": [
      "Dataset Name:  reddit  Best AUC Score (joint-type):  53.173684080051274\n",
      "Dataset Name:  reddit  Best AUC Score (structure type):  84.0504611948401\n",
      "===========================================================================================\n",
      "Dataset Name:  reddit , AUC Score(benchmark/combined):  54.47010026277679\n",
      "Dataset Name:  reddit , AUC Score (contextual):  53.320174260327036\n",
      "Dataset Name:  reddit , AUC Score (structural):  45.292642478663595\n",
      "Dataset Name:  reddit , AUC Score (joint-type):  51.09140370022408\n",
      "Dataset Name:  reddit , AUC Score (structure type):  51.09140370022408\n",
      "===========================================================================================\n",
      "Dataset Name:  reddit  Best AUC Score(benchmark/combined):  54.86539765960885\n",
      "Dataset Name:  reddit  Best AUC Score (contextual):  54.67921154841461\n",
      "Dataset Name:  reddit  Best AUC Score (structural):  84.64586802095081\n",
      "Dataset Name:  reddit  Best AUC Score (joint-type):  53.173684080051274\n",
      "Dataset Name:  reddit  Best AUC Score (structure type):  84.0504611948401\n",
      "===========================================================================================\n",
      "Dataset Name:  reddit , AUC Score(benchmark/combined):  54.61811163021449\n",
      "Dataset Name:  reddit , AUC Score (contextual):  53.35827030790006\n",
      "Dataset Name:  reddit , AUC Score (structural):  45.525701825405825\n",
      "Dataset Name:  reddit , AUC Score (joint-type):  50.98505855812784\n",
      "Dataset Name:  reddit , AUC Score (structure type):  50.98505855812784\n",
      "===========================================================================================\n",
      "Dataset Name:  reddit  Best AUC Score(benchmark/combined):  54.86539765960885\n",
      "Dataset Name:  reddit  Best AUC Score (contextual):  54.67921154841461\n",
      "Dataset Name:  reddit  Best AUC Score (structural):  84.64586802095081\n",
      "Dataset Name:  reddit  Best AUC Score (joint-type):  53.173684080051274\n",
      "Dataset Name:  reddit  Best AUC Score (structure type):  84.0504611948401\n",
      "===========================================================================================\n"
     ]
    },
    {
     "name": "stderr",
     "output_type": "stream",
     "text": [
      " 10%|▉         | 48/500 [00:05<00:44, 10.23it/s]"
     ]
    },
    {
     "name": "stdout",
     "output_type": "stream",
     "text": [
      "Dataset Name:  reddit , AUC Score(benchmark/combined):  55.66757192395221\n",
      "Dataset Name:  reddit , AUC Score (contextual):  53.84461467087392\n",
      "Dataset Name:  reddit , AUC Score (structural):  46.68429145754634\n",
      "Dataset Name:  reddit , AUC Score (joint-type):  50.551406138775846\n",
      "Dataset Name:  reddit , AUC Score (structure type):  50.551406138775846\n",
      "===========================================================================================\n",
      "Dataset Name:  reddit  Best AUC Score(benchmark/combined):  55.66757192395221\n",
      "Dataset Name:  reddit  Best AUC Score (contextual):  54.67921154841461\n",
      "Dataset Name:  reddit  Best AUC Score (structural):  84.64586802095081\n",
      "Dataset Name:  reddit  Best AUC Score (joint-type):  53.173684080051274\n",
      "Dataset Name:  reddit  Best AUC Score (structure type):  84.0504611948401\n",
      "===========================================================================================\n",
      "Dataset Name:  reddit , AUC Score(benchmark/combined):  56.10568763014039\n",
      "Dataset Name:  reddit , AUC Score (contextual):  54.1469799143269\n",
      "Dataset Name:  reddit , AUC Score (structural):  43.91364515553646\n",
      "Dataset Name:  reddit , AUC Score (joint-type):  50.41736167922116\n",
      "Dataset Name:  reddit , AUC Score (structure type):  50.41736167922116\n",
      "===========================================================================================\n",
      "Dataset Name:  reddit  Best AUC Score(benchmark/combined):  56.10568763014039\n",
      "Dataset Name:  reddit  Best AUC Score (contextual):  54.67921154841461\n",
      "Dataset Name:  reddit  Best AUC Score (structural):  84.64586802095081\n",
      "Dataset Name:  reddit  Best AUC Score (joint-type):  53.173684080051274\n",
      "Dataset Name:  reddit  Best AUC Score (structure type):  84.0504611948401\n",
      "===========================================================================================\n",
      "Dataset Name:  reddit , AUC Score(benchmark/combined):  56.05413325346071\n",
      "Dataset Name:  reddit , AUC Score (contextual):  54.21940287860414\n",
      "Dataset Name:  reddit , AUC Score (structural):  41.48092006978303\n"
     ]
    },
    {
     "name": "stderr",
     "output_type": "stream",
     "text": [
      " 10%|█         | 50/500 [00:05<00:44, 10.22it/s]"
     ]
    },
    {
     "name": "stdout",
     "output_type": "stream",
     "text": [
      "Dataset Name:  reddit , AUC Score (joint-type):  50.739280870067184\n",
      "Dataset Name:  reddit , AUC Score (structure type):  50.739280870067184\n",
      "===========================================================================================\n",
      "Dataset Name:  reddit  Best AUC Score(benchmark/combined):  56.10568763014039\n",
      "Dataset Name:  reddit  Best AUC Score (contextual):  54.67921154841461\n",
      "Dataset Name:  reddit  Best AUC Score (structural):  84.64586802095081\n",
      "Dataset Name:  reddit  Best AUC Score (joint-type):  53.173684080051274\n",
      "Dataset Name:  reddit  Best AUC Score (structure type):  84.0504611948401\n",
      "===========================================================================================\n",
      "Dataset Name:  reddit , AUC Score(benchmark/combined):  55.39775739104748\n",
      "Dataset Name:  reddit , AUC Score (contextual):  53.85326596454588\n",
      "Dataset Name:  reddit , AUC Score (structural):  42.702724880197174\n",
      "Dataset Name:  reddit , AUC Score (joint-type):  51.08358718050292\n",
      "Dataset Name:  reddit , AUC Score (structure type):  51.08358718050292\n",
      "===========================================================================================\n",
      "Dataset Name:  reddit  Best AUC Score(benchmark/combined):  56.10568763014039\n",
      "Dataset Name:  reddit  Best AUC Score (contextual):  54.67921154841461\n",
      "Dataset Name:  reddit  Best AUC Score (structural):  84.64586802095081\n",
      "Dataset Name:  reddit  Best AUC Score (joint-type):  53.173684080051274\n",
      "Dataset Name:  reddit  Best AUC Score (structure type):  84.0504611948401\n",
      "===========================================================================================\n",
      "Dataset Name:  reddit , AUC Score(benchmark/combined):  54.11012025151639\n",
      "Dataset Name:  reddit , AUC Score (contextual):  54.24740575022653\n",
      "Dataset Name:  reddit , AUC Score (structural):  49.294220951751974\n",
      "Dataset Name:  reddit , AUC Score (joint-type):  50.99345688999652\n",
      "Dataset Name:  reddit , AUC Score (structure type):  50.99345688999652\n",
      "===========================================================================================\n",
      "Dataset Name:  reddit  Best AUC Score(benchmark/combined):  56.10568763014039\n",
      "Dataset Name:  reddit  Best AUC Score (contextual):  54.67921154841461\n"
     ]
    },
    {
     "name": "stderr",
     "output_type": "stream",
     "text": [
      " 10%|█         | 52/500 [00:06<00:43, 10.21it/s]"
     ]
    },
    {
     "name": "stdout",
     "output_type": "stream",
     "text": [
      "Dataset Name:  reddit  Best AUC Score (structural):  84.64586802095081\n",
      "Dataset Name:  reddit  Best AUC Score (joint-type):  53.173684080051274\n",
      "Dataset Name:  reddit  Best AUC Score (structure type):  84.0504611948401\n",
      "===========================================================================================\n",
      "Dataset Name:  reddit , AUC Score(benchmark/combined):  54.62217731103076\n",
      "Dataset Name:  reddit , AUC Score (contextual):  53.64343414873041\n",
      "Dataset Name:  reddit , AUC Score (structural):  50.78655270893301\n",
      "Dataset Name:  reddit , AUC Score (joint-type):  50.62683934851206\n",
      "Dataset Name:  reddit , AUC Score (structure type):  50.62683934851206\n",
      "===========================================================================================\n",
      "Dataset Name:  reddit  Best AUC Score(benchmark/combined):  56.10568763014039\n",
      "Dataset Name:  reddit  Best AUC Score (contextual):  54.67921154841461\n",
      "Dataset Name:  reddit  Best AUC Score (structural):  84.64586802095081\n",
      "Dataset Name:  reddit  Best AUC Score (joint-type):  53.173684080051274\n",
      "Dataset Name:  reddit  Best AUC Score (structure type):  84.0504611948401\n",
      "===========================================================================================\n",
      "Dataset Name:  reddit , AUC Score(benchmark/combined):  55.01560912647561\n",
      "Dataset Name:  reddit , AUC Score (contextual):  53.59289238043634\n",
      "Dataset Name:  reddit , AUC Score (structural):  52.055980261295154\n",
      "Dataset Name:  reddit , AUC Score (joint-type):  50.72784699655921\n",
      "Dataset Name:  reddit , AUC Score (structure type):  50.72784699655921\n",
      "===========================================================================================\n",
      "Dataset Name:  reddit  Best AUC Score(benchmark/combined):  56.10568763014039\n",
      "Dataset Name:  reddit  Best AUC Score (contextual):  54.67921154841461\n",
      "Dataset Name:  reddit  Best AUC Score (structural):  84.64586802095081\n",
      "Dataset Name:  reddit  Best AUC Score (joint-type):  53.173684080051274\n",
      "Dataset Name:  reddit  Best AUC Score (structure type):  84.0504611948401\n",
      "===========================================================================================\n"
     ]
    },
    {
     "name": "stderr",
     "output_type": "stream",
     "text": [
      " 11%|█         | 54/500 [00:06<00:43, 10.22it/s]"
     ]
    },
    {
     "name": "stdout",
     "output_type": "stream",
     "text": [
      "Dataset Name:  reddit , AUC Score(benchmark/combined):  55.471814539080455\n",
      "Dataset Name:  reddit , AUC Score (contextual):  53.860070637053944\n",
      "Dataset Name:  reddit , AUC Score (structural):  50.93770783560538\n",
      "Dataset Name:  reddit , AUC Score (joint-type):  50.76298339103391\n",
      "Dataset Name:  reddit , AUC Score (structure type):  50.76298339103391\n",
      "===========================================================================================\n",
      "Dataset Name:  reddit  Best AUC Score(benchmark/combined):  56.10568763014039\n",
      "Dataset Name:  reddit  Best AUC Score (contextual):  54.67921154841461\n",
      "Dataset Name:  reddit  Best AUC Score (structural):  84.64586802095081\n",
      "Dataset Name:  reddit  Best AUC Score (joint-type):  53.173684080051274\n",
      "Dataset Name:  reddit  Best AUC Score (structure type):  84.0504611948401\n",
      "===========================================================================================\n",
      "Dataset Name:  reddit , AUC Score(benchmark/combined):  55.54742848261587\n",
      "Dataset Name:  reddit , AUC Score (contextual):  53.928345027757494\n",
      "Dataset Name:  reddit , AUC Score (structural):  50.99633446787122\n",
      "Dataset Name:  reddit , AUC Score (joint-type):  50.68469171292074\n",
      "Dataset Name:  reddit , AUC Score (structure type):  50.68469171292074\n",
      "===========================================================================================\n",
      "Dataset Name:  reddit  Best AUC Score(benchmark/combined):  56.10568763014039\n",
      "Dataset Name:  reddit  Best AUC Score (contextual):  54.67921154841461\n",
      "Dataset Name:  reddit  Best AUC Score (structural):  84.64586802095081\n",
      "Dataset Name:  reddit  Best AUC Score (joint-type):  53.173684080051274\n",
      "Dataset Name:  reddit  Best AUC Score (structure type):  84.0504611948401\n",
      "===========================================================================================\n",
      "Dataset Name:  reddit , AUC Score(benchmark/combined):  55.214711691765814\n",
      "Dataset Name:  reddit , AUC Score (contextual):  53.895384104790956\n",
      "Dataset Name:  reddit , AUC Score (structural):  52.02533248723727\n"
     ]
    },
    {
     "name": "stderr",
     "output_type": "stream",
     "text": [
      " 11%|█         | 56/500 [00:06<00:43, 10.22it/s]"
     ]
    },
    {
     "name": "stdout",
     "output_type": "stream",
     "text": [
      "Dataset Name:  reddit , AUC Score (joint-type):  50.636123046692184\n",
      "Dataset Name:  reddit , AUC Score (structure type):  50.636123046692184\n",
      "===========================================================================================\n",
      "Dataset Name:  reddit  Best AUC Score(benchmark/combined):  56.10568763014039\n",
      "Dataset Name:  reddit  Best AUC Score (contextual):  54.67921154841461\n",
      "Dataset Name:  reddit  Best AUC Score (structural):  84.64586802095081\n",
      "Dataset Name:  reddit  Best AUC Score (joint-type):  53.173684080051274\n",
      "Dataset Name:  reddit  Best AUC Score (structure type):  84.0504611948401\n",
      "===========================================================================================\n",
      "Dataset Name:  reddit , AUC Score(benchmark/combined):  55.94127201257376\n",
      "Dataset Name:  reddit , AUC Score (contextual):  54.22033883727626\n",
      "Dataset Name:  reddit , AUC Score (structural):  52.51361478625797\n",
      "Dataset Name:  reddit , AUC Score (joint-type):  50.33901940874732\n",
      "Dataset Name:  reddit , AUC Score (structure type):  50.33901940874732\n",
      "===========================================================================================\n",
      "Dataset Name:  reddit  Best AUC Score(benchmark/combined):  56.10568763014039\n",
      "Dataset Name:  reddit  Best AUC Score (contextual):  54.67921154841461\n",
      "Dataset Name:  reddit  Best AUC Score (structural):  84.64586802095081\n",
      "Dataset Name:  reddit  Best AUC Score (joint-type):  53.173684080051274\n",
      "Dataset Name:  reddit  Best AUC Score (structure type):  84.0504611948401\n",
      "===========================================================================================\n",
      "Dataset Name:  reddit , AUC Score(benchmark/combined):  55.64267606199186\n",
      "Dataset Name:  reddit , AUC Score (contextual):  54.00157746980522\n",
      "Dataset Name:  reddit , AUC Score (structural):  52.530425640688996\n",
      "Dataset Name:  reddit , AUC Score (joint-type):  50.37645775563182\n",
      "Dataset Name:  reddit , AUC Score (structure type):  50.37645775563182\n",
      "===========================================================================================\n",
      "Dataset Name:  reddit  Best AUC Score(benchmark/combined):  56.10568763014039\n",
      "Dataset Name:  reddit  Best AUC Score (contextual):  54.67921154841461\n"
     ]
    },
    {
     "name": "stderr",
     "output_type": "stream",
     "text": [
      " 12%|█▏        | 58/500 [00:06<00:43, 10.21it/s]"
     ]
    },
    {
     "name": "stdout",
     "output_type": "stream",
     "text": [
      "Dataset Name:  reddit  Best AUC Score (structural):  84.64586802095081\n",
      "Dataset Name:  reddit  Best AUC Score (joint-type):  53.173684080051274\n",
      "Dataset Name:  reddit  Best AUC Score (structure type):  84.0504611948401\n",
      "===========================================================================================\n",
      "Dataset Name:  reddit , AUC Score(benchmark/combined):  55.66139620625662\n",
      "Dataset Name:  reddit , AUC Score (contextual):  54.08882399575429\n",
      "Dataset Name:  reddit , AUC Score (structural):  51.817155393232426\n",
      "Dataset Name:  reddit , AUC Score (joint-type):  50.438736951597775\n",
      "Dataset Name:  reddit , AUC Score (structure type):  50.438736951597775\n",
      "===========================================================================================\n",
      "Dataset Name:  reddit  Best AUC Score(benchmark/combined):  56.10568763014039\n",
      "Dataset Name:  reddit  Best AUC Score (contextual):  54.67921154841461\n",
      "Dataset Name:  reddit  Best AUC Score (structural):  84.64586802095081\n",
      "Dataset Name:  reddit  Best AUC Score (joint-type):  53.173684080051274\n",
      "Dataset Name:  reddit  Best AUC Score (structure type):  84.0504611948401\n",
      "===========================================================================================\n",
      "Dataset Name:  reddit , AUC Score(benchmark/combined):  55.49677473143348\n",
      "Dataset Name:  reddit , AUC Score (contextual):  53.99216729072344\n",
      "Dataset Name:  reddit , AUC Score (structural):  50.33691332753798\n",
      "Dataset Name:  reddit , AUC Score (joint-type):  50.61317941113528\n",
      "Dataset Name:  reddit , AUC Score (structure type):  50.61317941113528\n",
      "===========================================================================================\n",
      "Dataset Name:  reddit  Best AUC Score(benchmark/combined):  56.10568763014039\n",
      "Dataset Name:  reddit  Best AUC Score (contextual):  54.67921154841461\n",
      "Dataset Name:  reddit  Best AUC Score (structural):  84.64586802095081\n",
      "Dataset Name:  reddit  Best AUC Score (joint-type):  53.173684080051274\n",
      "Dataset Name:  reddit  Best AUC Score (structure type):  84.0504611948401\n",
      "===========================================================================================\n"
     ]
    },
    {
     "name": "stderr",
     "output_type": "stream",
     "text": [
      " 12%|█▏        | 62/500 [00:07<00:42, 10.23it/s]"
     ]
    },
    {
     "name": "stdout",
     "output_type": "stream",
     "text": [
      "Dataset Name:  reddit , AUC Score(benchmark/combined):  55.82022794574015\n",
      "Dataset Name:  reddit , AUC Score (contextual):  54.17510926685092\n",
      "Dataset Name:  reddit , AUC Score (structural):  50.08434271399235\n",
      "Dataset Name:  reddit , AUC Score (joint-type):  50.6303049252169\n",
      "Dataset Name:  reddit , AUC Score (structure type):  50.6303049252169\n",
      "===========================================================================================\n",
      "Dataset Name:  reddit  Best AUC Score(benchmark/combined):  56.10568763014039\n",
      "Dataset Name:  reddit  Best AUC Score (contextual):  54.67921154841461\n",
      "Dataset Name:  reddit  Best AUC Score (structural):  84.64586802095081\n",
      "Dataset Name:  reddit  Best AUC Score (joint-type):  53.173684080051274\n",
      "Dataset Name:  reddit  Best AUC Score (structure type):  84.0504611948401\n",
      "===========================================================================================\n",
      "Dataset Name:  reddit , AUC Score(benchmark/combined):  56.49654622987874\n",
      "Dataset Name:  reddit , AUC Score (contextual):  54.57913985903956\n",
      "Dataset Name:  reddit , AUC Score (structural):  49.59155475454926\n",
      "Dataset Name:  reddit , AUC Score (joint-type):  50.34888491907499\n",
      "Dataset Name:  reddit , AUC Score (structure type):  50.34888491907499\n",
      "===========================================================================================\n",
      "Dataset Name:  reddit  Best AUC Score(benchmark/combined):  56.49654622987874\n",
      "Dataset Name:  reddit  Best AUC Score (contextual):  54.67921154841461\n",
      "Dataset Name:  reddit  Best AUC Score (structural):  84.64586802095081\n",
      "Dataset Name:  reddit  Best AUC Score (joint-type):  53.173684080051274\n",
      "Dataset Name:  reddit  Best AUC Score (structure type):  84.0504611948401\n",
      "===========================================================================================\n",
      "Dataset Name:  reddit , AUC Score(benchmark/combined):  56.51786532200707\n",
      "Dataset Name:  reddit , AUC Score (contextual):  54.63544915644827\n",
      "Dataset Name:  reddit , AUC Score (structural):  49.775542519310676\n"
     ]
    },
    {
     "name": "stderr",
     "output_type": "stream",
     "text": [
      " 13%|█▎        | 64/500 [00:07<00:42, 10.23it/s]"
     ]
    },
    {
     "name": "stdout",
     "output_type": "stream",
     "text": [
      "Dataset Name:  reddit , AUC Score (joint-type):  50.330621076878636\n",
      "Dataset Name:  reddit , AUC Score (structure type):  50.330621076878636\n",
      "===========================================================================================\n",
      "Dataset Name:  reddit  Best AUC Score(benchmark/combined):  56.51786532200707\n",
      "Dataset Name:  reddit  Best AUC Score (contextual):  54.67921154841461\n",
      "Dataset Name:  reddit  Best AUC Score (structural):  84.64586802095081\n",
      "Dataset Name:  reddit  Best AUC Score (joint-type):  53.173684080051274\n",
      "Dataset Name:  reddit  Best AUC Score (structure type):  84.0504611948401\n",
      "===========================================================================================\n",
      "Dataset Name:  reddit , AUC Score(benchmark/combined):  56.3526777397285\n",
      "Dataset Name:  reddit , AUC Score (contextual):  54.55047928672866\n",
      "Dataset Name:  reddit , AUC Score (structural):  50.57198347858203\n",
      "Dataset Name:  reddit , AUC Score (joint-type):  50.28422788215825\n",
      "Dataset Name:  reddit , AUC Score (structure type):  50.28422788215825\n",
      "===========================================================================================\n",
      "Dataset Name:  reddit  Best AUC Score(benchmark/combined):  56.51786532200707\n",
      "Dataset Name:  reddit  Best AUC Score (contextual):  54.67921154841461\n",
      "Dataset Name:  reddit  Best AUC Score (structural):  84.64586802095081\n",
      "Dataset Name:  reddit  Best AUC Score (joint-type):  53.173684080051274\n",
      "Dataset Name:  reddit  Best AUC Score (structure type):  84.0504611948401\n",
      "===========================================================================================\n",
      "Dataset Name:  reddit , AUC Score(benchmark/combined):  56.47750443365067\n",
      "Dataset Name:  reddit , AUC Score (contextual):  54.428197551026194\n",
      "Dataset Name:  reddit , AUC Score (structural):  51.19220139473233\n",
      "Dataset Name:  reddit , AUC Score (joint-type):  50.23087823784784\n",
      "Dataset Name:  reddit , AUC Score (structure type):  50.23087823784784\n",
      "===========================================================================================\n",
      "Dataset Name:  reddit  Best AUC Score(benchmark/combined):  56.51786532200707\n",
      "Dataset Name:  reddit  Best AUC Score (contextual):  54.67921154841461\n"
     ]
    },
    {
     "name": "stderr",
     "output_type": "stream",
     "text": [
      " 13%|█▎        | 66/500 [00:07<00:42, 10.23it/s]"
     ]
    },
    {
     "name": "stdout",
     "output_type": "stream",
     "text": [
      "Dataset Name:  reddit  Best AUC Score (structural):  84.64586802095081\n",
      "Dataset Name:  reddit  Best AUC Score (joint-type):  53.173684080051274\n",
      "Dataset Name:  reddit  Best AUC Score (structure type):  84.0504611948401\n",
      "===========================================================================================\n",
      "Dataset Name:  reddit , AUC Score(benchmark/combined):  56.624885363240274\n",
      "Dataset Name:  reddit , AUC Score (contextual):  54.23040671704654\n",
      "Dataset Name:  reddit , AUC Score (structural):  51.28401044225759\n",
      "Dataset Name:  reddit , AUC Score (joint-type):  50.0227412661143\n",
      "Dataset Name:  reddit , AUC Score (structure type):  50.0227412661143\n",
      "===========================================================================================\n",
      "Dataset Name:  reddit  Best AUC Score(benchmark/combined):  56.624885363240274\n",
      "Dataset Name:  reddit  Best AUC Score (contextual):  54.67921154841461\n",
      "Dataset Name:  reddit  Best AUC Score (structural):  84.64586802095081\n",
      "Dataset Name:  reddit  Best AUC Score (joint-type):  53.173684080051274\n",
      "Dataset Name:  reddit  Best AUC Score (structure type):  84.0504611948401\n",
      "===========================================================================================\n",
      "Dataset Name:  reddit , AUC Score(benchmark/combined):  56.845744467328906\n",
      "Dataset Name:  reddit , AUC Score (contextual):  54.26435419104587\n",
      "Dataset Name:  reddit , AUC Score (structural):  51.22237340553\n",
      "Dataset Name:  reddit , AUC Score (joint-type):  49.708613298809105\n",
      "Dataset Name:  reddit , AUC Score (structure type):  49.708613298809105\n",
      "===========================================================================================\n",
      "Dataset Name:  reddit  Best AUC Score(benchmark/combined):  56.845744467328906\n",
      "Dataset Name:  reddit  Best AUC Score (contextual):  54.67921154841461\n",
      "Dataset Name:  reddit  Best AUC Score (structural):  84.64586802095081\n",
      "Dataset Name:  reddit  Best AUC Score (joint-type):  53.173684080051274\n",
      "Dataset Name:  reddit  Best AUC Score (structure type):  84.0504611948401\n",
      "===========================================================================================\n"
     ]
    },
    {
     "name": "stderr",
     "output_type": "stream",
     "text": [
      " 14%|█▎        | 68/500 [00:07<00:42, 10.23it/s]"
     ]
    },
    {
     "name": "stdout",
     "output_type": "stream",
     "text": [
      "Dataset Name:  reddit , AUC Score(benchmark/combined):  57.16816839535297\n",
      "Dataset Name:  reddit , AUC Score (contextual):  54.32600098250364\n",
      "Dataset Name:  reddit , AUC Score (structural):  50.927784773321186\n",
      "Dataset Name:  reddit , AUC Score (joint-type):  49.832792248036135\n",
      "Dataset Name:  reddit , AUC Score (structure type):  49.832792248036135\n",
      "===========================================================================================\n",
      "Dataset Name:  reddit  Best AUC Score(benchmark/combined):  57.16816839535297\n",
      "Dataset Name:  reddit  Best AUC Score (contextual):  54.67921154841461\n",
      "Dataset Name:  reddit  Best AUC Score (structural):  84.64586802095081\n",
      "Dataset Name:  reddit  Best AUC Score (joint-type):  53.173684080051274\n",
      "Dataset Name:  reddit  Best AUC Score (structure type):  84.0504611948401\n",
      "===========================================================================================\n",
      "Dataset Name:  reddit , AUC Score(benchmark/combined):  57.52895896956092\n",
      "Dataset Name:  reddit , AUC Score (contextual):  54.62156155344855\n",
      "Dataset Name:  reddit , AUC Score (structural):  49.422197953322815\n",
      "Dataset Name:  reddit , AUC Score (joint-type):  49.245010201949526\n",
      "Dataset Name:  reddit , AUC Score (structure type):  49.245010201949526\n",
      "===========================================================================================\n",
      "Dataset Name:  reddit  Best AUC Score(benchmark/combined):  57.52895896956092\n",
      "Dataset Name:  reddit  Best AUC Score (contextual):  54.67921154841461\n",
      "Dataset Name:  reddit  Best AUC Score (structural):  84.64586802095081\n",
      "Dataset Name:  reddit  Best AUC Score (joint-type):  53.173684080051274\n",
      "Dataset Name:  reddit  Best AUC Score (structure type):  84.0504611948401\n",
      "===========================================================================================\n",
      "Dataset Name:  reddit , AUC Score(benchmark/combined):  57.84956878051191\n",
      "Dataset Name:  reddit , AUC Score (contextual):  54.696792393742136\n",
      "Dataset Name:  reddit , AUC Score (structural):  48.0193494741407\n"
     ]
    },
    {
     "name": "stderr",
     "output_type": "stream",
     "text": [
      " 14%|█▍        | 70/500 [00:07<00:42, 10.24it/s]"
     ]
    },
    {
     "name": "stdout",
     "output_type": "stream",
     "text": [
      "Dataset Name:  reddit , AUC Score (joint-type):  49.259833763621366\n",
      "Dataset Name:  reddit , AUC Score (structure type):  49.259833763621366\n",
      "===========================================================================================\n",
      "Dataset Name:  reddit  Best AUC Score(benchmark/combined):  57.84956878051191\n",
      "Dataset Name:  reddit  Best AUC Score (contextual):  54.696792393742136\n",
      "Dataset Name:  reddit  Best AUC Score (structural):  84.64586802095081\n",
      "Dataset Name:  reddit  Best AUC Score (joint-type):  53.173684080051274\n",
      "Dataset Name:  reddit  Best AUC Score (structure type):  84.0504611948401\n",
      "===========================================================================================\n",
      "Dataset Name:  reddit , AUC Score(benchmark/combined):  58.31157679453489\n",
      "Dataset Name:  reddit , AUC Score (contextual):  54.56929964489222\n",
      "Dataset Name:  reddit , AUC Score (structural):  47.67786086228859\n",
      "Dataset Name:  reddit , AUC Score (joint-type):  49.858670240511024\n",
      "Dataset Name:  reddit , AUC Score (structure type):  49.858670240511024\n",
      "===========================================================================================\n",
      "Dataset Name:  reddit  Best AUC Score(benchmark/combined):  58.31157679453489\n",
      "Dataset Name:  reddit  Best AUC Score (contextual):  54.696792393742136\n",
      "Dataset Name:  reddit  Best AUC Score (structural):  84.64586802095081\n",
      "Dataset Name:  reddit  Best AUC Score (joint-type):  53.173684080051274\n",
      "Dataset Name:  reddit  Best AUC Score (structure type):  84.0504611948401\n",
      "===========================================================================================\n",
      "Dataset Name:  reddit , AUC Score(benchmark/combined):  57.416445112794335\n",
      "Dataset Name:  reddit , AUC Score (contextual):  53.30036735113072\n",
      "Dataset Name:  reddit , AUC Score (structural):  53.38490640228154\n",
      "Dataset Name:  reddit , AUC Score (joint-type):  49.41226854627405\n",
      "Dataset Name:  reddit , AUC Score (structure type):  49.41226854627405\n",
      "===========================================================================================\n",
      "Dataset Name:  reddit  Best AUC Score(benchmark/combined):  58.31157679453489\n",
      "Dataset Name:  reddit  Best AUC Score (contextual):  54.696792393742136\n"
     ]
    },
    {
     "name": "stderr",
     "output_type": "stream",
     "text": [
      " 14%|█▍        | 72/500 [00:08<00:41, 10.24it/s]"
     ]
    },
    {
     "name": "stdout",
     "output_type": "stream",
     "text": [
      "Dataset Name:  reddit  Best AUC Score (structural):  84.64586802095081\n",
      "Dataset Name:  reddit  Best AUC Score (joint-type):  53.173684080051274\n",
      "Dataset Name:  reddit  Best AUC Score (structure type):  84.0504611948401\n",
      "===========================================================================================\n",
      "Dataset Name:  reddit , AUC Score(benchmark/combined):  56.6008515285416\n",
      "Dataset Name:  reddit , AUC Score (contextual):  53.690055009073745\n",
      "Dataset Name:  reddit , AUC Score (structural):  60.814059119304176\n",
      "Dataset Name:  reddit , AUC Score (joint-type):  49.3177367203907\n",
      "Dataset Name:  reddit , AUC Score (structure type):  49.3177367203907\n",
      "===========================================================================================\n",
      "Dataset Name:  reddit  Best AUC Score(benchmark/combined):  58.31157679453489\n",
      "Dataset Name:  reddit  Best AUC Score (contextual):  54.696792393742136\n",
      "Dataset Name:  reddit  Best AUC Score (structural):  84.64586802095081\n",
      "Dataset Name:  reddit  Best AUC Score (joint-type):  53.173684080051274\n",
      "Dataset Name:  reddit  Best AUC Score (structure type):  84.0504611948401\n",
      "===========================================================================================\n",
      "Dataset Name:  reddit , AUC Score(benchmark/combined):  56.17647679422612\n",
      "Dataset Name:  reddit , AUC Score (contextual):  53.723344782384544\n",
      "Dataset Name:  reddit , AUC Score (structural):  64.22453904010534\n",
      "Dataset Name:  reddit , AUC Score (joint-type):  49.08316524021506\n",
      "Dataset Name:  reddit , AUC Score (structure type):  49.08316524021506\n",
      "===========================================================================================\n",
      "Dataset Name:  reddit  Best AUC Score(benchmark/combined):  58.31157679453489\n",
      "Dataset Name:  reddit  Best AUC Score (contextual):  54.696792393742136\n",
      "Dataset Name:  reddit  Best AUC Score (structural):  84.64586802095081\n",
      "Dataset Name:  reddit  Best AUC Score (joint-type):  53.173684080051274\n",
      "Dataset Name:  reddit  Best AUC Score (structure type):  84.0504611948401\n",
      "===========================================================================================\n"
     ]
    },
    {
     "name": "stderr",
     "output_type": "stream",
     "text": [
      " 15%|█▌        | 76/500 [00:08<00:41, 10.25it/s]"
     ]
    },
    {
     "name": "stdout",
     "output_type": "stream",
     "text": [
      "Dataset Name:  reddit , AUC Score(benchmark/combined):  54.528653786178126\n",
      "Dataset Name:  reddit , AUC Score (contextual):  53.564763027912306\n",
      "Dataset Name:  reddit , AUC Score (structural):  70.17254623855268\n",
      "Dataset Name:  reddit , AUC Score (joint-type):  49.52369822061608\n",
      "Dataset Name:  reddit , AUC Score (structure type):  49.52369822061608\n",
      "===========================================================================================\n",
      "Dataset Name:  reddit  Best AUC Score(benchmark/combined):  58.31157679453489\n",
      "Dataset Name:  reddit  Best AUC Score (contextual):  54.696792393742136\n",
      "Dataset Name:  reddit  Best AUC Score (structural):  84.64586802095081\n",
      "Dataset Name:  reddit  Best AUC Score (joint-type):  53.173684080051274\n",
      "Dataset Name:  reddit  Best AUC Score (structure type):  84.0504611948401\n",
      "===========================================================================================\n",
      "Dataset Name:  reddit , AUC Score(benchmark/combined):  54.1651356033213\n",
      "Dataset Name:  reddit , AUC Score (contextual):  54.030136857394815\n",
      "Dataset Name:  reddit , AUC Score (structural):  68.01219147498546\n",
      "Dataset Name:  reddit , AUC Score (joint-type):  49.48395792132179\n",
      "Dataset Name:  reddit , AUC Score (structure type):  49.48395792132179\n",
      "===========================================================================================\n",
      "Dataset Name:  reddit  Best AUC Score(benchmark/combined):  58.31157679453489\n",
      "Dataset Name:  reddit  Best AUC Score (contextual):  54.696792393742136\n",
      "Dataset Name:  reddit  Best AUC Score (structural):  84.64586802095081\n",
      "Dataset Name:  reddit  Best AUC Score (joint-type):  53.173684080051274\n",
      "Dataset Name:  reddit  Best AUC Score (structure type):  84.0504611948401\n",
      "===========================================================================================\n",
      "Dataset Name:  reddit , AUC Score(benchmark/combined):  55.482158866220566\n",
      "Dataset Name:  reddit , AUC Score (contextual):  55.627691829789086\n",
      "Dataset Name:  reddit , AUC Score (structural):  53.036569783363596\n"
     ]
    },
    {
     "name": "stderr",
     "output_type": "stream",
     "text": [
      " 16%|█▌        | 78/500 [00:08<00:41, 10.23it/s]"
     ]
    },
    {
     "name": "stdout",
     "output_type": "stream",
     "text": [
      "Dataset Name:  reddit , AUC Score (joint-type):  50.25273413765068\n",
      "Dataset Name:  reddit , AUC Score (structure type):  50.25273413765068\n",
      "===========================================================================================\n",
      "Dataset Name:  reddit  Best AUC Score(benchmark/combined):  58.31157679453489\n",
      "Dataset Name:  reddit  Best AUC Score (contextual):  55.627691829789086\n",
      "Dataset Name:  reddit  Best AUC Score (structural):  84.64586802095081\n",
      "Dataset Name:  reddit  Best AUC Score (joint-type):  53.173684080051274\n",
      "Dataset Name:  reddit  Best AUC Score (structure type):  84.0504611948401\n",
      "===========================================================================================\n",
      "Dataset Name:  reddit , AUC Score(benchmark/combined):  56.81188094863141\n",
      "Dataset Name:  reddit , AUC Score (contextual):  57.07450686361262\n",
      "Dataset Name:  reddit , AUC Score (structural):  50.226025675965104\n",
      "Dataset Name:  reddit , AUC Score (joint-type):  50.637160190085616\n",
      "Dataset Name:  reddit , AUC Score (structure type):  50.637160190085616\n",
      "===========================================================================================\n",
      "Dataset Name:  reddit  Best AUC Score(benchmark/combined):  58.31157679453489\n",
      "Dataset Name:  reddit  Best AUC Score (contextual):  57.07450686361262\n",
      "Dataset Name:  reddit  Best AUC Score (structural):  84.64586802095081\n",
      "Dataset Name:  reddit  Best AUC Score (joint-type):  53.173684080051274\n",
      "Dataset Name:  reddit  Best AUC Score (structure type):  84.0504611948401\n",
      "===========================================================================================\n",
      "Dataset Name:  reddit , AUC Score(benchmark/combined):  56.51575528512773\n",
      "Dataset Name:  reddit , AUC Score (contextual):  56.79111375540516\n",
      "Dataset Name:  reddit , AUC Score (structural):  50.57554590104256\n",
      "Dataset Name:  reddit , AUC Score (joint-type):  51.01642582173377\n",
      "Dataset Name:  reddit , AUC Score (structure type):  51.01642582173377\n",
      "===========================================================================================\n",
      "Dataset Name:  reddit  Best AUC Score(benchmark/combined):  58.31157679453489\n",
      "Dataset Name:  reddit  Best AUC Score (contextual):  57.07450686361262\n"
     ]
    },
    {
     "name": "stderr",
     "output_type": "stream",
     "text": [
      " 16%|█▌        | 80/500 [00:08<00:41, 10.19it/s]"
     ]
    },
    {
     "name": "stdout",
     "output_type": "stream",
     "text": [
      "Dataset Name:  reddit  Best AUC Score (structural):  84.64586802095081\n",
      "Dataset Name:  reddit  Best AUC Score (joint-type):  53.173684080051274\n",
      "Dataset Name:  reddit  Best AUC Score (structure type):  84.0504611948401\n",
      "===========================================================================================\n",
      "Dataset Name:  reddit , AUC Score(benchmark/combined):  57.0096711739113\n",
      "Dataset Name:  reddit , AUC Score (contextual):  57.067095082776696\n",
      "Dataset Name:  reddit , AUC Score (structural):  45.25026142113635\n",
      "Dataset Name:  reddit , AUC Score (joint-type):  50.94483763140734\n",
      "Dataset Name:  reddit , AUC Score (structure type):  50.94483763140734\n",
      "===========================================================================================\n",
      "Dataset Name:  reddit  Best AUC Score(benchmark/combined):  58.31157679453489\n",
      "Dataset Name:  reddit  Best AUC Score (contextual):  57.07450686361262\n",
      "Dataset Name:  reddit  Best AUC Score (structural):  84.64586802095081\n",
      "Dataset Name:  reddit  Best AUC Score (joint-type):  53.173684080051274\n",
      "Dataset Name:  reddit  Best AUC Score (structure type):  84.0504611948401\n",
      "===========================================================================================\n",
      "Dataset Name:  reddit , AUC Score(benchmark/combined):  56.27330690126159\n",
      "Dataset Name:  reddit , AUC Score (contextual):  57.03006147477744\n",
      "Dataset Name:  reddit , AUC Score (structural):  32.90606477143802\n",
      "Dataset Name:  reddit , AUC Score (joint-type):  51.3301237539734\n",
      "Dataset Name:  reddit , AUC Score (structure type):  51.3301237539734\n",
      "===========================================================================================\n",
      "Dataset Name:  reddit  Best AUC Score(benchmark/combined):  58.31157679453489\n",
      "Dataset Name:  reddit  Best AUC Score (contextual):  57.07450686361262\n",
      "Dataset Name:  reddit  Best AUC Score (structural):  84.64586802095081\n",
      "Dataset Name:  reddit  Best AUC Score (joint-type):  53.173684080051274\n"
     ]
    },
    {
     "name": "stderr",
     "output_type": "stream",
     "text": [
      " 16%|█▋        | 82/500 [00:09<00:41, 10.19it/s]"
     ]
    },
    {
     "name": "stdout",
     "output_type": "stream",
     "text": [
      "Dataset Name:  reddit  Best AUC Score (structure type):  84.0504611948401\n",
      "===========================================================================================\n",
      "Dataset Name:  reddit , AUC Score(benchmark/combined):  56.043171354551035\n",
      "Dataset Name:  reddit , AUC Score (contextual):  56.7036901561938\n",
      "Dataset Name:  reddit , AUC Score (structural):  31.930083687917865\n",
      "Dataset Name:  reddit , AUC Score (joint-type):  51.31127809962951\n",
      "Dataset Name:  reddit , AUC Score (structure type):  51.31127809962951\n",
      "===========================================================================================\n",
      "Dataset Name:  reddit  Best AUC Score(benchmark/combined):  58.31157679453489\n",
      "Dataset Name:  reddit  Best AUC Score (contextual):  57.07450686361262\n",
      "Dataset Name:  reddit  Best AUC Score (structural):  84.64586802095081\n",
      "Dataset Name:  reddit  Best AUC Score (joint-type):  53.173684080051274\n",
      "Dataset Name:  reddit  Best AUC Score (structure type):  84.0504611948401\n",
      "===========================================================================================\n",
      "Dataset Name:  reddit , AUC Score(benchmark/combined):  57.16722917162011\n",
      "Dataset Name:  reddit , AUC Score (contextual):  57.24189168883876\n",
      "Dataset Name:  reddit , AUC Score (structural):  35.41650835519856\n",
      "Dataset Name:  reddit , AUC Score (joint-type):  50.74077334470649\n",
      "Dataset Name:  reddit , AUC Score (structure type):  50.74077334470649\n",
      "===========================================================================================\n",
      "Dataset Name:  reddit  Best AUC Score(benchmark/combined):  58.31157679453489\n",
      "Dataset Name:  reddit  Best AUC Score (contextual):  57.24189168883876\n",
      "Dataset Name:  reddit  Best AUC Score (structural):  84.64586802095081\n",
      "Dataset Name:  reddit  Best AUC Score (joint-type):  53.173684080051274\n",
      "Dataset Name:  reddit  Best AUC Score (structure type):  84.0504611948401\n",
      "===========================================================================================\n"
     ]
    },
    {
     "name": "stderr",
     "output_type": "stream",
     "text": [
      " 17%|█▋        | 84/500 [00:09<00:40, 10.20it/s]"
     ]
    },
    {
     "name": "stdout",
     "output_type": "stream",
     "text": [
      "Dataset Name:  reddit , AUC Score(benchmark/combined):  57.63955578062616\n",
      "Dataset Name:  reddit , AUC Score (contextual):  57.42915931180224\n",
      "Dataset Name:  reddit , AUC Score (structural):  37.41786370029103\n",
      "Dataset Name:  reddit , AUC Score (joint-type):  50.45158741120409\n",
      "Dataset Name:  reddit , AUC Score (structure type):  50.45158741120409\n",
      "===========================================================================================\n",
      "Dataset Name:  reddit  Best AUC Score(benchmark/combined):  58.31157679453489\n",
      "Dataset Name:  reddit  Best AUC Score (contextual):  57.42915931180224\n",
      "Dataset Name:  reddit  Best AUC Score (structural):  84.64586802095081\n",
      "Dataset Name:  reddit  Best AUC Score (joint-type):  53.173684080051274\n",
      "Dataset Name:  reddit  Best AUC Score (structure type):  84.0504611948401\n",
      "===========================================================================================\n",
      "Dataset Name:  reddit , AUC Score(benchmark/combined):  57.61841681359729\n",
      "Dataset Name:  reddit , AUC Score (contextual):  57.267289053887424\n",
      "Dataset Name:  reddit , AUC Score (structural):  41.463374849065346\n",
      "Dataset Name:  reddit , AUC Score (joint-type):  50.31597458846908\n",
      "Dataset Name:  reddit , AUC Score (structure type):  50.31597458846908\n",
      "===========================================================================================\n",
      "Dataset Name:  reddit  Best AUC Score(benchmark/combined):  58.31157679453489\n",
      "Dataset Name:  reddit  Best AUC Score (contextual):  57.42915931180224\n",
      "Dataset Name:  reddit  Best AUC Score (structural):  84.64586802095081\n",
      "Dataset Name:  reddit  Best AUC Score (joint-type):  53.173684080051274\n",
      "Dataset Name:  reddit  Best AUC Score (structure type):  84.0504611948401\n",
      "===========================================================================================\n",
      "Dataset Name:  reddit , AUC Score(benchmark/combined):  57.50861769940106\n",
      "Dataset Name:  reddit , AUC Score (contextual):  57.223956696986654\n",
      "Dataset Name:  reddit , AUC Score (structural):  43.93762561310467\n",
      "Dataset Name:  reddit , AUC Score (joint-type):  50.30226405873166\n"
     ]
    },
    {
     "name": "stderr",
     "output_type": "stream",
     "text": [
      " 17%|█▋        | 86/500 [00:09<00:40, 10.24it/s]"
     ]
    },
    {
     "name": "stdout",
     "output_type": "stream",
     "text": [
      "Dataset Name:  reddit , AUC Score (structure type):  50.30226405873166\n",
      "===========================================================================================\n",
      "Dataset Name:  reddit  Best AUC Score(benchmark/combined):  58.31157679453489\n",
      "Dataset Name:  reddit  Best AUC Score (contextual):  57.42915931180224\n",
      "Dataset Name:  reddit  Best AUC Score (structural):  84.64586802095081\n",
      "Dataset Name:  reddit  Best AUC Score (joint-type):  53.173684080051274\n",
      "Dataset Name:  reddit  Best AUC Score (structure type):  84.0504611948401\n",
      "===========================================================================================\n",
      "Dataset Name:  reddit , AUC Score(benchmark/combined):  57.325005892663974\n",
      "Dataset Name:  reddit , AUC Score (contextual):  57.05616713287528\n",
      "Dataset Name:  reddit , AUC Score (structural):  47.25022097297068\n",
      "Dataset Name:  reddit , AUC Score (joint-type):  50.22920868994623\n",
      "Dataset Name:  reddit , AUC Score (structure type):  50.22920868994623\n",
      "===========================================================================================\n",
      "Dataset Name:  reddit  Best AUC Score(benchmark/combined):  58.31157679453489\n",
      "Dataset Name:  reddit  Best AUC Score (contextual):  57.42915931180224\n",
      "Dataset Name:  reddit  Best AUC Score (structural):  84.64586802095081\n",
      "Dataset Name:  reddit  Best AUC Score (joint-type):  53.173684080051274\n",
      "Dataset Name:  reddit  Best AUC Score (structure type):  84.0504611948401\n",
      "===========================================================================================\n",
      "Dataset Name:  reddit , AUC Score(benchmark/combined):  57.320361238313744\n",
      "Dataset Name:  reddit , AUC Score (contextual):  56.84633531705979\n",
      "Dataset Name:  reddit , AUC Score (structural):  50.28711566782905\n",
      "Dataset Name:  reddit , AUC Score (joint-type):  50.14891861358719\n",
      "Dataset Name:  reddit , AUC Score (structure type):  50.14891861358719\n",
      "===========================================================================================\n",
      "Dataset Name:  reddit  Best AUC Score(benchmark/combined):  58.31157679453489\n",
      "Dataset Name:  reddit  Best AUC Score (contextual):  57.42915931180224\n",
      "Dataset Name:  reddit  Best AUC Score (structural):  84.64586802095081\n"
     ]
    },
    {
     "name": "stderr",
     "output_type": "stream",
     "text": [
      " 18%|█▊        | 88/500 [00:09<00:40, 10.23it/s]"
     ]
    },
    {
     "name": "stdout",
     "output_type": "stream",
     "text": [
      "Dataset Name:  reddit  Best AUC Score (joint-type):  53.173684080051274\n",
      "Dataset Name:  reddit  Best AUC Score (structure type):  84.0504611948401\n",
      "===========================================================================================\n",
      "Dataset Name:  reddit , AUC Score(benchmark/combined):  57.260225187252914\n",
      "Dataset Name:  reddit , AUC Score (contextual):  56.761618409143466\n",
      "Dataset Name:  reddit , AUC Score (structural):  51.92080050235295\n",
      "Dataset Name:  reddit , AUC Score (joint-type):  50.06969097680189\n",
      "Dataset Name:  reddit , AUC Score (structure type):  50.06969097680189\n",
      "===========================================================================================\n",
      "Dataset Name:  reddit  Best AUC Score(benchmark/combined):  58.31157679453489\n",
      "Dataset Name:  reddit  Best AUC Score (contextual):  57.42915931180224\n",
      "Dataset Name:  reddit  Best AUC Score (structural):  84.64586802095081\n",
      "Dataset Name:  reddit  Best AUC Score (joint-type):  53.173684080051274\n",
      "Dataset Name:  reddit  Best AUC Score (structure type):  84.0504611948401\n",
      "===========================================================================================\n",
      "Dataset Name:  reddit , AUC Score(benchmark/combined):  57.265809065336\n",
      "Dataset Name:  reddit , AUC Score (contextual):  56.66898379678466\n",
      "Dataset Name:  reddit , AUC Score (structural):  52.90489442697217\n",
      "Dataset Name:  reddit , AUC Score (joint-type):  49.99058982091823\n",
      "Dataset Name:  reddit , AUC Score (structure type):  49.99058982091823\n",
      "===========================================================================================\n",
      "Dataset Name:  reddit  Best AUC Score(benchmark/combined):  58.31157679453489\n",
      "Dataset Name:  reddit  Best AUC Score (contextual):  57.42915931180224\n",
      "Dataset Name:  reddit  Best AUC Score (structural):  84.64586802095081\n",
      "Dataset Name:  reddit  Best AUC Score (joint-type):  53.173684080051274\n",
      "Dataset Name:  reddit  Best AUC Score (structure type):  84.0504611948401\n",
      "===========================================================================================\n"
     ]
    },
    {
     "name": "stderr",
     "output_type": "stream",
     "text": [
      " 18%|█▊        | 92/500 [00:10<00:40, 10.20it/s]"
     ]
    },
    {
     "name": "stdout",
     "output_type": "stream",
     "text": [
      "Dataset Name:  reddit , AUC Score(benchmark/combined):  57.21842329810086\n",
      "Dataset Name:  reddit , AUC Score (contextual):  56.58864312806495\n",
      "Dataset Name:  reddit , AUC Score (structural):  53.41653388395886\n",
      "Dataset Name:  reddit , AUC Score (joint-type):  49.964863605525295\n",
      "Dataset Name:  reddit , AUC Score (structure type):  49.964863605525295\n",
      "===========================================================================================\n",
      "Dataset Name:  reddit  Best AUC Score(benchmark/combined):  58.31157679453489\n",
      "Dataset Name:  reddit  Best AUC Score (contextual):  57.42915931180224\n",
      "Dataset Name:  reddit  Best AUC Score (structural):  84.64586802095081\n",
      "Dataset Name:  reddit  Best AUC Score (joint-type):  53.173684080051274\n",
      "Dataset Name:  reddit  Best AUC Score (structure type):  84.0504611948401\n",
      "===========================================================================================\n",
      "Dataset Name:  reddit , AUC Score(benchmark/combined):  57.34797184284446\n",
      "Dataset Name:  reddit , AUC Score (contextual):  56.61176383688415\n",
      "Dataset Name:  reddit , AUC Score (structural):  53.77240811801316\n",
      "Dataset Name:  reddit , AUC Score (joint-type):  49.84860236074073\n",
      "Dataset Name:  reddit , AUC Score (structure type):  49.84860236074073\n",
      "===========================================================================================\n",
      "Dataset Name:  reddit  Best AUC Score(benchmark/combined):  58.31157679453489\n",
      "Dataset Name:  reddit  Best AUC Score (contextual):  57.42915931180224\n",
      "Dataset Name:  reddit  Best AUC Score (structural):  84.64586802095081\n",
      "Dataset Name:  reddit  Best AUC Score (joint-type):  53.173684080051274\n",
      "Dataset Name:  reddit  Best AUC Score (structure type):  84.0504611948401\n",
      "===========================================================================================\n"
     ]
    },
    {
     "name": "stderr",
     "output_type": "stream",
     "text": [
      " 19%|█▉        | 94/500 [00:10<00:41,  9.78it/s]"
     ]
    },
    {
     "name": "stdout",
     "output_type": "stream",
     "text": [
      "Dataset Name:  reddit , AUC Score(benchmark/combined):  57.1421145863247\n",
      "Dataset Name:  reddit , AUC Score (contextual):  56.542351118065866\n",
      "Dataset Name:  reddit , AUC Score (structural):  54.03047238815917\n",
      "Dataset Name:  reddit , AUC Score (joint-type):  49.92884184473912\n",
      "Dataset Name:  reddit , AUC Score (structure type):  49.92884184473912\n",
      "===========================================================================================\n",
      "Dataset Name:  reddit  Best AUC Score(benchmark/combined):  58.31157679453489\n",
      "Dataset Name:  reddit  Best AUC Score (contextual):  57.42915931180224\n",
      "Dataset Name:  reddit  Best AUC Score (structural):  84.64586802095081\n",
      "Dataset Name:  reddit  Best AUC Score (joint-type):  53.173684080051274\n",
      "Dataset Name:  reddit  Best AUC Score (structure type):  84.0504611948401\n",
      "===========================================================================================\n",
      "Dataset Name:  reddit , AUC Score(benchmark/combined):  57.07953398034269\n",
      "Dataset Name:  reddit , AUC Score (contextual):  56.5284129227055\n",
      "Dataset Name:  reddit , AUC Score (structural):  54.584779686798576\n",
      "Dataset Name:  reddit , AUC Score (joint-type):  49.89944768319873\n",
      "Dataset Name:  reddit , AUC Score (structure type):  49.89944768319873\n",
      "===========================================================================================\n",
      "Dataset Name:  reddit  Best AUC Score(benchmark/combined):  58.31157679453489\n",
      "Dataset Name:  reddit  Best AUC Score (contextual):  57.42915931180224\n",
      "Dataset Name:  reddit  Best AUC Score (structural):  84.64586802095081\n",
      "Dataset Name:  reddit  Best AUC Score (joint-type):  53.173684080051274\n",
      "Dataset Name:  reddit  Best AUC Score (structure type):  84.0504611948401\n",
      "===========================================================================================\n"
     ]
    },
    {
     "name": "stderr",
     "output_type": "stream",
     "text": [
      " 19%|█▉        | 96/500 [00:10<00:42,  9.56it/s]"
     ]
    },
    {
     "name": "stdout",
     "output_type": "stream",
     "text": [
      "Dataset Name:  reddit , AUC Score(benchmark/combined):  57.10599950388401\n",
      "Dataset Name:  reddit , AUC Score (contextual):  56.62097164652331\n",
      "Dataset Name:  reddit , AUC Score (structural):  54.27832515418377\n",
      "Dataset Name:  reddit , AUC Score (joint-type):  49.92967661868993\n",
      "Dataset Name:  reddit , AUC Score (structure type):  49.92967661868993\n",
      "===========================================================================================\n",
      "Dataset Name:  reddit  Best AUC Score(benchmark/combined):  58.31157679453489\n",
      "Dataset Name:  reddit  Best AUC Score (contextual):  57.42915931180224\n",
      "Dataset Name:  reddit  Best AUC Score (structural):  84.64586802095081\n",
      "Dataset Name:  reddit  Best AUC Score (joint-type):  53.173684080051274\n",
      "Dataset Name:  reddit  Best AUC Score (structure type):  84.0504611948401\n",
      "===========================================================================================\n",
      "Dataset Name:  reddit , AUC Score(benchmark/combined):  57.11878838594531\n",
      "Dataset Name:  reddit , AUC Score (contextual):  56.68727293516134\n",
      "Dataset Name:  reddit , AUC Score (structural):  53.26223573588806\n",
      "Dataset Name:  reddit , AUC Score (joint-type):  49.968177405148175\n",
      "Dataset Name:  reddit , AUC Score (structure type):  49.968177405148175\n",
      "===========================================================================================\n",
      "Dataset Name:  reddit  Best AUC Score(benchmark/combined):  58.31157679453489\n",
      "Dataset Name:  reddit  Best AUC Score (contextual):  57.42915931180224\n",
      "Dataset Name:  reddit  Best AUC Score (structural):  84.64586802095081\n",
      "Dataset Name:  reddit  Best AUC Score (joint-type):  53.173684080051274\n",
      "Dataset Name:  reddit  Best AUC Score (structure type):  84.0504611948401\n",
      "===========================================================================================\n"
     ]
    },
    {
     "name": "stderr",
     "output_type": "stream",
     "text": [
      " 20%|█▉        | 98/500 [00:10<00:42,  9.41it/s]"
     ]
    },
    {
     "name": "stdout",
     "output_type": "stream",
     "text": [
      "Dataset Name:  reddit , AUC Score(benchmark/combined):  57.16729350201276\n",
      "Dataset Name:  reddit , AUC Score (contextual):  56.800979265732835\n",
      "Dataset Name:  reddit , AUC Score (structural):  52.424971968095015\n",
      "Dataset Name:  reddit , AUC Score (joint-type):  49.97986424045943\n",
      "Dataset Name:  reddit , AUC Score (structure type):  49.97986424045943\n",
      "===========================================================================================\n",
      "Dataset Name:  reddit  Best AUC Score(benchmark/combined):  58.31157679453489\n",
      "Dataset Name:  reddit  Best AUC Score (contextual):  57.42915931180224\n",
      "Dataset Name:  reddit  Best AUC Score (structural):  84.64586802095081\n",
      "Dataset Name:  reddit  Best AUC Score (joint-type):  53.173684080051274\n",
      "Dataset Name:  reddit  Best AUC Score (structure type):  84.0504611948401\n",
      "===========================================================================================\n",
      "Dataset Name:  reddit , AUC Score(benchmark/combined):  57.14888214363278\n",
      "Dataset Name:  reddit , AUC Score (contextual):  56.832751268224\n",
      "Dataset Name:  reddit , AUC Score (structural):  51.83899242956217\n",
      "Dataset Name:  reddit , AUC Score (joint-type):  49.93187738637841\n",
      "Dataset Name:  reddit , AUC Score (structure type):  49.93187738637841\n",
      "===========================================================================================\n",
      "Dataset Name:  reddit  Best AUC Score(benchmark/combined):  58.31157679453489\n",
      "Dataset Name:  reddit  Best AUC Score (contextual):  57.42915931180224\n",
      "Dataset Name:  reddit  Best AUC Score (structural):  84.64586802095081\n",
      "Dataset Name:  reddit  Best AUC Score (joint-type):  53.173684080051274\n",
      "Dataset Name:  reddit  Best AUC Score (structure type):  84.0504611948401\n",
      "===========================================================================================\n"
     ]
    },
    {
     "name": "stderr",
     "output_type": "stream",
     "text": [
      " 20%|██        | 100/500 [00:10<00:44,  9.03it/s]"
     ]
    },
    {
     "name": "stdout",
     "output_type": "stream",
     "text": [
      "Dataset Name:  reddit , AUC Score(benchmark/combined):  57.155508174077006\n",
      "Dataset Name:  reddit , AUC Score (contextual):  56.82875447173228\n",
      "Dataset Name:  reddit , AUC Score (structural):  51.41691582073638\n",
      "Dataset Name:  reddit , AUC Score (joint-type):  49.89373074644475\n",
      "Dataset Name:  reddit , AUC Score (structure type):  49.89373074644475\n",
      "===========================================================================================\n",
      "Dataset Name:  reddit  Best AUC Score(benchmark/combined):  58.31157679453489\n",
      "Dataset Name:  reddit  Best AUC Score (contextual):  57.42915931180224\n",
      "Dataset Name:  reddit  Best AUC Score (structural):  84.64586802095081\n",
      "Dataset Name:  reddit  Best AUC Score (joint-type):  53.173684080051274\n",
      "Dataset Name:  reddit  Best AUC Score (structure type):  84.0504611948401\n",
      "===========================================================================================\n",
      "Dataset Name:  reddit , AUC Score(benchmark/combined):  57.16201840981445\n",
      "Dataset Name:  reddit , AUC Score (contextual):  56.84618353997784\n",
      "Dataset Name:  reddit , AUC Score (structural):  50.97010283780352\n",
      "Dataset Name:  reddit , AUC Score (joint-type):  49.95509927991893\n",
      "Dataset Name:  reddit , AUC Score (structure type):  49.95509927991893\n",
      "===========================================================================================\n",
      "Dataset Name:  reddit  Best AUC Score(benchmark/combined):  58.31157679453489\n",
      "Dataset Name:  reddit  Best AUC Score (contextual):  57.42915931180224\n",
      "Dataset Name:  reddit  Best AUC Score (structural):  84.64586802095081\n",
      "Dataset Name:  reddit  Best AUC Score (joint-type):  53.173684080051274\n",
      "Dataset Name:  reddit  Best AUC Score (structure type):  84.0504611948401\n",
      "===========================================================================================\n"
     ]
    },
    {
     "name": "stderr",
     "output_type": "stream",
     "text": [
      " 20%|██        | 102/500 [00:11<00:42,  9.46it/s]"
     ]
    },
    {
     "name": "stdout",
     "output_type": "stream",
     "text": [
      "Dataset Name:  reddit , AUC Score(benchmark/combined):  57.2108709100023\n",
      "Dataset Name:  reddit , AUC Score (contextual):  56.80388832647048\n",
      "Dataset Name:  reddit , AUC Score (structural):  50.20629724892795\n",
      "Dataset Name:  reddit , AUC Score (joint-type):  50.07702686909682\n",
      "Dataset Name:  reddit , AUC Score (structure type):  50.07702686909682\n",
      "===========================================================================================\n",
      "Dataset Name:  reddit  Best AUC Score(benchmark/combined):  58.31157679453489\n",
      "Dataset Name:  reddit  Best AUC Score (contextual):  57.42915931180224\n",
      "Dataset Name:  reddit  Best AUC Score (structural):  84.64586802095081\n",
      "Dataset Name:  reddit  Best AUC Score (joint-type):  53.173684080051274\n",
      "Dataset Name:  reddit  Best AUC Score (structure type):  84.0504611948401\n",
      "===========================================================================================\n",
      "Dataset Name:  reddit , AUC Score(benchmark/combined):  57.22126670145654\n",
      "Dataset Name:  reddit , AUC Score (contextual):  56.75443429393048\n",
      "Dataset Name:  reddit , AUC Score (structural):  49.68261783180592\n",
      "Dataset Name:  reddit , AUC Score (joint-type):  50.07801342012959\n",
      "Dataset Name:  reddit , AUC Score (structure type):  50.07801342012959\n",
      "===========================================================================================\n",
      "Dataset Name:  reddit  Best AUC Score(benchmark/combined):  58.31157679453489\n",
      "Dataset Name:  reddit  Best AUC Score (contextual):  57.42915931180224\n",
      "Dataset Name:  reddit  Best AUC Score (structural):  84.64586802095081\n",
      "Dataset Name:  reddit  Best AUC Score (joint-type):  53.173684080051274\n",
      "Dataset Name:  reddit  Best AUC Score (structure type):  84.0504611948401\n",
      "===========================================================================================\n",
      "Dataset Name:  reddit , AUC Score(benchmark/combined):  57.125723202274315\n"
     ]
    },
    {
     "name": "stderr",
     "output_type": "stream",
     "text": [
      " 21%|██        | 104/500 [00:11<00:41,  9.64it/s]"
     ]
    },
    {
     "name": "stdout",
     "output_type": "stream",
     "text": [
      "Dataset Name:  reddit , AUC Score (contextual):  56.70556207353803\n",
      "Dataset Name:  reddit , AUC Score (structural):  49.659731463964995\n",
      "Dataset Name:  reddit , AUC Score (joint-type):  50.09850332619475\n",
      "Dataset Name:  reddit , AUC Score (structure type):  50.09850332619475\n",
      "===========================================================================================\n",
      "Dataset Name:  reddit  Best AUC Score(benchmark/combined):  58.31157679453489\n",
      "Dataset Name:  reddit  Best AUC Score (contextual):  57.42915931180224\n",
      "Dataset Name:  reddit  Best AUC Score (structural):  84.64586802095081\n",
      "Dataset Name:  reddit  Best AUC Score (joint-type):  53.173684080051274\n",
      "Dataset Name:  reddit  Best AUC Score (structure type):  84.0504611948401\n",
      "===========================================================================================\n",
      "Dataset Name:  reddit , AUC Score(benchmark/combined):  57.14965410834474\n",
      "Dataset Name:  reddit , AUC Score (contextual):  56.71401099776736\n",
      "Dataset Name:  reddit , AUC Score (structural):  49.755772649480846\n",
      "Dataset Name:  reddit , AUC Score (joint-type):  50.05441208388416\n",
      "Dataset Name:  reddit , AUC Score (structure type):  50.05441208388416\n",
      "===========================================================================================\n",
      "Dataset Name:  reddit  Best AUC Score(benchmark/combined):  58.31157679453489\n",
      "Dataset Name:  reddit  Best AUC Score (contextual):  57.42915931180224\n",
      "Dataset Name:  reddit  Best AUC Score (structural):  84.64586802095081\n",
      "Dataset Name:  reddit  Best AUC Score (joint-type):  53.173684080051274\n",
      "Dataset Name:  reddit  Best AUC Score (structure type):  84.0504611948401\n",
      "===========================================================================================\n"
     ]
    },
    {
     "name": "stderr",
     "output_type": "stream",
     "text": [
      " 21%|██        | 105/500 [00:11<00:41,  9.60it/s]"
     ]
    },
    {
     "name": "stdout",
     "output_type": "stream",
     "text": [
      "Dataset Name:  reddit , AUC Score(benchmark/combined):  57.1476212679366\n",
      "Dataset Name:  reddit , AUC Score (contextual):  56.72025915430823\n",
      "Dataset Name:  reddit , AUC Score (structural):  49.87451785454973\n",
      "Dataset Name:  reddit , AUC Score (joint-type):  50.04672204506464\n",
      "Dataset Name:  reddit , AUC Score (structure type):  50.04672204506464\n",
      "===========================================================================================\n",
      "Dataset Name:  reddit  Best AUC Score(benchmark/combined):  58.31157679453489\n",
      "Dataset Name:  reddit  Best AUC Score (contextual):  57.42915931180224\n",
      "Dataset Name:  reddit  Best AUC Score (structural):  84.64586802095081\n",
      "Dataset Name:  reddit  Best AUC Score (joint-type):  53.173684080051274\n",
      "Dataset Name:  reddit  Best AUC Score (structure type):  84.0504611948401\n",
      "===========================================================================================\n",
      "Dataset Name:  reddit , AUC Score(benchmark/combined):  57.11280565942769\n",
      "Dataset Name:  reddit , AUC Score (contextual):  56.696581929521805\n",
      "Dataset Name:  reddit , AUC Score (structural):  49.93327047290536\n",
      "Dataset Name:  reddit , AUC Score (joint-type):  50.01505122729477\n",
      "Dataset Name:  reddit , AUC Score (structure type):  50.01505122729477\n",
      "===========================================================================================\n",
      "Dataset Name:  reddit  Best AUC Score(benchmark/combined):  58.31157679453489\n",
      "Dataset Name:  reddit  Best AUC Score (contextual):  57.42915931180224\n",
      "Dataset Name:  reddit  Best AUC Score (structural):  84.64586802095081\n",
      "Dataset Name:  reddit  Best AUC Score (joint-type):  53.173684080051274\n",
      "Dataset Name:  reddit  Best AUC Score (structure type):  84.0504611948401\n",
      "===========================================================================================\n",
      "Dataset Name:  reddit , AUC Score(benchmark/combined):  57.12495123756236\n",
      "Dataset Name:  reddit , AUC Score (contextual):  56.68497098275155\n"
     ]
    },
    {
     "name": "stderr",
     "output_type": "stream",
     "text": [
      " 21%|██▏       | 107/500 [00:11<00:40,  9.80it/s]"
     ]
    },
    {
     "name": "stdout",
     "output_type": "stream",
     "text": [
      "Dataset Name:  reddit , AUC Score (structural):  50.01135366748824\n",
      "Dataset Name:  reddit , AUC Score (joint-type):  49.973616083918564\n",
      "Dataset Name:  reddit , AUC Score (structure type):  49.973616083918564\n",
      "===========================================================================================\n",
      "Dataset Name:  reddit  Best AUC Score(benchmark/combined):  58.31157679453489\n",
      "Dataset Name:  reddit  Best AUC Score (contextual):  57.42915931180224\n",
      "Dataset Name:  reddit  Best AUC Score (structural):  84.64586802095081\n",
      "Dataset Name:  reddit  Best AUC Score (joint-type):  53.173684080051274\n",
      "Dataset Name:  reddit  Best AUC Score (structure type):  84.0504611948401\n",
      "===========================================================================================\n",
      "Dataset Name:  reddit , AUC Score(benchmark/combined):  57.1659554298454\n",
      "Dataset Name:  reddit , AUC Score (contextual):  56.67416951375177\n",
      "Dataset Name:  reddit , AUC Score (structural):  50.04941970143949\n",
      "Dataset Name:  reddit , AUC Score (joint-type):  49.98269741265607\n",
      "Dataset Name:  reddit , AUC Score (structure type):  49.98269741265607\n",
      "===========================================================================================\n",
      "Dataset Name:  reddit  Best AUC Score(benchmark/combined):  58.31157679453489\n",
      "Dataset Name:  reddit  Best AUC Score (contextual):  57.42915931180224\n",
      "Dataset Name:  reddit  Best AUC Score (structural):  84.64586802095081\n",
      "Dataset Name:  reddit  Best AUC Score (joint-type):  53.173684080051274\n",
      "Dataset Name:  reddit  Best AUC Score (structure type):  84.0504611948401\n",
      "===========================================================================================\n",
      "Dataset Name:  reddit , AUC Score(benchmark/combined):  57.20364017386703\n",
      "Dataset Name:  reddit , AUC Score (contextual):  56.62577792078552\n",
      "Dataset Name:  reddit , AUC Score (structural):  50.17179529514893\n",
      "Dataset Name:  reddit , AUC Score (joint-type):  49.94396896057489\n"
     ]
    },
    {
     "name": "stderr",
     "output_type": "stream",
     "text": [
      " 22%|██▏       | 109/500 [00:11<00:39,  9.92it/s]"
     ]
    },
    {
     "name": "stdout",
     "output_type": "stream",
     "text": [
      "Dataset Name:  reddit , AUC Score (structure type):  49.94396896057489\n",
      "===========================================================================================\n",
      "Dataset Name:  reddit  Best AUC Score(benchmark/combined):  58.31157679453489\n",
      "Dataset Name:  reddit  Best AUC Score (contextual):  57.42915931180224\n",
      "Dataset Name:  reddit  Best AUC Score (structural):  84.64586802095081\n",
      "Dataset Name:  reddit  Best AUC Score (joint-type):  53.173684080051274\n",
      "Dataset Name:  reddit  Best AUC Score (structure type):  84.0504611948401\n",
      "===========================================================================================\n",
      "Dataset Name:  reddit , AUC Score(benchmark/combined):  57.18646395902618\n",
      "Dataset Name:  reddit , AUC Score (contextual):  56.52917180811532\n",
      "Dataset Name:  reddit , AUC Score (structural):  50.11416992075475\n",
      "Dataset Name:  reddit , AUC Score (joint-type):  49.92259368819828\n",
      "Dataset Name:  reddit , AUC Score (structure type):  49.92259368819828\n",
      "===========================================================================================\n",
      "Dataset Name:  reddit  Best AUC Score(benchmark/combined):  58.31157679453489\n",
      "Dataset Name:  reddit  Best AUC Score (contextual):  57.42915931180224\n",
      "Dataset Name:  reddit  Best AUC Score (structural):  84.64586802095081\n",
      "Dataset Name:  reddit  Best AUC Score (joint-type):  53.173684080051274\n",
      "Dataset Name:  reddit  Best AUC Score (structure type):  84.0504611948401\n",
      "===========================================================================================\n",
      "Dataset Name:  reddit , AUC Score(benchmark/combined):  57.21269789315391\n",
      "Dataset Name:  reddit , AUC Score (contextual):  56.47339373049347\n",
      "Dataset Name:  reddit , AUC Score (structural):  50.03947674661479\n",
      "Dataset Name:  reddit , AUC Score (joint-type):  49.87270962059271\n",
      "Dataset Name:  reddit , AUC Score (structure type):  49.87270962059271\n",
      "===========================================================================================\n",
      "Dataset Name:  reddit  Best AUC Score(benchmark/combined):  58.31157679453489\n",
      "Dataset Name:  reddit  Best AUC Score (contextual):  57.42915931180224\n"
     ]
    },
    {
     "name": "stderr",
     "output_type": "stream",
     "text": [
      " 22%|██▏       | 111/500 [00:12<00:38,  9.98it/s]"
     ]
    },
    {
     "name": "stdout",
     "output_type": "stream",
     "text": [
      "Dataset Name:  reddit  Best AUC Score (structural):  84.64586802095081\n",
      "Dataset Name:  reddit  Best AUC Score (joint-type):  53.173684080051274\n",
      "Dataset Name:  reddit  Best AUC Score (structure type):  84.0504611948401\n",
      "===========================================================================================\n",
      "Dataset Name:  reddit , AUC Score(benchmark/combined):  57.249816529720135\n",
      "Dataset Name:  reddit , AUC Score (contextual):  56.437296081166345\n",
      "Dataset Name:  reddit , AUC Score (structural):  49.94296311326216\n",
      "Dataset Name:  reddit , AUC Score (joint-type):  49.84974068885547\n",
      "Dataset Name:  reddit , AUC Score (structure type):  49.84974068885547\n",
      "===========================================================================================\n",
      "Dataset Name:  reddit  Best AUC Score(benchmark/combined):  58.31157679453489\n",
      "Dataset Name:  reddit  Best AUC Score (contextual):  57.42915931180224\n",
      "Dataset Name:  reddit  Best AUC Score (structural):  84.64586802095081\n",
      "Dataset Name:  reddit  Best AUC Score (joint-type):  53.173684080051274\n",
      "Dataset Name:  reddit  Best AUC Score (structure type):  84.0504611948401\n",
      "===========================================================================================\n",
      "Dataset Name:  reddit , AUC Score(benchmark/combined):  57.2780061077848\n",
      "Dataset Name:  reddit , AUC Score (contextual):  56.42285196219942\n",
      "Dataset Name:  reddit , AUC Score (structural):  49.879766169817316\n",
      "Dataset Name:  reddit , AUC Score (joint-type):  49.86195874395358\n",
      "Dataset Name:  reddit , AUC Score (structure type):  49.86195874395358\n",
      "===========================================================================================\n",
      "Dataset Name:  reddit  Best AUC Score(benchmark/combined):  58.31157679453489\n",
      "Dataset Name:  reddit  Best AUC Score (contextual):  57.42915931180224\n",
      "Dataset Name:  reddit  Best AUC Score (structural):  84.64586802095081\n",
      "Dataset Name:  reddit  Best AUC Score (joint-type):  53.173684080051274\n"
     ]
    },
    {
     "name": "stderr",
     "output_type": "stream",
     "text": [
      " 23%|██▎       | 114/500 [00:12<00:38,  9.94it/s]"
     ]
    },
    {
     "name": "stdout",
     "output_type": "stream",
     "text": [
      "Dataset Name:  reddit  Best AUC Score (structure type):  84.0504611948401\n",
      "===========================================================================================\n",
      "Dataset Name:  reddit , AUC Score(benchmark/combined):  57.30054747737372\n",
      "Dataset Name:  reddit , AUC Score (contextual):  56.410178575855404\n",
      "Dataset Name:  reddit , AUC Score (structural):  49.86327525374593\n",
      "Dataset Name:  reddit , AUC Score (joint-type):  49.82659468385593\n",
      "Dataset Name:  reddit , AUC Score (structure type):  49.82659468385593\n",
      "===========================================================================================\n",
      "Dataset Name:  reddit  Best AUC Score(benchmark/combined):  58.31157679453489\n",
      "Dataset Name:  reddit  Best AUC Score (contextual):  57.42915931180224\n",
      "Dataset Name:  reddit  Best AUC Score (structural):  84.64586802095081\n",
      "Dataset Name:  reddit  Best AUC Score (joint-type):  53.173684080051274\n",
      "Dataset Name:  reddit  Best AUC Score (structure type):  84.0504611948401\n",
      "===========================================================================================\n",
      "Dataset Name:  reddit , AUC Score(benchmark/combined):  57.33837374825922\n",
      "Dataset Name:  reddit , AUC Score (contextual):  56.431452663510704\n",
      "Dataset Name:  reddit , AUC Score (structural):  49.90475451610401\n",
      "Dataset Name:  reddit , AUC Score (joint-type):  49.815388475970906\n",
      "Dataset Name:  reddit , AUC Score (structure type):  49.815388475970906\n",
      "===========================================================================================\n",
      "Dataset Name:  reddit  Best AUC Score(benchmark/combined):  58.31157679453489\n",
      "Dataset Name:  reddit  Best AUC Score (contextual):  57.42915931180224\n",
      "Dataset Name:  reddit  Best AUC Score (structural):  84.64586802095081\n"
     ]
    },
    {
     "name": "stderr",
     "output_type": "stream",
     "text": [
      " 23%|██▎       | 115/500 [00:12<00:38,  9.95it/s]"
     ]
    },
    {
     "name": "stdout",
     "output_type": "stream",
     "text": [
      "Dataset Name:  reddit  Best AUC Score (joint-type):  53.173684080051274\n",
      "Dataset Name:  reddit  Best AUC Score (structure type):  84.0504611948401\n",
      "===========================================================================================\n",
      "Dataset Name:  reddit , AUC Score(benchmark/combined):  57.3220852928371\n",
      "Dataset Name:  reddit , AUC Score (contextual):  56.438763259625325\n",
      "Dataset Name:  reddit , AUC Score (structural):  49.926117446885264\n",
      "Dataset Name:  reddit , AUC Score (joint-type):  49.82909900570833\n",
      "Dataset Name:  reddit , AUC Score (structure type):  49.82909900570833\n",
      "===========================================================================================\n",
      "Dataset Name:  reddit  Best AUC Score(benchmark/combined):  58.31157679453489\n",
      "Dataset Name:  reddit  Best AUC Score (contextual):  57.42915931180224\n",
      "Dataset Name:  reddit  Best AUC Score (structural):  84.64586802095081\n",
      "Dataset Name:  reddit  Best AUC Score (joint-type):  53.173684080051274\n",
      "Dataset Name:  reddit  Best AUC Score (structure type):  84.0504611948401\n",
      "===========================================================================================\n",
      "Dataset Name:  reddit , AUC Score(benchmark/combined):  57.268742531241415\n",
      "Dataset Name:  reddit , AUC Score (contextual):  56.43507001729753\n",
      "Dataset Name:  reddit , AUC Score (structural):  49.91825492025412\n",
      "Dataset Name:  reddit , AUC Score (joint-type):  49.813111819741444\n",
      "Dataset Name:  reddit , AUC Score (structure type):  49.813111819741444\n",
      "===========================================================================================\n",
      "Dataset Name:  reddit  Best AUC Score(benchmark/combined):  58.31157679453489\n",
      "Dataset Name:  reddit  Best AUC Score (contextual):  57.42915931180224\n",
      "Dataset Name:  reddit  Best AUC Score (structural):  84.64586802095081\n",
      "Dataset Name:  reddit  Best AUC Score (joint-type):  53.173684080051274\n",
      "Dataset Name:  reddit  Best AUC Score (structure type):  84.0504611948401\n",
      "===========================================================================================\n"
     ]
    },
    {
     "name": "stderr",
     "output_type": "stream",
     "text": [
      " 24%|██▍       | 119/500 [00:12<00:37, 10.08it/s]"
     ]
    },
    {
     "name": "stdout",
     "output_type": "stream",
     "text": [
      "Dataset Name:  reddit , AUC Score(benchmark/combined):  57.29752394891858\n",
      "Dataset Name:  reddit , AUC Score (contextual):  56.346735755594366\n",
      "Dataset Name:  reddit , AUC Score (structural):  49.96328168566736\n",
      "Dataset Name:  reddit , AUC Score (joint-type):  49.76294949415229\n",
      "Dataset Name:  reddit , AUC Score (structure type):  49.76294949415229\n",
      "===========================================================================================\n",
      "Dataset Name:  reddit  Best AUC Score(benchmark/combined):  58.31157679453489\n",
      "Dataset Name:  reddit  Best AUC Score (contextual):  57.42915931180224\n",
      "Dataset Name:  reddit  Best AUC Score (structural):  84.64586802095081\n",
      "Dataset Name:  reddit  Best AUC Score (joint-type):  53.173684080051274\n",
      "Dataset Name:  reddit  Best AUC Score (structure type):  84.0504611948401\n",
      "===========================================================================================\n",
      "Dataset Name:  reddit , AUC Score(benchmark/combined):  57.32259993597839\n",
      "Dataset Name:  reddit , AUC Score (contextual):  56.22336628413783\n",
      "Dataset Name:  reddit , AUC Score (structural):  49.98292888483081\n",
      "Dataset Name:  reddit , AUC Score (joint-type):  49.75730844593929\n",
      "Dataset Name:  reddit , AUC Score (structure type):  49.75730844593929\n",
      "===========================================================================================\n",
      "Dataset Name:  reddit  Best AUC Score(benchmark/combined):  58.31157679453489\n",
      "Dataset Name:  reddit  Best AUC Score (contextual):  57.42915931180224\n",
      "Dataset Name:  reddit  Best AUC Score (structural):  84.64586802095081\n",
      "Dataset Name:  reddit  Best AUC Score (joint-type):  53.173684080051274\n",
      "Dataset Name:  reddit  Best AUC Score (structure type):  84.0504611948401\n",
      "===========================================================================================\n",
      "Dataset Name:  reddit , AUC Score(benchmark/combined):  57.304664622504106\n",
      "Dataset Name:  reddit , AUC Score (contextual):  56.12430644197588\n",
      "Dataset Name:  reddit , AUC Score (structural):  50.02958186542962\n"
     ]
    },
    {
     "name": "stderr",
     "output_type": "stream",
     "text": [
      " 24%|██▍       | 121/500 [00:13<00:37, 10.12it/s]"
     ]
    },
    {
     "name": "stdout",
     "output_type": "stream",
     "text": [
      "Dataset Name:  reddit , AUC Score (joint-type):  49.78614609151248\n",
      "Dataset Name:  reddit , AUC Score (structure type):  49.78614609151248\n",
      "===========================================================================================\n",
      "Dataset Name:  reddit  Best AUC Score(benchmark/combined):  58.31157679453489\n",
      "Dataset Name:  reddit  Best AUC Score (contextual):  57.42915931180224\n",
      "Dataset Name:  reddit  Best AUC Score (structural):  84.64586802095081\n",
      "Dataset Name:  reddit  Best AUC Score (joint-type):  53.173684080051274\n",
      "Dataset Name:  reddit  Best AUC Score (structure type):  84.0504611948401\n",
      "===========================================================================================\n",
      "Dataset Name:  reddit , AUC Score(benchmark/combined):  57.23954939905121\n",
      "Dataset Name:  reddit , AUC Score (contextual):  56.08562858225534\n",
      "Dataset Name:  reddit , AUC Score (structural):  50.071069416346226\n",
      "Dataset Name:  reddit , AUC Score (joint-type):  49.7058307189731\n",
      "Dataset Name:  reddit , AUC Score (structure type):  49.7058307189731\n",
      "===========================================================================================\n",
      "Dataset Name:  reddit  Best AUC Score(benchmark/combined):  58.31157679453489\n",
      "Dataset Name:  reddit  Best AUC Score (contextual):  57.42915931180224\n",
      "Dataset Name:  reddit  Best AUC Score (structural):  84.64586802095081\n",
      "Dataset Name:  reddit  Best AUC Score (joint-type):  53.173684080051274\n",
      "Dataset Name:  reddit  Best AUC Score (structure type):  84.0504611948401\n",
      "===========================================================================================\n",
      "Dataset Name:  reddit , AUC Score(benchmark/combined):  57.23742649609335\n",
      "Dataset Name:  reddit , AUC Score (contextual):  56.012902063814174\n",
      "Dataset Name:  reddit , AUC Score (structural):  50.09985226473258\n",
      "Dataset Name:  reddit , AUC Score (joint-type):  49.71240772585821\n",
      "Dataset Name:  reddit , AUC Score (structure type):  49.71240772585821\n",
      "===========================================================================================\n",
      "Dataset Name:  reddit  Best AUC Score(benchmark/combined):  58.31157679453489\n",
      "Dataset Name:  reddit  Best AUC Score (contextual):  57.42915931180224\n"
     ]
    },
    {
     "name": "stderr",
     "output_type": "stream",
     "text": [
      " 25%|██▍       | 123/500 [00:13<00:37, 10.17it/s]"
     ]
    },
    {
     "name": "stdout",
     "output_type": "stream",
     "text": [
      "Dataset Name:  reddit  Best AUC Score (structural):  84.64586802095081\n",
      "Dataset Name:  reddit  Best AUC Score (joint-type):  53.173684080051274\n",
      "Dataset Name:  reddit  Best AUC Score (structure type):  84.0504611948401\n",
      "===========================================================================================\n",
      "Dataset Name:  reddit , AUC Score(benchmark/combined):  57.205492889175716\n",
      "Dataset Name:  reddit , AUC Score (contextual):  55.97526134748705\n",
      "Dataset Name:  reddit , AUC Score (structural):  50.0841669965513\n",
      "Dataset Name:  reddit , AUC Score (joint-type):  49.734010663857774\n",
      "Dataset Name:  reddit , AUC Score (structure type):  49.734010663857774\n",
      "===========================================================================================\n",
      "Dataset Name:  reddit  Best AUC Score(benchmark/combined):  58.31157679453489\n",
      "Dataset Name:  reddit  Best AUC Score (contextual):  57.42915931180224\n",
      "Dataset Name:  reddit  Best AUC Score (structural):  84.64586802095081\n",
      "Dataset Name:  reddit  Best AUC Score (joint-type):  53.173684080051274\n",
      "Dataset Name:  reddit  Best AUC Score (structure type):  84.0504611948401\n",
      "===========================================================================================\n",
      "Dataset Name:  reddit , AUC Score(benchmark/combined):  57.22040467419487\n",
      "Dataset Name:  reddit , AUC Score (contextual):  55.97222580584778\n",
      "Dataset Name:  reddit , AUC Score (structural):  50.06448498544197\n",
      "Dataset Name:  reddit , AUC Score (joint-type):  49.70383232072722\n",
      "Dataset Name:  reddit , AUC Score (structure type):  49.70383232072722\n",
      "===========================================================================================\n",
      "Dataset Name:  reddit  Best AUC Score(benchmark/combined):  58.31157679453489\n",
      "Dataset Name:  reddit  Best AUC Score (contextual):  57.42915931180224\n",
      "Dataset Name:  reddit  Best AUC Score (structural):  84.64586802095081\n",
      "Dataset Name:  reddit  Best AUC Score (joint-type):  53.173684080051274\n",
      "Dataset Name:  reddit  Best AUC Score (structure type):  84.0504611948401\n",
      "===========================================================================================\n"
     ]
    },
    {
     "name": "stderr",
     "output_type": "stream",
     "text": [
      " 25%|██▌       | 125/500 [00:13<00:36, 10.17it/s]"
     ]
    },
    {
     "name": "stdout",
     "output_type": "stream",
     "text": [
      "Dataset Name:  reddit , AUC Score(benchmark/combined):  57.18829094217779\n",
      "Dataset Name:  reddit , AUC Score (contextual):  55.9191038271603\n",
      "Dataset Name:  reddit , AUC Score (structural):  50.03499595186801\n",
      "Dataset Name:  reddit , AUC Score (joint-type):  49.69950667389125\n",
      "Dataset Name:  reddit , AUC Score (structure type):  49.69950667389125\n",
      "===========================================================================================\n",
      "Dataset Name:  reddit  Best AUC Score(benchmark/combined):  58.31157679453489\n",
      "Dataset Name:  reddit  Best AUC Score (contextual):  57.42915931180224\n",
      "Dataset Name:  reddit  Best AUC Score (structural):  84.64586802095081\n",
      "Dataset Name:  reddit  Best AUC Score (joint-type):  53.173684080051274\n",
      "Dataset Name:  reddit  Best AUC Score (structure type):  84.0504611948401\n",
      "===========================================================================================\n",
      "Dataset Name:  reddit , AUC Score(benchmark/combined):  57.193128587706\n",
      "Dataset Name:  reddit , AUC Score (contextual):  55.88624408891506\n",
      "Dataset Name:  reddit , AUC Score (structural):  50.03997074470378\n",
      "Dataset Name:  reddit , AUC Score (joint-type):  49.69910193500602\n",
      "Dataset Name:  reddit , AUC Score (structure type):  49.69910193500602\n",
      "===========================================================================================\n",
      "Dataset Name:  reddit  Best AUC Score(benchmark/combined):  58.31157679453489\n",
      "Dataset Name:  reddit  Best AUC Score (contextual):  57.42915931180224\n",
      "Dataset Name:  reddit  Best AUC Score (structural):  84.64586802095081\n",
      "Dataset Name:  reddit  Best AUC Score (joint-type):  53.173684080051274\n",
      "Dataset Name:  reddit  Best AUC Score (structure type):  84.0504611948401\n",
      "===========================================================================================\n",
      "Dataset Name:  reddit , AUC Score(benchmark/combined):  57.17658281071323\n",
      "Dataset Name:  reddit , AUC Score (contextual):  55.810355547932964\n",
      "Dataset Name:  reddit , AUC Score (structural):  50.015711791568606\n"
     ]
    },
    {
     "name": "stderr",
     "output_type": "stream",
     "text": [
      " 25%|██▌       | 127/500 [00:13<00:36, 10.19it/s]"
     ]
    },
    {
     "name": "stdout",
     "output_type": "stream",
     "text": [
      "Dataset Name:  reddit , AUC Score (joint-type):  49.74830300574274\n",
      "Dataset Name:  reddit , AUC Score (structure type):  49.74830300574274\n",
      "===========================================================================================\n",
      "Dataset Name:  reddit  Best AUC Score(benchmark/combined):  58.31157679453489\n",
      "Dataset Name:  reddit  Best AUC Score (contextual):  57.42915931180224\n",
      "Dataset Name:  reddit  Best AUC Score (structural):  84.64586802095081\n",
      "Dataset Name:  reddit  Best AUC Score (joint-type):  53.173684080051274\n",
      "Dataset Name:  reddit  Best AUC Score (structure type):  84.0504611948401\n",
      "===========================================================================================\n",
      "Dataset Name:  reddit , AUC Score(benchmark/combined):  57.16650867122228\n",
      "Dataset Name:  reddit , AUC Score (contextual):  55.78126494055651\n",
      "Dataset Name:  reddit , AUC Score (structural):  50.046643034328554\n",
      "Dataset Name:  reddit , AUC Score (joint-type):  49.6371515893843\n",
      "Dataset Name:  reddit , AUC Score (structure type):  49.6371515893843\n",
      "===========================================================================================\n",
      "Dataset Name:  reddit  Best AUC Score(benchmark/combined):  58.31157679453489\n",
      "Dataset Name:  reddit  Best AUC Score (contextual):  57.42915931180224\n",
      "Dataset Name:  reddit  Best AUC Score (structural):  84.64586802095081\n",
      "Dataset Name:  reddit  Best AUC Score (joint-type):  53.173684080051274\n",
      "Dataset Name:  reddit  Best AUC Score (structure type):  84.0504611948401\n",
      "===========================================================================================\n",
      "Dataset Name:  reddit , AUC Score(benchmark/combined):  57.09784241009442\n",
      "Dataset Name:  reddit , AUC Score (contextual):  55.69955827809914\n",
      "Dataset Name:  reddit , AUC Score (structural):  50.025450847853236\n",
      "Dataset Name:  reddit , AUC Score (joint-type):  49.5567097359433\n",
      "Dataset Name:  reddit , AUC Score (structure type):  49.5567097359433\n",
      "===========================================================================================\n",
      "Dataset Name:  reddit  Best AUC Score(benchmark/combined):  58.31157679453489\n",
      "Dataset Name:  reddit  Best AUC Score (contextual):  57.42915931180224\n"
     ]
    },
    {
     "name": "stderr",
     "output_type": "stream",
     "text": [
      " 26%|██▌       | 129/500 [00:13<00:36, 10.21it/s]"
     ]
    },
    {
     "name": "stdout",
     "output_type": "stream",
     "text": [
      "Dataset Name:  reddit  Best AUC Score (structural):  84.64586802095081\n",
      "Dataset Name:  reddit  Best AUC Score (joint-type):  53.173684080051274\n",
      "Dataset Name:  reddit  Best AUC Score (structure type):  84.0504611948401\n",
      "===========================================================================================\n",
      "Dataset Name:  reddit , AUC Score(benchmark/combined):  57.0526438762098\n",
      "Dataset Name:  reddit , AUC Score (contextual):  55.685038270591214\n",
      "Dataset Name:  reddit , AUC Score (structural):  50.02451092531477\n",
      "Dataset Name:  reddit , AUC Score (joint-type):  49.476141401600636\n",
      "Dataset Name:  reddit , AUC Score (structure type):  49.476141401600636\n",
      "===========================================================================================\n",
      "Dataset Name:  reddit  Best AUC Score(benchmark/combined):  58.31157679453489\n",
      "Dataset Name:  reddit  Best AUC Score (contextual):  57.42915931180224\n",
      "Dataset Name:  reddit  Best AUC Score (structural):  84.64586802095081\n",
      "Dataset Name:  reddit  Best AUC Score (joint-type):  53.173684080051274\n",
      "Dataset Name:  reddit  Best AUC Score (structure type):  84.0504611948401\n",
      "===========================================================================================\n",
      "Dataset Name:  reddit , AUC Score(benchmark/combined):  57.03204528447928\n",
      "Dataset Name:  reddit , AUC Score (contextual):  55.65334215664103\n",
      "Dataset Name:  reddit , AUC Score (structural):  50.04516932862013\n",
      "Dataset Name:  reddit , AUC Score (joint-type):  49.43586988251948\n",
      "Dataset Name:  reddit , AUC Score (structure type):  49.43586988251948\n",
      "===========================================================================================\n",
      "Dataset Name:  reddit  Best AUC Score(benchmark/combined):  58.31157679453489\n",
      "Dataset Name:  reddit  Best AUC Score (contextual):  57.42915931180224\n",
      "Dataset Name:  reddit  Best AUC Score (structural):  84.64586802095081\n",
      "Dataset Name:  reddit  Best AUC Score (joint-type):  53.173684080051274\n",
      "Dataset Name:  reddit  Best AUC Score (structure type):  84.0504611948401\n",
      "===========================================================================================\n"
     ]
    },
    {
     "name": "stderr",
     "output_type": "stream",
     "text": [
      " 27%|██▋       | 133/500 [00:14<00:35, 10.23it/s]"
     ]
    },
    {
     "name": "stdout",
     "output_type": "stream",
     "text": [
      "Dataset Name:  reddit , AUC Score(benchmark/combined):  56.998246096174455\n",
      "Dataset Name:  reddit , AUC Score (contextual):  55.612868268117246\n",
      "Dataset Name:  reddit , AUC Score (structural):  50.05151339132672\n",
      "Dataset Name:  reddit , AUC Score (joint-type):  49.383506789241835\n",
      "Dataset Name:  reddit , AUC Score (structure type):  49.383506789241835\n",
      "===========================================================================================\n",
      "Dataset Name:  reddit  Best AUC Score(benchmark/combined):  58.31157679453489\n",
      "Dataset Name:  reddit  Best AUC Score (contextual):  57.42915931180224\n",
      "Dataset Name:  reddit  Best AUC Score (structural):  84.64586802095081\n",
      "Dataset Name:  reddit  Best AUC Score (joint-type):  53.173684080051274\n",
      "Dataset Name:  reddit  Best AUC Score (structure type):  84.0504611948401\n",
      "===========================================================================================\n",
      "Dataset Name:  reddit , AUC Score(benchmark/combined):  56.96362347884354\n",
      "Dataset Name:  reddit , AUC Score (contextual):  55.551221476659464\n",
      "Dataset Name:  reddit , AUC Score (structural):  50.040481319909844\n",
      "Dataset Name:  reddit , AUC Score (joint-type):  49.414570498683844\n",
      "Dataset Name:  reddit , AUC Score (structure type):  49.414570498683844\n",
      "===========================================================================================\n",
      "Dataset Name:  reddit  Best AUC Score(benchmark/combined):  58.31157679453489\n",
      "Dataset Name:  reddit  Best AUC Score (contextual):  57.42915931180224\n",
      "Dataset Name:  reddit  Best AUC Score (structural):  84.64586802095081\n",
      "Dataset Name:  reddit  Best AUC Score (joint-type):  53.173684080051274\n",
      "Dataset Name:  reddit  Best AUC Score (structure type):  84.0504611948401\n",
      "===========================================================================================\n",
      "Dataset Name:  reddit , AUC Score(benchmark/combined):  56.94698763930104\n",
      "Dataset Name:  reddit , AUC Score (contextual):  55.50950807529965\n",
      "Dataset Name:  reddit , AUC Score (structural):  50.04831400773024\n"
     ]
    },
    {
     "name": "stderr",
     "output_type": "stream",
     "text": [
      " 27%|██▋       | 135/500 [00:14<00:35, 10.23it/s]"
     ]
    },
    {
     "name": "stdout",
     "output_type": "stream",
     "text": [
      "Dataset Name:  reddit , AUC Score (joint-type):  49.40336429079883\n",
      "Dataset Name:  reddit , AUC Score (structure type):  49.40336429079883\n",
      "===========================================================================================\n",
      "Dataset Name:  reddit  Best AUC Score(benchmark/combined):  58.31157679453489\n",
      "Dataset Name:  reddit  Best AUC Score (contextual):  57.42915931180224\n",
      "Dataset Name:  reddit  Best AUC Score (structural):  84.64586802095081\n",
      "Dataset Name:  reddit  Best AUC Score (joint-type):  53.173684080051274\n",
      "Dataset Name:  reddit  Best AUC Score (structure type):  84.0504611948401\n",
      "===========================================================================================\n",
      "Dataset Name:  reddit , AUC Score(benchmark/combined):  56.9362444637264\n",
      "Dataset Name:  reddit , AUC Score (contextual):  55.534652478545055\n",
      "Dataset Name:  reddit , AUC Score (structural):  50.056569412036175\n",
      "Dataset Name:  reddit , AUC Score (joint-type):  49.39392881553671\n",
      "Dataset Name:  reddit , AUC Score (structure type):  49.39392881553671\n",
      "===========================================================================================\n",
      "Dataset Name:  reddit  Best AUC Score(benchmark/combined):  58.31157679453489\n",
      "Dataset Name:  reddit  Best AUC Score (contextual):  57.42915931180224\n",
      "Dataset Name:  reddit  Best AUC Score (structural):  84.64586802095081\n",
      "Dataset Name:  reddit  Best AUC Score (joint-type):  53.173684080051274\n",
      "Dataset Name:  reddit  Best AUC Score (structure type):  84.0504611948401\n",
      "===========================================================================================\n",
      "Dataset Name:  reddit , AUC Score(benchmark/combined):  56.994154683201124\n",
      "Dataset Name:  reddit , AUC Score (contextual):  55.48061983736581\n",
      "Dataset Name:  reddit , AUC Score (structural):  50.06919454440446\n",
      "Dataset Name:  reddit , AUC Score (joint-type):  49.413786317093695\n",
      "Dataset Name:  reddit , AUC Score (structure type):  49.413786317093695\n",
      "===========================================================================================\n",
      "Dataset Name:  reddit  Best AUC Score(benchmark/combined):  58.31157679453489\n",
      "Dataset Name:  reddit  Best AUC Score (contextual):  57.42915931180224\n"
     ]
    },
    {
     "name": "stderr",
     "output_type": "stream",
     "text": [
      " 27%|██▋       | 137/500 [00:14<00:35, 10.22it/s]"
     ]
    },
    {
     "name": "stdout",
     "output_type": "stream",
     "text": [
      "Dataset Name:  reddit  Best AUC Score (structural):  84.64586802095081\n",
      "Dataset Name:  reddit  Best AUC Score (joint-type):  53.173684080051274\n",
      "Dataset Name:  reddit  Best AUC Score (structure type):  84.0504611948401\n",
      "===========================================================================================\n",
      "Dataset Name:  reddit , AUC Score(benchmark/combined):  56.985045499600126\n",
      "Dataset Name:  reddit , AUC Score (contextual):  55.43665507595684\n",
      "Dataset Name:  reddit , AUC Score (structural):  50.06566527617808\n",
      "Dataset Name:  reddit , AUC Score (joint-type):  49.364787615799585\n",
      "Dataset Name:  reddit , AUC Score (structure type):  49.364787615799585\n",
      "===========================================================================================\n",
      "Dataset Name:  reddit  Best AUC Score(benchmark/combined):  58.31157679453489\n",
      "Dataset Name:  reddit  Best AUC Score (contextual):  57.42915931180224\n",
      "Dataset Name:  reddit  Best AUC Score (structural):  84.64586802095081\n",
      "Dataset Name:  reddit  Best AUC Score (joint-type):  53.173684080051274\n",
      "Dataset Name:  reddit  Best AUC Score (structure type):  84.0504611948401\n",
      "===========================================================================================\n",
      "Dataset Name:  reddit , AUC Score(benchmark/combined):  56.9227350812673\n",
      "Dataset Name:  reddit , AUC Score (contextual):  55.268157218796276\n",
      "Dataset Name:  reddit , AUC Score (structural):  50.03137053636257\n",
      "Dataset Name:  reddit , AUC Score (joint-type):  49.48097297204317\n",
      "Dataset Name:  reddit , AUC Score (structure type):  49.48097297204317\n",
      "===========================================================================================\n",
      "Dataset Name:  reddit  Best AUC Score(benchmark/combined):  58.31157679453489\n",
      "Dataset Name:  reddit  Best AUC Score (contextual):  57.42915931180224\n",
      "Dataset Name:  reddit  Best AUC Score (structural):  84.64586802095081\n",
      "Dataset Name:  reddit  Best AUC Score (joint-type):  53.173684080051274\n",
      "Dataset Name:  reddit  Best AUC Score (structure type):  84.0504611948401\n",
      "===========================================================================================\n"
     ]
    },
    {
     "name": "stderr",
     "output_type": "stream",
     "text": [
      " 28%|██▊       | 139/500 [00:14<00:35, 10.21it/s]"
     ]
    },
    {
     "name": "stdout",
     "output_type": "stream",
     "text": [
      "Dataset Name:  reddit , AUC Score(benchmark/combined):  56.9181418912312\n",
      "Dataset Name:  reddit , AUC Score (contextual):  55.231300684059306\n",
      "Dataset Name:  reddit , AUC Score (structural):  50.052774909936524\n",
      "Dataset Name:  reddit , AUC Score (joint-type):  49.46129254374848\n",
      "Dataset Name:  reddit , AUC Score (structure type):  49.46129254374848\n",
      "===========================================================================================\n",
      "Dataset Name:  reddit  Best AUC Score(benchmark/combined):  58.31157679453489\n",
      "Dataset Name:  reddit  Best AUC Score (contextual):  57.42915931180224\n",
      "Dataset Name:  reddit  Best AUC Score (structural):  84.64586802095081\n",
      "Dataset Name:  reddit  Best AUC Score (joint-type):  53.173684080051274\n",
      "Dataset Name:  reddit  Best AUC Score (structure type):  84.0504611948401\n",
      "===========================================================================================\n",
      "Dataset Name:  reddit , AUC Score(benchmark/combined):  56.89118745670565\n",
      "Dataset Name:  reddit , AUC Score (contextual):  55.2055997648467\n",
      "Dataset Name:  reddit , AUC Score (structural):  50.04493393355759\n",
      "Dataset Name:  reddit , AUC Score (joint-type):  49.434402704060496\n",
      "Dataset Name:  reddit , AUC Score (structure type):  49.434402704060496\n",
      "===========================================================================================\n",
      "Dataset Name:  reddit  Best AUC Score(benchmark/combined):  58.31157679453489\n",
      "Dataset Name:  reddit  Best AUC Score (contextual):  57.42915931180224\n",
      "Dataset Name:  reddit  Best AUC Score (structural):  84.64586802095081\n",
      "Dataset Name:  reddit  Best AUC Score (joint-type):  53.173684080051274\n",
      "Dataset Name:  reddit  Best AUC Score (structure type):  84.0504611948401\n",
      "===========================================================================================\n",
      "Dataset Name:  reddit , AUC Score(benchmark/combined):  56.786431845294146\n",
      "Dataset Name:  reddit , AUC Score (contextual):  55.16421521383115\n",
      "Dataset Name:  reddit , AUC Score (structural):  49.99114450405576\n"
     ]
    },
    {
     "name": "stderr",
     "output_type": "stream",
     "text": [
      " 28%|██▊       | 141/500 [00:14<00:35, 10.22it/s]"
     ]
    },
    {
     "name": "stdout",
     "output_type": "stream",
     "text": [
      "Dataset Name:  reddit , AUC Score (joint-type):  49.49344398894455\n",
      "Dataset Name:  reddit , AUC Score (structure type):  49.49344398894455\n",
      "===========================================================================================\n",
      "Dataset Name:  reddit  Best AUC Score(benchmark/combined):  58.31157679453489\n",
      "Dataset Name:  reddit  Best AUC Score (contextual):  57.42915931180224\n",
      "Dataset Name:  reddit  Best AUC Score (structural):  84.64586802095081\n",
      "Dataset Name:  reddit  Best AUC Score (joint-type):  53.173684080051274\n",
      "Dataset Name:  reddit  Best AUC Score (structure type):  84.0504611948401\n",
      "===========================================================================================\n",
      "Dataset Name:  reddit , AUC Score(benchmark/combined):  56.75362334503632\n",
      "Dataset Name:  reddit , AUC Score (contextual):  55.156550471191956\n",
      "Dataset Name:  reddit , AUC Score (structural):  50.00939093682594\n",
      "Dataset Name:  reddit , AUC Score (joint-type):  49.45587916115842\n",
      "Dataset Name:  reddit , AUC Score (structure type):  49.45587916115842\n",
      "===========================================================================================\n",
      "Dataset Name:  reddit  Best AUC Score(benchmark/combined):  58.31157679453489\n",
      "Dataset Name:  reddit  Best AUC Score (contextual):  57.42915931180224\n",
      "Dataset Name:  reddit  Best AUC Score (structural):  84.64586802095081\n",
      "Dataset Name:  reddit  Best AUC Score (joint-type):  53.173684080051274\n",
      "Dataset Name:  reddit  Best AUC Score (structure type):  84.0504611948401\n",
      "===========================================================================================\n",
      "Dataset Name:  reddit , AUC Score(benchmark/combined):  56.75321163052328\n",
      "Dataset Name:  reddit , AUC Score (contextual):  55.1621409270443\n",
      "Dataset Name:  reddit , AUC Score (structural):  50.04364920698387\n",
      "Dataset Name:  reddit , AUC Score (joint-type):  49.42091983994601\n",
      "Dataset Name:  reddit , AUC Score (structure type):  49.42091983994601\n",
      "===========================================================================================\n",
      "Dataset Name:  reddit  Best AUC Score(benchmark/combined):  58.31157679453489\n",
      "Dataset Name:  reddit  Best AUC Score (contextual):  57.42915931180224\n"
     ]
    },
    {
     "name": "stderr",
     "output_type": "stream",
     "text": [
      " 29%|██▊       | 143/500 [00:15<00:34, 10.23it/s]"
     ]
    },
    {
     "name": "stdout",
     "output_type": "stream",
     "text": [
      "Dataset Name:  reddit  Best AUC Score (structural):  84.64586802095081\n",
      "Dataset Name:  reddit  Best AUC Score (joint-type):  53.173684080051274\n",
      "Dataset Name:  reddit  Best AUC Score (structure type):  84.0504611948401\n",
      "===========================================================================================\n",
      "Dataset Name:  reddit , AUC Score(benchmark/combined):  56.6827569844794\n",
      "Dataset Name:  reddit , AUC Score (contextual):  55.13016655511051\n",
      "Dataset Name:  reddit , AUC Score (structural):  50.016802565872496\n",
      "Dataset Name:  reddit , AUC Score (joint-type):  49.40693105222497\n",
      "Dataset Name:  reddit , AUC Score (structure type):  49.40693105222497\n",
      "===========================================================================================\n",
      "Dataset Name:  reddit  Best AUC Score(benchmark/combined):  58.31157679453489\n",
      "Dataset Name:  reddit  Best AUC Score (contextual):  57.42915931180224\n",
      "Dataset Name:  reddit  Best AUC Score (structural):  84.64586802095081\n",
      "Dataset Name:  reddit  Best AUC Score (joint-type):  53.173684080051274\n",
      "Dataset Name:  reddit  Best AUC Score (structure type):  84.0504611948401\n",
      "===========================================================================================\n",
      "Dataset Name:  reddit , AUC Score(benchmark/combined):  56.665670832188255\n",
      "Dataset Name:  reddit , AUC Score (contextual):  55.06437119007903\n",
      "Dataset Name:  reddit , AUC Score (structural):  50.02048931671113\n",
      "Dataset Name:  reddit , AUC Score (joint-type):  49.38937550307779\n",
      "Dataset Name:  reddit , AUC Score (structure type):  49.38937550307779\n",
      "===========================================================================================\n",
      "Dataset Name:  reddit  Best AUC Score(benchmark/combined):  58.31157679453489\n",
      "Dataset Name:  reddit  Best AUC Score (contextual):  57.42915931180224\n",
      "Dataset Name:  reddit  Best AUC Score (structural):  84.64586802095081\n",
      "Dataset Name:  reddit  Best AUC Score (joint-type):  53.173684080051274\n",
      "Dataset Name:  reddit  Best AUC Score (structure type):  84.0504611948401\n",
      "===========================================================================================\n"
     ]
    },
    {
     "name": "stderr",
     "output_type": "stream",
     "text": [
      " 29%|██▉       | 147/500 [00:15<00:34, 10.12it/s]"
     ]
    },
    {
     "name": "stdout",
     "output_type": "stream",
     "text": [
      "Dataset Name:  reddit , AUC Score(benchmark/combined):  56.63596305685674\n",
      "Dataset Name:  reddit , AUC Score (contextual):  54.96720856144164\n",
      "Dataset Name:  reddit , AUC Score (structural):  50.02598463102321\n",
      "Dataset Name:  reddit , AUC Score (joint-type):  49.35795764711119\n",
      "Dataset Name:  reddit , AUC Score (structure type):  49.35795764711119\n",
      "===========================================================================================\n",
      "Dataset Name:  reddit  Best AUC Score(benchmark/combined):  58.31157679453489\n",
      "Dataset Name:  reddit  Best AUC Score (contextual):  57.42915931180224\n",
      "Dataset Name:  reddit  Best AUC Score (structural):  84.64586802095081\n",
      "Dataset Name:  reddit  Best AUC Score (joint-type):  53.173684080051274\n",
      "Dataset Name:  reddit  Best AUC Score (structure type):  84.0504611948401\n",
      "===========================================================================================\n",
      "Dataset Name:  reddit , AUC Score(benchmark/combined):  56.59358219417074\n",
      "Dataset Name:  reddit , AUC Score (contextual):  54.924660386131016\n",
      "Dataset Name:  reddit , AUC Score (structural):  50.03504236779583\n",
      "Dataset Name:  reddit , AUC Score (joint-type):  49.353910258258814\n",
      "Dataset Name:  reddit , AUC Score (structure type):  49.353910258258814\n",
      "===========================================================================================\n",
      "Dataset Name:  reddit  Best AUC Score(benchmark/combined):  58.31157679453489\n",
      "Dataset Name:  reddit  Best AUC Score (contextual):  57.42915931180224\n",
      "Dataset Name:  reddit  Best AUC Score (structural):  84.64586802095081\n",
      "Dataset Name:  reddit  Best AUC Score (joint-type):  53.173684080051274\n",
      "Dataset Name:  reddit  Best AUC Score (structure type):  84.0504611948401\n",
      "===========================================================================================\n",
      "Dataset Name:  reddit , AUC Score(benchmark/combined):  56.57487491598451\n",
      "Dataset Name:  reddit , AUC Score (contextual):  54.83933636988682\n",
      "Dataset Name:  reddit , AUC Score (structural):  50.02834355478372\n"
     ]
    },
    {
     "name": "stderr",
     "output_type": "stream",
     "text": [
      " 30%|██▉       | 149/500 [00:15<00:34, 10.13it/s]"
     ]
    },
    {
     "name": "stdout",
     "output_type": "stream",
     "text": [
      "Dataset Name:  reddit , AUC Score (joint-type):  49.325932682816756\n",
      "Dataset Name:  reddit , AUC Score (structure type):  49.325932682816756\n",
      "===========================================================================================\n",
      "Dataset Name:  reddit  Best AUC Score(benchmark/combined):  58.31157679453489\n",
      "Dataset Name:  reddit  Best AUC Score (contextual):  57.42915931180224\n",
      "Dataset Name:  reddit  Best AUC Score (structural):  84.64586802095081\n",
      "Dataset Name:  reddit  Best AUC Score (joint-type):  53.173684080051274\n",
      "Dataset Name:  reddit  Best AUC Score (structure type):  84.0504611948401\n",
      "===========================================================================================\n",
      "Dataset Name:  reddit , AUC Score(benchmark/combined):  56.55598751269883\n",
      "Dataset Name:  reddit , AUC Score (contextual):  54.800936768149874\n",
      "Dataset Name:  reddit , AUC Score (structural):  50.04561193764617\n",
      "Dataset Name:  reddit , AUC Score (joint-type):  49.34766210171796\n",
      "Dataset Name:  reddit , AUC Score (structure type):  49.34766210171796\n",
      "===========================================================================================\n",
      "Dataset Name:  reddit  Best AUC Score(benchmark/combined):  58.31157679453489\n",
      "Dataset Name:  reddit  Best AUC Score (contextual):  57.42915931180224\n",
      "Dataset Name:  reddit  Best AUC Score (structural):  84.64586802095081\n",
      "Dataset Name:  reddit  Best AUC Score (joint-type):  53.173684080051274\n",
      "Dataset Name:  reddit  Best AUC Score (structure type):  84.0504611948401\n",
      "===========================================================================================\n",
      "Dataset Name:  reddit , AUC Score(benchmark/combined):  56.527849398948284\n",
      "Dataset Name:  reddit , AUC Score (contextual):  54.711944805758215\n",
      "Dataset Name:  reddit , AUC Score (structural):  50.013860127590746\n",
      "Dataset Name:  reddit , AUC Score (joint-type):  49.325274982128256\n",
      "Dataset Name:  reddit , AUC Score (structure type):  49.325274982128256\n",
      "===========================================================================================\n",
      "Dataset Name:  reddit  Best AUC Score(benchmark/combined):  58.31157679453489\n"
     ]
    },
    {
     "name": "stderr",
     "output_type": "stream",
     "text": [
      " 30%|███       | 151/500 [00:15<00:34, 10.14it/s]"
     ]
    },
    {
     "name": "stdout",
     "output_type": "stream",
     "text": [
      "Dataset Name:  reddit  Best AUC Score (contextual):  57.42915931180224\n",
      "Dataset Name:  reddit  Best AUC Score (structural):  84.64586802095081\n",
      "Dataset Name:  reddit  Best AUC Score (joint-type):  53.173684080051274\n",
      "Dataset Name:  reddit  Best AUC Score (structure type):  84.0504611948401\n",
      "===========================================================================================\n",
      "Dataset Name:  reddit , AUC Score(benchmark/combined):  56.52443988813718\n",
      "Dataset Name:  reddit , AUC Score (contextual):  54.704836579086226\n",
      "Dataset Name:  reddit , AUC Score (structural):  50.04517927489039\n",
      "Dataset Name:  reddit , AUC Score (joint-type):  49.26891509235889\n",
      "Dataset Name:  reddit , AUC Score (structure type):  49.26891509235889\n",
      "===========================================================================================\n",
      "Dataset Name:  reddit  Best AUC Score(benchmark/combined):  58.31157679453489\n",
      "Dataset Name:  reddit  Best AUC Score (contextual):  57.42915931180224\n",
      "Dataset Name:  reddit  Best AUC Score (structural):  84.64586802095081\n",
      "Dataset Name:  reddit  Best AUC Score (joint-type):  53.173684080051274\n",
      "Dataset Name:  reddit  Best AUC Score (structure type):  84.0504611948401\n",
      "===========================================================================================\n",
      "Dataset Name:  reddit , AUC Score(benchmark/combined):  56.48223915055062\n",
      "Dataset Name:  reddit , AUC Score (contextual):  54.69456632987332\n",
      "Dataset Name:  reddit , AUC Score (structural):  50.02582217527583\n",
      "Dataset Name:  reddit , AUC Score (joint-type):  49.23618183501527\n",
      "Dataset Name:  reddit , AUC Score (structure type):  49.23618183501527\n",
      "===========================================================================================\n",
      "Dataset Name:  reddit  Best AUC Score(benchmark/combined):  58.31157679453489\n",
      "Dataset Name:  reddit  Best AUC Score (contextual):  57.42915931180224\n",
      "Dataset Name:  reddit  Best AUC Score (structural):  84.64586802095081\n"
     ]
    },
    {
     "name": "stderr",
     "output_type": "stream",
     "text": [
      " 31%|███       | 153/500 [00:16<00:34, 10.00it/s]"
     ]
    },
    {
     "name": "stdout",
     "output_type": "stream",
     "text": [
      "Dataset Name:  reddit  Best AUC Score (joint-type):  53.173684080051274\n",
      "Dataset Name:  reddit  Best AUC Score (structure type):  84.0504611948401\n",
      "===========================================================================================\n",
      "Dataset Name:  reddit , AUC Score(benchmark/combined):  56.43630725018964\n",
      "Dataset Name:  reddit , AUC Score (contextual):  54.66757530546402\n",
      "Dataset Name:  reddit , AUC Score (structural):  50.00093329169162\n",
      "Dataset Name:  reddit , AUC Score (joint-type):  49.21230224078625\n",
      "Dataset Name:  reddit , AUC Score (structure type):  49.21230224078625\n",
      "===========================================================================================\n",
      "Dataset Name:  reddit  Best AUC Score(benchmark/combined):  58.31157679453489\n",
      "Dataset Name:  reddit  Best AUC Score (contextual):  57.42915931180224\n",
      "Dataset Name:  reddit  Best AUC Score (structural):  84.64586802095081\n",
      "Dataset Name:  reddit  Best AUC Score (joint-type):  53.173684080051274\n",
      "Dataset Name:  reddit  Best AUC Score (structure type):  84.0504611948401\n",
      "===========================================================================================\n",
      "Dataset Name:  reddit , AUC Score(benchmark/combined):  56.41527121178903\n",
      "Dataset Name:  reddit , AUC Score (contextual):  54.648805539661126\n",
      "Dataset Name:  reddit , AUC Score (structural):  50.009850122969056\n",
      "Dataset Name:  reddit , AUC Score (joint-type):  49.19725101349147\n",
      "Dataset Name:  reddit , AUC Score (structure type):  49.19725101349147\n",
      "===========================================================================================\n",
      "Dataset Name:  reddit  Best AUC Score(benchmark/combined):  58.31157679453489\n",
      "Dataset Name:  reddit  Best AUC Score (contextual):  57.42915931180224\n"
     ]
    },
    {
     "name": "stderr",
     "output_type": "stream",
     "text": [
      " 31%|███       | 155/500 [00:16<00:34, 10.09it/s]"
     ]
    },
    {
     "name": "stdout",
     "output_type": "stream",
     "text": [
      "Dataset Name:  reddit  Best AUC Score (structural):  84.64586802095081\n",
      "Dataset Name:  reddit  Best AUC Score (joint-type):  53.173684080051274\n",
      "Dataset Name:  reddit  Best AUC Score (structure type):  84.0504611948401\n",
      "===========================================================================================\n",
      "Dataset Name:  reddit , AUC Score(benchmark/combined):  56.41762570416047\n",
      "Dataset Name:  reddit , AUC Score (contextual):  54.6467565490546\n",
      "Dataset Name:  reddit , AUC Score (structural):  50.0140358450318\n",
      "Dataset Name:  reddit , AUC Score (joint-type):  49.20352446621265\n",
      "Dataset Name:  reddit , AUC Score (structure type):  49.20352446621265\n",
      "===========================================================================================\n",
      "Dataset Name:  reddit  Best AUC Score(benchmark/combined):  58.31157679453489\n",
      "Dataset Name:  reddit  Best AUC Score (contextual):  57.42915931180224\n",
      "Dataset Name:  reddit  Best AUC Score (structural):  84.64586802095081\n",
      "Dataset Name:  reddit  Best AUC Score (joint-type):  53.173684080051274\n",
      "Dataset Name:  reddit  Best AUC Score (structure type):  84.0504611948401\n",
      "===========================================================================================\n",
      "Dataset Name:  reddit , AUC Score(benchmark/combined):  56.37090897300902\n",
      "Dataset Name:  reddit , AUC Score (contextual):  54.60218467931779\n",
      "Dataset Name:  reddit , AUC Score (structural):  49.99030901735491\n",
      "Dataset Name:  reddit , AUC Score (joint-type):  49.19525261524561\n",
      "Dataset Name:  reddit , AUC Score (structure type):  49.19525261524561\n",
      "===========================================================================================\n",
      "Dataset Name:  reddit  Best AUC Score(benchmark/combined):  58.31157679453489\n",
      "Dataset Name:  reddit  Best AUC Score (contextual):  57.42915931180224\n",
      "Dataset Name:  reddit  Best AUC Score (structural):  84.64586802095081\n",
      "Dataset Name:  reddit  Best AUC Score (joint-type):  53.173684080051274\n",
      "Dataset Name:  reddit  Best AUC Score (structure type):  84.0504611948401\n",
      "===========================================================================================\n"
     ]
    },
    {
     "name": "stderr",
     "output_type": "stream",
     "text": [
      " 31%|███▏      | 157/500 [00:16<00:33, 10.12it/s]"
     ]
    },
    {
     "name": "stdout",
     "output_type": "stream",
     "text": [
      "Dataset Name:  reddit , AUC Score(benchmark/combined):  56.39136603787567\n",
      "Dataset Name:  reddit , AUC Score (contextual):  54.561584309892375\n",
      "Dataset Name:  reddit , AUC Score (structural):  49.99258837095344\n",
      "Dataset Name:  reddit , AUC Score (joint-type):  49.2136429383436\n",
      "Dataset Name:  reddit , AUC Score (structure type):  49.2136429383436\n",
      "===========================================================================================\n",
      "Dataset Name:  reddit  Best AUC Score(benchmark/combined):  58.31157679453489\n",
      "Dataset Name:  reddit  Best AUC Score (contextual):  57.42915931180224\n",
      "Dataset Name:  reddit  Best AUC Score (structural):  84.64586802095081\n",
      "Dataset Name:  reddit  Best AUC Score (joint-type):  53.173684080051274\n",
      "Dataset Name:  reddit  Best AUC Score (structure type):  84.0504611948401\n",
      "===========================================================================================\n",
      "Dataset Name:  reddit , AUC Score(benchmark/combined):  56.37255583106118\n",
      "Dataset Name:  reddit , AUC Score (contextual):  54.52945816087662\n",
      "Dataset Name:  reddit , AUC Score (structural):  50.0057655213205\n",
      "Dataset Name:  reddit , AUC Score (joint-type):  49.198920561393074\n",
      "Dataset Name:  reddit , AUC Score (structure type):  49.198920561393074\n",
      "===========================================================================================\n",
      "Dataset Name:  reddit  Best AUC Score(benchmark/combined):  58.31157679453489\n",
      "Dataset Name:  reddit  Best AUC Score (contextual):  57.42915931180224\n",
      "Dataset Name:  reddit  Best AUC Score (structural):  84.64586802095081\n",
      "Dataset Name:  reddit  Best AUC Score (joint-type):  53.173684080051274\n",
      "Dataset Name:  reddit  Best AUC Score (structure type):  84.0504611948401\n",
      "===========================================================================================\n",
      "Dataset Name:  reddit , AUC Score(benchmark/combined):  56.338254865693585\n",
      "Dataset Name:  reddit , AUC Score (contextual):  54.456503976812506\n",
      "Dataset Name:  reddit , AUC Score (structural):  50.000983023042856\n"
     ]
    },
    {
     "name": "stderr",
     "output_type": "stream",
     "text": [
      " 32%|███▏      | 159/500 [00:16<00:33, 10.16it/s]"
     ]
    },
    {
     "name": "stdout",
     "output_type": "stream",
     "text": [
      "Dataset Name:  reddit , AUC Score (joint-type):  49.20400509363887\n",
      "Dataset Name:  reddit , AUC Score (structure type):  49.20400509363887\n",
      "===========================================================================================\n",
      "Dataset Name:  reddit  Best AUC Score(benchmark/combined):  58.31157679453489\n",
      "Dataset Name:  reddit  Best AUC Score (contextual):  57.42915931180224\n",
      "Dataset Name:  reddit  Best AUC Score (structural):  84.64586802095081\n",
      "Dataset Name:  reddit  Best AUC Score (joint-type):  53.173684080051274\n",
      "Dataset Name:  reddit  Best AUC Score (structure type):  84.0504611948401\n",
      "===========================================================================================\n",
      "Dataset Name:  reddit , AUC Score(benchmark/combined):  56.308379831341156\n",
      "Dataset Name:  reddit , AUC Score (contextual):  54.363489921748794\n",
      "Dataset Name:  reddit , AUC Score (structural):  49.99255355900758\n",
      "Dataset Name:  reddit , AUC Score (joint-type):  49.234082252048104\n",
      "Dataset Name:  reddit , AUC Score (structure type):  49.234082252048104\n",
      "===========================================================================================\n",
      "Dataset Name:  reddit  Best AUC Score(benchmark/combined):  58.31157679453489\n",
      "Dataset Name:  reddit  Best AUC Score (contextual):  57.42915931180224\n",
      "Dataset Name:  reddit  Best AUC Score (structural):  84.64586802095081\n",
      "Dataset Name:  reddit  Best AUC Score (joint-type):  53.173684080051274\n",
      "Dataset Name:  reddit  Best AUC Score (structure type):  84.0504611948401\n",
      "===========================================================================================\n",
      "Dataset Name:  reddit , AUC Score(benchmark/combined):  56.24321314357411\n",
      "Dataset Name:  reddit , AUC Score (contextual):  54.31876627493002\n",
      "Dataset Name:  reddit , AUC Score (structural):  49.9780270313102\n",
      "Dataset Name:  reddit , AUC Score (joint-type):  49.2334245513596\n",
      "Dataset Name:  reddit , AUC Score (structure type):  49.2334245513596\n",
      "===========================================================================================\n",
      "Dataset Name:  reddit  Best AUC Score(benchmark/combined):  58.31157679453489\n",
      "Dataset Name:  reddit  Best AUC Score (contextual):  57.42915931180224\n"
     ]
    },
    {
     "name": "stderr",
     "output_type": "stream",
     "text": [
      " 32%|███▏      | 161/500 [00:16<00:33, 10.16it/s]"
     ]
    },
    {
     "name": "stdout",
     "output_type": "stream",
     "text": [
      "Dataset Name:  reddit  Best AUC Score (structural):  84.64586802095081\n",
      "Dataset Name:  reddit  Best AUC Score (joint-type):  53.173684080051274\n",
      "Dataset Name:  reddit  Best AUC Score (structure type):  84.0504611948401\n",
      "===========================================================================================\n",
      "Dataset Name:  reddit , AUC Score(benchmark/combined):  56.270296238884995\n",
      "Dataset Name:  reddit , AUC Score (contextual):  54.301817834110686\n",
      "Dataset Name:  reddit , AUC Score (structural):  50.000716131457864\n",
      "Dataset Name:  reddit , AUC Score (joint-type):  49.22543095837615\n",
      "Dataset Name:  reddit , AUC Score (structure type):  49.22543095837615\n",
      "===========================================================================================\n",
      "Dataset Name:  reddit  Best AUC Score(benchmark/combined):  58.31157679453489\n",
      "Dataset Name:  reddit  Best AUC Score (contextual):  57.42915931180224\n",
      "Dataset Name:  reddit  Best AUC Score (structural):  84.64586802095081\n",
      "Dataset Name:  reddit  Best AUC Score (joint-type):  53.173684080051274\n",
      "Dataset Name:  reddit  Best AUC Score (structure type):  84.0504611948401\n",
      "===========================================================================================\n",
      "Dataset Name:  reddit , AUC Score(benchmark/combined):  56.24350906338036\n",
      "Dataset Name:  reddit , AUC Score (contextual):  54.2712347520949\n",
      "Dataset Name:  reddit , AUC Score (structural):  49.9887971842772\n",
      "Dataset Name:  reddit , AUC Score (joint-type):  49.1788859865738\n",
      "Dataset Name:  reddit , AUC Score (structure type):  49.1788859865738\n",
      "===========================================================================================\n",
      "Dataset Name:  reddit  Best AUC Score(benchmark/combined):  58.31157679453489\n",
      "Dataset Name:  reddit  Best AUC Score (contextual):  57.42915931180224\n",
      "Dataset Name:  reddit  Best AUC Score (structural):  84.64586802095081\n",
      "Dataset Name:  reddit  Best AUC Score (joint-type):  53.173684080051274\n",
      "Dataset Name:  reddit  Best AUC Score (structure type):  84.0504611948401\n",
      "===========================================================================================\n"
     ]
    },
    {
     "name": "stderr",
     "output_type": "stream",
     "text": [
      " 33%|███▎      | 165/500 [00:17<00:32, 10.20it/s]"
     ]
    },
    {
     "name": "stdout",
     "output_type": "stream",
     "text": [
      "Dataset Name:  reddit , AUC Score(benchmark/combined):  56.22005420221565\n",
      "Dataset Name:  reddit , AUC Score (contextual):  54.20882907522729\n",
      "Dataset Name:  reddit , AUC Score (structural):  49.97668925796182\n",
      "Dataset Name:  reddit , AUC Score (joint-type):  49.197200421130816\n",
      "Dataset Name:  reddit , AUC Score (structure type):  49.197200421130816\n",
      "===========================================================================================\n",
      "Dataset Name:  reddit  Best AUC Score(benchmark/combined):  58.31157679453489\n",
      "Dataset Name:  reddit  Best AUC Score (contextual):  57.42915931180224\n",
      "Dataset Name:  reddit  Best AUC Score (structural):  84.64586802095081\n",
      "Dataset Name:  reddit  Best AUC Score (joint-type):  53.173684080051274\n",
      "Dataset Name:  reddit  Best AUC Score (structure type):  84.0504611948401\n",
      "===========================================================================================\n",
      "Dataset Name:  reddit , AUC Score(benchmark/combined):  56.219964139665926\n",
      "Dataset Name:  reddit , AUC Score (contextual):  54.16724215476911\n",
      "Dataset Name:  reddit , AUC Score (structural):  49.97533324978466\n",
      "Dataset Name:  reddit , AUC Score (joint-type):  49.200286555130745\n",
      "Dataset Name:  reddit , AUC Score (structure type):  49.200286555130745\n",
      "===========================================================================================\n",
      "Dataset Name:  reddit  Best AUC Score(benchmark/combined):  58.31157679453489\n",
      "Dataset Name:  reddit  Best AUC Score (contextual):  57.42915931180224\n",
      "Dataset Name:  reddit  Best AUC Score (structural):  84.64586802095081\n",
      "Dataset Name:  reddit  Best AUC Score (joint-type):  53.173684080051274\n",
      "Dataset Name:  reddit  Best AUC Score (structure type):  84.0504611948401\n",
      "===========================================================================================\n",
      "Dataset Name:  reddit , AUC Score(benchmark/combined):  56.23026986857044\n",
      "Dataset Name:  reddit , AUC Score (contextual):  54.12178491872084\n",
      "Dataset Name:  reddit , AUC Score (structural):  49.995084884785726\n"
     ]
    },
    {
     "name": "stderr",
     "output_type": "stream",
     "text": [
      " 33%|███▎      | 167/500 [00:17<00:32, 10.19it/s]"
     ]
    },
    {
     "name": "stdout",
     "output_type": "stream",
     "text": [
      "Dataset Name:  reddit , AUC Score (joint-type):  49.19037045244242\n",
      "Dataset Name:  reddit , AUC Score (structure type):  49.19037045244242\n",
      "===========================================================================================\n",
      "Dataset Name:  reddit  Best AUC Score(benchmark/combined):  58.31157679453489\n",
      "Dataset Name:  reddit  Best AUC Score (contextual):  57.42915931180224\n",
      "Dataset Name:  reddit  Best AUC Score (structural):  84.64586802095081\n",
      "Dataset Name:  reddit  Best AUC Score (joint-type):  53.173684080051274\n",
      "Dataset Name:  reddit  Best AUC Score (structure type):  84.0504611948401\n",
      "===========================================================================================\n",
      "Dataset Name:  reddit , AUC Score(benchmark/combined):  56.17443108773945\n",
      "Dataset Name:  reddit , AUC Score (contextual):  54.028619086575155\n",
      "Dataset Name:  reddit , AUC Score (structural):  49.95915895664951\n",
      "Dataset Name:  reddit , AUC Score (joint-type):  49.18852383127852\n",
      "Dataset Name:  reddit , AUC Score (structure type):  49.18852383127852\n",
      "===========================================================================================\n",
      "Dataset Name:  reddit  Best AUC Score(benchmark/combined):  58.31157679453489\n",
      "Dataset Name:  reddit  Best AUC Score (contextual):  57.42915931180224\n",
      "Dataset Name:  reddit  Best AUC Score (structural):  84.64586802095081\n",
      "Dataset Name:  reddit  Best AUC Score (joint-type):  53.173684080051274\n",
      "Dataset Name:  reddit  Best AUC Score (structure type):  84.0504611948401\n",
      "===========================================================================================\n",
      "Dataset Name:  reddit , AUC Score(benchmark/combined):  56.17569196343564\n",
      "Dataset Name:  reddit , AUC Score (contextual):  53.97372637526479\n",
      "Dataset Name:  reddit , AUC Score (structural):  49.953414985581226\n",
      "Dataset Name:  reddit , AUC Score (joint-type):  49.19049693334406\n",
      "Dataset Name:  reddit , AUC Score (structure type):  49.19049693334406\n",
      "===========================================================================================\n",
      "Dataset Name:  reddit  Best AUC Score(benchmark/combined):  58.31157679453489\n",
      "Dataset Name:  reddit  Best AUC Score (contextual):  57.42915931180224\n"
     ]
    },
    {
     "name": "stderr",
     "output_type": "stream",
     "text": [
      " 34%|███▍      | 169/500 [00:17<00:32, 10.20it/s]"
     ]
    },
    {
     "name": "stdout",
     "output_type": "stream",
     "text": [
      "Dataset Name:  reddit  Best AUC Score (structural):  84.64586802095081\n",
      "Dataset Name:  reddit  Best AUC Score (joint-type):  53.173684080051274\n",
      "Dataset Name:  reddit  Best AUC Score (structure type):  84.0504611948401\n",
      "===========================================================================================\n",
      "Dataset Name:  reddit , AUC Score(benchmark/combined):  56.213260912750485\n",
      "Dataset Name:  reddit , AUC Score (contextual):  53.955943160494655\n",
      "Dataset Name:  reddit , AUC Score (structural):  49.98858168175516\n",
      "Dataset Name:  reddit , AUC Score (joint-type):  49.19401310240956\n",
      "Dataset Name:  reddit , AUC Score (structure type):  49.19401310240956\n",
      "===========================================================================================\n",
      "Dataset Name:  reddit  Best AUC Score(benchmark/combined):  58.31157679453489\n",
      "Dataset Name:  reddit  Best AUC Score (contextual):  57.42915931180224\n",
      "Dataset Name:  reddit  Best AUC Score (structural):  84.64586802095081\n",
      "Dataset Name:  reddit  Best AUC Score (joint-type):  53.173684080051274\n",
      "Dataset Name:  reddit  Best AUC Score (structure type):  84.0504611948401\n",
      "===========================================================================================\n",
      "Dataset Name:  reddit , AUC Score(benchmark/combined):  56.162967411767006\n",
      "Dataset Name:  reddit , AUC Score (contextual):  53.909297003971005\n",
      "Dataset Name:  reddit , AUC Score (structural):  49.95533958887424\n",
      "Dataset Name:  reddit , AUC Score (joint-type):  49.20812837103223\n",
      "Dataset Name:  reddit , AUC Score (structure type):  49.20812837103223\n",
      "===========================================================================================\n",
      "Dataset Name:  reddit  Best AUC Score(benchmark/combined):  58.31157679453489\n",
      "Dataset Name:  reddit  Best AUC Score (contextual):  57.42915931180224\n",
      "Dataset Name:  reddit  Best AUC Score (structural):  84.64586802095081\n",
      "Dataset Name:  reddit  Best AUC Score (joint-type):  53.173684080051274\n",
      "Dataset Name:  reddit  Best AUC Score (structure type):  84.0504611948401\n",
      "===========================================================================================\n"
     ]
    },
    {
     "name": "stderr",
     "output_type": "stream",
     "text": [
      " 34%|███▍      | 171/500 [00:17<00:32, 10.22it/s]"
     ]
    },
    {
     "name": "stdout",
     "output_type": "stream",
     "text": [
      "Dataset Name:  reddit , AUC Score(benchmark/combined):  56.136875004503125\n",
      "Dataset Name:  reddit , AUC Score (contextual):  53.89538410479094\n",
      "Dataset Name:  reddit , AUC Score (structural):  49.94418484679096\n",
      "Dataset Name:  reddit , AUC Score (joint-type):  49.22581040108106\n",
      "Dataset Name:  reddit , AUC Score (structure type):  49.22581040108106\n",
      "===========================================================================================\n",
      "Dataset Name:  reddit  Best AUC Score(benchmark/combined):  58.31157679453489\n",
      "Dataset Name:  reddit  Best AUC Score (contextual):  57.42915931180224\n",
      "Dataset Name:  reddit  Best AUC Score (structural):  84.64586802095081\n",
      "Dataset Name:  reddit  Best AUC Score (joint-type):  53.173684080051274\n",
      "Dataset Name:  reddit  Best AUC Score (structure type):  84.0504611948401\n",
      "===========================================================================================\n",
      "Dataset Name:  reddit , AUC Score(benchmark/combined):  56.139988595507994\n",
      "Dataset Name:  reddit , AUC Score (contextual):  53.86874722690622\n",
      "Dataset Name:  reddit , AUC Score (structural):  49.94830094496198\n",
      "Dataset Name:  reddit , AUC Score (joint-type):  49.23175500345799\n",
      "Dataset Name:  reddit , AUC Score (structure type):  49.23175500345799\n",
      "===========================================================================================\n",
      "Dataset Name:  reddit  Best AUC Score(benchmark/combined):  58.31157679453489\n",
      "Dataset Name:  reddit  Best AUC Score (contextual):  57.42915931180224\n",
      "Dataset Name:  reddit  Best AUC Score (structural):  84.64586802095081\n",
      "Dataset Name:  reddit  Best AUC Score (joint-type):  53.173684080051274\n",
      "Dataset Name:  reddit  Best AUC Score (structure type):  84.0504611948401\n",
      "===========================================================================================\n",
      "Dataset Name:  reddit , AUC Score(benchmark/combined):  56.09298881062883\n",
      "Dataset Name:  reddit , AUC Score (contextual):  53.82207577420225\n",
      "Dataset Name:  reddit , AUC Score (structural):  49.925412919409354\n"
     ]
    },
    {
     "name": "stderr",
     "output_type": "stream",
     "text": [
      " 35%|███▍      | 173/500 [00:18<00:32, 10.22it/s]"
     ]
    },
    {
     "name": "stdout",
     "output_type": "stream",
     "text": [
      "Dataset Name:  reddit , AUC Score (joint-type):  49.23104671040882\n",
      "Dataset Name:  reddit , AUC Score (structure type):  49.23104671040882\n",
      "===========================================================================================\n",
      "Dataset Name:  reddit  Best AUC Score(benchmark/combined):  58.31157679453489\n",
      "Dataset Name:  reddit  Best AUC Score (contextual):  57.42915931180224\n",
      "Dataset Name:  reddit  Best AUC Score (structural):  84.64586802095081\n",
      "Dataset Name:  reddit  Best AUC Score (joint-type):  53.173684080051274\n",
      "Dataset Name:  reddit  Best AUC Score (structure type):  84.0504611948401\n",
      "===========================================================================================\n",
      "Dataset Name:  reddit , AUC Score(benchmark/combined):  56.108994212323225\n",
      "Dataset Name:  reddit , AUC Score (contextual):  53.812311448595885\n",
      "Dataset Name:  reddit , AUC Score (structural):  49.94979620092262\n",
      "Dataset Name:  reddit , AUC Score (joint-type):  49.22130768098278\n",
      "Dataset Name:  reddit , AUC Score (structure type):  49.22130768098278\n",
      "===========================================================================================\n",
      "Dataset Name:  reddit  Best AUC Score(benchmark/combined):  58.31157679453489\n",
      "Dataset Name:  reddit  Best AUC Score (contextual):  57.42915931180224\n",
      "Dataset Name:  reddit  Best AUC Score (structural):  84.64586802095081\n",
      "Dataset Name:  reddit  Best AUC Score (joint-type):  53.173684080051274\n",
      "Dataset Name:  reddit  Best AUC Score (structure type):  84.0504611948401\n",
      "===========================================================================================\n",
      "Dataset Name:  reddit , AUC Score(benchmark/combined):  56.126723668541004\n",
      "Dataset Name:  reddit , AUC Score (contextual):  53.8001186896781\n",
      "Dataset Name:  reddit , AUC Score (structural):  49.95666078510553\n",
      "Dataset Name:  reddit , AUC Score (joint-type):  49.21376941924523\n",
      "Dataset Name:  reddit , AUC Score (structure type):  49.21376941924523\n",
      "===========================================================================================\n",
      "Dataset Name:  reddit  Best AUC Score(benchmark/combined):  58.31157679453489\n",
      "Dataset Name:  reddit  Best AUC Score (contextual):  57.42915931180224\n"
     ]
    },
    {
     "name": "stderr",
     "output_type": "stream",
     "text": [
      " 35%|███▌      | 175/500 [00:18<00:31, 10.24it/s]"
     ]
    },
    {
     "name": "stdout",
     "output_type": "stream",
     "text": [
      "Dataset Name:  reddit  Best AUC Score (structural):  84.64586802095081\n",
      "Dataset Name:  reddit  Best AUC Score (joint-type):  53.173684080051274\n",
      "Dataset Name:  reddit  Best AUC Score (structure type):  84.0504611948401\n",
      "===========================================================================================\n",
      "Dataset Name:  reddit , AUC Score(benchmark/combined):  56.11608342159463\n",
      "Dataset Name:  reddit , AUC Score (contextual):  53.77735212738347\n",
      "Dataset Name:  reddit , AUC Score (structural):  49.951695938540006\n",
      "Dataset Name:  reddit , AUC Score (joint-type):  49.21328879181901\n",
      "Dataset Name:  reddit , AUC Score (structure type):  49.21328879181901\n",
      "===========================================================================================\n",
      "Dataset Name:  reddit  Best AUC Score(benchmark/combined):  58.31157679453489\n",
      "Dataset Name:  reddit  Best AUC Score (contextual):  57.42915931180224\n",
      "Dataset Name:  reddit  Best AUC Score (structural):  84.64586802095081\n",
      "Dataset Name:  reddit  Best AUC Score (joint-type):  53.173684080051274\n",
      "Dataset Name:  reddit  Best AUC Score (structure type):  84.0504611948401\n",
      "===========================================================================================\n",
      "Dataset Name:  reddit , AUC Score(benchmark/combined):  56.09596087476982\n",
      "Dataset Name:  reddit , AUC Score (contextual):  53.75370019877739\n",
      "Dataset Name:  reddit , AUC Score (structural):  49.94600169882296\n",
      "Dataset Name:  reddit , AUC Score (joint-type):  49.2129093491141\n",
      "Dataset Name:  reddit , AUC Score (structure type):  49.2129093491141\n",
      "===========================================================================================\n",
      "Dataset Name:  reddit  Best AUC Score(benchmark/combined):  58.31157679453489\n",
      "Dataset Name:  reddit  Best AUC Score (contextual):  57.42915931180224\n",
      "Dataset Name:  reddit  Best AUC Score (structural):  84.64586802095081\n",
      "Dataset Name:  reddit  Best AUC Score (joint-type):  53.173684080051274\n"
     ]
    },
    {
     "name": "stderr",
     "output_type": "stream",
     "text": [
      " 35%|███▌      | 177/500 [00:18<00:31, 10.19it/s]"
     ]
    },
    {
     "name": "stdout",
     "output_type": "stream",
     "text": [
      "Dataset Name:  reddit  Best AUC Score (structure type):  84.0504611948401\n",
      "===========================================================================================\n",
      "Dataset Name:  reddit , AUC Score(benchmark/combined):  56.10669118426592\n",
      "Dataset Name:  reddit , AUC Score (contextual):  53.74087503535141\n",
      "Dataset Name:  reddit , AUC Score (structural):  49.9462785366782\n",
      "Dataset Name:  reddit , AUC Score (joint-type):  49.21941046745823\n",
      "Dataset Name:  reddit , AUC Score (structure type):  49.21941046745823\n",
      "===========================================================================================\n",
      "Dataset Name:  reddit  Best AUC Score(benchmark/combined):  58.31157679453489\n",
      "Dataset Name:  reddit  Best AUC Score (contextual):  57.42915931180224\n",
      "Dataset Name:  reddit  Best AUC Score (structural):  84.64586802095081\n",
      "Dataset Name:  reddit  Best AUC Score (joint-type):  53.173684080051274\n",
      "Dataset Name:  reddit  Best AUC Score (structure type):  84.0504611948401\n",
      "===========================================================================================\n",
      "Dataset Name:  reddit , AUC Score(benchmark/combined):  56.09252563180165\n",
      "Dataset Name:  reddit , AUC Score (contextual):  53.71790610361417\n",
      "Dataset Name:  reddit , AUC Score (structural):  49.93400981232714\n",
      "Dataset Name:  reddit , AUC Score (joint-type):  49.20757185506503\n",
      "Dataset Name:  reddit , AUC Score (structure type):  49.20757185506503\n",
      "===========================================================================================\n",
      "Dataset Name:  reddit  Best AUC Score(benchmark/combined):  58.31157679453489\n",
      "Dataset Name:  reddit  Best AUC Score (contextual):  57.42915931180224\n",
      "Dataset Name:  reddit  Best AUC Score (structural):  84.64586802095081\n",
      "Dataset Name:  reddit  Best AUC Score (joint-type):  53.173684080051274\n",
      "Dataset Name:  reddit  Best AUC Score (structure type):  84.0504611948401\n",
      "===========================================================================================\n"
     ]
    },
    {
     "name": "stderr",
     "output_type": "stream",
     "text": [
      " 36%|███▌      | 181/500 [00:18<00:31, 10.15it/s]"
     ]
    },
    {
     "name": "stdout",
     "output_type": "stream",
     "text": [
      "Dataset Name:  reddit , AUC Score(benchmark/combined):  56.096964428895355\n",
      "Dataset Name:  reddit , AUC Score (contextual):  53.69028267469669\n",
      "Dataset Name:  reddit , AUC Score (structural):  49.941625339913784\n",
      "Dataset Name:  reddit , AUC Score (joint-type):  49.19009219445881\n",
      "Dataset Name:  reddit , AUC Score (structure type):  49.19009219445881\n",
      "===========================================================================================\n",
      "Dataset Name:  reddit  Best AUC Score(benchmark/combined):  58.31157679453489\n",
      "Dataset Name:  reddit  Best AUC Score (contextual):  57.42915931180224\n",
      "Dataset Name:  reddit  Best AUC Score (structural):  84.64586802095081\n",
      "Dataset Name:  reddit  Best AUC Score (joint-type):  53.173684080051274\n",
      "Dataset Name:  reddit  Best AUC Score (structure type):  84.0504611948401\n",
      "===========================================================================================\n",
      "Dataset Name:  reddit , AUC Score(benchmark/combined):  56.080573044844975\n",
      "Dataset Name:  reddit , AUC Score (contextual):  53.641865785550124\n",
      "Dataset Name:  reddit , AUC Score (structural):  49.91423828478558\n",
      "Dataset Name:  reddit , AUC Score (joint-type):  49.195202022884956\n",
      "Dataset Name:  reddit , AUC Score (structure type):  49.195202022884956\n",
      "===========================================================================================\n",
      "Dataset Name:  reddit  Best AUC Score(benchmark/combined):  58.31157679453489\n",
      "Dataset Name:  reddit  Best AUC Score (contextual):  57.42915931180224\n",
      "Dataset Name:  reddit  Best AUC Score (structural):  84.64586802095081\n",
      "Dataset Name:  reddit  Best AUC Score (joint-type):  53.173684080051274\n",
      "Dataset Name:  reddit  Best AUC Score (structure type):  84.0504611948401\n",
      "===========================================================================================\n",
      "Dataset Name:  reddit , AUC Score(benchmark/combined):  56.08369950192837\n"
     ]
    },
    {
     "name": "stderr",
     "output_type": "stream",
     "text": [
      " 37%|███▋      | 183/500 [00:19<00:31, 10.15it/s]"
     ]
    },
    {
     "name": "stdout",
     "output_type": "stream",
     "text": [
      "Dataset Name:  reddit , AUC Score (contextual):  53.593752450567465\n",
      "Dataset Name:  reddit , AUC Score (structural):  49.914599665937935\n",
      "Dataset Name:  reddit , AUC Score (joint-type):  49.20190551067171\n",
      "Dataset Name:  reddit , AUC Score (structure type):  49.20190551067171\n",
      "===========================================================================================\n",
      "Dataset Name:  reddit  Best AUC Score(benchmark/combined):  58.31157679453489\n",
      "Dataset Name:  reddit  Best AUC Score (contextual):  57.42915931180224\n",
      "Dataset Name:  reddit  Best AUC Score (structural):  84.64586802095081\n",
      "Dataset Name:  reddit  Best AUC Score (joint-type):  53.173684080051274\n",
      "Dataset Name:  reddit  Best AUC Score (structure type):  84.0504611948401\n",
      "===========================================================================================\n",
      "Dataset Name:  reddit , AUC Score(benchmark/combined):  56.06370561588889\n",
      "Dataset Name:  reddit , AUC Score (contextual):  53.555201071748584\n",
      "Dataset Name:  reddit , AUC Score (structural):  49.91583631887212\n",
      "Dataset Name:  reddit , AUC Score (joint-type):  49.212049278982974\n",
      "Dataset Name:  reddit , AUC Score (structure type):  49.212049278982974\n",
      "===========================================================================================\n",
      "Dataset Name:  reddit  Best AUC Score(benchmark/combined):  58.31157679453489\n",
      "Dataset Name:  reddit  Best AUC Score (contextual):  57.42915931180224\n",
      "Dataset Name:  reddit  Best AUC Score (structural):  84.64586802095081\n",
      "Dataset Name:  reddit  Best AUC Score (joint-type):  53.173684080051274\n",
      "Dataset Name:  reddit  Best AUC Score (structure type):  84.0504611948401\n",
      "===========================================================================================\n",
      "Dataset Name:  reddit , AUC Score(benchmark/combined):  56.06577705453262\n",
      "Dataset Name:  reddit , AUC Score (contextual):  53.52810886261796\n",
      "Dataset Name:  reddit , AUC Score (structural):  49.938202165236724\n",
      "Dataset Name:  reddit , AUC Score (joint-type):  49.206458823130625\n",
      "Dataset Name:  reddit , AUC Score (structure type):  49.206458823130625\n",
      "===========================================================================================\n",
      "Dataset Name:  reddit  Best AUC Score(benchmark/combined):  58.31157679453489\n"
     ]
    },
    {
     "name": "stderr",
     "output_type": "stream",
     "text": [
      " 37%|███▋      | 185/500 [00:19<00:30, 10.17it/s]"
     ]
    },
    {
     "name": "stdout",
     "output_type": "stream",
     "text": [
      "Dataset Name:  reddit  Best AUC Score (contextual):  57.42915931180224\n",
      "Dataset Name:  reddit  Best AUC Score (structural):  84.64586802095081\n",
      "Dataset Name:  reddit  Best AUC Score (joint-type):  53.173684080051274\n",
      "Dataset Name:  reddit  Best AUC Score (structure type):  84.0504611948401\n",
      "===========================================================================================\n",
      "Dataset Name:  reddit , AUC Score(benchmark/combined):  56.07546521166758\n",
      "Dataset Name:  reddit , AUC Score (contextual):  53.51239993463467\n",
      "Dataset Name:  reddit , AUC Score (structural):  49.95517547541514\n",
      "Dataset Name:  reddit , AUC Score (joint-type):  49.199805927704524\n",
      "Dataset Name:  reddit , AUC Score (structure type):  49.199805927704524\n",
      "===========================================================================================\n",
      "Dataset Name:  reddit  Best AUC Score(benchmark/combined):  58.31157679453489\n",
      "Dataset Name:  reddit  Best AUC Score (contextual):  57.42915931180224\n",
      "Dataset Name:  reddit  Best AUC Score (structural):  84.64586802095081\n",
      "Dataset Name:  reddit  Best AUC Score (joint-type):  53.173684080051274\n",
      "Dataset Name:  reddit  Best AUC Score (structure type):  84.0504611948401\n",
      "===========================================================================================\n",
      "Dataset Name:  reddit , AUC Score(benchmark/combined):  56.07697054285589\n",
      "Dataset Name:  reddit , AUC Score (contextual):  53.49170765912689\n",
      "Dataset Name:  reddit , AUC Score (structural):  49.966320271228156\n",
      "Dataset Name:  reddit , AUC Score (joint-type):  49.20815366721255\n",
      "Dataset Name:  reddit , AUC Score (structure type):  49.20815366721255\n",
      "===========================================================================================\n",
      "Dataset Name:  reddit  Best AUC Score(benchmark/combined):  58.31157679453489\n",
      "Dataset Name:  reddit  Best AUC Score (contextual):  57.42915931180224\n",
      "Dataset Name:  reddit  Best AUC Score (structural):  84.64586802095081\n",
      "Dataset Name:  reddit  Best AUC Score (joint-type):  53.173684080051274\n"
     ]
    },
    {
     "name": "stderr",
     "output_type": "stream",
     "text": [
      " 37%|███▋      | 187/500 [00:19<00:30, 10.19it/s]"
     ]
    },
    {
     "name": "stdout",
     "output_type": "stream",
     "text": [
      "Dataset Name:  reddit  Best AUC Score (structure type):  84.0504611948401\n",
      "===========================================================================================\n",
      "Dataset Name:  reddit , AUC Score(benchmark/combined):  56.064863562956816\n",
      "Dataset Name:  reddit , AUC Score (contextual):  53.48009671235663\n",
      "Dataset Name:  reddit , AUC Score (structural):  49.96975173446376\n",
      "Dataset Name:  reddit , AUC Score (joint-type):  49.230591379162924\n",
      "Dataset Name:  reddit , AUC Score (structure type):  49.230591379162924\n",
      "===========================================================================================\n",
      "Dataset Name:  reddit  Best AUC Score(benchmark/combined):  58.31157679453489\n",
      "Dataset Name:  reddit  Best AUC Score (contextual):  57.42915931180224\n",
      "Dataset Name:  reddit  Best AUC Score (structural):  84.64586802095081\n",
      "Dataset Name:  reddit  Best AUC Score (joint-type):  53.173684080051274\n",
      "Dataset Name:  reddit  Best AUC Score (structure type):  84.0504611948401\n",
      "===========================================================================================\n",
      "Dataset Name:  reddit , AUC Score(benchmark/combined):  56.061415453910115\n",
      "Dataset Name:  reddit , AUC Score (contextual):  53.47617580440589\n",
      "Dataset Name:  reddit , AUC Score (structural):  49.97316330515886\n",
      "Dataset Name:  reddit , AUC Score (joint-type):  49.25904958203122\n",
      "Dataset Name:  reddit , AUC Score (structure type):  49.25904958203122\n",
      "===========================================================================================\n",
      "Dataset Name:  reddit  Best AUC Score(benchmark/combined):  58.31157679453489\n",
      "Dataset Name:  reddit  Best AUC Score (contextual):  57.42915931180224\n",
      "Dataset Name:  reddit  Best AUC Score (structural):  84.64586802095081\n",
      "Dataset Name:  reddit  Best AUC Score (joint-type):  53.173684080051274\n",
      "Dataset Name:  reddit  Best AUC Score (structure type):  84.0504611948401\n",
      "===========================================================================================\n"
     ]
    },
    {
     "name": "stderr",
     "output_type": "stream",
     "text": [
      " 38%|███▊      | 189/500 [00:19<00:30, 10.20it/s]"
     ]
    },
    {
     "name": "stdout",
     "output_type": "stream",
     "text": [
      "Dataset Name:  reddit , AUC Score(benchmark/combined):  56.05552278994222\n",
      "Dataset Name:  reddit , AUC Score (contextual):  53.46957350134045\n",
      "Dataset Name:  reddit , AUC Score (structural):  49.974428139192085\n",
      "Dataset Name:  reddit , AUC Score (joint-type):  49.276124503752186\n",
      "Dataset Name:  reddit , AUC Score (structure type):  49.276124503752186\n",
      "===========================================================================================\n",
      "Dataset Name:  reddit  Best AUC Score(benchmark/combined):  58.31157679453489\n",
      "Dataset Name:  reddit  Best AUC Score (contextual):  57.42915931180224\n",
      "Dataset Name:  reddit  Best AUC Score (structural):  84.64586802095081\n",
      "Dataset Name:  reddit  Best AUC Score (joint-type):  53.173684080051274\n",
      "Dataset Name:  reddit  Best AUC Score (structure type):  84.0504611948401\n",
      "===========================================================================================\n",
      "Dataset Name:  reddit , AUC Score(benchmark/combined):  56.063255303140245\n",
      "Dataset Name:  reddit , AUC Score (contextual):  53.466006739914285\n",
      "Dataset Name:  reddit , AUC Score (structural):  49.97242065031367\n",
      "Dataset Name:  reddit , AUC Score (joint-type):  49.28346039604712\n",
      "Dataset Name:  reddit , AUC Score (structure type):  49.28346039604712\n",
      "===========================================================================================\n",
      "Dataset Name:  reddit  Best AUC Score(benchmark/combined):  58.31157679453489\n",
      "Dataset Name:  reddit  Best AUC Score (contextual):  57.42915931180224\n",
      "Dataset Name:  reddit  Best AUC Score (structural):  84.64586802095081\n",
      "Dataset Name:  reddit  Best AUC Score (joint-type):  53.173684080051274\n",
      "Dataset Name:  reddit  Best AUC Score (structure type):  84.0504611948401\n",
      "===========================================================================================\n",
      "Dataset Name:  reddit , AUC Score(benchmark/combined):  56.05713104975878\n",
      "Dataset Name:  reddit , AUC Score (contextual):  53.46352771424221\n",
      "Dataset Name:  reddit , AUC Score (structural):  49.97375510823863\n"
     ]
    },
    {
     "name": "stderr",
     "output_type": "stream",
     "text": [
      " 38%|███▊      | 191/500 [00:19<00:30, 10.20it/s]"
     ]
    },
    {
     "name": "stdout",
     "output_type": "stream",
     "text": [
      "Dataset Name:  reddit , AUC Score (joint-type):  49.28695126893229\n",
      "Dataset Name:  reddit , AUC Score (structure type):  49.28695126893229\n",
      "===========================================================================================\n",
      "Dataset Name:  reddit  Best AUC Score(benchmark/combined):  58.31157679453489\n",
      "Dataset Name:  reddit  Best AUC Score (contextual):  57.42915931180224\n",
      "Dataset Name:  reddit  Best AUC Score (structural):  84.64586802095081\n",
      "Dataset Name:  reddit  Best AUC Score (joint-type):  53.173684080051274\n",
      "Dataset Name:  reddit  Best AUC Score (structure type):  84.0504611948401\n",
      "===========================================================================================\n",
      "Dataset Name:  reddit , AUC Score(benchmark/combined):  56.03730442274022\n",
      "Dataset Name:  reddit , AUC Score (contextual):  53.4602898031603\n",
      "Dataset Name:  reddit , AUC Score (structural):  49.97249193191712\n",
      "Dataset Name:  reddit , AUC Score (joint-type):  49.28690067657164\n",
      "Dataset Name:  reddit , AUC Score (structure type):  49.28690067657164\n",
      "===========================================================================================\n",
      "Dataset Name:  reddit  Best AUC Score(benchmark/combined):  58.31157679453489\n",
      "Dataset Name:  reddit  Best AUC Score (contextual):  57.42915931180224\n",
      "Dataset Name:  reddit  Best AUC Score (structural):  84.64586802095081\n",
      "Dataset Name:  reddit  Best AUC Score (joint-type):  53.173684080051274\n",
      "Dataset Name:  reddit  Best AUC Score (structure type):  84.0504611948401\n",
      "===========================================================================================\n",
      "Dataset Name:  reddit , AUC Score(benchmark/combined):  56.03892554863532\n",
      "Dataset Name:  reddit , AUC Score (contextual):  53.46340123334057\n",
      "Dataset Name:  reddit , AUC Score (structural):  49.9749884457494\n",
      "Dataset Name:  reddit , AUC Score (joint-type):  49.29041684563714\n",
      "Dataset Name:  reddit , AUC Score (structure type):  49.29041684563714\n",
      "===========================================================================================\n",
      "Dataset Name:  reddit  Best AUC Score(benchmark/combined):  58.31157679453489\n",
      "Dataset Name:  reddit  Best AUC Score (contextual):  57.42915931180224\n"
     ]
    },
    {
     "name": "stderr",
     "output_type": "stream",
     "text": [
      " 39%|███▊      | 193/500 [00:20<00:30, 10.21it/s]"
     ]
    },
    {
     "name": "stdout",
     "output_type": "stream",
     "text": [
      "Dataset Name:  reddit  Best AUC Score (structural):  84.64586802095081\n",
      "Dataset Name:  reddit  Best AUC Score (joint-type):  53.173684080051274\n",
      "Dataset Name:  reddit  Best AUC Score (structure type):  84.0504611948401\n",
      "===========================================================================================\n",
      "Dataset Name:  reddit , AUC Score(benchmark/combined):  56.041575960813006\n",
      "Dataset Name:  reddit , AUC Score (contextual):  53.46904228155357\n",
      "Dataset Name:  reddit , AUC Score (structural):  49.973746819680095\n",
      "Dataset Name:  reddit , AUC Score (joint-type):  49.278122901998046\n",
      "Dataset Name:  reddit , AUC Score (structure type):  49.278122901998046\n",
      "===========================================================================================\n",
      "Dataset Name:  reddit  Best AUC Score(benchmark/combined):  58.31157679453489\n",
      "Dataset Name:  reddit  Best AUC Score (contextual):  57.42915931180224\n",
      "Dataset Name:  reddit  Best AUC Score (structural):  84.64586802095081\n",
      "Dataset Name:  reddit  Best AUC Score (joint-type):  53.173684080051274\n",
      "Dataset Name:  reddit  Best AUC Score (structure type):  84.0504611948401\n",
      "===========================================================================================\n",
      "Dataset Name:  reddit , AUC Score(benchmark/combined):  56.04579603457167\n",
      "Dataset Name:  reddit , AUC Score (contextual):  53.46990235168471\n",
      "Dataset Name:  reddit , AUC Score (structural):  49.970444657957714\n",
      "Dataset Name:  reddit , AUC Score (joint-type):  49.2441501318184\n",
      "Dataset Name:  reddit , AUC Score (structure type):  49.2441501318184\n",
      "===========================================================================================\n",
      "Dataset Name:  reddit  Best AUC Score(benchmark/combined):  58.31157679453489\n",
      "Dataset Name:  reddit  Best AUC Score (contextual):  57.42915931180224\n",
      "Dataset Name:  reddit  Best AUC Score (structural):  84.64586802095081\n",
      "Dataset Name:  reddit  Best AUC Score (joint-type):  53.173684080051274\n",
      "Dataset Name:  reddit  Best AUC Score (structure type):  84.0504611948401\n",
      "===========================================================================================\n"
     ]
    },
    {
     "name": "stderr",
     "output_type": "stream",
     "text": [
      " 39%|███▉      | 197/500 [00:20<00:29, 10.23it/s]"
     ]
    },
    {
     "name": "stdout",
     "output_type": "stream",
     "text": [
      "Dataset Name:  reddit , AUC Score(benchmark/combined):  56.0478288749798\n",
      "Dataset Name:  reddit , AUC Score (contextual):  53.48113385575005\n",
      "Dataset Name:  reddit , AUC Score (structural):  49.972684226475245\n",
      "Dataset Name:  reddit , AUC Score (joint-type):  49.2431382846053\n",
      "Dataset Name:  reddit , AUC Score (structure type):  49.2431382846053\n",
      "===========================================================================================\n",
      "Dataset Name:  reddit  Best AUC Score(benchmark/combined):  58.31157679453489\n",
      "Dataset Name:  reddit  Best AUC Score (contextual):  57.42915931180224\n",
      "Dataset Name:  reddit  Best AUC Score (structural):  84.64586802095081\n",
      "Dataset Name:  reddit  Best AUC Score (joint-type):  53.173684080051274\n",
      "Dataset Name:  reddit  Best AUC Score (structure type):  84.0504611948401\n",
      "===========================================================================================\n",
      "Dataset Name:  reddit , AUC Score(benchmark/combined):  56.04256664886002\n",
      "Dataset Name:  reddit , AUC Score (contextual):  53.514044186355946\n",
      "Dataset Name:  reddit , AUC Score (structural):  49.95823561122814\n",
      "Dataset Name:  reddit , AUC Score (joint-type):  49.24966469912976\n",
      "Dataset Name:  reddit , AUC Score (structure type):  49.24966469912976\n",
      "===========================================================================================\n",
      "Dataset Name:  reddit  Best AUC Score(benchmark/combined):  58.31157679453489\n",
      "Dataset Name:  reddit  Best AUC Score (contextual):  57.42915931180224\n",
      "Dataset Name:  reddit  Best AUC Score (structural):  84.64586802095081\n",
      "Dataset Name:  reddit  Best AUC Score (joint-type):  53.173684080051274\n",
      "Dataset Name:  reddit  Best AUC Score (structure type):  84.0504611948401\n",
      "===========================================================================================\n",
      "Dataset Name:  reddit , AUC Score(benchmark/combined):  56.0623675437215\n",
      "Dataset Name:  reddit , AUC Score (contextual):  53.5690886747483\n",
      "Dataset Name:  reddit , AUC Score (structural):  49.982181256850495\n"
     ]
    },
    {
     "name": "stderr",
     "output_type": "stream",
     "text": [
      " 40%|███▉      | 199/500 [00:20<00:29, 10.23it/s]"
     ]
    },
    {
     "name": "stdout",
     "output_type": "stream",
     "text": [
      "Dataset Name:  reddit , AUC Score (joint-type):  49.276630427358725\n",
      "Dataset Name:  reddit , AUC Score (structure type):  49.276630427358725\n",
      "===========================================================================================\n",
      "Dataset Name:  reddit  Best AUC Score(benchmark/combined):  58.31157679453489\n",
      "Dataset Name:  reddit  Best AUC Score (contextual):  57.42915931180224\n",
      "Dataset Name:  reddit  Best AUC Score (structural):  84.64586802095081\n",
      "Dataset Name:  reddit  Best AUC Score (joint-type):  53.173684080051274\n",
      "Dataset Name:  reddit  Best AUC Score (structure type):  84.0504611948401\n",
      "===========================================================================================\n",
      "Dataset Name:  reddit , AUC Score(benchmark/combined):  56.07136093261571\n",
      "Dataset Name:  reddit , AUC Score (contextual):  53.56681201851883\n",
      "Dataset Name:  reddit , AUC Score (structural):  49.98512535284394\n",
      "Dataset Name:  reddit , AUC Score (joint-type):  49.27867941796524\n",
      "Dataset Name:  reddit , AUC Score (structure type):  49.27867941796524\n",
      "===========================================================================================\n",
      "Dataset Name:  reddit  Best AUC Score(benchmark/combined):  58.31157679453489\n",
      "Dataset Name:  reddit  Best AUC Score (contextual):  57.42915931180224\n",
      "Dataset Name:  reddit  Best AUC Score (structural):  84.64586802095081\n",
      "Dataset Name:  reddit  Best AUC Score (joint-type):  53.173684080051274\n",
      "Dataset Name:  reddit  Best AUC Score (structure type):  84.0504611948401\n",
      "===========================================================================================\n",
      "Dataset Name:  reddit , AUC Score(benchmark/combined):  56.07230015634859\n",
      "Dataset Name:  reddit , AUC Score (contextual):  53.56420651194511\n",
      "Dataset Name:  reddit , AUC Score (structural):  49.986824507344664\n",
      "Dataset Name:  reddit , AUC Score (joint-type):  49.28125962835863\n",
      "Dataset Name:  reddit , AUC Score (structure type):  49.28125962835863\n",
      "===========================================================================================\n",
      "Dataset Name:  reddit  Best AUC Score(benchmark/combined):  58.31157679453489\n",
      "Dataset Name:  reddit  Best AUC Score (contextual):  57.42915931180224\n"
     ]
    },
    {
     "name": "stderr",
     "output_type": "stream",
     "text": [
      " 40%|████      | 201/500 [00:20<00:29, 10.24it/s]"
     ]
    },
    {
     "name": "stdout",
     "output_type": "stream",
     "text": [
      "Dataset Name:  reddit  Best AUC Score (structural):  84.64586802095081\n",
      "Dataset Name:  reddit  Best AUC Score (joint-type):  53.173684080051274\n",
      "Dataset Name:  reddit  Best AUC Score (structure type):  84.0504611948401\n",
      "===========================================================================================\n",
      "Dataset Name:  reddit , AUC Score(benchmark/combined):  56.07964668719063\n",
      "Dataset Name:  reddit , AUC Score (contextual):  53.55841368665014\n",
      "Dataset Name:  reddit , AUC Score (structural):  49.98600725547261\n",
      "Dataset Name:  reddit , AUC Score (joint-type):  49.280374262047175\n",
      "Dataset Name:  reddit , AUC Score (structure type):  49.280374262047175\n",
      "===========================================================================================\n",
      "Dataset Name:  reddit  Best AUC Score(benchmark/combined):  58.31157679453489\n",
      "Dataset Name:  reddit  Best AUC Score (contextual):  57.42915931180224\n",
      "Dataset Name:  reddit  Best AUC Score (structural):  84.64586802095081\n",
      "Dataset Name:  reddit  Best AUC Score (joint-type):  53.173684080051274\n",
      "Dataset Name:  reddit  Best AUC Score (structure type):  84.0504611948401\n",
      "===========================================================================================\n",
      "Dataset Name:  reddit , AUC Score(benchmark/combined):  56.08431707369792\n",
      "Dataset Name:  reddit , AUC Score (contextual):  53.569822263977784\n",
      "Dataset Name:  reddit , AUC Score (structural):  49.985044124970244\n",
      "Dataset Name:  reddit , AUC Score (joint-type):  49.28383983875202\n",
      "Dataset Name:  reddit , AUC Score (structure type):  49.28383983875202\n",
      "===========================================================================================\n",
      "Dataset Name:  reddit  Best AUC Score(benchmark/combined):  58.31157679453489\n",
      "Dataset Name:  reddit  Best AUC Score (contextual):  57.42915931180224\n",
      "Dataset Name:  reddit  Best AUC Score (structural):  84.64586802095081\n",
      "Dataset Name:  reddit  Best AUC Score (joint-type):  53.173684080051274\n",
      "Dataset Name:  reddit  Best AUC Score (structure type):  84.0504611948401\n",
      "===========================================================================================\n"
     ]
    },
    {
     "name": "stderr",
     "output_type": "stream",
     "text": [
      " 41%|████      | 203/500 [00:21<00:28, 10.26it/s]"
     ]
    },
    {
     "name": "stdout",
     "output_type": "stream",
     "text": [
      "Dataset Name:  reddit , AUC Score(benchmark/combined):  56.08335211780798\n",
      "Dataset Name:  reddit , AUC Score (contextual):  53.57192184694496\n",
      "Dataset Name:  reddit , AUC Score (structural):  49.98721904273116\n",
      "Dataset Name:  reddit , AUC Score (joint-type):  49.27829997526033\n",
      "Dataset Name:  reddit , AUC Score (structure type):  49.27829997526033\n",
      "===========================================================================================\n",
      "Dataset Name:  reddit  Best AUC Score(benchmark/combined):  58.31157679453489\n",
      "Dataset Name:  reddit  Best AUC Score (contextual):  57.42915931180224\n",
      "Dataset Name:  reddit  Best AUC Score (structural):  84.64586802095081\n",
      "Dataset Name:  reddit  Best AUC Score (joint-type):  53.173684080051274\n",
      "Dataset Name:  reddit  Best AUC Score (structure type):  84.0504611948401\n",
      "===========================================================================================\n",
      "Dataset Name:  reddit , AUC Score(benchmark/combined):  56.09358065024133\n",
      "Dataset Name:  reddit , AUC Score (contextual):  53.556061141879695\n",
      "Dataset Name:  reddit , AUC Score (structural):  49.986557615759665\n",
      "Dataset Name:  reddit , AUC Score (joint-type):  49.28022248496521\n",
      "Dataset Name:  reddit , AUC Score (structure type):  49.28022248496521\n",
      "===========================================================================================\n",
      "Dataset Name:  reddit  Best AUC Score(benchmark/combined):  58.31157679453489\n",
      "Dataset Name:  reddit  Best AUC Score (contextual):  57.42915931180224\n",
      "Dataset Name:  reddit  Best AUC Score (structural):  84.64586802095081\n",
      "Dataset Name:  reddit  Best AUC Score (joint-type):  53.173684080051274\n",
      "Dataset Name:  reddit  Best AUC Score (structure type):  84.0504611948401\n",
      "===========================================================================================\n",
      "Dataset Name:  reddit , AUC Score(benchmark/combined):  56.10526304954882\n",
      "Dataset Name:  reddit , AUC Score (contextual):  53.563245257092674\n",
      "Dataset Name:  reddit , AUC Score (structural):  49.98614153012095\n",
      "Dataset Name:  reddit , AUC Score (joint-type):  49.280956074194705\n"
     ]
    },
    {
     "name": "stderr",
     "output_type": "stream",
     "text": [
      " 41%|████      | 205/500 [00:21<00:28, 10.25it/s]"
     ]
    },
    {
     "name": "stdout",
     "output_type": "stream",
     "text": [
      "Dataset Name:  reddit , AUC Score (structure type):  49.280956074194705\n",
      "===========================================================================================\n",
      "Dataset Name:  reddit  Best AUC Score(benchmark/combined):  58.31157679453489\n",
      "Dataset Name:  reddit  Best AUC Score (contextual):  57.42915931180224\n",
      "Dataset Name:  reddit  Best AUC Score (structural):  84.64586802095081\n",
      "Dataset Name:  reddit  Best AUC Score (joint-type):  53.173684080051274\n",
      "Dataset Name:  reddit  Best AUC Score (structure type):  84.0504611948401\n",
      "===========================================================================================\n",
      "Dataset Name:  reddit , AUC Score(benchmark/combined):  56.11497693884084\n",
      "Dataset Name:  reddit , AUC Score (contextual):  53.56529424769919\n",
      "Dataset Name:  reddit , AUC Score (structural):  49.980193660512576\n",
      "Dataset Name:  reddit , AUC Score (joint-type):  49.28161377488321\n",
      "Dataset Name:  reddit , AUC Score (structure type):  49.28161377488321\n",
      "===========================================================================================\n",
      "Dataset Name:  reddit  Best AUC Score(benchmark/combined):  58.31157679453489\n",
      "Dataset Name:  reddit  Best AUC Score (contextual):  57.42915931180224\n",
      "Dataset Name:  reddit  Best AUC Score (structural):  84.64586802095081\n",
      "Dataset Name:  reddit  Best AUC Score (joint-type):  53.173684080051274\n",
      "Dataset Name:  reddit  Best AUC Score (structure type):  84.0504611948401\n",
      "===========================================================================================\n",
      "Dataset Name:  reddit , AUC Score(benchmark/combined):  56.129875857781464\n",
      "Dataset Name:  reddit , AUC Score (contextual):  53.564990693535265\n",
      "Dataset Name:  reddit , AUC Score (structural):  49.98121481092471\n",
      "Dataset Name:  reddit , AUC Score (joint-type):  49.27253244614569\n",
      "Dataset Name:  reddit , AUC Score (structure type):  49.27253244614569\n",
      "===========================================================================================\n",
      "Dataset Name:  reddit  Best AUC Score(benchmark/combined):  58.31157679453489\n",
      "Dataset Name:  reddit  Best AUC Score (contextual):  57.42915931180224\n",
      "Dataset Name:  reddit  Best AUC Score (structural):  84.64586802095081\n"
     ]
    },
    {
     "name": "stderr",
     "output_type": "stream",
     "text": [
      " 41%|████▏     | 207/500 [00:21<00:28, 10.25it/s]"
     ]
    },
    {
     "name": "stdout",
     "output_type": "stream",
     "text": [
      "Dataset Name:  reddit  Best AUC Score (joint-type):  53.173684080051274\n",
      "Dataset Name:  reddit  Best AUC Score (structure type):  84.0504611948401\n",
      "===========================================================================================\n",
      "Dataset Name:  reddit , AUC Score(benchmark/combined):  56.12798454423717\n",
      "Dataset Name:  reddit , AUC Score (contextual):  53.560412084896\n",
      "Dataset Name:  reddit , AUC Score (structural):  49.98021189534136\n",
      "Dataset Name:  reddit , AUC Score (joint-type):  49.27587154194891\n",
      "Dataset Name:  reddit , AUC Score (structure type):  49.27587154194891\n",
      "===========================================================================================\n",
      "Dataset Name:  reddit  Best AUC Score(benchmark/combined):  58.31157679453489\n",
      "Dataset Name:  reddit  Best AUC Score (contextual):  57.42915931180224\n",
      "Dataset Name:  reddit  Best AUC Score (structural):  84.64586802095081\n",
      "Dataset Name:  reddit  Best AUC Score (joint-type):  53.173684080051274\n",
      "Dataset Name:  reddit  Best AUC Score (structure type):  84.0504611948401\n",
      "===========================================================================================\n",
      "Dataset Name:  reddit , AUC Score(benchmark/combined):  56.12905242875538\n",
      "Dataset Name:  reddit , AUC Score (contextual):  53.57460324205966\n",
      "Dataset Name:  reddit , AUC Score (structural):  49.97333239175308\n",
      "Dataset Name:  reddit , AUC Score (joint-type):  49.26694199029334\n",
      "Dataset Name:  reddit , AUC Score (structure type):  49.26694199029334\n",
      "===========================================================================================\n",
      "Dataset Name:  reddit  Best AUC Score(benchmark/combined):  58.31157679453489\n",
      "Dataset Name:  reddit  Best AUC Score (contextual):  57.42915931180224\n",
      "Dataset Name:  reddit  Best AUC Score (structural):  84.64586802095081\n",
      "Dataset Name:  reddit  Best AUC Score (joint-type):  53.173684080051274\n",
      "Dataset Name:  reddit  Best AUC Score (structure type):  84.0504611948401\n",
      "===========================================================================================\n"
     ]
    },
    {
     "name": "stderr",
     "output_type": "stream",
     "text": [
      " 42%|████▏     | 211/500 [00:21<00:28, 10.29it/s]"
     ]
    },
    {
     "name": "stdout",
     "output_type": "stream",
     "text": [
      "Dataset Name:  reddit , AUC Score(benchmark/combined):  56.13120106387031\n",
      "Dataset Name:  reddit , AUC Score (contextual):  53.55631410368298\n",
      "Dataset Name:  reddit , AUC Score (structural):  49.97853263338114\n",
      "Dataset Name:  reddit , AUC Score (joint-type):  49.25925195147383\n",
      "Dataset Name:  reddit , AUC Score (structure type):  49.25925195147383\n",
      "===========================================================================================\n",
      "Dataset Name:  reddit  Best AUC Score(benchmark/combined):  58.31157679453489\n",
      "Dataset Name:  reddit  Best AUC Score (contextual):  57.42915931180224\n",
      "Dataset Name:  reddit  Best AUC Score (structural):  84.64586802095081\n",
      "Dataset Name:  reddit  Best AUC Score (joint-type):  53.173684080051274\n",
      "Dataset Name:  reddit  Best AUC Score (structure type):  84.0504611948401\n",
      "===========================================================================================\n",
      "Dataset Name:  reddit , AUC Score(benchmark/combined):  56.13203735897492\n",
      "Dataset Name:  reddit , AUC Score (contextual):  53.57280721325641\n",
      "Dataset Name:  reddit , AUC Score (structural):  49.978870806569574\n",
      "Dataset Name:  reddit , AUC Score (joint-type):  49.26365348685079\n",
      "Dataset Name:  reddit , AUC Score (structure type):  49.26365348685079\n",
      "===========================================================================================\n",
      "Dataset Name:  reddit  Best AUC Score(benchmark/combined):  58.31157679453489\n",
      "Dataset Name:  reddit  Best AUC Score (contextual):  57.42915931180224\n",
      "Dataset Name:  reddit  Best AUC Score (structural):  84.64586802095081\n",
      "Dataset Name:  reddit  Best AUC Score (joint-type):  53.173684080051274\n",
      "Dataset Name:  reddit  Best AUC Score (structure type):  84.0504611948401\n",
      "===========================================================================================\n",
      "Dataset Name:  reddit , AUC Score(benchmark/combined):  56.12710965089697\n",
      "Dataset Name:  reddit , AUC Score (contextual):  53.586290077370904\n",
      "Dataset Name:  reddit , AUC Score (structural):  49.98449044925976\n"
     ]
    },
    {
     "name": "stderr",
     "output_type": "stream",
     "text": [
      " 43%|████▎     | 213/500 [00:22<00:27, 10.29it/s]"
     ]
    },
    {
     "name": "stdout",
     "output_type": "stream",
     "text": [
      "Dataset Name:  reddit , AUC Score (joint-type):  49.26380526393276\n",
      "Dataset Name:  reddit , AUC Score (structure type):  49.26380526393276\n",
      "===========================================================================================\n",
      "Dataset Name:  reddit  Best AUC Score(benchmark/combined):  58.31157679453489\n",
      "Dataset Name:  reddit  Best AUC Score (contextual):  57.42915931180224\n",
      "Dataset Name:  reddit  Best AUC Score (structural):  84.64586802095081\n",
      "Dataset Name:  reddit  Best AUC Score (joint-type):  53.173684080051274\n",
      "Dataset Name:  reddit  Best AUC Score (structure type):  84.0504611948401\n",
      "===========================================================================================\n",
      "Dataset Name:  reddit , AUC Score(benchmark/combined):  56.13383860996946\n",
      "Dataset Name:  reddit , AUC Score (contextual):  53.586644223895476\n",
      "Dataset Name:  reddit , AUC Score (structural):  49.989002740528996\n",
      "Dataset Name:  reddit , AUC Score (joint-type):  49.26112386881805\n",
      "Dataset Name:  reddit , AUC Score (structure type):  49.26112386881805\n",
      "===========================================================================================\n",
      "Dataset Name:  reddit  Best AUC Score(benchmark/combined):  58.31157679453489\n",
      "Dataset Name:  reddit  Best AUC Score (contextual):  57.42915931180224\n",
      "Dataset Name:  reddit  Best AUC Score (structural):  84.64586802095081\n",
      "Dataset Name:  reddit  Best AUC Score (joint-type):  53.173684080051274\n",
      "Dataset Name:  reddit  Best AUC Score (structure type):  84.0504611948401\n",
      "===========================================================================================\n",
      "Dataset Name:  reddit , AUC Score(benchmark/combined):  56.15024286009837\n",
      "Dataset Name:  reddit , AUC Score (contextual):  53.584064013502086\n",
      "Dataset Name:  reddit , AUC Score (structural):  49.994120096571656\n",
      "Dataset Name:  reddit , AUC Score (joint-type):  49.25947961709677\n",
      "Dataset Name:  reddit , AUC Score (structure type):  49.25947961709677\n",
      "===========================================================================================\n",
      "Dataset Name:  reddit  Best AUC Score(benchmark/combined):  58.31157679453489\n",
      "Dataset Name:  reddit  Best AUC Score (contextual):  57.42915931180224\n",
      "Dataset Name:  reddit  Best AUC Score (structural):  84.64586802095081\n"
     ]
    },
    {
     "name": "stderr",
     "output_type": "stream",
     "text": [
      " 43%|████▎     | 215/500 [00:22<00:27, 10.28it/s]"
     ]
    },
    {
     "name": "stdout",
     "output_type": "stream",
     "text": [
      "Dataset Name:  reddit  Best AUC Score (joint-type):  53.173684080051274\n",
      "Dataset Name:  reddit  Best AUC Score (structure type):  84.0504611948401\n",
      "===========================================================================================\n",
      "Dataset Name:  reddit , AUC Score(benchmark/combined):  56.17111163947806\n",
      "Dataset Name:  reddit , AUC Score (contextual):  53.58672011243646\n",
      "Dataset Name:  reddit , AUC Score (structural):  49.99768086132048\n",
      "Dataset Name:  reddit , AUC Score (joint-type):  49.25778477301485\n",
      "Dataset Name:  reddit , AUC Score (structure type):  49.25778477301485\n",
      "===========================================================================================\n",
      "Dataset Name:  reddit  Best AUC Score(benchmark/combined):  58.31157679453489\n",
      "Dataset Name:  reddit  Best AUC Score (contextual):  57.42915931180224\n",
      "Dataset Name:  reddit  Best AUC Score (structural):  84.64586802095081\n",
      "Dataset Name:  reddit  Best AUC Score (joint-type):  53.173684080051274\n",
      "Dataset Name:  reddit  Best AUC Score (structure type):  84.0504611948401\n",
      "===========================================================================================\n",
      "Dataset Name:  reddit , AUC Score(benchmark/combined):  56.173260274592984\n",
      "Dataset Name:  reddit , AUC Score (contextual):  53.60141719320666\n",
      "Dataset Name:  reddit , AUC Score (structural):  49.998604206741845\n",
      "Dataset Name:  reddit , AUC Score (joint-type):  49.26309697088359\n",
      "Dataset Name:  reddit , AUC Score (structure type):  49.26309697088359\n",
      "===========================================================================================\n",
      "Dataset Name:  reddit  Best AUC Score(benchmark/combined):  58.31157679453489\n",
      "Dataset Name:  reddit  Best AUC Score (contextual):  57.42915931180224\n",
      "Dataset Name:  reddit  Best AUC Score (structural):  84.64586802095081\n",
      "Dataset Name:  reddit  Best AUC Score (joint-type):  53.173684080051274\n",
      "Dataset Name:  reddit  Best AUC Score (structure type):  84.0504611948401\n",
      "===========================================================================================\n"
     ]
    },
    {
     "name": "stderr",
     "output_type": "stream",
     "text": [
      " 43%|████▎     | 217/500 [00:22<00:27, 10.27it/s]"
     ]
    },
    {
     "name": "stdout",
     "output_type": "stream",
     "text": [
      "Dataset Name:  reddit , AUC Score(benchmark/combined):  56.19165876689445\n",
      "Dataset Name:  reddit , AUC Score (contextual):  53.612117477485135\n",
      "Dataset Name:  reddit , AUC Score (structural):  50.00472282065614\n",
      "Dataset Name:  reddit , AUC Score (joint-type):  49.26238867783442\n",
      "Dataset Name:  reddit , AUC Score (structure type):  49.26238867783442\n",
      "===========================================================================================\n",
      "Dataset Name:  reddit  Best AUC Score(benchmark/combined):  58.31157679453489\n",
      "Dataset Name:  reddit  Best AUC Score (contextual):  57.42915931180224\n",
      "Dataset Name:  reddit  Best AUC Score (structural):  84.64586802095081\n",
      "Dataset Name:  reddit  Best AUC Score (joint-type):  53.173684080051274\n",
      "Dataset Name:  reddit  Best AUC Score (structure type):  84.0504611948401\n",
      "===========================================================================================\n",
      "Dataset Name:  reddit , AUC Score(benchmark/combined):  56.216335905519756\n",
      "Dataset Name:  reddit , AUC Score (contextual):  53.60703294523933\n",
      "Dataset Name:  reddit , AUC Score (structural):  50.006687209030154\n",
      "Dataset Name:  reddit , AUC Score (joint-type):  49.26195864276885\n",
      "Dataset Name:  reddit , AUC Score (structure type):  49.26195864276885\n",
      "===========================================================================================\n",
      "Dataset Name:  reddit  Best AUC Score(benchmark/combined):  58.31157679453489\n",
      "Dataset Name:  reddit  Best AUC Score (contextual):  57.42915931180224\n",
      "Dataset Name:  reddit  Best AUC Score (structural):  84.64586802095081\n",
      "Dataset Name:  reddit  Best AUC Score (joint-type):  53.173684080051274\n",
      "Dataset Name:  reddit  Best AUC Score (structure type):  84.0504611948401\n",
      "===========================================================================================\n",
      "Dataset Name:  reddit , AUC Score(benchmark/combined):  56.24331607220236\n",
      "Dataset Name:  reddit , AUC Score (contextual):  53.61161155387859\n",
      "Dataset Name:  reddit , AUC Score (structural):  50.008547161566554\n",
      "Dataset Name:  reddit , AUC Score (joint-type):  49.27675690826037\n"
     ]
    },
    {
     "name": "stderr",
     "output_type": "stream",
     "text": [
      " 44%|████▍     | 219/500 [00:22<00:27, 10.27it/s]"
     ]
    },
    {
     "name": "stdout",
     "output_type": "stream",
     "text": [
      "Dataset Name:  reddit , AUC Score (structure type):  49.27675690826037\n",
      "===========================================================================================\n",
      "Dataset Name:  reddit  Best AUC Score(benchmark/combined):  58.31157679453489\n",
      "Dataset Name:  reddit  Best AUC Score (contextual):  57.42915931180224\n",
      "Dataset Name:  reddit  Best AUC Score (structural):  84.64586802095081\n",
      "Dataset Name:  reddit  Best AUC Score (joint-type):  53.173684080051274\n",
      "Dataset Name:  reddit  Best AUC Score (structure type):  84.0504611948401\n",
      "===========================================================================================\n",
      "Dataset Name:  reddit , AUC Score(benchmark/combined):  56.25546165033703\n",
      "Dataset Name:  reddit , AUC Score (contextual):  53.626991631517626\n",
      "Dataset Name:  reddit , AUC Score (structural):  50.006160056706996\n",
      "Dataset Name:  reddit , AUC Score (joint-type):  49.295248416079666\n",
      "Dataset Name:  reddit , AUC Score (structure type):  49.295248416079666\n",
      "===========================================================================================\n",
      "Dataset Name:  reddit  Best AUC Score(benchmark/combined):  58.31157679453489\n",
      "Dataset Name:  reddit  Best AUC Score (contextual):  57.42915931180224\n",
      "Dataset Name:  reddit  Best AUC Score (structural):  84.64586802095081\n",
      "Dataset Name:  reddit  Best AUC Score (joint-type):  53.173684080051274\n",
      "Dataset Name:  reddit  Best AUC Score (structure type):  84.0504611948401\n",
      "===========================================================================================\n",
      "Dataset Name:  reddit , AUC Score(benchmark/combined):  56.25871676820575\n",
      "Dataset Name:  reddit , AUC Score (contextual):  53.594131893272376\n",
      "Dataset Name:  reddit , AUC Score (structural):  50.00375305930695\n",
      "Dataset Name:  reddit , AUC Score (joint-type):  49.305645146194216\n",
      "Dataset Name:  reddit , AUC Score (structure type):  49.305645146194216\n",
      "===========================================================================================\n",
      "Dataset Name:  reddit  Best AUC Score(benchmark/combined):  58.31157679453489\n",
      "Dataset Name:  reddit  Best AUC Score (contextual):  57.42915931180224\n",
      "Dataset Name:  reddit  Best AUC Score (structural):  84.64586802095081\n"
     ]
    },
    {
     "name": "stderr",
     "output_type": "stream",
     "text": [
      " 44%|████▍     | 221/500 [00:22<00:27, 10.26it/s]"
     ]
    },
    {
     "name": "stdout",
     "output_type": "stream",
     "text": [
      "Dataset Name:  reddit  Best AUC Score (joint-type):  53.173684080051274\n",
      "Dataset Name:  reddit  Best AUC Score (structure type):  84.0504611948401\n",
      "===========================================================================================\n",
      "Dataset Name:  reddit , AUC Score(benchmark/combined):  56.26587030786981\n",
      "Dataset Name:  reddit , AUC Score (contextual):  53.59974764530505\n",
      "Dataset Name:  reddit , AUC Score (structural):  50.00889362331352\n",
      "Dataset Name:  reddit , AUC Score (joint-type):  49.315080621456325\n",
      "Dataset Name:  reddit , AUC Score (structure type):  49.315080621456325\n",
      "===========================================================================================\n",
      "Dataset Name:  reddit  Best AUC Score(benchmark/combined):  58.31157679453489\n",
      "Dataset Name:  reddit  Best AUC Score (contextual):  57.42915931180224\n",
      "Dataset Name:  reddit  Best AUC Score (structural):  84.64586802095081\n",
      "Dataset Name:  reddit  Best AUC Score (joint-type):  53.173684080051274\n",
      "Dataset Name:  reddit  Best AUC Score (structure type):  84.0504611948401\n",
      "===========================================================================================\n",
      "Dataset Name:  reddit , AUC Score(benchmark/combined):  56.27360282106784\n",
      "Dataset Name:  reddit , AUC Score (contextual):  53.59749628525592\n",
      "Dataset Name:  reddit , AUC Score (structural):  50.01032257080584\n",
      "Dataset Name:  reddit , AUC Score (joint-type):  49.31047671663673\n",
      "Dataset Name:  reddit , AUC Score (structure type):  49.31047671663673\n",
      "===========================================================================================\n",
      "Dataset Name:  reddit  Best AUC Score(benchmark/combined):  58.31157679453489\n",
      "Dataset Name:  reddit  Best AUC Score (contextual):  57.42915931180224\n",
      "Dataset Name:  reddit  Best AUC Score (structural):  84.64586802095081\n",
      "Dataset Name:  reddit  Best AUC Score (joint-type):  53.173684080051274\n",
      "Dataset Name:  reddit  Best AUC Score (structure type):  84.0504611948401\n",
      "===========================================================================================\n"
     ]
    },
    {
     "name": "stderr",
     "output_type": "stream",
     "text": [
      " 45%|████▌     | 225/500 [00:23<00:26, 10.27it/s]"
     ]
    },
    {
     "name": "stdout",
     "output_type": "stream",
     "text": [
      "Dataset Name:  reddit , AUC Score(benchmark/combined):  56.28316231741748\n",
      "Dataset Name:  reddit , AUC Score (contextual):  53.59519433284613\n",
      "Dataset Name:  reddit , AUC Score (structural):  50.011161372930104\n",
      "Dataset Name:  reddit , AUC Score (joint-type):  49.311741525653105\n",
      "Dataset Name:  reddit , AUC Score (structure type):  49.311741525653105\n",
      "===========================================================================================\n",
      "Dataset Name:  reddit  Best AUC Score(benchmark/combined):  58.31157679453489\n",
      "Dataset Name:  reddit  Best AUC Score (contextual):  57.42915931180224\n",
      "Dataset Name:  reddit  Best AUC Score (structural):  84.64586802095081\n",
      "Dataset Name:  reddit  Best AUC Score (joint-type):  53.173684080051274\n",
      "Dataset Name:  reddit  Best AUC Score (structure type):  84.0504611948401\n",
      "===========================================================================================\n",
      "Dataset Name:  reddit , AUC Score(benchmark/combined):  56.286301640579396\n",
      "Dataset Name:  reddit , AUC Score (contextual):  53.59901405607555\n",
      "Dataset Name:  reddit , AUC Score (structural):  50.01207974521634\n",
      "Dataset Name:  reddit , AUC Score (joint-type):  49.31477706729239\n",
      "Dataset Name:  reddit , AUC Score (structure type):  49.31477706729239\n",
      "===========================================================================================\n",
      "Dataset Name:  reddit  Best AUC Score(benchmark/combined):  58.31157679453489\n",
      "Dataset Name:  reddit  Best AUC Score (contextual):  57.42915931180224\n",
      "Dataset Name:  reddit  Best AUC Score (structural):  84.64586802095081\n",
      "Dataset Name:  reddit  Best AUC Score (joint-type):  53.173684080051274\n",
      "Dataset Name:  reddit  Best AUC Score (structure type):  84.0504611948401\n",
      "===========================================================================================\n",
      "Dataset Name:  reddit , AUC Score(benchmark/combined):  56.290328723160066\n",
      "Dataset Name:  reddit , AUC Score (contextual):  53.604326253944315\n",
      "Dataset Name:  reddit , AUC Score (structural):  50.01237813332378\n"
     ]
    },
    {
     "name": "stderr",
     "output_type": "stream",
     "text": [
      " 45%|████▌     | 227/500 [00:23<00:26, 10.26it/s]"
     ]
    },
    {
     "name": "stdout",
     "output_type": "stream",
     "text": [
      "Dataset Name:  reddit , AUC Score (joint-type):  49.31146326766951\n",
      "Dataset Name:  reddit , AUC Score (structure type):  49.31146326766951\n",
      "===========================================================================================\n",
      "Dataset Name:  reddit  Best AUC Score(benchmark/combined):  58.31157679453489\n",
      "Dataset Name:  reddit  Best AUC Score (contextual):  57.42915931180224\n",
      "Dataset Name:  reddit  Best AUC Score (structural):  84.64586802095081\n",
      "Dataset Name:  reddit  Best AUC Score (joint-type):  53.173684080051274\n",
      "Dataset Name:  reddit  Best AUC Score (structure type):  84.0504611948401\n",
      "===========================================================================================\n",
      "Dataset Name:  reddit , AUC Score(benchmark/combined):  56.3036837126768\n",
      "Dataset Name:  reddit , AUC Score (contextual):  53.60055712307553\n",
      "Dataset Name:  reddit , AUC Score (structural):  50.00499965851139\n",
      "Dataset Name:  reddit , AUC Score (joint-type):  49.30759295207942\n",
      "Dataset Name:  reddit , AUC Score (structure type):  49.30759295207942\n",
      "===========================================================================================\n",
      "Dataset Name:  reddit  Best AUC Score(benchmark/combined):  58.31157679453489\n",
      "Dataset Name:  reddit  Best AUC Score (contextual):  57.42915931180224\n",
      "Dataset Name:  reddit  Best AUC Score (structural):  84.64586802095081\n",
      "Dataset Name:  reddit  Best AUC Score (joint-type):  53.173684080051274\n",
      "Dataset Name:  reddit  Best AUC Score (structure type):  84.0504611948401\n",
      "===========================================================================================\n",
      "Dataset Name:  reddit , AUC Score(benchmark/combined):  56.31817091710437\n",
      "Dataset Name:  reddit , AUC Score (contextual):  53.59822987448541\n",
      "Dataset Name:  reddit , AUC Score (structural):  50.00477918285422\n",
      "Dataset Name:  reddit , AUC Score (joint-type):  49.30501274168603\n",
      "Dataset Name:  reddit , AUC Score (structure type):  49.30501274168603\n",
      "===========================================================================================\n",
      "Dataset Name:  reddit  Best AUC Score(benchmark/combined):  58.31157679453489\n",
      "Dataset Name:  reddit  Best AUC Score (contextual):  57.42915931180224\n"
     ]
    },
    {
     "name": "stderr",
     "output_type": "stream",
     "text": [
      " 46%|████▌     | 229/500 [00:23<00:26, 10.24it/s]"
     ]
    },
    {
     "name": "stdout",
     "output_type": "stream",
     "text": [
      "Dataset Name:  reddit  Best AUC Score (structural):  84.64586802095081\n",
      "Dataset Name:  reddit  Best AUC Score (joint-type):  53.173684080051274\n",
      "Dataset Name:  reddit  Best AUC Score (structure type):  84.0504611948401\n",
      "===========================================================================================\n",
      "Dataset Name:  reddit , AUC Score(benchmark/combined):  56.32136170458043\n",
      "Dataset Name:  reddit , AUC Score (contextual):  53.600076495649304\n",
      "Dataset Name:  reddit , AUC Score (structural):  50.00621807661678\n",
      "Dataset Name:  reddit , AUC Score (joint-type):  49.31151386003017\n",
      "Dataset Name:  reddit , AUC Score (structure type):  49.31151386003017\n",
      "===========================================================================================\n",
      "Dataset Name:  reddit  Best AUC Score(benchmark/combined):  58.31157679453489\n",
      "Dataset Name:  reddit  Best AUC Score (contextual):  57.42915931180224\n",
      "Dataset Name:  reddit  Best AUC Score (structural):  84.64586802095081\n",
      "Dataset Name:  reddit  Best AUC Score (joint-type):  53.173684080051274\n",
      "Dataset Name:  reddit  Best AUC Score (structure type):  84.0504611948401\n",
      "===========================================================================================\n",
      "Dataset Name:  reddit , AUC Score(benchmark/combined):  56.320937123988855\n",
      "Dataset Name:  reddit , AUC Score (contextual):  53.63182320196014\n",
      "Dataset Name:  reddit , AUC Score (structural):  50.003471248316586\n",
      "Dataset Name:  reddit , AUC Score (joint-type):  49.31181741419409\n",
      "Dataset Name:  reddit , AUC Score (structure type):  49.31181741419409\n",
      "===========================================================================================\n",
      "Dataset Name:  reddit  Best AUC Score(benchmark/combined):  58.31157679453489\n",
      "Dataset Name:  reddit  Best AUC Score (contextual):  57.42915931180224\n",
      "Dataset Name:  reddit  Best AUC Score (structural):  84.64586802095081\n",
      "Dataset Name:  reddit  Best AUC Score (joint-type):  53.173684080051274\n",
      "Dataset Name:  reddit  Best AUC Score (structure type):  84.0504611948401\n",
      "===========================================================================================\n"
     ]
    },
    {
     "name": "stderr",
     "output_type": "stream",
     "text": [
      " 46%|████▌     | 231/500 [00:23<00:26, 10.25it/s]"
     ]
    },
    {
     "name": "stdout",
     "output_type": "stream",
     "text": [
      "Dataset Name:  reddit , AUC Score(benchmark/combined):  56.330548084652634\n",
      "Dataset Name:  reddit , AUC Score (contextual):  53.70707933843406\n",
      "Dataset Name:  reddit , AUC Score (structural):  50.001881502788606\n",
      "Dataset Name:  reddit , AUC Score (joint-type):  49.303317897604096\n",
      "Dataset Name:  reddit , AUC Score (structure type):  49.303317897604096\n",
      "===========================================================================================\n",
      "Dataset Name:  reddit  Best AUC Score(benchmark/combined):  58.31157679453489\n",
      "Dataset Name:  reddit  Best AUC Score (contextual):  57.42915931180224\n",
      "Dataset Name:  reddit  Best AUC Score (structural):  84.64586802095081\n",
      "Dataset Name:  reddit  Best AUC Score (joint-type):  53.173684080051274\n",
      "Dataset Name:  reddit  Best AUC Score (structure type):  84.0504611948401\n",
      "===========================================================================================\n",
      "Dataset Name:  reddit , AUC Score(benchmark/combined):  56.341059670813664\n",
      "Dataset Name:  reddit , AUC Score (contextual):  53.712290351581494\n",
      "Dataset Name:  reddit , AUC Score (structural):  50.00369006626207\n",
      "Dataset Name:  reddit , AUC Score (joint-type):  49.31196919127606\n",
      "Dataset Name:  reddit , AUC Score (structure type):  49.31196919127606\n",
      "===========================================================================================\n",
      "Dataset Name:  reddit  Best AUC Score(benchmark/combined):  58.31157679453489\n",
      "Dataset Name:  reddit  Best AUC Score (contextual):  57.42915931180224\n",
      "Dataset Name:  reddit  Best AUC Score (structural):  84.64586802095081\n",
      "Dataset Name:  reddit  Best AUC Score (joint-type):  53.173684080051274\n",
      "Dataset Name:  reddit  Best AUC Score (structure type):  84.0504611948401\n",
      "===========================================================================================\n",
      "Dataset Name:  reddit , AUC Score(benchmark/combined):  56.34253926984489\n",
      "Dataset Name:  reddit , AUC Score (contextual):  53.72273767405669\n",
      "Dataset Name:  reddit , AUC Score (structural):  50.00343477865902\n",
      "Dataset Name:  reddit , AUC Score (joint-type):  49.31750905476775\n"
     ]
    },
    {
     "name": "stderr",
     "output_type": "stream",
     "text": [
      " 47%|████▋     | 233/500 [00:23<00:26, 10.24it/s]"
     ]
    },
    {
     "name": "stdout",
     "output_type": "stream",
     "text": [
      "Dataset Name:  reddit , AUC Score (structure type):  49.31750905476775\n",
      "===========================================================================================\n",
      "Dataset Name:  reddit  Best AUC Score(benchmark/combined):  58.31157679453489\n",
      "Dataset Name:  reddit  Best AUC Score (contextual):  57.42915931180224\n",
      "Dataset Name:  reddit  Best AUC Score (structural):  84.64586802095081\n",
      "Dataset Name:  reddit  Best AUC Score (joint-type):  53.173684080051274\n",
      "Dataset Name:  reddit  Best AUC Score (structure type):  84.0504611948401\n",
      "===========================================================================================\n",
      "Dataset Name:  reddit , AUC Score(benchmark/combined):  56.336891061369144\n",
      "Dataset Name:  reddit , AUC Score (contextual):  53.72749335595823\n",
      "Dataset Name:  reddit , AUC Score (structural):  50.00278329795778\n",
      "Dataset Name:  reddit , AUC Score (joint-type):  49.30288786253853\n",
      "Dataset Name:  reddit , AUC Score (structure type):  49.30288786253853\n",
      "===========================================================================================\n",
      "Dataset Name:  reddit  Best AUC Score(benchmark/combined):  58.31157679453489\n",
      "Dataset Name:  reddit  Best AUC Score (contextual):  57.42915931180224\n",
      "Dataset Name:  reddit  Best AUC Score (structural):  84.64586802095081\n",
      "Dataset Name:  reddit  Best AUC Score (joint-type):  53.173684080051274\n",
      "Dataset Name:  reddit  Best AUC Score (structure type):  84.0504611948401\n",
      "===========================================================================================\n",
      "Dataset Name:  reddit , AUC Score(benchmark/combined):  56.34807168361387\n",
      "Dataset Name:  reddit , AUC Score (contextual):  53.73035182433523\n",
      "Dataset Name:  reddit , AUC Score (structural):  50.00716960313719\n",
      "Dataset Name:  reddit , AUC Score (joint-type):  49.317837905112\n",
      "Dataset Name:  reddit , AUC Score (structure type):  49.317837905112\n",
      "===========================================================================================\n",
      "Dataset Name:  reddit  Best AUC Score(benchmark/combined):  58.31157679453489\n",
      "Dataset Name:  reddit  Best AUC Score (contextual):  57.42915931180224\n"
     ]
    },
    {
     "name": "stderr",
     "output_type": "stream",
     "text": [
      " 47%|████▋     | 235/500 [00:24<00:25, 10.19it/s]"
     ]
    },
    {
     "name": "stdout",
     "output_type": "stream",
     "text": [
      "Dataset Name:  reddit  Best AUC Score (structural):  84.64586802095081\n",
      "Dataset Name:  reddit  Best AUC Score (joint-type):  53.173684080051274\n",
      "Dataset Name:  reddit  Best AUC Score (structure type):  84.0504611948401\n",
      "===========================================================================================\n",
      "Dataset Name:  reddit , AUC Score(benchmark/combined):  56.359123645073275\n",
      "Dataset Name:  reddit , AUC Score (contextual):  53.73548694894168\n",
      "Dataset Name:  reddit , AUC Score (structural):  50.006542988111555\n",
      "Dataset Name:  reddit , AUC Score (joint-type):  49.317812608931675\n",
      "Dataset Name:  reddit , AUC Score (structure type):  49.317812608931675\n",
      "===========================================================================================\n",
      "Dataset Name:  reddit  Best AUC Score(benchmark/combined):  58.31157679453489\n",
      "Dataset Name:  reddit  Best AUC Score (contextual):  57.42915931180224\n",
      "Dataset Name:  reddit  Best AUC Score (structural):  84.64586802095081\n",
      "Dataset Name:  reddit  Best AUC Score (joint-type):  53.173684080051274\n",
      "Dataset Name:  reddit  Best AUC Score (structure type):  84.0504611948401\n",
      "===========================================================================================\n",
      "Dataset Name:  reddit , AUC Score(benchmark/combined):  56.36473325531344\n",
      "Dataset Name:  reddit , AUC Score (contextual):  53.73991378049898\n",
      "Dataset Name:  reddit , AUC Score (structural):  50.01552944328073\n",
      "Dataset Name:  reddit , AUC Score (joint-type):  49.32122759327587\n",
      "Dataset Name:  reddit , AUC Score (structure type):  49.32122759327587\n",
      "===========================================================================================\n",
      "Dataset Name:  reddit  Best AUC Score(benchmark/combined):  58.31157679453489\n",
      "Dataset Name:  reddit  Best AUC Score (contextual):  57.42915931180224\n",
      "Dataset Name:  reddit  Best AUC Score (structural):  84.64586802095081\n",
      "Dataset Name:  reddit  Best AUC Score (joint-type):  53.173684080051274\n",
      "Dataset Name:  reddit  Best AUC Score (structure type):  84.0504611948401\n",
      "===========================================================================================\n"
     ]
    },
    {
     "name": "stderr",
     "output_type": "stream",
     "text": [
      " 48%|████▊     | 239/500 [00:24<00:25, 10.24it/s]"
     ]
    },
    {
     "name": "stdout",
     "output_type": "stream",
     "text": [
      "Dataset Name:  reddit , AUC Score(benchmark/combined):  56.365492353946856\n",
      "Dataset Name:  reddit , AUC Score (contextual):  53.742569879433354\n",
      "Dataset Name:  reddit , AUC Score (structural):  50.01544158456021\n",
      "Dataset Name:  reddit , AUC Score (joint-type):  49.32358013804631\n",
      "Dataset Name:  reddit , AUC Score (structure type):  49.32358013804631\n",
      "===========================================================================================\n",
      "Dataset Name:  reddit  Best AUC Score(benchmark/combined):  58.31157679453489\n",
      "Dataset Name:  reddit  Best AUC Score (contextual):  57.42915931180224\n",
      "Dataset Name:  reddit  Best AUC Score (structural):  84.64586802095081\n",
      "Dataset Name:  reddit  Best AUC Score (joint-type):  53.173684080051274\n",
      "Dataset Name:  reddit  Best AUC Score (structure type):  84.0504611948401\n",
      "===========================================================================================\n",
      "Dataset Name:  reddit , AUC Score(benchmark/combined):  56.367010551213696\n",
      "Dataset Name:  reddit , AUC Score (contextual):  53.74527657072837\n",
      "Dataset Name:  reddit , AUC Score (structural):  50.02007654649583\n",
      "Dataset Name:  reddit , AUC Score (joint-type):  49.333850387259226\n",
      "Dataset Name:  reddit , AUC Score (structure type):  49.333850387259226\n",
      "===========================================================================================\n",
      "Dataset Name:  reddit  Best AUC Score(benchmark/combined):  58.31157679453489\n",
      "Dataset Name:  reddit  Best AUC Score (contextual):  57.42915931180224\n",
      "Dataset Name:  reddit  Best AUC Score (structural):  84.64586802095081\n",
      "Dataset Name:  reddit  Best AUC Score (joint-type):  53.173684080051274\n",
      "Dataset Name:  reddit  Best AUC Score (structure type):  84.0504611948401\n",
      "===========================================================================================\n",
      "Dataset Name:  reddit , AUC Score(benchmark/combined):  56.369789624176704\n",
      "Dataset Name:  reddit , AUC Score (contextual):  53.74474535094149\n"
     ]
    },
    {
     "name": "stderr",
     "output_type": "stream",
     "text": [
      " 48%|████▊     | 241/500 [00:24<00:25, 10.17it/s]"
     ]
    },
    {
     "name": "stdout",
     "output_type": "stream",
     "text": [
      "Dataset Name:  reddit , AUC Score (structural):  50.01970356136152\n",
      "Dataset Name:  reddit , AUC Score (joint-type):  49.33622822821\n",
      "Dataset Name:  reddit , AUC Score (structure type):  49.33622822821\n",
      "===========================================================================================\n",
      "Dataset Name:  reddit  Best AUC Score(benchmark/combined):  58.31157679453489\n",
      "Dataset Name:  reddit  Best AUC Score (contextual):  57.42915931180224\n",
      "Dataset Name:  reddit  Best AUC Score (structural):  84.64586802095081\n",
      "Dataset Name:  reddit  Best AUC Score (joint-type):  53.173684080051274\n",
      "Dataset Name:  reddit  Best AUC Score (structure type):  84.0504611948401\n",
      "===========================================================================================\n",
      "Dataset Name:  reddit , AUC Score(benchmark/combined):  56.36843868593079\n",
      "Dataset Name:  reddit , AUC Score (contextual):  53.74563071725296\n",
      "Dataset Name:  reddit , AUC Score (structural):  50.02101481132256\n",
      "Dataset Name:  reddit , AUC Score (joint-type):  49.33976969345583\n",
      "Dataset Name:  reddit , AUC Score (structure type):  49.33976969345583\n",
      "===========================================================================================\n",
      "Dataset Name:  reddit  Best AUC Score(benchmark/combined):  58.31157679453489\n",
      "Dataset Name:  reddit  Best AUC Score (contextual):  57.42915931180224\n",
      "Dataset Name:  reddit  Best AUC Score (structural):  84.64586802095081\n",
      "Dataset Name:  reddit  Best AUC Score (joint-type):  53.173684080051274\n",
      "Dataset Name:  reddit  Best AUC Score (structure type):  84.0504611948401\n",
      "===========================================================================================\n",
      "Dataset Name:  reddit , AUC Score(benchmark/combined):  56.35788850153415\n",
      "Dataset Name:  reddit , AUC Score (contextual):  53.74803385438405\n",
      "Dataset Name:  reddit , AUC Score (structural):  50.021706077104824\n",
      "Dataset Name:  reddit , AUC Score (joint-type):  49.34384237848853\n"
     ]
    },
    {
     "name": "stderr",
     "output_type": "stream",
     "text": [
      " 49%|████▊     | 243/500 [00:24<00:25, 10.04it/s]"
     ]
    },
    {
     "name": "stdout",
     "output_type": "stream",
     "text": [
      "Dataset Name:  reddit , AUC Score (structure type):  49.34384237848853\n",
      "===========================================================================================\n",
      "Dataset Name:  reddit  Best AUC Score(benchmark/combined):  58.31157679453489\n",
      "Dataset Name:  reddit  Best AUC Score (contextual):  57.42915931180224\n",
      "Dataset Name:  reddit  Best AUC Score (structural):  84.64586802095081\n",
      "Dataset Name:  reddit  Best AUC Score (joint-type):  53.173684080051274\n",
      "Dataset Name:  reddit  Best AUC Score (structure type):  84.0504611948401\n",
      "===========================================================================================\n",
      "Dataset Name:  reddit , AUC Score(benchmark/combined):  56.36055177979038\n",
      "Dataset Name:  reddit , AUC Score (contextual):  53.7543578994659\n",
      "Dataset Name:  reddit , AUC Score (structural):  50.021233629268025\n",
      "Dataset Name:  reddit , AUC Score (joint-type):  49.343589416685255\n",
      "Dataset Name:  reddit , AUC Score (structure type):  49.343589416685255\n",
      "===========================================================================================\n",
      "Dataset Name:  reddit  Best AUC Score(benchmark/combined):  58.31157679453489\n",
      "Dataset Name:  reddit  Best AUC Score (contextual):  57.42915931180224\n",
      "Dataset Name:  reddit  Best AUC Score (structural):  84.64586802095081\n",
      "Dataset Name:  reddit  Best AUC Score (joint-type):  53.173684080051274\n",
      "Dataset Name:  reddit  Best AUC Score (structure type):  84.0504611948401\n",
      "===========================================================================================\n",
      "Dataset Name:  reddit , AUC Score(benchmark/combined):  56.36905625770034\n",
      "Dataset Name:  reddit , AUC Score (contextual):  53.765842365334514\n",
      "Dataset Name:  reddit , AUC Score (structural):  50.02047605501747\n",
      "Dataset Name:  reddit , AUC Score (joint-type):  49.34234990384922\n",
      "Dataset Name:  reddit , AUC Score (structure type):  49.34234990384922\n",
      "===========================================================================================\n",
      "Dataset Name:  reddit  Best AUC Score(benchmark/combined):  58.31157679453489\n",
      "Dataset Name:  reddit  Best AUC Score (contextual):  57.42915931180224\n"
     ]
    },
    {
     "name": "stderr",
     "output_type": "stream",
     "text": [
      " 49%|████▉     | 245/500 [00:25<00:25, 10.07it/s]"
     ]
    },
    {
     "name": "stdout",
     "output_type": "stream",
     "text": [
      "Dataset Name:  reddit  Best AUC Score (structural):  84.64586802095081\n",
      "Dataset Name:  reddit  Best AUC Score (joint-type):  53.173684080051274\n",
      "Dataset Name:  reddit  Best AUC Score (structure type):  84.0504611948401\n",
      "===========================================================================================\n",
      "Dataset Name:  reddit , AUC Score(benchmark/combined):  56.38045560328013\n",
      "Dataset Name:  reddit , AUC Score (contextual):  53.76412222507226\n",
      "Dataset Name:  reddit , AUC Score (structural):  50.02249680558953\n",
      "Dataset Name:  reddit , AUC Score (joint-type):  49.34439889445573\n",
      "Dataset Name:  reddit , AUC Score (structure type):  49.34439889445573\n",
      "===========================================================================================\n",
      "Dataset Name:  reddit  Best AUC Score(benchmark/combined):  58.31157679453489\n",
      "Dataset Name:  reddit  Best AUC Score (contextual):  57.42915931180224\n",
      "Dataset Name:  reddit  Best AUC Score (structural):  84.64586802095081\n",
      "Dataset Name:  reddit  Best AUC Score (joint-type):  53.173684080051274\n",
      "Dataset Name:  reddit  Best AUC Score (structure type):  84.0504611948401\n",
      "===========================================================================================\n",
      "Dataset Name:  reddit , AUC Score(benchmark/combined):  56.3800052905315\n",
      "Dataset Name:  reddit , AUC Score (contextual):  53.76589295769517\n",
      "Dataset Name:  reddit , AUC Score (structural):  50.022019384617636\n",
      "Dataset Name:  reddit , AUC Score (joint-type):  49.344500079177045\n",
      "Dataset Name:  reddit , AUC Score (structure type):  49.344500079177045\n",
      "===========================================================================================\n",
      "Dataset Name:  reddit  Best AUC Score(benchmark/combined):  58.31157679453489\n",
      "Dataset Name:  reddit  Best AUC Score (contextual):  57.42915931180224\n",
      "Dataset Name:  reddit  Best AUC Score (structural):  84.64586802095081\n",
      "Dataset Name:  reddit  Best AUC Score (joint-type):  53.173684080051274\n"
     ]
    },
    {
     "name": "stderr",
     "output_type": "stream",
     "text": [
      " 49%|████▉     | 247/500 [00:25<00:25, 10.10it/s]"
     ]
    },
    {
     "name": "stdout",
     "output_type": "stream",
     "text": [
      "Dataset Name:  reddit  Best AUC Score (structure type):  84.0504611948401\n",
      "===========================================================================================\n",
      "Dataset Name:  reddit , AUC Score(benchmark/combined):  56.3668561582713\n",
      "Dataset Name:  reddit , AUC Score (contextual):  53.76434989069519\n",
      "Dataset Name:  reddit , AUC Score (structural):  50.02121207901583\n",
      "Dataset Name:  reddit , AUC Score (joint-type):  49.34821861768517\n",
      "Dataset Name:  reddit , AUC Score (structure type):  49.34821861768517\n",
      "===========================================================================================\n",
      "Dataset Name:  reddit  Best AUC Score(benchmark/combined):  58.31157679453489\n",
      "Dataset Name:  reddit  Best AUC Score (contextual):  57.42915931180224\n",
      "Dataset Name:  reddit  Best AUC Score (structural):  84.64586802095081\n",
      "Dataset Name:  reddit  Best AUC Score (joint-type):  53.173684080051274\n",
      "Dataset Name:  reddit  Best AUC Score (structure type):  84.0504611948401\n",
      "===========================================================================================\n",
      "Dataset Name:  reddit , AUC Score(benchmark/combined):  56.3688375343653\n",
      "Dataset Name:  reddit , AUC Score (contextual):  53.763692190006694\n",
      "Dataset Name:  reddit , AUC Score (structural):  50.027902603469386\n",
      "Dataset Name:  reddit , AUC Score (joint-type):  49.334432199406756\n",
      "Dataset Name:  reddit , AUC Score (structure type):  49.334432199406756\n",
      "===========================================================================================\n",
      "Dataset Name:  reddit  Best AUC Score(benchmark/combined):  58.31157679453489\n",
      "Dataset Name:  reddit  Best AUC Score (contextual):  57.42915931180224\n",
      "Dataset Name:  reddit  Best AUC Score (structural):  84.64586802095081\n",
      "Dataset Name:  reddit  Best AUC Score (joint-type):  53.173684080051274\n",
      "Dataset Name:  reddit  Best AUC Score (structure type):  84.0504611948401\n",
      "===========================================================================================\n"
     ]
    },
    {
     "name": "stderr",
     "output_type": "stream",
     "text": [
      " 50%|████▉     | 249/500 [00:25<00:24, 10.12it/s]"
     ]
    },
    {
     "name": "stdout",
     "output_type": "stream",
     "text": [
      "Dataset Name:  reddit , AUC Score(benchmark/combined):  56.3748202608829\n",
      "Dataset Name:  reddit , AUC Score (contextual):  53.7570392945806\n",
      "Dataset Name:  reddit , AUC Score (structural):  50.02589345687927\n",
      "Dataset Name:  reddit , AUC Score (joint-type):  49.34983757322612\n",
      "Dataset Name:  reddit , AUC Score (structure type):  49.34983757322612\n",
      "===========================================================================================\n",
      "Dataset Name:  reddit  Best AUC Score(benchmark/combined):  58.31157679453489\n",
      "Dataset Name:  reddit  Best AUC Score (contextual):  57.42915931180224\n",
      "Dataset Name:  reddit  Best AUC Score (structural):  84.64586802095081\n",
      "Dataset Name:  reddit  Best AUC Score (joint-type):  53.173684080051274\n",
      "Dataset Name:  reddit  Best AUC Score (structure type):  84.0504611948401\n",
      "===========================================================================================\n",
      "Dataset Name:  reddit , AUC Score(benchmark/combined):  56.37601680618643\n",
      "Dataset Name:  reddit , AUC Score (contextual):  53.75683692513798\n",
      "Dataset Name:  reddit , AUC Score (structural):  50.02718978743494\n",
      "Dataset Name:  reddit , AUC Score (joint-type):  49.3116403409318\n",
      "Dataset Name:  reddit , AUC Score (structure type):  49.3116403409318\n",
      "===========================================================================================\n",
      "Dataset Name:  reddit  Best AUC Score(benchmark/combined):  58.31157679453489\n",
      "Dataset Name:  reddit  Best AUC Score (contextual):  57.42915931180224\n",
      "Dataset Name:  reddit  Best AUC Score (structural):  84.64586802095081\n",
      "Dataset Name:  reddit  Best AUC Score (joint-type):  53.173684080051274\n",
      "Dataset Name:  reddit  Best AUC Score (structure type):  84.0504611948401\n",
      "===========================================================================================\n"
     ]
    },
    {
     "name": "stderr",
     "output_type": "stream",
     "text": [
      " 50%|█████     | 251/500 [00:25<00:26,  9.52it/s]"
     ]
    },
    {
     "name": "stdout",
     "output_type": "stream",
     "text": [
      "Dataset Name:  reddit , AUC Score(benchmark/combined):  56.37785665541657\n",
      "Dataset Name:  reddit , AUC Score (contextual):  53.793364609530684\n",
      "Dataset Name:  reddit , AUC Score (structural):  50.02818441445975\n",
      "Dataset Name:  reddit , AUC Score (joint-type):  49.35922245612757\n",
      "Dataset Name:  reddit , AUC Score (structure type):  49.35922245612757\n",
      "===========================================================================================\n",
      "Dataset Name:  reddit  Best AUC Score(benchmark/combined):  58.31157679453489\n",
      "Dataset Name:  reddit  Best AUC Score (contextual):  57.42915931180224\n",
      "Dataset Name:  reddit  Best AUC Score (structural):  84.64586802095081\n",
      "Dataset Name:  reddit  Best AUC Score (joint-type):  53.173684080051274\n",
      "Dataset Name:  reddit  Best AUC Score (structure type):  84.0504611948401\n",
      "===========================================================================================\n"
     ]
    },
    {
     "name": "stderr",
     "output_type": "stream",
     "text": [
      " 50%|█████     | 252/500 [00:25<00:26,  9.45it/s]"
     ]
    },
    {
     "name": "stdout",
     "output_type": "stream",
     "text": [
      "Dataset Name:  reddit , AUC Score(benchmark/combined):  56.3131917447123\n",
      "Dataset Name:  reddit , AUC Score (contextual):  53.75870884248221\n",
      "Dataset Name:  reddit , AUC Score (structural):  50.02799543532503\n",
      "Dataset Name:  reddit , AUC Score (joint-type):  49.279969523161945\n",
      "Dataset Name:  reddit , AUC Score (structure type):  49.279969523161945\n",
      "===========================================================================================\n",
      "Dataset Name:  reddit  Best AUC Score(benchmark/combined):  58.31157679453489\n",
      "Dataset Name:  reddit  Best AUC Score (contextual):  57.42915931180224\n",
      "Dataset Name:  reddit  Best AUC Score (structural):  84.64586802095081\n",
      "Dataset Name:  reddit  Best AUC Score (joint-type):  53.173684080051274\n",
      "Dataset Name:  reddit  Best AUC Score (structure type):  84.0504611948401\n",
      "===========================================================================================\n"
     ]
    },
    {
     "name": "stderr",
     "output_type": "stream",
     "text": [
      " 51%|█████     | 253/500 [00:26<00:25,  9.54it/s]"
     ]
    },
    {
     "name": "stdout",
     "output_type": "stream",
     "text": [
      "Dataset Name:  reddit , AUC Score(benchmark/combined):  56.37205405399842\n",
      "Dataset Name:  reddit , AUC Score (contextual):  53.79731081366177\n",
      "Dataset Name:  reddit , AUC Score (structural):  50.033900204429\n",
      "Dataset Name:  reddit , AUC Score (joint-type):  49.35095060516052\n",
      "Dataset Name:  reddit , AUC Score (structure type):  49.35095060516052\n",
      "===========================================================================================\n",
      "Dataset Name:  reddit  Best AUC Score(benchmark/combined):  58.31157679453489\n",
      "Dataset Name:  reddit  Best AUC Score (contextual):  57.42915931180224\n",
      "Dataset Name:  reddit  Best AUC Score (structural):  84.64586802095081\n",
      "Dataset Name:  reddit  Best AUC Score (joint-type):  53.173684080051274\n",
      "Dataset Name:  reddit  Best AUC Score (structure type):  84.0504611948401\n",
      "===========================================================================================\n"
     ]
    },
    {
     "name": "stderr",
     "output_type": "stream",
     "text": [
      " 51%|█████     | 254/500 [00:26<00:25,  9.63it/s]"
     ]
    },
    {
     "name": "stdout",
     "output_type": "stream",
     "text": [
      "Dataset Name:  reddit , AUC Score(benchmark/combined):  56.381266166227675\n",
      "Dataset Name:  reddit , AUC Score (contextual):  53.80489966775996\n",
      "Dataset Name:  reddit , AUC Score (structural):  50.03147497220017\n",
      "Dataset Name:  reddit , AUC Score (joint-type):  49.35406203534078\n",
      "Dataset Name:  reddit , AUC Score (structure type):  49.35406203534078\n",
      "===========================================================================================\n",
      "Dataset Name:  reddit  Best AUC Score(benchmark/combined):  58.31157679453489\n",
      "Dataset Name:  reddit  Best AUC Score (contextual):  57.42915931180224\n",
      "Dataset Name:  reddit  Best AUC Score (structural):  84.64586802095081\n",
      "Dataset Name:  reddit  Best AUC Score (joint-type):  53.173684080051274\n",
      "Dataset Name:  reddit  Best AUC Score (structure type):  84.0504611948401\n",
      "===========================================================================================\n",
      "Dataset Name:  reddit , AUC Score(benchmark/combined):  56.387171696274095\n"
     ]
    },
    {
     "name": "stderr",
     "output_type": "stream",
     "text": [
      " 51%|█████     | 255/500 [00:26<00:25,  9.71it/s]"
     ]
    },
    {
     "name": "stdout",
     "output_type": "stream",
     "text": [
      "Dataset Name:  reddit , AUC Score (contextual):  53.8057597378911\n",
      "Dataset Name:  reddit , AUC Score (structural):  50.03081354522867\n",
      "Dataset Name:  reddit , AUC Score (joint-type):  49.35590865650468\n",
      "Dataset Name:  reddit , AUC Score (structure type):  49.35590865650468\n",
      "===========================================================================================\n",
      "Dataset Name:  reddit  Best AUC Score(benchmark/combined):  58.31157679453489\n",
      "Dataset Name:  reddit  Best AUC Score (contextual):  57.42915931180224\n",
      "Dataset Name:  reddit  Best AUC Score (structural):  84.64586802095081\n",
      "Dataset Name:  reddit  Best AUC Score (joint-type):  53.173684080051274\n",
      "Dataset Name:  reddit  Best AUC Score (structure type):  84.0504611948401\n",
      "===========================================================================================\n",
      "Dataset Name:  reddit , AUC Score(benchmark/combined):  56.39821079165497\n"
     ]
    },
    {
     "name": "stderr",
     "output_type": "stream",
     "text": [
      " 51%|█████     | 256/500 [00:26<00:24,  9.76it/s]"
     ]
    },
    {
     "name": "stdout",
     "output_type": "stream",
     "text": [
      "Dataset Name:  reddit , AUC Score (contextual):  53.82111451934981\n",
      "Dataset Name:  reddit , AUC Score (structural):  50.03133572441671\n",
      "Dataset Name:  reddit , AUC Score (joint-type):  49.36865793138968\n",
      "Dataset Name:  reddit , AUC Score (structure type):  49.36865793138968\n",
      "===========================================================================================\n",
      "Dataset Name:  reddit  Best AUC Score(benchmark/combined):  58.31157679453489\n",
      "Dataset Name:  reddit  Best AUC Score (contextual):  57.42915931180224\n",
      "Dataset Name:  reddit  Best AUC Score (structural):  84.64586802095081\n",
      "Dataset Name:  reddit  Best AUC Score (joint-type):  53.173684080051274\n",
      "Dataset Name:  reddit  Best AUC Score (structure type):  84.0504611948401\n",
      "===========================================================================================\n",
      "Dataset Name:  reddit , AUC Score(benchmark/combined):  56.383208944086086\n",
      "Dataset Name:  reddit , AUC Score (contextual):  53.828602188726705\n",
      "Dataset Name:  reddit , AUC Score (structural):  50.0301355411401\n",
      "Dataset Name:  reddit , AUC Score (joint-type):  49.368910893192954\n",
      "Dataset Name:  reddit , AUC Score (structure type):  49.368910893192954\n",
      "===========================================================================================\n",
      "Dataset Name:  reddit  Best AUC Score(benchmark/combined):  58.31157679453489\n",
      "Dataset Name:  reddit  Best AUC Score (contextual):  57.42915931180224\n",
      "Dataset Name:  reddit  Best AUC Score (structural):  84.64586802095081\n",
      "Dataset Name:  reddit  Best AUC Score (joint-type):  53.173684080051274\n",
      "Dataset Name:  reddit  Best AUC Score (structure type):  84.0504611948401\n",
      "===========================================================================================\n",
      "Dataset Name:  reddit , AUC Score(benchmark/combined):  56.38968058158792\n",
      "Dataset Name:  reddit , AUC Score (contextual):  53.83181480362828\n",
      "Dataset Name:  reddit , AUC Score (structural):  50.028338581648605\n"
     ]
    },
    {
     "name": "stderr",
     "output_type": "stream",
     "text": [
      " 52%|█████▏    | 258/500 [00:26<00:24,  9.86it/s]"
     ]
    },
    {
     "name": "stdout",
     "output_type": "stream",
     "text": [
      "Dataset Name:  reddit , AUC Score (joint-type):  49.32987888694783\n",
      "Dataset Name:  reddit , AUC Score (structure type):  49.32987888694783\n",
      "===========================================================================================\n",
      "Dataset Name:  reddit  Best AUC Score(benchmark/combined):  58.31157679453489\n",
      "Dataset Name:  reddit  Best AUC Score (contextual):  57.42915931180224\n",
      "Dataset Name:  reddit  Best AUC Score (structural):  84.64586802095081\n",
      "Dataset Name:  reddit  Best AUC Score (joint-type):  53.173684080051274\n",
      "Dataset Name:  reddit  Best AUC Score (structure type):  84.0504611948401\n",
      "===========================================================================================\n",
      "Dataset Name:  reddit , AUC Score(benchmark/combined):  56.39532879006368\n",
      "Dataset Name:  reddit , AUC Score (contextual):  53.83194128452992\n",
      "Dataset Name:  reddit , AUC Score (structural):  50.03252761913477\n"
     ]
    },
    {
     "name": "stderr",
     "output_type": "stream",
     "text": [
      " 52%|█████▏    | 259/500 [00:26<00:24,  9.86it/s]"
     ]
    },
    {
     "name": "stdout",
     "output_type": "stream",
     "text": [
      "Dataset Name:  reddit , AUC Score (joint-type):  49.33202906227566\n",
      "Dataset Name:  reddit , AUC Score (structure type):  49.33202906227566\n",
      "===========================================================================================\n",
      "Dataset Name:  reddit  Best AUC Score(benchmark/combined):  58.31157679453489\n",
      "Dataset Name:  reddit  Best AUC Score (contextual):  57.42915931180224\n",
      "Dataset Name:  reddit  Best AUC Score (structural):  84.64586802095081\n",
      "Dataset Name:  reddit  Best AUC Score (joint-type):  53.173684080051274\n",
      "Dataset Name:  reddit  Best AUC Score (structure type):  84.0504611948401\n",
      "===========================================================================================\n",
      "Dataset Name:  reddit , AUC Score(benchmark/combined):  56.352883596985016\n",
      "Dataset Name:  reddit , AUC Score (contextual):  53.83065117933322\n",
      "Dataset Name:  reddit , AUC Score (structural):  50.02733235064184\n"
     ]
    },
    {
     "name": "stderr",
     "output_type": "stream",
     "text": [
      " 52%|█████▏    | 260/500 [00:26<00:24,  9.87it/s]"
     ]
    },
    {
     "name": "stdout",
     "output_type": "stream",
     "text": [
      "Dataset Name:  reddit , AUC Score (joint-type):  49.30440563335817\n",
      "Dataset Name:  reddit , AUC Score (structure type):  49.30440563335817\n",
      "===========================================================================================\n",
      "Dataset Name:  reddit  Best AUC Score(benchmark/combined):  58.31157679453489\n",
      "Dataset Name:  reddit  Best AUC Score (contextual):  57.42915931180224\n",
      "Dataset Name:  reddit  Best AUC Score (structural):  84.64586802095081\n",
      "Dataset Name:  reddit  Best AUC Score (joint-type):  53.173684080051274\n",
      "Dataset Name:  reddit  Best AUC Score (structure type):  84.0504611948401\n",
      "===========================================================================================\n",
      "Dataset Name:  reddit , AUC Score(benchmark/combined):  56.35626737563906\n",
      "Dataset Name:  reddit , AUC Score (contextual):  53.82956344357914\n"
     ]
    },
    {
     "name": "stderr",
     "output_type": "stream",
     "text": [
      " 52%|█████▏    | 261/500 [00:26<00:24,  9.83it/s]"
     ]
    },
    {
     "name": "stdout",
     "output_type": "stream",
     "text": [
      "Dataset Name:  reddit , AUC Score (structural):  50.02592495340173\n",
      "Dataset Name:  reddit , AUC Score (joint-type):  49.31100793642362\n",
      "Dataset Name:  reddit , AUC Score (structure type):  49.31100793642362\n",
      "===========================================================================================\n",
      "Dataset Name:  reddit  Best AUC Score(benchmark/combined):  58.31157679453489\n",
      "Dataset Name:  reddit  Best AUC Score (contextual):  57.42915931180224\n",
      "Dataset Name:  reddit  Best AUC Score (structural):  84.64586802095081\n",
      "Dataset Name:  reddit  Best AUC Score (joint-type):  53.173684080051274\n",
      "Dataset Name:  reddit  Best AUC Score (structure type):  84.0504611948401\n",
      "===========================================================================================\n",
      "Dataset Name:  reddit , AUC Score(benchmark/combined):  56.354774910529294\n",
      "Dataset Name:  reddit , AUC Score (contextual):  53.82809626512015\n",
      "Dataset Name:  reddit , AUC Score (structural):  50.02766555069515\n"
     ]
    },
    {
     "name": "stderr",
     "output_type": "stream",
     "text": [
      " 52%|█████▏    | 262/500 [00:26<00:24,  9.87it/s]"
     ]
    },
    {
     "name": "stdout",
     "output_type": "stream",
     "text": [
      "Dataset Name:  reddit , AUC Score (joint-type):  49.30814946804662\n",
      "Dataset Name:  reddit , AUC Score (structure type):  49.30814946804662\n",
      "===========================================================================================\n",
      "Dataset Name:  reddit  Best AUC Score(benchmark/combined):  58.31157679453489\n",
      "Dataset Name:  reddit  Best AUC Score (contextual):  57.42915931180224\n",
      "Dataset Name:  reddit  Best AUC Score (structural):  84.64586802095081\n",
      "Dataset Name:  reddit  Best AUC Score (joint-type):  53.173684080051274\n",
      "Dataset Name:  reddit  Best AUC Score (structure type):  84.0504611948401\n",
      "===========================================================================================\n",
      "Dataset Name:  reddit , AUC Score(benchmark/combined):  56.34664354889676\n",
      "Dataset Name:  reddit , AUC Score (contextual):  53.829538147398814\n"
     ]
    },
    {
     "name": "stderr",
     "output_type": "stream",
     "text": [
      " 53%|█████▎    | 263/500 [00:27<00:23,  9.88it/s]"
     ]
    },
    {
     "name": "stdout",
     "output_type": "stream",
     "text": [
      "Dataset Name:  reddit , AUC Score (structural):  50.0271185058315\n",
      "Dataset Name:  reddit , AUC Score (joint-type):  49.30888305727611\n",
      "Dataset Name:  reddit , AUC Score (structure type):  49.30888305727611\n",
      "===========================================================================================\n",
      "Dataset Name:  reddit  Best AUC Score(benchmark/combined):  58.31157679453489\n",
      "Dataset Name:  reddit  Best AUC Score (contextual):  57.42915931180224\n",
      "Dataset Name:  reddit  Best AUC Score (structural):  84.64586802095081\n",
      "Dataset Name:  reddit  Best AUC Score (joint-type):  53.173684080051274\n",
      "Dataset Name:  reddit  Best AUC Score (structure type):  84.0504611948401\n",
      "===========================================================================================\n",
      "Dataset Name:  reddit , AUC Score(benchmark/combined):  56.357605447806435\n",
      "Dataset Name:  reddit , AUC Score (contextual):  53.82387180300549\n",
      "Dataset Name:  reddit , AUC Score (structural):  50.02599126187004\n"
     ]
    },
    {
     "name": "stderr",
     "output_type": "stream",
     "text": [
      " 53%|█████▎    | 264/500 [00:27<00:23,  9.88it/s]"
     ]
    },
    {
     "name": "stdout",
     "output_type": "stream",
     "text": [
      "Dataset Name:  reddit , AUC Score (joint-type):  49.3059992927188\n",
      "Dataset Name:  reddit , AUC Score (structure type):  49.3059992927188\n",
      "===========================================================================================\n",
      "Dataset Name:  reddit  Best AUC Score(benchmark/combined):  58.31157679453489\n",
      "Dataset Name:  reddit  Best AUC Score (contextual):  57.42915931180224\n",
      "Dataset Name:  reddit  Best AUC Score (structural):  84.64586802095081\n",
      "Dataset Name:  reddit  Best AUC Score (joint-type):  53.173684080051274\n",
      "Dataset Name:  reddit  Best AUC Score (structure type):  84.0504611948401\n",
      "===========================================================================================\n",
      "Dataset Name:  reddit , AUC Score(benchmark/combined):  56.36749946219793\n",
      "Dataset Name:  reddit , AUC Score (contextual):  53.82877926198901\n"
     ]
    },
    {
     "name": "stderr",
     "output_type": "stream",
     "text": [
      " 53%|█████▎    | 265/500 [00:27<00:23,  9.88it/s]"
     ]
    },
    {
     "name": "stdout",
     "output_type": "stream",
     "text": [
      "Dataset Name:  reddit , AUC Score (structural):  50.02865354687312\n",
      "Dataset Name:  reddit , AUC Score (joint-type):  49.314599994030104\n",
      "Dataset Name:  reddit , AUC Score (structure type):  49.314599994030104\n",
      "===========================================================================================\n",
      "Dataset Name:  reddit  Best AUC Score(benchmark/combined):  58.31157679453489\n",
      "Dataset Name:  reddit  Best AUC Score (contextual):  57.42915931180224\n",
      "Dataset Name:  reddit  Best AUC Score (structural):  84.64586802095081\n",
      "Dataset Name:  reddit  Best AUC Score (joint-type):  53.173684080051274\n",
      "Dataset Name:  reddit  Best AUC Score (structure type):  84.0504611948401\n",
      "===========================================================================================\n",
      "Dataset Name:  reddit , AUC Score(benchmark/combined):  56.369802490255225\n",
      "Dataset Name:  reddit , AUC Score (contextual):  53.829082816152926\n",
      "Dataset Name:  reddit , AUC Score (structural):  50.03031291629285\n",
      "Dataset Name:  reddit , AUC Score (joint-type):  49.318773863784116\n"
     ]
    },
    {
     "name": "stderr",
     "output_type": "stream",
     "text": [
      " 53%|█████▎    | 266/500 [00:27<00:23,  9.91it/s]"
     ]
    },
    {
     "name": "stdout",
     "output_type": "stream",
     "text": [
      "Dataset Name:  reddit , AUC Score (structure type):  49.318773863784116\n",
      "===========================================================================================\n",
      "Dataset Name:  reddit  Best AUC Score(benchmark/combined):  58.31157679453489\n",
      "Dataset Name:  reddit  Best AUC Score (contextual):  57.42915931180224\n",
      "Dataset Name:  reddit  Best AUC Score (structural):  84.64586802095081\n",
      "Dataset Name:  reddit  Best AUC Score (joint-type):  53.173684080051274\n",
      "Dataset Name:  reddit  Best AUC Score (structure type):  84.0504611948401\n",
      "===========================================================================================\n",
      "Dataset Name:  reddit , AUC Score(benchmark/combined):  56.380301210337734\n",
      "Dataset Name:  reddit , AUC Score (contextual):  53.831182399120095\n",
      "Dataset Name:  reddit , AUC Score (structural):  50.03031457400455\n"
     ]
    },
    {
     "name": "stderr",
     "output_type": "stream",
     "text": [
      " 53%|█████▎    | 267/500 [00:27<00:23,  9.90it/s]"
     ]
    },
    {
     "name": "stdout",
     "output_type": "stream",
     "text": [
      "Dataset Name:  reddit , AUC Score (joint-type):  49.32130348181685\n",
      "Dataset Name:  reddit , AUC Score (structure type):  49.32130348181685\n",
      "===========================================================================================\n",
      "Dataset Name:  reddit  Best AUC Score(benchmark/combined):  58.31157679453489\n",
      "Dataset Name:  reddit  Best AUC Score (contextual):  57.42915931180224\n",
      "Dataset Name:  reddit  Best AUC Score (structural):  84.64586802095081\n",
      "Dataset Name:  reddit  Best AUC Score (joint-type):  53.173684080051274\n",
      "Dataset Name:  reddit  Best AUC Score (structure type):  84.0504611948401\n",
      "===========================================================================================\n",
      "Dataset Name:  reddit , AUC Score(benchmark/combined):  56.38596228489203\n",
      "Dataset Name:  reddit , AUC Score (contextual):  53.82728678734969\n",
      "Dataset Name:  reddit , AUC Score (structural):  50.03185624589301\n"
     ]
    },
    {
     "name": "stderr",
     "output_type": "stream",
     "text": [
      " 54%|█████▎    | 268/500 [00:27<00:23,  9.84it/s]"
     ]
    },
    {
     "name": "stdout",
     "output_type": "stream",
     "text": [
      "Dataset Name:  reddit , AUC Score (joint-type):  49.31573832214483\n",
      "Dataset Name:  reddit , AUC Score (structure type):  49.31573832214483\n",
      "===========================================================================================\n",
      "Dataset Name:  reddit  Best AUC Score(benchmark/combined):  58.31157679453489\n",
      "Dataset Name:  reddit  Best AUC Score (contextual):  57.42915931180224\n",
      "Dataset Name:  reddit  Best AUC Score (structural):  84.64586802095081\n",
      "Dataset Name:  reddit  Best AUC Score (joint-type):  53.173684080051274\n",
      "Dataset Name:  reddit  Best AUC Score (structure type):  84.0504611948401\n",
      "===========================================================================================\n",
      "Dataset Name:  reddit , AUC Score(benchmark/combined):  56.407088385842385\n",
      "Dataset Name:  reddit , AUC Score (contextual):  53.82678086374313\n"
     ]
    },
    {
     "name": "stderr",
     "output_type": "stream",
     "text": [
      " 54%|█████▍    | 269/500 [00:27<00:23,  9.86it/s]"
     ]
    },
    {
     "name": "stdout",
     "output_type": "stream",
     "text": [
      "Dataset Name:  reddit , AUC Score (structural):  50.029174068349434\n",
      "Dataset Name:  reddit , AUC Score (joint-type):  49.30916131525972\n",
      "Dataset Name:  reddit , AUC Score (structure type):  49.30916131525972\n",
      "===========================================================================================\n",
      "Dataset Name:  reddit  Best AUC Score(benchmark/combined):  58.31157679453489\n",
      "Dataset Name:  reddit  Best AUC Score (contextual):  57.42915931180224\n",
      "Dataset Name:  reddit  Best AUC Score (structural):  84.64586802095081\n",
      "Dataset Name:  reddit  Best AUC Score (joint-type):  53.173684080051274\n",
      "Dataset Name:  reddit  Best AUC Score (structure type):  84.0504611948401\n",
      "===========================================================================================\n",
      "Dataset Name:  reddit , AUC Score(benchmark/combined):  56.41310971059558\n",
      "Dataset Name:  reddit , AUC Score (contextual):  53.83158713800533\n",
      "Dataset Name:  reddit , AUC Score (structural):  50.03047371432853\n",
      "Dataset Name:  reddit , AUC Score (joint-type):  49.31905212176771\n"
     ]
    },
    {
     "name": "stderr",
     "output_type": "stream",
     "text": [
      " 54%|█████▍    | 270/500 [00:27<00:23,  9.90it/s]"
     ]
    },
    {
     "name": "stdout",
     "output_type": "stream",
     "text": [
      "Dataset Name:  reddit , AUC Score (structure type):  49.31905212176771\n",
      "===========================================================================================\n",
      "Dataset Name:  reddit  Best AUC Score(benchmark/combined):  58.31157679453489\n",
      "Dataset Name:  reddit  Best AUC Score (contextual):  57.42915931180224\n",
      "Dataset Name:  reddit  Best AUC Score (structural):  84.64586802095081\n",
      "Dataset Name:  reddit  Best AUC Score (joint-type):  53.173684080051274\n",
      "Dataset Name:  reddit  Best AUC Score (structure type):  84.0504611948401\n",
      "===========================================================================================\n",
      "Dataset Name:  reddit , AUC Score(benchmark/combined):  56.41808888298765\n",
      "Dataset Name:  reddit , AUC Score (contextual):  53.829968182464384\n",
      "Dataset Name:  reddit , AUC Score (structural):  50.03027313121186\n"
     ]
    },
    {
     "name": "stderr",
     "output_type": "stream",
     "text": [
      " 54%|█████▍    | 271/500 [00:27<00:23,  9.92it/s]"
     ]
    },
    {
     "name": "stdout",
     "output_type": "stream",
     "text": [
      "Dataset Name:  reddit , AUC Score (joint-type):  49.32046870786605\n",
      "Dataset Name:  reddit , AUC Score (structure type):  49.32046870786605\n",
      "===========================================================================================\n",
      "Dataset Name:  reddit  Best AUC Score(benchmark/combined):  58.31157679453489\n",
      "Dataset Name:  reddit  Best AUC Score (contextual):  57.42915931180224\n",
      "Dataset Name:  reddit  Best AUC Score (structural):  84.64586802095081\n",
      "Dataset Name:  reddit  Best AUC Score (joint-type):  53.173684080051274\n",
      "Dataset Name:  reddit  Best AUC Score (structure type):  84.0504611948401\n",
      "===========================================================================================\n",
      "Dataset Name:  reddit , AUC Score(benchmark/combined):  56.42973268405955\n",
      "Dataset Name:  reddit , AUC Score (contextual):  53.83697522441506\n",
      "Dataset Name:  reddit , AUC Score (structural):  50.03043061382413\n",
      "Dataset Name:  reddit , AUC Score (joint-type):  49.31720550060382\n",
      "Dataset Name:  reddit , AUC Score (structure type):  49.31720550060382\n",
      "===========================================================================================\n",
      "Dataset Name:  reddit  Best AUC Score(benchmark/combined):  58.31157679453489\n",
      "Dataset Name:  reddit  Best AUC Score (contextual):  57.42915931180224\n",
      "Dataset Name:  reddit  Best AUC Score (structural):  84.64586802095081\n",
      "Dataset Name:  reddit  Best AUC Score (joint-type):  53.173684080051274\n",
      "Dataset Name:  reddit  Best AUC Score (structure type):  84.0504611948401\n",
      "===========================================================================================\n",
      "Dataset Name:  reddit , AUC Score(benchmark/combined):  56.431456738582895\n",
      "Dataset Name:  reddit , AUC Score (contextual):  53.83391438659546\n",
      "Dataset Name:  reddit , AUC Score (structural):  50.03355540039374\n",
      "Dataset Name:  reddit , AUC Score (joint-type):  49.320342226964414\n"
     ]
    },
    {
     "name": "stderr",
     "output_type": "stream",
     "text": [
      " 55%|█████▍    | 273/500 [00:28<00:22,  9.97it/s]"
     ]
    },
    {
     "name": "stdout",
     "output_type": "stream",
     "text": [
      "Dataset Name:  reddit , AUC Score (structure type):  49.320342226964414\n",
      "===========================================================================================\n",
      "Dataset Name:  reddit  Best AUC Score(benchmark/combined):  58.31157679453489\n",
      "Dataset Name:  reddit  Best AUC Score (contextual):  57.42915931180224\n",
      "Dataset Name:  reddit  Best AUC Score (structural):  84.64586802095081\n",
      "Dataset Name:  reddit  Best AUC Score (joint-type):  53.173684080051274\n",
      "Dataset Name:  reddit  Best AUC Score (structure type):  84.0504611948401\n",
      "===========================================================================================\n",
      "Dataset Name:  reddit , AUC Score(benchmark/combined):  56.43412001683913\n",
      "Dataset Name:  reddit , AUC Score (contextual):  53.834066163677406\n",
      "Dataset Name:  reddit , AUC Score (structural):  50.03551315792091\n",
      "Dataset Name:  reddit , AUC Score (joint-type):  49.31973511863655\n",
      "Dataset Name:  reddit , AUC Score (structure type):  49.31973511863655\n",
      "===========================================================================================\n",
      "Dataset Name:  reddit  Best AUC Score(benchmark/combined):  58.31157679453489\n",
      "Dataset Name:  reddit  Best AUC Score (contextual):  57.42915931180224\n",
      "Dataset Name:  reddit  Best AUC Score (structural):  84.64586802095081\n",
      "Dataset Name:  reddit  Best AUC Score (joint-type):  53.173684080051274\n",
      "Dataset Name:  reddit  Best AUC Score (structure type):  84.0504611948401\n",
      "===========================================================================================\n",
      "Dataset Name:  reddit , AUC Score(benchmark/combined):  56.445455032026246\n",
      "Dataset Name:  reddit , AUC Score (contextual):  53.829664628300456\n",
      "Dataset Name:  reddit , AUC Score (structural):  50.03523466235396\n",
      "Dataset Name:  reddit , AUC Score (joint-type):  49.31938097211198\n",
      "Dataset Name:  reddit , AUC Score (structure type):  49.31938097211198\n",
      "===========================================================================================\n",
      "Dataset Name:  reddit  Best AUC Score(benchmark/combined):  58.31157679453489\n",
      "Dataset Name:  reddit  Best AUC Score (contextual):  57.42915931180224\n"
     ]
    },
    {
     "name": "stderr",
     "output_type": "stream",
     "text": [
      " 55%|█████▌    | 275/500 [00:28<00:22, 10.00it/s]"
     ]
    },
    {
     "name": "stdout",
     "output_type": "stream",
     "text": [
      "Dataset Name:  reddit  Best AUC Score (structural):  84.64586802095081\n",
      "Dataset Name:  reddit  Best AUC Score (joint-type):  53.173684080051274\n",
      "Dataset Name:  reddit  Best AUC Score (structure type):  84.0504611948401\n",
      "===========================================================================================\n"
     ]
    },
    {
     "name": "stderr",
     "output_type": "stream",
     "text": [
      " 55%|█████▌    | 276/500 [00:28<00:23,  9.52it/s]"
     ]
    },
    {
     "name": "stdout",
     "output_type": "stream",
     "text": [
      "Dataset Name:  reddit , AUC Score(benchmark/combined):  56.45901587879948\n",
      "Dataset Name:  reddit , AUC Score (contextual):  53.846360107316514\n",
      "Dataset Name:  reddit , AUC Score (structural):  50.029847099302906\n",
      "Dataset Name:  reddit , AUC Score (joint-type):  49.3180149783743\n",
      "Dataset Name:  reddit , AUC Score (structure type):  49.3180149783743\n",
      "===========================================================================================\n",
      "Dataset Name:  reddit  Best AUC Score(benchmark/combined):  58.31157679453489\n",
      "Dataset Name:  reddit  Best AUC Score (contextual):  57.42915931180224\n",
      "Dataset Name:  reddit  Best AUC Score (structural):  84.64586802095081\n",
      "Dataset Name:  reddit  Best AUC Score (joint-type):  53.173684080051274\n",
      "Dataset Name:  reddit  Best AUC Score (structure type):  84.0504611948401\n",
      "===========================================================================================\n"
     ]
    },
    {
     "name": "stderr",
     "output_type": "stream",
     "text": [
      " 55%|█████▌    | 277/500 [00:28<00:23,  9.52it/s]"
     ]
    },
    {
     "name": "stdout",
     "output_type": "stream",
     "text": [
      "Dataset Name:  reddit , AUC Score(benchmark/combined):  56.45354779542318\n",
      "Dataset Name:  reddit , AUC Score (contextual):  53.87211161888978\n",
      "Dataset Name:  reddit , AUC Score (structural):  50.030226715284044\n",
      "Dataset Name:  reddit , AUC Score (joint-type):  49.318293236357896\n",
      "Dataset Name:  reddit , AUC Score (structure type):  49.318293236357896\n",
      "===========================================================================================\n",
      "Dataset Name:  reddit  Best AUC Score(benchmark/combined):  58.31157679453489\n",
      "Dataset Name:  reddit  Best AUC Score (contextual):  57.42915931180224\n",
      "Dataset Name:  reddit  Best AUC Score (structural):  84.64586802095081\n",
      "Dataset Name:  reddit  Best AUC Score (joint-type):  53.173684080051274\n",
      "Dataset Name:  reddit  Best AUC Score (structure type):  84.0504611948401\n",
      "===========================================================================================\n"
     ]
    },
    {
     "name": "stderr",
     "output_type": "stream",
     "text": [
      " 56%|█████▌    | 278/500 [00:28<00:23,  9.57it/s]"
     ]
    },
    {
     "name": "stdout",
     "output_type": "stream",
     "text": [
      "Dataset Name:  reddit , AUC Score(benchmark/combined):  56.4517722765857\n",
      "Dataset Name:  reddit , AUC Score (contextual):  53.86568638908662\n",
      "Dataset Name:  reddit , AUC Score (structural):  50.03358689691619\n",
      "Dataset Name:  reddit , AUC Score (joint-type):  49.3170031311612\n",
      "Dataset Name:  reddit , AUC Score (structure type):  49.3170031311612\n",
      "===========================================================================================\n",
      "Dataset Name:  reddit  Best AUC Score(benchmark/combined):  58.31157679453489\n",
      "Dataset Name:  reddit  Best AUC Score (contextual):  57.42915931180224\n",
      "Dataset Name:  reddit  Best AUC Score (structural):  84.64586802095081\n",
      "Dataset Name:  reddit  Best AUC Score (joint-type):  53.173684080051274\n",
      "Dataset Name:  reddit  Best AUC Score (structure type):  84.0504611948401\n",
      "===========================================================================================\n"
     ]
    },
    {
     "name": "stderr",
     "output_type": "stream",
     "text": [
      " 56%|█████▌    | 279/500 [00:28<00:23,  9.57it/s]"
     ]
    },
    {
     "name": "stdout",
     "output_type": "stream",
     "text": [
      "Dataset Name:  reddit , AUC Score(benchmark/combined):  56.46324881863667\n",
      "Dataset Name:  reddit , AUC Score (contextual):  53.873477612627454\n",
      "Dataset Name:  reddit , AUC Score (structural):  50.033175784412606\n",
      "Dataset Name:  reddit , AUC Score (joint-type):  49.315763618325164\n",
      "Dataset Name:  reddit , AUC Score (structure type):  49.315763618325164\n",
      "===========================================================================================\n",
      "Dataset Name:  reddit  Best AUC Score(benchmark/combined):  58.31157679453489\n",
      "Dataset Name:  reddit  Best AUC Score (contextual):  57.42915931180224\n",
      "Dataset Name:  reddit  Best AUC Score (structural):  84.64586802095081\n",
      "Dataset Name:  reddit  Best AUC Score (joint-type):  53.173684080051274\n",
      "Dataset Name:  reddit  Best AUC Score (structure type):  84.0504611948401\n",
      "===========================================================================================\n"
     ]
    },
    {
     "name": "stderr",
     "output_type": "stream",
     "text": [
      " 56%|█████▌    | 280/500 [00:28<00:23,  9.50it/s]"
     ]
    },
    {
     "name": "stdout",
     "output_type": "stream",
     "text": [
      "Dataset Name:  reddit , AUC Score(benchmark/combined):  56.45887435193562\n",
      "Dataset Name:  reddit , AUC Score (contextual):  53.87375587061105\n",
      "Dataset Name:  reddit , AUC Score (structural):  50.034186988554495\n",
      "Dataset Name:  reddit , AUC Score (joint-type):  49.32094933529227\n",
      "Dataset Name:  reddit , AUC Score (structure type):  49.32094933529227\n",
      "===========================================================================================\n",
      "Dataset Name:  reddit  Best AUC Score(benchmark/combined):  58.31157679453489\n",
      "Dataset Name:  reddit  Best AUC Score (contextual):  57.42915931180224\n",
      "Dataset Name:  reddit  Best AUC Score (structural):  84.64586802095081\n",
      "Dataset Name:  reddit  Best AUC Score (joint-type):  53.173684080051274\n",
      "Dataset Name:  reddit  Best AUC Score (structure type):  84.0504611948401\n",
      "===========================================================================================\n"
     ]
    },
    {
     "name": "stderr",
     "output_type": "stream",
     "text": [
      " 56%|█████▌    | 281/500 [00:28<00:23,  9.42it/s]"
     ]
    },
    {
     "name": "stdout",
     "output_type": "stream",
     "text": [
      "Dataset Name:  reddit , AUC Score(benchmark/combined):  56.445313505162375\n",
      "Dataset Name:  reddit , AUC Score (contextual):  53.869354335234085\n",
      "Dataset Name:  reddit , AUC Score (structural):  50.035095414570485\n",
      "Dataset Name:  reddit , AUC Score (joint-type):  49.328740558833104\n",
      "Dataset Name:  reddit , AUC Score (structure type):  49.328740558833104\n",
      "===========================================================================================\n",
      "Dataset Name:  reddit  Best AUC Score(benchmark/combined):  58.31157679453489\n",
      "Dataset Name:  reddit  Best AUC Score (contextual):  57.42915931180224\n",
      "Dataset Name:  reddit  Best AUC Score (structural):  84.64586802095081\n",
      "Dataset Name:  reddit  Best AUC Score (joint-type):  53.173684080051274\n",
      "Dataset Name:  reddit  Best AUC Score (structure type):  84.0504611948401\n",
      "===========================================================================================\n",
      "Dataset Name:  reddit , AUC Score(benchmark/combined):  56.44383390613115\n",
      "Dataset Name:  reddit , AUC Score (contextual):  53.87039147862751\n",
      "Dataset Name:  reddit , AUC Score (structural):  50.03826164393281\n",
      "Dataset Name:  reddit , AUC Score (joint-type):  49.33167491575108\n",
      "Dataset Name:  reddit , AUC Score (structure type):  49.33167491575108\n",
      "===========================================================================================\n",
      "Dataset Name:  reddit  Best AUC Score(benchmark/combined):  58.31157679453489\n",
      "Dataset Name:  reddit  Best AUC Score (contextual):  57.42915931180224\n",
      "Dataset Name:  reddit  Best AUC Score (structural):  84.64586802095081\n",
      "Dataset Name:  reddit  Best AUC Score (joint-type):  53.173684080051274\n",
      "Dataset Name:  reddit  Best AUC Score (structure type):  84.0504611948401\n",
      "===========================================================================================\n"
     ]
    },
    {
     "name": "stderr",
     "output_type": "stream",
     "text": [
      " 57%|█████▋    | 283/500 [00:29<00:22,  9.55it/s]"
     ]
    },
    {
     "name": "stdout",
     "output_type": "stream",
     "text": [
      "Dataset Name:  reddit , AUC Score(benchmark/combined):  56.93435315018214\n",
      "Dataset Name:  reddit , AUC Score (contextual):  53.74651608356441\n",
      "Dataset Name:  reddit , AUC Score (structural):  49.980886584006534\n",
      "Dataset Name:  reddit , AUC Score (joint-type):  49.228719461818706\n",
      "Dataset Name:  reddit , AUC Score (structure type):  49.228719461818706\n",
      "===========================================================================================\n",
      "Dataset Name:  reddit  Best AUC Score(benchmark/combined):  58.31157679453489\n",
      "Dataset Name:  reddit  Best AUC Score (contextual):  57.42915931180224\n",
      "Dataset Name:  reddit  Best AUC Score (structural):  84.64586802095081\n",
      "Dataset Name:  reddit  Best AUC Score (joint-type):  53.173684080051274\n",
      "Dataset Name:  reddit  Best AUC Score (structure type):  84.0504611948401\n",
      "===========================================================================================\n"
     ]
    },
    {
     "name": "stderr",
     "output_type": "stream",
     "text": [
      " 57%|█████▋    | 284/500 [00:29<00:23,  9.15it/s]"
     ]
    },
    {
     "name": "stdout",
     "output_type": "stream",
     "text": [
      "Dataset Name:  reddit , AUC Score(benchmark/combined):  56.421060947128645\n",
      "Dataset Name:  reddit , AUC Score (contextual):  53.882331275742025\n",
      "Dataset Name:  reddit , AUC Score (structural):  50.03853848178805\n",
      "Dataset Name:  reddit , AUC Score (joint-type):  49.333344463652686\n",
      "Dataset Name:  reddit , AUC Score (structure type):  49.333344463652686\n",
      "===========================================================================================\n",
      "Dataset Name:  reddit  Best AUC Score(benchmark/combined):  58.31157679453489\n",
      "Dataset Name:  reddit  Best AUC Score (contextual):  57.42915931180224\n",
      "Dataset Name:  reddit  Best AUC Score (structural):  84.64586802095081\n",
      "Dataset Name:  reddit  Best AUC Score (joint-type):  53.173684080051274\n",
      "Dataset Name:  reddit  Best AUC Score (structure type):  84.0504611948401\n",
      "===========================================================================================\n"
     ]
    },
    {
     "name": "stderr",
     "output_type": "stream",
     "text": [
      " 57%|█████▋    | 285/500 [00:29<00:23,  9.32it/s]"
     ]
    },
    {
     "name": "stdout",
     "output_type": "stream",
     "text": [
      "Dataset Name:  reddit , AUC Score(benchmark/combined):  56.41763857023901\n",
      "Dataset Name:  reddit , AUC Score (contextual):  53.88503796703705\n",
      "Dataset Name:  reddit , AUC Score (structural):  50.041976575870486\n",
      "Dataset Name:  reddit , AUC Score (joint-type):  49.33417923760348\n",
      "Dataset Name:  reddit , AUC Score (structure type):  49.33417923760348\n",
      "===========================================================================================\n",
      "Dataset Name:  reddit  Best AUC Score(benchmark/combined):  58.31157679453489\n",
      "Dataset Name:  reddit  Best AUC Score (contextual):  57.42915931180224\n",
      "Dataset Name:  reddit  Best AUC Score (structural):  84.64586802095081\n",
      "Dataset Name:  reddit  Best AUC Score (joint-type):  53.173684080051274\n",
      "Dataset Name:  reddit  Best AUC Score (structure type):  84.0504611948401\n",
      "===========================================================================================\n"
     ]
    },
    {
     "name": "stderr",
     "output_type": "stream",
     "text": [
      " 57%|█████▋    | 286/500 [00:29<00:22,  9.44it/s]"
     ]
    },
    {
     "name": "stdout",
     "output_type": "stream",
     "text": [
      "Dataset Name:  reddit , AUC Score(benchmark/combined):  56.42097088457893\n",
      "Dataset Name:  reddit , AUC Score (contextual):  53.88440556252887\n",
      "Dataset Name:  reddit , AUC Score (structural):  50.04850132915325\n",
      "Dataset Name:  reddit , AUC Score (joint-type):  49.34014913616074\n",
      "Dataset Name:  reddit , AUC Score (structure type):  49.34014913616074\n",
      "===========================================================================================\n",
      "Dataset Name:  reddit  Best AUC Score(benchmark/combined):  58.31157679453489\n",
      "Dataset Name:  reddit  Best AUC Score (contextual):  57.42915931180224\n",
      "Dataset Name:  reddit  Best AUC Score (structural):  84.64586802095081\n",
      "Dataset Name:  reddit  Best AUC Score (joint-type):  53.173684080051274\n",
      "Dataset Name:  reddit  Best AUC Score (structure type):  84.0504611948401\n",
      "===========================================================================================\n"
     ]
    },
    {
     "name": "stderr",
     "output_type": "stream",
     "text": [
      " 57%|█████▋    | 287/500 [00:29<00:22,  9.56it/s]"
     ]
    },
    {
     "name": "stdout",
     "output_type": "stream",
     "text": [
      "Dataset Name:  reddit , AUC Score(benchmark/combined):  56.43976822531488\n",
      "Dataset Name:  reddit , AUC Score (contextual):  53.88283719934858\n",
      "Dataset Name:  reddit , AUC Score (structural):  50.05072763597712\n",
      "Dataset Name:  reddit , AUC Score (joint-type):  49.34057917122631\n",
      "Dataset Name:  reddit , AUC Score (structure type):  49.34057917122631\n",
      "===========================================================================================\n",
      "Dataset Name:  reddit  Best AUC Score(benchmark/combined):  58.31157679453489\n",
      "Dataset Name:  reddit  Best AUC Score (contextual):  57.42915931180224\n",
      "Dataset Name:  reddit  Best AUC Score (structural):  84.64586802095081\n",
      "Dataset Name:  reddit  Best AUC Score (joint-type):  53.173684080051274\n",
      "Dataset Name:  reddit  Best AUC Score (structure type):  84.0504611948401\n",
      "===========================================================================================\n"
     ]
    },
    {
     "name": "stderr",
     "output_type": "stream",
     "text": [
      " 58%|█████▊    | 288/500 [00:29<00:21,  9.66it/s]"
     ]
    },
    {
     "name": "stdout",
     "output_type": "stream",
     "text": [
      "Dataset Name:  reddit , AUC Score(benchmark/combined):  56.42903791581879\n",
      "Dataset Name:  reddit , AUC Score (contextual):  53.88417789690592\n",
      "Dataset Name:  reddit , AUC Score (structural):  50.05518190733657\n",
      "Dataset Name:  reddit , AUC Score (joint-type):  49.34174279552136\n",
      "Dataset Name:  reddit , AUC Score (structure type):  49.34174279552136\n",
      "===========================================================================================\n",
      "Dataset Name:  reddit  Best AUC Score(benchmark/combined):  58.31157679453489\n",
      "Dataset Name:  reddit  Best AUC Score (contextual):  57.42915931180224\n",
      "Dataset Name:  reddit  Best AUC Score (structural):  84.64586802095081\n",
      "Dataset Name:  reddit  Best AUC Score (joint-type):  53.173684080051274\n",
      "Dataset Name:  reddit  Best AUC Score (structure type):  84.0504611948401\n",
      "===========================================================================================\n",
      "Dataset Name:  reddit , AUC Score(benchmark/combined):  56.43543235684945\n"
     ]
    },
    {
     "name": "stderr",
     "output_type": "stream",
     "text": [
      " 58%|█████▊    | 289/500 [00:29<00:21,  9.74it/s]"
     ]
    },
    {
     "name": "stdout",
     "output_type": "stream",
     "text": [
      "Dataset Name:  reddit , AUC Score (contextual):  53.885518594463264\n",
      "Dataset Name:  reddit , AUC Score (structural):  50.057452972376545\n",
      "Dataset Name:  reddit , AUC Score (joint-type):  49.339111992767315\n",
      "Dataset Name:  reddit , AUC Score (structure type):  49.339111992767315\n",
      "===========================================================================================\n",
      "Dataset Name:  reddit  Best AUC Score(benchmark/combined):  58.31157679453489\n",
      "Dataset Name:  reddit  Best AUC Score (contextual):  57.42915931180224\n",
      "Dataset Name:  reddit  Best AUC Score (structural):  84.64586802095081\n",
      "Dataset Name:  reddit  Best AUC Score (joint-type):  53.173684080051274\n",
      "Dataset Name:  reddit  Best AUC Score (structure type):  84.0504611948401\n",
      "===========================================================================================\n"
     ]
    },
    {
     "name": "stderr",
     "output_type": "stream",
     "text": [
      " 58%|█████▊    | 290/500 [00:29<00:21,  9.77it/s]"
     ]
    },
    {
     "name": "stdout",
     "output_type": "stream",
     "text": [
      "Dataset Name:  reddit , AUC Score(benchmark/combined):  56.44612406810994\n",
      "Dataset Name:  reddit , AUC Score (contextual):  53.88736521562717\n",
      "Dataset Name:  reddit , AUC Score (structural):  50.05773312565521\n",
      "Dataset Name:  reddit , AUC Score (joint-type):  49.34320997398034\n",
      "Dataset Name:  reddit , AUC Score (structure type):  49.34320997398034\n",
      "===========================================================================================\n",
      "Dataset Name:  reddit  Best AUC Score(benchmark/combined):  58.31157679453489\n",
      "Dataset Name:  reddit  Best AUC Score (contextual):  57.42915931180224\n",
      "Dataset Name:  reddit  Best AUC Score (structural):  84.64586802095081\n",
      "Dataset Name:  reddit  Best AUC Score (joint-type):  53.173684080051274\n",
      "Dataset Name:  reddit  Best AUC Score (structure type):  84.0504611948401\n",
      "===========================================================================================\n",
      "Dataset Name:  reddit , AUC Score(benchmark/combined):  56.45480867111936\n",
      "Dataset Name:  reddit , AUC Score (contextual):  53.88814939721731\n",
      "Dataset Name:  reddit , AUC Score (structural):  50.057855796321604\n",
      "Dataset Name:  reddit , AUC Score (joint-type):  49.34290641981642\n",
      "Dataset Name:  reddit , AUC Score (structure type):  49.34290641981642\n",
      "===========================================================================================\n",
      "Dataset Name:  reddit  Best AUC Score(benchmark/combined):  58.31157679453489\n",
      "Dataset Name:  reddit  Best AUC Score (contextual):  57.42915931180224\n",
      "Dataset Name:  reddit  Best AUC Score (structural):  84.64586802095081\n",
      "Dataset Name:  reddit  Best AUC Score (joint-type):  53.173684080051274\n",
      "Dataset Name:  reddit  Best AUC Score (structure type):  84.0504611948401\n",
      "===========================================================================================\n",
      "Dataset Name:  reddit , AUC Score(benchmark/combined):  56.4702736975154\n"
     ]
    },
    {
     "name": "stderr",
     "output_type": "stream",
     "text": [
      " 58%|█████▊    | 292/500 [00:30<00:21,  9.89it/s]"
     ]
    },
    {
     "name": "stdout",
     "output_type": "stream",
     "text": [
      "Dataset Name:  reddit , AUC Score (contextual):  53.89032486872547\n",
      "Dataset Name:  reddit , AUC Score (structural):  50.059288059237325\n",
      "Dataset Name:  reddit , AUC Score (joint-type):  49.349888165586776\n",
      "Dataset Name:  reddit , AUC Score (structure type):  49.349888165586776\n",
      "===========================================================================================\n",
      "Dataset Name:  reddit  Best AUC Score(benchmark/combined):  58.31157679453489\n",
      "Dataset Name:  reddit  Best AUC Score (contextual):  57.42915931180224\n",
      "Dataset Name:  reddit  Best AUC Score (structural):  84.64586802095081\n",
      "Dataset Name:  reddit  Best AUC Score (joint-type):  53.173684080051274\n",
      "Dataset Name:  reddit  Best AUC Score (structure type):  84.0504611948401\n",
      "===========================================================================================\n",
      "Dataset Name:  reddit , AUC Score(benchmark/combined):  56.48221341839354\n",
      "Dataset Name:  reddit , AUC Score (contextual):  53.89270270967624\n"
     ]
    },
    {
     "name": "stderr",
     "output_type": "stream",
     "text": [
      " 59%|█████▊    | 293/500 [00:30<00:20,  9.89it/s]"
     ]
    },
    {
     "name": "stdout",
     "output_type": "stream",
     "text": [
      "Dataset Name:  reddit , AUC Score (structural):  50.0600456334879\n",
      "Dataset Name:  reddit , AUC Score (joint-type):  49.354036739160456\n",
      "Dataset Name:  reddit , AUC Score (structure type):  49.354036739160456\n",
      "===========================================================================================\n",
      "Dataset Name:  reddit  Best AUC Score(benchmark/combined):  58.31157679453489\n",
      "Dataset Name:  reddit  Best AUC Score (contextual):  57.42915931180224\n",
      "Dataset Name:  reddit  Best AUC Score (structural):  84.64586802095081\n",
      "Dataset Name:  reddit  Best AUC Score (joint-type):  53.173684080051274\n",
      "Dataset Name:  reddit  Best AUC Score (structure type):  84.0504611948401\n",
      "===========================================================================================\n",
      "Dataset Name:  reddit , AUC Score(benchmark/combined):  56.48746277843482\n"
     ]
    },
    {
     "name": "stderr",
     "output_type": "stream",
     "text": [
      " 59%|█████▉    | 294/500 [00:30<00:20,  9.89it/s]"
     ]
    },
    {
     "name": "stdout",
     "output_type": "stream",
     "text": [
      "Dataset Name:  reddit , AUC Score (contextual):  53.893082152381155\n",
      "Dataset Name:  reddit , AUC Score (structural):  50.06156078198902\n",
      "Dataset Name:  reddit , AUC Score (joint-type):  49.35568099088174\n",
      "Dataset Name:  reddit , AUC Score (structure type):  49.35568099088174\n",
      "===========================================================================================\n",
      "Dataset Name:  reddit  Best AUC Score(benchmark/combined):  58.31157679453489\n",
      "Dataset Name:  reddit  Best AUC Score (contextual):  57.42915931180224\n",
      "Dataset Name:  reddit  Best AUC Score (structural):  84.64586802095081\n",
      "Dataset Name:  reddit  Best AUC Score (joint-type):  53.173684080051274\n",
      "Dataset Name:  reddit  Best AUC Score (structure type):  84.0504611948401\n",
      "===========================================================================================\n",
      "Dataset Name:  reddit , AUC Score(benchmark/combined):  56.49574853300972\n",
      "Dataset Name:  reddit , AUC Score (contextual):  53.89462521938113\n"
     ]
    },
    {
     "name": "stderr",
     "output_type": "stream",
     "text": [
      " 59%|█████▉    | 295/500 [00:30<00:20,  9.87it/s]"
     ]
    },
    {
     "name": "stdout",
     "output_type": "stream",
     "text": [
      "Dataset Name:  reddit , AUC Score (structural):  50.062265309464934\n",
      "Dataset Name:  reddit , AUC Score (joint-type):  49.35262015306213\n",
      "Dataset Name:  reddit , AUC Score (structure type):  49.35262015306213\n",
      "===========================================================================================\n",
      "Dataset Name:  reddit  Best AUC Score(benchmark/combined):  58.31157679453489\n",
      "Dataset Name:  reddit  Best AUC Score (contextual):  57.42915931180224\n",
      "Dataset Name:  reddit  Best AUC Score (structural):  84.64586802095081\n",
      "Dataset Name:  reddit  Best AUC Score (joint-type):  53.173684080051274\n",
      "Dataset Name:  reddit  Best AUC Score (structure type):  84.0504611948401\n",
      "===========================================================================================\n"
     ]
    },
    {
     "name": "stderr",
     "output_type": "stream",
     "text": [
      " 59%|█████▉    | 296/500 [00:30<00:20,  9.76it/s]"
     ]
    },
    {
     "name": "stdout",
     "output_type": "stream",
     "text": [
      "Dataset Name:  reddit , AUC Score(benchmark/combined):  56.51283468530086\n",
      "Dataset Name:  reddit , AUC Score (contextual):  53.895662362774544\n",
      "Dataset Name:  reddit , AUC Score (structural):  50.061351910313824\n",
      "Dataset Name:  reddit , AUC Score (joint-type):  49.35087471661954\n",
      "Dataset Name:  reddit , AUC Score (structure type):  49.35087471661954\n",
      "===========================================================================================\n",
      "Dataset Name:  reddit  Best AUC Score(benchmark/combined):  58.31157679453489\n",
      "Dataset Name:  reddit  Best AUC Score (contextual):  57.42915931180224\n",
      "Dataset Name:  reddit  Best AUC Score (structural):  84.64586802095081\n",
      "Dataset Name:  reddit  Best AUC Score (joint-type):  53.173684080051274\n",
      "Dataset Name:  reddit  Best AUC Score (structure type):  84.0504611948401\n",
      "===========================================================================================\n"
     ]
    },
    {
     "name": "stderr",
     "output_type": "stream",
     "text": [
      " 59%|█████▉    | 297/500 [00:30<00:20,  9.81it/s]"
     ]
    },
    {
     "name": "stdout",
     "output_type": "stream",
     "text": [
      "Dataset Name:  reddit , AUC Score(benchmark/combined):  56.522123994001326\n",
      "Dataset Name:  reddit , AUC Score (contextual):  53.89260152495494\n",
      "Dataset Name:  reddit , AUC Score (structural):  50.05970414487604\n",
      "Dataset Name:  reddit , AUC Score (joint-type):  49.3471308819311\n",
      "Dataset Name:  reddit , AUC Score (structure type):  49.3471308819311\n",
      "===========================================================================================\n",
      "Dataset Name:  reddit  Best AUC Score(benchmark/combined):  58.31157679453489\n",
      "Dataset Name:  reddit  Best AUC Score (contextual):  57.42915931180224\n",
      "Dataset Name:  reddit  Best AUC Score (structural):  84.64586802095081\n",
      "Dataset Name:  reddit  Best AUC Score (joint-type):  53.173684080051274\n",
      "Dataset Name:  reddit  Best AUC Score (structure type):  84.0504611948401\n",
      "===========================================================================================\n",
      "Dataset Name:  reddit , AUC Score(benchmark/combined):  56.526485594623836\n"
     ]
    },
    {
     "name": "stderr",
     "output_type": "stream",
     "text": [
      " 60%|█████▉    | 298/500 [00:30<00:20,  9.87it/s]"
     ]
    },
    {
     "name": "stdout",
     "output_type": "stream",
     "text": [
      "Dataset Name:  reddit , AUC Score (contextual):  53.87190924944715\n",
      "Dataset Name:  reddit , AUC Score (structural):  50.05418893802347\n",
      "Dataset Name:  reddit , AUC Score (joint-type):  49.34996405412775\n",
      "Dataset Name:  reddit , AUC Score (structure type):  49.34996405412775\n",
      "===========================================================================================\n",
      "Dataset Name:  reddit  Best AUC Score(benchmark/combined):  58.31157679453489\n",
      "Dataset Name:  reddit  Best AUC Score (contextual):  57.42915931180224\n",
      "Dataset Name:  reddit  Best AUC Score (structural):  84.64586802095081\n",
      "Dataset Name:  reddit  Best AUC Score (joint-type):  53.173684080051274\n",
      "Dataset Name:  reddit  Best AUC Score (structure type):  84.0504611948401\n",
      "===========================================================================================\n",
      "Dataset Name:  reddit , AUC Score(benchmark/combined):  56.529123140722994\n",
      "Dataset Name:  reddit , AUC Score (contextual):  53.85298770656228\n",
      "Dataset Name:  reddit , AUC Score (structural):  50.05152665302038\n",
      "Dataset Name:  reddit , AUC Score (joint-type):  49.35079882807856\n",
      "Dataset Name:  reddit , AUC Score (structure type):  49.35079882807856\n",
      "===========================================================================================\n",
      "Dataset Name:  reddit  Best AUC Score(benchmark/combined):  58.31157679453489\n",
      "Dataset Name:  reddit  Best AUC Score (contextual):  57.42915931180224\n",
      "Dataset Name:  reddit  Best AUC Score (structural):  84.64586802095081\n",
      "Dataset Name:  reddit  Best AUC Score (joint-type):  53.173684080051274\n",
      "Dataset Name:  reddit  Best AUC Score (structure type):  84.0504611948401\n",
      "===========================================================================================\n",
      "Dataset Name:  reddit , AUC Score(benchmark/combined):  56.53721590411992\n",
      "Dataset Name:  reddit , AUC Score (contextual):  53.85377188815242\n",
      "Dataset Name:  reddit , AUC Score (structural):  50.04886602572901\n"
     ]
    },
    {
     "name": "stderr",
     "output_type": "stream",
     "text": [
      " 60%|██████    | 300/500 [00:30<00:20,  9.92it/s]"
     ]
    },
    {
     "name": "stdout",
     "output_type": "stream",
     "text": [
      "Dataset Name:  reddit , AUC Score (joint-type):  49.346700846865524\n",
      "Dataset Name:  reddit , AUC Score (structure type):  49.346700846865524\n",
      "===========================================================================================\n",
      "Dataset Name:  reddit  Best AUC Score(benchmark/combined):  58.31157679453489\n",
      "Dataset Name:  reddit  Best AUC Score (contextual):  57.42915931180224\n",
      "Dataset Name:  reddit  Best AUC Score (structural):  84.64586802095081\n",
      "Dataset Name:  reddit  Best AUC Score (joint-type):  53.173684080051274\n",
      "Dataset Name:  reddit  Best AUC Score (structure type):  84.0504611948401\n",
      "===========================================================================================\n",
      "Dataset Name:  reddit , AUC Score(benchmark/combined):  56.54398346142801\n"
     ]
    },
    {
     "name": "stderr",
     "output_type": "stream",
     "text": [
      " 60%|██████    | 301/500 [00:30<00:20,  9.91it/s]"
     ]
    },
    {
     "name": "stdout",
     "output_type": "stream",
     "text": [
      "Dataset Name:  reddit , AUC Score (contextual):  53.897508983938444\n",
      "Dataset Name:  reddit , AUC Score (structural):  50.05205048992012\n",
      "Dataset Name:  reddit , AUC Score (joint-type):  49.34713088193109\n",
      "Dataset Name:  reddit , AUC Score (structure type):  49.34713088193109\n",
      "===========================================================================================\n",
      "Dataset Name:  reddit  Best AUC Score(benchmark/combined):  58.31157679453489\n",
      "Dataset Name:  reddit  Best AUC Score (contextual):  57.42915931180224\n",
      "Dataset Name:  reddit  Best AUC Score (structural):  84.64586802095081\n",
      "Dataset Name:  reddit  Best AUC Score (joint-type):  53.173684080051274\n",
      "Dataset Name:  reddit  Best AUC Score (structure type):  84.0504611948401\n",
      "===========================================================================================\n",
      "Dataset Name:  reddit , AUC Score(benchmark/combined):  56.54335302357991\n",
      "Dataset Name:  reddit , AUC Score (contextual):  53.853139483644256\n",
      "Dataset Name:  reddit , AUC Score (structural):  50.04935339297116\n",
      "Dataset Name:  reddit , AUC Score (joint-type):  49.34874983747204\n",
      "Dataset Name:  reddit , AUC Score (structure type):  49.34874983747204\n",
      "===========================================================================================\n",
      "Dataset Name:  reddit  Best AUC Score(benchmark/combined):  58.31157679453489\n",
      "Dataset Name:  reddit  Best AUC Score (contextual):  57.42915931180224\n",
      "Dataset Name:  reddit  Best AUC Score (structural):  84.64586802095081\n",
      "Dataset Name:  reddit  Best AUC Score (joint-type):  53.173684080051274\n",
      "Dataset Name:  reddit  Best AUC Score (structure type):  84.0504611948401\n",
      "===========================================================================================\n",
      "Dataset Name:  reddit , AUC Score(benchmark/combined):  56.5437390059359\n",
      "Dataset Name:  reddit , AUC Score (contextual):  53.901935815495726\n",
      "Dataset Name:  reddit , AUC Score (structural):  50.04963520396154\n"
     ]
    },
    {
     "name": "stderr",
     "output_type": "stream",
     "text": [
      " 61%|██████    | 303/500 [00:31<00:19,  9.97it/s]"
     ]
    },
    {
     "name": "stdout",
     "output_type": "stream",
     "text": [
      "Dataset Name:  reddit , AUC Score (joint-type):  49.33997206289845\n",
      "Dataset Name:  reddit , AUC Score (structure type):  49.33997206289845\n",
      "===========================================================================================\n",
      "Dataset Name:  reddit  Best AUC Score(benchmark/combined):  58.31157679453489\n",
      "Dataset Name:  reddit  Best AUC Score (contextual):  57.42915931180224\n",
      "Dataset Name:  reddit  Best AUC Score (structural):  84.64586802095081\n",
      "Dataset Name:  reddit  Best AUC Score (joint-type):  53.173684080051274\n",
      "Dataset Name:  reddit  Best AUC Score (structure type):  84.0504611948401\n",
      "===========================================================================================\n",
      "Dataset Name:  reddit , AUC Score(benchmark/combined):  56.51825130436304\n",
      "Dataset Name:  reddit , AUC Score (contextual):  53.85528965897207\n",
      "Dataset Name:  reddit , AUC Score (structural):  50.04684361744523\n",
      "Dataset Name:  reddit , AUC Score (joint-type):  49.33855547680011\n",
      "Dataset Name:  reddit , AUC Score (structure type):  49.33855547680011\n",
      "===========================================================================================\n",
      "Dataset Name:  reddit  Best AUC Score(benchmark/combined):  58.31157679453489\n"
     ]
    },
    {
     "name": "stderr",
     "output_type": "stream",
     "text": [
      " 61%|██████    | 304/500 [00:31<00:19,  9.97it/s]"
     ]
    },
    {
     "name": "stdout",
     "output_type": "stream",
     "text": [
      "Dataset Name:  reddit  Best AUC Score (contextual):  57.42915931180224\n",
      "Dataset Name:  reddit  Best AUC Score (structural):  84.64586802095081\n",
      "Dataset Name:  reddit  Best AUC Score (joint-type):  53.173684080051274\n",
      "Dataset Name:  reddit  Best AUC Score (structure type):  84.0504611948401\n",
      "===========================================================================================\n",
      "Dataset Name:  reddit , AUC Score(benchmark/combined):  56.56947116300086\n",
      "Dataset Name:  reddit , AUC Score (contextual):  53.905325503659604\n",
      "Dataset Name:  reddit , AUC Score (structural):  50.036149719216795\n",
      "Dataset Name:  reddit , AUC Score (joint-type):  49.37695507853705\n",
      "Dataset Name:  reddit , AUC Score (structure type):  49.37695507853705\n",
      "===========================================================================================\n",
      "Dataset Name:  reddit  Best AUC Score(benchmark/combined):  58.31157679453489\n",
      "Dataset Name:  reddit  Best AUC Score (contextual):  57.42915931180224\n",
      "Dataset Name:  reddit  Best AUC Score (structural):  84.64586802095081\n",
      "Dataset Name:  reddit  Best AUC Score (joint-type):  53.173684080051274\n",
      "Dataset Name:  reddit  Best AUC Score (structure type):  84.0504611948401\n",
      "===========================================================================================\n",
      "Dataset Name:  reddit , AUC Score(benchmark/combined):  56.45998083468942\n",
      "Dataset Name:  reddit , AUC Score (contextual):  53.800396947661696\n",
      "Dataset Name:  reddit , AUC Score (structural):  50.04127370610628\n",
      "Dataset Name:  reddit , AUC Score (joint-type):  49.25098010050679\n",
      "Dataset Name:  reddit , AUC Score (structure type):  49.25098010050679\n",
      "===========================================================================================\n",
      "Dataset Name:  reddit  Best AUC Score(benchmark/combined):  58.31157679453489\n",
      "Dataset Name:  reddit  Best AUC Score (contextual):  57.42915931180224\n",
      "Dataset Name:  reddit  Best AUC Score (structural):  84.64586802095081\n"
     ]
    },
    {
     "name": "stderr",
     "output_type": "stream",
     "text": [
      " 61%|██████    | 306/500 [00:31<00:19, 10.03it/s]"
     ]
    },
    {
     "name": "stdout",
     "output_type": "stream",
     "text": [
      "Dataset Name:  reddit  Best AUC Score (joint-type):  53.173684080051274\n",
      "Dataset Name:  reddit  Best AUC Score (structure type):  84.0504611948401\n",
      "===========================================================================================\n",
      "Dataset Name:  reddit , AUC Score(benchmark/combined):  56.59498459673078\n",
      "Dataset Name:  reddit , AUC Score (contextual):  53.91081477479063\n",
      "Dataset Name:  reddit , AUC Score (structural):  50.06345554647129\n",
      "Dataset Name:  reddit , AUC Score (joint-type):  49.43167071658514\n",
      "Dataset Name:  reddit , AUC Score (structure type):  49.43167071658514\n",
      "===========================================================================================\n",
      "Dataset Name:  reddit  Best AUC Score(benchmark/combined):  58.31157679453489\n",
      "Dataset Name:  reddit  Best AUC Score (contextual):  57.42915931180224\n",
      "Dataset Name:  reddit  Best AUC Score (structural):  84.64586802095081\n",
      "Dataset Name:  reddit  Best AUC Score (joint-type):  53.173684080051274\n",
      "Dataset Name:  reddit  Best AUC Score (structure type):  84.0504611948401\n",
      "===========================================================================================\n",
      "Dataset Name:  reddit , AUC Score(benchmark/combined):  56.34494522653048\n",
      "Dataset Name:  reddit , AUC Score (contextual):  53.712290351581494\n",
      "Dataset Name:  reddit , AUC Score (structural):  50.0085355575846\n",
      "Dataset Name:  reddit , AUC Score (joint-type):  49.127635925230564\n",
      "Dataset Name:  reddit , AUC Score (structure type):  49.127635925230564\n",
      "===========================================================================================\n",
      "Dataset Name:  reddit  Best AUC Score(benchmark/combined):  58.31157679453489\n",
      "Dataset Name:  reddit  Best AUC Score (contextual):  57.42915931180224\n",
      "Dataset Name:  reddit  Best AUC Score (structural):  84.64586802095081\n",
      "Dataset Name:  reddit  Best AUC Score (joint-type):  53.173684080051274\n",
      "Dataset Name:  reddit  Best AUC Score (structure type):  84.0504611948401\n",
      "===========================================================================================\n"
     ]
    },
    {
     "name": "stderr",
     "output_type": "stream",
     "text": [
      " 62%|██████▏   | 308/500 [00:31<00:19, 10.07it/s]"
     ]
    },
    {
     "name": "stdout",
     "output_type": "stream",
     "text": [
      "Dataset Name:  reddit , AUC Score(benchmark/combined):  56.60455695915895\n",
      "Dataset Name:  reddit , AUC Score (contextual):  53.962520167379765\n",
      "Dataset Name:  reddit , AUC Score (structural):  50.06501545318854\n",
      "Dataset Name:  reddit , AUC Score (joint-type):  49.41704952435592\n",
      "Dataset Name:  reddit , AUC Score (structure type):  49.41704952435592\n",
      "===========================================================================================\n",
      "Dataset Name:  reddit  Best AUC Score(benchmark/combined):  58.31157679453489\n",
      "Dataset Name:  reddit  Best AUC Score (contextual):  57.42915931180224\n",
      "Dataset Name:  reddit  Best AUC Score (structural):  84.64586802095081\n",
      "Dataset Name:  reddit  Best AUC Score (joint-type):  53.173684080051274\n",
      "Dataset Name:  reddit  Best AUC Score (structure type):  84.0504611948401\n",
      "===========================================================================================\n"
     ]
    },
    {
     "name": "stderr",
     "output_type": "stream",
     "text": [
      " 62%|██████▏   | 310/500 [00:31<00:18, 10.10it/s]"
     ]
    },
    {
     "name": "stdout",
     "output_type": "stream",
     "text": [
      "Dataset Name:  reddit , AUC Score(benchmark/combined):  56.49518242555429\n",
      "Dataset Name:  reddit , AUC Score (contextual):  53.83550804595607\n",
      "Dataset Name:  reddit , AUC Score (structural):  50.05663240508109\n",
      "Dataset Name:  reddit , AUC Score (joint-type):  49.377385113602614\n",
      "Dataset Name:  reddit , AUC Score (structure type):  49.377385113602614\n",
      "===========================================================================================\n",
      "Dataset Name:  reddit  Best AUC Score(benchmark/combined):  58.31157679453489\n",
      "Dataset Name:  reddit  Best AUC Score (contextual):  57.42915931180224\n",
      "Dataset Name:  reddit  Best AUC Score (structural):  84.64586802095081\n",
      "Dataset Name:  reddit  Best AUC Score (joint-type):  53.173684080051274\n",
      "Dataset Name:  reddit  Best AUC Score (structure type):  84.0504611948401\n",
      "===========================================================================================\n",
      "Dataset Name:  reddit , AUC Score(benchmark/combined):  56.46822799102874\n",
      "Dataset Name:  reddit , AUC Score (contextual):  53.86530694638171\n",
      "Dataset Name:  reddit , AUC Score (structural):  50.039279478921536\n",
      "Dataset Name:  reddit , AUC Score (joint-type):  49.13818443242707\n",
      "Dataset Name:  reddit , AUC Score (structure type):  49.13818443242707\n",
      "===========================================================================================\n",
      "Dataset Name:  reddit  Best AUC Score(benchmark/combined):  58.31157679453489\n",
      "Dataset Name:  reddit  Best AUC Score (contextual):  57.42915931180224\n",
      "Dataset Name:  reddit  Best AUC Score (structural):  84.64586802095081\n",
      "Dataset Name:  reddit  Best AUC Score (joint-type):  53.173684080051274\n",
      "Dataset Name:  reddit  Best AUC Score (structure type):  84.0504611948401\n",
      "===========================================================================================\n",
      "Dataset Name:  reddit , AUC Score(benchmark/combined):  56.62610764070085\n",
      "Dataset Name:  reddit , AUC Score (contextual):  53.85921056692281\n"
     ]
    },
    {
     "name": "stderr",
     "output_type": "stream",
     "text": [
      " 62%|██████▏   | 312/500 [00:32<00:18, 10.12it/s]"
     ]
    },
    {
     "name": "stdout",
     "output_type": "stream",
     "text": [
      "Dataset Name:  reddit , AUC Score (structural):  50.057547461943905\n",
      "Dataset Name:  reddit , AUC Score (joint-type):  49.4575234128797\n",
      "Dataset Name:  reddit , AUC Score (structure type):  49.4575234128797\n",
      "===========================================================================================\n",
      "Dataset Name:  reddit  Best AUC Score(benchmark/combined):  58.31157679453489\n",
      "Dataset Name:  reddit  Best AUC Score (contextual):  57.42915931180224\n",
      "Dataset Name:  reddit  Best AUC Score (structural):  84.64586802095081\n",
      "Dataset Name:  reddit  Best AUC Score (joint-type):  53.173684080051274\n",
      "Dataset Name:  reddit  Best AUC Score (structure type):  84.0504611948401\n",
      "===========================================================================================\n",
      "Dataset Name:  reddit , AUC Score(benchmark/combined):  56.5736011742098\n",
      "Dataset Name:  reddit , AUC Score (contextual):  53.962950202445334\n",
      "Dataset Name:  reddit , AUC Score (structural):  50.05329045827772\n",
      "Dataset Name:  reddit , AUC Score (joint-type):  49.37849814553702\n",
      "Dataset Name:  reddit , AUC Score (structure type):  49.37849814553702\n",
      "===========================================================================================\n",
      "Dataset Name:  reddit  Best AUC Score(benchmark/combined):  58.31157679453489\n",
      "Dataset Name:  reddit  Best AUC Score (contextual):  57.42915931180224\n",
      "Dataset Name:  reddit  Best AUC Score (structural):  84.64586802095081\n",
      "Dataset Name:  reddit  Best AUC Score (joint-type):  53.173684080051274\n",
      "Dataset Name:  reddit  Best AUC Score (structure type):  84.0504611948401\n",
      "===========================================================================================\n",
      "Dataset Name:  reddit , AUC Score(benchmark/combined):  56.37363658165791\n",
      "Dataset Name:  reddit , AUC Score (contextual):  53.67214531340196\n",
      "Dataset Name:  reddit , AUC Score (structural):  50.03132246272304\n",
      "Dataset Name:  reddit , AUC Score (joint-type):  49.1547534305415\n"
     ]
    },
    {
     "name": "stderr",
     "output_type": "stream",
     "text": [
      " 63%|██████▎   | 314/500 [00:32<00:18, 10.12it/s]"
     ]
    },
    {
     "name": "stdout",
     "output_type": "stream",
     "text": [
      "Dataset Name:  reddit , AUC Score (structure type):  49.1547534305415\n",
      "===========================================================================================\n",
      "Dataset Name:  reddit  Best AUC Score(benchmark/combined):  58.31157679453489\n",
      "Dataset Name:  reddit  Best AUC Score (contextual):  57.42915931180224\n",
      "Dataset Name:  reddit  Best AUC Score (structural):  84.64586802095081\n",
      "Dataset Name:  reddit  Best AUC Score (joint-type):  53.173684080051274\n",
      "Dataset Name:  reddit  Best AUC Score (structure type):  84.0504611948401\n",
      "===========================================================================================\n",
      "Dataset Name:  reddit , AUC Score(benchmark/combined):  56.61460536649281\n",
      "Dataset Name:  reddit , AUC Score (contextual):  53.912433730331585\n",
      "Dataset Name:  reddit , AUC Score (structural):  50.05557312729967\n",
      "Dataset Name:  reddit , AUC Score (joint-type):  49.40333899461849\n",
      "Dataset Name:  reddit , AUC Score (structure type):  49.40333899461849\n",
      "===========================================================================================\n",
      "Dataset Name:  reddit  Best AUC Score(benchmark/combined):  58.31157679453489\n",
      "Dataset Name:  reddit  Best AUC Score (contextual):  57.42915931180224\n",
      "Dataset Name:  reddit  Best AUC Score (structural):  84.64586802095081\n",
      "Dataset Name:  reddit  Best AUC Score (joint-type):  53.173684080051274\n",
      "Dataset Name:  reddit  Best AUC Score (structure type):  84.0504611948401\n",
      "===========================================================================================\n",
      "Dataset Name:  reddit , AUC Score(benchmark/combined):  56.60835245232603\n",
      "Dataset Name:  reddit , AUC Score (contextual):  53.88121824380762\n",
      "Dataset Name:  reddit , AUC Score (structural):  50.06252225477969\n",
      "Dataset Name:  reddit , AUC Score (joint-type):  49.37419779488137\n",
      "Dataset Name:  reddit , AUC Score (structure type):  49.37419779488137\n",
      "===========================================================================================\n",
      "Dataset Name:  reddit  Best AUC Score(benchmark/combined):  58.31157679453489\n",
      "Dataset Name:  reddit  Best AUC Score (contextual):  57.42915931180224\n",
      "Dataset Name:  reddit  Best AUC Score (structural):  84.64586802095081\n"
     ]
    },
    {
     "name": "stderr",
     "output_type": "stream",
     "text": [
      " 63%|██████▎   | 316/500 [00:32<00:18, 10.11it/s]"
     ]
    },
    {
     "name": "stdout",
     "output_type": "stream",
     "text": [
      "Dataset Name:  reddit  Best AUC Score (joint-type):  53.173684080051274\n",
      "Dataset Name:  reddit  Best AUC Score (structure type):  84.0504611948401\n",
      "===========================================================================================\n",
      "Dataset Name:  reddit , AUC Score(benchmark/combined):  56.423556966363954\n",
      "Dataset Name:  reddit , AUC Score (contextual):  53.69779564025392\n",
      "Dataset Name:  reddit , AUC Score (structural):  50.023769928181295\n",
      "Dataset Name:  reddit , AUC Score (joint-type):  49.13454178245993\n",
      "Dataset Name:  reddit , AUC Score (structure type):  49.13454178245993\n",
      "===========================================================================================\n",
      "Dataset Name:  reddit  Best AUC Score(benchmark/combined):  58.31157679453489\n",
      "Dataset Name:  reddit  Best AUC Score (contextual):  57.42915931180224\n",
      "Dataset Name:  reddit  Best AUC Score (structural):  84.64586802095081\n",
      "Dataset Name:  reddit  Best AUC Score (joint-type):  53.173684080051274\n",
      "Dataset Name:  reddit  Best AUC Score (structure type):  84.0504611948401\n",
      "===========================================================================================\n",
      "Dataset Name:  reddit , AUC Score(benchmark/combined):  56.589091932762905\n",
      "Dataset Name:  reddit , AUC Score (contextual):  53.88776995451241\n",
      "Dataset Name:  reddit , AUC Score (structural):  50.057467891781926\n",
      "Dataset Name:  reddit , AUC Score (joint-type):  49.303849117390975\n",
      "Dataset Name:  reddit , AUC Score (structure type):  49.303849117390975\n",
      "===========================================================================================\n",
      "Dataset Name:  reddit  Best AUC Score(benchmark/combined):  58.31157679453489\n",
      "Dataset Name:  reddit  Best AUC Score (contextual):  57.42915931180224\n",
      "Dataset Name:  reddit  Best AUC Score (structural):  84.64586802095081\n",
      "Dataset Name:  reddit  Best AUC Score (joint-type):  53.173684080051274\n"
     ]
    },
    {
     "name": "stderr",
     "output_type": "stream",
     "text": [
      " 64%|██████▎   | 318/500 [00:32<00:18, 10.09it/s]"
     ]
    },
    {
     "name": "stdout",
     "output_type": "stream",
     "text": [
      "Dataset Name:  reddit  Best AUC Score (structure type):  84.0504611948401\n",
      "===========================================================================================\n",
      "Dataset Name:  reddit , AUC Score(benchmark/combined):  56.620009119476464\n",
      "Dataset Name:  reddit , AUC Score (contextual):  53.8892371329714\n",
      "Dataset Name:  reddit , AUC Score (structural):  50.04589540634824\n",
      "Dataset Name:  reddit , AUC Score (joint-type):  49.40460380363486\n",
      "Dataset Name:  reddit , AUC Score (structure type):  49.40460380363486\n",
      "===========================================================================================\n",
      "Dataset Name:  reddit  Best AUC Score(benchmark/combined):  58.31157679453489\n",
      "Dataset Name:  reddit  Best AUC Score (contextual):  57.42915931180224\n",
      "Dataset Name:  reddit  Best AUC Score (structural):  84.64586802095081\n",
      "Dataset Name:  reddit  Best AUC Score (joint-type):  53.173684080051274\n",
      "Dataset Name:  reddit  Best AUC Score (structure type):  84.0504611948401\n",
      "===========================================================================================\n",
      "Dataset Name:  reddit , AUC Score(benchmark/combined):  56.522651503221155\n",
      "Dataset Name:  reddit , AUC Score (contextual):  53.7683213910066\n",
      "Dataset Name:  reddit , AUC Score (structural):  50.04203293806856\n",
      "Dataset Name:  reddit , AUC Score (joint-type):  49.25707647996568\n",
      "Dataset Name:  reddit , AUC Score (structure type):  49.25707647996568\n",
      "===========================================================================================\n",
      "Dataset Name:  reddit  Best AUC Score(benchmark/combined):  58.31157679453489\n",
      "Dataset Name:  reddit  Best AUC Score (contextual):  57.42915931180224\n",
      "Dataset Name:  reddit  Best AUC Score (structural):  84.64586802095081\n",
      "Dataset Name:  reddit  Best AUC Score (joint-type):  53.173684080051274\n",
      "Dataset Name:  reddit  Best AUC Score (structure type):  84.0504611948401\n",
      "===========================================================================================\n"
     ]
    },
    {
     "name": "stderr",
     "output_type": "stream",
     "text": [
      " 64%|██████▍   | 320/500 [00:32<00:17, 10.13it/s]"
     ]
    },
    {
     "name": "stdout",
     "output_type": "stream",
     "text": [
      "Dataset Name:  reddit , AUC Score(benchmark/combined):  56.56989574359243\n",
      "Dataset Name:  reddit , AUC Score (contextual):  53.88764347361078\n",
      "Dataset Name:  reddit , AUC Score (structural):  50.05108072857093\n",
      "Dataset Name:  reddit , AUC Score (joint-type):  49.25629229837553\n",
      "Dataset Name:  reddit , AUC Score (structure type):  49.25629229837553\n",
      "===========================================================================================\n",
      "Dataset Name:  reddit  Best AUC Score(benchmark/combined):  58.31157679453489\n",
      "Dataset Name:  reddit  Best AUC Score (contextual):  57.42915931180224\n",
      "Dataset Name:  reddit  Best AUC Score (structural):  84.64586802095081\n",
      "Dataset Name:  reddit  Best AUC Score (joint-type):  53.173684080051274\n",
      "Dataset Name:  reddit  Best AUC Score (structure type):  84.0504611948401\n",
      "===========================================================================================\n",
      "Dataset Name:  reddit , AUC Score(benchmark/combined):  56.61068121254041\n"
     ]
    },
    {
     "name": "stderr",
     "output_type": "stream",
     "text": [
      " 64%|██████▍   | 322/500 [00:32<00:17, 10.10it/s]"
     ]
    },
    {
     "name": "stdout",
     "output_type": "stream",
     "text": [
      "Dataset Name:  reddit , AUC Score (contextual):  53.884759709053455\n",
      "Dataset Name:  reddit , AUC Score (structural):  50.05352088020513\n",
      "Dataset Name:  reddit , AUC Score (joint-type):  49.4114843646839\n",
      "Dataset Name:  reddit , AUC Score (structure type):  49.4114843646839\n",
      "===========================================================================================\n",
      "Dataset Name:  reddit  Best AUC Score(benchmark/combined):  58.31157679453489\n",
      "Dataset Name:  reddit  Best AUC Score (contextual):  57.42915931180224\n",
      "Dataset Name:  reddit  Best AUC Score (structural):  84.64586802095081\n",
      "Dataset Name:  reddit  Best AUC Score (joint-type):  53.173684080051274\n",
      "Dataset Name:  reddit  Best AUC Score (structure type):  84.0504611948401\n",
      "===========================================================================================\n",
      "Dataset Name:  reddit , AUC Score(benchmark/combined):  56.606975781923055\n",
      "Dataset Name:  reddit , AUC Score (contextual):  53.88678340347964\n",
      "Dataset Name:  reddit , AUC Score (structural):  50.063152185228724\n",
      "Dataset Name:  reddit , AUC Score (joint-type):  49.3116403409318\n",
      "Dataset Name:  reddit , AUC Score (structure type):  49.3116403409318\n",
      "===========================================================================================\n",
      "Dataset Name:  reddit  Best AUC Score(benchmark/combined):  58.31157679453489\n",
      "Dataset Name:  reddit  Best AUC Score (contextual):  57.42915931180224\n",
      "Dataset Name:  reddit  Best AUC Score (structural):  84.64586802095081\n",
      "Dataset Name:  reddit  Best AUC Score (joint-type):  53.173684080051274\n",
      "Dataset Name:  reddit  Best AUC Score (structure type):  84.0504611948401\n",
      "===========================================================================================\n",
      "Dataset Name:  reddit , AUC Score(benchmark/combined):  56.52546917441976\n",
      "Dataset Name:  reddit , AUC Score (contextual):  53.78881129707176\n",
      "Dataset Name:  reddit , AUC Score (structural):  50.0455970182408\n"
     ]
    },
    {
     "name": "stderr",
     "output_type": "stream",
     "text": [
      " 65%|██████▍   | 324/500 [00:33<00:17, 10.10it/s]"
     ]
    },
    {
     "name": "stdout",
     "output_type": "stream",
     "text": [
      "Dataset Name:  reddit , AUC Score (joint-type):  49.21956224454019\n",
      "Dataset Name:  reddit , AUC Score (structure type):  49.21956224454019\n",
      "===========================================================================================\n",
      "Dataset Name:  reddit  Best AUC Score(benchmark/combined):  58.31157679453489\n",
      "Dataset Name:  reddit  Best AUC Score (contextual):  57.42915931180224\n",
      "Dataset Name:  reddit  Best AUC Score (structural):  84.64586802095081\n",
      "Dataset Name:  reddit  Best AUC Score (joint-type):  53.173684080051274\n",
      "Dataset Name:  reddit  Best AUC Score (structure type):  84.0504611948401\n",
      "===========================================================================================\n",
      "Dataset Name:  reddit , AUC Score(benchmark/combined):  56.5784774179736\n",
      "Dataset Name:  reddit , AUC Score (contextual):  53.85599795202124\n",
      "Dataset Name:  reddit , AUC Score (structural):  50.06130217896258\n",
      "Dataset Name:  reddit , AUC Score (joint-type):  49.32375721130861\n",
      "Dataset Name:  reddit , AUC Score (structure type):  49.32375721130861\n",
      "===========================================================================================\n",
      "Dataset Name:  reddit  Best AUC Score(benchmark/combined):  58.31157679453489\n",
      "Dataset Name:  reddit  Best AUC Score (contextual):  57.42915931180224\n",
      "Dataset Name:  reddit  Best AUC Score (structural):  84.64586802095081\n",
      "Dataset Name:  reddit  Best AUC Score (joint-type):  53.173684080051274\n",
      "Dataset Name:  reddit  Best AUC Score (structure type):  84.0504611948401\n",
      "===========================================================================================\n",
      "Dataset Name:  reddit , AUC Score(benchmark/combined):  56.624486514805774\n",
      "Dataset Name:  reddit , AUC Score (contextual):  53.92556244792148\n",
      "Dataset Name:  reddit , AUC Score (structural):  50.06312897726482\n",
      "Dataset Name:  reddit , AUC Score (joint-type):  49.38854072912699\n",
      "Dataset Name:  reddit , AUC Score (structure type):  49.38854072912699\n",
      "===========================================================================================\n",
      "Dataset Name:  reddit  Best AUC Score(benchmark/combined):  58.31157679453489\n"
     ]
    },
    {
     "name": "stderr",
     "output_type": "stream",
     "text": [
      " 65%|██████▌   | 326/500 [00:33<00:17, 10.12it/s]"
     ]
    },
    {
     "name": "stdout",
     "output_type": "stream",
     "text": [
      "Dataset Name:  reddit  Best AUC Score (contextual):  57.42915931180224\n",
      "Dataset Name:  reddit  Best AUC Score (structural):  84.64586802095081\n",
      "Dataset Name:  reddit  Best AUC Score (joint-type):  53.173684080051274\n",
      "Dataset Name:  reddit  Best AUC Score (structure type):  84.0504611948401\n",
      "===========================================================================================\n",
      "Dataset Name:  reddit , AUC Score(benchmark/combined):  56.55807181742109\n",
      "Dataset Name:  reddit , AUC Score (contextual):  53.757696995269114\n",
      "Dataset Name:  reddit , AUC Score (structural):  50.04237111125699\n",
      "Dataset Name:  reddit , AUC Score (joint-type):  49.25677292580175\n",
      "Dataset Name:  reddit , AUC Score (structure type):  49.25677292580175\n",
      "===========================================================================================\n",
      "Dataset Name:  reddit  Best AUC Score(benchmark/combined):  58.31157679453489\n",
      "Dataset Name:  reddit  Best AUC Score (contextual):  57.42915931180224\n",
      "Dataset Name:  reddit  Best AUC Score (structural):  84.64586802095081\n",
      "Dataset Name:  reddit  Best AUC Score (joint-type):  53.173684080051274\n",
      "Dataset Name:  reddit  Best AUC Score (structure type):  84.0504611948401\n",
      "===========================================================================================\n",
      "Dataset Name:  reddit , AUC Score(benchmark/combined):  56.518856010054066\n",
      "Dataset Name:  reddit , AUC Score (contextual):  53.848257320841064\n",
      "Dataset Name:  reddit , AUC Score (structural):  50.04510965099863\n",
      "Dataset Name:  reddit , AUC Score (joint-type):  49.292567020964974\n",
      "Dataset Name:  reddit , AUC Score (structure type):  49.292567020964974\n",
      "===========================================================================================\n",
      "Dataset Name:  reddit  Best AUC Score(benchmark/combined):  58.31157679453489\n",
      "Dataset Name:  reddit  Best AUC Score (contextual):  57.42915931180224\n",
      "Dataset Name:  reddit  Best AUC Score (structural):  84.64586802095081\n",
      "Dataset Name:  reddit  Best AUC Score (joint-type):  53.173684080051274\n"
     ]
    },
    {
     "name": "stderr",
     "output_type": "stream",
     "text": [
      " 66%|██████▌   | 328/500 [00:33<00:16, 10.13it/s]"
     ]
    },
    {
     "name": "stdout",
     "output_type": "stream",
     "text": [
      "Dataset Name:  reddit  Best AUC Score (structure type):  84.0504611948401\n",
      "===========================================================================================\n",
      "Dataset Name:  reddit , AUC Score(benchmark/combined):  56.64777411694957\n",
      "Dataset Name:  reddit , AUC Score (contextual):  53.91842892506917\n",
      "Dataset Name:  reddit , AUC Score (structural):  50.06413520827158\n",
      "Dataset Name:  reddit , AUC Score (joint-type):  49.356996392258765\n",
      "Dataset Name:  reddit , AUC Score (structure type):  49.356996392258765\n",
      "===========================================================================================\n",
      "Dataset Name:  reddit  Best AUC Score(benchmark/combined):  58.31157679453489\n",
      "Dataset Name:  reddit  Best AUC Score (contextual):  57.42915931180224\n",
      "Dataset Name:  reddit  Best AUC Score (structural):  84.64586802095081\n",
      "Dataset Name:  reddit  Best AUC Score (joint-type):  53.173684080051274\n",
      "Dataset Name:  reddit  Best AUC Score (structure type):  84.0504611948401\n",
      "===========================================================================================\n",
      "Dataset Name:  reddit , AUC Score(benchmark/combined):  56.55183176933283\n",
      "Dataset Name:  reddit , AUC Score (contextual):  53.87428709039792\n",
      "Dataset Name:  reddit , AUC Score (structural):  50.05149847192134\n",
      "Dataset Name:  reddit , AUC Score (joint-type):  49.29818277299765\n",
      "Dataset Name:  reddit , AUC Score (structure type):  49.29818277299765\n",
      "===========================================================================================\n",
      "Dataset Name:  reddit  Best AUC Score(benchmark/combined):  58.31157679453489\n",
      "Dataset Name:  reddit  Best AUC Score (contextual):  57.42915931180224\n",
      "Dataset Name:  reddit  Best AUC Score (structural):  84.64586802095081\n",
      "Dataset Name:  reddit  Best AUC Score (joint-type):  53.173684080051274\n",
      "Dataset Name:  reddit  Best AUC Score (structure type):  84.0504611948401\n",
      "===========================================================================================\n"
     ]
    },
    {
     "name": "stderr",
     "output_type": "stream",
     "text": [
      " 66%|██████▌   | 330/500 [00:33<00:16, 10.16it/s]"
     ]
    },
    {
     "name": "stdout",
     "output_type": "stream",
     "text": [
      "Dataset Name:  reddit , AUC Score(benchmark/combined):  56.58590114528683\n",
      "Dataset Name:  reddit , AUC Score (contextual):  53.783625580104655\n",
      "Dataset Name:  reddit , AUC Score (structural):  50.055128860561915\n",
      "Dataset Name:  reddit , AUC Score (joint-type):  49.24576908735935\n",
      "Dataset Name:  reddit , AUC Score (structure type):  49.24576908735935\n",
      "===========================================================================================\n",
      "Dataset Name:  reddit  Best AUC Score(benchmark/combined):  58.31157679453489\n",
      "Dataset Name:  reddit  Best AUC Score (contextual):  57.42915931180224\n",
      "Dataset Name:  reddit  Best AUC Score (structural):  84.64586802095081\n",
      "Dataset Name:  reddit  Best AUC Score (joint-type):  53.173684080051274\n",
      "Dataset Name:  reddit  Best AUC Score (structure type):  84.0504611948401\n",
      "===========================================================================================\n"
     ]
    },
    {
     "name": "stderr",
     "output_type": "stream",
     "text": [
      " 66%|██████▋   | 332/500 [00:33<00:16, 10.18it/s]"
     ]
    },
    {
     "name": "stdout",
     "output_type": "stream",
     "text": [
      "Dataset Name:  reddit , AUC Score(benchmark/combined):  56.620021985555\n",
      "Dataset Name:  reddit , AUC Score (contextual):  53.92371582675759\n",
      "Dataset Name:  reddit , AUC Score (structural):  50.06365281416455\n",
      "Dataset Name:  reddit , AUC Score (joint-type):  49.25963139417874\n",
      "Dataset Name:  reddit , AUC Score (structure type):  49.25963139417874\n",
      "===========================================================================================\n",
      "Dataset Name:  reddit  Best AUC Score(benchmark/combined):  58.31157679453489\n",
      "Dataset Name:  reddit  Best AUC Score (contextual):  57.42915931180224\n",
      "Dataset Name:  reddit  Best AUC Score (structural):  84.64586802095081\n",
      "Dataset Name:  reddit  Best AUC Score (joint-type):  53.173684080051274\n",
      "Dataset Name:  reddit  Best AUC Score (structure type):  84.0504611948401\n",
      "===========================================================================================\n",
      "Dataset Name:  reddit , AUC Score(benchmark/combined):  56.59838124146336\n",
      "Dataset Name:  reddit , AUC Score (contextual):  53.85989356379166\n",
      "Dataset Name:  reddit , AUC Score (structural):  50.069836078835465\n",
      "Dataset Name:  reddit , AUC Score (joint-type):  49.3028625663582\n",
      "Dataset Name:  reddit , AUC Score (structure type):  49.3028625663582\n",
      "===========================================================================================\n",
      "Dataset Name:  reddit  Best AUC Score(benchmark/combined):  58.31157679453489\n",
      "Dataset Name:  reddit  Best AUC Score (contextual):  57.42915931180224\n",
      "Dataset Name:  reddit  Best AUC Score (structural):  84.64586802095081\n",
      "Dataset Name:  reddit  Best AUC Score (joint-type):  53.173684080051274\n",
      "Dataset Name:  reddit  Best AUC Score (structure type):  84.0504611948401\n",
      "===========================================================================================\n",
      "Dataset Name:  reddit , AUC Score(benchmark/combined):  56.59116337140664\n",
      "Dataset Name:  reddit , AUC Score (contextual):  53.81046482743199\n",
      "Dataset Name:  reddit , AUC Score (structural):  50.05493490829207\n"
     ]
    },
    {
     "name": "stderr",
     "output_type": "stream",
     "text": [
      " 67%|██████▋   | 334/500 [00:34<00:16, 10.18it/s]"
     ]
    },
    {
     "name": "stdout",
     "output_type": "stream",
     "text": [
      "Dataset Name:  reddit , AUC Score (joint-type):  49.2281629458515\n",
      "Dataset Name:  reddit , AUC Score (structure type):  49.2281629458515\n",
      "===========================================================================================\n",
      "Dataset Name:  reddit  Best AUC Score(benchmark/combined):  58.31157679453489\n",
      "Dataset Name:  reddit  Best AUC Score (contextual):  57.42915931180224\n",
      "Dataset Name:  reddit  Best AUC Score (structural):  84.64586802095081\n",
      "Dataset Name:  reddit  Best AUC Score (joint-type):  53.173684080051274\n",
      "Dataset Name:  reddit  Best AUC Score (structure type):  84.0504611948401\n",
      "===========================================================================================\n",
      "Dataset Name:  reddit , AUC Score(benchmark/combined):  56.566331839838945\n",
      "Dataset Name:  reddit , AUC Score (contextual):  53.84919327951317\n",
      "Dataset Name:  reddit , AUC Score (structural):  50.06250070452748\n",
      "Dataset Name:  reddit , AUC Score (joint-type):  49.27835056762099\n",
      "Dataset Name:  reddit , AUC Score (structure type):  49.27835056762099\n",
      "===========================================================================================\n",
      "Dataset Name:  reddit  Best AUC Score(benchmark/combined):  58.31157679453489\n",
      "Dataset Name:  reddit  Best AUC Score (contextual):  57.42915931180224\n",
      "Dataset Name:  reddit  Best AUC Score (structural):  84.64586802095081\n",
      "Dataset Name:  reddit  Best AUC Score (joint-type):  53.173684080051274\n",
      "Dataset Name:  reddit  Best AUC Score (structure type):  84.0504611948401\n",
      "===========================================================================================\n",
      "Dataset Name:  reddit , AUC Score(benchmark/combined):  56.60203520776659\n",
      "Dataset Name:  reddit , AUC Score (contextual):  53.87881510667651\n",
      "Dataset Name:  reddit , AUC Score (structural):  50.06171660688958\n",
      "Dataset Name:  reddit , AUC Score (joint-type):  49.28748248871918\n",
      "Dataset Name:  reddit , AUC Score (structure type):  49.28748248871918\n",
      "===========================================================================================\n",
      "Dataset Name:  reddit  Best AUC Score(benchmark/combined):  58.31157679453489\n",
      "Dataset Name:  reddit  Best AUC Score (contextual):  57.42915931180224\n"
     ]
    },
    {
     "name": "stderr",
     "output_type": "stream",
     "text": [
      " 67%|██████▋   | 336/500 [00:34<00:16, 10.18it/s]"
     ]
    },
    {
     "name": "stdout",
     "output_type": "stream",
     "text": [
      "Dataset Name:  reddit  Best AUC Score (structural):  84.64586802095081\n",
      "Dataset Name:  reddit  Best AUC Score (joint-type):  53.173684080051274\n",
      "Dataset Name:  reddit  Best AUC Score (structure type):  84.0504611948401\n",
      "===========================================================================================\n",
      "Dataset Name:  reddit , AUC Score(benchmark/combined):  56.62294258538188\n",
      "Dataset Name:  reddit , AUC Score (contextual):  53.866040535611205\n",
      "Dataset Name:  reddit , AUC Score (structural):  50.06642782356378\n",
      "Dataset Name:  reddit , AUC Score (joint-type):  49.25758240357223\n",
      "Dataset Name:  reddit , AUC Score (structure type):  49.25758240357223\n",
      "===========================================================================================\n",
      "Dataset Name:  reddit  Best AUC Score(benchmark/combined):  58.31157679453489\n",
      "Dataset Name:  reddit  Best AUC Score (contextual):  57.42915931180224\n",
      "Dataset Name:  reddit  Best AUC Score (structural):  84.64586802095081\n",
      "Dataset Name:  reddit  Best AUC Score (joint-type):  53.173684080051274\n",
      "Dataset Name:  reddit  Best AUC Score (structure type):  84.0504611948401\n",
      "===========================================================================================\n",
      "Dataset Name:  reddit , AUC Score(benchmark/combined):  56.55940988958845\n",
      "Dataset Name:  reddit , AUC Score (contextual):  53.75688751749863\n",
      "Dataset Name:  reddit , AUC Score (structural):  50.05482218389593\n",
      "Dataset Name:  reddit , AUC Score (joint-type):  49.254825119916546\n",
      "Dataset Name:  reddit , AUC Score (structure type):  49.254825119916546\n",
      "===========================================================================================\n",
      "Dataset Name:  reddit  Best AUC Score(benchmark/combined):  58.31157679453489\n",
      "Dataset Name:  reddit  Best AUC Score (contextual):  57.42915931180224\n",
      "Dataset Name:  reddit  Best AUC Score (structural):  84.64586802095081\n",
      "Dataset Name:  reddit  Best AUC Score (joint-type):  53.173684080051274\n"
     ]
    },
    {
     "name": "stderr",
     "output_type": "stream",
     "text": [
      " 68%|██████▊   | 338/500 [00:34<00:15, 10.18it/s]"
     ]
    },
    {
     "name": "stdout",
     "output_type": "stream",
     "text": [
      "Dataset Name:  reddit  Best AUC Score (structure type):  84.0504611948401\n",
      "===========================================================================================\n",
      "Dataset Name:  reddit , AUC Score(benchmark/combined):  56.60215100247338\n",
      "Dataset Name:  reddit , AUC Score (contextual):  53.88647984931572\n",
      "Dataset Name:  reddit , AUC Score (structural):  50.060010821542036\n",
      "Dataset Name:  reddit , AUC Score (joint-type):  49.266764917031054\n",
      "Dataset Name:  reddit , AUC Score (structure type):  49.266764917031054\n",
      "===========================================================================================\n",
      "Dataset Name:  reddit  Best AUC Score(benchmark/combined):  58.31157679453489\n",
      "Dataset Name:  reddit  Best AUC Score (contextual):  57.42915931180224\n",
      "Dataset Name:  reddit  Best AUC Score (structural):  84.64586802095081\n",
      "Dataset Name:  reddit  Best AUC Score (joint-type):  53.173684080051274\n",
      "Dataset Name:  reddit  Best AUC Score (structure type):  84.0504611948401\n",
      "===========================================================================================\n",
      "Dataset Name:  reddit , AUC Score(benchmark/combined):  56.602614181300545\n",
      "Dataset Name:  reddit , AUC Score (contextual):  53.87641196954542\n",
      "Dataset Name:  reddit , AUC Score (structural):  50.058823899959094\n",
      "Dataset Name:  reddit , AUC Score (joint-type):  49.26036498340823\n",
      "Dataset Name:  reddit , AUC Score (structure type):  49.26036498340823\n",
      "===========================================================================================\n",
      "Dataset Name:  reddit  Best AUC Score(benchmark/combined):  58.31157679453489\n",
      "Dataset Name:  reddit  Best AUC Score (contextual):  57.42915931180224\n",
      "Dataset Name:  reddit  Best AUC Score (structural):  84.64586802095081\n",
      "Dataset Name:  reddit  Best AUC Score (joint-type):  53.173684080051274\n",
      "Dataset Name:  reddit  Best AUC Score (structure type):  84.0504611948401\n",
      "===========================================================================================\n"
     ]
    },
    {
     "name": "stderr",
     "output_type": "stream",
     "text": [
      " 68%|██████▊   | 340/500 [00:34<00:15, 10.20it/s]"
     ]
    },
    {
     "name": "stdout",
     "output_type": "stream",
     "text": [
      "Dataset Name:  reddit , AUC Score(benchmark/combined):  56.57156833380166\n",
      "Dataset Name:  reddit , AUC Score (contextual):  53.777529200645766\n",
      "Dataset Name:  reddit , AUC Score (structural):  50.058313324753016\n",
      "Dataset Name:  reddit , AUC Score (joint-type):  49.24931055260518\n",
      "Dataset Name:  reddit , AUC Score (structure type):  49.24931055260518\n",
      "===========================================================================================\n",
      "Dataset Name:  reddit  Best AUC Score(benchmark/combined):  58.31157679453489\n",
      "Dataset Name:  reddit  Best AUC Score (contextual):  57.42915931180224\n",
      "Dataset Name:  reddit  Best AUC Score (structural):  84.64586802095081\n",
      "Dataset Name:  reddit  Best AUC Score (joint-type):  53.173684080051274\n",
      "Dataset Name:  reddit  Best AUC Score (structure type):  84.0504611948401\n",
      "===========================================================================================\n",
      "Dataset Name:  reddit , AUC Score(benchmark/combined):  56.597763669693805\n",
      "Dataset Name:  reddit , AUC Score (contextual):  53.85961530580805\n",
      "Dataset Name:  reddit , AUC Score (structural):  50.06977308579056\n",
      "Dataset Name:  reddit , AUC Score (joint-type):  49.260972091736086\n",
      "Dataset Name:  reddit , AUC Score (structure type):  49.260972091736086\n",
      "===========================================================================================\n",
      "Dataset Name:  reddit  Best AUC Score(benchmark/combined):  58.31157679453489\n",
      "Dataset Name:  reddit  Best AUC Score (contextual):  57.42915931180224\n"
     ]
    },
    {
     "name": "stderr",
     "output_type": "stream",
     "text": [
      " 68%|██████▊   | 342/500 [00:34<00:15, 10.22it/s]"
     ]
    },
    {
     "name": "stdout",
     "output_type": "stream",
     "text": [
      "Dataset Name:  reddit  Best AUC Score (structural):  84.64586802095081\n",
      "Dataset Name:  reddit  Best AUC Score (joint-type):  53.173684080051274\n",
      "Dataset Name:  reddit  Best AUC Score (structure type):  84.0504611948401\n",
      "===========================================================================================\n",
      "Dataset Name:  reddit , AUC Score(benchmark/combined):  56.60527745955677\n",
      "Dataset Name:  reddit , AUC Score (contextual):  53.89606710165978\n",
      "Dataset Name:  reddit , AUC Score (structural):  50.0572954897643\n",
      "Dataset Name:  reddit , AUC Score (joint-type):  49.26104798027707\n",
      "Dataset Name:  reddit , AUC Score (structure type):  49.26104798027707\n",
      "===========================================================================================\n",
      "Dataset Name:  reddit  Best AUC Score(benchmark/combined):  58.31157679453489\n",
      "Dataset Name:  reddit  Best AUC Score (contextual):  57.42915931180224\n",
      "Dataset Name:  reddit  Best AUC Score (structural):  84.64586802095081\n",
      "Dataset Name:  reddit  Best AUC Score (joint-type):  53.173684080051274\n",
      "Dataset Name:  reddit  Best AUC Score (structure type):  84.0504611948401\n",
      "===========================================================================================\n",
      "Dataset Name:  reddit , AUC Score(benchmark/combined):  56.58506485018224\n",
      "Dataset Name:  reddit , AUC Score (contextual):  53.82493424257924\n",
      "Dataset Name:  reddit , AUC Score (structural):  50.06115795804399\n",
      "Dataset Name:  reddit , AUC Score (joint-type):  49.243163580785634\n",
      "Dataset Name:  reddit , AUC Score (structure type):  49.243163580785634\n",
      "===========================================================================================\n",
      "Dataset Name:  reddit  Best AUC Score(benchmark/combined):  58.31157679453489\n",
      "Dataset Name:  reddit  Best AUC Score (contextual):  57.42915931180224\n",
      "Dataset Name:  reddit  Best AUC Score (structural):  84.64586802095081\n",
      "Dataset Name:  reddit  Best AUC Score (joint-type):  53.173684080051274\n",
      "Dataset Name:  reddit  Best AUC Score (structure type):  84.0504611948401\n",
      "===========================================================================================\n"
     ]
    },
    {
     "name": "stderr",
     "output_type": "stream",
     "text": [
      " 69%|██████▉   | 344/500 [00:35<00:15, 10.22it/s]"
     ]
    },
    {
     "name": "stdout",
     "output_type": "stream",
     "text": [
      "Dataset Name:  reddit , AUC Score(benchmark/combined):  56.57618725599482\n",
      "Dataset Name:  reddit , AUC Score (contextual):  53.83141006474305\n",
      "Dataset Name:  reddit , AUC Score (structural):  50.06126073616988\n",
      "Dataset Name:  reddit , AUC Score (joint-type):  49.21566663276978\n",
      "Dataset Name:  reddit , AUC Score (structure type):  49.21566663276978\n",
      "===========================================================================================\n",
      "Dataset Name:  reddit  Best AUC Score(benchmark/combined):  58.31157679453489\n",
      "Dataset Name:  reddit  Best AUC Score (contextual):  57.42915931180224\n"
     ]
    },
    {
     "name": "stderr",
     "output_type": "stream",
     "text": [
      " 69%|██████▉   | 346/500 [00:35<00:15, 10.22it/s]"
     ]
    },
    {
     "name": "stdout",
     "output_type": "stream",
     "text": [
      "Dataset Name:  reddit  Best AUC Score (structural):  84.64586802095081\n",
      "Dataset Name:  reddit  Best AUC Score (joint-type):  53.173684080051274\n",
      "Dataset Name:  reddit  Best AUC Score (structure type):  84.0504611948401\n",
      "===========================================================================================\n",
      "Dataset Name:  reddit , AUC Score(benchmark/combined):  56.6173715733773\n",
      "Dataset Name:  reddit , AUC Score (contextual):  53.875855453578225\n",
      "Dataset Name:  reddit , AUC Score (structural):  50.07760908903436\n",
      "Dataset Name:  reddit , AUC Score (joint-type):  49.271217044768676\n",
      "Dataset Name:  reddit , AUC Score (structure type):  49.271217044768676\n",
      "===========================================================================================\n",
      "Dataset Name:  reddit  Best AUC Score(benchmark/combined):  58.31157679453489\n",
      "Dataset Name:  reddit  Best AUC Score (contextual):  57.42915931180224\n",
      "Dataset Name:  reddit  Best AUC Score (structural):  84.64586802095081\n",
      "Dataset Name:  reddit  Best AUC Score (joint-type):  53.173684080051274\n",
      "Dataset Name:  reddit  Best AUC Score (structure type):  84.0504611948401\n",
      "===========================================================================================\n",
      "Dataset Name:  reddit , AUC Score(benchmark/combined):  56.59798239302884\n",
      "Dataset Name:  reddit , AUC Score (contextual):  53.887997620135366\n",
      "Dataset Name:  reddit , AUC Score (structural):  50.068863002062855\n",
      "Dataset Name:  reddit , AUC Score (joint-type):  49.26426059517865\n",
      "Dataset Name:  reddit , AUC Score (structure type):  49.26426059517865\n",
      "===========================================================================================\n",
      "Dataset Name:  reddit  Best AUC Score(benchmark/combined):  58.31157679453489\n",
      "Dataset Name:  reddit  Best AUC Score (contextual):  57.42915931180224\n",
      "Dataset Name:  reddit  Best AUC Score (structural):  84.64586802095081\n",
      "Dataset Name:  reddit  Best AUC Score (joint-type):  53.173684080051274\n",
      "Dataset Name:  reddit  Best AUC Score (structure type):  84.0504611948401\n",
      "===========================================================================================\n"
     ]
    },
    {
     "name": "stderr",
     "output_type": "stream",
     "text": [
      " 70%|██████▉   | 348/500 [00:35<00:14, 10.21it/s]"
     ]
    },
    {
     "name": "stdout",
     "output_type": "stream",
     "text": [
      "Dataset Name:  reddit , AUC Score(benchmark/combined):  56.60857117566109\n",
      "Dataset Name:  reddit , AUC Score (contextual):  53.80793520939926\n",
      "Dataset Name:  reddit , AUC Score (structural):  50.074850656752226\n",
      "Dataset Name:  reddit , AUC Score (joint-type):  49.21566663276978\n",
      "Dataset Name:  reddit , AUC Score (structure type):  49.21566663276978\n",
      "===========================================================================================\n",
      "Dataset Name:  reddit  Best AUC Score(benchmark/combined):  58.31157679453489\n",
      "Dataset Name:  reddit  Best AUC Score (contextual):  57.42915931180224\n",
      "Dataset Name:  reddit  Best AUC Score (structural):  84.64586802095081\n",
      "Dataset Name:  reddit  Best AUC Score (joint-type):  53.173684080051274\n",
      "Dataset Name:  reddit  Best AUC Score (structure type):  84.0504611948401\n",
      "===========================================================================================\n",
      "Dataset Name:  reddit , AUC Score(benchmark/combined):  56.613691874917\n",
      "Dataset Name:  reddit , AUC Score (contextual):  53.86141133461131\n",
      "Dataset Name:  reddit , AUC Score (structural):  50.07698413172044\n",
      "Dataset Name:  reddit , AUC Score (joint-type):  49.25310497965428\n",
      "Dataset Name:  reddit , AUC Score (structure type):  49.25310497965428\n",
      "===========================================================================================\n",
      "Dataset Name:  reddit  Best AUC Score(benchmark/combined):  58.31157679453489\n",
      "Dataset Name:  reddit  Best AUC Score (contextual):  57.42915931180224\n",
      "Dataset Name:  reddit  Best AUC Score (structural):  84.64586802095081\n",
      "Dataset Name:  reddit  Best AUC Score (joint-type):  53.173684080051274\n",
      "Dataset Name:  reddit  Best AUC Score (structure type):  84.0504611948401\n",
      "===========================================================================================\n",
      "Dataset Name:  reddit , AUC Score(benchmark/combined):  56.648353090483525\n",
      "Dataset Name:  reddit , AUC Score (contextual):  53.86505398457844\n",
      "Dataset Name:  reddit , AUC Score (structural):  50.081821334484445\n"
     ]
    },
    {
     "name": "stderr",
     "output_type": "stream",
     "text": [
      " 70%|███████   | 350/500 [00:35<00:14, 10.21it/s]"
     ]
    },
    {
     "name": "stdout",
     "output_type": "stream",
     "text": [
      "Dataset Name:  reddit , AUC Score (joint-type):  49.26881390763758\n",
      "Dataset Name:  reddit , AUC Score (structure type):  49.26881390763758\n",
      "===========================================================================================\n",
      "Dataset Name:  reddit  Best AUC Score(benchmark/combined):  58.31157679453489\n",
      "Dataset Name:  reddit  Best AUC Score (contextual):  57.42915931180224\n",
      "Dataset Name:  reddit  Best AUC Score (structural):  84.64586802095081\n",
      "Dataset Name:  reddit  Best AUC Score (joint-type):  53.173684080051274\n",
      "Dataset Name:  reddit  Best AUC Score (structure type):  84.0504611948401\n",
      "===========================================================================================\n",
      "Dataset Name:  reddit , AUC Score(benchmark/combined):  56.60402944993912\n",
      "Dataset Name:  reddit , AUC Score (contextual):  53.880687024020745\n",
      "Dataset Name:  reddit , AUC Score (structural):  50.06866076123448\n",
      "Dataset Name:  reddit , AUC Score (joint-type):  49.23327277427762\n",
      "Dataset Name:  reddit , AUC Score (structure type):  49.23327277427762\n",
      "===========================================================================================\n",
      "Dataset Name:  reddit  Best AUC Score(benchmark/combined):  58.31157679453489\n",
      "Dataset Name:  reddit  Best AUC Score (contextual):  57.42915931180224\n",
      "Dataset Name:  reddit  Best AUC Score (structural):  84.64586802095081\n",
      "Dataset Name:  reddit  Best AUC Score (joint-type):  53.173684080051274\n",
      "Dataset Name:  reddit  Best AUC Score (structure type):  84.0504611948401\n",
      "===========================================================================================\n",
      "Dataset Name:  reddit , AUC Score(benchmark/combined):  56.635358351165706\n",
      "Dataset Name:  reddit , AUC Score (contextual):  53.772065225695066\n",
      "Dataset Name:  reddit , AUC Score (structural):  50.08089135821625\n",
      "Dataset Name:  reddit , AUC Score (joint-type):  49.246224418605244\n",
      "Dataset Name:  reddit , AUC Score (structure type):  49.246224418605244\n",
      "===========================================================================================\n",
      "Dataset Name:  reddit  Best AUC Score(benchmark/combined):  58.31157679453489\n",
      "Dataset Name:  reddit  Best AUC Score (contextual):  57.42915931180224\n"
     ]
    },
    {
     "name": "stderr",
     "output_type": "stream",
     "text": [
      " 70%|███████   | 352/500 [00:35<00:14, 10.22it/s]"
     ]
    },
    {
     "name": "stdout",
     "output_type": "stream",
     "text": [
      "Dataset Name:  reddit  Best AUC Score (structural):  84.64586802095081\n",
      "Dataset Name:  reddit  Best AUC Score (joint-type):  53.173684080051274\n",
      "Dataset Name:  reddit  Best AUC Score (structure type):  84.0504611948401\n",
      "===========================================================================================\n",
      "Dataset Name:  reddit , AUC Score(benchmark/combined):  56.520734457519815\n",
      "Dataset Name:  reddit , AUC Score (contextual):  54.02361044287034\n",
      "Dataset Name:  reddit , AUC Score (structural):  50.05252625318032\n",
      "Dataset Name:  reddit , AUC Score (joint-type):  49.17190424080345\n",
      "Dataset Name:  reddit , AUC Score (structure type):  49.17190424080345\n",
      "===========================================================================================\n",
      "Dataset Name:  reddit  Best AUC Score(benchmark/combined):  58.31157679453489\n",
      "Dataset Name:  reddit  Best AUC Score (contextual):  57.42915931180224\n",
      "Dataset Name:  reddit  Best AUC Score (structural):  84.64586802095081\n",
      "Dataset Name:  reddit  Best AUC Score (joint-type):  53.173684080051274\n",
      "Dataset Name:  reddit  Best AUC Score (structure type):  84.0504611948401\n",
      "===========================================================================================\n",
      "Dataset Name:  reddit , AUC Score(benchmark/combined):  56.6366964233331\n",
      "Dataset Name:  reddit , AUC Score (contextual):  53.56921515564993\n",
      "Dataset Name:  reddit , AUC Score (structural):  50.09656336470387\n",
      "Dataset Name:  reddit , AUC Score (joint-type):  49.24789396650685\n",
      "Dataset Name:  reddit , AUC Score (structure type):  49.24789396650685\n",
      "===========================================================================================\n",
      "Dataset Name:  reddit  Best AUC Score(benchmark/combined):  58.31157679453489\n",
      "Dataset Name:  reddit  Best AUC Score (contextual):  57.42915931180224\n",
      "Dataset Name:  reddit  Best AUC Score (structural):  84.64586802095081\n",
      "Dataset Name:  reddit  Best AUC Score (joint-type):  53.173684080051274\n",
      "Dataset Name:  reddit  Best AUC Score (structure type):  84.0504611948401\n",
      "===========================================================================================\n"
     ]
    },
    {
     "name": "stderr",
     "output_type": "stream",
     "text": [
      " 71%|███████   | 354/500 [00:36<00:14, 10.23it/s]"
     ]
    },
    {
     "name": "stdout",
     "output_type": "stream",
     "text": [
      "Dataset Name:  reddit , AUC Score(benchmark/combined):  56.595756561442734\n",
      "Dataset Name:  reddit , AUC Score (contextual):  54.00984932077226\n",
      "Dataset Name:  reddit , AUC Score (structural):  50.06208461888877\n",
      "Dataset Name:  reddit , AUC Score (joint-type):  49.17056354324609\n",
      "Dataset Name:  reddit , AUC Score (structure type):  49.17056354324609\n",
      "===========================================================================================\n",
      "Dataset Name:  reddit  Best AUC Score(benchmark/combined):  58.31157679453489\n",
      "Dataset Name:  reddit  Best AUC Score (contextual):  57.42915931180224\n",
      "Dataset Name:  reddit  Best AUC Score (structural):  84.64586802095081\n",
      "Dataset Name:  reddit  Best AUC Score (joint-type):  53.173684080051274\n",
      "Dataset Name:  reddit  Best AUC Score (structure type):  84.0504611948401\n",
      "===========================================================================================\n",
      "Dataset Name:  reddit , AUC Score(benchmark/combined):  56.61321583001131\n",
      "Dataset Name:  reddit , AUC Score (contextual):  53.86133544607031\n",
      "Dataset Name:  reddit , AUC Score (structural):  50.073802982952756\n",
      "Dataset Name:  reddit , AUC Score (joint-type):  49.203119727327405\n",
      "Dataset Name:  reddit , AUC Score (structure type):  49.203119727327405\n",
      "===========================================================================================\n",
      "Dataset Name:  reddit  Best AUC Score(benchmark/combined):  58.31157679453489\n",
      "Dataset Name:  reddit  Best AUC Score (contextual):  57.42915931180224\n",
      "Dataset Name:  reddit  Best AUC Score (structural):  84.64586802095081\n"
     ]
    },
    {
     "name": "stderr",
     "output_type": "stream",
     "text": [
      " 71%|███████   | 356/500 [00:36<00:14, 10.24it/s]"
     ]
    },
    {
     "name": "stdout",
     "output_type": "stream",
     "text": [
      "Dataset Name:  reddit  Best AUC Score (joint-type):  53.173684080051274\n",
      "Dataset Name:  reddit  Best AUC Score (structure type):  84.0504611948401\n",
      "===========================================================================================\n",
      "Dataset Name:  reddit , AUC Score(benchmark/combined):  56.686951326080994\n",
      "Dataset Name:  reddit , AUC Score (contextual):  53.67490259705765\n",
      "Dataset Name:  reddit , AUC Score (structural):  50.10402804052507\n",
      "Dataset Name:  reddit , AUC Score (joint-type):  49.24086162837584\n",
      "Dataset Name:  reddit , AUC Score (structure type):  49.24086162837584\n",
      "===========================================================================================\n",
      "Dataset Name:  reddit  Best AUC Score(benchmark/combined):  58.31157679453489\n",
      "Dataset Name:  reddit  Best AUC Score (contextual):  57.42915931180224\n",
      "Dataset Name:  reddit  Best AUC Score (structural):  84.64586802095081\n",
      "Dataset Name:  reddit  Best AUC Score (joint-type):  53.173684080051274\n",
      "Dataset Name:  reddit  Best AUC Score (structure type):  84.0504611948401\n",
      "===========================================================================================\n",
      "Dataset Name:  reddit , AUC Score(benchmark/combined):  56.62464090774816\n",
      "Dataset Name:  reddit , AUC Score (contextual):  53.80775813613696\n",
      "Dataset Name:  reddit , AUC Score (structural):  50.06804906561422\n",
      "Dataset Name:  reddit , AUC Score (joint-type):  49.13125327901737\n",
      "Dataset Name:  reddit , AUC Score (structure type):  49.13125327901737\n",
      "===========================================================================================\n",
      "Dataset Name:  reddit  Best AUC Score(benchmark/combined):  58.31157679453489\n",
      "Dataset Name:  reddit  Best AUC Score (contextual):  57.42915931180224\n",
      "Dataset Name:  reddit  Best AUC Score (structural):  84.64586802095081\n",
      "Dataset Name:  reddit  Best AUC Score (joint-type):  53.173684080051274\n",
      "Dataset Name:  reddit  Best AUC Score (structure type):  84.0504611948401\n",
      "===========================================================================================\n"
     ]
    },
    {
     "name": "stderr",
     "output_type": "stream",
     "text": [
      " 72%|███████▏  | 358/500 [00:36<00:13, 10.25it/s]"
     ]
    },
    {
     "name": "stdout",
     "output_type": "stream",
     "text": [
      "Dataset Name:  reddit , AUC Score(benchmark/combined):  56.566177446896546\n",
      "Dataset Name:  reddit , AUC Score (contextual):  54.00167865452652\n",
      "Dataset Name:  reddit , AUC Score (structural):  50.05716950367448\n",
      "Dataset Name:  reddit , AUC Score (joint-type):  49.16259524644298\n",
      "Dataset Name:  reddit , AUC Score (structure type):  49.16259524644298\n",
      "===========================================================================================\n",
      "Dataset Name:  reddit  Best AUC Score(benchmark/combined):  58.31157679453489\n",
      "Dataset Name:  reddit  Best AUC Score (contextual):  57.42915931180224\n"
     ]
    },
    {
     "name": "stderr",
     "output_type": "stream",
     "text": [
      " 72%|███████▏  | 360/500 [00:36<00:13, 10.26it/s]"
     ]
    },
    {
     "name": "stdout",
     "output_type": "stream",
     "text": [
      "Dataset Name:  reddit  Best AUC Score (structural):  84.64586802095081\n",
      "Dataset Name:  reddit  Best AUC Score (joint-type):  53.173684080051274\n",
      "Dataset Name:  reddit  Best AUC Score (structure type):  84.0504611948401\n",
      "===========================================================================================\n",
      "Dataset Name:  reddit , AUC Score(benchmark/combined):  56.678408249935416\n",
      "Dataset Name:  reddit , AUC Score (contextual):  53.71380812240114\n",
      "Dataset Name:  reddit , AUC Score (structural):  50.100099263777075\n",
      "Dataset Name:  reddit , AUC Score (joint-type):  49.18852383127853\n",
      "Dataset Name:  reddit , AUC Score (structure type):  49.18852383127853\n",
      "===========================================================================================\n",
      "Dataset Name:  reddit  Best AUC Score(benchmark/combined):  58.31157679453489\n",
      "Dataset Name:  reddit  Best AUC Score (contextual):  57.42915931180224\n",
      "Dataset Name:  reddit  Best AUC Score (structural):  84.64586802095081\n",
      "Dataset Name:  reddit  Best AUC Score (joint-type):  53.173684080051274\n",
      "Dataset Name:  reddit  Best AUC Score (structure type):  84.0504611948401\n",
      "===========================================================================================\n",
      "Dataset Name:  reddit , AUC Score(benchmark/combined):  56.63901231746895\n",
      "Dataset Name:  reddit , AUC Score (contextual):  53.78463742731775\n",
      "Dataset Name:  reddit , AUC Score (structural):  50.08094274727919\n",
      "Dataset Name:  reddit , AUC Score (joint-type):  49.14321837231222\n",
      "Dataset Name:  reddit , AUC Score (structure type):  49.14321837231222\n",
      "===========================================================================================\n",
      "Dataset Name:  reddit  Best AUC Score(benchmark/combined):  58.31157679453489\n",
      "Dataset Name:  reddit  Best AUC Score (contextual):  57.42915931180224\n",
      "Dataset Name:  reddit  Best AUC Score (structural):  84.64586802095081\n",
      "Dataset Name:  reddit  Best AUC Score (joint-type):  53.173684080051274\n"
     ]
    },
    {
     "name": "stderr",
     "output_type": "stream",
     "text": [
      " 72%|███████▏  | 362/500 [00:36<00:13, 10.20it/s]"
     ]
    },
    {
     "name": "stdout",
     "output_type": "stream",
     "text": [
      "Dataset Name:  reddit  Best AUC Score (structure type):  84.0504611948401\n",
      "===========================================================================================\n",
      "Dataset Name:  reddit , AUC Score(benchmark/combined):  56.54521860496713\n",
      "Dataset Name:  reddit , AUC Score (contextual):  53.97160149611728\n",
      "Dataset Name:  reddit , AUC Score (structural):  50.05958147420966\n",
      "Dataset Name:  reddit , AUC Score (joint-type):  49.16613671168881\n",
      "Dataset Name:  reddit , AUC Score (structure type):  49.16613671168881\n",
      "===========================================================================================\n",
      "Dataset Name:  reddit  Best AUC Score(benchmark/combined):  58.31157679453489\n",
      "Dataset Name:  reddit  Best AUC Score (contextual):  57.42915931180224\n",
      "Dataset Name:  reddit  Best AUC Score (structural):  84.64586802095081\n",
      "Dataset Name:  reddit  Best AUC Score (joint-type):  53.173684080051274\n",
      "Dataset Name:  reddit  Best AUC Score (structure type):  84.0504611948401\n",
      "===========================================================================================\n",
      "Dataset Name:  reddit , AUC Score(benchmark/combined):  56.63452205606111\n",
      "Dataset Name:  reddit , AUC Score (contextual):  53.81696594577612\n",
      "Dataset Name:  reddit , AUC Score (structural):  50.08318231579673\n",
      "Dataset Name:  reddit , AUC Score (joint-type):  49.134440597738624\n",
      "Dataset Name:  reddit , AUC Score (structure type):  49.134440597738624\n",
      "===========================================================================================\n",
      "Dataset Name:  reddit  Best AUC Score(benchmark/combined):  58.31157679453489\n",
      "Dataset Name:  reddit  Best AUC Score (contextual):  57.42915931180224\n",
      "Dataset Name:  reddit  Best AUC Score (structural):  84.64586802095081\n",
      "Dataset Name:  reddit  Best AUC Score (joint-type):  53.173684080051274\n",
      "Dataset Name:  reddit  Best AUC Score (structure type):  84.0504611948401\n",
      "===========================================================================================\n"
     ]
    },
    {
     "name": "stderr",
     "output_type": "stream",
     "text": [
      " 73%|███████▎  | 364/500 [00:37<00:13, 10.21it/s]"
     ]
    },
    {
     "name": "stdout",
     "output_type": "stream",
     "text": [
      "Dataset Name:  reddit , AUC Score(benchmark/combined):  56.713095197658994\n",
      "Dataset Name:  reddit , AUC Score (contextual):  53.75572389320358\n",
      "Dataset Name:  reddit , AUC Score (structural):  50.097921030592744\n",
      "Dataset Name:  reddit , AUC Score (joint-type):  49.19085107986865\n",
      "Dataset Name:  reddit , AUC Score (structure type):  49.19085107986865\n",
      "===========================================================================================\n",
      "Dataset Name:  reddit  Best AUC Score(benchmark/combined):  58.31157679453489\n",
      "Dataset Name:  reddit  Best AUC Score (contextual):  57.42915931180224\n",
      "Dataset Name:  reddit  Best AUC Score (structural):  84.64586802095081\n",
      "Dataset Name:  reddit  Best AUC Score (joint-type):  53.173684080051274\n",
      "Dataset Name:  reddit  Best AUC Score (structure type):  84.0504611948401\n",
      "===========================================================================================\n",
      "Dataset Name:  reddit , AUC Score(benchmark/combined):  56.637043807453466\n",
      "Dataset Name:  reddit , AUC Score (contextual):  53.90130341098755\n",
      "Dataset Name:  reddit , AUC Score (structural):  50.08753380903028\n",
      "Dataset Name:  reddit , AUC Score (joint-type):  49.18113734662294\n",
      "Dataset Name:  reddit , AUC Score (structure type):  49.18113734662294\n",
      "===========================================================================================\n",
      "Dataset Name:  reddit  Best AUC Score(benchmark/combined):  58.31157679453489\n",
      "Dataset Name:  reddit  Best AUC Score (contextual):  57.42915931180224\n",
      "Dataset Name:  reddit  Best AUC Score (structural):  84.64586802095081\n",
      "Dataset Name:  reddit  Best AUC Score (joint-type):  53.173684080051274\n",
      "Dataset Name:  reddit  Best AUC Score (structure type):  84.0504611948401\n",
      "===========================================================================================\n",
      "Dataset Name:  reddit , AUC Score(benchmark/combined):  56.65011574324248\n",
      "Dataset Name:  reddit , AUC Score (contextual):  53.901682853692456\n",
      "Dataset Name:  reddit , AUC Score (structural):  50.07004826593408\n"
     ]
    },
    {
     "name": "stderr",
     "output_type": "stream",
     "text": [
      " 73%|███████▎  | 366/500 [00:37<00:13, 10.21it/s]"
     ]
    },
    {
     "name": "stdout",
     "output_type": "stream",
     "text": [
      "Dataset Name:  reddit , AUC Score (joint-type):  49.14564680562364\n",
      "Dataset Name:  reddit , AUC Score (structure type):  49.14564680562364\n",
      "===========================================================================================\n",
      "Dataset Name:  reddit  Best AUC Score(benchmark/combined):  58.31157679453489\n",
      "Dataset Name:  reddit  Best AUC Score (contextual):  57.42915931180224\n",
      "Dataset Name:  reddit  Best AUC Score (structural):  84.64586802095081\n",
      "Dataset Name:  reddit  Best AUC Score (joint-type):  53.173684080051274\n",
      "Dataset Name:  reddit  Best AUC Score (structure type):  84.0504611948401\n",
      "===========================================================================================\n",
      "Dataset Name:  reddit , AUC Score(benchmark/combined):  56.644480400845254\n",
      "Dataset Name:  reddit , AUC Score (contextual):  53.777807458629354\n",
      "Dataset Name:  reddit , AUC Score (structural):  50.08612972721359\n",
      "Dataset Name:  reddit , AUC Score (joint-type):  49.158952596475835\n",
      "Dataset Name:  reddit , AUC Score (structure type):  49.158952596475835\n",
      "===========================================================================================\n",
      "Dataset Name:  reddit  Best AUC Score(benchmark/combined):  58.31157679453489\n",
      "Dataset Name:  reddit  Best AUC Score (contextual):  57.42915931180224\n",
      "Dataset Name:  reddit  Best AUC Score (structural):  84.64586802095081\n",
      "Dataset Name:  reddit  Best AUC Score (joint-type):  53.173684080051274\n",
      "Dataset Name:  reddit  Best AUC Score (structure type):  84.0504611948401\n",
      "===========================================================================================\n",
      "Dataset Name:  reddit , AUC Score(benchmark/combined):  56.6664041986646\n",
      "Dataset Name:  reddit , AUC Score (contextual):  53.78238606726862\n",
      "Dataset Name:  reddit , AUC Score (structural):  50.08720392440039\n",
      "Dataset Name:  reddit , AUC Score (joint-type):  49.20633234222899\n",
      "Dataset Name:  reddit , AUC Score (structure type):  49.20633234222899\n",
      "===========================================================================================\n",
      "Dataset Name:  reddit  Best AUC Score(benchmark/combined):  58.31157679453489\n",
      "Dataset Name:  reddit  Best AUC Score (contextual):  57.42915931180224\n"
     ]
    },
    {
     "name": "stderr",
     "output_type": "stream",
     "text": [
      " 74%|███████▎  | 368/500 [00:37<00:12, 10.23it/s]"
     ]
    },
    {
     "name": "stdout",
     "output_type": "stream",
     "text": [
      "Dataset Name:  reddit  Best AUC Score (structural):  84.64586802095081\n",
      "Dataset Name:  reddit  Best AUC Score (joint-type):  53.173684080051274\n",
      "Dataset Name:  reddit  Best AUC Score (structure type):  84.0504611948401\n",
      "===========================================================================================\n",
      "Dataset Name:  reddit , AUC Score(benchmark/combined):  56.60669272819534\n",
      "Dataset Name:  reddit , AUC Score (contextual):  53.783119656498116\n",
      "Dataset Name:  reddit , AUC Score (structural):  50.057905527672844\n",
      "Dataset Name:  reddit , AUC Score (joint-type):  49.09609158836234\n",
      "Dataset Name:  reddit , AUC Score (structure type):  49.09609158836234\n",
      "===========================================================================================\n",
      "Dataset Name:  reddit  Best AUC Score(benchmark/combined):  58.31157679453489\n",
      "Dataset Name:  reddit  Best AUC Score (contextual):  57.42915931180224\n",
      "Dataset Name:  reddit  Best AUC Score (structural):  84.64586802095081\n",
      "Dataset Name:  reddit  Best AUC Score (joint-type):  53.173684080051274\n",
      "Dataset Name:  reddit  Best AUC Score (structure type):  84.0504611948401\n",
      "===========================================================================================\n",
      "Dataset Name:  reddit , AUC Score(benchmark/combined):  56.6790386877835\n",
      "Dataset Name:  reddit , AUC Score (contextual):  53.83983369279206\n",
      "Dataset Name:  reddit , AUC Score (structural):  50.09093211803173\n",
      "Dataset Name:  reddit , AUC Score (joint-type):  49.09932949944424\n",
      "Dataset Name:  reddit , AUC Score (structure type):  49.09932949944424\n",
      "===========================================================================================\n",
      "Dataset Name:  reddit  Best AUC Score(benchmark/combined):  58.31157679453489\n",
      "Dataset Name:  reddit  Best AUC Score (contextual):  57.42915931180224\n",
      "Dataset Name:  reddit  Best AUC Score (structural):  84.64586802095081\n",
      "Dataset Name:  reddit  Best AUC Score (joint-type):  53.173684080051274\n",
      "Dataset Name:  reddit  Best AUC Score (structure type):  84.0504611948401\n",
      "===========================================================================================\n"
     ]
    },
    {
     "name": "stderr",
     "output_type": "stream",
     "text": [
      " 74%|███████▍  | 370/500 [00:37<00:12, 10.22it/s]"
     ]
    },
    {
     "name": "stdout",
     "output_type": "stream",
     "text": [
      "Dataset Name:  reddit , AUC Score(benchmark/combined):  56.6709201922295\n",
      "Dataset Name:  reddit , AUC Score (contextual):  53.77542961767858\n",
      "Dataset Name:  reddit , AUC Score (structural):  50.096044500939264\n",
      "Dataset Name:  reddit , AUC Score (joint-type):  49.15515816942674\n",
      "Dataset Name:  reddit , AUC Score (structure type):  49.15515816942674\n",
      "===========================================================================================\n",
      "Dataset Name:  reddit  Best AUC Score(benchmark/combined):  58.31157679453489\n",
      "Dataset Name:  reddit  Best AUC Score (contextual):  57.42915931180224\n",
      "Dataset Name:  reddit  Best AUC Score (structural):  84.64586802095081\n",
      "Dataset Name:  reddit  Best AUC Score (joint-type):  53.173684080051274\n",
      "Dataset Name:  reddit  Best AUC Score (structure type):  84.0504611948401\n",
      "===========================================================================================\n",
      "Dataset Name:  reddit , AUC Score(benchmark/combined):  56.68754316569348\n",
      "Dataset Name:  reddit , AUC Score (contextual):  53.80550677608782\n",
      "Dataset Name:  reddit , AUC Score (structural):  50.09793760770982\n",
      "Dataset Name:  reddit , AUC Score (joint-type):  49.1558664624759\n",
      "Dataset Name:  reddit , AUC Score (structure type):  49.1558664624759\n",
      "===========================================================================================\n",
      "Dataset Name:  reddit  Best AUC Score(benchmark/combined):  58.31157679453489\n",
      "Dataset Name:  reddit  Best AUC Score (contextual):  57.42915931180224\n",
      "Dataset Name:  reddit  Best AUC Score (structural):  84.64586802095081\n",
      "Dataset Name:  reddit  Best AUC Score (joint-type):  53.173684080051274\n",
      "Dataset Name:  reddit  Best AUC Score (structure type):  84.0504611948401\n",
      "===========================================================================================\n"
     ]
    },
    {
     "name": "stderr",
     "output_type": "stream",
     "text": [
      " 74%|███████▍  | 372/500 [00:37<00:12, 10.25it/s]"
     ]
    },
    {
     "name": "stdout",
     "output_type": "stream",
     "text": [
      "Dataset Name:  reddit , AUC Score(benchmark/combined):  56.65747514016306\n",
      "Dataset Name:  reddit , AUC Score (contextual):  53.78696467590787\n",
      "Dataset Name:  reddit , AUC Score (structural):  50.07373501677272\n"
     ]
    },
    {
     "name": "stderr",
     "output_type": "stream",
     "text": [
      " 75%|███████▍  | 374/500 [00:38<00:12, 10.24it/s]"
     ]
    },
    {
     "name": "stdout",
     "output_type": "stream",
     "text": [
      "Dataset Name:  reddit , AUC Score (joint-type):  49.10287096469007\n",
      "Dataset Name:  reddit , AUC Score (structure type):  49.10287096469007\n",
      "===========================================================================================\n",
      "Dataset Name:  reddit  Best AUC Score(benchmark/combined):  58.31157679453489\n",
      "Dataset Name:  reddit  Best AUC Score (contextual):  57.42915931180224\n",
      "Dataset Name:  reddit  Best AUC Score (structural):  84.64586802095081\n",
      "Dataset Name:  reddit  Best AUC Score (joint-type):  53.173684080051274\n",
      "Dataset Name:  reddit  Best AUC Score (structure type):  84.0504611948401\n",
      "===========================================================================================\n",
      "Dataset Name:  reddit , AUC Score(benchmark/combined):  56.69413059790212\n",
      "Dataset Name:  reddit , AUC Score (contextual):  53.799764543153515\n",
      "Dataset Name:  reddit , AUC Score (structural):  50.09027732190705\n",
      "Dataset Name:  reddit , AUC Score (joint-type):  49.1607739214594\n",
      "Dataset Name:  reddit , AUC Score (structure type):  49.1607739214594\n",
      "===========================================================================================\n",
      "Dataset Name:  reddit  Best AUC Score(benchmark/combined):  58.31157679453489\n",
      "Dataset Name:  reddit  Best AUC Score (contextual):  57.42915931180224\n",
      "Dataset Name:  reddit  Best AUC Score (structural):  84.64586802095081\n",
      "Dataset Name:  reddit  Best AUC Score (joint-type):  53.173684080051274\n",
      "Dataset Name:  reddit  Best AUC Score (structure type):  84.0504611948401\n",
      "===========================================================================================\n",
      "Dataset Name:  reddit , AUC Score(benchmark/combined):  56.68219087702396\n",
      "Dataset Name:  reddit , AUC Score (contextual):  53.77651735343267\n"
     ]
    },
    {
     "name": "stderr",
     "output_type": "stream",
     "text": [
      " 75%|███████▌  | 376/500 [00:38<00:12, 10.12it/s]"
     ]
    },
    {
     "name": "stdout",
     "output_type": "stream",
     "text": [
      "Dataset Name:  reddit , AUC Score (structural):  50.09277383573934\n",
      "Dataset Name:  reddit , AUC Score (joint-type):  49.13388408177142\n",
      "Dataset Name:  reddit , AUC Score (structure type):  49.13388408177142\n",
      "===========================================================================================\n",
      "Dataset Name:  reddit  Best AUC Score(benchmark/combined):  58.31157679453489\n",
      "Dataset Name:  reddit  Best AUC Score (contextual):  57.42915931180224\n",
      "Dataset Name:  reddit  Best AUC Score (structural):  84.64586802095081\n",
      "Dataset Name:  reddit  Best AUC Score (joint-type):  53.173684080051274\n",
      "Dataset Name:  reddit  Best AUC Score (structure type):  84.0504611948401\n",
      "===========================================================================================\n",
      "Dataset Name:  reddit , AUC Score(benchmark/combined):  56.71448473414049\n",
      "Dataset Name:  reddit , AUC Score (contextual):  53.82501013112022\n",
      "Dataset Name:  reddit , AUC Score (structural):  50.09887421482485\n",
      "Dataset Name:  reddit , AUC Score (joint-type):  49.098064690427876\n",
      "Dataset Name:  reddit , AUC Score (structure type):  49.098064690427876\n",
      "===========================================================================================\n",
      "Dataset Name:  reddit  Best AUC Score(benchmark/combined):  58.31157679453489\n",
      "Dataset Name:  reddit  Best AUC Score (contextual):  57.42915931180224\n",
      "Dataset Name:  reddit  Best AUC Score (structural):  84.64586802095081\n",
      "Dataset Name:  reddit  Best AUC Score (joint-type):  53.173684080051274\n",
      "Dataset Name:  reddit  Best AUC Score (structure type):  84.0504611948401\n",
      "===========================================================================================\n",
      "Dataset Name:  reddit , AUC Score(benchmark/combined):  56.7163889137633\n",
      "Dataset Name:  reddit , AUC Score (contextual):  53.872465765414354\n",
      "Dataset Name:  reddit , AUC Score (structural):  50.09187535599359\n",
      "Dataset Name:  reddit , AUC Score (joint-type):  49.11053570732927\n",
      "Dataset Name:  reddit , AUC Score (structure type):  49.11053570732927\n",
      "===========================================================================================\n",
      "Dataset Name:  reddit  Best AUC Score(benchmark/combined):  58.31157679453489\n"
     ]
    },
    {
     "name": "stderr",
     "output_type": "stream",
     "text": [
      " 76%|███████▌  | 378/500 [00:38<00:12, 10.15it/s]"
     ]
    },
    {
     "name": "stdout",
     "output_type": "stream",
     "text": [
      "Dataset Name:  reddit  Best AUC Score (contextual):  57.42915931180224\n",
      "Dataset Name:  reddit  Best AUC Score (structural):  84.64586802095081\n",
      "Dataset Name:  reddit  Best AUC Score (joint-type):  53.173684080051274\n",
      "Dataset Name:  reddit  Best AUC Score (structure type):  84.0504611948401\n",
      "===========================================================================================\n",
      "Dataset Name:  reddit , AUC Score(benchmark/combined):  56.697565840870276\n",
      "Dataset Name:  reddit , AUC Score (contextual):  53.73548694894168\n",
      "Dataset Name:  reddit , AUC Score (structural):  50.09112109716645\n",
      "Dataset Name:  reddit , AUC Score (joint-type):  49.13046909742722\n",
      "Dataset Name:  reddit , AUC Score (structure type):  49.13046909742722\n",
      "===========================================================================================\n",
      "Dataset Name:  reddit  Best AUC Score(benchmark/combined):  58.31157679453489\n",
      "Dataset Name:  reddit  Best AUC Score (contextual):  57.42915931180224\n",
      "Dataset Name:  reddit  Best AUC Score (structural):  84.64586802095081\n",
      "Dataset Name:  reddit  Best AUC Score (joint-type):  53.173684080051274\n",
      "Dataset Name:  reddit  Best AUC Score (structure type):  84.0504611948401\n",
      "===========================================================================================\n",
      "Dataset Name:  reddit , AUC Score(benchmark/combined):  56.70345850483815\n",
      "Dataset Name:  reddit , AUC Score (contextual):  53.83141006474303\n",
      "Dataset Name:  reddit , AUC Score (structural):  50.102857696059225\n",
      "Dataset Name:  reddit , AUC Score (joint-type):  49.128900734246926\n",
      "Dataset Name:  reddit , AUC Score (structure type):  49.128900734246926\n",
      "===========================================================================================\n",
      "Dataset Name:  reddit  Best AUC Score(benchmark/combined):  58.31157679453489\n",
      "Dataset Name:  reddit  Best AUC Score (contextual):  57.42915931180224\n",
      "Dataset Name:  reddit  Best AUC Score (structural):  84.64586802095081\n",
      "Dataset Name:  reddit  Best AUC Score (joint-type):  53.173684080051274\n"
     ]
    },
    {
     "name": "stderr",
     "output_type": "stream",
     "text": [
      " 76%|███████▌  | 380/500 [00:38<00:11, 10.18it/s]"
     ]
    },
    {
     "name": "stdout",
     "output_type": "stream",
     "text": [
      "Dataset Name:  reddit  Best AUC Score (structure type):  84.0504611948401\n",
      "===========================================================================================\n",
      "Dataset Name:  reddit , AUC Score(benchmark/combined):  56.71044478548129\n",
      "Dataset Name:  reddit , AUC Score (contextual):  53.753877272039674\n",
      "Dataset Name:  reddit , AUC Score (structural):  50.105519981062294\n",
      "Dataset Name:  reddit , AUC Score (joint-type):  49.09586392273939\n",
      "Dataset Name:  reddit , AUC Score (structure type):  49.09586392273939\n",
      "===========================================================================================\n",
      "Dataset Name:  reddit  Best AUC Score(benchmark/combined):  58.31157679453489\n",
      "Dataset Name:  reddit  Best AUC Score (contextual):  57.42915931180224\n",
      "Dataset Name:  reddit  Best AUC Score (structural):  84.64586802095081\n",
      "Dataset Name:  reddit  Best AUC Score (joint-type):  53.173684080051274\n",
      "Dataset Name:  reddit  Best AUC Score (structure type):  84.0504611948401\n",
      "===========================================================================================\n",
      "Dataset Name:  reddit , AUC Score(benchmark/combined):  56.72448167716024\n",
      "Dataset Name:  reddit , AUC Score (contextual):  53.85824931207037\n",
      "Dataset Name:  reddit , AUC Score (structural):  50.10621456226797\n",
      "Dataset Name:  reddit , AUC Score (joint-type):  49.11835222705043\n",
      "Dataset Name:  reddit , AUC Score (structure type):  49.11835222705043\n",
      "===========================================================================================\n",
      "Dataset Name:  reddit  Best AUC Score(benchmark/combined):  58.31157679453489\n",
      "Dataset Name:  reddit  Best AUC Score (contextual):  57.42915931180224\n",
      "Dataset Name:  reddit  Best AUC Score (structural):  84.64586802095081\n",
      "Dataset Name:  reddit  Best AUC Score (joint-type):  53.173684080051274\n",
      "Dataset Name:  reddit  Best AUC Score (structure type):  84.0504611948401\n",
      "===========================================================================================\n"
     ]
    },
    {
     "name": "stderr",
     "output_type": "stream",
     "text": [
      " 76%|███████▋  | 382/500 [00:38<00:11, 10.19it/s]"
     ]
    },
    {
     "name": "stdout",
     "output_type": "stream",
     "text": [
      "Dataset Name:  reddit , AUC Score(benchmark/combined):  56.69730851929964\n",
      "Dataset Name:  reddit , AUC Score (contextual):  53.74881803597421\n",
      "Dataset Name:  reddit , AUC Score (structural):  50.09697613491917\n",
      "Dataset Name:  reddit , AUC Score (joint-type):  49.098418836952455\n",
      "Dataset Name:  reddit , AUC Score (structure type):  49.098418836952455\n",
      "===========================================================================================\n",
      "Dataset Name:  reddit  Best AUC Score(benchmark/combined):  58.31157679453489\n",
      "Dataset Name:  reddit  Best AUC Score (contextual):  57.42915931180224\n",
      "Dataset Name:  reddit  Best AUC Score (structural):  84.64586802095081\n",
      "Dataset Name:  reddit  Best AUC Score (joint-type):  53.173684080051274\n",
      "Dataset Name:  reddit  Best AUC Score (structure type):  84.0504611948401\n",
      "===========================================================================================\n",
      "Dataset Name:  reddit , AUC Score(benchmark/combined):  56.740229757284\n",
      "Dataset Name:  reddit , AUC Score (contextual):  53.848232024660746\n",
      "Dataset Name:  reddit , AUC Score (structural):  50.10478395706394\n",
      "Dataset Name:  reddit , AUC Score (joint-type):  49.11774511872257\n",
      "Dataset Name:  reddit , AUC Score (structure type):  49.11774511872257\n",
      "===========================================================================================\n",
      "Dataset Name:  reddit  Best AUC Score(benchmark/combined):  58.31157679453489\n",
      "Dataset Name:  reddit  Best AUC Score (contextual):  57.42915931180224\n",
      "Dataset Name:  reddit  Best AUC Score (structural):  84.64586802095081\n",
      "Dataset Name:  reddit  Best AUC Score (joint-type):  53.173684080051274\n",
      "Dataset Name:  reddit  Best AUC Score (structure type):  84.0504611948401\n",
      "===========================================================================================\n",
      "Dataset Name:  reddit , AUC Score(benchmark/combined):  56.71027752646039\n",
      "Dataset Name:  reddit , AUC Score (contextual):  53.75941713553137\n",
      "Dataset Name:  reddit , AUC Score (structural):  50.09132499570652\n"
     ]
    },
    {
     "name": "stderr",
     "output_type": "stream",
     "text": [
      " 77%|███████▋  | 384/500 [00:39<00:11, 10.21it/s]"
     ]
    },
    {
     "name": "stdout",
     "output_type": "stream",
     "text": [
      "Dataset Name:  reddit , AUC Score (joint-type):  49.11460839236197\n",
      "Dataset Name:  reddit , AUC Score (structure type):  49.11460839236197\n",
      "===========================================================================================\n",
      "Dataset Name:  reddit  Best AUC Score(benchmark/combined):  58.31157679453489\n",
      "Dataset Name:  reddit  Best AUC Score (contextual):  57.42915931180224\n",
      "Dataset Name:  reddit  Best AUC Score (structural):  84.64586802095081\n",
      "Dataset Name:  reddit  Best AUC Score (joint-type):  53.173684080051274\n",
      "Dataset Name:  reddit  Best AUC Score (structure type):  84.0504611948401\n",
      "===========================================================================================\n",
      "Dataset Name:  reddit , AUC Score(benchmark/combined):  56.74558204595351\n",
      "Dataset Name:  reddit , AUC Score (contextual):  53.856503875627794\n",
      "Dataset Name:  reddit , AUC Score (structural):  50.10494807052304\n",
      "Dataset Name:  reddit , AUC Score (joint-type):  49.0715542934448\n",
      "Dataset Name:  reddit , AUC Score (structure type):  49.0715542934448\n",
      "===========================================================================================\n",
      "Dataset Name:  reddit  Best AUC Score(benchmark/combined):  58.31157679453489\n",
      "Dataset Name:  reddit  Best AUC Score (contextual):  57.42915931180224\n",
      "Dataset Name:  reddit  Best AUC Score (structural):  84.64586802095081\n",
      "Dataset Name:  reddit  Best AUC Score (joint-type):  53.173684080051274\n",
      "Dataset Name:  reddit  Best AUC Score (structure type):  84.0504611948401\n",
      "===========================================================================================\n",
      "Dataset Name:  reddit , AUC Score(benchmark/combined):  56.7033169779743\n",
      "Dataset Name:  reddit , AUC Score (contextual):  53.75051288005614\n",
      "Dataset Name:  reddit , AUC Score (structural):  50.10497956704549\n",
      "Dataset Name:  reddit , AUC Score (joint-type):  49.10909382505061\n"
     ]
    },
    {
     "name": "stderr",
     "output_type": "stream",
     "text": [
      " 77%|███████▋  | 386/500 [00:39<00:11, 10.15it/s]"
     ]
    },
    {
     "name": "stdout",
     "output_type": "stream",
     "text": [
      "Dataset Name:  reddit , AUC Score (structure type):  49.10909382505061\n",
      "===========================================================================================\n",
      "Dataset Name:  reddit  Best AUC Score(benchmark/combined):  58.31157679453489\n",
      "Dataset Name:  reddit  Best AUC Score (contextual):  57.42915931180224\n",
      "Dataset Name:  reddit  Best AUC Score (structural):  84.64586802095081\n",
      "Dataset Name:  reddit  Best AUC Score (joint-type):  53.173684080051274\n",
      "Dataset Name:  reddit  Best AUC Score (structure type):  84.0504611948401\n",
      "===========================================================================================\n",
      "Dataset Name:  reddit , AUC Score(benchmark/combined):  56.776795152473326\n",
      "Dataset Name:  reddit , AUC Score (contextual):  53.85792046172612\n",
      "Dataset Name:  reddit , AUC Score (structural):  50.100952985306705\n",
      "Dataset Name:  reddit , AUC Score (joint-type):  49.10256741052615\n",
      "Dataset Name:  reddit , AUC Score (structure type):  49.10256741052615\n",
      "===========================================================================================\n",
      "Dataset Name:  reddit  Best AUC Score(benchmark/combined):  58.31157679453489\n",
      "Dataset Name:  reddit  Best AUC Score (contextual):  57.42915931180224\n",
      "Dataset Name:  reddit  Best AUC Score (structural):  84.64586802095081\n",
      "Dataset Name:  reddit  Best AUC Score (joint-type):  53.173684080051274\n",
      "Dataset Name:  reddit  Best AUC Score (structure type):  84.0504611948401\n",
      "===========================================================================================\n",
      "Dataset Name:  reddit , AUC Score(benchmark/combined):  56.71896212946981\n",
      "Dataset Name:  reddit , AUC Score (contextual):  53.76938383058035\n",
      "Dataset Name:  reddit , AUC Score (structural):  50.07828543541124\n",
      "Dataset Name:  reddit , AUC Score (joint-type):  49.13345404670586\n",
      "Dataset Name:  reddit , AUC Score (structure type):  49.13345404670586\n",
      "===========================================================================================\n",
      "Dataset Name:  reddit  Best AUC Score(benchmark/combined):  58.31157679453489\n",
      "Dataset Name:  reddit  Best AUC Score (contextual):  57.42915931180224\n",
      "Dataset Name:  reddit  Best AUC Score (structural):  84.64586802095081\n"
     ]
    },
    {
     "name": "stderr",
     "output_type": "stream",
     "text": [
      " 78%|███████▊  | 388/500 [00:39<00:11, 10.17it/s]"
     ]
    },
    {
     "name": "stdout",
     "output_type": "stream",
     "text": [
      "Dataset Name:  reddit  Best AUC Score (joint-type):  53.173684080051274\n",
      "Dataset Name:  reddit  Best AUC Score (structure type):  84.0504611948401\n",
      "===========================================================================================\n",
      "Dataset Name:  reddit , AUC Score(benchmark/combined):  56.79527084124597\n",
      "Dataset Name:  reddit , AUC Score (contextual):  53.843830489283775\n",
      "Dataset Name:  reddit , AUC Score (structural):  50.10068940914514\n",
      "Dataset Name:  reddit , AUC Score (joint-type):  49.14119467788603\n",
      "Dataset Name:  reddit , AUC Score (structure type):  49.14119467788603\n",
      "===========================================================================================\n",
      "Dataset Name:  reddit  Best AUC Score(benchmark/combined):  58.31157679453489\n",
      "Dataset Name:  reddit  Best AUC Score (contextual):  57.42915931180224\n",
      "Dataset Name:  reddit  Best AUC Score (structural):  84.64586802095081\n",
      "Dataset Name:  reddit  Best AUC Score (joint-type):  53.173684080051274\n",
      "Dataset Name:  reddit  Best AUC Score (structure type):  84.0504611948401\n",
      "===========================================================================================\n",
      "Dataset Name:  reddit , AUC Score(benchmark/combined):  56.684197985275034\n",
      "Dataset Name:  reddit , AUC Score (contextual):  53.656942309025226\n",
      "Dataset Name:  reddit , AUC Score (structural):  50.099761090588636\n",
      "Dataset Name:  reddit , AUC Score (joint-type):  49.093840228313205\n",
      "Dataset Name:  reddit , AUC Score (structure type):  49.093840228313205\n",
      "===========================================================================================\n",
      "Dataset Name:  reddit  Best AUC Score(benchmark/combined):  58.31157679453489\n",
      "Dataset Name:  reddit  Best AUC Score (contextual):  57.42915931180224\n",
      "Dataset Name:  reddit  Best AUC Score (structural):  84.64586802095081\n",
      "Dataset Name:  reddit  Best AUC Score (joint-type):  53.173684080051274\n",
      "Dataset Name:  reddit  Best AUC Score (structure type):  84.0504611948401\n",
      "===========================================================================================\n"
     ]
    },
    {
     "name": "stderr",
     "output_type": "stream",
     "text": [
      " 78%|███████▊  | 392/500 [00:39<00:10, 10.22it/s]"
     ]
    },
    {
     "name": "stdout",
     "output_type": "stream",
     "text": [
      "Dataset Name:  reddit , AUC Score(benchmark/combined):  56.83061395897471\n",
      "Dataset Name:  reddit , AUC Score (contextual):  53.92022495387242\n",
      "Dataset Name:  reddit , AUC Score (structural):  50.10328207025647\n",
      "Dataset Name:  reddit , AUC Score (joint-type):  49.15991385132828\n",
      "Dataset Name:  reddit , AUC Score (structure type):  49.15991385132828\n",
      "===========================================================================================\n",
      "Dataset Name:  reddit  Best AUC Score(benchmark/combined):  58.31157679453489\n",
      "Dataset Name:  reddit  Best AUC Score (contextual):  57.42915931180224\n",
      "Dataset Name:  reddit  Best AUC Score (structural):  84.64586802095081\n",
      "Dataset Name:  reddit  Best AUC Score (joint-type):  53.173684080051274\n",
      "Dataset Name:  reddit  Best AUC Score (structure type):  84.0504611948401\n",
      "===========================================================================================\n",
      "Dataset Name:  reddit , AUC Score(benchmark/combined):  56.57565974677499\n",
      "Dataset Name:  reddit , AUC Score (contextual):  53.66296279994314\n",
      "Dataset Name:  reddit , AUC Score (structural):  50.08996732981766\n",
      "Dataset Name:  reddit , AUC Score (joint-type):  49.09690106613282\n",
      "Dataset Name:  reddit , AUC Score (structure type):  49.09690106613282\n",
      "===========================================================================================\n",
      "Dataset Name:  reddit  Best AUC Score(benchmark/combined):  58.31157679453489\n",
      "Dataset Name:  reddit  Best AUC Score (contextual):  57.42915931180224\n",
      "Dataset Name:  reddit  Best AUC Score (structural):  84.64586802095081\n",
      "Dataset Name:  reddit  Best AUC Score (joint-type):  53.173684080051274\n",
      "Dataset Name:  reddit  Best AUC Score (structure type):  84.0504611948401\n",
      "===========================================================================================\n",
      "Dataset Name:  reddit , AUC Score(benchmark/combined):  56.86643312160915\n",
      "Dataset Name:  reddit , AUC Score (contextual):  53.9040353984629\n",
      "Dataset Name:  reddit , AUC Score (structural):  50.12397362779598\n",
      "Dataset Name:  reddit , AUC Score (joint-type):  49.160217405492205\n"
     ]
    },
    {
     "name": "stderr",
     "output_type": "stream",
     "text": [
      " 79%|███████▉  | 394/500 [00:40<00:10, 10.23it/s]"
     ]
    },
    {
     "name": "stdout",
     "output_type": "stream",
     "text": [
      "Dataset Name:  reddit , AUC Score (structure type):  49.160217405492205\n",
      "===========================================================================================\n",
      "Dataset Name:  reddit  Best AUC Score(benchmark/combined):  58.31157679453489\n",
      "Dataset Name:  reddit  Best AUC Score (contextual):  57.42915931180224\n",
      "Dataset Name:  reddit  Best AUC Score (structural):  84.64586802095081\n",
      "Dataset Name:  reddit  Best AUC Score (joint-type):  53.173684080051274\n",
      "Dataset Name:  reddit  Best AUC Score (structure type):  84.0504611948401\n",
      "===========================================================================================\n",
      "Dataset Name:  reddit , AUC Score(benchmark/combined):  56.4911038786595\n",
      "Dataset Name:  reddit , AUC Score (contextual):  53.53511590456864\n",
      "Dataset Name:  reddit , AUC Score (structural):  50.10270021344696\n",
      "Dataset Name:  reddit , AUC Score (joint-type):  49.14417962716466\n",
      "Dataset Name:  reddit , AUC Score (structure type):  49.14417962716466\n",
      "===========================================================================================\n",
      "Dataset Name:  reddit  Best AUC Score(benchmark/combined):  58.31157679453489\n",
      "Dataset Name:  reddit  Best AUC Score (contextual):  57.42915931180224\n",
      "Dataset Name:  reddit  Best AUC Score (structural):  84.64586802095081\n",
      "Dataset Name:  reddit  Best AUC Score (joint-type):  53.173684080051274\n",
      "Dataset Name:  reddit  Best AUC Score (structure type):  84.0504611948401\n",
      "===========================================================================================\n",
      "Dataset Name:  reddit , AUC Score(benchmark/combined):  57.000716383252694\n",
      "Dataset Name:  reddit , AUC Score (contextual):  54.02780960880469\n",
      "Dataset Name:  reddit , AUC Score (structural):  50.08569209132268\n",
      "Dataset Name:  reddit , AUC Score (joint-type):  49.190598118065374\n",
      "Dataset Name:  reddit , AUC Score (structure type):  49.190598118065374\n",
      "===========================================================================================\n",
      "Dataset Name:  reddit  Best AUC Score(benchmark/combined):  58.31157679453489\n",
      "Dataset Name:  reddit  Best AUC Score (contextual):  57.42915931180224\n",
      "Dataset Name:  reddit  Best AUC Score (structural):  84.64586802095081\n"
     ]
    },
    {
     "name": "stderr",
     "output_type": "stream",
     "text": [
      " 79%|███████▉  | 396/500 [00:40<00:10, 10.25it/s]"
     ]
    },
    {
     "name": "stdout",
     "output_type": "stream",
     "text": [
      "Dataset Name:  reddit  Best AUC Score (joint-type):  53.173684080051274\n",
      "Dataset Name:  reddit  Best AUC Score (structure type):  84.0504611948401\n",
      "===========================================================================================\n",
      "Dataset Name:  reddit , AUC Score(benchmark/combined):  56.408104806046445\n",
      "Dataset Name:  reddit , AUC Score (contextual):  53.51917931096239\n",
      "Dataset Name:  reddit , AUC Score (structural):  50.08082836517135\n",
      "Dataset Name:  reddit , AUC Score (joint-type):  49.03237051011771\n",
      "Dataset Name:  reddit , AUC Score (structure type):  49.03237051011771\n",
      "===========================================================================================\n",
      "Dataset Name:  reddit  Best AUC Score(benchmark/combined):  58.31157679453489\n",
      "Dataset Name:  reddit  Best AUC Score (contextual):  57.42915931180224\n",
      "Dataset Name:  reddit  Best AUC Score (structural):  84.64586802095081\n",
      "Dataset Name:  reddit  Best AUC Score (joint-type):  53.173684080051274\n",
      "Dataset Name:  reddit  Best AUC Score (structure type):  84.0504611948401\n",
      "===========================================================================================\n",
      "Dataset Name:  reddit , AUC Score(benchmark/combined):  57.10581937878456\n",
      "Dataset Name:  reddit , AUC Score (contextual):  54.03782689621433\n",
      "Dataset Name:  reddit , AUC Score (structural):  50.11211270052509\n",
      "Dataset Name:  reddit , AUC Score (joint-type):  49.30233134657133\n",
      "Dataset Name:  reddit , AUC Score (structure type):  49.30233134657133\n",
      "===========================================================================================\n",
      "Dataset Name:  reddit  Best AUC Score(benchmark/combined):  58.31157679453489\n",
      "Dataset Name:  reddit  Best AUC Score (contextual):  57.42915931180224\n",
      "Dataset Name:  reddit  Best AUC Score (structural):  84.64586802095081\n",
      "Dataset Name:  reddit  Best AUC Score (joint-type):  53.173684080051274\n",
      "Dataset Name:  reddit  Best AUC Score (structure type):  84.0504611948401\n",
      "===========================================================================================\n"
     ]
    },
    {
     "name": "stderr",
     "output_type": "stream",
     "text": [
      " 80%|███████▉  | 398/500 [00:40<00:09, 10.28it/s]"
     ]
    },
    {
     "name": "stdout",
     "output_type": "stream",
     "text": [
      "Dataset Name:  reddit , AUC Score(benchmark/combined):  56.41918249966291\n",
      "Dataset Name:  reddit , AUC Score (contextual):  53.509870316601926\n",
      "Dataset Name:  reddit , AUC Score (structural):  50.08295023615761\n",
      "Dataset Name:  reddit , AUC Score (joint-type):  49.04296960967487\n",
      "Dataset Name:  reddit , AUC Score (structure type):  49.04296960967487\n",
      "===========================================================================================\n",
      "Dataset Name:  reddit  Best AUC Score(benchmark/combined):  58.31157679453489\n",
      "Dataset Name:  reddit  Best AUC Score (contextual):  57.42915931180224\n",
      "Dataset Name:  reddit  Best AUC Score (structural):  84.64586802095081\n",
      "Dataset Name:  reddit  Best AUC Score (joint-type):  53.173684080051274\n",
      "Dataset Name:  reddit  Best AUC Score (structure type):  84.0504611948401\n",
      "===========================================================================================\n",
      "Dataset Name:  reddit , AUC Score(benchmark/combined):  56.980632434663484\n",
      "Dataset Name:  reddit , AUC Score (contextual):  54.0273542775588\n",
      "Dataset Name:  reddit , AUC Score (structural):  50.10930785231512\n",
      "Dataset Name:  reddit , AUC Score (joint-type):  49.120274736755306\n",
      "Dataset Name:  reddit , AUC Score (structure type):  49.120274736755306\n",
      "===========================================================================================\n",
      "Dataset Name:  reddit  Best AUC Score(benchmark/combined):  58.31157679453489\n",
      "Dataset Name:  reddit  Best AUC Score (contextual):  57.42915931180224\n",
      "Dataset Name:  reddit  Best AUC Score (structural):  84.64586802095081\n",
      "Dataset Name:  reddit  Best AUC Score (joint-type):  53.173684080051274\n",
      "Dataset Name:  reddit  Best AUC Score (structure type):  84.0504611948401\n",
      "===========================================================================================\n",
      "Dataset Name:  reddit , AUC Score(benchmark/combined):  56.701708718157754\n",
      "Dataset Name:  reddit , AUC Score (contextual):  53.66738963150043\n",
      "Dataset Name:  reddit , AUC Score (structural):  50.10200894766472\n",
      "Dataset Name:  reddit , AUC Score (joint-type):  49.136818438689396\n"
     ]
    },
    {
     "name": "stderr",
     "output_type": "stream",
     "text": [
      " 80%|████████  | 400/500 [00:40<00:09, 10.27it/s]"
     ]
    },
    {
     "name": "stdout",
     "output_type": "stream",
     "text": [
      "Dataset Name:  reddit , AUC Score (structure type):  49.136818438689396\n",
      "===========================================================================================\n",
      "Dataset Name:  reddit  Best AUC Score(benchmark/combined):  58.31157679453489\n",
      "Dataset Name:  reddit  Best AUC Score (contextual):  57.42915931180224\n",
      "Dataset Name:  reddit  Best AUC Score (structural):  84.64586802095081\n",
      "Dataset Name:  reddit  Best AUC Score (joint-type):  53.173684080051274\n",
      "Dataset Name:  reddit  Best AUC Score (structure type):  84.0504611948401\n",
      "===========================================================================================\n",
      "Dataset Name:  reddit , AUC Score(benchmark/combined):  56.8979421479352\n",
      "Dataset Name:  reddit , AUC Score (contextual):  53.76434989069521\n",
      "Dataset Name:  reddit , AUC Score (structural):  50.12056205710087\n",
      "Dataset Name:  reddit , AUC Score (joint-type):  49.062827111231854\n",
      "Dataset Name:  reddit , AUC Score (structure type):  49.062827111231854\n",
      "===========================================================================================\n",
      "Dataset Name:  reddit  Best AUC Score(benchmark/combined):  58.31157679453489\n",
      "Dataset Name:  reddit  Best AUC Score (contextual):  57.42915931180224\n",
      "Dataset Name:  reddit  Best AUC Score (structural):  84.64586802095081\n",
      "Dataset Name:  reddit  Best AUC Score (joint-type):  53.173684080051274\n",
      "Dataset Name:  reddit  Best AUC Score (structure type):  84.0504611948401\n",
      "===========================================================================================\n",
      "Dataset Name:  reddit , AUC Score(benchmark/combined):  56.80154948756982\n",
      "Dataset Name:  reddit , AUC Score (contextual):  53.70874888633567\n",
      "Dataset Name:  reddit , AUC Score (structural):  50.092334542136705\n",
      "Dataset Name:  reddit , AUC Score (joint-type):  49.0881991801002\n",
      "Dataset Name:  reddit , AUC Score (structure type):  49.0881991801002\n",
      "===========================================================================================\n",
      "Dataset Name:  reddit  Best AUC Score(benchmark/combined):  58.31157679453489\n",
      "Dataset Name:  reddit  Best AUC Score (contextual):  57.42915931180224\n",
      "Dataset Name:  reddit  Best AUC Score (structural):  84.64586802095081\n"
     ]
    },
    {
     "name": "stderr",
     "output_type": "stream",
     "text": [
      " 80%|████████  | 402/500 [00:40<00:09, 10.26it/s]"
     ]
    },
    {
     "name": "stdout",
     "output_type": "stream",
     "text": [
      "Dataset Name:  reddit  Best AUC Score (joint-type):  53.173684080051274\n",
      "Dataset Name:  reddit  Best AUC Score (structure type):  84.0504611948401\n",
      "===========================================================================================\n",
      "Dataset Name:  reddit , AUC Score(benchmark/combined):  56.833302969388\n",
      "Dataset Name:  reddit , AUC Score (contextual):  53.79331401717003\n",
      "Dataset Name:  reddit , AUC Score (structural):  50.130168496448846\n",
      "Dataset Name:  reddit , AUC Score (joint-type):  49.09662280814921\n",
      "Dataset Name:  reddit , AUC Score (structure type):  49.09662280814921\n",
      "===========================================================================================\n",
      "Dataset Name:  reddit  Best AUC Score(benchmark/combined):  58.31157679453489\n",
      "Dataset Name:  reddit  Best AUC Score (contextual):  57.42915931180224\n",
      "Dataset Name:  reddit  Best AUC Score (structural):  84.64586802095081\n",
      "Dataset Name:  reddit  Best AUC Score (joint-type):  53.173684080051274\n",
      "Dataset Name:  reddit  Best AUC Score (structure type):  84.0504611948401\n",
      "===========================================================================================\n",
      "Dataset Name:  reddit , AUC Score(benchmark/combined):  56.00459885111064\n",
      "Dataset Name:  reddit , AUC Score (contextual):  52.97953589603877\n",
      "Dataset Name:  reddit , AUC Score (structural):  49.97017445094931\n",
      "Dataset Name:  reddit , AUC Score (joint-type):  48.31509731693534\n",
      "Dataset Name:  reddit , AUC Score (structure type):  48.31509731693534\n",
      "===========================================================================================\n",
      "Dataset Name:  reddit  Best AUC Score(benchmark/combined):  58.31157679453489\n",
      "Dataset Name:  reddit  Best AUC Score (contextual):  57.42915931180224\n",
      "Dataset Name:  reddit  Best AUC Score (structural):  84.64586802095081\n",
      "Dataset Name:  reddit  Best AUC Score (joint-type):  53.173684080051274\n",
      "Dataset Name:  reddit  Best AUC Score (structure type):  84.0504611948401\n",
      "===========================================================================================\n"
     ]
    },
    {
     "name": "stderr",
     "output_type": "stream",
     "text": [
      " 81%|████████  | 406/500 [00:41<00:09, 10.27it/s]"
     ]
    },
    {
     "name": "stdout",
     "output_type": "stream",
     "text": [
      "Dataset Name:  reddit , AUC Score(benchmark/combined):  56.718305959464644\n",
      "Dataset Name:  reddit , AUC Score (contextual):  53.831536545644674\n",
      "Dataset Name:  reddit , AUC Score (structural):  50.171899730986546\n",
      "Dataset Name:  reddit , AUC Score (joint-type):  49.10977682191944\n",
      "Dataset Name:  reddit , AUC Score (structure type):  49.10977682191944\n",
      "===========================================================================================\n",
      "Dataset Name:  reddit  Best AUC Score(benchmark/combined):  58.31157679453489\n",
      "Dataset Name:  reddit  Best AUC Score (contextual):  57.42915931180224\n",
      "Dataset Name:  reddit  Best AUC Score (structural):  84.64586802095081\n",
      "Dataset Name:  reddit  Best AUC Score (joint-type):  53.173684080051274\n",
      "Dataset Name:  reddit  Best AUC Score (structure type):  84.0504611948401\n",
      "===========================================================================================\n",
      "Dataset Name:  reddit , AUC Score(benchmark/combined):  56.94820991676161\n",
      "Dataset Name:  reddit , AUC Score (contextual):  53.61424235663264\n",
      "Dataset Name:  reddit , AUC Score (structural):  50.02424071830638\n",
      "Dataset Name:  reddit , AUC Score (joint-type):  49.0478011801174\n",
      "Dataset Name:  reddit , AUC Score (structure type):  49.0478011801174\n",
      "===========================================================================================\n",
      "Dataset Name:  reddit  Best AUC Score(benchmark/combined):  58.31157679453489\n",
      "Dataset Name:  reddit  Best AUC Score (contextual):  57.42915931180224\n",
      "Dataset Name:  reddit  Best AUC Score (structural):  84.64586802095081\n",
      "Dataset Name:  reddit  Best AUC Score (joint-type):  53.173684080051274\n",
      "Dataset Name:  reddit  Best AUC Score (structure type):  84.0504611948401\n",
      "===========================================================================================\n",
      "Dataset Name:  reddit , AUC Score(benchmark/combined):  56.49725386419803\n",
      "Dataset Name:  reddit , AUC Score (contextual):  53.860121229414595\n",
      "Dataset Name:  reddit , AUC Score (structural):  50.20726203714203\n",
      "Dataset Name:  reddit , AUC Score (joint-type):  49.13985398032868\n"
     ]
    },
    {
     "name": "stderr",
     "output_type": "stream",
     "text": [
      " 82%|████████▏ | 408/500 [00:41<00:08, 10.27it/s]"
     ]
    },
    {
     "name": "stdout",
     "output_type": "stream",
     "text": [
      "Dataset Name:  reddit , AUC Score (structure type):  49.13985398032868\n",
      "===========================================================================================\n",
      "Dataset Name:  reddit  Best AUC Score(benchmark/combined):  58.31157679453489\n",
      "Dataset Name:  reddit  Best AUC Score (contextual):  57.42915931180224\n",
      "Dataset Name:  reddit  Best AUC Score (structural):  84.64586802095081\n",
      "Dataset Name:  reddit  Best AUC Score (joint-type):  53.173684080051274\n",
      "Dataset Name:  reddit  Best AUC Score (structure type):  84.0504611948401\n",
      "===========================================================================================\n",
      "Dataset Name:  reddit , AUC Score(benchmark/combined):  57.40189357797409\n",
      "Dataset Name:  reddit , AUC Score (contextual):  53.902644108544905\n",
      "Dataset Name:  reddit , AUC Score (structural):  50.0234184932992\n",
      "Dataset Name:  reddit , AUC Score (joint-type):  49.196820978425905\n",
      "Dataset Name:  reddit , AUC Score (structure type):  49.196820978425905\n",
      "===========================================================================================\n",
      "Dataset Name:  reddit  Best AUC Score(benchmark/combined):  58.31157679453489\n",
      "Dataset Name:  reddit  Best AUC Score (contextual):  57.42915931180224\n",
      "Dataset Name:  reddit  Best AUC Score (structural):  84.64586802095081\n",
      "Dataset Name:  reddit  Best AUC Score (joint-type):  53.173684080051274\n",
      "Dataset Name:  reddit  Best AUC Score (structure type):  84.0504611948401\n",
      "===========================================================================================\n",
      "Dataset Name:  reddit , AUC Score(benchmark/combined):  55.64652301947306\n",
      "Dataset Name:  reddit , AUC Score (contextual):  53.045786592316134\n",
      "Dataset Name:  reddit , AUC Score (structural):  50.03963588693876\n",
      "Dataset Name:  reddit , AUC Score (joint-type):  49.27182415309653\n",
      "Dataset Name:  reddit , AUC Score (structure type):  49.27182415309653\n",
      "===========================================================================================\n",
      "Dataset Name:  reddit  Best AUC Score(benchmark/combined):  58.31157679453489\n",
      "Dataset Name:  reddit  Best AUC Score (contextual):  57.42915931180224\n",
      "Dataset Name:  reddit  Best AUC Score (structural):  84.64586802095081\n",
      "Dataset Name:  reddit  Best AUC Score (joint-type):  53.173684080051274\n"
     ]
    },
    {
     "name": "stderr",
     "output_type": "stream",
     "text": [
      " 82%|████████▏ | 410/500 [00:41<00:08, 10.26it/s]"
     ]
    },
    {
     "name": "stdout",
     "output_type": "stream",
     "text": [
      "Dataset Name:  reddit  Best AUC Score (structure type):  84.0504611948401\n",
      "===========================================================================================\n",
      "Dataset Name:  reddit , AUC Score(benchmark/combined):  57.902268238180966\n",
      "Dataset Name:  reddit , AUC Score (contextual):  54.69547699236511\n",
      "Dataset Name:  reddit , AUC Score (structural):  50.12714980342855\n",
      "Dataset Name:  reddit , AUC Score (joint-type):  49.44252277794558\n",
      "Dataset Name:  reddit , AUC Score (structure type):  49.44252277794558\n",
      "===========================================================================================\n",
      "Dataset Name:  reddit  Best AUC Score(benchmark/combined):  58.31157679453489\n",
      "Dataset Name:  reddit  Best AUC Score (contextual):  57.42915931180224\n",
      "Dataset Name:  reddit  Best AUC Score (structural):  84.64586802095081\n",
      "Dataset Name:  reddit  Best AUC Score (joint-type):  53.173684080051274\n",
      "Dataset Name:  reddit  Best AUC Score (structure type):  84.0504611948401\n",
      "===========================================================================================\n",
      "Dataset Name:  reddit , AUC Score(benchmark/combined):  55.81290714705516\n",
      "Dataset Name:  reddit , AUC Score (contextual):  52.8736207890081\n",
      "Dataset Name:  reddit , AUC Score (structural):  50.0400784959648\n",
      "Dataset Name:  reddit , AUC Score (joint-type):  49.134744151902545\n",
      "Dataset Name:  reddit , AUC Score (structure type):  49.134744151902545\n",
      "===========================================================================================\n",
      "Dataset Name:  reddit  Best AUC Score(benchmark/combined):  58.31157679453489\n",
      "Dataset Name:  reddit  Best AUC Score (contextual):  57.42915931180224\n",
      "Dataset Name:  reddit  Best AUC Score (structural):  84.64586802095081\n",
      "Dataset Name:  reddit  Best AUC Score (joint-type):  53.173684080051274\n",
      "Dataset Name:  reddit  Best AUC Score (structure type):  84.0504611948401\n",
      "===========================================================================================\n"
     ]
    },
    {
     "name": "stderr",
     "output_type": "stream",
     "text": [
      " 82%|████████▏ | 412/500 [00:41<00:08, 10.27it/s]"
     ]
    },
    {
     "name": "stdout",
     "output_type": "stream",
     "text": [
      "Dataset Name:  reddit , AUC Score(benchmark/combined):  57.414669593956845\n",
      "Dataset Name:  reddit , AUC Score (contextual):  54.157300755900465\n",
      "Dataset Name:  reddit , AUC Score (structural):  50.055969320397885\n",
      "Dataset Name:  reddit , AUC Score (joint-type):  49.321986478685695\n",
      "Dataset Name:  reddit , AUC Score (structure type):  49.321986478685695\n",
      "===========================================================================================\n",
      "Dataset Name:  reddit  Best AUC Score(benchmark/combined):  58.31157679453489\n",
      "Dataset Name:  reddit  Best AUC Score (contextual):  57.42915931180224\n",
      "Dataset Name:  reddit  Best AUC Score (structural):  84.64586802095081\n",
      "Dataset Name:  reddit  Best AUC Score (joint-type):  53.173684080051274\n",
      "Dataset Name:  reddit  Best AUC Score (structure type):  84.0504611948401\n",
      "===========================================================================================\n",
      "Dataset Name:  reddit , AUC Score(benchmark/combined):  56.54276118396743\n",
      "Dataset Name:  reddit , AUC Score (contextual):  53.70050233154894\n",
      "Dataset Name:  reddit , AUC Score (structural):  50.18000594123877\n",
      "Dataset Name:  reddit , AUC Score (joint-type):  49.094497929001726\n",
      "Dataset Name:  reddit , AUC Score (structure type):  49.094497929001726\n",
      "===========================================================================================\n",
      "Dataset Name:  reddit  Best AUC Score(benchmark/combined):  58.31157679453489\n",
      "Dataset Name:  reddit  Best AUC Score (contextual):  57.42915931180224\n",
      "Dataset Name:  reddit  Best AUC Score (structural):  84.64586802095081\n",
      "Dataset Name:  reddit  Best AUC Score (joint-type):  53.173684080051274\n",
      "Dataset Name:  reddit  Best AUC Score (structure type):  84.0504611948401\n",
      "===========================================================================================\n",
      "Dataset Name:  reddit , AUC Score(benchmark/combined):  56.97948735367409\n",
      "Dataset Name:  reddit , AUC Score (contextual):  53.59139990579702\n",
      "Dataset Name:  reddit , AUC Score (structural):  50.04462394146819\n",
      "Dataset Name:  reddit , AUC Score (joint-type):  49.11372302605051\n"
     ]
    },
    {
     "name": "stderr",
     "output_type": "stream",
     "text": [
      " 83%|████████▎ | 414/500 [00:41<00:08, 10.27it/s]"
     ]
    },
    {
     "name": "stdout",
     "output_type": "stream",
     "text": [
      "Dataset Name:  reddit , AUC Score (structure type):  49.11372302605051\n",
      "===========================================================================================\n",
      "Dataset Name:  reddit  Best AUC Score(benchmark/combined):  58.31157679453489\n",
      "Dataset Name:  reddit  Best AUC Score (contextual):  57.42915931180224\n",
      "Dataset Name:  reddit  Best AUC Score (structural):  84.64586802095081\n",
      "Dataset Name:  reddit  Best AUC Score (joint-type):  53.173684080051274\n",
      "Dataset Name:  reddit  Best AUC Score (structure type):  84.0504611948401\n",
      "===========================================================================================\n",
      "Dataset Name:  reddit , AUC Score(benchmark/combined):  57.12695834581343\n",
      "Dataset Name:  reddit , AUC Score (contextual):  53.83431912548069\n",
      "Dataset Name:  reddit , AUC Score (structural):  50.0855114007465\n",
      "Dataset Name:  reddit , AUC Score (joint-type):  49.21930928273693\n",
      "Dataset Name:  reddit , AUC Score (structure type):  49.21930928273693\n",
      "===========================================================================================\n",
      "Dataset Name:  reddit  Best AUC Score(benchmark/combined):  58.31157679453489\n",
      "Dataset Name:  reddit  Best AUC Score (contextual):  57.42915931180224\n",
      "Dataset Name:  reddit  Best AUC Score (structural):  84.64586802095081\n",
      "Dataset Name:  reddit  Best AUC Score (joint-type):  53.173684080051274\n",
      "Dataset Name:  reddit  Best AUC Score (structure type):  84.0504611948401\n",
      "===========================================================================================\n",
      "Dataset Name:  reddit , AUC Score(benchmark/combined):  56.22938210915169\n",
      "Dataset Name:  reddit , AUC Score (contextual):  53.44028052452137\n",
      "Dataset Name:  reddit , AUC Score (structural):  50.156410072786805\n",
      "Dataset Name:  reddit , AUC Score (joint-type):  48.963666084348596\n"
     ]
    },
    {
     "name": "stderr",
     "output_type": "stream",
     "text": [
      " 83%|████████▎ | 416/500 [00:42<00:08, 10.15it/s]"
     ]
    },
    {
     "name": "stdout",
     "output_type": "stream",
     "text": [
      "Dataset Name:  reddit , AUC Score (structure type):  48.963666084348596\n",
      "===========================================================================================\n",
      "Dataset Name:  reddit  Best AUC Score(benchmark/combined):  58.31157679453489\n",
      "Dataset Name:  reddit  Best AUC Score (contextual):  57.42915931180224\n",
      "Dataset Name:  reddit  Best AUC Score (structural):  84.64586802095081\n",
      "Dataset Name:  reddit  Best AUC Score (joint-type):  53.173684080051274\n",
      "Dataset Name:  reddit  Best AUC Score (structure type):  84.0504611948401\n",
      "===========================================================================================\n",
      "Dataset Name:  reddit , AUC Score(benchmark/combined):  57.49869795285252\n",
      "Dataset Name:  reddit , AUC Score (contextual):  54.09418678598369\n",
      "Dataset Name:  reddit , AUC Score (structural):  50.07135620047172\n",
      "Dataset Name:  reddit , AUC Score (joint-type):  49.304000894472935\n",
      "Dataset Name:  reddit , AUC Score (structure type):  49.304000894472935\n",
      "===========================================================================================\n",
      "Dataset Name:  reddit  Best AUC Score(benchmark/combined):  58.31157679453489\n",
      "Dataset Name:  reddit  Best AUC Score (contextual):  57.42915931180224\n",
      "Dataset Name:  reddit  Best AUC Score (structural):  84.64586802095081\n",
      "Dataset Name:  reddit  Best AUC Score (joint-type):  53.173684080051274\n",
      "Dataset Name:  reddit  Best AUC Score (structure type):  84.0504611948401\n",
      "===========================================================================================\n"
     ]
    },
    {
     "name": "stderr",
     "output_type": "stream",
     "text": [
      " 84%|████████▍ | 419/500 [00:42<00:08,  9.75it/s]"
     ]
    },
    {
     "name": "stdout",
     "output_type": "stream",
     "text": [
      "Dataset Name:  reddit , AUC Score(benchmark/combined):  56.790832044152275\n",
      "Dataset Name:  reddit , AUC Score (contextual):  53.64191637791076\n",
      "Dataset Name:  reddit , AUC Score (structural):  50.12565454746791\n",
      "Dataset Name:  reddit , AUC Score (joint-type):  49.14228241364011\n",
      "Dataset Name:  reddit , AUC Score (structure type):  49.14228241364011\n",
      "===========================================================================================\n",
      "Dataset Name:  reddit  Best AUC Score(benchmark/combined):  58.31157679453489\n",
      "Dataset Name:  reddit  Best AUC Score (contextual):  57.42915931180224\n",
      "Dataset Name:  reddit  Best AUC Score (structural):  84.64586802095081\n",
      "Dataset Name:  reddit  Best AUC Score (joint-type):  53.173684080051274\n",
      "Dataset Name:  reddit  Best AUC Score (structure type):  84.0504611948401\n",
      "===========================================================================================\n",
      "Dataset Name:  reddit , AUC Score(benchmark/combined):  56.031398892693815\n",
      "Dataset Name:  reddit , AUC Score (contextual):  53.35913037803118\n",
      "Dataset Name:  reddit , AUC Score (structural):  50.13106034534777\n",
      "Dataset Name:  reddit , AUC Score (joint-type):  49.11013096844403\n",
      "Dataset Name:  reddit , AUC Score (structure type):  49.11013096844403\n",
      "===========================================================================================\n",
      "Dataset Name:  reddit  Best AUC Score(benchmark/combined):  58.31157679453489\n",
      "Dataset Name:  reddit  Best AUC Score (contextual):  57.42915931180224\n",
      "Dataset Name:  reddit  Best AUC Score (structural):  84.64586802095081\n",
      "Dataset Name:  reddit  Best AUC Score (joint-type):  53.173684080051274\n",
      "Dataset Name:  reddit  Best AUC Score (structure type):  84.0504611948401\n",
      "===========================================================================================\n"
     ]
    },
    {
     "name": "stderr",
     "output_type": "stream",
     "text": [
      " 84%|████████▍ | 421/500 [00:42<00:08,  9.48it/s]"
     ]
    },
    {
     "name": "stdout",
     "output_type": "stream",
     "text": [
      "Dataset Name:  reddit , AUC Score(benchmark/combined):  57.62207077990051\n",
      "Dataset Name:  reddit , AUC Score (contextual):  54.419065629928006\n",
      "Dataset Name:  reddit , AUC Score (structural):  50.08459137074854\n",
      "Dataset Name:  reddit , AUC Score (joint-type):  49.357679389127604\n",
      "Dataset Name:  reddit , AUC Score (structure type):  49.357679389127604\n",
      "===========================================================================================\n",
      "Dataset Name:  reddit  Best AUC Score(benchmark/combined):  58.31157679453489\n",
      "Dataset Name:  reddit  Best AUC Score (contextual):  57.42915931180224\n",
      "Dataset Name:  reddit  Best AUC Score (structural):  84.64586802095081\n",
      "Dataset Name:  reddit  Best AUC Score (joint-type):  53.173684080051274\n",
      "Dataset Name:  reddit  Best AUC Score (structure type):  84.0504611948401\n",
      "===========================================================================================\n",
      "Dataset Name:  reddit , AUC Score(benchmark/combined):  56.85850761723314\n",
      "Dataset Name:  reddit , AUC Score (contextual):  53.632000275222445\n",
      "Dataset Name:  reddit , AUC Score (structural):  50.12146882540516\n",
      "Dataset Name:  reddit , AUC Score (joint-type):  49.02700771988832\n",
      "Dataset Name:  reddit , AUC Score (structure type):  49.02700771988832\n",
      "===========================================================================================\n",
      "Dataset Name:  reddit  Best AUC Score(benchmark/combined):  58.31157679453489\n",
      "Dataset Name:  reddit  Best AUC Score (contextual):  57.42915931180224\n",
      "Dataset Name:  reddit  Best AUC Score (structural):  84.64586802095081\n",
      "Dataset Name:  reddit  Best AUC Score (joint-type):  53.173684080051274\n",
      "Dataset Name:  reddit  Best AUC Score (structure type):  84.0504611948401\n",
      "===========================================================================================\n"
     ]
    },
    {
     "name": "stderr",
     "output_type": "stream",
     "text": [
      " 85%|████████▍ | 423/500 [00:42<00:08,  9.32it/s]"
     ]
    },
    {
     "name": "stdout",
     "output_type": "stream",
     "text": [
      "Dataset Name:  reddit , AUC Score(benchmark/combined):  56.08560368155118\n",
      "Dataset Name:  reddit , AUC Score (contextual):  53.25799624908238\n",
      "Dataset Name:  reddit , AUC Score (structural):  50.126634255087346\n",
      "Dataset Name:  reddit , AUC Score (joint-type):  49.16793274049205\n",
      "Dataset Name:  reddit , AUC Score (structure type):  49.16793274049205\n",
      "===========================================================================================\n",
      "Dataset Name:  reddit  Best AUC Score(benchmark/combined):  58.31157679453489\n",
      "Dataset Name:  reddit  Best AUC Score (contextual):  57.42915931180224\n",
      "Dataset Name:  reddit  Best AUC Score (structural):  84.64586802095081\n",
      "Dataset Name:  reddit  Best AUC Score (joint-type):  53.173684080051274\n",
      "Dataset Name:  reddit  Best AUC Score (structure type):  84.0504611948401\n",
      "===========================================================================================\n",
      "Dataset Name:  reddit , AUC Score(benchmark/combined):  57.60281026033738\n",
      "Dataset Name:  reddit , AUC Score (contextual):  54.33758663309358\n",
      "Dataset Name:  reddit , AUC Score (structural):  50.10370975987715\n",
      "Dataset Name:  reddit , AUC Score (joint-type):  49.30690995521058\n",
      "Dataset Name:  reddit , AUC Score (structure type):  49.30690995521058\n",
      "===========================================================================================\n",
      "Dataset Name:  reddit  Best AUC Score(benchmark/combined):  58.31157679453489\n",
      "Dataset Name:  reddit  Best AUC Score (contextual):  57.42915931180224\n",
      "Dataset Name:  reddit  Best AUC Score (structural):  84.64586802095081\n",
      "Dataset Name:  reddit  Best AUC Score (joint-type):  53.173684080051274\n",
      "Dataset Name:  reddit  Best AUC Score (structure type):  84.0504611948401\n",
      "===========================================================================================\n"
     ]
    },
    {
     "name": "stderr",
     "output_type": "stream",
     "text": [
      " 85%|████████▌ | 425/500 [00:43<00:08,  9.32it/s]"
     ]
    },
    {
     "name": "stdout",
     "output_type": "stream",
     "text": [
      "Dataset Name:  reddit , AUC Score(benchmark/combined):  57.05405914484837\n",
      "Dataset Name:  reddit , AUC Score (contextual):  53.59871050191164\n",
      "Dataset Name:  reddit , AUC Score (structural):  50.07348304459312\n",
      "Dataset Name:  reddit , AUC Score (joint-type):  49.07208551323168\n",
      "Dataset Name:  reddit , AUC Score (structure type):  49.07208551323168\n",
      "===========================================================================================\n",
      "Dataset Name:  reddit  Best AUC Score(benchmark/combined):  58.31157679453489\n",
      "Dataset Name:  reddit  Best AUC Score (contextual):  57.42915931180224\n",
      "Dataset Name:  reddit  Best AUC Score (structural):  84.64586802095081\n",
      "Dataset Name:  reddit  Best AUC Score (joint-type):  53.173684080051274\n",
      "Dataset Name:  reddit  Best AUC Score (structure type):  84.0504611948401\n",
      "===========================================================================================\n",
      "Dataset Name:  reddit , AUC Score(benchmark/combined):  56.273898740874095\n",
      "Dataset Name:  reddit , AUC Score (contextual):  53.19295976946072\n",
      "Dataset Name:  reddit , AUC Score (structural):  50.1039501280748\n",
      "Dataset Name:  reddit , AUC Score (joint-type):  49.17478800536077\n",
      "Dataset Name:  reddit , AUC Score (structure type):  49.17478800536077\n",
      "===========================================================================================\n",
      "Dataset Name:  reddit  Best AUC Score(benchmark/combined):  58.31157679453489\n",
      "Dataset Name:  reddit  Best AUC Score (contextual):  57.42915931180224\n",
      "Dataset Name:  reddit  Best AUC Score (structural):  84.64586802095081\n",
      "Dataset Name:  reddit  Best AUC Score (joint-type):  53.173684080051274\n",
      "Dataset Name:  reddit  Best AUC Score (structure type):  84.0504611948401\n",
      "===========================================================================================\n"
     ]
    },
    {
     "name": "stderr",
     "output_type": "stream",
     "text": [
      " 85%|████████▌ | 427/500 [00:43<00:08,  8.97it/s]"
     ]
    },
    {
     "name": "stdout",
     "output_type": "stream",
     "text": [
      "Dataset Name:  reddit , AUC Score(benchmark/combined):  57.299724048347635\n",
      "Dataset Name:  reddit , AUC Score (contextual):  54.089102253737884\n",
      "Dataset Name:  reddit , AUC Score (structural):  50.13874549682614\n",
      "Dataset Name:  reddit , AUC Score (joint-type):  49.351734786750676\n",
      "Dataset Name:  reddit , AUC Score (structure type):  49.351734786750676\n",
      "===========================================================================================\n",
      "Dataset Name:  reddit  Best AUC Score(benchmark/combined):  58.31157679453489\n",
      "Dataset Name:  reddit  Best AUC Score (contextual):  57.42915931180224\n",
      "Dataset Name:  reddit  Best AUC Score (structural):  84.64586802095081\n",
      "Dataset Name:  reddit  Best AUC Score (joint-type):  53.173684080051274\n",
      "Dataset Name:  reddit  Best AUC Score (structure type):  84.0504611948401\n",
      "===========================================================================================\n",
      "Dataset Name:  reddit , AUC Score(benchmark/combined):  57.11733451907113\n",
      "Dataset Name:  reddit , AUC Score (contextual):  53.676850402942854\n",
      "Dataset Name:  reddit , AUC Score (structural):  50.11824954926819\n",
      "Dataset Name:  reddit , AUC Score (joint-type):  49.02275796159332\n",
      "Dataset Name:  reddit , AUC Score (structure type):  49.02275796159332\n",
      "===========================================================================================\n",
      "Dataset Name:  reddit  Best AUC Score(benchmark/combined):  58.31157679453489\n",
      "Dataset Name:  reddit  Best AUC Score (contextual):  57.42915931180224\n",
      "Dataset Name:  reddit  Best AUC Score (structural):  84.64586802095081\n",
      "Dataset Name:  reddit  Best AUC Score (joint-type):  53.173684080051274\n",
      "Dataset Name:  reddit  Best AUC Score (structure type):  84.0504611948401\n",
      "===========================================================================================\n"
     ]
    },
    {
     "name": "stderr",
     "output_type": "stream",
     "text": [
      " 86%|████████▌ | 429/500 [00:43<00:07,  9.37it/s]"
     ]
    },
    {
     "name": "stdout",
     "output_type": "stream",
     "text": [
      "Dataset Name:  reddit , AUC Score(benchmark/combined):  56.47769742482864\n",
      "Dataset Name:  reddit , AUC Score (contextual):  53.36226710439177\n",
      "Dataset Name:  reddit , AUC Score (structural):  50.10183820335878\n",
      "Dataset Name:  reddit , AUC Score (joint-type):  49.10345277683761\n",
      "Dataset Name:  reddit , AUC Score (structure type):  49.10345277683761\n",
      "===========================================================================================\n",
      "Dataset Name:  reddit  Best AUC Score(benchmark/combined):  58.31157679453489\n",
      "Dataset Name:  reddit  Best AUC Score (contextual):  57.42915931180224\n",
      "Dataset Name:  reddit  Best AUC Score (structural):  84.64586802095081\n",
      "Dataset Name:  reddit  Best AUC Score (joint-type):  53.173684080051274\n",
      "Dataset Name:  reddit  Best AUC Score (structure type):  84.0504611948401\n",
      "===========================================================================================\n",
      "Dataset Name:  reddit , AUC Score(benchmark/combined):  57.100467090115046\n",
      "Dataset Name:  reddit , AUC Score (contextual):  53.82458009605465\n",
      "Dataset Name:  reddit , AUC Score (structural):  50.143183191068516\n",
      "Dataset Name:  reddit , AUC Score (joint-type):  49.19092696840963\n",
      "Dataset Name:  reddit , AUC Score (structure type):  49.19092696840963\n",
      "===========================================================================================\n",
      "Dataset Name:  reddit  Best AUC Score(benchmark/combined):  58.31157679453489\n",
      "Dataset Name:  reddit  Best AUC Score (contextual):  57.42915931180224\n",
      "Dataset Name:  reddit  Best AUC Score (structural):  84.64586802095081\n",
      "Dataset Name:  reddit  Best AUC Score (joint-type):  53.173684080051274\n",
      "Dataset Name:  reddit  Best AUC Score (structure type):  84.0504611948401\n",
      "===========================================================================================\n"
     ]
    },
    {
     "name": "stderr",
     "output_type": "stream",
     "text": [
      " 86%|████████▌ | 431/500 [00:43<00:07,  9.57it/s]"
     ]
    },
    {
     "name": "stdout",
     "output_type": "stream",
     "text": [
      "Dataset Name:  reddit , AUC Score(benchmark/combined):  57.083252277038575\n",
      "Dataset Name:  reddit , AUC Score (contextual):  53.70078058953255\n",
      "Dataset Name:  reddit , AUC Score (structural):  50.13676784675848\n",
      "Dataset Name:  reddit , AUC Score (joint-type):  49.00902213567556\n",
      "Dataset Name:  reddit , AUC Score (structure type):  49.00902213567556\n",
      "===========================================================================================\n",
      "Dataset Name:  reddit  Best AUC Score(benchmark/combined):  58.31157679453489\n",
      "Dataset Name:  reddit  Best AUC Score (contextual):  57.42915931180224\n",
      "Dataset Name:  reddit  Best AUC Score (structural):  84.64586802095081\n",
      "Dataset Name:  reddit  Best AUC Score (joint-type):  53.173684080051274\n",
      "Dataset Name:  reddit  Best AUC Score (structure type):  84.0504611948401\n",
      "===========================================================================================\n",
      "Dataset Name:  reddit , AUC Score(benchmark/combined):  56.743227553582074\n",
      "Dataset Name:  reddit , AUC Score (contextual):  53.39381144126\n",
      "Dataset Name:  reddit , AUC Score (structural):  50.088956125675764\n",
      "Dataset Name:  reddit , AUC Score (joint-type):  48.99918192152821\n",
      "Dataset Name:  reddit , AUC Score (structure type):  48.99918192152821\n",
      "===========================================================================================\n",
      "Dataset Name:  reddit  Best AUC Score(benchmark/combined):  58.31157679453489\n",
      "Dataset Name:  reddit  Best AUC Score (contextual):  57.42915931180224\n",
      "Dataset Name:  reddit  Best AUC Score (structural):  84.64586802095081\n",
      "Dataset Name:  reddit  Best AUC Score (joint-type):  53.173684080051274\n",
      "Dataset Name:  reddit  Best AUC Score (structure type):  84.0504611948401\n",
      "===========================================================================================\n"
     ]
    },
    {
     "name": "stderr",
     "output_type": "stream",
     "text": [
      " 87%|████████▋ | 433/500 [00:44<00:06,  9.73it/s]"
     ]
    },
    {
     "name": "stdout",
     "output_type": "stream",
     "text": [
      "Dataset Name:  reddit , AUC Score(benchmark/combined):  57.05605338702091\n",
      "Dataset Name:  reddit , AUC Score (contextual):  53.7867117141046\n",
      "Dataset Name:  reddit , AUC Score (structural):  50.14139617784726\n",
      "Dataset Name:  reddit , AUC Score (joint-type):  49.14582387888593\n",
      "Dataset Name:  reddit , AUC Score (structure type):  49.14582387888593\n",
      "===========================================================================================\n",
      "Dataset Name:  reddit  Best AUC Score(benchmark/combined):  58.31157679453489\n",
      "Dataset Name:  reddit  Best AUC Score (contextual):  57.42915931180224\n",
      "Dataset Name:  reddit  Best AUC Score (structural):  84.64586802095081\n",
      "Dataset Name:  reddit  Best AUC Score (joint-type):  53.173684080051274\n",
      "Dataset Name:  reddit  Best AUC Score (structure type):  84.0504611948401\n",
      "===========================================================================================\n",
      "Dataset Name:  reddit , AUC Score(benchmark/combined):  56.99739693499131\n",
      "Dataset Name:  reddit , AUC Score (contextual):  53.66344342736935\n",
      "Dataset Name:  reddit , AUC Score (structural):  50.163264710699465\n",
      "Dataset Name:  reddit , AUC Score (joint-type):  49.12449919886996\n",
      "Dataset Name:  reddit , AUC Score (structure type):  49.12449919886996\n",
      "===========================================================================================\n",
      "Dataset Name:  reddit  Best AUC Score(benchmark/combined):  58.31157679453489\n",
      "Dataset Name:  reddit  Best AUC Score (contextual):  57.42915931180224\n",
      "Dataset Name:  reddit  Best AUC Score (structural):  84.64586802095081\n",
      "Dataset Name:  reddit  Best AUC Score (joint-type):  53.173684080051274\n",
      "Dataset Name:  reddit  Best AUC Score (structure type):  84.0504611948401\n",
      "===========================================================================================\n",
      "Dataset Name:  reddit , AUC Score(benchmark/combined):  56.91215916471361\n"
     ]
    },
    {
     "name": "stderr",
     "output_type": "stream",
     "text": [
      " 87%|████████▋ | 435/500 [00:44<00:06,  9.82it/s]"
     ]
    },
    {
     "name": "stdout",
     "output_type": "stream",
     "text": [
      "Dataset Name:  reddit , AUC Score (contextual):  53.51986230783125\n",
      "Dataset Name:  reddit , AUC Score (structural):  50.10515196906312\n",
      "Dataset Name:  reddit , AUC Score (joint-type):  49.04223602044539\n",
      "Dataset Name:  reddit , AUC Score (structure type):  49.04223602044539\n",
      "===========================================================================================\n",
      "Dataset Name:  reddit  Best AUC Score(benchmark/combined):  58.31157679453489\n",
      "Dataset Name:  reddit  Best AUC Score (contextual):  57.42915931180224\n",
      "Dataset Name:  reddit  Best AUC Score (structural):  84.64586802095081\n",
      "Dataset Name:  reddit  Best AUC Score (joint-type):  53.173684080051274\n",
      "Dataset Name:  reddit  Best AUC Score (structure type):  84.0504611948401\n",
      "===========================================================================================\n",
      "Dataset Name:  reddit , AUC Score(benchmark/combined):  57.14427608751815\n",
      "Dataset Name:  reddit , AUC Score (contextual):  53.73751064336787\n",
      "Dataset Name:  reddit , AUC Score (structural):  50.1175516526391\n",
      "Dataset Name:  reddit , AUC Score (joint-type):  49.10456580877201\n",
      "Dataset Name:  reddit , AUC Score (structure type):  49.10456580877201\n",
      "===========================================================================================\n",
      "Dataset Name:  reddit  Best AUC Score(benchmark/combined):  58.31157679453489\n",
      "Dataset Name:  reddit  Best AUC Score (contextual):  57.42915931180224\n",
      "Dataset Name:  reddit  Best AUC Score (structural):  84.64586802095081\n",
      "Dataset Name:  reddit  Best AUC Score (joint-type):  53.173684080051274\n",
      "Dataset Name:  reddit  Best AUC Score (structure type):  84.0504611948401\n",
      "===========================================================================================\n"
     ]
    },
    {
     "name": "stderr",
     "output_type": "stream",
     "text": [
      " 87%|████████▋ | 437/500 [00:44<00:06,  9.75it/s]"
     ]
    },
    {
     "name": "stdout",
     "output_type": "stream",
     "text": [
      "Dataset Name:  reddit , AUC Score(benchmark/combined):  56.866278728666764\n",
      "Dataset Name:  reddit , AUC Score (contextual):  53.6368571418453\n",
      "Dataset Name:  reddit , AUC Score (structural):  50.159960891265385\n",
      "Dataset Name:  reddit , AUC Score (joint-type):  49.063257146297424\n",
      "Dataset Name:  reddit , AUC Score (structure type):  49.063257146297424\n",
      "===========================================================================================\n",
      "Dataset Name:  reddit  Best AUC Score(benchmark/combined):  58.31157679453489\n",
      "Dataset Name:  reddit  Best AUC Score (contextual):  57.42915931180224\n",
      "Dataset Name:  reddit  Best AUC Score (structural):  84.64586802095081\n",
      "Dataset Name:  reddit  Best AUC Score (joint-type):  53.173684080051274\n",
      "Dataset Name:  reddit  Best AUC Score (structure type):  84.0504611948401\n",
      "===========================================================================================\n",
      "Dataset Name:  reddit , AUC Score(benchmark/combined):  56.870640329289266\n",
      "Dataset Name:  reddit , AUC Score (contextual):  53.49013929594659\n",
      "Dataset Name:  reddit , AUC Score (structural):  50.09962350051688\n",
      "Dataset Name:  reddit , AUC Score (joint-type):  49.066570945920304\n",
      "Dataset Name:  reddit , AUC Score (structure type):  49.066570945920304\n",
      "===========================================================================================\n",
      "Dataset Name:  reddit  Best AUC Score(benchmark/combined):  58.31157679453489\n",
      "Dataset Name:  reddit  Best AUC Score (contextual):  57.42915931180224\n",
      "Dataset Name:  reddit  Best AUC Score (structural):  84.64586802095081\n",
      "Dataset Name:  reddit  Best AUC Score (joint-type):  53.173684080051274\n",
      "Dataset Name:  reddit  Best AUC Score (structure type):  84.0504611948401\n",
      "===========================================================================================\n"
     ]
    },
    {
     "name": "stderr",
     "output_type": "stream",
     "text": [
      " 88%|████████▊ | 439/500 [00:44<00:06,  9.85it/s]"
     ]
    },
    {
     "name": "stdout",
     "output_type": "stream",
     "text": [
      "Dataset Name:  reddit , AUC Score(benchmark/combined):  57.22019881693835\n",
      "Dataset Name:  reddit , AUC Score (contextual):  53.677027476205154\n",
      "Dataset Name:  reddit , AUC Score (structural):  50.10393189324602\n",
      "Dataset Name:  reddit , AUC Score (joint-type):  49.07064363095302\n",
      "Dataset Name:  reddit , AUC Score (structure type):  49.07064363095302\n",
      "===========================================================================================\n",
      "Dataset Name:  reddit  Best AUC Score(benchmark/combined):  58.31157679453489\n",
      "Dataset Name:  reddit  Best AUC Score (contextual):  57.42915931180224\n",
      "Dataset Name:  reddit  Best AUC Score (structural):  84.64586802095081\n",
      "Dataset Name:  reddit  Best AUC Score (joint-type):  53.173684080051274\n",
      "Dataset Name:  reddit  Best AUC Score (structure type):  84.0504611948401\n",
      "===========================================================================================\n",
      "Dataset Name:  reddit , AUC Score(benchmark/combined):  56.941249368275535\n",
      "Dataset Name:  reddit , AUC Score (contextual):  53.619807516304654\n",
      "Dataset Name:  reddit , AUC Score (structural):  50.16089418295701\n",
      "Dataset Name:  reddit , AUC Score (joint-type):  49.055288849494296\n",
      "Dataset Name:  reddit , AUC Score (structure type):  49.055288849494296\n",
      "===========================================================================================\n",
      "Dataset Name:  reddit  Best AUC Score(benchmark/combined):  58.31157679453489\n",
      "Dataset Name:  reddit  Best AUC Score (contextual):  57.42915931180224\n",
      "Dataset Name:  reddit  Best AUC Score (structural):  84.64586802095081\n",
      "Dataset Name:  reddit  Best AUC Score (joint-type):  53.173684080051274\n",
      "Dataset Name:  reddit  Best AUC Score (structure type):  84.0504611948401\n",
      "===========================================================================================\n",
      "Dataset Name:  reddit , AUC Score(benchmark/combined):  56.789455373749284\n"
     ]
    },
    {
     "name": "stderr",
     "output_type": "stream",
     "text": [
      " 88%|████████▊ | 440/500 [00:44<00:06,  9.87it/s]"
     ]
    },
    {
     "name": "stdout",
     "output_type": "stream",
     "text": [
      "Dataset Name:  reddit , AUC Score (contextual):  53.38690558403063\n",
      "Dataset Name:  reddit , AUC Score (structural):  50.13260035952452\n",
      "Dataset Name:  reddit , AUC Score (joint-type):  48.985800242135035\n",
      "Dataset Name:  reddit , AUC Score (structure type):  48.985800242135035\n",
      "===========================================================================================\n",
      "Dataset Name:  reddit  Best AUC Score(benchmark/combined):  58.31157679453489\n",
      "Dataset Name:  reddit  Best AUC Score (contextual):  57.42915931180224\n",
      "Dataset Name:  reddit  Best AUC Score (structural):  84.64586802095081\n",
      "Dataset Name:  reddit  Best AUC Score (joint-type):  53.173684080051274\n",
      "Dataset Name:  reddit  Best AUC Score (structure type):  84.0504611948401\n",
      "===========================================================================================\n",
      "Dataset Name:  reddit , AUC Score(benchmark/combined):  57.191777649460086\n",
      "Dataset Name:  reddit , AUC Score (contextual):  53.644850734828744\n",
      "Dataset Name:  reddit , AUC Score (structural):  50.114087035169355\n",
      "Dataset Name:  reddit , AUC Score (joint-type):  49.05711017447787\n",
      "Dataset Name:  reddit , AUC Score (structure type):  49.05711017447787\n",
      "===========================================================================================\n",
      "Dataset Name:  reddit  Best AUC Score(benchmark/combined):  58.31157679453489\n",
      "Dataset Name:  reddit  Best AUC Score (contextual):  57.42915931180224\n",
      "Dataset Name:  reddit  Best AUC Score (structural):  84.64586802095081\n",
      "Dataset Name:  reddit  Best AUC Score (joint-type):  53.173684080051274\n",
      "Dataset Name:  reddit  Best AUC Score (structure type):  84.0504611948401\n",
      "===========================================================================================\n",
      "Dataset Name:  reddit , AUC Score(benchmark/combined):  57.123857620887094\n",
      "Dataset Name:  reddit , AUC Score (contextual):  53.68431277613943\n",
      "Dataset Name:  reddit , AUC Score (structural):  50.13396797168363\n"
     ]
    },
    {
     "name": "stderr",
     "output_type": "stream",
     "text": [
      " 89%|████████▊ | 443/500 [00:45<00:05,  9.97it/s]"
     ]
    },
    {
     "name": "stdout",
     "output_type": "stream",
     "text": [
      "Dataset Name:  reddit , AUC Score (joint-type):  49.074766908346376\n",
      "Dataset Name:  reddit , AUC Score (structure type):  49.074766908346376\n",
      "===========================================================================================\n",
      "Dataset Name:  reddit  Best AUC Score(benchmark/combined):  58.31157679453489\n",
      "Dataset Name:  reddit  Best AUC Score (contextual):  57.42915931180224\n",
      "Dataset Name:  reddit  Best AUC Score (structural):  84.64586802095081\n",
      "Dataset Name:  reddit  Best AUC Score (joint-type):  53.173684080051274\n",
      "Dataset Name:  reddit  Best AUC Score (structure type):  84.0504611948401\n",
      "===========================================================================================\n",
      "Dataset Name:  reddit , AUC Score(benchmark/combined):  56.72261609577303\n",
      "Dataset Name:  reddit , AUC Score (contextual):  53.43322289021003\n",
      "Dataset Name:  reddit , AUC Score (structural):  50.15158944713989\n",
      "Dataset Name:  reddit , AUC Score (joint-type):  49.00937628220014\n",
      "Dataset Name:  reddit , AUC Score (structure type):  49.00937628220014\n",
      "===========================================================================================\n",
      "Dataset Name:  reddit  Best AUC Score(benchmark/combined):  58.31157679453489\n",
      "Dataset Name:  reddit  Best AUC Score (contextual):  57.42915931180224\n",
      "Dataset Name:  reddit  Best AUC Score (structural):  84.64586802095081\n",
      "Dataset Name:  reddit  Best AUC Score (joint-type):  53.173684080051274\n",
      "Dataset Name:  reddit  Best AUC Score (structure type):  84.0504611948401\n",
      "===========================================================================================\n",
      "Dataset Name:  reddit , AUC Score(benchmark/combined):  57.12565887188165\n",
      "Dataset Name:  reddit , AUC Score (contextual):  53.646798540713945\n",
      "Dataset Name:  reddit , AUC Score (structural):  50.11409200830448\n",
      "Dataset Name:  reddit , AUC Score (joint-type):  49.04777588393708\n"
     ]
    },
    {
     "name": "stderr",
     "output_type": "stream",
     "text": [
      " 89%|████████▉ | 445/500 [00:45<00:05, 10.03it/s]"
     ]
    },
    {
     "name": "stdout",
     "output_type": "stream",
     "text": [
      "Dataset Name:  reddit , AUC Score (structure type):  49.04777588393708\n",
      "===========================================================================================\n",
      "Dataset Name:  reddit  Best AUC Score(benchmark/combined):  58.31157679453489\n",
      "Dataset Name:  reddit  Best AUC Score (contextual):  57.42915931180224\n",
      "Dataset Name:  reddit  Best AUC Score (structural):  84.64586802095081\n",
      "Dataset Name:  reddit  Best AUC Score (joint-type):  53.173684080051274\n",
      "Dataset Name:  reddit  Best AUC Score (structure type):  84.0504611948401\n",
      "===========================================================================================\n",
      "Dataset Name:  reddit , AUC Score(benchmark/combined):  57.19989614501409\n",
      "Dataset Name:  reddit , AUC Score (contextual):  53.67409311928717\n",
      "Dataset Name:  reddit , AUC Score (structural):  50.133977917953885\n",
      "Dataset Name:  reddit , AUC Score (joint-type):  49.05207623459273\n",
      "Dataset Name:  reddit , AUC Score (structure type):  49.05207623459273\n",
      "===========================================================================================\n",
      "Dataset Name:  reddit  Best AUC Score(benchmark/combined):  58.31157679453489\n",
      "Dataset Name:  reddit  Best AUC Score (contextual):  57.42915931180224\n",
      "Dataset Name:  reddit  Best AUC Score (structural):  84.64586802095081\n",
      "Dataset Name:  reddit  Best AUC Score (joint-type):  53.173684080051274\n",
      "Dataset Name:  reddit  Best AUC Score (structure type):  84.0504611948401\n",
      "===========================================================================================\n",
      "Dataset Name:  reddit , AUC Score(benchmark/combined):  56.85522676720735\n",
      "Dataset Name:  reddit , AUC Score (contextual):  53.47911016132386\n",
      "Dataset Name:  reddit , AUC Score (structural):  50.14511110978495\n",
      "Dataset Name:  reddit , AUC Score (joint-type):  49.041527727396215\n",
      "Dataset Name:  reddit , AUC Score (structure type):  49.041527727396215\n",
      "===========================================================================================\n",
      "Dataset Name:  reddit  Best AUC Score(benchmark/combined):  58.31157679453489\n",
      "Dataset Name:  reddit  Best AUC Score (contextual):  57.42915931180224\n"
     ]
    },
    {
     "name": "stderr",
     "output_type": "stream",
     "text": [
      " 89%|████████▉ | 447/500 [00:45<00:05, 10.06it/s]"
     ]
    },
    {
     "name": "stdout",
     "output_type": "stream",
     "text": [
      "Dataset Name:  reddit  Best AUC Score (structural):  84.64586802095081\n",
      "Dataset Name:  reddit  Best AUC Score (joint-type):  53.173684080051274\n",
      "Dataset Name:  reddit  Best AUC Score (structure type):  84.0504611948401\n",
      "===========================================================================================\n",
      "Dataset Name:  reddit , AUC Score(benchmark/combined):  57.06982009105066\n",
      "Dataset Name:  reddit , AUC Score (contextual):  53.68997912053275\n",
      "Dataset Name:  reddit , AUC Score (structural):  50.14833701676875\n",
      "Dataset Name:  reddit , AUC Score (joint-type):  49.12687703982075\n",
      "Dataset Name:  reddit , AUC Score (structure type):  49.12687703982075\n",
      "===========================================================================================\n",
      "Dataset Name:  reddit  Best AUC Score(benchmark/combined):  58.31157679453489\n",
      "Dataset Name:  reddit  Best AUC Score (contextual):  57.42915931180224\n",
      "Dataset Name:  reddit  Best AUC Score (structural):  84.64586802095081\n",
      "Dataset Name:  reddit  Best AUC Score (joint-type):  53.173684080051274\n",
      "Dataset Name:  reddit  Best AUC Score (structure type):  84.0504611948401\n",
      "===========================================================================================\n",
      "Dataset Name:  reddit , AUC Score(benchmark/combined):  57.197310063229054\n",
      "Dataset Name:  reddit , AUC Score (contextual):  53.61626605105882\n",
      "Dataset Name:  reddit , AUC Score (structural):  50.110408572889256\n",
      "Dataset Name:  reddit , AUC Score (joint-type):  49.03851748193726\n",
      "Dataset Name:  reddit , AUC Score (structure type):  49.03851748193726\n",
      "===========================================================================================\n",
      "Dataset Name:  reddit  Best AUC Score(benchmark/combined):  58.31157679453489\n",
      "Dataset Name:  reddit  Best AUC Score (contextual):  57.42915931180224\n",
      "Dataset Name:  reddit  Best AUC Score (structural):  84.64586802095081\n",
      "Dataset Name:  reddit  Best AUC Score (joint-type):  53.173684080051274\n",
      "Dataset Name:  reddit  Best AUC Score (structure type):  84.0504611948401\n",
      "===========================================================================================\n"
     ]
    },
    {
     "name": "stderr",
     "output_type": "stream",
     "text": [
      " 90%|████████▉ | 449/500 [00:45<00:05, 10.09it/s]"
     ]
    },
    {
     "name": "stdout",
     "output_type": "stream",
     "text": [
      "Dataset Name:  reddit , AUC Score(benchmark/combined):  56.994090352808456\n",
      "Dataset Name:  reddit , AUC Score (contextual):  53.54551263468319\n",
      "Dataset Name:  reddit , AUC Score (structural):  50.14121382955938\n",
      "Dataset Name:  reddit , AUC Score (joint-type):  49.067582793133404\n",
      "Dataset Name:  reddit , AUC Score (structure type):  49.067582793133404\n",
      "===========================================================================================\n",
      "Dataset Name:  reddit  Best AUC Score(benchmark/combined):  58.31157679453489\n",
      "Dataset Name:  reddit  Best AUC Score (contextual):  57.42915931180224\n",
      "Dataset Name:  reddit  Best AUC Score (structural):  84.64586802095081\n",
      "Dataset Name:  reddit  Best AUC Score (joint-type):  53.173684080051274\n",
      "Dataset Name:  reddit  Best AUC Score (structure type):  84.0504611948401\n",
      "===========================================================================================\n",
      "Dataset Name:  reddit , AUC Score(benchmark/combined):  57.03623962608088\n",
      "Dataset Name:  reddit , AUC Score (contextual):  53.59683858456741\n",
      "Dataset Name:  reddit , AUC Score (structural):  50.159176793627495\n",
      "Dataset Name:  reddit , AUC Score (joint-type):  49.09578803419841\n",
      "Dataset Name:  reddit , AUC Score (structure type):  49.09578803419841\n",
      "===========================================================================================\n",
      "Dataset Name:  reddit  Best AUC Score(benchmark/combined):  58.31157679453489\n",
      "Dataset Name:  reddit  Best AUC Score (contextual):  57.42915931180224\n",
      "Dataset Name:  reddit  Best AUC Score (structural):  84.64586802095081\n",
      "Dataset Name:  reddit  Best AUC Score (joint-type):  53.173684080051274\n",
      "Dataset Name:  reddit  Best AUC Score (structure type):  84.0504611948401\n",
      "===========================================================================================\n",
      "Dataset Name:  reddit , AUC Score(benchmark/combined):  57.157836934291396\n",
      "Dataset Name:  reddit , AUC Score (contextual):  53.57971307048578\n",
      "Dataset Name:  reddit , AUC Score (structural):  50.139014046122846\n"
     ]
    },
    {
     "name": "stderr",
     "output_type": "stream",
     "text": [
      " 90%|█████████ | 451/500 [00:45<00:04, 10.10it/s]"
     ]
    },
    {
     "name": "stdout",
     "output_type": "stream",
     "text": [
      "Dataset Name:  reddit , AUC Score (joint-type):  49.06176467165811\n",
      "Dataset Name:  reddit , AUC Score (structure type):  49.06176467165811\n",
      "===========================================================================================\n",
      "Dataset Name:  reddit  Best AUC Score(benchmark/combined):  58.31157679453489\n",
      "Dataset Name:  reddit  Best AUC Score (contextual):  57.42915931180224\n",
      "Dataset Name:  reddit  Best AUC Score (structural):  84.64586802095081\n",
      "Dataset Name:  reddit  Best AUC Score (joint-type):  53.173684080051274\n",
      "Dataset Name:  reddit  Best AUC Score (structure type):  84.0504611948401\n",
      "===========================================================================================\n",
      "Dataset Name:  reddit , AUC Score(benchmark/combined):  57.021546564396786\n",
      "Dataset Name:  reddit , AUC Score (contextual):  53.55990616128945\n",
      "Dataset Name:  reddit , AUC Score (structural):  50.13612299690406\n",
      "Dataset Name:  reddit , AUC Score (joint-type):  49.01693984011802\n",
      "Dataset Name:  reddit , AUC Score (structure type):  49.01693984011802\n",
      "===========================================================================================\n",
      "Dataset Name:  reddit  Best AUC Score(benchmark/combined):  58.31157679453489\n",
      "Dataset Name:  reddit  Best AUC Score (contextual):  57.42915931180224\n",
      "Dataset Name:  reddit  Best AUC Score (structural):  84.64586802095081\n",
      "Dataset Name:  reddit  Best AUC Score (joint-type):  53.173684080051274\n",
      "Dataset Name:  reddit  Best AUC Score (structure type):  84.0504611948401\n",
      "===========================================================================================\n",
      "Dataset Name:  reddit , AUC Score(benchmark/combined):  57.152291654443886\n",
      "Dataset Name:  reddit , AUC Score (contextual):  53.626738669714356\n",
      "Dataset Name:  reddit , AUC Score (structural):  50.16689675705174\n",
      "Dataset Name:  reddit , AUC Score (joint-type):  49.12151424959135\n",
      "Dataset Name:  reddit , AUC Score (structure type):  49.12151424959135\n",
      "===========================================================================================\n",
      "Dataset Name:  reddit  Best AUC Score(benchmark/combined):  58.31157679453489\n",
      "Dataset Name:  reddit  Best AUC Score (contextual):  57.42915931180224\n"
     ]
    },
    {
     "name": "stderr",
     "output_type": "stream",
     "text": [
      " 91%|█████████ | 453/500 [00:46<00:04, 10.14it/s]"
     ]
    },
    {
     "name": "stdout",
     "output_type": "stream",
     "text": [
      "Dataset Name:  reddit  Best AUC Score (structural):  84.64586802095081\n",
      "Dataset Name:  reddit  Best AUC Score (joint-type):  53.173684080051274\n",
      "Dataset Name:  reddit  Best AUC Score (structure type):  84.0504611948401\n",
      "===========================================================================================\n",
      "Dataset Name:  reddit , AUC Score(benchmark/combined):  57.00286501836761\n",
      "Dataset Name:  reddit , AUC Score (contextual):  53.52064648942139\n",
      "Dataset Name:  reddit , AUC Score (structural):  50.09664625028927\n",
      "Dataset Name:  reddit , AUC Score (joint-type):  49.04274194405193\n",
      "Dataset Name:  reddit , AUC Score (structure type):  49.04274194405193\n",
      "===========================================================================================\n",
      "Dataset Name:  reddit  Best AUC Score(benchmark/combined):  58.31157679453489\n",
      "Dataset Name:  reddit  Best AUC Score (contextual):  57.42915931180224\n",
      "Dataset Name:  reddit  Best AUC Score (structural):  84.64586802095081\n",
      "Dataset Name:  reddit  Best AUC Score (joint-type):  53.173684080051274\n",
      "Dataset Name:  reddit  Best AUC Score (structure type):  84.0504611948401\n",
      "===========================================================================================\n",
      "Dataset Name:  reddit , AUC Score(benchmark/combined):  57.16221140099243\n",
      "Dataset Name:  reddit , AUC Score (contextual):  53.55616232660101\n",
      "Dataset Name:  reddit , AUC Score (structural):  50.16973310178416\n",
      "Dataset Name:  reddit , AUC Score (joint-type):  49.08594782005107\n",
      "Dataset Name:  reddit , AUC Score (structure type):  49.08594782005107\n",
      "===========================================================================================\n",
      "Dataset Name:  reddit  Best AUC Score(benchmark/combined):  58.31157679453489\n",
      "Dataset Name:  reddit  Best AUC Score (contextual):  57.42915931180224\n",
      "Dataset Name:  reddit  Best AUC Score (structural):  84.64586802095081\n",
      "Dataset Name:  reddit  Best AUC Score (joint-type):  53.173684080051274\n",
      "Dataset Name:  reddit  Best AUC Score (structure type):  84.0504611948401\n",
      "===========================================================================================\n"
     ]
    },
    {
     "name": "stderr",
     "output_type": "stream",
     "text": [
      " 91%|█████████▏| 457/500 [00:46<00:04, 10.12it/s]"
     ]
    },
    {
     "name": "stdout",
     "output_type": "stream",
     "text": [
      "Dataset Name:  reddit , AUC Score(benchmark/combined):  57.14185726475405\n",
      "Dataset Name:  reddit , AUC Score (contextual):  53.588389660338066\n",
      "Dataset Name:  reddit , AUC Score (structural):  50.116727769920224\n",
      "Dataset Name:  reddit , AUC Score (joint-type):  49.051039091199314\n",
      "Dataset Name:  reddit , AUC Score (structure type):  49.051039091199314\n",
      "===========================================================================================\n",
      "Dataset Name:  reddit  Best AUC Score(benchmark/combined):  58.31157679453489\n",
      "Dataset Name:  reddit  Best AUC Score (contextual):  57.42915931180224\n",
      "Dataset Name:  reddit  Best AUC Score (structural):  84.64586802095081\n",
      "Dataset Name:  reddit  Best AUC Score (joint-type):  53.173684080051274\n",
      "Dataset Name:  reddit  Best AUC Score (structure type):  84.0504611948401\n",
      "===========================================================================================\n",
      "Dataset Name:  reddit , AUC Score(benchmark/combined):  57.12203063773548\n",
      "Dataset Name:  reddit , AUC Score (contextual):  53.51305763532318\n",
      "Dataset Name:  reddit , AUC Score (structural):  50.20493295219225\n",
      "Dataset Name:  reddit , AUC Score (joint-type):  49.250701842523185\n",
      "Dataset Name:  reddit , AUC Score (structure type):  49.250701842523185\n",
      "===========================================================================================\n",
      "Dataset Name:  reddit  Best AUC Score(benchmark/combined):  58.31157679453489\n",
      "Dataset Name:  reddit  Best AUC Score (contextual):  57.42915931180224\n",
      "Dataset Name:  reddit  Best AUC Score (structural):  84.64586802095081\n",
      "Dataset Name:  reddit  Best AUC Score (joint-type):  53.173684080051274\n",
      "Dataset Name:  reddit  Best AUC Score (structure type):  84.0504611948401\n",
      "===========================================================================================\n",
      "Dataset Name:  reddit , AUC Score(benchmark/combined):  56.86168553863067\n",
      "Dataset Name:  reddit , AUC Score (contextual):  53.21438563419802\n"
     ]
    },
    {
     "name": "stderr",
     "output_type": "stream",
     "text": [
      " 92%|█████████▏| 459/500 [00:46<00:04, 10.14it/s]"
     ]
    },
    {
     "name": "stdout",
     "output_type": "stream",
     "text": [
      "Dataset Name:  reddit , AUC Score (structural):  49.9988827023088\n",
      "Dataset Name:  reddit , AUC Score (joint-type):  48.71525759353389\n",
      "Dataset Name:  reddit , AUC Score (structure type):  48.71525759353389\n",
      "===========================================================================================\n",
      "Dataset Name:  reddit  Best AUC Score(benchmark/combined):  58.31157679453489\n",
      "Dataset Name:  reddit  Best AUC Score (contextual):  57.42915931180224\n",
      "Dataset Name:  reddit  Best AUC Score (structural):  84.64586802095081\n",
      "Dataset Name:  reddit  Best AUC Score (joint-type):  53.173684080051274\n",
      "Dataset Name:  reddit  Best AUC Score (structure type):  84.0504611948401\n",
      "===========================================================================================\n",
      "Dataset Name:  reddit , AUC Score(benchmark/combined):  57.56750574084424\n",
      "Dataset Name:  reddit , AUC Score (contextual):  54.06413492375479\n",
      "Dataset Name:  reddit , AUC Score (structural):  50.269938459110556\n",
      "Dataset Name:  reddit , AUC Score (joint-type):  50.101032944227484\n",
      "Dataset Name:  reddit , AUC Score (structure type):  50.101032944227484\n",
      "===========================================================================================\n",
      "Dataset Name:  reddit  Best AUC Score(benchmark/combined):  58.31157679453489\n",
      "Dataset Name:  reddit  Best AUC Score (contextual):  57.42915931180224\n",
      "Dataset Name:  reddit  Best AUC Score (structural):  84.64586802095081\n",
      "Dataset Name:  reddit  Best AUC Score (joint-type):  53.173684080051274\n",
      "Dataset Name:  reddit  Best AUC Score (structure type):  84.0504611948401\n",
      "===========================================================================================\n",
      "Dataset Name:  reddit , AUC Score(benchmark/combined):  56.22737500090062\n",
      "Dataset Name:  reddit , AUC Score (contextual):  52.14233351192436\n",
      "Dataset Name:  reddit , AUC Score (structural):  49.778650728763225\n",
      "Dataset Name:  reddit , AUC Score (joint-type):  48.331109799082554\n",
      "Dataset Name:  reddit , AUC Score (structure type):  48.331109799082554\n",
      "===========================================================================================\n",
      "Dataset Name:  reddit  Best AUC Score(benchmark/combined):  58.31157679453489\n"
     ]
    },
    {
     "name": "stderr",
     "output_type": "stream",
     "text": [
      " 92%|█████████▏| 461/500 [00:46<00:03, 10.15it/s]"
     ]
    },
    {
     "name": "stdout",
     "output_type": "stream",
     "text": [
      "Dataset Name:  reddit  Best AUC Score (contextual):  57.42915931180224\n",
      "Dataset Name:  reddit  Best AUC Score (structural):  84.64586802095081\n",
      "Dataset Name:  reddit  Best AUC Score (joint-type):  53.173684080051274\n",
      "Dataset Name:  reddit  Best AUC Score (structure type):  84.0504611948401\n",
      "===========================================================================================\n",
      "Dataset Name:  reddit , AUC Score(benchmark/combined):  57.932992433716535\n",
      "Dataset Name:  reddit , AUC Score (contextual):  54.49897626358216\n",
      "Dataset Name:  reddit , AUC Score (structural):  50.38338064442548\n",
      "Dataset Name:  reddit , AUC Score (joint-type):  50.795767240738186\n",
      "Dataset Name:  reddit , AUC Score (structure type):  50.795767240738186\n",
      "===========================================================================================\n",
      "Dataset Name:  reddit  Best AUC Score(benchmark/combined):  58.31157679453489\n",
      "Dataset Name:  reddit  Best AUC Score (contextual):  57.42915931180224\n",
      "Dataset Name:  reddit  Best AUC Score (structural):  84.64586802095081\n",
      "Dataset Name:  reddit  Best AUC Score (joint-type):  53.173684080051274\n",
      "Dataset Name:  reddit  Best AUC Score (structure type):  84.0504611948401\n",
      "===========================================================================================\n",
      "Dataset Name:  reddit , AUC Score(benchmark/combined):  56.70321404934604\n",
      "Dataset Name:  reddit , AUC Score (contextual):  52.812606402058506\n",
      "Dataset Name:  reddit , AUC Score (structural):  49.893012944076105\n",
      "Dataset Name:  reddit , AUC Score (joint-type):  48.49978472950542\n",
      "Dataset Name:  reddit , AUC Score (structure type):  48.49978472950542\n",
      "===========================================================================================\n",
      "Dataset Name:  reddit  Best AUC Score(benchmark/combined):  58.31157679453489\n",
      "Dataset Name:  reddit  Best AUC Score (contextual):  57.42915931180224\n",
      "Dataset Name:  reddit  Best AUC Score (structural):  84.64586802095081\n",
      "Dataset Name:  reddit  Best AUC Score (joint-type):  53.173684080051274\n"
     ]
    },
    {
     "name": "stderr",
     "output_type": "stream",
     "text": [
      " 93%|█████████▎| 463/500 [00:46<00:03, 10.13it/s]"
     ]
    },
    {
     "name": "stdout",
     "output_type": "stream",
     "text": [
      "Dataset Name:  reddit  Best AUC Score (structure type):  84.0504611948401\n",
      "===========================================================================================\n",
      "Dataset Name:  reddit , AUC Score(benchmark/combined):  56.84676088753298\n",
      "Dataset Name:  reddit , AUC Score (contextual):  53.308360944114156\n",
      "Dataset Name:  reddit , AUC Score (structural):  50.10160612371967\n",
      "Dataset Name:  reddit , AUC Score (joint-type):  49.0770941569365\n",
      "Dataset Name:  reddit , AUC Score (structure type):  49.0770941569365\n",
      "===========================================================================================\n",
      "Dataset Name:  reddit  Best AUC Score(benchmark/combined):  58.31157679453489\n",
      "Dataset Name:  reddit  Best AUC Score (contextual):  57.42915931180224\n",
      "Dataset Name:  reddit  Best AUC Score (structural):  84.64586802095081\n",
      "Dataset Name:  reddit  Best AUC Score (joint-type):  53.173684080051274\n",
      "Dataset Name:  reddit  Best AUC Score (structure type):  84.0504611948401\n",
      "===========================================================================================\n",
      "Dataset Name:  reddit , AUC Score(benchmark/combined):  57.727984338379926\n",
      "Dataset Name:  reddit , AUC Score (contextual):  54.257321852914856\n",
      "Dataset Name:  reddit , AUC Score (structural):  50.29862018708271\n",
      "Dataset Name:  reddit , AUC Score (joint-type):  50.22971461355278\n",
      "Dataset Name:  reddit , AUC Score (structure type):  50.22971461355278\n",
      "===========================================================================================\n",
      "Dataset Name:  reddit  Best AUC Score(benchmark/combined):  58.31157679453489\n",
      "Dataset Name:  reddit  Best AUC Score (contextual):  57.42915931180224\n",
      "Dataset Name:  reddit  Best AUC Score (structural):  84.64586802095081\n",
      "Dataset Name:  reddit  Best AUC Score (joint-type):  53.173684080051274\n",
      "Dataset Name:  reddit  Best AUC Score (structure type):  84.0504611948401\n",
      "===========================================================================================\n"
     ]
    },
    {
     "name": "stderr",
     "output_type": "stream",
     "text": [
      " 93%|█████████▎| 465/500 [00:47<00:03, 10.16it/s]"
     ]
    },
    {
     "name": "stdout",
     "output_type": "stream",
     "text": [
      "Dataset Name:  reddit , AUC Score(benchmark/combined):  56.548795374799155\n",
      "Dataset Name:  reddit , AUC Score (contextual):  52.63836631196362\n",
      "Dataset Name:  reddit , AUC Score (structural):  49.81204533112128\n",
      "Dataset Name:  reddit , AUC Score (joint-type):  48.36740981785233\n",
      "Dataset Name:  reddit , AUC Score (structure type):  48.36740981785233\n",
      "===========================================================================================\n",
      "Dataset Name:  reddit  Best AUC Score(benchmark/combined):  58.31157679453489\n",
      "Dataset Name:  reddit  Best AUC Score (contextual):  57.42915931180224\n",
      "Dataset Name:  reddit  Best AUC Score (structural):  84.64586802095081\n",
      "Dataset Name:  reddit  Best AUC Score (joint-type):  53.173684080051274\n",
      "Dataset Name:  reddit  Best AUC Score (structure type):  84.0504611948401\n",
      "===========================================================================================\n",
      "Dataset Name:  reddit , AUC Score(benchmark/combined):  57.09669732910503\n",
      "Dataset Name:  reddit , AUC Score (contextual):  53.44964011124248\n",
      "Dataset Name:  reddit , AUC Score (structural):  50.19780976498289\n",
      "Dataset Name:  reddit , AUC Score (joint-type):  49.15533524268903\n",
      "Dataset Name:  reddit , AUC Score (structure type):  49.15533524268903\n",
      "===========================================================================================\n",
      "Dataset Name:  reddit  Best AUC Score(benchmark/combined):  58.31157679453489\n",
      "Dataset Name:  reddit  Best AUC Score (contextual):  57.42915931180224\n",
      "Dataset Name:  reddit  Best AUC Score (structural):  84.64586802095081\n",
      "Dataset Name:  reddit  Best AUC Score (joint-type):  53.173684080051274\n",
      "Dataset Name:  reddit  Best AUC Score (structure type):  84.0504611948401\n",
      "===========================================================================================\n",
      "Dataset Name:  reddit , AUC Score(benchmark/combined):  57.561149898049194\n",
      "Dataset Name:  reddit , AUC Score (contextual):  53.945344060937494\n",
      "Dataset Name:  reddit , AUC Score (structural):  50.26785305778186\n"
     ]
    },
    {
     "name": "stderr",
     "output_type": "stream",
     "text": [
      " 93%|█████████▎| 467/500 [00:47<00:03, 10.19it/s]"
     ]
    },
    {
     "name": "stdout",
     "output_type": "stream",
     "text": [
      "Dataset Name:  reddit , AUC Score (joint-type):  50.054589157146445\n",
      "Dataset Name:  reddit , AUC Score (structure type):  50.054589157146445\n",
      "===========================================================================================\n",
      "Dataset Name:  reddit  Best AUC Score(benchmark/combined):  58.31157679453489\n",
      "Dataset Name:  reddit  Best AUC Score (contextual):  57.42915931180224\n",
      "Dataset Name:  reddit  Best AUC Score (structural):  84.64586802095081\n",
      "Dataset Name:  reddit  Best AUC Score (joint-type):  53.173684080051274\n",
      "Dataset Name:  reddit  Best AUC Score (structure type):  84.0504611948401\n",
      "===========================================================================================\n",
      "Dataset Name:  reddit , AUC Score(benchmark/combined):  56.584395814098556\n",
      "Dataset Name:  reddit , AUC Score (contextual):  52.640238229307855\n",
      "Dataset Name:  reddit , AUC Score (structural):  49.88442433971685\n",
      "Dataset Name:  reddit , AUC Score (joint-type):  48.58146609578247\n",
      "Dataset Name:  reddit , AUC Score (structure type):  48.58146609578247\n",
      "===========================================================================================\n",
      "Dataset Name:  reddit  Best AUC Score(benchmark/combined):  58.31157679453489\n",
      "Dataset Name:  reddit  Best AUC Score (contextual):  57.42915931180224\n",
      "Dataset Name:  reddit  Best AUC Score (structural):  84.64586802095081\n",
      "Dataset Name:  reddit  Best AUC Score (joint-type):  53.173684080051274\n",
      "Dataset Name:  reddit  Best AUC Score (structure type):  84.0504611948401\n",
      "===========================================================================================\n",
      "Dataset Name:  reddit , AUC Score(benchmark/combined):  57.21211891961995\n",
      "Dataset Name:  reddit , AUC Score (contextual):  53.42477396598069\n",
      "Dataset Name:  reddit , AUC Score (structural):  50.19317480304727\n",
      "Dataset Name:  reddit , AUC Score (joint-type):  49.216678479982875\n"
     ]
    },
    {
     "name": "stderr",
     "output_type": "stream",
     "text": [
      " 94%|█████████▍| 469/500 [00:47<00:03, 10.14it/s]"
     ]
    },
    {
     "name": "stdout",
     "output_type": "stream",
     "text": [
      "Dataset Name:  reddit , AUC Score (structure type):  49.216678479982875\n",
      "===========================================================================================\n",
      "Dataset Name:  reddit  Best AUC Score(benchmark/combined):  58.31157679453489\n",
      "Dataset Name:  reddit  Best AUC Score (contextual):  57.42915931180224\n",
      "Dataset Name:  reddit  Best AUC Score (structural):  84.64586802095081\n",
      "Dataset Name:  reddit  Best AUC Score (joint-type):  53.173684080051274\n",
      "Dataset Name:  reddit  Best AUC Score (structure type):  84.0504611948401\n",
      "===========================================================================================\n",
      "Dataset Name:  reddit , AUC Score(benchmark/combined):  57.38712331981881\n",
      "Dataset Name:  reddit , AUC Score (contextual):  53.80487437157965\n",
      "Dataset Name:  reddit , AUC Score (structural):  50.291946239746224\n",
      "Dataset Name:  reddit , AUC Score (joint-type):  49.88510474895312\n",
      "Dataset Name:  reddit , AUC Score (structure type):  49.88510474895312\n",
      "===========================================================================================\n",
      "Dataset Name:  reddit  Best AUC Score(benchmark/combined):  58.31157679453489\n",
      "Dataset Name:  reddit  Best AUC Score (contextual):  57.42915931180224\n",
      "Dataset Name:  reddit  Best AUC Score (structural):  84.64586802095081\n",
      "Dataset Name:  reddit  Best AUC Score (joint-type):  53.173684080051274\n",
      "Dataset Name:  reddit  Best AUC Score (structure type):  84.0504611948401\n",
      "===========================================================================================\n",
      "Dataset Name:  reddit , AUC Score(benchmark/combined):  56.67432970304061\n",
      "Dataset Name:  reddit , AUC Score (contextual):  52.61570093439031\n",
      "Dataset Name:  reddit , AUC Score (structural):  49.900976591121434\n",
      "Dataset Name:  reddit , AUC Score (joint-type):  48.713689230353594\n",
      "Dataset Name:  reddit , AUC Score (structure type):  48.713689230353594\n",
      "===========================================================================================\n",
      "Dataset Name:  reddit  Best AUC Score(benchmark/combined):  58.31157679453489\n",
      "Dataset Name:  reddit  Best AUC Score (contextual):  57.42915931180224\n",
      "Dataset Name:  reddit  Best AUC Score (structural):  84.64586802095081\n"
     ]
    },
    {
     "name": "stderr",
     "output_type": "stream",
     "text": [
      " 94%|█████████▍| 471/500 [00:47<00:02, 10.17it/s]"
     ]
    },
    {
     "name": "stdout",
     "output_type": "stream",
     "text": [
      "Dataset Name:  reddit  Best AUC Score (joint-type):  53.173684080051274\n",
      "Dataset Name:  reddit  Best AUC Score (structure type):  84.0504611948401\n",
      "===========================================================================================\n",
      "Dataset Name:  reddit , AUC Score(benchmark/combined):  57.30627288232068\n",
      "Dataset Name:  reddit , AUC Score (contextual):  53.42980790586582\n",
      "Dataset Name:  reddit , AUC Score (structural):  50.179254997835024\n",
      "Dataset Name:  reddit , AUC Score (joint-type):  49.19889526521274\n",
      "Dataset Name:  reddit , AUC Score (structure type):  49.19889526521274\n",
      "===========================================================================================\n",
      "Dataset Name:  reddit  Best AUC Score(benchmark/combined):  58.31157679453489\n",
      "Dataset Name:  reddit  Best AUC Score (contextual):  57.42915931180224\n",
      "Dataset Name:  reddit  Best AUC Score (structural):  84.64586802095081\n",
      "Dataset Name:  reddit  Best AUC Score (joint-type):  53.173684080051274\n",
      "Dataset Name:  reddit  Best AUC Score (structure type):  84.0504611948401\n",
      "===========================================================================================\n",
      "Dataset Name:  reddit , AUC Score(benchmark/combined):  57.34824203049364\n",
      "Dataset Name:  reddit , AUC Score (contextual):  53.6821626008116\n",
      "Dataset Name:  reddit , AUC Score (structural):  50.259818129133095\n",
      "Dataset Name:  reddit , AUC Score (joint-type):  49.93324338011609\n",
      "Dataset Name:  reddit , AUC Score (structure type):  49.93324338011609\n",
      "===========================================================================================\n",
      "Dataset Name:  reddit  Best AUC Score(benchmark/combined):  58.31157679453489\n",
      "Dataset Name:  reddit  Best AUC Score (contextual):  57.42915931180224\n",
      "Dataset Name:  reddit  Best AUC Score (structural):  84.64586802095081\n",
      "Dataset Name:  reddit  Best AUC Score (joint-type):  53.173684080051274\n",
      "Dataset Name:  reddit  Best AUC Score (structure type):  84.0504611948401\n",
      "===========================================================================================\n"
     ]
    },
    {
     "name": "stderr",
     "output_type": "stream",
     "text": [
      " 95%|█████████▌| 475/500 [00:48<00:02, 10.21it/s]"
     ]
    },
    {
     "name": "stdout",
     "output_type": "stream",
     "text": [
      "Dataset Name:  reddit , AUC Score(benchmark/combined):  56.82387213382369\n",
      "Dataset Name:  reddit , AUC Score (contextual):  52.77709056487888\n",
      "Dataset Name:  reddit , AUC Score (structural):  49.921457619274015\n",
      "Dataset Name:  reddit , AUC Score (joint-type):  48.739466038107174\n",
      "Dataset Name:  reddit , AUC Score (structure type):  48.739466038107174\n",
      "===========================================================================================\n",
      "Dataset Name:  reddit  Best AUC Score(benchmark/combined):  58.31157679453489\n",
      "Dataset Name:  reddit  Best AUC Score (contextual):  57.42915931180224\n",
      "Dataset Name:  reddit  Best AUC Score (structural):  84.64586802095081\n",
      "Dataset Name:  reddit  Best AUC Score (joint-type):  53.173684080051274\n",
      "Dataset Name:  reddit  Best AUC Score (structure type):  84.0504611948401\n",
      "===========================================================================================\n",
      "Dataset Name:  reddit , AUC Score(benchmark/combined):  57.163948321594326\n",
      "Dataset Name:  reddit , AUC Score (contextual):  53.31832763916313\n",
      "Dataset Name:  reddit , AUC Score (structural):  50.13144990759915\n",
      "Dataset Name:  reddit , AUC Score (joint-type):  49.100796677903226\n",
      "Dataset Name:  reddit , AUC Score (structure type):  49.100796677903226\n",
      "===========================================================================================\n",
      "Dataset Name:  reddit  Best AUC Score(benchmark/combined):  58.31157679453489\n",
      "Dataset Name:  reddit  Best AUC Score (contextual):  57.42915931180224\n",
      "Dataset Name:  reddit  Best AUC Score (structural):  84.64586802095081\n",
      "Dataset Name:  reddit  Best AUC Score (joint-type):  53.173684080051274\n",
      "Dataset Name:  reddit  Best AUC Score (structure type):  84.0504611948401\n",
      "===========================================================================================\n",
      "Dataset Name:  reddit , AUC Score(benchmark/combined):  57.24308757064763\n",
      "Dataset Name:  reddit , AUC Score (contextual):  53.654615060435106\n",
      "Dataset Name:  reddit , AUC Score (structural):  50.26714024174741\n",
      "Dataset Name:  reddit , AUC Score (joint-type):  49.98697246713141\n"
     ]
    },
    {
     "name": "stderr",
     "output_type": "stream",
     "text": [
      " 95%|█████████▌| 477/500 [00:48<00:02, 10.22it/s]"
     ]
    },
    {
     "name": "stdout",
     "output_type": "stream",
     "text": [
      "Dataset Name:  reddit , AUC Score (structure type):  49.98697246713141\n",
      "===========================================================================================\n",
      "Dataset Name:  reddit  Best AUC Score(benchmark/combined):  58.31157679453489\n",
      "Dataset Name:  reddit  Best AUC Score (contextual):  57.42915931180224\n",
      "Dataset Name:  reddit  Best AUC Score (structural):  84.64586802095081\n",
      "Dataset Name:  reddit  Best AUC Score (joint-type):  53.173684080051274\n",
      "Dataset Name:  reddit  Best AUC Score (structure type):  84.0504611948401\n",
      "===========================================================================================\n",
      "Dataset Name:  reddit , AUC Score(benchmark/combined):  56.98114707780477\n",
      "Dataset Name:  reddit , AUC Score (contextual):  52.89046804510613\n",
      "Dataset Name:  reddit , AUC Score (structural):  50.0011172976912\n",
      "Dataset Name:  reddit , AUC Score (joint-type):  48.784366758188256\n",
      "Dataset Name:  reddit , AUC Score (structure type):  48.784366758188256\n",
      "===========================================================================================\n",
      "Dataset Name:  reddit  Best AUC Score(benchmark/combined):  58.31157679453489\n",
      "Dataset Name:  reddit  Best AUC Score (contextual):  57.42915931180224\n",
      "Dataset Name:  reddit  Best AUC Score (structural):  84.64586802095081\n",
      "Dataset Name:  reddit  Best AUC Score (joint-type):  53.173684080051274\n",
      "Dataset Name:  reddit  Best AUC Score (structure type):  84.0504611948401\n",
      "===========================================================================================\n",
      "Dataset Name:  reddit , AUC Score(benchmark/combined):  57.0006391867815\n",
      "Dataset Name:  reddit , AUC Score (contextual):  53.17487300052667\n",
      "Dataset Name:  reddit , AUC Score (structural):  50.06106512618833\n",
      "Dataset Name:  reddit , AUC Score (joint-type):  48.999358994790505\n",
      "Dataset Name:  reddit , AUC Score (structure type):  48.999358994790505\n",
      "===========================================================================================\n",
      "Dataset Name:  reddit  Best AUC Score(benchmark/combined):  58.31157679453489\n",
      "Dataset Name:  reddit  Best AUC Score (contextual):  57.42915931180224\n",
      "Dataset Name:  reddit  Best AUC Score (structural):  84.64586802095081\n"
     ]
    },
    {
     "name": "stderr",
     "output_type": "stream",
     "text": [
      " 96%|█████████▌| 479/500 [00:48<00:02, 10.22it/s]"
     ]
    },
    {
     "name": "stdout",
     "output_type": "stream",
     "text": [
      "Dataset Name:  reddit  Best AUC Score (joint-type):  53.173684080051274\n",
      "Dataset Name:  reddit  Best AUC Score (structure type):  84.0504611948401\n",
      "===========================================================================================\n",
      "Dataset Name:  reddit , AUC Score(benchmark/combined):  57.30044454874545\n",
      "Dataset Name:  reddit , AUC Score (contextual):  53.68542580807383\n",
      "Dataset Name:  reddit , AUC Score (structural):  50.262899815198296\n",
      "Dataset Name:  reddit , AUC Score (joint-type):  49.97386904572184\n",
      "Dataset Name:  reddit , AUC Score (structure type):  49.97386904572184\n",
      "===========================================================================================\n",
      "Dataset Name:  reddit  Best AUC Score(benchmark/combined):  58.31157679453489\n",
      "Dataset Name:  reddit  Best AUC Score (contextual):  57.42915931180224\n",
      "Dataset Name:  reddit  Best AUC Score (structural):  84.64586802095081\n",
      "Dataset Name:  reddit  Best AUC Score (joint-type):  53.173684080051274\n",
      "Dataset Name:  reddit  Best AUC Score (structure type):  84.0504611948401\n",
      "===========================================================================================\n",
      "Dataset Name:  reddit , AUC Score(benchmark/combined):  57.026332745610866\n",
      "Dataset Name:  reddit , AUC Score (contextual):  53.20095336244417\n",
      "Dataset Name:  reddit , AUC Score (structural):  50.06217745074441\n",
      "Dataset Name:  reddit , AUC Score (joint-type):  48.93606795161144\n",
      "Dataset Name:  reddit , AUC Score (structure type):  48.93606795161144\n",
      "===========================================================================================\n",
      "Dataset Name:  reddit  Best AUC Score(benchmark/combined):  58.31157679453489\n",
      "Dataset Name:  reddit  Best AUC Score (contextual):  57.42915931180224\n",
      "Dataset Name:  reddit  Best AUC Score (structural):  84.64586802095081\n",
      "Dataset Name:  reddit  Best AUC Score (joint-type):  53.173684080051274\n",
      "Dataset Name:  reddit  Best AUC Score (structure type):  84.0504611948401\n",
      "===========================================================================================\n"
     ]
    },
    {
     "name": "stderr",
     "output_type": "stream",
     "text": [
      " 96%|█████████▌| 481/500 [00:48<00:01, 10.20it/s]"
     ]
    },
    {
     "name": "stdout",
     "output_type": "stream",
     "text": [
      "Dataset Name:  reddit , AUC Score(benchmark/combined):  56.83857806158631\n",
      "Dataset Name:  reddit , AUC Score (contextual):  52.79150938766548\n",
      "Dataset Name:  reddit , AUC Score (structural):  50.003214303001855\n",
      "Dataset Name:  reddit , AUC Score (joint-type):  48.86028059535066\n",
      "Dataset Name:  reddit , AUC Score (structure type):  48.86028059535066\n",
      "===========================================================================================\n",
      "Dataset Name:  reddit  Best AUC Score(benchmark/combined):  58.31157679453489\n",
      "Dataset Name:  reddit  Best AUC Score (contextual):  57.42915931180224\n",
      "Dataset Name:  reddit  Best AUC Score (structural):  84.64586802095081\n",
      "Dataset Name:  reddit  Best AUC Score (joint-type):  53.173684080051274\n",
      "Dataset Name:  reddit  Best AUC Score (structure type):  84.0504611948401\n",
      "===========================================================================================\n",
      "Dataset Name:  reddit , AUC Score(benchmark/combined):  57.316424218282805\n",
      "Dataset Name:  reddit , AUC Score (contextual):  53.54837110306018\n",
      "Dataset Name:  reddit , AUC Score (structural):  50.23791975747015\n",
      "Dataset Name:  reddit , AUC Score (joint-type):  49.869572894232114\n",
      "Dataset Name:  reddit , AUC Score (structure type):  49.869572894232114\n",
      "===========================================================================================\n",
      "Dataset Name:  reddit  Best AUC Score(benchmark/combined):  58.31157679453489\n",
      "Dataset Name:  reddit  Best AUC Score (contextual):  57.42915931180224\n",
      "Dataset Name:  reddit  Best AUC Score (structural):  84.64586802095081\n",
      "Dataset Name:  reddit  Best AUC Score (joint-type):  53.173684080051274\n",
      "Dataset Name:  reddit  Best AUC Score (structure type):  84.0504611948401\n",
      "===========================================================================================\n",
      "Dataset Name:  reddit , AUC Score(benchmark/combined):  57.083741188022806\n",
      "Dataset Name:  reddit , AUC Score (contextual):  53.18263892788717\n",
      "Dataset Name:  reddit , AUC Score (structural):  50.1296214515852\n"
     ]
    },
    {
     "name": "stderr",
     "output_type": "stream",
     "text": [
      " 97%|█████████▋| 483/500 [00:48<00:01, 10.19it/s]"
     ]
    },
    {
     "name": "stdout",
     "output_type": "stream",
     "text": [
      "Dataset Name:  reddit , AUC Score (joint-type):  49.12538456518143\n",
      "Dataset Name:  reddit , AUC Score (structure type):  49.12538456518143\n",
      "===========================================================================================\n",
      "Dataset Name:  reddit  Best AUC Score(benchmark/combined):  58.31157679453489\n",
      "Dataset Name:  reddit  Best AUC Score (contextual):  57.42915931180224\n",
      "Dataset Name:  reddit  Best AUC Score (structural):  84.64586802095081\n",
      "Dataset Name:  reddit  Best AUC Score (joint-type):  53.173684080051274\n",
      "Dataset Name:  reddit  Best AUC Score (structure type):  84.0504611948401\n",
      "===========================================================================================\n",
      "Dataset Name:  reddit , AUC Score(benchmark/combined):  56.78312526311131\n",
      "Dataset Name:  reddit , AUC Score (contextual):  52.59784183107919\n",
      "Dataset Name:  reddit , AUC Score (structural):  49.97926865737951\n",
      "Dataset Name:  reddit , AUC Score (joint-type):  48.83880413825273\n",
      "Dataset Name:  reddit , AUC Score (structure type):  48.83880413825273\n",
      "===========================================================================================\n",
      "Dataset Name:  reddit  Best AUC Score(benchmark/combined):  58.31157679453489\n",
      "Dataset Name:  reddit  Best AUC Score (contextual):  57.42915931180224\n",
      "Dataset Name:  reddit  Best AUC Score (structural):  84.64586802095081\n",
      "Dataset Name:  reddit  Best AUC Score (joint-type):  53.173684080051274\n",
      "Dataset Name:  reddit  Best AUC Score (structure type):  84.0504611948401\n",
      "===========================================================================================\n",
      "Dataset Name:  reddit , AUC Score(benchmark/combined):  57.18103447388546\n",
      "Dataset Name:  reddit , AUC Score (contextual):  53.51561254953625\n",
      "Dataset Name:  reddit , AUC Score (structural):  50.199679663789546\n",
      "Dataset Name:  reddit , AUC Score (joint-type):  49.73530076905448\n",
      "Dataset Name:  reddit , AUC Score (structure type):  49.73530076905448\n",
      "===========================================================================================\n",
      "Dataset Name:  reddit  Best AUC Score(benchmark/combined):  58.31157679453489\n",
      "Dataset Name:  reddit  Best AUC Score (contextual):  57.42915931180224\n"
     ]
    },
    {
     "name": "stderr",
     "output_type": "stream",
     "text": [
      " 97%|█████████▋| 485/500 [00:49<00:01, 10.20it/s]"
     ]
    },
    {
     "name": "stdout",
     "output_type": "stream",
     "text": [
      "Dataset Name:  reddit  Best AUC Score (structural):  84.64586802095081\n",
      "Dataset Name:  reddit  Best AUC Score (joint-type):  53.173684080051274\n",
      "Dataset Name:  reddit  Best AUC Score (structure type):  84.0504611948401\n",
      "===========================================================================================\n",
      "Dataset Name:  reddit , AUC Score(benchmark/combined):  56.9504228822692\n",
      "Dataset Name:  reddit , AUC Score (contextual):  53.165589302346525\n",
      "Dataset Name:  reddit , AUC Score (structural):  50.162624833980175\n",
      "Dataset Name:  reddit , AUC Score (joint-type):  49.261655088604925\n",
      "Dataset Name:  reddit , AUC Score (structure type):  49.261655088604925\n",
      "===========================================================================================\n",
      "Dataset Name:  reddit  Best AUC Score(benchmark/combined):  58.31157679453489\n",
      "Dataset Name:  reddit  Best AUC Score (contextual):  57.42915931180224\n",
      "Dataset Name:  reddit  Best AUC Score (structural):  84.64586802095081\n",
      "Dataset Name:  reddit  Best AUC Score (joint-type):  53.173684080051274\n",
      "Dataset Name:  reddit  Best AUC Score (structure type):  84.0504611948401\n",
      "===========================================================================================\n",
      "Dataset Name:  reddit , AUC Score(benchmark/combined):  56.75601643564336\n",
      "Dataset Name:  reddit , AUC Score (contextual):  52.56227540153892\n",
      "Dataset Name:  reddit , AUC Score (structural):  49.99222533208938\n",
      "Dataset Name:  reddit , AUC Score (joint-type):  48.86979195915375\n",
      "Dataset Name:  reddit , AUC Score (structure type):  48.86979195915375\n",
      "===========================================================================================\n",
      "Dataset Name:  reddit  Best AUC Score(benchmark/combined):  58.31157679453489\n",
      "Dataset Name:  reddit  Best AUC Score (contextual):  57.42915931180224\n",
      "Dataset Name:  reddit  Best AUC Score (structural):  84.64586802095081\n",
      "Dataset Name:  reddit  Best AUC Score (joint-type):  53.173684080051274\n",
      "Dataset Name:  reddit  Best AUC Score (structure type):  84.0504611948401\n",
      "===========================================================================================\n"
     ]
    },
    {
     "name": "stderr",
     "output_type": "stream",
     "text": [
      " 98%|█████████▊| 489/500 [00:49<00:01, 10.24it/s]"
     ]
    },
    {
     "name": "stdout",
     "output_type": "stream",
     "text": [
      "Dataset Name:  reddit , AUC Score(benchmark/combined):  56.98956149316502\n",
      "Dataset Name:  reddit , AUC Score (contextual):  53.34058827785122\n",
      "Dataset Name:  reddit , AUC Score (structural):  50.173759683522945\n",
      "Dataset Name:  reddit , AUC Score (joint-type):  49.514313337714626\n",
      "Dataset Name:  reddit , AUC Score (structure type):  49.514313337714626\n",
      "===========================================================================================\n",
      "Dataset Name:  reddit  Best AUC Score(benchmark/combined):  58.31157679453489\n",
      "Dataset Name:  reddit  Best AUC Score (contextual):  57.42915931180224\n",
      "Dataset Name:  reddit  Best AUC Score (structural):  84.64586802095081\n",
      "Dataset Name:  reddit  Best AUC Score (joint-type):  53.173684080051274\n",
      "Dataset Name:  reddit  Best AUC Score (structure type):  84.0504611948401\n",
      "===========================================================================================\n",
      "Dataset Name:  reddit , AUC Score(benchmark/combined):  56.92232336675425\n",
      "Dataset Name:  reddit , AUC Score (contextual):  53.1995873687065\n",
      "Dataset Name:  reddit , AUC Score (structural):  50.16867216629103\n",
      "Dataset Name:  reddit , AUC Score (joint-type):  49.490964963272475\n",
      "Dataset Name:  reddit , AUC Score (structure type):  49.490964963272475\n",
      "===========================================================================================\n",
      "Dataset Name:  reddit  Best AUC Score(benchmark/combined):  58.31157679453489\n",
      "Dataset Name:  reddit  Best AUC Score (contextual):  57.42915931180224\n",
      "Dataset Name:  reddit  Best AUC Score (structural):  84.64586802095081\n",
      "Dataset Name:  reddit  Best AUC Score (joint-type):  53.173684080051274\n",
      "Dataset Name:  reddit  Best AUC Score (structure type):  84.0504611948401\n",
      "===========================================================================================\n",
      "Dataset Name:  reddit , AUC Score(benchmark/combined):  56.71564268120842\n",
      "Dataset Name:  reddit , AUC Score (contextual):  52.56703108344046\n"
     ]
    },
    {
     "name": "stderr",
     "output_type": "stream",
     "text": [
      " 98%|█████████▊| 491/500 [00:49<00:00, 10.21it/s]"
     ]
    },
    {
     "name": "stdout",
     "output_type": "stream",
     "text": [
      "Dataset Name:  reddit , AUC Score (structural):  49.98976363020298\n",
      "Dataset Name:  reddit , AUC Score (joint-type):  48.86172247762932\n",
      "Dataset Name:  reddit , AUC Score (structure type):  48.86172247762932\n",
      "===========================================================================================\n",
      "Dataset Name:  reddit  Best AUC Score(benchmark/combined):  58.31157679453489\n",
      "Dataset Name:  reddit  Best AUC Score (contextual):  57.42915931180224\n",
      "Dataset Name:  reddit  Best AUC Score (structural):  84.64586802095081\n",
      "Dataset Name:  reddit  Best AUC Score (joint-type):  53.173684080051274\n",
      "Dataset Name:  reddit  Best AUC Score (structure type):  84.0504611948401\n",
      "===========================================================================================\n",
      "Dataset Name:  reddit , AUC Score(benchmark/combined):  56.9019434983588\n",
      "Dataset Name:  reddit , AUC Score (contextual):  53.03359383339834\n",
      "Dataset Name:  reddit , AUC Score (structural):  50.14950570352291\n",
      "Dataset Name:  reddit , AUC Score (joint-type):  49.355554509980095\n",
      "Dataset Name:  reddit , AUC Score (structure type):  49.355554509980095\n",
      "===========================================================================================\n",
      "Dataset Name:  reddit  Best AUC Score(benchmark/combined):  58.31157679453489\n",
      "Dataset Name:  reddit  Best AUC Score (contextual):  57.42915931180224\n",
      "Dataset Name:  reddit  Best AUC Score (structural):  84.64586802095081\n",
      "Dataset Name:  reddit  Best AUC Score (joint-type):  53.173684080051274\n",
      "Dataset Name:  reddit  Best AUC Score (structure type):  84.0504611948401\n",
      "===========================================================================================\n",
      "Dataset Name:  reddit , AUC Score(benchmark/combined):  56.95221126718521\n",
      "Dataset Name:  reddit , AUC Score (contextual):  53.199688553427805\n",
      "Dataset Name:  reddit , AUC Score (structural):  50.183034580529316\n",
      "Dataset Name:  reddit , AUC Score (joint-type):  49.57171037087742\n",
      "Dataset Name:  reddit , AUC Score (structure type):  49.57171037087742\n",
      "===========================================================================================\n",
      "Dataset Name:  reddit  Best AUC Score(benchmark/combined):  58.31157679453489\n"
     ]
    },
    {
     "name": "stderr",
     "output_type": "stream",
     "text": [
      " 99%|█████████▊| 493/500 [00:49<00:00, 10.21it/s]"
     ]
    },
    {
     "name": "stdout",
     "output_type": "stream",
     "text": [
      "Dataset Name:  reddit  Best AUC Score (contextual):  57.42915931180224\n",
      "Dataset Name:  reddit  Best AUC Score (structural):  84.64586802095081\n",
      "Dataset Name:  reddit  Best AUC Score (joint-type):  53.173684080051274\n",
      "Dataset Name:  reddit  Best AUC Score (structure type):  84.0504611948401\n",
      "===========================================================================================\n",
      "Dataset Name:  reddit , AUC Score(benchmark/combined):  56.630958152307606\n",
      "Dataset Name:  reddit , AUC Score (contextual):  52.62915850232447\n",
      "Dataset Name:  reddit , AUC Score (structural):  50.005734024798045\n",
      "Dataset Name:  reddit , AUC Score (joint-type):  48.8694631088095\n",
      "Dataset Name:  reddit , AUC Score (structure type):  48.8694631088095\n",
      "===========================================================================================\n",
      "Dataset Name:  reddit  Best AUC Score(benchmark/combined):  58.31157679453489\n",
      "Dataset Name:  reddit  Best AUC Score (contextual):  57.42915931180224\n",
      "Dataset Name:  reddit  Best AUC Score (structural):  84.64586802095081\n",
      "Dataset Name:  reddit  Best AUC Score (joint-type):  53.173684080051274\n",
      "Dataset Name:  reddit  Best AUC Score (structure type):  84.0504611948401\n",
      "===========================================================================================\n",
      "Dataset Name:  reddit , AUC Score(benchmark/combined):  56.81619108493978\n",
      "Dataset Name:  reddit , AUC Score (contextual):  52.92079816531863\n",
      "Dataset Name:  reddit , AUC Score (structural):  50.10630076327678\n",
      "Dataset Name:  reddit , AUC Score (joint-type):  49.21030384254038\n",
      "Dataset Name:  reddit , AUC Score (structure type):  49.21030384254038\n",
      "===========================================================================================\n",
      "Dataset Name:  reddit  Best AUC Score(benchmark/combined):  58.31157679453489\n",
      "Dataset Name:  reddit  Best AUC Score (contextual):  57.42915931180224\n",
      "Dataset Name:  reddit  Best AUC Score (structural):  84.64586802095081\n",
      "Dataset Name:  reddit  Best AUC Score (joint-type):  53.173684080051274\n"
     ]
    },
    {
     "name": "stderr",
     "output_type": "stream",
     "text": [
      " 99%|█████████▉| 495/500 [00:50<00:00, 10.23it/s]"
     ]
    },
    {
     "name": "stdout",
     "output_type": "stream",
     "text": [
      "Dataset Name:  reddit  Best AUC Score (structure type):  84.0504611948401\n",
      "===========================================================================================\n",
      "Dataset Name:  reddit , AUC Score(benchmark/combined):  56.88098465642939\n",
      "Dataset Name:  reddit , AUC Score (contextual):  53.19361747014925\n",
      "Dataset Name:  reddit , AUC Score (structural):  50.172203092229104\n",
      "Dataset Name:  reddit , AUC Score (joint-type):  49.68554318235055\n",
      "Dataset Name:  reddit , AUC Score (structure type):  49.68554318235055\n",
      "===========================================================================================\n",
      "Dataset Name:  reddit  Best AUC Score(benchmark/combined):  58.31157679453489\n",
      "Dataset Name:  reddit  Best AUC Score (contextual):  57.42915931180224\n",
      "Dataset Name:  reddit  Best AUC Score (structural):  84.64586802095081\n",
      "Dataset Name:  reddit  Best AUC Score (joint-type):  53.173684080051274\n",
      "Dataset Name:  reddit  Best AUC Score (structure type):  84.0504611948401\n",
      "===========================================================================================\n",
      "Dataset Name:  reddit , AUC Score(benchmark/combined):  56.63605311940647\n",
      "Dataset Name:  reddit , AUC Score (contextual):  52.614486717734586\n",
      "Dataset Name:  reddit , AUC Score (structural):  50.01600852196435\n",
      "Dataset Name:  reddit , AUC Score (joint-type):  48.939457639775306\n",
      "Dataset Name:  reddit , AUC Score (structure type):  48.939457639775306\n",
      "===========================================================================================\n",
      "Dataset Name:  reddit  Best AUC Score(benchmark/combined):  58.31157679453489\n",
      "Dataset Name:  reddit  Best AUC Score (contextual):  57.42915931180224\n",
      "Dataset Name:  reddit  Best AUC Score (structural):  84.64586802095081\n",
      "Dataset Name:  reddit  Best AUC Score (joint-type):  53.173684080051274\n",
      "Dataset Name:  reddit  Best AUC Score (structure type):  84.0504611948401\n",
      "===========================================================================================\n"
     ]
    },
    {
     "name": "stderr",
     "output_type": "stream",
     "text": [
      " 99%|█████████▉| 497/500 [00:50<00:00, 10.23it/s]"
     ]
    },
    {
     "name": "stdout",
     "output_type": "stream",
     "text": [
      "Dataset Name:  reddit , AUC Score(benchmark/combined):  56.67277290753818\n",
      "Dataset Name:  reddit , AUC Score (contextual):  52.77607871766578\n",
      "Dataset Name:  reddit , AUC Score (structural):  50.073880895403036\n",
      "Dataset Name:  reddit , AUC Score (joint-type):  49.16684500473797\n",
      "Dataset Name:  reddit , AUC Score (structure type):  49.16684500473797\n",
      "===========================================================================================\n",
      "Dataset Name:  reddit  Best AUC Score(benchmark/combined):  58.31157679453489\n",
      "Dataset Name:  reddit  Best AUC Score (contextual):  57.42915931180224\n",
      "Dataset Name:  reddit  Best AUC Score (structural):  84.64586802095081\n",
      "Dataset Name:  reddit  Best AUC Score (joint-type):  53.173684080051274\n",
      "Dataset Name:  reddit  Best AUC Score (structure type):  84.0504611948401\n",
      "===========================================================================================\n",
      "Dataset Name:  reddit , AUC Score(benchmark/combined):  56.74304742848262\n",
      "Dataset Name:  reddit , AUC Score (contextual):  53.22189859975522\n",
      "Dataset Name:  reddit , AUC Score (structural):  50.179734076518656\n",
      "Dataset Name:  reddit , AUC Score (joint-type):  49.624149352696044\n",
      "Dataset Name:  reddit , AUC Score (structure type):  49.624149352696044\n",
      "===========================================================================================\n",
      "Dataset Name:  reddit  Best AUC Score(benchmark/combined):  58.31157679453489\n",
      "Dataset Name:  reddit  Best AUC Score (contextual):  57.42915931180224\n",
      "Dataset Name:  reddit  Best AUC Score (structural):  84.64586802095081\n",
      "Dataset Name:  reddit  Best AUC Score (joint-type):  53.173684080051274\n",
      "Dataset Name:  reddit  Best AUC Score (structure type):  84.0504611948401\n",
      "===========================================================================================\n",
      "Dataset Name:  reddit , AUC Score(benchmark/combined):  56.58277468820345\n",
      "Dataset Name:  reddit , AUC Score (contextual):  52.65253217294694\n",
      "Dataset Name:  reddit , AUC Score (structural):  50.04967167361911\n",
      "Dataset Name:  reddit , AUC Score (joint-type):  49.14903649378751\n"
     ]
    },
    {
     "name": "stderr",
     "output_type": "stream",
     "text": [
      "100%|██████████| 500/500 [00:50<00:00,  9.88it/s]"
     ]
    },
    {
     "name": "stdout",
     "output_type": "stream",
     "text": [
      "Dataset Name:  reddit , AUC Score (structure type):  49.14903649378751\n",
      "===========================================================================================\n",
      "Dataset Name:  reddit  Best AUC Score(benchmark/combined):  58.31157679453489\n",
      "Dataset Name:  reddit  Best AUC Score (contextual):  57.42915931180224\n",
      "Dataset Name:  reddit  Best AUC Score (structural):  84.64586802095081\n",
      "Dataset Name:  reddit  Best AUC Score (joint-type):  53.173684080051274\n",
      "Dataset Name:  reddit  Best AUC Score (structure type):  84.0504611948401\n",
      "===========================================================================================\n",
      "Dataset Name:  reddit , AUC Score(benchmark/combined):  56.54126871885765\n",
      "Dataset Name:  reddit , AUC Score (contextual):  52.614233755931316\n",
      "Dataset Name:  reddit , AUC Score (structural):  50.05501447845406\n",
      "Dataset Name:  reddit , AUC Score (joint-type):  49.09427026337877\n",
      "Dataset Name:  reddit , AUC Score (structure type):  49.09427026337877\n",
      "===========================================================================================\n",
      "Dataset Name:  reddit  Best AUC Score(benchmark/combined):  58.31157679453489\n",
      "Dataset Name:  reddit  Best AUC Score (contextual):  57.42915931180224\n",
      "Dataset Name:  reddit  Best AUC Score (structural):  84.64586802095081\n",
      "Dataset Name:  reddit  Best AUC Score (joint-type):  53.173684080051274\n",
      "Dataset Name:  reddit  Best AUC Score (structure type):  84.0504611948401\n",
      "===========================================================================================\n"
     ]
    },
    {
     "name": "stderr",
     "output_type": "stream",
     "text": [
      "\n"
     ]
    }
   ],
   "source": [
    "device = torch.device(\"cuda\" if torch.cuda.is_available() else \"cpu\")\n",
    "parser = argparse.ArgumentParser(description='parameters')\n",
    "parser.add_argument('-f')\n",
    "parser.add_argument('--dataset', type=str, default=\"reddit\")\n",
    "parser.add_argument('--lr', type=float, default=0.01)\n",
    "parser.add_argument('--epoch_num', type=int, default=500)\n",
    "parser.add_argument('--lambda_loss1', type=float, default=1e-2) #neighbor reconstruction loss weight\n",
    "parser.add_argument('--lambda_loss2', type=float, default=0.1) #feature loss weight\n",
    "parser.add_argument('--lambda_loss3', type=float, default=0.8) #degree loss weight\n",
    "parser.add_argument('--sample_size', type=int, default=10)\n",
    "parser.add_argument('--dimension', type=int, default=16)\n",
    "parser.add_argument('--encoder', type=str, default=\"GCN\")\n",
    "parser.add_argument('--loss_step', type=int, default=50)\n",
    "parser.add_argument('--real_loss', type=bool, default=False) #use real loss or adaptive loss\n",
    "parser.add_argument('--neigh_loss', type=str, default=\"KL\")\n",
    "parser.add_argument('--h_loss_weight', type=float, default=1.0)#adaptive loss weight for h_loss\n",
    "parser.add_argument('--feature_loss_weight', type=float, default=2.0) #adaptive loss weight for feature loss\n",
    "parser.add_argument('--degree_loss_weight', type=float, default=1.0)#adaptive loss weight for degree loss\n",
    "parser.add_argument('--calculate_contextual', type=bool, default=True)\n",
    "parser.add_argument('--contextual_n', type=int, default=183)\n",
    "parser.add_argument('--contextual_k', type=int, default=30)\n",
    "parser.add_argument('--calculate_structural', type=bool, default=True)\n",
    "parser.add_argument('--structural_n', type=int, default=183)\n",
    "parser.add_argument('--structural_m', type=int, default=30)\n",
    "parser.add_argument('--use_combine_outlier', type=bool, default=False)\n",
    "parser.add_argument('--plot_loss', type=bool, default=False)\n",
    "parser.add_argument('--normalize_feat', type=bool, default=False)\n",
    "\n",
    "\n",
    "\n",
    "args = parser.parse_args()\n",
    "\n",
    "print(\"GAD-NR: Graph Anomaly Detection via Neighborhood Reconstruction\")\n",
    "print(\"Dataset: \", args.dataset, \"lr:\", args.lr, \"lambda_loss1 (neighbor):\",args.lambda_loss1, \"lambda_loss2 (feature):\", args.lambda_loss2, \"lambda_loss3 (degree):\", args.lambda_loss3, \"sample_size:\", args.sample_size, \"dimension:\",args.dimension, \"encoder:\", args.encoder, \"loss_step:\", args.loss_step,\"real_loss:\", args.real_loss, \"h_loss_weight:\",args.h_loss_weight,\"feature_loss_weight\",args.feature_loss_weight,\"degree_loss_weight:\",args.degree_loss_weight,\n",
    "\"calculate_contextual\",args.calculate_contextual,\"calculate_structural\",args.calculate_structural)\n",
    "\n",
    "\n",
    "dataset_str = args.dataset\n",
    "train_real_datasets(dataset_str=dataset_str, lr=args.lr, epoch_num=args.epoch_num, lambda_loss1=args.lambda_loss1, \n",
    "lambda_loss2=args.lambda_loss2, lambda_loss3=args.lambda_loss3, encoder=args.encoder, sample_size=args.sample_size, loss_step=args.loss_step, \n",
    "hidden_dim=args.dimension,real_loss=args.real_loss,calculate_contextual=args.calculate_contextual,calculate_structural=args.calculate_structural)"
   ]
  }
 ],
 "metadata": {
  "kernelspec": {
   "display_name": "NWRGAE",
   "language": "python",
   "name": "nwrgae"
  },
  "language_info": {
   "codemirror_mode": {
    "name": "ipython",
    "version": 3
   },
   "file_extension": ".py",
   "mimetype": "text/x-python",
   "name": "python",
   "nbconvert_exporter": "python",
   "pygments_lexer": "ipython3",
   "version": "3.8.5"
  }
 },
 "nbformat": 4,
 "nbformat_minor": 5
}
