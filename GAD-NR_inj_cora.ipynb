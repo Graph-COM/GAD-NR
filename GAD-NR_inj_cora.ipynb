{
 "cells": [
  {
   "cell_type": "markdown",
   "id": "5727f30e-6d72-4ff1-b47c-20e13af635ea",
   "metadata": {
    "tags": []
   },
   "source": [
    "# Import Libraries"
   ]
  },
  {
   "cell_type": "code",
   "execution_count": null,
   "id": "277cb61f-9894-42a6-b3e7-f62b3265dc65",
   "metadata": {
    "tags": []
   },
   "outputs": [],
   "source": [
    "import sys\n",
    "sys.path.append(\"..\")\n",
    "import seaborn as sb\n",
    "import dgl\n",
    "import torch\n",
    "\n",
    "import matplotlib.pyplot as plt\n",
    "import numpy as np\n",
    "from sklearn.manifold import TSNE\n",
    "from tqdm import tqdm\n",
    "import torch.nn.functional as F\n",
    "\n",
    "import statistics\n",
    "import argparse\n",
    "import random\n",
    "\n",
    "from dgl.data import CitationGraphDataset\n",
    "# from dgl.nn import GINConv, GraphConv, SAGEConv\n",
    "import seaborn as sb\n",
    "import torch\n",
    "import torch.nn as nn\n",
    "from torch.autograd import Variable\n",
    "from scipy.optimize import linear_sum_assignment\n",
    "import scipy\n",
    "import scipy.optimize\n",
    "import numpy as np\n",
    "from sklearn.decomposition import PCA\n",
    "from sklearn.preprocessing import StandardScaler\n",
    "import pandas as pd\n",
    "from torch.utils.data import Dataset\n",
    "import matplotlib.pyplot as plt\n",
    "from sklearn.cluster import KMeans\n",
    "import sklearn as sk\n",
    "import networkx as nx\n",
    "\n",
    "\n",
    "import torch\n",
    "import torch.nn as nn\n",
    "import torch.nn.functional as F\n",
    "import torch.multiprocessing as mp\n",
    "import random\n",
    "import math\n",
    "\n",
    "\n",
    "import torch\n",
    "import torch.nn as nn\n",
    "import torch.nn.functional as F\n",
    "from torch_geometric.data import Data\n",
    "\n",
    "from torch_geometric.nn import GCNConv,GINConv,SAGEConv,GATConv\n",
    "from torch_geometric.utils import add_self_loops\n",
    "from torch_geometric.transforms import normalize_features\n",
    "from pygod.utils import load_data\n",
    "from pygod.utils.utility import check_parameter\n",
    "from pygod.metrics import eval_roc_auc\n",
    "from pygod.generator import gen_contextual_outliers, gen_structural_outliers\n",
    "from scipy.linalg import sqrtm\n",
    "\n",
    "\n"
   ]
  },
  {
   "cell_type": "markdown",
   "id": "57a8a0f6-41cb-4b22-9192-418310bf8923",
   "metadata": {
    "tags": []
   },
   "source": [
    "# Utils"
   ]
  },
  {
   "cell_type": "code",
   "execution_count": 2,
   "id": "26a1f108-b244-4fed-92da-07a65c574a03",
   "metadata": {},
   "outputs": [],
   "source": [
    "def gen_joint_structural_outliers(data, m, n, random_state=None):\n",
    "    \"\"\"\n",
    "    We randomly select n nodes from the network which will be the anomalies \n",
    "    and for each node we select m nodes from the network. \n",
    "    We connect each of n nodes with the m other nodes.\n",
    "\n",
    "    Parameters\n",
    "    ----------\n",
    "    data : PyTorch Geometric Data instance (torch_geometric.data.Data)\n",
    "        The input data.\n",
    "    m : int\n",
    "        Number nodes in the outlier cliques.\n",
    "    n : int\n",
    "        Number of outlier cliques.\n",
    "    p : int, optional\n",
    "        Probability of edge drop in cliques. Default: ``0``.\n",
    "    random_state : int, optional\n",
    "        The seed to control the randomness, Default: ``None``.\n",
    "\n",
    "    Returns\n",
    "    -------\n",
    "    data : PyTorch Geometric Data instance (torch_geometric.data.Data)\n",
    "        The structural outlier graph with injected edges.\n",
    "    y_outlier : torch.Tensor\n",
    "        The outlier label tensor where 1 represents outliers and 0 represents\n",
    "        regular nodes.\n",
    "    \"\"\"\n",
    "\n",
    "    if not isinstance(data, Data):\n",
    "        raise TypeError(\"data should be torch_geometric.data.Data\")\n",
    "\n",
    "    if isinstance(m, int):\n",
    "        check_parameter(m, low=0, high=data.num_nodes, param_name='m')\n",
    "    else:\n",
    "        raise ValueError(\"m should be int, got %s\" % m)\n",
    "\n",
    "    if isinstance(n, int):\n",
    "        check_parameter(n, low=0, high=data.num_nodes, param_name='n')\n",
    "    else:\n",
    "        raise ValueError(\"n should be int, got %s\" % n)\n",
    "\n",
    "    check_parameter(m * n, low=0, high=data.num_nodes, param_name='m*n')\n",
    "\n",
    "    if random_state:\n",
    "        np.random.seed(random_state)\n",
    "\n",
    "\n",
    "    outlier_idx = np.random.choice(data.num_nodes, size=n, replace=False)\n",
    "    all_nodes = [i for i in range(data.num_nodes)]\n",
    "    rem_nodes = []\n",
    "    \n",
    "    for node in all_nodes:\n",
    "        if node is not outlier_idx:\n",
    "            rem_nodes.append(node)\n",
    "    \n",
    "    \n",
    "    \n",
    "    new_edges = []\n",
    "    \n",
    "    # connect all m nodes in each clique\n",
    "    for i in range(0, n):\n",
    "        other_idx = np.random.choice(data.num_nodes, size=m, replace=False)\n",
    "        for j in other_idx:\n",
    "            new_edges.append(torch.tensor([[i, j]], dtype=torch.long))\n",
    "                    \n",
    "\n",
    "    new_edges = torch.cat(new_edges)\n",
    "\n",
    "\n",
    "    y_outlier = torch.zeros(data.x.shape[0], dtype=torch.long)\n",
    "    y_outlier[outlier_idx] = 1\n",
    "\n",
    "    data.edge_index = torch.cat([data.edge_index, new_edges.T], dim=1)\n",
    "\n",
    "    return data, y_outlier\n",
    "\n",
    "\n",
    "def KL_neighbor_loss(predictions, targets, mask_len):\n",
    "    x1 = predictions.squeeze().cpu().detach()\n",
    "    x2 = targets.squeeze().cpu().detach()\n",
    "    \n",
    "    mean_x1 = x1.mean(0)\n",
    "    mean_x2 = x2.mean(0)\n",
    "    \n",
    "    nn = x1.shape[0]\n",
    "    h_dim = x1.shape[1]\n",
    "    \n",
    "    cov_x1 = (x1-mean_x1).transpose(1,0).matmul(x1-mean_x1) / max((nn-1),1)\n",
    "    cov_x2 = (x2-mean_x2).transpose(1,0).matmul(x2-mean_x2) / max((nn-1),1)\n",
    "    \n",
    "    eye = torch.eye(h_dim)\n",
    "    cov_x1 = cov_x1 + eye\n",
    "    cov_x2 = cov_x2 + eye\n",
    "    \n",
    "    KL_loss = 0.5 * (math.log(torch.det(cov_x1) / torch.det(cov_x2)) - h_dim  + torch.trace(torch.inverse(cov_x2).matmul(cov_x1)) \n",
    "            + (mean_x2 - mean_x1).reshape(1,-1).matmul(torch.inverse(cov_x2)).matmul(mean_x2 - mean_x1))\n",
    "    KL_loss = KL_loss.to(device)\n",
    "    return KL_loss\n",
    "\n",
    "def W2_neighbor_loss(predictions, targets, mask_len):\n",
    "    \n",
    "    x1 = predictions.squeeze().cpu().detach()\n",
    "    x2 = targets.squeeze().cpu().detach()\n",
    "    \n",
    "    mean_x1 = x1.mean(0)\n",
    "    mean_x2 = x2.mean(0)\n",
    "\n",
    "    nn = x1.shape[0]\n",
    "    \n",
    "    cov_x1 = (x1-mean_x1).transpose(1,0).matmul(x1-mean_x1) / (nn-1)\n",
    "    cov_x2 = (x2-mean_x2).transpose(1,0).matmul(x2-mean_x2) / (nn-1)\n",
    "    \n",
    "\n",
    "    W2_loss = torch.square(mean_x1-mean_x2).sum() + torch.trace(cov_x1 + cov_x2 \n",
    "                     + 2 * sqrtm(sqrtm(cov_x1) @ (cov_x2.numpy()) @ (sqrtm(cov_x1))))\n",
    "\n",
    "    return W2_loss\n",
    "\n"
   ]
  },
  {
   "cell_type": "markdown",
   "id": "d1217613-695f-40ac-926c-46df24c27ca3",
   "metadata": {
    "tags": []
   },
   "source": [
    "# Layers"
   ]
  },
  {
   "cell_type": "code",
   "execution_count": 3,
   "id": "659e39de-85ed-4750-9c65-5071d8d894a0",
   "metadata": {},
   "outputs": [],
   "source": [
    "class MLP(nn.Module):\n",
    "    def __init__(self, num_layers, input_dim, hidden_dim, output_dim):\n",
    "        \n",
    "\n",
    "        super(MLP, self).__init__()\n",
    "\n",
    "        self.linear_or_not = True  # default is linear model\n",
    "        self.num_layers = num_layers\n",
    "\n",
    "        if num_layers < 1:\n",
    "            raise ValueError(\"number of layers should be positive!\")\n",
    "        elif num_layers == 1:\n",
    "            # Linear model\n",
    "            self.linear = nn.Linear(input_dim, output_dim)\n",
    "        else:\n",
    "            # Multi-layer model\n",
    "            self.linear_or_not = False\n",
    "            self.linears = torch.nn.ModuleList()\n",
    "            self.batch_norms = torch.nn.ModuleList()\n",
    "\n",
    "            self.linears.append(nn.Linear(input_dim, hidden_dim))\n",
    "            for layer in range(num_layers - 2):\n",
    "                self.linears.append(nn.Linear(hidden_dim, hidden_dim))\n",
    "            self.linears.append(nn.Linear(hidden_dim, output_dim))\n",
    "\n",
    "            for layer in range(num_layers - 1):\n",
    "                self.batch_norms.append(nn.BatchNorm1d((hidden_dim)))\n",
    "\n",
    "    def forward(self, x):\n",
    "        if self.linear_or_not:\n",
    "            # If linear model\n",
    "            return self.linear(x)\n",
    "        else:\n",
    "            # If MLP\n",
    "            h = x\n",
    "            for layer in range(self.num_layers - 1):\n",
    "                h = F.relu(self.batch_norms[layer](self.linears[layer](h)))\n",
    "            return self.linears[self.num_layers - 1](h)\n",
    "\n",
    "\n",
    "class MLP_generator(nn.Module):\n",
    "    def __init__(self, input_dim, output_dim, sample_size):\n",
    "        super(MLP_generator, self).__init__()\n",
    "        self.linear = nn.Linear(input_dim, output_dim)\n",
    "        self.linear2 = nn.Linear(output_dim, output_dim)\n",
    "        self.linear3 = nn.Linear(output_dim, output_dim)\n",
    "        self.linear4 = nn.Linear(output_dim, output_dim)\n",
    "\n",
    "    def forward(self, embedding, device):\n",
    "        neighbor_embedding = F.relu(self.linear(embedding))\n",
    "        neighbor_embedding = F.relu(self.linear2(neighbor_embedding))\n",
    "        neighbor_embedding = F.relu(self.linear3(neighbor_embedding))\n",
    "        neighbor_embedding = self.linear4(neighbor_embedding)\n",
    "        return neighbor_embedding\n",
    "\n",
    "\n",
    "class PairNorm(nn.Module):\n",
    "    def __init__(self, mode='PN', scale=10):\n",
    "        \n",
    "        assert mode in ['None', 'PN', 'PN-SI', 'PN-SCS']\n",
    "        super(PairNorm, self).__init__()\n",
    "        self.mode = mode\n",
    "        self.scale = scale\n",
    "\n",
    "        # Scale can be set based on origina data, and also the current feature lengths.\n",
    "        # We leave the experiments to future. A good pool we used for choosing scale:\n",
    "        # [0.1, 1, 10, 50, 100]\n",
    "    def forward(self, x):\n",
    "        if self.mode == 'None':\n",
    "            return x\n",
    "        col_mean = x.mean(dim=0)\n",
    "        if self.mode == 'PN':\n",
    "            x = x - col_mean\n",
    "            rownorm_mean = (1e-6 + x.pow(2).sum(dim=1).mean()).sqrt()\n",
    "            x = self.scale * x / rownorm_mean\n",
    "        if self.mode == 'PN-SI':\n",
    "            x = x - col_mean\n",
    "            rownorm_individual = (1e-6 + x.pow(2).sum(dim=1, keepdim=True)).sqrt()\n",
    "            x = self.scale * x / rownorm_individual\n",
    "        if self.mode == 'PN-SCS':\n",
    "            rownorm_individual = (1e-6 + x.pow(2).sum(dim=1, keepdim=True)).sqrt()\n",
    "            x = self.scale * x / rownorm_individual - col_mean\n",
    "        return x\n",
    "\n",
    "\n",
    "# FNN\n",
    "class FNN(nn.Module):\n",
    "    def __init__(self, in_features, hidden, out_features, layer_num):\n",
    "        super(FNN, self).__init__()\n",
    "        self.linear1 = MLP(layer_num, in_features, hidden, out_features)\n",
    "        self.linear2 = nn.Linear(out_features, out_features)\n",
    "    def forward(self, embedding):\n",
    "        x = self.linear1(embedding)\n",
    "        x = self.linear2(F.relu(x))\n",
    "        return x\n"
   ]
  },
  {
   "cell_type": "markdown",
   "id": "95d031cd-1dad-4094-a7d6-56cd9f0d9f53",
   "metadata": {
    "tags": []
   },
   "source": [
    "# GAD-NR"
   ]
  },
  {
   "cell_type": "code",
   "execution_count": 4,
   "id": "2bddf25c-5546-4333-8798-7ad82dbddad8",
   "metadata": {},
   "outputs": [],
   "source": [
    "\n",
    "# Training\n",
    "def train(data, y, yc, ys, yj, ysj, lr, epoch, device, encoder, lambda_loss1, lambda_loss2, lambda_loss3, hidden_dim, sample_size=10,loss_step=20,\n",
    "          real_loss=False,calculate_contextual=False,calculate_structural=False):\n",
    "    '''\n",
    "     Main training function\n",
    "     INPUT:\n",
    "     -----------------------\n",
    "     data : torch geometric dataset object\n",
    "     lr    :    learning rate\n",
    "     epoch     :    number of training epoch\n",
    "     device     :   CPU or GPU\n",
    "     encoder    :    GCN or GIN or GraphSAGE\n",
    "     lambda_loss    :   Trade-off between degree loss and neighborhood reconstruction loss\n",
    "     hidden_dim     :   latent variable dimension\n",
    "    '''\n",
    "    \n",
    "    in_nodes = data.edge_index[0,:]\n",
    "    out_nodes = data.edge_index[1,:]\n",
    "    \n",
    "    \n",
    "    neighbor_dict = {}\n",
    "    for in_node, out_node in zip(in_nodes, out_nodes):\n",
    "        if in_node.item() not in neighbor_dict:\n",
    "            neighbor_dict[in_node.item()] = []\n",
    "        neighbor_dict[in_node.item()].append(out_node.item())\n",
    "\n",
    "    neighbor_num_list = []\n",
    "    for i in neighbor_dict:\n",
    "        neighbor_num_list.append(len(neighbor_dict[i]))\n",
    "    \n",
    "    neighbor_num_list = torch.tensor(neighbor_num_list).to(device)\n",
    "    \n",
    "    in_dim = data.x.shape[1]\n",
    "    GNNModel = GNNStructEncoder(in_dim, hidden_dim, hidden_dim, 2, sample_size, device=device, \n",
    "                    neighbor_num_list=neighbor_num_list, GNN_name=encoder, \n",
    "                    lambda_loss1=lambda_loss1, lambda_loss2=lambda_loss2,lambda_loss3=lambda_loss3)\n",
    "    GNNModel.to(device)\n",
    "    degree_params = list(map(id, GNNModel.degree_decoder.parameters()))\n",
    "    base_params = filter(lambda p: id(p) not in degree_params,\n",
    "                         GNNModel.parameters())\n",
    "\n",
    "    opt = torch.optim.Adam([{'params': base_params}, {'params': GNNModel.degree_decoder.parameters(), 'lr': 1e-2}],lr=lr, weight_decay=0.0003)\n",
    "    min_loss = float('inf')\n",
    "    arg_min_loss_per_node = None\n",
    "    \n",
    "    best_auc = 0\n",
    "    best_auc_contextual = 0\n",
    "    best_auc_dense_structural = 0\n",
    "    best_auc_joint_structural = 0\n",
    "    best_auc_structure_type = 0\n",
    "    \n",
    "        \n",
    "    loss_values = []\n",
    "    for i in tqdm(range(epoch)):\n",
    "        \n",
    "        if i%loss_step==0:\n",
    "            GNNModel.lambda_loss2 = GNNModel.lambda_loss2 + 0.5\n",
    "            GNNModel.lambda_loss3 = GNNModel.lambda_loss3 / 2\n",
    "        \n",
    "        loss,loss_per_node,h_loss,degree_loss,feature_loss = GNNModel(data.edge_index, data.x, neighbor_num_list, neighbor_dict, device=device)\n",
    "        \n",
    "        \n",
    "        \n",
    "        loss_per_node = loss_per_node.cpu().detach()\n",
    "        \n",
    "        h_loss = h_loss.cpu().detach()\n",
    "        degree_loss = degree_loss.cpu().detach()\n",
    "        feature_loss = feature_loss.cpu().detach()\n",
    "        \n",
    "        h_loss_norm = h_loss / (torch.max(h_loss) - torch.min(h_loss))\n",
    "        degree_loss_norm = degree_loss / (torch.max(degree_loss) - torch.min(degree_loss))\n",
    "        feature_loss_norm = feature_loss / (torch.max(feature_loss) - torch.min(feature_loss))\n",
    "        \n",
    "        comb_loss = args.h_loss_weight * h_loss_norm + args.degree_loss_weight *  degree_loss_norm + args.feature_loss_weight * feature_loss_norm\n",
    "        \n",
    "        if real_loss:\n",
    "            comp_loss = loss_per_node\n",
    "        else:\n",
    "            comp_loss = comb_loss\n",
    "            \n",
    "        \n",
    "        auc_score = eval_roc_auc(y.numpy(), comp_loss.numpy()) * 100\n",
    "        print(\"Dataset Name: \",dataset_str, \", AUC Score(benchmark/combined): \", auc_score)\n",
    "        \n",
    "        contextual_auc_score = eval_roc_auc(yc.numpy(), comp_loss.numpy()) * 100\n",
    "        print(\"Dataset Name: \",dataset_str, \", AUC Score (contextual): \", contextual_auc_score)\n",
    "\n",
    "        dense_structural_auc_score = eval_roc_auc(ys.numpy(), comp_loss.numpy()) * 100\n",
    "        print(\"Dataset Name: \",dataset_str, \", AUC Score (structural): \", dense_structural_auc_score)\n",
    "        \n",
    "        joint_structural_auc_score = eval_roc_auc(yj.numpy(), comp_loss.numpy()) * 100\n",
    "        print(\"Dataset Name: \",dataset_str, \", AUC Score (joint-type): \", joint_structural_auc_score)\n",
    "        \n",
    "        structure_type_auc_score = eval_roc_auc(ysj.numpy(), comp_loss.numpy()) * 100\n",
    "        print(\"Dataset Name: \",dataset_str, \", AUC Score (structure type): \", joint_structural_auc_score) \n",
    "        \n",
    "        best_auc = max(best_auc, auc_score)\n",
    "        best_auc_contextual = max(best_auc_contextual, contextual_auc_score)\n",
    "        best_auc_dense_structural = max(best_auc_dense_structural, dense_structural_auc_score)\n",
    "        best_auc_joint_structural = max(best_auc_joint_structural, joint_structural_auc_score)\n",
    "        best_auc_structure_type = max(best_auc_structure_type, structure_type_auc_score)\n",
    "        \n",
    "        \n",
    "        \n",
    "        print(\"===========================================================================================\")\n",
    "        print(\"Dataset Name: \",dataset_str, \" Best AUC Score(benchmark/combined): \", best_auc)\n",
    "        \n",
    "        contextual_auc_score = eval_roc_auc(yc.numpy(), comp_loss.numpy()) * 100\n",
    "        print(\"Dataset Name: \",dataset_str, \" Best AUC Score (contextual): \", best_auc_contextual)\n",
    "\n",
    "        dense_structural_auc_score = eval_roc_auc(ys.numpy(), comp_loss.numpy()) * 100\n",
    "        print(\"Dataset Name: \",dataset_str, \" Best AUC Score (structural): \", best_auc_dense_structural)\n",
    "        \n",
    "        joint_structural_auc_score = eval_roc_auc(yj.numpy(), comp_loss.numpy()) * 100\n",
    "        print(\"Dataset Name: \",dataset_str, \" Best AUC Score (joint-type): \", best_auc_joint_structural)\n",
    "        \n",
    "        structure_type_auc_score = eval_roc_auc(ysj.numpy(), comp_loss.numpy()) * 100\n",
    "        print(\"Dataset Name: \",dataset_str, \" Best AUC Score (structure type): \", best_auc_structure_type) \n",
    "        print(\"===========================================================================================\")\n",
    "        \n",
    "        \n",
    "        if loss < min_loss:\n",
    "            min_loss = loss\n",
    "            arg_min_loss_per_node = loss_per_node\n",
    "        opt.zero_grad()\n",
    "        loss.backward()\n",
    "        opt.step()\n",
    "        \n",
    "        loss = loss.cpu().detach()\n",
    "        loss_values.append(loss)\n",
    "        \n",
    "    \n",
    "    \n",
    "    return min_loss.item(), arg_min_loss_per_node.cpu().detach()\n",
    "\n",
    "\n",
    "\n",
    "\n",
    "def evaluate(model, embeddings, labels, mask):\n",
    "    model.eval()\n",
    "    with torch.no_grad():\n",
    "        logits = model(embeddings)\n",
    "        logits = logits[mask]\n",
    "        labels = labels[mask]\n",
    "        _, indices = torch.max(logits, dim=1)\n",
    "        correct = torch.sum(indices == labels)\n",
    "        return correct.item() * 1.0 / len(labels)\n",
    "\n",
    "\n",
    "def train_real_datasets(dataset_str, epoch_num = 10, lr = 5e-6, encoder = \"GCN\", \n",
    "                        lambda_loss1=1e-2, lambda_loss2=1e-3, lambda_loss3=1e-3, sample_size=8, loss_step=20, hidden_dim=None,\n",
    "                        real_loss=False,calculate_contextual=False,calculate_structural=False):\n",
    "    \n",
    "    data = load_data(dataset_str)\n",
    "    node_features = data.x\n",
    "    node_features_min = node_features.min()\n",
    "    node_features_max = node_features.max()\n",
    "    node_features = (node_features - node_features_min)/node_features_max\n",
    "    data.x = node_features\n",
    "    \n",
    "    yc = []\n",
    "    ys = []\n",
    "    yj = []\n",
    "    \n",
    "    if calculate_contextual:\n",
    "        \n",
    "        if dataset_str == \"inj_cora\":\n",
    "            yc = data.y >> 0 & 1 # contextual outliers\n",
    "        else:\n",
    "            data, yc = gen_contextual_outliers(data=data,n=args.contextual_n,k=args.contextual_k)\n",
    "            \n",
    "        yc = yc.cpu().detach()\n",
    "    \n",
    "    \n",
    "    if calculate_structural:\n",
    "        \n",
    "        if dataset_str == \"inj_cora\":\n",
    "            ys = data.y >> 1 & 1 # structural outliers\n",
    "        else:\n",
    "            data, ys = gen_structural_outliers(data=data,n=args.structural_n,m=args.structural_m,p=0.2)\n",
    "            \n",
    "        ys = ys.cpu().detach()\n",
    "        data, yj = gen_joint_structural_outliers(data=data,n=args.structural_n,m=args.structural_m)\n",
    "        \n",
    "    \n",
    "    if args.use_combine_outlier:\n",
    "        data.y = torch.logical_or(ys, yc).int()\n",
    "        \n",
    "    ysj = torch.logical_or(ys, yj).int()\n",
    "    y = data.y.bool()    # binary labels (inlier/outlier)\n",
    "    y = y.cpu().detach()\n",
    "    \n",
    "    edge_index = data.edge_index.cpu()\n",
    "    \n",
    "    num_nodes = node_features.shape[0]\n",
    "    self_edges = torch.tensor([[i for i in range(num_nodes)],[i for i in range(num_nodes)]])\n",
    "    edge_index = torch.cat([edge_index,self_edges],dim=1)\n",
    "    data.edge_index = edge_index\n",
    "    data = data.to(device)\n",
    "    \n",
    "\n",
    "    loss, loss_per_node, = train(data, y, yc, ys, yj, ysj, lr=lr, epoch=epoch_num, device=device, encoder=encoder, lambda_loss1=lambda_loss1, \n",
    "          lambda_loss2=lambda_loss2, lambda_loss3=lambda_loss3, hidden_dim=hidden_dim, sample_size=sample_size,loss_step=loss_step,\n",
    "                                 real_loss=real_loss,calculate_contextual=calculate_contextual,calculate_structural=calculate_structural)"
   ]
  },
  {
   "cell_type": "code",
   "execution_count": 5,
   "id": "44a718ab-e1e0-49be-9748-dc4e8e0af644",
   "metadata": {},
   "outputs": [],
   "source": [
    "# generate ground truth neighbors Hv\n",
    "def generate_gt_neighbor(neighbor_dict, node_embeddings, neighbor_num_list, in_dim):\n",
    "    max_neighbor_num = max(neighbor_num_list)\n",
    "    all_gt_neighbor_embeddings = []\n",
    "    for i, embedding in enumerate(node_embeddings):\n",
    "        neighbor_indexes = neighbor_dict[i]\n",
    "        neighbor_embeddings = []\n",
    "        for index in neighbor_indexes:\n",
    "            neighbor_embeddings.append(node_embeddings[index].tolist())\n",
    "        if len(neighbor_embeddings) < max_neighbor_num:\n",
    "            for _ in range(max_neighbor_num - len(neighbor_embeddings)):\n",
    "                neighbor_embeddings.append(torch.zeros(in_dim).tolist())\n",
    "        all_gt_neighbor_embeddings.append(neighbor_embeddings)\n",
    "    return all_gt_neighbor_embeddings\n",
    "\n",
    "\n",
    "# Main Autoencoder structure here\n",
    "class GNNStructEncoder(nn.Module):\n",
    "    def __init__(self, in_dim0, in_dim, hidden_dim, layer_num, sample_size, device, neighbor_num_list, \n",
    "                 GNN_name=\"GIN\", norm_mode=\"PN-SCS\", norm_scale=20, lambda_loss1=0.01, lambda_loss2=0.001, lambda_loss3=0.0001):\n",
    "        \n",
    "        super(GNNStructEncoder, self).__init__()\n",
    "        \n",
    "        self.mlp0 = nn.Linear(in_dim0, hidden_dim)\n",
    "        self.norm = PairNorm(norm_mode, norm_scale)\n",
    "        self.out_dim = hidden_dim\n",
    "        self.lambda_loss1 = lambda_loss1\n",
    "        self.lambda_loss2 = lambda_loss2\n",
    "        self.lambda_loss3 = lambda_loss3\n",
    "        # GNN Encoder\n",
    "        if GNN_name == \"GIN\":\n",
    "            self.linear1 = MLP(layer_num, hidden_dim, hidden_dim, hidden_dim)\n",
    "            self.graphconv1 = GINConv(self.linear1)\n",
    "            self.linear2 = MLP(layer_num, hidden_dim, hidden_dim, hidden_dim)\n",
    "            self.graphconv2 = GINConv(self.linear2)\n",
    "        elif GNN_name == \"GCN\":\n",
    "            self.graphconv1 = GCNConv(hidden_dim, hidden_dim)\n",
    "            self.graphconv2 = GCNConv(hidden_dim, hidden_dim)\n",
    "        elif GNN_name == \"GAT\":\n",
    "            self.graphconv1 = GATConv(hidden_dim, hidden_dim)\n",
    "            self.graphconv2 = GATConv(hidden_dim, hidden_dim)\n",
    "        else:\n",
    "            self.graphconv1 = SAGEConv(hidden_dim, hidden_dim, aggr='mean')\n",
    "            self.graphconv2 = SAGEConv(hidden_dim, hidden_dim, aggr='mean')\n",
    "\n",
    "        self.neighbor_num_list = neighbor_num_list\n",
    "        self.neighbor_generator = MLP_generator(hidden_dim, hidden_dim, sample_size).to(device)\n",
    "\n",
    "        self.gaussian_mean = nn.Parameter(\n",
    "            torch.FloatTensor(sample_size, hidden_dim).uniform_(-0.5 / hidden_dim,\n",
    "                                                                                     0.5 / hidden_dim)).to(device)\n",
    "        self.gaussian_log_sigma = nn.Parameter(\n",
    "            torch.FloatTensor(sample_size, hidden_dim).uniform_(-0.5 / hidden_dim,\n",
    "                                                                                     0.5 / hidden_dim)).to(device)\n",
    "        self.m = torch.distributions.Normal(torch.zeros(sample_size, hidden_dim),\n",
    "                                            torch.ones(sample_size, hidden_dim))\n",
    "\n",
    "        self.m_h = torch.distributions.Normal(torch.zeros(sample_size, hidden_dim),\n",
    "                                            50* torch.ones(sample_size, hidden_dim))\n",
    "\n",
    "        # Before MLP Gaussian Means, and std\n",
    "\n",
    "        self.mlp_gaussian_mean = nn.Parameter(\n",
    "            torch.FloatTensor(hidden_dim).uniform_(-0.5 / hidden_dim, 0.5 / hidden_dim)).to(device)\n",
    "        self.mlp_gaussian_log_sigma = nn.Parameter(\n",
    "            torch.FloatTensor(hidden_dim).uniform_(-0.5 / hidden_dim, 0.5 / hidden_dim)).to(device)\n",
    "        self.mlp_m = torch.distributions.Normal(torch.zeros(hidden_dim), torch.ones(hidden_dim))\n",
    "\n",
    "        self.mlp_mean = nn.Linear(hidden_dim, hidden_dim)\n",
    "        self.mlp_sigma = nn.Linear(hidden_dim, hidden_dim)\n",
    "\n",
    "        self.layer1_generator = MLP_generator(hidden_dim, hidden_dim, sample_size)\n",
    "        \n",
    "        # Decoders\n",
    "        self.degree_decoder = FNN(hidden_dim, hidden_dim, 1, 4)\n",
    "        self.feature_decoder = FNN(hidden_dim, hidden_dim, in_dim, 3)\n",
    "        self.degree_loss_func = nn.MSELoss()\n",
    "        self.feature_loss_func = nn.MSELoss()\n",
    "        self.pool = mp.Pool(4)\n",
    "        self.in_dim = in_dim\n",
    "        self.sample_size = sample_size \n",
    "        self.init_projection = FNN(in_dim, hidden_dim, hidden_dim, 1)\n",
    "        \n",
    "\n",
    "    def forward_encoder(self, x, edge_index):\n",
    "        \n",
    "        # Apply graph convolution and activation, pair-norm to avoid trivial solution\n",
    "        h0 = self.mlp0(x)\n",
    "        l1 = self.graphconv1(h0, edge_index)\n",
    "        return l1, h0\n",
    "        \n",
    "        \n",
    "\n",
    "    # Sample neighbors from neighbor set, if the length of neighbor set less than sample size, then do the padding.\n",
    "    def sample_neighbors(self, indexes, neighbor_dict, gt_embeddings):\n",
    "        sampled_embeddings_list = []\n",
    "        mark_len_list = []\n",
    "        for index in indexes:\n",
    "            sampled_embeddings = []\n",
    "            neighbor_indexes = neighbor_dict[index]\n",
    "            if len(neighbor_indexes) < self.sample_size:\n",
    "                mask_len = len(neighbor_indexes)\n",
    "                sample_indexes = neighbor_indexes\n",
    "            else:\n",
    "                sample_indexes = random.sample(neighbor_indexes, self.sample_size)\n",
    "                mask_len = self.sample_size\n",
    "            for index in sample_indexes:\n",
    "                sampled_embeddings.append(gt_embeddings[index].tolist())\n",
    "            if len(sampled_embeddings) < self.sample_size:\n",
    "                for _ in range(self.sample_size - len(sampled_embeddings)):\n",
    "                    sampled_embeddings.append(torch.zeros(self.out_dim).tolist())\n",
    "            sampled_embeddings_list.append(sampled_embeddings)\n",
    "            mark_len_list.append(mask_len)\n",
    "        \n",
    "        return sampled_embeddings_list, mark_len_list\n",
    "\n",
    "    def reconstruction_neighbors(self, FNN_generator, neighbor_indexes, neighbor_dict, from_layer, to_layer, device):\n",
    "        \n",
    "        \n",
    "        local_index_loss = 0\n",
    "        local_index_loss_per_node = []\n",
    "        sampled_embeddings_list, mark_len_list = self.sample_neighbors(neighbor_indexes, neighbor_dict, to_layer)\n",
    "        for i, neighbor_embeddings1 in enumerate(sampled_embeddings_list):\n",
    "            # Generating h^k_v, reparameterization trick\n",
    "            index = neighbor_indexes[i]\n",
    "            mask_len1 = mark_len_list[i]\n",
    "            mean = from_layer[index].repeat(self.sample_size, 1)\n",
    "            mean = self.mlp_mean(mean)\n",
    "            sigma = from_layer[index].repeat(self.sample_size, 1)\n",
    "            sigma = self.mlp_sigma(sigma)\n",
    "            std_z = self.m.sample().to(device)\n",
    "            var = mean + sigma.exp() * std_z\n",
    "            nhij = FNN_generator(var, device)\n",
    "            \n",
    "            generated_neighbors = nhij\n",
    "            sum_neighbor_norm = 0\n",
    "            \n",
    "            for indexi, generated_neighbor in enumerate(generated_neighbors):\n",
    "                sum_neighbor_norm += torch.norm(generated_neighbor) / math.sqrt(self.out_dim)\n",
    "            generated_neighbors = torch.unsqueeze(generated_neighbors, dim=0).to(device)\n",
    "            target_neighbors = torch.unsqueeze(torch.FloatTensor(neighbor_embeddings1), dim=0).to(device)\n",
    "            \n",
    "            if args.neigh_loss == \"KL\":\n",
    "            \n",
    "                    KL_loss = KL_neighbor_loss(generated_neighbors, target_neighbors, mask_len1)\n",
    "                    local_index_loss += KL_loss\n",
    "                    local_index_loss_per_node.append(KL_loss)\n",
    "            \n",
    "            else:\n",
    "                    W2_loss = W2_neighbor_loss(generated_neighbors, target_neighbors, mask_len1)\n",
    "                    local_index_loss += W2_loss\n",
    "                    local_index_loss_per_node.append(W2_loss)\n",
    "            \n",
    "            \n",
    "        local_index_loss_per_node = torch.stack(local_index_loss_per_node)\n",
    "        return local_index_loss, local_index_loss_per_node\n",
    "    \n",
    "\n",
    "    def neighbor_decoder(self, gij, ground_truth_degree_matrix, h0, neighbor_dict, device, h):\n",
    "        \n",
    "        # Degree decoder below:\n",
    "        tot_nodes = gij.shape[0]\n",
    "        degree_logits = self.degree_decoding(gij)\n",
    "        ground_truth_degree_matrix = torch.unsqueeze(ground_truth_degree_matrix, dim=1)\n",
    "        degree_loss = self.degree_loss_func(degree_logits, ground_truth_degree_matrix.float())\n",
    "        degree_loss_per_node = (degree_logits-ground_truth_degree_matrix).pow(2)\n",
    "        _, degree_masks = torch.max(degree_logits.data, dim=1)\n",
    "        h_loss = 0\n",
    "        feature_loss = 0\n",
    "        # layer 1\n",
    "        loss_list = []\n",
    "        loss_list_per_node = []\n",
    "        feature_loss_list = []\n",
    "        # Sample multiple times to remove noise\n",
    "        for _ in range(3):\n",
    "            local_index_loss_sum = 0\n",
    "            local_index_loss_sum_per_node = []\n",
    "            indexes = []\n",
    "            h0_prime = self.feature_decoder(gij)\n",
    "            feature_losses = self.feature_loss_func(h0, h0_prime)\n",
    "            feature_losses_per_node = (h0-h0_prime).pow(2).mean(1)\n",
    "            feature_loss_list.append(feature_losses_per_node)\n",
    "            \n",
    "            \n",
    "            for i1, embedding in enumerate(gij):\n",
    "                indexes.append(i1)\n",
    "            local_index_loss, local_index_loss_per_node = self.reconstruction_neighbors(self.layer1_generator, indexes, neighbor_dict, gij, h0, device)\n",
    "\n",
    "            loss_list.append(local_index_loss)\n",
    "            loss_list_per_node.append(local_index_loss_per_node)\n",
    "            \n",
    "        loss_list = torch.stack(loss_list)\n",
    "        h_loss += torch.mean(loss_list)\n",
    "        \n",
    "        loss_list_per_node = torch.stack(loss_list_per_node)\n",
    "        h_loss_per_node = torch.mean(loss_list_per_node,dim=0)\n",
    "        \n",
    "        feature_loss_per_node = torch.mean(torch.stack(feature_loss_list),dim=0)\n",
    "        feature_loss += torch.mean(torch.stack(feature_loss_list))\n",
    "                \n",
    "        h_loss_per_node = h_loss_per_node.reshape(tot_nodes,1)\n",
    "        degree_loss_per_node = degree_loss_per_node.reshape(tot_nodes,1)\n",
    "        feature_loss_per_node = feature_loss_per_node.reshape(tot_nodes,1)\n",
    "        \n",
    "        \n",
    "        loss = self.lambda_loss1 * h_loss + degree_loss * self.lambda_loss3 + self.lambda_loss2 * feature_loss\n",
    "        loss_per_node = self.lambda_loss1 * h_loss_per_node + degree_loss_per_node * self.lambda_loss3 + self.lambda_loss2 * feature_loss_per_node\n",
    "        \n",
    "        return loss,loss_per_node,h_loss_per_node,degree_loss_per_node,feature_loss_per_node\n",
    "\n",
    "    def degree_decoding(self, node_embeddings):\n",
    "        degree_logits = F.relu(self.degree_decoder(node_embeddings))\n",
    "        return degree_logits\n",
    "\n",
    "    def forward(self, edge_index, x, ground_truth_degree_matrix, neighbor_dict, device):\n",
    "        \n",
    "        # Generate GNN encodings\n",
    "        l1, h0 = self.forward_encoder(x, edge_index)\n",
    "        loss, loss_per_node,h_loss,degree_loss,feature_loss = self.neighbor_decoder(l1, ground_truth_degree_matrix, h0, neighbor_dict, device, x)\n",
    "        \n",
    "        return loss, loss_per_node,h_loss,degree_loss,feature_loss\n"
   ]
  },
  {
   "cell_type": "markdown",
   "id": "be33ad17-0dda-4225-a900-85f33f6680d1",
   "metadata": {},
   "source": [
    "# Execution"
   ]
  },
  {
   "cell_type": "code",
   "execution_count": null,
   "id": "e86955e8-54b2-4103-974d-98fff445534c",
   "metadata": {
    "scrolled": true,
    "tags": []
   },
   "outputs": [
    {
     "name": "stdout",
     "output_type": "stream",
     "text": [
      "GAD-NR: Graph Anomaly Detection via Neighborhood Reconstruction\n",
      "Dataset:  inj_cora lr: 0.01 lambda_loss1 (neighbor): 0.01 lambda_loss2 (feature): 0.5 lambda_loss3 (degree): 0.8 sample_size: 10 dimension: 128 encoder: GCN loss_step: 30 real_loss: False h_loss_weight: 1.0 feature_loss_weight 2.0 degree_loss_weight: 1.0 calculate_contextual True calculate_structural True\n"
     ]
    },
    {
     "name": "stderr",
     "output_type": "stream",
     "text": [
      "  0%|          | 1/500 [00:16<2:17:45, 16.56s/it]"
     ]
    },
    {
     "name": "stdout",
     "output_type": "stream",
     "text": [
      "Dataset Name:  inj_cora , AUC Score(benchmark/combined):  53.56369480629335\n",
      "Dataset Name:  inj_cora , AUC Score (contextual):  48.29903606628398\n",
      "Dataset Name:  inj_cora , AUC Score (structural):  59.40755983970541\n",
      "Dataset Name:  inj_cora , AUC Score (joint-type):  49.69078306076032\n",
      "Dataset Name:  inj_cora , AUC Score (structure type):  49.69078306076032\n",
      "===========================================================================================\n",
      "Dataset Name:  inj_cora  Best AUC Score(benchmark/combined):  53.56369480629335\n",
      "Dataset Name:  inj_cora  Best AUC Score (contextual):  48.29903606628398\n",
      "Dataset Name:  inj_cora  Best AUC Score (structural):  59.40755983970541\n",
      "Dataset Name:  inj_cora  Best AUC Score (joint-type):  49.69078306076032\n",
      "Dataset Name:  inj_cora  Best AUC Score (structure type):  54.67317534490432\n",
      "===========================================================================================\n"
     ]
    },
    {
     "name": "stderr",
     "output_type": "stream",
     "text": [
      "  0%|          | 2/500 [00:32<2:14:20, 16.19s/it]"
     ]
    },
    {
     "name": "stdout",
     "output_type": "stream",
     "text": [
      "Dataset Name:  inj_cora , AUC Score(benchmark/combined):  60.087548638132304\n",
      "Dataset Name:  inj_cora , AUC Score (contextual):  43.69164951803314\n",
      "Dataset Name:  inj_cora , AUC Score (structural):  75.4264594389689\n",
      "Dataset Name:  inj_cora , AUC Score (joint-type):  52.49837539261345\n",
      "Dataset Name:  inj_cora , AUC Score (structure type):  52.49837539261345\n",
      "===========================================================================================\n",
      "Dataset Name:  inj_cora  Best AUC Score(benchmark/combined):  60.087548638132304\n",
      "Dataset Name:  inj_cora  Best AUC Score (contextual):  48.29903606628398\n",
      "Dataset Name:  inj_cora  Best AUC Score (structural):  75.4264594389689\n",
      "Dataset Name:  inj_cora  Best AUC Score (joint-type):  52.49837539261345\n",
      "Dataset Name:  inj_cora  Best AUC Score (structure type):  64.34301290609703\n",
      "===========================================================================================\n"
     ]
    },
    {
     "name": "stderr",
     "output_type": "stream",
     "text": [
      "  1%|          | 3/500 [00:48<2:13:18, 16.09s/it]"
     ]
    },
    {
     "name": "stdout",
     "output_type": "stream",
     "text": [
      "Dataset Name:  inj_cora , AUC Score(benchmark/combined):  65.55292392714148\n",
      "Dataset Name:  inj_cora , AUC Score (contextual):  40.19062060002165\n",
      "Dataset Name:  inj_cora , AUC Score (structural):  90.81122062168309\n",
      "Dataset Name:  inj_cora , AUC Score (joint-type):  46.19462796490848\n",
      "Dataset Name:  inj_cora , AUC Score (structure type):  46.19462796490848\n",
      "===========================================================================================\n",
      "Dataset Name:  inj_cora  Best AUC Score(benchmark/combined):  65.55292392714148\n",
      "Dataset Name:  inj_cora  Best AUC Score (contextual):  48.29903606628398\n",
      "Dataset Name:  inj_cora  Best AUC Score (structural):  90.81122062168309\n",
      "Dataset Name:  inj_cora  Best AUC Score (joint-type):  52.49837539261345\n",
      "Dataset Name:  inj_cora  Best AUC Score (structure type):  69.00728749443704\n",
      "===========================================================================================\n"
     ]
    },
    {
     "name": "stderr",
     "output_type": "stream",
     "text": [
      "  1%|          | 4/500 [01:04<2:12:38, 16.04s/it]"
     ]
    },
    {
     "name": "stdout",
     "output_type": "stream",
     "text": [
      "Dataset Name:  inj_cora , AUC Score(benchmark/combined):  76.1990356961597\n",
      "Dataset Name:  inj_cora , AUC Score (contextual):  61.80737571753494\n",
      "Dataset Name:  inj_cora , AUC Score (structural):  89.91389580851293\n",
      "Dataset Name:  inj_cora , AUC Score (joint-type):  54.002491064659374\n",
      "Dataset Name:  inj_cora , AUC Score (structure type):  54.002491064659374\n",
      "===========================================================================================\n",
      "Dataset Name:  inj_cora  Best AUC Score(benchmark/combined):  76.1990356961597\n",
      "Dataset Name:  inj_cora  Best AUC Score (contextual):  61.80737571753494\n",
      "Dataset Name:  inj_cora  Best AUC Score (structural):  90.81122062168309\n",
      "Dataset Name:  inj_cora  Best AUC Score (joint-type):  54.002491064659374\n",
      "Dataset Name:  inj_cora  Best AUC Score (structure type):  72.55674232309745\n",
      "===========================================================================================\n"
     ]
    },
    {
     "name": "stderr",
     "output_type": "stream",
     "text": [
      "  1%|          | 5/500 [01:20<2:12:27, 16.06s/it]"
     ]
    },
    {
     "name": "stdout",
     "output_type": "stream",
     "text": [
      "Dataset Name:  inj_cora , AUC Score(benchmark/combined):  75.84672644222637\n",
      "Dataset Name:  inj_cora , AUC Score (contextual):  61.59049063143074\n",
      "Dataset Name:  inj_cora , AUC Score (structural):  89.43571970107223\n",
      "Dataset Name:  inj_cora , AUC Score (joint-type):  51.98202101158886\n",
      "Dataset Name:  inj_cora , AUC Score (structure type):  51.98202101158886\n",
      "===========================================================================================\n",
      "Dataset Name:  inj_cora  Best AUC Score(benchmark/combined):  76.1990356961597\n",
      "Dataset Name:  inj_cora  Best AUC Score (contextual):  61.80737571753494\n",
      "Dataset Name:  inj_cora  Best AUC Score (structural):  90.81122062168309\n",
      "Dataset Name:  inj_cora  Best AUC Score (joint-type):  54.002491064659374\n",
      "Dataset Name:  inj_cora  Best AUC Score (structure type):  72.55674232309745\n",
      "===========================================================================================\n"
     ]
    },
    {
     "name": "stderr",
     "output_type": "stream",
     "text": [
      "  1%|          | 6/500 [01:36<2:11:42, 16.00s/it]"
     ]
    },
    {
     "name": "stdout",
     "output_type": "stream",
     "text": [
      "Dataset Name:  inj_cora , AUC Score(benchmark/combined):  75.37303332769413\n",
      "Dataset Name:  inj_cora , AUC Score (contextual):  61.59753059677245\n",
      "Dataset Name:  inj_cora , AUC Score (structural):  88.49453048846529\n",
      "Dataset Name:  inj_cora , AUC Score (joint-type):  51.74266218997076\n",
      "Dataset Name:  inj_cora , AUC Score (structure type):  51.74266218997076\n",
      "===========================================================================================\n",
      "Dataset Name:  inj_cora  Best AUC Score(benchmark/combined):  76.1990356961597\n",
      "Dataset Name:  inj_cora  Best AUC Score (contextual):  61.80737571753494\n",
      "Dataset Name:  inj_cora  Best AUC Score (structural):  90.81122062168309\n",
      "Dataset Name:  inj_cora  Best AUC Score (joint-type):  54.002491064659374\n",
      "Dataset Name:  inj_cora  Best AUC Score (structure type):  72.55674232309745\n",
      "===========================================================================================\n"
     ]
    },
    {
     "name": "stderr",
     "output_type": "stream",
     "text": [
      "  1%|▏         | 7/500 [01:52<2:11:54, 16.05s/it]"
     ]
    },
    {
     "name": "stdout",
     "output_type": "stream",
     "text": [
      "Dataset Name:  inj_cora , AUC Score(benchmark/combined):  76.1097952969041\n",
      "Dataset Name:  inj_cora , AUC Score (contextual):  62.239792050254515\n",
      "Dataset Name:  inj_cora , AUC Score (structural):  89.23968374309541\n",
      "Dataset Name:  inj_cora , AUC Score (joint-type):  51.910538286580746\n",
      "Dataset Name:  inj_cora , AUC Score (structure type):  51.910538286580746\n",
      "===========================================================================================\n",
      "Dataset Name:  inj_cora  Best AUC Score(benchmark/combined):  76.1990356961597\n",
      "Dataset Name:  inj_cora  Best AUC Score (contextual):  62.239792050254515\n",
      "Dataset Name:  inj_cora  Best AUC Score (structural):  90.81122062168309\n",
      "Dataset Name:  inj_cora  Best AUC Score (joint-type):  54.002491064659374\n",
      "Dataset Name:  inj_cora  Best AUC Score (structure type):  72.55674232309745\n",
      "===========================================================================================\n"
     ]
    },
    {
     "name": "stderr",
     "output_type": "stream",
     "text": [
      "  2%|▏         | 8/500 [02:08<2:11:26, 16.03s/it]"
     ]
    },
    {
     "name": "stdout",
     "output_type": "stream",
     "text": [
      "Dataset Name:  inj_cora , AUC Score(benchmark/combined):  77.08960694749901\n",
      "Dataset Name:  inj_cora , AUC Score (contextual):  62.67843604462256\n",
      "Dataset Name:  inj_cora , AUC Score (structural):  90.72674103758258\n",
      "Dataset Name:  inj_cora , AUC Score (joint-type):  52.085454348532444\n",
      "Dataset Name:  inj_cora , AUC Score (structure type):  52.085454348532444\n",
      "===========================================================================================\n",
      "Dataset Name:  inj_cora  Best AUC Score(benchmark/combined):  77.08960694749901\n",
      "Dataset Name:  inj_cora  Best AUC Score (contextual):  62.67843604462256\n",
      "Dataset Name:  inj_cora  Best AUC Score (structural):  90.81122062168309\n",
      "Dataset Name:  inj_cora  Best AUC Score (joint-type):  54.002491064659374\n",
      "Dataset Name:  inj_cora  Best AUC Score (structure type):  72.55674232309745\n",
      "===========================================================================================\n"
     ]
    },
    {
     "name": "stderr",
     "output_type": "stream",
     "text": [
      "  2%|▏         | 9/500 [02:26<2:15:45, 16.59s/it]"
     ]
    },
    {
     "name": "stdout",
     "output_type": "stream",
     "text": [
      "Dataset Name:  inj_cora , AUC Score(benchmark/combined):  77.96424744826031\n",
      "Dataset Name:  inj_cora , AUC Score (contextual):  63.89959926351132\n",
      "Dataset Name:  inj_cora , AUC Score (structural):  91.18921260695332\n",
      "Dataset Name:  inj_cora , AUC Score (joint-type):  52.45911404743854\n",
      "Dataset Name:  inj_cora , AUC Score (structure type):  52.45911404743854\n",
      "===========================================================================================\n",
      "Dataset Name:  inj_cora  Best AUC Score(benchmark/combined):  77.96424744826031\n",
      "Dataset Name:  inj_cora  Best AUC Score (contextual):  63.89959926351132\n",
      "Dataset Name:  inj_cora  Best AUC Score (structural):  91.18921260695332\n",
      "Dataset Name:  inj_cora  Best AUC Score (joint-type):  54.002491064659374\n",
      "Dataset Name:  inj_cora  Best AUC Score (structure type):  72.55674232309745\n",
      "===========================================================================================\n"
     ]
    },
    {
     "name": "stderr",
     "output_type": "stream",
     "text": [
      "  2%|▏         | 10/500 [02:45<2:21:43, 17.35s/it]"
     ]
    },
    {
     "name": "stdout",
     "output_type": "stream",
     "text": [
      "Dataset Name:  inj_cora , AUC Score(benchmark/combined):  78.69057689054304\n",
      "Dataset Name:  inj_cora , AUC Score (contextual):  65.04115672045921\n",
      "Dataset Name:  inj_cora , AUC Score (structural):  91.44644210982347\n",
      "Dataset Name:  inj_cora , AUC Score (joint-type):  52.20459222354597\n",
      "Dataset Name:  inj_cora , AUC Score (structure type):  52.20459222354597\n",
      "===========================================================================================\n",
      "Dataset Name:  inj_cora  Best AUC Score(benchmark/combined):  78.69057689054304\n",
      "Dataset Name:  inj_cora  Best AUC Score (contextual):  65.04115672045921\n",
      "Dataset Name:  inj_cora  Best AUC Score (structural):  91.44644210982347\n",
      "Dataset Name:  inj_cora  Best AUC Score (joint-type):  54.002491064659374\n",
      "Dataset Name:  inj_cora  Best AUC Score (structure type):  72.55674232309745\n",
      "===========================================================================================\n"
     ]
    },
    {
     "name": "stderr",
     "output_type": "stream",
     "text": [
      "  2%|▏         | 11/500 [03:04<2:26:01, 17.92s/it]"
     ]
    },
    {
     "name": "stdout",
     "output_type": "stream",
     "text": [
      "Dataset Name:  inj_cora , AUC Score(benchmark/combined):  79.49529126487342\n",
      "Dataset Name:  inj_cora , AUC Score (contextual):  66.77732048088379\n",
      "Dataset Name:  inj_cora , AUC Score (structural):  91.24715693707354\n",
      "Dataset Name:  inj_cora , AUC Score (joint-type):  52.33022852810571\n",
      "Dataset Name:  inj_cora , AUC Score (structure type):  52.33022852810571\n",
      "===========================================================================================\n",
      "Dataset Name:  inj_cora  Best AUC Score(benchmark/combined):  79.49529126487342\n",
      "Dataset Name:  inj_cora  Best AUC Score (contextual):  66.77732048088379\n",
      "Dataset Name:  inj_cora  Best AUC Score (structural):  91.44644210982347\n",
      "Dataset Name:  inj_cora  Best AUC Score (joint-type):  54.002491064659374\n",
      "Dataset Name:  inj_cora  Best AUC Score (structure type):  72.55674232309745\n",
      "===========================================================================================\n"
     ]
    },
    {
     "name": "stderr",
     "output_type": "stream",
     "text": [
      "  2%|▏         | 12/500 [03:23<2:28:59, 18.32s/it]"
     ]
    },
    {
     "name": "stdout",
     "output_type": "stream",
     "text": [
      "Dataset Name:  inj_cora , AUC Score(benchmark/combined):  79.85901990638922\n",
      "Dataset Name:  inj_cora , AUC Score (contextual):  68.34506660890285\n",
      "Dataset Name:  inj_cora , AUC Score (structural):  90.38719809379401\n",
      "Dataset Name:  inj_cora , AUC Score (joint-type):  52.19971840138633\n",
      "Dataset Name:  inj_cora , AUC Score (structure type):  52.19971840138633\n",
      "===========================================================================================\n",
      "Dataset Name:  inj_cora  Best AUC Score(benchmark/combined):  79.85901990638922\n",
      "Dataset Name:  inj_cora  Best AUC Score (contextual):  68.34506660890285\n",
      "Dataset Name:  inj_cora  Best AUC Score (structural):  91.44644210982347\n",
      "Dataset Name:  inj_cora  Best AUC Score (joint-type):  54.002491064659374\n",
      "Dataset Name:  inj_cora  Best AUC Score (structure type):  72.55674232309745\n",
      "===========================================================================================\n"
     ]
    },
    {
     "name": "stderr",
     "output_type": "stream",
     "text": [
      "  3%|▎         | 13/500 [03:43<2:30:51, 18.59s/it]"
     ]
    },
    {
     "name": "stdout",
     "output_type": "stream",
     "text": [
      "Dataset Name:  inj_cora , AUC Score(benchmark/combined):  80.27265550104326\n",
      "Dataset Name:  inj_cora , AUC Score (contextual):  69.93014188237842\n",
      "Dataset Name:  inj_cora , AUC Score (structural):  89.5824759016571\n",
      "Dataset Name:  inj_cora , AUC Score (joint-type):  51.82876638145781\n",
      "Dataset Name:  inj_cora , AUC Score (structure type):  51.82876638145781\n",
      "===========================================================================================\n",
      "Dataset Name:  inj_cora  Best AUC Score(benchmark/combined):  80.27265550104326\n",
      "Dataset Name:  inj_cora  Best AUC Score (contextual):  69.93014188237842\n",
      "Dataset Name:  inj_cora  Best AUC Score (structural):  91.44644210982347\n",
      "Dataset Name:  inj_cora  Best AUC Score (joint-type):  54.002491064659374\n",
      "Dataset Name:  inj_cora  Best AUC Score (structure type):  72.55674232309745\n",
      "===========================================================================================\n"
     ]
    },
    {
     "name": "stderr",
     "output_type": "stream",
     "text": [
      "  3%|▎         | 14/500 [04:02<2:32:20, 18.81s/it]"
     ]
    },
    {
     "name": "stdout",
     "output_type": "stream",
     "text": [
      "Dataset Name:  inj_cora , AUC Score(benchmark/combined):  80.81881238369142\n",
      "Dataset Name:  inj_cora , AUC Score (contextual):  71.03162569045813\n",
      "Dataset Name:  inj_cora , AUC Score (structural):  89.53644535903823\n",
      "Dataset Name:  inj_cora , AUC Score (joint-type):  52.38600671504386\n",
      "Dataset Name:  inj_cora , AUC Score (structure type):  52.38600671504386\n",
      "===========================================================================================\n",
      "Dataset Name:  inj_cora  Best AUC Score(benchmark/combined):  80.81881238369142\n",
      "Dataset Name:  inj_cora  Best AUC Score (contextual):  71.03162569045813\n",
      "Dataset Name:  inj_cora  Best AUC Score (structural):  91.44644210982347\n",
      "Dataset Name:  inj_cora  Best AUC Score (joint-type):  54.002491064659374\n",
      "Dataset Name:  inj_cora  Best AUC Score (structure type):  72.55674232309745\n",
      "===========================================================================================\n"
     ]
    },
    {
     "name": "stderr",
     "output_type": "stream",
     "text": [
      "  3%|▎         | 15/500 [04:21<2:33:04, 18.94s/it]"
     ]
    },
    {
     "name": "stdout",
     "output_type": "stream",
     "text": [
      "Dataset Name:  inj_cora , AUC Score(benchmark/combined):  81.20876332261886\n",
      "Dataset Name:  inj_cora , AUC Score (contextual):  72.58745803097585\n",
      "Dataset Name:  inj_cora , AUC Score (structural):  88.72468320155963\n",
      "Dataset Name:  inj_cora , AUC Score (joint-type):  52.07354056103108\n",
      "Dataset Name:  inj_cora , AUC Score (structure type):  52.07354056103108\n",
      "===========================================================================================\n",
      "Dataset Name:  inj_cora  Best AUC Score(benchmark/combined):  81.20876332261886\n",
      "Dataset Name:  inj_cora  Best AUC Score (contextual):  72.58745803097585\n",
      "Dataset Name:  inj_cora  Best AUC Score (structural):  91.44644210982347\n",
      "Dataset Name:  inj_cora  Best AUC Score (joint-type):  54.002491064659374\n",
      "Dataset Name:  inj_cora  Best AUC Score (structure type):  72.55674232309745\n",
      "===========================================================================================\n"
     ]
    },
    {
     "name": "stderr",
     "output_type": "stream",
     "text": [
      "  3%|▎         | 16/500 [04:40<2:33:30, 19.03s/it]"
     ]
    },
    {
     "name": "stdout",
     "output_type": "stream",
     "text": [
      "Dataset Name:  inj_cora , AUC Score(benchmark/combined):  81.6097107088479\n",
      "Dataset Name:  inj_cora , AUC Score (contextual):  74.60846961984187\n",
      "Dataset Name:  inj_cora , AUC Score (structural):  87.45153254630131\n",
      "Dataset Name:  inj_cora , AUC Score (joint-type):  52.1688508610419\n",
      "Dataset Name:  inj_cora , AUC Score (structure type):  52.1688508610419\n",
      "===========================================================================================\n",
      "Dataset Name:  inj_cora  Best AUC Score(benchmark/combined):  81.6097107088479\n",
      "Dataset Name:  inj_cora  Best AUC Score (contextual):  74.60846961984187\n",
      "Dataset Name:  inj_cora  Best AUC Score (structural):  91.44644210982347\n",
      "Dataset Name:  inj_cora  Best AUC Score (joint-type):  54.002491064659374\n",
      "Dataset Name:  inj_cora  Best AUC Score (structure type):  72.55674232309745\n",
      "===========================================================================================\n"
     ]
    },
    {
     "name": "stderr",
     "output_type": "stream",
     "text": [
      "  3%|▎         | 17/500 [05:00<2:33:32, 19.07s/it]"
     ]
    },
    {
     "name": "stdout",
     "output_type": "stream",
     "text": [
      "Dataset Name:  inj_cora , AUC Score(benchmark/combined):  81.86121919584954\n",
      "Dataset Name:  inj_cora , AUC Score (contextual):  68.72522473735513\n",
      "Dataset Name:  inj_cora , AUC Score (structural):  93.82919961009422\n",
      "Dataset Name:  inj_cora , AUC Score (joint-type):  49.30087728798874\n",
      "Dataset Name:  inj_cora , AUC Score (structure type):  49.30087728798874\n",
      "===========================================================================================\n",
      "Dataset Name:  inj_cora  Best AUC Score(benchmark/combined):  81.86121919584954\n",
      "Dataset Name:  inj_cora  Best AUC Score (contextual):  74.60846961984187\n",
      "Dataset Name:  inj_cora  Best AUC Score (structural):  93.82919961009422\n",
      "Dataset Name:  inj_cora  Best AUC Score (joint-type):  54.002491064659374\n",
      "Dataset Name:  inj_cora  Best AUC Score (structure type):  72.55674232309745\n",
      "===========================================================================================\n"
     ]
    },
    {
     "name": "stderr",
     "output_type": "stream",
     "text": [
      "  4%|▎         | 18/500 [05:19<2:33:27, 19.10s/it]"
     ]
    },
    {
     "name": "stdout",
     "output_type": "stream",
     "text": [
      "Dataset Name:  inj_cora , AUC Score(benchmark/combined):  77.99751875035244\n",
      "Dataset Name:  inj_cora , AUC Score (contextual):  60.870248023394346\n",
      "Dataset Name:  inj_cora , AUC Score (structural):  94.21206541752409\n",
      "Dataset Name:  inj_cora , AUC Score (joint-type):  45.323296869923105\n",
      "Dataset Name:  inj_cora , AUC Score (structure type):  45.323296869923105\n",
      "===========================================================================================\n",
      "Dataset Name:  inj_cora  Best AUC Score(benchmark/combined):  81.86121919584954\n",
      "Dataset Name:  inj_cora  Best AUC Score (contextual):  74.60846961984187\n",
      "Dataset Name:  inj_cora  Best AUC Score (structural):  94.21206541752409\n",
      "Dataset Name:  inj_cora  Best AUC Score (joint-type):  54.002491064659374\n",
      "Dataset Name:  inj_cora  Best AUC Score (structure type):  72.55674232309745\n",
      "===========================================================================================\n"
     ]
    },
    {
     "name": "stderr",
     "output_type": "stream",
     "text": [
      "  4%|▍         | 19/500 [05:38<2:34:14, 19.24s/it]"
     ]
    },
    {
     "name": "stdout",
     "output_type": "stream",
     "text": [
      "Dataset Name:  inj_cora , AUC Score(benchmark/combined):  77.45220774826595\n",
      "Dataset Name:  inj_cora , AUC Score (contextual):  60.21553124661539\n",
      "Dataset Name:  inj_cora , AUC Score (structural):  93.77342142315607\n",
      "Dataset Name:  inj_cora , AUC Score (joint-type):  42.29881945196578\n",
      "Dataset Name:  inj_cora , AUC Score (structure type):  42.29881945196578\n",
      "===========================================================================================\n",
      "Dataset Name:  inj_cora  Best AUC Score(benchmark/combined):  81.86121919584954\n",
      "Dataset Name:  inj_cora  Best AUC Score (contextual):  74.60846961984187\n",
      "Dataset Name:  inj_cora  Best AUC Score (structural):  94.21206541752409\n",
      "Dataset Name:  inj_cora  Best AUC Score (joint-type):  54.002491064659374\n",
      "Dataset Name:  inj_cora  Best AUC Score (structure type):  72.55674232309745\n",
      "===========================================================================================\n"
     ]
    },
    {
     "name": "stderr",
     "output_type": "stream",
     "text": [
      "  4%|▍         | 20/500 [05:58<2:33:54, 19.24s/it]"
     ]
    },
    {
     "name": "stdout",
     "output_type": "stream",
     "text": [
      "Dataset Name:  inj_cora , AUC Score(benchmark/combined):  76.19579315400665\n",
      "Dataset Name:  inj_cora , AUC Score (contextual):  57.65352539802882\n",
      "Dataset Name:  inj_cora , AUC Score (structural):  93.90284847828441\n",
      "Dataset Name:  inj_cora , AUC Score (joint-type):  41.93165818260587\n",
      "Dataset Name:  inj_cora , AUC Score (structure type):  41.93165818260587\n",
      "===========================================================================================\n",
      "Dataset Name:  inj_cora  Best AUC Score(benchmark/combined):  81.86121919584954\n",
      "Dataset Name:  inj_cora  Best AUC Score (contextual):  74.60846961984187\n",
      "Dataset Name:  inj_cora  Best AUC Score (structural):  94.21206541752409\n",
      "Dataset Name:  inj_cora  Best AUC Score (joint-type):  54.002491064659374\n",
      "Dataset Name:  inj_cora  Best AUC Score (structure type):  72.55674232309745\n",
      "===========================================================================================\n"
     ]
    },
    {
     "name": "stderr",
     "output_type": "stream",
     "text": [
      "  4%|▍         | 21/500 [06:17<2:35:00, 19.42s/it]"
     ]
    },
    {
     "name": "stdout",
     "output_type": "stream",
     "text": [
      "Dataset Name:  inj_cora , AUC Score(benchmark/combined):  78.54423955337506\n",
      "Dataset Name:  inj_cora , AUC Score (contextual):  62.766164843496156\n",
      "Dataset Name:  inj_cora , AUC Score (structural):  93.37322647026969\n",
      "Dataset Name:  inj_cora , AUC Score (joint-type):  44.88681901873714\n",
      "Dataset Name:  inj_cora , AUC Score (structure type):  44.88681901873714\n",
      "===========================================================================================\n",
      "Dataset Name:  inj_cora  Best AUC Score(benchmark/combined):  81.86121919584954\n",
      "Dataset Name:  inj_cora  Best AUC Score (contextual):  74.60846961984187\n",
      "Dataset Name:  inj_cora  Best AUC Score (structural):  94.21206541752409\n",
      "Dataset Name:  inj_cora  Best AUC Score (joint-type):  54.002491064659374\n",
      "Dataset Name:  inj_cora  Best AUC Score (structure type):  72.55674232309745\n",
      "===========================================================================================\n"
     ]
    },
    {
     "name": "stderr",
     "output_type": "stream",
     "text": [
      "  4%|▍         | 22/500 [06:37<2:35:04, 19.47s/it]"
     ]
    },
    {
     "name": "stdout",
     "output_type": "stream",
     "text": [
      "Dataset Name:  inj_cora , AUC Score(benchmark/combined):  80.45085433936728\n",
      "Dataset Name:  inj_cora , AUC Score (contextual):  67.58799956677137\n",
      "Dataset Name:  inj_cora , AUC Score (structural):  92.20350915195495\n",
      "Dataset Name:  inj_cora , AUC Score (joint-type):  46.130726741037584\n",
      "Dataset Name:  inj_cora , AUC Score (structure type):  46.130726741037584\n",
      "===========================================================================================\n",
      "Dataset Name:  inj_cora  Best AUC Score(benchmark/combined):  81.86121919584954\n",
      "Dataset Name:  inj_cora  Best AUC Score (contextual):  74.60846961984187\n",
      "Dataset Name:  inj_cora  Best AUC Score (structural):  94.21206541752409\n",
      "Dataset Name:  inj_cora  Best AUC Score (joint-type):  54.002491064659374\n",
      "Dataset Name:  inj_cora  Best AUC Score (structure type):  72.55674232309745\n",
      "===========================================================================================\n"
     ]
    },
    {
     "name": "stderr",
     "output_type": "stream",
     "text": [
      "  5%|▍         | 23/500 [06:57<2:35:04, 19.51s/it]"
     ]
    },
    {
     "name": "stdout",
     "output_type": "stream",
     "text": [
      "Dataset Name:  inj_cora , AUC Score(benchmark/combined):  81.66751254722833\n",
      "Dataset Name:  inj_cora , AUC Score (contextual):  71.69933932632946\n",
      "Dataset Name:  inj_cora , AUC Score (structural):  90.43918553016354\n",
      "Dataset Name:  inj_cora , AUC Score (joint-type):  48.681360337918335\n",
      "Dataset Name:  inj_cora , AUC Score (structure type):  48.681360337918335\n",
      "===========================================================================================\n",
      "Dataset Name:  inj_cora  Best AUC Score(benchmark/combined):  81.86121919584954\n",
      "Dataset Name:  inj_cora  Best AUC Score (contextual):  74.60846961984187\n",
      "Dataset Name:  inj_cora  Best AUC Score (structural):  94.21206541752409\n",
      "Dataset Name:  inj_cora  Best AUC Score (joint-type):  54.002491064659374\n",
      "Dataset Name:  inj_cora  Best AUC Score (structure type):  72.55674232309745\n",
      "===========================================================================================\n"
     ]
    },
    {
     "name": "stderr",
     "output_type": "stream",
     "text": [
      "  5%|▍         | 24/500 [07:16<2:34:38, 19.49s/it]"
     ]
    },
    {
     "name": "stdout",
     "output_type": "stream",
     "text": [
      "Dataset Name:  inj_cora , AUC Score(benchmark/combined):  82.02503806462528\n",
      "Dataset Name:  inj_cora , AUC Score (contextual):  73.7918336402036\n",
      "Dataset Name:  inj_cora , AUC Score (structural):  89.01223870897867\n",
      "Dataset Name:  inj_cora , AUC Score (joint-type):  49.314415682876636\n",
      "Dataset Name:  inj_cora , AUC Score (structure type):  49.314415682876636\n",
      "===========================================================================================\n",
      "Dataset Name:  inj_cora  Best AUC Score(benchmark/combined):  82.02503806462528\n",
      "Dataset Name:  inj_cora  Best AUC Score (contextual):  74.60846961984187\n",
      "Dataset Name:  inj_cora  Best AUC Score (structural):  94.21206541752409\n",
      "Dataset Name:  inj_cora  Best AUC Score (joint-type):  54.002491064659374\n",
      "Dataset Name:  inj_cora  Best AUC Score (structure type):  72.55674232309745\n",
      "===========================================================================================\n"
     ]
    },
    {
     "name": "stderr",
     "output_type": "stream",
     "text": [
      "  5%|▌         | 25/500 [07:35<2:34:18, 19.49s/it]"
     ]
    },
    {
     "name": "stdout",
     "output_type": "stream",
     "text": [
      "Dataset Name:  inj_cora , AUC Score(benchmark/combined):  82.1194947273445\n",
      "Dataset Name:  inj_cora , AUC Score (contextual):  74.39564605220406\n",
      "Dataset Name:  inj_cora , AUC Score (structural):  88.58550850211199\n",
      "Dataset Name:  inj_cora , AUC Score (joint-type):  49.646377125528\n",
      "Dataset Name:  inj_cora , AUC Score (structure type):  49.646377125528\n",
      "===========================================================================================\n",
      "Dataset Name:  inj_cora  Best AUC Score(benchmark/combined):  82.1194947273445\n",
      "Dataset Name:  inj_cora  Best AUC Score (contextual):  74.60846961984187\n",
      "Dataset Name:  inj_cora  Best AUC Score (structural):  94.21206541752409\n",
      "Dataset Name:  inj_cora  Best AUC Score (joint-type):  54.002491064659374\n",
      "Dataset Name:  inj_cora  Best AUC Score (structure type):  72.55674232309745\n",
      "===========================================================================================\n"
     ]
    },
    {
     "name": "stderr",
     "output_type": "stream",
     "text": [
      "  5%|▌         | 26/500 [07:55<2:34:37, 19.57s/it]"
     ]
    },
    {
     "name": "stdout",
     "output_type": "stream",
     "text": [
      "Dataset Name:  inj_cora , AUC Score(benchmark/combined):  82.61292505498223\n",
      "Dataset Name:  inj_cora , AUC Score (contextual):  74.48283331528215\n",
      "Dataset Name:  inj_cora , AUC Score (structural):  89.4411350590274\n",
      "Dataset Name:  inj_cora , AUC Score (joint-type):  49.281923535145665\n",
      "Dataset Name:  inj_cora , AUC Score (structure type):  49.281923535145665\n",
      "===========================================================================================\n",
      "Dataset Name:  inj_cora  Best AUC Score(benchmark/combined):  82.61292505498223\n",
      "Dataset Name:  inj_cora  Best AUC Score (contextual):  74.60846961984187\n",
      "Dataset Name:  inj_cora  Best AUC Score (structural):  94.21206541752409\n",
      "Dataset Name:  inj_cora  Best AUC Score (joint-type):  54.002491064659374\n",
      "Dataset Name:  inj_cora  Best AUC Score (structure type):  72.55674232309745\n",
      "===========================================================================================\n"
     ]
    },
    {
     "name": "stderr",
     "output_type": "stream",
     "text": [
      "  5%|▌         | 27/500 [08:15<2:34:35, 19.61s/it]"
     ]
    },
    {
     "name": "stdout",
     "output_type": "stream",
     "text": [
      "Dataset Name:  inj_cora , AUC Score(benchmark/combined):  83.05644842948176\n",
      "Dataset Name:  inj_cora , AUC Score (contextual):  73.41979854868406\n",
      "Dataset Name:  inj_cora , AUC Score (structural):  91.39987003140908\n",
      "Dataset Name:  inj_cora , AUC Score (joint-type):  47.85822592873389\n",
      "Dataset Name:  inj_cora , AUC Score (structure type):  47.85822592873389\n",
      "===========================================================================================\n",
      "Dataset Name:  inj_cora  Best AUC Score(benchmark/combined):  83.05644842948176\n",
      "Dataset Name:  inj_cora  Best AUC Score (contextual):  74.60846961984187\n",
      "Dataset Name:  inj_cora  Best AUC Score (structural):  94.21206541752409\n",
      "Dataset Name:  inj_cora  Best AUC Score (joint-type):  54.002491064659374\n",
      "Dataset Name:  inj_cora  Best AUC Score (structure type):  72.55674232309745\n",
      "===========================================================================================\n"
     ]
    },
    {
     "name": "stderr",
     "output_type": "stream",
     "text": [
      "  6%|▌         | 28/500 [08:35<2:34:38, 19.66s/it]"
     ]
    },
    {
     "name": "stdout",
     "output_type": "stream",
     "text": [
      "Dataset Name:  inj_cora , AUC Score(benchmark/combined):  82.63548186995997\n",
      "Dataset Name:  inj_cora , AUC Score (contextual):  72.92754251055995\n",
      "Dataset Name:  inj_cora , AUC Score (structural):  91.06628398137117\n",
      "Dataset Name:  inj_cora , AUC Score (joint-type):  47.46019711902957\n",
      "Dataset Name:  inj_cora , AUC Score (structure type):  47.46019711902957\n",
      "===========================================================================================\n",
      "Dataset Name:  inj_cora  Best AUC Score(benchmark/combined):  83.05644842948176\n",
      "Dataset Name:  inj_cora  Best AUC Score (contextual):  74.60846961984187\n",
      "Dataset Name:  inj_cora  Best AUC Score (structural):  94.21206541752409\n",
      "Dataset Name:  inj_cora  Best AUC Score (joint-type):  54.002491064659374\n",
      "Dataset Name:  inj_cora  Best AUC Score (structure type):  72.55674232309745\n",
      "===========================================================================================\n"
     ]
    },
    {
     "name": "stderr",
     "output_type": "stream",
     "text": [
      "  6%|▌         | 29/500 [08:54<2:33:54, 19.61s/it]"
     ]
    },
    {
     "name": "stdout",
     "output_type": "stream",
     "text": [
      "Dataset Name:  inj_cora , AUC Score(benchmark/combined):  82.71273896125867\n",
      "Dataset Name:  inj_cora , AUC Score (contextual):  73.25354705946062\n",
      "Dataset Name:  inj_cora , AUC Score (structural):  90.88162027510019\n",
      "Dataset Name:  inj_cora , AUC Score (joint-type):  46.16700963933716\n",
      "Dataset Name:  inj_cora , AUC Score (structure type):  46.16700963933716\n",
      "===========================================================================================\n",
      "Dataset Name:  inj_cora  Best AUC Score(benchmark/combined):  83.05644842948176\n",
      "Dataset Name:  inj_cora  Best AUC Score (contextual):  74.60846961984187\n",
      "Dataset Name:  inj_cora  Best AUC Score (structural):  94.21206541752409\n",
      "Dataset Name:  inj_cora  Best AUC Score (joint-type):  54.002491064659374\n",
      "Dataset Name:  inj_cora  Best AUC Score (structure type):  72.55674232309745\n",
      "===========================================================================================\n"
     ]
    },
    {
     "name": "stderr",
     "output_type": "stream",
     "text": [
      "  6%|▌         | 30/500 [09:13<2:30:36, 19.23s/it]"
     ]
    },
    {
     "name": "stdout",
     "output_type": "stream",
     "text": [
      "Dataset Name:  inj_cora , AUC Score(benchmark/combined):  82.23368860316923\n",
      "Dataset Name:  inj_cora , AUC Score (contextual):  72.12986028376476\n",
      "Dataset Name:  inj_cora , AUC Score (structural):  91.10419148705729\n",
      "Dataset Name:  inj_cora , AUC Score (joint-type):  44.811004007364886\n",
      "Dataset Name:  inj_cora , AUC Score (structure type):  44.811004007364886\n",
      "===========================================================================================\n",
      "Dataset Name:  inj_cora  Best AUC Score(benchmark/combined):  83.05644842948176\n",
      "Dataset Name:  inj_cora  Best AUC Score (contextual):  74.60846961984187\n",
      "Dataset Name:  inj_cora  Best AUC Score (structural):  94.21206541752409\n",
      "Dataset Name:  inj_cora  Best AUC Score (joint-type):  54.002491064659374\n",
      "Dataset Name:  inj_cora  Best AUC Score (structure type):  72.55674232309745\n",
      "===========================================================================================\n"
     ]
    },
    {
     "name": "stderr",
     "output_type": "stream",
     "text": [
      "  6%|▌         | 31/500 [09:30<2:26:35, 18.75s/it]"
     ]
    },
    {
     "name": "stdout",
     "output_type": "stream",
     "text": [
      "Dataset Name:  inj_cora , AUC Score(benchmark/combined):  81.84345570405459\n",
      "Dataset Name:  inj_cora , AUC Score (contextual):  72.30152713094336\n",
      "Dataset Name:  inj_cora , AUC Score (structural):  90.17004223979205\n",
      "Dataset Name:  inj_cora , AUC Score (joint-type):  44.545651467562\n",
      "Dataset Name:  inj_cora , AUC Score (structure type):  44.545651467562\n",
      "===========================================================================================\n",
      "Dataset Name:  inj_cora  Best AUC Score(benchmark/combined):  83.05644842948176\n",
      "Dataset Name:  inj_cora  Best AUC Score (contextual):  74.60846961984187\n",
      "Dataset Name:  inj_cora  Best AUC Score (structural):  94.21206541752409\n",
      "Dataset Name:  inj_cora  Best AUC Score (joint-type):  54.002491064659374\n",
      "Dataset Name:  inj_cora  Best AUC Score (structure type):  72.55674232309745\n",
      "===========================================================================================\n"
     ]
    },
    {
     "name": "stderr",
     "output_type": "stream",
     "text": [
      "  6%|▋         | 32/500 [09:48<2:24:45, 18.56s/it]"
     ]
    },
    {
     "name": "stdout",
     "output_type": "stream",
     "text": [
      "Dataset Name:  inj_cora , AUC Score(benchmark/combined):  82.28838887949023\n",
      "Dataset Name:  inj_cora , AUC Score (contextual):  72.63727932416334\n",
      "Dataset Name:  inj_cora , AUC Score (structural):  90.70887035633055\n",
      "Dataset Name:  inj_cora , AUC Score (joint-type):  43.60771146972815\n",
      "Dataset Name:  inj_cora , AUC Score (structure type):  43.60771146972815\n",
      "===========================================================================================\n",
      "Dataset Name:  inj_cora  Best AUC Score(benchmark/combined):  83.05644842948176\n",
      "Dataset Name:  inj_cora  Best AUC Score (contextual):  74.60846961984187\n",
      "Dataset Name:  inj_cora  Best AUC Score (structural):  94.21206541752409\n",
      "Dataset Name:  inj_cora  Best AUC Score (joint-type):  54.002491064659374\n",
      "Dataset Name:  inj_cora  Best AUC Score (structure type):  72.55674232309745\n",
      "===========================================================================================\n"
     ]
    },
    {
     "name": "stderr",
     "output_type": "stream",
     "text": [
      "  7%|▋         | 33/500 [10:07<2:23:50, 18.48s/it]"
     ]
    },
    {
     "name": "stdout",
     "output_type": "stream",
     "text": [
      "Dataset Name:  inj_cora , AUC Score(benchmark/combined):  82.34816443918119\n",
      "Dataset Name:  inj_cora , AUC Score (contextual):  73.71493555724034\n",
      "Dataset Name:  inj_cora , AUC Score (structural):  89.73518899599263\n",
      "Dataset Name:  inj_cora , AUC Score (joint-type):  43.7810029242933\n",
      "Dataset Name:  inj_cora , AUC Score (structure type):  43.7810029242933\n",
      "===========================================================================================\n",
      "Dataset Name:  inj_cora  Best AUC Score(benchmark/combined):  83.05644842948176\n",
      "Dataset Name:  inj_cora  Best AUC Score (contextual):  74.60846961984187\n",
      "Dataset Name:  inj_cora  Best AUC Score (structural):  94.21206541752409\n",
      "Dataset Name:  inj_cora  Best AUC Score (joint-type):  54.002491064659374\n",
      "Dataset Name:  inj_cora  Best AUC Score (structure type):  72.55674232309745\n",
      "===========================================================================================\n"
     ]
    },
    {
     "name": "stderr",
     "output_type": "stream",
     "text": [
      "  7%|▋         | 34/500 [10:25<2:22:50, 18.39s/it]"
     ]
    },
    {
     "name": "stdout",
     "output_type": "stream",
     "text": [
      "Dataset Name:  inj_cora , AUC Score(benchmark/combined):  82.74911182541025\n",
      "Dataset Name:  inj_cora , AUC Score (contextual):  73.93317448283331\n",
      "Dataset Name:  inj_cora , AUC Score (structural):  90.28755550741904\n",
      "Dataset Name:  inj_cora , AUC Score (joint-type):  43.32232210549118\n",
      "Dataset Name:  inj_cora , AUC Score (structure type):  43.32232210549118\n",
      "===========================================================================================\n",
      "Dataset Name:  inj_cora  Best AUC Score(benchmark/combined):  83.05644842948176\n",
      "Dataset Name:  inj_cora  Best AUC Score (contextual):  74.60846961984187\n",
      "Dataset Name:  inj_cora  Best AUC Score (structural):  94.21206541752409\n",
      "Dataset Name:  inj_cora  Best AUC Score (joint-type):  54.002491064659374\n",
      "Dataset Name:  inj_cora  Best AUC Score (structure type):  72.55674232309745\n",
      "===========================================================================================\n"
     ]
    },
    {
     "name": "stderr",
     "output_type": "stream",
     "text": [
      "  7%|▋         | 35/500 [10:43<2:21:20, 18.24s/it]"
     ]
    },
    {
     "name": "stdout",
     "output_type": "stream",
     "text": [
      "Dataset Name:  inj_cora , AUC Score(benchmark/combined):  82.94394631478035\n",
      "Dataset Name:  inj_cora , AUC Score (contextual):  75.05090436477852\n",
      "Dataset Name:  inj_cora , AUC Score (structural):  89.54619300335752\n",
      "Dataset Name:  inj_cora , AUC Score (joint-type):  42.803530813386764\n",
      "Dataset Name:  inj_cora , AUC Score (structure type):  42.803530813386764\n",
      "===========================================================================================\n",
      "Dataset Name:  inj_cora  Best AUC Score(benchmark/combined):  83.05644842948176\n",
      "Dataset Name:  inj_cora  Best AUC Score (contextual):  75.05090436477852\n",
      "Dataset Name:  inj_cora  Best AUC Score (structural):  94.21206541752409\n",
      "Dataset Name:  inj_cora  Best AUC Score (joint-type):  54.002491064659374\n",
      "Dataset Name:  inj_cora  Best AUC Score (structure type):  72.55674232309745\n",
      "===========================================================================================\n"
     ]
    },
    {
     "name": "stderr",
     "output_type": "stream",
     "text": [
      "  7%|▋         | 36/500 [11:01<2:20:34, 18.18s/it]"
     ]
    },
    {
     "name": "stdout",
     "output_type": "stream",
     "text": [
      "Dataset Name:  inj_cora , AUC Score(benchmark/combined):  83.07985112502115\n",
      "Dataset Name:  inj_cora , AUC Score (contextual):  74.62850644427597\n",
      "Dataset Name:  inj_cora , AUC Score (structural):  90.23881728582258\n",
      "Dataset Name:  inj_cora , AUC Score (joint-type):  42.6968482616701\n",
      "Dataset Name:  inj_cora , AUC Score (structure type):  42.6968482616701\n",
      "===========================================================================================\n",
      "Dataset Name:  inj_cora  Best AUC Score(benchmark/combined):  83.07985112502115\n",
      "Dataset Name:  inj_cora  Best AUC Score (contextual):  75.05090436477852\n",
      "Dataset Name:  inj_cora  Best AUC Score (structural):  94.21206541752409\n",
      "Dataset Name:  inj_cora  Best AUC Score (joint-type):  54.002491064659374\n",
      "Dataset Name:  inj_cora  Best AUC Score (structure type):  72.55674232309745\n",
      "===========================================================================================\n"
     ]
    },
    {
     "name": "stderr",
     "output_type": "stream",
     "text": [
      "  7%|▋         | 37/500 [11:18<2:18:34, 17.96s/it]"
     ]
    },
    {
     "name": "stdout",
     "output_type": "stream",
     "text": [
      "Dataset Name:  inj_cora , AUC Score(benchmark/combined):  83.11960751141939\n",
      "Dataset Name:  inj_cora , AUC Score (contextual):  75.07798115455432\n",
      "Dataset Name:  inj_cora , AUC Score (structural):  89.86461605112098\n",
      "Dataset Name:  inj_cora , AUC Score (joint-type):  43.32448824867324\n",
      "Dataset Name:  inj_cora , AUC Score (structure type):  43.32448824867324\n",
      "===========================================================================================\n",
      "Dataset Name:  inj_cora  Best AUC Score(benchmark/combined):  83.11960751141939\n",
      "Dataset Name:  inj_cora  Best AUC Score (contextual):  75.07798115455432\n",
      "Dataset Name:  inj_cora  Best AUC Score (structural):  94.21206541752409\n",
      "Dataset Name:  inj_cora  Best AUC Score (joint-type):  54.002491064659374\n",
      "Dataset Name:  inj_cora  Best AUC Score (structure type):  72.55674232309745\n",
      "===========================================================================================\n"
     ]
    },
    {
     "name": "stderr",
     "output_type": "stream",
     "text": [
      "  8%|▊         | 38/500 [11:35<2:16:54, 17.78s/it]"
     ]
    },
    {
     "name": "stdout",
     "output_type": "stream",
     "text": [
      "Dataset Name:  inj_cora , AUC Score(benchmark/combined):  82.99695482997801\n",
      "Dataset Name:  inj_cora , AUC Score (contextual):  74.68049388064551\n",
      "Dataset Name:  inj_cora , AUC Score (structural):  90.04440593523233\n",
      "Dataset Name:  inj_cora , AUC Score (joint-type):  43.93209141124228\n",
      "Dataset Name:  inj_cora , AUC Score (structure type):  43.93209141124228\n",
      "===========================================================================================\n",
      "Dataset Name:  inj_cora  Best AUC Score(benchmark/combined):  83.11960751141939\n",
      "Dataset Name:  inj_cora  Best AUC Score (contextual):  75.07798115455432\n",
      "Dataset Name:  inj_cora  Best AUC Score (structural):  94.21206541752409\n",
      "Dataset Name:  inj_cora  Best AUC Score (joint-type):  54.002491064659374\n",
      "Dataset Name:  inj_cora  Best AUC Score (structure type):  72.55674232309745\n",
      "===========================================================================================\n"
     ]
    },
    {
     "name": "stderr",
     "output_type": "stream",
     "text": [
      "  8%|▊         | 39/500 [11:52<2:13:35, 17.39s/it]"
     ]
    },
    {
     "name": "stdout",
     "output_type": "stream",
     "text": [
      "Dataset Name:  inj_cora , AUC Score(benchmark/combined):  83.140754525461\n",
      "Dataset Name:  inj_cora , AUC Score (contextual):  74.4546734539153\n",
      "Dataset Name:  inj_cora , AUC Score (structural):  90.54370193869816\n",
      "Dataset Name:  inj_cora , AUC Score (joint-type):  42.743420340084484\n",
      "Dataset Name:  inj_cora , AUC Score (structure type):  42.743420340084484\n",
      "===========================================================================================\n",
      "Dataset Name:  inj_cora  Best AUC Score(benchmark/combined):  83.140754525461\n",
      "Dataset Name:  inj_cora  Best AUC Score (contextual):  75.07798115455432\n",
      "Dataset Name:  inj_cora  Best AUC Score (structural):  94.21206541752409\n",
      "Dataset Name:  inj_cora  Best AUC Score (joint-type):  54.002491064659374\n",
      "Dataset Name:  inj_cora  Best AUC Score (structure type):  72.55674232309745\n",
      "===========================================================================================\n"
     ]
    },
    {
     "name": "stderr",
     "output_type": "stream",
     "text": [
      "  8%|▊         | 40/500 [12:08<2:10:16, 16.99s/it]"
     ]
    },
    {
     "name": "stdout",
     "output_type": "stream",
     "text": [
      "Dataset Name:  inj_cora , AUC Score(benchmark/combined):  83.25804996334517\n",
      "Dataset Name:  inj_cora , AUC Score (contextual):  74.69836456189755\n",
      "Dataset Name:  inj_cora , AUC Score (structural):  90.53016354381025\n",
      "Dataset Name:  inj_cora , AUC Score (joint-type):  43.82432578793458\n",
      "Dataset Name:  inj_cora , AUC Score (structure type):  43.82432578793458\n",
      "===========================================================================================\n",
      "Dataset Name:  inj_cora  Best AUC Score(benchmark/combined):  83.25804996334517\n",
      "Dataset Name:  inj_cora  Best AUC Score (contextual):  75.07798115455432\n",
      "Dataset Name:  inj_cora  Best AUC Score (structural):  94.21206541752409\n",
      "Dataset Name:  inj_cora  Best AUC Score (joint-type):  54.002491064659374\n",
      "Dataset Name:  inj_cora  Best AUC Score (structure type):  72.55674232309745\n",
      "===========================================================================================\n"
     ]
    },
    {
     "name": "stderr",
     "output_type": "stream",
     "text": [
      "  8%|▊         | 41/500 [12:24<2:08:40, 16.82s/it]"
     ]
    },
    {
     "name": "stdout",
     "output_type": "stream",
     "text": [
      "Dataset Name:  inj_cora , AUC Score(benchmark/combined):  83.29555066824564\n",
      "Dataset Name:  inj_cora , AUC Score (contextual):  75.33141990685584\n",
      "Dataset Name:  inj_cora , AUC Score (structural):  89.966424780678\n",
      "Dataset Name:  inj_cora , AUC Score (joint-type):  43.99436802772663\n",
      "Dataset Name:  inj_cora , AUC Score (structure type):  43.99436802772663\n",
      "===========================================================================================\n",
      "Dataset Name:  inj_cora  Best AUC Score(benchmark/combined):  83.29555066824564\n",
      "Dataset Name:  inj_cora  Best AUC Score (contextual):  75.33141990685584\n",
      "Dataset Name:  inj_cora  Best AUC Score (structural):  94.21206541752409\n",
      "Dataset Name:  inj_cora  Best AUC Score (joint-type):  54.002491064659374\n",
      "Dataset Name:  inj_cora  Best AUC Score (structure type):  72.55674232309745\n",
      "===========================================================================================\n"
     ]
    },
    {
     "name": "stderr",
     "output_type": "stream",
     "text": [
      "  8%|▊         | 42/500 [12:42<2:11:13, 17.19s/it]"
     ]
    },
    {
     "name": "stdout",
     "output_type": "stream",
     "text": [
      "Dataset Name:  inj_cora , AUC Score(benchmark/combined):  83.4153837478148\n",
      "Dataset Name:  inj_cora , AUC Score (contextual):  75.23935882161811\n",
      "Dataset Name:  inj_cora , AUC Score (structural):  90.29405393696524\n",
      "Dataset Name:  inj_cora , AUC Score (joint-type):  44.17903173399761\n",
      "Dataset Name:  inj_cora , AUC Score (structure type):  44.17903173399761\n",
      "===========================================================================================\n",
      "Dataset Name:  inj_cora  Best AUC Score(benchmark/combined):  83.4153837478148\n",
      "Dataset Name:  inj_cora  Best AUC Score (contextual):  75.33141990685584\n",
      "Dataset Name:  inj_cora  Best AUC Score (structural):  94.21206541752409\n",
      "Dataset Name:  inj_cora  Best AUC Score (joint-type):  54.002491064659374\n",
      "Dataset Name:  inj_cora  Best AUC Score (structure type):  72.55674232309745\n",
      "===========================================================================================\n"
     ]
    },
    {
     "name": "stderr",
     "output_type": "stream",
     "text": [
      "  9%|▊         | 43/500 [13:01<2:13:32, 17.53s/it]"
     ]
    },
    {
     "name": "stdout",
     "output_type": "stream",
     "text": [
      "Dataset Name:  inj_cora , AUC Score(benchmark/combined):  83.33079569164835\n",
      "Dataset Name:  inj_cora , AUC Score (contextual):  75.19928517274992\n",
      "Dataset Name:  inj_cora , AUC Score (structural):  90.17924834831582\n",
      "Dataset Name:  inj_cora , AUC Score (joint-type):  44.066392288530274\n",
      "Dataset Name:  inj_cora , AUC Score (structure type):  44.066392288530274\n",
      "===========================================================================================\n",
      "Dataset Name:  inj_cora  Best AUC Score(benchmark/combined):  83.4153837478148\n",
      "Dataset Name:  inj_cora  Best AUC Score (contextual):  75.33141990685584\n",
      "Dataset Name:  inj_cora  Best AUC Score (structural):  94.21206541752409\n",
      "Dataset Name:  inj_cora  Best AUC Score (joint-type):  54.002491064659374\n",
      "Dataset Name:  inj_cora  Best AUC Score (structure type):  72.55674232309745\n",
      "===========================================================================================\n"
     ]
    },
    {
     "name": "stderr",
     "output_type": "stream",
     "text": [
      "  9%|▉         | 44/500 [13:19<2:14:06, 17.65s/it]"
     ]
    },
    {
     "name": "stdout",
     "output_type": "stream",
     "text": [
      "Dataset Name:  inj_cora , AUC Score(benchmark/combined):  83.11171262617718\n",
      "Dataset Name:  inj_cora , AUC Score (contextual):  74.35882161810896\n",
      "Dataset Name:  inj_cora , AUC Score (structural):  90.60597855518249\n",
      "Dataset Name:  inj_cora , AUC Score (joint-type):  44.250514459005736\n",
      "Dataset Name:  inj_cora , AUC Score (structure type):  44.250514459005736\n",
      "===========================================================================================\n",
      "Dataset Name:  inj_cora  Best AUC Score(benchmark/combined):  83.4153837478148\n",
      "Dataset Name:  inj_cora  Best AUC Score (contextual):  75.33141990685584\n",
      "Dataset Name:  inj_cora  Best AUC Score (structural):  94.21206541752409\n",
      "Dataset Name:  inj_cora  Best AUC Score (joint-type):  54.002491064659374\n",
      "Dataset Name:  inj_cora  Best AUC Score (structure type):  72.55674232309745\n",
      "===========================================================================================\n"
     ]
    },
    {
     "name": "stderr",
     "output_type": "stream",
     "text": [
      "  9%|▉         | 45/500 [13:37<2:14:49, 17.78s/it]"
     ]
    },
    {
     "name": "stdout",
     "output_type": "stream",
     "text": [
      "Dataset Name:  inj_cora , AUC Score(benchmark/combined):  83.16443918118762\n",
      "Dataset Name:  inj_cora , AUC Score (contextual):  73.89689158453373\n",
      "Dataset Name:  inj_cora , AUC Score (structural):  91.1718834614968\n",
      "Dataset Name:  inj_cora , AUC Score (joint-type):  43.68244340950937\n",
      "Dataset Name:  inj_cora , AUC Score (structure type):  43.68244340950937\n",
      "===========================================================================================\n",
      "Dataset Name:  inj_cora  Best AUC Score(benchmark/combined):  83.4153837478148\n",
      "Dataset Name:  inj_cora  Best AUC Score (contextual):  75.33141990685584\n",
      "Dataset Name:  inj_cora  Best AUC Score (structural):  94.21206541752409\n",
      "Dataset Name:  inj_cora  Best AUC Score (joint-type):  54.002491064659374\n",
      "Dataset Name:  inj_cora  Best AUC Score (structure type):  72.55674232309745\n",
      "===========================================================================================\n"
     ]
    },
    {
     "name": "stderr",
     "output_type": "stream",
     "text": [
      "  9%|▉         | 46/500 [13:55<2:15:12, 17.87s/it]"
     ]
    },
    {
     "name": "stdout",
     "output_type": "stream",
     "text": [
      "Dataset Name:  inj_cora , AUC Score(benchmark/combined):  83.16895054418315\n",
      "Dataset Name:  inj_cora , AUC Score (contextual):  74.00032492147731\n",
      "Dataset Name:  inj_cora , AUC Score (structural):  91.07603162569046\n",
      "Dataset Name:  inj_cora , AUC Score (joint-type):  43.789125961226034\n",
      "Dataset Name:  inj_cora , AUC Score (structure type):  43.789125961226034\n",
      "===========================================================================================\n",
      "Dataset Name:  inj_cora  Best AUC Score(benchmark/combined):  83.4153837478148\n",
      "Dataset Name:  inj_cora  Best AUC Score (contextual):  75.33141990685584\n",
      "Dataset Name:  inj_cora  Best AUC Score (structural):  94.21206541752409\n",
      "Dataset Name:  inj_cora  Best AUC Score (joint-type):  54.002491064659374\n",
      "Dataset Name:  inj_cora  Best AUC Score (structure type):  72.55674232309745\n",
      "===========================================================================================\n"
     ]
    },
    {
     "name": "stderr",
     "output_type": "stream",
     "text": [
      "  9%|▉         | 47/500 [14:13<2:15:22, 17.93s/it]"
     ]
    },
    {
     "name": "stdout",
     "output_type": "stream",
     "text": [
      "Dataset Name:  inj_cora , AUC Score(benchmark/combined):  83.03896689787402\n",
      "Dataset Name:  inj_cora , AUC Score (contextual):  73.4040940106141\n",
      "Dataset Name:  inj_cora , AUC Score (structural):  91.43127910754902\n",
      "Dataset Name:  inj_cora , AUC Score (joint-type):  43.9461713419257\n",
      "Dataset Name:  inj_cora , AUC Score (structure type):  43.9461713419257\n",
      "===========================================================================================\n",
      "Dataset Name:  inj_cora  Best AUC Score(benchmark/combined):  83.4153837478148\n",
      "Dataset Name:  inj_cora  Best AUC Score (contextual):  75.33141990685584\n",
      "Dataset Name:  inj_cora  Best AUC Score (structural):  94.21206541752409\n",
      "Dataset Name:  inj_cora  Best AUC Score (joint-type):  54.002491064659374\n",
      "Dataset Name:  inj_cora  Best AUC Score (structure type):  72.55674232309745\n",
      "===========================================================================================\n"
     ]
    },
    {
     "name": "stderr",
     "output_type": "stream",
     "text": [
      " 10%|▉         | 48/500 [14:31<2:15:39, 18.01s/it]"
     ]
    },
    {
     "name": "stdout",
     "output_type": "stream",
     "text": [
      "Dataset Name:  inj_cora , AUC Score(benchmark/combined):  83.10607342243274\n",
      "Dataset Name:  inj_cora , AUC Score (contextual):  73.2562547384382\n",
      "Dataset Name:  inj_cora , AUC Score (structural):  91.7172100075815\n",
      "Dataset Name:  inj_cora , AUC Score (joint-type):  44.219105382865806\n",
      "Dataset Name:  inj_cora , AUC Score (structure type):  44.219105382865806\n",
      "===========================================================================================\n",
      "Dataset Name:  inj_cora  Best AUC Score(benchmark/combined):  83.4153837478148\n",
      "Dataset Name:  inj_cora  Best AUC Score (contextual):  75.33141990685584\n",
      "Dataset Name:  inj_cora  Best AUC Score (structural):  94.21206541752409\n",
      "Dataset Name:  inj_cora  Best AUC Score (joint-type):  54.002491064659374\n",
      "Dataset Name:  inj_cora  Best AUC Score (structure type):  72.55674232309745\n",
      "===========================================================================================\n"
     ]
    },
    {
     "name": "stderr",
     "output_type": "stream",
     "text": [
      " 10%|▉         | 49/500 [14:50<2:18:06, 18.37s/it]"
     ]
    },
    {
     "name": "stdout",
     "output_type": "stream",
     "text": [
      "Dataset Name:  inj_cora , AUC Score(benchmark/combined):  82.88417075508939\n",
      "Dataset Name:  inj_cora , AUC Score (contextual):  72.90154879237518\n",
      "Dataset Name:  inj_cora , AUC Score (structural):  91.64572728257339\n",
      "Dataset Name:  inj_cora , AUC Score (joint-type):  44.17632405502003\n",
      "Dataset Name:  inj_cora , AUC Score (structure type):  44.17632405502003\n",
      "===========================================================================================\n",
      "Dataset Name:  inj_cora  Best AUC Score(benchmark/combined):  83.4153837478148\n",
      "Dataset Name:  inj_cora  Best AUC Score (contextual):  75.33141990685584\n",
      "Dataset Name:  inj_cora  Best AUC Score (structural):  94.21206541752409\n",
      "Dataset Name:  inj_cora  Best AUC Score (joint-type):  54.002491064659374\n",
      "Dataset Name:  inj_cora  Best AUC Score (structure type):  72.55674232309745\n",
      "===========================================================================================\n"
     ]
    },
    {
     "name": "stderr",
     "output_type": "stream",
     "text": [
      " 10%|█         | 50/500 [15:10<2:19:55, 18.66s/it]"
     ]
    },
    {
     "name": "stdout",
     "output_type": "stream",
     "text": [
      "Dataset Name:  inj_cora , AUC Score(benchmark/combined):  83.09310325382056\n",
      "Dataset Name:  inj_cora , AUC Score (contextual):  73.03909888443626\n",
      "Dataset Name:  inj_cora , AUC Score (structural):  91.91053828658075\n",
      "Dataset Name:  inj_cora , AUC Score (joint-type):  44.85161919202859\n",
      "Dataset Name:  inj_cora , AUC Score (structure type):  44.85161919202859\n",
      "===========================================================================================\n",
      "Dataset Name:  inj_cora  Best AUC Score(benchmark/combined):  83.4153837478148\n",
      "Dataset Name:  inj_cora  Best AUC Score (contextual):  75.33141990685584\n",
      "Dataset Name:  inj_cora  Best AUC Score (structural):  94.21206541752409\n",
      "Dataset Name:  inj_cora  Best AUC Score (joint-type):  54.002491064659374\n",
      "Dataset Name:  inj_cora  Best AUC Score (structure type):  72.55674232309745\n",
      "===========================================================================================\n"
     ]
    },
    {
     "name": "stderr",
     "output_type": "stream",
     "text": [
      " 10%|█         | 51/500 [15:29<2:21:19, 18.89s/it]"
     ]
    },
    {
     "name": "stdout",
     "output_type": "stream",
     "text": [
      "Dataset Name:  inj_cora , AUC Score(benchmark/combined):  82.99695482997801\n",
      "Dataset Name:  inj_cora , AUC Score (contextual):  73.03693274125422\n",
      "Dataset Name:  inj_cora , AUC Score (structural):  91.72533304451424\n",
      "Dataset Name:  inj_cora , AUC Score (joint-type):  44.72273367269576\n",
      "Dataset Name:  inj_cora , AUC Score (structure type):  44.72273367269576\n",
      "===========================================================================================\n",
      "Dataset Name:  inj_cora  Best AUC Score(benchmark/combined):  83.4153837478148\n",
      "Dataset Name:  inj_cora  Best AUC Score (contextual):  75.33141990685584\n",
      "Dataset Name:  inj_cora  Best AUC Score (structural):  94.21206541752409\n",
      "Dataset Name:  inj_cora  Best AUC Score (joint-type):  54.002491064659374\n",
      "Dataset Name:  inj_cora  Best AUC Score (structure type):  72.55674232309745\n",
      "===========================================================================================\n"
     ]
    },
    {
     "name": "stderr",
     "output_type": "stream",
     "text": [
      " 10%|█         | 52/500 [15:49<2:22:31, 19.09s/it]"
     ]
    },
    {
     "name": "stdout",
     "output_type": "stream",
     "text": [
      "Dataset Name:  inj_cora , AUC Score(benchmark/combined):  82.58360119551119\n",
      "Dataset Name:  inj_cora , AUC Score (contextual):  71.41611610527457\n",
      "Dataset Name:  inj_cora , AUC Score (structural):  92.56038124120003\n",
      "Dataset Name:  inj_cora , AUC Score (joint-type):  44.15520415899491\n",
      "Dataset Name:  inj_cora , AUC Score (structure type):  44.15520415899491\n",
      "===========================================================================================\n",
      "Dataset Name:  inj_cora  Best AUC Score(benchmark/combined):  83.4153837478148\n",
      "Dataset Name:  inj_cora  Best AUC Score (contextual):  75.33141990685584\n",
      "Dataset Name:  inj_cora  Best AUC Score (structural):  94.21206541752409\n",
      "Dataset Name:  inj_cora  Best AUC Score (joint-type):  54.002491064659374\n",
      "Dataset Name:  inj_cora  Best AUC Score (structure type):  72.55674232309745\n",
      "===========================================================================================\n"
     ]
    },
    {
     "name": "stderr",
     "output_type": "stream",
     "text": [
      " 11%|█         | 53/500 [16:08<2:23:44, 19.30s/it]"
     ]
    },
    {
     "name": "stdout",
     "output_type": "stream",
     "text": [
      "Dataset Name:  inj_cora , AUC Score(benchmark/combined):  82.6070038910506\n",
      "Dataset Name:  inj_cora , AUC Score (contextual):  71.90349832123903\n",
      "Dataset Name:  inj_cora , AUC Score (structural):  92.11036499512618\n",
      "Dataset Name:  inj_cora , AUC Score (joint-type):  45.742987111448066\n",
      "Dataset Name:  inj_cora , AUC Score (structure type):  45.742987111448066\n",
      "===========================================================================================\n",
      "Dataset Name:  inj_cora  Best AUC Score(benchmark/combined):  83.4153837478148\n",
      "Dataset Name:  inj_cora  Best AUC Score (contextual):  75.33141990685584\n",
      "Dataset Name:  inj_cora  Best AUC Score (structural):  94.21206541752409\n",
      "Dataset Name:  inj_cora  Best AUC Score (joint-type):  54.002491064659374\n",
      "Dataset Name:  inj_cora  Best AUC Score (structure type):  72.55674232309745\n",
      "===========================================================================================\n"
     ]
    },
    {
     "name": "stderr",
     "output_type": "stream",
     "text": [
      " 11%|█         | 54/500 [16:28<2:22:54, 19.22s/it]"
     ]
    },
    {
     "name": "stdout",
     "output_type": "stream",
     "text": [
      "Dataset Name:  inj_cora , AUC Score(benchmark/combined):  82.41950036654825\n",
      "Dataset Name:  inj_cora , AUC Score (contextual):  71.2893967291238\n",
      "Dataset Name:  inj_cora , AUC Score (structural):  92.36867756958735\n",
      "Dataset Name:  inj_cora , AUC Score (joint-type):  44.1449149788801\n",
      "Dataset Name:  inj_cora , AUC Score (structure type):  44.1449149788801\n",
      "===========================================================================================\n",
      "Dataset Name:  inj_cora  Best AUC Score(benchmark/combined):  83.4153837478148\n",
      "Dataset Name:  inj_cora  Best AUC Score (contextual):  75.33141990685584\n",
      "Dataset Name:  inj_cora  Best AUC Score (structural):  94.21206541752409\n",
      "Dataset Name:  inj_cora  Best AUC Score (joint-type):  54.002491064659374\n",
      "Dataset Name:  inj_cora  Best AUC Score (structure type):  72.55674232309745\n",
      "===========================================================================================\n"
     ]
    },
    {
     "name": "stderr",
     "output_type": "stream",
     "text": [
      " 11%|█         | 55/500 [16:47<2:22:19, 19.19s/it]"
     ]
    },
    {
     "name": "stdout",
     "output_type": "stream",
     "text": [
      "Dataset Name:  inj_cora , AUC Score(benchmark/combined):  82.3419613150623\n",
      "Dataset Name:  inj_cora , AUC Score (contextual):  71.25473843821075\n",
      "Dataset Name:  inj_cora , AUC Score (structural):  92.23654283548142\n",
      "Dataset Name:  inj_cora , AUC Score (joint-type):  43.85573486407452\n",
      "Dataset Name:  inj_cora , AUC Score (structure type):  43.85573486407452\n",
      "===========================================================================================\n",
      "Dataset Name:  inj_cora  Best AUC Score(benchmark/combined):  83.4153837478148\n",
      "Dataset Name:  inj_cora  Best AUC Score (contextual):  75.33141990685584\n",
      "Dataset Name:  inj_cora  Best AUC Score (structural):  94.21206541752409\n",
      "Dataset Name:  inj_cora  Best AUC Score (joint-type):  54.002491064659374\n",
      "Dataset Name:  inj_cora  Best AUC Score (structure type):  72.55674232309745\n",
      "===========================================================================================\n"
     ]
    },
    {
     "name": "stderr",
     "output_type": "stream",
     "text": [
      " 11%|█         | 56/500 [17:06<2:21:49, 19.17s/it]"
     ]
    },
    {
     "name": "stdout",
     "output_type": "stream",
     "text": [
      "Dataset Name:  inj_cora , AUC Score(benchmark/combined):  82.5314385608752\n",
      "Dataset Name:  inj_cora , AUC Score (contextual):  71.67388714394022\n",
      "Dataset Name:  inj_cora , AUC Score (structural):  92.18509693490739\n",
      "Dataset Name:  inj_cora , AUC Score (joint-type):  44.49366403119246\n",
      "Dataset Name:  inj_cora , AUC Score (structure type):  44.49366403119246\n",
      "===========================================================================================\n",
      "Dataset Name:  inj_cora  Best AUC Score(benchmark/combined):  83.4153837478148\n",
      "Dataset Name:  inj_cora  Best AUC Score (contextual):  75.33141990685584\n",
      "Dataset Name:  inj_cora  Best AUC Score (structural):  94.21206541752409\n",
      "Dataset Name:  inj_cora  Best AUC Score (joint-type):  54.002491064659374\n",
      "Dataset Name:  inj_cora  Best AUC Score (structure type):  72.55674232309745\n",
      "===========================================================================================\n"
     ]
    },
    {
     "name": "stderr",
     "output_type": "stream",
     "text": [
      " 11%|█▏        | 57/500 [17:25<2:22:01, 19.23s/it]"
     ]
    },
    {
     "name": "stdout",
     "output_type": "stream",
     "text": [
      "Dataset Name:  inj_cora , AUC Score(benchmark/combined):  82.37184909490779\n",
      "Dataset Name:  inj_cora , AUC Score (contextual):  71.02621033250297\n",
      "Dataset Name:  inj_cora , AUC Score (structural):  92.5316798440377\n",
      "Dataset Name:  inj_cora , AUC Score (joint-type):  44.97400628181523\n",
      "Dataset Name:  inj_cora , AUC Score (structure type):  44.97400628181523\n",
      "===========================================================================================\n",
      "Dataset Name:  inj_cora  Best AUC Score(benchmark/combined):  83.4153837478148\n",
      "Dataset Name:  inj_cora  Best AUC Score (contextual):  75.33141990685584\n",
      "Dataset Name:  inj_cora  Best AUC Score (structural):  94.21206541752409\n",
      "Dataset Name:  inj_cora  Best AUC Score (joint-type):  54.002491064659374\n",
      "Dataset Name:  inj_cora  Best AUC Score (structure type):  72.55674232309745\n",
      "===========================================================================================\n"
     ]
    },
    {
     "name": "stderr",
     "output_type": "stream",
     "text": [
      " 12%|█▏        | 58/500 [17:44<2:21:43, 19.24s/it]"
     ]
    },
    {
     "name": "stdout",
     "output_type": "stream",
     "text": [
      "Dataset Name:  inj_cora , AUC Score(benchmark/combined):  82.25229797552586\n",
      "Dataset Name:  inj_cora , AUC Score (contextual):  70.67042131484891\n",
      "Dataset Name:  inj_cora , AUC Score (structural):  92.65894075598396\n",
      "Dataset Name:  inj_cora , AUC Score (joint-type):  44.58464204483917\n",
      "Dataset Name:  inj_cora , AUC Score (structure type):  44.58464204483917\n",
      "===========================================================================================\n",
      "Dataset Name:  inj_cora  Best AUC Score(benchmark/combined):  83.4153837478148\n",
      "Dataset Name:  inj_cora  Best AUC Score (contextual):  75.33141990685584\n",
      "Dataset Name:  inj_cora  Best AUC Score (structural):  94.21206541752409\n",
      "Dataset Name:  inj_cora  Best AUC Score (joint-type):  54.002491064659374\n",
      "Dataset Name:  inj_cora  Best AUC Score (structure type):  72.55674232309745\n",
      "===========================================================================================\n"
     ]
    },
    {
     "name": "stderr",
     "output_type": "stream",
     "text": [
      " 12%|█▏        | 59/500 [18:04<2:21:24, 19.24s/it]"
     ]
    },
    {
     "name": "stdout",
     "output_type": "stream",
     "text": [
      "Dataset Name:  inj_cora , AUC Score(benchmark/combined):  82.43895561946654\n",
      "Dataset Name:  inj_cora , AUC Score (contextual):  70.69587349723817\n",
      "Dataset Name:  inj_cora , AUC Score (structural):  92.9898191270443\n",
      "Dataset Name:  inj_cora , AUC Score (joint-type):  44.114047438535685\n",
      "Dataset Name:  inj_cora , AUC Score (structure type):  44.114047438535685\n",
      "===========================================================================================\n",
      "Dataset Name:  inj_cora  Best AUC Score(benchmark/combined):  83.4153837478148\n",
      "Dataset Name:  inj_cora  Best AUC Score (contextual):  75.33141990685584\n",
      "Dataset Name:  inj_cora  Best AUC Score (structural):  94.21206541752409\n",
      "Dataset Name:  inj_cora  Best AUC Score (joint-type):  54.002491064659374\n",
      "Dataset Name:  inj_cora  Best AUC Score (structure type):  72.55674232309745\n",
      "===========================================================================================\n"
     ]
    },
    {
     "name": "stderr",
     "output_type": "stream",
     "text": [
      " 12%|█▏        | 60/500 [18:23<2:20:45, 19.19s/it]"
     ]
    },
    {
     "name": "stdout",
     "output_type": "stream",
     "text": [
      "Dataset Name:  inj_cora , AUC Score(benchmark/combined):  82.30869001297016\n",
      "Dataset Name:  inj_cora , AUC Score (contextual):  70.53666197335644\n",
      "Dataset Name:  inj_cora , AUC Score (structural):  92.90967182930791\n",
      "Dataset Name:  inj_cora , AUC Score (joint-type):  44.0436477851186\n",
      "Dataset Name:  inj_cora , AUC Score (structure type):  44.0436477851186\n",
      "===========================================================================================\n",
      "Dataset Name:  inj_cora  Best AUC Score(benchmark/combined):  83.4153837478148\n",
      "Dataset Name:  inj_cora  Best AUC Score (contextual):  75.33141990685584\n",
      "Dataset Name:  inj_cora  Best AUC Score (structural):  94.21206541752409\n",
      "Dataset Name:  inj_cora  Best AUC Score (joint-type):  54.002491064659374\n",
      "Dataset Name:  inj_cora  Best AUC Score (structure type):  72.55674232309745\n",
      "===========================================================================================\n"
     ]
    },
    {
     "name": "stderr",
     "output_type": "stream",
     "text": [
      " 12%|█▏        | 61/500 [18:42<2:20:15, 19.17s/it]"
     ]
    },
    {
     "name": "stdout",
     "output_type": "stream",
     "text": [
      "Dataset Name:  inj_cora , AUC Score(benchmark/combined):  82.49365589578751\n",
      "Dataset Name:  inj_cora , AUC Score (contextual):  70.71103649951262\n",
      "Dataset Name:  inj_cora , AUC Score (structural):  93.0910863208058\n",
      "Dataset Name:  inj_cora , AUC Score (joint-type):  44.01711253113831\n",
      "Dataset Name:  inj_cora , AUC Score (structure type):  44.01711253113831\n",
      "===========================================================================================\n",
      "Dataset Name:  inj_cora  Best AUC Score(benchmark/combined):  83.4153837478148\n",
      "Dataset Name:  inj_cora  Best AUC Score (contextual):  75.33141990685584\n",
      "Dataset Name:  inj_cora  Best AUC Score (structural):  94.21206541752409\n",
      "Dataset Name:  inj_cora  Best AUC Score (joint-type):  54.002491064659374\n",
      "Dataset Name:  inj_cora  Best AUC Score (structure type):  72.55674232309745\n",
      "===========================================================================================\n"
     ]
    },
    {
     "name": "stderr",
     "output_type": "stream",
     "text": [
      " 12%|█▏        | 62/500 [19:01<2:20:03, 19.19s/it]"
     ]
    },
    {
     "name": "stdout",
     "output_type": "stream",
     "text": [
      "Dataset Name:  inj_cora , AUC Score(benchmark/combined):  81.97682287261038\n",
      "Dataset Name:  inj_cora , AUC Score (contextual):  69.56947904256472\n",
      "Dataset Name:  inj_cora , AUC Score (structural):  93.23784252139066\n",
      "Dataset Name:  inj_cora , AUC Score (joint-type):  44.36207083288205\n",
      "Dataset Name:  inj_cora , AUC Score (structure type):  44.36207083288205\n",
      "===========================================================================================\n",
      "Dataset Name:  inj_cora  Best AUC Score(benchmark/combined):  83.4153837478148\n",
      "Dataset Name:  inj_cora  Best AUC Score (contextual):  75.33141990685584\n",
      "Dataset Name:  inj_cora  Best AUC Score (structural):  94.21206541752409\n",
      "Dataset Name:  inj_cora  Best AUC Score (joint-type):  54.002491064659374\n",
      "Dataset Name:  inj_cora  Best AUC Score (structure type):  72.55674232309745\n",
      "===========================================================================================\n"
     ]
    },
    {
     "name": "stderr",
     "output_type": "stream",
     "text": [
      " 13%|█▎        | 63/500 [19:20<2:19:33, 19.16s/it]"
     ]
    },
    {
     "name": "stdout",
     "output_type": "stream",
     "text": [
      "Dataset Name:  inj_cora , AUC Score(benchmark/combined):  81.26261771837817\n",
      "Dataset Name:  inj_cora , AUC Score (contextual):  68.0981262861475\n",
      "Dataset Name:  inj_cora , AUC Score (structural):  93.33586050037907\n",
      "Dataset Name:  inj_cora , AUC Score (joint-type):  44.1481641936532\n",
      "Dataset Name:  inj_cora , AUC Score (structure type):  44.1481641936532\n",
      "===========================================================================================\n",
      "Dataset Name:  inj_cora  Best AUC Score(benchmark/combined):  83.4153837478148\n",
      "Dataset Name:  inj_cora  Best AUC Score (contextual):  75.33141990685584\n",
      "Dataset Name:  inj_cora  Best AUC Score (structural):  94.21206541752409\n",
      "Dataset Name:  inj_cora  Best AUC Score (joint-type):  54.002491064659374\n",
      "Dataset Name:  inj_cora  Best AUC Score (structure type):  72.55674232309745\n",
      "===========================================================================================\n"
     ]
    },
    {
     "name": "stderr",
     "output_type": "stream",
     "text": [
      " 13%|█▎        | 64/500 [19:39<2:19:14, 19.16s/it]"
     ]
    },
    {
     "name": "stdout",
     "output_type": "stream",
     "text": [
      "Dataset Name:  inj_cora , AUC Score(benchmark/combined):  81.53358145829809\n",
      "Dataset Name:  inj_cora , AUC Score (contextual):  69.0339001407993\n",
      "Dataset Name:  inj_cora , AUC Score (structural):  92.90858875771688\n",
      "Dataset Name:  inj_cora , AUC Score (joint-type):  44.92364345283223\n",
      "Dataset Name:  inj_cora , AUC Score (structure type):  44.92364345283223\n",
      "===========================================================================================\n",
      "Dataset Name:  inj_cora  Best AUC Score(benchmark/combined):  83.4153837478148\n",
      "Dataset Name:  inj_cora  Best AUC Score (contextual):  75.33141990685584\n",
      "Dataset Name:  inj_cora  Best AUC Score (structural):  94.21206541752409\n",
      "Dataset Name:  inj_cora  Best AUC Score (joint-type):  54.002491064659374\n",
      "Dataset Name:  inj_cora  Best AUC Score (structure type):  72.55674232309745\n",
      "===========================================================================================\n"
     ]
    },
    {
     "name": "stderr",
     "output_type": "stream",
     "text": [
      " 13%|█▎        | 65/500 [19:59<2:19:37, 19.26s/it]"
     ]
    },
    {
     "name": "stdout",
     "output_type": "stream",
     "text": [
      "Dataset Name:  inj_cora , AUC Score(benchmark/combined):  82.50451136299554\n",
      "Dataset Name:  inj_cora , AUC Score (contextual):  70.60624932308026\n",
      "Dataset Name:  inj_cora , AUC Score (structural):  93.2058919094552\n",
      "Dataset Name:  inj_cora , AUC Score (joint-type):  43.774233726849346\n",
      "Dataset Name:  inj_cora , AUC Score (structure type):  43.774233726849346\n",
      "===========================================================================================\n",
      "Dataset Name:  inj_cora  Best AUC Score(benchmark/combined):  83.4153837478148\n",
      "Dataset Name:  inj_cora  Best AUC Score (contextual):  75.33141990685584\n",
      "Dataset Name:  inj_cora  Best AUC Score (structural):  94.21206541752409\n",
      "Dataset Name:  inj_cora  Best AUC Score (joint-type):  54.002491064659374\n",
      "Dataset Name:  inj_cora  Best AUC Score (structure type):  72.55674232309745\n",
      "===========================================================================================\n"
     ]
    },
    {
     "name": "stderr",
     "output_type": "stream",
     "text": [
      " 13%|█▎        | 66/500 [20:18<2:19:49, 19.33s/it]"
     ]
    },
    {
     "name": "stdout",
     "output_type": "stream",
     "text": [
      "Dataset Name:  inj_cora , AUC Score(benchmark/combined):  82.5181864320758\n",
      "Dataset Name:  inj_cora , AUC Score (contextual):  70.82909130293513\n",
      "Dataset Name:  inj_cora , AUC Score (structural):  92.99740062818152\n",
      "Dataset Name:  inj_cora , AUC Score (joint-type):  45.01299685909239\n",
      "Dataset Name:  inj_cora , AUC Score (structure type):  45.01299685909239\n",
      "===========================================================================================\n",
      "Dataset Name:  inj_cora  Best AUC Score(benchmark/combined):  83.4153837478148\n",
      "Dataset Name:  inj_cora  Best AUC Score (contextual):  75.33141990685584\n",
      "Dataset Name:  inj_cora  Best AUC Score (structural):  94.21206541752409\n",
      "Dataset Name:  inj_cora  Best AUC Score (joint-type):  54.002491064659374\n",
      "Dataset Name:  inj_cora  Best AUC Score (structure type):  72.55674232309745\n",
      "===========================================================================================\n"
     ]
    },
    {
     "name": "stderr",
     "output_type": "stream",
     "text": [
      " 13%|█▎        | 67/500 [20:38<2:19:55, 19.39s/it]"
     ]
    },
    {
     "name": "stdout",
     "output_type": "stream",
     "text": [
      "Dataset Name:  inj_cora , AUC Score(benchmark/combined):  81.89364461738002\n",
      "Dataset Name:  inj_cora , AUC Score (contextual):  69.43030434311707\n",
      "Dataset Name:  inj_cora , AUC Score (structural):  93.20264269468213\n",
      "Dataset Name:  inj_cora , AUC Score (joint-type):  45.087728798873606\n",
      "Dataset Name:  inj_cora , AUC Score (structure type):  45.087728798873606\n",
      "===========================================================================================\n",
      "Dataset Name:  inj_cora  Best AUC Score(benchmark/combined):  83.4153837478148\n",
      "Dataset Name:  inj_cora  Best AUC Score (contextual):  75.33141990685584\n",
      "Dataset Name:  inj_cora  Best AUC Score (structural):  94.21206541752409\n",
      "Dataset Name:  inj_cora  Best AUC Score (joint-type):  54.002491064659374\n",
      "Dataset Name:  inj_cora  Best AUC Score (structure type):  72.55674232309745\n",
      "===========================================================================================\n"
     ]
    },
    {
     "name": "stderr",
     "output_type": "stream",
     "text": [
      " 14%|█▎        | 68/500 [20:57<2:19:34, 19.39s/it]"
     ]
    },
    {
     "name": "stdout",
     "output_type": "stream",
     "text": [
      "Dataset Name:  inj_cora , AUC Score(benchmark/combined):  81.54937122878249\n",
      "Dataset Name:  inj_cora , AUC Score (contextual):  68.47665980721325\n",
      "Dataset Name:  inj_cora , AUC Score (structural):  93.50319506119355\n",
      "Dataset Name:  inj_cora , AUC Score (joint-type):  44.07559839705404\n",
      "Dataset Name:  inj_cora , AUC Score (structure type):  44.07559839705404\n",
      "===========================================================================================\n",
      "Dataset Name:  inj_cora  Best AUC Score(benchmark/combined):  83.4153837478148\n",
      "Dataset Name:  inj_cora  Best AUC Score (contextual):  75.33141990685584\n",
      "Dataset Name:  inj_cora  Best AUC Score (structural):  94.21206541752409\n",
      "Dataset Name:  inj_cora  Best AUC Score (joint-type):  54.002491064659374\n",
      "Dataset Name:  inj_cora  Best AUC Score (structure type):  72.55674232309745\n",
      "===========================================================================================\n"
     ]
    },
    {
     "name": "stderr",
     "output_type": "stream",
     "text": [
      " 14%|█▍        | 69/500 [21:16<2:18:37, 19.30s/it]"
     ]
    },
    {
     "name": "stdout",
     "output_type": "stream",
     "text": [
      "Dataset Name:  inj_cora , AUC Score(benchmark/combined):  82.06282072971295\n",
      "Dataset Name:  inj_cora , AUC Score (contextual):  69.89602512726091\n",
      "Dataset Name:  inj_cora , AUC Score (structural):  93.07159103216722\n",
      "Dataset Name:  inj_cora , AUC Score (joint-type):  45.29242932957868\n",
      "Dataset Name:  inj_cora , AUC Score (structure type):  45.29242932957868\n",
      "===========================================================================================\n",
      "Dataset Name:  inj_cora  Best AUC Score(benchmark/combined):  83.4153837478148\n",
      "Dataset Name:  inj_cora  Best AUC Score (contextual):  75.33141990685584\n",
      "Dataset Name:  inj_cora  Best AUC Score (structural):  94.21206541752409\n",
      "Dataset Name:  inj_cora  Best AUC Score (joint-type):  54.002491064659374\n",
      "Dataset Name:  inj_cora  Best AUC Score (structure type):  72.55674232309745\n",
      "===========================================================================================\n"
     ]
    },
    {
     "name": "stderr",
     "output_type": "stream",
     "text": [
      " 14%|█▍        | 70/500 [21:34<2:15:46, 18.95s/it]"
     ]
    },
    {
     "name": "stdout",
     "output_type": "stream",
     "text": [
      "Dataset Name:  inj_cora , AUC Score(benchmark/combined):  82.03236902949303\n",
      "Dataset Name:  inj_cora , AUC Score (contextual):  69.60413733347775\n",
      "Dataset Name:  inj_cora , AUC Score (structural):  93.29578685151088\n",
      "Dataset Name:  inj_cora , AUC Score (joint-type):  43.36185421856384\n",
      "Dataset Name:  inj_cora , AUC Score (structure type):  43.36185421856384\n",
      "===========================================================================================\n",
      "Dataset Name:  inj_cora  Best AUC Score(benchmark/combined):  83.4153837478148\n",
      "Dataset Name:  inj_cora  Best AUC Score (contextual):  75.33141990685584\n",
      "Dataset Name:  inj_cora  Best AUC Score (structural):  94.21206541752409\n",
      "Dataset Name:  inj_cora  Best AUC Score (joint-type):  54.002491064659374\n",
      "Dataset Name:  inj_cora  Best AUC Score (structure type):  72.55674232309745\n",
      "===========================================================================================\n"
     ]
    },
    {
     "name": "stderr",
     "output_type": "stream",
     "text": [
      " 14%|█▍        | 71/500 [21:53<2:14:05, 18.76s/it]"
     ]
    },
    {
     "name": "stdout",
     "output_type": "stream",
     "text": [
      "Dataset Name:  inj_cora , AUC Score(benchmark/combined):  82.17222128235493\n",
      "Dataset Name:  inj_cora , AUC Score (contextual):  70.19874363695439\n",
      "Dataset Name:  inj_cora , AUC Score (structural):  92.97411458897433\n",
      "Dataset Name:  inj_cora , AUC Score (joint-type):  44.743312032925374\n",
      "Dataset Name:  inj_cora , AUC Score (structure type):  44.743312032925374\n",
      "===========================================================================================\n",
      "Dataset Name:  inj_cora  Best AUC Score(benchmark/combined):  83.4153837478148\n",
      "Dataset Name:  inj_cora  Best AUC Score (contextual):  75.33141990685584\n",
      "Dataset Name:  inj_cora  Best AUC Score (structural):  94.21206541752409\n",
      "Dataset Name:  inj_cora  Best AUC Score (joint-type):  54.002491064659374\n",
      "Dataset Name:  inj_cora  Best AUC Score (structure type):  72.55674232309745\n",
      "===========================================================================================\n"
     ]
    },
    {
     "name": "stderr",
     "output_type": "stream",
     "text": [
      " 14%|█▍        | 72/500 [22:11<2:11:55, 18.49s/it]"
     ]
    },
    {
     "name": "stdout",
     "output_type": "stream",
     "text": [
      "Dataset Name:  inj_cora , AUC Score(benchmark/combined):  81.88997913494615\n",
      "Dataset Name:  inj_cora , AUC Score (contextual):  68.99436802772662\n",
      "Dataset Name:  inj_cora , AUC Score (structural):  93.64507743961877\n",
      "Dataset Name:  inj_cora , AUC Score (joint-type):  43.02664356113939\n",
      "Dataset Name:  inj_cora , AUC Score (structure type):  43.02664356113939\n",
      "===========================================================================================\n",
      "Dataset Name:  inj_cora  Best AUC Score(benchmark/combined):  83.4153837478148\n",
      "Dataset Name:  inj_cora  Best AUC Score (contextual):  75.33141990685584\n",
      "Dataset Name:  inj_cora  Best AUC Score (structural):  94.21206541752409\n",
      "Dataset Name:  inj_cora  Best AUC Score (joint-type):  54.002491064659374\n",
      "Dataset Name:  inj_cora  Best AUC Score (structure type):  72.55674232309745\n",
      "===========================================================================================\n"
     ]
    },
    {
     "name": "stderr",
     "output_type": "stream",
     "text": [
      " 15%|█▍        | 73/500 [22:29<2:11:00, 18.41s/it]"
     ]
    },
    {
     "name": "stdout",
     "output_type": "stream",
     "text": [
      "Dataset Name:  inj_cora , AUC Score(benchmark/combined):  82.18039812778436\n",
      "Dataset Name:  inj_cora , AUC Score (contextual):  69.72381674428681\n",
      "Dataset Name:  inj_cora , AUC Score (structural):  93.46745369868948\n",
      "Dataset Name:  inj_cora , AUC Score (joint-type):  44.2727174266219\n",
      "Dataset Name:  inj_cora , AUC Score (structure type):  44.2727174266219\n",
      "===========================================================================================\n",
      "Dataset Name:  inj_cora  Best AUC Score(benchmark/combined):  83.4153837478148\n",
      "Dataset Name:  inj_cora  Best AUC Score (contextual):  75.33141990685584\n",
      "Dataset Name:  inj_cora  Best AUC Score (structural):  94.21206541752409\n",
      "Dataset Name:  inj_cora  Best AUC Score (joint-type):  54.002491064659374\n",
      "Dataset Name:  inj_cora  Best AUC Score (structure type):  72.55674232309745\n",
      "===========================================================================================\n"
     ]
    },
    {
     "name": "stderr",
     "output_type": "stream",
     "text": [
      " 15%|█▍        | 74/500 [22:47<2:10:57, 18.45s/it]"
     ]
    },
    {
     "name": "stdout",
     "output_type": "stream",
     "text": [
      "Dataset Name:  inj_cora , AUC Score(benchmark/combined):  82.03152314893137\n",
      "Dataset Name:  inj_cora , AUC Score (contextual):  69.16603487490524\n",
      "Dataset Name:  inj_cora , AUC Score (structural):  93.74147081122062\n",
      "Dataset Name:  inj_cora , AUC Score (joint-type):  44.65450016246074\n",
      "Dataset Name:  inj_cora , AUC Score (structure type):  44.65450016246074\n",
      "===========================================================================================\n",
      "Dataset Name:  inj_cora  Best AUC Score(benchmark/combined):  83.4153837478148\n",
      "Dataset Name:  inj_cora  Best AUC Score (contextual):  75.33141990685584\n",
      "Dataset Name:  inj_cora  Best AUC Score (structural):  94.21206541752409\n",
      "Dataset Name:  inj_cora  Best AUC Score (joint-type):  54.002491064659374\n",
      "Dataset Name:  inj_cora  Best AUC Score (structure type):  72.55674232309745\n",
      "===========================================================================================\n"
     ]
    },
    {
     "name": "stderr",
     "output_type": "stream",
     "text": [
      " 15%|█▌        | 75/500 [23:07<2:12:16, 18.67s/it]"
     ]
    },
    {
     "name": "stdout",
     "output_type": "stream",
     "text": [
      "Dataset Name:  inj_cora , AUC Score(benchmark/combined):  81.40218801105283\n",
      "Dataset Name:  inj_cora , AUC Score (contextual):  67.91671179464961\n",
      "Dataset Name:  inj_cora , AUC Score (structural):  93.78262753167985\n",
      "Dataset Name:  inj_cora , AUC Score (joint-type):  45.34983212390339\n",
      "Dataset Name:  inj_cora , AUC Score (structure type):  45.34983212390339\n",
      "===========================================================================================\n",
      "Dataset Name:  inj_cora  Best AUC Score(benchmark/combined):  83.4153837478148\n",
      "Dataset Name:  inj_cora  Best AUC Score (contextual):  75.33141990685584\n",
      "Dataset Name:  inj_cora  Best AUC Score (structural):  94.21206541752409\n",
      "Dataset Name:  inj_cora  Best AUC Score (joint-type):  54.002491064659374\n",
      "Dataset Name:  inj_cora  Best AUC Score (structure type):  72.55674232309745\n",
      "===========================================================================================\n"
     ]
    },
    {
     "name": "stderr",
     "output_type": "stream",
     "text": [
      " 15%|█▌        | 76/500 [23:26<2:13:48, 18.93s/it]"
     ]
    },
    {
     "name": "stdout",
     "output_type": "stream",
     "text": [
      "Dataset Name:  inj_cora , AUC Score(benchmark/combined):  81.56798060113914\n",
      "Dataset Name:  inj_cora , AUC Score (contextual):  68.48694898732805\n",
      "Dataset Name:  inj_cora , AUC Score (structural):  93.52377342142316\n",
      "Dataset Name:  inj_cora , AUC Score (joint-type):  43.90880537203509\n",
      "Dataset Name:  inj_cora , AUC Score (structure type):  43.90880537203509\n",
      "===========================================================================================\n",
      "Dataset Name:  inj_cora  Best AUC Score(benchmark/combined):  83.4153837478148\n",
      "Dataset Name:  inj_cora  Best AUC Score (contextual):  75.33141990685584\n",
      "Dataset Name:  inj_cora  Best AUC Score (structural):  94.21206541752409\n",
      "Dataset Name:  inj_cora  Best AUC Score (joint-type):  54.002491064659374\n",
      "Dataset Name:  inj_cora  Best AUC Score (structure type):  72.55674232309745\n",
      "===========================================================================================\n"
     ]
    },
    {
     "name": "stderr",
     "output_type": "stream",
     "text": [
      " 15%|█▌        | 77/500 [23:45<2:13:44, 18.97s/it]"
     ]
    },
    {
     "name": "stdout",
     "output_type": "stream",
     "text": [
      "Dataset Name:  inj_cora , AUC Score(benchmark/combined):  81.757457846952\n",
      "Dataset Name:  inj_cora , AUC Score (contextual):  68.64399436802773\n",
      "Dataset Name:  inj_cora , AUC Score (structural):  93.74363695440269\n",
      "Dataset Name:  inj_cora , AUC Score (joint-type):  44.648543268710064\n",
      "Dataset Name:  inj_cora , AUC Score (structure type):  44.648543268710064\n",
      "===========================================================================================\n",
      "Dataset Name:  inj_cora  Best AUC Score(benchmark/combined):  83.4153837478148\n",
      "Dataset Name:  inj_cora  Best AUC Score (contextual):  75.33141990685584\n",
      "Dataset Name:  inj_cora  Best AUC Score (structural):  94.21206541752409\n",
      "Dataset Name:  inj_cora  Best AUC Score (joint-type):  54.002491064659374\n",
      "Dataset Name:  inj_cora  Best AUC Score (structure type):  72.55674232309745\n",
      "===========================================================================================\n"
     ]
    },
    {
     "name": "stderr",
     "output_type": "stream",
     "text": [
      " 16%|█▌        | 78/500 [24:04<2:14:03, 19.06s/it]"
     ]
    },
    {
     "name": "stdout",
     "output_type": "stream",
     "text": [
      "Dataset Name:  inj_cora , AUC Score(benchmark/combined):  81.92381435741272\n",
      "Dataset Name:  inj_cora , AUC Score (contextual):  69.07830607603162\n",
      "Dataset Name:  inj_cora , AUC Score (structural):  93.62504061518466\n",
      "Dataset Name:  inj_cora , AUC Score (joint-type):  44.07776454023611\n",
      "Dataset Name:  inj_cora , AUC Score (structure type):  44.07776454023611\n",
      "===========================================================================================\n",
      "Dataset Name:  inj_cora  Best AUC Score(benchmark/combined):  83.4153837478148\n",
      "Dataset Name:  inj_cora  Best AUC Score (contextual):  75.33141990685584\n",
      "Dataset Name:  inj_cora  Best AUC Score (structural):  94.21206541752409\n",
      "Dataset Name:  inj_cora  Best AUC Score (joint-type):  54.002491064659374\n",
      "Dataset Name:  inj_cora  Best AUC Score (structure type):  72.55674232309745\n",
      "===========================================================================================\n"
     ]
    },
    {
     "name": "stderr",
     "output_type": "stream",
     "text": [
      " 16%|█▌        | 79/500 [24:24<2:14:13, 19.13s/it]"
     ]
    },
    {
     "name": "stdout",
     "output_type": "stream",
     "text": [
      "Dataset Name:  inj_cora , AUC Score(benchmark/combined):  81.66215530367113\n",
      "Dataset Name:  inj_cora , AUC Score (contextual):  68.38189104299794\n",
      "Dataset Name:  inj_cora , AUC Score (structural):  93.82649193111665\n",
      "Dataset Name:  inj_cora , AUC Score (joint-type):  43.764215314632295\n",
      "Dataset Name:  inj_cora , AUC Score (structure type):  43.764215314632295\n",
      "===========================================================================================\n",
      "Dataset Name:  inj_cora  Best AUC Score(benchmark/combined):  83.4153837478148\n",
      "Dataset Name:  inj_cora  Best AUC Score (contextual):  75.33141990685584\n",
      "Dataset Name:  inj_cora  Best AUC Score (structural):  94.21206541752409\n",
      "Dataset Name:  inj_cora  Best AUC Score (joint-type):  54.002491064659374\n",
      "Dataset Name:  inj_cora  Best AUC Score (structure type):  72.55674232309745\n",
      "===========================================================================================\n"
     ]
    },
    {
     "name": "stderr",
     "output_type": "stream",
     "text": [
      " 16%|█▌        | 80/500 [24:43<2:13:48, 19.12s/it]"
     ]
    },
    {
     "name": "stdout",
     "output_type": "stream",
     "text": [
      "Dataset Name:  inj_cora , AUC Score(benchmark/combined):  81.50143799695482\n",
      "Dataset Name:  inj_cora , AUC Score (contextual):  68.20914112422831\n",
      "Dataset Name:  inj_cora , AUC Score (structural):  93.67215422939456\n",
      "Dataset Name:  inj_cora , AUC Score (joint-type):  44.17957326979314\n",
      "Dataset Name:  inj_cora , AUC Score (structure type):  44.17957326979314\n",
      "===========================================================================================\n",
      "Dataset Name:  inj_cora  Best AUC Score(benchmark/combined):  83.4153837478148\n",
      "Dataset Name:  inj_cora  Best AUC Score (contextual):  75.33141990685584\n",
      "Dataset Name:  inj_cora  Best AUC Score (structural):  94.21206541752409\n",
      "Dataset Name:  inj_cora  Best AUC Score (joint-type):  54.002491064659374\n",
      "Dataset Name:  inj_cora  Best AUC Score (structure type):  72.55674232309745\n",
      "===========================================================================================\n"
     ]
    },
    {
     "name": "stderr",
     "output_type": "stream",
     "text": [
      " 16%|█▌        | 81/500 [25:02<2:13:58, 19.18s/it]"
     ]
    },
    {
     "name": "stdout",
     "output_type": "stream",
     "text": [
      "Dataset Name:  inj_cora , AUC Score(benchmark/combined):  81.67540743247054\n",
      "Dataset Name:  inj_cora , AUC Score (contextual):  68.55951478392721\n",
      "Dataset Name:  inj_cora , AUC Score (structural):  93.66186504927975\n",
      "Dataset Name:  inj_cora , AUC Score (joint-type):  44.019278674320375\n",
      "Dataset Name:  inj_cora , AUC Score (structure type):  44.019278674320375\n",
      "===========================================================================================\n",
      "Dataset Name:  inj_cora  Best AUC Score(benchmark/combined):  83.4153837478148\n",
      "Dataset Name:  inj_cora  Best AUC Score (contextual):  75.33141990685584\n",
      "Dataset Name:  inj_cora  Best AUC Score (structural):  94.21206541752409\n",
      "Dataset Name:  inj_cora  Best AUC Score (joint-type):  54.002491064659374\n",
      "Dataset Name:  inj_cora  Best AUC Score (structure type):  72.55674232309745\n",
      "===========================================================================================\n"
     ]
    },
    {
     "name": "stderr",
     "output_type": "stream",
     "text": [
      " 16%|█▋        | 82/500 [25:21<2:13:54, 19.22s/it]"
     ]
    },
    {
     "name": "stdout",
     "output_type": "stream",
     "text": [
      "Dataset Name:  inj_cora , AUC Score(benchmark/combined):  82.04392939716911\n",
      "Dataset Name:  inj_cora , AUC Score (contextual):  69.21260695331962\n",
      "Dataset Name:  inj_cora , AUC Score (structural):  93.72576627315065\n",
      "Dataset Name:  inj_cora , AUC Score (joint-type):  45.19007906422615\n",
      "Dataset Name:  inj_cora , AUC Score (structure type):  45.19007906422615\n",
      "===========================================================================================\n",
      "Dataset Name:  inj_cora  Best AUC Score(benchmark/combined):  83.4153837478148\n",
      "Dataset Name:  inj_cora  Best AUC Score (contextual):  75.33141990685584\n",
      "Dataset Name:  inj_cora  Best AUC Score (structural):  94.21206541752409\n",
      "Dataset Name:  inj_cora  Best AUC Score (joint-type):  54.002491064659374\n",
      "Dataset Name:  inj_cora  Best AUC Score (structure type):  72.55674232309745\n",
      "===========================================================================================\n"
     ]
    },
    {
     "name": "stderr",
     "output_type": "stream",
     "text": [
      " 17%|█▋        | 83/500 [25:41<2:13:46, 19.25s/it]"
     ]
    },
    {
     "name": "stdout",
     "output_type": "stream",
     "text": [
      "Dataset Name:  inj_cora , AUC Score(benchmark/combined):  81.45886200868436\n",
      "Dataset Name:  inj_cora , AUC Score (contextual):  68.10029242932958\n",
      "Dataset Name:  inj_cora , AUC Score (structural):  93.72360012996859\n",
      "Dataset Name:  inj_cora , AUC Score (joint-type):  45.129427055128346\n",
      "Dataset Name:  inj_cora , AUC Score (structure type):  45.129427055128346\n",
      "===========================================================================================\n",
      "Dataset Name:  inj_cora  Best AUC Score(benchmark/combined):  83.4153837478148\n",
      "Dataset Name:  inj_cora  Best AUC Score (contextual):  75.33141990685584\n",
      "Dataset Name:  inj_cora  Best AUC Score (structural):  94.21206541752409\n",
      "Dataset Name:  inj_cora  Best AUC Score (joint-type):  54.002491064659374\n",
      "Dataset Name:  inj_cora  Best AUC Score (structure type):  72.55674232309745\n",
      "===========================================================================================\n"
     ]
    },
    {
     "name": "stderr",
     "output_type": "stream",
     "text": [
      " 17%|█▋        | 84/500 [26:00<2:13:18, 19.23s/it]"
     ]
    },
    {
     "name": "stdout",
     "output_type": "stream",
     "text": [
      "Dataset Name:  inj_cora , AUC Score(benchmark/combined):  82.36310832910392\n",
      "Dataset Name:  inj_cora , AUC Score (contextual):  69.79963175565906\n",
      "Dataset Name:  inj_cora , AUC Score (structural):  93.75446767031302\n",
      "Dataset Name:  inj_cora , AUC Score (joint-type):  45.688291996100936\n",
      "Dataset Name:  inj_cora , AUC Score (structure type):  45.688291996100936\n",
      "===========================================================================================\n",
      "Dataset Name:  inj_cora  Best AUC Score(benchmark/combined):  83.4153837478148\n",
      "Dataset Name:  inj_cora  Best AUC Score (contextual):  75.33141990685584\n",
      "Dataset Name:  inj_cora  Best AUC Score (structural):  94.21206541752409\n",
      "Dataset Name:  inj_cora  Best AUC Score (joint-type):  54.002491064659374\n",
      "Dataset Name:  inj_cora  Best AUC Score (structure type):  72.55674232309745\n",
      "===========================================================================================\n"
     ]
    },
    {
     "name": "stderr",
     "output_type": "stream",
     "text": [
      " 17%|█▋        | 85/500 [26:19<2:13:11, 19.26s/it]"
     ]
    },
    {
     "name": "stdout",
     "output_type": "stream",
     "text": [
      "Dataset Name:  inj_cora , AUC Score(benchmark/combined):  81.55049906953138\n",
      "Dataset Name:  inj_cora , AUC Score (contextual):  68.097584750352\n",
      "Dataset Name:  inj_cora , AUC Score (structural):  93.88281165385031\n",
      "Dataset Name:  inj_cora , AUC Score (joint-type):  44.61767572836565\n",
      "Dataset Name:  inj_cora , AUC Score (structure type):  44.61767572836565\n",
      "===========================================================================================\n",
      "Dataset Name:  inj_cora  Best AUC Score(benchmark/combined):  83.4153837478148\n",
      "Dataset Name:  inj_cora  Best AUC Score (contextual):  75.33141990685584\n",
      "Dataset Name:  inj_cora  Best AUC Score (structural):  94.21206541752409\n",
      "Dataset Name:  inj_cora  Best AUC Score (joint-type):  54.002491064659374\n",
      "Dataset Name:  inj_cora  Best AUC Score (structure type):  72.55674232309745\n",
      "===========================================================================================\n"
     ]
    },
    {
     "name": "stderr",
     "output_type": "stream",
     "text": [
      " 17%|█▋        | 86/500 [26:39<2:12:50, 19.25s/it]"
     ]
    },
    {
     "name": "stdout",
     "output_type": "stream",
     "text": [
      "Dataset Name:  inj_cora , AUC Score(benchmark/combined):  82.02080866181694\n",
      "Dataset Name:  inj_cora , AUC Score (contextual):  69.20015163002275\n",
      "Dataset Name:  inj_cora , AUC Score (structural):  93.69868948337485\n",
      "Dataset Name:  inj_cora , AUC Score (joint-type):  44.88736055453265\n",
      "Dataset Name:  inj_cora , AUC Score (structure type):  44.88736055453265\n",
      "===========================================================================================\n",
      "Dataset Name:  inj_cora  Best AUC Score(benchmark/combined):  83.4153837478148\n",
      "Dataset Name:  inj_cora  Best AUC Score (contextual):  75.33141990685584\n",
      "Dataset Name:  inj_cora  Best AUC Score (structural):  94.21206541752409\n",
      "Dataset Name:  inj_cora  Best AUC Score (joint-type):  54.002491064659374\n",
      "Dataset Name:  inj_cora  Best AUC Score (structure type):  72.55674232309745\n",
      "===========================================================================================\n"
     ]
    },
    {
     "name": "stderr",
     "output_type": "stream",
     "text": [
      " 17%|█▋        | 87/500 [26:58<2:13:08, 19.34s/it]"
     ]
    },
    {
     "name": "stdout",
     "output_type": "stream",
     "text": [
      "Dataset Name:  inj_cora , AUC Score(benchmark/combined):  81.61083854959679\n",
      "Dataset Name:  inj_cora , AUC Score (contextual):  68.18260587024804\n",
      "Dataset Name:  inj_cora , AUC Score (structural):  93.93154987544676\n",
      "Dataset Name:  inj_cora , AUC Score (joint-type):  44.92093577385465\n",
      "Dataset Name:  inj_cora , AUC Score (structure type):  44.92093577385465\n",
      "===========================================================================================\n",
      "Dataset Name:  inj_cora  Best AUC Score(benchmark/combined):  83.4153837478148\n",
      "Dataset Name:  inj_cora  Best AUC Score (contextual):  75.33141990685584\n",
      "Dataset Name:  inj_cora  Best AUC Score (structural):  94.21206541752409\n",
      "Dataset Name:  inj_cora  Best AUC Score (joint-type):  54.002491064659374\n",
      "Dataset Name:  inj_cora  Best AUC Score (structure type):  72.55674232309745\n",
      "===========================================================================================\n"
     ]
    },
    {
     "name": "stderr",
     "output_type": "stream",
     "text": [
      " 18%|█▊        | 88/500 [27:17<2:12:30, 19.30s/it]"
     ]
    },
    {
     "name": "stdout",
     "output_type": "stream",
     "text": [
      "Dataset Name:  inj_cora , AUC Score(benchmark/combined):  81.67456155190888\n",
      "Dataset Name:  inj_cora , AUC Score (contextual):  68.27141774071266\n",
      "Dataset Name:  inj_cora , AUC Score (structural):  93.97108198851944\n",
      "Dataset Name:  inj_cora , AUC Score (joint-type):  45.03519982670854\n",
      "Dataset Name:  inj_cora , AUC Score (structure type):  45.03519982670854\n",
      "===========================================================================================\n",
      "Dataset Name:  inj_cora  Best AUC Score(benchmark/combined):  83.4153837478148\n",
      "Dataset Name:  inj_cora  Best AUC Score (contextual):  75.33141990685584\n",
      "Dataset Name:  inj_cora  Best AUC Score (structural):  94.21206541752409\n",
      "Dataset Name:  inj_cora  Best AUC Score (joint-type):  54.002491064659374\n",
      "Dataset Name:  inj_cora  Best AUC Score (structure type):  72.55674232309745\n",
      "===========================================================================================\n"
     ]
    },
    {
     "name": "stderr",
     "output_type": "stream",
     "text": [
      " 18%|█▊        | 89/500 [27:37<2:12:02, 19.28s/it]"
     ]
    },
    {
     "name": "stdout",
     "output_type": "stream",
     "text": [
      "Dataset Name:  inj_cora , AUC Score(benchmark/combined):  82.07663677888681\n",
      "Dataset Name:  inj_cora , AUC Score (contextual):  69.50070399653417\n",
      "Dataset Name:  inj_cora , AUC Score (structural):  93.50427813278458\n",
      "Dataset Name:  inj_cora , AUC Score (joint-type):  45.94497996317556\n",
      "Dataset Name:  inj_cora , AUC Score (structure type):  45.94497996317556\n",
      "===========================================================================================\n",
      "Dataset Name:  inj_cora  Best AUC Score(benchmark/combined):  83.4153837478148\n",
      "Dataset Name:  inj_cora  Best AUC Score (contextual):  75.33141990685584\n",
      "Dataset Name:  inj_cora  Best AUC Score (structural):  94.21206541752409\n",
      "Dataset Name:  inj_cora  Best AUC Score (joint-type):  54.002491064659374\n",
      "Dataset Name:  inj_cora  Best AUC Score (structure type):  72.55674232309745\n",
      "===========================================================================================\n"
     ]
    },
    {
     "name": "stderr",
     "output_type": "stream",
     "text": [
      " 18%|█▊        | 90/500 [27:56<2:11:52, 19.30s/it]"
     ]
    },
    {
     "name": "stdout",
     "output_type": "stream",
     "text": [
      "Dataset Name:  inj_cora , AUC Score(benchmark/combined):  81.44589184007219\n",
      "Dataset Name:  inj_cora , AUC Score (contextual):  67.56146431279109\n",
      "Dataset Name:  inj_cora , AUC Score (structural):  94.25430520957435\n",
      "Dataset Name:  inj_cora , AUC Score (joint-type):  43.309325246398785\n",
      "Dataset Name:  inj_cora , AUC Score (structure type):  43.309325246398785\n",
      "===========================================================================================\n",
      "Dataset Name:  inj_cora  Best AUC Score(benchmark/combined):  83.4153837478148\n",
      "Dataset Name:  inj_cora  Best AUC Score (contextual):  75.33141990685584\n",
      "Dataset Name:  inj_cora  Best AUC Score (structural):  94.25430520957435\n",
      "Dataset Name:  inj_cora  Best AUC Score (joint-type):  54.002491064659374\n",
      "Dataset Name:  inj_cora  Best AUC Score (structure type):  72.55674232309745\n",
      "===========================================================================================\n"
     ]
    },
    {
     "name": "stderr",
     "output_type": "stream",
     "text": [
      " 18%|█▊        | 91/500 [28:15<2:10:59, 19.22s/it]"
     ]
    },
    {
     "name": "stdout",
     "output_type": "stream",
     "text": [
      "Dataset Name:  inj_cora , AUC Score(benchmark/combined):  81.7481531607737\n",
      "Dataset Name:  inj_cora , AUC Score (contextual):  68.4674536986895\n",
      "Dataset Name:  inj_cora , AUC Score (structural):  93.93209141124228\n",
      "Dataset Name:  inj_cora , AUC Score (joint-type):  45.41535795516084\n",
      "Dataset Name:  inj_cora , AUC Score (structure type):  45.41535795516084\n",
      "===========================================================================================\n",
      "Dataset Name:  inj_cora  Best AUC Score(benchmark/combined):  83.4153837478148\n",
      "Dataset Name:  inj_cora  Best AUC Score (contextual):  75.33141990685584\n",
      "Dataset Name:  inj_cora  Best AUC Score (structural):  94.25430520957435\n",
      "Dataset Name:  inj_cora  Best AUC Score (joint-type):  54.002491064659374\n",
      "Dataset Name:  inj_cora  Best AUC Score (structure type):  72.55674232309745\n",
      "===========================================================================================\n"
     ]
    },
    {
     "name": "stderr",
     "output_type": "stream",
     "text": [
      " 18%|█▊        | 92/500 [28:34<2:10:27, 19.18s/it]"
     ]
    },
    {
     "name": "stdout",
     "output_type": "stream",
     "text": [
      "Dataset Name:  inj_cora , AUC Score(benchmark/combined):  81.759995488637\n",
      "Dataset Name:  inj_cora , AUC Score (contextual):  68.55355789017653\n",
      "Dataset Name:  inj_cora , AUC Score (structural):  93.86115022202968\n",
      "Dataset Name:  inj_cora , AUC Score (joint-type):  45.51175132676269\n",
      "Dataset Name:  inj_cora , AUC Score (structure type):  45.51175132676269\n",
      "===========================================================================================\n",
      "Dataset Name:  inj_cora  Best AUC Score(benchmark/combined):  83.4153837478148\n",
      "Dataset Name:  inj_cora  Best AUC Score (contextual):  75.33141990685584\n",
      "Dataset Name:  inj_cora  Best AUC Score (structural):  94.25430520957435\n",
      "Dataset Name:  inj_cora  Best AUC Score (joint-type):  54.002491064659374\n",
      "Dataset Name:  inj_cora  Best AUC Score (structure type):  72.55674232309745\n",
      "===========================================================================================\n"
     ]
    },
    {
     "name": "stderr",
     "output_type": "stream",
     "text": [
      " 19%|█▊        | 93/500 [28:53<2:10:37, 19.26s/it]"
     ]
    },
    {
     "name": "stdout",
     "output_type": "stream",
     "text": [
      "Dataset Name:  inj_cora , AUC Score(benchmark/combined):  82.1406417413861\n",
      "Dataset Name:  inj_cora , AUC Score (contextual):  69.38860608686234\n",
      "Dataset Name:  inj_cora , AUC Score (structural):  93.75717534929059\n",
      "Dataset Name:  inj_cora , AUC Score (joint-type):  45.396404202317775\n",
      "Dataset Name:  inj_cora , AUC Score (structure type):  45.396404202317775\n",
      "===========================================================================================\n",
      "Dataset Name:  inj_cora  Best AUC Score(benchmark/combined):  83.4153837478148\n",
      "Dataset Name:  inj_cora  Best AUC Score (contextual):  75.33141990685584\n",
      "Dataset Name:  inj_cora  Best AUC Score (structural):  94.25430520957435\n",
      "Dataset Name:  inj_cora  Best AUC Score (joint-type):  54.002491064659374\n",
      "Dataset Name:  inj_cora  Best AUC Score (structure type):  72.55674232309745\n",
      "===========================================================================================\n"
     ]
    },
    {
     "name": "stderr",
     "output_type": "stream",
     "text": [
      " 19%|█▉        | 94/500 [29:13<2:10:38, 19.31s/it]"
     ]
    },
    {
     "name": "stdout",
     "output_type": "stream",
     "text": [
      "Dataset Name:  inj_cora , AUC Score(benchmark/combined):  82.52382563582022\n",
      "Dataset Name:  inj_cora , AUC Score (contextual):  70.12888551933283\n",
      "Dataset Name:  inj_cora , AUC Score (structural):  93.75988302826816\n",
      "Dataset Name:  inj_cora , AUC Score (joint-type):  44.807213256796274\n",
      "Dataset Name:  inj_cora , AUC Score (structure type):  44.807213256796274\n",
      "===========================================================================================\n",
      "Dataset Name:  inj_cora  Best AUC Score(benchmark/combined):  83.4153837478148\n",
      "Dataset Name:  inj_cora  Best AUC Score (contextual):  75.33141990685584\n",
      "Dataset Name:  inj_cora  Best AUC Score (structural):  94.25430520957435\n",
      "Dataset Name:  inj_cora  Best AUC Score (joint-type):  54.002491064659374\n",
      "Dataset Name:  inj_cora  Best AUC Score (structure type):  72.55674232309745\n",
      "===========================================================================================\n"
     ]
    },
    {
     "name": "stderr",
     "output_type": "stream",
     "text": [
      " 19%|█▉        | 95/500 [29:32<2:10:09, 19.28s/it]"
     ]
    },
    {
     "name": "stdout",
     "output_type": "stream",
     "text": [
      "Dataset Name:  inj_cora , AUC Score(benchmark/combined):  81.60266170416736\n",
      "Dataset Name:  inj_cora , AUC Score (contextual):  68.13170150546952\n",
      "Dataset Name:  inj_cora , AUC Score (structural):  93.98732806238493\n",
      "Dataset Name:  inj_cora , AUC Score (joint-type):  45.18466370627099\n",
      "Dataset Name:  inj_cora , AUC Score (structure type):  45.18466370627099\n",
      "===========================================================================================\n",
      "Dataset Name:  inj_cora  Best AUC Score(benchmark/combined):  83.4153837478148\n",
      "Dataset Name:  inj_cora  Best AUC Score (contextual):  75.33141990685584\n",
      "Dataset Name:  inj_cora  Best AUC Score (structural):  94.25430520957435\n",
      "Dataset Name:  inj_cora  Best AUC Score (joint-type):  54.002491064659374\n",
      "Dataset Name:  inj_cora  Best AUC Score (structure type):  72.55674232309745\n",
      "===========================================================================================\n"
     ]
    },
    {
     "name": "stderr",
     "output_type": "stream",
     "text": [
      " 19%|█▉        | 96/500 [29:51<2:09:44, 19.27s/it]"
     ]
    },
    {
     "name": "stdout",
     "output_type": "stream",
     "text": [
      "Dataset Name:  inj_cora , AUC Score(benchmark/combined):  82.43049681384989\n",
      "Dataset Name:  inj_cora , AUC Score (contextual):  70.1413408426297\n",
      "Dataset Name:  inj_cora , AUC Score (structural):  93.54543485324379\n",
      "Dataset Name:  inj_cora , AUC Score (joint-type):  45.19657749377234\n",
      "Dataset Name:  inj_cora , AUC Score (structure type):  45.19657749377234\n",
      "===========================================================================================\n",
      "Dataset Name:  inj_cora  Best AUC Score(benchmark/combined):  83.4153837478148\n",
      "Dataset Name:  inj_cora  Best AUC Score (contextual):  75.33141990685584\n",
      "Dataset Name:  inj_cora  Best AUC Score (structural):  94.25430520957435\n",
      "Dataset Name:  inj_cora  Best AUC Score (joint-type):  54.002491064659374\n",
      "Dataset Name:  inj_cora  Best AUC Score (structure type):  72.55674232309745\n",
      "===========================================================================================\n"
     ]
    },
    {
     "name": "stderr",
     "output_type": "stream",
     "text": [
      " 19%|█▉        | 97/500 [30:10<2:09:08, 19.23s/it]"
     ]
    },
    {
     "name": "stdout",
     "output_type": "stream",
     "text": [
      "Dataset Name:  inj_cora , AUC Score(benchmark/combined):  81.81779732701743\n",
      "Dataset Name:  inj_cora , AUC Score (contextual):  68.71439402144482\n",
      "Dataset Name:  inj_cora , AUC Score (structural):  93.80374742770498\n",
      "Dataset Name:  inj_cora , AUC Score (joint-type):  44.71244449258096\n",
      "Dataset Name:  inj_cora , AUC Score (structure type):  44.71244449258096\n",
      "===========================================================================================\n",
      "Dataset Name:  inj_cora  Best AUC Score(benchmark/combined):  83.4153837478148\n",
      "Dataset Name:  inj_cora  Best AUC Score (contextual):  75.33141990685584\n",
      "Dataset Name:  inj_cora  Best AUC Score (structural):  94.25430520957435\n",
      "Dataset Name:  inj_cora  Best AUC Score (joint-type):  54.002491064659374\n",
      "Dataset Name:  inj_cora  Best AUC Score (structure type):  72.55674232309745\n",
      "===========================================================================================\n"
     ]
    },
    {
     "name": "stderr",
     "output_type": "stream",
     "text": [
      " 20%|█▉        | 98/500 [30:30<2:08:39, 19.20s/it]"
     ]
    },
    {
     "name": "stdout",
     "output_type": "stream",
     "text": [
      "Dataset Name:  inj_cora , AUC Score(benchmark/combined):  82.13274685614391\n",
      "Dataset Name:  inj_cora , AUC Score (contextual):  69.3940214448175\n",
      "Dataset Name:  inj_cora , AUC Score (structural):  93.74038773962958\n",
      "Dataset Name:  inj_cora , AUC Score (joint-type):  44.467128777212174\n",
      "Dataset Name:  inj_cora , AUC Score (structure type):  44.467128777212174\n",
      "===========================================================================================\n",
      "Dataset Name:  inj_cora  Best AUC Score(benchmark/combined):  83.4153837478148\n",
      "Dataset Name:  inj_cora  Best AUC Score (contextual):  75.33141990685584\n",
      "Dataset Name:  inj_cora  Best AUC Score (structural):  94.25430520957435\n",
      "Dataset Name:  inj_cora  Best AUC Score (joint-type):  54.002491064659374\n",
      "Dataset Name:  inj_cora  Best AUC Score (structure type):  72.55674232309745\n",
      "===========================================================================================\n"
     ]
    },
    {
     "name": "stderr",
     "output_type": "stream",
     "text": [
      " 20%|█▉        | 99/500 [30:49<2:08:33, 19.24s/it]"
     ]
    },
    {
     "name": "stdout",
     "output_type": "stream",
     "text": [
      "Dataset Name:  inj_cora , AUC Score(benchmark/combined):  81.94806293351378\n",
      "Dataset Name:  inj_cora , AUC Score (contextual):  68.65103433336944\n",
      "Dataset Name:  inj_cora , AUC Score (structural):  94.1346257987653\n",
      "Dataset Name:  inj_cora , AUC Score (joint-type):  44.24672370843713\n",
      "Dataset Name:  inj_cora , AUC Score (structure type):  44.24672370843713\n",
      "===========================================================================================\n",
      "Dataset Name:  inj_cora  Best AUC Score(benchmark/combined):  83.4153837478148\n",
      "Dataset Name:  inj_cora  Best AUC Score (contextual):  75.33141990685584\n",
      "Dataset Name:  inj_cora  Best AUC Score (structural):  94.25430520957435\n",
      "Dataset Name:  inj_cora  Best AUC Score (joint-type):  54.002491064659374\n",
      "Dataset Name:  inj_cora  Best AUC Score (structure type):  72.55674232309745\n",
      "===========================================================================================\n"
     ]
    },
    {
     "name": "stderr",
     "output_type": "stream",
     "text": [
      " 20%|██        | 100/500 [31:08<2:08:17, 19.24s/it]"
     ]
    },
    {
     "name": "stdout",
     "output_type": "stream",
     "text": [
      "Dataset Name:  inj_cora , AUC Score(benchmark/combined):  82.33744995206676\n",
      "Dataset Name:  inj_cora , AUC Score (contextual):  69.42651359254847\n",
      "Dataset Name:  inj_cora , AUC Score (structural):  94.09942597205675\n",
      "Dataset Name:  inj_cora , AUC Score (joint-type):  45.59298169609011\n",
      "Dataset Name:  inj_cora , AUC Score (structure type):  45.59298169609011\n",
      "===========================================================================================\n",
      "Dataset Name:  inj_cora  Best AUC Score(benchmark/combined):  83.4153837478148\n",
      "Dataset Name:  inj_cora  Best AUC Score (contextual):  75.33141990685584\n",
      "Dataset Name:  inj_cora  Best AUC Score (structural):  94.25430520957435\n",
      "Dataset Name:  inj_cora  Best AUC Score (joint-type):  54.002491064659374\n",
      "Dataset Name:  inj_cora  Best AUC Score (structure type):  72.55674232309745\n",
      "===========================================================================================\n"
     ]
    },
    {
     "name": "stderr",
     "output_type": "stream",
     "text": [
      " 20%|██        | 101/500 [31:28<2:08:21, 19.30s/it]"
     ]
    },
    {
     "name": "stdout",
     "output_type": "stream",
     "text": [
      "Dataset Name:  inj_cora , AUC Score(benchmark/combined):  81.96272486324932\n",
      "Dataset Name:  inj_cora , AUC Score (contextual):  68.64724358280083\n",
      "Dataset Name:  inj_cora , AUC Score (structural):  94.14220729990254\n",
      "Dataset Name:  inj_cora , AUC Score (joint-type):  44.839705404527244\n",
      "Dataset Name:  inj_cora , AUC Score (structure type):  44.839705404527244\n",
      "===========================================================================================\n",
      "Dataset Name:  inj_cora  Best AUC Score(benchmark/combined):  83.4153837478148\n",
      "Dataset Name:  inj_cora  Best AUC Score (contextual):  75.33141990685584\n",
      "Dataset Name:  inj_cora  Best AUC Score (structural):  94.25430520957435\n",
      "Dataset Name:  inj_cora  Best AUC Score (joint-type):  54.002491064659374\n",
      "Dataset Name:  inj_cora  Best AUC Score (structure type):  72.55674232309745\n",
      "===========================================================================================\n"
     ]
    },
    {
     "name": "stderr",
     "output_type": "stream",
     "text": [
      " 20%|██        | 102/500 [31:47<2:07:35, 19.23s/it]"
     ]
    },
    {
     "name": "stdout",
     "output_type": "stream",
     "text": [
      "Dataset Name:  inj_cora , AUC Score(benchmark/combined):  82.36536401060171\n",
      "Dataset Name:  inj_cora , AUC Score (contextual):  69.82075165168418\n",
      "Dataset Name:  inj_cora , AUC Score (structural):  93.76963067258745\n",
      "Dataset Name:  inj_cora , AUC Score (joint-type):  45.34116755117513\n",
      "Dataset Name:  inj_cora , AUC Score (structure type):  45.34116755117513\n",
      "===========================================================================================\n",
      "Dataset Name:  inj_cora  Best AUC Score(benchmark/combined):  83.4153837478148\n",
      "Dataset Name:  inj_cora  Best AUC Score (contextual):  75.33141990685584\n",
      "Dataset Name:  inj_cora  Best AUC Score (structural):  94.25430520957435\n",
      "Dataset Name:  inj_cora  Best AUC Score (joint-type):  54.002491064659374\n",
      "Dataset Name:  inj_cora  Best AUC Score (structure type):  72.55674232309745\n",
      "===========================================================================================\n"
     ]
    },
    {
     "name": "stderr",
     "output_type": "stream",
     "text": [
      " 21%|██        | 103/500 [32:06<2:07:18, 19.24s/it]"
     ]
    },
    {
     "name": "stdout",
     "output_type": "stream",
     "text": [
      "Dataset Name:  inj_cora , AUC Score(benchmark/combined):  82.12936333389726\n",
      "Dataset Name:  inj_cora , AUC Score (contextual):  69.14437344308459\n",
      "Dataset Name:  inj_cora , AUC Score (structural):  93.99111881295354\n",
      "Dataset Name:  inj_cora , AUC Score (joint-type):  44.35124011697173\n",
      "Dataset Name:  inj_cora , AUC Score (structure type):  44.35124011697173\n",
      "===========================================================================================\n",
      "Dataset Name:  inj_cora  Best AUC Score(benchmark/combined):  83.4153837478148\n",
      "Dataset Name:  inj_cora  Best AUC Score (contextual):  75.33141990685584\n",
      "Dataset Name:  inj_cora  Best AUC Score (structural):  94.25430520957435\n",
      "Dataset Name:  inj_cora  Best AUC Score (joint-type):  54.002491064659374\n",
      "Dataset Name:  inj_cora  Best AUC Score (structure type):  72.55674232309745\n",
      "===========================================================================================\n"
     ]
    },
    {
     "name": "stderr",
     "output_type": "stream",
     "text": [
      " 21%|██        | 104/500 [32:25<2:06:17, 19.13s/it]"
     ]
    },
    {
     "name": "stdout",
     "output_type": "stream",
     "text": [
      "Dataset Name:  inj_cora , AUC Score(benchmark/combined):  82.13302881633113\n",
      "Dataset Name:  inj_cora , AUC Score (contextual):  69.15953644535904\n",
      "Dataset Name:  inj_cora , AUC Score (structural):  93.97920502545219\n",
      "Dataset Name:  inj_cora , AUC Score (joint-type):  44.72435828008231\n",
      "Dataset Name:  inj_cora , AUC Score (structure type):  44.72435828008231\n",
      "===========================================================================================\n",
      "Dataset Name:  inj_cora  Best AUC Score(benchmark/combined):  83.4153837478148\n",
      "Dataset Name:  inj_cora  Best AUC Score (contextual):  75.33141990685584\n",
      "Dataset Name:  inj_cora  Best AUC Score (structural):  94.25430520957435\n",
      "Dataset Name:  inj_cora  Best AUC Score (joint-type):  54.002491064659374\n",
      "Dataset Name:  inj_cora  Best AUC Score (structure type):  72.55674232309745\n",
      "===========================================================================================\n"
     ]
    },
    {
     "name": "stderr",
     "output_type": "stream",
     "text": [
      " 21%|██        | 105/500 [32:44<2:06:02, 19.15s/it]"
     ]
    },
    {
     "name": "stdout",
     "output_type": "stream",
     "text": [
      "Dataset Name:  inj_cora , AUC Score(benchmark/combined):  82.74403654204026\n",
      "Dataset Name:  inj_cora , AUC Score (contextual):  70.2561464312791\n",
      "Dataset Name:  inj_cora , AUC Score (structural):  94.05610310841546\n",
      "Dataset Name:  inj_cora , AUC Score (joint-type):  46.33921802231128\n",
      "Dataset Name:  inj_cora , AUC Score (structure type):  46.33921802231128\n",
      "===========================================================================================\n",
      "Dataset Name:  inj_cora  Best AUC Score(benchmark/combined):  83.4153837478148\n",
      "Dataset Name:  inj_cora  Best AUC Score (contextual):  75.33141990685584\n",
      "Dataset Name:  inj_cora  Best AUC Score (structural):  94.25430520957435\n",
      "Dataset Name:  inj_cora  Best AUC Score (joint-type):  54.002491064659374\n",
      "Dataset Name:  inj_cora  Best AUC Score (structure type):  72.55674232309745\n",
      "===========================================================================================\n"
     ]
    },
    {
     "name": "stderr",
     "output_type": "stream",
     "text": [
      " 21%|██        | 106/500 [33:03<2:06:10, 19.22s/it]"
     ]
    },
    {
     "name": "stdout",
     "output_type": "stream",
     "text": [
      "Dataset Name:  inj_cora , AUC Score(benchmark/combined):  80.81881238369142\n",
      "Dataset Name:  inj_cora , AUC Score (contextual):  66.35492256038124\n",
      "Dataset Name:  inj_cora , AUC Score (structural):  94.25863749593847\n",
      "Dataset Name:  inj_cora , AUC Score (joint-type):  44.880862124986464\n",
      "Dataset Name:  inj_cora , AUC Score (structure type):  44.880862124986464\n",
      "===========================================================================================\n",
      "Dataset Name:  inj_cora  Best AUC Score(benchmark/combined):  83.4153837478148\n",
      "Dataset Name:  inj_cora  Best AUC Score (contextual):  75.33141990685584\n",
      "Dataset Name:  inj_cora  Best AUC Score (structural):  94.25863749593847\n",
      "Dataset Name:  inj_cora  Best AUC Score (joint-type):  54.002491064659374\n",
      "Dataset Name:  inj_cora  Best AUC Score (structure type):  72.55674232309745\n",
      "===========================================================================================\n"
     ]
    },
    {
     "name": "stderr",
     "output_type": "stream",
     "text": [
      " 21%|██▏       | 107/500 [33:22<2:05:37, 19.18s/it]"
     ]
    },
    {
     "name": "stdout",
     "output_type": "stream",
     "text": [
      "Dataset Name:  inj_cora , AUC Score(benchmark/combined):  81.8409180623696\n",
      "Dataset Name:  inj_cora , AUC Score (contextual):  68.67811112314524\n",
      "Dataset Name:  inj_cora , AUC Score (structural):  93.89255929816962\n",
      "Dataset Name:  inj_cora , AUC Score (joint-type):  45.45922235459764\n",
      "Dataset Name:  inj_cora , AUC Score (structure type):  45.45922235459764\n",
      "===========================================================================================\n",
      "Dataset Name:  inj_cora  Best AUC Score(benchmark/combined):  83.4153837478148\n",
      "Dataset Name:  inj_cora  Best AUC Score (contextual):  75.33141990685584\n",
      "Dataset Name:  inj_cora  Best AUC Score (structural):  94.25863749593847\n",
      "Dataset Name:  inj_cora  Best AUC Score (joint-type):  54.002491064659374\n",
      "Dataset Name:  inj_cora  Best AUC Score (structure type):  72.55674232309745\n",
      "===========================================================================================\n"
     ]
    },
    {
     "name": "stderr",
     "output_type": "stream",
     "text": [
      " 22%|██▏       | 108/500 [33:42<2:05:15, 19.17s/it]"
     ]
    },
    {
     "name": "stdout",
     "output_type": "stream",
     "text": [
      "Dataset Name:  inj_cora , AUC Score(benchmark/combined):  82.3261715445779\n",
      "Dataset Name:  inj_cora , AUC Score (contextual):  69.68211848803206\n",
      "Dataset Name:  inj_cora , AUC Score (structural):  93.81891042997943\n",
      "Dataset Name:  inj_cora , AUC Score (joint-type):  45.790100725657965\n",
      "Dataset Name:  inj_cora , AUC Score (structure type):  45.790100725657965\n",
      "===========================================================================================\n",
      "Dataset Name:  inj_cora  Best AUC Score(benchmark/combined):  83.4153837478148\n",
      "Dataset Name:  inj_cora  Best AUC Score (contextual):  75.33141990685584\n",
      "Dataset Name:  inj_cora  Best AUC Score (structural):  94.25863749593847\n",
      "Dataset Name:  inj_cora  Best AUC Score (joint-type):  54.002491064659374\n",
      "Dataset Name:  inj_cora  Best AUC Score (structure type):  72.55674232309745\n",
      "===========================================================================================\n"
     ]
    },
    {
     "name": "stderr",
     "output_type": "stream",
     "text": [
      " 22%|██▏       | 109/500 [34:01<2:05:12, 19.21s/it]"
     ]
    },
    {
     "name": "stdout",
     "output_type": "stream",
     "text": [
      "Dataset Name:  inj_cora , AUC Score(benchmark/combined):  81.40528957311228\n",
      "Dataset Name:  inj_cora , AUC Score (contextual):  67.52247373551393\n",
      "Dataset Name:  inj_cora , AUC Score (structural):  94.21098234593306\n",
      "Dataset Name:  inj_cora , AUC Score (joint-type):  43.78695981804397\n",
      "Dataset Name:  inj_cora , AUC Score (structure type):  43.78695981804397\n",
      "===========================================================================================\n",
      "Dataset Name:  inj_cora  Best AUC Score(benchmark/combined):  83.4153837478148\n",
      "Dataset Name:  inj_cora  Best AUC Score (contextual):  75.33141990685584\n",
      "Dataset Name:  inj_cora  Best AUC Score (structural):  94.25863749593847\n",
      "Dataset Name:  inj_cora  Best AUC Score (joint-type):  54.002491064659374\n",
      "Dataset Name:  inj_cora  Best AUC Score (structure type):  72.55674232309745\n",
      "===========================================================================================\n"
     ]
    },
    {
     "name": "stderr",
     "output_type": "stream",
     "text": [
      " 22%|██▏       | 110/500 [34:20<2:04:48, 19.20s/it]"
     ]
    },
    {
     "name": "stdout",
     "output_type": "stream",
     "text": [
      "Dataset Name:  inj_cora , AUC Score(benchmark/combined):  82.31263745559127\n",
      "Dataset Name:  inj_cora , AUC Score (contextual):  69.0436477851186\n",
      "Dataset Name:  inj_cora , AUC Score (structural):  94.44330120220947\n",
      "Dataset Name:  inj_cora , AUC Score (joint-type):  44.991876963067256\n",
      "Dataset Name:  inj_cora , AUC Score (structure type):  44.991876963067256\n",
      "===========================================================================================\n",
      "Dataset Name:  inj_cora  Best AUC Score(benchmark/combined):  83.4153837478148\n",
      "Dataset Name:  inj_cora  Best AUC Score (contextual):  75.33141990685584\n",
      "Dataset Name:  inj_cora  Best AUC Score (structural):  94.44330120220947\n",
      "Dataset Name:  inj_cora  Best AUC Score (joint-type):  54.002491064659374\n",
      "Dataset Name:  inj_cora  Best AUC Score (structure type):  72.55674232309745\n",
      "===========================================================================================\n"
     ]
    },
    {
     "name": "stderr",
     "output_type": "stream",
     "text": [
      " 22%|██▏       | 111/500 [34:39<2:04:47, 19.25s/it]"
     ]
    },
    {
     "name": "stdout",
     "output_type": "stream",
     "text": [
      "Dataset Name:  inj_cora , AUC Score(benchmark/combined):  82.56048046015904\n",
      "Dataset Name:  inj_cora , AUC Score (contextual):  69.9290588107874\n",
      "Dataset Name:  inj_cora , AUC Score (structural):  94.03173399761724\n",
      "Dataset Name:  inj_cora , AUC Score (joint-type):  45.81826058702481\n",
      "Dataset Name:  inj_cora , AUC Score (structure type):  45.81826058702481\n",
      "===========================================================================================\n",
      "Dataset Name:  inj_cora  Best AUC Score(benchmark/combined):  83.4153837478148\n",
      "Dataset Name:  inj_cora  Best AUC Score (contextual):  75.33141990685584\n",
      "Dataset Name:  inj_cora  Best AUC Score (structural):  94.44330120220947\n",
      "Dataset Name:  inj_cora  Best AUC Score (joint-type):  54.002491064659374\n",
      "Dataset Name:  inj_cora  Best AUC Score (structure type):  72.55674232309745\n",
      "===========================================================================================\n"
     ]
    },
    {
     "name": "stderr",
     "output_type": "stream",
     "text": [
      " 22%|██▏       | 112/500 [34:59<2:04:08, 19.20s/it]"
     ]
    },
    {
     "name": "stdout",
     "output_type": "stream",
     "text": [
      "Dataset Name:  inj_cora , AUC Score(benchmark/combined):  82.1406417413861\n",
      "Dataset Name:  inj_cora , AUC Score (contextual):  68.77991985270226\n",
      "Dataset Name:  inj_cora , AUC Score (structural):  94.37615076356548\n",
      "Dataset Name:  inj_cora , AUC Score (joint-type):  45.606520090978016\n",
      "Dataset Name:  inj_cora , AUC Score (structure type):  45.606520090978016\n",
      "===========================================================================================\n",
      "Dataset Name:  inj_cora  Best AUC Score(benchmark/combined):  83.4153837478148\n",
      "Dataset Name:  inj_cora  Best AUC Score (contextual):  75.33141990685584\n",
      "Dataset Name:  inj_cora  Best AUC Score (structural):  94.44330120220947\n",
      "Dataset Name:  inj_cora  Best AUC Score (joint-type):  54.002491064659374\n",
      "Dataset Name:  inj_cora  Best AUC Score (structure type):  72.55674232309745\n",
      "===========================================================================================\n"
     ]
    },
    {
     "name": "stderr",
     "output_type": "stream",
     "text": [
      " 23%|██▎       | 113/500 [35:18<2:04:13, 19.26s/it]"
     ]
    },
    {
     "name": "stdout",
     "output_type": "stream",
     "text": [
      "Dataset Name:  inj_cora , AUC Score(benchmark/combined):  82.11329160322562\n",
      "Dataset Name:  inj_cora , AUC Score (contextual):  68.76692299360988\n",
      "Dataset Name:  inj_cora , AUC Score (structural):  94.34474168742554\n",
      "Dataset Name:  inj_cora , AUC Score (joint-type):  45.68612585291888\n",
      "Dataset Name:  inj_cora , AUC Score (structure type):  45.68612585291888\n",
      "===========================================================================================\n",
      "Dataset Name:  inj_cora  Best AUC Score(benchmark/combined):  83.4153837478148\n",
      "Dataset Name:  inj_cora  Best AUC Score (contextual):  75.33141990685584\n",
      "Dataset Name:  inj_cora  Best AUC Score (structural):  94.44330120220947\n",
      "Dataset Name:  inj_cora  Best AUC Score (joint-type):  54.002491064659374\n",
      "Dataset Name:  inj_cora  Best AUC Score (structure type):  72.55674232309745\n",
      "===========================================================================================\n"
     ]
    },
    {
     "name": "stderr",
     "output_type": "stream",
     "text": [
      " 23%|██▎       | 114/500 [35:37<2:03:58, 19.27s/it]"
     ]
    },
    {
     "name": "stdout",
     "output_type": "stream",
     "text": [
      "Dataset Name:  inj_cora , AUC Score(benchmark/combined):  81.78565386567416\n",
      "Dataset Name:  inj_cora , AUC Score (contextual):  68.35589732481317\n",
      "Dataset Name:  inj_cora , AUC Score (structural):  94.12325354705946\n",
      "Dataset Name:  inj_cora , AUC Score (joint-type):  45.37907505686126\n",
      "Dataset Name:  inj_cora , AUC Score (structure type):  45.37907505686126\n",
      "===========================================================================================\n",
      "Dataset Name:  inj_cora  Best AUC Score(benchmark/combined):  83.4153837478148\n",
      "Dataset Name:  inj_cora  Best AUC Score (contextual):  75.33141990685584\n",
      "Dataset Name:  inj_cora  Best AUC Score (structural):  94.44330120220947\n",
      "Dataset Name:  inj_cora  Best AUC Score (joint-type):  54.002491064659374\n",
      "Dataset Name:  inj_cora  Best AUC Score (structure type):  72.55674232309745\n",
      "===========================================================================================\n"
     ]
    },
    {
     "name": "stderr",
     "output_type": "stream",
     "text": [
      " 23%|██▎       | 115/500 [35:56<2:03:25, 19.24s/it]"
     ]
    },
    {
     "name": "stdout",
     "output_type": "stream",
     "text": [
      "Dataset Name:  inj_cora , AUC Score(benchmark/combined):  82.5145209496419\n",
      "Dataset Name:  inj_cora , AUC Score (contextual):  69.65070941189214\n",
      "Dataset Name:  inj_cora , AUC Score (structural):  94.21856384707029\n",
      "Dataset Name:  inj_cora , AUC Score (joint-type):  46.26177840355247\n",
      "Dataset Name:  inj_cora , AUC Score (structure type):  46.26177840355247\n",
      "===========================================================================================\n",
      "Dataset Name:  inj_cora  Best AUC Score(benchmark/combined):  83.4153837478148\n",
      "Dataset Name:  inj_cora  Best AUC Score (contextual):  75.33141990685584\n",
      "Dataset Name:  inj_cora  Best AUC Score (structural):  94.44330120220947\n",
      "Dataset Name:  inj_cora  Best AUC Score (joint-type):  54.002491064659374\n",
      "Dataset Name:  inj_cora  Best AUC Score (structure type):  72.55674232309745\n",
      "===========================================================================================\n"
     ]
    },
    {
     "name": "stderr",
     "output_type": "stream",
     "text": [
      " 23%|██▎       | 116/500 [36:15<2:02:37, 19.16s/it]"
     ]
    },
    {
     "name": "stdout",
     "output_type": "stream",
     "text": [
      "Dataset Name:  inj_cora , AUC Score(benchmark/combined):  81.7952405120397\n",
      "Dataset Name:  inj_cora , AUC Score (contextual):  68.12087078955919\n",
      "Dataset Name:  inj_cora , AUC Score (structural):  94.37452615617892\n",
      "Dataset Name:  inj_cora , AUC Score (joint-type):  45.237192678436045\n",
      "Dataset Name:  inj_cora , AUC Score (structure type):  45.237192678436045\n",
      "===========================================================================================\n",
      "Dataset Name:  inj_cora  Best AUC Score(benchmark/combined):  83.4153837478148\n",
      "Dataset Name:  inj_cora  Best AUC Score (contextual):  75.33141990685584\n",
      "Dataset Name:  inj_cora  Best AUC Score (structural):  94.44330120220947\n",
      "Dataset Name:  inj_cora  Best AUC Score (joint-type):  54.002491064659374\n",
      "Dataset Name:  inj_cora  Best AUC Score (structure type):  72.55674232309745\n",
      "===========================================================================================\n"
     ]
    },
    {
     "name": "stderr",
     "output_type": "stream",
     "text": [
      " 23%|██▎       | 117/500 [36:35<2:02:33, 19.20s/it]"
     ]
    },
    {
     "name": "stdout",
     "output_type": "stream",
     "text": [
      "Dataset Name:  inj_cora , AUC Score(benchmark/combined):  82.29628376473242\n",
      "Dataset Name:  inj_cora , AUC Score (contextual):  69.10050904364779\n",
      "Dataset Name:  inj_cora , AUC Score (structural):  94.35394779594931\n",
      "Dataset Name:  inj_cora , AUC Score (joint-type):  44.20665005956894\n",
      "Dataset Name:  inj_cora , AUC Score (structure type):  44.20665005956894\n",
      "===========================================================================================\n",
      "Dataset Name:  inj_cora  Best AUC Score(benchmark/combined):  83.4153837478148\n",
      "Dataset Name:  inj_cora  Best AUC Score (contextual):  75.33141990685584\n",
      "Dataset Name:  inj_cora  Best AUC Score (structural):  94.44330120220947\n",
      "Dataset Name:  inj_cora  Best AUC Score (joint-type):  54.002491064659374\n",
      "Dataset Name:  inj_cora  Best AUC Score (structure type):  72.55674232309745\n",
      "===========================================================================================\n"
     ]
    },
    {
     "name": "stderr",
     "output_type": "stream",
     "text": [
      " 24%|██▎       | 118/500 [36:54<2:02:25, 19.23s/it]"
     ]
    },
    {
     "name": "stdout",
     "output_type": "stream",
     "text": [
      "Dataset Name:  inj_cora , AUC Score(benchmark/combined):  82.37213105509502\n",
      "Dataset Name:  inj_cora , AUC Score (contextual):  69.55539911188129\n",
      "Dataset Name:  inj_cora , AUC Score (structural):  94.03010939023069\n",
      "Dataset Name:  inj_cora , AUC Score (joint-type):  47.7575002707679\n",
      "Dataset Name:  inj_cora , AUC Score (structure type):  47.7575002707679\n",
      "===========================================================================================\n",
      "Dataset Name:  inj_cora  Best AUC Score(benchmark/combined):  83.4153837478148\n",
      "Dataset Name:  inj_cora  Best AUC Score (contextual):  75.33141990685584\n",
      "Dataset Name:  inj_cora  Best AUC Score (structural):  94.44330120220947\n",
      "Dataset Name:  inj_cora  Best AUC Score (joint-type):  54.002491064659374\n",
      "Dataset Name:  inj_cora  Best AUC Score (structure type):  72.55674232309745\n",
      "===========================================================================================\n"
     ]
    },
    {
     "name": "stderr",
     "output_type": "stream",
     "text": [
      " 24%|██▍       | 119/500 [37:13<2:02:06, 19.23s/it]"
     ]
    },
    {
     "name": "stdout",
     "output_type": "stream",
     "text": [
      "Dataset Name:  inj_cora , AUC Score(benchmark/combined):  81.70388541137991\n",
      "Dataset Name:  inj_cora , AUC Score (contextual):  68.10679085887578\n",
      "Dataset Name:  inj_cora , AUC Score (structural):  94.19202859309\n",
      "Dataset Name:  inj_cora , AUC Score (joint-type):  44.35232318856277\n",
      "Dataset Name:  inj_cora , AUC Score (structure type):  44.35232318856277\n",
      "===========================================================================================\n",
      "Dataset Name:  inj_cora  Best AUC Score(benchmark/combined):  83.4153837478148\n",
      "Dataset Name:  inj_cora  Best AUC Score (contextual):  75.33141990685584\n",
      "Dataset Name:  inj_cora  Best AUC Score (structural):  94.44330120220947\n",
      "Dataset Name:  inj_cora  Best AUC Score (joint-type):  54.002491064659374\n",
      "Dataset Name:  inj_cora  Best AUC Score (structure type):  72.55674232309745\n",
      "===========================================================================================\n"
     ]
    },
    {
     "name": "stderr",
     "output_type": "stream",
     "text": [
      " 24%|██▍       | 120/500 [37:32<2:01:49, 19.24s/it]"
     ]
    },
    {
     "name": "stdout",
     "output_type": "stream",
     "text": [
      "Dataset Name:  inj_cora , AUC Score(benchmark/combined):  82.16207071561496\n",
      "Dataset Name:  inj_cora , AUC Score (contextual):  69.28517274991877\n",
      "Dataset Name:  inj_cora , AUC Score (structural):  93.89905772771581\n",
      "Dataset Name:  inj_cora , AUC Score (joint-type):  44.263511318098125\n",
      "Dataset Name:  inj_cora , AUC Score (structure type):  44.263511318098125\n",
      "===========================================================================================\n",
      "Dataset Name:  inj_cora  Best AUC Score(benchmark/combined):  83.4153837478148\n",
      "Dataset Name:  inj_cora  Best AUC Score (contextual):  75.33141990685584\n",
      "Dataset Name:  inj_cora  Best AUC Score (structural):  94.44330120220947\n",
      "Dataset Name:  inj_cora  Best AUC Score (joint-type):  54.002491064659374\n",
      "Dataset Name:  inj_cora  Best AUC Score (structure type):  72.55674232309745\n",
      "===========================================================================================\n"
     ]
    },
    {
     "name": "stderr",
     "output_type": "stream",
     "text": [
      " 24%|██▍       | 121/500 [37:52<2:01:22, 19.21s/it]"
     ]
    },
    {
     "name": "stdout",
     "output_type": "stream",
     "text": [
      "Dataset Name:  inj_cora , AUC Score(benchmark/combined):  82.17475892403992\n",
      "Dataset Name:  inj_cora , AUC Score (contextual):  68.96025127260911\n",
      "Dataset Name:  inj_cora , AUC Score (structural):  94.25809596014297\n",
      "Dataset Name:  inj_cora , AUC Score (joint-type):  45.86374959384815\n",
      "Dataset Name:  inj_cora , AUC Score (structure type):  45.86374959384815\n",
      "===========================================================================================\n",
      "Dataset Name:  inj_cora  Best AUC Score(benchmark/combined):  83.4153837478148\n",
      "Dataset Name:  inj_cora  Best AUC Score (contextual):  75.33141990685584\n",
      "Dataset Name:  inj_cora  Best AUC Score (structural):  94.44330120220947\n",
      "Dataset Name:  inj_cora  Best AUC Score (joint-type):  54.002491064659374\n",
      "Dataset Name:  inj_cora  Best AUC Score (structure type):  72.55674232309745\n",
      "===========================================================================================\n"
     ]
    },
    {
     "name": "stderr",
     "output_type": "stream",
     "text": [
      " 24%|██▍       | 122/500 [38:11<2:01:24, 19.27s/it]"
     ]
    },
    {
     "name": "stdout",
     "output_type": "stream",
     "text": [
      "Dataset Name:  inj_cora , AUC Score(benchmark/combined):  82.3498562003045\n",
      "Dataset Name:  inj_cora , AUC Score (contextual):  69.20177623740929\n",
      "Dataset Name:  inj_cora , AUC Score (structural):  94.3534062601538\n",
      "Dataset Name:  inj_cora , AUC Score (joint-type):  45.54965883244883\n",
      "Dataset Name:  inj_cora , AUC Score (structure type):  45.54965883244883\n",
      "===========================================================================================\n",
      "Dataset Name:  inj_cora  Best AUC Score(benchmark/combined):  83.4153837478148\n",
      "Dataset Name:  inj_cora  Best AUC Score (contextual):  75.33141990685584\n",
      "Dataset Name:  inj_cora  Best AUC Score (structural):  94.44330120220947\n",
      "Dataset Name:  inj_cora  Best AUC Score (joint-type):  54.002491064659374\n",
      "Dataset Name:  inj_cora  Best AUC Score (structure type):  72.55674232309745\n",
      "===========================================================================================\n"
     ]
    },
    {
     "name": "stderr",
     "output_type": "stream",
     "text": [
      " 25%|██▍       | 123/500 [38:30<2:01:21, 19.31s/it]"
     ]
    },
    {
     "name": "stdout",
     "output_type": "stream",
     "text": [
      "Dataset Name:  inj_cora , AUC Score(benchmark/combined):  82.35126600124062\n",
      "Dataset Name:  inj_cora , AUC Score (contextual):  70.07148272500811\n",
      "Dataset Name:  inj_cora , AUC Score (structural):  93.47503519982672\n",
      "Dataset Name:  inj_cora , AUC Score (joint-type):  45.82665439185531\n",
      "Dataset Name:  inj_cora , AUC Score (structure type):  45.82665439185531\n",
      "===========================================================================================\n",
      "Dataset Name:  inj_cora  Best AUC Score(benchmark/combined):  83.4153837478148\n",
      "Dataset Name:  inj_cora  Best AUC Score (contextual):  75.33141990685584\n",
      "Dataset Name:  inj_cora  Best AUC Score (structural):  94.44330120220947\n",
      "Dataset Name:  inj_cora  Best AUC Score (joint-type):  54.002491064659374\n",
      "Dataset Name:  inj_cora  Best AUC Score (structure type):  72.55674232309745\n",
      "===========================================================================================\n"
     ]
    },
    {
     "name": "stderr",
     "output_type": "stream",
     "text": [
      " 25%|██▍       | 124/500 [38:50<2:00:39, 19.25s/it]"
     ]
    },
    {
     "name": "stdout",
     "output_type": "stream",
     "text": [
      "Dataset Name:  inj_cora , AUC Score(benchmark/combined):  82.17673264535048\n",
      "Dataset Name:  inj_cora , AUC Score (contextual):  69.58843279540777\n",
      "Dataset Name:  inj_cora , AUC Score (structural):  93.62828982995775\n",
      "Dataset Name:  inj_cora , AUC Score (joint-type):  44.71623524314957\n",
      "Dataset Name:  inj_cora , AUC Score (structure type):  44.71623524314957\n",
      "===========================================================================================\n",
      "Dataset Name:  inj_cora  Best AUC Score(benchmark/combined):  83.4153837478148\n",
      "Dataset Name:  inj_cora  Best AUC Score (contextual):  75.33141990685584\n",
      "Dataset Name:  inj_cora  Best AUC Score (structural):  94.44330120220947\n",
      "Dataset Name:  inj_cora  Best AUC Score (joint-type):  54.002491064659374\n",
      "Dataset Name:  inj_cora  Best AUC Score (structure type):  72.55674232309745\n",
      "===========================================================================================\n"
     ]
    },
    {
     "name": "stderr",
     "output_type": "stream",
     "text": [
      " 25%|██▌       | 125/500 [39:09<2:00:27, 19.27s/it]"
     ]
    },
    {
     "name": "stdout",
     "output_type": "stream",
     "text": [
      "Dataset Name:  inj_cora , AUC Score(benchmark/combined):  81.58940957536795\n",
      "Dataset Name:  inj_cora , AUC Score (contextual):  68.25300552366511\n",
      "Dataset Name:  inj_cora , AUC Score (structural):  93.83894725441351\n",
      "Dataset Name:  inj_cora , AUC Score (joint-type):  45.3839488790209\n",
      "Dataset Name:  inj_cora , AUC Score (structure type):  45.3839488790209\n",
      "===========================================================================================\n",
      "Dataset Name:  inj_cora  Best AUC Score(benchmark/combined):  83.4153837478148\n",
      "Dataset Name:  inj_cora  Best AUC Score (contextual):  75.33141990685584\n",
      "Dataset Name:  inj_cora  Best AUC Score (structural):  94.44330120220947\n",
      "Dataset Name:  inj_cora  Best AUC Score (joint-type):  54.002491064659374\n",
      "Dataset Name:  inj_cora  Best AUC Score (structure type):  72.55674232309745\n",
      "===========================================================================================\n"
     ]
    },
    {
     "name": "stderr",
     "output_type": "stream",
     "text": [
      " 25%|██▌       | 126/500 [39:28<2:00:12, 19.29s/it]"
     ]
    },
    {
     "name": "stdout",
     "output_type": "stream",
     "text": [
      "Dataset Name:  inj_cora , AUC Score(benchmark/combined):  81.29786274178086\n",
      "Dataset Name:  inj_cora , AUC Score (contextual):  67.69359904689699\n",
      "Dataset Name:  inj_cora , AUC Score (structural):  93.84273800498212\n",
      "Dataset Name:  inj_cora , AUC Score (joint-type):  44.82562547384382\n",
      "Dataset Name:  inj_cora , AUC Score (structure type):  44.82562547384382\n",
      "===========================================================================================\n",
      "Dataset Name:  inj_cora  Best AUC Score(benchmark/combined):  83.4153837478148\n",
      "Dataset Name:  inj_cora  Best AUC Score (contextual):  75.33141990685584\n",
      "Dataset Name:  inj_cora  Best AUC Score (structural):  94.44330120220947\n",
      "Dataset Name:  inj_cora  Best AUC Score (joint-type):  54.002491064659374\n",
      "Dataset Name:  inj_cora  Best AUC Score (structure type):  72.55674232309745\n",
      "===========================================================================================\n"
     ]
    },
    {
     "name": "stderr",
     "output_type": "stream",
     "text": [
      " 25%|██▌       | 127/500 [39:48<2:01:15, 19.50s/it]"
     ]
    },
    {
     "name": "stdout",
     "output_type": "stream",
     "text": [
      "Dataset Name:  inj_cora , AUC Score(benchmark/combined):  81.92325043703829\n",
      "Dataset Name:  inj_cora , AUC Score (contextual):  68.7138524856493\n",
      "Dataset Name:  inj_cora , AUC Score (structural):  94.01602945954728\n",
      "Dataset Name:  inj_cora , AUC Score (joint-type):  46.49518033141992\n",
      "Dataset Name:  inj_cora , AUC Score (structure type):  46.49518033141992\n",
      "===========================================================================================\n",
      "Dataset Name:  inj_cora  Best AUC Score(benchmark/combined):  83.4153837478148\n",
      "Dataset Name:  inj_cora  Best AUC Score (contextual):  75.33141990685584\n",
      "Dataset Name:  inj_cora  Best AUC Score (structural):  94.44330120220947\n",
      "Dataset Name:  inj_cora  Best AUC Score (joint-type):  54.002491064659374\n",
      "Dataset Name:  inj_cora  Best AUC Score (structure type):  72.55674232309745\n",
      "===========================================================================================\n"
     ]
    },
    {
     "name": "stderr",
     "output_type": "stream",
     "text": [
      " 26%|██▌       | 128/500 [40:12<2:09:30, 20.89s/it]"
     ]
    },
    {
     "name": "stdout",
     "output_type": "stream",
     "text": [
      "Dataset Name:  inj_cora , AUC Score(benchmark/combined):  81.74110415609316\n",
      "Dataset Name:  inj_cora , AUC Score (contextual):  68.11274775262645\n",
      "Dataset Name:  inj_cora , AUC Score (structural):  94.28138199935016\n",
      "Dataset Name:  inj_cora , AUC Score (joint-type):  46.99122712011265\n",
      "Dataset Name:  inj_cora , AUC Score (structure type):  46.99122712011265\n",
      "===========================================================================================\n",
      "Dataset Name:  inj_cora  Best AUC Score(benchmark/combined):  83.4153837478148\n",
      "Dataset Name:  inj_cora  Best AUC Score (contextual):  75.33141990685584\n",
      "Dataset Name:  inj_cora  Best AUC Score (structural):  94.44330120220947\n",
      "Dataset Name:  inj_cora  Best AUC Score (joint-type):  54.002491064659374\n",
      "Dataset Name:  inj_cora  Best AUC Score (structure type):  72.55674232309745\n",
      "===========================================================================================\n"
     ]
    },
    {
     "name": "stderr",
     "output_type": "stream",
     "text": [
      " 26%|██▌       | 129/500 [40:37<2:16:07, 22.01s/it]"
     ]
    },
    {
     "name": "stdout",
     "output_type": "stream",
     "text": [
      "Dataset Name:  inj_cora , AUC Score(benchmark/combined):  82.11188180228952\n",
      "Dataset Name:  inj_cora , AUC Score (contextual):  68.80049821293188\n",
      "Dataset Name:  inj_cora , AUC Score (structural):  94.30845878912595\n",
      "Dataset Name:  inj_cora , AUC Score (joint-type):  45.7104949637171\n",
      "Dataset Name:  inj_cora , AUC Score (structure type):  45.7104949637171\n",
      "===========================================================================================\n",
      "Dataset Name:  inj_cora  Best AUC Score(benchmark/combined):  83.4153837478148\n",
      "Dataset Name:  inj_cora  Best AUC Score (contextual):  75.33141990685584\n",
      "Dataset Name:  inj_cora  Best AUC Score (structural):  94.44330120220947\n",
      "Dataset Name:  inj_cora  Best AUC Score (joint-type):  54.002491064659374\n",
      "Dataset Name:  inj_cora  Best AUC Score (structure type):  72.55674232309745\n",
      "===========================================================================================\n"
     ]
    },
    {
     "name": "stderr",
     "output_type": "stream",
     "text": [
      " 26%|██▌       | 130/500 [41:01<2:19:55, 22.69s/it]"
     ]
    },
    {
     "name": "stdout",
     "output_type": "stream",
     "text": [
      "Dataset Name:  inj_cora , AUC Score(benchmark/combined):  82.42852309253934\n",
      "Dataset Name:  inj_cora , AUC Score (contextual):  69.4275966641395\n",
      "Dataset Name:  inj_cora , AUC Score (structural):  94.28192353514567\n",
      "Dataset Name:  inj_cora , AUC Score (joint-type):  46.54770930358497\n",
      "Dataset Name:  inj_cora , AUC Score (structure type):  46.54770930358497\n",
      "===========================================================================================\n",
      "Dataset Name:  inj_cora  Best AUC Score(benchmark/combined):  83.4153837478148\n",
      "Dataset Name:  inj_cora  Best AUC Score (contextual):  75.33141990685584\n",
      "Dataset Name:  inj_cora  Best AUC Score (structural):  94.44330120220947\n",
      "Dataset Name:  inj_cora  Best AUC Score (joint-type):  54.002491064659374\n",
      "Dataset Name:  inj_cora  Best AUC Score (structure type):  72.55674232309745\n",
      "===========================================================================================\n"
     ]
    },
    {
     "name": "stderr",
     "output_type": "stream",
     "text": [
      " 26%|██▌       | 131/500 [41:26<2:23:13, 23.29s/it]"
     ]
    },
    {
     "name": "stdout",
     "output_type": "stream",
     "text": [
      "Dataset Name:  inj_cora , AUC Score(benchmark/combined):  81.33085208368578\n",
      "Dataset Name:  inj_cora , AUC Score (contextual):  67.32968699231019\n",
      "Dataset Name:  inj_cora , AUC Score (structural):  94.26567746128019\n",
      "Dataset Name:  inj_cora , AUC Score (joint-type):  44.505577818693816\n",
      "Dataset Name:  inj_cora , AUC Score (structure type):  44.505577818693816\n",
      "===========================================================================================\n",
      "Dataset Name:  inj_cora  Best AUC Score(benchmark/combined):  83.4153837478148\n",
      "Dataset Name:  inj_cora  Best AUC Score (contextual):  75.33141990685584\n",
      "Dataset Name:  inj_cora  Best AUC Score (structural):  94.44330120220947\n",
      "Dataset Name:  inj_cora  Best AUC Score (joint-type):  54.002491064659374\n",
      "Dataset Name:  inj_cora  Best AUC Score (structure type):  72.55674232309745\n",
      "===========================================================================================\n"
     ]
    },
    {
     "name": "stderr",
     "output_type": "stream",
     "text": [
      " 26%|██▋       | 132/500 [41:47<2:18:48, 22.63s/it]"
     ]
    },
    {
     "name": "stdout",
     "output_type": "stream",
     "text": [
      "Dataset Name:  inj_cora , AUC Score(benchmark/combined):  81.9153555517961\n",
      "Dataset Name:  inj_cora , AUC Score (contextual):  68.70897866348966\n",
      "Dataset Name:  inj_cora , AUC Score (structural):  94.00953103000109\n",
      "Dataset Name:  inj_cora , AUC Score (joint-type):  47.49648001732915\n",
      "Dataset Name:  inj_cora , AUC Score (structure type):  47.49648001732915\n",
      "===========================================================================================\n",
      "Dataset Name:  inj_cora  Best AUC Score(benchmark/combined):  83.4153837478148\n",
      "Dataset Name:  inj_cora  Best AUC Score (contextual):  75.33141990685584\n",
      "Dataset Name:  inj_cora  Best AUC Score (structural):  94.44330120220947\n",
      "Dataset Name:  inj_cora  Best AUC Score (joint-type):  54.002491064659374\n",
      "Dataset Name:  inj_cora  Best AUC Score (structure type):  72.55674232309745\n",
      "===========================================================================================\n"
     ]
    },
    {
     "name": "stderr",
     "output_type": "stream",
     "text": [
      " 27%|██▋       | 133/500 [42:06<2:12:22, 21.64s/it]"
     ]
    },
    {
     "name": "stdout",
     "output_type": "stream",
     "text": [
      "Dataset Name:  inj_cora , AUC Score(benchmark/combined):  82.12259628940394\n",
      "Dataset Name:  inj_cora , AUC Score (contextual):  69.2624282465071\n",
      "Dataset Name:  inj_cora , AUC Score (structural):  93.85302718509693\n",
      "Dataset Name:  inj_cora , AUC Score (joint-type):  45.85725116430196\n",
      "Dataset Name:  inj_cora , AUC Score (structure type):  45.85725116430196\n",
      "===========================================================================================\n",
      "Dataset Name:  inj_cora  Best AUC Score(benchmark/combined):  83.4153837478148\n",
      "Dataset Name:  inj_cora  Best AUC Score (contextual):  75.33141990685584\n",
      "Dataset Name:  inj_cora  Best AUC Score (structural):  94.44330120220947\n",
      "Dataset Name:  inj_cora  Best AUC Score (joint-type):  54.002491064659374\n",
      "Dataset Name:  inj_cora  Best AUC Score (structure type):  72.55674232309745\n",
      "===========================================================================================\n"
     ]
    },
    {
     "name": "stderr",
     "output_type": "stream",
     "text": [
      " 27%|██▋       | 134/500 [42:26<2:07:42, 20.94s/it]"
     ]
    },
    {
     "name": "stdout",
     "output_type": "stream",
     "text": [
      "Dataset Name:  inj_cora , AUC Score(benchmark/combined):  82.36508205041449\n",
      "Dataset Name:  inj_cora , AUC Score (contextual):  69.62904798007149\n",
      "Dataset Name:  inj_cora , AUC Score (structural):  93.95321130726741\n",
      "Dataset Name:  inj_cora , AUC Score (joint-type):  45.77331311599696\n",
      "Dataset Name:  inj_cora , AUC Score (structure type):  45.77331311599696\n",
      "===========================================================================================\n",
      "Dataset Name:  inj_cora  Best AUC Score(benchmark/combined):  83.4153837478148\n",
      "Dataset Name:  inj_cora  Best AUC Score (contextual):  75.33141990685584\n",
      "Dataset Name:  inj_cora  Best AUC Score (structural):  94.44330120220947\n",
      "Dataset Name:  inj_cora  Best AUC Score (joint-type):  54.002491064659374\n",
      "Dataset Name:  inj_cora  Best AUC Score (structure type):  72.55674232309745\n",
      "===========================================================================================\n"
     ]
    },
    {
     "name": "stderr",
     "output_type": "stream",
     "text": [
      " 27%|██▋       | 135/500 [42:45<2:04:41, 20.50s/it]"
     ]
    },
    {
     "name": "stdout",
     "output_type": "stream",
     "text": [
      "Dataset Name:  inj_cora , AUC Score(benchmark/combined):  82.16094287486607\n",
      "Dataset Name:  inj_cora , AUC Score (contextual):  69.39997833856819\n",
      "Dataset Name:  inj_cora , AUC Score (structural):  93.79454131918119\n",
      "Dataset Name:  inj_cora , AUC Score (joint-type):  46.90295678544352\n",
      "Dataset Name:  inj_cora , AUC Score (structure type):  46.90295678544352\n",
      "===========================================================================================\n",
      "Dataset Name:  inj_cora  Best AUC Score(benchmark/combined):  83.4153837478148\n",
      "Dataset Name:  inj_cora  Best AUC Score (contextual):  75.33141990685584\n",
      "Dataset Name:  inj_cora  Best AUC Score (structural):  94.44330120220947\n",
      "Dataset Name:  inj_cora  Best AUC Score (joint-type):  54.002491064659374\n",
      "Dataset Name:  inj_cora  Best AUC Score (structure type):  72.55674232309745\n",
      "===========================================================================================\n"
     ]
    },
    {
     "name": "stderr",
     "output_type": "stream",
     "text": [
      " 27%|██▋       | 136/500 [43:05<2:02:30, 20.19s/it]"
     ]
    },
    {
     "name": "stdout",
     "output_type": "stream",
     "text": [
      "Dataset Name:  inj_cora , AUC Score(benchmark/combined):  82.26921558675915\n",
      "Dataset Name:  inj_cora , AUC Score (contextual):  69.30087728798875\n",
      "Dataset Name:  inj_cora , AUC Score (structural):  94.10375825842088\n",
      "Dataset Name:  inj_cora , AUC Score (joint-type):  45.479800714827256\n",
      "Dataset Name:  inj_cora , AUC Score (structure type):  45.479800714827256\n",
      "===========================================================================================\n",
      "Dataset Name:  inj_cora  Best AUC Score(benchmark/combined):  83.4153837478148\n",
      "Dataset Name:  inj_cora  Best AUC Score (contextual):  75.33141990685584\n",
      "Dataset Name:  inj_cora  Best AUC Score (structural):  94.44330120220947\n",
      "Dataset Name:  inj_cora  Best AUC Score (joint-type):  54.002491064659374\n",
      "Dataset Name:  inj_cora  Best AUC Score (structure type):  72.55674232309745\n",
      "===========================================================================================\n"
     ]
    },
    {
     "name": "stderr",
     "output_type": "stream",
     "text": [
      " 27%|██▋       | 137/500 [43:24<2:00:58, 20.00s/it]"
     ]
    },
    {
     "name": "stdout",
     "output_type": "stream",
     "text": [
      "Dataset Name:  inj_cora , AUC Score(benchmark/combined):  81.86742231996843\n",
      "Dataset Name:  inj_cora , AUC Score (contextual):  68.39922018845445\n",
      "Dataset Name:  inj_cora , AUC Score (structural):  94.23697606411784\n",
      "Dataset Name:  inj_cora , AUC Score (joint-type):  43.95700205783603\n",
      "Dataset Name:  inj_cora , AUC Score (structure type):  43.95700205783603\n",
      "===========================================================================================\n",
      "Dataset Name:  inj_cora  Best AUC Score(benchmark/combined):  83.4153837478148\n",
      "Dataset Name:  inj_cora  Best AUC Score (contextual):  75.33141990685584\n",
      "Dataset Name:  inj_cora  Best AUC Score (structural):  94.44330120220947\n",
      "Dataset Name:  inj_cora  Best AUC Score (joint-type):  54.002491064659374\n",
      "Dataset Name:  inj_cora  Best AUC Score (structure type):  72.55674232309745\n",
      "===========================================================================================\n"
     ]
    },
    {
     "name": "stderr",
     "output_type": "stream",
     "text": [
      " 28%|██▊       | 138/500 [43:44<1:59:51, 19.87s/it]"
     ]
    },
    {
     "name": "stdout",
     "output_type": "stream",
     "text": [
      "Dataset Name:  inj_cora , AUC Score(benchmark/combined):  82.42316584898212\n",
      "Dataset Name:  inj_cora , AUC Score (contextual):  69.51370085562655\n",
      "Dataset Name:  inj_cora , AUC Score (structural):  94.1849886277483\n",
      "Dataset Name:  inj_cora , AUC Score (joint-type):  46.992310191703666\n",
      "Dataset Name:  inj_cora , AUC Score (structure type):  46.992310191703666\n",
      "===========================================================================================\n",
      "Dataset Name:  inj_cora  Best AUC Score(benchmark/combined):  83.4153837478148\n",
      "Dataset Name:  inj_cora  Best AUC Score (contextual):  75.33141990685584\n",
      "Dataset Name:  inj_cora  Best AUC Score (structural):  94.44330120220947\n",
      "Dataset Name:  inj_cora  Best AUC Score (joint-type):  54.002491064659374\n",
      "Dataset Name:  inj_cora  Best AUC Score (structure type):  72.55674232309745\n",
      "===========================================================================================\n"
     ]
    },
    {
     "name": "stderr",
     "output_type": "stream",
     "text": [
      " 28%|██▊       | 139/500 [44:03<1:58:38, 19.72s/it]"
     ]
    },
    {
     "name": "stdout",
     "output_type": "stream",
     "text": [
      "Dataset Name:  inj_cora , AUC Score(benchmark/combined):  80.49624992950994\n",
      "Dataset Name:  inj_cora , AUC Score (contextual):  65.59027401711252\n",
      "Dataset Name:  inj_cora , AUC Score (structural):  94.39185530163543\n",
      "Dataset Name:  inj_cora , AUC Score (joint-type):  44.57218672154229\n",
      "Dataset Name:  inj_cora , AUC Score (structure type):  44.57218672154229\n",
      "===========================================================================================\n",
      "Dataset Name:  inj_cora  Best AUC Score(benchmark/combined):  83.4153837478148\n",
      "Dataset Name:  inj_cora  Best AUC Score (contextual):  75.33141990685584\n",
      "Dataset Name:  inj_cora  Best AUC Score (structural):  94.44330120220947\n",
      "Dataset Name:  inj_cora  Best AUC Score (joint-type):  54.002491064659374\n",
      "Dataset Name:  inj_cora  Best AUC Score (structure type):  72.55674232309745\n",
      "===========================================================================================\n"
     ]
    },
    {
     "name": "stderr",
     "output_type": "stream",
     "text": [
      " 28%|██▊       | 140/500 [44:22<1:57:16, 19.55s/it]"
     ]
    },
    {
     "name": "stdout",
     "output_type": "stream",
     "text": [
      "Dataset Name:  inj_cora , AUC Score(benchmark/combined):  82.28867083967744\n",
      "Dataset Name:  inj_cora , AUC Score (contextual):  69.76334885735946\n",
      "Dataset Name:  inj_cora , AUC Score (structural):  93.67486190837215\n",
      "Dataset Name:  inj_cora , AUC Score (joint-type):  44.875988302826826\n",
      "Dataset Name:  inj_cora , AUC Score (structure type):  44.875988302826826\n",
      "===========================================================================================\n",
      "Dataset Name:  inj_cora  Best AUC Score(benchmark/combined):  83.4153837478148\n",
      "Dataset Name:  inj_cora  Best AUC Score (contextual):  75.33141990685584\n",
      "Dataset Name:  inj_cora  Best AUC Score (structural):  94.44330120220947\n",
      "Dataset Name:  inj_cora  Best AUC Score (joint-type):  54.002491064659374\n",
      "Dataset Name:  inj_cora  Best AUC Score (structure type):  72.55674232309745\n",
      "===========================================================================================\n"
     ]
    },
    {
     "name": "stderr",
     "output_type": "stream",
     "text": [
      " 28%|██▊       | 141/500 [44:41<1:56:25, 19.46s/it]"
     ]
    },
    {
     "name": "stdout",
     "output_type": "stream",
     "text": [
      "Dataset Name:  inj_cora , AUC Score(benchmark/combined):  82.57147690746068\n",
      "Dataset Name:  inj_cora , AUC Score (contextual):  70.3503736596989\n",
      "Dataset Name:  inj_cora , AUC Score (structural):  93.6255821509802\n",
      "Dataset Name:  inj_cora , AUC Score (joint-type):  45.70183039098884\n",
      "Dataset Name:  inj_cora , AUC Score (structure type):  45.70183039098884\n",
      "===========================================================================================\n",
      "Dataset Name:  inj_cora  Best AUC Score(benchmark/combined):  83.4153837478148\n",
      "Dataset Name:  inj_cora  Best AUC Score (contextual):  75.33141990685584\n",
      "Dataset Name:  inj_cora  Best AUC Score (structural):  94.44330120220947\n",
      "Dataset Name:  inj_cora  Best AUC Score (joint-type):  54.002491064659374\n",
      "Dataset Name:  inj_cora  Best AUC Score (structure type):  72.55674232309745\n",
      "===========================================================================================\n"
     ]
    },
    {
     "name": "stderr",
     "output_type": "stream",
     "text": [
      " 28%|██▊       | 142/500 [45:01<1:55:44, 19.40s/it]"
     ]
    },
    {
     "name": "stdout",
     "output_type": "stream",
     "text": [
      "Dataset Name:  inj_cora , AUC Score(benchmark/combined):  82.02588394518693\n",
      "Dataset Name:  inj_cora , AUC Score (contextual):  69.25538828116538\n",
      "Dataset Name:  inj_cora , AUC Score (structural):  93.67919419473628\n",
      "Dataset Name:  inj_cora , AUC Score (joint-type):  46.0202534387523\n",
      "Dataset Name:  inj_cora , AUC Score (structure type):  46.0202534387523\n",
      "===========================================================================================\n",
      "Dataset Name:  inj_cora  Best AUC Score(benchmark/combined):  83.4153837478148\n",
      "Dataset Name:  inj_cora  Best AUC Score (contextual):  75.33141990685584\n",
      "Dataset Name:  inj_cora  Best AUC Score (structural):  94.44330120220947\n",
      "Dataset Name:  inj_cora  Best AUC Score (joint-type):  54.002491064659374\n",
      "Dataset Name:  inj_cora  Best AUC Score (structure type):  72.55674232309745\n",
      "===========================================================================================\n"
     ]
    },
    {
     "name": "stderr",
     "output_type": "stream",
     "text": [
      " 29%|██▊       | 143/500 [45:20<1:55:11, 19.36s/it]"
     ]
    },
    {
     "name": "stdout",
     "output_type": "stream",
     "text": [
      "Dataset Name:  inj_cora , AUC Score(benchmark/combined):  82.33011898719901\n",
      "Dataset Name:  inj_cora , AUC Score (contextual):  69.49203942380592\n",
      "Dataset Name:  inj_cora , AUC Score (structural):  94.02631863966208\n",
      "Dataset Name:  inj_cora , AUC Score (joint-type):  46.42640528538936\n",
      "Dataset Name:  inj_cora , AUC Score (structure type):  46.42640528538936\n",
      "===========================================================================================\n",
      "Dataset Name:  inj_cora  Best AUC Score(benchmark/combined):  83.4153837478148\n",
      "Dataset Name:  inj_cora  Best AUC Score (contextual):  75.33141990685584\n",
      "Dataset Name:  inj_cora  Best AUC Score (structural):  94.44330120220947\n",
      "Dataset Name:  inj_cora  Best AUC Score (joint-type):  54.002491064659374\n",
      "Dataset Name:  inj_cora  Best AUC Score (structure type):  72.55674232309745\n",
      "===========================================================================================\n"
     ]
    },
    {
     "name": "stderr",
     "output_type": "stream",
     "text": [
      " 29%|██▉       | 144/500 [45:39<1:54:32, 19.31s/it]"
     ]
    },
    {
     "name": "stdout",
     "output_type": "stream",
     "text": [
      "Dataset Name:  inj_cora , AUC Score(benchmark/combined):  82.20239102238763\n",
      "Dataset Name:  inj_cora , AUC Score (contextual):  69.21314848911511\n",
      "Dataset Name:  inj_cora , AUC Score (structural):  94.06206000216615\n",
      "Dataset Name:  inj_cora , AUC Score (joint-type):  45.288097043214556\n",
      "Dataset Name:  inj_cora , AUC Score (structure type):  45.288097043214556\n",
      "===========================================================================================\n",
      "Dataset Name:  inj_cora  Best AUC Score(benchmark/combined):  83.4153837478148\n",
      "Dataset Name:  inj_cora  Best AUC Score (contextual):  75.33141990685584\n",
      "Dataset Name:  inj_cora  Best AUC Score (structural):  94.44330120220947\n",
      "Dataset Name:  inj_cora  Best AUC Score (joint-type):  54.002491064659374\n",
      "Dataset Name:  inj_cora  Best AUC Score (structure type):  72.55674232309745\n",
      "===========================================================================================\n"
     ]
    }
   ],
   "source": [
    "device = torch.device(\"cuda\" if torch.cuda.is_available() else \"cpu\")\n",
    "parser = argparse.ArgumentParser(description='parameters')\n",
    "parser.add_argument('-f')\n",
    "parser.add_argument('--dataset', type=str, default=\"inj_cora\")\n",
    "parser.add_argument('--lr', type=float, default=0.01)\n",
    "parser.add_argument('--epoch_num', type=int, default=500)\n",
    "parser.add_argument('--lambda_loss1', type=float, default=1e-2) #neighbor reconstruction loss weight\n",
    "parser.add_argument('--lambda_loss2', type=float, default=0.5) #feature loss weight\n",
    "parser.add_argument('--lambda_loss3', type=float, default=0.8) #degree loss weight\n",
    "parser.add_argument('--sample_size', type=int, default=10)\n",
    "parser.add_argument('--dimension', type=int, default=128)\n",
    "parser.add_argument('--encoder', type=str, default=\"GCN\")\n",
    "parser.add_argument('--loss_step', type=int, default=30)\n",
    "parser.add_argument('--real_loss', type=bool, default=False) #use real loss or adaptive loss\n",
    "parser.add_argument('--neigh_loss', type=str, default=\"KL\")\n",
    "parser.add_argument('--h_loss_weight', type=float, default=1.0)#adaptive loss weight for h_loss\n",
    "parser.add_argument('--feature_loss_weight', type=float, default=2.0) #adaptive loss weight for feature loss\n",
    "parser.add_argument('--degree_loss_weight', type=float, default=1.0)#adaptive loss weight for degree loss\n",
    "parser.add_argument('--calculate_contextual', type=bool, default=True)\n",
    "parser.add_argument('--contextual_n', type=int, default=70)\n",
    "parser.add_argument('--contextual_k', type=int, default=10)\n",
    "parser.add_argument('--calculate_structural', type=bool, default=True)\n",
    "parser.add_argument('--structural_n', type=int, default=70)\n",
    "parser.add_argument('--structural_m', type=int, default=10)\n",
    "parser.add_argument('--use_combine_outlier', type=bool, default=False)\n",
    "\n",
    "\n",
    "args = parser.parse_args()\n",
    "\n",
    "print(\"GAD-NR: Graph Anomaly Detection via Neighborhood Reconstruction\")\n",
    "print(\"Dataset: \", args.dataset, \"lr:\", args.lr, \"lambda_loss1 (neighbor):\",args.lambda_loss1, \"lambda_loss2 (feature):\", args.lambda_loss2, \"lambda_loss3 (degree):\", args.lambda_loss3, \"sample_size:\", args.sample_size, \"dimension:\",args.dimension, \"encoder:\", args.encoder, \"loss_step:\", args.loss_step,\"real_loss:\", args.real_loss, \"h_loss_weight:\",args.h_loss_weight,\"feature_loss_weight\",args.feature_loss_weight,\"degree_loss_weight:\",args.degree_loss_weight,\n",
    "\"calculate_contextual\",args.calculate_contextual,\"calculate_structural\",args.calculate_structural)\n",
    "\n",
    "\n",
    "dataset_str = args.dataset\n",
    "train_real_datasets(dataset_str=dataset_str, lr=args.lr, epoch_num=args.epoch_num, lambda_loss1=args.lambda_loss1, \n",
    "                    lambda_loss2=args.lambda_loss2, lambda_loss3=args.lambda_loss3, encoder=args.encoder, sample_size=args.sample_size, loss_step=args.loss_step, \n",
    "                    hidden_dim=args.dimension,real_loss=args.real_loss,calculate_contextual=args.calculate_contextual,calculate_structural=args.calculate_structural)\n",
    "\n"
   ]
  },
  {
   "cell_type": "code",
   "execution_count": null,
   "id": "ad73dd5a-db5a-4c51-bafa-086b8569fec4",
   "metadata": {},
   "outputs": [],
   "source": []
  }
 ],
 "metadata": {
  "kernelspec": {
   "display_name": "NWRGAE",
   "language": "python",
   "name": "nwrgae"
  },
  "language_info": {
   "codemirror_mode": {
    "name": "ipython",
    "version": 3
   },
   "file_extension": ".py",
   "mimetype": "text/x-python",
   "name": "python",
   "nbconvert_exporter": "python",
   "pygments_lexer": "ipython3",
   "version": "3.8.5"
  }
 },
 "nbformat": 4,
 "nbformat_minor": 5
}
