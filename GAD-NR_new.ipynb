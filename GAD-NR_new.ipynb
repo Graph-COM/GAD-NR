{
 "cells": [
  {
   "cell_type": "markdown",
   "id": "5727f30e-6d72-4ff1-b47c-20e13af635ea",
   "metadata": {
    "tags": []
   },
   "source": [
    "# Import Libraries"
   ]
  },
  {
   "cell_type": "code",
   "execution_count": 1,
   "id": "277cb61f-9894-42a6-b3e7-f62b3265dc65",
   "metadata": {
    "tags": []
   },
   "outputs": [
    {
     "name": "stderr",
     "output_type": "stream",
     "text": [
      "/home/roy206/.conda/envs/cent7/2020.11-py38/NWRGAE/lib/python3.8/site-packages/tqdm/auto.py:22: TqdmWarning: IProgress not found. Please update jupyter and ipywidgets. See https://ipywidgets.readthedocs.io/en/stable/user_install.html\n",
      "  from .autonotebook import tqdm as notebook_tqdm\n"
     ]
    }
   ],
   "source": [
    "import sys\n",
    "sys.path.append(\"..\")\n",
    "import seaborn as sb\n",
    "import dgl\n",
    "import torch\n",
    "\n",
    "import matplotlib.pyplot as plt\n",
    "import numpy as np\n",
    "from sklearn.manifold import TSNE\n",
    "from tqdm import tqdm\n",
    "import torch.nn.functional as F\n",
    "\n",
    "import statistics\n",
    "import argparse\n",
    "import random\n",
    "\n",
    "from dgl.data import CitationGraphDataset\n",
    "# from dgl.nn import GINConv, GraphConv, SAGEConv\n",
    "import seaborn as sb\n",
    "import torch\n",
    "import torch.nn as nn\n",
    "from torch.autograd import Variable\n",
    "from scipy.optimize import linear_sum_assignment\n",
    "import scipy\n",
    "import scipy.optimize\n",
    "import numpy as np\n",
    "from sklearn.decomposition import PCA\n",
    "from sklearn.preprocessing import StandardScaler\n",
    "import pandas as pd\n",
    "from torch.utils.data import Dataset\n",
    "import matplotlib.pyplot as plt\n",
    "from sklearn.cluster import KMeans\n",
    "import sklearn as sk\n",
    "import networkx as nx\n",
    "\n",
    "\n",
    "import torch\n",
    "import torch.nn as nn\n",
    "import torch.nn.functional as F\n",
    "import torch.multiprocessing as mp\n",
    "import random\n",
    "import math\n",
    "\n",
    "\n",
    "import torch\n",
    "import torch.nn as nn\n",
    "import torch.nn.functional as F\n",
    "from torch_geometric.data import Data\n",
    "\n",
    "from torch_geometric.nn import GCNConv,GINConv,SAGEConv,GATConv,PNAConv\n",
    "from torch_geometric.utils import add_self_loops\n",
    "from torch_geometric.transforms import normalize_features\n",
    "from pygod.utils import load_data\n",
    "from pygod.utils.utility import check_parameter\n",
    "from pygod.metrics import eval_roc_auc\n",
    "from pygod.generator import gen_contextual_outliers, gen_structural_outliers\n",
    "from scipy.linalg import sqrtm"
   ]
  },
  {
   "cell_type": "markdown",
   "id": "57a8a0f6-41cb-4b22-9192-418310bf8923",
   "metadata": {
    "tags": []
   },
   "source": [
    "# Utils"
   ]
  },
  {
   "cell_type": "code",
   "execution_count": 2,
   "id": "26a1f108-b244-4fed-92da-07a65c574a03",
   "metadata": {},
   "outputs": [],
   "source": [
    "def gen_joint_structural_outliers(data, m, n, random_state=None):\n",
    "    \"\"\"\n",
    "    We randomly select n nodes from the network which will be the anomalies \n",
    "    and for each node we select m nodes from the network. \n",
    "    We connect each of n nodes with the m other nodes.\n",
    "\n",
    "    Parameters\n",
    "    ----------\n",
    "    data : PyTorch Geometric Data instance (torch_geometric.data.Data)\n",
    "        The input data.\n",
    "    m : int\n",
    "        Number nodes in the outlier cliques.\n",
    "    n : int\n",
    "        Number of outlier cliques.\n",
    "    p : int, optional\n",
    "        Probability of edge drop in cliques. Default: ``0``.\n",
    "    random_state : int, optional\n",
    "        The seed to control the randomness, Default: ``None``.\n",
    "\n",
    "    Returns\n",
    "    -------\n",
    "    data : PyTorch Geometric Data instance (torch_geometric.data.Data)\n",
    "        The structural outlier graph with injected edges.\n",
    "    y_outlier : torch.Tensor\n",
    "        The outlier label tensor where 1 represents outliers and 0 represents\n",
    "        regular nodes.\n",
    "    \"\"\"\n",
    "\n",
    "    if not isinstance(data, Data):\n",
    "        raise TypeError(\"data should be torch_geometric.data.Data\")\n",
    "\n",
    "    if isinstance(m, int):\n",
    "        check_parameter(m, low=0, high=data.num_nodes, param_name='m')\n",
    "    else:\n",
    "        raise ValueError(\"m should be int, got %s\" % m)\n",
    "\n",
    "    if isinstance(n, int):\n",
    "        check_parameter(n, low=0, high=data.num_nodes, param_name='n')\n",
    "    else:\n",
    "        raise ValueError(\"n should be int, got %s\" % n)\n",
    "\n",
    "    check_parameter(m * n, low=0, high=data.num_nodes, param_name='m*n')\n",
    "\n",
    "    if random_state:\n",
    "        np.random.seed(random_state)\n",
    "\n",
    "\n",
    "    outlier_idx = np.random.choice(data.num_nodes, size=n, replace=False)\n",
    "    all_nodes = [i for i in range(data.num_nodes)]\n",
    "    rem_nodes = []\n",
    "    \n",
    "    for node in all_nodes:\n",
    "        if node is not outlier_idx:\n",
    "            rem_nodes.append(node)\n",
    "    \n",
    "    \n",
    "    \n",
    "    new_edges = []\n",
    "    \n",
    "    # connect all m nodes in each clique\n",
    "    for i in range(0, n):\n",
    "        other_idx = np.random.choice(data.num_nodes, size=m, replace=False)\n",
    "        for j in other_idx:\n",
    "            new_edges.append(torch.tensor([[i, j]], dtype=torch.long))\n",
    "                    \n",
    "\n",
    "    new_edges = torch.cat(new_edges)\n",
    "\n",
    "\n",
    "    y_outlier = torch.zeros(data.x.shape[0], dtype=torch.long)\n",
    "    y_outlier[outlier_idx] = 1\n",
    "\n",
    "    data.edge_index = torch.cat([data.edge_index, new_edges.T], dim=1)\n",
    "\n",
    "    return data, y_outlier\n",
    "\n",
    "\n",
    "def _KL_loss(mean_x1, cov_x1, mean_x2, cov_x2):\n",
    "    \n",
    "    mean_x1 = mean_x1.squeeze().cpu().detach()\n",
    "    cov_x1 = cov_x1.squeeze().cpu().detach()\n",
    "    \n",
    "    mean_x2 = mean_x2.squeeze().cpu().detach()\n",
    "    cov_x2 = cov_x2.squeeze().cpu().detach()\n",
    "    \n",
    "    h_dim = cov_x1.shape[1]\n",
    "    eye = torch.eye(h_dim)\n",
    "    cov_x1 = cov_x1 + eye\n",
    "    cov_x2 = cov_x2 + eye\n",
    "    \n",
    "    cov_x1 = _normalize(cov_x1)\n",
    "    cov_x2 = _normalize(cov_x2)\n",
    "    \n",
    "    kl_loss = 0.5 * (math.log(torch.det(cov_x1) / torch.det(cov_x2)) - h_dim  + torch.trace(torch.inverse(cov_x2).matmul(cov_x1)) \n",
    "            + (mean_x2 - mean_x1).reshape(1,-1).matmul(torch.inverse(cov_x2)).matmul(mean_x2 - mean_x1))\n",
    "    kl_loss = kl_loss.to(device)\n",
    "    return kl_loss\n",
    "\n",
    "\n",
    "def _W2_loss(mean_x1, cov_x1, mean_x2, cov_x2):\n",
    "    \n",
    "    mean_x1 = mean_x1.squeeze().cpu().detach()\n",
    "    cov_x1 = cov_x1.squeeze().cpu().detach()\n",
    "    \n",
    "    mean_x2 = mean_x2.squeeze().cpu().detach()\n",
    "    cov_x2 = cov_x2.squeeze().cpu().detach()\n",
    "    \n",
    "    h_dim = cov_x1.shape[1]\n",
    "    eye = torch.eye(h_dim)\n",
    "    cov_x1 = cov_x1 + eye\n",
    "    cov_x2 = cov_x2 + eye\n",
    "    \n",
    "    W2_loss = torch.square(mean_x1-mean_x2).sum() + torch.trace(cov_x1 + cov_x2 \n",
    "                     + 2 * sqrtm(sqrtm(cov_x1) @ (cov_x2.numpy()) @ (sqrtm(cov_x1))))\n",
    "\n",
    "    return W2_loss\n",
    "\n",
    "\n",
    "def KL_neighbor_loss(predictions, targets, mask_len):\n",
    "    x1 = predictions.squeeze().cpu().detach()\n",
    "    x2 = targets.squeeze().cpu().detach()\n",
    "    \n",
    "    mean_x1 = x1.mean(0)\n",
    "    mean_x2 = x2.mean(0)\n",
    "    \n",
    "    nn = x1.shape[0]\n",
    "    h_dim = x1.shape[1]\n",
    "    \n",
    "    cov_x1 = (x1-mean_x1).transpose(1,0).matmul(x1-mean_x1) / max((nn-1),1)\n",
    "    cov_x2 = (x2-mean_x2).transpose(1,0).matmul(x2-mean_x2) / max((nn-1),1)\n",
    "    \n",
    "    eye = torch.eye(h_dim)\n",
    "    cov_x1 = cov_x1 + eye\n",
    "    cov_x2 = cov_x2 + eye\n",
    "    \n",
    "    KL_loss = 0.5 * (math.log(torch.det(cov_x1) / torch.det(cov_x2)) - h_dim  + torch.trace(torch.inverse(cov_x2).matmul(cov_x1)) \n",
    "            + (mean_x2 - mean_x1).reshape(1,-1).matmul(torch.inverse(cov_x2)).matmul(mean_x2 - mean_x1))\n",
    "    KL_loss = KL_loss.to(device)\n",
    "    return KL_loss\n",
    "\n",
    "def W2_neighbor_loss(predictions, targets, mask_len):\n",
    "    \n",
    "    x1 = predictions.squeeze().cpu().detach()\n",
    "    x2 = targets.squeeze().cpu().detach()\n",
    "    \n",
    "    mean_x1 = x1.mean(0)\n",
    "    mean_x2 = x2.mean(0)\n",
    "\n",
    "    nn = x1.shape[0]\n",
    "    \n",
    "    cov_x1 = (x1-mean_x1).transpose(1,0).matmul(x1-mean_x1) / (nn-1)\n",
    "    cov_x2 = (x2-mean_x2).transpose(1,0).matmul(x2-mean_x2) / (nn-1)\n",
    "    \n",
    "\n",
    "    W2_loss = torch.square(mean_x1-mean_x2).sum() + torch.trace(cov_x1 + cov_x2 \n",
    "                     + 2 * sqrtm(sqrtm(cov_x1) @ (cov_x2.numpy()) @ (sqrtm(cov_x1))))\n",
    "\n",
    "    return W2_loss\n",
    "\n",
    "def _normalize(x):\n",
    "    x_mn = x.min()\n",
    "    x_mx = x.max()\n",
    "    return (x-x_mn)/(x_mx-x_mn)\n"
   ]
  },
  {
   "cell_type": "markdown",
   "id": "0a110474-36da-4683-85f9-b7e4eebfe4e4",
   "metadata": {},
   "source": [
    "# Aggregators"
   ]
  },
  {
   "cell_type": "code",
   "execution_count": 3,
   "id": "c8411138-b051-477b-9f33-b1c0f44a1940",
   "metadata": {},
   "outputs": [],
   "source": [
    "import torch\n",
    "from torch import Tensor\n",
    "from torch_scatter import scatter\n",
    "from typing import Optional\n",
    "\n",
    "# Implemented with the help of Matthias Fey, author of PyTorch Geometric\n",
    "# For an example see https://github.com/rusty1s/pytorch_geometric/blob/master/examples/pna.py\n",
    "\n",
    "def aggregate_sum(src: Tensor, index: Tensor, dim_size: Optional[int]):\n",
    "    return scatter(src, index, 0, None, dim_size, reduce='sum')\n",
    "\n",
    "\n",
    "def aggregate_mean(src: Tensor, index: Tensor, dim_size: Optional[int]):\n",
    "    return scatter(src, index, 0, None, dim_size, reduce='mean')\n",
    "\n",
    "\n",
    "def aggregate_min(src: Tensor, index: Tensor, dim_size: Optional[int]):\n",
    "    return scatter(src, index, 0, None, dim_size, reduce='min')\n",
    "\n",
    "\n",
    "def aggregate_max(src: Tensor, index: Tensor, dim_size: Optional[int]):\n",
    "    return scatter(src, index, 0, None, dim_size, reduce='max')\n",
    "\n",
    "\n",
    "def aggregate_var(src, index, dim_size):\n",
    "    mean = aggregate_mean(src, index, dim_size)\n",
    "    mean_squares = aggregate_mean(src * src, index, dim_size)\n",
    "    return mean_squares - mean * mean\n",
    "\n",
    "\n",
    "def aggregate_std(src, index, dim_size):\n",
    "    return torch.sqrt(torch.relu(aggregate_var(src, index, dim_size)) + 1e-5)\n"
   ]
  },
  {
   "cell_type": "markdown",
   "id": "d1217613-695f-40ac-926c-46df24c27ca3",
   "metadata": {
    "tags": []
   },
   "source": [
    "# Layers"
   ]
  },
  {
   "cell_type": "code",
   "execution_count": 4,
   "id": "659e39de-85ed-4750-9c65-5071d8d894a0",
   "metadata": {},
   "outputs": [],
   "source": [
    "class MLP(nn.Module):\n",
    "    def __init__(self, num_layers, input_dim, hidden_dim, output_dim):\n",
    "        \n",
    "\n",
    "        super(MLP, self).__init__()\n",
    "\n",
    "        self.linear_or_not = True  # default is linear model\n",
    "        self.num_layers = num_layers\n",
    "\n",
    "        if num_layers < 1:\n",
    "            raise ValueError(\"number of layers should be positive!\")\n",
    "        elif num_layers == 1:\n",
    "            # Linear model\n",
    "            self.linear = nn.Linear(input_dim, output_dim)\n",
    "        else:\n",
    "            # Multi-layer model\n",
    "            self.linear_or_not = False\n",
    "            self.linears = torch.nn.ModuleList()\n",
    "            self.batch_norms = torch.nn.ModuleList()\n",
    "\n",
    "            self.linears.append(nn.Linear(input_dim, hidden_dim))\n",
    "            for layer in range(num_layers - 2):\n",
    "                self.linears.append(nn.Linear(hidden_dim, hidden_dim))\n",
    "            self.linears.append(nn.Linear(hidden_dim, output_dim))\n",
    "\n",
    "            for layer in range(num_layers - 1):\n",
    "                self.batch_norms.append(nn.BatchNorm1d((hidden_dim)))\n",
    "\n",
    "    def forward(self, x):\n",
    "        if self.linear_or_not:\n",
    "            # If linear model\n",
    "            return self.linear(x)\n",
    "        else:\n",
    "            # If MLP\n",
    "            h = x\n",
    "            for layer in range(self.num_layers - 1):\n",
    "                h = F.relu(self.batch_norms[layer](self.linears[layer](h)))\n",
    "            return self.linears[self.num_layers - 1](h)\n",
    "\n",
    "\n",
    "class MLP_generator(nn.Module):\n",
    "    def __init__(self, input_dim, output_dim):\n",
    "        super(MLP_generator, self).__init__()\n",
    "        self.linear = nn.Linear(input_dim, output_dim)\n",
    "        self.linear2 = nn.Linear(output_dim, output_dim)\n",
    "        self.linear3 = nn.Linear(output_dim, output_dim)\n",
    "        self.linear4 = nn.Linear(output_dim, output_dim)\n",
    "\n",
    "    def forward(self, embedding, device):\n",
    "        neighbor_embedding = F.relu(self.linear(embedding))\n",
    "        neighbor_embedding = F.relu(self.linear2(neighbor_embedding))\n",
    "        neighbor_embedding = F.relu(self.linear3(neighbor_embedding))\n",
    "        neighbor_embedding = self.linear4(neighbor_embedding)\n",
    "        return neighbor_embedding\n",
    "\n",
    "\n",
    "class PairNorm(nn.Module):\n",
    "    def __init__(self, mode='PN', scale=10):\n",
    "        \n",
    "        assert mode in ['None', 'PN', 'PN-SI', 'PN-SCS']\n",
    "        super(PairNorm, self).__init__()\n",
    "        self.mode = mode\n",
    "        self.scale = scale\n",
    "\n",
    "        # Scale can be set based on origina data, and also the current feature lengths.\n",
    "        # We leave the experiments to future. A good pool we used for choosing scale:\n",
    "        # [0.1, 1, 10, 50, 100]\n",
    "    def forward(self, x):\n",
    "        if self.mode == 'None':\n",
    "            return x\n",
    "        col_mean = x.mean(dim=0)\n",
    "        if self.mode == 'PN':\n",
    "            x = x - col_mean\n",
    "            rownorm_mean = (1e-6 + x.pow(2).sum(dim=1).mean()).sqrt()\n",
    "            x = self.scale * x / rownorm_mean\n",
    "        if self.mode == 'PN-SI':\n",
    "            x = x - col_mean\n",
    "            rownorm_individual = (1e-6 + x.pow(2).sum(dim=1, keepdim=True)).sqrt()\n",
    "            x = self.scale * x / rownorm_individual\n",
    "        if self.mode == 'PN-SCS':\n",
    "            rownorm_individual = (1e-6 + x.pow(2).sum(dim=1, keepdim=True)).sqrt()\n",
    "            x = self.scale * x / rownorm_individual - col_mean\n",
    "        return x\n",
    "\n",
    "\n",
    "# FNN\n",
    "class FNN(nn.Module):\n",
    "    def __init__(self, in_features, hidden, out_features, layer_num):\n",
    "        super(FNN, self).__init__()\n",
    "        self.linear1 = MLP(layer_num, in_features, hidden, out_features)\n",
    "        self.linear2 = nn.Linear(out_features, out_features)\n",
    "    def forward(self, embedding):\n",
    "        x = self.linear1(embedding)\n",
    "        x = self.linear2(F.relu(x))\n",
    "        return x\n"
   ]
  },
  {
   "cell_type": "markdown",
   "id": "95d031cd-1dad-4094-a7d6-56cd9f0d9f53",
   "metadata": {
    "tags": []
   },
   "source": [
    "# GAD-NR"
   ]
  },
  {
   "cell_type": "code",
   "execution_count": 5,
   "id": "2bddf25c-5546-4333-8798-7ad82dbddad8",
   "metadata": {},
   "outputs": [],
   "source": [
    "\n",
    "# Training\n",
    "def train(data, y, yc, ys, yj, ysj, lr, epoch, device, encoder, lambda_n, lambda_f, lambda_d, hidden_dim,loss_step=20,\n",
    "          real_loss=False,calculate_contextual=False,calculate_structural=False):\n",
    "    '''\n",
    "     Main training function\n",
    "     INPUT:\n",
    "     -----------------------\n",
    "     data : torch geometric dataset object\n",
    "     lr    :    learning rate\n",
    "     epoch     :    number of training epoch\n",
    "     device     :   CPU or GPU\n",
    "     encoder    :    GCN or GIN or GraphSAGE\n",
    "     lambda_loss    :   Trade-off between degree loss and neighborhood reconstruction loss\n",
    "     hidden_dim     :   latent variable dimension\n",
    "    '''\n",
    "    \n",
    "    in_nodes = data.edge_index[0,:]\n",
    "    out_nodes = data.edge_index[1,:]\n",
    "    \n",
    "    \n",
    "    \n",
    "    neighbor_dict = {}\n",
    "    for in_node, out_node in zip(in_nodes, out_nodes):\n",
    "        if in_node.item() not in neighbor_dict:\n",
    "            neighbor_dict[in_node.item()] = []\n",
    "        neighbor_dict[in_node.item()].append(out_node.item())\n",
    "        \n",
    "        if out_node.item() not in neighbor_dict:\n",
    "            neighbor_dict[out_node.item()] = []\n",
    "        neighbor_dict[out_node.item()].append(in_node.item())\n",
    "\n",
    "    neighbor_num_list = []\n",
    "    neighbor_list = []\n",
    "    for i in neighbor_dict:\n",
    "        neighbor_list.append(neighbor_dict[i])\n",
    "        neighbor_num_list.append(len(neighbor_dict[i]))\n",
    "    \n",
    "    neighbor_num_list = torch.tensor(neighbor_num_list).to(device)\n",
    "    \n",
    "    in_dim = data.x.shape[1]\n",
    "    GNNModel = GNNStructEncoder(in_dim, hidden_dim, hidden_dim, 2, device=device, \n",
    "                    neighbor_num_list=neighbor_num_list,neighbor_list=neighbor_list, GNN_name=encoder, \n",
    "                    lambda_n=lambda_n, lambda_f=lambda_f,lambda_d=lambda_d)\n",
    "    GNNModel.to(device)\n",
    "    degree_params = list(map(id, GNNModel.degree_decoder.parameters()))\n",
    "    base_params = filter(lambda p: id(p) not in degree_params,\n",
    "                         GNNModel.parameters())\n",
    "\n",
    "    opt = torch.optim.Adam([{'params': base_params}, {'params': GNNModel.degree_decoder.parameters(), 'lr': 1e-2}],lr=lr, weight_decay=0.0003)\n",
    "    min_loss = float('inf')\n",
    "    arg_min_loss_per_node = None\n",
    "    \n",
    "    best_auc = 0\n",
    "    best_auc_contextual = 0\n",
    "    best_auc_dense_structural = 0\n",
    "    best_auc_joint_structural = 0\n",
    "    best_auc_structure_type = 0\n",
    "    \n",
    "        \n",
    "    loss_values = []\n",
    "    for i in tqdm(range(epoch)):\n",
    "        \n",
    "        if i%loss_step==0:\n",
    "            GNNModel.lambda_f = GNNModel.lambda_f + 0.5\n",
    "            GNNModel.lambda_d = GNNModel.lambda_d / 2\n",
    "        \n",
    "        loss,loss_per_node,h_loss,degree_loss,feature_loss = GNNModel(data.edge_index, data.x, neighbor_num_list, neighbor_dict, device=device)\n",
    "        \n",
    "        loss_per_node = loss_per_node.cpu().detach()\n",
    "        \n",
    "        h_loss = h_loss.cpu().detach()\n",
    "        degree_loss = degree_loss.cpu().detach()\n",
    "        feature_loss = feature_loss.cpu().detach()\n",
    "        \n",
    "        h_loss = h_loss.real\n",
    "        h_loss_norm = h_loss / (torch.max(h_loss) - torch.min(h_loss))\n",
    "        degree_loss_norm = degree_loss / (torch.max(degree_loss) - torch.min(degree_loss))\n",
    "        feature_loss_norm = feature_loss / (torch.max(feature_loss) - torch.min(feature_loss))\n",
    "        \n",
    "        \n",
    "        \n",
    "        comb_loss = args.h_loss_weight * h_loss_norm + args.degree_loss_weight *  degree_loss_norm + args.feature_loss_weight * feature_loss_norm\n",
    "        \n",
    "        \n",
    "        if real_loss:\n",
    "            comp_loss = loss_per_node\n",
    "        else:\n",
    "            comp_loss = comb_loss\n",
    "            \n",
    "        \n",
    "        auc_score = eval_roc_auc(y.numpy(), comp_loss.numpy()) * 100\n",
    "        print(\"Dataset Name: \",dataset_str, \", AUC Score(benchmark/combined): \", auc_score)\n",
    "        \n",
    "        contextual_auc_score = eval_roc_auc(yc.numpy(), comp_loss.numpy()) * 100\n",
    "        print(\"Dataset Name: \",dataset_str, \", AUC Score (contextual): \", contextual_auc_score)\n",
    "\n",
    "        dense_structural_auc_score = eval_roc_auc(ys.numpy(), comp_loss.numpy()) * 100\n",
    "        print(\"Dataset Name: \",dataset_str, \", AUC Score (structural): \", dense_structural_auc_score)\n",
    "        \n",
    "        joint_structural_auc_score = eval_roc_auc(yj.numpy(), comp_loss.numpy()) * 100\n",
    "        print(\"Dataset Name: \",dataset_str, \", AUC Score (joint-type): \", joint_structural_auc_score)\n",
    "        \n",
    "        structure_type_auc_score = eval_roc_auc(ysj.numpy(), comp_loss.numpy()) * 100\n",
    "        print(\"Dataset Name: \",dataset_str, \", AUC Score (structure type): \", joint_structural_auc_score) \n",
    "        \n",
    "        best_auc = max(best_auc, auc_score)\n",
    "        best_auc_contextual = max(best_auc_contextual, contextual_auc_score)\n",
    "        best_auc_dense_structural = max(best_auc_dense_structural, dense_structural_auc_score)\n",
    "        best_auc_joint_structural = max(best_auc_joint_structural, joint_structural_auc_score)\n",
    "        best_auc_structure_type = max(best_auc_structure_type, structure_type_auc_score)\n",
    "        \n",
    "        \n",
    "        \n",
    "        print(\"===========================================================================================\")\n",
    "        print(\"Dataset Name: \",dataset_str, \" Best AUC Score(benchmark/combined): \", best_auc)\n",
    "        \n",
    "        contextual_auc_score = eval_roc_auc(yc.numpy(), comp_loss.numpy()) * 100\n",
    "        print(\"Dataset Name: \",dataset_str, \" Best AUC Score (contextual): \", best_auc_contextual)\n",
    "\n",
    "        dense_structural_auc_score = eval_roc_auc(ys.numpy(), comp_loss.numpy()) * 100\n",
    "        print(\"Dataset Name: \",dataset_str, \" Best AUC Score (structural): \", best_auc_dense_structural)\n",
    "        \n",
    "        joint_structural_auc_score = eval_roc_auc(yj.numpy(), comp_loss.numpy()) * 100\n",
    "        print(\"Dataset Name: \",dataset_str, \" Best AUC Score (joint-type): \", best_auc_joint_structural)\n",
    "        \n",
    "        structure_type_auc_score = eval_roc_auc(ysj.numpy(), comp_loss.numpy()) * 100\n",
    "        print(\"Dataset Name: \",dataset_str, \" Best AUC Score (structure type): \", best_auc_structure_type) \n",
    "        print(\"===========================================================================================\")\n",
    "        \n",
    "        \n",
    "        if loss < min_loss:\n",
    "            min_loss = loss\n",
    "            arg_min_loss_per_node = loss_per_node\n",
    "        opt.zero_grad()\n",
    "        loss.backward()\n",
    "        opt.step()\n",
    "        \n",
    "        loss = loss.cpu().detach()\n",
    "        loss_values.append(loss)\n",
    "        \n",
    "        if args.plot_loss:\n",
    "\n",
    "            plt.plot(np.array(loss_values), 'r')\n",
    "            plt.show()\n",
    "    \n",
    "    return min_loss.item(), arg_min_loss_per_node.cpu().detach()\n",
    "\n",
    "\n",
    "\n",
    "\n",
    "def evaluate(model, embeddings, labels, mask):\n",
    "    model.eval()\n",
    "    with torch.no_grad():\n",
    "        logits = model(embeddings)\n",
    "        logits = logits[mask]\n",
    "        labels = labels[mask]\n",
    "        _, indices = torch.max(logits, dim=1)\n",
    "        correct = torch.sum(indices == labels)\n",
    "        return correct.item() * 1.0 / len(labels)\n",
    "\n",
    "\n",
    "def train_real_datasets(dataset_str, epoch_num = 10, lr = 5e-6, encoder = \"GCN\", \n",
    "                        lambda_n=1e-2, lambda_f=1e-3, lambda_d=1e-3, loss_step=20, hidden_dim=None,\n",
    "                        real_loss=False,calculate_contextual=False,calculate_structural=False):\n",
    "    \n",
    "    data = load_data(dataset_str)\n",
    "    node_features = data.x\n",
    "    node_features_min = node_features.min()\n",
    "    node_features_max = node_features.max()\n",
    "    node_features = (node_features - node_features_min)/node_features_max\n",
    "    data.x = node_features\n",
    "    \n",
    "    yc = []\n",
    "    ys = []\n",
    "    yj = []\n",
    "    \n",
    "    if calculate_contextual:\n",
    "        \n",
    "        if dataset_str == \"inj_cora\":\n",
    "            yc = data.y >> 0 & 1 # contextual outliers\n",
    "        else:\n",
    "            data, yc = gen_contextual_outliers(data=data,n=args.contextual_n,k=args.contextual_k)\n",
    "            \n",
    "        yc = yc.cpu().detach()\n",
    "    \n",
    "    \n",
    "    if calculate_structural:\n",
    "        \n",
    "        if dataset_str == \"inj_cora\":\n",
    "            ys = data.y >> 1 & 1 # structural outliers\n",
    "        else:\n",
    "            data, ys = gen_structural_outliers(data=data,n=args.structural_n,m=args.structural_m,p=0.2)\n",
    "            \n",
    "        ys = ys.cpu().detach()\n",
    "        data, yj = gen_joint_structural_outliers(data=data,n=args.structural_n,m=args.structural_m)\n",
    "        \n",
    "    \n",
    "    if args.use_combine_outlier:\n",
    "        data.y = torch.logical_or(ys, yc).int()\n",
    "        \n",
    "    ysj = torch.logical_or(ys, yj).int()\n",
    "    y = data.y.bool()    # binary labels (inlier/outlier)\n",
    "    y = y.cpu().detach()\n",
    "    \n",
    "    edge_index = data.edge_index.cpu()\n",
    "    \n",
    "    num_nodes = node_features.shape[0]\n",
    "    self_edges = torch.tensor([[i for i in range(num_nodes)],[i for i in range(num_nodes)]])\n",
    "    edge_index = torch.cat([edge_index,self_edges],dim=1)\n",
    "    data.edge_index = edge_index\n",
    "    data = data.to(device)\n",
    "    \n",
    "\n",
    "    loss, loss_per_node, = train(data, y, yc, ys, yj, ysj, lr=lr, epoch=epoch_num, device=device, encoder=encoder, lambda_n=lambda_n, \n",
    "          lambda_f=lambda_f, lambda_d=lambda_d, hidden_dim=hidden_dim,loss_step=loss_step,\n",
    "                                 real_loss=real_loss,calculate_contextual=calculate_contextual,calculate_structural=calculate_structural)"
   ]
  },
  {
   "cell_type": "code",
   "execution_count": 6,
   "id": "44a718ab-e1e0-49be-9748-dc4e8e0af644",
   "metadata": {},
   "outputs": [],
   "source": [
    "\n",
    "\n",
    "\n",
    "# Main Autoencoder structure here\n",
    "class GNNStructEncoder(nn.Module):\n",
    "    def __init__(self, in_dim0, in_dim, hidden_dim, layer_num, device, neighbor_num_list, neighbor_list,\n",
    "                 GNN_name=\"GIN\", norm_mode=\"PN-SCS\", norm_scale=20, lambda_n=0.01, lambda_f=0.001, lambda_d=0.0001):\n",
    "        \n",
    "        super(GNNStructEncoder, self).__init__()\n",
    "        \n",
    "        self.mlp0 = nn.Linear(in_dim0, hidden_dim)\n",
    "        self.norm = PairNorm(norm_mode, norm_scale)\n",
    "        self.out_dim = hidden_dim\n",
    "        self.lambda_n = lambda_n\n",
    "        self.lambda_f = lambda_f\n",
    "        self.lambda_d = lambda_d\n",
    "        # GNN Encoder\n",
    "        if GNN_name == \"GIN\":\n",
    "            self.linear1 = MLP(layer_num, hidden_dim, hidden_dim, hidden_dim)\n",
    "            self.graphconv1 = GINConv(self.linear1)\n",
    "            self.linear2 = MLP(layer_num, hidden_dim, hidden_dim, hidden_dim)\n",
    "            self.graphconv2 = GINConv(self.linear2)\n",
    "        elif GNN_name == \"GCN\":\n",
    "            self.graphconv1 = GCNConv(hidden_dim, hidden_dim)\n",
    "            self.graphconv2 = GCNConv(hidden_dim, hidden_dim)\n",
    "        elif GNN_name == \"GAT\":\n",
    "            self.graphconv1 = GATConv(hidden_dim, hidden_dim)\n",
    "            self.graphconv2 = GATConv(hidden_dim, hidden_dim)\n",
    "        else:\n",
    "            self.graphconv1 = SAGEConv(hidden_dim, hidden_dim, aggr='mean')\n",
    "            self.graphconv2 = SAGEConv(hidden_dim, hidden_dim, aggr='mean')\n",
    "\n",
    "        self.neighbor_num_list = neighbor_num_list\n",
    "        self.neighbor_list = neighbor_list\n",
    "        self.tot_nodes = len(neighbor_list)\n",
    "        \n",
    "        # Degree and Feature Decoder\n",
    "        self.degree_decoder = FNN(hidden_dim, hidden_dim, 1, 4)\n",
    "        self.feature_decoder = FNN(hidden_dim, hidden_dim, in_dim, 3)\n",
    "        self.degree_loss_func = nn.MSELoss()\n",
    "        self.feature_loss_func = nn.MSELoss()\n",
    "        \n",
    "        # Neighbor Reconstruction Decoder\n",
    "        self.softplus = nn.Softplus()\n",
    "        self.sum_agg = SAGEConv(hidden_dim, hidden_dim, aggr='mean')\n",
    "        self.std_agg = PNAConv(hidden_dim, hidden_dim, aggregators=[\"std\"],scalers=[\"identity\"], deg=neighbor_num_list)\n",
    "        self.mlp_mean = nn.Linear(hidden_dim, hidden_dim)\n",
    "        self.mlp_sigma = nn.Linear(hidden_dim, hidden_dim)\n",
    "\n",
    "        \n",
    "\n",
    "    def forward_encoder(self, x, edge_index):\n",
    "        \n",
    "        # Apply graph convolution and activation, pair-norm to avoid trivial solution\n",
    "        h0 = self.mlp0(x)\n",
    "        l1 = self.graphconv1(h0, edge_index)\n",
    "        return l1, h0\n",
    "        \n",
    "        \n",
    "\n",
    "    \n",
    "    def reconstruction_neighbors(self, l1, h0, edge_index):\n",
    "                \n",
    "        recon_loss = 0\n",
    "        recon_loss_per_node = []\n",
    "                \n",
    "        mean_neigh = self.sum_agg(h0, edge_index)\n",
    "        std_neigh = self.std_agg(h0, edge_index)\n",
    "        \n",
    "        cov_neigh = torch.bmm(std_neigh.unsqueeze(dim=-1),std_neigh.unsqueeze(dim=1))\n",
    "        \n",
    "        target_mean = mean_neigh\n",
    "        target_cov = cov_neigh\n",
    "        \n",
    "        self_embedding = l1\n",
    "        generated_mean = self.mlp_mean(self_embedding)\n",
    "        generated_std = self.mlp_sigma(self_embedding)\n",
    "        generated_std = generated_std.abs().squeeze()\n",
    "        # generated_std = self.softplus(generated_std)\n",
    "        # generated_std = generated_std.exp().squeeze()\n",
    "        \n",
    "        generated_cov = torch.bmm(generated_std.unsqueeze(dim=-1),generated_std.unsqueeze(dim=1))\n",
    "        \n",
    "        tot_nodes = l1.shape[0]\n",
    "        h_dim = l1.shape[1]\n",
    "        \n",
    "        single_eye = torch.eye(h_dim)\n",
    "        single_eye = single_eye.unsqueeze(dim=0)\n",
    "        batch_eye = single_eye.repeat(tot_nodes,1,1)\n",
    "        \n",
    "        target_cov = target_cov + batch_eye\n",
    "        generated_cov = generated_cov + batch_eye\n",
    "        \n",
    "        det_target_cov = torch.linalg.det(target_cov)\n",
    "        det_generated_cov = torch.linalg.det(generated_cov)\n",
    "        trace_mat = torch.matmul(torch.inverse(generated_cov),target_cov)\n",
    "        \n",
    "        x = torch.bmm(torch.unsqueeze(target_mean - generated_mean,dim=1),torch.inverse(generated_cov))\n",
    "        y = torch.unsqueeze(target_mean - generated_mean,dim=-1)\n",
    "        z = torch.bmm(x,y).squeeze()\n",
    "        \n",
    "        KL_loss = 0.5 * (torch.log(det_target_cov / det_generated_cov) - h_dim  + trace_mat.diagonal(offset=0, dim1=-1, dim2=-2).sum(-1) + z)\n",
    "        \n",
    "        recon_loss = torch.sum(KL_loss)\n",
    "        recon_loss_per_node = KL_loss\n",
    "        \n",
    "        return recon_loss, recon_loss_per_node\n",
    "        \n",
    "    \n",
    "    def neighbor_decoder(self, l1, ground_truth_degree_matrix, h0, neighbor_dict, device, h, edge_index):\n",
    "        \n",
    "        # Degree reconstruction\n",
    "        tot_nodes = l1.shape[0]\n",
    "        degree_logits = self.degree_decoding(l1)\n",
    "        ground_truth_degree_matrix = torch.unsqueeze(ground_truth_degree_matrix, dim=1)\n",
    "        degree_loss = self.degree_loss_func(degree_logits, ground_truth_degree_matrix.float())\n",
    "        degree_loss_per_node = (degree_logits-ground_truth_degree_matrix).pow(2)\n",
    "               \n",
    "        #feature reconstruction\n",
    "        h0_prime = self.feature_decoder(l1)\n",
    "        feature_loss = self.feature_loss_func(h0, h0_prime)\n",
    "        feature_loss_per_node = (h0-h0_prime).pow(2).mean(1)\n",
    "        \n",
    "        #neighbor reconstruction\n",
    "        indexes = []\n",
    "        for i1, embedding in enumerate(l1):\n",
    "            indexes.append(i1)\n",
    "        neighbor_indexes = torch.tensor(indexes).to(device)\n",
    "        neighbor_loss, neighbor_loss_per_node = self.reconstruction_neighbors( l1, h0, edge_index)\n",
    "        \n",
    "        feature_loss_per_node = feature_loss_per_node.reshape(tot_nodes,1)\n",
    "        degree_loss_per_node = degree_loss_per_node.reshape(tot_nodes,1)\n",
    "        neighbor_loss_per_node = feature_loss_per_node.reshape(tot_nodes,1)\n",
    "        \n",
    "        \n",
    "        loss = self.lambda_n * neighbor_loss + degree_loss * self.lambda_d + self.lambda_f * feature_loss\n",
    "        loss_per_node = self.lambda_n * neighbor_loss_per_node + degree_loss_per_node * self.lambda_d + self.lambda_f * feature_loss_per_node\n",
    "        \n",
    "        \n",
    "        return loss, loss_per_node, neighbor_loss_per_node, degree_loss_per_node, feature_loss_per_node\n",
    "        \n",
    "\n",
    "    def degree_decoding(self, node_embeddings):\n",
    "        degree_logits = F.relu(self.degree_decoder(node_embeddings))\n",
    "        return degree_logits\n",
    "\n",
    "    def forward(self, edge_index, x, ground_truth_degree_matrix, neighbor_dict, device):\n",
    "        \n",
    "        # Generate GNN encodings\n",
    "        l1, h0 = self.forward_encoder(x, edge_index)\n",
    "        \n",
    "        loss, loss_per_node,neighbor_loss,degree_loss,feature_loss = self.neighbor_decoder(l1, ground_truth_degree_matrix, h0, neighbor_dict, device, x,edge_index)\n",
    "        \n",
    "        \n",
    "        return loss, loss_per_node,neighbor_loss,degree_loss,feature_loss\n"
   ]
  },
  {
   "cell_type": "markdown",
   "id": "be33ad17-0dda-4225-a900-85f33f6680d1",
   "metadata": {},
   "source": [
    "# Execution"
   ]
  },
  {
   "cell_type": "code",
   "execution_count": 12,
   "id": "e86955e8-54b2-4103-974d-98fff445534c",
   "metadata": {
    "scrolled": true,
    "tags": []
   },
   "outputs": [
    {
     "name": "stdout",
     "output_type": "stream",
     "text": [
      "GAD-NR: Graph Anomaly Detection via Neighborhood Reconstruction\n",
      "Dataset:  reddit lr: 0.01 lambda_n (neighbor): 0.01 lambda_f (feature): 0.1 lambda_d (degree): 0.8 dimension: 16 encoder: SAGE loss_step: 30 real_loss: False h_loss_weight: 0.5 feature_loss_weight 0.5 degree_loss_weight: 1.0 calculate_contextual True calculate_structural True\n"
     ]
    },
    {
     "name": "stderr",
     "output_type": "stream",
     "text": [
      "  0%|          | 0/500 [00:00<?, ?it/s]"
     ]
    },
    {
     "name": "stdout",
     "output_type": "stream",
     "text": [
      "Dataset Name:  reddit , AUC Score(benchmark/combined):  48.66306004753245\n",
      "Dataset Name:  reddit , AUC Score (contextual):  44.99016737470675\n",
      "Dataset Name:  reddit , AUC Score (structural):  42.39766448312881\n",
      "Dataset Name:  reddit , AUC Score (joint-type):  52.4006581054274\n",
      "Dataset Name:  reddit , AUC Score (structure type):  52.4006581054274\n",
      "===========================================================================================\n",
      "Dataset Name:  reddit  Best AUC Score(benchmark/combined):  48.66306004753245\n",
      "Dataset Name:  reddit  Best AUC Score (contextual):  44.99016737470675\n",
      "Dataset Name:  reddit  Best AUC Score (structural):  42.39766448312881\n",
      "Dataset Name:  reddit  Best AUC Score (joint-type):  52.4006581054274\n",
      "Dataset Name:  reddit  Best AUC Score (structure type):  42.58209668339587\n",
      "===========================================================================================\n"
     ]
    },
    {
     "name": "stderr",
     "output_type": "stream",
     "text": [
      "  0%|          | 1/500 [00:00<04:21,  1.91it/s]"
     ]
    },
    {
     "name": "stdout",
     "output_type": "stream",
     "text": [
      "Dataset Name:  reddit , AUC Score(benchmark/combined):  47.21428814046052\n",
      "Dataset Name:  reddit , AUC Score (contextual):  44.999122222542645\n",
      "Dataset Name:  reddit , AUC Score (structural):  44.01331507198116\n",
      "Dataset Name:  reddit , AUC Score (joint-type):  50.212816765094104\n",
      "Dataset Name:  reddit , AUC Score (structure type):  50.212816765094104\n",
      "===========================================================================================\n",
      "Dataset Name:  reddit  Best AUC Score(benchmark/combined):  48.66306004753245\n",
      "Dataset Name:  reddit  Best AUC Score (contextual):  44.999122222542645\n",
      "Dataset Name:  reddit  Best AUC Score (structural):  44.01331507198116\n",
      "Dataset Name:  reddit  Best AUC Score (joint-type):  52.4006581054274\n",
      "Dataset Name:  reddit  Best AUC Score (structure type):  44.0723888553739\n",
      "===========================================================================================\n"
     ]
    },
    {
     "name": "stderr",
     "output_type": "stream",
     "text": [
      "  0%|          | 2/500 [00:01<04:22,  1.90it/s]"
     ]
    },
    {
     "name": "stdout",
     "output_type": "stream",
     "text": [
      "Dataset Name:  reddit , AUC Score(benchmark/combined):  48.41453887459897\n",
      "Dataset Name:  reddit , AUC Score (contextual):  47.4829541688864\n",
      "Dataset Name:  reddit , AUC Score (structural):  49.04452812573147\n",
      "Dataset Name:  reddit , AUC Score (joint-type):  51.228686070860675\n",
      "Dataset Name:  reddit , AUC Score (structure type):  51.228686070860675\n",
      "===========================================================================================\n",
      "Dataset Name:  reddit  Best AUC Score(benchmark/combined):  48.66306004753245\n",
      "Dataset Name:  reddit  Best AUC Score (contextual):  47.4829541688864\n",
      "Dataset Name:  reddit  Best AUC Score (structural):  49.04452812573147\n",
      "Dataset Name:  reddit  Best AUC Score (joint-type):  52.4006581054274\n",
      "Dataset Name:  reddit  Best AUC Score (structure type):  49.00493486066166\n",
      "===========================================================================================\n"
     ]
    },
    {
     "name": "stderr",
     "output_type": "stream",
     "text": [
      "  1%|          | 3/500 [00:01<04:23,  1.88it/s]"
     ]
    },
    {
     "name": "stdout",
     "output_type": "stream",
     "text": [
      "Dataset Name:  reddit , AUC Score(benchmark/combined):  49.98762283245175\n",
      "Dataset Name:  reddit , AUC Score (contextual):  47.40661029665843\n",
      "Dataset Name:  reddit , AUC Score (structural):  51.96498349250681\n",
      "Dataset Name:  reddit , AUC Score (joint-type):  48.50684236381675\n",
      "Dataset Name:  reddit , AUC Score (structure type):  48.50684236381675\n",
      "===========================================================================================\n",
      "Dataset Name:  reddit  Best AUC Score(benchmark/combined):  49.98762283245175\n",
      "Dataset Name:  reddit  Best AUC Score (contextual):  47.4829541688864\n",
      "Dataset Name:  reddit  Best AUC Score (structural):  51.96498349250681\n",
      "Dataset Name:  reddit  Best AUC Score (joint-type):  52.4006581054274\n",
      "Dataset Name:  reddit  Best AUC Score (structure type):  51.8372386030034\n",
      "===========================================================================================\n"
     ]
    },
    {
     "name": "stderr",
     "output_type": "stream",
     "text": [
      "  1%|          | 4/500 [00:02<04:23,  1.88it/s]"
     ]
    },
    {
     "name": "stdout",
     "output_type": "stream",
     "text": [
      "Dataset Name:  reddit , AUC Score(benchmark/combined):  49.24815783487572\n",
      "Dataset Name:  reddit , AUC Score (contextual):  46.82874435326015\n",
      "Dataset Name:  reddit , AUC Score (structural):  51.73906722551443\n",
      "Dataset Name:  reddit , AUC Score (joint-type):  47.458012135083635\n",
      "Dataset Name:  reddit , AUC Score (structure type):  47.458012135083635\n",
      "===========================================================================================\n",
      "Dataset Name:  reddit  Best AUC Score(benchmark/combined):  49.98762283245175\n",
      "Dataset Name:  reddit  Best AUC Score (contextual):  47.4829541688864\n",
      "Dataset Name:  reddit  Best AUC Score (structural):  51.96498349250681\n",
      "Dataset Name:  reddit  Best AUC Score (joint-type):  52.4006581054274\n",
      "Dataset Name:  reddit  Best AUC Score (structure type):  51.8372386030034\n",
      "===========================================================================================\n"
     ]
    },
    {
     "name": "stderr",
     "output_type": "stream",
     "text": [
      "  1%|          | 5/500 [00:02<04:23,  1.88it/s]"
     ]
    },
    {
     "name": "stdout",
     "output_type": "stream",
     "text": [
      "Dataset Name:  reddit , AUC Score(benchmark/combined):  46.995822126978936\n",
      "Dataset Name:  reddit , AUC Score (contextual):  46.286394247041486\n",
      "Dataset Name:  reddit , AUC Score (structural):  50.755226930786556\n",
      "Dataset Name:  reddit , AUC Score (joint-type):  48.00188001212193\n",
      "Dataset Name:  reddit , AUC Score (structure type):  48.00188001212193\n",
      "===========================================================================================\n",
      "Dataset Name:  reddit  Best AUC Score(benchmark/combined):  49.98762283245175\n",
      "Dataset Name:  reddit  Best AUC Score (contextual):  47.4829541688864\n",
      "Dataset Name:  reddit  Best AUC Score (structural):  51.96498349250681\n",
      "Dataset Name:  reddit  Best AUC Score (joint-type):  52.4006581054274\n",
      "Dataset Name:  reddit  Best AUC Score (structure type):  51.8372386030034\n",
      "===========================================================================================\n"
     ]
    },
    {
     "name": "stderr",
     "output_type": "stream",
     "text": [
      "  1%|          | 6/500 [00:03<04:50,  1.70it/s]"
     ]
    },
    {
     "name": "stdout",
     "output_type": "stream",
     "text": [
      "Dataset Name:  reddit , AUC Score(benchmark/combined):  46.15552567194382\n",
      "Dataset Name:  reddit , AUC Score (contextual):  47.11714610517242\n",
      "Dataset Name:  reddit , AUC Score (structural):  51.19491341108664\n",
      "Dataset Name:  reddit , AUC Score (joint-type):  48.15244287743039\n",
      "Dataset Name:  reddit , AUC Score (structure type):  48.15244287743039\n",
      "===========================================================================================\n",
      "Dataset Name:  reddit  Best AUC Score(benchmark/combined):  49.98762283245175\n",
      "Dataset Name:  reddit  Best AUC Score (contextual):  47.4829541688864\n",
      "Dataset Name:  reddit  Best AUC Score (structural):  51.96498349250681\n",
      "Dataset Name:  reddit  Best AUC Score (joint-type):  52.4006581054274\n",
      "Dataset Name:  reddit  Best AUC Score (structure type):  51.8372386030034\n",
      "===========================================================================================\n"
     ]
    },
    {
     "name": "stderr",
     "output_type": "stream",
     "text": [
      "  1%|▏         | 7/500 [00:03<04:40,  1.76it/s]"
     ]
    },
    {
     "name": "stdout",
     "output_type": "stream",
     "text": [
      "Dataset Name:  reddit , AUC Score(benchmark/combined):  45.992499590858706\n",
      "Dataset Name:  reddit , AUC Score (contextual):  48.164939190512115\n",
      "Dataset Name:  reddit , AUC Score (structural):  51.748481370304276\n",
      "Dataset Name:  reddit , AUC Score (joint-type):  48.092237968251276\n",
      "Dataset Name:  reddit , AUC Score (structure type):  48.092237968251276\n",
      "===========================================================================================\n",
      "Dataset Name:  reddit  Best AUC Score(benchmark/combined):  49.98762283245175\n",
      "Dataset Name:  reddit  Best AUC Score (contextual):  48.164939190512115\n",
      "Dataset Name:  reddit  Best AUC Score (structural):  51.96498349250681\n",
      "Dataset Name:  reddit  Best AUC Score (joint-type):  52.4006581054274\n",
      "Dataset Name:  reddit  Best AUC Score (structure type):  51.8372386030034\n",
      "===========================================================================================\n"
     ]
    },
    {
     "name": "stderr",
     "output_type": "stream",
     "text": [
      "  2%|▏         | 8/500 [00:04<04:35,  1.79it/s]"
     ]
    },
    {
     "name": "stdout",
     "output_type": "stream",
     "text": [
      "Dataset Name:  reddit , AUC Score(benchmark/combined):  46.18299474961067\n",
      "Dataset Name:  reddit , AUC Score (contextual):  48.89630235613682\n",
      "Dataset Name:  reddit , AUC Score (structural):  51.99130298129504\n",
      "Dataset Name:  reddit , AUC Score (joint-type):  47.979771150515816\n",
      "Dataset Name:  reddit , AUC Score (structure type):  47.979771150515816\n",
      "===========================================================================================\n",
      "Dataset Name:  reddit  Best AUC Score(benchmark/combined):  49.98762283245175\n",
      "Dataset Name:  reddit  Best AUC Score (contextual):  48.89630235613682\n",
      "Dataset Name:  reddit  Best AUC Score (structural):  51.99130298129504\n",
      "Dataset Name:  reddit  Best AUC Score (joint-type):  52.4006581054274\n",
      "Dataset Name:  reddit  Best AUC Score (structure type):  51.8372386030034\n",
      "===========================================================================================\n"
     ]
    },
    {
     "name": "stderr",
     "output_type": "stream",
     "text": [
      "  2%|▏         | 9/500 [00:04<04:31,  1.81it/s]"
     ]
    },
    {
     "name": "stdout",
     "output_type": "stream",
     "text": [
      "Dataset Name:  reddit , AUC Score(benchmark/combined):  46.52534823328156\n",
      "Dataset Name:  reddit , AUC Score (contextual):  49.4850709532562\n",
      "Dataset Name:  reddit , AUC Score (structural):  52.04455696991519\n",
      "Dataset Name:  reddit , AUC Score (joint-type):  47.5968375727202\n",
      "Dataset Name:  reddit , AUC Score (structure type):  47.5968375727202\n",
      "===========================================================================================\n",
      "Dataset Name:  reddit  Best AUC Score(benchmark/combined):  49.98762283245175\n",
      "Dataset Name:  reddit  Best AUC Score (contextual):  49.4850709532562\n",
      "Dataset Name:  reddit  Best AUC Score (structural):  52.04455696991519\n",
      "Dataset Name:  reddit  Best AUC Score (joint-type):  52.4006581054274\n",
      "Dataset Name:  reddit  Best AUC Score (structure type):  51.858508239115544\n",
      "===========================================================================================\n"
     ]
    },
    {
     "name": "stderr",
     "output_type": "stream",
     "text": [
      "  2%|▏         | 10/500 [00:05<04:27,  1.83it/s]"
     ]
    },
    {
     "name": "stdout",
     "output_type": "stream",
     "text": [
      "Dataset Name:  reddit , AUC Score(benchmark/combined):  46.741961531454464\n",
      "Dataset Name:  reddit , AUC Score (contextual):  49.784223581807595\n",
      "Dataset Name:  reddit , AUC Score (structural):  51.90037417868674\n",
      "Dataset Name:  reddit , AUC Score (joint-type):  47.036881324993686\n",
      "Dataset Name:  reddit , AUC Score (structure type):  47.036881324993686\n",
      "===========================================================================================\n",
      "Dataset Name:  reddit  Best AUC Score(benchmark/combined):  49.98762283245175\n",
      "Dataset Name:  reddit  Best AUC Score (contextual):  49.784223581807595\n",
      "Dataset Name:  reddit  Best AUC Score (structural):  52.04455696991519\n",
      "Dataset Name:  reddit  Best AUC Score (joint-type):  52.4006581054274\n",
      "Dataset Name:  reddit  Best AUC Score (structure type):  51.858508239115544\n",
      "===========================================================================================\n"
     ]
    },
    {
     "name": "stderr",
     "output_type": "stream",
     "text": [
      "  2%|▏         | 11/500 [00:06<04:24,  1.85it/s]"
     ]
    },
    {
     "name": "stdout",
     "output_type": "stream",
     "text": [
      "Dataset Name:  reddit , AUC Score(benchmark/combined):  46.74111237027133\n",
      "Dataset Name:  reddit , AUC Score (contextual):  49.7642648955293\n",
      "Dataset Name:  reddit , AUC Score (structural):  51.440292871242875\n",
      "Dataset Name:  reddit , AUC Score (joint-type):  46.716353424065666\n",
      "Dataset Name:  reddit , AUC Score (structure type):  46.716353424065666\n",
      "===========================================================================================\n",
      "Dataset Name:  reddit  Best AUC Score(benchmark/combined):  49.98762283245175\n",
      "Dataset Name:  reddit  Best AUC Score (contextual):  49.784223581807595\n",
      "Dataset Name:  reddit  Best AUC Score (structural):  52.04455696991519\n",
      "Dataset Name:  reddit  Best AUC Score (joint-type):  52.4006581054274\n",
      "Dataset Name:  reddit  Best AUC Score (structure type):  51.858508239115544\n",
      "===========================================================================================\n"
     ]
    },
    {
     "name": "stderr",
     "output_type": "stream",
     "text": [
      "  2%|▏         | 12/500 [00:06<04:25,  1.84it/s]"
     ]
    },
    {
     "name": "stdout",
     "output_type": "stream",
     "text": [
      "Dataset Name:  reddit , AUC Score(benchmark/combined):  46.82566823838682\n",
      "Dataset Name:  reddit , AUC Score (contextual):  49.7926472098566\n",
      "Dataset Name:  reddit , AUC Score (structural):  50.80233578210507\n",
      "Dataset Name:  reddit , AUC Score (joint-type):  46.53601695451191\n",
      "Dataset Name:  reddit , AUC Score (structure type):  46.53601695451191\n",
      "===========================================================================================\n",
      "Dataset Name:  reddit  Best AUC Score(benchmark/combined):  49.98762283245175\n",
      "Dataset Name:  reddit  Best AUC Score (contextual):  49.7926472098566\n",
      "Dataset Name:  reddit  Best AUC Score (structural):  52.04455696991519\n",
      "Dataset Name:  reddit  Best AUC Score (joint-type):  52.4006581054274\n",
      "Dataset Name:  reddit  Best AUC Score (structure type):  51.858508239115544\n",
      "===========================================================================================\n"
     ]
    },
    {
     "name": "stderr",
     "output_type": "stream",
     "text": [
      "  3%|▎         | 13/500 [00:07<04:23,  1.85it/s]"
     ]
    },
    {
     "name": "stdout",
     "output_type": "stream",
     "text": [
      "Dataset Name:  reddit , AUC Score(benchmark/combined):  46.99234828577515\n",
      "Dataset Name:  reddit , AUC Score (contextual):  49.698494826678164\n",
      "Dataset Name:  reddit , AUC Score (structural):  49.980742363087934\n",
      "Dataset Name:  reddit , AUC Score (joint-type):  46.48575344420143\n",
      "Dataset Name:  reddit , AUC Score (structure type):  46.48575344420143\n",
      "===========================================================================================\n",
      "Dataset Name:  reddit  Best AUC Score(benchmark/combined):  49.98762283245175\n",
      "Dataset Name:  reddit  Best AUC Score (contextual):  49.7926472098566\n",
      "Dataset Name:  reddit  Best AUC Score (structural):  52.04455696991519\n",
      "Dataset Name:  reddit  Best AUC Score (joint-type):  52.4006581054274\n",
      "Dataset Name:  reddit  Best AUC Score (structure type):  51.858508239115544\n",
      "===========================================================================================\n"
     ]
    },
    {
     "name": "stderr",
     "output_type": "stream",
     "text": [
      "  3%|▎         | 14/500 [00:07<04:22,  1.85it/s]"
     ]
    },
    {
     "name": "stdout",
     "output_type": "stream",
     "text": [
      "Dataset Name:  reddit , AUC Score(benchmark/combined):  47.34243428264408\n",
      "Dataset Name:  reddit , AUC Score (contextual):  49.79196421298776\n",
      "Dataset Name:  reddit , AUC Score (structural):  49.39910437151839\n",
      "Dataset Name:  reddit , AUC Score (joint-type):  46.62149274783806\n",
      "Dataset Name:  reddit , AUC Score (structure type):  46.62149274783806\n",
      "===========================================================================================\n",
      "Dataset Name:  reddit  Best AUC Score(benchmark/combined):  49.98762283245175\n",
      "Dataset Name:  reddit  Best AUC Score (contextual):  49.7926472098566\n",
      "Dataset Name:  reddit  Best AUC Score (structural):  52.04455696991519\n",
      "Dataset Name:  reddit  Best AUC Score (joint-type):  52.4006581054274\n",
      "Dataset Name:  reddit  Best AUC Score (structure type):  51.858508239115544\n",
      "===========================================================================================\n"
     ]
    },
    {
     "name": "stderr",
     "output_type": "stream",
     "text": [
      "  3%|▎         | 15/500 [00:08<04:21,  1.85it/s]"
     ]
    },
    {
     "name": "stdout",
     "output_type": "stream",
     "text": [
      "Dataset Name:  reddit , AUC Score(benchmark/combined):  48.080599806288326\n",
      "Dataset Name:  reddit , AUC Score (contextual):  50.58284929092277\n",
      "Dataset Name:  reddit , AUC Score (structural):  49.2398662425577\n",
      "Dataset Name:  reddit , AUC Score (joint-type):  47.10917780836929\n",
      "Dataset Name:  reddit , AUC Score (structure type):  47.10917780836929\n",
      "===========================================================================================\n",
      "Dataset Name:  reddit  Best AUC Score(benchmark/combined):  49.98762283245175\n",
      "Dataset Name:  reddit  Best AUC Score (contextual):  50.58284929092277\n",
      "Dataset Name:  reddit  Best AUC Score (structural):  52.04455696991519\n",
      "Dataset Name:  reddit  Best AUC Score (joint-type):  52.4006581054274\n",
      "Dataset Name:  reddit  Best AUC Score (structure type):  51.858508239115544\n",
      "===========================================================================================\n"
     ]
    },
    {
     "name": "stderr",
     "output_type": "stream",
     "text": [
      "  3%|▎         | 16/500 [00:08<04:20,  1.86it/s]"
     ]
    },
    {
     "name": "stdout",
     "output_type": "stream",
     "text": [
      "Dataset Name:  reddit , AUC Score(benchmark/combined):  49.16527455696945\n",
      "Dataset Name:  reddit , AUC Score (contextual):  51.739264174588165\n",
      "Dataset Name:  reddit , AUC Score (structural):  49.200004906826656\n",
      "Dataset Name:  reddit , AUC Score (joint-type):  47.952704237565534\n",
      "Dataset Name:  reddit , AUC Score (structure type):  47.952704237565534\n",
      "===========================================================================================\n",
      "Dataset Name:  reddit  Best AUC Score(benchmark/combined):  49.98762283245175\n",
      "Dataset Name:  reddit  Best AUC Score (contextual):  51.739264174588165\n",
      "Dataset Name:  reddit  Best AUC Score (structural):  52.04455696991519\n",
      "Dataset Name:  reddit  Best AUC Score (joint-type):  52.4006581054274\n",
      "Dataset Name:  reddit  Best AUC Score (structure type):  51.858508239115544\n",
      "===========================================================================================\n"
     ]
    },
    {
     "name": "stderr",
     "output_type": "stream",
     "text": [
      "  3%|▎         | 17/500 [00:09<04:18,  1.86it/s]"
     ]
    },
    {
     "name": "stdout",
     "output_type": "stream",
     "text": [
      "Dataset Name:  reddit , AUC Score(benchmark/combined):  50.23090751142251\n",
      "Dataset Name:  reddit , AUC Score (contextual):  52.94806744771153\n",
      "Dataset Name:  reddit , AUC Score (structural):  49.25771482451795\n",
      "Dataset Name:  reddit , AUC Score (joint-type):  48.647084387551644\n",
      "Dataset Name:  reddit , AUC Score (structure type):  48.647084387551644\n",
      "===========================================================================================\n",
      "Dataset Name:  reddit  Best AUC Score(benchmark/combined):  50.23090751142251\n",
      "Dataset Name:  reddit  Best AUC Score (contextual):  52.94806744771153\n",
      "Dataset Name:  reddit  Best AUC Score (structural):  52.04455696991519\n",
      "Dataset Name:  reddit  Best AUC Score (joint-type):  52.4006581054274\n",
      "Dataset Name:  reddit  Best AUC Score (structure type):  51.858508239115544\n",
      "===========================================================================================\n"
     ]
    },
    {
     "name": "stderr",
     "output_type": "stream",
     "text": [
      "  4%|▎         | 18/500 [00:09<04:18,  1.86it/s]"
     ]
    },
    {
     "name": "stdout",
     "output_type": "stream",
     "text": [
      "Dataset Name:  reddit , AUC Score(benchmark/combined):  50.91378749561266\n",
      "Dataset Name:  reddit , AUC Score (contextual):  53.60298555638696\n",
      "Dataset Name:  reddit , AUC Score (structural):  48.807783685862304\n",
      "Dataset Name:  reddit , AUC Score (joint-type):  49.255761078588655\n",
      "Dataset Name:  reddit , AUC Score (structure type):  49.255761078588655\n",
      "===========================================================================================\n",
      "Dataset Name:  reddit  Best AUC Score(benchmark/combined):  50.91378749561266\n",
      "Dataset Name:  reddit  Best AUC Score (contextual):  53.60298555638696\n",
      "Dataset Name:  reddit  Best AUC Score (structural):  52.04455696991519\n",
      "Dataset Name:  reddit  Best AUC Score (joint-type):  52.4006581054274\n",
      "Dataset Name:  reddit  Best AUC Score (structure type):  51.858508239115544\n",
      "===========================================================================================\n"
     ]
    },
    {
     "name": "stderr",
     "output_type": "stream",
     "text": [
      "  4%|▍         | 19/500 [00:10<04:18,  1.86it/s]"
     ]
    },
    {
     "name": "stdout",
     "output_type": "stream",
     "text": [
      "Dataset Name:  reddit , AUC Score(benchmark/combined):  51.1736179515762\n",
      "Dataset Name:  reddit , AUC Score (contextual):  54.26809802573431\n",
      "Dataset Name:  reddit , AUC Score (structural):  48.171346718360745\n",
      "Dataset Name:  reddit , AUC Score (joint-type):  49.705021241202616\n",
      "Dataset Name:  reddit , AUC Score (structure type):  49.705021241202616\n",
      "===========================================================================================\n",
      "Dataset Name:  reddit  Best AUC Score(benchmark/combined):  51.1736179515762\n",
      "Dataset Name:  reddit  Best AUC Score (contextual):  54.26809802573431\n",
      "Dataset Name:  reddit  Best AUC Score (structural):  52.04455696991519\n",
      "Dataset Name:  reddit  Best AUC Score (joint-type):  52.4006581054274\n",
      "Dataset Name:  reddit  Best AUC Score (structure type):  51.858508239115544\n",
      "===========================================================================================\n"
     ]
    },
    {
     "name": "stderr",
     "output_type": "stream",
     "text": [
      "  4%|▍         | 20/500 [00:10<04:18,  1.86it/s]"
     ]
    },
    {
     "name": "stdout",
     "output_type": "stream",
     "text": [
      "Dataset Name:  reddit , AUC Score(benchmark/combined):  51.08955099444494\n",
      "Dataset Name:  reddit , AUC Score (contextual):  55.04003626460412\n",
      "Dataset Name:  reddit , AUC Score (structural):  47.48792522791878\n",
      "Dataset Name:  reddit , AUC Score (joint-type):  49.82464687797072\n",
      "Dataset Name:  reddit , AUC Score (structure type):  49.82464687797072\n",
      "===========================================================================================\n",
      "Dataset Name:  reddit  Best AUC Score(benchmark/combined):  51.1736179515762\n",
      "Dataset Name:  reddit  Best AUC Score (contextual):  55.04003626460412\n",
      "Dataset Name:  reddit  Best AUC Score (structural):  52.04455696991519\n",
      "Dataset Name:  reddit  Best AUC Score (joint-type):  52.4006581054274\n",
      "Dataset Name:  reddit  Best AUC Score (structure type):  51.858508239115544\n",
      "===========================================================================================\n"
     ]
    },
    {
     "name": "stderr",
     "output_type": "stream",
     "text": [
      "  4%|▍         | 21/500 [00:11<04:17,  1.86it/s]"
     ]
    },
    {
     "name": "stdout",
     "output_type": "stream",
     "text": [
      "Dataset Name:  reddit , AUC Score(benchmark/combined):  50.1946637681965\n",
      "Dataset Name:  reddit , AUC Score (contextual):  55.859683099571335\n",
      "Dataset Name:  reddit , AUC Score (structural):  46.88442367663217\n",
      "Dataset Name:  reddit , AUC Score (joint-type):  49.65432769582658\n",
      "Dataset Name:  reddit , AUC Score (structure type):  49.65432769582658\n",
      "===========================================================================================\n",
      "Dataset Name:  reddit  Best AUC Score(benchmark/combined):  51.1736179515762\n",
      "Dataset Name:  reddit  Best AUC Score (contextual):  55.859683099571335\n",
      "Dataset Name:  reddit  Best AUC Score (structural):  52.04455696991519\n",
      "Dataset Name:  reddit  Best AUC Score (joint-type):  52.4006581054274\n",
      "Dataset Name:  reddit  Best AUC Score (structure type):  51.858508239115544\n",
      "===========================================================================================\n"
     ]
    },
    {
     "name": "stderr",
     "output_type": "stream",
     "text": [
      "  4%|▍         | 22/500 [00:11<04:15,  1.87it/s]"
     ]
    },
    {
     "name": "stdout",
     "output_type": "stream",
     "text": [
      "Dataset Name:  reddit , AUC Score(benchmark/combined):  48.7884785810671\n",
      "Dataset Name:  reddit , AUC Score (contextual):  56.41493425775694\n",
      "Dataset Name:  reddit , AUC Score (structural):  46.53308659952272\n",
      "Dataset Name:  reddit , AUC Score (joint-type):  49.50917821310817\n",
      "Dataset Name:  reddit , AUC Score (structure type):  49.50917821310817\n",
      "===========================================================================================\n",
      "Dataset Name:  reddit  Best AUC Score(benchmark/combined):  51.1736179515762\n",
      "Dataset Name:  reddit  Best AUC Score (contextual):  56.41493425775694\n",
      "Dataset Name:  reddit  Best AUC Score (structural):  52.04455696991519\n",
      "Dataset Name:  reddit  Best AUC Score (joint-type):  52.4006581054274\n",
      "Dataset Name:  reddit  Best AUC Score (structure type):  51.858508239115544\n",
      "===========================================================================================\n"
     ]
    },
    {
     "name": "stderr",
     "output_type": "stream",
     "text": [
      "  5%|▍         | 23/500 [00:12<04:38,  1.71it/s]"
     ]
    },
    {
     "name": "stdout",
     "output_type": "stream",
     "text": [
      "Dataset Name:  reddit , AUC Score(benchmark/combined):  47.915759608130124\n",
      "Dataset Name:  reddit , AUC Score (contextual):  57.02940377408892\n",
      "Dataset Name:  reddit , AUC Score (structural):  46.51495289114869\n",
      "Dataset Name:  reddit , AUC Score (joint-type):  48.95048677439804\n",
      "Dataset Name:  reddit , AUC Score (structure type):  48.95048677439804\n",
      "===========================================================================================\n",
      "Dataset Name:  reddit  Best AUC Score(benchmark/combined):  51.1736179515762\n",
      "Dataset Name:  reddit  Best AUC Score (contextual):  57.02940377408892\n",
      "Dataset Name:  reddit  Best AUC Score (structural):  52.04455696991519\n",
      "Dataset Name:  reddit  Best AUC Score (joint-type):  52.4006581054274\n",
      "Dataset Name:  reddit  Best AUC Score (structure type):  51.858508239115544\n",
      "===========================================================================================\n"
     ]
    },
    {
     "name": "stderr",
     "output_type": "stream",
     "text": [
      "  5%|▍         | 24/500 [00:13<04:30,  1.76it/s]"
     ]
    },
    {
     "name": "stdout",
     "output_type": "stream",
     "text": [
      "Dataset Name:  reddit , AUC Score(benchmark/combined):  47.613110842810485\n",
      "Dataset Name:  reddit , AUC Score (contextual):  56.630508306506734\n",
      "Dataset Name:  reddit , AUC Score (structural):  46.2758064270146\n",
      "Dataset Name:  reddit , AUC Score (joint-type):  48.37778125178655\n",
      "Dataset Name:  reddit , AUC Score (structure type):  48.37778125178655\n",
      "===========================================================================================\n",
      "Dataset Name:  reddit  Best AUC Score(benchmark/combined):  51.1736179515762\n",
      "Dataset Name:  reddit  Best AUC Score (contextual):  57.02940377408892\n",
      "Dataset Name:  reddit  Best AUC Score (structural):  52.04455696991519\n",
      "Dataset Name:  reddit  Best AUC Score (joint-type):  52.4006581054274\n",
      "Dataset Name:  reddit  Best AUC Score (structure type):  51.858508239115544\n",
      "===========================================================================================\n"
     ]
    },
    {
     "name": "stderr",
     "output_type": "stream",
     "text": [
      "  5%|▌         | 25/500 [00:13<04:25,  1.79it/s]"
     ]
    },
    {
     "name": "stdout",
     "output_type": "stream",
     "text": [
      "Dataset Name:  reddit , AUC Score(benchmark/combined):  47.40254460154784\n",
      "Dataset Name:  reddit , AUC Score (contextual):  56.68489509421056\n",
      "Dataset Name:  reddit , AUC Score (structural):  45.531187193447664\n",
      "Dataset Name:  reddit , AUC Score (joint-type):  47.49054302298462\n",
      "Dataset Name:  reddit , AUC Score (structure type):  47.49054302298462\n",
      "===========================================================================================\n",
      "Dataset Name:  reddit  Best AUC Score(benchmark/combined):  51.1736179515762\n",
      "Dataset Name:  reddit  Best AUC Score (contextual):  57.02940377408892\n",
      "Dataset Name:  reddit  Best AUC Score (structural):  52.04455696991519\n",
      "Dataset Name:  reddit  Best AUC Score (joint-type):  52.4006581054274\n",
      "Dataset Name:  reddit  Best AUC Score (structure type):  51.858508239115544\n",
      "===========================================================================================\n"
     ]
    },
    {
     "name": "stderr",
     "output_type": "stream",
     "text": [
      "  5%|▌         | 26/500 [00:14<04:20,  1.82it/s]"
     ]
    },
    {
     "name": "stdout",
     "output_type": "stream",
     "text": [
      "Dataset Name:  reddit , AUC Score(benchmark/combined):  47.26351375692581\n",
      "Dataset Name:  reddit , AUC Score (contextual):  57.27551031249383\n",
      "Dataset Name:  reddit , AUC Score (structural):  44.77255698052454\n",
      "Dataset Name:  reddit , AUC Score (joint-type):  46.58696346169121\n",
      "Dataset Name:  reddit , AUC Score (structure type):  46.58696346169121\n",
      "===========================================================================================\n",
      "Dataset Name:  reddit  Best AUC Score(benchmark/combined):  51.1736179515762\n",
      "Dataset Name:  reddit  Best AUC Score (contextual):  57.27551031249383\n",
      "Dataset Name:  reddit  Best AUC Score (structural):  52.04455696991519\n",
      "Dataset Name:  reddit  Best AUC Score (joint-type):  52.4006581054274\n",
      "Dataset Name:  reddit  Best AUC Score (structure type):  51.858508239115544\n",
      "===========================================================================================\n"
     ]
    },
    {
     "name": "stderr",
     "output_type": "stream",
     "text": [
      "  5%|▌         | 27/500 [00:14<04:17,  1.83it/s]"
     ]
    },
    {
     "name": "stdout",
     "output_type": "stream",
     "text": [
      "Dataset Name:  reddit , AUC Score(benchmark/combined):  46.97788681350465\n",
      "Dataset Name:  reddit , AUC Score (contextual):  56.41579432788808\n",
      "Dataset Name:  reddit , AUC Score (structural):  44.07433709766509\n",
      "Dataset Name:  reddit , AUC Score (joint-type):  46.766819303818764\n",
      "Dataset Name:  reddit , AUC Score (structure type):  46.766819303818764\n",
      "===========================================================================================\n",
      "Dataset Name:  reddit  Best AUC Score(benchmark/combined):  51.1736179515762\n",
      "Dataset Name:  reddit  Best AUC Score (contextual):  57.27551031249383\n",
      "Dataset Name:  reddit  Best AUC Score (structural):  52.04455696991519\n",
      "Dataset Name:  reddit  Best AUC Score (joint-type):  52.4006581054274\n",
      "Dataset Name:  reddit  Best AUC Score (structure type):  51.858508239115544\n",
      "===========================================================================================\n"
     ]
    },
    {
     "name": "stderr",
     "output_type": "stream",
     "text": [
      "  6%|▌         | 28/500 [00:15<04:16,  1.84it/s]"
     ]
    },
    {
     "name": "stdout",
     "output_type": "stream",
     "text": [
      "Dataset Name:  reddit , AUC Score(benchmark/combined):  47.20867853022036\n",
      "Dataset Name:  reddit , AUC Score (contextual):  55.62824834575628\n",
      "Dataset Name:  reddit , AUC Score (structural):  44.38427282486674\n",
      "Dataset Name:  reddit , AUC Score (joint-type):  46.20225915127267\n",
      "Dataset Name:  reddit , AUC Score (structure type):  46.20225915127267\n",
      "===========================================================================================\n",
      "Dataset Name:  reddit  Best AUC Score(benchmark/combined):  51.1736179515762\n",
      "Dataset Name:  reddit  Best AUC Score (contextual):  57.27551031249383\n",
      "Dataset Name:  reddit  Best AUC Score (structural):  52.04455696991519\n",
      "Dataset Name:  reddit  Best AUC Score (joint-type):  52.4006581054274\n",
      "Dataset Name:  reddit  Best AUC Score (structure type):  51.858508239115544\n",
      "===========================================================================================\n"
     ]
    },
    {
     "name": "stderr",
     "output_type": "stream",
     "text": [
      "  6%|▌         | 29/500 [00:15<04:17,  1.83it/s]"
     ]
    },
    {
     "name": "stdout",
     "output_type": "stream",
     "text": [
      "Dataset Name:  reddit , AUC Score(benchmark/combined):  45.159022157445804\n",
      "Dataset Name:  reddit , AUC Score (contextual):  54.68685099487347\n",
      "Dataset Name:  reddit , AUC Score (structural):  44.06592752617029\n",
      "Dataset Name:  reddit , AUC Score (joint-type):  45.37110255425651\n",
      "Dataset Name:  reddit , AUC Score (structure type):  45.37110255425651\n",
      "===========================================================================================\n",
      "Dataset Name:  reddit  Best AUC Score(benchmark/combined):  51.1736179515762\n",
      "Dataset Name:  reddit  Best AUC Score (contextual):  57.27551031249383\n",
      "Dataset Name:  reddit  Best AUC Score (structural):  52.04455696991519\n",
      "Dataset Name:  reddit  Best AUC Score (joint-type):  52.4006581054274\n",
      "Dataset Name:  reddit  Best AUC Score (structure type):  51.858508239115544\n",
      "===========================================================================================\n"
     ]
    },
    {
     "name": "stderr",
     "output_type": "stream",
     "text": [
      "  6%|▌         | 30/500 [00:16<04:14,  1.85it/s]"
     ]
    },
    {
     "name": "stdout",
     "output_type": "stream",
     "text": [
      "Dataset Name:  reddit , AUC Score(benchmark/combined):  43.41842185710007\n",
      "Dataset Name:  reddit , AUC Score (contextual):  53.78175366276044\n",
      "Dataset Name:  reddit , AUC Score (structural):  44.40944849257644\n",
      "Dataset Name:  reddit , AUC Score (joint-type):  46.02705780632537\n",
      "Dataset Name:  reddit , AUC Score (structure type):  46.02705780632537\n",
      "===========================================================================================\n",
      "Dataset Name:  reddit  Best AUC Score(benchmark/combined):  51.1736179515762\n",
      "Dataset Name:  reddit  Best AUC Score (contextual):  57.27551031249383\n",
      "Dataset Name:  reddit  Best AUC Score (structural):  52.04455696991519\n",
      "Dataset Name:  reddit  Best AUC Score (joint-type):  52.4006581054274\n",
      "Dataset Name:  reddit  Best AUC Score (structure type):  51.858508239115544\n",
      "===========================================================================================\n"
     ]
    },
    {
     "name": "stderr",
     "output_type": "stream",
     "text": [
      "  6%|▌         | 31/500 [00:16<04:12,  1.86it/s]"
     ]
    },
    {
     "name": "stdout",
     "output_type": "stream",
     "text": [
      "Dataset Name:  reddit , AUC Score(benchmark/combined):  42.61175733134887\n",
      "Dataset Name:  reddit , AUC Score (contextual):  50.99474699519322\n",
      "Dataset Name:  reddit , AUC Score (structural):  45.4586656216452\n",
      "Dataset Name:  reddit , AUC Score (joint-type):  46.62748794257565\n",
      "Dataset Name:  reddit , AUC Score (structure type):  46.62748794257565\n",
      "===========================================================================================\n",
      "Dataset Name:  reddit  Best AUC Score(benchmark/combined):  51.1736179515762\n",
      "Dataset Name:  reddit  Best AUC Score (contextual):  57.27551031249383\n",
      "Dataset Name:  reddit  Best AUC Score (structural):  52.04455696991519\n",
      "Dataset Name:  reddit  Best AUC Score (joint-type):  52.4006581054274\n",
      "Dataset Name:  reddit  Best AUC Score (structure type):  51.858508239115544\n",
      "===========================================================================================\n"
     ]
    },
    {
     "name": "stderr",
     "output_type": "stream",
     "text": [
      "  6%|▋         | 32/500 [00:17<04:12,  1.86it/s]"
     ]
    },
    {
     "name": "stdout",
     "output_type": "stream",
     "text": [
      "Dataset Name:  reddit , AUC Score(benchmark/combined):  44.52782521072063\n",
      "Dataset Name:  reddit , AUC Score (contextual):  52.27824988882329\n",
      "Dataset Name:  reddit , AUC Score (structural):  44.121258627560586\n",
      "Dataset Name:  reddit , AUC Score (joint-type):  47.35055396105299\n",
      "Dataset Name:  reddit , AUC Score (structure type):  47.35055396105299\n",
      "===========================================================================================\n",
      "Dataset Name:  reddit  Best AUC Score(benchmark/combined):  51.1736179515762\n",
      "Dataset Name:  reddit  Best AUC Score (contextual):  57.27551031249383\n",
      "Dataset Name:  reddit  Best AUC Score (structural):  52.04455696991519\n",
      "Dataset Name:  reddit  Best AUC Score (joint-type):  52.4006581054274\n",
      "Dataset Name:  reddit  Best AUC Score (structure type):  51.858508239115544\n",
      "===========================================================================================\n"
     ]
    },
    {
     "name": "stderr",
     "output_type": "stream",
     "text": [
      "  7%|▋         | 33/500 [00:17<04:11,  1.86it/s]"
     ]
    },
    {
     "name": "stdout",
     "output_type": "stream",
     "text": [
      "Dataset Name:  reddit , AUC Score(benchmark/combined):  46.18659725159977\n",
      "Dataset Name:  reddit , AUC Score (contextual):  51.25299570015527\n",
      "Dataset Name:  reddit , AUC Score (structural):  46.199566607851054\n",
      "Dataset Name:  reddit , AUC Score (joint-type):  48.31509731693533\n",
      "Dataset Name:  reddit , AUC Score (structure type):  48.31509731693533\n",
      "===========================================================================================\n",
      "Dataset Name:  reddit  Best AUC Score(benchmark/combined):  51.1736179515762\n",
      "Dataset Name:  reddit  Best AUC Score (contextual):  57.27551031249383\n",
      "Dataset Name:  reddit  Best AUC Score (structural):  52.04455696991519\n",
      "Dataset Name:  reddit  Best AUC Score (joint-type):  52.4006581054274\n",
      "Dataset Name:  reddit  Best AUC Score (structure type):  51.858508239115544\n",
      "===========================================================================================\n"
     ]
    },
    {
     "name": "stderr",
     "output_type": "stream",
     "text": [
      "  7%|▋         | 34/500 [00:18<04:09,  1.87it/s]"
     ]
    },
    {
     "name": "stdout",
     "output_type": "stream",
     "text": [
      "Dataset Name:  reddit , AUC Score(benchmark/combined):  47.42346484524166\n",
      "Dataset Name:  reddit , AUC Score (contextual):  51.38423228369362\n",
      "Dataset Name:  reddit , AUC Score (structural):  46.59751356505491\n",
      "Dataset Name:  reddit , AUC Score (joint-type):  49.511960792944194\n",
      "Dataset Name:  reddit , AUC Score (structure type):  49.511960792944194\n",
      "===========================================================================================\n",
      "Dataset Name:  reddit  Best AUC Score(benchmark/combined):  51.1736179515762\n",
      "Dataset Name:  reddit  Best AUC Score (contextual):  57.27551031249383\n",
      "Dataset Name:  reddit  Best AUC Score (structural):  52.04455696991519\n",
      "Dataset Name:  reddit  Best AUC Score (joint-type):  52.4006581054274\n",
      "Dataset Name:  reddit  Best AUC Score (structure type):  51.858508239115544\n",
      "===========================================================================================\n"
     ]
    },
    {
     "name": "stderr",
     "output_type": "stream",
     "text": [
      "  7%|▋         | 35/500 [00:19<04:08,  1.87it/s]"
     ]
    },
    {
     "name": "stdout",
     "output_type": "stream",
     "text": [
      "Dataset Name:  reddit , AUC Score(benchmark/combined):  50.581147901233805\n",
      "Dataset Name:  reddit , AUC Score (contextual):  54.52920519907335\n",
      "Dataset Name:  reddit , AUC Score (structural):  47.661013538199974\n",
      "Dataset Name:  reddit , AUC Score (joint-type):  48.92331867672645\n",
      "Dataset Name:  reddit , AUC Score (structure type):  48.92331867672645\n",
      "===========================================================================================\n",
      "Dataset Name:  reddit  Best AUC Score(benchmark/combined):  51.1736179515762\n",
      "Dataset Name:  reddit  Best AUC Score (contextual):  57.27551031249383\n",
      "Dataset Name:  reddit  Best AUC Score (structural):  52.04455696991519\n",
      "Dataset Name:  reddit  Best AUC Score (joint-type):  52.4006581054274\n",
      "Dataset Name:  reddit  Best AUC Score (structure type):  51.858508239115544\n",
      "===========================================================================================\n"
     ]
    },
    {
     "name": "stderr",
     "output_type": "stream",
     "text": [
      "  7%|▋         | 36/500 [00:19<04:10,  1.86it/s]"
     ]
    },
    {
     "name": "stdout",
     "output_type": "stream",
     "text": [
      "Dataset Name:  reddit , AUC Score(benchmark/combined):  51.15624874555734\n",
      "Dataset Name:  reddit , AUC Score (contextual):  54.57301818340034\n",
      "Dataset Name:  reddit , AUC Score (structural):  44.42226426179114\n",
      "Dataset Name:  reddit , AUC Score (joint-type):  50.68701896151085\n",
      "Dataset Name:  reddit , AUC Score (structure type):  50.68701896151085\n",
      "===========================================================================================\n",
      "Dataset Name:  reddit  Best AUC Score(benchmark/combined):  51.1736179515762\n",
      "Dataset Name:  reddit  Best AUC Score (contextual):  57.27551031249383\n",
      "Dataset Name:  reddit  Best AUC Score (structural):  52.04455696991519\n",
      "Dataset Name:  reddit  Best AUC Score (joint-type):  52.4006581054274\n",
      "Dataset Name:  reddit  Best AUC Score (structure type):  51.858508239115544\n",
      "===========================================================================================\n"
     ]
    },
    {
     "name": "stderr",
     "output_type": "stream",
     "text": [
      "  7%|▋         | 37/500 [00:20<04:08,  1.86it/s]"
     ]
    },
    {
     "name": "stdout",
     "output_type": "stream",
     "text": [
      "Dataset Name:  reddit , AUC Score(benchmark/combined):  54.09604476160186\n",
      "Dataset Name:  reddit , AUC Score (contextual):  56.424192659756756\n",
      "Dataset Name:  reddit , AUC Score (structural):  46.82726246151622\n",
      "Dataset Name:  reddit , AUC Score (joint-type):  50.66359469852772\n",
      "Dataset Name:  reddit , AUC Score (structure type):  50.66359469852772\n",
      "===========================================================================================\n",
      "Dataset Name:  reddit  Best AUC Score(benchmark/combined):  54.09604476160186\n",
      "Dataset Name:  reddit  Best AUC Score (contextual):  57.27551031249383\n",
      "Dataset Name:  reddit  Best AUC Score (structural):  52.04455696991519\n",
      "Dataset Name:  reddit  Best AUC Score (joint-type):  52.4006581054274\n",
      "Dataset Name:  reddit  Best AUC Score (structure type):  51.858508239115544\n",
      "===========================================================================================\n"
     ]
    },
    {
     "name": "stderr",
     "output_type": "stream",
     "text": [
      "  8%|▊         | 38/500 [00:20<04:08,  1.86it/s]"
     ]
    },
    {
     "name": "stdout",
     "output_type": "stream",
     "text": [
      "Dataset Name:  reddit , AUC Score(benchmark/combined):  55.970066296329456\n",
      "Dataset Name:  reddit , AUC Score (contextual):  56.484903492542436\n",
      "Dataset Name:  reddit , AUC Score (structural):  50.80162628149404\n",
      "Dataset Name:  reddit , AUC Score (joint-type):  49.125207491919134\n",
      "Dataset Name:  reddit , AUC Score (structure type):  49.125207491919134\n",
      "===========================================================================================\n",
      "Dataset Name:  reddit  Best AUC Score(benchmark/combined):  55.970066296329456\n",
      "Dataset Name:  reddit  Best AUC Score (contextual):  57.27551031249383\n",
      "Dataset Name:  reddit  Best AUC Score (structural):  52.04455696991519\n",
      "Dataset Name:  reddit  Best AUC Score (joint-type):  52.4006581054274\n",
      "Dataset Name:  reddit  Best AUC Score (structure type):  51.858508239115544\n",
      "===========================================================================================\n"
     ]
    },
    {
     "name": "stderr",
     "output_type": "stream",
     "text": [
      "  8%|▊         | 39/500 [00:21<04:09,  1.85it/s]"
     ]
    },
    {
     "name": "stdout",
     "output_type": "stream",
     "text": [
      "Dataset Name:  reddit , AUC Score(benchmark/combined):  57.47039258008104\n",
      "Dataset Name:  reddit , AUC Score (contextual):  55.4680476357431\n",
      "Dataset Name:  reddit , AUC Score (structural):  49.5158089334747\n",
      "Dataset Name:  reddit , AUC Score (joint-type):  48.593152931093705\n",
      "Dataset Name:  reddit , AUC Score (structure type):  48.593152931093705\n",
      "===========================================================================================\n",
      "Dataset Name:  reddit  Best AUC Score(benchmark/combined):  57.47039258008104\n",
      "Dataset Name:  reddit  Best AUC Score (contextual):  57.27551031249383\n",
      "Dataset Name:  reddit  Best AUC Score (structural):  52.04455696991519\n",
      "Dataset Name:  reddit  Best AUC Score (joint-type):  52.4006581054274\n",
      "Dataset Name:  reddit  Best AUC Score (structure type):  51.858508239115544\n",
      "===========================================================================================\n"
     ]
    },
    {
     "name": "stderr",
     "output_type": "stream",
     "text": [
      "  8%|▊         | 40/500 [00:21<04:30,  1.70it/s]"
     ]
    },
    {
     "name": "stdout",
     "output_type": "stream",
     "text": [
      "Dataset Name:  reddit , AUC Score(benchmark/combined):  57.01632293651259\n",
      "Dataset Name:  reddit , AUC Score (contextual):  52.67959908589723\n",
      "Dataset Name:  reddit , AUC Score (structural):  47.971300700283734\n",
      "Dataset Name:  reddit , AUC Score (joint-type):  47.492364347968184\n",
      "Dataset Name:  reddit , AUC Score (structure type):  47.492364347968184\n",
      "===========================================================================================\n",
      "Dataset Name:  reddit  Best AUC Score(benchmark/combined):  57.47039258008104\n",
      "Dataset Name:  reddit  Best AUC Score (contextual):  57.27551031249383\n",
      "Dataset Name:  reddit  Best AUC Score (structural):  52.04455696991519\n",
      "Dataset Name:  reddit  Best AUC Score (joint-type):  52.4006581054274\n",
      "Dataset Name:  reddit  Best AUC Score (structure type):  51.858508239115544\n",
      "===========================================================================================\n"
     ]
    },
    {
     "name": "stderr",
     "output_type": "stream",
     "text": [
      "  8%|▊         | 41/500 [00:22<04:22,  1.75it/s]"
     ]
    },
    {
     "name": "stdout",
     "output_type": "stream",
     "text": [
      "Dataset Name:  reddit , AUC Score(benchmark/combined):  57.33315012037503\n",
      "Dataset Name:  reddit , AUC Score (contextual):  53.46545022394709\n",
      "Dataset Name:  reddit , AUC Score (structural):  47.38487357958972\n",
      "Dataset Name:  reddit , AUC Score (joint-type):  46.176204085535495\n",
      "Dataset Name:  reddit , AUC Score (structure type):  46.176204085535495\n",
      "===========================================================================================\n",
      "Dataset Name:  reddit  Best AUC Score(benchmark/combined):  57.47039258008104\n",
      "Dataset Name:  reddit  Best AUC Score (contextual):  57.27551031249383\n",
      "Dataset Name:  reddit  Best AUC Score (structural):  52.04455696991519\n",
      "Dataset Name:  reddit  Best AUC Score (joint-type):  52.4006581054274\n",
      "Dataset Name:  reddit  Best AUC Score (structure type):  51.858508239115544\n",
      "===========================================================================================\n"
     ]
    },
    {
     "name": "stderr",
     "output_type": "stream",
     "text": [
      "  8%|▊         | 42/500 [00:22<04:17,  1.78it/s]"
     ]
    },
    {
     "name": "stdout",
     "output_type": "stream",
     "text": [
      "Dataset Name:  reddit , AUC Score(benchmark/combined):  55.96005648723119\n",
      "Dataset Name:  reddit , AUC Score (contextual):  52.47884859881928\n",
      "Dataset Name:  reddit , AUC Score (structural):  47.67958819788834\n",
      "Dataset Name:  reddit , AUC Score (joint-type):  45.39197190302659\n",
      "Dataset Name:  reddit , AUC Score (structure type):  45.39197190302659\n",
      "===========================================================================================\n",
      "Dataset Name:  reddit  Best AUC Score(benchmark/combined):  57.47039258008104\n",
      "Dataset Name:  reddit  Best AUC Score (contextual):  57.27551031249383\n",
      "Dataset Name:  reddit  Best AUC Score (structural):  52.04455696991519\n",
      "Dataset Name:  reddit  Best AUC Score (joint-type):  52.4006581054274\n",
      "Dataset Name:  reddit  Best AUC Score (structure type):  51.858508239115544\n",
      "===========================================================================================\n"
     ]
    },
    {
     "name": "stderr",
     "output_type": "stream",
     "text": [
      "  9%|▊         | 43/500 [00:23<04:12,  1.81it/s]"
     ]
    },
    {
     "name": "stdout",
     "output_type": "stream",
     "text": [
      "Dataset Name:  reddit , AUC Score(benchmark/combined):  53.89411165903451\n",
      "Dataset Name:  reddit , AUC Score (contextual):  54.01943657311633\n",
      "Dataset Name:  reddit , AUC Score (structural):  46.732000400503146\n",
      "Dataset Name:  reddit , AUC Score (joint-type):  43.7033506814538\n",
      "Dataset Name:  reddit , AUC Score (structure type):  43.7033506814538\n",
      "===========================================================================================\n",
      "Dataset Name:  reddit  Best AUC Score(benchmark/combined):  57.47039258008104\n",
      "Dataset Name:  reddit  Best AUC Score (contextual):  57.27551031249383\n",
      "Dataset Name:  reddit  Best AUC Score (structural):  52.04455696991519\n",
      "Dataset Name:  reddit  Best AUC Score (joint-type):  52.4006581054274\n",
      "Dataset Name:  reddit  Best AUC Score (structure type):  51.858508239115544\n",
      "===========================================================================================\n"
     ]
    },
    {
     "name": "stderr",
     "output_type": "stream",
     "text": [
      "  9%|▉         | 44/500 [00:24<04:10,  1.82it/s]"
     ]
    },
    {
     "name": "stdout",
     "output_type": "stream",
     "text": [
      "Dataset Name:  reddit , AUC Score(benchmark/combined):  49.63010024219106\n",
      "Dataset Name:  reddit , AUC Score (contextual):  52.76818630940365\n",
      "Dataset Name:  reddit , AUC Score (structural):  43.90207101239106\n",
      "Dataset Name:  reddit , AUC Score (joint-type):  44.5227951469784\n",
      "Dataset Name:  reddit , AUC Score (structure type):  44.5227951469784\n",
      "===========================================================================================\n",
      "Dataset Name:  reddit  Best AUC Score(benchmark/combined):  57.47039258008104\n",
      "Dataset Name:  reddit  Best AUC Score (contextual):  57.27551031249383\n",
      "Dataset Name:  reddit  Best AUC Score (structural):  52.04455696991519\n",
      "Dataset Name:  reddit  Best AUC Score (joint-type):  52.4006581054274\n",
      "Dataset Name:  reddit  Best AUC Score (structure type):  51.858508239115544\n",
      "===========================================================================================\n"
     ]
    },
    {
     "name": "stderr",
     "output_type": "stream",
     "text": [
      "  9%|▉         | 45/500 [00:24<04:07,  1.84it/s]"
     ]
    },
    {
     "name": "stdout",
     "output_type": "stream",
     "text": [
      "Dataset Name:  reddit , AUC Score(benchmark/combined):  50.208430472226254\n",
      "Dataset Name:  reddit , AUC Score (contextual):  53.45330805738995\n",
      "Dataset Name:  reddit , AUC Score (structural):  45.09900683176149\n",
      "Dataset Name:  reddit , AUC Score (joint-type):  44.48510383829063\n",
      "Dataset Name:  reddit , AUC Score (structure type):  44.48510383829063\n",
      "===========================================================================================\n",
      "Dataset Name:  reddit  Best AUC Score(benchmark/combined):  57.47039258008104\n",
      "Dataset Name:  reddit  Best AUC Score (contextual):  57.27551031249383\n",
      "Dataset Name:  reddit  Best AUC Score (structural):  52.04455696991519\n",
      "Dataset Name:  reddit  Best AUC Score (joint-type):  52.4006581054274\n",
      "Dataset Name:  reddit  Best AUC Score (structure type):  51.858508239115544\n",
      "===========================================================================================\n"
     ]
    },
    {
     "name": "stderr",
     "output_type": "stream",
     "text": [
      "  9%|▉         | 46/500 [00:25<04:05,  1.85it/s]"
     ]
    },
    {
     "name": "stdout",
     "output_type": "stream",
     "text": [
      "Dataset Name:  reddit , AUC Score(benchmark/combined):  46.84525040991326\n",
      "Dataset Name:  reddit , AUC Score (contextual):  51.128487900584\n",
      "Dataset Name:  reddit , AUC Score (structural):  43.86618984247097\n",
      "Dataset Name:  reddit , AUC Score (joint-type):  44.50551785581481\n",
      "Dataset Name:  reddit , AUC Score (structure type):  44.50551785581481\n",
      "===========================================================================================\n",
      "Dataset Name:  reddit  Best AUC Score(benchmark/combined):  57.47039258008104\n",
      "Dataset Name:  reddit  Best AUC Score (contextual):  57.27551031249383\n",
      "Dataset Name:  reddit  Best AUC Score (structural):  52.04455696991519\n",
      "Dataset Name:  reddit  Best AUC Score (joint-type):  52.4006581054274\n",
      "Dataset Name:  reddit  Best AUC Score (structure type):  51.858508239115544\n",
      "===========================================================================================\n"
     ]
    },
    {
     "name": "stderr",
     "output_type": "stream",
     "text": [
      "  9%|▉         | 47/500 [00:25<04:03,  1.86it/s]"
     ]
    },
    {
     "name": "stdout",
     "output_type": "stream",
     "text": [
      "Dataset Name:  reddit , AUC Score(benchmark/combined):  48.76778992678686\n",
      "Dataset Name:  reddit , AUC Score (contextual):  51.37355729559548\n",
      "Dataset Name:  reddit , AUC Score (structural):  45.895340039771824\n",
      "Dataset Name:  reddit , AUC Score (joint-type):  44.060330378233544\n",
      "Dataset Name:  reddit , AUC Score (structure type):  44.060330378233544\n",
      "===========================================================================================\n",
      "Dataset Name:  reddit  Best AUC Score(benchmark/combined):  57.47039258008104\n",
      "Dataset Name:  reddit  Best AUC Score (contextual):  57.27551031249383\n",
      "Dataset Name:  reddit  Best AUC Score (structural):  52.04455696991519\n",
      "Dataset Name:  reddit  Best AUC Score (joint-type):  52.4006581054274\n",
      "Dataset Name:  reddit  Best AUC Score (structure type):  51.858508239115544\n",
      "===========================================================================================\n"
     ]
    },
    {
     "name": "stderr",
     "output_type": "stream",
     "text": [
      " 10%|▉         | 48/500 [00:26<04:04,  1.85it/s]"
     ]
    },
    {
     "name": "stdout",
     "output_type": "stream",
     "text": [
      "Dataset Name:  reddit , AUC Score(benchmark/combined):  49.23284720142206\n",
      "Dataset Name:  reddit , AUC Score (contextual):  51.25279333071264\n",
      "Dataset Name:  reddit , AUC Score (structural):  45.46292925615823\n",
      "Dataset Name:  reddit , AUC Score (joint-type):  45.31916949604444\n",
      "Dataset Name:  reddit , AUC Score (structure type):  45.31916949604444\n",
      "===========================================================================================\n",
      "Dataset Name:  reddit  Best AUC Score(benchmark/combined):  57.47039258008104\n",
      "Dataset Name:  reddit  Best AUC Score (contextual):  57.27551031249383\n",
      "Dataset Name:  reddit  Best AUC Score (structural):  52.04455696991519\n",
      "Dataset Name:  reddit  Best AUC Score (joint-type):  52.4006581054274\n",
      "Dataset Name:  reddit  Best AUC Score (structure type):  51.858508239115544\n",
      "===========================================================================================\n"
     ]
    },
    {
     "name": "stderr",
     "output_type": "stream",
     "text": [
      " 10%|▉         | 49/500 [00:26<04:03,  1.85it/s]"
     ]
    },
    {
     "name": "stdout",
     "output_type": "stream",
     "text": [
      "Dataset Name:  reddit , AUC Score(benchmark/combined):  50.398513916465184\n",
      "Dataset Name:  reddit , AUC Score (contextual):  51.77475471558745\n",
      "Dataset Name:  reddit , AUC Score (structural):  44.276710542980155\n",
      "Dataset Name:  reddit , AUC Score (joint-type):  46.00312761973568\n",
      "Dataset Name:  reddit , AUC Score (structure type):  46.00312761973568\n",
      "===========================================================================================\n",
      "Dataset Name:  reddit  Best AUC Score(benchmark/combined):  57.47039258008104\n",
      "Dataset Name:  reddit  Best AUC Score (contextual):  57.27551031249383\n",
      "Dataset Name:  reddit  Best AUC Score (structural):  52.04455696991519\n",
      "Dataset Name:  reddit  Best AUC Score (joint-type):  52.4006581054274\n",
      "Dataset Name:  reddit  Best AUC Score (structure type):  51.858508239115544\n",
      "===========================================================================================\n"
     ]
    },
    {
     "name": "stderr",
     "output_type": "stream",
     "text": [
      " 10%|█         | 50/500 [00:27<04:02,  1.85it/s]"
     ]
    },
    {
     "name": "stdout",
     "output_type": "stream",
     "text": [
      "Dataset Name:  reddit , AUC Score(benchmark/combined):  52.70372920713048\n",
      "Dataset Name:  reddit , AUC Score (contextual):  52.67383155678259\n",
      "Dataset Name:  reddit , AUC Score (structural):  47.60310303739201\n",
      "Dataset Name:  reddit , AUC Score (joint-type):  45.427563628747194\n",
      "Dataset Name:  reddit , AUC Score (structure type):  45.427563628747194\n",
      "===========================================================================================\n",
      "Dataset Name:  reddit  Best AUC Score(benchmark/combined):  57.47039258008104\n",
      "Dataset Name:  reddit  Best AUC Score (contextual):  57.27551031249383\n",
      "Dataset Name:  reddit  Best AUC Score (structural):  52.04455696991519\n",
      "Dataset Name:  reddit  Best AUC Score (joint-type):  52.4006581054274\n",
      "Dataset Name:  reddit  Best AUC Score (structure type):  51.858508239115544\n",
      "===========================================================================================\n"
     ]
    },
    {
     "name": "stderr",
     "output_type": "stream",
     "text": [
      " 10%|█         | 51/500 [00:27<04:03,  1.85it/s]"
     ]
    },
    {
     "name": "stdout",
     "output_type": "stream",
     "text": [
      "Dataset Name:  reddit , AUC Score(benchmark/combined):  52.712014961705414\n",
      "Dataset Name:  reddit , AUC Score (contextual):  51.61220146080382\n",
      "Dataset Name:  reddit , AUC Score (structural):  49.105037918497615\n",
      "Dataset Name:  reddit , AUC Score (joint-type):  47.27790333115281\n",
      "Dataset Name:  reddit , AUC Score (structure type):  47.27790333115281\n",
      "===========================================================================================\n",
      "Dataset Name:  reddit  Best AUC Score(benchmark/combined):  57.47039258008104\n",
      "Dataset Name:  reddit  Best AUC Score (contextual):  57.27551031249383\n",
      "Dataset Name:  reddit  Best AUC Score (structural):  52.04455696991519\n",
      "Dataset Name:  reddit  Best AUC Score (joint-type):  52.4006581054274\n",
      "Dataset Name:  reddit  Best AUC Score (structure type):  51.858508239115544\n",
      "===========================================================================================\n"
     ]
    },
    {
     "name": "stderr",
     "output_type": "stream",
     "text": [
      " 10%|█         | 52/500 [00:28<04:01,  1.85it/s]"
     ]
    },
    {
     "name": "stdout",
     "output_type": "stream",
     "text": [
      "Dataset Name:  reddit , AUC Score(benchmark/combined):  51.98967471465611\n",
      "Dataset Name:  reddit , AUC Score (contextual):  49.06371247754331\n",
      "Dataset Name:  reddit , AUC Score (structural):  47.17600356209092\n",
      "Dataset Name:  reddit , AUC Score (joint-type):  46.46898207664439\n",
      "Dataset Name:  reddit , AUC Score (structure type):  46.46898207664439\n",
      "===========================================================================================\n",
      "Dataset Name:  reddit  Best AUC Score(benchmark/combined):  57.47039258008104\n",
      "Dataset Name:  reddit  Best AUC Score (contextual):  57.27551031249383\n",
      "Dataset Name:  reddit  Best AUC Score (structural):  52.04455696991519\n",
      "Dataset Name:  reddit  Best AUC Score (joint-type):  52.4006581054274\n",
      "Dataset Name:  reddit  Best AUC Score (structure type):  51.858508239115544\n",
      "===========================================================================================\n"
     ]
    },
    {
     "name": "stderr",
     "output_type": "stream",
     "text": [
      " 11%|█         | 53/500 [00:28<04:00,  1.86it/s]"
     ]
    },
    {
     "name": "stdout",
     "output_type": "stream",
     "text": [
      "Dataset Name:  reddit , AUC Score(benchmark/combined):  49.229939467673724\n",
      "Dataset Name:  reddit , AUC Score (contextual):  46.823128601227474\n",
      "Dataset Name:  reddit , AUC Score (structural):  41.019708202954305\n",
      "Dataset Name:  reddit , AUC Score (joint-type):  47.41682995351068\n",
      "Dataset Name:  reddit , AUC Score (structure type):  47.41682995351068\n",
      "===========================================================================================\n",
      "Dataset Name:  reddit  Best AUC Score(benchmark/combined):  57.47039258008104\n",
      "Dataset Name:  reddit  Best AUC Score (contextual):  57.27551031249383\n",
      "Dataset Name:  reddit  Best AUC Score (structural):  52.04455696991519\n",
      "Dataset Name:  reddit  Best AUC Score (joint-type):  52.4006581054274\n",
      "Dataset Name:  reddit  Best AUC Score (structure type):  51.858508239115544\n",
      "===========================================================================================\n"
     ]
    },
    {
     "name": "stderr",
     "output_type": "stream",
     "text": [
      " 11%|█         | 54/500 [00:29<03:59,  1.86it/s]"
     ]
    },
    {
     "name": "stdout",
     "output_type": "stream",
     "text": [
      "Dataset Name:  reddit , AUC Score(benchmark/combined):  50.10617088005006\n",
      "Dataset Name:  reddit , AUC Score (contextual):  49.84956361559316\n",
      "Dataset Name:  reddit , AUC Score (structural):  45.55110625733123\n",
      "Dataset Name:  reddit , AUC Score (joint-type):  50.10960834935846\n",
      "Dataset Name:  reddit , AUC Score (structure type):  50.10960834935846\n",
      "===========================================================================================\n",
      "Dataset Name:  reddit  Best AUC Score(benchmark/combined):  57.47039258008104\n",
      "Dataset Name:  reddit  Best AUC Score (contextual):  57.27551031249383\n",
      "Dataset Name:  reddit  Best AUC Score (structural):  52.04455696991519\n",
      "Dataset Name:  reddit  Best AUC Score (joint-type):  52.4006581054274\n",
      "Dataset Name:  reddit  Best AUC Score (structure type):  51.858508239115544\n",
      "===========================================================================================\n"
     ]
    },
    {
     "name": "stderr",
     "output_type": "stream",
     "text": [
      " 11%|█         | 55/500 [00:30<04:20,  1.71it/s]"
     ]
    },
    {
     "name": "stdout",
     "output_type": "stream",
     "text": [
      "Dataset Name:  reddit , AUC Score(benchmark/combined):  53.324980675150044\n",
      "Dataset Name:  reddit , AUC Score (contextual):  53.289540585950604\n",
      "Dataset Name:  reddit , AUC Score (structural):  47.39082808004493\n",
      "Dataset Name:  reddit , AUC Score (joint-type):  50.36843886646803\n",
      "Dataset Name:  reddit , AUC Score (structure type):  50.36843886646803\n",
      "===========================================================================================\n",
      "Dataset Name:  reddit  Best AUC Score(benchmark/combined):  57.47039258008104\n",
      "Dataset Name:  reddit  Best AUC Score (contextual):  57.27551031249383\n",
      "Dataset Name:  reddit  Best AUC Score (structural):  52.04455696991519\n",
      "Dataset Name:  reddit  Best AUC Score (joint-type):  52.4006581054274\n",
      "Dataset Name:  reddit  Best AUC Score (structure type):  51.858508239115544\n",
      "===========================================================================================\n"
     ]
    },
    {
     "name": "stderr",
     "output_type": "stream",
     "text": [
      " 11%|█         | 56/500 [00:30<04:13,  1.75it/s]"
     ]
    },
    {
     "name": "stdout",
     "output_type": "stream",
     "text": [
      "Dataset Name:  reddit , AUC Score(benchmark/combined):  51.4439342615437\n",
      "Dataset Name:  reddit , AUC Score (contextual):  53.945192283855526\n",
      "Dataset Name:  reddit , AUC Score (structural):  47.50748622607341\n",
      "Dataset Name:  reddit , AUC Score (joint-type):  48.73476094856628\n",
      "Dataset Name:  reddit , AUC Score (structure type):  48.73476094856628\n",
      "===========================================================================================\n",
      "Dataset Name:  reddit  Best AUC Score(benchmark/combined):  57.47039258008104\n",
      "Dataset Name:  reddit  Best AUC Score (contextual):  57.27551031249383\n",
      "Dataset Name:  reddit  Best AUC Score (structural):  52.04455696991519\n",
      "Dataset Name:  reddit  Best AUC Score (joint-type):  52.4006581054274\n",
      "Dataset Name:  reddit  Best AUC Score (structure type):  51.858508239115544\n",
      "===========================================================================================\n"
     ]
    },
    {
     "name": "stderr",
     "output_type": "stream",
     "text": [
      " 11%|█▏        | 57/500 [00:31<04:08,  1.79it/s]"
     ]
    },
    {
     "name": "stdout",
     "output_type": "stream",
     "text": [
      "Dataset Name:  reddit , AUC Score(benchmark/combined):  51.58188435556901\n",
      "Dataset Name:  reddit , AUC Score (contextual):  54.71943247513512\n",
      "Dataset Name:  reddit , AUC Score (structural):  47.39688038549091\n",
      "Dataset Name:  reddit , AUC Score (joint-type):  47.058180708829326\n",
      "Dataset Name:  reddit , AUC Score (structure type):  47.058180708829326\n",
      "===========================================================================================\n",
      "Dataset Name:  reddit  Best AUC Score(benchmark/combined):  57.47039258008104\n",
      "Dataset Name:  reddit  Best AUC Score (contextual):  57.27551031249383\n",
      "Dataset Name:  reddit  Best AUC Score (structural):  52.04455696991519\n",
      "Dataset Name:  reddit  Best AUC Score (joint-type):  52.4006581054274\n",
      "Dataset Name:  reddit  Best AUC Score (structure type):  51.858508239115544\n",
      "===========================================================================================\n"
     ]
    },
    {
     "name": "stderr",
     "output_type": "stream",
     "text": [
      " 12%|█▏        | 58/500 [00:31<04:05,  1.80it/s]"
     ]
    },
    {
     "name": "stdout",
     "output_type": "stream",
     "text": [
      "Dataset Name:  reddit , AUC Score(benchmark/combined):  52.404489952621944\n",
      "Dataset Name:  reddit , AUC Score (contextual):  57.25618403072373\n",
      "Dataset Name:  reddit , AUC Score (structural):  47.800708903834824\n",
      "Dataset Name:  reddit , AUC Score (joint-type):  48.22620653926498\n",
      "Dataset Name:  reddit , AUC Score (structure type):  48.22620653926498\n",
      "===========================================================================================\n",
      "Dataset Name:  reddit  Best AUC Score(benchmark/combined):  57.47039258008104\n",
      "Dataset Name:  reddit  Best AUC Score (contextual):  57.27551031249383\n",
      "Dataset Name:  reddit  Best AUC Score (structural):  52.04455696991519\n",
      "Dataset Name:  reddit  Best AUC Score (joint-type):  52.4006581054274\n",
      "Dataset Name:  reddit  Best AUC Score (structure type):  51.858508239115544\n",
      "===========================================================================================\n"
     ]
    },
    {
     "name": "stderr",
     "output_type": "stream",
     "text": [
      " 12%|█▏        | 59/500 [00:32<04:02,  1.82it/s]"
     ]
    },
    {
     "name": "stdout",
     "output_type": "stream",
     "text": [
      "Dataset Name:  reddit , AUC Score(benchmark/combined):  51.44115518858069\n",
      "Dataset Name:  reddit , AUC Score (contextual):  54.25448868071818\n",
      "Dataset Name:  reddit , AUC Score (structural):  44.98226248472419\n",
      "Dataset Name:  reddit , AUC Score (joint-type):  46.29858700595928\n",
      "Dataset Name:  reddit , AUC Score (structure type):  46.29858700595928\n",
      "===========================================================================================\n",
      "Dataset Name:  reddit  Best AUC Score(benchmark/combined):  57.47039258008104\n",
      "Dataset Name:  reddit  Best AUC Score (contextual):  57.27551031249383\n",
      "Dataset Name:  reddit  Best AUC Score (structural):  52.04455696991519\n",
      "Dataset Name:  reddit  Best AUC Score (joint-type):  52.4006581054274\n",
      "Dataset Name:  reddit  Best AUC Score (structure type):  51.858508239115544\n",
      "===========================================================================================\n"
     ]
    },
    {
     "name": "stderr",
     "output_type": "stream",
     "text": [
      " 12%|█▏        | 60/500 [00:32<04:00,  1.83it/s]"
     ]
    },
    {
     "name": "stdout",
     "output_type": "stream",
     "text": [
      "Dataset Name:  reddit , AUC Score(benchmark/combined):  50.53952613718123\n",
      "Dataset Name:  reddit , AUC Score (contextual):  51.76701408440728\n",
      "Dataset Name:  reddit , AUC Score (structural):  43.60154942997925\n",
      "Dataset Name:  reddit , AUC Score (joint-type):  49.64800365074474\n",
      "Dataset Name:  reddit , AUC Score (structure type):  49.64800365074474\n",
      "===========================================================================================\n",
      "Dataset Name:  reddit  Best AUC Score(benchmark/combined):  57.47039258008104\n",
      "Dataset Name:  reddit  Best AUC Score (contextual):  57.27551031249383\n",
      "Dataset Name:  reddit  Best AUC Score (structural):  52.04455696991519\n",
      "Dataset Name:  reddit  Best AUC Score (joint-type):  52.4006581054274\n",
      "Dataset Name:  reddit  Best AUC Score (structure type):  51.858508239115544\n",
      "===========================================================================================\n"
     ]
    },
    {
     "name": "stderr",
     "output_type": "stream",
     "text": [
      " 12%|█▏        | 61/500 [00:33<03:59,  1.83it/s]"
     ]
    },
    {
     "name": "stdout",
     "output_type": "stream",
     "text": [
      "Dataset Name:  reddit , AUC Score(benchmark/combined):  53.584669604249726\n",
      "Dataset Name:  reddit , AUC Score (contextual):  51.05588786304446\n",
      "Dataset Name:  reddit , AUC Score (structural):  50.38570641395182\n",
      "Dataset Name:  reddit , AUC Score (joint-type):  47.76849745242168\n",
      "Dataset Name:  reddit , AUC Score (structure type):  47.76849745242168\n",
      "===========================================================================================\n",
      "Dataset Name:  reddit  Best AUC Score(benchmark/combined):  57.47039258008104\n",
      "Dataset Name:  reddit  Best AUC Score (contextual):  57.27551031249383\n",
      "Dataset Name:  reddit  Best AUC Score (structural):  52.04455696991519\n",
      "Dataset Name:  reddit  Best AUC Score (joint-type):  52.4006581054274\n",
      "Dataset Name:  reddit  Best AUC Score (structure type):  51.858508239115544\n",
      "===========================================================================================\n"
     ]
    },
    {
     "name": "stderr",
     "output_type": "stream",
     "text": [
      " 12%|█▏        | 62/500 [00:33<03:57,  1.85it/s]"
     ]
    },
    {
     "name": "stdout",
     "output_type": "stream",
     "text": [
      "Dataset Name:  reddit , AUC Score(benchmark/combined):  51.3075280969423\n",
      "Dataset Name:  reddit , AUC Score (contextual):  52.61635863507882\n",
      "Dataset Name:  reddit , AUC Score (structural):  47.72364520195239\n",
      "Dataset Name:  reddit , AUC Score (joint-type):  48.72616024725498\n",
      "Dataset Name:  reddit , AUC Score (structure type):  48.72616024725498\n",
      "===========================================================================================\n",
      "Dataset Name:  reddit  Best AUC Score(benchmark/combined):  57.47039258008104\n",
      "Dataset Name:  reddit  Best AUC Score (contextual):  57.27551031249383\n",
      "Dataset Name:  reddit  Best AUC Score (structural):  52.04455696991519\n",
      "Dataset Name:  reddit  Best AUC Score (joint-type):  52.4006581054274\n",
      "Dataset Name:  reddit  Best AUC Score (structure type):  51.858508239115544\n",
      "===========================================================================================\n"
     ]
    },
    {
     "name": "stderr",
     "output_type": "stream",
     "text": [
      " 13%|█▎        | 63/500 [00:34<03:56,  1.85it/s]"
     ]
    },
    {
     "name": "stdout",
     "output_type": "stream",
     "text": [
      "Dataset Name:  reddit , AUC Score(benchmark/combined):  51.04170204838263\n",
      "Dataset Name:  reddit , AUC Score (contextual):  48.88016339308797\n",
      "Dataset Name:  reddit , AUC Score (structural):  45.928804266021615\n",
      "Dataset Name:  reddit , AUC Score (joint-type):  47.972232888778265\n",
      "Dataset Name:  reddit , AUC Score (structure type):  47.972232888778265\n",
      "===========================================================================================\n",
      "Dataset Name:  reddit  Best AUC Score(benchmark/combined):  57.47039258008104\n",
      "Dataset Name:  reddit  Best AUC Score (contextual):  57.27551031249383\n",
      "Dataset Name:  reddit  Best AUC Score (structural):  52.04455696991519\n",
      "Dataset Name:  reddit  Best AUC Score (joint-type):  52.4006581054274\n",
      "Dataset Name:  reddit  Best AUC Score (structure type):  51.858508239115544\n",
      "===========================================================================================\n"
     ]
    },
    {
     "name": "stderr",
     "output_type": "stream",
     "text": [
      " 13%|█▎        | 64/500 [00:34<03:55,  1.85it/s]"
     ]
    },
    {
     "name": "stdout",
     "output_type": "stream",
     "text": [
      "Dataset Name:  reddit , AUC Score(benchmark/combined):  49.04266082855487\n",
      "Dataset Name:  reddit , AUC Score (contextual):  51.60491616086954\n",
      "Dataset Name:  reddit , AUC Score (structural):  48.95285998370138\n",
      "Dataset Name:  reddit , AUC Score (joint-type):  47.48712803864042\n",
      "Dataset Name:  reddit , AUC Score (structure type):  47.48712803864042\n",
      "===========================================================================================\n",
      "Dataset Name:  reddit  Best AUC Score(benchmark/combined):  57.47039258008104\n",
      "Dataset Name:  reddit  Best AUC Score (contextual):  57.27551031249383\n",
      "Dataset Name:  reddit  Best AUC Score (structural):  52.04455696991519\n",
      "Dataset Name:  reddit  Best AUC Score (joint-type):  52.4006581054274\n",
      "Dataset Name:  reddit  Best AUC Score (structure type):  51.858508239115544\n",
      "===========================================================================================\n"
     ]
    },
    {
     "name": "stderr",
     "output_type": "stream",
     "text": [
      " 13%|█▎        | 65/500 [00:35<03:54,  1.86it/s]"
     ]
    },
    {
     "name": "stdout",
     "output_type": "stream",
     "text": [
      "Dataset Name:  reddit , AUC Score(benchmark/combined):  49.49626729329616\n",
      "Dataset Name:  reddit , AUC Score (contextual):  50.303933606633265\n",
      "Dataset Name:  reddit , AUC Score (structural):  46.01053442636213\n",
      "Dataset Name:  reddit , AUC Score (joint-type):  50.03144315214691\n",
      "Dataset Name:  reddit , AUC Score (structure type):  50.03144315214691\n",
      "===========================================================================================\n",
      "Dataset Name:  reddit  Best AUC Score(benchmark/combined):  57.47039258008104\n",
      "Dataset Name:  reddit  Best AUC Score (contextual):  57.27551031249383\n",
      "Dataset Name:  reddit  Best AUC Score (structural):  52.04455696991519\n",
      "Dataset Name:  reddit  Best AUC Score (joint-type):  52.4006581054274\n",
      "Dataset Name:  reddit  Best AUC Score (structure type):  51.858508239115544\n",
      "===========================================================================================\n"
     ]
    },
    {
     "name": "stderr",
     "output_type": "stream",
     "text": [
      " 13%|█▎        | 66/500 [00:36<03:53,  1.86it/s]"
     ]
    },
    {
     "name": "stdout",
     "output_type": "stream",
     "text": [
      "Dataset Name:  reddit , AUC Score(benchmark/combined):  47.640258268514025\n",
      "Dataset Name:  reddit , AUC Score (contextual):  49.41522819937235\n",
      "Dataset Name:  reddit , AUC Score (structural):  48.47048079607295\n",
      "Dataset Name:  reddit , AUC Score (joint-type):  49.975083262377545\n",
      "Dataset Name:  reddit , AUC Score (structure type):  49.975083262377545\n",
      "===========================================================================================\n",
      "Dataset Name:  reddit  Best AUC Score(benchmark/combined):  57.47039258008104\n",
      "Dataset Name:  reddit  Best AUC Score (contextual):  57.27551031249383\n",
      "Dataset Name:  reddit  Best AUC Score (structural):  52.04455696991519\n",
      "Dataset Name:  reddit  Best AUC Score (joint-type):  52.4006581054274\n",
      "Dataset Name:  reddit  Best AUC Score (structure type):  51.858508239115544\n",
      "===========================================================================================\n"
     ]
    },
    {
     "name": "stderr",
     "output_type": "stream",
     "text": [
      " 13%|█▎        | 67/500 [00:36<03:52,  1.86it/s]"
     ]
    },
    {
     "name": "stdout",
     "output_type": "stream",
     "text": [
      "Dataset Name:  reddit , AUC Score(benchmark/combined):  46.876836632710514\n",
      "Dataset Name:  reddit , AUC Score (contextual):  50.32988748764914\n",
      "Dataset Name:  reddit , AUC Score (structural):  49.567363767594124\n",
      "Dataset Name:  reddit , AUC Score (joint-type):  49.06502787892034\n",
      "Dataset Name:  reddit , AUC Score (structure type):  49.06502787892034\n",
      "===========================================================================================\n",
      "Dataset Name:  reddit  Best AUC Score(benchmark/combined):  57.47039258008104\n",
      "Dataset Name:  reddit  Best AUC Score (contextual):  57.27551031249383\n",
      "Dataset Name:  reddit  Best AUC Score (structural):  52.04455696991519\n",
      "Dataset Name:  reddit  Best AUC Score (joint-type):  52.4006581054274\n",
      "Dataset Name:  reddit  Best AUC Score (structure type):  51.858508239115544\n",
      "===========================================================================================\n"
     ]
    },
    {
     "name": "stderr",
     "output_type": "stream",
     "text": [
      " 14%|█▎        | 68/500 [00:37<03:53,  1.85it/s]"
     ]
    },
    {
     "name": "stdout",
     "output_type": "stream",
     "text": [
      "Dataset Name:  reddit , AUC Score(benchmark/combined):  47.47629296369604\n",
      "Dataset Name:  reddit , AUC Score (contextual):  49.22090294209755\n",
      "Dataset Name:  reddit , AUC Score (structural):  50.12840469119152\n",
      "Dataset Name:  reddit , AUC Score (joint-type):  49.78637375713542\n",
      "Dataset Name:  reddit , AUC Score (structure type):  49.78637375713542\n",
      "===========================================================================================\n",
      "Dataset Name:  reddit  Best AUC Score(benchmark/combined):  57.47039258008104\n",
      "Dataset Name:  reddit  Best AUC Score (contextual):  57.27551031249383\n",
      "Dataset Name:  reddit  Best AUC Score (structural):  52.04455696991519\n",
      "Dataset Name:  reddit  Best AUC Score (joint-type):  52.4006581054274\n",
      "Dataset Name:  reddit  Best AUC Score (structure type):  51.858508239115544\n",
      "===========================================================================================\n"
     ]
    },
    {
     "name": "stderr",
     "output_type": "stream",
     "text": [
      " 14%|█▍        | 69/500 [00:37<03:53,  1.84it/s]"
     ]
    },
    {
     "name": "stdout",
     "output_type": "stream",
     "text": [
      "Dataset Name:  reddit , AUC Score(benchmark/combined):  48.503289084316044\n",
      "Dataset Name:  reddit , AUC Score (contextual):  57.57127325288136\n",
      "Dataset Name:  reddit , AUC Score (structural):  49.66853059771117\n",
      "Dataset Name:  reddit , AUC Score (joint-type):  47.89872218874694\n",
      "Dataset Name:  reddit , AUC Score (structure type):  47.89872218874694\n",
      "===========================================================================================\n",
      "Dataset Name:  reddit  Best AUC Score(benchmark/combined):  57.47039258008104\n",
      "Dataset Name:  reddit  Best AUC Score (contextual):  57.57127325288136\n",
      "Dataset Name:  reddit  Best AUC Score (structural):  52.04455696991519\n",
      "Dataset Name:  reddit  Best AUC Score (joint-type):  52.4006581054274\n",
      "Dataset Name:  reddit  Best AUC Score (structure type):  51.858508239115544\n",
      "===========================================================================================\n"
     ]
    },
    {
     "name": "stderr",
     "output_type": "stream",
     "text": [
      " 14%|█▍        | 70/500 [00:38<03:51,  1.85it/s]"
     ]
    },
    {
     "name": "stdout",
     "output_type": "stream",
     "text": [
      "Dataset Name:  reddit , AUC Score(benchmark/combined):  45.08996991396196\n",
      "Dataset Name:  reddit , AUC Score (contextual):  51.81115591907853\n",
      "Dataset Name:  reddit , AUC Score (structural):  44.61475277219129\n",
      "Dataset Name:  reddit , AUC Score (joint-type):  48.60514332056888\n",
      "Dataset Name:  reddit , AUC Score (structure type):  48.60514332056888\n",
      "===========================================================================================\n",
      "Dataset Name:  reddit  Best AUC Score(benchmark/combined):  57.47039258008104\n",
      "Dataset Name:  reddit  Best AUC Score (contextual):  57.57127325288136\n",
      "Dataset Name:  reddit  Best AUC Score (structural):  52.04455696991519\n",
      "Dataset Name:  reddit  Best AUC Score (joint-type):  52.4006581054274\n",
      "Dataset Name:  reddit  Best AUC Score (structure type):  51.858508239115544\n",
      "===========================================================================================\n"
     ]
    },
    {
     "name": "stderr",
     "output_type": "stream",
     "text": [
      " 14%|█▍        | 71/500 [00:38<03:51,  1.85it/s]"
     ]
    },
    {
     "name": "stdout",
     "output_type": "stream",
     "text": [
      "Dataset Name:  reddit , AUC Score(benchmark/combined):  48.0237960695674\n",
      "Dataset Name:  reddit , AUC Score (contextual):  51.62404007319703\n",
      "Dataset Name:  reddit , AUC Score (structural):  42.74407484104203\n",
      "Dataset Name:  reddit , AUC Score (joint-type):  49.061941744920404\n",
      "Dataset Name:  reddit , AUC Score (structure type):  49.061941744920404\n",
      "===========================================================================================\n",
      "Dataset Name:  reddit  Best AUC Score(benchmark/combined):  57.47039258008104\n",
      "Dataset Name:  reddit  Best AUC Score (contextual):  57.57127325288136\n",
      "Dataset Name:  reddit  Best AUC Score (structural):  52.04455696991519\n",
      "Dataset Name:  reddit  Best AUC Score (joint-type):  52.4006581054274\n",
      "Dataset Name:  reddit  Best AUC Score (structure type):  51.858508239115544\n",
      "===========================================================================================\n"
     ]
    },
    {
     "name": "stderr",
     "output_type": "stream",
     "text": [
      " 14%|█▍        | 72/500 [00:39<03:49,  1.86it/s]"
     ]
    },
    {
     "name": "stdout",
     "output_type": "stream",
     "text": [
      "Dataset Name:  reddit , AUC Score(benchmark/combined):  53.3589857207114\n",
      "Dataset Name:  reddit , AUC Score (contextual):  54.273637889226\n",
      "Dataset Name:  reddit , AUC Score (structural):  49.98144191742872\n",
      "Dataset Name:  reddit , AUC Score (joint-type):  50.72582330213302\n",
      "Dataset Name:  reddit , AUC Score (structure type):  50.72582330213302\n",
      "===========================================================================================\n",
      "Dataset Name:  reddit  Best AUC Score(benchmark/combined):  57.47039258008104\n",
      "Dataset Name:  reddit  Best AUC Score (contextual):  57.57127325288136\n",
      "Dataset Name:  reddit  Best AUC Score (structural):  52.04455696991519\n",
      "Dataset Name:  reddit  Best AUC Score (joint-type):  52.4006581054274\n",
      "Dataset Name:  reddit  Best AUC Score (structure type):  51.858508239115544\n",
      "===========================================================================================\n"
     ]
    },
    {
     "name": "stderr",
     "output_type": "stream",
     "text": [
      " 15%|█▍        | 73/500 [00:39<03:49,  1.86it/s]"
     ]
    },
    {
     "name": "stdout",
     "output_type": "stream",
     "text": [
      "Dataset Name:  reddit , AUC Score(benchmark/combined):  52.877125347512774\n",
      "Dataset Name:  reddit , AUC Score (contextual):  60.030947347012486\n",
      "Dataset Name:  reddit , AUC Score (structural):  53.32854088878545\n",
      "Dataset Name:  reddit , AUC Score (joint-type):  49.64431040841695\n",
      "Dataset Name:  reddit , AUC Score (structure type):  49.64431040841695\n",
      "===========================================================================================\n",
      "Dataset Name:  reddit  Best AUC Score(benchmark/combined):  57.47039258008104\n",
      "Dataset Name:  reddit  Best AUC Score (contextual):  60.030947347012486\n",
      "Dataset Name:  reddit  Best AUC Score (structural):  53.32854088878545\n",
      "Dataset Name:  reddit  Best AUC Score (joint-type):  52.4006581054274\n",
      "Dataset Name:  reddit  Best AUC Score (structure type):  53.271227919239315\n",
      "===========================================================================================\n"
     ]
    },
    {
     "name": "stderr",
     "output_type": "stream",
     "text": [
      " 15%|█▍        | 74/500 [00:40<03:48,  1.87it/s]"
     ]
    },
    {
     "name": "stdout",
     "output_type": "stream",
     "text": [
      "Dataset Name:  reddit , AUC Score(benchmark/combined):  49.54387178386636\n",
      "Dataset Name:  reddit , AUC Score (contextual):  54.26157161120986\n",
      "Dataset Name:  reddit , AUC Score (structural):  44.6752360415701\n",
      "Dataset Name:  reddit , AUC Score (joint-type):  52.498883173638546\n",
      "Dataset Name:  reddit , AUC Score (structure type):  52.498883173638546\n",
      "===========================================================================================\n",
      "Dataset Name:  reddit  Best AUC Score(benchmark/combined):  57.47039258008104\n",
      "Dataset Name:  reddit  Best AUC Score (contextual):  60.030947347012486\n",
      "Dataset Name:  reddit  Best AUC Score (structural):  53.32854088878545\n",
      "Dataset Name:  reddit  Best AUC Score (joint-type):  52.498883173638546\n",
      "Dataset Name:  reddit  Best AUC Score (structure type):  53.271227919239315\n",
      "===========================================================================================\n"
     ]
    },
    {
     "name": "stderr",
     "output_type": "stream",
     "text": [
      " 15%|█▌        | 75/500 [00:41<04:10,  1.69it/s]"
     ]
    },
    {
     "name": "stdout",
     "output_type": "stream",
     "text": [
      "Dataset Name:  reddit , AUC Score(benchmark/combined):  49.920050187999145\n",
      "Dataset Name:  reddit , AUC Score (contextual):  55.48550200016897\n",
      "Dataset Name:  reddit , AUC Score (structural):  50.970898539423374\n",
      "Dataset Name:  reddit , AUC Score (joint-type):  52.98421568939933\n",
      "Dataset Name:  reddit , AUC Score (structure type):  52.98421568939933\n",
      "===========================================================================================\n",
      "Dataset Name:  reddit  Best AUC Score(benchmark/combined):  57.47039258008104\n",
      "Dataset Name:  reddit  Best AUC Score (contextual):  60.030947347012486\n",
      "Dataset Name:  reddit  Best AUC Score (structural):  53.32854088878545\n",
      "Dataset Name:  reddit  Best AUC Score (joint-type):  52.98421568939933\n",
      "Dataset Name:  reddit  Best AUC Score (structure type):  53.271227919239315\n",
      "===========================================================================================\n"
     ]
    },
    {
     "name": "stderr",
     "output_type": "stream",
     "text": [
      " 15%|█▌        | 76/500 [00:41<04:02,  1.75it/s]"
     ]
    },
    {
     "name": "stdout",
     "output_type": "stream",
     "text": [
      "Dataset Name:  reddit , AUC Score(benchmark/combined):  41.665071272928635\n",
      "Dataset Name:  reddit , AUC Score (contextual):  50.6019226108896\n",
      "Dataset Name:  reddit , AUC Score (structural):  47.644471233065644\n",
      "Dataset Name:  reddit , AUC Score (joint-type):  52.327577440461646\n",
      "Dataset Name:  reddit , AUC Score (structure type):  52.327577440461646\n",
      "===========================================================================================\n",
      "Dataset Name:  reddit  Best AUC Score(benchmark/combined):  57.47039258008104\n",
      "Dataset Name:  reddit  Best AUC Score (contextual):  60.030947347012486\n",
      "Dataset Name:  reddit  Best AUC Score (structural):  53.32854088878545\n",
      "Dataset Name:  reddit  Best AUC Score (joint-type):  52.98421568939933\n",
      "Dataset Name:  reddit  Best AUC Score (structure type):  53.271227919239315\n",
      "===========================================================================================\n"
     ]
    },
    {
     "name": "stderr",
     "output_type": "stream",
     "text": [
      " 15%|█▌        | 77/500 [00:42<03:58,  1.78it/s]"
     ]
    },
    {
     "name": "stdout",
     "output_type": "stream",
     "text": [
      "Dataset Name:  reddit , AUC Score(benchmark/combined):  41.06669569253984\n",
      "Dataset Name:  reddit , AUC Score (contextual):  47.94982047300822\n",
      "Dataset Name:  reddit , AUC Score (structural):  48.778244920937105\n",
      "Dataset Name:  reddit , AUC Score (joint-type):  48.79820376882732\n",
      "Dataset Name:  reddit , AUC Score (structure type):  48.79820376882732\n",
      "===========================================================================================\n",
      "Dataset Name:  reddit  Best AUC Score(benchmark/combined):  57.47039258008104\n",
      "Dataset Name:  reddit  Best AUC Score (contextual):  60.030947347012486\n",
      "Dataset Name:  reddit  Best AUC Score (structural):  53.32854088878545\n",
      "Dataset Name:  reddit  Best AUC Score (joint-type):  52.98421568939933\n",
      "Dataset Name:  reddit  Best AUC Score (structure type):  53.271227919239315\n",
      "===========================================================================================\n"
     ]
    },
    {
     "name": "stderr",
     "output_type": "stream",
     "text": [
      " 16%|█▌        | 78/500 [00:42<03:55,  1.79it/s]"
     ]
    },
    {
     "name": "stdout",
     "output_type": "stream",
     "text": [
      "Dataset Name:  reddit , AUC Score(benchmark/combined):  42.384182134266275\n",
      "Dataset Name:  reddit , AUC Score (contextual):  48.11065358752959\n",
      "Dataset Name:  reddit , AUC Score (structural):  41.35649885982589\n",
      "Dataset Name:  reddit , AUC Score (joint-type):  52.21713431715238\n",
      "Dataset Name:  reddit , AUC Score (structure type):  52.21713431715238\n",
      "===========================================================================================\n",
      "Dataset Name:  reddit  Best AUC Score(benchmark/combined):  57.47039258008104\n",
      "Dataset Name:  reddit  Best AUC Score (contextual):  60.030947347012486\n",
      "Dataset Name:  reddit  Best AUC Score (structural):  53.32854088878545\n",
      "Dataset Name:  reddit  Best AUC Score (joint-type):  52.98421568939933\n",
      "Dataset Name:  reddit  Best AUC Score (structure type):  53.271227919239315\n",
      "===========================================================================================\n"
     ]
    },
    {
     "name": "stderr",
     "output_type": "stream",
     "text": [
      " 16%|█▌        | 79/500 [00:43<03:52,  1.81it/s]"
     ]
    },
    {
     "name": "stdout",
     "output_type": "stream",
     "text": [
      "Dataset Name:  reddit , AUC Score(benchmark/combined):  43.35811854701831\n",
      "Dataset Name:  reddit , AUC Score (contextual):  44.87016229523375\n",
      "Dataset Name:  reddit , AUC Score (structural):  45.76907213897194\n",
      "Dataset Name:  reddit , AUC Score (joint-type):  50.137889478964446\n",
      "Dataset Name:  reddit , AUC Score (structure type):  50.137889478964446\n",
      "===========================================================================================\n",
      "Dataset Name:  reddit  Best AUC Score(benchmark/combined):  57.47039258008104\n",
      "Dataset Name:  reddit  Best AUC Score (contextual):  60.030947347012486\n",
      "Dataset Name:  reddit  Best AUC Score (structural):  53.32854088878545\n",
      "Dataset Name:  reddit  Best AUC Score (joint-type):  52.98421568939933\n",
      "Dataset Name:  reddit  Best AUC Score (structure type):  53.271227919239315\n",
      "===========================================================================================\n"
     ]
    },
    {
     "name": "stderr",
     "output_type": "stream",
     "text": [
      " 16%|█▌        | 80/500 [00:43<03:50,  1.82it/s]"
     ]
    },
    {
     "name": "stdout",
     "output_type": "stream",
     "text": [
      "Dataset Name:  reddit , AUC Score(benchmark/combined):  49.14057168618709\n",
      "Dataset Name:  reddit , AUC Score (contextual):  54.85421052391931\n",
      "Dataset Name:  reddit , AUC Score (structural):  47.62825549713779\n",
      "Dataset Name:  reddit , AUC Score (joint-type):  51.289675161629944\n",
      "Dataset Name:  reddit , AUC Score (structure type):  51.289675161629944\n",
      "===========================================================================================\n",
      "Dataset Name:  reddit  Best AUC Score(benchmark/combined):  57.47039258008104\n",
      "Dataset Name:  reddit  Best AUC Score (contextual):  60.030947347012486\n",
      "Dataset Name:  reddit  Best AUC Score (structural):  53.32854088878545\n",
      "Dataset Name:  reddit  Best AUC Score (joint-type):  52.98421568939933\n",
      "Dataset Name:  reddit  Best AUC Score (structure type):  53.271227919239315\n",
      "===========================================================================================\n"
     ]
    },
    {
     "name": "stderr",
     "output_type": "stream",
     "text": [
      " 16%|█▌        | 81/500 [00:44<03:48,  1.84it/s]"
     ]
    },
    {
     "name": "stdout",
     "output_type": "stream",
     "text": [
      "Dataset Name:  reddit , AUC Score(benchmark/combined):  45.53788957199188\n",
      "Dataset Name:  reddit , AUC Score (contextual):  47.08145319473051\n",
      "Dataset Name:  reddit , AUC Score (structural):  46.86265129105903\n",
      "Dataset Name:  reddit , AUC Score (joint-type):  47.473240435640705\n",
      "Dataset Name:  reddit , AUC Score (structure type):  47.473240435640705\n",
      "===========================================================================================\n",
      "Dataset Name:  reddit  Best AUC Score(benchmark/combined):  57.47039258008104\n",
      "Dataset Name:  reddit  Best AUC Score (contextual):  60.030947347012486\n",
      "Dataset Name:  reddit  Best AUC Score (structural):  53.32854088878545\n",
      "Dataset Name:  reddit  Best AUC Score (joint-type):  52.98421568939933\n",
      "Dataset Name:  reddit  Best AUC Score (structure type):  53.271227919239315\n",
      "===========================================================================================\n"
     ]
    },
    {
     "name": "stderr",
     "output_type": "stream",
     "text": [
      " 16%|█▋        | 82/500 [00:44<03:46,  1.85it/s]"
     ]
    },
    {
     "name": "stdout",
     "output_type": "stream",
     "text": [
      "Dataset Name:  reddit , AUC Score(benchmark/combined):  47.47150678248196\n",
      "Dataset Name:  reddit , AUC Score (contextual):  46.029992163243335\n",
      "Dataset Name:  reddit , AUC Score (structural):  47.899165375309245\n",
      "Dataset Name:  reddit , AUC Score (joint-type):  47.82688103661723\n",
      "Dataset Name:  reddit , AUC Score (structure type):  47.82688103661723\n",
      "===========================================================================================\n",
      "Dataset Name:  reddit  Best AUC Score(benchmark/combined):  57.47039258008104\n",
      "Dataset Name:  reddit  Best AUC Score (contextual):  60.030947347012486\n",
      "Dataset Name:  reddit  Best AUC Score (structural):  53.32854088878545\n",
      "Dataset Name:  reddit  Best AUC Score (joint-type):  52.98421568939933\n",
      "Dataset Name:  reddit  Best AUC Score (structure type):  53.271227919239315\n",
      "===========================================================================================\n"
     ]
    },
    {
     "name": "stderr",
     "output_type": "stream",
     "text": [
      " 17%|█▋        | 83/500 [00:45<03:46,  1.84it/s]"
     ]
    },
    {
     "name": "stdout",
     "output_type": "stream",
     "text": [
      "Dataset Name:  reddit , AUC Score(benchmark/combined):  50.84957289765703\n",
      "Dataset Name:  reddit , AUC Score (contextual):  51.17508346474698\n",
      "Dataset Name:  reddit , AUC Score (structural):  39.15187822051942\n",
      "Dataset Name:  reddit , AUC Score (joint-type):  53.616974344107994\n",
      "Dataset Name:  reddit , AUC Score (structure type):  53.616974344107994\n",
      "===========================================================================================\n",
      "Dataset Name:  reddit  Best AUC Score(benchmark/combined):  57.47039258008104\n",
      "Dataset Name:  reddit  Best AUC Score (contextual):  60.030947347012486\n",
      "Dataset Name:  reddit  Best AUC Score (structural):  53.32854088878545\n",
      "Dataset Name:  reddit  Best AUC Score (joint-type):  53.616974344107994\n",
      "Dataset Name:  reddit  Best AUC Score (structure type):  53.271227919239315\n",
      "===========================================================================================\n"
     ]
    },
    {
     "name": "stderr",
     "output_type": "stream",
     "text": [
      " 17%|█▋        | 84/500 [00:45<03:44,  1.85it/s]"
     ]
    },
    {
     "name": "stdout",
     "output_type": "stream",
     "text": [
      "Dataset Name:  reddit , AUC Score(benchmark/combined):  44.982383765273326\n",
      "Dataset Name:  reddit , AUC Score (contextual):  42.87904934930636\n",
      "Dataset Name:  reddit , AUC Score (structural):  49.282021851292654\n",
      "Dataset Name:  reddit , AUC Score (joint-type):  50.63374520574142\n",
      "Dataset Name:  reddit , AUC Score (structure type):  50.63374520574142\n",
      "===========================================================================================\n",
      "Dataset Name:  reddit  Best AUC Score(benchmark/combined):  57.47039258008104\n",
      "Dataset Name:  reddit  Best AUC Score (contextual):  60.030947347012486\n",
      "Dataset Name:  reddit  Best AUC Score (structural):  53.32854088878545\n",
      "Dataset Name:  reddit  Best AUC Score (joint-type):  53.616974344107994\n",
      "Dataset Name:  reddit  Best AUC Score (structure type):  53.271227919239315\n",
      "===========================================================================================\n"
     ]
    },
    {
     "name": "stderr",
     "output_type": "stream",
     "text": [
      " 17%|█▋        | 85/500 [00:46<03:43,  1.86it/s]"
     ]
    },
    {
     "name": "stdout",
     "output_type": "stream",
     "text": [
      "Dataset Name:  reddit , AUC Score(benchmark/combined):  46.059763449426534\n",
      "Dataset Name:  reddit , AUC Score (contextual):  41.93990335847268\n",
      "Dataset Name:  reddit , AUC Score (structural):  43.538810014965826\n",
      "Dataset Name:  reddit , AUC Score (joint-type):  47.567342226458486\n",
      "Dataset Name:  reddit , AUC Score (structure type):  47.567342226458486\n",
      "===========================================================================================\n",
      "Dataset Name:  reddit  Best AUC Score(benchmark/combined):  57.47039258008104\n",
      "Dataset Name:  reddit  Best AUC Score (contextual):  60.030947347012486\n",
      "Dataset Name:  reddit  Best AUC Score (structural):  53.32854088878545\n",
      "Dataset Name:  reddit  Best AUC Score (joint-type):  53.616974344107994\n",
      "Dataset Name:  reddit  Best AUC Score (structure type):  53.271227919239315\n",
      "===========================================================================================\n"
     ]
    },
    {
     "name": "stderr",
     "output_type": "stream",
     "text": [
      " 17%|█▋        | 86/500 [00:46<03:41,  1.87it/s]"
     ]
    },
    {
     "name": "stdout",
     "output_type": "stream",
     "text": [
      "Dataset Name:  reddit , AUC Score(benchmark/combined):  49.84359994935911\n",
      "Dataset Name:  reddit , AUC Score (contextual):  56.56013433283601\n",
      "Dataset Name:  reddit , AUC Score (structural):  50.45426771248383\n",
      "Dataset Name:  reddit , AUC Score (joint-type):  50.72329368410029\n",
      "Dataset Name:  reddit , AUC Score (structure type):  50.72329368410029\n",
      "===========================================================================================\n",
      "Dataset Name:  reddit  Best AUC Score(benchmark/combined):  57.47039258008104\n",
      "Dataset Name:  reddit  Best AUC Score (contextual):  60.030947347012486\n",
      "Dataset Name:  reddit  Best AUC Score (structural):  53.32854088878545\n",
      "Dataset Name:  reddit  Best AUC Score (joint-type):  53.616974344107994\n",
      "Dataset Name:  reddit  Best AUC Score (structure type):  53.271227919239315\n",
      "===========================================================================================\n"
     ]
    },
    {
     "name": "stderr",
     "output_type": "stream",
     "text": [
      " 17%|█▋        | 87/500 [00:47<03:41,  1.86it/s]"
     ]
    },
    {
     "name": "stdout",
     "output_type": "stream",
     "text": [
      "Dataset Name:  reddit , AUC Score(benchmark/combined):  45.13235077664797\n",
      "Dataset Name:  reddit , AUC Score (contextual):  42.63372699249159\n",
      "Dataset Name:  reddit , AUC Score (structural):  45.98900903983349\n",
      "Dataset Name:  reddit , AUC Score (joint-type):  49.183211633409776\n",
      "Dataset Name:  reddit , AUC Score (structure type):  49.183211633409776\n",
      "===========================================================================================\n",
      "Dataset Name:  reddit  Best AUC Score(benchmark/combined):  57.47039258008104\n",
      "Dataset Name:  reddit  Best AUC Score (contextual):  60.030947347012486\n",
      "Dataset Name:  reddit  Best AUC Score (structural):  53.32854088878545\n",
      "Dataset Name:  reddit  Best AUC Score (joint-type):  53.616974344107994\n",
      "Dataset Name:  reddit  Best AUC Score (structure type):  53.271227919239315\n",
      "===========================================================================================\n"
     ]
    },
    {
     "name": "stderr",
     "output_type": "stream",
     "text": [
      " 18%|█▊        | 88/500 [00:48<03:41,  1.86it/s]"
     ]
    },
    {
     "name": "stdout",
     "output_type": "stream",
     "text": [
      "Dataset Name:  reddit , AUC Score(benchmark/combined):  43.97713131737322\n",
      "Dataset Name:  reddit , AUC Score (contextual):  44.14825990105146\n",
      "Dataset Name:  reddit , AUC Score (structural):  49.21933382534217\n",
      "Dataset Name:  reddit , AUC Score (joint-type):  47.6766217254727\n",
      "Dataset Name:  reddit , AUC Score (structure type):  47.6766217254727\n",
      "===========================================================================================\n",
      "Dataset Name:  reddit  Best AUC Score(benchmark/combined):  57.47039258008104\n",
      "Dataset Name:  reddit  Best AUC Score (contextual):  60.030947347012486\n",
      "Dataset Name:  reddit  Best AUC Score (structural):  53.32854088878545\n",
      "Dataset Name:  reddit  Best AUC Score (joint-type):  53.616974344107994\n",
      "Dataset Name:  reddit  Best AUC Score (structure type):  53.271227919239315\n",
      "===========================================================================================\n"
     ]
    },
    {
     "name": "stderr",
     "output_type": "stream",
     "text": [
      " 18%|█▊        | 89/500 [00:48<03:41,  1.86it/s]"
     ]
    },
    {
     "name": "stdout",
     "output_type": "stream",
     "text": [
      "Dataset Name:  reddit , AUC Score(benchmark/combined):  51.51256192443597\n",
      "Dataset Name:  reddit , AUC Score (contextual):  47.73237450691421\n",
      "Dataset Name:  reddit , AUC Score (structural):  42.706597294747105\n",
      "Dataset Name:  reddit , AUC Score (joint-type):  50.53377470108769\n",
      "Dataset Name:  reddit , AUC Score (structure type):  50.53377470108769\n",
      "===========================================================================================\n",
      "Dataset Name:  reddit  Best AUC Score(benchmark/combined):  57.47039258008104\n",
      "Dataset Name:  reddit  Best AUC Score (contextual):  60.030947347012486\n",
      "Dataset Name:  reddit  Best AUC Score (structural):  53.32854088878545\n",
      "Dataset Name:  reddit  Best AUC Score (joint-type):  53.616974344107994\n",
      "Dataset Name:  reddit  Best AUC Score (structure type):  53.271227919239315\n",
      "===========================================================================================\n"
     ]
    },
    {
     "name": "stderr",
     "output_type": "stream",
     "text": [
      " 18%|█▊        | 90/500 [00:49<03:40,  1.86it/s]"
     ]
    },
    {
     "name": "stdout",
     "output_type": "stream",
     "text": [
      "Dataset Name:  reddit , AUC Score(benchmark/combined):  44.767700378880285\n",
      "Dataset Name:  reddit , AUC Score (contextual):  45.56843805699027\n",
      "Dataset Name:  reddit , AUC Score (structural):  48.32077450943337\n",
      "Dataset Name:  reddit , AUC Score (joint-type):  46.30192610176248\n",
      "Dataset Name:  reddit , AUC Score (structure type):  46.30192610176248\n",
      "===========================================================================================\n",
      "Dataset Name:  reddit  Best AUC Score(benchmark/combined):  57.47039258008104\n",
      "Dataset Name:  reddit  Best AUC Score (contextual):  60.030947347012486\n",
      "Dataset Name:  reddit  Best AUC Score (structural):  53.32854088878545\n",
      "Dataset Name:  reddit  Best AUC Score (joint-type):  53.616974344107994\n",
      "Dataset Name:  reddit  Best AUC Score (structure type):  53.271227919239315\n",
      "===========================================================================================\n"
     ]
    },
    {
     "name": "stderr",
     "output_type": "stream",
     "text": [
      " 18%|█▊        | 91/500 [00:49<03:39,  1.86it/s]"
     ]
    },
    {
     "name": "stdout",
     "output_type": "stream",
     "text": [
      "Dataset Name:  reddit , AUC Score(benchmark/combined):  45.80758831018983\n",
      "Dataset Name:  reddit , AUC Score (contextual):  47.65572708052229\n",
      "Dataset Name:  reddit , AUC Score (structural):  46.41244828768327\n",
      "Dataset Name:  reddit , AUC Score (joint-type):  48.50011357984967\n",
      "Dataset Name:  reddit , AUC Score (structure type):  48.50011357984967\n",
      "===========================================================================================\n",
      "Dataset Name:  reddit  Best AUC Score(benchmark/combined):  57.47039258008104\n",
      "Dataset Name:  reddit  Best AUC Score (contextual):  60.030947347012486\n",
      "Dataset Name:  reddit  Best AUC Score (structural):  53.32854088878545\n",
      "Dataset Name:  reddit  Best AUC Score (joint-type):  53.616974344107994\n",
      "Dataset Name:  reddit  Best AUC Score (structure type):  53.271227919239315\n",
      "===========================================================================================\n"
     ]
    },
    {
     "name": "stderr",
     "output_type": "stream",
     "text": [
      " 18%|█▊        | 92/500 [00:50<04:00,  1.69it/s]"
     ]
    },
    {
     "name": "stdout",
     "output_type": "stream",
     "text": [
      "Dataset Name:  reddit , AUC Score(benchmark/combined):  50.46786207975528\n",
      "Dataset Name:  reddit , AUC Score (contextual):  57.1563147107913\n",
      "Dataset Name:  reddit , AUC Score (structural):  47.82394504884613\n",
      "Dataset Name:  reddit , AUC Score (joint-type):  49.960209108345055\n",
      "Dataset Name:  reddit , AUC Score (structure type):  49.960209108345055\n",
      "===========================================================================================\n",
      "Dataset Name:  reddit  Best AUC Score(benchmark/combined):  57.47039258008104\n",
      "Dataset Name:  reddit  Best AUC Score (contextual):  60.030947347012486\n",
      "Dataset Name:  reddit  Best AUC Score (structural):  53.32854088878545\n",
      "Dataset Name:  reddit  Best AUC Score (joint-type):  53.616974344107994\n",
      "Dataset Name:  reddit  Best AUC Score (structure type):  53.271227919239315\n",
      "===========================================================================================\n"
     ]
    },
    {
     "name": "stderr",
     "output_type": "stream",
     "text": [
      " 19%|█▊        | 93/500 [00:50<03:53,  1.74it/s]"
     ]
    },
    {
     "name": "stdout",
     "output_type": "stream",
     "text": [
      "Dataset Name:  reddit , AUC Score(benchmark/combined):  43.842294814352776\n",
      "Dataset Name:  reddit , AUC Score (contextual):  48.50461629994795\n",
      "Dataset Name:  reddit , AUC Score (structural):  48.98837645704571\n",
      "Dataset Name:  reddit , AUC Score (joint-type):  47.696833373554256\n",
      "Dataset Name:  reddit , AUC Score (structure type):  47.696833373554256\n",
      "===========================================================================================\n",
      "Dataset Name:  reddit  Best AUC Score(benchmark/combined):  57.47039258008104\n",
      "Dataset Name:  reddit  Best AUC Score (contextual):  60.030947347012486\n",
      "Dataset Name:  reddit  Best AUC Score (structural):  53.32854088878545\n",
      "Dataset Name:  reddit  Best AUC Score (joint-type):  53.616974344107994\n",
      "Dataset Name:  reddit  Best AUC Score (structure type):  53.271227919239315\n",
      "===========================================================================================\n"
     ]
    },
    {
     "name": "stderr",
     "output_type": "stream",
     "text": [
      " 19%|█▉        | 94/500 [00:51<03:47,  1.78it/s]"
     ]
    },
    {
     "name": "stdout",
     "output_type": "stream",
     "text": [
      "Dataset Name:  reddit , AUC Score(benchmark/combined):  46.306200317637746\n",
      "Dataset Name:  reddit , AUC Score (contextual):  46.23524537041956\n",
      "Dataset Name:  reddit , AUC Score (structural):  53.28786727431747\n",
      "Dataset Name:  reddit , AUC Score (joint-type):  47.606298344162624\n",
      "Dataset Name:  reddit , AUC Score (structure type):  47.606298344162624\n",
      "===========================================================================================\n",
      "Dataset Name:  reddit  Best AUC Score(benchmark/combined):  57.47039258008104\n",
      "Dataset Name:  reddit  Best AUC Score (contextual):  60.030947347012486\n",
      "Dataset Name:  reddit  Best AUC Score (structural):  53.32854088878545\n",
      "Dataset Name:  reddit  Best AUC Score (joint-type):  53.616974344107994\n",
      "Dataset Name:  reddit  Best AUC Score (structure type):  53.271227919239315\n",
      "===========================================================================================\n"
     ]
    },
    {
     "name": "stderr",
     "output_type": "stream",
     "text": [
      " 19%|█▉        | 95/500 [00:51<03:43,  1.81it/s]"
     ]
    },
    {
     "name": "stdout",
     "output_type": "stream",
     "text": [
      "Dataset Name:  reddit , AUC Score(benchmark/combined):  50.234934594003164\n",
      "Dataset Name:  reddit , AUC Score (contextual):  51.31198639267869\n",
      "Dataset Name:  reddit , AUC Score (structural):  54.6650676379531\n",
      "Dataset Name:  reddit , AUC Score (joint-type):  51.1474600358295\n",
      "Dataset Name:  reddit , AUC Score (structure type):  51.1474600358295\n",
      "===========================================================================================\n",
      "Dataset Name:  reddit  Best AUC Score(benchmark/combined):  57.47039258008104\n",
      "Dataset Name:  reddit  Best AUC Score (contextual):  60.030947347012486\n",
      "Dataset Name:  reddit  Best AUC Score (structural):  54.6650676379531\n",
      "Dataset Name:  reddit  Best AUC Score (joint-type):  53.616974344107994\n",
      "Dataset Name:  reddit  Best AUC Score (structure type):  54.741389544597666\n",
      "===========================================================================================\n"
     ]
    },
    {
     "name": "stderr",
     "output_type": "stream",
     "text": [
      " 19%|█▉        | 96/500 [00:52<03:40,  1.83it/s]"
     ]
    },
    {
     "name": "stdout",
     "output_type": "stream",
     "text": [
      "Dataset Name:  reddit , AUC Score(benchmark/combined):  48.012383857909086\n",
      "Dataset Name:  reddit , AUC Score (contextual):  54.607673950448834\n",
      "Dataset Name:  reddit , AUC Score (structural):  44.62508363155567\n",
      "Dataset Name:  reddit , AUC Score (joint-type):  50.071158155260875\n",
      "Dataset Name:  reddit , AUC Score (structure type):  50.071158155260875\n",
      "===========================================================================================\n",
      "Dataset Name:  reddit  Best AUC Score(benchmark/combined):  57.47039258008104\n",
      "Dataset Name:  reddit  Best AUC Score (contextual):  60.030947347012486\n",
      "Dataset Name:  reddit  Best AUC Score (structural):  54.6650676379531\n",
      "Dataset Name:  reddit  Best AUC Score (joint-type):  53.616974344107994\n",
      "Dataset Name:  reddit  Best AUC Score (structure type):  54.741389544597666\n",
      "===========================================================================================\n"
     ]
    },
    {
     "name": "stderr",
     "output_type": "stream",
     "text": [
      " 19%|█▉        | 97/500 [00:53<03:39,  1.84it/s]"
     ]
    },
    {
     "name": "stdout",
     "output_type": "stream",
     "text": [
      "Dataset Name:  reddit , AUC Score(benchmark/combined):  46.861757588670436\n",
      "Dataset Name:  reddit , AUC Score (contextual):  46.854445272472745\n",
      "Dataset Name:  reddit , AUC Score (structural):  41.73369789729216\n",
      "Dataset Name:  reddit , AUC Score (joint-type):  52.68081330255294\n",
      "Dataset Name:  reddit , AUC Score (structure type):  52.68081330255294\n",
      "===========================================================================================\n",
      "Dataset Name:  reddit  Best AUC Score(benchmark/combined):  57.47039258008104\n",
      "Dataset Name:  reddit  Best AUC Score (contextual):  60.030947347012486\n",
      "Dataset Name:  reddit  Best AUC Score (structural):  54.6650676379531\n",
      "Dataset Name:  reddit  Best AUC Score (joint-type):  53.616974344107994\n",
      "Dataset Name:  reddit  Best AUC Score (structure type):  54.741389544597666\n",
      "===========================================================================================\n"
     ]
    },
    {
     "name": "stderr",
     "output_type": "stream",
     "text": [
      " 20%|█▉        | 98/500 [00:53<03:39,  1.83it/s]"
     ]
    },
    {
     "name": "stdout",
     "output_type": "stream",
     "text": [
      "Dataset Name:  reddit , AUC Score(benchmark/combined):  46.833863930412015\n",
      "Dataset Name:  reddit , AUC Score (contextual):  45.88980073186909\n",
      "Dataset Name:  reddit , AUC Score (structural):  42.83968667922549\n",
      "Dataset Name:  reddit , AUC Score (joint-type):  51.590042006837045\n",
      "Dataset Name:  reddit , AUC Score (structure type):  51.590042006837045\n",
      "===========================================================================================\n",
      "Dataset Name:  reddit  Best AUC Score(benchmark/combined):  57.47039258008104\n",
      "Dataset Name:  reddit  Best AUC Score (contextual):  60.030947347012486\n",
      "Dataset Name:  reddit  Best AUC Score (structural):  54.6650676379531\n",
      "Dataset Name:  reddit  Best AUC Score (joint-type):  53.616974344107994\n",
      "Dataset Name:  reddit  Best AUC Score (structure type):  54.741389544597666\n",
      "===========================================================================================\n"
     ]
    },
    {
     "name": "stderr",
     "output_type": "stream",
     "text": [
      " 20%|█▉        | 99/500 [00:54<03:37,  1.85it/s]"
     ]
    },
    {
     "name": "stdout",
     "output_type": "stream",
     "text": [
      "Dataset Name:  reddit , AUC Score(benchmark/combined):  49.54536424897612\n",
      "Dataset Name:  reddit , AUC Score (contextual):  50.80596160141011\n",
      "Dataset Name:  reddit , AUC Score (structural):  44.24291974752388\n",
      "Dataset Name:  reddit , AUC Score (joint-type):  50.409368086237706\n",
      "Dataset Name:  reddit , AUC Score (structure type):  50.409368086237706\n",
      "===========================================================================================\n",
      "Dataset Name:  reddit  Best AUC Score(benchmark/combined):  57.47039258008104\n",
      "Dataset Name:  reddit  Best AUC Score (contextual):  60.030947347012486\n",
      "Dataset Name:  reddit  Best AUC Score (structural):  54.6650676379531\n",
      "Dataset Name:  reddit  Best AUC Score (joint-type):  53.616974344107994\n",
      "Dataset Name:  reddit  Best AUC Score (structure type):  54.741389544597666\n",
      "===========================================================================================\n"
     ]
    },
    {
     "name": "stderr",
     "output_type": "stream",
     "text": [
      " 20%|██        | 100/500 [00:54<03:35,  1.85it/s]"
     ]
    },
    {
     "name": "stdout",
     "output_type": "stream",
     "text": [
      "Dataset Name:  reddit , AUC Score(benchmark/combined):  50.810961795981044\n",
      "Dataset Name:  reddit , AUC Score (contextual):  48.16240957247938\n",
      "Dataset Name:  reddit , AUC Score (structural):  48.43281095521991\n",
      "Dataset Name:  reddit , AUC Score (joint-type):  50.364669735599264\n",
      "Dataset Name:  reddit , AUC Score (structure type):  50.364669735599264\n",
      "===========================================================================================\n",
      "Dataset Name:  reddit  Best AUC Score(benchmark/combined):  57.47039258008104\n",
      "Dataset Name:  reddit  Best AUC Score (contextual):  60.030947347012486\n",
      "Dataset Name:  reddit  Best AUC Score (structural):  54.6650676379531\n",
      "Dataset Name:  reddit  Best AUC Score (joint-type):  53.616974344107994\n",
      "Dataset Name:  reddit  Best AUC Score (structure type):  54.741389544597666\n",
      "===========================================================================================\n"
     ]
    },
    {
     "name": "stderr",
     "output_type": "stream",
     "text": [
      " 20%|██        | 101/500 [00:55<03:34,  1.86it/s]"
     ]
    },
    {
     "name": "stdout",
     "output_type": "stream",
     "text": [
      "Dataset Name:  reddit , AUC Score(benchmark/combined):  46.54988384504301\n",
      "Dataset Name:  reddit , AUC Score (contextual):  42.44365149351179\n",
      "Dataset Name:  reddit , AUC Score (structural):  45.75461357745459\n",
      "Dataset Name:  reddit , AUC Score (joint-type):  48.994249166364376\n",
      "Dataset Name:  reddit , AUC Score (structure type):  48.994249166364376\n",
      "===========================================================================================\n",
      "Dataset Name:  reddit  Best AUC Score(benchmark/combined):  57.47039258008104\n",
      "Dataset Name:  reddit  Best AUC Score (contextual):  60.030947347012486\n",
      "Dataset Name:  reddit  Best AUC Score (structural):  54.6650676379531\n",
      "Dataset Name:  reddit  Best AUC Score (joint-type):  53.616974344107994\n",
      "Dataset Name:  reddit  Best AUC Score (structure type):  54.741389544597666\n",
      "===========================================================================================\n"
     ]
    },
    {
     "name": "stderr",
     "output_type": "stream",
     "text": [
      " 20%|██        | 102/500 [00:55<03:33,  1.87it/s]"
     ]
    },
    {
     "name": "stdout",
     "output_type": "stream",
     "text": [
      "Dataset Name:  reddit , AUC Score(benchmark/combined):  43.163815029020725\n",
      "Dataset Name:  reddit , AUC Score (contextual):  44.0763681565611\n",
      "Dataset Name:  reddit , AUC Score (structural):  49.784291921705616\n",
      "Dataset Name:  reddit , AUC Score (joint-type):  48.197621855495065\n",
      "Dataset Name:  reddit , AUC Score (structure type):  48.197621855495065\n",
      "===========================================================================================\n",
      "Dataset Name:  reddit  Best AUC Score(benchmark/combined):  57.47039258008104\n",
      "Dataset Name:  reddit  Best AUC Score (contextual):  60.030947347012486\n",
      "Dataset Name:  reddit  Best AUC Score (structural):  54.6650676379531\n",
      "Dataset Name:  reddit  Best AUC Score (joint-type):  53.616974344107994\n",
      "Dataset Name:  reddit  Best AUC Score (structure type):  54.741389544597666\n",
      "===========================================================================================\n"
     ]
    },
    {
     "name": "stderr",
     "output_type": "stream",
     "text": [
      " 21%|██        | 103/500 [00:56<03:32,  1.87it/s]"
     ]
    },
    {
     "name": "stdout",
     "output_type": "stream",
     "text": [
      "Dataset Name:  reddit , AUC Score(benchmark/combined):  49.49976686665699\n",
      "Dataset Name:  reddit , AUC Score (contextual):  51.16410492248491\n",
      "Dataset Name:  reddit , AUC Score (structural):  49.19436039846085\n",
      "Dataset Name:  reddit , AUC Score (joint-type):  47.75496399594654\n",
      "Dataset Name:  reddit , AUC Score (structure type):  47.75496399594654\n",
      "===========================================================================================\n",
      "Dataset Name:  reddit  Best AUC Score(benchmark/combined):  57.47039258008104\n",
      "Dataset Name:  reddit  Best AUC Score (contextual):  60.030947347012486\n",
      "Dataset Name:  reddit  Best AUC Score (structural):  54.6650676379531\n",
      "Dataset Name:  reddit  Best AUC Score (joint-type):  53.616974344107994\n",
      "Dataset Name:  reddit  Best AUC Score (structure type):  54.741389544597666\n",
      "===========================================================================================\n"
     ]
    },
    {
     "name": "stderr",
     "output_type": "stream",
     "text": [
      " 21%|██        | 104/500 [00:56<03:31,  1.87it/s]"
     ]
    },
    {
     "name": "stdout",
     "output_type": "stream",
     "text": [
      "Dataset Name:  reddit , AUC Score(benchmark/combined):  48.420315743860044\n",
      "Dataset Name:  reddit , AUC Score (contextual):  49.02991678062596\n",
      "Dataset Name:  reddit , AUC Score (structural):  45.459109888382955\n",
      "Dataset Name:  reddit , AUC Score (joint-type):  49.16423949816426\n",
      "Dataset Name:  reddit , AUC Score (structure type):  49.16423949816426\n",
      "===========================================================================================\n",
      "Dataset Name:  reddit  Best AUC Score(benchmark/combined):  57.47039258008104\n",
      "Dataset Name:  reddit  Best AUC Score (contextual):  60.030947347012486\n",
      "Dataset Name:  reddit  Best AUC Score (structural):  54.6650676379531\n",
      "Dataset Name:  reddit  Best AUC Score (joint-type):  53.616974344107994\n",
      "Dataset Name:  reddit  Best AUC Score (structure type):  54.741389544597666\n",
      "===========================================================================================\n"
     ]
    },
    {
     "name": "stderr",
     "output_type": "stream",
     "text": [
      " 21%|██        | 105/500 [00:57<03:31,  1.87it/s]"
     ]
    },
    {
     "name": "stdout",
     "output_type": "stream",
     "text": [
      "Dataset Name:  reddit , AUC Score(benchmark/combined):  47.215806337727365\n",
      "Dataset Name:  reddit , AUC Score (contextual):  46.6070992212318\n",
      "Dataset Name:  reddit , AUC Score (structural):  42.605937724412726\n",
      "Dataset Name:  reddit , AUC Score (joint-type):  48.780041111352276\n",
      "Dataset Name:  reddit , AUC Score (structure type):  48.780041111352276\n",
      "===========================================================================================\n",
      "Dataset Name:  reddit  Best AUC Score(benchmark/combined):  57.47039258008104\n",
      "Dataset Name:  reddit  Best AUC Score (contextual):  60.030947347012486\n",
      "Dataset Name:  reddit  Best AUC Score (structural):  54.6650676379531\n",
      "Dataset Name:  reddit  Best AUC Score (joint-type):  53.616974344107994\n",
      "Dataset Name:  reddit  Best AUC Score (structure type):  54.741389544597666\n",
      "===========================================================================================\n"
     ]
    },
    {
     "name": "stderr",
     "output_type": "stream",
     "text": [
      " 21%|██        | 106/500 [00:57<03:30,  1.87it/s]"
     ]
    },
    {
     "name": "stdout",
     "output_type": "stream",
     "text": [
      "Dataset Name:  reddit , AUC Score(benchmark/combined):  45.86435344867515\n",
      "Dataset Name:  reddit , AUC Score (contextual):  48.038508881235956\n",
      "Dataset Name:  reddit , AUC Score (structural):  44.43057271287173\n",
      "Dataset Name:  reddit , AUC Score (joint-type):  48.69489416837036\n",
      "Dataset Name:  reddit , AUC Score (structure type):  48.69489416837036\n",
      "===========================================================================================\n",
      "Dataset Name:  reddit  Best AUC Score(benchmark/combined):  57.47039258008104\n",
      "Dataset Name:  reddit  Best AUC Score (contextual):  60.030947347012486\n",
      "Dataset Name:  reddit  Best AUC Score (structural):  54.6650676379531\n",
      "Dataset Name:  reddit  Best AUC Score (joint-type):  53.616974344107994\n",
      "Dataset Name:  reddit  Best AUC Score (structure type):  54.741389544597666\n",
      "===========================================================================================\n"
     ]
    },
    {
     "name": "stderr",
     "output_type": "stream",
     "text": [
      " 21%|██▏       | 107/500 [00:58<03:30,  1.87it/s]"
     ]
    },
    {
     "name": "stdout",
     "output_type": "stream",
     "text": [
      "Dataset Name:  reddit , AUC Score(benchmark/combined):  48.71606829108628\n",
      "Dataset Name:  reddit , AUC Score (contextual):  57.81811338051577\n",
      "Dataset Name:  reddit , AUC Score (structural):  49.78451239736278\n",
      "Dataset Name:  reddit , AUC Score (joint-type):  51.07038257437204\n",
      "Dataset Name:  reddit , AUC Score (structure type):  51.07038257437204\n",
      "===========================================================================================\n",
      "Dataset Name:  reddit  Best AUC Score(benchmark/combined):  57.47039258008104\n",
      "Dataset Name:  reddit  Best AUC Score (contextual):  60.030947347012486\n",
      "Dataset Name:  reddit  Best AUC Score (structural):  54.6650676379531\n",
      "Dataset Name:  reddit  Best AUC Score (joint-type):  53.616974344107994\n",
      "Dataset Name:  reddit  Best AUC Score (structure type):  54.741389544597666\n",
      "===========================================================================================\n"
     ]
    },
    {
     "name": "stderr",
     "output_type": "stream",
     "text": [
      " 22%|██▏       | 108/500 [00:59<03:49,  1.71it/s]"
     ]
    },
    {
     "name": "stdout",
     "output_type": "stream",
     "text": [
      "Dataset Name:  reddit , AUC Score(benchmark/combined):  46.881648546081664\n",
      "Dataset Name:  reddit , AUC Score (contextual):  47.0540827276163\n",
      "Dataset Name:  reddit , AUC Score (structural):  48.115685732340566\n",
      "Dataset Name:  reddit , AUC Score (joint-type):  47.47071081760796\n",
      "Dataset Name:  reddit , AUC Score (structure type):  47.47071081760796\n",
      "===========================================================================================\n",
      "Dataset Name:  reddit  Best AUC Score(benchmark/combined):  57.47039258008104\n",
      "Dataset Name:  reddit  Best AUC Score (contextual):  60.030947347012486\n",
      "Dataset Name:  reddit  Best AUC Score (structural):  54.6650676379531\n",
      "Dataset Name:  reddit  Best AUC Score (joint-type):  53.616974344107994\n",
      "Dataset Name:  reddit  Best AUC Score (structure type):  54.741389544597666\n",
      "===========================================================================================\n"
     ]
    },
    {
     "name": "stderr",
     "output_type": "stream",
     "text": [
      " 22%|██▏       | 109/500 [00:59<03:43,  1.75it/s]"
     ]
    },
    {
     "name": "stdout",
     "output_type": "stream",
     "text": [
      "Dataset Name:  reddit , AUC Score(benchmark/combined):  47.0620309671071\n",
      "Dataset Name:  reddit , AUC Score (contextual):  45.878670412525054\n",
      "Dataset Name:  reddit , AUC Score (structural):  49.007811469110536\n",
      "Dataset Name:  reddit , AUC Score (joint-type):  47.07846824545187\n",
      "Dataset Name:  reddit , AUC Score (structure type):  47.07846824545187\n",
      "===========================================================================================\n",
      "Dataset Name:  reddit  Best AUC Score(benchmark/combined):  57.47039258008104\n",
      "Dataset Name:  reddit  Best AUC Score (contextual):  60.030947347012486\n",
      "Dataset Name:  reddit  Best AUC Score (structural):  54.6650676379531\n",
      "Dataset Name:  reddit  Best AUC Score (joint-type):  53.616974344107994\n",
      "Dataset Name:  reddit  Best AUC Score (structure type):  54.741389544597666\n",
      "===========================================================================================\n"
     ]
    },
    {
     "name": "stderr",
     "output_type": "stream",
     "text": [
      " 22%|██▏       | 110/500 [01:00<03:39,  1.78it/s]"
     ]
    },
    {
     "name": "stdout",
     "output_type": "stream",
     "text": [
      "Dataset Name:  reddit , AUC Score(benchmark/combined):  46.37873926840389\n",
      "Dataset Name:  reddit , AUC Score (contextual):  49.93506470509966\n",
      "Dataset Name:  reddit , AUC Score (structural):  48.689817605296184\n",
      "Dataset Name:  reddit , AUC Score (joint-type):  47.96611121313904\n",
      "Dataset Name:  reddit , AUC Score (structure type):  47.96611121313904\n",
      "===========================================================================================\n",
      "Dataset Name:  reddit  Best AUC Score(benchmark/combined):  57.47039258008104\n",
      "Dataset Name:  reddit  Best AUC Score (contextual):  60.030947347012486\n",
      "Dataset Name:  reddit  Best AUC Score (structural):  54.6650676379531\n",
      "Dataset Name:  reddit  Best AUC Score (joint-type):  53.616974344107994\n",
      "Dataset Name:  reddit  Best AUC Score (structure type):  54.741389544597666\n",
      "===========================================================================================\n"
     ]
    },
    {
     "name": "stderr",
     "output_type": "stream",
     "text": [
      " 22%|██▏       | 111/500 [01:00<03:34,  1.81it/s]"
     ]
    },
    {
     "name": "stdout",
     "output_type": "stream",
     "text": [
      "Dataset Name:  reddit , AUC Score(benchmark/combined):  48.063217734190935\n",
      "Dataset Name:  reddit , AUC Score (contextual):  54.95827900978608\n",
      "Dataset Name:  reddit , AUC Score (structural):  50.15567736421186\n",
      "Dataset Name:  reddit , AUC Score (joint-type):  52.506370843015446\n",
      "Dataset Name:  reddit , AUC Score (structure type):  52.506370843015446\n",
      "===========================================================================================\n",
      "Dataset Name:  reddit  Best AUC Score(benchmark/combined):  57.47039258008104\n",
      "Dataset Name:  reddit  Best AUC Score (contextual):  60.030947347012486\n",
      "Dataset Name:  reddit  Best AUC Score (structural):  54.6650676379531\n",
      "Dataset Name:  reddit  Best AUC Score (joint-type):  53.616974344107994\n",
      "Dataset Name:  reddit  Best AUC Score (structure type):  54.741389544597666\n",
      "===========================================================================================\n"
     ]
    },
    {
     "name": "stderr",
     "output_type": "stream",
     "text": [
      " 22%|██▏       | 112/500 [01:01<03:31,  1.83it/s]"
     ]
    },
    {
     "name": "stdout",
     "output_type": "stream",
     "text": [
      "Dataset Name:  reddit , AUC Score(benchmark/combined):  46.14887390934253\n",
      "Dataset Name:  reddit , AUC Score (contextual):  47.85404913428882\n",
      "Dataset Name:  reddit , AUC Score (structural):  40.49691566159606\n",
      "Dataset Name:  reddit , AUC Score (joint-type):  49.59275679290979\n",
      "Dataset Name:  reddit , AUC Score (structure type):  49.59275679290979\n",
      "===========================================================================================\n",
      "Dataset Name:  reddit  Best AUC Score(benchmark/combined):  57.47039258008104\n",
      "Dataset Name:  reddit  Best AUC Score (contextual):  60.030947347012486\n",
      "Dataset Name:  reddit  Best AUC Score (structural):  54.6650676379531\n",
      "Dataset Name:  reddit  Best AUC Score (joint-type):  53.616974344107994\n",
      "Dataset Name:  reddit  Best AUC Score (structure type):  54.741389544597666\n",
      "===========================================================================================\n"
     ]
    },
    {
     "name": "stderr",
     "output_type": "stream",
     "text": [
      " 23%|██▎       | 113/500 [01:01<03:30,  1.84it/s]"
     ]
    },
    {
     "name": "stdout",
     "output_type": "stream",
     "text": [
      "Dataset Name:  reddit , AUC Score(benchmark/combined):  44.30802112507166\n",
      "Dataset Name:  reddit , AUC Score (contextual):  46.24713457517341\n",
      "Dataset Name:  reddit , AUC Score (structural):  44.32037798479281\n",
      "Dataset Name:  reddit , AUC Score (joint-type):  47.7596437893071\n",
      "Dataset Name:  reddit , AUC Score (structure type):  47.7596437893071\n",
      "===========================================================================================\n",
      "Dataset Name:  reddit  Best AUC Score(benchmark/combined):  57.47039258008104\n",
      "Dataset Name:  reddit  Best AUC Score (contextual):  60.030947347012486\n",
      "Dataset Name:  reddit  Best AUC Score (structural):  54.6650676379531\n",
      "Dataset Name:  reddit  Best AUC Score (joint-type):  53.616974344107994\n",
      "Dataset Name:  reddit  Best AUC Score (structure type):  54.741389544597666\n",
      "===========================================================================================\n"
     ]
    },
    {
     "name": "stderr",
     "output_type": "stream",
     "text": [
      " 23%|██▎       | 114/500 [01:02<03:29,  1.84it/s]"
     ]
    },
    {
     "name": "stdout",
     "output_type": "stream",
     "text": [
      "Dataset Name:  reddit , AUC Score(benchmark/combined):  48.549838556446566\n",
      "Dataset Name:  reddit , AUC Score (contextual):  53.61196570040316\n",
      "Dataset Name:  reddit , AUC Score (structural):  44.54510401477883\n",
      "Dataset Name:  reddit , AUC Score (joint-type):  48.862000735612924\n",
      "Dataset Name:  reddit , AUC Score (structure type):  48.862000735612924\n",
      "===========================================================================================\n",
      "Dataset Name:  reddit  Best AUC Score(benchmark/combined):  57.47039258008104\n",
      "Dataset Name:  reddit  Best AUC Score (contextual):  60.030947347012486\n",
      "Dataset Name:  reddit  Best AUC Score (structural):  54.6650676379531\n",
      "Dataset Name:  reddit  Best AUC Score (joint-type):  53.616974344107994\n",
      "Dataset Name:  reddit  Best AUC Score (structure type):  54.741389544597666\n",
      "===========================================================================================\n"
     ]
    },
    {
     "name": "stderr",
     "output_type": "stream",
     "text": [
      " 23%|██▎       | 115/500 [01:02<03:29,  1.84it/s]"
     ]
    },
    {
     "name": "stdout",
     "output_type": "stream",
     "text": [
      "Dataset Name:  reddit , AUC Score(benchmark/combined):  47.75499795686673\n",
      "Dataset Name:  reddit , AUC Score (contextual):  54.75854036992123\n",
      "Dataset Name:  reddit , AUC Score (structural):  50.49127944178879\n",
      "Dataset Name:  reddit , AUC Score (joint-type):  50.02673806260602\n",
      "Dataset Name:  reddit , AUC Score (structure type):  50.02673806260602\n",
      "===========================================================================================\n",
      "Dataset Name:  reddit  Best AUC Score(benchmark/combined):  57.47039258008104\n",
      "Dataset Name:  reddit  Best AUC Score (contextual):  60.030947347012486\n",
      "Dataset Name:  reddit  Best AUC Score (structural):  54.6650676379531\n",
      "Dataset Name:  reddit  Best AUC Score (joint-type):  53.616974344107994\n",
      "Dataset Name:  reddit  Best AUC Score (structure type):  54.741389544597666\n",
      "===========================================================================================\n"
     ]
    },
    {
     "name": "stderr",
     "output_type": "stream",
     "text": [
      " 23%|██▎       | 116/500 [01:03<03:28,  1.84it/s]"
     ]
    },
    {
     "name": "stdout",
     "output_type": "stream",
     "text": [
      "Dataset Name:  reddit , AUC Score(benchmark/combined):  47.27704887154198\n",
      "Dataset Name:  reddit , AUC Score (contextual):  44.02071655984089\n",
      "Dataset Name:  reddit , AUC Score (structural):  48.78269090373801\n",
      "Dataset Name:  reddit , AUC Score (joint-type):  49.94614443208304\n",
      "Dataset Name:  reddit , AUC Score (structure type):  49.94614443208304\n",
      "===========================================================================================\n",
      "Dataset Name:  reddit  Best AUC Score(benchmark/combined):  57.47039258008104\n",
      "Dataset Name:  reddit  Best AUC Score (contextual):  60.030947347012486\n",
      "Dataset Name:  reddit  Best AUC Score (structural):  54.6650676379531\n",
      "Dataset Name:  reddit  Best AUC Score (joint-type):  53.616974344107994\n",
      "Dataset Name:  reddit  Best AUC Score (structure type):  54.741389544597666\n",
      "===========================================================================================\n"
     ]
    },
    {
     "name": "stderr",
     "output_type": "stream",
     "text": [
      " 23%|██▎       | 117/500 [01:03<03:28,  1.84it/s]"
     ]
    },
    {
     "name": "stdout",
     "output_type": "stream",
     "text": [
      "Dataset Name:  reddit , AUC Score(benchmark/combined):  47.025182518190064\n",
      "Dataset Name:  reddit , AUC Score (contextual):  50.4311733936799\n",
      "Dataset Name:  reddit , AUC Score (structural):  50.286508945343925\n",
      "Dataset Name:  reddit , AUC Score (joint-type):  49.428331620781925\n",
      "Dataset Name:  reddit , AUC Score (structure type):  49.428331620781925\n",
      "===========================================================================================\n",
      "Dataset Name:  reddit  Best AUC Score(benchmark/combined):  57.47039258008104\n",
      "Dataset Name:  reddit  Best AUC Score (contextual):  60.030947347012486\n",
      "Dataset Name:  reddit  Best AUC Score (structural):  54.6650676379531\n",
      "Dataset Name:  reddit  Best AUC Score (joint-type):  53.616974344107994\n",
      "Dataset Name:  reddit  Best AUC Score (structure type):  54.741389544597666\n",
      "===========================================================================================\n"
     ]
    },
    {
     "name": "stderr",
     "output_type": "stream",
     "text": [
      " 24%|██▎       | 118/500 [01:04<03:26,  1.85it/s]"
     ]
    },
    {
     "name": "stdout",
     "output_type": "stream",
     "text": [
      "Dataset Name:  reddit , AUC Score(benchmark/combined):  51.952504613775766\n",
      "Dataset Name:  reddit , AUC Score (contextual):  52.38732701839488\n",
      "Dataset Name:  reddit , AUC Score (structural):  49.4059672979896\n",
      "Dataset Name:  reddit , AUC Score (joint-type):  51.45030590670869\n",
      "Dataset Name:  reddit , AUC Score (structure type):  51.45030590670869\n",
      "===========================================================================================\n",
      "Dataset Name:  reddit  Best AUC Score(benchmark/combined):  57.47039258008104\n",
      "Dataset Name:  reddit  Best AUC Score (contextual):  60.030947347012486\n",
      "Dataset Name:  reddit  Best AUC Score (structural):  54.6650676379531\n",
      "Dataset Name:  reddit  Best AUC Score (joint-type):  53.616974344107994\n",
      "Dataset Name:  reddit  Best AUC Score (structure type):  54.741389544597666\n",
      "===========================================================================================\n"
     ]
    },
    {
     "name": "stderr",
     "output_type": "stream",
     "text": [
      " 24%|██▍       | 119/500 [01:05<03:25,  1.85it/s]"
     ]
    },
    {
     "name": "stdout",
     "output_type": "stream",
     "text": [
      "Dataset Name:  reddit , AUC Score(benchmark/combined):  46.4939164034267\n",
      "Dataset Name:  reddit , AUC Score (contextual):  49.33731596396407\n",
      "Dataset Name:  reddit , AUC Score (structural):  47.10228843785869\n",
      "Dataset Name:  reddit , AUC Score (joint-type):  49.93903620541106\n",
      "Dataset Name:  reddit , AUC Score (structure type):  49.93903620541106\n",
      "===========================================================================================\n",
      "Dataset Name:  reddit  Best AUC Score(benchmark/combined):  57.47039258008104\n",
      "Dataset Name:  reddit  Best AUC Score (contextual):  60.030947347012486\n",
      "Dataset Name:  reddit  Best AUC Score (structural):  54.6650676379531\n",
      "Dataset Name:  reddit  Best AUC Score (joint-type):  53.616974344107994\n",
      "Dataset Name:  reddit  Best AUC Score (structure type):  54.741389544597666\n",
      "===========================================================================================\n"
     ]
    },
    {
     "name": "stderr",
     "output_type": "stream",
     "text": [
      " 24%|██▍       | 120/500 [01:05<03:24,  1.86it/s]"
     ]
    },
    {
     "name": "stdout",
     "output_type": "stream",
     "text": [
      "Dataset Name:  reddit , AUC Score(benchmark/combined):  46.38779698769077\n",
      "Dataset Name:  reddit , AUC Score (contextual):  47.2979632021524\n",
      "Dataset Name:  reddit , AUC Score (structural):  39.53387799109212\n",
      "Dataset Name:  reddit , AUC Score (joint-type):  50.0553733387366\n",
      "Dataset Name:  reddit , AUC Score (structure type):  50.0553733387366\n",
      "===========================================================================================\n",
      "Dataset Name:  reddit  Best AUC Score(benchmark/combined):  57.47039258008104\n",
      "Dataset Name:  reddit  Best AUC Score (contextual):  60.030947347012486\n",
      "Dataset Name:  reddit  Best AUC Score (structural):  54.6650676379531\n",
      "Dataset Name:  reddit  Best AUC Score (joint-type):  53.616974344107994\n",
      "Dataset Name:  reddit  Best AUC Score (structure type):  54.741389544597666\n",
      "===========================================================================================\n"
     ]
    },
    {
     "name": "stderr",
     "output_type": "stream",
     "text": [
      " 24%|██▍       | 121/500 [01:06<03:24,  1.86it/s]"
     ]
    },
    {
     "name": "stdout",
     "output_type": "stream",
     "text": [
      "Dataset Name:  reddit , AUC Score(benchmark/combined):  48.90580435120483\n",
      "Dataset Name:  reddit , AUC Score (contextual):  54.10559536331133\n",
      "Dataset Name:  reddit , AUC Score (structural):  47.2166373914779\n",
      "Dataset Name:  reddit , AUC Score (joint-type):  52.728193048306096\n",
      "Dataset Name:  reddit , AUC Score (structure type):  52.728193048306096\n",
      "===========================================================================================\n",
      "Dataset Name:  reddit  Best AUC Score(benchmark/combined):  57.47039258008104\n",
      "Dataset Name:  reddit  Best AUC Score (contextual):  60.030947347012486\n",
      "Dataset Name:  reddit  Best AUC Score (structural):  54.6650676379531\n",
      "Dataset Name:  reddit  Best AUC Score (joint-type):  53.616974344107994\n",
      "Dataset Name:  reddit  Best AUC Score (structure type):  54.741389544597666\n",
      "===========================================================================================\n"
     ]
    },
    {
     "name": "stderr",
     "output_type": "stream",
     "text": [
      " 24%|██▍       | 122/500 [01:06<03:24,  1.85it/s]"
     ]
    },
    {
     "name": "stdout",
     "output_type": "stream",
     "text": [
      "Dataset Name:  reddit , AUC Score(benchmark/combined):  46.55204534623646\n",
      "Dataset Name:  reddit , AUC Score (contextual):  54.526827358122574\n",
      "Dataset Name:  reddit , AUC Score (structural):  49.13696213057066\n",
      "Dataset Name:  reddit , AUC Score (joint-type):  48.47142771135844\n",
      "Dataset Name:  reddit , AUC Score (structure type):  48.47142771135844\n",
      "===========================================================================================\n",
      "Dataset Name:  reddit  Best AUC Score(benchmark/combined):  57.47039258008104\n",
      "Dataset Name:  reddit  Best AUC Score (contextual):  60.030947347012486\n",
      "Dataset Name:  reddit  Best AUC Score (structural):  54.6650676379531\n",
      "Dataset Name:  reddit  Best AUC Score (joint-type):  53.616974344107994\n",
      "Dataset Name:  reddit  Best AUC Score (structure type):  54.741389544597666\n",
      "===========================================================================================\n"
     ]
    },
    {
     "name": "stderr",
     "output_type": "stream",
     "text": [
      " 25%|██▍       | 123/500 [01:07<03:24,  1.85it/s]"
     ]
    },
    {
     "name": "stdout",
     "output_type": "stream",
     "text": [
      "Dataset Name:  reddit , AUC Score(benchmark/combined):  49.575393676270934\n",
      "Dataset Name:  reddit , AUC Score (contextual):  49.66242247353134\n",
      "Dataset Name:  reddit , AUC Score (structural):  47.26301021879805\n",
      "Dataset Name:  reddit , AUC Score (joint-type):  50.836974718491454\n",
      "Dataset Name:  reddit , AUC Score (structure type):  50.836974718491454\n",
      "===========================================================================================\n",
      "Dataset Name:  reddit  Best AUC Score(benchmark/combined):  57.47039258008104\n",
      "Dataset Name:  reddit  Best AUC Score (contextual):  60.030947347012486\n",
      "Dataset Name:  reddit  Best AUC Score (structural):  54.6650676379531\n",
      "Dataset Name:  reddit  Best AUC Score (joint-type):  53.616974344107994\n",
      "Dataset Name:  reddit  Best AUC Score (structure type):  54.741389544597666\n",
      "===========================================================================================\n"
     ]
    },
    {
     "name": "stderr",
     "output_type": "stream",
     "text": [
      " 25%|██▍       | 124/500 [01:07<03:24,  1.84it/s]"
     ]
    },
    {
     "name": "stdout",
     "output_type": "stream",
     "text": [
      "Dataset Name:  reddit , AUC Score(benchmark/combined):  49.0214060668192\n",
      "Dataset Name:  reddit , AUC Score (contextual):  54.475374927336716\n",
      "Dataset Name:  reddit , AUC Score (structural):  50.613040024454556\n",
      "Dataset Name:  reddit , AUC Score (joint-type):  51.54774679332971\n",
      "Dataset Name:  reddit , AUC Score (structure type):  51.54774679332971\n",
      "===========================================================================================\n",
      "Dataset Name:  reddit  Best AUC Score(benchmark/combined):  57.47039258008104\n",
      "Dataset Name:  reddit  Best AUC Score (contextual):  60.030947347012486\n",
      "Dataset Name:  reddit  Best AUC Score (structural):  54.6650676379531\n",
      "Dataset Name:  reddit  Best AUC Score (joint-type):  53.616974344107994\n",
      "Dataset Name:  reddit  Best AUC Score (structure type):  54.741389544597666\n",
      "===========================================================================================\n"
     ]
    },
    {
     "name": "stderr",
     "output_type": "stream",
     "text": [
      " 25%|██▌       | 125/500 [01:08<03:23,  1.84it/s]"
     ]
    },
    {
     "name": "stdout",
     "output_type": "stream",
     "text": [
      "Dataset Name:  reddit , AUC Score(benchmark/combined):  52.97607835750612\n",
      "Dataset Name:  reddit , AUC Score (contextual):  57.397943825278276\n",
      "Dataset Name:  reddit , AUC Score (structural):  50.377620096240115\n",
      "Dataset Name:  reddit , AUC Score (joint-type):  51.90158976374886\n",
      "Dataset Name:  reddit , AUC Score (structure type):  51.90158976374886\n",
      "===========================================================================================\n",
      "Dataset Name:  reddit  Best AUC Score(benchmark/combined):  57.47039258008104\n",
      "Dataset Name:  reddit  Best AUC Score (contextual):  60.030947347012486\n",
      "Dataset Name:  reddit  Best AUC Score (structural):  54.6650676379531\n",
      "Dataset Name:  reddit  Best AUC Score (joint-type):  53.616974344107994\n",
      "Dataset Name:  reddit  Best AUC Score (structure type):  54.741389544597666\n",
      "===========================================================================================\n"
     ]
    },
    {
     "name": "stderr",
     "output_type": "stream",
     "text": [
      " 25%|██▌       | 126/500 [01:08<03:24,  1.83it/s]"
     ]
    },
    {
     "name": "stdout",
     "output_type": "stream",
     "text": [
      "Dataset Name:  reddit , AUC Score(benchmark/combined):  48.70420576667933\n",
      "Dataset Name:  reddit , AUC Score (contextual):  52.8602138134346\n",
      "Dataset Name:  reddit , AUC Score (structural):  43.38484175152493\n",
      "Dataset Name:  reddit , AUC Score (joint-type):  50.6972386183631\n",
      "Dataset Name:  reddit , AUC Score (structure type):  50.6972386183631\n",
      "===========================================================================================\n",
      "Dataset Name:  reddit  Best AUC Score(benchmark/combined):  57.47039258008104\n",
      "Dataset Name:  reddit  Best AUC Score (contextual):  60.030947347012486\n",
      "Dataset Name:  reddit  Best AUC Score (structural):  54.6650676379531\n",
      "Dataset Name:  reddit  Best AUC Score (joint-type):  53.616974344107994\n",
      "Dataset Name:  reddit  Best AUC Score (structure type):  54.741389544597666\n",
      "===========================================================================================\n"
     ]
    },
    {
     "name": "stderr",
     "output_type": "stream",
     "text": [
      " 25%|██▌       | 127/500 [01:09<03:23,  1.84it/s]"
     ]
    },
    {
     "name": "stdout",
     "output_type": "stream",
     "text": [
      "Dataset Name:  reddit , AUC Score(benchmark/combined):  46.48573357748004\n",
      "Dataset Name:  reddit , AUC Score (contextual):  53.838923030300265\n",
      "Dataset Name:  reddit , AUC Score (structural):  47.34483984184104\n",
      "Dataset Name:  reddit , AUC Score (joint-type):  49.7674016218899\n",
      "Dataset Name:  reddit , AUC Score (structure type):  49.7674016218899\n",
      "===========================================================================================\n",
      "Dataset Name:  reddit  Best AUC Score(benchmark/combined):  57.47039258008104\n",
      "Dataset Name:  reddit  Best AUC Score (contextual):  60.030947347012486\n",
      "Dataset Name:  reddit  Best AUC Score (structural):  54.6650676379531\n",
      "Dataset Name:  reddit  Best AUC Score (joint-type):  53.616974344107994\n",
      "Dataset Name:  reddit  Best AUC Score (structure type):  54.741389544597666\n",
      "===========================================================================================\n"
     ]
    },
    {
     "name": "stderr",
     "output_type": "stream",
     "text": [
      " 26%|██▌       | 128/500 [01:10<03:39,  1.69it/s]"
     ]
    },
    {
     "name": "stdout",
     "output_type": "stream",
     "text": [
      "Dataset Name:  reddit , AUC Score(benchmark/combined):  50.88469729205072\n",
      "Dataset Name:  reddit , AUC Score (contextual):  58.15996596145976\n",
      "Dataset Name:  reddit , AUC Score (structural):  51.30719685591766\n",
      "Dataset Name:  reddit , AUC Score (joint-type):  51.479750660609746\n",
      "Dataset Name:  reddit , AUC Score (structure type):  51.479750660609746\n",
      "===========================================================================================\n",
      "Dataset Name:  reddit  Best AUC Score(benchmark/combined):  57.47039258008104\n",
      "Dataset Name:  reddit  Best AUC Score (contextual):  60.030947347012486\n",
      "Dataset Name:  reddit  Best AUC Score (structural):  54.6650676379531\n",
      "Dataset Name:  reddit  Best AUC Score (joint-type):  53.616974344107994\n",
      "Dataset Name:  reddit  Best AUC Score (structure type):  54.741389544597666\n",
      "===========================================================================================\n"
     ]
    },
    {
     "name": "stderr",
     "output_type": "stream",
     "text": [
      " 26%|██▌       | 129/500 [01:10<03:33,  1.74it/s]"
     ]
    },
    {
     "name": "stdout",
     "output_type": "stream",
     "text": [
      "Dataset Name:  reddit , AUC Score(benchmark/combined):  52.77824953399063\n",
      "Dataset Name:  reddit , AUC Score (contextual):  56.46360410870679\n",
      "Dataset Name:  reddit , AUC Score (structural):  51.185305314026955\n",
      "Dataset Name:  reddit , AUC Score (joint-type):  51.088115196781516\n",
      "Dataset Name:  reddit , AUC Score (structure type):  51.088115196781516\n",
      "===========================================================================================\n",
      "Dataset Name:  reddit  Best AUC Score(benchmark/combined):  57.47039258008104\n",
      "Dataset Name:  reddit  Best AUC Score (contextual):  60.030947347012486\n",
      "Dataset Name:  reddit  Best AUC Score (structural):  54.6650676379531\n",
      "Dataset Name:  reddit  Best AUC Score (joint-type):  53.616974344107994\n",
      "Dataset Name:  reddit  Best AUC Score (structure type):  54.741389544597666\n",
      "===========================================================================================\n"
     ]
    },
    {
     "name": "stderr",
     "output_type": "stream",
     "text": [
      " 26%|██▌       | 130/500 [01:11<03:28,  1.78it/s]"
     ]
    },
    {
     "name": "stdout",
     "output_type": "stream",
     "text": [
      "Dataset Name:  reddit , AUC Score(benchmark/combined):  50.51459167698526\n",
      "Dataset Name:  reddit , AUC Score (contextual):  57.00509414479432\n",
      "Dataset Name:  reddit , AUC Score (structural):  50.34053542761999\n",
      "Dataset Name:  reddit , AUC Score (joint-type):  51.689911326769476\n",
      "Dataset Name:  reddit , AUC Score (structure type):  51.689911326769476\n",
      "===========================================================================================\n",
      "Dataset Name:  reddit  Best AUC Score(benchmark/combined):  57.47039258008104\n",
      "Dataset Name:  reddit  Best AUC Score (contextual):  60.030947347012486\n",
      "Dataset Name:  reddit  Best AUC Score (structural):  54.6650676379531\n",
      "Dataset Name:  reddit  Best AUC Score (joint-type):  53.616974344107994\n",
      "Dataset Name:  reddit  Best AUC Score (structure type):  54.741389544597666\n",
      "===========================================================================================\n"
     ]
    },
    {
     "name": "stderr",
     "output_type": "stream",
     "text": [
      " 26%|██▌       | 131/500 [01:11<03:24,  1.80it/s]"
     ]
    },
    {
     "name": "stdout",
     "output_type": "stream",
     "text": [
      "Dataset Name:  reddit , AUC Score(benchmark/combined):  49.227340519810156\n",
      "Dataset Name:  reddit , AUC Score (contextual):  59.01113183711486\n",
      "Dataset Name:  reddit , AUC Score (structural):  50.266382667496856\n",
      "Dataset Name:  reddit , AUC Score (joint-type):  50.98010050678368\n",
      "Dataset Name:  reddit , AUC Score (structure type):  50.98010050678368\n",
      "===========================================================================================\n",
      "Dataset Name:  reddit  Best AUC Score(benchmark/combined):  57.47039258008104\n",
      "Dataset Name:  reddit  Best AUC Score (contextual):  60.030947347012486\n",
      "Dataset Name:  reddit  Best AUC Score (structural):  54.6650676379531\n",
      "Dataset Name:  reddit  Best AUC Score (joint-type):  53.616974344107994\n",
      "Dataset Name:  reddit  Best AUC Score (structure type):  54.741389544597666\n",
      "===========================================================================================\n"
     ]
    },
    {
     "name": "stderr",
     "output_type": "stream",
     "text": [
      " 26%|██▋       | 132/500 [01:12<03:21,  1.82it/s]"
     ]
    },
    {
     "name": "stdout",
     "output_type": "stream",
     "text": [
      "Dataset Name:  reddit , AUC Score(benchmark/combined):  50.39624948664348\n",
      "Dataset Name:  reddit , AUC Score (contextual):  54.18788383791624\n",
      "Dataset Name:  reddit , AUC Score (structural):  48.36354512921199\n",
      "Dataset Name:  reddit , AUC Score (joint-type):  51.04933615233966\n",
      "Dataset Name:  reddit , AUC Score (structure type):  51.04933615233966\n",
      "===========================================================================================\n",
      "Dataset Name:  reddit  Best AUC Score(benchmark/combined):  57.47039258008104\n",
      "Dataset Name:  reddit  Best AUC Score (contextual):  60.030947347012486\n",
      "Dataset Name:  reddit  Best AUC Score (structural):  54.6650676379531\n",
      "Dataset Name:  reddit  Best AUC Score (joint-type):  53.616974344107994\n",
      "Dataset Name:  reddit  Best AUC Score (structure type):  54.741389544597666\n",
      "===========================================================================================\n"
     ]
    },
    {
     "name": "stderr",
     "output_type": "stream",
     "text": [
      " 27%|██▋       | 133/500 [01:12<03:21,  1.82it/s]"
     ]
    },
    {
     "name": "stdout",
     "output_type": "stream",
     "text": [
      "Dataset Name:  reddit , AUC Score(benchmark/combined):  48.53035931354839\n",
      "Dataset Name:  reddit , AUC Score (contextual):  54.25934554734104\n",
      "Dataset Name:  reddit , AUC Score (structural):  47.12954453376196\n",
      "Dataset Name:  reddit , AUC Score (joint-type):  52.63869516230788\n",
      "Dataset Name:  reddit , AUC Score (structure type):  52.63869516230788\n",
      "===========================================================================================\n",
      "Dataset Name:  reddit  Best AUC Score(benchmark/combined):  57.47039258008104\n",
      "Dataset Name:  reddit  Best AUC Score (contextual):  60.030947347012486\n",
      "Dataset Name:  reddit  Best AUC Score (structural):  54.6650676379531\n",
      "Dataset Name:  reddit  Best AUC Score (joint-type):  53.616974344107994\n",
      "Dataset Name:  reddit  Best AUC Score (structure type):  54.741389544597666\n",
      "===========================================================================================\n"
     ]
    },
    {
     "name": "stderr",
     "output_type": "stream",
     "text": [
      " 27%|██▋       | 134/500 [01:13<03:20,  1.83it/s]"
     ]
    },
    {
     "name": "stdout",
     "output_type": "stream",
     "text": [
      "Dataset Name:  reddit , AUC Score(benchmark/combined):  48.57137637190995\n",
      "Dataset Name:  reddit , AUC Score (contextual):  57.77743712254937\n",
      "Dataset Name:  reddit , AUC Score (structural):  50.95022190128924\n",
      "Dataset Name:  reddit , AUC Score (joint-type):  51.81462149578338\n",
      "Dataset Name:  reddit , AUC Score (structure type):  51.81462149578338\n",
      "===========================================================================================\n",
      "Dataset Name:  reddit  Best AUC Score(benchmark/combined):  57.47039258008104\n",
      "Dataset Name:  reddit  Best AUC Score (contextual):  60.030947347012486\n",
      "Dataset Name:  reddit  Best AUC Score (structural):  54.6650676379531\n",
      "Dataset Name:  reddit  Best AUC Score (joint-type):  53.616974344107994\n",
      "Dataset Name:  reddit  Best AUC Score (structure type):  54.741389544597666\n",
      "===========================================================================================\n"
     ]
    },
    {
     "name": "stderr",
     "output_type": "stream",
     "text": [
      " 27%|██▋       | 135/500 [01:13<03:18,  1.84it/s]"
     ]
    },
    {
     "name": "stdout",
     "output_type": "stream",
     "text": [
      "Dataset Name:  reddit , AUC Score(benchmark/combined):  50.4766624774715\n",
      "Dataset Name:  reddit , AUC Score (contextual):  58.26775298583464\n",
      "Dataset Name:  reddit , AUC Score (structural):  51.086392971832815\n",
      "Dataset Name:  reddit , AUC Score (joint-type):  50.7630592795749\n",
      "Dataset Name:  reddit , AUC Score (structure type):  50.7630592795749\n",
      "===========================================================================================\n",
      "Dataset Name:  reddit  Best AUC Score(benchmark/combined):  57.47039258008104\n",
      "Dataset Name:  reddit  Best AUC Score (contextual):  60.030947347012486\n",
      "Dataset Name:  reddit  Best AUC Score (structural):  54.6650676379531\n",
      "Dataset Name:  reddit  Best AUC Score (joint-type):  53.616974344107994\n",
      "Dataset Name:  reddit  Best AUC Score (structure type):  54.741389544597666\n",
      "===========================================================================================\n"
     ]
    },
    {
     "name": "stderr",
     "output_type": "stream",
     "text": [
      " 27%|██▋       | 136/500 [01:14<03:16,  1.85it/s]"
     ]
    },
    {
     "name": "stdout",
     "output_type": "stream",
     "text": [
      "Dataset Name:  reddit , AUC Score(benchmark/combined):  49.04361291836628\n",
      "Dataset Name:  reddit , AUC Score (contextual):  55.77736932878609\n",
      "Dataset Name:  reddit , AUC Score (structural):  49.53763768124591\n",
      "Dataset Name:  reddit , AUC Score (joint-type):  52.673932741503904\n",
      "Dataset Name:  reddit , AUC Score (structure type):  52.673932741503904\n",
      "===========================================================================================\n",
      "Dataset Name:  reddit  Best AUC Score(benchmark/combined):  57.47039258008104\n",
      "Dataset Name:  reddit  Best AUC Score (contextual):  60.030947347012486\n",
      "Dataset Name:  reddit  Best AUC Score (structural):  54.6650676379531\n",
      "Dataset Name:  reddit  Best AUC Score (joint-type):  53.616974344107994\n",
      "Dataset Name:  reddit  Best AUC Score (structure type):  54.741389544597666\n",
      "===========================================================================================\n"
     ]
    },
    {
     "name": "stderr",
     "output_type": "stream",
     "text": [
      " 27%|██▋       | 137/500 [01:14<03:15,  1.85it/s]"
     ]
    },
    {
     "name": "stdout",
     "output_type": "stream",
     "text": [
      "Dataset Name:  reddit , AUC Score(benchmark/combined):  50.72752527669788\n",
      "Dataset Name:  reddit , AUC Score (contextual):  54.126540600622384\n",
      "Dataset Name:  reddit , AUC Score (structural):  51.391907581909194\n",
      "Dataset Name:  reddit , AUC Score (joint-type):  50.85635159262222\n",
      "Dataset Name:  reddit , AUC Score (structure type):  50.85635159262222\n",
      "===========================================================================================\n",
      "Dataset Name:  reddit  Best AUC Score(benchmark/combined):  57.47039258008104\n",
      "Dataset Name:  reddit  Best AUC Score (contextual):  60.030947347012486\n",
      "Dataset Name:  reddit  Best AUC Score (structural):  54.6650676379531\n",
      "Dataset Name:  reddit  Best AUC Score (joint-type):  53.616974344107994\n",
      "Dataset Name:  reddit  Best AUC Score (structure type):  54.741389544597666\n",
      "===========================================================================================\n"
     ]
    },
    {
     "name": "stderr",
     "output_type": "stream",
     "text": [
      " 28%|██▊       | 138/500 [01:15<03:14,  1.86it/s]"
     ]
    },
    {
     "name": "stdout",
     "output_type": "stream",
     "text": [
      "Dataset Name:  reddit , AUC Score(benchmark/combined):  50.54094140581979\n",
      "Dataset Name:  reddit , AUC Score (contextual):  56.62590440168715\n",
      "Dataset Name:  reddit , AUC Score (structural):  50.39606711212695\n",
      "Dataset Name:  reddit , AUC Score (joint-type):  50.8716810779006\n",
      "Dataset Name:  reddit , AUC Score (structure type):  50.8716810779006\n",
      "===========================================================================================\n",
      "Dataset Name:  reddit  Best AUC Score(benchmark/combined):  57.47039258008104\n",
      "Dataset Name:  reddit  Best AUC Score (contextual):  60.030947347012486\n",
      "Dataset Name:  reddit  Best AUC Score (structural):  54.6650676379531\n",
      "Dataset Name:  reddit  Best AUC Score (joint-type):  53.616974344107994\n",
      "Dataset Name:  reddit  Best AUC Score (structure type):  54.741389544597666\n",
      "===========================================================================================\n"
     ]
    },
    {
     "name": "stderr",
     "output_type": "stream",
     "text": [
      " 28%|██▊       | 139/500 [01:15<03:13,  1.86it/s]"
     ]
    },
    {
     "name": "stdout",
     "output_type": "stream",
     "text": [
      "Dataset Name:  reddit , AUC Score(benchmark/combined):  50.1798935100412\n",
      "Dataset Name:  reddit , AUC Score (contextual):  56.89232377289494\n",
      "Dataset Name:  reddit , AUC Score (structural):  48.439529660772514\n",
      "Dataset Name:  reddit , AUC Score (joint-type):  50.176339673062046\n",
      "Dataset Name:  reddit , AUC Score (structure type):  50.176339673062046\n",
      "===========================================================================================\n",
      "Dataset Name:  reddit  Best AUC Score(benchmark/combined):  57.47039258008104\n",
      "Dataset Name:  reddit  Best AUC Score (contextual):  60.030947347012486\n",
      "Dataset Name:  reddit  Best AUC Score (structural):  54.6650676379531\n",
      "Dataset Name:  reddit  Best AUC Score (joint-type):  53.616974344107994\n",
      "Dataset Name:  reddit  Best AUC Score (structure type):  54.741389544597666\n",
      "===========================================================================================\n"
     ]
    },
    {
     "name": "stderr",
     "output_type": "stream",
     "text": [
      " 28%|██▊       | 140/500 [01:16<03:13,  1.86it/s]"
     ]
    },
    {
     "name": "stdout",
     "output_type": "stream",
     "text": [
      "Dataset Name:  reddit , AUC Score(benchmark/combined):  50.02261856606012\n",
      "Dataset Name:  reddit , AUC Score (contextual):  57.05007075341637\n",
      "Dataset Name:  reddit , AUC Score (structural):  51.548249688515966\n",
      "Dataset Name:  reddit , AUC Score (joint-type):  50.306766778829925\n",
      "Dataset Name:  reddit , AUC Score (structure type):  50.306766778829925\n",
      "===========================================================================================\n",
      "Dataset Name:  reddit  Best AUC Score(benchmark/combined):  57.47039258008104\n",
      "Dataset Name:  reddit  Best AUC Score (contextual):  60.030947347012486\n",
      "Dataset Name:  reddit  Best AUC Score (structural):  54.6650676379531\n",
      "Dataset Name:  reddit  Best AUC Score (joint-type):  53.616974344107994\n",
      "Dataset Name:  reddit  Best AUC Score (structure type):  54.741389544597666\n",
      "===========================================================================================\n"
     ]
    },
    {
     "name": "stderr",
     "output_type": "stream",
     "text": [
      " 28%|██▊       | 141/500 [01:17<03:12,  1.86it/s]"
     ]
    },
    {
     "name": "stdout",
     "output_type": "stream",
     "text": [
      "Dataset Name:  reddit , AUC Score(benchmark/combined):  50.0359220912627\n",
      "Dataset Name:  reddit , AUC Score (contextual):  57.99852573861053\n",
      "Dataset Name:  reddit , AUC Score (structural):  51.96384795998682\n",
      "Dataset Name:  reddit , AUC Score (joint-type):  50.78516814118102\n",
      "Dataset Name:  reddit , AUC Score (structure type):  50.78516814118102\n",
      "===========================================================================================\n",
      "Dataset Name:  reddit  Best AUC Score(benchmark/combined):  57.47039258008104\n",
      "Dataset Name:  reddit  Best AUC Score (contextual):  60.030947347012486\n",
      "Dataset Name:  reddit  Best AUC Score (structural):  54.6650676379531\n",
      "Dataset Name:  reddit  Best AUC Score (joint-type):  53.616974344107994\n",
      "Dataset Name:  reddit  Best AUC Score (structure type):  54.741389544597666\n",
      "===========================================================================================\n"
     ]
    },
    {
     "name": "stderr",
     "output_type": "stream",
     "text": [
      " 28%|██▊       | 142/500 [01:17<03:12,  1.86it/s]"
     ]
    },
    {
     "name": "stdout",
     "output_type": "stream",
     "text": [
      "Dataset Name:  reddit , AUC Score(benchmark/combined):  50.31344340520839\n",
      "Dataset Name:  reddit , AUC Score (contextual):  58.2536630133923\n",
      "Dataset Name:  reddit , AUC Score (structural):  50.454406960267306\n",
      "Dataset Name:  reddit , AUC Score (joint-type):  49.691158934383225\n",
      "Dataset Name:  reddit , AUC Score (structure type):  49.691158934383225\n",
      "===========================================================================================\n",
      "Dataset Name:  reddit  Best AUC Score(benchmark/combined):  57.47039258008104\n",
      "Dataset Name:  reddit  Best AUC Score (contextual):  60.030947347012486\n",
      "Dataset Name:  reddit  Best AUC Score (structural):  54.6650676379531\n",
      "Dataset Name:  reddit  Best AUC Score (joint-type):  53.616974344107994\n",
      "Dataset Name:  reddit  Best AUC Score (structure type):  54.741389544597666\n",
      "===========================================================================================\n"
     ]
    },
    {
     "name": "stderr",
     "output_type": "stream",
     "text": [
      " 29%|██▊       | 143/500 [01:18<03:11,  1.87it/s]"
     ]
    },
    {
     "name": "stdout",
     "output_type": "stream",
     "text": [
      "Dataset Name:  reddit , AUC Score(benchmark/combined):  52.31566254643367\n",
      "Dataset Name:  reddit , AUC Score (contextual):  57.13020905269346\n",
      "Dataset Name:  reddit , AUC Score (structural):  48.57344292796977\n",
      "Dataset Name:  reddit , AUC Score (joint-type):  50.7722164968534\n",
      "Dataset Name:  reddit , AUC Score (structure type):  50.7722164968534\n",
      "===========================================================================================\n",
      "Dataset Name:  reddit  Best AUC Score(benchmark/combined):  57.47039258008104\n",
      "Dataset Name:  reddit  Best AUC Score (contextual):  60.030947347012486\n",
      "Dataset Name:  reddit  Best AUC Score (structural):  54.6650676379531\n",
      "Dataset Name:  reddit  Best AUC Score (joint-type):  53.616974344107994\n",
      "Dataset Name:  reddit  Best AUC Score (structure type):  54.741389544597666\n",
      "===========================================================================================\n"
     ]
    },
    {
     "name": "stderr",
     "output_type": "stream",
     "text": [
      " 29%|██▉       | 144/500 [01:18<03:11,  1.86it/s]"
     ]
    },
    {
     "name": "stdout",
     "output_type": "stream",
     "text": [
      "Dataset Name:  reddit , AUC Score(benchmark/combined):  49.57831427609781\n",
      "Dataset Name:  reddit , AUC Score (contextual):  58.36587686932448\n",
      "Dataset Name:  reddit , AUC Score (structural):  48.71195468744509\n",
      "Dataset Name:  reddit , AUC Score (joint-type):  51.454302703200426\n",
      "Dataset Name:  reddit , AUC Score (structure type):  51.454302703200426\n",
      "===========================================================================================\n",
      "Dataset Name:  reddit  Best AUC Score(benchmark/combined):  57.47039258008104\n",
      "Dataset Name:  reddit  Best AUC Score (contextual):  60.030947347012486\n",
      "Dataset Name:  reddit  Best AUC Score (structural):  54.6650676379531\n",
      "Dataset Name:  reddit  Best AUC Score (joint-type):  53.616974344107994\n",
      "Dataset Name:  reddit  Best AUC Score (structure type):  54.741389544597666\n",
      "===========================================================================================\n"
     ]
    },
    {
     "name": "stderr",
     "output_type": "stream",
     "text": [
      " 29%|██▉       | 145/500 [01:19<03:30,  1.68it/s]"
     ]
    },
    {
     "name": "stdout",
     "output_type": "stream",
     "text": [
      "Dataset Name:  reddit , AUC Score(benchmark/combined):  51.171868164895784\n",
      "Dataset Name:  reddit , AUC Score (contextual):  55.83638531748982\n",
      "Dataset Name:  reddit , AUC Score (structural):  49.85095182490851\n",
      "Dataset Name:  reddit , AUC Score (joint-type):  51.30940618228529\n",
      "Dataset Name:  reddit , AUC Score (structure type):  51.30940618228529\n",
      "===========================================================================================\n",
      "Dataset Name:  reddit  Best AUC Score(benchmark/combined):  57.47039258008104\n",
      "Dataset Name:  reddit  Best AUC Score (contextual):  60.030947347012486\n",
      "Dataset Name:  reddit  Best AUC Score (structural):  54.6650676379531\n",
      "Dataset Name:  reddit  Best AUC Score (joint-type):  53.616974344107994\n",
      "Dataset Name:  reddit  Best AUC Score (structure type):  54.741389544597666\n",
      "===========================================================================================\n"
     ]
    },
    {
     "name": "stderr",
     "output_type": "stream",
     "text": [
      " 29%|██▉       | 146/500 [01:19<03:24,  1.73it/s]"
     ]
    },
    {
     "name": "stdout",
     "output_type": "stream",
     "text": [
      "Dataset Name:  reddit , AUC Score(benchmark/combined):  48.34179406657629\n",
      "Dataset Name:  reddit , AUC Score (contextual):  58.69363947782613\n",
      "Dataset Name:  reddit , AUC Score (structural):  49.516137160392894\n",
      "Dataset Name:  reddit , AUC Score (joint-type):  52.48203591754053\n",
      "Dataset Name:  reddit , AUC Score (structure type):  52.48203591754053\n",
      "===========================================================================================\n",
      "Dataset Name:  reddit  Best AUC Score(benchmark/combined):  57.47039258008104\n",
      "Dataset Name:  reddit  Best AUC Score (contextual):  60.030947347012486\n",
      "Dataset Name:  reddit  Best AUC Score (structural):  54.6650676379531\n",
      "Dataset Name:  reddit  Best AUC Score (joint-type):  53.616974344107994\n",
      "Dataset Name:  reddit  Best AUC Score (structure type):  54.741389544597666\n",
      "===========================================================================================\n"
     ]
    },
    {
     "name": "stderr",
     "output_type": "stream",
     "text": [
      " 29%|██▉       | 147/500 [01:20<03:20,  1.76it/s]"
     ]
    },
    {
     "name": "stdout",
     "output_type": "stream",
     "text": [
      "Dataset Name:  reddit , AUC Score(benchmark/combined):  54.4037241636277\n",
      "Dataset Name:  reddit , AUC Score (contextual):  53.859716490529365\n",
      "Dataset Name:  reddit , AUC Score (structural):  50.863473847608546\n",
      "Dataset Name:  reddit , AUC Score (joint-type):  51.61842432116435\n",
      "Dataset Name:  reddit , AUC Score (structure type):  51.61842432116435\n",
      "===========================================================================================\n",
      "Dataset Name:  reddit  Best AUC Score(benchmark/combined):  57.47039258008104\n",
      "Dataset Name:  reddit  Best AUC Score (contextual):  60.030947347012486\n",
      "Dataset Name:  reddit  Best AUC Score (structural):  54.6650676379531\n",
      "Dataset Name:  reddit  Best AUC Score (joint-type):  53.616974344107994\n",
      "Dataset Name:  reddit  Best AUC Score (structure type):  54.741389544597666\n",
      "===========================================================================================\n"
     ]
    },
    {
     "name": "stderr",
     "output_type": "stream",
     "text": [
      " 30%|██▉       | 148/500 [01:21<03:16,  1.79it/s]"
     ]
    },
    {
     "name": "stdout",
     "output_type": "stream",
     "text": [
      "Dataset Name:  reddit , AUC Score(benchmark/combined):  46.93741013044146\n",
      "Dataset Name:  reddit , AUC Score (contextual):  60.79339951825955\n",
      "Dataset Name:  reddit , AUC Score (structural):  51.753709793031376\n",
      "Dataset Name:  reddit , AUC Score (joint-type):  51.35529345339912\n",
      "Dataset Name:  reddit , AUC Score (structure type):  51.35529345339912\n",
      "===========================================================================================\n",
      "Dataset Name:  reddit  Best AUC Score(benchmark/combined):  57.47039258008104\n",
      "Dataset Name:  reddit  Best AUC Score (contextual):  60.79339951825955\n",
      "Dataset Name:  reddit  Best AUC Score (structural):  54.6650676379531\n",
      "Dataset Name:  reddit  Best AUC Score (joint-type):  53.616974344107994\n",
      "Dataset Name:  reddit  Best AUC Score (structure type):  54.741389544597666\n",
      "===========================================================================================\n"
     ]
    },
    {
     "name": "stderr",
     "output_type": "stream",
     "text": [
      " 30%|██▉       | 149/500 [01:21<03:13,  1.81it/s]"
     ]
    },
    {
     "name": "stdout",
     "output_type": "stream",
     "text": [
      "Dataset Name:  reddit , AUC Score(benchmark/combined):  55.67008080926604\n",
      "Dataset Name:  reddit , AUC Score (contextual):  52.90336909707308\n",
      "Dataset Name:  reddit , AUC Score (structural):  47.506639135390614\n",
      "Dataset Name:  reddit , AUC Score (joint-type):  52.037329067385485\n",
      "Dataset Name:  reddit , AUC Score (structure type):  52.037329067385485\n",
      "===========================================================================================\n",
      "Dataset Name:  reddit  Best AUC Score(benchmark/combined):  57.47039258008104\n",
      "Dataset Name:  reddit  Best AUC Score (contextual):  60.79339951825955\n",
      "Dataset Name:  reddit  Best AUC Score (structural):  54.6650676379531\n",
      "Dataset Name:  reddit  Best AUC Score (joint-type):  53.616974344107994\n",
      "Dataset Name:  reddit  Best AUC Score (structure type):  54.741389544597666\n",
      "===========================================================================================\n"
     ]
    },
    {
     "name": "stderr",
     "output_type": "stream",
     "text": [
      " 30%|███       | 150/500 [01:22<03:11,  1.83it/s]"
     ]
    },
    {
     "name": "stdout",
     "output_type": "stream",
     "text": [
      "Dataset Name:  reddit , AUC Score(benchmark/combined):  46.34106739046078\n",
      "Dataset Name:  reddit , AUC Score (contextual):  55.2813112325665\n",
      "Dataset Name:  reddit , AUC Score (structural):  50.961593803606256\n",
      "Dataset Name:  reddit , AUC Score (joint-type):  50.63010255577428\n",
      "Dataset Name:  reddit , AUC Score (structure type):  50.63010255577428\n",
      "===========================================================================================\n",
      "Dataset Name:  reddit  Best AUC Score(benchmark/combined):  57.47039258008104\n",
      "Dataset Name:  reddit  Best AUC Score (contextual):  60.79339951825955\n",
      "Dataset Name:  reddit  Best AUC Score (structural):  54.6650676379531\n",
      "Dataset Name:  reddit  Best AUC Score (joint-type):  53.616974344107994\n",
      "Dataset Name:  reddit  Best AUC Score (structure type):  54.741389544597666\n",
      "===========================================================================================\n"
     ]
    },
    {
     "name": "stderr",
     "output_type": "stream",
     "text": [
      " 30%|███       | 151/500 [01:22<03:09,  1.84it/s]"
     ]
    },
    {
     "name": "stdout",
     "output_type": "stream",
     "text": [
      "Dataset Name:  reddit , AUC Score(benchmark/combined):  52.30223036044577\n",
      "Dataset Name:  reddit , AUC Score (contextual):  60.961872079239775\n",
      "Dataset Name:  reddit , AUC Score (structural):  49.22898668061797\n",
      "Dataset Name:  reddit , AUC Score (joint-type):  48.854462473875365\n",
      "Dataset Name:  reddit , AUC Score (structure type):  48.854462473875365\n",
      "===========================================================================================\n",
      "Dataset Name:  reddit  Best AUC Score(benchmark/combined):  57.47039258008104\n",
      "Dataset Name:  reddit  Best AUC Score (contextual):  60.961872079239775\n",
      "Dataset Name:  reddit  Best AUC Score (structural):  54.6650676379531\n",
      "Dataset Name:  reddit  Best AUC Score (joint-type):  53.616974344107994\n",
      "Dataset Name:  reddit  Best AUC Score (structure type):  54.741389544597666\n",
      "===========================================================================================\n"
     ]
    },
    {
     "name": "stderr",
     "output_type": "stream",
     "text": [
      " 30%|███       | 152/500 [01:23<03:07,  1.85it/s]"
     ]
    },
    {
     "name": "stdout",
     "output_type": "stream",
     "text": [
      "Dataset Name:  reddit , AUC Score(benchmark/combined):  54.47712514165553\n",
      "Dataset Name:  reddit , AUC Score (contextual):  50.16419750650491\n",
      "Dataset Name:  reddit , AUC Score (structural):  51.92092648844277\n",
      "Dataset Name:  reddit , AUC Score (joint-type):  52.643071401504514\n",
      "Dataset Name:  reddit , AUC Score (structure type):  52.643071401504514\n",
      "===========================================================================================\n",
      "Dataset Name:  reddit  Best AUC Score(benchmark/combined):  57.47039258008104\n",
      "Dataset Name:  reddit  Best AUC Score (contextual):  60.961872079239775\n",
      "Dataset Name:  reddit  Best AUC Score (structural):  54.6650676379531\n",
      "Dataset Name:  reddit  Best AUC Score (joint-type):  53.616974344107994\n",
      "Dataset Name:  reddit  Best AUC Score (structure type):  54.741389544597666\n",
      "===========================================================================================\n"
     ]
    },
    {
     "name": "stderr",
     "output_type": "stream",
     "text": [
      " 31%|███       | 153/500 [01:23<03:06,  1.86it/s]"
     ]
    },
    {
     "name": "stdout",
     "output_type": "stream",
     "text": [
      "Dataset Name:  reddit , AUC Score(benchmark/combined):  43.66243990254718\n",
      "Dataset Name:  reddit , AUC Score (contextual):  58.451124997027705\n",
      "Dataset Name:  reddit , AUC Score (structural):  51.910872466933625\n",
      "Dataset Name:  reddit , AUC Score (joint-type):  51.004738986422524\n",
      "Dataset Name:  reddit , AUC Score (structure type):  51.004738986422524\n",
      "===========================================================================================\n",
      "Dataset Name:  reddit  Best AUC Score(benchmark/combined):  57.47039258008104\n",
      "Dataset Name:  reddit  Best AUC Score (contextual):  60.961872079239775\n",
      "Dataset Name:  reddit  Best AUC Score (structural):  54.6650676379531\n",
      "Dataset Name:  reddit  Best AUC Score (joint-type):  53.616974344107994\n",
      "Dataset Name:  reddit  Best AUC Score (structure type):  54.741389544597666\n",
      "===========================================================================================\n"
     ]
    },
    {
     "name": "stderr",
     "output_type": "stream",
     "text": [
      " 31%|███       | 154/500 [01:24<03:06,  1.86it/s]"
     ]
    },
    {
     "name": "stdout",
     "output_type": "stream",
     "text": [
      "Dataset Name:  reddit , AUC Score(benchmark/combined):  54.14979923771058\n",
      "Dataset Name:  reddit , AUC Score (contextual):  58.84746555039682\n",
      "Dataset Name:  reddit , AUC Score (structural):  47.0192188464581\n",
      "Dataset Name:  reddit , AUC Score (joint-type):  49.84900709962597\n",
      "Dataset Name:  reddit , AUC Score (structure type):  49.84900709962597\n",
      "===========================================================================================\n",
      "Dataset Name:  reddit  Best AUC Score(benchmark/combined):  57.47039258008104\n",
      "Dataset Name:  reddit  Best AUC Score (contextual):  60.961872079239775\n",
      "Dataset Name:  reddit  Best AUC Score (structural):  54.6650676379531\n",
      "Dataset Name:  reddit  Best AUC Score (joint-type):  53.616974344107994\n",
      "Dataset Name:  reddit  Best AUC Score (structure type):  54.741389544597666\n",
      "===========================================================================================\n"
     ]
    },
    {
     "name": "stderr",
     "output_type": "stream",
     "text": [
      " 31%|███       | 155/500 [01:24<03:05,  1.86it/s]"
     ]
    },
    {
     "name": "stdout",
     "output_type": "stream",
     "text": [
      "Dataset Name:  reddit , AUC Score(benchmark/combined):  52.14791461452714\n",
      "Dataset Name:  reddit , AUC Score (contextual):  51.828534394963434\n",
      "Dataset Name:  reddit , AUC Score (structural):  50.50525726691082\n",
      "Dataset Name:  reddit , AUC Score (joint-type):  51.521590542871195\n",
      "Dataset Name:  reddit , AUC Score (structure type):  51.521590542871195\n",
      "===========================================================================================\n",
      "Dataset Name:  reddit  Best AUC Score(benchmark/combined):  57.47039258008104\n",
      "Dataset Name:  reddit  Best AUC Score (contextual):  60.961872079239775\n",
      "Dataset Name:  reddit  Best AUC Score (structural):  54.6650676379531\n",
      "Dataset Name:  reddit  Best AUC Score (joint-type):  53.616974344107994\n",
      "Dataset Name:  reddit  Best AUC Score (structure type):  54.741389544597666\n",
      "===========================================================================================\n"
     ]
    },
    {
     "name": "stderr",
     "output_type": "stream",
     "text": [
      " 31%|███       | 156/500 [01:25<03:06,  1.85it/s]"
     ]
    },
    {
     "name": "stdout",
     "output_type": "stream",
     "text": [
      "Dataset Name:  reddit , AUC Score(benchmark/combined):  44.90153332777519\n",
      "Dataset Name:  reddit , AUC Score (contextual):  57.89435606802245\n",
      "Dataset Name:  reddit , AUC Score (structural):  50.496945500406795\n",
      "Dataset Name:  reddit , AUC Score (joint-type):  50.71034203977267\n",
      "Dataset Name:  reddit , AUC Score (structure type):  50.71034203977267\n",
      "===========================================================================================\n",
      "Dataset Name:  reddit  Best AUC Score(benchmark/combined):  57.47039258008104\n",
      "Dataset Name:  reddit  Best AUC Score (contextual):  60.961872079239775\n",
      "Dataset Name:  reddit  Best AUC Score (structural):  54.6650676379531\n",
      "Dataset Name:  reddit  Best AUC Score (joint-type):  53.616974344107994\n",
      "Dataset Name:  reddit  Best AUC Score (structure type):  54.741389544597666\n",
      "===========================================================================================\n"
     ]
    },
    {
     "name": "stderr",
     "output_type": "stream",
     "text": [
      " 31%|███▏      | 157/500 [01:25<03:06,  1.84it/s]"
     ]
    },
    {
     "name": "stdout",
     "output_type": "stream",
     "text": [
      "Dataset Name:  reddit , AUC Score(benchmark/combined):  52.73157140107478\n",
      "Dataset Name:  reddit , AUC Score (contextual):  56.56542123452443\n",
      "Dataset Name:  reddit , AUC Score (structural):  47.9822697786557\n",
      "Dataset Name:  reddit , AUC Score (joint-type):  51.83597147197968\n",
      "Dataset Name:  reddit , AUC Score (structure type):  51.83597147197968\n",
      "===========================================================================================\n",
      "Dataset Name:  reddit  Best AUC Score(benchmark/combined):  57.47039258008104\n",
      "Dataset Name:  reddit  Best AUC Score (contextual):  60.961872079239775\n",
      "Dataset Name:  reddit  Best AUC Score (structural):  54.6650676379531\n",
      "Dataset Name:  reddit  Best AUC Score (joint-type):  53.616974344107994\n",
      "Dataset Name:  reddit  Best AUC Score (structure type):  54.741389544597666\n",
      "===========================================================================================\n"
     ]
    },
    {
     "name": "stderr",
     "output_type": "stream",
     "text": [
      " 32%|███▏      | 158/500 [01:26<03:06,  1.84it/s]"
     ]
    },
    {
     "name": "stdout",
     "output_type": "stream",
     "text": [
      "Dataset Name:  reddit , AUC Score(benchmark/combined):  51.9674549970305\n",
      "Dataset Name:  reddit , AUC Score (contextual):  55.19540540417478\n",
      "Dataset Name:  reddit , AUC Score (structural):  50.93330329559718\n",
      "Dataset Name:  reddit , AUC Score (joint-type):  52.6081120802921\n",
      "Dataset Name:  reddit , AUC Score (structure type):  52.6081120802921\n",
      "===========================================================================================\n",
      "Dataset Name:  reddit  Best AUC Score(benchmark/combined):  57.47039258008104\n",
      "Dataset Name:  reddit  Best AUC Score (contextual):  60.961872079239775\n",
      "Dataset Name:  reddit  Best AUC Score (structural):  54.6650676379531\n",
      "Dataset Name:  reddit  Best AUC Score (joint-type):  53.616974344107994\n",
      "Dataset Name:  reddit  Best AUC Score (structure type):  54.741389544597666\n",
      "===========================================================================================\n"
     ]
    },
    {
     "name": "stderr",
     "output_type": "stream",
     "text": [
      " 32%|███▏      | 159/500 [01:26<03:05,  1.84it/s]"
     ]
    },
    {
     "name": "stdout",
     "output_type": "stream",
     "text": [
      "Dataset Name:  reddit , AUC Score(benchmark/combined):  47.41852427108518\n",
      "Dataset Name:  reddit , AUC Score (contextual):  59.265813780650745\n",
      "Dataset Name:  reddit , AUC Score (structural):  50.66241828310136\n",
      "Dataset Name:  reddit , AUC Score (joint-type):  49.21194809426166\n",
      "Dataset Name:  reddit , AUC Score (structure type):  49.21194809426166\n",
      "===========================================================================================\n",
      "Dataset Name:  reddit  Best AUC Score(benchmark/combined):  57.47039258008104\n",
      "Dataset Name:  reddit  Best AUC Score (contextual):  60.961872079239775\n",
      "Dataset Name:  reddit  Best AUC Score (structural):  54.6650676379531\n",
      "Dataset Name:  reddit  Best AUC Score (joint-type):  53.616974344107994\n",
      "Dataset Name:  reddit  Best AUC Score (structure type):  54.741389544597666\n",
      "===========================================================================================\n"
     ]
    },
    {
     "name": "stderr",
     "output_type": "stream",
     "text": [
      " 32%|███▏      | 160/500 [01:27<03:05,  1.84it/s]"
     ]
    },
    {
     "name": "stdout",
     "output_type": "stream",
     "text": [
      "Dataset Name:  reddit , AUC Score(benchmark/combined):  49.87837695963242\n",
      "Dataset Name:  reddit , AUC Score (contextual):  55.80210899314625\n",
      "Dataset Name:  reddit , AUC Score (structural):  48.80423286738373\n",
      "Dataset Name:  reddit , AUC Score (joint-type):  51.52265298244495\n",
      "Dataset Name:  reddit , AUC Score (structure type):  51.52265298244495\n",
      "===========================================================================================\n",
      "Dataset Name:  reddit  Best AUC Score(benchmark/combined):  57.47039258008104\n",
      "Dataset Name:  reddit  Best AUC Score (contextual):  60.961872079239775\n",
      "Dataset Name:  reddit  Best AUC Score (structural):  54.6650676379531\n",
      "Dataset Name:  reddit  Best AUC Score (joint-type):  53.616974344107994\n",
      "Dataset Name:  reddit  Best AUC Score (structure type):  54.741389544597666\n",
      "===========================================================================================\n"
     ]
    },
    {
     "name": "stderr",
     "output_type": "stream",
     "text": [
      " 32%|███▏      | 161/500 [01:28<03:22,  1.67it/s]"
     ]
    },
    {
     "name": "stdout",
     "output_type": "stream",
     "text": [
      "Dataset Name:  reddit , AUC Score(benchmark/combined):  52.14153303957503\n",
      "Dataset Name:  reddit , AUC Score (contextual):  54.21669618730911\n",
      "Dataset Name:  reddit , AUC Score (structural):  51.642452471747625\n",
      "Dataset Name:  reddit , AUC Score (joint-type):  52.61645981980012\n",
      "Dataset Name:  reddit , AUC Score (structure type):  52.61645981980012\n",
      "===========================================================================================\n",
      "Dataset Name:  reddit  Best AUC Score(benchmark/combined):  57.47039258008104\n",
      "Dataset Name:  reddit  Best AUC Score (contextual):  60.961872079239775\n",
      "Dataset Name:  reddit  Best AUC Score (structural):  54.6650676379531\n",
      "Dataset Name:  reddit  Best AUC Score (joint-type):  53.616974344107994\n",
      "Dataset Name:  reddit  Best AUC Score (structure type):  54.741389544597666\n",
      "===========================================================================================\n"
     ]
    },
    {
     "name": "stderr",
     "output_type": "stream",
     "text": [
      " 32%|███▏      | 162/500 [01:28<03:15,  1.73it/s]"
     ]
    },
    {
     "name": "stdout",
     "output_type": "stream",
     "text": [
      "Dataset Name:  reddit , AUC Score(benchmark/combined):  51.69752466941897\n",
      "Dataset Name:  reddit , AUC Score (contextual):  59.02003609259009\n",
      "Dataset Name:  reddit , AUC Score (structural):  52.86241722216587\n",
      "Dataset Name:  reddit , AUC Score (joint-type):  49.63034691687625\n",
      "Dataset Name:  reddit , AUC Score (structure type):  49.63034691687625\n",
      "===========================================================================================\n",
      "Dataset Name:  reddit  Best AUC Score(benchmark/combined):  57.47039258008104\n",
      "Dataset Name:  reddit  Best AUC Score (contextual):  60.961872079239775\n",
      "Dataset Name:  reddit  Best AUC Score (structural):  54.6650676379531\n",
      "Dataset Name:  reddit  Best AUC Score (joint-type):  53.616974344107994\n",
      "Dataset Name:  reddit  Best AUC Score (structure type):  54.741389544597666\n",
      "===========================================================================================\n"
     ]
    },
    {
     "name": "stderr",
     "output_type": "stream",
     "text": [
      " 33%|███▎      | 163/500 [01:29<03:10,  1.77it/s]"
     ]
    },
    {
     "name": "stdout",
     "output_type": "stream",
     "text": [
      "Dataset Name:  reddit , AUC Score(benchmark/combined):  45.97659711779255\n",
      "Dataset Name:  reddit , AUC Score (contextual):  55.621089526723644\n",
      "Dataset Name:  reddit , AUC Score (structural):  48.076543843490796\n",
      "Dataset Name:  reddit , AUC Score (joint-type):  50.969729072849454\n",
      "Dataset Name:  reddit , AUC Score (structure type):  50.969729072849454\n",
      "===========================================================================================\n",
      "Dataset Name:  reddit  Best AUC Score(benchmark/combined):  57.47039258008104\n",
      "Dataset Name:  reddit  Best AUC Score (contextual):  60.961872079239775\n",
      "Dataset Name:  reddit  Best AUC Score (structural):  54.6650676379531\n",
      "Dataset Name:  reddit  Best AUC Score (joint-type):  53.616974344107994\n",
      "Dataset Name:  reddit  Best AUC Score (structure type):  54.741389544597666\n",
      "===========================================================================================\n"
     ]
    },
    {
     "name": "stderr",
     "output_type": "stream",
     "text": [
      " 33%|███▎      | 164/500 [01:29<03:06,  1.80it/s]"
     ]
    },
    {
     "name": "stdout",
     "output_type": "stream",
     "text": [
      "Dataset Name:  reddit , AUC Score(benchmark/combined):  51.56451514955014\n",
      "Dataset Name:  reddit , AUC Score (contextual):  57.27123525801851\n",
      "Dataset Name:  reddit , AUC Score (structural):  51.5479247770212\n",
      "Dataset Name:  reddit , AUC Score (joint-type):  51.441275170331835\n",
      "Dataset Name:  reddit , AUC Score (structure type):  51.441275170331835\n",
      "===========================================================================================\n",
      "Dataset Name:  reddit  Best AUC Score(benchmark/combined):  57.47039258008104\n",
      "Dataset Name:  reddit  Best AUC Score (contextual):  60.961872079239775\n",
      "Dataset Name:  reddit  Best AUC Score (structural):  54.6650676379531\n",
      "Dataset Name:  reddit  Best AUC Score (joint-type):  53.616974344107994\n",
      "Dataset Name:  reddit  Best AUC Score (structure type):  54.741389544597666\n",
      "===========================================================================================\n"
     ]
    },
    {
     "name": "stderr",
     "output_type": "stream",
     "text": [
      " 33%|███▎      | 165/500 [01:30<03:05,  1.81it/s]"
     ]
    },
    {
     "name": "stdout",
     "output_type": "stream",
     "text": [
      "Dataset Name:  reddit , AUC Score(benchmark/combined):  51.62593780846423\n",
      "Dataset Name:  reddit , AUC Score (contextual):  54.63800407066134\n",
      "Dataset Name:  reddit , AUC Score (structural):  52.14602053042796\n",
      "Dataset Name:  reddit , AUC Score (joint-type):  51.50970133811734\n",
      "Dataset Name:  reddit , AUC Score (structure type):  51.50970133811734\n",
      "===========================================================================================\n",
      "Dataset Name:  reddit  Best AUC Score(benchmark/combined):  57.47039258008104\n",
      "Dataset Name:  reddit  Best AUC Score (contextual):  60.961872079239775\n",
      "Dataset Name:  reddit  Best AUC Score (structural):  54.6650676379531\n",
      "Dataset Name:  reddit  Best AUC Score (joint-type):  53.616974344107994\n",
      "Dataset Name:  reddit  Best AUC Score (structure type):  54.741389544597666\n",
      "===========================================================================================\n"
     ]
    },
    {
     "name": "stderr",
     "output_type": "stream",
     "text": [
      " 33%|███▎      | 166/500 [01:30<03:02,  1.83it/s]"
     ]
    },
    {
     "name": "stdout",
     "output_type": "stream",
     "text": [
      "Dataset Name:  reddit , AUC Score(benchmark/combined):  47.194114129321584\n",
      "Dataset Name:  reddit , AUC Score (contextual):  54.89030817324646\n",
      "Dataset Name:  reddit , AUC Score (structural):  51.68774944416927\n",
      "Dataset Name:  reddit , AUC Score (joint-type):  52.294995960200005\n",
      "Dataset Name:  reddit , AUC Score (structure type):  52.294995960200005\n",
      "===========================================================================================\n",
      "Dataset Name:  reddit  Best AUC Score(benchmark/combined):  57.47039258008104\n",
      "Dataset Name:  reddit  Best AUC Score (contextual):  60.961872079239775\n",
      "Dataset Name:  reddit  Best AUC Score (structural):  54.6650676379531\n",
      "Dataset Name:  reddit  Best AUC Score (joint-type):  53.616974344107994\n",
      "Dataset Name:  reddit  Best AUC Score (structure type):  54.741389544597666\n",
      "===========================================================================================\n"
     ]
    },
    {
     "name": "stderr",
     "output_type": "stream",
     "text": [
      " 33%|███▎      | 167/500 [01:31<03:02,  1.82it/s]"
     ]
    },
    {
     "name": "stdout",
     "output_type": "stream",
     "text": [
      "Dataset Name:  reddit , AUC Score(benchmark/combined):  52.797342794532845\n",
      "Dataset Name:  reddit , AUC Score (contextual):  57.358431191606925\n",
      "Dataset Name:  reddit , AUC Score (structural):  49.226292899092435\n",
      "Dataset Name:  reddit , AUC Score (joint-type):  49.75070614287384\n",
      "Dataset Name:  reddit , AUC Score (structure type):  49.75070614287384\n",
      "===========================================================================================\n",
      "Dataset Name:  reddit  Best AUC Score(benchmark/combined):  57.47039258008104\n",
      "Dataset Name:  reddit  Best AUC Score (contextual):  60.961872079239775\n",
      "Dataset Name:  reddit  Best AUC Score (structural):  54.6650676379531\n",
      "Dataset Name:  reddit  Best AUC Score (joint-type):  53.616974344107994\n",
      "Dataset Name:  reddit  Best AUC Score (structure type):  54.741389544597666\n",
      "===========================================================================================\n"
     ]
    },
    {
     "name": "stderr",
     "output_type": "stream",
     "text": [
      " 34%|███▎      | 168/500 [01:32<03:01,  1.83it/s]"
     ]
    },
    {
     "name": "stdout",
     "output_type": "stream",
     "text": [
      "Dataset Name:  reddit , AUC Score(benchmark/combined):  54.43187514345678\n",
      "Dataset Name:  reddit , AUC Score (contextual):  57.04526447915417\n",
      "Dataset Name:  reddit , AUC Score (structural):  49.51033185399141\n",
      "Dataset Name:  reddit , AUC Score (joint-type):  52.23762422321754\n",
      "Dataset Name:  reddit , AUC Score (structure type):  52.23762422321754\n",
      "===========================================================================================\n",
      "Dataset Name:  reddit  Best AUC Score(benchmark/combined):  57.47039258008104\n",
      "Dataset Name:  reddit  Best AUC Score (contextual):  60.961872079239775\n",
      "Dataset Name:  reddit  Best AUC Score (structural):  54.6650676379531\n",
      "Dataset Name:  reddit  Best AUC Score (joint-type):  53.616974344107994\n",
      "Dataset Name:  reddit  Best AUC Score (structure type):  54.741389544597666\n",
      "===========================================================================================\n"
     ]
    },
    {
     "name": "stderr",
     "output_type": "stream",
     "text": [
      " 34%|███▍      | 169/500 [01:32<03:00,  1.84it/s]"
     ]
    },
    {
     "name": "stdout",
     "output_type": "stream",
     "text": [
      "Dataset Name:  reddit , AUC Score(benchmark/combined):  46.834121251982666\n",
      "Dataset Name:  reddit , AUC Score (contextual):  55.20800290197781\n",
      "Dataset Name:  reddit , AUC Score (structural):  48.213212227546784\n",
      "Dataset Name:  reddit , AUC Score (joint-type):  51.293064849793815\n",
      "Dataset Name:  reddit , AUC Score (structure type):  51.293064849793815\n",
      "===========================================================================================\n",
      "Dataset Name:  reddit  Best AUC Score(benchmark/combined):  57.47039258008104\n",
      "Dataset Name:  reddit  Best AUC Score (contextual):  60.961872079239775\n",
      "Dataset Name:  reddit  Best AUC Score (structural):  54.6650676379531\n",
      "Dataset Name:  reddit  Best AUC Score (joint-type):  53.616974344107994\n",
      "Dataset Name:  reddit  Best AUC Score (structure type):  54.741389544597666\n",
      "===========================================================================================\n"
     ]
    },
    {
     "name": "stderr",
     "output_type": "stream",
     "text": [
      " 34%|███▍      | 170/500 [01:33<02:59,  1.84it/s]"
     ]
    },
    {
     "name": "stdout",
     "output_type": "stream",
     "text": [
      "Dataset Name:  reddit , AUC Score(benchmark/combined):  51.15367552985084\n",
      "Dataset Name:  reddit , AUC Score (contextual):  56.907552073452\n",
      "Dataset Name:  reddit , AUC Score (structural):  50.78946033526888\n",
      "Dataset Name:  reddit , AUC Score (joint-type):  50.29239854840398\n",
      "Dataset Name:  reddit , AUC Score (structure type):  50.29239854840398\n",
      "===========================================================================================\n",
      "Dataset Name:  reddit  Best AUC Score(benchmark/combined):  57.47039258008104\n",
      "Dataset Name:  reddit  Best AUC Score (contextual):  60.961872079239775\n",
      "Dataset Name:  reddit  Best AUC Score (structural):  54.6650676379531\n",
      "Dataset Name:  reddit  Best AUC Score (joint-type):  53.616974344107994\n",
      "Dataset Name:  reddit  Best AUC Score (structure type):  54.741389544597666\n",
      "===========================================================================================\n"
     ]
    },
    {
     "name": "stderr",
     "output_type": "stream",
     "text": [
      " 34%|███▍      | 171/500 [01:33<02:59,  1.83it/s]"
     ]
    },
    {
     "name": "stdout",
     "output_type": "stream",
     "text": [
      "Dataset Name:  reddit , AUC Score(benchmark/combined):  52.959970027183445\n",
      "Dataset Name:  reddit , AUC Score (contextual):  56.17881971058135\n",
      "Dataset Name:  reddit , AUC Score (structural):  51.07202889988284\n",
      "Dataset Name:  reddit , AUC Score (joint-type):  52.23544875170939\n",
      "Dataset Name:  reddit , AUC Score (structure type):  52.23544875170939\n",
      "===========================================================================================\n",
      "Dataset Name:  reddit  Best AUC Score(benchmark/combined):  57.47039258008104\n",
      "Dataset Name:  reddit  Best AUC Score (contextual):  60.961872079239775\n",
      "Dataset Name:  reddit  Best AUC Score (structural):  54.6650676379531\n",
      "Dataset Name:  reddit  Best AUC Score (joint-type):  53.616974344107994\n",
      "Dataset Name:  reddit  Best AUC Score (structure type):  54.741389544597666\n",
      "===========================================================================================\n"
     ]
    },
    {
     "name": "stderr",
     "output_type": "stream",
     "text": [
      " 34%|███▍      | 172/500 [01:34<02:58,  1.84it/s]"
     ]
    },
    {
     "name": "stdout",
     "output_type": "stream",
     "text": [
      "Dataset Name:  reddit , AUC Score(benchmark/combined):  48.0127055098724\n",
      "Dataset Name:  reddit , AUC Score (contextual):  57.76865934797577\n",
      "Dataset Name:  reddit , AUC Score (structural):  49.292307952440915\n",
      "Dataset Name:  reddit , AUC Score (joint-type):  50.01581011270459\n",
      "Dataset Name:  reddit , AUC Score (structure type):  50.01581011270459\n",
      "===========================================================================================\n",
      "Dataset Name:  reddit  Best AUC Score(benchmark/combined):  57.47039258008104\n",
      "Dataset Name:  reddit  Best AUC Score (contextual):  60.961872079239775\n",
      "Dataset Name:  reddit  Best AUC Score (structural):  54.6650676379531\n",
      "Dataset Name:  reddit  Best AUC Score (joint-type):  53.616974344107994\n",
      "Dataset Name:  reddit  Best AUC Score (structure type):  54.741389544597666\n",
      "===========================================================================================\n"
     ]
    },
    {
     "name": "stderr",
     "output_type": "stream",
     "text": [
      " 35%|███▍      | 173/500 [01:34<02:57,  1.84it/s]"
     ]
    },
    {
     "name": "stdout",
     "output_type": "stream",
     "text": [
      "Dataset Name:  reddit , AUC Score(benchmark/combined):  50.75740031105032\n",
      "Dataset Name:  reddit , AUC Score (contextual):  57.51096715898093\n",
      "Dataset Name:  reddit , AUC Score (structural):  52.319829945302146\n",
      "Dataset Name:  reddit , AUC Score (joint-type):  50.823820704721236\n",
      "Dataset Name:  reddit , AUC Score (structure type):  50.823820704721236\n",
      "===========================================================================================\n",
      "Dataset Name:  reddit  Best AUC Score(benchmark/combined):  57.47039258008104\n",
      "Dataset Name:  reddit  Best AUC Score (contextual):  60.961872079239775\n",
      "Dataset Name:  reddit  Best AUC Score (structural):  54.6650676379531\n",
      "Dataset Name:  reddit  Best AUC Score (joint-type):  53.616974344107994\n",
      "Dataset Name:  reddit  Best AUC Score (structure type):  54.741389544597666\n",
      "===========================================================================================\n"
     ]
    },
    {
     "name": "stderr",
     "output_type": "stream",
     "text": [
      " 35%|███▍      | 174/500 [01:35<02:58,  1.83it/s]"
     ]
    },
    {
     "name": "stdout",
     "output_type": "stream",
     "text": [
      "Dataset Name:  reddit , AUC Score(benchmark/combined):  53.046648798256804\n",
      "Dataset Name:  reddit , AUC Score (contextual):  53.19756367428031\n",
      "Dataset Name:  reddit , AUC Score (structural):  51.277376280002095\n",
      "Dataset Name:  reddit , AUC Score (joint-type):  52.26656305351205\n",
      "Dataset Name:  reddit , AUC Score (structure type):  52.26656305351205\n",
      "===========================================================================================\n",
      "Dataset Name:  reddit  Best AUC Score(benchmark/combined):  57.47039258008104\n",
      "Dataset Name:  reddit  Best AUC Score (contextual):  60.961872079239775\n",
      "Dataset Name:  reddit  Best AUC Score (structural):  54.6650676379531\n",
      "Dataset Name:  reddit  Best AUC Score (joint-type):  53.616974344107994\n",
      "Dataset Name:  reddit  Best AUC Score (structure type):  54.741389544597666\n",
      "===========================================================================================\n"
     ]
    },
    {
     "name": "stderr",
     "output_type": "stream",
     "text": [
      " 35%|███▌      | 175/500 [01:35<02:58,  1.82it/s]"
     ]
    },
    {
     "name": "stdout",
     "output_type": "stream",
     "text": [
      "Dataset Name:  reddit , AUC Score(benchmark/combined):  50.26300837736106\n",
      "Dataset Name:  reddit , AUC Score (contextual):  57.49336101747309\n",
      "Dataset Name:  reddit , AUC Score (structural):  50.19778324159556\n",
      "Dataset Name:  reddit , AUC Score (joint-type):  50.87001152999899\n",
      "Dataset Name:  reddit , AUC Score (structure type):  50.87001152999899\n",
      "===========================================================================================\n",
      "Dataset Name:  reddit  Best AUC Score(benchmark/combined):  57.47039258008104\n",
      "Dataset Name:  reddit  Best AUC Score (contextual):  60.961872079239775\n",
      "Dataset Name:  reddit  Best AUC Score (structural):  54.6650676379531\n",
      "Dataset Name:  reddit  Best AUC Score (joint-type):  53.616974344107994\n",
      "Dataset Name:  reddit  Best AUC Score (structure type):  54.741389544597666\n",
      "===========================================================================================\n"
     ]
    },
    {
     "name": "stderr",
     "output_type": "stream",
     "text": [
      " 35%|███▌      | 176/500 [01:36<02:58,  1.81it/s]"
     ]
    },
    {
     "name": "stdout",
     "output_type": "stream",
     "text": [
      "Dataset Name:  reddit , AUC Score(benchmark/combined):  50.95767368948698\n",
      "Dataset Name:  reddit , AUC Score (contextual):  55.719339891115126\n",
      "Dataset Name:  reddit , AUC Score (structural):  45.969457987949106\n",
      "Dataset Name:  reddit , AUC Score (joint-type):  50.98359137966886\n",
      "Dataset Name:  reddit , AUC Score (structure type):  50.98359137966886\n",
      "===========================================================================================\n",
      "Dataset Name:  reddit  Best AUC Score(benchmark/combined):  57.47039258008104\n",
      "Dataset Name:  reddit  Best AUC Score (contextual):  60.961872079239775\n",
      "Dataset Name:  reddit  Best AUC Score (structural):  54.6650676379531\n",
      "Dataset Name:  reddit  Best AUC Score (joint-type):  53.616974344107994\n",
      "Dataset Name:  reddit  Best AUC Score (structure type):  54.741389544597666\n",
      "===========================================================================================\n"
     ]
    },
    {
     "name": "stderr",
     "output_type": "stream",
     "text": [
      " 35%|███▌      | 177/500 [01:36<02:58,  1.81it/s]"
     ]
    },
    {
     "name": "stdout",
     "output_type": "stream",
     "text": [
      "Dataset Name:  reddit , AUC Score(benchmark/combined):  51.33112448497088\n",
      "Dataset Name:  reddit , AUC Score (contextual):  57.08940631382542\n",
      "Dataset Name:  reddit , AUC Score (structural):  51.55897839869027\n",
      "Dataset Name:  reddit , AUC Score (joint-type):  51.763573803882764\n",
      "Dataset Name:  reddit , AUC Score (structure type):  51.763573803882764\n",
      "===========================================================================================\n",
      "Dataset Name:  reddit  Best AUC Score(benchmark/combined):  57.47039258008104\n",
      "Dataset Name:  reddit  Best AUC Score (contextual):  60.961872079239775\n",
      "Dataset Name:  reddit  Best AUC Score (structural):  54.6650676379531\n",
      "Dataset Name:  reddit  Best AUC Score (joint-type):  53.616974344107994\n",
      "Dataset Name:  reddit  Best AUC Score (structure type):  54.741389544597666\n",
      "===========================================================================================\n"
     ]
    },
    {
     "name": "stderr",
     "output_type": "stream",
     "text": [
      " 36%|███▌      | 178/500 [01:37<02:57,  1.82it/s]"
     ]
    },
    {
     "name": "stdout",
     "output_type": "stream",
     "text": [
      "Dataset Name:  reddit , AUC Score(benchmark/combined):  50.42611165491737\n",
      "Dataset Name:  reddit , AUC Score (contextual):  58.657895975023564\n",
      "Dataset Name:  reddit , AUC Score (structural):  51.37934544258581\n",
      "Dataset Name:  reddit , AUC Score (joint-type):  50.575159252103255\n",
      "Dataset Name:  reddit , AUC Score (structure type):  50.575159252103255\n",
      "===========================================================================================\n",
      "Dataset Name:  reddit  Best AUC Score(benchmark/combined):  57.47039258008104\n",
      "Dataset Name:  reddit  Best AUC Score (contextual):  60.961872079239775\n",
      "Dataset Name:  reddit  Best AUC Score (structural):  54.6650676379531\n",
      "Dataset Name:  reddit  Best AUC Score (joint-type):  53.616974344107994\n",
      "Dataset Name:  reddit  Best AUC Score (structure type):  54.741389544597666\n",
      "===========================================================================================\n"
     ]
    },
    {
     "name": "stderr",
     "output_type": "stream",
     "text": [
      " 36%|███▌      | 179/500 [01:38<02:55,  1.83it/s]"
     ]
    },
    {
     "name": "stdout",
     "output_type": "stream",
     "text": [
      "Dataset Name:  reddit , AUC Score(benchmark/combined):  50.386098150681335\n",
      "Dataset Name:  reddit , AUC Score (contextual):  52.162191013481355\n",
      "Dataset Name:  reddit , AUC Score (structural):  45.849817618557886\n",
      "Dataset Name:  reddit , AUC Score (joint-type):  52.44874614422971\n",
      "Dataset Name:  reddit , AUC Score (structure type):  52.44874614422971\n",
      "===========================================================================================\n",
      "Dataset Name:  reddit  Best AUC Score(benchmark/combined):  57.47039258008104\n",
      "Dataset Name:  reddit  Best AUC Score (contextual):  60.961872079239775\n",
      "Dataset Name:  reddit  Best AUC Score (structural):  54.6650676379531\n",
      "Dataset Name:  reddit  Best AUC Score (joint-type):  53.616974344107994\n",
      "Dataset Name:  reddit  Best AUC Score (structure type):  54.741389544597666\n",
      "===========================================================================================\n"
     ]
    },
    {
     "name": "stderr",
     "output_type": "stream",
     "text": [
      " 36%|███▌      | 180/500 [01:38<02:54,  1.84it/s]"
     ]
    },
    {
     "name": "stdout",
     "output_type": "stream",
     "text": [
      "Dataset Name:  reddit , AUC Score(benchmark/combined):  52.631138792050194\n",
      "Dataset Name:  reddit , AUC Score (contextual):  58.85692632183925\n",
      "Dataset Name:  reddit , AUC Score (structural):  49.926560055911295\n",
      "Dataset Name:  reddit , AUC Score (joint-type):  50.99163556501296\n",
      "Dataset Name:  reddit , AUC Score (structure type):  50.99163556501296\n",
      "===========================================================================================\n",
      "Dataset Name:  reddit  Best AUC Score(benchmark/combined):  57.47039258008104\n",
      "Dataset Name:  reddit  Best AUC Score (contextual):  60.961872079239775\n",
      "Dataset Name:  reddit  Best AUC Score (structural):  54.6650676379531\n",
      "Dataset Name:  reddit  Best AUC Score (joint-type):  53.616974344107994\n",
      "Dataset Name:  reddit  Best AUC Score (structure type):  54.741389544597666\n",
      "===========================================================================================\n"
     ]
    },
    {
     "name": "stderr",
     "output_type": "stream",
     "text": [
      " 36%|███▌      | 181/500 [01:39<03:08,  1.69it/s]"
     ]
    },
    {
     "name": "stdout",
     "output_type": "stream",
     "text": [
      "Dataset Name:  reddit , AUC Score(benchmark/combined):  49.66065717870571\n",
      "Dataset Name:  reddit , AUC Score (contextual):  51.23169631631963\n",
      "Dataset Name:  reddit , AUC Score (structural):  50.71698517939425\n",
      "Dataset Name:  reddit , AUC Score (joint-type):  52.7825545398296\n",
      "Dataset Name:  reddit , AUC Score (structure type):  52.7825545398296\n",
      "===========================================================================================\n",
      "Dataset Name:  reddit  Best AUC Score(benchmark/combined):  57.47039258008104\n",
      "Dataset Name:  reddit  Best AUC Score (contextual):  60.961872079239775\n",
      "Dataset Name:  reddit  Best AUC Score (structural):  54.6650676379531\n",
      "Dataset Name:  reddit  Best AUC Score (joint-type):  53.616974344107994\n",
      "Dataset Name:  reddit  Best AUC Score (structure type):  54.741389544597666\n",
      "===========================================================================================\n"
     ]
    },
    {
     "name": "stderr",
     "output_type": "stream",
     "text": [
      " 36%|███▋      | 182/500 [01:39<03:03,  1.74it/s]"
     ]
    },
    {
     "name": "stdout",
     "output_type": "stream",
     "text": [
      "Dataset Name:  reddit , AUC Score(benchmark/combined):  52.74394856862303\n",
      "Dataset Name:  reddit , AUC Score (contextual):  55.493394408431115\n",
      "Dataset Name:  reddit , AUC Score (structural):  53.792116652509804\n",
      "Dataset Name:  reddit , AUC Score (joint-type):  51.816088674242366\n",
      "Dataset Name:  reddit , AUC Score (structure type):  51.816088674242366\n",
      "===========================================================================================\n",
      "Dataset Name:  reddit  Best AUC Score(benchmark/combined):  57.47039258008104\n",
      "Dataset Name:  reddit  Best AUC Score (contextual):  60.961872079239775\n",
      "Dataset Name:  reddit  Best AUC Score (structural):  54.6650676379531\n",
      "Dataset Name:  reddit  Best AUC Score (joint-type):  53.616974344107994\n",
      "Dataset Name:  reddit  Best AUC Score (structure type):  54.741389544597666\n",
      "===========================================================================================\n"
     ]
    },
    {
     "name": "stderr",
     "output_type": "stream",
     "text": [
      " 37%|███▋      | 183/500 [01:40<02:58,  1.77it/s]"
     ]
    },
    {
     "name": "stdout",
     "output_type": "stream",
     "text": [
      "Dataset Name:  reddit , AUC Score(benchmark/combined):  52.050647060821554\n",
      "Dataset Name:  reddit , AUC Score (contextual):  51.516025383199185\n",
      "Dataset Name:  reddit , AUC Score (structural):  50.17560637436568\n",
      "Dataset Name:  reddit , AUC Score (joint-type):  52.90544338385992\n",
      "Dataset Name:  reddit , AUC Score (structure type):  52.90544338385992\n",
      "===========================================================================================\n",
      "Dataset Name:  reddit  Best AUC Score(benchmark/combined):  57.47039258008104\n",
      "Dataset Name:  reddit  Best AUC Score (contextual):  60.961872079239775\n",
      "Dataset Name:  reddit  Best AUC Score (structural):  54.6650676379531\n",
      "Dataset Name:  reddit  Best AUC Score (joint-type):  53.616974344107994\n",
      "Dataset Name:  reddit  Best AUC Score (structure type):  54.741389544597666\n",
      "===========================================================================================\n"
     ]
    },
    {
     "name": "stderr",
     "output_type": "stream",
     "text": [
      " 37%|███▋      | 184/500 [01:40<02:56,  1.79it/s]"
     ]
    },
    {
     "name": "stdout",
     "output_type": "stream",
     "text": [
      "Dataset Name:  reddit , AUC Score(benchmark/combined):  54.09962153143388\n",
      "Dataset Name:  reddit , AUC Score (contextual):  54.828610789428026\n",
      "Dataset Name:  reddit , AUC Score (structural):  50.41639563080241\n",
      "Dataset Name:  reddit , AUC Score (joint-type):  53.35298340621162\n",
      "Dataset Name:  reddit , AUC Score (structure type):  53.35298340621162\n",
      "===========================================================================================\n",
      "Dataset Name:  reddit  Best AUC Score(benchmark/combined):  57.47039258008104\n",
      "Dataset Name:  reddit  Best AUC Score (contextual):  60.961872079239775\n",
      "Dataset Name:  reddit  Best AUC Score (structural):  54.6650676379531\n",
      "Dataset Name:  reddit  Best AUC Score (joint-type):  53.616974344107994\n",
      "Dataset Name:  reddit  Best AUC Score (structure type):  54.741389544597666\n",
      "===========================================================================================\n"
     ]
    },
    {
     "name": "stderr",
     "output_type": "stream",
     "text": [
      " 37%|███▋      | 185/500 [01:41<02:54,  1.81it/s]"
     ]
    },
    {
     "name": "stdout",
     "output_type": "stream",
     "text": [
      "Dataset Name:  reddit , AUC Score(benchmark/combined):  50.73202840418426\n",
      "Dataset Name:  reddit , AUC Score (contextual):  54.15350632885135\n",
      "Dataset Name:  reddit , AUC Score (structural):  47.12081999704264\n",
      "Dataset Name:  reddit , AUC Score (joint-type):  53.49894236670052\n",
      "Dataset Name:  reddit , AUC Score (structure type):  53.49894236670052\n",
      "===========================================================================================\n",
      "Dataset Name:  reddit  Best AUC Score(benchmark/combined):  57.47039258008104\n",
      "Dataset Name:  reddit  Best AUC Score (contextual):  60.961872079239775\n",
      "Dataset Name:  reddit  Best AUC Score (structural):  54.6650676379531\n",
      "Dataset Name:  reddit  Best AUC Score (joint-type):  53.616974344107994\n",
      "Dataset Name:  reddit  Best AUC Score (structure type):  54.741389544597666\n",
      "===========================================================================================\n"
     ]
    },
    {
     "name": "stderr",
     "output_type": "stream",
     "text": [
      " 37%|███▋      | 186/500 [01:41<02:52,  1.82it/s]"
     ]
    },
    {
     "name": "stdout",
     "output_type": "stream",
     "text": [
      "Dataset Name:  reddit , AUC Score(benchmark/combined):  52.71979893921757\n",
      "Dataset Name:  reddit , AUC Score (contextual):  54.04731296383709\n",
      "Dataset Name:  reddit , AUC Score (structural):  48.97112630901205\n",
      "Dataset Name:  reddit , AUC Score (joint-type):  50.20446902558607\n",
      "Dataset Name:  reddit , AUC Score (structure type):  50.20446902558607\n",
      "===========================================================================================\n",
      "Dataset Name:  reddit  Best AUC Score(benchmark/combined):  57.47039258008104\n",
      "Dataset Name:  reddit  Best AUC Score (contextual):  60.961872079239775\n",
      "Dataset Name:  reddit  Best AUC Score (structural):  54.6650676379531\n",
      "Dataset Name:  reddit  Best AUC Score (joint-type):  53.616974344107994\n",
      "Dataset Name:  reddit  Best AUC Score (structure type):  54.741389544597666\n",
      "===========================================================================================\n"
     ]
    },
    {
     "name": "stderr",
     "output_type": "stream",
     "text": [
      " 37%|███▋      | 187/500 [01:42<02:50,  1.83it/s]"
     ]
    },
    {
     "name": "stdout",
     "output_type": "stream",
     "text": [
      "Dataset Name:  reddit , AUC Score(benchmark/combined):  52.89287342763653\n",
      "Dataset Name:  reddit , AUC Score (contextual):  55.410422936957374\n",
      "Dataset Name:  reddit , AUC Score (structural):  47.21323576705305\n",
      "Dataset Name:  reddit , AUC Score (joint-type):  54.11981181665531\n",
      "Dataset Name:  reddit , AUC Score (structure type):  54.11981181665531\n",
      "===========================================================================================\n",
      "Dataset Name:  reddit  Best AUC Score(benchmark/combined):  57.47039258008104\n",
      "Dataset Name:  reddit  Best AUC Score (contextual):  60.961872079239775\n",
      "Dataset Name:  reddit  Best AUC Score (structural):  54.6650676379531\n",
      "Dataset Name:  reddit  Best AUC Score (joint-type):  54.11981181665531\n",
      "Dataset Name:  reddit  Best AUC Score (structure type):  54.741389544597666\n",
      "===========================================================================================\n"
     ]
    },
    {
     "name": "stderr",
     "output_type": "stream",
     "text": [
      " 38%|███▊      | 188/500 [01:43<02:49,  1.84it/s]"
     ]
    },
    {
     "name": "stdout",
     "output_type": "stream",
     "text": [
      "Dataset Name:  reddit , AUC Score(benchmark/combined):  50.96190662932416\n",
      "Dataset Name:  reddit , AUC Score (contextual):  54.80331460910066\n",
      "Dataset Name:  reddit , AUC Score (structural):  44.45934064185271\n",
      "Dataset Name:  reddit , AUC Score (joint-type):  52.21829794144743\n",
      "Dataset Name:  reddit , AUC Score (structure type):  52.21829794144743\n",
      "===========================================================================================\n",
      "Dataset Name:  reddit  Best AUC Score(benchmark/combined):  57.47039258008104\n",
      "Dataset Name:  reddit  Best AUC Score (contextual):  60.961872079239775\n",
      "Dataset Name:  reddit  Best AUC Score (structural):  54.6650676379531\n",
      "Dataset Name:  reddit  Best AUC Score (joint-type):  54.11981181665531\n",
      "Dataset Name:  reddit  Best AUC Score (structure type):  54.741389544597666\n",
      "===========================================================================================\n"
     ]
    },
    {
     "name": "stderr",
     "output_type": "stream",
     "text": [
      " 38%|███▊      | 189/500 [01:43<02:48,  1.84it/s]"
     ]
    },
    {
     "name": "stdout",
     "output_type": "stream",
     "text": [
      "Dataset Name:  reddit , AUC Score(benchmark/combined):  53.37451507750011\n",
      "Dataset Name:  reddit , AUC Score (contextual):  52.99228517092376\n",
      "Dataset Name:  reddit , AUC Score (structural):  50.18800440022996\n",
      "Dataset Name:  reddit , AUC Score (joint-type):  51.347097490973056\n",
      "Dataset Name:  reddit , AUC Score (structure type):  51.347097490973056\n",
      "===========================================================================================\n",
      "Dataset Name:  reddit  Best AUC Score(benchmark/combined):  57.47039258008104\n",
      "Dataset Name:  reddit  Best AUC Score (contextual):  60.961872079239775\n",
      "Dataset Name:  reddit  Best AUC Score (structural):  54.6650676379531\n",
      "Dataset Name:  reddit  Best AUC Score (joint-type):  54.11981181665531\n",
      "Dataset Name:  reddit  Best AUC Score (structure type):  54.741389544597666\n",
      "===========================================================================================\n"
     ]
    },
    {
     "name": "stderr",
     "output_type": "stream",
     "text": [
      " 38%|███▊      | 190/500 [01:44<02:48,  1.84it/s]"
     ]
    },
    {
     "name": "stdout",
     "output_type": "stream",
     "text": [
      "Dataset Name:  reddit , AUC Score(benchmark/combined):  52.48019395870709\n",
      "Dataset Name:  reddit , AUC Score (contextual):  56.77069973788098\n",
      "Dataset Name:  reddit , AUC Score (structural):  46.607859343824664\n",
      "Dataset Name:  reddit , AUC Score (joint-type):  53.17029439188741\n",
      "Dataset Name:  reddit , AUC Score (structure type):  53.17029439188741\n",
      "===========================================================================================\n",
      "Dataset Name:  reddit  Best AUC Score(benchmark/combined):  57.47039258008104\n",
      "Dataset Name:  reddit  Best AUC Score (contextual):  60.961872079239775\n",
      "Dataset Name:  reddit  Best AUC Score (structural):  54.6650676379531\n",
      "Dataset Name:  reddit  Best AUC Score (joint-type):  54.11981181665531\n",
      "Dataset Name:  reddit  Best AUC Score (structure type):  54.741389544597666\n",
      "===========================================================================================\n"
     ]
    },
    {
     "name": "stderr",
     "output_type": "stream",
     "text": [
      " 38%|███▊      | 191/500 [01:44<02:48,  1.83it/s]"
     ]
    },
    {
     "name": "stdout",
     "output_type": "stream",
     "text": [
      "Dataset Name:  reddit , AUC Score(benchmark/combined):  49.44883006174688\n",
      "Dataset Name:  reddit , AUC Score (contextual):  55.4711843621037\n",
      "Dataset Name:  reddit , AUC Score (structural):  48.7020564908365\n",
      "Dataset Name:  reddit , AUC Score (joint-type):  51.06595574281475\n",
      "Dataset Name:  reddit , AUC Score (structure type):  51.06595574281475\n",
      "===========================================================================================\n",
      "Dataset Name:  reddit  Best AUC Score(benchmark/combined):  57.47039258008104\n",
      "Dataset Name:  reddit  Best AUC Score (contextual):  60.961872079239775\n",
      "Dataset Name:  reddit  Best AUC Score (structural):  54.6650676379531\n",
      "Dataset Name:  reddit  Best AUC Score (joint-type):  54.11981181665531\n",
      "Dataset Name:  reddit  Best AUC Score (structure type):  54.741389544597666\n",
      "===========================================================================================\n"
     ]
    },
    {
     "name": "stderr",
     "output_type": "stream",
     "text": [
      " 38%|███▊      | 192/500 [01:45<02:48,  1.83it/s]"
     ]
    },
    {
     "name": "stdout",
     "output_type": "stream",
     "text": [
      "Dataset Name:  reddit , AUC Score(benchmark/combined):  54.902027385190834\n",
      "Dataset Name:  reddit , AUC Score (contextual):  52.97227589228481\n",
      "Dataset Name:  reddit , AUC Score (structural):  53.42832021420287\n",
      "Dataset Name:  reddit , AUC Score (joint-type):  51.948792436239714\n",
      "Dataset Name:  reddit , AUC Score (structure type):  51.948792436239714\n",
      "===========================================================================================\n",
      "Dataset Name:  reddit  Best AUC Score(benchmark/combined):  57.47039258008104\n",
      "Dataset Name:  reddit  Best AUC Score (contextual):  60.961872079239775\n",
      "Dataset Name:  reddit  Best AUC Score (structural):  54.6650676379531\n",
      "Dataset Name:  reddit  Best AUC Score (joint-type):  54.11981181665531\n",
      "Dataset Name:  reddit  Best AUC Score (structure type):  54.741389544597666\n",
      "===========================================================================================\n"
     ]
    },
    {
     "name": "stderr",
     "output_type": "stream",
     "text": [
      " 39%|███▊      | 193/500 [01:45<02:46,  1.84it/s]"
     ]
    },
    {
     "name": "stdout",
     "output_type": "stream",
     "text": [
      "Dataset Name:  reddit , AUC Score(benchmark/combined):  51.8705734256809\n",
      "Dataset Name:  reddit , AUC Score (contextual):  57.1964344527905\n",
      "Dataset Name:  reddit , AUC Score (structural):  48.04937892173148\n",
      "Dataset Name:  reddit , AUC Score (joint-type):  52.49276149799933\n",
      "Dataset Name:  reddit , AUC Score (structure type):  52.49276149799933\n",
      "===========================================================================================\n",
      "Dataset Name:  reddit  Best AUC Score(benchmark/combined):  57.47039258008104\n",
      "Dataset Name:  reddit  Best AUC Score (contextual):  60.961872079239775\n",
      "Dataset Name:  reddit  Best AUC Score (structural):  54.6650676379531\n",
      "Dataset Name:  reddit  Best AUC Score (joint-type):  54.11981181665531\n",
      "Dataset Name:  reddit  Best AUC Score (structure type):  54.741389544597666\n",
      "===========================================================================================\n"
     ]
    },
    {
     "name": "stderr",
     "output_type": "stream",
     "text": [
      " 39%|███▉      | 194/500 [01:46<02:45,  1.85it/s]"
     ]
    },
    {
     "name": "stdout",
     "output_type": "stream",
     "text": [
      "Dataset Name:  reddit , AUC Score(benchmark/combined):  51.53322484655914\n",
      "Dataset Name:  reddit , AUC Score (contextual):  54.39968875579725\n",
      "Dataset Name:  reddit , AUC Score (structural):  52.364271538482456\n",
      "Dataset Name:  reddit , AUC Score (joint-type):  50.06387285532659\n",
      "Dataset Name:  reddit , AUC Score (structure type):  50.06387285532659\n",
      "===========================================================================================\n",
      "Dataset Name:  reddit  Best AUC Score(benchmark/combined):  57.47039258008104\n",
      "Dataset Name:  reddit  Best AUC Score (contextual):  60.961872079239775\n",
      "Dataset Name:  reddit  Best AUC Score (structural):  54.6650676379531\n",
      "Dataset Name:  reddit  Best AUC Score (joint-type):  54.11981181665531\n",
      "Dataset Name:  reddit  Best AUC Score (structure type):  54.741389544597666\n",
      "===========================================================================================\n"
     ]
    },
    {
     "name": "stderr",
     "output_type": "stream",
     "text": [
      " 39%|███▉      | 195/500 [01:46<02:44,  1.86it/s]"
     ]
    },
    {
     "name": "stdout",
     "output_type": "stream",
     "text": [
      "Dataset Name:  reddit , AUC Score(benchmark/combined):  53.00693121382702\n",
      "Dataset Name:  reddit , AUC Score (contextual):  53.580345474993976\n",
      "Dataset Name:  reddit , AUC Score (structural):  54.78106435701009\n",
      "Dataset Name:  reddit , AUC Score (joint-type):  51.194460338877754\n",
      "Dataset Name:  reddit , AUC Score (structure type):  51.194460338877754\n",
      "===========================================================================================\n",
      "Dataset Name:  reddit  Best AUC Score(benchmark/combined):  57.47039258008104\n",
      "Dataset Name:  reddit  Best AUC Score (contextual):  60.961872079239775\n",
      "Dataset Name:  reddit  Best AUC Score (structural):  54.78106435701009\n",
      "Dataset Name:  reddit  Best AUC Score (joint-type):  54.11981181665531\n",
      "Dataset Name:  reddit  Best AUC Score (structure type):  54.741389544597666\n",
      "===========================================================================================\n"
     ]
    },
    {
     "name": "stderr",
     "output_type": "stream",
     "text": [
      " 39%|███▉      | 196/500 [01:47<02:44,  1.85it/s]"
     ]
    },
    {
     "name": "stdout",
     "output_type": "stream",
     "text": [
      "Dataset Name:  reddit , AUC Score(benchmark/combined):  49.61193333930319\n",
      "Dataset Name:  reddit , AUC Score (contextual):  57.464068040654006\n",
      "Dataset Name:  reddit , AUC Score (structural):  50.74795786494689\n",
      "Dataset Name:  reddit , AUC Score (joint-type):  50.31309082391178\n",
      "Dataset Name:  reddit , AUC Score (structure type):  50.31309082391178\n",
      "===========================================================================================\n",
      "Dataset Name:  reddit  Best AUC Score(benchmark/combined):  57.47039258008104\n",
      "Dataset Name:  reddit  Best AUC Score (contextual):  60.961872079239775\n",
      "Dataset Name:  reddit  Best AUC Score (structural):  54.78106435701009\n",
      "Dataset Name:  reddit  Best AUC Score (joint-type):  54.11981181665531\n",
      "Dataset Name:  reddit  Best AUC Score (structure type):  54.741389544597666\n",
      "===========================================================================================\n"
     ]
    },
    {
     "name": "stderr",
     "output_type": "stream",
     "text": [
      " 39%|███▉      | 197/500 [01:47<02:43,  1.86it/s]"
     ]
    },
    {
     "name": "stdout",
     "output_type": "stream",
     "text": [
      "Dataset Name:  reddit , AUC Score(benchmark/combined):  51.510529084027844\n",
      "Dataset Name:  reddit , AUC Score (contextual):  55.835449358817726\n",
      "Dataset Name:  reddit , AUC Score (structural):  54.57297843714919\n",
      "Dataset Name:  reddit , AUC Score (joint-type):  50.19981452840584\n",
      "Dataset Name:  reddit , AUC Score (structure type):  50.19981452840584\n",
      "===========================================================================================\n",
      "Dataset Name:  reddit  Best AUC Score(benchmark/combined):  57.47039258008104\n",
      "Dataset Name:  reddit  Best AUC Score (contextual):  60.961872079239775\n",
      "Dataset Name:  reddit  Best AUC Score (structural):  54.78106435701009\n",
      "Dataset Name:  reddit  Best AUC Score (joint-type):  54.11981181665531\n",
      "Dataset Name:  reddit  Best AUC Score (structure type):  54.741389544597666\n",
      "===========================================================================================\n"
     ]
    },
    {
     "name": "stderr",
     "output_type": "stream",
     "text": [
      " 40%|███▉      | 198/500 [01:48<02:57,  1.70it/s]"
     ]
    },
    {
     "name": "stdout",
     "output_type": "stream",
     "text": [
      "Dataset Name:  reddit , AUC Score(benchmark/combined):  51.40992921598235\n",
      "Dataset Name:  reddit , AUC Score (contextual):  55.577074172954035\n",
      "Dataset Name:  reddit , AUC Score (structural):  54.592144899917315\n",
      "Dataset Name:  reddit , AUC Score (joint-type):  51.99938479689443\n",
      "Dataset Name:  reddit , AUC Score (structure type):  51.99938479689443\n",
      "===========================================================================================\n",
      "Dataset Name:  reddit  Best AUC Score(benchmark/combined):  57.47039258008104\n",
      "Dataset Name:  reddit  Best AUC Score (contextual):  60.961872079239775\n",
      "Dataset Name:  reddit  Best AUC Score (structural):  54.78106435701009\n",
      "Dataset Name:  reddit  Best AUC Score (joint-type):  54.11981181665531\n",
      "Dataset Name:  reddit  Best AUC Score (structure type):  54.741389544597666\n",
      "===========================================================================================\n"
     ]
    },
    {
     "name": "stderr",
     "output_type": "stream",
     "text": [
      " 40%|███▉      | 199/500 [01:49<02:51,  1.75it/s]"
     ]
    },
    {
     "name": "stdout",
     "output_type": "stream",
     "text": [
      "Dataset Name:  reddit , AUC Score(benchmark/combined):  51.35405183691577\n",
      "Dataset Name:  reddit , AUC Score (contextual):  54.76445967611782\n",
      "Dataset Name:  reddit , AUC Score (structural):  48.7858521599652\n",
      "Dataset Name:  reddit , AUC Score (joint-type):  50.99780783301283\n",
      "Dataset Name:  reddit , AUC Score (structure type):  50.99780783301283\n",
      "===========================================================================================\n",
      "Dataset Name:  reddit  Best AUC Score(benchmark/combined):  57.47039258008104\n",
      "Dataset Name:  reddit  Best AUC Score (contextual):  60.961872079239775\n",
      "Dataset Name:  reddit  Best AUC Score (structural):  54.78106435701009\n",
      "Dataset Name:  reddit  Best AUC Score (joint-type):  54.11981181665531\n",
      "Dataset Name:  reddit  Best AUC Score (structure type):  54.741389544597666\n",
      "===========================================================================================\n"
     ]
    },
    {
     "name": "stderr",
     "output_type": "stream",
     "text": [
      " 40%|████      | 200/500 [01:49<02:47,  1.79it/s]"
     ]
    },
    {
     "name": "stdout",
     "output_type": "stream",
     "text": [
      "Dataset Name:  reddit , AUC Score(benchmark/combined):  51.68648557403811\n",
      "Dataset Name:  reddit , AUC Score (contextual):  55.12042752568447\n",
      "Dataset Name:  reddit , AUC Score (structural):  52.20680384562593\n",
      "Dataset Name:  reddit , AUC Score (joint-type):  50.806973448623204\n",
      "Dataset Name:  reddit , AUC Score (structure type):  50.806973448623204\n",
      "===========================================================================================\n",
      "Dataset Name:  reddit  Best AUC Score(benchmark/combined):  57.47039258008104\n",
      "Dataset Name:  reddit  Best AUC Score (contextual):  60.961872079239775\n",
      "Dataset Name:  reddit  Best AUC Score (structural):  54.78106435701009\n",
      "Dataset Name:  reddit  Best AUC Score (joint-type):  54.11981181665531\n",
      "Dataset Name:  reddit  Best AUC Score (structure type):  54.741389544597666\n",
      "===========================================================================================\n"
     ]
    },
    {
     "name": "stderr",
     "output_type": "stream",
     "text": [
      " 40%|████      | 201/500 [01:50<02:46,  1.80it/s]"
     ]
    },
    {
     "name": "stdout",
     "output_type": "stream",
     "text": [
      "Dataset Name:  reddit , AUC Score(benchmark/combined):  52.20673832557766\n",
      "Dataset Name:  reddit , AUC Score (contextual):  58.63609066758138\n",
      "Dataset Name:  reddit , AUC Score (structural):  50.332036339692976\n",
      "Dataset Name:  reddit , AUC Score (joint-type):  51.95213153204292\n",
      "Dataset Name:  reddit , AUC Score (structure type):  51.95213153204292\n",
      "===========================================================================================\n",
      "Dataset Name:  reddit  Best AUC Score(benchmark/combined):  57.47039258008104\n",
      "Dataset Name:  reddit  Best AUC Score (contextual):  60.961872079239775\n",
      "Dataset Name:  reddit  Best AUC Score (structural):  54.78106435701009\n",
      "Dataset Name:  reddit  Best AUC Score (joint-type):  54.11981181665531\n",
      "Dataset Name:  reddit  Best AUC Score (structure type):  54.741389544597666\n",
      "===========================================================================================\n"
     ]
    },
    {
     "name": "stderr",
     "output_type": "stream",
     "text": [
      " 40%|████      | 202/500 [01:50<02:44,  1.81it/s]"
     ]
    },
    {
     "name": "stdout",
     "output_type": "stream",
     "text": [
      "Dataset Name:  reddit , AUC Score(benchmark/combined):  51.381623843210875\n",
      "Dataset Name:  reddit , AUC Score (contextual):  55.32886805158195\n",
      "Dataset Name:  reddit , AUC Score (structural):  50.11116117400469\n",
      "Dataset Name:  reddit , AUC Score (joint-type):  51.29448143589214\n",
      "Dataset Name:  reddit , AUC Score (structure type):  51.29448143589214\n",
      "===========================================================================================\n",
      "Dataset Name:  reddit  Best AUC Score(benchmark/combined):  57.47039258008104\n",
      "Dataset Name:  reddit  Best AUC Score (contextual):  60.961872079239775\n",
      "Dataset Name:  reddit  Best AUC Score (structural):  54.78106435701009\n",
      "Dataset Name:  reddit  Best AUC Score (joint-type):  54.11981181665531\n",
      "Dataset Name:  reddit  Best AUC Score (structure type):  54.741389544597666\n",
      "===========================================================================================\n"
     ]
    },
    {
     "name": "stderr",
     "output_type": "stream",
     "text": [
      " 41%|████      | 203/500 [01:51<02:43,  1.82it/s]"
     ]
    },
    {
     "name": "stdout",
     "output_type": "stream",
     "text": [
      "Dataset Name:  reddit , AUC Score(benchmark/combined):  51.69104016583861\n",
      "Dataset Name:  reddit , AUC Score (contextual):  55.94655018281549\n",
      "Dataset Name:  reddit , AUC Score (structural):  48.083686923240656\n",
      "Dataset Name:  reddit , AUC Score (joint-type):  51.789350611636344\n",
      "Dataset Name:  reddit , AUC Score (structure type):  51.789350611636344\n",
      "===========================================================================================\n",
      "Dataset Name:  reddit  Best AUC Score(benchmark/combined):  57.47039258008104\n",
      "Dataset Name:  reddit  Best AUC Score (contextual):  60.961872079239775\n",
      "Dataset Name:  reddit  Best AUC Score (structural):  54.78106435701009\n",
      "Dataset Name:  reddit  Best AUC Score (joint-type):  54.11981181665531\n",
      "Dataset Name:  reddit  Best AUC Score (structure type):  54.741389544597666\n",
      "===========================================================================================\n"
     ]
    },
    {
     "name": "stderr",
     "output_type": "stream",
     "text": [
      " 41%|████      | 204/500 [01:51<02:42,  1.83it/s]"
     ]
    },
    {
     "name": "stdout",
     "output_type": "stream",
     "text": [
      "Dataset Name:  reddit , AUC Score(benchmark/combined):  51.60632990478072\n",
      "Dataset Name:  reddit , AUC Score (contextual):  58.6154995767949\n",
      "Dataset Name:  reddit , AUC Score (structural):  49.81501595050206\n",
      "Dataset Name:  reddit , AUC Score (joint-type):  51.06041587932305\n",
      "Dataset Name:  reddit , AUC Score (structure type):  51.06041587932305\n",
      "===========================================================================================\n",
      "Dataset Name:  reddit  Best AUC Score(benchmark/combined):  57.47039258008104\n",
      "Dataset Name:  reddit  Best AUC Score (contextual):  60.961872079239775\n",
      "Dataset Name:  reddit  Best AUC Score (structural):  54.78106435701009\n",
      "Dataset Name:  reddit  Best AUC Score (joint-type):  54.11981181665531\n",
      "Dataset Name:  reddit  Best AUC Score (structure type):  54.741389544597666\n",
      "===========================================================================================\n"
     ]
    },
    {
     "name": "stderr",
     "output_type": "stream",
     "text": [
      " 41%|████      | 205/500 [01:52<02:41,  1.83it/s]"
     ]
    },
    {
     "name": "stdout",
     "output_type": "stream",
     "text": [
      "Dataset Name:  reddit , AUC Score(benchmark/combined):  51.23239019831259\n",
      "Dataset Name:  reddit , AUC Score (contextual):  57.117156223644535\n",
      "Dataset Name:  reddit , AUC Score (structural):  53.093664690011224\n",
      "Dataset Name:  reddit , AUC Score (joint-type):  51.29260951854793\n",
      "Dataset Name:  reddit , AUC Score (structure type):  51.29260951854793\n",
      "===========================================================================================\n",
      "Dataset Name:  reddit  Best AUC Score(benchmark/combined):  57.47039258008104\n",
      "Dataset Name:  reddit  Best AUC Score (contextual):  60.961872079239775\n",
      "Dataset Name:  reddit  Best AUC Score (structural):  54.78106435701009\n",
      "Dataset Name:  reddit  Best AUC Score (joint-type):  54.11981181665531\n",
      "Dataset Name:  reddit  Best AUC Score (structure type):  54.741389544597666\n",
      "===========================================================================================\n"
     ]
    },
    {
     "name": "stderr",
     "output_type": "stream",
     "text": [
      " 41%|████      | 206/500 [01:52<02:40,  1.84it/s]"
     ]
    },
    {
     "name": "stdout",
     "output_type": "stream",
     "text": [
      "Dataset Name:  reddit , AUC Score(benchmark/combined):  51.25296305788603\n",
      "Dataset Name:  reddit , AUC Score (contextual):  53.772166410416354\n",
      "Dataset Name:  reddit , AUC Score (structural):  44.45873557707928\n",
      "Dataset Name:  reddit , AUC Score (joint-type):  52.48066992380285\n",
      "Dataset Name:  reddit , AUC Score (structure type):  52.48066992380285\n",
      "===========================================================================================\n",
      "Dataset Name:  reddit  Best AUC Score(benchmark/combined):  57.47039258008104\n",
      "Dataset Name:  reddit  Best AUC Score (contextual):  60.961872079239775\n",
      "Dataset Name:  reddit  Best AUC Score (structural):  54.78106435701009\n",
      "Dataset Name:  reddit  Best AUC Score (joint-type):  54.11981181665531\n",
      "Dataset Name:  reddit  Best AUC Score (structure type):  54.741389544597666\n",
      "===========================================================================================\n"
     ]
    },
    {
     "name": "stderr",
     "output_type": "stream",
     "text": [
      " 41%|████▏     | 207/500 [01:53<02:38,  1.85it/s]"
     ]
    },
    {
     "name": "stdout",
     "output_type": "stream",
     "text": [
      "Dataset Name:  reddit , AUC Score(benchmark/combined):  50.008658870852365\n",
      "Dataset Name:  reddit , AUC Score (contextual):  60.27148872574539\n",
      "Dataset Name:  reddit , AUC Score (structural):  52.334212252080924\n",
      "Dataset Name:  reddit , AUC Score (joint-type):  50.358725133222336\n",
      "Dataset Name:  reddit , AUC Score (structure type):  50.358725133222336\n",
      "===========================================================================================\n",
      "Dataset Name:  reddit  Best AUC Score(benchmark/combined):  57.47039258008104\n",
      "Dataset Name:  reddit  Best AUC Score (contextual):  60.961872079239775\n",
      "Dataset Name:  reddit  Best AUC Score (structural):  54.78106435701009\n",
      "Dataset Name:  reddit  Best AUC Score (joint-type):  54.11981181665531\n",
      "Dataset Name:  reddit  Best AUC Score (structure type):  54.741389544597666\n",
      "===========================================================================================\n"
     ]
    },
    {
     "name": "stderr",
     "output_type": "stream",
     "text": [
      " 42%|████▏     | 208/500 [01:54<02:37,  1.85it/s]"
     ]
    },
    {
     "name": "stdout",
     "output_type": "stream",
     "text": [
      "Dataset Name:  reddit , AUC Score(benchmark/combined):  51.571797349999535\n",
      "Dataset Name:  reddit , AUC Score (contextual):  55.43683214921914\n",
      "Dataset Name:  reddit , AUC Score (structural):  51.146904422310676\n",
      "Dataset Name:  reddit , AUC Score (joint-type):  52.381458304558926\n",
      "Dataset Name:  reddit , AUC Score (structure type):  52.381458304558926\n",
      "===========================================================================================\n",
      "Dataset Name:  reddit  Best AUC Score(benchmark/combined):  57.47039258008104\n",
      "Dataset Name:  reddit  Best AUC Score (contextual):  60.961872079239775\n",
      "Dataset Name:  reddit  Best AUC Score (structural):  54.78106435701009\n",
      "Dataset Name:  reddit  Best AUC Score (joint-type):  54.11981181665531\n",
      "Dataset Name:  reddit  Best AUC Score (structure type):  54.741389544597666\n",
      "===========================================================================================\n"
     ]
    },
    {
     "name": "stderr",
     "output_type": "stream",
     "text": [
      " 42%|████▏     | 209/500 [01:54<02:36,  1.85it/s]"
     ]
    },
    {
     "name": "stdout",
     "output_type": "stream",
     "text": [
      "Dataset Name:  reddit , AUC Score(benchmark/combined):  51.05389909083142\n",
      "Dataset Name:  reddit , AUC Score (contextual):  56.345698612200955\n",
      "Dataset Name:  reddit , AUC Score (structural):  46.88804743442589\n",
      "Dataset Name:  reddit , AUC Score (joint-type):  50.62838241551202\n",
      "Dataset Name:  reddit , AUC Score (structure type):  50.62838241551202\n",
      "===========================================================================================\n",
      "Dataset Name:  reddit  Best AUC Score(benchmark/combined):  57.47039258008104\n",
      "Dataset Name:  reddit  Best AUC Score (contextual):  60.961872079239775\n",
      "Dataset Name:  reddit  Best AUC Score (structural):  54.78106435701009\n",
      "Dataset Name:  reddit  Best AUC Score (joint-type):  54.11981181665531\n",
      "Dataset Name:  reddit  Best AUC Score (structure type):  54.741389544597666\n",
      "===========================================================================================\n"
     ]
    },
    {
     "name": "stderr",
     "output_type": "stream",
     "text": [
      " 42%|████▏     | 210/500 [01:55<02:36,  1.86it/s]"
     ]
    },
    {
     "name": "stdout",
     "output_type": "stream",
     "text": [
      "Dataset Name:  reddit , AUC Score(benchmark/combined):  50.63292100124852\n",
      "Dataset Name:  reddit , AUC Score (contextual):  57.87128595156389\n",
      "Dataset Name:  reddit , AUC Score (structural):  51.38465343547489\n",
      "Dataset Name:  reddit , AUC Score (joint-type):  50.162932697488536\n",
      "Dataset Name:  reddit , AUC Score (structure type):  50.162932697488536\n",
      "===========================================================================================\n",
      "Dataset Name:  reddit  Best AUC Score(benchmark/combined):  57.47039258008104\n",
      "Dataset Name:  reddit  Best AUC Score (contextual):  60.961872079239775\n",
      "Dataset Name:  reddit  Best AUC Score (structural):  54.78106435701009\n",
      "Dataset Name:  reddit  Best AUC Score (joint-type):  54.11981181665531\n",
      "Dataset Name:  reddit  Best AUC Score (structure type):  54.741389544597666\n",
      "===========================================================================================\n"
     ]
    },
    {
     "name": "stderr",
     "output_type": "stream",
     "text": [
      " 42%|████▏     | 211/500 [01:55<02:35,  1.86it/s]"
     ]
    },
    {
     "name": "stdout",
     "output_type": "stream",
     "text": [
      "Dataset Name:  reddit , AUC Score(benchmark/combined):  51.62830516691421\n",
      "Dataset Name:  reddit , AUC Score (contextual):  54.86615032103382\n",
      "Dataset Name:  reddit , AUC Score (structural):  51.13862581004083\n",
      "Dataset Name:  reddit , AUC Score (joint-type):  51.99538800040272\n",
      "Dataset Name:  reddit , AUC Score (structure type):  51.99538800040272\n",
      "===========================================================================================\n",
      "Dataset Name:  reddit  Best AUC Score(benchmark/combined):  57.47039258008104\n",
      "Dataset Name:  reddit  Best AUC Score (contextual):  60.961872079239775\n",
      "Dataset Name:  reddit  Best AUC Score (structural):  54.78106435701009\n",
      "Dataset Name:  reddit  Best AUC Score (joint-type):  54.11981181665531\n",
      "Dataset Name:  reddit  Best AUC Score (structure type):  54.741389544597666\n",
      "===========================================================================================\n"
     ]
    },
    {
     "name": "stderr",
     "output_type": "stream",
     "text": [
      " 42%|████▏     | 212/500 [01:56<02:34,  1.87it/s]"
     ]
    },
    {
     "name": "stdout",
     "output_type": "stream",
     "text": [
      "Dataset Name:  reddit , AUC Score(benchmark/combined):  50.310792993030695\n",
      "Dataset Name:  reddit , AUC Score (contextual):  57.322105876656835\n",
      "Dataset Name:  reddit , AUC Score (structural):  48.46509157531017\n",
      "Dataset Name:  reddit , AUC Score (joint-type):  50.347443036796335\n",
      "Dataset Name:  reddit , AUC Score (structure type):  50.347443036796335\n",
      "===========================================================================================\n",
      "Dataset Name:  reddit  Best AUC Score(benchmark/combined):  57.47039258008104\n",
      "Dataset Name:  reddit  Best AUC Score (contextual):  60.961872079239775\n",
      "Dataset Name:  reddit  Best AUC Score (structural):  54.78106435701009\n",
      "Dataset Name:  reddit  Best AUC Score (joint-type):  54.11981181665531\n",
      "Dataset Name:  reddit  Best AUC Score (structure type):  54.741389544597666\n",
      "===========================================================================================\n"
     ]
    },
    {
     "name": "stderr",
     "output_type": "stream",
     "text": [
      " 43%|████▎     | 213/500 [01:56<02:34,  1.86it/s]"
     ]
    },
    {
     "name": "stdout",
     "output_type": "stream",
     "text": [
      "Dataset Name:  reddit , AUC Score(benchmark/combined):  51.39017978543499\n",
      "Dataset Name:  reddit , AUC Score (contextual):  54.95332095844192\n",
      "Dataset Name:  reddit , AUC Score (structural):  52.34452321890481\n",
      "Dataset Name:  reddit , AUC Score (joint-type):  50.531245083054955\n",
      "Dataset Name:  reddit , AUC Score (structure type):  50.531245083054955\n",
      "===========================================================================================\n",
      "Dataset Name:  reddit  Best AUC Score(benchmark/combined):  57.47039258008104\n",
      "Dataset Name:  reddit  Best AUC Score (contextual):  60.961872079239775\n",
      "Dataset Name:  reddit  Best AUC Score (structural):  54.78106435701009\n",
      "Dataset Name:  reddit  Best AUC Score (joint-type):  54.11981181665531\n",
      "Dataset Name:  reddit  Best AUC Score (structure type):  54.741389544597666\n",
      "===========================================================================================\n"
     ]
    },
    {
     "name": "stderr",
     "output_type": "stream",
     "text": [
      " 43%|████▎     | 214/500 [01:57<02:47,  1.71it/s]"
     ]
    },
    {
     "name": "stdout",
     "output_type": "stream",
     "text": [
      "Dataset Name:  reddit , AUC Score(benchmark/combined):  50.51891467937217\n",
      "Dataset Name:  reddit , AUC Score (contextual):  55.98965487409332\n",
      "Dataset Name:  reddit , AUC Score (structural):  51.38971940245462\n",
      "Dataset Name:  reddit , AUC Score (joint-type):  50.86156260576966\n",
      "Dataset Name:  reddit , AUC Score (structure type):  50.86156260576966\n",
      "===========================================================================================\n",
      "Dataset Name:  reddit  Best AUC Score(benchmark/combined):  57.47039258008104\n",
      "Dataset Name:  reddit  Best AUC Score (contextual):  60.961872079239775\n",
      "Dataset Name:  reddit  Best AUC Score (structural):  54.78106435701009\n",
      "Dataset Name:  reddit  Best AUC Score (joint-type):  54.11981181665531\n",
      "Dataset Name:  reddit  Best AUC Score (structure type):  54.741389544597666\n",
      "===========================================================================================\n"
     ]
    },
    {
     "name": "stderr",
     "output_type": "stream",
     "text": [
      " 43%|████▎     | 215/500 [01:57<02:42,  1.76it/s]"
     ]
    },
    {
     "name": "stdout",
     "output_type": "stream",
     "text": [
      "Dataset Name:  reddit , AUC Score(benchmark/combined):  49.825999153926674\n",
      "Dataset Name:  reddit , AUC Score (contextual):  57.912063394251604\n",
      "Dataset Name:  reddit , AUC Score (structural):  51.86743544704837\n",
      "Dataset Name:  reddit , AUC Score (joint-type):  49.80468819169243\n",
      "Dataset Name:  reddit , AUC Score (structure type):  49.80468819169243\n",
      "===========================================================================================\n",
      "Dataset Name:  reddit  Best AUC Score(benchmark/combined):  57.47039258008104\n",
      "Dataset Name:  reddit  Best AUC Score (contextual):  60.961872079239775\n",
      "Dataset Name:  reddit  Best AUC Score (structural):  54.78106435701009\n",
      "Dataset Name:  reddit  Best AUC Score (joint-type):  54.11981181665531\n",
      "Dataset Name:  reddit  Best AUC Score (structure type):  54.741389544597666\n",
      "===========================================================================================\n"
     ]
    },
    {
     "name": "stderr",
     "output_type": "stream",
     "text": [
      " 43%|████▎     | 216/500 [01:58<02:39,  1.78it/s]"
     ]
    },
    {
     "name": "stdout",
     "output_type": "stream",
     "text": [
      "Dataset Name:  reddit , AUC Score(benchmark/combined):  51.579015220056256\n",
      "Dataset Name:  reddit , AUC Score (contextual):  54.68204472061128\n",
      "Dataset Name:  reddit , AUC Score (structural):  53.140398898483724\n",
      "Dataset Name:  reddit , AUC Score (joint-type):  51.35251087356312\n",
      "Dataset Name:  reddit , AUC Score (structure type):  51.35251087356312\n",
      "===========================================================================================\n",
      "Dataset Name:  reddit  Best AUC Score(benchmark/combined):  57.47039258008104\n",
      "Dataset Name:  reddit  Best AUC Score (contextual):  60.961872079239775\n",
      "Dataset Name:  reddit  Best AUC Score (structural):  54.78106435701009\n",
      "Dataset Name:  reddit  Best AUC Score (joint-type):  54.11981181665531\n",
      "Dataset Name:  reddit  Best AUC Score (structure type):  54.741389544597666\n",
      "===========================================================================================\n"
     ]
    },
    {
     "name": "stderr",
     "output_type": "stream",
     "text": [
      " 43%|████▎     | 217/500 [01:58<02:36,  1.81it/s]"
     ]
    },
    {
     "name": "stdout",
     "output_type": "stream",
     "text": [
      "Dataset Name:  reddit , AUC Score(benchmark/combined):  50.59515906075568\n",
      "Dataset Name:  reddit , AUC Score (contextual):  56.408154881429205\n",
      "Dataset Name:  reddit , AUC Score (structural):  50.130166838737146\n",
      "Dataset Name:  reddit , AUC Score (joint-type):  50.382452950369405\n",
      "Dataset Name:  reddit , AUC Score (structure type):  50.382452950369405\n",
      "===========================================================================================\n",
      "Dataset Name:  reddit  Best AUC Score(benchmark/combined):  57.47039258008104\n",
      "Dataset Name:  reddit  Best AUC Score (contextual):  60.961872079239775\n",
      "Dataset Name:  reddit  Best AUC Score (structural):  54.78106435701009\n",
      "Dataset Name:  reddit  Best AUC Score (joint-type):  54.11981181665531\n",
      "Dataset Name:  reddit  Best AUC Score (structure type):  54.741389544597666\n",
      "===========================================================================================\n"
     ]
    },
    {
     "name": "stderr",
     "output_type": "stream",
     "text": [
      " 44%|████▎     | 218/500 [01:59<02:34,  1.82it/s]"
     ]
    },
    {
     "name": "stdout",
     "output_type": "stream",
     "text": [
      "Dataset Name:  reddit , AUC Score(benchmark/combined):  51.06290534580417\n",
      "Dataset Name:  reddit , AUC Score (contextual):  56.921161418468124\n",
      "Dataset Name:  reddit , AUC Score (structural):  51.81136666394802\n",
      "Dataset Name:  reddit , AUC Score (joint-type):  50.34329446322264\n",
      "Dataset Name:  reddit , AUC Score (structure type):  50.34329446322264\n",
      "===========================================================================================\n",
      "Dataset Name:  reddit  Best AUC Score(benchmark/combined):  57.47039258008104\n",
      "Dataset Name:  reddit  Best AUC Score (contextual):  60.961872079239775\n",
      "Dataset Name:  reddit  Best AUC Score (structural):  54.78106435701009\n",
      "Dataset Name:  reddit  Best AUC Score (joint-type):  54.11981181665531\n",
      "Dataset Name:  reddit  Best AUC Score (structure type):  54.741389544597666\n",
      "===========================================================================================\n"
     ]
    },
    {
     "name": "stderr",
     "output_type": "stream",
     "text": [
      " 44%|████▍     | 219/500 [02:00<02:33,  1.83it/s]"
     ]
    },
    {
     "name": "stdout",
     "output_type": "stream",
     "text": [
      "Dataset Name:  reddit , AUC Score(benchmark/combined):  50.76562173523257\n",
      "Dataset Name:  reddit , AUC Score (contextual):  56.675029583882896\n",
      "Dataset Name:  reddit , AUC Score (structural):  53.260035952451524\n",
      "Dataset Name:  reddit , AUC Score (joint-type):  50.98242775537379\n",
      "Dataset Name:  reddit , AUC Score (structure type):  50.98242775537379\n",
      "===========================================================================================\n",
      "Dataset Name:  reddit  Best AUC Score(benchmark/combined):  57.47039258008104\n",
      "Dataset Name:  reddit  Best AUC Score (contextual):  60.961872079239775\n",
      "Dataset Name:  reddit  Best AUC Score (structural):  54.78106435701009\n",
      "Dataset Name:  reddit  Best AUC Score (joint-type):  54.11981181665531\n",
      "Dataset Name:  reddit  Best AUC Score (structure type):  54.741389544597666\n",
      "===========================================================================================\n"
     ]
    },
    {
     "name": "stderr",
     "output_type": "stream",
     "text": [
      " 44%|████▍     | 220/500 [02:00<02:32,  1.84it/s]"
     ]
    },
    {
     "name": "stdout",
     "output_type": "stream",
     "text": [
      "Dataset Name:  reddit , AUC Score(benchmark/combined):  51.41963023919585\n",
      "Dataset Name:  reddit , AUC Score (contextual):  56.43324869231397\n",
      "Dataset Name:  reddit , AUC Score (structural):  48.97303101976457\n",
      "Dataset Name:  reddit , AUC Score (joint-type):  50.264066826437336\n",
      "Dataset Name:  reddit , AUC Score (structure type):  50.264066826437336\n",
      "===========================================================================================\n",
      "Dataset Name:  reddit  Best AUC Score(benchmark/combined):  57.47039258008104\n",
      "Dataset Name:  reddit  Best AUC Score (contextual):  60.961872079239775\n",
      "Dataset Name:  reddit  Best AUC Score (structural):  54.78106435701009\n",
      "Dataset Name:  reddit  Best AUC Score (joint-type):  54.11981181665531\n",
      "Dataset Name:  reddit  Best AUC Score (structure type):  54.741389544597666\n",
      "===========================================================================================\n"
     ]
    },
    {
     "name": "stderr",
     "output_type": "stream",
     "text": [
      " 44%|████▍     | 221/500 [02:01<02:31,  1.84it/s]"
     ]
    },
    {
     "name": "stdout",
     "output_type": "stream",
     "text": [
      "Dataset Name:  reddit , AUC Score(benchmark/combined):  51.350294941984274\n",
      "Dataset Name:  reddit , AUC Score (contextual):  55.907594065111354\n",
      "Dataset Name:  reddit , AUC Score (structural):  50.55375859606406\n",
      "Dataset Name:  reddit , AUC Score (joint-type):  50.93345435026002\n",
      "Dataset Name:  reddit , AUC Score (structure type):  50.93345435026002\n",
      "===========================================================================================\n",
      "Dataset Name:  reddit  Best AUC Score(benchmark/combined):  57.47039258008104\n",
      "Dataset Name:  reddit  Best AUC Score (contextual):  60.961872079239775\n",
      "Dataset Name:  reddit  Best AUC Score (structural):  54.78106435701009\n",
      "Dataset Name:  reddit  Best AUC Score (joint-type):  54.11981181665531\n",
      "Dataset Name:  reddit  Best AUC Score (structure type):  54.741389544597666\n",
      "===========================================================================================\n"
     ]
    },
    {
     "name": "stderr",
     "output_type": "stream",
     "text": [
      " 44%|████▍     | 222/500 [02:01<02:30,  1.85it/s]"
     ]
    },
    {
     "name": "stdout",
     "output_type": "stream",
     "text": [
      "Dataset Name:  reddit , AUC Score(benchmark/combined):  51.720503485678\n",
      "Dataset Name:  reddit , AUC Score (contextual):  55.98808651091303\n",
      "Dataset Name:  reddit , AUC Score (structural):  50.736619116864034\n",
      "Dataset Name:  reddit , AUC Score (joint-type):  50.55856495780851\n",
      "Dataset Name:  reddit , AUC Score (structure type):  50.55856495780851\n",
      "===========================================================================================\n",
      "Dataset Name:  reddit  Best AUC Score(benchmark/combined):  57.47039258008104\n",
      "Dataset Name:  reddit  Best AUC Score (contextual):  60.961872079239775\n",
      "Dataset Name:  reddit  Best AUC Score (structural):  54.78106435701009\n",
      "Dataset Name:  reddit  Best AUC Score (joint-type):  54.11981181665531\n",
      "Dataset Name:  reddit  Best AUC Score (structure type):  54.741389544597666\n",
      "===========================================================================================\n"
     ]
    },
    {
     "name": "stderr",
     "output_type": "stream",
     "text": [
      " 45%|████▍     | 223/500 [02:02<02:30,  1.84it/s]"
     ]
    },
    {
     "name": "stdout",
     "output_type": "stream",
     "text": [
      "Dataset Name:  reddit , AUC Score(benchmark/combined):  48.435742172020504\n",
      "Dataset Name:  reddit , AUC Score (contextual):  55.31293145797571\n",
      "Dataset Name:  reddit , AUC Score (structural):  49.47615646941886\n",
      "Dataset Name:  reddit , AUC Score (joint-type):  49.97968716719713\n",
      "Dataset Name:  reddit , AUC Score (structure type):  49.97968716719713\n",
      "===========================================================================================\n",
      "Dataset Name:  reddit  Best AUC Score(benchmark/combined):  57.47039258008104\n",
      "Dataset Name:  reddit  Best AUC Score (contextual):  60.961872079239775\n",
      "Dataset Name:  reddit  Best AUC Score (structural):  54.78106435701009\n",
      "Dataset Name:  reddit  Best AUC Score (joint-type):  54.11981181665531\n",
      "Dataset Name:  reddit  Best AUC Score (structure type):  54.741389544597666\n",
      "===========================================================================================\n"
     ]
    },
    {
     "name": "stderr",
     "output_type": "stream",
     "text": [
      " 45%|████▍     | 224/500 [02:02<02:30,  1.84it/s]"
     ]
    },
    {
     "name": "stdout",
     "output_type": "stream",
     "text": [
      "Dataset Name:  reddit , AUC Score(benchmark/combined):  54.764180219793786\n",
      "Dataset Name:  reddit , AUC Score (contextual):  56.492998270247185\n",
      "Dataset Name:  reddit , AUC Score (structural):  48.64303035004903\n",
      "Dataset Name:  reddit , AUC Score (joint-type):  51.53272086221526\n",
      "Dataset Name:  reddit , AUC Score (structure type):  51.53272086221526\n",
      "===========================================================================================\n",
      "Dataset Name:  reddit  Best AUC Score(benchmark/combined):  57.47039258008104\n",
      "Dataset Name:  reddit  Best AUC Score (contextual):  60.961872079239775\n",
      "Dataset Name:  reddit  Best AUC Score (structural):  54.78106435701009\n",
      "Dataset Name:  reddit  Best AUC Score (joint-type):  54.11981181665531\n",
      "Dataset Name:  reddit  Best AUC Score (structure type):  54.741389544597666\n",
      "===========================================================================================\n"
     ]
    },
    {
     "name": "stderr",
     "output_type": "stream",
     "text": [
      " 45%|████▌     | 225/500 [02:03<02:29,  1.84it/s]"
     ]
    },
    {
     "name": "stdout",
     "output_type": "stream",
     "text": [
      "Dataset Name:  reddit , AUC Score(benchmark/combined):  46.601528284272405\n",
      "Dataset Name:  reddit , AUC Score (contextual):  52.13304981374422\n",
      "Dataset Name:  reddit , AUC Score (structural):  50.15724555948764\n",
      "Dataset Name:  reddit , AUC Score (joint-type):  50.350427986074955\n",
      "Dataset Name:  reddit , AUC Score (structure type):  50.350427986074955\n",
      "===========================================================================================\n",
      "Dataset Name:  reddit  Best AUC Score(benchmark/combined):  57.47039258008104\n",
      "Dataset Name:  reddit  Best AUC Score (contextual):  60.961872079239775\n",
      "Dataset Name:  reddit  Best AUC Score (structural):  54.78106435701009\n",
      "Dataset Name:  reddit  Best AUC Score (joint-type):  54.11981181665531\n",
      "Dataset Name:  reddit  Best AUC Score (structure type):  54.741389544597666\n",
      "===========================================================================================\n"
     ]
    },
    {
     "name": "stderr",
     "output_type": "stream",
     "text": [
      " 45%|████▌     | 226/500 [02:03<02:28,  1.84it/s]"
     ]
    },
    {
     "name": "stdout",
     "output_type": "stream",
     "text": [
      "Dataset Name:  reddit , AUC Score(benchmark/combined):  55.217606559435616\n",
      "Dataset Name:  reddit , AUC Score (contextual):  58.54709870518972\n",
      "Dataset Name:  reddit , AUC Score (structural):  49.6470599156689\n",
      "Dataset Name:  reddit , AUC Score (joint-type):  50.84395646426181\n",
      "Dataset Name:  reddit , AUC Score (structure type):  50.84395646426181\n",
      "===========================================================================================\n",
      "Dataset Name:  reddit  Best AUC Score(benchmark/combined):  57.47039258008104\n",
      "Dataset Name:  reddit  Best AUC Score (contextual):  60.961872079239775\n",
      "Dataset Name:  reddit  Best AUC Score (structural):  54.78106435701009\n",
      "Dataset Name:  reddit  Best AUC Score (joint-type):  54.11981181665531\n",
      "Dataset Name:  reddit  Best AUC Score (structure type):  54.741389544597666\n",
      "===========================================================================================\n"
     ]
    },
    {
     "name": "stderr",
     "output_type": "stream",
     "text": [
      " 45%|████▌     | 227/500 [02:04<02:28,  1.84it/s]"
     ]
    },
    {
     "name": "stdout",
     "output_type": "stream",
     "text": [
      "Dataset Name:  reddit , AUC Score(benchmark/combined):  48.86400246205279\n",
      "Dataset Name:  reddit , AUC Score (contextual):  49.80802728749565\n",
      "Dataset Name:  reddit , AUC Score (structural):  51.35453281374017\n",
      "Dataset Name:  reddit , AUC Score (joint-type):  51.996956363583\n",
      "Dataset Name:  reddit , AUC Score (structure type):  51.996956363583\n",
      "===========================================================================================\n",
      "Dataset Name:  reddit  Best AUC Score(benchmark/combined):  57.47039258008104\n",
      "Dataset Name:  reddit  Best AUC Score (contextual):  60.961872079239775\n",
      "Dataset Name:  reddit  Best AUC Score (structural):  54.78106435701009\n",
      "Dataset Name:  reddit  Best AUC Score (joint-type):  54.11981181665531\n",
      "Dataset Name:  reddit  Best AUC Score (structure type):  54.741389544597666\n",
      "===========================================================================================\n"
     ]
    },
    {
     "name": "stderr",
     "output_type": "stream",
     "text": [
      " 46%|████▌     | 228/500 [02:04<02:27,  1.84it/s]"
     ]
    },
    {
     "name": "stdout",
     "output_type": "stream",
     "text": [
      "Dataset Name:  reddit , AUC Score(benchmark/combined):  52.751513822800135\n",
      "Dataset Name:  reddit , AUC Score (contextual):  57.82995199290897\n",
      "Dataset Name:  reddit , AUC Score (structural):  49.88306667382798\n",
      "Dataset Name:  reddit , AUC Score (joint-type):  48.87237216954714\n",
      "Dataset Name:  reddit , AUC Score (structure type):  48.87237216954714\n",
      "===========================================================================================\n",
      "Dataset Name:  reddit  Best AUC Score(benchmark/combined):  57.47039258008104\n",
      "Dataset Name:  reddit  Best AUC Score (contextual):  60.961872079239775\n",
      "Dataset Name:  reddit  Best AUC Score (structural):  54.78106435701009\n",
      "Dataset Name:  reddit  Best AUC Score (joint-type):  54.11981181665531\n",
      "Dataset Name:  reddit  Best AUC Score (structure type):  54.741389544597666\n",
      "===========================================================================================\n"
     ]
    },
    {
     "name": "stderr",
     "output_type": "stream",
     "text": [
      " 46%|████▌     | 229/500 [02:05<02:26,  1.85it/s]"
     ]
    },
    {
     "name": "stdout",
     "output_type": "stream",
     "text": [
      "Dataset Name:  reddit , AUC Score(benchmark/combined):  53.0078318393243\n",
      "Dataset Name:  reddit , AUC Score (contextual):  54.68366367615223\n",
      "Dataset Name:  reddit , AUC Score (structural):  55.62094233616669\n",
      "Dataset Name:  reddit , AUC Score (joint-type):  54.07640357121355\n",
      "Dataset Name:  reddit , AUC Score (structure type):  54.07640357121355\n",
      "===========================================================================================\n",
      "Dataset Name:  reddit  Best AUC Score(benchmark/combined):  57.47039258008104\n",
      "Dataset Name:  reddit  Best AUC Score (contextual):  60.961872079239775\n",
      "Dataset Name:  reddit  Best AUC Score (structural):  55.62094233616669\n",
      "Dataset Name:  reddit  Best AUC Score (joint-type):  54.11981181665531\n",
      "Dataset Name:  reddit  Best AUC Score (structure type):  55.68347624512595\n",
      "===========================================================================================\n"
     ]
    },
    {
     "name": "stderr",
     "output_type": "stream",
     "text": [
      " 46%|████▌     | 230/500 [02:06<02:26,  1.85it/s]"
     ]
    },
    {
     "name": "stdout",
     "output_type": "stream",
     "text": [
      "Dataset Name:  reddit , AUC Score(benchmark/combined):  49.531623277103435\n",
      "Dataset Name:  reddit , AUC Score (contextual):  52.67911845847101\n",
      "Dataset Name:  reddit , AUC Score (structural):  52.60693400914924\n",
      "Dataset Name:  reddit , AUC Score (joint-type):  48.69357876699334\n",
      "Dataset Name:  reddit , AUC Score (structure type):  48.69357876699334\n",
      "===========================================================================================\n",
      "Dataset Name:  reddit  Best AUC Score(benchmark/combined):  57.47039258008104\n",
      "Dataset Name:  reddit  Best AUC Score (contextual):  60.961872079239775\n",
      "Dataset Name:  reddit  Best AUC Score (structural):  55.62094233616669\n",
      "Dataset Name:  reddit  Best AUC Score (joint-type):  54.11981181665531\n",
      "Dataset Name:  reddit  Best AUC Score (structure type):  55.68347624512595\n",
      "===========================================================================================\n"
     ]
    },
    {
     "name": "stderr",
     "output_type": "stream",
     "text": [
      " 46%|████▌     | 231/500 [02:06<02:25,  1.85it/s]"
     ]
    },
    {
     "name": "stdout",
     "output_type": "stream",
     "text": [
      "Dataset Name:  reddit , AUC Score(benchmark/combined):  51.37522940218023\n",
      "Dataset Name:  reddit , AUC Score (contextual):  58.83694233938064\n",
      "Dataset Name:  reddit , AUC Score (structural):  48.90605615133714\n",
      "Dataset Name:  reddit , AUC Score (joint-type):  48.718065469550226\n",
      "Dataset Name:  reddit , AUC Score (structure type):  48.718065469550226\n",
      "===========================================================================================\n",
      "Dataset Name:  reddit  Best AUC Score(benchmark/combined):  57.47039258008104\n",
      "Dataset Name:  reddit  Best AUC Score (contextual):  60.961872079239775\n",
      "Dataset Name:  reddit  Best AUC Score (structural):  55.62094233616669\n",
      "Dataset Name:  reddit  Best AUC Score (joint-type):  54.11981181665531\n",
      "Dataset Name:  reddit  Best AUC Score (structure type):  55.68347624512595\n",
      "===========================================================================================\n"
     ]
    },
    {
     "name": "stderr",
     "output_type": "stream",
     "text": [
      " 46%|████▋     | 232/500 [02:07<02:24,  1.85it/s]"
     ]
    },
    {
     "name": "stdout",
     "output_type": "stream",
     "text": [
      "Dataset Name:  reddit , AUC Score(benchmark/combined):  52.248295759237585\n",
      "Dataset Name:  reddit , AUC Score (contextual):  52.96438348402268\n",
      "Dataset Name:  reddit , AUC Score (structural):  57.293967984945326\n",
      "Dataset Name:  reddit , AUC Score (joint-type):  54.15426521426118\n",
      "Dataset Name:  reddit , AUC Score (structure type):  54.15426521426118\n",
      "===========================================================================================\n",
      "Dataset Name:  reddit  Best AUC Score(benchmark/combined):  57.47039258008104\n",
      "Dataset Name:  reddit  Best AUC Score (contextual):  60.961872079239775\n",
      "Dataset Name:  reddit  Best AUC Score (structural):  57.293967984945326\n",
      "Dataset Name:  reddit  Best AUC Score (joint-type):  54.15426521426118\n",
      "Dataset Name:  reddit  Best AUC Score (structure type):  57.326981757058974\n",
      "===========================================================================================\n"
     ]
    },
    {
     "name": "stderr",
     "output_type": "stream",
     "text": [
      " 47%|████▋     | 233/500 [02:07<02:24,  1.85it/s]"
     ]
    },
    {
     "name": "stdout",
     "output_type": "stream",
     "text": [
      "Dataset Name:  reddit , AUC Score(benchmark/combined):  52.08243914087532\n",
      "Dataset Name:  reddit , AUC Score (contextual):  51.48637825985551\n",
      "Dataset Name:  reddit , AUC Score (structural):  52.2286259625503\n",
      "Dataset Name:  reddit , AUC Score (joint-type):  48.827597930367716\n",
      "Dataset Name:  reddit , AUC Score (structure type):  48.827597930367716\n",
      "===========================================================================================\n",
      "Dataset Name:  reddit  Best AUC Score(benchmark/combined):  57.47039258008104\n",
      "Dataset Name:  reddit  Best AUC Score (contextual):  60.961872079239775\n",
      "Dataset Name:  reddit  Best AUC Score (structural):  57.293967984945326\n",
      "Dataset Name:  reddit  Best AUC Score (joint-type):  54.15426521426118\n",
      "Dataset Name:  reddit  Best AUC Score (structure type):  57.326981757058974\n",
      "===========================================================================================\n"
     ]
    },
    {
     "name": "stderr",
     "output_type": "stream",
     "text": [
      " 47%|████▋     | 234/500 [02:08<02:36,  1.70it/s]"
     ]
    },
    {
     "name": "stdout",
     "output_type": "stream",
     "text": [
      "Dataset Name:  reddit , AUC Score(benchmark/combined):  52.60118656122658\n",
      "Dataset Name:  reddit , AUC Score (contextual):  58.749012816562725\n",
      "Dataset Name:  reddit , AUC Score (structural):  50.86555593351383\n",
      "Dataset Name:  reddit , AUC Score (joint-type):  49.510088875599955\n",
      "Dataset Name:  reddit , AUC Score (structure type):  49.510088875599955\n",
      "===========================================================================================\n",
      "Dataset Name:  reddit  Best AUC Score(benchmark/combined):  57.47039258008104\n",
      "Dataset Name:  reddit  Best AUC Score (contextual):  60.961872079239775\n",
      "Dataset Name:  reddit  Best AUC Score (structural):  57.293967984945326\n",
      "Dataset Name:  reddit  Best AUC Score (joint-type):  54.15426521426118\n",
      "Dataset Name:  reddit  Best AUC Score (structure type):  57.326981757058974\n",
      "===========================================================================================\n"
     ]
    },
    {
     "name": "stderr",
     "output_type": "stream",
     "text": [
      " 47%|████▋     | 235/500 [02:08<02:32,  1.74it/s]"
     ]
    },
    {
     "name": "stdout",
     "output_type": "stream",
     "text": [
      "Dataset Name:  reddit , AUC Score(benchmark/combined):  50.85528543652546\n",
      "Dataset Name:  reddit , AUC Score (contextual):  55.71387591616441\n",
      "Dataset Name:  reddit , AUC Score (structural):  56.19621637248915\n",
      "Dataset Name:  reddit , AUC Score (joint-type):  52.309541263888235\n",
      "Dataset Name:  reddit , AUC Score (structure type):  52.309541263888235\n",
      "===========================================================================================\n",
      "Dataset Name:  reddit  Best AUC Score(benchmark/combined):  57.47039258008104\n",
      "Dataset Name:  reddit  Best AUC Score (contextual):  60.961872079239775\n",
      "Dataset Name:  reddit  Best AUC Score (structural):  57.293967984945326\n",
      "Dataset Name:  reddit  Best AUC Score (joint-type):  54.15426521426118\n",
      "Dataset Name:  reddit  Best AUC Score (structure type):  57.326981757058974\n",
      "===========================================================================================\n"
     ]
    },
    {
     "name": "stderr",
     "output_type": "stream",
     "text": [
      " 47%|████▋     | 236/500 [02:09<02:28,  1.77it/s]"
     ]
    },
    {
     "name": "stdout",
     "output_type": "stream",
     "text": [
      "Dataset Name:  reddit , AUC Score(benchmark/combined):  50.7783462869012\n",
      "Dataset Name:  reddit , AUC Score (contextual):  56.42214366915025\n",
      "Dataset Name:  reddit , AUC Score (structural):  49.661782053347814\n",
      "Dataset Name:  reddit , AUC Score (joint-type):  49.594148082827786\n",
      "Dataset Name:  reddit , AUC Score (structure type):  49.594148082827786\n",
      "===========================================================================================\n",
      "Dataset Name:  reddit  Best AUC Score(benchmark/combined):  57.47039258008104\n",
      "Dataset Name:  reddit  Best AUC Score (contextual):  60.961872079239775\n",
      "Dataset Name:  reddit  Best AUC Score (structural):  57.293967984945326\n",
      "Dataset Name:  reddit  Best AUC Score (joint-type):  54.15426521426118\n",
      "Dataset Name:  reddit  Best AUC Score (structure type):  57.326981757058974\n",
      "===========================================================================================\n"
     ]
    },
    {
     "name": "stderr",
     "output_type": "stream",
     "text": [
      " 47%|████▋     | 237/500 [02:09<02:26,  1.79it/s]"
     ]
    },
    {
     "name": "stdout",
     "output_type": "stream",
     "text": [
      "Dataset Name:  reddit , AUC Score(benchmark/combined):  56.963314692958754\n",
      "Dataset Name:  reddit , AUC Score (contextual):  56.690257884439966\n",
      "Dataset Name:  reddit , AUC Score (structural):  52.11971098790998\n",
      "Dataset Name:  reddit , AUC Score (joint-type):  49.26881390763757\n",
      "Dataset Name:  reddit , AUC Score (structure type):  49.26881390763757\n",
      "===========================================================================================\n",
      "Dataset Name:  reddit  Best AUC Score(benchmark/combined):  57.47039258008104\n",
      "Dataset Name:  reddit  Best AUC Score (contextual):  60.961872079239775\n",
      "Dataset Name:  reddit  Best AUC Score (structural):  57.293967984945326\n",
      "Dataset Name:  reddit  Best AUC Score (joint-type):  54.15426521426118\n",
      "Dataset Name:  reddit  Best AUC Score (structure type):  57.326981757058974\n",
      "===========================================================================================\n"
     ]
    },
    {
     "name": "stderr",
     "output_type": "stream",
     "text": [
      " 48%|████▊     | 238/500 [02:10<02:24,  1.81it/s]"
     ]
    },
    {
     "name": "stdout",
     "output_type": "stream",
     "text": [
      "Dataset Name:  reddit , AUC Score(benchmark/combined):  53.20944328992834\n",
      "Dataset Name:  reddit , AUC Score (contextual):  54.57754619967894\n",
      "Dataset Name:  reddit , AUC Score (structural):  57.508958274070146\n",
      "Dataset Name:  reddit , AUC Score (joint-type):  51.8491254857499\n",
      "Dataset Name:  reddit , AUC Score (structure type):  51.8491254857499\n",
      "===========================================================================================\n",
      "Dataset Name:  reddit  Best AUC Score(benchmark/combined):  57.47039258008104\n",
      "Dataset Name:  reddit  Best AUC Score (contextual):  60.961872079239775\n",
      "Dataset Name:  reddit  Best AUC Score (structural):  57.508958274070146\n",
      "Dataset Name:  reddit  Best AUC Score (joint-type):  54.15426521426118\n",
      "Dataset Name:  reddit  Best AUC Score (structure type):  57.40763493053909\n",
      "===========================================================================================\n"
     ]
    },
    {
     "name": "stderr",
     "output_type": "stream",
     "text": [
      " 48%|████▊     | 239/500 [02:11<02:23,  1.82it/s]"
     ]
    },
    {
     "name": "stdout",
     "output_type": "stream",
     "text": [
      "Dataset Name:  reddit , AUC Score(benchmark/combined):  49.51752205503182\n",
      "Dataset Name:  reddit , AUC Score (contextual):  57.01440313915479\n",
      "Dataset Name:  reddit , AUC Score (structural):  50.51931631990654\n",
      "Dataset Name:  reddit , AUC Score (joint-type):  51.206703690156196\n",
      "Dataset Name:  reddit , AUC Score (structure type):  51.206703690156196\n",
      "===========================================================================================\n",
      "Dataset Name:  reddit  Best AUC Score(benchmark/combined):  57.47039258008104\n",
      "Dataset Name:  reddit  Best AUC Score (contextual):  60.961872079239775\n",
      "Dataset Name:  reddit  Best AUC Score (structural):  57.508958274070146\n",
      "Dataset Name:  reddit  Best AUC Score (joint-type):  54.15426521426118\n",
      "Dataset Name:  reddit  Best AUC Score (structure type):  57.40763493053909\n",
      "===========================================================================================\n"
     ]
    },
    {
     "name": "stderr",
     "output_type": "stream",
     "text": [
      " 48%|████▊     | 240/500 [02:11<02:21,  1.83it/s]"
     ]
    },
    {
     "name": "stdout",
     "output_type": "stream",
     "text": [
      "Dataset Name:  reddit , AUC Score(benchmark/combined):  53.90387701264066\n",
      "Dataset Name:  reddit , AUC Score (contextual):  59.64490233903661\n",
      "Dataset Name:  reddit , AUC Score (structural):  50.50319010041091\n",
      "Dataset Name:  reddit , AUC Score (joint-type):  48.582528535356225\n",
      "Dataset Name:  reddit , AUC Score (structure type):  48.582528535356225\n",
      "===========================================================================================\n",
      "Dataset Name:  reddit  Best AUC Score(benchmark/combined):  57.47039258008104\n",
      "Dataset Name:  reddit  Best AUC Score (contextual):  60.961872079239775\n",
      "Dataset Name:  reddit  Best AUC Score (structural):  57.508958274070146\n",
      "Dataset Name:  reddit  Best AUC Score (joint-type):  54.15426521426118\n",
      "Dataset Name:  reddit  Best AUC Score (structure type):  57.40763493053909\n",
      "===========================================================================================\n"
     ]
    },
    {
     "name": "stderr",
     "output_type": "stream",
     "text": [
      " 48%|████▊     | 241/500 [02:12<02:21,  1.83it/s]"
     ]
    },
    {
     "name": "stdout",
     "output_type": "stream",
     "text": [
      "Dataset Name:  reddit , AUC Score(benchmark/combined):  56.69735998361376\n",
      "Dataset Name:  reddit , AUC Score (contextual):  52.87878120979488\n",
      "Dataset Name:  reddit , AUC Score (structural):  53.63960717537197\n",
      "Dataset Name:  reddit , AUC Score (joint-type):  51.84047419207795\n",
      "Dataset Name:  reddit , AUC Score (structure type):  51.84047419207795\n",
      "===========================================================================================\n",
      "Dataset Name:  reddit  Best AUC Score(benchmark/combined):  57.47039258008104\n",
      "Dataset Name:  reddit  Best AUC Score (contextual):  60.961872079239775\n",
      "Dataset Name:  reddit  Best AUC Score (structural):  57.508958274070146\n",
      "Dataset Name:  reddit  Best AUC Score (joint-type):  54.15426521426118\n",
      "Dataset Name:  reddit  Best AUC Score (structure type):  57.40763493053909\n",
      "===========================================================================================\n"
     ]
    },
    {
     "name": "stderr",
     "output_type": "stream",
     "text": [
      " 48%|████▊     | 242/500 [02:12<02:21,  1.83it/s]"
     ]
    },
    {
     "name": "stdout",
     "output_type": "stream",
     "text": [
      "Dataset Name:  reddit , AUC Score(benchmark/combined):  49.59500157995444\n",
      "Dataset Name:  reddit , AUC Score (contextual):  53.08858772943004\n",
      "Dataset Name:  reddit , AUC Score (structural):  50.76708951576915\n",
      "Dataset Name:  reddit , AUC Score (joint-type):  51.66881431237647\n",
      "Dataset Name:  reddit , AUC Score (structure type):  51.66881431237647\n",
      "===========================================================================================\n",
      "Dataset Name:  reddit  Best AUC Score(benchmark/combined):  57.47039258008104\n",
      "Dataset Name:  reddit  Best AUC Score (contextual):  60.961872079239775\n",
      "Dataset Name:  reddit  Best AUC Score (structural):  57.508958274070146\n",
      "Dataset Name:  reddit  Best AUC Score (joint-type):  54.15426521426118\n",
      "Dataset Name:  reddit  Best AUC Score (structure type):  57.40763493053909\n",
      "===========================================================================================\n"
     ]
    },
    {
     "name": "stderr",
     "output_type": "stream",
     "text": [
      " 49%|████▊     | 243/500 [02:13<02:20,  1.83it/s]"
     ]
    },
    {
     "name": "stdout",
     "output_type": "stream",
     "text": [
      "Dataset Name:  reddit , AUC Score(benchmark/combined):  51.650409089833026\n",
      "Dataset Name:  reddit , AUC Score (contextual):  59.02226215645889\n",
      "Dataset Name:  reddit , AUC Score (structural):  52.49001062924747\n",
      "Dataset Name:  reddit , AUC Score (joint-type):  49.93099202006695\n",
      "Dataset Name:  reddit , AUC Score (structure type):  49.93099202006695\n",
      "===========================================================================================\n",
      "Dataset Name:  reddit  Best AUC Score(benchmark/combined):  57.47039258008104\n",
      "Dataset Name:  reddit  Best AUC Score (contextual):  60.961872079239775\n",
      "Dataset Name:  reddit  Best AUC Score (structural):  57.508958274070146\n",
      "Dataset Name:  reddit  Best AUC Score (joint-type):  54.15426521426118\n",
      "Dataset Name:  reddit  Best AUC Score (structure type):  57.40763493053909\n",
      "===========================================================================================\n"
     ]
    },
    {
     "name": "stderr",
     "output_type": "stream",
     "text": [
      " 49%|████▉     | 244/500 [02:13<02:20,  1.82it/s]"
     ]
    },
    {
     "name": "stdout",
     "output_type": "stream",
     "text": [
      "Dataset Name:  reddit , AUC Score(benchmark/combined):  54.13680449839276\n",
      "Dataset Name:  reddit , AUC Score (contextual):  56.879372128567326\n",
      "Dataset Name:  reddit , AUC Score (structural):  50.1408441598485\n",
      "Dataset Name:  reddit , AUC Score (joint-type):  49.888418548576006\n",
      "Dataset Name:  reddit , AUC Score (structure type):  49.888418548576006\n",
      "===========================================================================================\n",
      "Dataset Name:  reddit  Best AUC Score(benchmark/combined):  57.47039258008104\n",
      "Dataset Name:  reddit  Best AUC Score (contextual):  60.961872079239775\n",
      "Dataset Name:  reddit  Best AUC Score (structural):  57.508958274070146\n",
      "Dataset Name:  reddit  Best AUC Score (joint-type):  54.15426521426118\n",
      "Dataset Name:  reddit  Best AUC Score (structure type):  57.40763493053909\n",
      "===========================================================================================\n"
     ]
    },
    {
     "name": "stderr",
     "output_type": "stream",
     "text": [
      " 49%|████▉     | 245/500 [02:14<02:20,  1.82it/s]"
     ]
    },
    {
     "name": "stdout",
     "output_type": "stream",
     "text": [
      "Dataset Name:  reddit , AUC Score(benchmark/combined):  46.93836222025286\n",
      "Dataset Name:  reddit , AUC Score (contextual):  50.26927783958478\n",
      "Dataset Name:  reddit , AUC Score (structural):  49.78653646335827\n",
      "Dataset Name:  reddit , AUC Score (joint-type):  52.13714779495726\n",
      "Dataset Name:  reddit , AUC Score (structure type):  52.13714779495726\n",
      "===========================================================================================\n",
      "Dataset Name:  reddit  Best AUC Score(benchmark/combined):  57.47039258008104\n",
      "Dataset Name:  reddit  Best AUC Score (contextual):  60.961872079239775\n",
      "Dataset Name:  reddit  Best AUC Score (structural):  57.508958274070146\n",
      "Dataset Name:  reddit  Best AUC Score (joint-type):  54.15426521426118\n",
      "Dataset Name:  reddit  Best AUC Score (structure type):  57.40763493053909\n",
      "===========================================================================================\n"
     ]
    },
    {
     "name": "stderr",
     "output_type": "stream",
     "text": [
      " 49%|████▉     | 246/500 [02:14<02:18,  1.83it/s]"
     ]
    },
    {
     "name": "stdout",
     "output_type": "stream",
     "text": [
      "Dataset Name:  reddit , AUC Score(benchmark/combined):  50.72369118529521\n",
      "Dataset Name:  reddit , AUC Score (contextual):  53.276690126344306\n",
      "Dataset Name:  reddit , AUC Score (structural):  51.88994054119645\n",
      "Dataset Name:  reddit , AUC Score (joint-type):  52.22725278928332\n",
      "Dataset Name:  reddit , AUC Score (structure type):  52.22725278928332\n",
      "===========================================================================================\n",
      "Dataset Name:  reddit  Best AUC Score(benchmark/combined):  57.47039258008104\n",
      "Dataset Name:  reddit  Best AUC Score (contextual):  60.961872079239775\n",
      "Dataset Name:  reddit  Best AUC Score (structural):  57.508958274070146\n",
      "Dataset Name:  reddit  Best AUC Score (joint-type):  54.15426521426118\n",
      "Dataset Name:  reddit  Best AUC Score (structure type):  57.40763493053909\n",
      "===========================================================================================\n"
     ]
    },
    {
     "name": "stderr",
     "output_type": "stream",
     "text": [
      " 49%|████▉     | 247/500 [02:15<02:18,  1.83it/s]"
     ]
    },
    {
     "name": "stdout",
     "output_type": "stream",
     "text": [
      "Dataset Name:  reddit , AUC Score(benchmark/combined):  53.23159867716127\n",
      "Dataset Name:  reddit , AUC Score (contextual):  57.25605754982208\n",
      "Dataset Name:  reddit , AUC Score (structural):  49.096905184858066\n",
      "Dataset Name:  reddit , AUC Score (joint-type):  50.19804379578293\n",
      "Dataset Name:  reddit , AUC Score (structure type):  50.19804379578293\n",
      "===========================================================================================\n",
      "Dataset Name:  reddit  Best AUC Score(benchmark/combined):  57.47039258008104\n",
      "Dataset Name:  reddit  Best AUC Score (contextual):  60.961872079239775\n",
      "Dataset Name:  reddit  Best AUC Score (structural):  57.508958274070146\n",
      "Dataset Name:  reddit  Best AUC Score (joint-type):  54.15426521426118\n",
      "Dataset Name:  reddit  Best AUC Score (structure type):  57.40763493053909\n",
      "===========================================================================================\n"
     ]
    },
    {
     "name": "stderr",
     "output_type": "stream",
     "text": [
      " 50%|████▉     | 248/500 [02:15<02:17,  1.83it/s]"
     ]
    },
    {
     "name": "stdout",
     "output_type": "stream",
     "text": [
      "Dataset Name:  reddit , AUC Score(benchmark/combined):  51.63659092148913\n",
      "Dataset Name:  reddit , AUC Score (contextual):  55.309541769811844\n",
      "Dataset Name:  reddit , AUC Score (structural):  48.597758243303005\n",
      "Dataset Name:  reddit , AUC Score (joint-type):  48.958227405578214\n",
      "Dataset Name:  reddit , AUC Score (structure type):  48.958227405578214\n",
      "===========================================================================================\n",
      "Dataset Name:  reddit  Best AUC Score(benchmark/combined):  57.47039258008104\n",
      "Dataset Name:  reddit  Best AUC Score (contextual):  60.961872079239775\n",
      "Dataset Name:  reddit  Best AUC Score (structural):  57.508958274070146\n",
      "Dataset Name:  reddit  Best AUC Score (joint-type):  54.15426521426118\n",
      "Dataset Name:  reddit  Best AUC Score (structure type):  57.40763493053909\n",
      "===========================================================================================\n"
     ]
    },
    {
     "name": "stderr",
     "output_type": "stream",
     "text": [
      " 50%|████▉     | 249/500 [02:16<02:16,  1.84it/s]"
     ]
    },
    {
     "name": "stdout",
     "output_type": "stream",
     "text": [
      "Dataset Name:  reddit , AUC Score(benchmark/combined):  53.08158020147249\n",
      "Dataset Name:  reddit , AUC Score (contextual):  53.608474827517995\n",
      "Dataset Name:  reddit , AUC Score (structural):  51.626732391620465\n",
      "Dataset Name:  reddit , AUC Score (joint-type):  50.631367364790655\n",
      "Dataset Name:  reddit , AUC Score (structure type):  50.631367364790655\n",
      "===========================================================================================\n",
      "Dataset Name:  reddit  Best AUC Score(benchmark/combined):  57.47039258008104\n",
      "Dataset Name:  reddit  Best AUC Score (contextual):  60.961872079239775\n",
      "Dataset Name:  reddit  Best AUC Score (structural):  57.508958274070146\n",
      "Dataset Name:  reddit  Best AUC Score (joint-type):  54.15426521426118\n",
      "Dataset Name:  reddit  Best AUC Score (structure type):  57.40763493053909\n",
      "===========================================================================================\n"
     ]
    },
    {
     "name": "stderr",
     "output_type": "stream",
     "text": [
      " 50%|█████     | 250/500 [02:17<02:16,  1.84it/s]"
     ]
    },
    {
     "name": "stdout",
     "output_type": "stream",
     "text": [
      "Dataset Name:  reddit , AUC Score(benchmark/combined):  51.96120208286372\n",
      "Dataset Name:  reddit , AUC Score (contextual):  58.46994535519126\n",
      "Dataset Name:  reddit , AUC Score (structural):  49.242669433055966\n",
      "Dataset Name:  reddit , AUC Score (joint-type):  51.37517625113644\n",
      "Dataset Name:  reddit , AUC Score (structure type):  51.37517625113644\n",
      "===========================================================================================\n",
      "Dataset Name:  reddit  Best AUC Score(benchmark/combined):  57.47039258008104\n",
      "Dataset Name:  reddit  Best AUC Score (contextual):  60.961872079239775\n",
      "Dataset Name:  reddit  Best AUC Score (structural):  57.508958274070146\n",
      "Dataset Name:  reddit  Best AUC Score (joint-type):  54.15426521426118\n",
      "Dataset Name:  reddit  Best AUC Score (structure type):  57.40763493053909\n",
      "===========================================================================================\n"
     ]
    },
    {
     "name": "stderr",
     "output_type": "stream",
     "text": [
      " 50%|█████     | 251/500 [02:17<02:29,  1.67it/s]"
     ]
    },
    {
     "name": "stdout",
     "output_type": "stream",
     "text": [
      "Dataset Name:  reddit , AUC Score(benchmark/combined):  53.29271255019057\n",
      "Dataset Name:  reddit , AUC Score (contextual):  57.419344393835225\n",
      "Dataset Name:  reddit , AUC Score (structural):  49.966708175767835\n",
      "Dataset Name:  reddit , AUC Score (joint-type):  48.97962797413516\n",
      "Dataset Name:  reddit , AUC Score (structure type):  48.97962797413516\n",
      "===========================================================================================\n",
      "Dataset Name:  reddit  Best AUC Score(benchmark/combined):  57.47039258008104\n",
      "Dataset Name:  reddit  Best AUC Score (contextual):  60.961872079239775\n",
      "Dataset Name:  reddit  Best AUC Score (structural):  57.508958274070146\n",
      "Dataset Name:  reddit  Best AUC Score (joint-type):  54.15426521426118\n",
      "Dataset Name:  reddit  Best AUC Score (structure type):  57.40763493053909\n",
      "===========================================================================================\n"
     ]
    },
    {
     "name": "stderr",
     "output_type": "stream",
     "text": [
      " 50%|█████     | 252/500 [02:18<02:23,  1.72it/s]"
     ]
    },
    {
     "name": "stdout",
     "output_type": "stream",
     "text": [
      "Dataset Name:  reddit , AUC Score(benchmark/combined):  53.26178249739848\n",
      "Dataset Name:  reddit , AUC Score (contextual):  54.03557553616519\n",
      "Dataset Name:  reddit , AUC Score (structural):  50.90089171628198\n",
      "Dataset Name:  reddit , AUC Score (joint-type):  50.209933000536786\n",
      "Dataset Name:  reddit , AUC Score (structure type):  50.209933000536786\n",
      "===========================================================================================\n",
      "Dataset Name:  reddit  Best AUC Score(benchmark/combined):  57.47039258008104\n",
      "Dataset Name:  reddit  Best AUC Score (contextual):  60.961872079239775\n",
      "Dataset Name:  reddit  Best AUC Score (structural):  57.508958274070146\n",
      "Dataset Name:  reddit  Best AUC Score (joint-type):  54.15426521426118\n",
      "Dataset Name:  reddit  Best AUC Score (structure type):  57.40763493053909\n",
      "===========================================================================================\n"
     ]
    },
    {
     "name": "stderr",
     "output_type": "stream",
     "text": [
      " 51%|█████     | 253/500 [02:18<02:20,  1.76it/s]"
     ]
    },
    {
     "name": "stdout",
     "output_type": "stream",
     "text": [
      "Dataset Name:  reddit , AUC Score(benchmark/combined):  51.267720449962795\n",
      "Dataset Name:  reddit , AUC Score (contextual):  56.4384597054614\n",
      "Dataset Name:  reddit , AUC Score (structural):  49.372052174155215\n",
      "Dataset Name:  reddit , AUC Score (joint-type):  51.24530566133575\n",
      "Dataset Name:  reddit , AUC Score (structure type):  51.24530566133575\n",
      "===========================================================================================\n",
      "Dataset Name:  reddit  Best AUC Score(benchmark/combined):  57.47039258008104\n",
      "Dataset Name:  reddit  Best AUC Score (contextual):  60.961872079239775\n",
      "Dataset Name:  reddit  Best AUC Score (structural):  57.508958274070146\n",
      "Dataset Name:  reddit  Best AUC Score (joint-type):  54.15426521426118\n",
      "Dataset Name:  reddit  Best AUC Score (structure type):  57.40763493053909\n",
      "===========================================================================================\n"
     ]
    },
    {
     "name": "stderr",
     "output_type": "stream",
     "text": [
      " 51%|█████     | 254/500 [02:19<02:17,  1.79it/s]"
     ]
    },
    {
     "name": "stdout",
     "output_type": "stream",
     "text": [
      "Dataset Name:  reddit , AUC Score(benchmark/combined):  51.833313262250826\n",
      "Dataset Name:  reddit , AUC Score (contextual):  57.69390913510841\n",
      "Dataset Name:  reddit , AUC Score (structural):  49.50655558672054\n",
      "Dataset Name:  reddit , AUC Score (joint-type):  49.06796223583831\n",
      "Dataset Name:  reddit , AUC Score (structure type):  49.06796223583831\n",
      "===========================================================================================\n",
      "Dataset Name:  reddit  Best AUC Score(benchmark/combined):  57.47039258008104\n",
      "Dataset Name:  reddit  Best AUC Score (contextual):  60.961872079239775\n",
      "Dataset Name:  reddit  Best AUC Score (structural):  57.508958274070146\n",
      "Dataset Name:  reddit  Best AUC Score (joint-type):  54.15426521426118\n",
      "Dataset Name:  reddit  Best AUC Score (structure type):  57.40763493053909\n",
      "===========================================================================================\n"
     ]
    },
    {
     "name": "stderr",
     "output_type": "stream",
     "text": [
      " 51%|█████     | 255/500 [02:19<02:15,  1.81it/s]"
     ]
    },
    {
     "name": "stdout",
     "output_type": "stream",
     "text": [
      "Dataset Name:  reddit , AUC Score(benchmark/combined):  54.30424364441453\n",
      "Dataset Name:  reddit , AUC Score (contextual):  55.70618587734489\n",
      "Dataset Name:  reddit , AUC Score (structural):  51.13880152748187\n",
      "Dataset Name:  reddit , AUC Score (joint-type):  49.163379428033124\n",
      "Dataset Name:  reddit , AUC Score (structure type):  49.163379428033124\n",
      "===========================================================================================\n",
      "Dataset Name:  reddit  Best AUC Score(benchmark/combined):  57.47039258008104\n",
      "Dataset Name:  reddit  Best AUC Score (contextual):  60.961872079239775\n",
      "Dataset Name:  reddit  Best AUC Score (structural):  57.508958274070146\n",
      "Dataset Name:  reddit  Best AUC Score (joint-type):  54.15426521426118\n",
      "Dataset Name:  reddit  Best AUC Score (structure type):  57.40763493053909\n",
      "===========================================================================================\n"
     ]
    },
    {
     "name": "stderr",
     "output_type": "stream",
     "text": [
      " 51%|█████     | 256/500 [02:20<02:14,  1.81it/s]"
     ]
    },
    {
     "name": "stdout",
     "output_type": "stream",
     "text": [
      "Dataset Name:  reddit , AUC Score(benchmark/combined):  52.73028479322153\n",
      "Dataset Name:  reddit , AUC Score (contextual):  55.52081546790597\n",
      "Dataset Name:  reddit , AUC Score (structural):  49.84021814159908\n",
      "Dataset Name:  reddit , AUC Score (joint-type):  50.0002782579836\n",
      "Dataset Name:  reddit , AUC Score (structure type):  50.0002782579836\n",
      "===========================================================================================\n",
      "Dataset Name:  reddit  Best AUC Score(benchmark/combined):  57.47039258008104\n",
      "Dataset Name:  reddit  Best AUC Score (contextual):  60.961872079239775\n",
      "Dataset Name:  reddit  Best AUC Score (structural):  57.508958274070146\n",
      "Dataset Name:  reddit  Best AUC Score (joint-type):  54.15426521426118\n",
      "Dataset Name:  reddit  Best AUC Score (structure type):  57.40763493053909\n",
      "===========================================================================================\n"
     ]
    },
    {
     "name": "stderr",
     "output_type": "stream",
     "text": [
      " 51%|█████▏    | 257/500 [02:21<02:13,  1.82it/s]"
     ]
    },
    {
     "name": "stdout",
     "output_type": "stream",
     "text": [
      "Dataset Name:  reddit , AUC Score(benchmark/combined):  50.99686376469692\n",
      "Dataset Name:  reddit , AUC Score (contextual):  56.14178610258208\n",
      "Dataset Name:  reddit , AUC Score (structural):  49.23415376801187\n",
      "Dataset Name:  reddit , AUC Score (joint-type):  50.098730991817696\n",
      "Dataset Name:  reddit , AUC Score (structure type):  50.098730991817696\n",
      "===========================================================================================\n",
      "Dataset Name:  reddit  Best AUC Score(benchmark/combined):  57.47039258008104\n",
      "Dataset Name:  reddit  Best AUC Score (contextual):  60.961872079239775\n",
      "Dataset Name:  reddit  Best AUC Score (structural):  57.508958274070146\n",
      "Dataset Name:  reddit  Best AUC Score (joint-type):  54.15426521426118\n",
      "Dataset Name:  reddit  Best AUC Score (structure type):  57.40763493053909\n",
      "===========================================================================================\n"
     ]
    },
    {
     "name": "stderr",
     "output_type": "stream",
     "text": [
      " 52%|█████▏    | 258/500 [02:21<02:12,  1.82it/s]"
     ]
    },
    {
     "name": "stdout",
     "output_type": "stream",
     "text": [
      "Dataset Name:  reddit , AUC Score(benchmark/combined):  53.03021881597082\n",
      "Dataset Name:  reddit , AUC Score (contextual):  57.917881515726876\n",
      "Dataset Name:  reddit , AUC Score (structural):  50.49792023489111\n",
      "Dataset Name:  reddit , AUC Score (joint-type):  48.87641955839952\n",
      "Dataset Name:  reddit , AUC Score (structure type):  48.87641955839952\n",
      "===========================================================================================\n",
      "Dataset Name:  reddit  Best AUC Score(benchmark/combined):  57.47039258008104\n",
      "Dataset Name:  reddit  Best AUC Score (contextual):  60.961872079239775\n",
      "Dataset Name:  reddit  Best AUC Score (structural):  57.508958274070146\n",
      "Dataset Name:  reddit  Best AUC Score (joint-type):  54.15426521426118\n",
      "Dataset Name:  reddit  Best AUC Score (structure type):  57.40763493053909\n",
      "===========================================================================================\n"
     ]
    },
    {
     "name": "stderr",
     "output_type": "stream",
     "text": [
      " 52%|█████▏    | 259/500 [02:22<02:11,  1.84it/s]"
     ]
    },
    {
     "name": "stdout",
     "output_type": "stream",
     "text": [
      "Dataset Name:  reddit , AUC Score(benchmark/combined):  52.537345079548395\n",
      "Dataset Name:  reddit , AUC Score (contextual):  57.58478141317618\n",
      "Dataset Name:  reddit , AUC Score (structural):  50.85887369761879\n",
      "Dataset Name:  reddit , AUC Score (joint-type):  48.95443297852911\n",
      "Dataset Name:  reddit , AUC Score (structure type):  48.95443297852911\n",
      "===========================================================================================\n",
      "Dataset Name:  reddit  Best AUC Score(benchmark/combined):  57.47039258008104\n",
      "Dataset Name:  reddit  Best AUC Score (contextual):  60.961872079239775\n",
      "Dataset Name:  reddit  Best AUC Score (structural):  57.508958274070146\n",
      "Dataset Name:  reddit  Best AUC Score (joint-type):  54.15426521426118\n",
      "Dataset Name:  reddit  Best AUC Score (structure type):  57.40763493053909\n",
      "===========================================================================================\n"
     ]
    },
    {
     "name": "stderr",
     "output_type": "stream",
     "text": [
      " 52%|█████▏    | 260/500 [02:22<02:09,  1.85it/s]"
     ]
    },
    {
     "name": "stdout",
     "output_type": "stream",
     "text": [
      "Dataset Name:  reddit , AUC Score(benchmark/combined):  52.26985930685804\n",
      "Dataset Name:  reddit , AUC Score (contextual):  54.516304147106396\n",
      "Dataset Name:  reddit , AUC Score (structural):  49.40654418166398\n",
      "Dataset Name:  reddit , AUC Score (joint-type):  50.748842826230934\n",
      "Dataset Name:  reddit , AUC Score (structure type):  50.748842826230934\n",
      "===========================================================================================\n",
      "Dataset Name:  reddit  Best AUC Score(benchmark/combined):  57.47039258008104\n",
      "Dataset Name:  reddit  Best AUC Score (contextual):  60.961872079239775\n",
      "Dataset Name:  reddit  Best AUC Score (structural):  57.508958274070146\n",
      "Dataset Name:  reddit  Best AUC Score (joint-type):  54.15426521426118\n",
      "Dataset Name:  reddit  Best AUC Score (structure type):  57.40763493053909\n",
      "===========================================================================================\n"
     ]
    },
    {
     "name": "stderr",
     "output_type": "stream",
     "text": [
      " 52%|█████▏    | 261/500 [02:23<02:09,  1.85it/s]"
     ]
    },
    {
     "name": "stdout",
     "output_type": "stream",
     "text": [
      "Dataset Name:  reddit , AUC Score(benchmark/combined):  52.30876632834027\n",
      "Dataset Name:  reddit , AUC Score (contextual):  57.51541928671855\n",
      "Dataset Name:  reddit , AUC Score (structural):  50.6185054999559\n",
      "Dataset Name:  reddit , AUC Score (joint-type):  49.556507366500675\n",
      "Dataset Name:  reddit , AUC Score (structure type):  49.556507366500675\n",
      "===========================================================================================\n",
      "Dataset Name:  reddit  Best AUC Score(benchmark/combined):  57.47039258008104\n",
      "Dataset Name:  reddit  Best AUC Score (contextual):  60.961872079239775\n",
      "Dataset Name:  reddit  Best AUC Score (structural):  57.508958274070146\n",
      "Dataset Name:  reddit  Best AUC Score (joint-type):  54.15426521426118\n",
      "Dataset Name:  reddit  Best AUC Score (structure type):  57.40763493053909\n",
      "===========================================================================================\n"
     ]
    },
    {
     "name": "stderr",
     "output_type": "stream",
     "text": [
      " 52%|█████▏    | 262/500 [02:23<02:08,  1.85it/s]"
     ]
    },
    {
     "name": "stdout",
     "output_type": "stream",
     "text": [
      "Dataset Name:  reddit , AUC Score(benchmark/combined):  51.00468634044467\n",
      "Dataset Name:  reddit , AUC Score (contextual):  57.88418700353084\n",
      "Dataset Name:  reddit , AUC Score (structural):  50.77412318654627\n",
      "Dataset Name:  reddit , AUC Score (joint-type):  48.66623359605946\n",
      "Dataset Name:  reddit , AUC Score (structure type):  48.66623359605946\n",
      "===========================================================================================\n",
      "Dataset Name:  reddit  Best AUC Score(benchmark/combined):  57.47039258008104\n",
      "Dataset Name:  reddit  Best AUC Score (contextual):  60.961872079239775\n",
      "Dataset Name:  reddit  Best AUC Score (structural):  57.508958274070146\n",
      "Dataset Name:  reddit  Best AUC Score (joint-type):  54.15426521426118\n",
      "Dataset Name:  reddit  Best AUC Score (structure type):  57.40763493053909\n",
      "===========================================================================================\n"
     ]
    },
    {
     "name": "stderr",
     "output_type": "stream",
     "text": [
      " 53%|█████▎    | 263/500 [02:24<02:07,  1.86it/s]"
     ]
    },
    {
     "name": "stdout",
     "output_type": "stream",
     "text": [
      "Dataset Name:  reddit , AUC Score(benchmark/combined):  52.38337671775013\n",
      "Dataset Name:  reddit , AUC Score (contextual):  55.906759291160554\n",
      "Dataset Name:  reddit , AUC Score (structural):  50.71055491567884\n",
      "Dataset Name:  reddit , AUC Score (joint-type):  49.99403010144274\n",
      "Dataset Name:  reddit , AUC Score (structure type):  49.99403010144274\n",
      "===========================================================================================\n",
      "Dataset Name:  reddit  Best AUC Score(benchmark/combined):  57.47039258008104\n",
      "Dataset Name:  reddit  Best AUC Score (contextual):  60.961872079239775\n",
      "Dataset Name:  reddit  Best AUC Score (structural):  57.508958274070146\n",
      "Dataset Name:  reddit  Best AUC Score (joint-type):  54.15426521426118\n",
      "Dataset Name:  reddit  Best AUC Score (structure type):  57.40763493053909\n",
      "===========================================================================================\n"
     ]
    },
    {
     "name": "stderr",
     "output_type": "stream",
     "text": [
      " 53%|█████▎    | 264/500 [02:24<02:06,  1.86it/s]"
     ]
    },
    {
     "name": "stdout",
     "output_type": "stream",
     "text": [
      "Dataset Name:  reddit , AUC Score(benchmark/combined):  52.75280043065338\n",
      "Dataset Name:  reddit , AUC Score (contextual):  56.85296291630557\n",
      "Dataset Name:  reddit , AUC Score (structural):  50.27873925056843\n",
      "Dataset Name:  reddit , AUC Score (joint-type):  49.9676461853613\n",
      "Dataset Name:  reddit , AUC Score (structure type):  49.9676461853613\n",
      "===========================================================================================\n",
      "Dataset Name:  reddit  Best AUC Score(benchmark/combined):  57.47039258008104\n",
      "Dataset Name:  reddit  Best AUC Score (contextual):  60.961872079239775\n",
      "Dataset Name:  reddit  Best AUC Score (structural):  57.508958274070146\n",
      "Dataset Name:  reddit  Best AUC Score (joint-type):  54.15426521426118\n",
      "Dataset Name:  reddit  Best AUC Score (structure type):  57.40763493053909\n",
      "===========================================================================================\n"
     ]
    },
    {
     "name": "stderr",
     "output_type": "stream",
     "text": [
      " 53%|█████▎    | 265/500 [02:25<02:06,  1.86it/s]"
     ]
    },
    {
     "name": "stdout",
     "output_type": "stream",
     "text": [
      "Dataset Name:  reddit , AUC Score(benchmark/combined):  51.754341272218426\n",
      "Dataset Name:  reddit , AUC Score (contextual):  57.11222346848071\n",
      "Dataset Name:  reddit , AUC Score (structural):  50.87353118454111\n",
      "Dataset Name:  reddit , AUC Score (joint-type):  49.878477149707344\n",
      "Dataset Name:  reddit , AUC Score (structure type):  49.878477149707344\n",
      "===========================================================================================\n",
      "Dataset Name:  reddit  Best AUC Score(benchmark/combined):  57.47039258008104\n",
      "Dataset Name:  reddit  Best AUC Score (contextual):  60.961872079239775\n",
      "Dataset Name:  reddit  Best AUC Score (structural):  57.508958274070146\n",
      "Dataset Name:  reddit  Best AUC Score (joint-type):  54.15426521426118\n",
      "Dataset Name:  reddit  Best AUC Score (structure type):  57.40763493053909\n",
      "===========================================================================================\n"
     ]
    },
    {
     "name": "stderr",
     "output_type": "stream",
     "text": [
      " 53%|█████▎    | 266/500 [02:25<02:06,  1.85it/s]"
     ]
    },
    {
     "name": "stdout",
     "output_type": "stream",
     "text": [
      "Dataset Name:  reddit , AUC Score(benchmark/combined):  51.76824950311205\n",
      "Dataset Name:  reddit , AUC Score (contextual):  56.86404264328895\n",
      "Dataset Name:  reddit , AUC Score (structural):  50.668997740870495\n",
      "Dataset Name:  reddit , AUC Score (joint-type):  49.568573644516825\n",
      "Dataset Name:  reddit , AUC Score (structure type):  49.568573644516825\n",
      "===========================================================================================\n",
      "Dataset Name:  reddit  Best AUC Score(benchmark/combined):  57.47039258008104\n",
      "Dataset Name:  reddit  Best AUC Score (contextual):  60.961872079239775\n",
      "Dataset Name:  reddit  Best AUC Score (structural):  57.508958274070146\n",
      "Dataset Name:  reddit  Best AUC Score (joint-type):  54.15426521426118\n",
      "Dataset Name:  reddit  Best AUC Score (structure type):  57.40763493053909\n",
      "===========================================================================================\n"
     ]
    },
    {
     "name": "stderr",
     "output_type": "stream",
     "text": [
      " 53%|█████▎    | 267/500 [02:26<02:17,  1.70it/s]"
     ]
    },
    {
     "name": "stdout",
     "output_type": "stream",
     "text": [
      "Dataset Name:  reddit , AUC Score(benchmark/combined):  52.69598382785393\n",
      "Dataset Name:  reddit , AUC Score (contextual):  57.814824877073214\n",
      "Dataset Name:  reddit , AUC Score (structural):  50.59126763888143\n",
      "Dataset Name:  reddit , AUC Score (joint-type):  49.43683113737192\n",
      "Dataset Name:  reddit , AUC Score (structure type):  49.43683113737192\n",
      "===========================================================================================\n",
      "Dataset Name:  reddit  Best AUC Score(benchmark/combined):  57.47039258008104\n",
      "Dataset Name:  reddit  Best AUC Score (contextual):  60.961872079239775\n",
      "Dataset Name:  reddit  Best AUC Score (structural):  57.508958274070146\n",
      "Dataset Name:  reddit  Best AUC Score (joint-type):  54.15426521426118\n",
      "Dataset Name:  reddit  Best AUC Score (structure type):  57.40763493053909\n",
      "===========================================================================================\n"
     ]
    },
    {
     "name": "stderr",
     "output_type": "stream",
     "text": [
      " 54%|█████▎    | 268/500 [02:27<02:12,  1.75it/s]"
     ]
    },
    {
     "name": "stdout",
     "output_type": "stream",
     "text": [
      "Dataset Name:  reddit , AUC Score(benchmark/combined):  52.546145477264616\n",
      "Dataset Name:  reddit , AUC Score (contextual):  56.29032527346436\n",
      "Dataset Name:  reddit , AUC Score (structural):  50.05743805297118\n",
      "Dataset Name:  reddit , AUC Score (joint-type):  50.14679373443969\n",
      "Dataset Name:  reddit , AUC Score (structure type):  50.14679373443969\n",
      "===========================================================================================\n",
      "Dataset Name:  reddit  Best AUC Score(benchmark/combined):  57.47039258008104\n",
      "Dataset Name:  reddit  Best AUC Score (contextual):  60.961872079239775\n",
      "Dataset Name:  reddit  Best AUC Score (structural):  57.508958274070146\n",
      "Dataset Name:  reddit  Best AUC Score (joint-type):  54.15426521426118\n",
      "Dataset Name:  reddit  Best AUC Score (structure type):  57.40763493053909\n",
      "===========================================================================================\n"
     ]
    },
    {
     "name": "stderr",
     "output_type": "stream",
     "text": [
      " 54%|█████▍    | 269/500 [02:27<02:09,  1.78it/s]"
     ]
    },
    {
     "name": "stdout",
     "output_type": "stream",
     "text": [
      "Dataset Name:  reddit , AUC Score(benchmark/combined):  51.69909433099994\n",
      "Dataset Name:  reddit , AUC Score (contextual):  57.55822042383244\n",
      "Dataset Name:  reddit , AUC Score (structural):  51.0126778476006\n",
      "Dataset Name:  reddit , AUC Score (joint-type):  49.851030794052164\n",
      "Dataset Name:  reddit , AUC Score (structure type):  49.851030794052164\n",
      "===========================================================================================\n",
      "Dataset Name:  reddit  Best AUC Score(benchmark/combined):  57.47039258008104\n",
      "Dataset Name:  reddit  Best AUC Score (contextual):  60.961872079239775\n",
      "Dataset Name:  reddit  Best AUC Score (structural):  57.508958274070146\n",
      "Dataset Name:  reddit  Best AUC Score (joint-type):  54.15426521426118\n",
      "Dataset Name:  reddit  Best AUC Score (structure type):  57.40763493053909\n",
      "===========================================================================================\n"
     ]
    },
    {
     "name": "stderr",
     "output_type": "stream",
     "text": [
      " 54%|█████▍    | 270/500 [02:28<02:07,  1.81it/s]"
     ]
    },
    {
     "name": "stdout",
     "output_type": "stream",
     "text": [
      "Dataset Name:  reddit , AUC Score(benchmark/combined):  52.073201296489\n",
      "Dataset Name:  reddit , AUC Score (contextual):  56.92358985177957\n",
      "Dataset Name:  reddit , AUC Score (structural):  50.46483065148733\n",
      "Dataset Name:  reddit , AUC Score (joint-type):  49.25854365842466\n",
      "Dataset Name:  reddit , AUC Score (structure type):  49.25854365842466\n",
      "===========================================================================================\n",
      "Dataset Name:  reddit  Best AUC Score(benchmark/combined):  57.47039258008104\n",
      "Dataset Name:  reddit  Best AUC Score (contextual):  60.961872079239775\n",
      "Dataset Name:  reddit  Best AUC Score (structural):  57.508958274070146\n",
      "Dataset Name:  reddit  Best AUC Score (joint-type):  54.15426521426118\n",
      "Dataset Name:  reddit  Best AUC Score (structure type):  57.40763493053909\n",
      "===========================================================================================\n"
     ]
    },
    {
     "name": "stderr",
     "output_type": "stream",
     "text": [
      " 54%|█████▍    | 271/500 [02:28<02:05,  1.82it/s]"
     ]
    },
    {
     "name": "stdout",
     "output_type": "stream",
     "text": [
      "Dataset Name:  reddit , AUC Score(benchmark/combined):  52.374010212578504\n",
      "Dataset Name:  reddit , AUC Score (contextual):  56.45702710182168\n",
      "Dataset Name:  reddit , AUC Score (structural):  49.89153094980913\n",
      "Dataset Name:  reddit , AUC Score (joint-type):  49.836055455298364\n",
      "Dataset Name:  reddit , AUC Score (structure type):  49.836055455298364\n",
      "===========================================================================================\n",
      "Dataset Name:  reddit  Best AUC Score(benchmark/combined):  57.47039258008104\n",
      "Dataset Name:  reddit  Best AUC Score (contextual):  60.961872079239775\n",
      "Dataset Name:  reddit  Best AUC Score (structural):  57.508958274070146\n",
      "Dataset Name:  reddit  Best AUC Score (joint-type):  54.15426521426118\n",
      "Dataset Name:  reddit  Best AUC Score (structure type):  57.40763493053909\n",
      "===========================================================================================\n"
     ]
    },
    {
     "name": "stderr",
     "output_type": "stream",
     "text": [
      " 54%|█████▍    | 272/500 [02:29<02:04,  1.83it/s]"
     ]
    },
    {
     "name": "stdout",
     "output_type": "stream",
     "text": [
      "Dataset Name:  reddit , AUC Score(benchmark/combined):  53.24986850867739\n",
      "Dataset Name:  reddit , AUC Score (contextual):  59.61414218375853\n",
      "Dataset Name:  reddit , AUC Score (structural):  51.520222756668474\n",
      "Dataset Name:  reddit , AUC Score (joint-type):  49.30911072289905\n",
      "Dataset Name:  reddit , AUC Score (structure type):  49.30911072289905\n",
      "===========================================================================================\n",
      "Dataset Name:  reddit  Best AUC Score(benchmark/combined):  57.47039258008104\n",
      "Dataset Name:  reddit  Best AUC Score (contextual):  60.961872079239775\n",
      "Dataset Name:  reddit  Best AUC Score (structural):  57.508958274070146\n",
      "Dataset Name:  reddit  Best AUC Score (joint-type):  54.15426521426118\n",
      "Dataset Name:  reddit  Best AUC Score (structure type):  57.40763493053909\n",
      "===========================================================================================\n"
     ]
    },
    {
     "name": "stderr",
     "output_type": "stream",
     "text": [
      " 55%|█████▍    | 273/500 [02:29<02:02,  1.85it/s]"
     ]
    },
    {
     "name": "stdout",
     "output_type": "stream",
     "text": [
      "Dataset Name:  reddit , AUC Score(benchmark/combined):  51.16034015853068\n",
      "Dataset Name:  reddit , AUC Score (contextual):  54.43985909015709\n",
      "Dataset Name:  reddit , AUC Score (structural):  48.955608469713276\n",
      "Dataset Name:  reddit , AUC Score (joint-type):  49.87814829936309\n",
      "Dataset Name:  reddit , AUC Score (structure type):  49.87814829936309\n",
      "===========================================================================================\n",
      "Dataset Name:  reddit  Best AUC Score(benchmark/combined):  57.47039258008104\n",
      "Dataset Name:  reddit  Best AUC Score (contextual):  60.961872079239775\n",
      "Dataset Name:  reddit  Best AUC Score (structural):  57.508958274070146\n",
      "Dataset Name:  reddit  Best AUC Score (joint-type):  54.15426521426118\n",
      "Dataset Name:  reddit  Best AUC Score (structure type):  57.40763493053909\n",
      "===========================================================================================\n"
     ]
    },
    {
     "name": "stderr",
     "output_type": "stream",
     "text": [
      " 55%|█████▍    | 274/500 [02:30<02:01,  1.85it/s]"
     ]
    },
    {
     "name": "stdout",
     "output_type": "stream",
     "text": [
      "Dataset Name:  reddit , AUC Score(benchmark/combined):  50.10043260902458\n",
      "Dataset Name:  reddit , AUC Score (contextual):  54.368068530388044\n",
      "Dataset Name:  reddit , AUC Score (structural):  46.91019777826846\n",
      "Dataset Name:  reddit , AUC Score (joint-type):  50.54394376557929\n",
      "Dataset Name:  reddit , AUC Score (structure type):  50.54394376557929\n",
      "===========================================================================================\n",
      "Dataset Name:  reddit  Best AUC Score(benchmark/combined):  57.47039258008104\n",
      "Dataset Name:  reddit  Best AUC Score (contextual):  60.961872079239775\n",
      "Dataset Name:  reddit  Best AUC Score (structural):  57.508958274070146\n",
      "Dataset Name:  reddit  Best AUC Score (joint-type):  54.15426521426118\n",
      "Dataset Name:  reddit  Best AUC Score (structure type):  57.40763493053909\n",
      "===========================================================================================\n"
     ]
    },
    {
     "name": "stderr",
     "output_type": "stream",
     "text": [
      " 55%|█████▌    | 275/500 [02:30<02:01,  1.86it/s]"
     ]
    },
    {
     "name": "stdout",
     "output_type": "stream",
     "text": [
      "Dataset Name:  reddit , AUC Score(benchmark/combined):  53.36116008798339\n",
      "Dataset Name:  reddit , AUC Score (contextual):  56.12984630546756\n",
      "Dataset Name:  reddit , AUC Score (structural):  46.396917186690835\n",
      "Dataset Name:  reddit , AUC Score (joint-type):  49.447253163666794\n",
      "Dataset Name:  reddit , AUC Score (structure type):  49.447253163666794\n",
      "===========================================================================================\n",
      "Dataset Name:  reddit  Best AUC Score(benchmark/combined):  57.47039258008104\n",
      "Dataset Name:  reddit  Best AUC Score (contextual):  60.961872079239775\n",
      "Dataset Name:  reddit  Best AUC Score (structural):  57.508958274070146\n",
      "Dataset Name:  reddit  Best AUC Score (joint-type):  54.15426521426118\n",
      "Dataset Name:  reddit  Best AUC Score (structure type):  57.40763493053909\n",
      "===========================================================================================\n"
     ]
    },
    {
     "name": "stderr",
     "output_type": "stream",
     "text": [
      " 55%|█████▌    | 276/500 [02:31<02:00,  1.87it/s]"
     ]
    },
    {
     "name": "stdout",
     "output_type": "stream",
     "text": [
      "Dataset Name:  reddit , AUC Score(benchmark/combined):  55.32653078029164\n",
      "Dataset Name:  reddit , AUC Score (contextual):  55.87830108829227\n",
      "Dataset Name:  reddit , AUC Score (structural):  47.89693575306196\n",
      "Dataset Name:  reddit , AUC Score (joint-type):  51.331818598055335\n",
      "Dataset Name:  reddit , AUC Score (structure type):  51.331818598055335\n",
      "===========================================================================================\n",
      "Dataset Name:  reddit  Best AUC Score(benchmark/combined):  57.47039258008104\n",
      "Dataset Name:  reddit  Best AUC Score (contextual):  60.961872079239775\n",
      "Dataset Name:  reddit  Best AUC Score (structural):  57.508958274070146\n",
      "Dataset Name:  reddit  Best AUC Score (joint-type):  54.15426521426118\n",
      "Dataset Name:  reddit  Best AUC Score (structure type):  57.40763493053909\n",
      "===========================================================================================\n"
     ]
    },
    {
     "name": "stderr",
     "output_type": "stream",
     "text": [
      " 55%|█████▌    | 277/500 [02:31<01:59,  1.87it/s]"
     ]
    },
    {
     "name": "stdout",
     "output_type": "stream",
     "text": [
      "Dataset Name:  reddit , AUC Score(benchmark/combined):  54.521963425341234\n",
      "Dataset Name:  reddit , AUC Score (contextual):  53.591121647813424\n",
      "Dataset Name:  reddit , AUC Score (structural):  48.8518506361966\n",
      "Dataset Name:  reddit , AUC Score (joint-type):  52.87185005638519\n",
      "Dataset Name:  reddit , AUC Score (structure type):  52.87185005638519\n",
      "===========================================================================================\n",
      "Dataset Name:  reddit  Best AUC Score(benchmark/combined):  57.47039258008104\n",
      "Dataset Name:  reddit  Best AUC Score (contextual):  60.961872079239775\n",
      "Dataset Name:  reddit  Best AUC Score (structural):  57.508958274070146\n",
      "Dataset Name:  reddit  Best AUC Score (joint-type):  54.15426521426118\n",
      "Dataset Name:  reddit  Best AUC Score (structure type):  57.40763493053909\n",
      "===========================================================================================\n"
     ]
    },
    {
     "name": "stderr",
     "output_type": "stream",
     "text": [
      " 56%|█████▌    | 278/500 [02:32<01:59,  1.86it/s]"
     ]
    },
    {
     "name": "stdout",
     "output_type": "stream",
     "text": [
      "Dataset Name:  reddit , AUC Score(benchmark/combined):  55.215547986870426\n",
      "Dataset Name:  reddit , AUC Score (contextual):  54.44643609704223\n",
      "Dataset Name:  reddit , AUC Score (structural):  50.96080970596836\n",
      "Dataset Name:  reddit , AUC Score (joint-type):  52.30420376983916\n",
      "Dataset Name:  reddit , AUC Score (structure type):  52.30420376983916\n",
      "===========================================================================================\n",
      "Dataset Name:  reddit  Best AUC Score(benchmark/combined):  57.47039258008104\n",
      "Dataset Name:  reddit  Best AUC Score (contextual):  60.961872079239775\n",
      "Dataset Name:  reddit  Best AUC Score (structural):  57.508958274070146\n",
      "Dataset Name:  reddit  Best AUC Score (joint-type):  54.15426521426118\n",
      "Dataset Name:  reddit  Best AUC Score (structure type):  57.40763493053909\n",
      "===========================================================================================\n"
     ]
    },
    {
     "name": "stderr",
     "output_type": "stream",
     "text": [
      " 56%|█████▌    | 279/500 [02:32<01:58,  1.86it/s]"
     ]
    },
    {
     "name": "stdout",
     "output_type": "stream",
     "text": [
      "Dataset Name:  reddit , AUC Score(benchmark/combined):  55.31034525349777\n",
      "Dataset Name:  reddit , AUC Score (contextual):  53.90049393321708\n",
      "Dataset Name:  reddit , AUC Score (structural):  50.06916967872884\n",
      "Dataset Name:  reddit , AUC Score (joint-type):  52.34427291947771\n",
      "Dataset Name:  reddit , AUC Score (structure type):  52.34427291947771\n",
      "===========================================================================================\n",
      "Dataset Name:  reddit  Best AUC Score(benchmark/combined):  57.47039258008104\n",
      "Dataset Name:  reddit  Best AUC Score (contextual):  60.961872079239775\n",
      "Dataset Name:  reddit  Best AUC Score (structural):  57.508958274070146\n",
      "Dataset Name:  reddit  Best AUC Score (joint-type):  54.15426521426118\n",
      "Dataset Name:  reddit  Best AUC Score (structure type):  57.40763493053909\n",
      "===========================================================================================\n"
     ]
    },
    {
     "name": "stderr",
     "output_type": "stream",
     "text": [
      " 56%|█████▌    | 280/500 [02:33<01:57,  1.87it/s]"
     ]
    },
    {
     "name": "stdout",
     "output_type": "stream",
     "text": [
      "Dataset Name:  reddit , AUC Score(benchmark/combined):  53.770211322766684\n",
      "Dataset Name:  reddit , AUC Score (contextual):  54.57483950838391\n",
      "Dataset Name:  reddit , AUC Score (structural):  54.434264436845496\n",
      "Dataset Name:  reddit , AUC Score (joint-type):  51.23877924681128\n",
      "Dataset Name:  reddit , AUC Score (structure type):  51.23877924681128\n",
      "===========================================================================================\n",
      "Dataset Name:  reddit  Best AUC Score(benchmark/combined):  57.47039258008104\n",
      "Dataset Name:  reddit  Best AUC Score (contextual):  60.961872079239775\n",
      "Dataset Name:  reddit  Best AUC Score (structural):  57.508958274070146\n",
      "Dataset Name:  reddit  Best AUC Score (joint-type):  54.15426521426118\n",
      "Dataset Name:  reddit  Best AUC Score (structure type):  57.40763493053909\n",
      "===========================================================================================\n"
     ]
    },
    {
     "name": "stderr",
     "output_type": "stream",
     "text": [
      " 56%|█████▌    | 281/500 [02:34<01:57,  1.86it/s]"
     ]
    },
    {
     "name": "stdout",
     "output_type": "stream",
     "text": [
      "Dataset Name:  reddit , AUC Score(benchmark/combined):  54.49231998040239\n",
      "Dataset Name:  reddit , AUC Score (contextual):  58.53614545910797\n",
      "Dataset Name:  reddit , AUC Score (structural):  55.38842506115298\n",
      "Dataset Name:  reddit , AUC Score (joint-type):  52.905139829696004\n",
      "Dataset Name:  reddit , AUC Score (structure type):  52.905139829696004\n",
      "===========================================================================================\n",
      "Dataset Name:  reddit  Best AUC Score(benchmark/combined):  57.47039258008104\n",
      "Dataset Name:  reddit  Best AUC Score (contextual):  60.961872079239775\n",
      "Dataset Name:  reddit  Best AUC Score (structural):  57.508958274070146\n",
      "Dataset Name:  reddit  Best AUC Score (joint-type):  54.15426521426118\n",
      "Dataset Name:  reddit  Best AUC Score (structure type):  57.40763493053909\n",
      "===========================================================================================\n"
     ]
    },
    {
     "name": "stderr",
     "output_type": "stream",
     "text": [
      " 56%|█████▋    | 282/500 [02:34<01:58,  1.84it/s]"
     ]
    },
    {
     "name": "stdout",
     "output_type": "stream",
     "text": [
      "Dataset Name:  reddit , AUC Score(benchmark/combined):  48.97722395313865\n",
      "Dataset Name:  reddit , AUC Score (contextual):  49.95550401880416\n",
      "Dataset Name:  reddit , AUC Score (structural):  41.35503510038771\n",
      "Dataset Name:  reddit , AUC Score (joint-type):  54.56517636749886\n",
      "Dataset Name:  reddit , AUC Score (structure type):  54.56517636749886\n",
      "===========================================================================================\n",
      "Dataset Name:  reddit  Best AUC Score(benchmark/combined):  57.47039258008104\n",
      "Dataset Name:  reddit  Best AUC Score (contextual):  60.961872079239775\n",
      "Dataset Name:  reddit  Best AUC Score (structural):  57.508958274070146\n",
      "Dataset Name:  reddit  Best AUC Score (joint-type):  54.56517636749886\n",
      "Dataset Name:  reddit  Best AUC Score (structure type):  57.40763493053909\n",
      "===========================================================================================\n"
     ]
    },
    {
     "name": "stderr",
     "output_type": "stream",
     "text": [
      " 57%|█████▋    | 283/500 [02:35<01:58,  1.84it/s]"
     ]
    },
    {
     "name": "stdout",
     "output_type": "stream",
     "text": [
      "Dataset Name:  reddit , AUC Score(benchmark/combined):  50.5615013993147\n",
      "Dataset Name:  reddit , AUC Score (contextual):  52.267144865659574\n",
      "Dataset Name:  reddit , AUC Score (structural):  42.20645904159066\n",
      "Dataset Name:  reddit , AUC Score (joint-type):  50.44867835046644\n",
      "Dataset Name:  reddit , AUC Score (structure type):  50.44867835046644\n",
      "===========================================================================================\n",
      "Dataset Name:  reddit  Best AUC Score(benchmark/combined):  57.47039258008104\n",
      "Dataset Name:  reddit  Best AUC Score (contextual):  60.961872079239775\n",
      "Dataset Name:  reddit  Best AUC Score (structural):  57.508958274070146\n",
      "Dataset Name:  reddit  Best AUC Score (joint-type):  54.56517636749886\n",
      "Dataset Name:  reddit  Best AUC Score (structure type):  57.40763493053909\n",
      "===========================================================================================\n"
     ]
    },
    {
     "name": "stderr",
     "output_type": "stream",
     "text": [
      " 57%|█████▋    | 284/500 [02:35<01:57,  1.83it/s]"
     ]
    },
    {
     "name": "stdout",
     "output_type": "stream",
     "text": [
      "Dataset Name:  reddit , AUC Score(benchmark/combined):  48.73040110257146\n",
      "Dataset Name:  reddit , AUC Score (contextual):  51.293317811597085\n",
      "Dataset Name:  reddit , AUC Score (structural):  46.68365986938558\n",
      "Dataset Name:  reddit , AUC Score (joint-type):  51.79175374876744\n",
      "Dataset Name:  reddit , AUC Score (structure type):  51.79175374876744\n",
      "===========================================================================================\n",
      "Dataset Name:  reddit  Best AUC Score(benchmark/combined):  57.47039258008104\n",
      "Dataset Name:  reddit  Best AUC Score (contextual):  60.961872079239775\n",
      "Dataset Name:  reddit  Best AUC Score (structural):  57.508958274070146\n",
      "Dataset Name:  reddit  Best AUC Score (joint-type):  54.56517636749886\n",
      "Dataset Name:  reddit  Best AUC Score (structure type):  57.40763493053909\n",
      "===========================================================================================\n"
     ]
    },
    {
     "name": "stderr",
     "output_type": "stream",
     "text": [
      " 57%|█████▋    | 285/500 [02:36<01:57,  1.83it/s]"
     ]
    },
    {
     "name": "stdout",
     "output_type": "stream",
     "text": [
      "Dataset Name:  reddit , AUC Score(benchmark/combined):  50.7895140430674\n",
      "Dataset Name:  reddit , AUC Score (contextual):  53.712290351581494\n",
      "Dataset Name:  reddit , AUC Score (structural):  48.704040771751\n",
      "Dataset Name:  reddit , AUC Score (joint-type):  51.28896686858078\n",
      "Dataset Name:  reddit , AUC Score (structure type):  51.28896686858078\n",
      "===========================================================================================\n",
      "Dataset Name:  reddit  Best AUC Score(benchmark/combined):  57.47039258008104\n",
      "Dataset Name:  reddit  Best AUC Score (contextual):  60.961872079239775\n",
      "Dataset Name:  reddit  Best AUC Score (structural):  57.508958274070146\n",
      "Dataset Name:  reddit  Best AUC Score (joint-type):  54.56517636749886\n",
      "Dataset Name:  reddit  Best AUC Score (structure type):  57.40763493053909\n",
      "===========================================================================================\n"
     ]
    },
    {
     "name": "stderr",
     "output_type": "stream",
     "text": [
      " 57%|█████▋    | 286/500 [02:36<01:56,  1.83it/s]"
     ]
    },
    {
     "name": "stdout",
     "output_type": "stream",
     "text": [
      "Dataset Name:  reddit , AUC Score(benchmark/combined):  46.1699742781358\n",
      "Dataset Name:  reddit , AUC Score (contextual):  47.7553940310121\n",
      "Dataset Name:  reddit , AUC Score (structural):  45.28747041813457\n",
      "Dataset Name:  reddit , AUC Score (joint-type):  50.902036494293434\n",
      "Dataset Name:  reddit , AUC Score (structure type):  50.902036494293434\n",
      "===========================================================================================\n",
      "Dataset Name:  reddit  Best AUC Score(benchmark/combined):  57.47039258008104\n",
      "Dataset Name:  reddit  Best AUC Score (contextual):  60.961872079239775\n",
      "Dataset Name:  reddit  Best AUC Score (structural):  57.508958274070146\n",
      "Dataset Name:  reddit  Best AUC Score (joint-type):  54.56517636749886\n",
      "Dataset Name:  reddit  Best AUC Score (structure type):  57.40763493053909\n",
      "===========================================================================================\n"
     ]
    },
    {
     "name": "stderr",
     "output_type": "stream",
     "text": [
      " 57%|█████▋    | 287/500 [02:37<02:07,  1.68it/s]"
     ]
    },
    {
     "name": "stdout",
     "output_type": "stream",
     "text": [
      "Dataset Name:  reddit , AUC Score(benchmark/combined):  47.736136285738105\n",
      "Dataset Name:  reddit , AUC Score (contextual):  50.91625294763742\n",
      "Dataset Name:  reddit , AUC Score (structural):  45.01037230215709\n",
      "Dataset Name:  reddit , AUC Score (joint-type):  53.03650289413599\n",
      "Dataset Name:  reddit , AUC Score (structure type):  53.03650289413599\n",
      "===========================================================================================\n",
      "Dataset Name:  reddit  Best AUC Score(benchmark/combined):  57.47039258008104\n",
      "Dataset Name:  reddit  Best AUC Score (contextual):  60.961872079239775\n",
      "Dataset Name:  reddit  Best AUC Score (structural):  57.508958274070146\n",
      "Dataset Name:  reddit  Best AUC Score (joint-type):  54.56517636749886\n",
      "Dataset Name:  reddit  Best AUC Score (structure type):  57.40763493053909\n",
      "===========================================================================================\n"
     ]
    },
    {
     "name": "stderr",
     "output_type": "stream",
     "text": [
      " 58%|█████▊    | 288/500 [02:38<02:03,  1.72it/s]"
     ]
    },
    {
     "name": "stdout",
     "output_type": "stream",
     "text": [
      "Dataset Name:  reddit , AUC Score(benchmark/combined):  53.494092411381025\n",
      "Dataset Name:  reddit , AUC Score (contextual):  54.0813363263774\n",
      "Dataset Name:  reddit , AUC Score (structural):  54.66335190633531\n",
      "Dataset Name:  reddit , AUC Score (joint-type):  51.779611582210315\n",
      "Dataset Name:  reddit , AUC Score (structure type):  51.779611582210315\n",
      "===========================================================================================\n",
      "Dataset Name:  reddit  Best AUC Score(benchmark/combined):  57.47039258008104\n",
      "Dataset Name:  reddit  Best AUC Score (contextual):  60.961872079239775\n",
      "Dataset Name:  reddit  Best AUC Score (structural):  57.508958274070146\n",
      "Dataset Name:  reddit  Best AUC Score (joint-type):  54.56517636749886\n",
      "Dataset Name:  reddit  Best AUC Score (structure type):  57.40763493053909\n",
      "===========================================================================================\n"
     ]
    },
    {
     "name": "stderr",
     "output_type": "stream",
     "text": [
      " 58%|█████▊    | 289/500 [02:38<02:00,  1.75it/s]"
     ]
    },
    {
     "name": "stdout",
     "output_type": "stream",
     "text": [
      "Dataset Name:  reddit , AUC Score(benchmark/combined):  56.80023714755951\n",
      "Dataset Name:  reddit , AUC Score (contextual):  54.12173432636018\n",
      "Dataset Name:  reddit , AUC Score (structural):  51.447255260416554\n",
      "Dataset Name:  reddit , AUC Score (joint-type):  52.83261568069745\n",
      "Dataset Name:  reddit , AUC Score (structure type):  52.83261568069745\n",
      "===========================================================================================\n",
      "Dataset Name:  reddit  Best AUC Score(benchmark/combined):  57.47039258008104\n",
      "Dataset Name:  reddit  Best AUC Score (contextual):  60.961872079239775\n",
      "Dataset Name:  reddit  Best AUC Score (structural):  57.508958274070146\n",
      "Dataset Name:  reddit  Best AUC Score (joint-type):  54.56517636749886\n",
      "Dataset Name:  reddit  Best AUC Score (structure type):  57.40763493053909\n",
      "===========================================================================================\n"
     ]
    },
    {
     "name": "stderr",
     "output_type": "stream",
     "text": [
      " 58%|█████▊    | 290/500 [02:39<01:58,  1.77it/s]"
     ]
    },
    {
     "name": "stdout",
     "output_type": "stream",
     "text": [
      "Dataset Name:  reddit , AUC Score(benchmark/combined):  54.74786603221461\n",
      "Dataset Name:  reddit , AUC Score (contextual):  58.5559523683043\n",
      "Dataset Name:  reddit , AUC Score (structural):  54.7325315313344\n",
      "Dataset Name:  reddit , AUC Score (joint-type):  49.268055022227756\n",
      "Dataset Name:  reddit , AUC Score (structure type):  49.268055022227756\n",
      "===========================================================================================\n",
      "Dataset Name:  reddit  Best AUC Score(benchmark/combined):  57.47039258008104\n",
      "Dataset Name:  reddit  Best AUC Score (contextual):  60.961872079239775\n",
      "Dataset Name:  reddit  Best AUC Score (structural):  57.508958274070146\n",
      "Dataset Name:  reddit  Best AUC Score (joint-type):  54.56517636749886\n",
      "Dataset Name:  reddit  Best AUC Score (structure type):  57.40763493053909\n",
      "===========================================================================================\n"
     ]
    },
    {
     "name": "stderr",
     "output_type": "stream",
     "text": [
      " 58%|█████▊    | 291/500 [02:39<01:57,  1.79it/s]"
     ]
    },
    {
     "name": "stdout",
     "output_type": "stream",
     "text": [
      "Dataset Name:  reddit , AUC Score(benchmark/combined):  48.55462473766066\n",
      "Dataset Name:  reddit , AUC Score (contextual):  49.40055641478248\n",
      "Dataset Name:  reddit , AUC Score (structural):  48.562659513309114\n",
      "Dataset Name:  reddit , AUC Score (joint-type):  46.161329931503\n",
      "Dataset Name:  reddit , AUC Score (structure type):  46.161329931503\n",
      "===========================================================================================\n",
      "Dataset Name:  reddit  Best AUC Score(benchmark/combined):  57.47039258008104\n",
      "Dataset Name:  reddit  Best AUC Score (contextual):  60.961872079239775\n",
      "Dataset Name:  reddit  Best AUC Score (structural):  57.508958274070146\n",
      "Dataset Name:  reddit  Best AUC Score (joint-type):  54.56517636749886\n",
      "Dataset Name:  reddit  Best AUC Score (structure type):  57.40763493053909\n",
      "===========================================================================================\n"
     ]
    },
    {
     "name": "stderr",
     "output_type": "stream",
     "text": [
      " 58%|█████▊    | 292/500 [02:40<01:55,  1.80it/s]"
     ]
    },
    {
     "name": "stdout",
     "output_type": "stream",
     "text": [
      "Dataset Name:  reddit , AUC Score(benchmark/combined):  51.939316883279965\n",
      "Dataset Name:  reddit , AUC Score (contextual):  54.79400561474019\n",
      "Dataset Name:  reddit , AUC Score (structural):  50.080021059569546\n",
      "Dataset Name:  reddit , AUC Score (joint-type):  52.75219912343676\n",
      "Dataset Name:  reddit , AUC Score (structure type):  52.75219912343676\n",
      "===========================================================================================\n",
      "Dataset Name:  reddit  Best AUC Score(benchmark/combined):  57.47039258008104\n",
      "Dataset Name:  reddit  Best AUC Score (contextual):  60.961872079239775\n",
      "Dataset Name:  reddit  Best AUC Score (structural):  57.508958274070146\n",
      "Dataset Name:  reddit  Best AUC Score (joint-type):  54.56517636749886\n",
      "Dataset Name:  reddit  Best AUC Score (structure type):  57.40763493053909\n",
      "===========================================================================================\n"
     ]
    },
    {
     "name": "stderr",
     "output_type": "stream",
     "text": [
      " 59%|█████▊    | 293/500 [02:40<01:54,  1.80it/s]"
     ]
    },
    {
     "name": "stdout",
     "output_type": "stream",
     "text": [
      "Dataset Name:  reddit , AUC Score(benchmark/combined):  59.33976946045843\n",
      "Dataset Name:  reddit , AUC Score (contextual):  55.74665976586868\n",
      "Dataset Name:  reddit , AUC Score (structural):  53.7328352241193\n",
      "Dataset Name:  reddit , AUC Score (joint-type):  50.36684520710742\n",
      "Dataset Name:  reddit , AUC Score (structure type):  50.36684520710742\n",
      "===========================================================================================\n",
      "Dataset Name:  reddit  Best AUC Score(benchmark/combined):  59.33976946045843\n",
      "Dataset Name:  reddit  Best AUC Score (contextual):  60.961872079239775\n",
      "Dataset Name:  reddit  Best AUC Score (structural):  57.508958274070146\n",
      "Dataset Name:  reddit  Best AUC Score (joint-type):  54.56517636749886\n",
      "Dataset Name:  reddit  Best AUC Score (structure type):  57.40763493053909\n",
      "===========================================================================================\n"
     ]
    },
    {
     "name": "stderr",
     "output_type": "stream",
     "text": [
      " 59%|█████▉    | 294/500 [02:41<01:53,  1.81it/s]"
     ]
    },
    {
     "name": "stdout",
     "output_type": "stream",
     "text": [
      "Dataset Name:  reddit , AUC Score(benchmark/combined):  46.78762324416626\n",
      "Dataset Name:  reddit , AUC Score (contextual):  48.4415276262115\n",
      "Dataset Name:  reddit , AUC Score (structural):  48.14515984650916\n",
      "Dataset Name:  reddit , AUC Score (joint-type):  46.13901870045427\n",
      "Dataset Name:  reddit , AUC Score (structure type):  46.13901870045427\n",
      "===========================================================================================\n",
      "Dataset Name:  reddit  Best AUC Score(benchmark/combined):  59.33976946045843\n",
      "Dataset Name:  reddit  Best AUC Score (contextual):  60.961872079239775\n",
      "Dataset Name:  reddit  Best AUC Score (structural):  57.508958274070146\n",
      "Dataset Name:  reddit  Best AUC Score (joint-type):  54.56517636749886\n",
      "Dataset Name:  reddit  Best AUC Score (structure type):  57.40763493053909\n",
      "===========================================================================================\n"
     ]
    },
    {
     "name": "stderr",
     "output_type": "stream",
     "text": [
      " 59%|█████▉    | 295/500 [02:41<01:53,  1.81it/s]"
     ]
    },
    {
     "name": "stdout",
     "output_type": "stream",
     "text": [
      "Dataset Name:  reddit , AUC Score(benchmark/combined):  45.82557508797825\n",
      "Dataset Name:  reddit , AUC Score (contextual):  54.719938398741675\n",
      "Dataset Name:  reddit , AUC Score (structural):  49.524835173724874\n",
      "Dataset Name:  reddit , AUC Score (joint-type):  48.28618378282116\n",
      "Dataset Name:  reddit , AUC Score (structure type):  48.28618378282116\n",
      "===========================================================================================\n",
      "Dataset Name:  reddit  Best AUC Score(benchmark/combined):  59.33976946045843\n",
      "Dataset Name:  reddit  Best AUC Score (contextual):  60.961872079239775\n",
      "Dataset Name:  reddit  Best AUC Score (structural):  57.508958274070146\n",
      "Dataset Name:  reddit  Best AUC Score (joint-type):  54.56517636749886\n",
      "Dataset Name:  reddit  Best AUC Score (structure type):  57.40763493053909\n",
      "===========================================================================================\n"
     ]
    },
    {
     "name": "stderr",
     "output_type": "stream",
     "text": [
      " 59%|█████▉    | 296/500 [02:42<01:52,  1.81it/s]"
     ]
    },
    {
     "name": "stdout",
     "output_type": "stream",
     "text": [
      "Dataset Name:  reddit , AUC Score(benchmark/combined):  56.97163904576927\n",
      "Dataset Name:  reddit , AUC Score (contextual):  56.50736650067313\n",
      "Dataset Name:  reddit , AUC Score (structural):  53.406203024594475\n",
      "Dataset Name:  reddit , AUC Score (joint-type):  52.815287797173205\n",
      "Dataset Name:  reddit , AUC Score (structure type):  52.815287797173205\n",
      "===========================================================================================\n",
      "Dataset Name:  reddit  Best AUC Score(benchmark/combined):  59.33976946045843\n",
      "Dataset Name:  reddit  Best AUC Score (contextual):  60.961872079239775\n",
      "Dataset Name:  reddit  Best AUC Score (structural):  57.508958274070146\n",
      "Dataset Name:  reddit  Best AUC Score (joint-type):  54.56517636749886\n",
      "Dataset Name:  reddit  Best AUC Score (structure type):  57.40763493053909\n",
      "===========================================================================================\n"
     ]
    },
    {
     "name": "stderr",
     "output_type": "stream",
     "text": [
      " 59%|█████▉    | 297/500 [02:43<01:51,  1.82it/s]"
     ]
    },
    {
     "name": "stdout",
     "output_type": "stream",
     "text": [
      "Dataset Name:  reddit , AUC Score(benchmark/combined):  56.185753236848036\n",
      "Dataset Name:  reddit , AUC Score (contextual):  54.051208575607504\n",
      "Dataset Name:  reddit , AUC Score (structural):  47.58180973050249\n",
      "Dataset Name:  reddit , AUC Score (joint-type):  50.82204997209831\n",
      "Dataset Name:  reddit , AUC Score (structure type):  50.82204997209831\n",
      "===========================================================================================\n",
      "Dataset Name:  reddit  Best AUC Score(benchmark/combined):  59.33976946045843\n",
      "Dataset Name:  reddit  Best AUC Score (contextual):  60.961872079239775\n",
      "Dataset Name:  reddit  Best AUC Score (structural):  57.508958274070146\n",
      "Dataset Name:  reddit  Best AUC Score (joint-type):  54.56517636749886\n",
      "Dataset Name:  reddit  Best AUC Score (structure type):  57.40763493053909\n",
      "===========================================================================================\n"
     ]
    },
    {
     "name": "stderr",
     "output_type": "stream",
     "text": [
      " 60%|█████▉    | 298/500 [02:43<01:50,  1.82it/s]"
     ]
    },
    {
     "name": "stdout",
     "output_type": "stream",
     "text": [
      "Dataset Name:  reddit , AUC Score(benchmark/combined):  41.4952647684569\n",
      "Dataset Name:  reddit , AUC Score (contextual):  49.70856270644845\n",
      "Dataset Name:  reddit , AUC Score (structural):  48.54607244995866\n",
      "Dataset Name:  reddit , AUC Score (joint-type):  45.3852431190595\n",
      "Dataset Name:  reddit , AUC Score (structure type):  45.3852431190595\n",
      "===========================================================================================\n",
      "Dataset Name:  reddit  Best AUC Score(benchmark/combined):  59.33976946045843\n",
      "Dataset Name:  reddit  Best AUC Score (contextual):  60.961872079239775\n",
      "Dataset Name:  reddit  Best AUC Score (structural):  57.508958274070146\n",
      "Dataset Name:  reddit  Best AUC Score (joint-type):  54.56517636749886\n",
      "Dataset Name:  reddit  Best AUC Score (structure type):  57.40763493053909\n",
      "===========================================================================================\n"
     ]
    },
    {
     "name": "stderr",
     "output_type": "stream",
     "text": [
      " 60%|█████▉    | 299/500 [02:44<01:50,  1.82it/s]"
     ]
    },
    {
     "name": "stdout",
     "output_type": "stream",
     "text": [
      "Dataset Name:  reddit , AUC Score(benchmark/combined):  50.52385525352865\n",
      "Dataset Name:  reddit , AUC Score (contextual):  53.75569859702325\n",
      "Dataset Name:  reddit , AUC Score (structural):  50.46031007165956\n",
      "Dataset Name:  reddit , AUC Score (joint-type):  49.36023430334067\n",
      "Dataset Name:  reddit , AUC Score (structure type):  49.36023430334067\n",
      "===========================================================================================\n",
      "Dataset Name:  reddit  Best AUC Score(benchmark/combined):  59.33976946045843\n",
      "Dataset Name:  reddit  Best AUC Score (contextual):  60.961872079239775\n",
      "Dataset Name:  reddit  Best AUC Score (structural):  57.508958274070146\n",
      "Dataset Name:  reddit  Best AUC Score (joint-type):  54.56517636749886\n",
      "Dataset Name:  reddit  Best AUC Score (structure type):  57.40763493053909\n",
      "===========================================================================================\n"
     ]
    },
    {
     "name": "stderr",
     "output_type": "stream",
     "text": [
      " 60%|██████    | 300/500 [02:44<01:50,  1.82it/s]"
     ]
    },
    {
     "name": "stdout",
     "output_type": "stream",
     "text": [
      "Dataset Name:  reddit , AUC Score(benchmark/combined):  57.77463673913871\n",
      "Dataset Name:  reddit , AUC Score (contextual):  54.762183019888354\n",
      "Dataset Name:  reddit , AUC Score (structural):  50.44638197788879\n",
      "Dataset Name:  reddit , AUC Score (joint-type):  52.47576246481933\n",
      "Dataset Name:  reddit , AUC Score (structure type):  52.47576246481933\n",
      "===========================================================================================\n",
      "Dataset Name:  reddit  Best AUC Score(benchmark/combined):  59.33976946045843\n",
      "Dataset Name:  reddit  Best AUC Score (contextual):  60.961872079239775\n",
      "Dataset Name:  reddit  Best AUC Score (structural):  57.508958274070146\n",
      "Dataset Name:  reddit  Best AUC Score (joint-type):  54.56517636749886\n",
      "Dataset Name:  reddit  Best AUC Score (structure type):  57.40763493053909\n",
      "===========================================================================================\n"
     ]
    },
    {
     "name": "stderr",
     "output_type": "stream",
     "text": [
      " 60%|██████    | 301/500 [02:45<01:49,  1.82it/s]"
     ]
    },
    {
     "name": "stdout",
     "output_type": "stream",
     "text": [
      "Dataset Name:  reddit , AUC Score(benchmark/combined):  51.36954259546888\n",
      "Dataset Name:  reddit , AUC Score (contextual):  56.70543559263639\n",
      "Dataset Name:  reddit , AUC Score (structural):  49.70573793699767\n",
      "Dataset Name:  reddit , AUC Score (joint-type):  49.673957531760614\n",
      "Dataset Name:  reddit , AUC Score (structure type):  49.673957531760614\n",
      "===========================================================================================\n",
      "Dataset Name:  reddit  Best AUC Score(benchmark/combined):  59.33976946045843\n",
      "Dataset Name:  reddit  Best AUC Score (contextual):  60.961872079239775\n",
      "Dataset Name:  reddit  Best AUC Score (structural):  57.508958274070146\n",
      "Dataset Name:  reddit  Best AUC Score (joint-type):  54.56517636749886\n",
      "Dataset Name:  reddit  Best AUC Score (structure type):  57.40763493053909\n",
      "===========================================================================================\n"
     ]
    },
    {
     "name": "stderr",
     "output_type": "stream",
     "text": [
      " 60%|██████    | 302/500 [02:45<01:48,  1.82it/s]"
     ]
    },
    {
     "name": "stdout",
     "output_type": "stream",
     "text": [
      "Dataset Name:  reddit , AUC Score(benchmark/combined):  42.328291889121175\n",
      "Dataset Name:  reddit , AUC Score (contextual):  51.37224189421845\n",
      "Dataset Name:  reddit , AUC Score (structural):  47.87211649336949\n",
      "Dataset Name:  reddit , AUC Score (joint-type):  46.413760514989754\n",
      "Dataset Name:  reddit , AUC Score (structure type):  46.413760514989754\n",
      "===========================================================================================\n",
      "Dataset Name:  reddit  Best AUC Score(benchmark/combined):  59.33976946045843\n",
      "Dataset Name:  reddit  Best AUC Score (contextual):  60.961872079239775\n",
      "Dataset Name:  reddit  Best AUC Score (structural):  57.508958274070146\n",
      "Dataset Name:  reddit  Best AUC Score (joint-type):  54.56517636749886\n",
      "Dataset Name:  reddit  Best AUC Score (structure type):  57.40763493053909\n",
      "===========================================================================================\n"
     ]
    },
    {
     "name": "stderr",
     "output_type": "stream",
     "text": [
      " 61%|██████    | 303/500 [02:46<01:48,  1.82it/s]"
     ]
    },
    {
     "name": "stdout",
     "output_type": "stream",
     "text": [
      "Dataset Name:  reddit , AUC Score(benchmark/combined):  53.0648285672232\n",
      "Dataset Name:  reddit , AUC Score (contextual):  50.42019485141782\n",
      "Dataset Name:  reddit , AUC Score (structural):  48.71409810868356\n",
      "Dataset Name:  reddit , AUC Score (joint-type):  49.41047251747081\n",
      "Dataset Name:  reddit , AUC Score (structure type):  49.41047251747081\n",
      "===========================================================================================\n",
      "Dataset Name:  reddit  Best AUC Score(benchmark/combined):  59.33976946045843\n",
      "Dataset Name:  reddit  Best AUC Score (contextual):  60.961872079239775\n",
      "Dataset Name:  reddit  Best AUC Score (structural):  57.508958274070146\n",
      "Dataset Name:  reddit  Best AUC Score (joint-type):  54.56517636749886\n",
      "Dataset Name:  reddit  Best AUC Score (structure type):  57.40763493053909\n",
      "===========================================================================================\n"
     ]
    },
    {
     "name": "stderr",
     "output_type": "stream",
     "text": [
      " 61%|██████    | 304/500 [02:47<01:57,  1.67it/s]"
     ]
    },
    {
     "name": "stdout",
     "output_type": "stream",
     "text": [
      "Dataset Name:  reddit , AUC Score(benchmark/combined):  57.69774905382859\n",
      "Dataset Name:  reddit , AUC Score (contextual):  55.67051826308331\n",
      "Dataset Name:  reddit , AUC Score (structural):  52.88634960609454\n",
      "Dataset Name:  reddit , AUC Score (joint-type):  51.7720227281121\n",
      "Dataset Name:  reddit , AUC Score (structure type):  51.7720227281121\n",
      "===========================================================================================\n",
      "Dataset Name:  reddit  Best AUC Score(benchmark/combined):  59.33976946045843\n",
      "Dataset Name:  reddit  Best AUC Score (contextual):  60.961872079239775\n",
      "Dataset Name:  reddit  Best AUC Score (structural):  57.508958274070146\n",
      "Dataset Name:  reddit  Best AUC Score (joint-type):  54.56517636749886\n",
      "Dataset Name:  reddit  Best AUC Score (structure type):  57.40763493053909\n",
      "===========================================================================================\n"
     ]
    },
    {
     "name": "stderr",
     "output_type": "stream",
     "text": [
      " 61%|██████    | 305/500 [02:47<01:53,  1.72it/s]"
     ]
    },
    {
     "name": "stdout",
     "output_type": "stream",
     "text": [
      "Dataset Name:  reddit , AUC Score(benchmark/combined):  51.31643142328678\n",
      "Dataset Name:  reddit , AUC Score (contextual):  57.6567237500272\n",
      "Dataset Name:  reddit , AUC Score (structural):  49.73820753622265\n",
      "Dataset Name:  reddit , AUC Score (joint-type):  48.735418649254804\n",
      "Dataset Name:  reddit , AUC Score (structure type):  48.735418649254804\n",
      "===========================================================================================\n",
      "Dataset Name:  reddit  Best AUC Score(benchmark/combined):  59.33976946045843\n",
      "Dataset Name:  reddit  Best AUC Score (contextual):  60.961872079239775\n",
      "Dataset Name:  reddit  Best AUC Score (structural):  57.508958274070146\n",
      "Dataset Name:  reddit  Best AUC Score (joint-type):  54.56517636749886\n",
      "Dataset Name:  reddit  Best AUC Score (structure type):  57.40763493053909\n",
      "===========================================================================================\n"
     ]
    },
    {
     "name": "stderr",
     "output_type": "stream",
     "text": [
      " 61%|██████    | 306/500 [02:48<01:50,  1.75it/s]"
     ]
    },
    {
     "name": "stdout",
     "output_type": "stream",
     "text": [
      "Dataset Name:  reddit , AUC Score(benchmark/combined):  44.83918431120677\n",
      "Dataset Name:  reddit , AUC Score (contextual):  51.47094758985582\n",
      "Dataset Name:  reddit , AUC Score (structural):  47.62501964388374\n",
      "Dataset Name:  reddit , AUC Score (joint-type):  46.43361801654674\n",
      "Dataset Name:  reddit , AUC Score (structure type):  46.43361801654674\n",
      "===========================================================================================\n",
      "Dataset Name:  reddit  Best AUC Score(benchmark/combined):  59.33976946045843\n",
      "Dataset Name:  reddit  Best AUC Score (contextual):  60.961872079239775\n",
      "Dataset Name:  reddit  Best AUC Score (structural):  57.508958274070146\n",
      "Dataset Name:  reddit  Best AUC Score (joint-type):  54.56517636749886\n",
      "Dataset Name:  reddit  Best AUC Score (structure type):  57.40763493053909\n",
      "===========================================================================================\n"
     ]
    },
    {
     "name": "stderr",
     "output_type": "stream",
     "text": [
      " 61%|██████▏   | 307/500 [02:48<01:48,  1.77it/s]"
     ]
    },
    {
     "name": "stdout",
     "output_type": "stream",
     "text": [
      "Dataset Name:  reddit , AUC Score(benchmark/combined):  52.77848112340422\n",
      "Dataset Name:  reddit , AUC Score (contextual):  51.83354303866824\n",
      "Dataset Name:  reddit , AUC Score (structural):  50.9846492580414\n",
      "Dataset Name:  reddit , AUC Score (joint-type):  50.87228818622845\n",
      "Dataset Name:  reddit , AUC Score (structure type):  50.87228818622845\n",
      "===========================================================================================\n",
      "Dataset Name:  reddit  Best AUC Score(benchmark/combined):  59.33976946045843\n",
      "Dataset Name:  reddit  Best AUC Score (contextual):  60.961872079239775\n",
      "Dataset Name:  reddit  Best AUC Score (structural):  57.508958274070146\n",
      "Dataset Name:  reddit  Best AUC Score (joint-type):  54.56517636749886\n",
      "Dataset Name:  reddit  Best AUC Score (structure type):  57.40763493053909\n",
      "===========================================================================================\n"
     ]
    },
    {
     "name": "stderr",
     "output_type": "stream",
     "text": [
      " 62%|██████▏   | 308/500 [02:49<01:47,  1.79it/s]"
     ]
    },
    {
     "name": "stdout",
     "output_type": "stream",
     "text": [
      "Dataset Name:  reddit , AUC Score(benchmark/combined):  56.025519094804466\n",
      "Dataset Name:  reddit , AUC Score (contextual):  56.45649588203481\n",
      "Dataset Name:  reddit , AUC Score (structural):  50.95612003954637\n",
      "Dataset Name:  reddit , AUC Score (joint-type):  50.59792581439788\n",
      "Dataset Name:  reddit , AUC Score (structure type):  50.59792581439788\n",
      "===========================================================================================\n",
      "Dataset Name:  reddit  Best AUC Score(benchmark/combined):  59.33976946045843\n",
      "Dataset Name:  reddit  Best AUC Score (contextual):  60.961872079239775\n",
      "Dataset Name:  reddit  Best AUC Score (structural):  57.508958274070146\n",
      "Dataset Name:  reddit  Best AUC Score (joint-type):  54.56517636749886\n",
      "Dataset Name:  reddit  Best AUC Score (structure type):  57.40763493053909\n",
      "===========================================================================================\n"
     ]
    },
    {
     "name": "stderr",
     "output_type": "stream",
     "text": [
      " 62%|██████▏   | 309/500 [02:49<01:46,  1.79it/s]"
     ]
    },
    {
     "name": "stdout",
     "output_type": "stream",
     "text": [
      "Dataset Name:  reddit , AUC Score(benchmark/combined):  51.850836861212066\n",
      "Dataset Name:  reddit , AUC Score (contextual):  56.44109050821544\n",
      "Dataset Name:  reddit , AUC Score (structural):  48.564298990188334\n",
      "Dataset Name:  reddit , AUC Score (joint-type):  49.096192773083644\n",
      "Dataset Name:  reddit , AUC Score (structure type):  49.096192773083644\n",
      "===========================================================================================\n",
      "Dataset Name:  reddit  Best AUC Score(benchmark/combined):  59.33976946045843\n",
      "Dataset Name:  reddit  Best AUC Score (contextual):  60.961872079239775\n",
      "Dataset Name:  reddit  Best AUC Score (structural):  57.508958274070146\n",
      "Dataset Name:  reddit  Best AUC Score (joint-type):  54.56517636749886\n",
      "Dataset Name:  reddit  Best AUC Score (structure type):  57.40763493053909\n",
      "===========================================================================================\n"
     ]
    },
    {
     "name": "stderr",
     "output_type": "stream",
     "text": [
      " 62%|██████▏   | 310/500 [02:50<01:45,  1.80it/s]"
     ]
    },
    {
     "name": "stdout",
     "output_type": "stream",
     "text": [
      "Dataset Name:  reddit , AUC Score(benchmark/combined):  48.55580841688565\n",
      "Dataset Name:  reddit , AUC Score (contextual):  54.53866597051578\n",
      "Dataset Name:  reddit , AUC Score (structural):  50.35007058536453\n",
      "Dataset Name:  reddit , AUC Score (joint-type):  48.6926175121409\n",
      "Dataset Name:  reddit , AUC Score (structure type):  48.6926175121409\n",
      "===========================================================================================\n",
      "Dataset Name:  reddit  Best AUC Score(benchmark/combined):  59.33976946045843\n",
      "Dataset Name:  reddit  Best AUC Score (contextual):  60.961872079239775\n",
      "Dataset Name:  reddit  Best AUC Score (structural):  57.508958274070146\n",
      "Dataset Name:  reddit  Best AUC Score (joint-type):  54.56517636749886\n",
      "Dataset Name:  reddit  Best AUC Score (structure type):  57.40763493053909\n",
      "===========================================================================================\n"
     ]
    },
    {
     "name": "stderr",
     "output_type": "stream",
     "text": [
      " 62%|██████▏   | 311/500 [02:50<01:44,  1.81it/s]"
     ]
    },
    {
     "name": "stdout",
     "output_type": "stream",
     "text": [
      "Dataset Name:  reddit , AUC Score(benchmark/combined):  52.34978338670182\n",
      "Dataset Name:  reddit , AUC Score (contextual):  55.981003580421365\n",
      "Dataset Name:  reddit , AUC Score (structural):  50.277232390625834\n",
      "Dataset Name:  reddit , AUC Score (joint-type):  50.8802817792119\n",
      "Dataset Name:  reddit , AUC Score (structure type):  50.8802817792119\n",
      "===========================================================================================\n",
      "Dataset Name:  reddit  Best AUC Score(benchmark/combined):  59.33976946045843\n",
      "Dataset Name:  reddit  Best AUC Score (contextual):  60.961872079239775\n",
      "Dataset Name:  reddit  Best AUC Score (structural):  57.508958274070146\n",
      "Dataset Name:  reddit  Best AUC Score (joint-type):  54.56517636749886\n",
      "Dataset Name:  reddit  Best AUC Score (structure type):  57.40763493053909\n",
      "===========================================================================================\n"
     ]
    },
    {
     "name": "stderr",
     "output_type": "stream",
     "text": [
      " 62%|██████▏   | 312/500 [02:51<01:43,  1.82it/s]"
     ]
    },
    {
     "name": "stdout",
     "output_type": "stream",
     "text": [
      "Dataset Name:  reddit , AUC Score(benchmark/combined):  52.98930468623752\n",
      "Dataset Name:  reddit , AUC Score (contextual):  57.50702095484985\n",
      "Dataset Name:  reddit , AUC Score (structural):  49.607617980999976\n",
      "Dataset Name:  reddit , AUC Score (joint-type):  48.91135358343161\n",
      "Dataset Name:  reddit , AUC Score (structure type):  48.91135358343161\n",
      "===========================================================================================\n",
      "Dataset Name:  reddit  Best AUC Score(benchmark/combined):  59.33976946045843\n",
      "Dataset Name:  reddit  Best AUC Score (contextual):  60.961872079239775\n",
      "Dataset Name:  reddit  Best AUC Score (structural):  57.508958274070146\n",
      "Dataset Name:  reddit  Best AUC Score (joint-type):  54.56517636749886\n",
      "Dataset Name:  reddit  Best AUC Score (structure type):  57.40763493053909\n",
      "===========================================================================================\n"
     ]
    },
    {
     "name": "stderr",
     "output_type": "stream",
     "text": [
      " 63%|██████▎   | 313/500 [02:51<01:42,  1.82it/s]"
     ]
    },
    {
     "name": "stdout",
     "output_type": "stream",
     "text": [
      "Dataset Name:  reddit , AUC Score(benchmark/combined):  51.51685919466582\n",
      "Dataset Name:  reddit , AUC Score (contextual):  55.03464817819439\n",
      "Dataset Name:  reddit , AUC Score (structural):  51.57427078919676\n",
      "Dataset Name:  reddit , AUC Score (joint-type):  49.0078585113805\n",
      "Dataset Name:  reddit , AUC Score (structure type):  49.0078585113805\n",
      "===========================================================================================\n",
      "Dataset Name:  reddit  Best AUC Score(benchmark/combined):  59.33976946045843\n",
      "Dataset Name:  reddit  Best AUC Score (contextual):  60.961872079239775\n",
      "Dataset Name:  reddit  Best AUC Score (structural):  57.508958274070146\n",
      "Dataset Name:  reddit  Best AUC Score (joint-type):  54.56517636749886\n",
      "Dataset Name:  reddit  Best AUC Score (structure type):  57.40763493053909\n",
      "===========================================================================================\n"
     ]
    },
    {
     "name": "stderr",
     "output_type": "stream",
     "text": [
      " 63%|██████▎   | 314/500 [02:52<01:42,  1.82it/s]"
     ]
    },
    {
     "name": "stdout",
     "output_type": "stream",
     "text": [
      "Dataset Name:  reddit , AUC Score(benchmark/combined):  52.13201214146099\n",
      "Dataset Name:  reddit , AUC Score (contextual):  53.908538118561175\n",
      "Dataset Name:  reddit , AUC Score (structural):  51.68937565935483\n",
      "Dataset Name:  reddit , AUC Score (joint-type):  49.10130260150978\n",
      "Dataset Name:  reddit , AUC Score (structure type):  49.10130260150978\n",
      "===========================================================================================\n",
      "Dataset Name:  reddit  Best AUC Score(benchmark/combined):  59.33976946045843\n",
      "Dataset Name:  reddit  Best AUC Score (contextual):  60.961872079239775\n",
      "Dataset Name:  reddit  Best AUC Score (structural):  57.508958274070146\n",
      "Dataset Name:  reddit  Best AUC Score (joint-type):  54.56517636749886\n",
      "Dataset Name:  reddit  Best AUC Score (structure type):  57.40763493053909\n",
      "===========================================================================================\n"
     ]
    },
    {
     "name": "stderr",
     "output_type": "stream",
     "text": [
      " 63%|██████▎   | 315/500 [02:53<01:41,  1.82it/s]"
     ]
    },
    {
     "name": "stdout",
     "output_type": "stream",
     "text": [
      "Dataset Name:  reddit , AUC Score(benchmark/combined):  53.45477367538576\n",
      "Dataset Name:  reddit , AUC Score (contextual):  56.45045009493656\n",
      "Dataset Name:  reddit , AUC Score (structural):  48.55279447093468\n",
      "Dataset Name:  reddit , AUC Score (joint-type):  49.689894125366855\n",
      "Dataset Name:  reddit , AUC Score (structure type):  49.689894125366855\n",
      "===========================================================================================\n",
      "Dataset Name:  reddit  Best AUC Score(benchmark/combined):  59.33976946045843\n",
      "Dataset Name:  reddit  Best AUC Score (contextual):  60.961872079239775\n",
      "Dataset Name:  reddit  Best AUC Score (structural):  57.508958274070146\n",
      "Dataset Name:  reddit  Best AUC Score (joint-type):  54.56517636749886\n",
      "Dataset Name:  reddit  Best AUC Score (structure type):  57.40763493053909\n",
      "===========================================================================================\n"
     ]
    },
    {
     "name": "stderr",
     "output_type": "stream",
     "text": [
      " 63%|██████▎   | 316/500 [02:53<01:40,  1.82it/s]"
     ]
    },
    {
     "name": "stdout",
     "output_type": "stream",
     "text": [
      "Dataset Name:  reddit , AUC Score(benchmark/combined):  53.51215638564063\n",
      "Dataset Name:  reddit , AUC Score (contextual):  58.445812799158944\n",
      "Dataset Name:  reddit , AUC Score (structural):  49.05774671889121\n",
      "Dataset Name:  reddit , AUC Score (joint-type):  49.710788770317265\n",
      "Dataset Name:  reddit , AUC Score (structure type):  49.710788770317265\n",
      "===========================================================================================\n",
      "Dataset Name:  reddit  Best AUC Score(benchmark/combined):  59.33976946045843\n",
      "Dataset Name:  reddit  Best AUC Score (contextual):  60.961872079239775\n",
      "Dataset Name:  reddit  Best AUC Score (structural):  57.508958274070146\n",
      "Dataset Name:  reddit  Best AUC Score (joint-type):  54.56517636749886\n",
      "Dataset Name:  reddit  Best AUC Score (structure type):  57.40763493053909\n",
      "===========================================================================================\n"
     ]
    },
    {
     "name": "stderr",
     "output_type": "stream",
     "text": [
      " 63%|██████▎   | 317/500 [02:54<01:40,  1.83it/s]"
     ]
    },
    {
     "name": "stdout",
     "output_type": "stream",
     "text": [
      "Dataset Name:  reddit , AUC Score(benchmark/combined):  51.115836392886806\n",
      "Dataset Name:  reddit , AUC Score (contextual):  56.9422078405005\n",
      "Dataset Name:  reddit , AUC Score (structural):  50.81883001359987\n",
      "Dataset Name:  reddit , AUC Score (joint-type):  49.641249570597346\n",
      "Dataset Name:  reddit , AUC Score (structure type):  49.641249570597346\n",
      "===========================================================================================\n",
      "Dataset Name:  reddit  Best AUC Score(benchmark/combined):  59.33976946045843\n",
      "Dataset Name:  reddit  Best AUC Score (contextual):  60.961872079239775\n",
      "Dataset Name:  reddit  Best AUC Score (structural):  57.508958274070146\n",
      "Dataset Name:  reddit  Best AUC Score (joint-type):  54.56517636749886\n",
      "Dataset Name:  reddit  Best AUC Score (structure type):  57.40763493053909\n",
      "===========================================================================================\n"
     ]
    },
    {
     "name": "stderr",
     "output_type": "stream",
     "text": [
      " 64%|██████▎   | 318/500 [02:54<01:39,  1.83it/s]"
     ]
    },
    {
     "name": "stdout",
     "output_type": "stream",
     "text": [
      "Dataset Name:  reddit , AUC Score(benchmark/combined):  50.2598947863562\n",
      "Dataset Name:  reddit , AUC Score (contextual):  53.55479633286333\n",
      "Dataset Name:  reddit , AUC Score (structural):  48.92759977269458\n",
      "Dataset Name:  reddit , AUC Score (joint-type):  48.121682722152315\n",
      "Dataset Name:  reddit , AUC Score (structure type):  48.121682722152315\n",
      "===========================================================================================\n",
      "Dataset Name:  reddit  Best AUC Score(benchmark/combined):  59.33976946045843\n",
      "Dataset Name:  reddit  Best AUC Score (contextual):  60.961872079239775\n",
      "Dataset Name:  reddit  Best AUC Score (structural):  57.508958274070146\n",
      "Dataset Name:  reddit  Best AUC Score (joint-type):  54.56517636749886\n",
      "Dataset Name:  reddit  Best AUC Score (structure type):  57.40763493053909\n",
      "===========================================================================================\n"
     ]
    },
    {
     "name": "stderr",
     "output_type": "stream",
     "text": [
      " 64%|██████▍   | 319/500 [02:55<01:39,  1.82it/s]"
     ]
    },
    {
     "name": "stdout",
     "output_type": "stream",
     "text": [
      "Dataset Name:  reddit , AUC Score(benchmark/combined):  52.97239865904584\n",
      "Dataset Name:  reddit , AUC Score (contextual):  56.28225579193993\n",
      "Dataset Name:  reddit , AUC Score (structural):  50.26499018966211\n",
      "Dataset Name:  reddit , AUC Score (joint-type):  49.360816115488184\n",
      "Dataset Name:  reddit , AUC Score (structure type):  49.360816115488184\n",
      "===========================================================================================\n",
      "Dataset Name:  reddit  Best AUC Score(benchmark/combined):  59.33976946045843\n",
      "Dataset Name:  reddit  Best AUC Score (contextual):  60.961872079239775\n",
      "Dataset Name:  reddit  Best AUC Score (structural):  57.508958274070146\n",
      "Dataset Name:  reddit  Best AUC Score (joint-type):  54.56517636749886\n",
      "Dataset Name:  reddit  Best AUC Score (structure type):  57.40763493053909\n",
      "===========================================================================================\n"
     ]
    },
    {
     "name": "stderr",
     "output_type": "stream",
     "text": [
      " 64%|██████▍   | 320/500 [02:55<01:48,  1.66it/s]"
     ]
    },
    {
     "name": "stdout",
     "output_type": "stream",
     "text": [
      "Dataset Name:  reddit , AUC Score(benchmark/combined):  55.45148613499913\n",
      "Dataset Name:  reddit , AUC Score (contextual):  58.3258583120466\n",
      "Dataset Name:  reddit , AUC Score (structural):  50.84359622651768\n",
      "Dataset Name:  reddit , AUC Score (joint-type):  49.81662798880694\n",
      "Dataset Name:  reddit , AUC Score (structure type):  49.81662798880694\n",
      "===========================================================================================\n",
      "Dataset Name:  reddit  Best AUC Score(benchmark/combined):  59.33976946045843\n",
      "Dataset Name:  reddit  Best AUC Score (contextual):  60.961872079239775\n",
      "Dataset Name:  reddit  Best AUC Score (structural):  57.508958274070146\n",
      "Dataset Name:  reddit  Best AUC Score (joint-type):  54.56517636749886\n",
      "Dataset Name:  reddit  Best AUC Score (structure type):  57.40763493053909\n",
      "===========================================================================================\n"
     ]
    },
    {
     "name": "stderr",
     "output_type": "stream",
     "text": [
      " 64%|██████▍   | 321/500 [02:56<01:45,  1.70it/s]"
     ]
    },
    {
     "name": "stdout",
     "output_type": "stream",
     "text": [
      "Dataset Name:  reddit , AUC Score(benchmark/combined):  52.685858224048864\n",
      "Dataset Name:  reddit , AUC Score (contextual):  57.23215265941274\n",
      "Dataset Name:  reddit , AUC Score (structural):  50.26158027667872\n",
      "Dataset Name:  reddit , AUC Score (joint-type):  49.212049278982974\n",
      "Dataset Name:  reddit , AUC Score (structure type):  49.212049278982974\n",
      "===========================================================================================\n",
      "Dataset Name:  reddit  Best AUC Score(benchmark/combined):  59.33976946045843\n",
      "Dataset Name:  reddit  Best AUC Score (contextual):  60.961872079239775\n",
      "Dataset Name:  reddit  Best AUC Score (structural):  57.508958274070146\n",
      "Dataset Name:  reddit  Best AUC Score (joint-type):  54.56517636749886\n",
      "Dataset Name:  reddit  Best AUC Score (structure type):  57.40763493053909\n",
      "===========================================================================================\n"
     ]
    },
    {
     "name": "stderr",
     "output_type": "stream",
     "text": [
      " 64%|██████▍   | 322/500 [02:57<01:42,  1.74it/s]"
     ]
    },
    {
     "name": "stdout",
     "output_type": "stream",
     "text": [
      "Dataset Name:  reddit , AUC Score(benchmark/combined):  50.08204698280166\n",
      "Dataset Name:  reddit , AUC Score (contextual):  55.424740575022646\n",
      "Dataset Name:  reddit , AUC Score (structural):  49.261767929644066\n",
      "Dataset Name:  reddit , AUC Score (joint-type):  48.11060299516894\n",
      "Dataset Name:  reddit , AUC Score (structure type):  48.11060299516894\n",
      "===========================================================================================\n",
      "Dataset Name:  reddit  Best AUC Score(benchmark/combined):  59.33976946045843\n",
      "Dataset Name:  reddit  Best AUC Score (contextual):  60.961872079239775\n",
      "Dataset Name:  reddit  Best AUC Score (structural):  57.508958274070146\n",
      "Dataset Name:  reddit  Best AUC Score (joint-type):  54.56517636749886\n",
      "Dataset Name:  reddit  Best AUC Score (structure type):  57.40763493053909\n",
      "===========================================================================================\n"
     ]
    },
    {
     "name": "stderr",
     "output_type": "stream",
     "text": [
      " 65%|██████▍   | 323/500 [02:57<01:40,  1.76it/s]"
     ]
    },
    {
     "name": "stdout",
     "output_type": "stream",
     "text": [
      "Dataset Name:  reddit , AUC Score(benchmark/combined):  50.61468976796799\n",
      "Dataset Name:  reddit , AUC Score (contextual):  56.977622492958815\n",
      "Dataset Name:  reddit , AUC Score (structural):  49.76559624906256\n",
      "Dataset Name:  reddit , AUC Score (joint-type):  48.808651091302515\n",
      "Dataset Name:  reddit , AUC Score (structure type):  48.808651091302515\n",
      "===========================================================================================\n",
      "Dataset Name:  reddit  Best AUC Score(benchmark/combined):  59.33976946045843\n",
      "Dataset Name:  reddit  Best AUC Score (contextual):  60.961872079239775\n",
      "Dataset Name:  reddit  Best AUC Score (structural):  57.508958274070146\n",
      "Dataset Name:  reddit  Best AUC Score (joint-type):  54.56517636749886\n",
      "Dataset Name:  reddit  Best AUC Score (structure type):  57.40763493053909\n",
      "===========================================================================================\n"
     ]
    },
    {
     "name": "stderr",
     "output_type": "stream",
     "text": [
      " 65%|██████▍   | 324/500 [02:58<01:38,  1.78it/s]"
     ]
    },
    {
     "name": "stdout",
     "output_type": "stream",
     "text": [
      "Dataset Name:  reddit , AUC Score(benchmark/combined):  53.74898229318808\n",
      "Dataset Name:  reddit , AUC Score (contextual):  57.23066018477342\n",
      "Dataset Name:  reddit , AUC Score (structural):  50.709586812041366\n",
      "Dataset Name:  reddit , AUC Score (joint-type):  49.00725140305264\n",
      "Dataset Name:  reddit , AUC Score (structure type):  49.00725140305264\n",
      "===========================================================================================\n",
      "Dataset Name:  reddit  Best AUC Score(benchmark/combined):  59.33976946045843\n",
      "Dataset Name:  reddit  Best AUC Score (contextual):  60.961872079239775\n",
      "Dataset Name:  reddit  Best AUC Score (structural):  57.508958274070146\n",
      "Dataset Name:  reddit  Best AUC Score (joint-type):  54.56517636749886\n",
      "Dataset Name:  reddit  Best AUC Score (structure type):  57.40763493053909\n",
      "===========================================================================================\n"
     ]
    },
    {
     "name": "stderr",
     "output_type": "stream",
     "text": [
      " 65%|██████▌   | 325/500 [02:58<01:37,  1.80it/s]"
     ]
    },
    {
     "name": "stdout",
     "output_type": "stream",
     "text": [
      "Dataset Name:  reddit , AUC Score(benchmark/combined):  53.88578730622399\n",
      "Dataset Name:  reddit , AUC Score (contextual):  57.2907386130509\n",
      "Dataset Name:  reddit , AUC Score (structural):  50.58855893795052\n",
      "Dataset Name:  reddit , AUC Score (joint-type):  49.30741587881713\n",
      "Dataset Name:  reddit , AUC Score (structure type):  49.30741587881713\n",
      "===========================================================================================\n",
      "Dataset Name:  reddit  Best AUC Score(benchmark/combined):  59.33976946045843\n",
      "Dataset Name:  reddit  Best AUC Score (contextual):  60.961872079239775\n",
      "Dataset Name:  reddit  Best AUC Score (structural):  57.508958274070146\n",
      "Dataset Name:  reddit  Best AUC Score (joint-type):  54.56517636749886\n",
      "Dataset Name:  reddit  Best AUC Score (structure type):  57.40763493053909\n",
      "===========================================================================================\n"
     ]
    },
    {
     "name": "stderr",
     "output_type": "stream",
     "text": [
      " 65%|██████▌   | 326/500 [02:59<01:36,  1.81it/s]"
     ]
    },
    {
     "name": "stdout",
     "output_type": "stream",
     "text": [
      "Dataset Name:  reddit , AUC Score(benchmark/combined):  52.01222895032356\n",
      "Dataset Name:  reddit , AUC Score (contextual):  57.824336240876306\n",
      "Dataset Name:  reddit , AUC Score (structural):  50.59751721202066\n",
      "Dataset Name:  reddit , AUC Score (joint-type):  48.87733022089131\n",
      "Dataset Name:  reddit , AUC Score (structure type):  48.87733022089131\n",
      "===========================================================================================\n",
      "Dataset Name:  reddit  Best AUC Score(benchmark/combined):  59.33976946045843\n",
      "Dataset Name:  reddit  Best AUC Score (contextual):  60.961872079239775\n",
      "Dataset Name:  reddit  Best AUC Score (structural):  57.508958274070146\n",
      "Dataset Name:  reddit  Best AUC Score (joint-type):  54.56517636749886\n",
      "Dataset Name:  reddit  Best AUC Score (structure type):  57.40763493053909\n",
      "===========================================================================================\n"
     ]
    },
    {
     "name": "stderr",
     "output_type": "stream",
     "text": [
      " 65%|██████▌   | 327/500 [02:59<01:35,  1.81it/s]"
     ]
    },
    {
     "name": "stdout",
     "output_type": "stream",
     "text": [
      "Dataset Name:  reddit , AUC Score(benchmark/combined):  50.90689127751925\n",
      "Dataset Name:  reddit , AUC Score (contextual):  57.147815194201314\n",
      "Dataset Name:  reddit , AUC Score (structural):  50.46220317843012\n",
      "Dataset Name:  reddit , AUC Score (joint-type):  48.37454334070464\n",
      "Dataset Name:  reddit , AUC Score (structure type):  48.37454334070464\n",
      "===========================================================================================\n",
      "Dataset Name:  reddit  Best AUC Score(benchmark/combined):  59.33976946045843\n",
      "Dataset Name:  reddit  Best AUC Score (contextual):  60.961872079239775\n",
      "Dataset Name:  reddit  Best AUC Score (structural):  57.508958274070146\n",
      "Dataset Name:  reddit  Best AUC Score (joint-type):  54.56517636749886\n",
      "Dataset Name:  reddit  Best AUC Score (structure type):  57.40763493053909\n",
      "===========================================================================================\n"
     ]
    },
    {
     "name": "stderr",
     "output_type": "stream",
     "text": [
      " 66%|██████▌   | 328/500 [03:00<01:34,  1.82it/s]"
     ]
    },
    {
     "name": "stdout",
     "output_type": "stream",
     "text": [
      "Dataset Name:  reddit , AUC Score(benchmark/combined):  52.310438918549494\n",
      "Dataset Name:  reddit , AUC Score (contextual):  57.24773510649439\n",
      "Dataset Name:  reddit , AUC Score (structural):  49.39477442853705\n",
      "Dataset Name:  reddit , AUC Score (joint-type):  48.811509559679514\n",
      "Dataset Name:  reddit , AUC Score (structure type):  48.811509559679514\n",
      "===========================================================================================\n",
      "Dataset Name:  reddit  Best AUC Score(benchmark/combined):  59.33976946045843\n",
      "Dataset Name:  reddit  Best AUC Score (contextual):  60.961872079239775\n",
      "Dataset Name:  reddit  Best AUC Score (structural):  57.508958274070146\n",
      "Dataset Name:  reddit  Best AUC Score (joint-type):  54.56517636749886\n",
      "Dataset Name:  reddit  Best AUC Score (structure type):  57.40763493053909\n",
      "===========================================================================================\n"
     ]
    },
    {
     "name": "stderr",
     "output_type": "stream",
     "text": [
      " 66%|██████▌   | 329/500 [03:00<01:33,  1.83it/s]"
     ]
    },
    {
     "name": "stdout",
     "output_type": "stream",
     "text": [
      "Dataset Name:  reddit , AUC Score(benchmark/combined):  53.17758687948191\n",
      "Dataset Name:  reddit , AUC Score (contextual):  57.327418074525596\n",
      "Dataset Name:  reddit , AUC Score (structural):  51.67253662382477\n",
      "Dataset Name:  reddit , AUC Score (joint-type):  48.767848352434484\n",
      "Dataset Name:  reddit , AUC Score (structure type):  48.767848352434484\n",
      "===========================================================================================\n",
      "Dataset Name:  reddit  Best AUC Score(benchmark/combined):  59.33976946045843\n",
      "Dataset Name:  reddit  Best AUC Score (contextual):  60.961872079239775\n",
      "Dataset Name:  reddit  Best AUC Score (structural):  57.508958274070146\n",
      "Dataset Name:  reddit  Best AUC Score (joint-type):  54.56517636749886\n",
      "Dataset Name:  reddit  Best AUC Score (structure type):  57.40763493053909\n",
      "===========================================================================================\n"
     ]
    },
    {
     "name": "stderr",
     "output_type": "stream",
     "text": [
      " 66%|██████▌   | 330/500 [03:01<01:33,  1.82it/s]"
     ]
    },
    {
     "name": "stdout",
     "output_type": "stream",
     "text": [
      "Dataset Name:  reddit , AUC Score(benchmark/combined):  52.221868833931865\n",
      "Dataset Name:  reddit , AUC Score (contextual):  56.93229173781218\n",
      "Dataset Name:  reddit , AUC Score (structural):  51.410134122138885\n",
      "Dataset Name:  reddit , AUC Score (joint-type):  49.034115946560306\n",
      "Dataset Name:  reddit , AUC Score (structure type):  49.034115946560306\n",
      "===========================================================================================\n",
      "Dataset Name:  reddit  Best AUC Score(benchmark/combined):  59.33976946045843\n",
      "Dataset Name:  reddit  Best AUC Score (contextual):  60.961872079239775\n",
      "Dataset Name:  reddit  Best AUC Score (structural):  57.508958274070146\n",
      "Dataset Name:  reddit  Best AUC Score (joint-type):  54.56517636749886\n",
      "Dataset Name:  reddit  Best AUC Score (structure type):  57.40763493053909\n",
      "===========================================================================================\n"
     ]
    },
    {
     "name": "stderr",
     "output_type": "stream",
     "text": [
      " 66%|██████▌   | 331/500 [03:01<01:32,  1.83it/s]"
     ]
    },
    {
     "name": "stdout",
     "output_type": "stream",
     "text": [
      "Dataset Name:  reddit , AUC Score(benchmark/combined):  52.57016644588476\n",
      "Dataset Name:  reddit , AUC Score (contextual):  56.77727674476609\n",
      "Dataset Name:  reddit , AUC Score (structural):  49.191719663709975\n",
      "Dataset Name:  reddit , AUC Score (joint-type):  49.09133590646079\n",
      "Dataset Name:  reddit , AUC Score (structure type):  49.09133590646079\n",
      "===========================================================================================\n",
      "Dataset Name:  reddit  Best AUC Score(benchmark/combined):  59.33976946045843\n",
      "Dataset Name:  reddit  Best AUC Score (contextual):  60.961872079239775\n",
      "Dataset Name:  reddit  Best AUC Score (structural):  57.508958274070146\n",
      "Dataset Name:  reddit  Best AUC Score (joint-type):  54.56517636749886\n",
      "Dataset Name:  reddit  Best AUC Score (structure type):  57.40763493053909\n",
      "===========================================================================================\n"
     ]
    },
    {
     "name": "stderr",
     "output_type": "stream",
     "text": [
      " 66%|██████▋   | 332/500 [03:02<01:31,  1.84it/s]"
     ]
    },
    {
     "name": "stdout",
     "output_type": "stream",
     "text": [
      "Dataset Name:  reddit , AUC Score(benchmark/combined):  51.634763938337514\n",
      "Dataset Name:  reddit , AUC Score (contextual):  58.44389028945407\n",
      "Dataset Name:  reddit , AUC Score (structural):  52.24832123535329\n",
      "Dataset Name:  reddit , AUC Score (joint-type):  48.74108499364813\n",
      "Dataset Name:  reddit , AUC Score (structure type):  48.74108499364813\n",
      "===========================================================================================\n",
      "Dataset Name:  reddit  Best AUC Score(benchmark/combined):  59.33976946045843\n",
      "Dataset Name:  reddit  Best AUC Score (contextual):  60.961872079239775\n",
      "Dataset Name:  reddit  Best AUC Score (structural):  57.508958274070146\n",
      "Dataset Name:  reddit  Best AUC Score (joint-type):  54.56517636749886\n",
      "Dataset Name:  reddit  Best AUC Score (structure type):  57.40763493053909\n",
      "===========================================================================================\n"
     ]
    },
    {
     "name": "stderr",
     "output_type": "stream",
     "text": [
      " 67%|██████▋   | 333/500 [03:03<01:30,  1.85it/s]"
     ]
    },
    {
     "name": "stdout",
     "output_type": "stream",
     "text": [
      "Dataset Name:  reddit , AUC Score(benchmark/combined):  51.795975902349554\n",
      "Dataset Name:  reddit , AUC Score (contextual):  57.95046299598853\n",
      "Dataset Name:  reddit , AUC Score (structural):  51.5260363516285\n",
      "Dataset Name:  reddit , AUC Score (joint-type):  48.292836678247255\n",
      "Dataset Name:  reddit , AUC Score (structure type):  48.292836678247255\n",
      "===========================================================================================\n",
      "Dataset Name:  reddit  Best AUC Score(benchmark/combined):  59.33976946045843\n",
      "Dataset Name:  reddit  Best AUC Score (contextual):  60.961872079239775\n",
      "Dataset Name:  reddit  Best AUC Score (structural):  57.508958274070146\n",
      "Dataset Name:  reddit  Best AUC Score (joint-type):  54.56517636749886\n",
      "Dataset Name:  reddit  Best AUC Score (structure type):  57.40763493053909\n",
      "===========================================================================================\n"
     ]
    },
    {
     "name": "stderr",
     "output_type": "stream",
     "text": [
      " 67%|██████▋   | 334/500 [03:03<01:29,  1.85it/s]"
     ]
    },
    {
     "name": "stdout",
     "output_type": "stream",
     "text": [
      "Dataset Name:  reddit , AUC Score(benchmark/combined):  51.68360357244682\n",
      "Dataset Name:  reddit , AUC Score (contextual):  56.27226380071062\n",
      "Dataset Name:  reddit , AUC Score (structural):  50.51944893684317\n",
      "Dataset Name:  reddit , AUC Score (joint-type):  49.16899518006581\n",
      "Dataset Name:  reddit , AUC Score (structure type):  49.16899518006581\n",
      "===========================================================================================\n",
      "Dataset Name:  reddit  Best AUC Score(benchmark/combined):  59.33976946045843\n",
      "Dataset Name:  reddit  Best AUC Score (contextual):  60.961872079239775\n",
      "Dataset Name:  reddit  Best AUC Score (structural):  57.508958274070146\n",
      "Dataset Name:  reddit  Best AUC Score (joint-type):  54.56517636749886\n",
      "Dataset Name:  reddit  Best AUC Score (structure type):  57.40763493053909\n",
      "===========================================================================================\n"
     ]
    },
    {
     "name": "stderr",
     "output_type": "stream",
     "text": [
      " 67%|██████▋   | 335/500 [03:04<01:28,  1.86it/s]"
     ]
    },
    {
     "name": "stdout",
     "output_type": "stream",
     "text": [
      "Dataset Name:  reddit , AUC Score(benchmark/combined):  52.547586478060246\n",
      "Dataset Name:  reddit , AUC Score (contextual):  55.93526808638949\n",
      "Dataset Name:  reddit , AUC Score (structural):  49.96246940693043\n",
      "Dataset Name:  reddit , AUC Score (joint-type):  50.012218055098124\n",
      "Dataset Name:  reddit , AUC Score (structure type):  50.012218055098124\n",
      "===========================================================================================\n",
      "Dataset Name:  reddit  Best AUC Score(benchmark/combined):  59.33976946045843\n",
      "Dataset Name:  reddit  Best AUC Score (contextual):  60.961872079239775\n",
      "Dataset Name:  reddit  Best AUC Score (structural):  57.508958274070146\n",
      "Dataset Name:  reddit  Best AUC Score (joint-type):  54.56517636749886\n",
      "Dataset Name:  reddit  Best AUC Score (structure type):  57.40763493053909\n",
      "===========================================================================================\n"
     ]
    },
    {
     "name": "stderr",
     "output_type": "stream",
     "text": [
      " 67%|██████▋   | 336/500 [03:04<01:27,  1.87it/s]"
     ]
    },
    {
     "name": "stdout",
     "output_type": "stream",
     "text": [
      "Dataset Name:  reddit , AUC Score(benchmark/combined):  52.89291202587214\n",
      "Dataset Name:  reddit , AUC Score (contextual):  58.896388363149946\n",
      "Dataset Name:  reddit , AUC Score (structural):  51.99408296382939\n",
      "Dataset Name:  reddit , AUC Score (joint-type):  48.58566526171681\n",
      "Dataset Name:  reddit , AUC Score (structure type):  48.58566526171681\n",
      "===========================================================================================\n",
      "Dataset Name:  reddit  Best AUC Score(benchmark/combined):  59.33976946045843\n",
      "Dataset Name:  reddit  Best AUC Score (contextual):  60.961872079239775\n",
      "Dataset Name:  reddit  Best AUC Score (structural):  57.508958274070146\n",
      "Dataset Name:  reddit  Best AUC Score (joint-type):  54.56517636749886\n",
      "Dataset Name:  reddit  Best AUC Score (structure type):  57.40763493053909\n",
      "===========================================================================================\n"
     ]
    },
    {
     "name": "stderr",
     "output_type": "stream",
     "text": [
      " 67%|██████▋   | 337/500 [03:05<01:27,  1.86it/s]"
     ]
    },
    {
     "name": "stdout",
     "output_type": "stream",
     "text": [
      "Dataset Name:  reddit , AUC Score(benchmark/combined):  51.58435464264725\n",
      "Dataset Name:  reddit , AUC Score (contextual):  57.63314770996209\n",
      "Dataset Name:  reddit , AUC Score (structural):  50.21344032867782\n",
      "Dataset Name:  reddit , AUC Score (joint-type):  48.94375799043096\n",
      "Dataset Name:  reddit , AUC Score (structure type):  48.94375799043096\n",
      "===========================================================================================\n",
      "Dataset Name:  reddit  Best AUC Score(benchmark/combined):  59.33976946045843\n",
      "Dataset Name:  reddit  Best AUC Score (contextual):  60.961872079239775\n",
      "Dataset Name:  reddit  Best AUC Score (structural):  57.508958274070146\n",
      "Dataset Name:  reddit  Best AUC Score (joint-type):  54.56517636749886\n",
      "Dataset Name:  reddit  Best AUC Score (structure type):  57.40763493053909\n",
      "===========================================================================================\n"
     ]
    },
    {
     "name": "stderr",
     "output_type": "stream",
     "text": [
      " 68%|██████▊   | 338/500 [03:05<01:26,  1.87it/s]"
     ]
    },
    {
     "name": "stdout",
     "output_type": "stream",
     "text": [
      "Dataset Name:  reddit , AUC Score(benchmark/combined):  52.69582943491153\n",
      "Dataset Name:  reddit , AUC Score (contextual):  55.300789291418575\n",
      "Dataset Name:  reddit , AUC Score (structural):  48.29114291265252\n",
      "Dataset Name:  reddit , AUC Score (joint-type):  49.2187274705894\n",
      "Dataset Name:  reddit , AUC Score (structure type):  49.2187274705894\n",
      "===========================================================================================\n",
      "Dataset Name:  reddit  Best AUC Score(benchmark/combined):  59.33976946045843\n",
      "Dataset Name:  reddit  Best AUC Score (contextual):  60.961872079239775\n",
      "Dataset Name:  reddit  Best AUC Score (structural):  57.508958274070146\n",
      "Dataset Name:  reddit  Best AUC Score (joint-type):  54.56517636749886\n",
      "Dataset Name:  reddit  Best AUC Score (structure type):  57.40763493053909\n",
      "===========================================================================================\n"
     ]
    },
    {
     "name": "stderr",
     "output_type": "stream",
     "text": [
      " 68%|██████▊   | 339/500 [03:06<01:26,  1.86it/s]"
     ]
    },
    {
     "name": "stdout",
     "output_type": "stream",
     "text": [
      "Dataset Name:  reddit , AUC Score(benchmark/combined):  54.081814878744936\n",
      "Dataset Name:  reddit , AUC Score (contextual):  52.64504450357005\n",
      "Dataset Name:  reddit , AUC Score (structural):  46.062062737094216\n",
      "Dataset Name:  reddit , AUC Score (joint-type):  51.50924600687146\n",
      "Dataset Name:  reddit , AUC Score (structure type):  51.50924600687146\n",
      "===========================================================================================\n",
      "Dataset Name:  reddit  Best AUC Score(benchmark/combined):  59.33976946045843\n",
      "Dataset Name:  reddit  Best AUC Score (contextual):  60.961872079239775\n",
      "Dataset Name:  reddit  Best AUC Score (structural):  57.508958274070146\n",
      "Dataset Name:  reddit  Best AUC Score (joint-type):  54.56517636749886\n",
      "Dataset Name:  reddit  Best AUC Score (structure type):  57.40763493053909\n",
      "===========================================================================================\n"
     ]
    },
    {
     "name": "stderr",
     "output_type": "stream",
     "text": [
      " 68%|██████▊   | 340/500 [03:06<01:35,  1.68it/s]"
     ]
    },
    {
     "name": "stdout",
     "output_type": "stream",
     "text": [
      "Dataset Name:  reddit , AUC Score(benchmark/combined):  56.35728379584313\n",
      "Dataset Name:  reddit , AUC Score (contextual):  56.273933348612225\n",
      "Dataset Name:  reddit , AUC Score (structural):  46.19502447777107\n",
      "Dataset Name:  reddit , AUC Score (joint-type):  49.86550020919942\n",
      "Dataset Name:  reddit , AUC Score (structure type):  49.86550020919942\n",
      "===========================================================================================\n",
      "Dataset Name:  reddit  Best AUC Score(benchmark/combined):  59.33976946045843\n",
      "Dataset Name:  reddit  Best AUC Score (contextual):  60.961872079239775\n",
      "Dataset Name:  reddit  Best AUC Score (structural):  57.508958274070146\n",
      "Dataset Name:  reddit  Best AUC Score (joint-type):  54.56517636749886\n",
      "Dataset Name:  reddit  Best AUC Score (structure type):  57.40763493053909\n",
      "===========================================================================================\n"
     ]
    },
    {
     "name": "stderr",
     "output_type": "stream",
     "text": [
      " 68%|██████▊   | 341/500 [03:07<01:31,  1.74it/s]"
     ]
    },
    {
     "name": "stdout",
     "output_type": "stream",
     "text": [
      "Dataset Name:  reddit , AUC Score(benchmark/combined):  53.186747527397024\n",
      "Dataset Name:  reddit , AUC Score (contextual):  52.651064994487975\n",
      "Dataset Name:  reddit , AUC Score (structural):  45.76834440353211\n",
      "Dataset Name:  reddit , AUC Score (joint-type):  51.53788128300203\n",
      "Dataset Name:  reddit , AUC Score (structure type):  51.53788128300203\n",
      "===========================================================================================\n",
      "Dataset Name:  reddit  Best AUC Score(benchmark/combined):  59.33976946045843\n",
      "Dataset Name:  reddit  Best AUC Score (contextual):  60.961872079239775\n",
      "Dataset Name:  reddit  Best AUC Score (structural):  57.508958274070146\n",
      "Dataset Name:  reddit  Best AUC Score (joint-type):  54.56517636749886\n",
      "Dataset Name:  reddit  Best AUC Score (structure type):  57.40763493053909\n",
      "===========================================================================================\n"
     ]
    },
    {
     "name": "stderr",
     "output_type": "stream",
     "text": [
      " 68%|██████▊   | 342/500 [03:08<01:28,  1.78it/s]"
     ]
    },
    {
     "name": "stdout",
     "output_type": "stream",
     "text": [
      "Dataset Name:  reddit , AUC Score(benchmark/combined):  52.35778608754903\n",
      "Dataset Name:  reddit , AUC Score (contextual):  55.519196512365035\n",
      "Dataset Name:  reddit , AUC Score (structural):  49.373693308746155\n",
      "Dataset Name:  reddit , AUC Score (joint-type):  49.08096447252658\n",
      "Dataset Name:  reddit , AUC Score (structure type):  49.08096447252658\n",
      "===========================================================================================\n",
      "Dataset Name:  reddit  Best AUC Score(benchmark/combined):  59.33976946045843\n",
      "Dataset Name:  reddit  Best AUC Score (contextual):  60.961872079239775\n",
      "Dataset Name:  reddit  Best AUC Score (structural):  57.508958274070146\n",
      "Dataset Name:  reddit  Best AUC Score (joint-type):  54.56517636749886\n",
      "Dataset Name:  reddit  Best AUC Score (structure type):  57.40763493053909\n",
      "===========================================================================================\n"
     ]
    },
    {
     "name": "stderr",
     "output_type": "stream",
     "text": [
      " 69%|██████▊   | 343/500 [03:08<01:27,  1.79it/s]"
     ]
    },
    {
     "name": "stdout",
     "output_type": "stream",
     "text": [
      "Dataset Name:  reddit , AUC Score(benchmark/combined):  51.25356776357706\n",
      "Dataset Name:  reddit , AUC Score (contextual):  57.32028455167326\n",
      "Dataset Name:  reddit , AUC Score (structural):  52.510514865363966\n",
      "Dataset Name:  reddit , AUC Score (joint-type):  48.54686092109464\n",
      "Dataset Name:  reddit , AUC Score (structure type):  48.54686092109464\n",
      "===========================================================================================\n",
      "Dataset Name:  reddit  Best AUC Score(benchmark/combined):  59.33976946045843\n",
      "Dataset Name:  reddit  Best AUC Score (contextual):  60.961872079239775\n",
      "Dataset Name:  reddit  Best AUC Score (structural):  57.508958274070146\n",
      "Dataset Name:  reddit  Best AUC Score (joint-type):  54.56517636749886\n",
      "Dataset Name:  reddit  Best AUC Score (structure type):  57.40763493053909\n",
      "===========================================================================================\n"
     ]
    },
    {
     "name": "stderr",
     "output_type": "stream",
     "text": [
      " 69%|██████▉   | 344/500 [03:09<01:26,  1.81it/s]"
     ]
    },
    {
     "name": "stdout",
     "output_type": "stream",
     "text": [
      "Dataset Name:  reddit , AUC Score(benchmark/combined):  53.725038521039124\n",
      "Dataset Name:  reddit , AUC Score (contextual):  55.4129525549901\n",
      "Dataset Name:  reddit , AUC Score (structural):  47.36661222741417\n",
      "Dataset Name:  reddit , AUC Score (joint-type):  49.606264953204594\n",
      "Dataset Name:  reddit , AUC Score (structure type):  49.606264953204594\n",
      "===========================================================================================\n",
      "Dataset Name:  reddit  Best AUC Score(benchmark/combined):  59.33976946045843\n",
      "Dataset Name:  reddit  Best AUC Score (contextual):  60.961872079239775\n",
      "Dataset Name:  reddit  Best AUC Score (structural):  57.508958274070146\n",
      "Dataset Name:  reddit  Best AUC Score (joint-type):  54.56517636749886\n",
      "Dataset Name:  reddit  Best AUC Score (structure type):  57.40763493053909\n",
      "===========================================================================================\n"
     ]
    },
    {
     "name": "stderr",
     "output_type": "stream",
     "text": [
      " 69%|██████▉   | 345/500 [03:09<01:24,  1.83it/s]"
     ]
    },
    {
     "name": "stdout",
     "output_type": "stream",
     "text": [
      "Dataset Name:  reddit , AUC Score(benchmark/combined):  54.126087054975216\n",
      "Dataset Name:  reddit , AUC Score (contextual):  55.1586247579788\n",
      "Dataset Name:  reddit , AUC Score (structural):  48.49329919773384\n",
      "Dataset Name:  reddit , AUC Score (joint-type):  50.01454530368824\n",
      "Dataset Name:  reddit , AUC Score (structure type):  50.01454530368824\n",
      "===========================================================================================\n",
      "Dataset Name:  reddit  Best AUC Score(benchmark/combined):  59.33976946045843\n",
      "Dataset Name:  reddit  Best AUC Score (contextual):  60.961872079239775\n",
      "Dataset Name:  reddit  Best AUC Score (structural):  57.508958274070146\n",
      "Dataset Name:  reddit  Best AUC Score (joint-type):  54.56517636749886\n",
      "Dataset Name:  reddit  Best AUC Score (structure type):  57.40763493053909\n",
      "===========================================================================================\n"
     ]
    },
    {
     "name": "stderr",
     "output_type": "stream",
     "text": [
      " 69%|██████▉   | 346/500 [03:10<01:23,  1.84it/s]"
     ]
    },
    {
     "name": "stdout",
     "output_type": "stream",
     "text": [
      "Dataset Name:  reddit , AUC Score(benchmark/combined):  51.110394041667575\n",
      "Dataset Name:  reddit , AUC Score (contextual):  55.90405259986553\n",
      "Dataset Name:  reddit , AUC Score (structural):  50.901352560136814\n",
      "Dataset Name:  reddit , AUC Score (joint-type):  49.78586783352887\n",
      "Dataset Name:  reddit , AUC Score (structure type):  49.78586783352887\n",
      "===========================================================================================\n",
      "Dataset Name:  reddit  Best AUC Score(benchmark/combined):  59.33976946045843\n",
      "Dataset Name:  reddit  Best AUC Score (contextual):  60.961872079239775\n",
      "Dataset Name:  reddit  Best AUC Score (structural):  57.508958274070146\n",
      "Dataset Name:  reddit  Best AUC Score (joint-type):  54.56517636749886\n",
      "Dataset Name:  reddit  Best AUC Score (structure type):  57.40763493053909\n",
      "===========================================================================================\n"
     ]
    },
    {
     "name": "stderr",
     "output_type": "stream",
     "text": [
      " 69%|██████▉   | 347/500 [03:10<01:22,  1.85it/s]"
     ]
    },
    {
     "name": "stdout",
     "output_type": "stream",
     "text": [
      "Dataset Name:  reddit , AUC Score(benchmark/combined):  51.15196434140603\n",
      "Dataset Name:  reddit , AUC Score (contextual):  58.260088243195455\n",
      "Dataset Name:  reddit , AUC Score (structural):  49.197659244759805\n",
      "Dataset Name:  reddit , AUC Score (joint-type):  49.39101975479907\n",
      "Dataset Name:  reddit , AUC Score (structure type):  49.39101975479907\n",
      "===========================================================================================\n",
      "Dataset Name:  reddit  Best AUC Score(benchmark/combined):  59.33976946045843\n",
      "Dataset Name:  reddit  Best AUC Score (contextual):  60.961872079239775\n",
      "Dataset Name:  reddit  Best AUC Score (structural):  57.508958274070146\n",
      "Dataset Name:  reddit  Best AUC Score (joint-type):  54.56517636749886\n",
      "Dataset Name:  reddit  Best AUC Score (structure type):  57.40763493053909\n",
      "===========================================================================================\n"
     ]
    },
    {
     "name": "stderr",
     "output_type": "stream",
     "text": [
      " 70%|██████▉   | 348/500 [03:11<01:21,  1.86it/s]"
     ]
    },
    {
     "name": "stdout",
     "output_type": "stream",
     "text": [
      "Dataset Name:  reddit , AUC Score(benchmark/combined):  53.396052892963496\n",
      "Dataset Name:  reddit , AUC Score (contextual):  57.707164333599955\n",
      "Dataset Name:  reddit , AUC Score (structural):  50.53035336445853\n",
      "Dataset Name:  reddit , AUC Score (joint-type):  49.84926006142925\n",
      "Dataset Name:  reddit , AUC Score (structure type):  49.84926006142925\n",
      "===========================================================================================\n",
      "Dataset Name:  reddit  Best AUC Score(benchmark/combined):  59.33976946045843\n",
      "Dataset Name:  reddit  Best AUC Score (contextual):  60.961872079239775\n",
      "Dataset Name:  reddit  Best AUC Score (structural):  57.508958274070146\n",
      "Dataset Name:  reddit  Best AUC Score (joint-type):  54.56517636749886\n",
      "Dataset Name:  reddit  Best AUC Score (structure type):  57.40763493053909\n",
      "===========================================================================================\n"
     ]
    },
    {
     "name": "stderr",
     "output_type": "stream",
     "text": [
      " 70%|██████▉   | 349/500 [03:11<01:20,  1.86it/s]"
     ]
    },
    {
     "name": "stdout",
     "output_type": "stream",
     "text": [
      "Dataset Name:  reddit , AUC Score(benchmark/combined):  52.62311035904593\n",
      "Dataset Name:  reddit , AUC Score (contextual):  54.095072152295145\n",
      "Dataset Name:  reddit , AUC Score (structural):  47.247135971482045\n",
      "Dataset Name:  reddit , AUC Score (joint-type):  49.872785509133685\n",
      "Dataset Name:  reddit , AUC Score (structure type):  49.872785509133685\n",
      "===========================================================================================\n",
      "Dataset Name:  reddit  Best AUC Score(benchmark/combined):  59.33976946045843\n",
      "Dataset Name:  reddit  Best AUC Score (contextual):  60.961872079239775\n",
      "Dataset Name:  reddit  Best AUC Score (structural):  57.508958274070146\n",
      "Dataset Name:  reddit  Best AUC Score (joint-type):  54.56517636749886\n",
      "Dataset Name:  reddit  Best AUC Score (structure type):  57.40763493053909\n",
      "===========================================================================================\n"
     ]
    },
    {
     "name": "stderr",
     "output_type": "stream",
     "text": [
      " 70%|███████   | 350/500 [03:12<01:20,  1.86it/s]"
     ]
    },
    {
     "name": "stdout",
     "output_type": "stream",
     "text": [
      "Dataset Name:  reddit , AUC Score(benchmark/combined):  52.15856772755203\n",
      "Dataset Name:  reddit , AUC Score (contextual):  57.1091626306611\n",
      "Dataset Name:  reddit , AUC Score (structural):  49.214732017640706\n",
      "Dataset Name:  reddit , AUC Score (joint-type):  51.00509313294711\n",
      "Dataset Name:  reddit , AUC Score (structure type):  51.00509313294711\n",
      "===========================================================================================\n",
      "Dataset Name:  reddit  Best AUC Score(benchmark/combined):  59.33976946045843\n",
      "Dataset Name:  reddit  Best AUC Score (contextual):  60.961872079239775\n",
      "Dataset Name:  reddit  Best AUC Score (structural):  57.508958274070146\n",
      "Dataset Name:  reddit  Best AUC Score (joint-type):  54.56517636749886\n",
      "Dataset Name:  reddit  Best AUC Score (structure type):  57.40763493053909\n",
      "===========================================================================================\n"
     ]
    },
    {
     "name": "stderr",
     "output_type": "stream",
     "text": [
      " 70%|███████   | 351/500 [03:12<01:19,  1.86it/s]"
     ]
    },
    {
     "name": "stdout",
     "output_type": "stream",
     "text": [
      "Dataset Name:  reddit , AUC Score(benchmark/combined):  52.436191970126\n",
      "Dataset Name:  reddit , AUC Score (contextual):  57.31654071698482\n",
      "Dataset Name:  reddit , AUC Score (structural):  49.486570214368655\n",
      "Dataset Name:  reddit , AUC Score (joint-type):  48.75125405813973\n",
      "Dataset Name:  reddit , AUC Score (structure type):  48.75125405813973\n",
      "===========================================================================================\n",
      "Dataset Name:  reddit  Best AUC Score(benchmark/combined):  59.33976946045843\n",
      "Dataset Name:  reddit  Best AUC Score (contextual):  60.961872079239775\n",
      "Dataset Name:  reddit  Best AUC Score (structural):  57.508958274070146\n",
      "Dataset Name:  reddit  Best AUC Score (joint-type):  54.56517636749886\n",
      "Dataset Name:  reddit  Best AUC Score (structure type):  57.40763493053909\n",
      "===========================================================================================\n"
     ]
    },
    {
     "name": "stderr",
     "output_type": "stream",
     "text": [
      " 70%|███████   | 352/500 [03:13<01:19,  1.86it/s]"
     ]
    },
    {
     "name": "stdout",
     "output_type": "stream",
     "text": [
      "Dataset Name:  reddit , AUC Score(benchmark/combined):  52.33285162735308\n",
      "Dataset Name:  reddit , AUC Score (contextual):  56.45945553513311\n",
      "Dataset Name:  reddit , AUC Score (structural):  50.0465286522207\n",
      "Dataset Name:  reddit , AUC Score (joint-type):  49.48453973346933\n",
      "Dataset Name:  reddit , AUC Score (structure type):  49.48453973346933\n",
      "===========================================================================================\n",
      "Dataset Name:  reddit  Best AUC Score(benchmark/combined):  59.33976946045843\n",
      "Dataset Name:  reddit  Best AUC Score (contextual):  60.961872079239775\n",
      "Dataset Name:  reddit  Best AUC Score (structural):  57.508958274070146\n",
      "Dataset Name:  reddit  Best AUC Score (joint-type):  54.56517636749886\n",
      "Dataset Name:  reddit  Best AUC Score (structure type):  57.40763493053909\n",
      "===========================================================================================\n"
     ]
    },
    {
     "name": "stderr",
     "output_type": "stream",
     "text": [
      " 71%|███████   | 353/500 [03:13<01:18,  1.87it/s]"
     ]
    },
    {
     "name": "stdout",
     "output_type": "stream",
     "text": [
      "Dataset Name:  reddit , AUC Score(benchmark/combined):  53.10129103378427\n",
      "Dataset Name:  reddit , AUC Score (contextual):  58.14261278175519\n",
      "Dataset Name:  reddit , AUC Score (structural):  52.90808054887498\n",
      "Dataset Name:  reddit , AUC Score (joint-type):  49.349306353439246\n",
      "Dataset Name:  reddit , AUC Score (structure type):  49.349306353439246\n",
      "===========================================================================================\n",
      "Dataset Name:  reddit  Best AUC Score(benchmark/combined):  59.33976946045843\n",
      "Dataset Name:  reddit  Best AUC Score (contextual):  60.961872079239775\n",
      "Dataset Name:  reddit  Best AUC Score (structural):  57.508958274070146\n",
      "Dataset Name:  reddit  Best AUC Score (joint-type):  54.56517636749886\n",
      "Dataset Name:  reddit  Best AUC Score (structure type):  57.40763493053909\n",
      "===========================================================================================\n"
     ]
    },
    {
     "name": "stderr",
     "output_type": "stream",
     "text": [
      " 71%|███████   | 354/500 [03:14<01:18,  1.87it/s]"
     ]
    },
    {
     "name": "stdout",
     "output_type": "stream",
     "text": [
      "Dataset Name:  reddit , AUC Score(benchmark/combined):  52.41953039842643\n",
      "Dataset Name:  reddit , AUC Score (contextual):  56.982276990139034\n",
      "Dataset Name:  reddit , AUC Score (structural):  50.76940036589013\n",
      "Dataset Name:  reddit , AUC Score (joint-type):  48.88481789026821\n",
      "Dataset Name:  reddit , AUC Score (structure type):  48.88481789026821\n",
      "===========================================================================================\n",
      "Dataset Name:  reddit  Best AUC Score(benchmark/combined):  59.33976946045843\n",
      "Dataset Name:  reddit  Best AUC Score (contextual):  60.961872079239775\n",
      "Dataset Name:  reddit  Best AUC Score (structural):  57.508958274070146\n",
      "Dataset Name:  reddit  Best AUC Score (joint-type):  54.56517636749886\n",
      "Dataset Name:  reddit  Best AUC Score (structure type):  57.40763493053909\n",
      "===========================================================================================\n"
     ]
    },
    {
     "name": "stderr",
     "output_type": "stream",
     "text": [
      " 71%|███████   | 355/500 [03:15<01:17,  1.87it/s]"
     ]
    },
    {
     "name": "stdout",
     "output_type": "stream",
     "text": [
      "Dataset Name:  reddit , AUC Score(benchmark/combined):  50.8177936836818\n",
      "Dataset Name:  reddit , AUC Score (contextual):  56.5000306083782\n",
      "Dataset Name:  reddit , AUC Score (structural):  49.92133992174275\n",
      "Dataset Name:  reddit , AUC Score (joint-type):  49.169652880754306\n",
      "Dataset Name:  reddit , AUC Score (structure type):  49.169652880754306\n",
      "===========================================================================================\n",
      "Dataset Name:  reddit  Best AUC Score(benchmark/combined):  59.33976946045843\n",
      "Dataset Name:  reddit  Best AUC Score (contextual):  60.961872079239775\n",
      "Dataset Name:  reddit  Best AUC Score (structural):  57.508958274070146\n",
      "Dataset Name:  reddit  Best AUC Score (joint-type):  54.56517636749886\n",
      "Dataset Name:  reddit  Best AUC Score (structure type):  57.40763493053909\n",
      "===========================================================================================\n"
     ]
    },
    {
     "name": "stderr",
     "output_type": "stream",
     "text": [
      " 71%|███████   | 356/500 [03:15<01:17,  1.87it/s]"
     ]
    },
    {
     "name": "stdout",
     "output_type": "stream",
     "text": [
      "Dataset Name:  reddit , AUC Score(benchmark/combined):  50.35011172902597\n",
      "Dataset Name:  reddit , AUC Score (contextual):  55.980952988060714\n",
      "Dataset Name:  reddit , AUC Score (structural):  49.456757927011616\n",
      "Dataset Name:  reddit , AUC Score (joint-type):  49.44441999147013\n",
      "Dataset Name:  reddit , AUC Score (structure type):  49.44441999147013\n",
      "===========================================================================================\n",
      "Dataset Name:  reddit  Best AUC Score(benchmark/combined):  59.33976946045843\n",
      "Dataset Name:  reddit  Best AUC Score (contextual):  60.961872079239775\n",
      "Dataset Name:  reddit  Best AUC Score (structural):  57.508958274070146\n",
      "Dataset Name:  reddit  Best AUC Score (joint-type):  54.56517636749886\n",
      "Dataset Name:  reddit  Best AUC Score (structure type):  57.40763493053909\n",
      "===========================================================================================\n"
     ]
    },
    {
     "name": "stderr",
     "output_type": "stream",
     "text": [
      " 71%|███████▏  | 357/500 [03:16<01:23,  1.71it/s]"
     ]
    },
    {
     "name": "stdout",
     "output_type": "stream",
     "text": [
      "Dataset Name:  reddit , AUC Score(benchmark/combined):  53.62128646375317\n",
      "Dataset Name:  reddit , AUC Score (contextual):  57.15580878718476\n",
      "Dataset Name:  reddit , AUC Score (structural):  48.37447939563809\n",
      "Dataset Name:  reddit , AUC Score (joint-type):  49.257531811211564\n",
      "Dataset Name:  reddit , AUC Score (structure type):  49.257531811211564\n",
      "===========================================================================================\n",
      "Dataset Name:  reddit  Best AUC Score(benchmark/combined):  59.33976946045843\n",
      "Dataset Name:  reddit  Best AUC Score (contextual):  60.961872079239775\n",
      "Dataset Name:  reddit  Best AUC Score (structural):  57.508958274070146\n",
      "Dataset Name:  reddit  Best AUC Score (joint-type):  54.56517636749886\n",
      "Dataset Name:  reddit  Best AUC Score (structure type):  57.40763493053909\n",
      "===========================================================================================\n"
     ]
    },
    {
     "name": "stderr",
     "output_type": "stream",
     "text": [
      " 72%|███████▏  | 358/500 [03:16<01:20,  1.75it/s]"
     ]
    },
    {
     "name": "stdout",
     "output_type": "stream",
     "text": [
      "Dataset Name:  reddit , AUC Score(benchmark/combined):  54.15041680948014\n",
      "Dataset Name:  reddit , AUC Score (contextual):  54.8188970561823\n",
      "Dataset Name:  reddit , AUC Score (structural):  49.21829775552465\n",
      "Dataset Name:  reddit , AUC Score (joint-type):  50.184282673684834\n",
      "Dataset Name:  reddit , AUC Score (structure type):  50.184282673684834\n",
      "===========================================================================================\n",
      "Dataset Name:  reddit  Best AUC Score(benchmark/combined):  59.33976946045843\n",
      "Dataset Name:  reddit  Best AUC Score (contextual):  60.961872079239775\n",
      "Dataset Name:  reddit  Best AUC Score (structural):  57.508958274070146\n",
      "Dataset Name:  reddit  Best AUC Score (joint-type):  54.56517636749886\n",
      "Dataset Name:  reddit  Best AUC Score (structure type):  57.40763493053909\n",
      "===========================================================================================\n"
     ]
    },
    {
     "name": "stderr",
     "output_type": "stream",
     "text": [
      " 72%|███████▏  | 359/500 [03:17<01:19,  1.78it/s]"
     ]
    },
    {
     "name": "stdout",
     "output_type": "stream",
     "text": [
      "Dataset Name:  reddit , AUC Score(benchmark/combined):  53.419623548835006\n",
      "Dataset Name:  reddit , AUC Score (contextual):  54.735267884020054\n",
      "Dataset Name:  reddit , AUC Score (structural):  49.29984722528899\n",
      "Dataset Name:  reddit , AUC Score (joint-type):  51.075138256273576\n",
      "Dataset Name:  reddit , AUC Score (structure type):  51.075138256273576\n",
      "===========================================================================================\n",
      "Dataset Name:  reddit  Best AUC Score(benchmark/combined):  59.33976946045843\n",
      "Dataset Name:  reddit  Best AUC Score (contextual):  60.961872079239775\n",
      "Dataset Name:  reddit  Best AUC Score (structural):  57.508958274070146\n",
      "Dataset Name:  reddit  Best AUC Score (joint-type):  54.56517636749886\n",
      "Dataset Name:  reddit  Best AUC Score (structure type):  57.40763493053909\n",
      "===========================================================================================\n"
     ]
    },
    {
     "name": "stderr",
     "output_type": "stream",
     "text": [
      " 72%|███████▏  | 360/500 [03:17<01:17,  1.81it/s]"
     ]
    },
    {
     "name": "stdout",
     "output_type": "stream",
     "text": [
      "Dataset Name:  reddit , AUC Score(benchmark/combined):  54.46203323153692\n",
      "Dataset Name:  reddit , AUC Score (contextual):  54.96495720139251\n",
      "Dataset Name:  reddit , AUC Score (structural):  51.321615632354025\n",
      "Dataset Name:  reddit , AUC Score (joint-type):  50.94923916678429\n",
      "Dataset Name:  reddit , AUC Score (structure type):  50.94923916678429\n",
      "===========================================================================================\n",
      "Dataset Name:  reddit  Best AUC Score(benchmark/combined):  59.33976946045843\n",
      "Dataset Name:  reddit  Best AUC Score (contextual):  60.961872079239775\n",
      "Dataset Name:  reddit  Best AUC Score (structural):  57.508958274070146\n",
      "Dataset Name:  reddit  Best AUC Score (joint-type):  54.56517636749886\n",
      "Dataset Name:  reddit  Best AUC Score (structure type):  57.40763493053909\n",
      "===========================================================================================\n"
     ]
    },
    {
     "name": "stderr",
     "output_type": "stream",
     "text": [
      " 72%|███████▏  | 361/500 [03:18<01:16,  1.83it/s]"
     ]
    },
    {
     "name": "stdout",
     "output_type": "stream",
     "text": [
      "Dataset Name:  reddit , AUC Score(benchmark/combined):  53.52638626849756\n",
      "Dataset Name:  reddit , AUC Score (contextual):  54.93804206552419\n",
      "Dataset Name:  reddit , AUC Score (structural):  55.1471898802668\n",
      "Dataset Name:  reddit , AUC Score (joint-type):  50.41872767295884\n",
      "Dataset Name:  reddit , AUC Score (structure type):  50.41872767295884\n",
      "===========================================================================================\n",
      "Dataset Name:  reddit  Best AUC Score(benchmark/combined):  59.33976946045843\n",
      "Dataset Name:  reddit  Best AUC Score (contextual):  60.961872079239775\n",
      "Dataset Name:  reddit  Best AUC Score (structural):  57.508958274070146\n",
      "Dataset Name:  reddit  Best AUC Score (joint-type):  54.56517636749886\n",
      "Dataset Name:  reddit  Best AUC Score (structure type):  57.40763493053909\n",
      "===========================================================================================\n"
     ]
    },
    {
     "name": "stderr",
     "output_type": "stream",
     "text": [
      " 72%|███████▏  | 362/500 [03:18<01:14,  1.84it/s]"
     ]
    },
    {
     "name": "stdout",
     "output_type": "stream",
     "text": [
      "Dataset Name:  reddit , AUC Score(benchmark/combined):  55.23160485287897\n",
      "Dataset Name:  reddit , AUC Score (contextual):  54.09062002455754\n",
      "Dataset Name:  reddit , AUC Score (structural):  55.61813085710989\n",
      "Dataset Name:  reddit , AUC Score (joint-type):  50.30504663856766\n",
      "Dataset Name:  reddit , AUC Score (structure type):  50.30504663856766\n",
      "===========================================================================================\n",
      "Dataset Name:  reddit  Best AUC Score(benchmark/combined):  59.33976946045843\n",
      "Dataset Name:  reddit  Best AUC Score (contextual):  60.961872079239775\n",
      "Dataset Name:  reddit  Best AUC Score (structural):  57.508958274070146\n",
      "Dataset Name:  reddit  Best AUC Score (joint-type):  54.56517636749886\n",
      "Dataset Name:  reddit  Best AUC Score (structure type):  57.40763493053909\n",
      "===========================================================================================\n"
     ]
    },
    {
     "name": "stderr",
     "output_type": "stream",
     "text": [
      " 73%|███████▎  | 363/500 [03:19<01:14,  1.85it/s]"
     ]
    },
    {
     "name": "stdout",
     "output_type": "stream",
     "text": [
      "Dataset Name:  reddit , AUC Score(benchmark/combined):  53.489100372910414\n",
      "Dataset Name:  reddit , AUC Score (contextual):  54.23354344340713\n",
      "Dataset Name:  reddit , AUC Score (structural):  59.36485770534241\n",
      "Dataset Name:  reddit , AUC Score (joint-type):  49.93496352037835\n",
      "Dataset Name:  reddit , AUC Score (structure type):  49.93496352037835\n",
      "===========================================================================================\n",
      "Dataset Name:  reddit  Best AUC Score(benchmark/combined):  59.33976946045843\n",
      "Dataset Name:  reddit  Best AUC Score (contextual):  60.961872079239775\n",
      "Dataset Name:  reddit  Best AUC Score (structural):  59.36485770534241\n",
      "Dataset Name:  reddit  Best AUC Score (joint-type):  54.56517636749886\n",
      "Dataset Name:  reddit  Best AUC Score (structure type):  59.150751911813316\n",
      "===========================================================================================\n"
     ]
    },
    {
     "name": "stderr",
     "output_type": "stream",
     "text": [
      " 73%|███████▎  | 364/500 [03:19<01:12,  1.86it/s]"
     ]
    },
    {
     "name": "stdout",
     "output_type": "stream",
     "text": [
      "Dataset Name:  reddit , AUC Score(benchmark/combined):  53.8306175614767\n",
      "Dataset Name:  reddit , AUC Score (contextual):  58.75801825675926\n",
      "Dataset Name:  reddit , AUC Score (structural):  61.423642814847526\n",
      "Dataset Name:  reddit , AUC Score (joint-type):  49.14177649003356\n",
      "Dataset Name:  reddit , AUC Score (structure type):  49.14177649003356\n",
      "===========================================================================================\n",
      "Dataset Name:  reddit  Best AUC Score(benchmark/combined):  59.33976946045843\n",
      "Dataset Name:  reddit  Best AUC Score (contextual):  60.961872079239775\n",
      "Dataset Name:  reddit  Best AUC Score (structural):  61.423642814847526\n",
      "Dataset Name:  reddit  Best AUC Score (joint-type):  54.56517636749886\n",
      "Dataset Name:  reddit  Best AUC Score (structure type):  61.197010949584794\n",
      "===========================================================================================\n"
     ]
    },
    {
     "name": "stderr",
     "output_type": "stream",
     "text": [
      " 73%|███████▎  | 365/500 [03:20<01:12,  1.87it/s]"
     ]
    },
    {
     "name": "stdout",
     "output_type": "stream",
     "text": [
      "Dataset Name:  reddit , AUC Score(benchmark/combined):  54.247234050437086\n",
      "Dataset Name:  reddit , AUC Score (contextual):  56.23110691531801\n",
      "Dataset Name:  reddit , AUC Score (structural):  48.41597026197813\n",
      "Dataset Name:  reddit , AUC Score (joint-type):  52.20949487069352\n",
      "Dataset Name:  reddit , AUC Score (structure type):  52.20949487069352\n",
      "===========================================================================================\n",
      "Dataset Name:  reddit  Best AUC Score(benchmark/combined):  59.33976946045843\n",
      "Dataset Name:  reddit  Best AUC Score (contextual):  60.961872079239775\n",
      "Dataset Name:  reddit  Best AUC Score (structural):  61.423642814847526\n",
      "Dataset Name:  reddit  Best AUC Score (joint-type):  54.56517636749886\n",
      "Dataset Name:  reddit  Best AUC Score (structure type):  61.197010949584794\n",
      "===========================================================================================\n"
     ]
    },
    {
     "name": "stderr",
     "output_type": "stream",
     "text": [
      " 73%|███████▎  | 366/500 [03:21<01:11,  1.87it/s]"
     ]
    },
    {
     "name": "stdout",
     "output_type": "stream",
     "text": [
      "Dataset Name:  reddit , AUC Score(benchmark/combined):  50.74422544663305\n",
      "Dataset Name:  reddit , AUC Score (contextual):  50.18638225665201\n",
      "Dataset Name:  reddit , AUC Score (structural):  41.84939622824171\n",
      "Dataset Name:  reddit , AUC Score (joint-type):  52.20084357702155\n",
      "Dataset Name:  reddit , AUC Score (structure type):  52.20084357702155\n",
      "===========================================================================================\n",
      "Dataset Name:  reddit  Best AUC Score(benchmark/combined):  59.33976946045843\n",
      "Dataset Name:  reddit  Best AUC Score (contextual):  60.961872079239775\n",
      "Dataset Name:  reddit  Best AUC Score (structural):  61.423642814847526\n",
      "Dataset Name:  reddit  Best AUC Score (joint-type):  54.56517636749886\n",
      "Dataset Name:  reddit  Best AUC Score (structure type):  61.197010949584794\n",
      "===========================================================================================\n"
     ]
    },
    {
     "name": "stderr",
     "output_type": "stream",
     "text": [
      " 73%|███████▎  | 367/500 [03:21<01:11,  1.87it/s]"
     ]
    },
    {
     "name": "stdout",
     "output_type": "stream",
     "text": [
      "Dataset Name:  reddit , AUC Score(benchmark/combined):  56.52683297874421\n",
      "Dataset Name:  reddit , AUC Score (contextual):  57.56454446891428\n",
      "Dataset Name:  reddit , AUC Score (structural):  59.515049701512424\n",
      "Dataset Name:  reddit , AUC Score (joint-type):  50.22829802745446\n",
      "Dataset Name:  reddit , AUC Score (structure type):  50.22829802745446\n",
      "===========================================================================================\n",
      "Dataset Name:  reddit  Best AUC Score(benchmark/combined):  59.33976946045843\n",
      "Dataset Name:  reddit  Best AUC Score (contextual):  60.961872079239775\n",
      "Dataset Name:  reddit  Best AUC Score (structural):  61.423642814847526\n",
      "Dataset Name:  reddit  Best AUC Score (joint-type):  54.56517636749886\n",
      "Dataset Name:  reddit  Best AUC Score (structure type):  61.197010949584794\n",
      "===========================================================================================\n"
     ]
    },
    {
     "name": "stderr",
     "output_type": "stream",
     "text": [
      " 74%|███████▎  | 368/500 [03:22<01:10,  1.87it/s]"
     ]
    },
    {
     "name": "stdout",
     "output_type": "stream",
     "text": [
      "Dataset Name:  reddit , AUC Score(benchmark/combined):  58.88551969179052\n",
      "Dataset Name:  reddit , AUC Score (contextual):  57.45430371504765\n",
      "Dataset Name:  reddit , AUC Score (structural):  55.03539877581306\n",
      "Dataset Name:  reddit , AUC Score (joint-type):  52.5438597822606\n",
      "Dataset Name:  reddit , AUC Score (structure type):  52.5438597822606\n",
      "===========================================================================================\n",
      "Dataset Name:  reddit  Best AUC Score(benchmark/combined):  59.33976946045843\n",
      "Dataset Name:  reddit  Best AUC Score (contextual):  60.961872079239775\n",
      "Dataset Name:  reddit  Best AUC Score (structural):  61.423642814847526\n",
      "Dataset Name:  reddit  Best AUC Score (joint-type):  54.56517636749886\n",
      "Dataset Name:  reddit  Best AUC Score (structure type):  61.197010949584794\n",
      "===========================================================================================\n"
     ]
    },
    {
     "name": "stderr",
     "output_type": "stream",
     "text": [
      " 74%|███████▍  | 369/500 [03:22<01:10,  1.86it/s]"
     ]
    },
    {
     "name": "stdout",
     "output_type": "stream",
     "text": [
      "Dataset Name:  reddit , AUC Score(benchmark/combined):  47.123222036607594\n",
      "Dataset Name:  reddit , AUC Score (contextual):  47.91961683369734\n",
      "Dataset Name:  reddit , AUC Score (structural):  44.13630733444599\n",
      "Dataset Name:  reddit , AUC Score (joint-type):  48.380032611835674\n",
      "Dataset Name:  reddit , AUC Score (structure type):  48.380032611835674\n",
      "===========================================================================================\n",
      "Dataset Name:  reddit  Best AUC Score(benchmark/combined):  59.33976946045843\n",
      "Dataset Name:  reddit  Best AUC Score (contextual):  60.961872079239775\n",
      "Dataset Name:  reddit  Best AUC Score (structural):  61.423642814847526\n",
      "Dataset Name:  reddit  Best AUC Score (joint-type):  54.56517636749886\n",
      "Dataset Name:  reddit  Best AUC Score (structure type):  61.197010949584794\n",
      "===========================================================================================\n"
     ]
    },
    {
     "name": "stderr",
     "output_type": "stream",
     "text": [
      " 74%|███████▍  | 370/500 [03:23<01:09,  1.86it/s]"
     ]
    },
    {
     "name": "stdout",
     "output_type": "stream",
     "text": [
      "Dataset Name:  reddit , AUC Score(benchmark/combined):  56.54602916791467\n",
      "Dataset Name:  reddit , AUC Score (contextual):  55.618408131608945\n",
      "Dataset Name:  reddit , AUC Score (structural):  53.74591456949559\n",
      "Dataset Name:  reddit , AUC Score (joint-type):  49.898688797788914\n",
      "Dataset Name:  reddit , AUC Score (structure type):  49.898688797788914\n",
      "===========================================================================================\n",
      "Dataset Name:  reddit  Best AUC Score(benchmark/combined):  59.33976946045843\n",
      "Dataset Name:  reddit  Best AUC Score (contextual):  60.961872079239775\n",
      "Dataset Name:  reddit  Best AUC Score (structural):  61.423642814847526\n",
      "Dataset Name:  reddit  Best AUC Score (joint-type):  54.56517636749886\n",
      "Dataset Name:  reddit  Best AUC Score (structure type):  61.197010949584794\n",
      "===========================================================================================\n"
     ]
    },
    {
     "name": "stderr",
     "output_type": "stream",
     "text": [
      " 74%|███████▍  | 371/500 [03:23<01:09,  1.86it/s]"
     ]
    },
    {
     "name": "stdout",
     "output_type": "stream",
     "text": [
      "Dataset Name:  reddit , AUC Score(benchmark/combined):  50.413567228348185\n",
      "Dataset Name:  reddit , AUC Score (contextual):  55.2139222081744\n",
      "Dataset Name:  reddit , AUC Score (structural):  56.698648898649495\n",
      "Dataset Name:  reddit , AUC Score (joint-type):  49.183110448688474\n",
      "Dataset Name:  reddit , AUC Score (structure type):  49.183110448688474\n",
      "===========================================================================================\n",
      "Dataset Name:  reddit  Best AUC Score(benchmark/combined):  59.33976946045843\n",
      "Dataset Name:  reddit  Best AUC Score (contextual):  60.961872079239775\n",
      "Dataset Name:  reddit  Best AUC Score (structural):  61.423642814847526\n",
      "Dataset Name:  reddit  Best AUC Score (joint-type):  54.56517636749886\n",
      "Dataset Name:  reddit  Best AUC Score (structure type):  61.197010949584794\n",
      "===========================================================================================\n"
     ]
    },
    {
     "name": "stderr",
     "output_type": "stream",
     "text": [
      " 74%|███████▍  | 372/500 [03:24<01:08,  1.87it/s]"
     ]
    },
    {
     "name": "stdout",
     "output_type": "stream",
     "text": [
      "Dataset Name:  reddit , AUC Score(benchmark/combined):  50.35337971297322\n",
      "Dataset Name:  reddit , AUC Score (contextual):  50.63536416128238\n",
      "Dataset Name:  reddit , AUC Score (structural):  45.49211327077792\n",
      "Dataset Name:  reddit , AUC Score (joint-type):  48.43267396309692\n",
      "Dataset Name:  reddit , AUC Score (structure type):  48.43267396309692\n",
      "===========================================================================================\n",
      "Dataset Name:  reddit  Best AUC Score(benchmark/combined):  59.33976946045843\n",
      "Dataset Name:  reddit  Best AUC Score (contextual):  60.961872079239775\n",
      "Dataset Name:  reddit  Best AUC Score (structural):  61.423642814847526\n",
      "Dataset Name:  reddit  Best AUC Score (joint-type):  54.56517636749886\n",
      "Dataset Name:  reddit  Best AUC Score (structure type):  61.197010949584794\n",
      "===========================================================================================\n"
     ]
    },
    {
     "name": "stderr",
     "output_type": "stream",
     "text": [
      " 75%|███████▍  | 373/500 [03:24<01:14,  1.71it/s]"
     ]
    },
    {
     "name": "stdout",
     "output_type": "stream",
     "text": [
      "Dataset Name:  reddit , AUC Score(benchmark/combined):  55.629115215218604\n",
      "Dataset Name:  reddit , AUC Score (contextual):  58.29307446234233\n",
      "Dataset Name:  reddit , AUC Score (structural):  52.51089945448024\n",
      "Dataset Name:  reddit , AUC Score (joint-type):  48.49743218473497\n",
      "Dataset Name:  reddit , AUC Score (structure type):  48.49743218473497\n",
      "===========================================================================================\n",
      "Dataset Name:  reddit  Best AUC Score(benchmark/combined):  59.33976946045843\n",
      "Dataset Name:  reddit  Best AUC Score (contextual):  60.961872079239775\n",
      "Dataset Name:  reddit  Best AUC Score (structural):  61.423642814847526\n",
      "Dataset Name:  reddit  Best AUC Score (joint-type):  54.56517636749886\n",
      "Dataset Name:  reddit  Best AUC Score (structure type):  61.197010949584794\n",
      "===========================================================================================\n"
     ]
    },
    {
     "name": "stderr",
     "output_type": "stream",
     "text": [
      " 75%|███████▍  | 374/500 [03:25<01:12,  1.75it/s]"
     ]
    },
    {
     "name": "stdout",
     "output_type": "stream",
     "text": [
      "Dataset Name:  reddit , AUC Score(benchmark/combined):  52.61146655797404\n",
      "Dataset Name:  reddit , AUC Score (contextual):  54.07918615104956\n",
      "Dataset Name:  reddit , AUC Score (structural):  55.8809709946867\n",
      "Dataset Name:  reddit , AUC Score (joint-type):  50.115325286112444\n",
      "Dataset Name:  reddit , AUC Score (structure type):  50.115325286112444\n",
      "===========================================================================================\n",
      "Dataset Name:  reddit  Best AUC Score(benchmark/combined):  59.33976946045843\n",
      "Dataset Name:  reddit  Best AUC Score (contextual):  60.961872079239775\n",
      "Dataset Name:  reddit  Best AUC Score (structural):  61.423642814847526\n",
      "Dataset Name:  reddit  Best AUC Score (joint-type):  54.56517636749886\n",
      "Dataset Name:  reddit  Best AUC Score (structure type):  61.197010949584794\n",
      "===========================================================================================\n"
     ]
    },
    {
     "name": "stderr",
     "output_type": "stream",
     "text": [
      " 75%|███████▌  | 375/500 [03:26<01:10,  1.78it/s]"
     ]
    },
    {
     "name": "stdout",
     "output_type": "stream",
     "text": [
      "Dataset Name:  reddit , AUC Score(benchmark/combined):  54.86836972374986\n",
      "Dataset Name:  reddit , AUC Score (contextual):  54.7067590887911\n",
      "Dataset Name:  reddit , AUC Score (structural):  46.04681510480385\n",
      "Dataset Name:  reddit , AUC Score (joint-type):  51.55781467309999\n",
      "Dataset Name:  reddit , AUC Score (structure type):  51.55781467309999\n",
      "===========================================================================================\n",
      "Dataset Name:  reddit  Best AUC Score(benchmark/combined):  59.33976946045843\n",
      "Dataset Name:  reddit  Best AUC Score (contextual):  60.961872079239775\n",
      "Dataset Name:  reddit  Best AUC Score (structural):  61.423642814847526\n",
      "Dataset Name:  reddit  Best AUC Score (joint-type):  54.56517636749886\n",
      "Dataset Name:  reddit  Best AUC Score (structure type):  61.197010949584794\n",
      "===========================================================================================\n"
     ]
    },
    {
     "name": "stderr",
     "output_type": "stream",
     "text": [
      " 75%|███████▌  | 376/500 [03:26<01:08,  1.81it/s]"
     ]
    },
    {
     "name": "stdout",
     "output_type": "stream",
     "text": [
      "Dataset Name:  reddit , AUC Score(benchmark/combined):  56.04968159028848\n",
      "Dataset Name:  reddit , AUC Score (contextual):  55.186804702863476\n",
      "Dataset Name:  reddit , AUC Score (structural):  51.287557945312756\n",
      "Dataset Name:  reddit , AUC Score (joint-type):  50.89692666586731\n",
      "Dataset Name:  reddit , AUC Score (structure type):  50.89692666586731\n",
      "===========================================================================================\n",
      "Dataset Name:  reddit  Best AUC Score(benchmark/combined):  59.33976946045843\n",
      "Dataset Name:  reddit  Best AUC Score (contextual):  60.961872079239775\n",
      "Dataset Name:  reddit  Best AUC Score (structural):  61.423642814847526\n",
      "Dataset Name:  reddit  Best AUC Score (joint-type):  54.56517636749886\n",
      "Dataset Name:  reddit  Best AUC Score (structure type):  61.197010949584794\n",
      "===========================================================================================\n"
     ]
    },
    {
     "name": "stderr",
     "output_type": "stream",
     "text": [
      " 75%|███████▌  | 377/500 [03:27<01:07,  1.82it/s]"
     ]
    },
    {
     "name": "stdout",
     "output_type": "stream",
     "text": [
      "Dataset Name:  reddit , AUC Score(benchmark/combined):  53.27652702339671\n",
      "Dataset Name:  reddit , AUC Score (contextual):  60.06254227624137\n",
      "Dataset Name:  reddit , AUC Score (structural):  57.524680011909\n",
      "Dataset Name:  reddit , AUC Score (joint-type):  49.249133479342895\n",
      "Dataset Name:  reddit , AUC Score (structure type):  49.249133479342895\n",
      "===========================================================================================\n",
      "Dataset Name:  reddit  Best AUC Score(benchmark/combined):  59.33976946045843\n",
      "Dataset Name:  reddit  Best AUC Score (contextual):  60.961872079239775\n",
      "Dataset Name:  reddit  Best AUC Score (structural):  61.423642814847526\n",
      "Dataset Name:  reddit  Best AUC Score (joint-type):  54.56517636749886\n",
      "Dataset Name:  reddit  Best AUC Score (structure type):  61.197010949584794\n",
      "===========================================================================================\n"
     ]
    },
    {
     "name": "stderr",
     "output_type": "stream",
     "text": [
      " 76%|███████▌  | 378/500 [03:27<01:06,  1.84it/s]"
     ]
    },
    {
     "name": "stdout",
     "output_type": "stream",
     "text": [
      "Dataset Name:  reddit , AUC Score(benchmark/combined):  51.87538533905204\n",
      "Dataset Name:  reddit , AUC Score (contextual):  56.57596974172095\n",
      "Dataset Name:  reddit , AUC Score (structural):  50.87404010203548\n",
      "Dataset Name:  reddit , AUC Score (joint-type):  52.52362283799871\n",
      "Dataset Name:  reddit , AUC Score (structure type):  52.52362283799871\n",
      "===========================================================================================\n",
      "Dataset Name:  reddit  Best AUC Score(benchmark/combined):  59.33976946045843\n",
      "Dataset Name:  reddit  Best AUC Score (contextual):  60.961872079239775\n",
      "Dataset Name:  reddit  Best AUC Score (structural):  61.423642814847526\n",
      "Dataset Name:  reddit  Best AUC Score (joint-type):  54.56517636749886\n",
      "Dataset Name:  reddit  Best AUC Score (structure type):  61.197010949584794\n",
      "===========================================================================================\n"
     ]
    },
    {
     "name": "stderr",
     "output_type": "stream",
     "text": [
      " 76%|███████▌  | 379/500 [03:28<01:05,  1.84it/s]"
     ]
    },
    {
     "name": "stdout",
     "output_type": "stream",
     "text": [
      "Dataset Name:  reddit , AUC Score(benchmark/combined):  54.68186304934296\n",
      "Dataset Name:  reddit , AUC Score (contextual):  60.3303782335475\n",
      "Dataset Name:  reddit , AUC Score (structural):  52.23810807352017\n",
      "Dataset Name:  reddit , AUC Score (joint-type):  49.664648537400154\n",
      "Dataset Name:  reddit , AUC Score (structure type):  49.664648537400154\n",
      "===========================================================================================\n",
      "Dataset Name:  reddit  Best AUC Score(benchmark/combined):  59.33976946045843\n",
      "Dataset Name:  reddit  Best AUC Score (contextual):  60.961872079239775\n",
      "Dataset Name:  reddit  Best AUC Score (structural):  61.423642814847526\n",
      "Dataset Name:  reddit  Best AUC Score (joint-type):  54.56517636749886\n",
      "Dataset Name:  reddit  Best AUC Score (structure type):  61.197010949584794\n",
      "===========================================================================================\n"
     ]
    },
    {
     "name": "stderr",
     "output_type": "stream",
     "text": [
      " 76%|███████▌  | 380/500 [03:28<01:05,  1.84it/s]"
     ]
    },
    {
     "name": "stdout",
     "output_type": "stream",
     "text": [
      "Dataset Name:  reddit , AUC Score(benchmark/combined):  53.036561792687344\n",
      "Dataset Name:  reddit , AUC Score (contextual):  57.063123582465295\n",
      "Dataset Name:  reddit , AUC Score (structural):  53.97079476667044\n",
      "Dataset Name:  reddit , AUC Score (joint-type):  50.3921666836151\n",
      "Dataset Name:  reddit , AUC Score (structure type):  50.3921666836151\n",
      "===========================================================================================\n",
      "Dataset Name:  reddit  Best AUC Score(benchmark/combined):  59.33976946045843\n",
      "Dataset Name:  reddit  Best AUC Score (contextual):  60.961872079239775\n",
      "Dataset Name:  reddit  Best AUC Score (structural):  61.423642814847526\n",
      "Dataset Name:  reddit  Best AUC Score (joint-type):  54.56517636749886\n",
      "Dataset Name:  reddit  Best AUC Score (structure type):  61.197010949584794\n",
      "===========================================================================================\n"
     ]
    },
    {
     "name": "stderr",
     "output_type": "stream",
     "text": [
      " 76%|███████▌  | 381/500 [03:29<01:04,  1.84it/s]"
     ]
    },
    {
     "name": "stdout",
     "output_type": "stream",
     "text": [
      "Dataset Name:  reddit , AUC Score(benchmark/combined):  54.46495383136379\n",
      "Dataset Name:  reddit , AUC Score (contextual):  57.76974708372984\n",
      "Dataset Name:  reddit , AUC Score (structural):  52.605282928288055\n",
      "Dataset Name:  reddit , AUC Score (joint-type):  51.485872336248974\n",
      "Dataset Name:  reddit , AUC Score (structure type):  51.485872336248974\n",
      "===========================================================================================\n",
      "Dataset Name:  reddit  Best AUC Score(benchmark/combined):  59.33976946045843\n",
      "Dataset Name:  reddit  Best AUC Score (contextual):  60.961872079239775\n",
      "Dataset Name:  reddit  Best AUC Score (structural):  61.423642814847526\n",
      "Dataset Name:  reddit  Best AUC Score (joint-type):  54.56517636749886\n",
      "Dataset Name:  reddit  Best AUC Score (structure type):  61.197010949584794\n",
      "===========================================================================================\n"
     ]
    },
    {
     "name": "stderr",
     "output_type": "stream",
     "text": [
      " 76%|███████▋  | 382/500 [03:29<01:04,  1.84it/s]"
     ]
    },
    {
     "name": "stdout",
     "output_type": "stream",
     "text": [
      "Dataset Name:  reddit , AUC Score(benchmark/combined):  54.309158486413935\n",
      "Dataset Name:  reddit , AUC Score (contextual):  50.81496704160665\n",
      "Dataset Name:  reddit , AUC Score (structural):  50.39751926758318\n",
      "Dataset Name:  reddit , AUC Score (joint-type):  52.10213788138418\n",
      "Dataset Name:  reddit , AUC Score (structure type):  52.10213788138418\n",
      "===========================================================================================\n",
      "Dataset Name:  reddit  Best AUC Score(benchmark/combined):  59.33976946045843\n",
      "Dataset Name:  reddit  Best AUC Score (contextual):  60.961872079239775\n",
      "Dataset Name:  reddit  Best AUC Score (structural):  61.423642814847526\n",
      "Dataset Name:  reddit  Best AUC Score (joint-type):  54.56517636749886\n",
      "Dataset Name:  reddit  Best AUC Score (structure type):  61.197010949584794\n",
      "===========================================================================================\n"
     ]
    },
    {
     "name": "stderr",
     "output_type": "stream",
     "text": [
      " 77%|███████▋  | 383/500 [03:30<01:03,  1.85it/s]"
     ]
    },
    {
     "name": "stdout",
     "output_type": "stream",
     "text": [
      "Dataset Name:  reddit , AUC Score(benchmark/combined):  51.83761053248068\n",
      "Dataset Name:  reddit , AUC Score (contextual):  58.88965957918286\n",
      "Dataset Name:  reddit , AUC Score (structural):  49.62511512807812\n",
      "Dataset Name:  reddit , AUC Score (joint-type):  47.11180861112334\n",
      "Dataset Name:  reddit , AUC Score (structure type):  47.11180861112334\n",
      "===========================================================================================\n",
      "Dataset Name:  reddit  Best AUC Score(benchmark/combined):  59.33976946045843\n",
      "Dataset Name:  reddit  Best AUC Score (contextual):  60.961872079239775\n",
      "Dataset Name:  reddit  Best AUC Score (structural):  61.423642814847526\n",
      "Dataset Name:  reddit  Best AUC Score (joint-type):  54.56517636749886\n",
      "Dataset Name:  reddit  Best AUC Score (structure type):  61.197010949584794\n",
      "===========================================================================================\n"
     ]
    },
    {
     "name": "stderr",
     "output_type": "stream",
     "text": [
      " 77%|███████▋  | 384/500 [03:30<01:02,  1.85it/s]"
     ]
    },
    {
     "name": "stdout",
     "output_type": "stream",
     "text": [
      "Dataset Name:  reddit , AUC Score(benchmark/combined):  47.54255326813834\n",
      "Dataset Name:  reddit , AUC Score (contextual):  46.60871817677275\n",
      "Dataset Name:  reddit , AUC Score (structural):  53.71167784958985\n",
      "Dataset Name:  reddit , AUC Score (joint-type):  53.40752197099743\n",
      "Dataset Name:  reddit , AUC Score (structure type):  53.40752197099743\n",
      "===========================================================================================\n",
      "Dataset Name:  reddit  Best AUC Score(benchmark/combined):  59.33976946045843\n",
      "Dataset Name:  reddit  Best AUC Score (contextual):  60.961872079239775\n",
      "Dataset Name:  reddit  Best AUC Score (structural):  61.423642814847526\n",
      "Dataset Name:  reddit  Best AUC Score (joint-type):  54.56517636749886\n",
      "Dataset Name:  reddit  Best AUC Score (structure type):  61.197010949584794\n",
      "===========================================================================================\n"
     ]
    },
    {
     "name": "stderr",
     "output_type": "stream",
     "text": [
      " 77%|███████▋  | 385/500 [03:31<01:02,  1.85it/s]"
     ]
    },
    {
     "name": "stdout",
     "output_type": "stream",
     "text": [
      "Dataset Name:  reddit , AUC Score(benchmark/combined):  57.574028842660205\n",
      "Dataset Name:  reddit , AUC Score (contextual):  57.46285382399828\n",
      "Dataset Name:  reddit , AUC Score (structural):  49.67857633066177\n",
      "Dataset Name:  reddit , AUC Score (joint-type):  54.07478461567261\n",
      "Dataset Name:  reddit , AUC Score (structure type):  54.07478461567261\n",
      "===========================================================================================\n",
      "Dataset Name:  reddit  Best AUC Score(benchmark/combined):  59.33976946045843\n",
      "Dataset Name:  reddit  Best AUC Score (contextual):  60.961872079239775\n",
      "Dataset Name:  reddit  Best AUC Score (structural):  61.423642814847526\n",
      "Dataset Name:  reddit  Best AUC Score (joint-type):  54.56517636749886\n",
      "Dataset Name:  reddit  Best AUC Score (structure type):  61.197010949584794\n",
      "===========================================================================================\n"
     ]
    },
    {
     "name": "stderr",
     "output_type": "stream",
     "text": [
      " 77%|███████▋  | 386/500 [03:31<01:01,  1.85it/s]"
     ]
    },
    {
     "name": "stdout",
     "output_type": "stream",
     "text": [
      "Dataset Name:  reddit , AUC Score(benchmark/combined):  47.62577106408645\n",
      "Dataset Name:  reddit , AUC Score (contextual):  51.7981789785706\n",
      "Dataset Name:  reddit , AUC Score (structural):  46.60976737000059\n",
      "Dataset Name:  reddit , AUC Score (joint-type):  44.466334072487726\n",
      "Dataset Name:  reddit , AUC Score (structure type):  44.466334072487726\n",
      "===========================================================================================\n",
      "Dataset Name:  reddit  Best AUC Score(benchmark/combined):  59.33976946045843\n",
      "Dataset Name:  reddit  Best AUC Score (contextual):  60.961872079239775\n",
      "Dataset Name:  reddit  Best AUC Score (structural):  61.423642814847526\n",
      "Dataset Name:  reddit  Best AUC Score (joint-type):  54.56517636749886\n",
      "Dataset Name:  reddit  Best AUC Score (structure type):  61.197010949584794\n",
      "===========================================================================================\n"
     ]
    },
    {
     "name": "stderr",
     "output_type": "stream",
     "text": [
      " 77%|███████▋  | 387/500 [03:32<01:00,  1.86it/s]"
     ]
    },
    {
     "name": "stdout",
     "output_type": "stream",
     "text": [
      "Dataset Name:  reddit , AUC Score(benchmark/combined):  47.85088884016934\n",
      "Dataset Name:  reddit , AUC Score (contextual):  50.138344810210356\n",
      "Dataset Name:  reddit , AUC Score (structural):  49.81194752613051\n",
      "Dataset Name:  reddit , AUC Score (joint-type):  48.12294753116868\n",
      "Dataset Name:  reddit , AUC Score (structure type):  48.12294753116868\n",
      "===========================================================================================\n",
      "Dataset Name:  reddit  Best AUC Score(benchmark/combined):  59.33976946045843\n",
      "Dataset Name:  reddit  Best AUC Score (contextual):  60.961872079239775\n",
      "Dataset Name:  reddit  Best AUC Score (structural):  61.423642814847526\n",
      "Dataset Name:  reddit  Best AUC Score (joint-type):  54.56517636749886\n",
      "Dataset Name:  reddit  Best AUC Score (structure type):  61.197010949584794\n",
      "===========================================================================================\n"
     ]
    },
    {
     "name": "stderr",
     "output_type": "stream",
     "text": [
      " 78%|███████▊  | 388/500 [03:33<01:00,  1.85it/s]"
     ]
    },
    {
     "name": "stdout",
     "output_type": "stream",
     "text": [
      "Dataset Name:  reddit , AUC Score(benchmark/combined):  54.857819539353216\n",
      "Dataset Name:  reddit , AUC Score (contextual):  55.172436472437525\n",
      "Dataset Name:  reddit , AUC Score (structural):  49.76775790512982\n",
      "Dataset Name:  reddit , AUC Score (joint-type):  55.4883857647263\n",
      "Dataset Name:  reddit , AUC Score (structure type):  55.4883857647263\n",
      "===========================================================================================\n",
      "Dataset Name:  reddit  Best AUC Score(benchmark/combined):  59.33976946045843\n",
      "Dataset Name:  reddit  Best AUC Score (contextual):  60.961872079239775\n",
      "Dataset Name:  reddit  Best AUC Score (structural):  61.423642814847526\n",
      "Dataset Name:  reddit  Best AUC Score (joint-type):  55.4883857647263\n",
      "Dataset Name:  reddit  Best AUC Score (structure type):  61.197010949584794\n",
      "===========================================================================================\n"
     ]
    },
    {
     "name": "stderr",
     "output_type": "stream",
     "text": [
      " 78%|███████▊  | 389/500 [03:33<01:00,  1.84it/s]"
     ]
    },
    {
     "name": "stdout",
     "output_type": "stream",
     "text": [
      "Dataset Name:  reddit , AUC Score(benchmark/combined):  49.24096569697606\n",
      "Dataset Name:  reddit , AUC Score (contextual):  51.217429270615\n",
      "Dataset Name:  reddit , AUC Score (structural):  51.23139633035675\n",
      "Dataset Name:  reddit , AUC Score (joint-type):  49.428281028421274\n",
      "Dataset Name:  reddit , AUC Score (structure type):  49.428281028421274\n",
      "===========================================================================================\n",
      "Dataset Name:  reddit  Best AUC Score(benchmark/combined):  59.33976946045843\n",
      "Dataset Name:  reddit  Best AUC Score (contextual):  60.961872079239775\n",
      "Dataset Name:  reddit  Best AUC Score (structural):  61.423642814847526\n",
      "Dataset Name:  reddit  Best AUC Score (joint-type):  55.4883857647263\n",
      "Dataset Name:  reddit  Best AUC Score (structure type):  61.197010949584794\n",
      "===========================================================================================\n"
     ]
    },
    {
     "name": "stderr",
     "output_type": "stream",
     "text": [
      " 78%|███████▊  | 390/500 [03:34<00:59,  1.84it/s]"
     ]
    },
    {
     "name": "stdout",
     "output_type": "stream",
     "text": [
      "Dataset Name:  reddit , AUC Score(benchmark/combined):  45.41663964790175\n",
      "Dataset Name:  reddit , AUC Score (contextual):  47.42183859721549\n",
      "Dataset Name:  reddit , AUC Score (structural):  45.841288691820125\n",
      "Dataset Name:  reddit , AUC Score (joint-type):  44.74904418382633\n",
      "Dataset Name:  reddit , AUC Score (structure type):  44.74904418382633\n",
      "===========================================================================================\n",
      "Dataset Name:  reddit  Best AUC Score(benchmark/combined):  59.33976946045843\n",
      "Dataset Name:  reddit  Best AUC Score (contextual):  60.961872079239775\n",
      "Dataset Name:  reddit  Best AUC Score (structural):  61.423642814847526\n",
      "Dataset Name:  reddit  Best AUC Score (joint-type):  55.4883857647263\n",
      "Dataset Name:  reddit  Best AUC Score (structure type):  61.197010949584794\n",
      "===========================================================================================\n"
     ]
    },
    {
     "name": "stderr",
     "output_type": "stream",
     "text": [
      " 78%|███████▊  | 391/500 [03:34<00:58,  1.85it/s]"
     ]
    },
    {
     "name": "stdout",
     "output_type": "stream",
     "text": [
      "Dataset Name:  reddit , AUC Score(benchmark/combined):  48.43138057139799\n",
      "Dataset Name:  reddit , AUC Score (contextual):  50.899456283900044\n",
      "Dataset Name:  reddit , AUC Score (structural):  48.25956682003816\n",
      "Dataset Name:  reddit , AUC Score (joint-type):  50.083097952375375\n",
      "Dataset Name:  reddit , AUC Score (structure type):  50.083097952375375\n",
      "===========================================================================================\n",
      "Dataset Name:  reddit  Best AUC Score(benchmark/combined):  59.33976946045843\n",
      "Dataset Name:  reddit  Best AUC Score (contextual):  60.961872079239775\n",
      "Dataset Name:  reddit  Best AUC Score (structural):  61.423642814847526\n",
      "Dataset Name:  reddit  Best AUC Score (joint-type):  55.4883857647263\n",
      "Dataset Name:  reddit  Best AUC Score (structure type):  61.197010949584794\n",
      "===========================================================================================\n"
     ]
    },
    {
     "name": "stderr",
     "output_type": "stream",
     "text": [
      " 78%|███████▊  | 392/500 [03:35<00:58,  1.85it/s]"
     ]
    },
    {
     "name": "stdout",
     "output_type": "stream",
     "text": [
      "Dataset Name:  reddit , AUC Score(benchmark/combined):  54.051270808308814\n",
      "Dataset Name:  reddit , AUC Score (contextual):  57.26888271324806\n",
      "Dataset Name:  reddit , AUC Score (structural):  52.695427633258475\n",
      "Dataset Name:  reddit , AUC Score (joint-type):  52.027564741779116\n",
      "Dataset Name:  reddit , AUC Score (structure type):  52.027564741779116\n",
      "===========================================================================================\n",
      "Dataset Name:  reddit  Best AUC Score(benchmark/combined):  59.33976946045843\n",
      "Dataset Name:  reddit  Best AUC Score (contextual):  60.961872079239775\n",
      "Dataset Name:  reddit  Best AUC Score (structural):  61.423642814847526\n",
      "Dataset Name:  reddit  Best AUC Score (joint-type):  55.4883857647263\n",
      "Dataset Name:  reddit  Best AUC Score (structure type):  61.197010949584794\n",
      "===========================================================================================\n"
     ]
    },
    {
     "name": "stderr",
     "output_type": "stream",
     "text": [
      " 79%|███████▊  | 393/500 [03:35<01:03,  1.69it/s]"
     ]
    },
    {
     "name": "stdout",
     "output_type": "stream",
     "text": [
      "Dataset Name:  reddit , AUC Score(benchmark/combined):  49.70207308550178\n",
      "Dataset Name:  reddit , AUC Score (contextual):  48.615717123945714\n",
      "Dataset Name:  reddit , AUC Score (structural):  46.394563236065444\n",
      "Dataset Name:  reddit , AUC Score (joint-type):  49.69682527877655\n",
      "Dataset Name:  reddit , AUC Score (structure type):  49.69682527877655\n",
      "===========================================================================================\n",
      "Dataset Name:  reddit  Best AUC Score(benchmark/combined):  59.33976946045843\n",
      "Dataset Name:  reddit  Best AUC Score (contextual):  60.961872079239775\n",
      "Dataset Name:  reddit  Best AUC Score (structural):  61.423642814847526\n",
      "Dataset Name:  reddit  Best AUC Score (joint-type):  55.4883857647263\n",
      "Dataset Name:  reddit  Best AUC Score (structure type):  61.197010949584794\n",
      "===========================================================================================\n"
     ]
    },
    {
     "name": "stderr",
     "output_type": "stream",
     "text": [
      " 79%|███████▉  | 394/500 [03:36<01:01,  1.72it/s]"
     ]
    },
    {
     "name": "stdout",
     "output_type": "stream",
     "text": [
      "Dataset Name:  reddit , AUC Score(benchmark/combined):  43.53286562564652\n",
      "Dataset Name:  reddit , AUC Score (contextual):  50.34744303679632\n",
      "Dataset Name:  reddit , AUC Score (structural):  56.17295867722562\n",
      "Dataset Name:  reddit , AUC Score (joint-type):  48.99010059279069\n",
      "Dataset Name:  reddit , AUC Score (structure type):  48.99010059279069\n",
      "===========================================================================================\n",
      "Dataset Name:  reddit  Best AUC Score(benchmark/combined):  59.33976946045843\n",
      "Dataset Name:  reddit  Best AUC Score (contextual):  60.961872079239775\n",
      "Dataset Name:  reddit  Best AUC Score (structural):  61.423642814847526\n",
      "Dataset Name:  reddit  Best AUC Score (joint-type):  55.4883857647263\n",
      "Dataset Name:  reddit  Best AUC Score (structure type):  61.197010949584794\n",
      "===========================================================================================\n"
     ]
    },
    {
     "name": "stderr",
     "output_type": "stream",
     "text": [
      " 79%|███████▉  | 395/500 [03:37<00:59,  1.76it/s]"
     ]
    },
    {
     "name": "stdout",
     "output_type": "stream",
     "text": [
      "Dataset Name:  reddit , AUC Score(benchmark/combined):  47.80031228545813\n",
      "Dataset Name:  reddit , AUC Score (contextual):  59.77563299896842\n",
      "Dataset Name:  reddit , AUC Score (structural):  47.31018372087318\n",
      "Dataset Name:  reddit , AUC Score (joint-type):  46.14782177120819\n",
      "Dataset Name:  reddit , AUC Score (structure type):  46.14782177120819\n",
      "===========================================================================================\n",
      "Dataset Name:  reddit  Best AUC Score(benchmark/combined):  59.33976946045843\n",
      "Dataset Name:  reddit  Best AUC Score (contextual):  60.961872079239775\n",
      "Dataset Name:  reddit  Best AUC Score (structural):  61.423642814847526\n",
      "Dataset Name:  reddit  Best AUC Score (joint-type):  55.4883857647263\n",
      "Dataset Name:  reddit  Best AUC Score (structure type):  61.197010949584794\n",
      "===========================================================================================\n"
     ]
    },
    {
     "name": "stderr",
     "output_type": "stream",
     "text": [
      " 79%|███████▉  | 396/500 [03:37<00:58,  1.79it/s]"
     ]
    },
    {
     "name": "stdout",
     "output_type": "stream",
     "text": [
      "Dataset Name:  reddit , AUC Score(benchmark/combined):  52.842374069396534\n",
      "Dataset Name:  reddit , AUC Score (contextual):  56.90623667207498\n",
      "Dataset Name:  reddit , AUC Score (structural):  51.95457140526874\n",
      "Dataset Name:  reddit , AUC Score (joint-type):  51.34679393680912\n",
      "Dataset Name:  reddit , AUC Score (structure type):  51.34679393680912\n",
      "===========================================================================================\n",
      "Dataset Name:  reddit  Best AUC Score(benchmark/combined):  59.33976946045843\n",
      "Dataset Name:  reddit  Best AUC Score (contextual):  60.961872079239775\n",
      "Dataset Name:  reddit  Best AUC Score (structural):  61.423642814847526\n",
      "Dataset Name:  reddit  Best AUC Score (joint-type):  55.4883857647263\n",
      "Dataset Name:  reddit  Best AUC Score (structure type):  61.197010949584794\n",
      "===========================================================================================\n"
     ]
    },
    {
     "name": "stderr",
     "output_type": "stream",
     "text": [
      " 79%|███████▉  | 397/500 [03:38<00:56,  1.81it/s]"
     ]
    },
    {
     "name": "stdout",
     "output_type": "stream",
     "text": [
      "Dataset Name:  reddit , AUC Score(benchmark/combined):  53.089145455649586\n",
      "Dataset Name:  reddit , AUC Score (contextual):  45.89303864295099\n",
      "Dataset Name:  reddit , AUC Score (structural):  47.65723395550569\n",
      "Dataset Name:  reddit , AUC Score (joint-type):  54.152975109064485\n",
      "Dataset Name:  reddit , AUC Score (structure type):  54.152975109064485\n",
      "===========================================================================================\n",
      "Dataset Name:  reddit  Best AUC Score(benchmark/combined):  59.33976946045843\n",
      "Dataset Name:  reddit  Best AUC Score (contextual):  60.961872079239775\n",
      "Dataset Name:  reddit  Best AUC Score (structural):  61.423642814847526\n",
      "Dataset Name:  reddit  Best AUC Score (joint-type):  55.4883857647263\n",
      "Dataset Name:  reddit  Best AUC Score (structure type):  61.197010949584794\n",
      "===========================================================================================\n"
     ]
    },
    {
     "name": "stderr",
     "output_type": "stream",
     "text": [
      " 80%|███████▉  | 398/500 [03:38<00:56,  1.82it/s]"
     ]
    },
    {
     "name": "stdout",
     "output_type": "stream",
     "text": [
      "Dataset Name:  reddit , AUC Score(benchmark/combined):  49.07346222056164\n",
      "Dataset Name:  reddit , AUC Score (contextual):  47.89353647177983\n",
      "Dataset Name:  reddit , AUC Score (structural):  52.8575883079604\n",
      "Dataset Name:  reddit , AUC Score (joint-type):  51.95716547192807\n",
      "Dataset Name:  reddit , AUC Score (structure type):  51.95716547192807\n",
      "===========================================================================================\n",
      "Dataset Name:  reddit  Best AUC Score(benchmark/combined):  59.33976946045843\n",
      "Dataset Name:  reddit  Best AUC Score (contextual):  60.961872079239775\n",
      "Dataset Name:  reddit  Best AUC Score (structural):  61.423642814847526\n",
      "Dataset Name:  reddit  Best AUC Score (joint-type):  55.4883857647263\n",
      "Dataset Name:  reddit  Best AUC Score (structure type):  61.197010949584794\n",
      "===========================================================================================\n"
     ]
    },
    {
     "name": "stderr",
     "output_type": "stream",
     "text": [
      " 80%|███████▉  | 399/500 [03:39<00:55,  1.82it/s]"
     ]
    },
    {
     "name": "stdout",
     "output_type": "stream",
     "text": [
      "Dataset Name:  reddit , AUC Score(benchmark/combined):  49.00709898749109\n",
      "Dataset Name:  reddit , AUC Score (contextual):  59.92999029132599\n",
      "Dataset Name:  reddit , AUC Score (structural):  48.59104451088553\n",
      "Dataset Name:  reddit , AUC Score (joint-type):  46.344980200679665\n",
      "Dataset Name:  reddit , AUC Score (structure type):  46.344980200679665\n",
      "===========================================================================================\n",
      "Dataset Name:  reddit  Best AUC Score(benchmark/combined):  59.33976946045843\n",
      "Dataset Name:  reddit  Best AUC Score (contextual):  60.961872079239775\n",
      "Dataset Name:  reddit  Best AUC Score (structural):  61.423642814847526\n",
      "Dataset Name:  reddit  Best AUC Score (joint-type):  55.4883857647263\n",
      "Dataset Name:  reddit  Best AUC Score (structure type):  61.197010949584794\n",
      "===========================================================================================\n"
     ]
    },
    {
     "name": "stderr",
     "output_type": "stream",
     "text": [
      " 80%|████████  | 400/500 [03:39<00:54,  1.82it/s]"
     ]
    },
    {
     "name": "stdout",
     "output_type": "stream",
     "text": [
      "Dataset Name:  reddit , AUC Score(benchmark/combined):  52.3264443202439\n",
      "Dataset Name:  reddit , AUC Score (contextual):  58.63902502449936\n",
      "Dataset Name:  reddit , AUC Score (structural):  46.89335542731497\n",
      "Dataset Name:  reddit , AUC Score (joint-type):  48.981803445643315\n",
      "Dataset Name:  reddit , AUC Score (structure type):  48.981803445643315\n",
      "===========================================================================================\n",
      "Dataset Name:  reddit  Best AUC Score(benchmark/combined):  59.33976946045843\n",
      "Dataset Name:  reddit  Best AUC Score (contextual):  60.961872079239775\n",
      "Dataset Name:  reddit  Best AUC Score (structural):  61.423642814847526\n",
      "Dataset Name:  reddit  Best AUC Score (joint-type):  55.4883857647263\n",
      "Dataset Name:  reddit  Best AUC Score (structure type):  61.197010949584794\n",
      "===========================================================================================\n"
     ]
    },
    {
     "name": "stderr",
     "output_type": "stream",
     "text": [
      " 80%|████████  | 401/500 [03:40<00:54,  1.83it/s]"
     ]
    },
    {
     "name": "stdout",
     "output_type": "stream",
     "text": [
      "Dataset Name:  reddit , AUC Score(benchmark/combined):  55.27222306280603\n",
      "Dataset Name:  reddit , AUC Score (contextual):  53.05165530615208\n",
      "Dataset Name:  reddit , AUC Score (structural):  48.36338598888802\n",
      "Dataset Name:  reddit , AUC Score (joint-type):  49.896007402674215\n",
      "Dataset Name:  reddit , AUC Score (structure type):  49.896007402674215\n",
      "===========================================================================================\n",
      "Dataset Name:  reddit  Best AUC Score(benchmark/combined):  59.33976946045843\n",
      "Dataset Name:  reddit  Best AUC Score (contextual):  60.961872079239775\n",
      "Dataset Name:  reddit  Best AUC Score (structural):  61.423642814847526\n",
      "Dataset Name:  reddit  Best AUC Score (joint-type):  55.4883857647263\n",
      "Dataset Name:  reddit  Best AUC Score (structure type):  61.197010949584794\n",
      "===========================================================================================\n"
     ]
    },
    {
     "name": "stderr",
     "output_type": "stream",
     "text": [
      " 80%|████████  | 402/500 [03:40<00:53,  1.84it/s]"
     ]
    },
    {
     "name": "stdout",
     "output_type": "stream",
     "text": [
      "Dataset Name:  reddit , AUC Score(benchmark/combined):  51.81663882447272\n",
      "Dataset Name:  reddit , AUC Score (contextual):  47.62752183945729\n",
      "Dataset Name:  reddit , AUC Score (structural):  51.2471379607361\n",
      "Dataset Name:  reddit , AUC Score (joint-type):  54.17531163629354\n",
      "Dataset Name:  reddit , AUC Score (structure type):  54.17531163629354\n",
      "===========================================================================================\n",
      "Dataset Name:  reddit  Best AUC Score(benchmark/combined):  59.33976946045843\n",
      "Dataset Name:  reddit  Best AUC Score (contextual):  60.961872079239775\n",
      "Dataset Name:  reddit  Best AUC Score (structural):  61.423642814847526\n",
      "Dataset Name:  reddit  Best AUC Score (joint-type):  55.4883857647263\n",
      "Dataset Name:  reddit  Best AUC Score (structure type):  61.197010949584794\n",
      "===========================================================================================\n"
     ]
    },
    {
     "name": "stderr",
     "output_type": "stream",
     "text": [
      " 81%|████████  | 403/500 [03:41<00:52,  1.84it/s]"
     ]
    },
    {
     "name": "stdout",
     "output_type": "stream",
     "text": [
      "Dataset Name:  reddit , AUC Score(benchmark/combined):  51.24645282214859\n",
      "Dataset Name:  reddit , AUC Score (contextual):  50.80388731462327\n",
      "Dataset Name:  reddit , AUC Score (structural):  50.708620366115575\n",
      "Dataset Name:  reddit , AUC Score (joint-type):  52.170715826251666\n",
      "Dataset Name:  reddit , AUC Score (structure type):  52.170715826251666\n",
      "===========================================================================================\n",
      "Dataset Name:  reddit  Best AUC Score(benchmark/combined):  59.33976946045843\n",
      "Dataset Name:  reddit  Best AUC Score (contextual):  60.961872079239775\n",
      "Dataset Name:  reddit  Best AUC Score (structural):  61.423642814847526\n",
      "Dataset Name:  reddit  Best AUC Score (joint-type):  55.4883857647263\n",
      "Dataset Name:  reddit  Best AUC Score (structure type):  61.197010949584794\n",
      "===========================================================================================\n"
     ]
    },
    {
     "name": "stderr",
     "output_type": "stream",
     "text": [
      " 81%|████████  | 404/500 [03:41<00:52,  1.84it/s]"
     ]
    },
    {
     "name": "stdout",
     "output_type": "stream",
     "text": [
      "Dataset Name:  reddit , AUC Score(benchmark/combined):  52.7066626730359\n",
      "Dataset Name:  reddit , AUC Score (contextual):  58.380902800438946\n",
      "Dataset Name:  reddit , AUC Score (structural):  46.33330581531898\n",
      "Dataset Name:  reddit , AUC Score (joint-type):  49.3901343884876\n",
      "Dataset Name:  reddit , AUC Score (structure type):  49.3901343884876\n",
      "===========================================================================================\n",
      "Dataset Name:  reddit  Best AUC Score(benchmark/combined):  59.33976946045843\n",
      "Dataset Name:  reddit  Best AUC Score (contextual):  60.961872079239775\n",
      "Dataset Name:  reddit  Best AUC Score (structural):  61.423642814847526\n",
      "Dataset Name:  reddit  Best AUC Score (joint-type):  55.4883857647263\n",
      "Dataset Name:  reddit  Best AUC Score (structure type):  61.197010949584794\n",
      "===========================================================================================\n"
     ]
    },
    {
     "name": "stderr",
     "output_type": "stream",
     "text": [
      " 81%|████████  | 405/500 [03:42<00:51,  1.85it/s]"
     ]
    },
    {
     "name": "stdout",
     "output_type": "stream",
     "text": [
      "Dataset Name:  reddit , AUC Score(benchmark/combined):  52.83694458425583\n",
      "Dataset Name:  reddit , AUC Score (contextual):  57.85631061281009\n",
      "Dataset Name:  reddit , AUC Score (structural):  48.976014900839\n",
      "Dataset Name:  reddit , AUC Score (joint-type):  47.420042568412256\n",
      "Dataset Name:  reddit , AUC Score (structure type):  47.420042568412256\n",
      "===========================================================================================\n",
      "Dataset Name:  reddit  Best AUC Score(benchmark/combined):  59.33976946045843\n",
      "Dataset Name:  reddit  Best AUC Score (contextual):  60.961872079239775\n",
      "Dataset Name:  reddit  Best AUC Score (structural):  61.423642814847526\n",
      "Dataset Name:  reddit  Best AUC Score (joint-type):  55.4883857647263\n",
      "Dataset Name:  reddit  Best AUC Score (structure type):  61.197010949584794\n",
      "===========================================================================================\n"
     ]
    },
    {
     "name": "stderr",
     "output_type": "stream",
     "text": [
      " 81%|████████  | 406/500 [03:42<00:50,  1.85it/s]"
     ]
    },
    {
     "name": "stdout",
     "output_type": "stream",
     "text": [
      "Dataset Name:  reddit , AUC Score(benchmark/combined):  53.344395587655555\n",
      "Dataset Name:  reddit , AUC Score (contextual):  55.533665927512274\n",
      "Dataset Name:  reddit , AUC Score (structural):  49.927572917764905\n",
      "Dataset Name:  reddit , AUC Score (joint-type):  49.79090177341402\n",
      "Dataset Name:  reddit , AUC Score (structure type):  49.79090177341402\n",
      "===========================================================================================\n",
      "Dataset Name:  reddit  Best AUC Score(benchmark/combined):  59.33976946045843\n",
      "Dataset Name:  reddit  Best AUC Score (contextual):  60.961872079239775\n",
      "Dataset Name:  reddit  Best AUC Score (structural):  61.423642814847526\n",
      "Dataset Name:  reddit  Best AUC Score (joint-type):  55.4883857647263\n",
      "Dataset Name:  reddit  Best AUC Score (structure type):  61.197010949584794\n",
      "===========================================================================================\n"
     ]
    },
    {
     "name": "stderr",
     "output_type": "stream",
     "text": [
      " 81%|████████▏ | 407/500 [03:43<00:50,  1.85it/s]"
     ]
    },
    {
     "name": "stdout",
     "output_type": "stream",
     "text": [
      "Dataset Name:  reddit , AUC Score(benchmark/combined):  52.443474170575385\n",
      "Dataset Name:  reddit , AUC Score (contextual):  49.294261865046906\n",
      "Dataset Name:  reddit , AUC Score (structural):  50.85884717423147\n",
      "Dataset Name:  reddit , AUC Score (joint-type):  52.659488622536976\n",
      "Dataset Name:  reddit , AUC Score (structure type):  52.659488622536976\n",
      "===========================================================================================\n",
      "Dataset Name:  reddit  Best AUC Score(benchmark/combined):  59.33976946045843\n",
      "Dataset Name:  reddit  Best AUC Score (contextual):  60.961872079239775\n",
      "Dataset Name:  reddit  Best AUC Score (structural):  61.423642814847526\n",
      "Dataset Name:  reddit  Best AUC Score (joint-type):  55.4883857647263\n",
      "Dataset Name:  reddit  Best AUC Score (structure type):  61.197010949584794\n",
      "===========================================================================================\n"
     ]
    },
    {
     "name": "stderr",
     "output_type": "stream",
     "text": [
      " 82%|████████▏ | 408/500 [03:44<00:49,  1.85it/s]"
     ]
    },
    {
     "name": "stdout",
     "output_type": "stream",
     "text": [
      "Dataset Name:  reddit , AUC Score(benchmark/combined):  50.49117541405613\n",
      "Dataset Name:  reddit , AUC Score (contextual):  49.53386728510768\n",
      "Dataset Name:  reddit , AUC Score (structural):  47.23696425244164\n",
      "Dataset Name:  reddit , AUC Score (joint-type):  53.278030823901645\n",
      "Dataset Name:  reddit , AUC Score (structure type):  53.278030823901645\n",
      "===========================================================================================\n",
      "Dataset Name:  reddit  Best AUC Score(benchmark/combined):  59.33976946045843\n",
      "Dataset Name:  reddit  Best AUC Score (contextual):  60.961872079239775\n",
      "Dataset Name:  reddit  Best AUC Score (structural):  61.423642814847526\n",
      "Dataset Name:  reddit  Best AUC Score (joint-type):  55.4883857647263\n",
      "Dataset Name:  reddit  Best AUC Score (structure type):  61.197010949584794\n",
      "===========================================================================================\n"
     ]
    },
    {
     "name": "stderr",
     "output_type": "stream",
     "text": [
      " 82%|████████▏ | 409/500 [03:44<00:49,  1.84it/s]"
     ]
    },
    {
     "name": "stdout",
     "output_type": "stream",
     "text": [
      "Dataset Name:  reddit , AUC Score(benchmark/combined):  54.02915401931148\n",
      "Dataset Name:  reddit , AUC Score (contextual):  57.13701372520153\n",
      "Dataset Name:  reddit , AUC Score (structural):  47.40576406253419\n",
      "Dataset Name:  reddit , AUC Score (joint-type):  48.636763545978084\n",
      "Dataset Name:  reddit , AUC Score (structure type):  48.636763545978084\n",
      "===========================================================================================\n",
      "Dataset Name:  reddit  Best AUC Score(benchmark/combined):  59.33976946045843\n",
      "Dataset Name:  reddit  Best AUC Score (contextual):  60.961872079239775\n",
      "Dataset Name:  reddit  Best AUC Score (structural):  61.423642814847526\n",
      "Dataset Name:  reddit  Best AUC Score (joint-type):  55.4883857647263\n",
      "Dataset Name:  reddit  Best AUC Score (structure type):  61.197010949584794\n",
      "===========================================================================================\n"
     ]
    },
    {
     "name": "stderr",
     "output_type": "stream",
     "text": [
      " 82%|████████▏ | 410/500 [03:45<00:53,  1.69it/s]"
     ]
    },
    {
     "name": "stdout",
     "output_type": "stream",
     "text": [
      "Dataset Name:  reddit , AUC Score(benchmark/combined):  53.62773236909795\n",
      "Dataset Name:  reddit , AUC Score (contextual):  58.31659991004678\n",
      "Dataset Name:  reddit , AUC Score (structural):  49.86095114193129\n",
      "Dataset Name:  reddit , AUC Score (joint-type):  47.5123483304268\n",
      "Dataset Name:  reddit , AUC Score (structure type):  47.5123483304268\n",
      "===========================================================================================\n",
      "Dataset Name:  reddit  Best AUC Score(benchmark/combined):  59.33976946045843\n",
      "Dataset Name:  reddit  Best AUC Score (contextual):  60.961872079239775\n",
      "Dataset Name:  reddit  Best AUC Score (structural):  61.423642814847526\n",
      "Dataset Name:  reddit  Best AUC Score (joint-type):  55.4883857647263\n",
      "Dataset Name:  reddit  Best AUC Score (structure type):  61.197010949584794\n",
      "===========================================================================================\n"
     ]
    },
    {
     "name": "stderr",
     "output_type": "stream",
     "text": [
      " 82%|████████▏ | 411/500 [03:45<00:51,  1.73it/s]"
     ]
    },
    {
     "name": "stdout",
     "output_type": "stream",
     "text": [
      "Dataset Name:  reddit , AUC Score(benchmark/combined):  54.84204572707239\n",
      "Dataset Name:  reddit , AUC Score (contextual):  57.81082808058149\n",
      "Dataset Name:  reddit , AUC Score (structural):  50.027839610424486\n",
      "Dataset Name:  reddit , AUC Score (joint-type):  48.05965648798963\n",
      "Dataset Name:  reddit , AUC Score (structure type):  48.05965648798963\n",
      "===========================================================================================\n",
      "Dataset Name:  reddit  Best AUC Score(benchmark/combined):  59.33976946045843\n",
      "Dataset Name:  reddit  Best AUC Score (contextual):  60.961872079239775\n",
      "Dataset Name:  reddit  Best AUC Score (structural):  61.423642814847526\n",
      "Dataset Name:  reddit  Best AUC Score (joint-type):  55.4883857647263\n",
      "Dataset Name:  reddit  Best AUC Score (structure type):  61.197010949584794\n",
      "===========================================================================================\n"
     ]
    },
    {
     "name": "stderr",
     "output_type": "stream",
     "text": [
      " 82%|████████▏ | 412/500 [03:46<00:49,  1.77it/s]"
     ]
    },
    {
     "name": "stdout",
     "output_type": "stream",
     "text": [
      "Dataset Name:  reddit , AUC Score(benchmark/combined):  50.302880354733226\n",
      "Dataset Name:  reddit , AUC Score (contextual):  50.99578413858665\n",
      "Dataset Name:  reddit , AUC Score (structural):  49.32422387595542\n",
      "Dataset Name:  reddit , AUC Score (joint-type):  50.74163341483763\n",
      "Dataset Name:  reddit , AUC Score (structure type):  50.74163341483763\n",
      "===========================================================================================\n",
      "Dataset Name:  reddit  Best AUC Score(benchmark/combined):  59.33976946045843\n",
      "Dataset Name:  reddit  Best AUC Score (contextual):  60.961872079239775\n",
      "Dataset Name:  reddit  Best AUC Score (structural):  61.423642814847526\n",
      "Dataset Name:  reddit  Best AUC Score (joint-type):  55.4883857647263\n",
      "Dataset Name:  reddit  Best AUC Score (structure type):  61.197010949584794\n",
      "===========================================================================================\n"
     ]
    },
    {
     "name": "stderr",
     "output_type": "stream",
     "text": [
      " 83%|████████▎ | 413/500 [03:46<00:48,  1.79it/s]"
     ]
    },
    {
     "name": "stdout",
     "output_type": "stream",
     "text": [
      "Dataset Name:  reddit , AUC Score(benchmark/combined):  50.83430086243897\n",
      "Dataset Name:  reddit , AUC Score (contextual):  50.814941745426324\n",
      "Dataset Name:  reddit , AUC Score (structural):  47.218492370879176\n",
      "Dataset Name:  reddit , AUC Score (joint-type):  51.68459912890074\n",
      "Dataset Name:  reddit , AUC Score (structure type):  51.68459912890074\n",
      "===========================================================================================\n",
      "Dataset Name:  reddit  Best AUC Score(benchmark/combined):  59.33976946045843\n",
      "Dataset Name:  reddit  Best AUC Score (contextual):  60.961872079239775\n",
      "Dataset Name:  reddit  Best AUC Score (structural):  61.423642814847526\n",
      "Dataset Name:  reddit  Best AUC Score (joint-type):  55.4883857647263\n",
      "Dataset Name:  reddit  Best AUC Score (structure type):  61.197010949584794\n",
      "===========================================================================================\n"
     ]
    },
    {
     "name": "stderr",
     "output_type": "stream",
     "text": [
      " 83%|████████▎ | 414/500 [03:47<00:47,  1.81it/s]"
     ]
    },
    {
     "name": "stdout",
     "output_type": "stream",
     "text": [
      "Dataset Name:  reddit , AUC Score(benchmark/combined):  51.36807586251617\n",
      "Dataset Name:  reddit , AUC Score (contextual):  56.75279004220921\n",
      "Dataset Name:  reddit , AUC Score (structural):  47.11774328411256\n",
      "Dataset Name:  reddit , AUC Score (joint-type):  48.98559787269242\n",
      "Dataset Name:  reddit , AUC Score (structure type):  48.98559787269242\n",
      "===========================================================================================\n",
      "Dataset Name:  reddit  Best AUC Score(benchmark/combined):  59.33976946045843\n",
      "Dataset Name:  reddit  Best AUC Score (contextual):  60.961872079239775\n",
      "Dataset Name:  reddit  Best AUC Score (structural):  61.423642814847526\n",
      "Dataset Name:  reddit  Best AUC Score (joint-type):  55.4883857647263\n",
      "Dataset Name:  reddit  Best AUC Score (structure type):  61.197010949584794\n",
      "===========================================================================================\n"
     ]
    },
    {
     "name": "stderr",
     "output_type": "stream",
     "text": [
      " 83%|████████▎ | 415/500 [03:48<00:46,  1.82it/s]"
     ]
    },
    {
     "name": "stdout",
     "output_type": "stream",
     "text": [
      "Dataset Name:  reddit , AUC Score(benchmark/combined):  55.573636684586546\n",
      "Dataset Name:  reddit , AUC Score (contextual):  58.866488278003004\n",
      "Dataset Name:  reddit , AUC Score (structural):  50.38780507697418\n",
      "Dataset Name:  reddit , AUC Score (joint-type):  48.05651976162903\n",
      "Dataset Name:  reddit , AUC Score (structure type):  48.05651976162903\n",
      "===========================================================================================\n",
      "Dataset Name:  reddit  Best AUC Score(benchmark/combined):  59.33976946045843\n",
      "Dataset Name:  reddit  Best AUC Score (contextual):  60.961872079239775\n",
      "Dataset Name:  reddit  Best AUC Score (structural):  61.423642814847526\n",
      "Dataset Name:  reddit  Best AUC Score (joint-type):  55.4883857647263\n",
      "Dataset Name:  reddit  Best AUC Score (structure type):  61.197010949584794\n",
      "===========================================================================================\n"
     ]
    },
    {
     "name": "stderr",
     "output_type": "stream",
     "text": [
      " 83%|████████▎ | 416/500 [03:48<00:45,  1.83it/s]"
     ]
    },
    {
     "name": "stdout",
     "output_type": "stream",
     "text": [
      "Dataset Name:  reddit , AUC Score(benchmark/combined):  53.38094811676635\n",
      "Dataset Name:  reddit , AUC Score (contextual):  56.94514219741848\n",
      "Dataset Name:  reddit , AUC Score (structural):  51.863664152912634\n",
      "Dataset Name:  reddit , AUC Score (joint-type):  46.70967523245926\n",
      "Dataset Name:  reddit , AUC Score (structure type):  46.70967523245926\n",
      "===========================================================================================\n",
      "Dataset Name:  reddit  Best AUC Score(benchmark/combined):  59.33976946045843\n",
      "Dataset Name:  reddit  Best AUC Score (contextual):  60.961872079239775\n",
      "Dataset Name:  reddit  Best AUC Score (structural):  61.423642814847526\n",
      "Dataset Name:  reddit  Best AUC Score (joint-type):  55.4883857647263\n",
      "Dataset Name:  reddit  Best AUC Score (structure type):  61.197010949584794\n",
      "===========================================================================================\n"
     ]
    },
    {
     "name": "stderr",
     "output_type": "stream",
     "text": [
      " 83%|████████▎ | 417/500 [03:49<00:45,  1.83it/s]"
     ]
    },
    {
     "name": "stdout",
     "output_type": "stream",
     "text": [
      "Dataset Name:  reddit , AUC Score(benchmark/combined):  52.013103843663764\n",
      "Dataset Name:  reddit , AUC Score (contextual):  52.49190142786819\n",
      "Dataset Name:  reddit , AUC Score (structural):  49.71612681627183\n",
      "Dataset Name:  reddit , AUC Score (joint-type):  48.818288936007235\n",
      "Dataset Name:  reddit , AUC Score (structure type):  48.818288936007235\n",
      "===========================================================================================\n",
      "Dataset Name:  reddit  Best AUC Score(benchmark/combined):  59.33976946045843\n",
      "Dataset Name:  reddit  Best AUC Score (contextual):  60.961872079239775\n",
      "Dataset Name:  reddit  Best AUC Score (structural):  61.423642814847526\n",
      "Dataset Name:  reddit  Best AUC Score (joint-type):  55.4883857647263\n",
      "Dataset Name:  reddit  Best AUC Score (structure type):  61.197010949584794\n",
      "===========================================================================================\n"
     ]
    },
    {
     "name": "stderr",
     "output_type": "stream",
     "text": [
      " 84%|████████▎ | 418/500 [03:49<00:45,  1.82it/s]"
     ]
    },
    {
     "name": "stdout",
     "output_type": "stream",
     "text": [
      "Dataset Name:  reddit , AUC Score(benchmark/combined):  49.08972494382671\n",
      "Dataset Name:  reddit , AUC Score (contextual):  53.78914014741601\n",
      "Dataset Name:  reddit , AUC Score (structural):  49.38946146251284\n",
      "Dataset Name:  reddit , AUC Score (joint-type):  49.31910271412838\n",
      "Dataset Name:  reddit , AUC Score (structure type):  49.31910271412838\n",
      "===========================================================================================\n",
      "Dataset Name:  reddit  Best AUC Score(benchmark/combined):  59.33976946045843\n",
      "Dataset Name:  reddit  Best AUC Score (contextual):  60.961872079239775\n",
      "Dataset Name:  reddit  Best AUC Score (structural):  61.423642814847526\n",
      "Dataset Name:  reddit  Best AUC Score (joint-type):  55.4883857647263\n",
      "Dataset Name:  reddit  Best AUC Score (structure type):  61.197010949584794\n",
      "===========================================================================================\n"
     ]
    },
    {
     "name": "stderr",
     "output_type": "stream",
     "text": [
      " 84%|████████▍ | 419/500 [03:50<00:44,  1.83it/s]"
     ]
    },
    {
     "name": "stdout",
     "output_type": "stream",
     "text": [
      "Dataset Name:  reddit , AUC Score(benchmark/combined):  53.060788618564004\n",
      "Dataset Name:  reddit , AUC Score (contextual):  58.77516906702122\n",
      "Dataset Name:  reddit , AUC Score (structural):  48.75986752894199\n",
      "Dataset Name:  reddit , AUC Score (joint-type):  49.79887007021714\n",
      "Dataset Name:  reddit , AUC Score (structure type):  49.79887007021714\n",
      "===========================================================================================\n",
      "Dataset Name:  reddit  Best AUC Score(benchmark/combined):  59.33976946045843\n",
      "Dataset Name:  reddit  Best AUC Score (contextual):  60.961872079239775\n",
      "Dataset Name:  reddit  Best AUC Score (structural):  61.423642814847526\n",
      "Dataset Name:  reddit  Best AUC Score (joint-type):  55.4883857647263\n",
      "Dataset Name:  reddit  Best AUC Score (structure type):  61.197010949584794\n",
      "===========================================================================================\n"
     ]
    },
    {
     "name": "stderr",
     "output_type": "stream",
     "text": [
      " 84%|████████▍ | 420/500 [03:50<00:43,  1.84it/s]"
     ]
    },
    {
     "name": "stdout",
     "output_type": "stream",
     "text": [
      "Dataset Name:  reddit , AUC Score(benchmark/combined):  53.14462398628167\n",
      "Dataset Name:  reddit , AUC Score (contextual):  58.770312200398365\n",
      "Dataset Name:  reddit , AUC Score (structural):  49.24023591226859\n",
      "Dataset Name:  reddit , AUC Score (joint-type):  47.57685359026158\n",
      "Dataset Name:  reddit , AUC Score (structure type):  47.57685359026158\n",
      "===========================================================================================\n",
      "Dataset Name:  reddit  Best AUC Score(benchmark/combined):  59.33976946045843\n",
      "Dataset Name:  reddit  Best AUC Score (contextual):  60.961872079239775\n",
      "Dataset Name:  reddit  Best AUC Score (structural):  61.423642814847526\n",
      "Dataset Name:  reddit  Best AUC Score (joint-type):  55.4883857647263\n",
      "Dataset Name:  reddit  Best AUC Score (structure type):  61.197010949584794\n",
      "===========================================================================================\n"
     ]
    },
    {
     "name": "stderr",
     "output_type": "stream",
     "text": [
      " 84%|████████▍ | 421/500 [03:51<00:42,  1.84it/s]"
     ]
    },
    {
     "name": "stdout",
     "output_type": "stream",
     "text": [
      "Dataset Name:  reddit , AUC Score(benchmark/combined):  53.41851706608121\n",
      "Dataset Name:  reddit , AUC Score (contextual):  55.932637283635444\n",
      "Dataset Name:  reddit , AUC Score (structural):  51.70893168437435\n",
      "Dataset Name:  reddit , AUC Score (joint-type):  47.117980879123216\n",
      "Dataset Name:  reddit , AUC Score (structure type):  47.117980879123216\n",
      "===========================================================================================\n",
      "Dataset Name:  reddit  Best AUC Score(benchmark/combined):  59.33976946045843\n",
      "Dataset Name:  reddit  Best AUC Score (contextual):  60.961872079239775\n",
      "Dataset Name:  reddit  Best AUC Score (structural):  61.423642814847526\n",
      "Dataset Name:  reddit  Best AUC Score (joint-type):  55.4883857647263\n",
      "Dataset Name:  reddit  Best AUC Score (structure type):  61.197010949584794\n",
      "===========================================================================================\n"
     ]
    },
    {
     "name": "stderr",
     "output_type": "stream",
     "text": [
      " 84%|████████▍ | 422/500 [03:51<00:42,  1.85it/s]"
     ]
    },
    {
     "name": "stdout",
     "output_type": "stream",
     "text": [
      "Dataset Name:  reddit , AUC Score(benchmark/combined):  51.176216899439765\n",
      "Dataset Name:  reddit , AUC Score (contextual):  51.259775076483\n",
      "Dataset Name:  reddit , AUC Score (structural):  49.427542415869475\n",
      "Dataset Name:  reddit , AUC Score (joint-type):  48.51111741829207\n",
      "Dataset Name:  reddit , AUC Score (structure type):  48.51111741829207\n",
      "===========================================================================================\n",
      "Dataset Name:  reddit  Best AUC Score(benchmark/combined):  59.33976946045843\n",
      "Dataset Name:  reddit  Best AUC Score (contextual):  60.961872079239775\n",
      "Dataset Name:  reddit  Best AUC Score (structural):  61.423642814847526\n",
      "Dataset Name:  reddit  Best AUC Score (joint-type):  55.4883857647263\n",
      "Dataset Name:  reddit  Best AUC Score (structure type):  61.197010949584794\n",
      "===========================================================================================\n"
     ]
    },
    {
     "name": "stderr",
     "output_type": "stream",
     "text": [
      " 85%|████████▍ | 423/500 [03:52<00:41,  1.85it/s]"
     ]
    },
    {
     "name": "stdout",
     "output_type": "stream",
     "text": [
      "Dataset Name:  reddit , AUC Score(benchmark/combined):  52.52343684865477\n",
      "Dataset Name:  reddit , AUC Score (contextual):  55.26790425699299\n",
      "Dataset Name:  reddit , AUC Score (structural):  50.100288242911795\n",
      "Dataset Name:  reddit , AUC Score (joint-type):  50.175606083832555\n",
      "Dataset Name:  reddit , AUC Score (structure type):  50.175606083832555\n",
      "===========================================================================================\n",
      "Dataset Name:  reddit  Best AUC Score(benchmark/combined):  59.33976946045843\n",
      "Dataset Name:  reddit  Best AUC Score (contextual):  60.961872079239775\n",
      "Dataset Name:  reddit  Best AUC Score (structural):  61.423642814847526\n",
      "Dataset Name:  reddit  Best AUC Score (joint-type):  55.4883857647263\n",
      "Dataset Name:  reddit  Best AUC Score (structure type):  61.197010949584794\n",
      "===========================================================================================\n"
     ]
    },
    {
     "name": "stderr",
     "output_type": "stream",
     "text": [
      " 85%|████████▍ | 424/500 [03:52<00:41,  1.85it/s]"
     ]
    },
    {
     "name": "stdout",
     "output_type": "stream",
     "text": [
      "Dataset Name:  reddit , AUC Score(benchmark/combined):  52.62395952022908\n",
      "Dataset Name:  reddit , AUC Score (contextual):  58.156120942049995\n",
      "Dataset Name:  reddit , AUC Score (structural):  48.19672462689882\n",
      "Dataset Name:  reddit , AUC Score (joint-type):  49.599940908122754\n",
      "Dataset Name:  reddit , AUC Score (structure type):  49.599940908122754\n",
      "===========================================================================================\n",
      "Dataset Name:  reddit  Best AUC Score(benchmark/combined):  59.33976946045843\n",
      "Dataset Name:  reddit  Best AUC Score (contextual):  60.961872079239775\n",
      "Dataset Name:  reddit  Best AUC Score (structural):  61.423642814847526\n",
      "Dataset Name:  reddit  Best AUC Score (joint-type):  55.4883857647263\n",
      "Dataset Name:  reddit  Best AUC Score (structure type):  61.197010949584794\n",
      "===========================================================================================\n"
     ]
    },
    {
     "name": "stderr",
     "output_type": "stream",
     "text": [
      " 85%|████████▌ | 425/500 [03:53<00:40,  1.85it/s]"
     ]
    },
    {
     "name": "stdout",
     "output_type": "stream",
     "text": [
      "Dataset Name:  reddit , AUC Score(benchmark/combined):  52.87101396020986\n",
      "Dataset Name:  reddit , AUC Score (contextual):  61.509433198605876\n",
      "Dataset Name:  reddit , AUC Score (structural):  50.89233792386859\n",
      "Dataset Name:  reddit , AUC Score (joint-type):  47.675685766800584\n",
      "Dataset Name:  reddit , AUC Score (structure type):  47.675685766800584\n",
      "===========================================================================================\n",
      "Dataset Name:  reddit  Best AUC Score(benchmark/combined):  59.33976946045843\n",
      "Dataset Name:  reddit  Best AUC Score (contextual):  61.509433198605876\n",
      "Dataset Name:  reddit  Best AUC Score (structural):  61.423642814847526\n",
      "Dataset Name:  reddit  Best AUC Score (joint-type):  55.4883857647263\n",
      "Dataset Name:  reddit  Best AUC Score (structure type):  61.197010949584794\n",
      "===========================================================================================\n"
     ]
    },
    {
     "name": "stderr",
     "output_type": "stream",
     "text": [
      " 85%|████████▌ | 426/500 [03:54<00:44,  1.68it/s]"
     ]
    },
    {
     "name": "stdout",
     "output_type": "stream",
     "text": [
      "Dataset Name:  reddit , AUC Score(benchmark/combined):  51.583428284992905\n",
      "Dataset Name:  reddit , AUC Score (contextual):  57.862584065531266\n",
      "Dataset Name:  reddit , AUC Score (structural):  49.77080975238429\n",
      "Dataset Name:  reddit , AUC Score (joint-type):  46.76525094063847\n",
      "Dataset Name:  reddit , AUC Score (structure type):  46.76525094063847\n",
      "===========================================================================================\n",
      "Dataset Name:  reddit  Best AUC Score(benchmark/combined):  59.33976946045843\n",
      "Dataset Name:  reddit  Best AUC Score (contextual):  61.509433198605876\n",
      "Dataset Name:  reddit  Best AUC Score (structural):  61.423642814847526\n",
      "Dataset Name:  reddit  Best AUC Score (joint-type):  55.4883857647263\n",
      "Dataset Name:  reddit  Best AUC Score (structure type):  61.197010949584794\n",
      "===========================================================================================\n"
     ]
    },
    {
     "name": "stderr",
     "output_type": "stream",
     "text": [
      " 85%|████████▌ | 427/500 [03:54<00:42,  1.72it/s]"
     ]
    },
    {
     "name": "stdout",
     "output_type": "stream",
     "text": [
      "Dataset Name:  reddit , AUC Score(benchmark/combined):  51.485568891674816\n",
      "Dataset Name:  reddit , AUC Score (contextual):  52.57929973089923\n",
      "Dataset Name:  reddit , AUC Score (structural):  50.51074926579948\n",
      "Dataset Name:  reddit , AUC Score (joint-type):  48.57711515276616\n",
      "Dataset Name:  reddit , AUC Score (structure type):  48.57711515276616\n",
      "===========================================================================================\n",
      "Dataset Name:  reddit  Best AUC Score(benchmark/combined):  59.33976946045843\n",
      "Dataset Name:  reddit  Best AUC Score (contextual):  61.509433198605876\n",
      "Dataset Name:  reddit  Best AUC Score (structural):  61.423642814847526\n",
      "Dataset Name:  reddit  Best AUC Score (joint-type):  55.4883857647263\n",
      "Dataset Name:  reddit  Best AUC Score (structure type):  61.197010949584794\n",
      "===========================================================================================\n"
     ]
    },
    {
     "name": "stderr",
     "output_type": "stream",
     "text": [
      " 86%|████████▌ | 428/500 [03:55<00:40,  1.76it/s]"
     ]
    },
    {
     "name": "stdout",
     "output_type": "stream",
     "text": [
      "Dataset Name:  reddit , AUC Score(benchmark/combined):  53.33717771759885\n",
      "Dataset Name:  reddit , AUC Score (contextual):  53.49805700038905\n",
      "Dataset Name:  reddit , AUC Score (structural):  48.434248191270754\n",
      "Dataset Name:  reddit , AUC Score (joint-type):  50.43572670613883\n",
      "Dataset Name:  reddit , AUC Score (structure type):  50.43572670613883\n",
      "===========================================================================================\n",
      "Dataset Name:  reddit  Best AUC Score(benchmark/combined):  59.33976946045843\n",
      "Dataset Name:  reddit  Best AUC Score (contextual):  61.509433198605876\n",
      "Dataset Name:  reddit  Best AUC Score (structural):  61.423642814847526\n",
      "Dataset Name:  reddit  Best AUC Score (joint-type):  55.4883857647263\n",
      "Dataset Name:  reddit  Best AUC Score (structure type):  61.197010949584794\n",
      "===========================================================================================\n"
     ]
    },
    {
     "name": "stderr",
     "output_type": "stream",
     "text": [
      " 86%|████████▌ | 429/500 [03:55<00:39,  1.78it/s]"
     ]
    },
    {
     "name": "stdout",
     "output_type": "stream",
     "text": [
      "Dataset Name:  reddit , AUC Score(benchmark/combined):  53.633020327374794\n",
      "Dataset Name:  reddit , AUC Score (contextual):  58.85682513711795\n",
      "Dataset Name:  reddit , AUC Score (structural):  51.08926910164624\n",
      "Dataset Name:  reddit , AUC Score (joint-type):  49.57894507845105\n",
      "Dataset Name:  reddit , AUC Score (structure type):  49.57894507845105\n",
      "===========================================================================================\n",
      "Dataset Name:  reddit  Best AUC Score(benchmark/combined):  59.33976946045843\n",
      "Dataset Name:  reddit  Best AUC Score (contextual):  61.509433198605876\n",
      "Dataset Name:  reddit  Best AUC Score (structural):  61.423642814847526\n",
      "Dataset Name:  reddit  Best AUC Score (joint-type):  55.4883857647263\n",
      "Dataset Name:  reddit  Best AUC Score (structure type):  61.197010949584794\n",
      "===========================================================================================\n"
     ]
    },
    {
     "name": "stderr",
     "output_type": "stream",
     "text": [
      " 86%|████████▌ | 430/500 [03:56<00:38,  1.80it/s]"
     ]
    },
    {
     "name": "stdout",
     "output_type": "stream",
     "text": [
      "Dataset Name:  reddit , AUC Score(benchmark/combined):  53.469389540598655\n",
      "Dataset Name:  reddit , AUC Score (contextual):  62.10358988213498\n",
      "Dataset Name:  reddit , AUC Score (structural):  50.82705557909506\n",
      "Dataset Name:  reddit , AUC Score (joint-type):  47.68572835039055\n",
      "Dataset Name:  reddit , AUC Score (structure type):  47.68572835039055\n",
      "===========================================================================================\n",
      "Dataset Name:  reddit  Best AUC Score(benchmark/combined):  59.33976946045843\n",
      "Dataset Name:  reddit  Best AUC Score (contextual):  62.10358988213498\n",
      "Dataset Name:  reddit  Best AUC Score (structural):  61.423642814847526\n",
      "Dataset Name:  reddit  Best AUC Score (joint-type):  55.4883857647263\n",
      "Dataset Name:  reddit  Best AUC Score (structure type):  61.197010949584794\n",
      "===========================================================================================\n"
     ]
    },
    {
     "name": "stderr",
     "output_type": "stream",
     "text": [
      " 86%|████████▌ | 431/500 [03:56<00:38,  1.81it/s]"
     ]
    },
    {
     "name": "stdout",
     "output_type": "stream",
     "text": [
      "Dataset Name:  reddit , AUC Score(benchmark/combined):  51.808095748327155\n",
      "Dataset Name:  reddit , AUC Score (contextual):  59.40013649818905\n",
      "Dataset Name:  reddit , AUC Score (structural):  49.8326987612915\n",
      "Dataset Name:  reddit , AUC Score (joint-type):  46.9936248566339\n",
      "Dataset Name:  reddit , AUC Score (structure type):  46.9936248566339\n",
      "===========================================================================================\n",
      "Dataset Name:  reddit  Best AUC Score(benchmark/combined):  59.33976946045843\n",
      "Dataset Name:  reddit  Best AUC Score (contextual):  62.10358988213498\n",
      "Dataset Name:  reddit  Best AUC Score (structural):  61.423642814847526\n",
      "Dataset Name:  reddit  Best AUC Score (joint-type):  55.4883857647263\n",
      "Dataset Name:  reddit  Best AUC Score (structure type):  61.197010949584794\n",
      "===========================================================================================\n"
     ]
    },
    {
     "name": "stderr",
     "output_type": "stream",
     "text": [
      " 86%|████████▋ | 432/500 [03:57<00:37,  1.83it/s]"
     ]
    },
    {
     "name": "stdout",
     "output_type": "stream",
     "text": [
      "Dataset Name:  reddit , AUC Score(benchmark/combined):  52.540201348982606\n",
      "Dataset Name:  reddit , AUC Score (contextual):  57.13628013597203\n",
      "Dataset Name:  reddit , AUC Score (structural):  50.45261497391094\n",
      "Dataset Name:  reddit , AUC Score (joint-type):  47.86042377173132\n",
      "Dataset Name:  reddit , AUC Score (structure type):  47.86042377173132\n",
      "===========================================================================================\n",
      "Dataset Name:  reddit  Best AUC Score(benchmark/combined):  59.33976946045843\n",
      "Dataset Name:  reddit  Best AUC Score (contextual):  62.10358988213498\n",
      "Dataset Name:  reddit  Best AUC Score (structural):  61.423642814847526\n",
      "Dataset Name:  reddit  Best AUC Score (joint-type):  55.4883857647263\n",
      "Dataset Name:  reddit  Best AUC Score (structure type):  61.197010949584794\n",
      "===========================================================================================\n"
     ]
    },
    {
     "name": "stderr",
     "output_type": "stream",
     "text": [
      " 87%|████████▋ | 433/500 [03:57<00:36,  1.83it/s]"
     ]
    },
    {
     "name": "stdout",
     "output_type": "stream",
     "text": [
      "Dataset Name:  reddit , AUC Score(benchmark/combined):  53.23105830186291\n",
      "Dataset Name:  reddit , AUC Score (contextual):  55.349939769794645\n",
      "Dataset Name:  reddit , AUC Score (structural):  51.2328750092003\n",
      "Dataset Name:  reddit , AUC Score (joint-type):  49.49526531392813\n",
      "Dataset Name:  reddit , AUC Score (structure type):  49.49526531392813\n",
      "===========================================================================================\n",
      "Dataset Name:  reddit  Best AUC Score(benchmark/combined):  59.33976946045843\n",
      "Dataset Name:  reddit  Best AUC Score (contextual):  62.10358988213498\n",
      "Dataset Name:  reddit  Best AUC Score (structural):  61.423642814847526\n",
      "Dataset Name:  reddit  Best AUC Score (joint-type):  55.4883857647263\n",
      "Dataset Name:  reddit  Best AUC Score (structure type):  61.197010949584794\n",
      "===========================================================================================\n"
     ]
    },
    {
     "name": "stderr",
     "output_type": "stream",
     "text": [
      " 87%|████████▋ | 434/500 [03:58<00:35,  1.84it/s]"
     ]
    },
    {
     "name": "stdout",
     "output_type": "stream",
     "text": [
      "Dataset Name:  reddit , AUC Score(benchmark/combined):  53.19523913922847\n",
      "Dataset Name:  reddit , AUC Score (contextual):  57.35261307013164\n",
      "Dataset Name:  reddit , AUC Score (structural):  50.848610804434436\n",
      "Dataset Name:  reddit , AUC Score (joint-type):  49.11180051634563\n",
      "Dataset Name:  reddit , AUC Score (structure type):  49.11180051634563\n",
      "===========================================================================================\n",
      "Dataset Name:  reddit  Best AUC Score(benchmark/combined):  59.33976946045843\n",
      "Dataset Name:  reddit  Best AUC Score (contextual):  62.10358988213498\n",
      "Dataset Name:  reddit  Best AUC Score (structural):  61.423642814847526\n",
      "Dataset Name:  reddit  Best AUC Score (joint-type):  55.4883857647263\n",
      "Dataset Name:  reddit  Best AUC Score (structure type):  61.197010949584794\n",
      "===========================================================================================\n"
     ]
    },
    {
     "name": "stderr",
     "output_type": "stream",
     "text": [
      " 87%|████████▋ | 435/500 [03:59<00:35,  1.84it/s]"
     ]
    },
    {
     "name": "stdout",
     "output_type": "stream",
     "text": [
      "Dataset Name:  reddit , AUC Score(benchmark/combined):  54.12815849361894\n",
      "Dataset Name:  reddit , AUC Score (contextual):  60.2463443225\n",
      "Dataset Name:  reddit , AUC Score (structural):  49.77483799183478\n",
      "Dataset Name:  reddit , AUC Score (joint-type):  47.968944385335696\n",
      "Dataset Name:  reddit , AUC Score (structure type):  47.968944385335696\n",
      "===========================================================================================\n",
      "Dataset Name:  reddit  Best AUC Score(benchmark/combined):  59.33976946045843\n",
      "Dataset Name:  reddit  Best AUC Score (contextual):  62.10358988213498\n",
      "Dataset Name:  reddit  Best AUC Score (structural):  61.423642814847526\n",
      "Dataset Name:  reddit  Best AUC Score (joint-type):  55.4883857647263\n",
      "Dataset Name:  reddit  Best AUC Score (structure type):  61.197010949584794\n",
      "===========================================================================================\n"
     ]
    },
    {
     "name": "stderr",
     "output_type": "stream",
     "text": [
      " 87%|████████▋ | 436/500 [03:59<00:34,  1.84it/s]"
     ]
    },
    {
     "name": "stdout",
     "output_type": "stream",
     "text": [
      "Dataset Name:  reddit , AUC Score(benchmark/combined):  52.701953688293\n",
      "Dataset Name:  reddit , AUC Score (contextual):  60.30123703381036\n",
      "Dataset Name:  reddit , AUC Score (structural):  50.4137714731686\n",
      "Dataset Name:  reddit , AUC Score (joint-type):  46.92689353293031\n",
      "Dataset Name:  reddit , AUC Score (structure type):  46.92689353293031\n",
      "===========================================================================================\n",
      "Dataset Name:  reddit  Best AUC Score(benchmark/combined):  59.33976946045843\n",
      "Dataset Name:  reddit  Best AUC Score (contextual):  62.10358988213498\n",
      "Dataset Name:  reddit  Best AUC Score (structural):  61.423642814847526\n",
      "Dataset Name:  reddit  Best AUC Score (joint-type):  55.4883857647263\n",
      "Dataset Name:  reddit  Best AUC Score (structure type):  61.197010949584794\n",
      "===========================================================================================\n"
     ]
    },
    {
     "name": "stderr",
     "output_type": "stream",
     "text": [
      " 87%|████████▋ | 437/500 [04:00<00:34,  1.84it/s]"
     ]
    },
    {
     "name": "stdout",
     "output_type": "stream",
     "text": [
      "Dataset Name:  reddit , AUC Score(benchmark/combined):  53.757705494433104\n",
      "Dataset Name:  reddit , AUC Score (contextual):  58.88986194862549\n",
      "Dataset Name:  reddit , AUC Score (structural):  51.86309224237336\n",
      "Dataset Name:  reddit , AUC Score (joint-type):  47.12855468250006\n",
      "Dataset Name:  reddit , AUC Score (structure type):  47.12855468250006\n",
      "===========================================================================================\n",
      "Dataset Name:  reddit  Best AUC Score(benchmark/combined):  59.33976946045843\n",
      "Dataset Name:  reddit  Best AUC Score (contextual):  62.10358988213498\n",
      "Dataset Name:  reddit  Best AUC Score (structural):  61.423642814847526\n",
      "Dataset Name:  reddit  Best AUC Score (joint-type):  55.4883857647263\n",
      "Dataset Name:  reddit  Best AUC Score (structure type):  61.197010949584794\n",
      "===========================================================================================\n"
     ]
    },
    {
     "name": "stderr",
     "output_type": "stream",
     "text": [
      " 88%|████████▊ | 438/500 [04:00<00:33,  1.84it/s]"
     ]
    },
    {
     "name": "stdout",
     "output_type": "stream",
     "text": [
      "Dataset Name:  reddit , AUC Score(benchmark/combined):  52.94054224859941\n",
      "Dataset Name:  reddit , AUC Score (contextual):  56.2329535364819\n",
      "Dataset Name:  reddit , AUC Score (structural):  50.865106693640946\n",
      "Dataset Name:  reddit , AUC Score (joint-type):  48.28428656929661\n",
      "Dataset Name:  reddit , AUC Score (structure type):  48.28428656929661\n",
      "===========================================================================================\n",
      "Dataset Name:  reddit  Best AUC Score(benchmark/combined):  59.33976946045843\n",
      "Dataset Name:  reddit  Best AUC Score (contextual):  62.10358988213498\n",
      "Dataset Name:  reddit  Best AUC Score (structural):  61.423642814847526\n",
      "Dataset Name:  reddit  Best AUC Score (joint-type):  55.4883857647263\n",
      "Dataset Name:  reddit  Best AUC Score (structure type):  61.197010949584794\n",
      "===========================================================================================\n"
     ]
    },
    {
     "name": "stderr",
     "output_type": "stream",
     "text": [
      " 88%|████████▊ | 439/500 [04:01<00:33,  1.84it/s]"
     ]
    },
    {
     "name": "stdout",
     "output_type": "stream",
     "text": [
      "Dataset Name:  reddit , AUC Score(benchmark/combined):  53.34937476004764\n",
      "Dataset Name:  reddit , AUC Score (contextual):  57.50034276324343\n",
      "Dataset Name:  reddit , AUC Score (structural):  49.8407386630754\n",
      "Dataset Name:  reddit , AUC Score (joint-type):  48.78596041754887\n",
      "Dataset Name:  reddit , AUC Score (structure type):  48.78596041754887\n",
      "===========================================================================================\n",
      "Dataset Name:  reddit  Best AUC Score(benchmark/combined):  59.33976946045843\n",
      "Dataset Name:  reddit  Best AUC Score (contextual):  62.10358988213498\n",
      "Dataset Name:  reddit  Best AUC Score (structural):  61.423642814847526\n",
      "Dataset Name:  reddit  Best AUC Score (joint-type):  55.4883857647263\n",
      "Dataset Name:  reddit  Best AUC Score (structure type):  61.197010949584794\n",
      "===========================================================================================\n"
     ]
    },
    {
     "name": "stderr",
     "output_type": "stream",
     "text": [
      " 88%|████████▊ | 440/500 [04:01<00:32,  1.85it/s]"
     ]
    },
    {
     "name": "stdout",
     "output_type": "stream",
     "text": [
      "Dataset Name:  reddit , AUC Score(benchmark/combined):  51.97927892320187\n",
      "Dataset Name:  reddit , AUC Score (contextual):  58.42170553930698\n",
      "Dataset Name:  reddit , AUC Score (structural):  48.61929026067848\n",
      "Dataset Name:  reddit , AUC Score (joint-type):  47.836670658403925\n",
      "Dataset Name:  reddit , AUC Score (structure type):  47.836670658403925\n",
      "===========================================================================================\n",
      "Dataset Name:  reddit  Best AUC Score(benchmark/combined):  59.33976946045843\n",
      "Dataset Name:  reddit  Best AUC Score (contextual):  62.10358988213498\n",
      "Dataset Name:  reddit  Best AUC Score (structural):  61.423642814847526\n",
      "Dataset Name:  reddit  Best AUC Score (joint-type):  55.4883857647263\n",
      "Dataset Name:  reddit  Best AUC Score (structure type):  61.197010949584794\n",
      "===========================================================================================\n"
     ]
    },
    {
     "name": "stderr",
     "output_type": "stream",
     "text": [
      " 88%|████████▊ | 441/500 [04:02<00:31,  1.85it/s]"
     ]
    },
    {
     "name": "stdout",
     "output_type": "stream",
     "text": [
      "Dataset Name:  reddit , AUC Score(benchmark/combined):  53.39780267964392\n",
      "Dataset Name:  reddit , AUC Score (contextual):  59.993787258111595\n",
      "Dataset Name:  reddit , AUC Score (structural):  52.17313737854775\n",
      "Dataset Name:  reddit , AUC Score (joint-type):  47.07710225171419\n",
      "Dataset Name:  reddit , AUC Score (structure type):  47.07710225171419\n",
      "===========================================================================================\n",
      "Dataset Name:  reddit  Best AUC Score(benchmark/combined):  59.33976946045843\n",
      "Dataset Name:  reddit  Best AUC Score (contextual):  62.10358988213498\n",
      "Dataset Name:  reddit  Best AUC Score (structural):  61.423642814847526\n",
      "Dataset Name:  reddit  Best AUC Score (joint-type):  55.4883857647263\n",
      "Dataset Name:  reddit  Best AUC Score (structure type):  61.197010949584794\n",
      "===========================================================================================\n"
     ]
    },
    {
     "name": "stderr",
     "output_type": "stream",
     "text": [
      " 88%|████████▊ | 442/500 [04:02<00:31,  1.85it/s]"
     ]
    },
    {
     "name": "stdout",
     "output_type": "stream",
     "text": [
      "Dataset Name:  reddit , AUC Score(benchmark/combined):  53.046648798256804\n",
      "Dataset Name:  reddit , AUC Score (contextual):  58.00520393021694\n",
      "Dataset Name:  reddit , AUC Score (structural):  51.32821995579877\n",
      "Dataset Name:  reddit , AUC Score (joint-type):  47.2640410243334\n",
      "Dataset Name:  reddit , AUC Score (structure type):  47.2640410243334\n",
      "===========================================================================================\n",
      "Dataset Name:  reddit  Best AUC Score(benchmark/combined):  59.33976946045843\n",
      "Dataset Name:  reddit  Best AUC Score (contextual):  62.10358988213498\n",
      "Dataset Name:  reddit  Best AUC Score (structural):  61.423642814847526\n",
      "Dataset Name:  reddit  Best AUC Score (joint-type):  55.4883857647263\n",
      "Dataset Name:  reddit  Best AUC Score (structure type):  61.197010949584794\n",
      "===========================================================================================\n"
     ]
    },
    {
     "name": "stderr",
     "output_type": "stream",
     "text": [
      " 89%|████████▊ | 443/500 [04:03<00:30,  1.85it/s]"
     ]
    },
    {
     "name": "stdout",
     "output_type": "stream",
     "text": [
      "Dataset Name:  reddit , AUC Score(benchmark/combined):  53.89337829255816\n",
      "Dataset Name:  reddit , AUC Score (contextual):  57.75795906369729\n",
      "Dataset Name:  reddit , AUC Score (structural):  49.047168860482344\n",
      "Dataset Name:  reddit , AUC Score (joint-type):  48.30882386421415\n",
      "Dataset Name:  reddit , AUC Score (structure type):  48.30882386421415\n",
      "===========================================================================================\n",
      "Dataset Name:  reddit  Best AUC Score(benchmark/combined):  59.33976946045843\n",
      "Dataset Name:  reddit  Best AUC Score (contextual):  62.10358988213498\n",
      "Dataset Name:  reddit  Best AUC Score (structural):  61.423642814847526\n",
      "Dataset Name:  reddit  Best AUC Score (joint-type):  55.4883857647263\n",
      "Dataset Name:  reddit  Best AUC Score (structure type):  61.197010949584794\n",
      "===========================================================================================\n"
     ]
    },
    {
     "name": "stderr",
     "output_type": "stream",
     "text": [
      " 89%|████████▉ | 444/500 [04:03<00:30,  1.85it/s]"
     ]
    },
    {
     "name": "stdout",
     "output_type": "stream",
     "text": [
      "Dataset Name:  reddit , AUC Score(benchmark/combined):  52.65600892185349\n",
      "Dataset Name:  reddit , AUC Score (contextual):  57.810777488220836\n",
      "Dataset Name:  reddit , AUC Score (structural):  49.454815088889816\n",
      "Dataset Name:  reddit , AUC Score (joint-type):  48.04002665205559\n",
      "Dataset Name:  reddit , AUC Score (structure type):  48.04002665205559\n",
      "===========================================================================================\n",
      "Dataset Name:  reddit  Best AUC Score(benchmark/combined):  59.33976946045843\n",
      "Dataset Name:  reddit  Best AUC Score (contextual):  62.10358988213498\n",
      "Dataset Name:  reddit  Best AUC Score (structural):  61.423642814847526\n",
      "Dataset Name:  reddit  Best AUC Score (joint-type):  55.4883857647263\n",
      "Dataset Name:  reddit  Best AUC Score (structure type):  61.197010949584794\n",
      "===========================================================================================\n"
     ]
    },
    {
     "name": "stderr",
     "output_type": "stream",
     "text": [
      " 89%|████████▉ | 445/500 [04:04<00:29,  1.85it/s]"
     ]
    },
    {
     "name": "stdout",
     "output_type": "stream",
     "text": [
      "Dataset Name:  reddit , AUC Score(benchmark/combined):  52.09596138941297\n",
      "Dataset Name:  reddit , AUC Score (contextual):  58.79588663870933\n",
      "Dataset Name:  reddit , AUC Score (structural):  49.83522511393452\n",
      "Dataset Name:  reddit , AUC Score (joint-type):  47.14003914836867\n",
      "Dataset Name:  reddit , AUC Score (structure type):  47.14003914836867\n",
      "===========================================================================================\n",
      "Dataset Name:  reddit  Best AUC Score(benchmark/combined):  59.33976946045843\n",
      "Dataset Name:  reddit  Best AUC Score (contextual):  62.10358988213498\n",
      "Dataset Name:  reddit  Best AUC Score (structural):  61.423642814847526\n",
      "Dataset Name:  reddit  Best AUC Score (joint-type):  55.4883857647263\n",
      "Dataset Name:  reddit  Best AUC Score (structure type):  61.197010949584794\n",
      "===========================================================================================\n"
     ]
    },
    {
     "name": "stderr",
     "output_type": "stream",
     "text": [
      " 89%|████████▉ | 446/500 [04:05<00:31,  1.70it/s]"
     ]
    },
    {
     "name": "stdout",
     "output_type": "stream",
     "text": [
      "Dataset Name:  reddit , AUC Score(benchmark/combined):  52.746341659230076\n",
      "Dataset Name:  reddit , AUC Score (contextual):  59.03329129108164\n",
      "Dataset Name:  reddit , AUC Score (structural):  51.24256101871026\n",
      "Dataset Name:  reddit , AUC Score (joint-type):  46.98623837197831\n",
      "Dataset Name:  reddit , AUC Score (structure type):  46.98623837197831\n",
      "===========================================================================================\n",
      "Dataset Name:  reddit  Best AUC Score(benchmark/combined):  59.33976946045843\n",
      "Dataset Name:  reddit  Best AUC Score (contextual):  62.10358988213498\n",
      "Dataset Name:  reddit  Best AUC Score (structural):  61.423642814847526\n",
      "Dataset Name:  reddit  Best AUC Score (joint-type):  55.4883857647263\n",
      "Dataset Name:  reddit  Best AUC Score (structure type):  61.197010949584794\n",
      "===========================================================================================\n"
     ]
    },
    {
     "name": "stderr",
     "output_type": "stream",
     "text": [
      " 89%|████████▉ | 447/500 [04:05<00:30,  1.74it/s]"
     ]
    },
    {
     "name": "stdout",
     "output_type": "stream",
     "text": [
      "Dataset Name:  reddit , AUC Score(benchmark/combined):  53.634898774840536\n",
      "Dataset Name:  reddit , AUC Score (contextual):  58.30713913860435\n",
      "Dataset Name:  reddit , AUC Score (structural):  49.638837665597116\n",
      "Dataset Name:  reddit , AUC Score (joint-type):  47.96522584682758\n",
      "Dataset Name:  reddit , AUC Score (structure type):  47.96522584682758\n",
      "===========================================================================================\n",
      "Dataset Name:  reddit  Best AUC Score(benchmark/combined):  59.33976946045843\n",
      "Dataset Name:  reddit  Best AUC Score (contextual):  62.10358988213498\n",
      "Dataset Name:  reddit  Best AUC Score (structural):  61.423642814847526\n",
      "Dataset Name:  reddit  Best AUC Score (joint-type):  55.4883857647263\n",
      "Dataset Name:  reddit  Best AUC Score (structure type):  61.197010949584794\n",
      "===========================================================================================\n"
     ]
    },
    {
     "name": "stderr",
     "output_type": "stream",
     "text": [
      " 90%|████████▉ | 448/500 [04:06<00:29,  1.77it/s]"
     ]
    },
    {
     "name": "stdout",
     "output_type": "stream",
     "text": [
      "Dataset Name:  reddit , AUC Score(benchmark/combined):  54.46167298133802\n",
      "Dataset Name:  reddit , AUC Score (contextual):  57.76585147195943\n",
      "Dataset Name:  reddit , AUC Score (structural):  49.47989626703217\n",
      "Dataset Name:  reddit , AUC Score (joint-type):  48.85081982390823\n",
      "Dataset Name:  reddit , AUC Score (structure type):  48.85081982390823\n",
      "===========================================================================================\n",
      "Dataset Name:  reddit  Best AUC Score(benchmark/combined):  59.33976946045843\n",
      "Dataset Name:  reddit  Best AUC Score (contextual):  62.10358988213498\n",
      "Dataset Name:  reddit  Best AUC Score (structural):  61.423642814847526\n",
      "Dataset Name:  reddit  Best AUC Score (joint-type):  55.4883857647263\n",
      "Dataset Name:  reddit  Best AUC Score (structure type):  61.197010949584794\n",
      "===========================================================================================\n"
     ]
    },
    {
     "name": "stderr",
     "output_type": "stream",
     "text": [
      " 90%|████████▉ | 449/500 [04:06<00:28,  1.80it/s]"
     ]
    },
    {
     "name": "stdout",
     "output_type": "stream",
     "text": [
      "Dataset Name:  reddit , AUC Score(benchmark/combined):  53.45968851738516\n",
      "Dataset Name:  reddit , AUC Score (contextual):  58.95001626544395\n",
      "Dataset Name:  reddit , AUC Score (structural):  50.9396523314389\n",
      "Dataset Name:  reddit , AUC Score (joint-type):  47.66073572422711\n",
      "Dataset Name:  reddit , AUC Score (structure type):  47.66073572422711\n",
      "===========================================================================================\n",
      "Dataset Name:  reddit  Best AUC Score(benchmark/combined):  59.33976946045843\n",
      "Dataset Name:  reddit  Best AUC Score (contextual):  62.10358988213498\n",
      "Dataset Name:  reddit  Best AUC Score (structural):  61.423642814847526\n",
      "Dataset Name:  reddit  Best AUC Score (joint-type):  55.4883857647263\n",
      "Dataset Name:  reddit  Best AUC Score (structure type):  61.197010949584794\n",
      "===========================================================================================\n"
     ]
    },
    {
     "name": "stderr",
     "output_type": "stream",
     "text": [
      " 90%|█████████ | 450/500 [04:07<00:27,  1.81it/s]"
     ]
    },
    {
     "name": "stdout",
     "output_type": "stream",
     "text": [
      "Dataset Name:  reddit , AUC Score(benchmark/combined):  52.761369238956014\n",
      "Dataset Name:  reddit , AUC Score (contextual):  59.17247087524278\n",
      "Dataset Name:  reddit , AUC Score (structural):  51.362952331505205\n",
      "Dataset Name:  reddit , AUC Score (joint-type):  46.75778856744189\n",
      "Dataset Name:  reddit , AUC Score (structure type):  46.75778856744189\n",
      "===========================================================================================\n",
      "Dataset Name:  reddit  Best AUC Score(benchmark/combined):  59.33976946045843\n",
      "Dataset Name:  reddit  Best AUC Score (contextual):  62.10358988213498\n",
      "Dataset Name:  reddit  Best AUC Score (structural):  61.423642814847526\n",
      "Dataset Name:  reddit  Best AUC Score (joint-type):  55.4883857647263\n",
      "Dataset Name:  reddit  Best AUC Score (structure type):  61.197010949584794\n",
      "===========================================================================================\n"
     ]
    },
    {
     "name": "stderr",
     "output_type": "stream",
     "text": [
      " 90%|█████████ | 451/500 [04:07<00:26,  1.83it/s]"
     ]
    },
    {
     "name": "stdout",
     "output_type": "stream",
     "text": [
      "Dataset Name:  reddit , AUC Score(benchmark/combined):  52.48885282955946\n",
      "Dataset Name:  reddit , AUC Score (contextual):  58.66687611903978\n",
      "Dataset Name:  reddit , AUC Score (structural):  49.915362213323625\n",
      "Dataset Name:  reddit , AUC Score (joint-type):  47.17264592481064\n",
      "Dataset Name:  reddit , AUC Score (structure type):  47.17264592481064\n",
      "===========================================================================================\n",
      "Dataset Name:  reddit  Best AUC Score(benchmark/combined):  59.33976946045843\n",
      "Dataset Name:  reddit  Best AUC Score (contextual):  62.10358988213498\n",
      "Dataset Name:  reddit  Best AUC Score (structural):  61.423642814847526\n",
      "Dataset Name:  reddit  Best AUC Score (joint-type):  55.4883857647263\n",
      "Dataset Name:  reddit  Best AUC Score (structure type):  61.197010949584794\n",
      "===========================================================================================\n"
     ]
    },
    {
     "name": "stderr",
     "output_type": "stream",
     "text": [
      " 90%|█████████ | 452/500 [04:08<00:26,  1.84it/s]"
     ]
    },
    {
     "name": "stdout",
     "output_type": "stream",
     "text": [
      "Dataset Name:  reddit , AUC Score(benchmark/combined):  54.12215003494427\n",
      "Dataset Name:  reddit , AUC Score (contextual):  56.862626057190624\n",
      "Dataset Name:  reddit , AUC Score (structural):  47.12338779247837\n",
      "Dataset Name:  reddit , AUC Score (joint-type):  49.355731583242395\n",
      "Dataset Name:  reddit , AUC Score (structure type):  49.355731583242395\n",
      "===========================================================================================\n",
      "Dataset Name:  reddit  Best AUC Score(benchmark/combined):  59.33976946045843\n",
      "Dataset Name:  reddit  Best AUC Score (contextual):  62.10358988213498\n",
      "Dataset Name:  reddit  Best AUC Score (structural):  61.423642814847526\n",
      "Dataset Name:  reddit  Best AUC Score (joint-type):  55.4883857647263\n",
      "Dataset Name:  reddit  Best AUC Score (structure type):  61.197010949584794\n",
      "===========================================================================================\n"
     ]
    },
    {
     "name": "stderr",
     "output_type": "stream",
     "text": [
      " 91%|█████████ | 453/500 [04:08<00:25,  1.84it/s]"
     ]
    },
    {
     "name": "stdout",
     "output_type": "stream",
     "text": [
      "Dataset Name:  reddit , AUC Score(benchmark/combined):  55.16663115628992\n",
      "Dataset Name:  reddit , AUC Score (contextual):  58.84569481777391\n",
      "Dataset Name:  reddit , AUC Score (structural):  51.39042724535393\n",
      "Dataset Name:  reddit , AUC Score (joint-type):  48.3248616425417\n",
      "Dataset Name:  reddit , AUC Score (structure type):  48.3248616425417\n",
      "===========================================================================================\n",
      "Dataset Name:  reddit  Best AUC Score(benchmark/combined):  59.33976946045843\n",
      "Dataset Name:  reddit  Best AUC Score (contextual):  62.10358988213498\n",
      "Dataset Name:  reddit  Best AUC Score (structural):  61.423642814847526\n",
      "Dataset Name:  reddit  Best AUC Score (joint-type):  55.4883857647263\n",
      "Dataset Name:  reddit  Best AUC Score (structure type):  61.197010949584794\n",
      "===========================================================================================\n"
     ]
    },
    {
     "name": "stderr",
     "output_type": "stream",
     "text": [
      " 91%|█████████ | 454/500 [04:09<00:24,  1.85it/s]"
     ]
    },
    {
     "name": "stdout",
     "output_type": "stream",
     "text": [
      "Dataset Name:  reddit , AUC Score(benchmark/combined):  53.47206568493341\n",
      "Dataset Name:  reddit , AUC Score (contextual):  59.44698502415533\n",
      "Dataset Name:  reddit , AUC Score (structural):  51.57148749123899\n",
      "Dataset Name:  reddit , AUC Score (joint-type):  47.2180019761376\n",
      "Dataset Name:  reddit , AUC Score (structure type):  47.2180019761376\n",
      "===========================================================================================\n",
      "Dataset Name:  reddit  Best AUC Score(benchmark/combined):  59.33976946045843\n",
      "Dataset Name:  reddit  Best AUC Score (contextual):  62.10358988213498\n",
      "Dataset Name:  reddit  Best AUC Score (structural):  61.423642814847526\n",
      "Dataset Name:  reddit  Best AUC Score (joint-type):  55.4883857647263\n",
      "Dataset Name:  reddit  Best AUC Score (structure type):  61.197010949584794\n",
      "===========================================================================================\n"
     ]
    },
    {
     "name": "stderr",
     "output_type": "stream",
     "text": [
      " 91%|█████████ | 455/500 [04:10<00:24,  1.85it/s]"
     ]
    },
    {
     "name": "stdout",
     "output_type": "stream",
     "text": [
      "Dataset Name:  reddit , AUC Score(benchmark/combined):  53.016876692532634\n",
      "Dataset Name:  reddit , AUC Score (contextual):  57.26260926052689\n",
      "Dataset Name:  reddit , AUC Score (structural):  47.70377255399665\n",
      "Dataset Name:  reddit , AUC Score (joint-type):  47.46211011629666\n",
      "Dataset Name:  reddit , AUC Score (structure type):  47.46211011629666\n",
      "===========================================================================================\n",
      "Dataset Name:  reddit  Best AUC Score(benchmark/combined):  59.33976946045843\n",
      "Dataset Name:  reddit  Best AUC Score (contextual):  62.10358988213498\n",
      "Dataset Name:  reddit  Best AUC Score (structural):  61.423642814847526\n",
      "Dataset Name:  reddit  Best AUC Score (joint-type):  55.4883857647263\n",
      "Dataset Name:  reddit  Best AUC Score (structure type):  61.197010949584794\n",
      "===========================================================================================\n"
     ]
    },
    {
     "name": "stderr",
     "output_type": "stream",
     "text": [
      " 91%|█████████ | 456/500 [04:10<00:23,  1.85it/s]"
     ]
    },
    {
     "name": "stdout",
     "output_type": "stream",
     "text": [
      "Dataset Name:  reddit , AUC Score(benchmark/combined):  53.46982698726877\n",
      "Dataset Name:  reddit , AUC Score (contextual):  59.03754104937663\n",
      "Dataset Name:  reddit , AUC Score (structural):  50.56963450109178\n",
      "Dataset Name:  reddit , AUC Score (joint-type):  47.89376413740278\n",
      "Dataset Name:  reddit , AUC Score (structure type):  47.89376413740278\n",
      "===========================================================================================\n",
      "Dataset Name:  reddit  Best AUC Score(benchmark/combined):  59.33976946045843\n",
      "Dataset Name:  reddit  Best AUC Score (contextual):  62.10358988213498\n",
      "Dataset Name:  reddit  Best AUC Score (structural):  61.423642814847526\n",
      "Dataset Name:  reddit  Best AUC Score (joint-type):  55.4883857647263\n",
      "Dataset Name:  reddit  Best AUC Score (structure type):  61.197010949584794\n",
      "===========================================================================================\n"
     ]
    },
    {
     "name": "stderr",
     "output_type": "stream",
     "text": [
      " 91%|█████████▏| 457/500 [04:11<00:23,  1.86it/s]"
     ]
    },
    {
     "name": "stdout",
     "output_type": "stream",
     "text": [
      "Dataset Name:  reddit , AUC Score(benchmark/combined):  52.86563593938327\n",
      "Dataset Name:  reddit , AUC Score (contextual):  58.8124050444631\n",
      "Dataset Name:  reddit , AUC Score (structural):  51.16206419588052\n",
      "Dataset Name:  reddit , AUC Score (joint-type):  48.98415599041376\n",
      "Dataset Name:  reddit , AUC Score (structure type):  48.98415599041376\n",
      "===========================================================================================\n",
      "Dataset Name:  reddit  Best AUC Score(benchmark/combined):  59.33976946045843\n",
      "Dataset Name:  reddit  Best AUC Score (contextual):  62.10358988213498\n",
      "Dataset Name:  reddit  Best AUC Score (structural):  61.423642814847526\n",
      "Dataset Name:  reddit  Best AUC Score (joint-type):  55.4883857647263\n",
      "Dataset Name:  reddit  Best AUC Score (structure type):  61.197010949584794\n",
      "===========================================================================================\n"
     ]
    },
    {
     "name": "stderr",
     "output_type": "stream",
     "text": [
      " 92%|█████████▏| 458/500 [04:11<00:22,  1.85it/s]"
     ]
    },
    {
     "name": "stdout",
     "output_type": "stream",
     "text": [
      "Dataset Name:  reddit , AUC Score(benchmark/combined):  53.65045386378632\n",
      "Dataset Name:  reddit , AUC Score (contextual):  59.45973429904031\n",
      "Dataset Name:  reddit , AUC Score (structural):  50.81678937048729\n",
      "Dataset Name:  reddit , AUC Score (joint-type):  47.650136624669955\n",
      "Dataset Name:  reddit , AUC Score (structure type):  47.650136624669955\n",
      "===========================================================================================\n",
      "Dataset Name:  reddit  Best AUC Score(benchmark/combined):  59.33976946045843\n",
      "Dataset Name:  reddit  Best AUC Score (contextual):  62.10358988213498\n",
      "Dataset Name:  reddit  Best AUC Score (structural):  61.423642814847526\n",
      "Dataset Name:  reddit  Best AUC Score (joint-type):  55.4883857647263\n",
      "Dataset Name:  reddit  Best AUC Score (structure type):  61.197010949584794\n",
      "===========================================================================================\n"
     ]
    },
    {
     "name": "stderr",
     "output_type": "stream",
     "text": [
      " 92%|█████████▏| 459/500 [04:12<00:22,  1.85it/s]"
     ]
    },
    {
     "name": "stdout",
     "output_type": "stream",
     "text": [
      "Dataset Name:  reddit , AUC Score(benchmark/combined):  53.10048047083672\n",
      "Dataset Name:  reddit , AUC Score (contextual):  57.92678577120213\n",
      "Dataset Name:  reddit , AUC Score (structural):  48.49400538292146\n",
      "Dataset Name:  reddit , AUC Score (joint-type):  47.514093766869394\n",
      "Dataset Name:  reddit , AUC Score (structure type):  47.514093766869394\n",
      "===========================================================================================\n",
      "Dataset Name:  reddit  Best AUC Score(benchmark/combined):  59.33976946045843\n",
      "Dataset Name:  reddit  Best AUC Score (contextual):  62.10358988213498\n",
      "Dataset Name:  reddit  Best AUC Score (structural):  61.423642814847526\n",
      "Dataset Name:  reddit  Best AUC Score (joint-type):  55.4883857647263\n",
      "Dataset Name:  reddit  Best AUC Score (structure type):  61.197010949584794\n",
      "===========================================================================================\n"
     ]
    },
    {
     "name": "stderr",
     "output_type": "stream",
     "text": [
      " 92%|█████████▏| 460/500 [04:12<00:21,  1.85it/s]"
     ]
    },
    {
     "name": "stdout",
     "output_type": "stream",
     "text": [
      "Dataset Name:  reddit , AUC Score(benchmark/combined):  52.7584743712862\n",
      "Dataset Name:  reddit , AUC Score (contextual):  58.78963848216847\n",
      "Dataset Name:  reddit , AUC Score (structural):  51.86880969005433\n",
      "Dataset Name:  reddit , AUC Score (joint-type):  47.866849001534476\n",
      "Dataset Name:  reddit , AUC Score (structure type):  47.866849001534476\n",
      "===========================================================================================\n",
      "Dataset Name:  reddit  Best AUC Score(benchmark/combined):  59.33976946045843\n",
      "Dataset Name:  reddit  Best AUC Score (contextual):  62.10358988213498\n",
      "Dataset Name:  reddit  Best AUC Score (structural):  61.423642814847526\n",
      "Dataset Name:  reddit  Best AUC Score (joint-type):  55.4883857647263\n",
      "Dataset Name:  reddit  Best AUC Score (structure type):  61.197010949584794\n",
      "===========================================================================================\n"
     ]
    },
    {
     "name": "stderr",
     "output_type": "stream",
     "text": [
      " 92%|█████████▏| 461/500 [04:13<00:20,  1.86it/s]"
     ]
    },
    {
     "name": "stdout",
     "output_type": "stream",
     "text": [
      "Dataset Name:  reddit , AUC Score(benchmark/combined):  53.22532003083742\n",
      "Dataset Name:  reddit , AUC Score (contextual):  59.01072709822963\n",
      "Dataset Name:  reddit , AUC Score (structural):  51.343974847871806\n",
      "Dataset Name:  reddit , AUC Score (joint-type):  48.175057662643056\n",
      "Dataset Name:  reddit , AUC Score (structure type):  48.175057662643056\n",
      "===========================================================================================\n",
      "Dataset Name:  reddit  Best AUC Score(benchmark/combined):  59.33976946045843\n",
      "Dataset Name:  reddit  Best AUC Score (contextual):  62.10358988213498\n",
      "Dataset Name:  reddit  Best AUC Score (structural):  61.423642814847526\n",
      "Dataset Name:  reddit  Best AUC Score (joint-type):  55.4883857647263\n",
      "Dataset Name:  reddit  Best AUC Score (structure type):  61.197010949584794\n",
      "===========================================================================================\n"
     ]
    },
    {
     "name": "stderr",
     "output_type": "stream",
     "text": [
      " 92%|█████████▏| 462/500 [04:13<00:20,  1.86it/s]"
     ]
    },
    {
     "name": "stdout",
     "output_type": "stream",
     "text": [
      "Dataset Name:  reddit , AUC Score(benchmark/combined):  53.65862382365444\n",
      "Dataset Name:  reddit , AUC Score (contextual):  58.52731709217372\n",
      "Dataset Name:  reddit , AUC Score (structural):  49.29100499103841\n",
      "Dataset Name:  reddit , AUC Score (joint-type):  47.920502200008805\n",
      "Dataset Name:  reddit , AUC Score (structure type):  47.920502200008805\n",
      "===========================================================================================\n",
      "Dataset Name:  reddit  Best AUC Score(benchmark/combined):  59.33976946045843\n",
      "Dataset Name:  reddit  Best AUC Score (contextual):  62.10358988213498\n",
      "Dataset Name:  reddit  Best AUC Score (structural):  61.423642814847526\n",
      "Dataset Name:  reddit  Best AUC Score (joint-type):  55.4883857647263\n",
      "Dataset Name:  reddit  Best AUC Score (structure type):  61.197010949584794\n",
      "===========================================================================================\n"
     ]
    },
    {
     "name": "stderr",
     "output_type": "stream",
     "text": [
      " 93%|█████████▎| 463/500 [04:14<00:21,  1.71it/s]"
     ]
    },
    {
     "name": "stdout",
     "output_type": "stream",
     "text": [
      "Dataset Name:  reddit , AUC Score(benchmark/combined):  53.18668319700437\n",
      "Dataset Name:  reddit , AUC Score (contextual):  58.48304877660083\n",
      "Dataset Name:  reddit , AUC Score (structural):  50.85025856987222\n",
      "Dataset Name:  reddit , AUC Score (joint-type):  47.466157505149035\n",
      "Dataset Name:  reddit , AUC Score (structure type):  47.466157505149035\n",
      "===========================================================================================\n",
      "Dataset Name:  reddit  Best AUC Score(benchmark/combined):  59.33976946045843\n",
      "Dataset Name:  reddit  Best AUC Score (contextual):  62.10358988213498\n",
      "Dataset Name:  reddit  Best AUC Score (structural):  61.423642814847526\n",
      "Dataset Name:  reddit  Best AUC Score (joint-type):  55.4883857647263\n",
      "Dataset Name:  reddit  Best AUC Score (structure type):  61.197010949584794\n",
      "===========================================================================================\n"
     ]
    },
    {
     "name": "stderr",
     "output_type": "stream",
     "text": [
      " 93%|█████████▎| 464/500 [04:15<00:20,  1.76it/s]"
     ]
    },
    {
     "name": "stdout",
     "output_type": "stream",
     "text": [
      "Dataset Name:  reddit , AUC Score(benchmark/combined):  53.788056573691236\n",
      "Dataset Name:  reddit , AUC Score (contextual):  58.408779191159695\n",
      "Dataset Name:  reddit , AUC Score (structural):  51.10396637364955\n",
      "Dataset Name:  reddit , AUC Score (joint-type):  47.96191204720469\n",
      "Dataset Name:  reddit , AUC Score (structure type):  47.96191204720469\n",
      "===========================================================================================\n",
      "Dataset Name:  reddit  Best AUC Score(benchmark/combined):  59.33976946045843\n",
      "Dataset Name:  reddit  Best AUC Score (contextual):  62.10358988213498\n",
      "Dataset Name:  reddit  Best AUC Score (structural):  61.423642814847526\n",
      "Dataset Name:  reddit  Best AUC Score (joint-type):  55.4883857647263\n",
      "Dataset Name:  reddit  Best AUC Score (structure type):  61.197010949584794\n",
      "===========================================================================================\n"
     ]
    },
    {
     "name": "stderr",
     "output_type": "stream",
     "text": [
      " 93%|█████████▎| 465/500 [04:15<00:19,  1.79it/s]"
     ]
    },
    {
     "name": "stdout",
     "output_type": "stream",
     "text": [
      "Dataset Name:  reddit , AUC Score(benchmark/combined):  52.92986340341743\n",
      "Dataset Name:  reddit , AUC Score (contextual):  58.56908108589419\n",
      "Dataset Name:  reddit , AUC Score (structural):  50.17915719284425\n",
      "Dataset Name:  reddit , AUC Score (joint-type):  47.90828414491068\n",
      "Dataset Name:  reddit , AUC Score (structure type):  47.90828414491068\n",
      "===========================================================================================\n",
      "Dataset Name:  reddit  Best AUC Score(benchmark/combined):  59.33976946045843\n",
      "Dataset Name:  reddit  Best AUC Score (contextual):  62.10358988213498\n",
      "Dataset Name:  reddit  Best AUC Score (structural):  61.423642814847526\n",
      "Dataset Name:  reddit  Best AUC Score (joint-type):  55.4883857647263\n",
      "Dataset Name:  reddit  Best AUC Score (structure type):  61.197010949584794\n",
      "===========================================================================================\n"
     ]
    },
    {
     "name": "stderr",
     "output_type": "stream",
     "text": [
      " 93%|█████████▎| 466/500 [04:16<00:18,  1.81it/s]"
     ]
    },
    {
     "name": "stdout",
     "output_type": "stream",
     "text": [
      "Dataset Name:  reddit , AUC Score(benchmark/combined):  53.169352589221106\n",
      "Dataset Name:  reddit , AUC Score (contextual):  58.28108407286716\n",
      "Dataset Name:  reddit , AUC Score (structural):  49.123572793104984\n",
      "Dataset Name:  reddit , AUC Score (joint-type):  47.71231463591461\n",
      "Dataset Name:  reddit , AUC Score (structure type):  47.71231463591461\n",
      "===========================================================================================\n",
      "Dataset Name:  reddit  Best AUC Score(benchmark/combined):  59.33976946045843\n",
      "Dataset Name:  reddit  Best AUC Score (contextual):  62.10358988213498\n",
      "Dataset Name:  reddit  Best AUC Score (structural):  61.423642814847526\n",
      "Dataset Name:  reddit  Best AUC Score (joint-type):  55.4883857647263\n",
      "Dataset Name:  reddit  Best AUC Score (structure type):  61.197010949584794\n",
      "===========================================================================================\n"
     ]
    },
    {
     "name": "stderr",
     "output_type": "stream",
     "text": [
      " 93%|█████████▎| 467/500 [04:16<00:18,  1.83it/s]"
     ]
    },
    {
     "name": "stdout",
     "output_type": "stream",
     "text": [
      "Dataset Name:  reddit , AUC Score(benchmark/combined):  53.627719503019414\n",
      "Dataset Name:  reddit , AUC Score (contextual):  58.758524180365804\n",
      "Dataset Name:  reddit , AUC Score (structural):  51.081966881572406\n",
      "Dataset Name:  reddit , AUC Score (joint-type):  47.932669662746264\n",
      "Dataset Name:  reddit , AUC Score (structure type):  47.932669662746264\n",
      "===========================================================================================\n",
      "Dataset Name:  reddit  Best AUC Score(benchmark/combined):  59.33976946045843\n",
      "Dataset Name:  reddit  Best AUC Score (contextual):  62.10358988213498\n",
      "Dataset Name:  reddit  Best AUC Score (structural):  61.423642814847526\n",
      "Dataset Name:  reddit  Best AUC Score (joint-type):  55.4883857647263\n",
      "Dataset Name:  reddit  Best AUC Score (structure type):  61.197010949584794\n",
      "===========================================================================================\n"
     ]
    },
    {
     "name": "stderr",
     "output_type": "stream",
     "text": [
      " 94%|█████████▎| 468/500 [04:17<00:17,  1.83it/s]"
     ]
    },
    {
     "name": "stdout",
     "output_type": "stream",
     "text": [
      "Dataset Name:  reddit , AUC Score(benchmark/combined):  52.60437734870263\n",
      "Dataset Name:  reddit , AUC Score (contextual):  57.764839624746344\n",
      "Dataset Name:  reddit , AUC Score (structural):  49.65711891031315\n",
      "Dataset Name:  reddit , AUC Score (joint-type):  47.41030353898622\n",
      "Dataset Name:  reddit , AUC Score (structure type):  47.41030353898622\n",
      "===========================================================================================\n",
      "Dataset Name:  reddit  Best AUC Score(benchmark/combined):  59.33976946045843\n",
      "Dataset Name:  reddit  Best AUC Score (contextual):  62.10358988213498\n",
      "Dataset Name:  reddit  Best AUC Score (structural):  61.423642814847526\n",
      "Dataset Name:  reddit  Best AUC Score (joint-type):  55.4883857647263\n",
      "Dataset Name:  reddit  Best AUC Score (structure type):  61.197010949584794\n",
      "===========================================================================================\n"
     ]
    },
    {
     "name": "stderr",
     "output_type": "stream",
     "text": [
      " 94%|█████████▍| 469/500 [04:17<00:16,  1.82it/s]"
     ]
    },
    {
     "name": "stdout",
     "output_type": "stream",
     "text": [
      "Dataset Name:  reddit , AUC Score(benchmark/combined):  52.883674181485816\n",
      "Dataset Name:  reddit , AUC Score (contextual):  57.97497499472575\n",
      "Dataset Name:  reddit , AUC Score (structural):  48.2065565150391\n",
      "Dataset Name:  reddit , AUC Score (joint-type):  47.59615457585136\n",
      "Dataset Name:  reddit , AUC Score (structure type):  47.59615457585136\n",
      "===========================================================================================\n",
      "Dataset Name:  reddit  Best AUC Score(benchmark/combined):  59.33976946045843\n",
      "Dataset Name:  reddit  Best AUC Score (contextual):  62.10358988213498\n",
      "Dataset Name:  reddit  Best AUC Score (structural):  61.423642814847526\n",
      "Dataset Name:  reddit  Best AUC Score (joint-type):  55.4883857647263\n",
      "Dataset Name:  reddit  Best AUC Score (structure type):  61.197010949584794\n",
      "===========================================================================================\n"
     ]
    },
    {
     "name": "stderr",
     "output_type": "stream",
     "text": [
      " 94%|█████████▍| 470/500 [04:18<00:16,  1.84it/s]"
     ]
    },
    {
     "name": "stdout",
     "output_type": "stream",
     "text": [
      "Dataset Name:  reddit , AUC Score(benchmark/combined):  53.750642017318775\n",
      "Dataset Name:  reddit , AUC Score (contextual):  58.89886738882202\n",
      "Dataset Name:  reddit , AUC Score (structural):  50.68025691879136\n",
      "Dataset Name:  reddit , AUC Score (joint-type):  47.83280034281384\n",
      "Dataset Name:  reddit , AUC Score (structure type):  47.83280034281384\n",
      "===========================================================================================\n",
      "Dataset Name:  reddit  Best AUC Score(benchmark/combined):  59.33976946045843\n",
      "Dataset Name:  reddit  Best AUC Score (contextual):  62.10358988213498\n",
      "Dataset Name:  reddit  Best AUC Score (structural):  61.423642814847526\n",
      "Dataset Name:  reddit  Best AUC Score (joint-type):  55.4883857647263\n",
      "Dataset Name:  reddit  Best AUC Score (structure type):  61.197010949584794\n",
      "===========================================================================================\n"
     ]
    },
    {
     "name": "stderr",
     "output_type": "stream",
     "text": [
      " 94%|█████████▍| 471/500 [04:18<00:15,  1.86it/s]"
     ]
    },
    {
     "name": "stdout",
     "output_type": "stream",
     "text": [
      "Dataset Name:  reddit , AUC Score(benchmark/combined):  53.64661977238363\n",
      "Dataset Name:  reddit , AUC Score (contextual):  58.654556879220344\n",
      "Dataset Name:  reddit , AUC Score (structural):  50.72514277870941\n",
      "Dataset Name:  reddit , AUC Score (joint-type):  47.56177706678647\n",
      "Dataset Name:  reddit , AUC Score (structure type):  47.56177706678647\n",
      "===========================================================================================\n",
      "Dataset Name:  reddit  Best AUC Score(benchmark/combined):  59.33976946045843\n",
      "Dataset Name:  reddit  Best AUC Score (contextual):  62.10358988213498\n",
      "Dataset Name:  reddit  Best AUC Score (structural):  61.423642814847526\n",
      "Dataset Name:  reddit  Best AUC Score (joint-type):  55.4883857647263\n",
      "Dataset Name:  reddit  Best AUC Score (structure type):  61.197010949584794\n",
      "===========================================================================================\n"
     ]
    },
    {
     "name": "stderr",
     "output_type": "stream",
     "text": [
      " 94%|█████████▍| 472/500 [04:19<00:15,  1.86it/s]"
     ]
    },
    {
     "name": "stdout",
     "output_type": "stream",
     "text": [
      "Dataset Name:  reddit , AUC Score(benchmark/combined):  53.694494450603\n",
      "Dataset Name:  reddit , AUC Score (contextual):  58.10330251752646\n",
      "Dataset Name:  reddit , AUC Score (structural):  48.57142715053282\n",
      "Dataset Name:  reddit , AUC Score (joint-type):  47.261612591021986\n",
      "Dataset Name:  reddit , AUC Score (structure type):  47.261612591021986\n",
      "===========================================================================================\n",
      "Dataset Name:  reddit  Best AUC Score(benchmark/combined):  59.33976946045843\n",
      "Dataset Name:  reddit  Best AUC Score (contextual):  62.10358988213498\n",
      "Dataset Name:  reddit  Best AUC Score (structural):  61.423642814847526\n",
      "Dataset Name:  reddit  Best AUC Score (joint-type):  55.4883857647263\n",
      "Dataset Name:  reddit  Best AUC Score (structure type):  61.197010949584794\n",
      "===========================================================================================\n"
     ]
    },
    {
     "name": "stderr",
     "output_type": "stream",
     "text": [
      " 95%|█████████▍| 473/500 [04:19<00:14,  1.86it/s]"
     ]
    },
    {
     "name": "stdout",
     "output_type": "stream",
     "text": [
      "Dataset Name:  reddit , AUC Score(benchmark/combined):  53.954196245781205\n",
      "Dataset Name:  reddit , AUC Score (contextual):  59.264599563995034\n",
      "Dataset Name:  reddit , AUC Score (structural):  50.56988647327139\n",
      "Dataset Name:  reddit , AUC Score (joint-type):  47.26692478889073\n",
      "Dataset Name:  reddit , AUC Score (structure type):  47.26692478889073\n",
      "===========================================================================================\n",
      "Dataset Name:  reddit  Best AUC Score(benchmark/combined):  59.33976946045843\n",
      "Dataset Name:  reddit  Best AUC Score (contextual):  62.10358988213498\n",
      "Dataset Name:  reddit  Best AUC Score (structural):  61.423642814847526\n",
      "Dataset Name:  reddit  Best AUC Score (joint-type):  55.4883857647263\n",
      "Dataset Name:  reddit  Best AUC Score (structure type):  61.197010949584794\n",
      "===========================================================================================\n"
     ]
    },
    {
     "name": "stderr",
     "output_type": "stream",
     "text": [
      " 95%|█████████▍| 474/500 [04:20<00:13,  1.86it/s]"
     ]
    },
    {
     "name": "stdout",
     "output_type": "stream",
     "text": [
      "Dataset Name:  reddit , AUC Score(benchmark/combined):  54.31795888413016\n",
      "Dataset Name:  reddit , AUC Score (contextual):  58.67155591240034\n",
      "Dataset Name:  reddit , AUC Score (structural):  50.555320160493025\n",
      "Dataset Name:  reddit , AUC Score (joint-type):  47.363505605380595\n",
      "Dataset Name:  reddit , AUC Score (structure type):  47.363505605380595\n",
      "===========================================================================================\n",
      "Dataset Name:  reddit  Best AUC Score(benchmark/combined):  59.33976946045843\n",
      "Dataset Name:  reddit  Best AUC Score (contextual):  62.10358988213498\n",
      "Dataset Name:  reddit  Best AUC Score (structural):  61.423642814847526\n",
      "Dataset Name:  reddit  Best AUC Score (joint-type):  55.4883857647263\n",
      "Dataset Name:  reddit  Best AUC Score (structure type):  61.197010949584794\n",
      "===========================================================================================\n"
     ]
    },
    {
     "name": "stderr",
     "output_type": "stream",
     "text": [
      " 95%|█████████▌| 475/500 [04:20<00:13,  1.87it/s]"
     ]
    },
    {
     "name": "stdout",
     "output_type": "stream",
     "text": [
      "Dataset Name:  reddit , AUC Score(benchmark/combined):  53.93238824266866\n",
      "Dataset Name:  reddit , AUC Score (contextual):  57.805768844516\n",
      "Dataset Name:  reddit , AUC Score (structural):  47.59386461004321\n",
      "Dataset Name:  reddit , AUC Score (joint-type):  48.04898149989148\n",
      "Dataset Name:  reddit , AUC Score (structure type):  48.04898149989148\n",
      "===========================================================================================\n",
      "Dataset Name:  reddit  Best AUC Score(benchmark/combined):  59.33976946045843\n",
      "Dataset Name:  reddit  Best AUC Score (contextual):  62.10358988213498\n",
      "Dataset Name:  reddit  Best AUC Score (structural):  61.423642814847526\n",
      "Dataset Name:  reddit  Best AUC Score (joint-type):  55.4883857647263\n",
      "Dataset Name:  reddit  Best AUC Score (structure type):  61.197010949584794\n",
      "===========================================================================================\n"
     ]
    },
    {
     "name": "stderr",
     "output_type": "stream",
     "text": [
      " 95%|█████████▌| 476/500 [04:21<00:12,  1.87it/s]"
     ]
    },
    {
     "name": "stdout",
     "output_type": "stream",
     "text": [
      "Dataset Name:  reddit , AUC Score(benchmark/combined):  54.53235921679549\n",
      "Dataset Name:  reddit , AUC Score (contextual):  57.50884227983343\n",
      "Dataset Name:  reddit , AUC Score (structural):  48.33197566744447\n",
      "Dataset Name:  reddit , AUC Score (joint-type):  47.334465590364786\n",
      "Dataset Name:  reddit , AUC Score (structure type):  47.334465590364786\n",
      "===========================================================================================\n",
      "Dataset Name:  reddit  Best AUC Score(benchmark/combined):  59.33976946045843\n",
      "Dataset Name:  reddit  Best AUC Score (contextual):  62.10358988213498\n",
      "Dataset Name:  reddit  Best AUC Score (structural):  61.423642814847526\n",
      "Dataset Name:  reddit  Best AUC Score (joint-type):  55.4883857647263\n",
      "Dataset Name:  reddit  Best AUC Score (structure type):  61.197010949584794\n",
      "===========================================================================================\n"
     ]
    },
    {
     "name": "stderr",
     "output_type": "stream",
     "text": [
      " 95%|█████████▌| 477/500 [04:21<00:12,  1.87it/s]"
     ]
    },
    {
     "name": "stdout",
     "output_type": "stream",
     "text": [
      "Dataset Name:  reddit , AUC Score(benchmark/combined):  55.68972731118515\n",
      "Dataset Name:  reddit , AUC Score (contextual):  57.67144612697772\n",
      "Dataset Name:  reddit , AUC Score (structural):  46.91844986715098\n",
      "Dataset Name:  reddit , AUC Score (joint-type):  48.42364322672005\n",
      "Dataset Name:  reddit , AUC Score (structure type):  48.42364322672005\n",
      "===========================================================================================\n",
      "Dataset Name:  reddit  Best AUC Score(benchmark/combined):  59.33976946045843\n",
      "Dataset Name:  reddit  Best AUC Score (contextual):  62.10358988213498\n",
      "Dataset Name:  reddit  Best AUC Score (structural):  61.423642814847526\n",
      "Dataset Name:  reddit  Best AUC Score (joint-type):  55.4883857647263\n",
      "Dataset Name:  reddit  Best AUC Score (structure type):  61.197010949584794\n",
      "===========================================================================================\n"
     ]
    },
    {
     "name": "stderr",
     "output_type": "stream",
     "text": [
      " 96%|█████████▌| 478/500 [04:22<00:11,  1.86it/s]"
     ]
    },
    {
     "name": "stdout",
     "output_type": "stream",
     "text": [
      "Dataset Name:  reddit , AUC Score(benchmark/combined):  55.833814524670444\n",
      "Dataset Name:  reddit , AUC Score (contextual):  53.35020082637563\n",
      "Dataset Name:  reddit , AUC Score (structural):  43.918120977148114\n",
      "Dataset Name:  reddit , AUC Score (joint-type):  49.057894356068026\n",
      "Dataset Name:  reddit , AUC Score (structure type):  49.057894356068026\n",
      "===========================================================================================\n",
      "Dataset Name:  reddit  Best AUC Score(benchmark/combined):  59.33976946045843\n",
      "Dataset Name:  reddit  Best AUC Score (contextual):  62.10358988213498\n",
      "Dataset Name:  reddit  Best AUC Score (structural):  61.423642814847526\n",
      "Dataset Name:  reddit  Best AUC Score (joint-type):  55.4883857647263\n",
      "Dataset Name:  reddit  Best AUC Score (structure type):  61.197010949584794\n",
      "===========================================================================================\n"
     ]
    },
    {
     "name": "stderr",
     "output_type": "stream",
     "text": [
      " 96%|█████████▌| 479/500 [04:23<00:12,  1.71it/s]"
     ]
    },
    {
     "name": "stdout",
     "output_type": "stream",
     "text": [
      "Dataset Name:  reddit , AUC Score(benchmark/combined):  55.57721345441857\n",
      "Dataset Name:  reddit , AUC Score (contextual):  53.53663367538829\n",
      "Dataset Name:  reddit , AUC Score (structural):  44.328373128360596\n",
      "Dataset Name:  reddit , AUC Score (joint-type):  50.937147592587806\n",
      "Dataset Name:  reddit , AUC Score (structure type):  50.937147592587806\n",
      "===========================================================================================\n",
      "Dataset Name:  reddit  Best AUC Score(benchmark/combined):  59.33976946045843\n",
      "Dataset Name:  reddit  Best AUC Score (contextual):  62.10358988213498\n",
      "Dataset Name:  reddit  Best AUC Score (structural):  61.423642814847526\n",
      "Dataset Name:  reddit  Best AUC Score (joint-type):  55.4883857647263\n",
      "Dataset Name:  reddit  Best AUC Score (structure type):  61.197010949584794\n",
      "===========================================================================================\n"
     ]
    },
    {
     "name": "stderr",
     "output_type": "stream",
     "text": [
      " 96%|█████████▌| 480/500 [04:23<00:11,  1.75it/s]"
     ]
    },
    {
     "name": "stdout",
     "output_type": "stream",
     "text": [
      "Dataset Name:  reddit , AUC Score(benchmark/combined):  55.710300170758586\n",
      "Dataset Name:  reddit , AUC Score (contextual):  52.5103929356875\n",
      "Dataset Name:  reddit , AUC Score (structural):  44.606699608713726\n",
      "Dataset Name:  reddit , AUC Score (joint-type):  49.863729476576495\n",
      "Dataset Name:  reddit , AUC Score (structure type):  49.863729476576495\n",
      "===========================================================================================\n",
      "Dataset Name:  reddit  Best AUC Score(benchmark/combined):  59.33976946045843\n",
      "Dataset Name:  reddit  Best AUC Score (contextual):  62.10358988213498\n",
      "Dataset Name:  reddit  Best AUC Score (structural):  61.423642814847526\n",
      "Dataset Name:  reddit  Best AUC Score (joint-type):  55.4883857647263\n",
      "Dataset Name:  reddit  Best AUC Score (structure type):  61.197010949584794\n",
      "===========================================================================================\n"
     ]
    },
    {
     "name": "stderr",
     "output_type": "stream",
     "text": [
      " 96%|█████████▌| 481/500 [04:24<00:10,  1.78it/s]"
     ]
    },
    {
     "name": "stdout",
     "output_type": "stream",
     "text": [
      "Dataset Name:  reddit , AUC Score(benchmark/combined):  55.730589976604314\n",
      "Dataset Name:  reddit , AUC Score (contextual):  54.19676279721114\n",
      "Dataset Name:  reddit , AUC Score (structural):  45.23689860705801\n",
      "Dataset Name:  reddit , AUC Score (joint-type):  51.1596527947473\n",
      "Dataset Name:  reddit , AUC Score (structure type):  51.1596527947473\n",
      "===========================================================================================\n",
      "Dataset Name:  reddit  Best AUC Score(benchmark/combined):  59.33976946045843\n",
      "Dataset Name:  reddit  Best AUC Score (contextual):  62.10358988213498\n",
      "Dataset Name:  reddit  Best AUC Score (structural):  61.423642814847526\n",
      "Dataset Name:  reddit  Best AUC Score (joint-type):  55.4883857647263\n",
      "Dataset Name:  reddit  Best AUC Score (structure type):  61.197010949584794\n",
      "===========================================================================================\n"
     ]
    },
    {
     "name": "stderr",
     "output_type": "stream",
     "text": [
      " 96%|█████████▋| 482/500 [04:24<00:09,  1.81it/s]"
     ]
    },
    {
     "name": "stdout",
     "output_type": "stream",
     "text": [
      "Dataset Name:  reddit , AUC Score(benchmark/combined):  56.077266462662124\n",
      "Dataset Name:  reddit , AUC Score (contextual):  51.63395617588535\n",
      "Dataset Name:  reddit , AUC Score (structural):  45.13549638187843\n",
      "Dataset Name:  reddit , AUC Score (joint-type):  50.54308369544815\n",
      "Dataset Name:  reddit , AUC Score (structure type):  50.54308369544815\n",
      "===========================================================================================\n",
      "Dataset Name:  reddit  Best AUC Score(benchmark/combined):  59.33976946045843\n",
      "Dataset Name:  reddit  Best AUC Score (contextual):  62.10358988213498\n",
      "Dataset Name:  reddit  Best AUC Score (structural):  61.423642814847526\n",
      "Dataset Name:  reddit  Best AUC Score (joint-type):  55.4883857647263\n",
      "Dataset Name:  reddit  Best AUC Score (structure type):  61.197010949584794\n",
      "===========================================================================================\n"
     ]
    },
    {
     "name": "stderr",
     "output_type": "stream",
     "text": [
      " 97%|█████████▋| 483/500 [04:25<00:09,  1.83it/s]"
     ]
    },
    {
     "name": "stdout",
     "output_type": "stream",
     "text": [
      "Dataset Name:  reddit , AUC Score(benchmark/combined):  52.52575274279062\n",
      "Dataset Name:  reddit , AUC Score (contextual):  53.07351120595493\n",
      "Dataset Name:  reddit , AUC Score (structural):  47.084098367286586\n",
      "Dataset Name:  reddit , AUC Score (joint-type):  51.41645961743069\n",
      "Dataset Name:  reddit , AUC Score (structure type):  51.41645961743069\n",
      "===========================================================================================\n",
      "Dataset Name:  reddit  Best AUC Score(benchmark/combined):  59.33976946045843\n",
      "Dataset Name:  reddit  Best AUC Score (contextual):  62.10358988213498\n",
      "Dataset Name:  reddit  Best AUC Score (structural):  61.423642814847526\n",
      "Dataset Name:  reddit  Best AUC Score (joint-type):  55.4883857647263\n",
      "Dataset Name:  reddit  Best AUC Score (structure type):  61.197010949584794\n",
      "===========================================================================================\n"
     ]
    },
    {
     "name": "stderr",
     "output_type": "stream",
     "text": [
      " 97%|█████████▋| 484/500 [04:25<00:08,  1.84it/s]"
     ]
    },
    {
     "name": "stdout",
     "output_type": "stream",
     "text": [
      "Dataset Name:  reddit , AUC Score(benchmark/combined):  52.44168578565937\n",
      "Dataset Name:  reddit , AUC Score (contextual):  57.18201563000391\n",
      "Dataset Name:  reddit , AUC Score (structural):  54.199199258936545\n",
      "Dataset Name:  reddit , AUC Score (joint-type):  50.3893841037791\n",
      "Dataset Name:  reddit , AUC Score (structure type):  50.3893841037791\n",
      "===========================================================================================\n",
      "Dataset Name:  reddit  Best AUC Score(benchmark/combined):  59.33976946045843\n",
      "Dataset Name:  reddit  Best AUC Score (contextual):  62.10358988213498\n",
      "Dataset Name:  reddit  Best AUC Score (structural):  61.423642814847526\n",
      "Dataset Name:  reddit  Best AUC Score (joint-type):  55.4883857647263\n",
      "Dataset Name:  reddit  Best AUC Score (structure type):  61.197010949584794\n",
      "===========================================================================================\n"
     ]
    },
    {
     "name": "stderr",
     "output_type": "stream",
     "text": [
      " 97%|█████████▋| 485/500 [04:26<00:08,  1.85it/s]"
     ]
    },
    {
     "name": "stdout",
     "output_type": "stream",
     "text": [
      "Dataset Name:  reddit , AUC Score(benchmark/combined):  47.551816844681724\n",
      "Dataset Name:  reddit , AUC Score (contextual):  58.002573127462895\n",
      "Dataset Name:  reddit , AUC Score (structural):  50.62720351328789\n",
      "Dataset Name:  reddit , AUC Score (joint-type):  50.21747126227434\n",
      "Dataset Name:  reddit , AUC Score (structure type):  50.21747126227434\n",
      "===========================================================================================\n",
      "Dataset Name:  reddit  Best AUC Score(benchmark/combined):  59.33976946045843\n",
      "Dataset Name:  reddit  Best AUC Score (contextual):  62.10358988213498\n",
      "Dataset Name:  reddit  Best AUC Score (structural):  61.423642814847526\n",
      "Dataset Name:  reddit  Best AUC Score (joint-type):  55.4883857647263\n",
      "Dataset Name:  reddit  Best AUC Score (structure type):  61.197010949584794\n",
      "===========================================================================================\n"
     ]
    },
    {
     "name": "stderr",
     "output_type": "stream",
     "text": [
      " 97%|█████████▋| 486/500 [04:26<00:07,  1.86it/s]"
     ]
    },
    {
     "name": "stdout",
     "output_type": "stream",
     "text": [
      "Dataset Name:  reddit , AUC Score(benchmark/combined):  51.33762185462978\n",
      "Dataset Name:  reddit , AUC Score (contextual):  50.78779894393506\n",
      "Dataset Name:  reddit , AUC Score (structural):  36.781317323816744\n",
      "Dataset Name:  reddit , AUC Score (joint-type):  49.99572494552468\n",
      "Dataset Name:  reddit , AUC Score (structure type):  49.99572494552468\n",
      "===========================================================================================\n",
      "Dataset Name:  reddit  Best AUC Score(benchmark/combined):  59.33976946045843\n",
      "Dataset Name:  reddit  Best AUC Score (contextual):  62.10358988213498\n",
      "Dataset Name:  reddit  Best AUC Score (structural):  61.423642814847526\n",
      "Dataset Name:  reddit  Best AUC Score (joint-type):  55.4883857647263\n",
      "Dataset Name:  reddit  Best AUC Score (structure type):  61.197010949584794\n",
      "===========================================================================================\n"
     ]
    },
    {
     "name": "stderr",
     "output_type": "stream",
     "text": [
      " 97%|█████████▋| 487/500 [04:27<00:07,  1.85it/s]"
     ]
    },
    {
     "name": "stdout",
     "output_type": "stream",
     "text": [
      "Dataset Name:  reddit , AUC Score(benchmark/combined):  51.3071678467434\n",
      "Dataset Name:  reddit , AUC Score (contextual):  50.53478654830078\n",
      "Dataset Name:  reddit , AUC Score (structural):  42.267174390608595\n",
      "Dataset Name:  reddit , AUC Score (joint-type):  51.09216258563389\n",
      "Dataset Name:  reddit , AUC Score (structure type):  51.09216258563389\n",
      "===========================================================================================\n",
      "Dataset Name:  reddit  Best AUC Score(benchmark/combined):  59.33976946045843\n",
      "Dataset Name:  reddit  Best AUC Score (contextual):  62.10358988213498\n",
      "Dataset Name:  reddit  Best AUC Score (structural):  61.423642814847526\n",
      "Dataset Name:  reddit  Best AUC Score (joint-type):  55.4883857647263\n",
      "Dataset Name:  reddit  Best AUC Score (structure type):  61.197010949584794\n",
      "===========================================================================================\n"
     ]
    },
    {
     "name": "stderr",
     "output_type": "stream",
     "text": [
      " 98%|█████████▊| 488/500 [04:28<00:06,  1.84it/s]"
     ]
    },
    {
     "name": "stdout",
     "output_type": "stream",
     "text": [
      "Dataset Name:  reddit , AUC Score(benchmark/combined):  56.070473173196966\n",
      "Dataset Name:  reddit , AUC Score (contextual):  59.037667530278256\n",
      "Dataset Name:  reddit , AUC Score (structural):  51.21790421476518\n",
      "Dataset Name:  reddit , AUC Score (joint-type):  49.49308984241998\n",
      "Dataset Name:  reddit , AUC Score (structure type):  49.49308984241998\n",
      "===========================================================================================\n",
      "Dataset Name:  reddit  Best AUC Score(benchmark/combined):  59.33976946045843\n",
      "Dataset Name:  reddit  Best AUC Score (contextual):  62.10358988213498\n",
      "Dataset Name:  reddit  Best AUC Score (structural):  61.423642814847526\n",
      "Dataset Name:  reddit  Best AUC Score (joint-type):  55.4883857647263\n",
      "Dataset Name:  reddit  Best AUC Score (structure type):  61.197010949584794\n",
      "===========================================================================================\n"
     ]
    },
    {
     "name": "stderr",
     "output_type": "stream",
     "text": [
      " 98%|█████████▊| 489/500 [04:28<00:05,  1.84it/s]"
     ]
    },
    {
     "name": "stdout",
     "output_type": "stream",
     "text": [
      "Dataset Name:  reddit , AUC Score(benchmark/combined):  55.923542556356\n",
      "Dataset Name:  reddit , AUC Score (contextual):  55.805448088949476\n",
      "Dataset Name:  reddit , AUC Score (structural):  44.725436525224076\n",
      "Dataset Name:  reddit , AUC Score (joint-type):  47.68026437543984\n",
      "Dataset Name:  reddit , AUC Score (structure type):  47.68026437543984\n",
      "===========================================================================================\n",
      "Dataset Name:  reddit  Best AUC Score(benchmark/combined):  59.33976946045843\n",
      "Dataset Name:  reddit  Best AUC Score (contextual):  62.10358988213498\n",
      "Dataset Name:  reddit  Best AUC Score (structural):  61.423642814847526\n",
      "Dataset Name:  reddit  Best AUC Score (joint-type):  55.4883857647263\n",
      "Dataset Name:  reddit  Best AUC Score (structure type):  61.197010949584794\n",
      "===========================================================================================\n"
     ]
    },
    {
     "name": "stderr",
     "output_type": "stream",
     "text": [
      " 98%|█████████▊| 490/500 [04:29<00:05,  1.82it/s]"
     ]
    },
    {
     "name": "stdout",
     "output_type": "stream",
     "text": [
      "Dataset Name:  reddit , AUC Score(benchmark/combined):  50.96787648976324\n",
      "Dataset Name:  reddit , AUC Score (contextual):  50.179678768865266\n",
      "Dataset Name:  reddit , AUC Score (structural):  37.55474427144565\n",
      "Dataset Name:  reddit , AUC Score (joint-type):  50.7051816189859\n",
      "Dataset Name:  reddit , AUC Score (structure type):  50.7051816189859\n",
      "===========================================================================================\n",
      "Dataset Name:  reddit  Best AUC Score(benchmark/combined):  59.33976946045843\n",
      "Dataset Name:  reddit  Best AUC Score (contextual):  62.10358988213498\n",
      "Dataset Name:  reddit  Best AUC Score (structural):  61.423642814847526\n",
      "Dataset Name:  reddit  Best AUC Score (joint-type):  55.4883857647263\n",
      "Dataset Name:  reddit  Best AUC Score (structure type):  61.197010949584794\n",
      "===========================================================================================\n"
     ]
    },
    {
     "name": "stderr",
     "output_type": "stream",
     "text": [
      " 98%|█████████▊| 491/500 [04:29<00:04,  1.83it/s]"
     ]
    },
    {
     "name": "stdout",
     "output_type": "stream",
     "text": [
      "Dataset Name:  reddit , AUC Score(benchmark/combined):  54.12741226106406\n",
      "Dataset Name:  reddit , AUC Score (contextual):  56.58947790201575\n",
      "Dataset Name:  reddit , AUC Score (structural):  46.02995286130987\n",
      "Dataset Name:  reddit , AUC Score (joint-type):  49.28267621445697\n",
      "Dataset Name:  reddit , AUC Score (structure type):  49.28267621445697\n",
      "===========================================================================================\n",
      "Dataset Name:  reddit  Best AUC Score(benchmark/combined):  59.33976946045843\n",
      "Dataset Name:  reddit  Best AUC Score (contextual):  62.10358988213498\n",
      "Dataset Name:  reddit  Best AUC Score (structural):  61.423642814847526\n",
      "Dataset Name:  reddit  Best AUC Score (joint-type):  55.4883857647263\n",
      "Dataset Name:  reddit  Best AUC Score (structure type):  61.197010949584794\n",
      "===========================================================================================\n"
     ]
    },
    {
     "name": "stderr",
     "output_type": "stream",
     "text": [
      " 98%|█████████▊| 492/500 [04:30<00:04,  1.84it/s]"
     ]
    },
    {
     "name": "stdout",
     "output_type": "stream",
     "text": [
      "Dataset Name:  reddit , AUC Score(benchmark/combined):  53.203293304389796\n",
      "Dataset Name:  reddit , AUC Score (contextual):  56.94372561132014\n",
      "Dataset Name:  reddit , AUC Score (structural):  48.28292895113927\n",
      "Dataset Name:  reddit , AUC Score (joint-type):  51.36222460680882\n",
      "Dataset Name:  reddit , AUC Score (structure type):  51.36222460680882\n",
      "===========================================================================================\n",
      "Dataset Name:  reddit  Best AUC Score(benchmark/combined):  59.33976946045843\n",
      "Dataset Name:  reddit  Best AUC Score (contextual):  62.10358988213498\n",
      "Dataset Name:  reddit  Best AUC Score (structural):  61.423642814847526\n",
      "Dataset Name:  reddit  Best AUC Score (joint-type):  55.4883857647263\n",
      "Dataset Name:  reddit  Best AUC Score (structure type):  61.197010949584794\n",
      "===========================================================================================\n"
     ]
    },
    {
     "name": "stderr",
     "output_type": "stream",
     "text": [
      " 99%|█████████▊| 493/500 [04:30<00:03,  1.84it/s]"
     ]
    },
    {
     "name": "stdout",
     "output_type": "stream",
     "text": [
      "Dataset Name:  reddit , AUC Score(benchmark/combined):  55.80393949031801\n",
      "Dataset Name:  reddit , AUC Score (contextual):  56.54834631280345\n",
      "Dataset Name:  reddit , AUC Score (structural):  52.491383214541706\n",
      "Dataset Name:  reddit , AUC Score (joint-type):  50.55087491898899\n",
      "Dataset Name:  reddit , AUC Score (structure type):  50.55087491898899\n",
      "===========================================================================================\n",
      "Dataset Name:  reddit  Best AUC Score(benchmark/combined):  59.33976946045843\n",
      "Dataset Name:  reddit  Best AUC Score (contextual):  62.10358988213498\n",
      "Dataset Name:  reddit  Best AUC Score (structural):  61.423642814847526\n",
      "Dataset Name:  reddit  Best AUC Score (joint-type):  55.4883857647263\n",
      "Dataset Name:  reddit  Best AUC Score (structure type):  61.197010949584794\n",
      "===========================================================================================\n"
     ]
    },
    {
     "name": "stderr",
     "output_type": "stream",
     "text": [
      " 99%|█████████▉| 494/500 [04:31<00:03,  1.84it/s]"
     ]
    },
    {
     "name": "stdout",
     "output_type": "stream",
     "text": [
      "Dataset Name:  reddit , AUC Score(benchmark/combined):  54.417207813929735\n",
      "Dataset Name:  reddit , AUC Score (contextual):  58.39203311978298\n",
      "Dataset Name:  reddit , AUC Score (structural):  51.532153307831095\n",
      "Dataset Name:  reddit , AUC Score (joint-type):  48.68244844764929\n",
      "Dataset Name:  reddit , AUC Score (structure type):  48.68244844764929\n",
      "===========================================================================================\n",
      "Dataset Name:  reddit  Best AUC Score(benchmark/combined):  59.33976946045843\n",
      "Dataset Name:  reddit  Best AUC Score (contextual):  62.10358988213498\n",
      "Dataset Name:  reddit  Best AUC Score (structural):  61.423642814847526\n",
      "Dataset Name:  reddit  Best AUC Score (joint-type):  55.4883857647263\n",
      "Dataset Name:  reddit  Best AUC Score (structure type):  61.197010949584794\n",
      "===========================================================================================\n"
     ]
    },
    {
     "name": "stderr",
     "output_type": "stream",
     "text": [
      " 99%|█████████▉| 495/500 [04:31<00:02,  1.85it/s]"
     ]
    },
    {
     "name": "stdout",
     "output_type": "stream",
     "text": [
      "Dataset Name:  reddit , AUC Score(benchmark/combined):  55.82401057282868\n",
      "Dataset Name:  reddit , AUC Score (contextual):  53.68881549623771\n",
      "Dataset Name:  reddit , AUC Score (structural):  57.06845454189799\n",
      "Dataset Name:  reddit , AUC Score (joint-type):  49.96941691798421\n",
      "Dataset Name:  reddit , AUC Score (structure type):  49.96941691798421\n",
      "===========================================================================================\n",
      "Dataset Name:  reddit  Best AUC Score(benchmark/combined):  59.33976946045843\n",
      "Dataset Name:  reddit  Best AUC Score (contextual):  62.10358988213498\n",
      "Dataset Name:  reddit  Best AUC Score (structural):  61.423642814847526\n",
      "Dataset Name:  reddit  Best AUC Score (joint-type):  55.4883857647263\n",
      "Dataset Name:  reddit  Best AUC Score (structure type):  61.197010949584794\n",
      "===========================================================================================\n"
     ]
    },
    {
     "name": "stderr",
     "output_type": "stream",
     "text": [
      " 99%|█████████▉| 496/500 [04:32<00:02,  1.85it/s]"
     ]
    },
    {
     "name": "stdout",
     "output_type": "stream",
     "text": [
      "Dataset Name:  reddit , AUC Score(benchmark/combined):  53.54787261964682\n",
      "Dataset Name:  reddit , AUC Score (contextual):  54.606307956711156\n",
      "Dataset Name:  reddit , AUC Score (structural):  45.69636490345818\n",
      "Dataset Name:  reddit , AUC Score (joint-type):  48.89453162351391\n",
      "Dataset Name:  reddit , AUC Score (structure type):  48.89453162351391\n",
      "===========================================================================================\n",
      "Dataset Name:  reddit  Best AUC Score(benchmark/combined):  59.33976946045843\n",
      "Dataset Name:  reddit  Best AUC Score (contextual):  62.10358988213498\n",
      "Dataset Name:  reddit  Best AUC Score (structural):  61.423642814847526\n",
      "Dataset Name:  reddit  Best AUC Score (joint-type):  55.4883857647263\n",
      "Dataset Name:  reddit  Best AUC Score (structure type):  61.197010949584794\n",
      "===========================================================================================\n"
     ]
    },
    {
     "name": "stderr",
     "output_type": "stream",
     "text": [
      " 99%|█████████▉| 497/500 [04:32<00:01,  1.85it/s]"
     ]
    },
    {
     "name": "stdout",
     "output_type": "stream",
     "text": [
      "Dataset Name:  reddit , AUC Score(benchmark/combined):  50.42504377039917\n",
      "Dataset Name:  reddit , AUC Score (contextual):  50.026282731360126\n",
      "Dataset Name:  reddit , AUC Score (structural):  44.93914208777517\n",
      "Dataset Name:  reddit , AUC Score (joint-type):  53.272389775688644\n",
      "Dataset Name:  reddit , AUC Score (structure type):  53.272389775688644\n",
      "===========================================================================================\n",
      "Dataset Name:  reddit  Best AUC Score(benchmark/combined):  59.33976946045843\n",
      "Dataset Name:  reddit  Best AUC Score (contextual):  62.10358988213498\n",
      "Dataset Name:  reddit  Best AUC Score (structural):  61.423642814847526\n",
      "Dataset Name:  reddit  Best AUC Score (joint-type):  55.4883857647263\n",
      "Dataset Name:  reddit  Best AUC Score (structure type):  61.197010949584794\n",
      "===========================================================================================\n"
     ]
    },
    {
     "name": "stderr",
     "output_type": "stream",
     "text": [
      "100%|█████████▉| 498/500 [04:33<00:01,  1.83it/s]"
     ]
    },
    {
     "name": "stdout",
     "output_type": "stream",
     "text": [
      "Dataset Name:  reddit , AUC Score(benchmark/combined):  47.96613030558481\n",
      "Dataset Name:  reddit , AUC Score (contextual):  53.08479330238093\n",
      "Dataset Name:  reddit , AUC Score (structural):  42.40660120694674\n",
      "Dataset Name:  reddit , AUC Score (joint-type):  52.399216223148734\n",
      "Dataset Name:  reddit , AUC Score (structure type):  52.399216223148734\n",
      "===========================================================================================\n",
      "Dataset Name:  reddit  Best AUC Score(benchmark/combined):  59.33976946045843\n",
      "Dataset Name:  reddit  Best AUC Score (contextual):  62.10358988213498\n",
      "Dataset Name:  reddit  Best AUC Score (structural):  61.423642814847526\n",
      "Dataset Name:  reddit  Best AUC Score (joint-type):  55.4883857647263\n",
      "Dataset Name:  reddit  Best AUC Score (structure type):  61.197010949584794\n",
      "===========================================================================================\n"
     ]
    },
    {
     "name": "stderr",
     "output_type": "stream",
     "text": [
      "100%|█████████▉| 499/500 [04:34<00:00,  1.68it/s]"
     ]
    },
    {
     "name": "stdout",
     "output_type": "stream",
     "text": [
      "Dataset Name:  reddit , AUC Score(benchmark/combined):  52.81330959799166\n",
      "Dataset Name:  reddit , AUC Score (contextual):  55.07398373860344\n",
      "Dataset Name:  reddit , AUC Score (structural):  56.6815960183091\n",
      "Dataset Name:  reddit , AUC Score (joint-type):  50.11901852844024\n",
      "Dataset Name:  reddit , AUC Score (structure type):  50.11901852844024\n",
      "===========================================================================================\n",
      "Dataset Name:  reddit  Best AUC Score(benchmark/combined):  59.33976946045843\n",
      "Dataset Name:  reddit  Best AUC Score (contextual):  62.10358988213498\n",
      "Dataset Name:  reddit  Best AUC Score (structural):  61.423642814847526\n",
      "Dataset Name:  reddit  Best AUC Score (joint-type):  55.4883857647263\n",
      "Dataset Name:  reddit  Best AUC Score (structure type):  61.197010949584794\n",
      "===========================================================================================\n"
     ]
    },
    {
     "name": "stderr",
     "output_type": "stream",
     "text": [
      "100%|██████████| 500/500 [04:34<00:00,  1.82it/s]\n"
     ]
    }
   ],
   "source": [
    "device = torch.device(\"cpu\" if torch.cuda.is_available() else \"cpu\")\n",
    "parser = argparse.ArgumentParser(description='parameters')\n",
    "parser.add_argument('-f')\n",
    "parser.add_argument('--dataset', type=str, default=\"reddit\")\n",
    "parser.add_argument('--lr', type=float, default=0.01)\n",
    "parser.add_argument('--epoch_num', type=int, default=500)\n",
    "parser.add_argument('--lambda_n', type=float, default=1e-2) #neighbor reconstruction loss weight\n",
    "parser.add_argument('--lambda_f', type=float, default=0.1) #feature loss weight\n",
    "parser.add_argument('--lambda_d', type=float, default=0.8) #degree loss weight\n",
    "parser.add_argument('--dimension', type=int, default=16)\n",
    "parser.add_argument('--encoder', type=str, default=\"SAGE\")\n",
    "parser.add_argument('--loss_step', type=int, default=30)\n",
    "parser.add_argument('--real_loss', type=bool, default=False) #use real loss or adaptive loss\n",
    "parser.add_argument('--neigh_loss', type=str, default=\"KL\")\n",
    "parser.add_argument('--h_loss_weight', type=float, default=0.5)#adaptive loss weight for h_loss\n",
    "parser.add_argument('--feature_loss_weight', type=float, default=0.5) #adaptive loss weight for feature loss\n",
    "parser.add_argument('--degree_loss_weight', type=float, default=1.0)#adaptive loss weight for degree loss\n",
    "parser.add_argument('--calculate_contextual', type=bool, default=True)\n",
    "parser.add_argument('--contextual_n', type=int, default=183)\n",
    "parser.add_argument('--contextual_k', type=int, default=30)\n",
    "parser.add_argument('--calculate_structural', type=bool, default=True)\n",
    "parser.add_argument('--structural_n', type=int, default=183)\n",
    "parser.add_argument('--structural_m', type=int, default=30)\n",
    "parser.add_argument('--use_combine_outlier', type=bool, default=False)\n",
    "parser.add_argument('--plot_loss', type=bool, default=False)\n",
    "\n",
    "args = parser.parse_args()\n",
    "\n",
    "print(\"GAD-NR: Graph Anomaly Detection via Neighborhood Reconstruction\")\n",
    "print(\"Dataset: \", args.dataset, \"lr:\", args.lr, \"lambda_n (neighbor):\",args.lambda_n, \"lambda_f (feature):\", args.lambda_f, \"lambda_d (degree):\", args.lambda_d,\n",
    "\"dimension:\",args.dimension, \"encoder:\", args.encoder, \"loss_step:\", args.loss_step,\"real_loss:\", args.real_loss, \"h_loss_weight:\",args.h_loss_weight,\"feature_loss_weight\",args.feature_loss_weight,\"degree_loss_weight:\",args.degree_loss_weight,\n",
    "\"calculate_contextual\",args.calculate_contextual,\"calculate_structural\",args.calculate_structural)\n",
    "\n",
    "\n",
    "dataset_str = args.dataset\n",
    "train_real_datasets(dataset_str=dataset_str, lr=args.lr, epoch_num=args.epoch_num, lambda_n=args.lambda_n, \n",
    "                    lambda_f=args.lambda_f, lambda_d=args.lambda_d, encoder=args.encoder, loss_step=args.loss_step, \n",
    "                    hidden_dim=args.dimension,real_loss=args.real_loss,calculate_contextual=args.calculate_contextual,calculate_structural=args.calculate_structural)\n",
    "\n"
   ]
  },
  {
   "cell_type": "code",
   "execution_count": 8,
   "id": "f763216e-9147-4c5f-b1ec-7abad029d029",
   "metadata": {},
   "outputs": [
    {
     "name": "stdout",
     "output_type": "stream",
     "text": [
      "tensor([0.3772])\n"
     ]
    }
   ],
   "source": [
    "import torch\n",
    "a = torch.rand(1)\n",
    "print(a)"
   ]
  },
  {
   "cell_type": "code",
   "execution_count": null,
   "id": "22e040b2-a7cf-44db-9ed0-643676119516",
   "metadata": {},
   "outputs": [],
   "source": []
  }
 ],
 "metadata": {
  "kernelspec": {
   "display_name": "NWRGAE",
   "language": "python",
   "name": "nwrgae"
  },
  "language_info": {
   "codemirror_mode": {
    "name": "ipython",
    "version": 3
   },
   "file_extension": ".py",
   "mimetype": "text/x-python",
   "name": "python",
   "nbconvert_exporter": "python",
   "pygments_lexer": "ipython3",
   "version": "3.8.5"
  }
 },
 "nbformat": 4,
 "nbformat_minor": 5
}
