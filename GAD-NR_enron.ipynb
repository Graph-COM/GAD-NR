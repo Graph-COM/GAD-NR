{
 "cells": [
  {
   "cell_type": "markdown",
   "id": "5727f30e-6d72-4ff1-b47c-20e13af635ea",
   "metadata": {
    "tags": []
   },
   "source": [
    "# Import Libraries"
   ]
  },
  {
   "cell_type": "code",
   "execution_count": 1,
   "id": "277cb61f-9894-42a6-b3e7-f62b3265dc65",
   "metadata": {
    "tags": []
   },
   "outputs": [
    {
     "name": "stderr",
     "output_type": "stream",
     "text": [
      "/home/roy206/.conda/envs/cent7/2020.11-py38/NWRGAE/lib/python3.8/site-packages/tqdm/auto.py:22: TqdmWarning: IProgress not found. Please update jupyter and ipywidgets. See https://ipywidgets.readthedocs.io/en/stable/user_install.html\n",
      "  from .autonotebook import tqdm as notebook_tqdm\n"
     ]
    }
   ],
   "source": [
    "import sys\n",
    "sys.path.append(\"..\")\n",
    "import seaborn as sb\n",
    "import dgl\n",
    "import torch\n",
    "\n",
    "import matplotlib.pyplot as plt\n",
    "import numpy as np\n",
    "from sklearn.manifold import TSNE\n",
    "from tqdm import tqdm\n",
    "import torch.nn.functional as F\n",
    "\n",
    "import statistics\n",
    "import argparse\n",
    "import random\n",
    "\n",
    "from dgl.data import CitationGraphDataset\n",
    "# from dgl.nn import GINConv, GraphConv, SAGEConv\n",
    "import seaborn as sb\n",
    "import torch\n",
    "import torch.nn as nn\n",
    "from torch.autograd import Variable\n",
    "from scipy.optimize import linear_sum_assignment\n",
    "import scipy\n",
    "import scipy.optimize\n",
    "import numpy as np\n",
    "from sklearn.decomposition import PCA\n",
    "from sklearn.preprocessing import StandardScaler\n",
    "import pandas as pd\n",
    "from torch.utils.data import Dataset\n",
    "import matplotlib.pyplot as plt\n",
    "from sklearn.cluster import KMeans\n",
    "import sklearn as sk\n",
    "import networkx as nx\n",
    "\n",
    "\n",
    "import torch\n",
    "import torch.nn as nn\n",
    "import torch.nn.functional as F\n",
    "import torch.multiprocessing as mp\n",
    "import random\n",
    "import math\n",
    "\n",
    "\n",
    "import torch\n",
    "import torch.nn as nn\n",
    "import torch.nn.functional as F\n",
    "from torch_geometric.data import Data\n",
    "\n",
    "from torch_geometric.nn import GCNConv,GINConv,SAGEConv,GATConv,PNAConv, GraphSAGE\n",
    "from torch_geometric.utils import add_self_loops\n",
    "from torch_geometric.transforms import normalize_features\n",
    "from pygod.utils import load_data\n",
    "from pygod.utils.utility import check_parameter\n",
    "from pygod.metrics import eval_roc_auc\n",
    "from pygod.generator import gen_contextual_outliers, gen_structural_outliers\n",
    "from scipy.linalg import sqrtm"
   ]
  },
  {
   "cell_type": "markdown",
   "id": "57a8a0f6-41cb-4b22-9192-418310bf8923",
   "metadata": {
    "tags": []
   },
   "source": [
    "# Utils"
   ]
  },
  {
   "cell_type": "code",
   "execution_count": 2,
   "id": "26a1f108-b244-4fed-92da-07a65c574a03",
   "metadata": {},
   "outputs": [],
   "source": [
    "\n",
    "def _normalize(x):\n",
    "    x_min = x.min()\n",
    "    x_max = x.max()\n",
    "    x_norm = (x - x_min)/x_max\n",
    "    return x_norm\n",
    "\n",
    "def gen_joint_structural_outliers(data, m, n, random_state=None):\n",
    "    \"\"\"\n",
    "    We randomly select n nodes from the network which will be the anomalies \n",
    "    and for each node we select m nodes from the network. \n",
    "    We connect each of n nodes with the m other nodes.\n",
    "\n",
    "    Parameters\n",
    "    ----------\n",
    "    data : PyTorch Geometric Data instance (torch_geometric.data.Data)\n",
    "        The input data.\n",
    "    m : int\n",
    "        Number nodes in the outlier cliques.\n",
    "    n : int\n",
    "        Number of outlier cliques.\n",
    "    p : int, optional\n",
    "        Probability of edge drop in cliques. Default: ``0``.\n",
    "    random_state : int, optional\n",
    "        The seed to control the randomness, Default: ``None``.\n",
    "\n",
    "    Returns\n",
    "    -------\n",
    "    data : PyTorch Geometric Data instance (torch_geometric.data.Data)\n",
    "        The structural outlier graph with injected edges.\n",
    "    y_outlier : torch.Tensor\n",
    "        The outlier label tensor where 1 represents outliers and 0 represents\n",
    "        regular nodes.\n",
    "    \"\"\"\n",
    "\n",
    "    if not isinstance(data, Data):\n",
    "        raise TypeError(\"data should be torch_geometric.data.Data\")\n",
    "\n",
    "    if isinstance(m, int):\n",
    "        check_parameter(m, low=0, high=data.num_nodes, param_name='m')\n",
    "    else:\n",
    "        raise ValueError(\"m should be int, got %s\" % m)\n",
    "\n",
    "    if isinstance(n, int):\n",
    "        check_parameter(n, low=0, high=data.num_nodes, param_name='n')\n",
    "    else:\n",
    "        raise ValueError(\"n should be int, got %s\" % n)\n",
    "\n",
    "    check_parameter(m * n, low=0, high=data.num_nodes, param_name='m*n')\n",
    "\n",
    "    if random_state:\n",
    "        np.random.seed(random_state)\n",
    "\n",
    "\n",
    "    outlier_idx = np.random.choice(data.num_nodes, size=n, replace=False)\n",
    "    all_nodes = [i for i in range(data.num_nodes)]\n",
    "    rem_nodes = []\n",
    "    \n",
    "    for node in all_nodes:\n",
    "        if node is not outlier_idx:\n",
    "            rem_nodes.append(node)\n",
    "    \n",
    "    \n",
    "    \n",
    "    new_edges = []\n",
    "    \n",
    "    # connect all m nodes in each clique\n",
    "    for i in range(0, n):\n",
    "        other_idx = np.random.choice(data.num_nodes, size=m, replace=False)\n",
    "        for j in other_idx:\n",
    "            new_edges.append(torch.tensor([[i, j]], dtype=torch.long))\n",
    "                    \n",
    "\n",
    "    new_edges = torch.cat(new_edges)\n",
    "\n",
    "\n",
    "    y_outlier = torch.zeros(data.x.shape[0], dtype=torch.long)\n",
    "    y_outlier[outlier_idx] = 1\n",
    "\n",
    "    data.edge_index = torch.cat([data.edge_index, new_edges.T], dim=1)\n",
    "\n",
    "    return data, y_outlier\n",
    "\n",
    "\n",
    "def KL_neighbor_loss(predictions, targets, mask_len):\n",
    "    x1 = predictions.squeeze().cpu().detach()\n",
    "    x2 = targets.squeeze().cpu().detach()\n",
    "    \n",
    "    mean_x1 = x1.mean(0)\n",
    "    mean_x2 = x2.mean(0)\n",
    "    \n",
    "    nn = x1.shape[0]\n",
    "    h_dim = x1.shape[1]\n",
    "    \n",
    "    cov_x1 = (x1-mean_x1).transpose(1,0).matmul(x1-mean_x1) / max((nn-1),1)\n",
    "    cov_x2 = (x2-mean_x2).transpose(1,0).matmul(x2-mean_x2) / max((nn-1),1)\n",
    "    \n",
    "    eye = torch.eye(h_dim)\n",
    "    cov_x1 = cov_x1 + eye\n",
    "    cov_x2 = cov_x2 + eye\n",
    "    \n",
    "    KL_loss = 0.5 * (math.log(torch.det(cov_x1) / torch.det(cov_x2)) - h_dim  + torch.trace(torch.inverse(cov_x2).matmul(cov_x1)) \n",
    "            + (mean_x2 - mean_x1).reshape(1,-1).matmul(torch.inverse(cov_x2)).matmul(mean_x2 - mean_x1))\n",
    "    KL_loss = KL_loss.to(device)\n",
    "    return KL_loss\n",
    "\n",
    "def W2_neighbor_loss(predictions, targets, mask_len):\n",
    "    \n",
    "    x1 = predictions.squeeze().cpu().detach()\n",
    "    x2 = targets.squeeze().cpu().detach()\n",
    "    \n",
    "    mean_x1 = x1.mean(0)\n",
    "    mean_x2 = x2.mean(0)\n",
    "\n",
    "    nn = x1.shape[0]\n",
    "    \n",
    "    cov_x1 = (x1-mean_x1).transpose(1,0).matmul(x1-mean_x1) / (nn-1)\n",
    "    cov_x2 = (x2-mean_x2).transpose(1,0).matmul(x2-mean_x2) / (nn-1)\n",
    "    \n",
    "\n",
    "    W2_loss = torch.square(mean_x1-mean_x2).sum() + torch.trace(cov_x1 + cov_x2 \n",
    "                     + 2 * sqrtm(sqrtm(cov_x1) @ (cov_x2.numpy()) @ (sqrtm(cov_x1))))\n",
    "\n",
    "    return W2_loss\n",
    "\n"
   ]
  },
  {
   "cell_type": "markdown",
   "id": "d1217613-695f-40ac-926c-46df24c27ca3",
   "metadata": {
    "tags": []
   },
   "source": [
    "# Layers"
   ]
  },
  {
   "cell_type": "code",
   "execution_count": 3,
   "id": "659e39de-85ed-4750-9c65-5071d8d894a0",
   "metadata": {},
   "outputs": [],
   "source": [
    "class MLP(nn.Module):\n",
    "    def __init__(self, num_layers, input_dim, hidden_dim, output_dim):\n",
    "        \n",
    "\n",
    "        super(MLP, self).__init__()\n",
    "\n",
    "        self.linear_or_not = True  # default is linear model\n",
    "        self.num_layers = num_layers\n",
    "\n",
    "        if num_layers < 1:\n",
    "            raise ValueError(\"number of layers should be positive!\")\n",
    "        elif num_layers == 1:\n",
    "            # Linear model\n",
    "            self.linear = nn.Linear(input_dim, output_dim)\n",
    "        else:\n",
    "            # Multi-layer model\n",
    "            self.linear_or_not = False\n",
    "            self.linears = torch.nn.ModuleList()\n",
    "            self.batch_norms = torch.nn.ModuleList()\n",
    "\n",
    "            self.linears.append(nn.Linear(input_dim, hidden_dim))\n",
    "            for layer in range(num_layers - 2):\n",
    "                self.linears.append(nn.Linear(hidden_dim, hidden_dim))\n",
    "            self.linears.append(nn.Linear(hidden_dim, output_dim))\n",
    "\n",
    "            for layer in range(num_layers - 1):\n",
    "                self.batch_norms.append(nn.BatchNorm1d((hidden_dim)))\n",
    "\n",
    "    def forward(self, x):\n",
    "        if self.linear_or_not:\n",
    "            # If linear model\n",
    "            return self.linear(x)\n",
    "        else:\n",
    "            # If MLP\n",
    "            h = x\n",
    "            for layer in range(self.num_layers - 1):\n",
    "                h = self.linears[layer](h)\n",
    "                \n",
    "                if len(h.shape) > 2:\n",
    "                    h = torch.transpose(h, 0, 1)\n",
    "                    h = torch.transpose(h, 1, 2)\n",
    "                    \n",
    "                h = self.batch_norms[layer](h)\n",
    "                \n",
    "                if len(h.shape) > 2:\n",
    "                    h = torch.transpose(h, 1, 2)\n",
    "                    h = torch.transpose(h, 0, 1)\n",
    "\n",
    "                h = F.relu(h)\n",
    "                # h = F.relu(self.linears[layer](h))\n",
    "                \n",
    "            return self.linears[self.num_layers - 1](h)\n",
    "\n",
    "\n",
    "class MLP_generator(nn.Module):\n",
    "    def __init__(self, input_dim, output_dim):\n",
    "        super(MLP_generator, self).__init__()\n",
    "        self.linear = nn.Linear(input_dim, output_dim)\n",
    "        self.linear2 = nn.Linear(output_dim, output_dim)\n",
    "        self.linear3 = nn.Linear(output_dim, output_dim)\n",
    "        self.linear4 = nn.Linear(output_dim, output_dim)\n",
    "\n",
    "    def forward(self, embedding):\n",
    "        neighbor_embedding = F.relu(self.linear(embedding))\n",
    "        neighbor_embedding = F.relu(self.linear2(neighbor_embedding))\n",
    "        neighbor_embedding = F.relu(self.linear3(neighbor_embedding))\n",
    "        neighbor_embedding = self.linear4(neighbor_embedding)\n",
    "        return neighbor_embedding\n",
    "\n",
    "\n",
    "class PairNorm(nn.Module):\n",
    "    def __init__(self, mode='PN', scale=10):\n",
    "        \n",
    "        assert mode in ['None', 'PN', 'PN-SI', 'PN-SCS']\n",
    "        super(PairNorm, self).__init__()\n",
    "        self.mode = mode\n",
    "        self.scale = scale\n",
    "\n",
    "        # Scale can be set based on origina data, and also the current feature lengths.\n",
    "        # We leave the experiments to future. A good pool we used for choosing scale:\n",
    "        # [0.1, 1, 10, 50, 100]\n",
    "    def forward(self, x):\n",
    "        if self.mode == 'None':\n",
    "            return x\n",
    "        col_mean = x.mean(dim=0)\n",
    "        if self.mode == 'PN':\n",
    "            x = x - col_mean\n",
    "            rownorm_mean = (1e-6 + x.pow(2).sum(dim=1).mean()).sqrt()\n",
    "            x = self.scale * x / rownorm_mean\n",
    "        if self.mode == 'PN-SI':\n",
    "            x = x - col_mean\n",
    "            rownorm_individual = (1e-6 + x.pow(2).sum(dim=1, keepdim=True)).sqrt()\n",
    "            x = self.scale * x / rownorm_individual\n",
    "        if self.mode == 'PN-SCS':\n",
    "            rownorm_individual = (1e-6 + x.pow(2).sum(dim=1, keepdim=True)).sqrt()\n",
    "            x = self.scale * x / rownorm_individual - col_mean\n",
    "        return x\n",
    "\n",
    "\n",
    "# FNN\n",
    "class FNN(nn.Module):\n",
    "    def __init__(self, in_features, hidden, out_features, layer_num):\n",
    "        super(FNN, self).__init__()\n",
    "        self.linear1 = MLP(layer_num, in_features, hidden, out_features)\n",
    "        self.linear2 = nn.Linear(out_features, out_features)\n",
    "    def forward(self, embedding):\n",
    "        x = self.linear1(embedding)\n",
    "        x = self.linear2(F.relu(x))\n",
    "        x = F.relu(x)\n",
    "        return x\n"
   ]
  },
  {
   "cell_type": "markdown",
   "id": "95d031cd-1dad-4094-a7d6-56cd9f0d9f53",
   "metadata": {
    "tags": []
   },
   "source": [
    "# GAD-NR"
   ]
  },
  {
   "cell_type": "code",
   "execution_count": 4,
   "id": "2bddf25c-5546-4333-8798-7ad82dbddad8",
   "metadata": {},
   "outputs": [],
   "source": [
    "\n",
    "# Training\n",
    "def train(data, y, yc, ys, yj, ysj, lr, epoch, device, encoder, lambda_loss1, lambda_loss2, lambda_loss3, hidden_dim, sample_size=10,loss_step=20,\n",
    "          real_loss=False,calculate_contextual=False,calculate_structural=False):\n",
    "    '''\n",
    "     Main training function\n",
    "     INPUT:\n",
    "     -----------------------\n",
    "     data : torch geometric dataset object\n",
    "     lr    :    learning rate\n",
    "     epoch     :    number of training epoch\n",
    "     device     :   CPU or GPU\n",
    "     encoder    :    GCN or GIN or GraphSAGE\n",
    "     lambda_loss    :   Trade-off between degree loss and neighborhood reconstruction loss\n",
    "     hidden_dim     :   latent variable dimension\n",
    "    '''\n",
    "    \n",
    "    in_nodes = data.edge_index[0,:]\n",
    "    out_nodes = data.edge_index[1,:]\n",
    "    \n",
    "    \n",
    "    neighbor_dict = {}\n",
    "    for in_node, out_node in zip(in_nodes, out_nodes):\n",
    "        if in_node.item() not in neighbor_dict:\n",
    "            neighbor_dict[in_node.item()] = []\n",
    "        neighbor_dict[in_node.item()].append(out_node.item())\n",
    "\n",
    "    neighbor_num_list = []\n",
    "    for i in neighbor_dict:\n",
    "        neighbor_num_list.append(len(neighbor_dict[i]))\n",
    "    \n",
    "    neighbor_num_list = torch.tensor(neighbor_num_list).to(device)\n",
    "    \n",
    "    in_dim = data.x.shape[1]\n",
    "    GNNModel = GNNStructEncoder(in_dim, hidden_dim, hidden_dim, 2, sample_size, device=device, \n",
    "                    neighbor_num_list=neighbor_num_list, GNN_name=encoder, \n",
    "                    lambda_loss1=lambda_loss1, lambda_loss2=lambda_loss2,lambda_loss3=lambda_loss3)\n",
    "    GNNModel.to(device)\n",
    "    degree_params = list(map(id, GNNModel.degree_decoder.parameters()))\n",
    "    base_params = filter(lambda p: id(p) not in degree_params,\n",
    "                         GNNModel.parameters())\n",
    "\n",
    "    opt = torch.optim.Adam([{'params': base_params}, {'params': GNNModel.degree_decoder.parameters(), 'lr': 1e-2}],lr=lr, weight_decay=0.0003)\n",
    "    min_loss = float('inf')\n",
    "    arg_min_loss_per_node = None\n",
    "    \n",
    "    best_auc = 0\n",
    "    best_auc_contextual = 0\n",
    "    best_auc_dense_structural = 0\n",
    "    best_auc_joint_structural = 0\n",
    "    best_auc_structure_type = 0\n",
    "    \n",
    "        \n",
    "    loss_values = []\n",
    "    for i in tqdm(range(1,epoch+1,1)):\n",
    "        \n",
    "        if i%loss_step==0:\n",
    "            GNNModel.lambda_loss2 = GNNModel.lambda_loss2 + 0.5\n",
    "            GNNModel.lambda_loss3 = GNNModel.lambda_loss3 / 2\n",
    "        \n",
    "        loss,loss_per_node,h_loss,degree_loss,feature_loss = GNNModel(data.edge_index, data.x, neighbor_num_list, neighbor_dict, device=device)\n",
    "        \n",
    "        \n",
    "        \n",
    "        loss_per_node = loss_per_node.cpu().detach()\n",
    "        \n",
    "        h_loss = h_loss.cpu().detach()\n",
    "        degree_loss = degree_loss.cpu().detach()\n",
    "        feature_loss = feature_loss.cpu().detach()\n",
    "        \n",
    "        h_loss_norm = h_loss / (torch.max(h_loss) - torch.min(h_loss))\n",
    "        degree_loss_norm = degree_loss / (torch.max(degree_loss) - torch.min(degree_loss))\n",
    "        feature_loss_norm = feature_loss / (torch.max(feature_loss) - torch.min(feature_loss))\n",
    "        \n",
    "        comb_loss = args.h_loss_weight * h_loss_norm + args.degree_loss_weight *  degree_loss_norm + args.feature_loss_weight * feature_loss_norm\n",
    "        \n",
    "        if real_loss:\n",
    "            comp_loss = loss_per_node\n",
    "        else:\n",
    "            comp_loss = comb_loss\n",
    "            \n",
    "        \n",
    "        auc_score = eval_roc_auc(y.numpy(), comp_loss.numpy()) * 100\n",
    "        print(\"Dataset Name: \",dataset_str, \", AUC Score(benchmark/combined): \", auc_score)\n",
    "        \n",
    "        contextual_auc_score = eval_roc_auc(yc.numpy(), comp_loss.numpy()) * 100\n",
    "        print(\"Dataset Name: \",dataset_str, \", AUC Score (contextual): \", contextual_auc_score)\n",
    "\n",
    "        dense_structural_auc_score = eval_roc_auc(ys.numpy(), comp_loss.numpy()) * 100\n",
    "        print(\"Dataset Name: \",dataset_str, \", AUC Score (structural): \", dense_structural_auc_score)\n",
    "        \n",
    "        joint_type_auc_score = eval_roc_auc(yj.numpy(), comp_loss.numpy()) * 100\n",
    "        print(\"Dataset Name: \",dataset_str, \", AUC Score (joint-type): \", joint_type_auc_score)\n",
    "        \n",
    "        structure_type_auc_score = eval_roc_auc(ysj.numpy(), comp_loss.numpy()) * 100\n",
    "        print(\"Dataset Name: \",dataset_str, \", AUC Score (structure type): \", structure_type_auc_score) \n",
    "        \n",
    "        best_auc = max(best_auc, auc_score)\n",
    "        best_auc_contextual = max(best_auc_contextual, contextual_auc_score)\n",
    "        best_auc_dense_structural = max(best_auc_dense_structural, dense_structural_auc_score)\n",
    "        best_auc_joint_type = max(best_auc_joint_structural, joint_type_auc_score)\n",
    "        best_auc_structure_type = max(best_auc_structure_type, structure_type_auc_score)\n",
    "        \n",
    "        \n",
    "        \n",
    "        print(\"===========================================================================================\")\n",
    "        print(\"Dataset Name: \",dataset_str, \" Best AUC Score(benchmark/combined): \", best_auc)\n",
    "        \n",
    "        print(\"Dataset Name: \",dataset_str, \" Best AUC Score (contextual): \", best_auc_contextual)\n",
    "\n",
    "        \n",
    "        print(\"Dataset Name: \",dataset_str, \" Best AUC Score (structural): \", best_auc_dense_structural)\n",
    "        \n",
    "        \n",
    "        print(\"Dataset Name: \",dataset_str, \" Best AUC Score (joint-type): \", best_auc_joint_type)\n",
    "        \n",
    "        \n",
    "        print(\"Dataset Name: \",dataset_str, \" Best AUC Score (structure type): \", best_auc_structure_type) \n",
    "        print(\"===========================================================================================\")\n",
    "        \n",
    "        \n",
    "        if loss < min_loss:\n",
    "            min_loss = loss\n",
    "            arg_min_loss_per_node = loss_per_node\n",
    "        opt.zero_grad()\n",
    "        loss.backward()\n",
    "        opt.step()\n",
    "        \n",
    "        loss = loss.cpu().detach()\n",
    "        loss_values.append(loss)\n",
    "        \n",
    "        \n",
    "        if args.plot_loss:\n",
    "\n",
    "            plt.plot(np.array(loss_values), 'r')\n",
    "            plt.show()\n",
    "    \n",
    "    return min_loss.item(), arg_min_loss_per_node.cpu().detach()\n",
    "\n",
    "\n",
    "\n",
    "\n",
    "def evaluate(model, embeddings, labels, mask):\n",
    "    model.eval()\n",
    "    with torch.no_grad():\n",
    "        logits = model(embeddings)\n",
    "        logits = logits[mask]\n",
    "        labels = labels[mask]\n",
    "        _, indices = torch.max(logits, dim=1)\n",
    "        correct = torch.sum(indices == labels)\n",
    "        return correct.item() * 1.0 / len(labels)\n",
    "\n",
    "\n",
    "def train_real_datasets(dataset_str, epoch_num = 10, lr = 5e-6, encoder = \"GCN\", \n",
    "                        lambda_loss1=1e-2, lambda_loss2=1e-3, lambda_loss3=1e-3, sample_size=8, loss_step=20, hidden_dim=None,\n",
    "                        real_loss=False,calculate_contextual=False,calculate_structural=False):\n",
    "    \n",
    "    data = load_data(dataset_str)\n",
    "    node_features = data.x\n",
    "    \n",
    "    if args.normalize_feat:\n",
    "    \n",
    "        node_features_min = node_features.min()\n",
    "        node_features_max = node_features.max()\n",
    "        node_features = (node_features - node_features_min)/node_features_max\n",
    "        data.x = node_features\n",
    "    \n",
    "    yc = []\n",
    "    ys = []\n",
    "    yj = []\n",
    "    \n",
    "    if calculate_contextual:\n",
    "        \n",
    "        if dataset_str == \"inj_cora\":\n",
    "            yc = data.y >> 0 & 1 # contextual outliers\n",
    "        else:\n",
    "            data, yc = gen_contextual_outliers(data=data,n=args.contextual_n,k=args.contextual_k)\n",
    "            \n",
    "        yc = yc.cpu().detach()\n",
    "    \n",
    "    \n",
    "    if calculate_structural:\n",
    "        \n",
    "        if dataset_str == \"inj_cora\":\n",
    "            ys = data.y >> 1 & 1 # structural outliers\n",
    "        else:\n",
    "            data, ys = gen_structural_outliers(data=data,n=args.structural_n,m=args.structural_m,p=0.2)\n",
    "            \n",
    "        ys = ys.cpu().detach()\n",
    "        data, yj = gen_joint_structural_outliers(data=data,n=args.structural_n,m=args.structural_m)\n",
    "        \n",
    "    \n",
    "    if args.use_combine_outlier:\n",
    "        data.y = torch.logical_or(ys, yc).int()\n",
    "        \n",
    "    ysj = torch.logical_or(ys, yj).int()\n",
    "    y = data.y.bool()    # binary labels (inlier/outlier)\n",
    "    y = y.cpu().detach()\n",
    "    \n",
    "    edge_index = data.edge_index.cpu()\n",
    "    \n",
    "    num_nodes = node_features.shape[0]\n",
    "    self_edges = torch.tensor([[i for i in range(num_nodes)],[i for i in range(num_nodes)]])\n",
    "    edge_index = torch.cat([edge_index,self_edges],dim=1)\n",
    "    data.edge_index = edge_index\n",
    "    data = data.to(device)\n",
    "    \n",
    "\n",
    "    loss, loss_per_node, = train(data, y, yc, ys, yj, ysj, lr=lr, epoch=epoch_num, device=device, encoder=encoder, lambda_loss1=lambda_loss1, \n",
    "          lambda_loss2=lambda_loss2, lambda_loss3=lambda_loss3, hidden_dim=hidden_dim, sample_size=sample_size,loss_step=loss_step,\n",
    "                                 real_loss=real_loss,calculate_contextual=calculate_contextual,calculate_structural=calculate_structural)"
   ]
  },
  {
   "cell_type": "code",
   "execution_count": 5,
   "id": "44a718ab-e1e0-49be-9748-dc4e8e0af644",
   "metadata": {},
   "outputs": [],
   "source": [
    "# generate ground truth neighbors Hv\n",
    "def generate_gt_neighbor(neighbor_dict, node_embeddings, neighbor_num_list, in_dim):\n",
    "    max_neighbor_num = max(neighbor_num_list)\n",
    "    all_gt_neighbor_embeddings = []\n",
    "    for i, embedding in enumerate(node_embeddings):\n",
    "        neighbor_indexes = neighbor_dict[i]\n",
    "        neighbor_embeddings = []\n",
    "        for index in neighbor_indexes:\n",
    "            neighbor_embeddings.append(node_embeddings[index].tolist())\n",
    "        if len(neighbor_embeddings) < max_neighbor_num:\n",
    "            for _ in range(max_neighbor_num - len(neighbor_embeddings)):\n",
    "                neighbor_embeddings.append(torch.zeros(in_dim).tolist())\n",
    "        all_gt_neighbor_embeddings.append(neighbor_embeddings)\n",
    "    return all_gt_neighbor_embeddings\n",
    "\n",
    "\n",
    "# Main Autoencoder structure here\n",
    "class GNNStructEncoder(nn.Module):\n",
    "    def __init__(self, in_dim0, in_dim, hidden_dim, layer_num, sample_size, device, neighbor_num_list, \n",
    "                 GNN_name=\"GIN\", norm_mode=\"PN-SCS\", norm_scale=20, lambda_loss1=0.01, lambda_loss2=0.001, lambda_loss3=0.0001):\n",
    "        \n",
    "        super(GNNStructEncoder, self).__init__()\n",
    "        \n",
    "        self.mlp0 = nn.Linear(in_dim0, hidden_dim)\n",
    "        self.norm = PairNorm(norm_mode, norm_scale)\n",
    "        self.out_dim = hidden_dim\n",
    "        self.lambda_loss1 = lambda_loss1\n",
    "        self.lambda_loss2 = lambda_loss2\n",
    "        self.lambda_loss3 = lambda_loss3\n",
    "        # GNN Encoder\n",
    "        if GNN_name == \"GIN\":\n",
    "            self.linear1 = MLP(layer_num, hidden_dim, hidden_dim, hidden_dim)\n",
    "            self.graphconv1 = GINConv(self.linear1)\n",
    "            self.linear2 = MLP(layer_num, hidden_dim, hidden_dim, hidden_dim)\n",
    "            self.graphconv2 = GINConv(self.linear2)\n",
    "        elif GNN_name == \"GCN\":\n",
    "            self.graphconv1 = GCNConv(hidden_dim, hidden_dim)\n",
    "            self.graphconv2 = GCNConv(hidden_dim, hidden_dim)\n",
    "        elif GNN_name == \"GAT\":\n",
    "            self.graphconv1 = GATConv(hidden_dim, hidden_dim)\n",
    "            self.graphconv2 = GATConv(hidden_dim, hidden_dim)\n",
    "        else:\n",
    "            self.graphconv1 = SAGEConv(hidden_dim, hidden_dim, aggr='mean')\n",
    "            # self.graphconv2 = SAGEConv(hidden_dim, hidden_dim, aggr='mean')\n",
    "            \n",
    "            # self.graphconv1 = GraphSAGE(hidden_dim, hidden_dim, aggr='mean', num_layers=1)\n",
    "            \n",
    "\n",
    "        self.neighbor_num_list = neighbor_num_list\n",
    "        self.tot_node = len(neighbor_num_list)\n",
    "\n",
    "        self.gaussian_mean = nn.Parameter(\n",
    "            torch.FloatTensor(sample_size, hidden_dim).uniform_(-0.5 / hidden_dim,\n",
    "                                                                                     0.5 / hidden_dim)).to(device)\n",
    "        self.gaussian_log_sigma = nn.Parameter(\n",
    "            torch.FloatTensor(sample_size, hidden_dim).uniform_(-0.5 / hidden_dim,\n",
    "                                                                                     0.5 / hidden_dim)).to(device)\n",
    "        self.m = torch.distributions.Normal(torch.zeros(sample_size, hidden_dim),\n",
    "                                            torch.ones(sample_size, hidden_dim))\n",
    "        \n",
    "        self.m_batched = torch.distributions.Normal(torch.zeros(sample_size, self.tot_node, hidden_dim),\n",
    "                                            torch.ones(sample_size, self.tot_node, hidden_dim))\n",
    "\n",
    "        self.m_h = torch.distributions.Normal(torch.zeros(sample_size, hidden_dim),\n",
    "                                            50* torch.ones(sample_size, hidden_dim))\n",
    "\n",
    "        # Before MLP Gaussian Means, and std\n",
    "\n",
    "        self.mlp_gaussian_mean = nn.Parameter(\n",
    "            torch.FloatTensor(hidden_dim).uniform_(-0.5 / hidden_dim, 0.5 / hidden_dim)).to(device)\n",
    "        self.mlp_gaussian_log_sigma = nn.Parameter(\n",
    "            torch.FloatTensor(hidden_dim).uniform_(-0.5 / hidden_dim, 0.5 / hidden_dim)).to(device)\n",
    "        self.mlp_m = torch.distributions.Normal(torch.zeros(hidden_dim), torch.ones(hidden_dim))\n",
    "\n",
    "        self.mlp_mean = FNN(hidden_dim, hidden_dim, hidden_dim, 3)\n",
    "        self.mlp_sigma = FNN(hidden_dim, hidden_dim, hidden_dim, 3)\n",
    "        self.softplus = nn.Softplus()\n",
    "\n",
    "        # self.mean_agg = SAGEConv(hidden_dim, hidden_dim, aggr='mean', normalize = True)\n",
    "        self.mean_agg = GraphSAGE(hidden_dim, hidden_dim, aggr='mean', num_layers=1)\n",
    "        self.std_agg = PNAConv(hidden_dim, hidden_dim, aggregators=[\"std\"],scalers=[\"identity\"], deg=neighbor_num_list)        \n",
    "        self.layer1_generator = MLP_generator(hidden_dim, hidden_dim)\n",
    "        \n",
    "        # Decoders\n",
    "        self.degree_decoder = FNN(hidden_dim, hidden_dim, 1, 4)\n",
    "        self.feature_decoder = FNN(hidden_dim, hidden_dim, in_dim, 3)\n",
    "        self.degree_loss_func = nn.MSELoss()\n",
    "        self.feature_loss_func = nn.MSELoss()\n",
    "        self.pool = mp.Pool(4)\n",
    "        self.in_dim = in_dim\n",
    "        self.sample_size = sample_size \n",
    "        self.init_projection = FNN(in_dim, hidden_dim, hidden_dim, 1)\n",
    "        \n",
    "\n",
    "    def forward_encoder(self, x, edge_index):\n",
    "        \n",
    "        # Apply graph convolution and activation, pair-norm to avoid trivial solution\n",
    "        h0 = self.mlp0(x)\n",
    "        l1 = self.graphconv1(h0, edge_index)\n",
    "        return l1, h0\n",
    "        \n",
    "        \n",
    "\n",
    "    # Sample neighbors from neighbor set, if the length of neighbor set less than sample size, then do the padding.\n",
    "    def sample_neighbors(self, indexes, neighbor_dict, gt_embeddings):\n",
    "        sampled_embeddings_list = []\n",
    "        mark_len_list = []\n",
    "        for index in indexes:\n",
    "            sampled_embeddings = []\n",
    "            neighbor_indexes = neighbor_dict[index]\n",
    "            if len(neighbor_indexes) < self.sample_size:\n",
    "                mask_len = len(neighbor_indexes)\n",
    "                sample_indexes = neighbor_indexes\n",
    "            else:\n",
    "                sample_indexes = random.sample(neighbor_indexes, self.sample_size)\n",
    "                mask_len = self.sample_size\n",
    "            for index in sample_indexes:\n",
    "                sampled_embeddings.append(gt_embeddings[index].tolist())\n",
    "            if len(sampled_embeddings) < self.sample_size:\n",
    "                for _ in range(self.sample_size - len(sampled_embeddings)):\n",
    "                    sampled_embeddings.append(torch.zeros(self.out_dim).tolist())\n",
    "            sampled_embeddings_list.append(sampled_embeddings)\n",
    "            mark_len_list.append(mask_len)\n",
    "        \n",
    "        return sampled_embeddings_list, mark_len_list\n",
    "    \n",
    "    def reconstruction_neighbors2(self, l1, h0, edge_index):\n",
    "                \n",
    "        recon_loss = 0\n",
    "        recon_loss_per_node = []\n",
    "    \n",
    "        sample_sz_per_node = [self.sample_size]* self.tot_node\n",
    "\n",
    "        # mean_neigh = self.graphconv1(h0, edge_index)\n",
    "        # mean_neigh = self.graphconv2(mean_neigh, edge_index)\n",
    "        # mean_neigh = l1\n",
    "        mean_neigh = self.mean_agg(h0, edge_index).detach()\n",
    "        std_neigh = self.std_agg(h0, edge_index).detach()\n",
    "        \n",
    "        cov_neigh = torch.bmm(std_neigh.unsqueeze(dim=-1),std_neigh.unsqueeze(dim=1))\n",
    "        \n",
    "        target_mean = mean_neigh\n",
    "        target_cov = cov_neigh\n",
    "        \n",
    "        self_embedding = l1\n",
    "        # self_embedding = _normalize(self_embedding)\n",
    "        \n",
    "        self_embedding = self_embedding.unsqueeze(0)\n",
    "        self_embedding = self_embedding.repeat(self.sample_size, 1, 1)\n",
    "        generated_mean = self.mlp_mean(self_embedding)\n",
    "        generated_sigma = self.mlp_sigma(self_embedding)\n",
    "\n",
    "        \n",
    "        std_z = self.m_batched.sample().to(device)\n",
    "        var = generated_mean + generated_sigma.exp() * std_z\n",
    "        nhij = self.layer1_generator(var)\n",
    "        \n",
    "        generated_mean = torch.mean(nhij,dim=0)\n",
    "        generated_std = torch.std(nhij,dim=0)\n",
    "        generated_cov = torch.bmm(generated_std.unsqueeze(dim=-1),generated_std.unsqueeze(dim=1))/self.sample_size\n",
    "        \n",
    "        \n",
    "        tot_nodes = l1.shape[0]\n",
    "        h_dim = l1.shape[1]\n",
    "        \n",
    "        single_eye = torch.eye(h_dim).to(device)\n",
    "        single_eye = single_eye.unsqueeze(dim=0)\n",
    "        batch_eye = single_eye.repeat(tot_nodes,1,1)\n",
    "        \n",
    "        target_cov = target_cov + batch_eye\n",
    "        generated_cov = generated_cov + batch_eye\n",
    "\n",
    "        \n",
    "        det_target_cov = torch.linalg.det(target_cov) \n",
    "        det_generated_cov = torch.linalg.det(generated_cov) \n",
    "        trace_mat = torch.matmul(torch.inverse(generated_cov),target_cov)\n",
    "             \n",
    "        \n",
    "        x = torch.bmm(torch.unsqueeze(generated_mean - target_mean,dim=1),torch.inverse(generated_cov))\n",
    "        y = torch.unsqueeze(generated_mean - target_mean,dim=-1)\n",
    "        z = torch.bmm(x,y).squeeze()\n",
    "        \n",
    "        KL_loss = 0.5 * (torch.log(det_target_cov / det_generated_cov) - h_dim  + trace_mat.diagonal(offset=0, dim1=-1, dim2=-2).sum(-1) + z)\n",
    "        \n",
    "        recon_loss = torch.mean(KL_loss)\n",
    "        recon_loss_per_node = KL_loss\n",
    "        \n",
    "        \n",
    "        return recon_loss, recon_loss_per_node\n",
    "    \n",
    "                \n",
    "        # self_embedding_min = self_embedding.min()\n",
    "        # self_embedding_max = self_embedding.max()\n",
    "        # self_embedding = (self_embedding - self_embedding_min)/(self_embedding_max+1e-14)\n",
    "        # generated_mean = self.mean_generator(self_embedding)\n",
    "        # generated_mean = _normalize(generated_mean)\n",
    "        # generated_std = self.std_generator(self_embedding)\n",
    "        # generated_std = _normalize(generated_std)\n",
    "        # generated_std = generated_std.abs().squeeze()\n",
    "        # generated_std = self.softplus(generated_std)\n",
    "        # generated_std = generated_std.exp().squeeze()\n",
    "        \n",
    "        # cov_x1 = (x1-mean_x1).transpose(1,0).matmul(x1-mean_x1) / max((nn-1),1)\n",
    "        # cov_x2 = (x2-mean_x2).transpose(1,0).matmul(x2-mean_x2) / max((nn-1),1)\n",
    "        \n",
    "        # generated_cov = generated_cov + torch.rand(generated_cov.shape).to(device)\n",
    "        # generated_cov = generated_cov * batch_eye\n",
    "        \n",
    "        # print(torch.isfinite(det_target_cov).all())\n",
    "        # print(torch.isfinite(det_generated_cov).all()) \n",
    "        \n",
    "        # KL_loss = 0.5 * (math.log(torch.det(cov_x1) / torch.det(cov_x2)) - h_dim  + torch.trace(torch.inverse(cov_x2).matmul(cov_x1)) \n",
    "        #     + (mean_x2 - mean_x1).reshape(1,-1).matmul(torch.inverse(cov_x2)).matmul(mean_x2 - mean_x1))\n",
    "    \n",
    "\n",
    "    def reconstruction_neighbors(self, FNN_generator, neighbor_indexes, neighbor_dict, from_layer, to_layer, device):\n",
    "        \n",
    "        \n",
    "        local_index_loss = 0\n",
    "        local_index_loss_per_node = []\n",
    "        sampled_embeddings_list, mark_len_list = self.sample_neighbors(neighbor_indexes, neighbor_dict, to_layer)\n",
    "        for i, neighbor_embeddings1 in enumerate(sampled_embeddings_list):\n",
    "            # Generating h^k_v, reparameterization trick\n",
    "            \n",
    "            # print(len(neighbor_embeddings1))\n",
    "            \n",
    "            index = neighbor_indexes[i]\n",
    "            mask_len1 = mark_len_list[i]\n",
    "            mean = from_layer[index].repeat(self.sample_size, 1)\n",
    "            mean = self.mlp_mean(mean)\n",
    "            sigma = from_layer[index].repeat(self.sample_size, 1)\n",
    "            sigma = self.mlp_sigma(sigma)\n",
    "            std_z = self.m.sample().to(device)\n",
    "            var = mean + sigma.exp() * std_z\n",
    "            nhij = FNN_generator(var)\n",
    "            \n",
    "            generated_neighbors = nhij\n",
    "            sum_neighbor_norm = 0\n",
    "            \n",
    "            for indexi, generated_neighbor in enumerate(generated_neighbors):\n",
    "                sum_neighbor_norm += torch.norm(generated_neighbor) / math.sqrt(self.out_dim)\n",
    "            generated_neighbors = torch.unsqueeze(generated_neighbors, dim=0).to(device)\n",
    "            target_neighbors = torch.unsqueeze(torch.FloatTensor(neighbor_embeddings1), dim=0).to(device)\n",
    "            \n",
    "            if args.neigh_loss == \"KL\":\n",
    "                KL_loss = KL_neighbor_loss(generated_neighbors, target_neighbors, mask_len1)\n",
    "                local_index_loss += KL_loss\n",
    "                local_index_loss_per_node.append(KL_loss)\n",
    "            \n",
    "            else:\n",
    "                W2_loss = W2_neighbor_loss(generated_neighbors, target_neighbors, mask_len1)\n",
    "                local_index_loss += W2_loss\n",
    "                local_index_loss_per_node.append(W2_loss)\n",
    "            \n",
    "            \n",
    "        local_index_loss_per_node = torch.stack(local_index_loss_per_node)\n",
    "        return local_index_loss, local_index_loss_per_node\n",
    "    \n",
    "\n",
    "    def neighbor_decoder(self, gij, ground_truth_degree_matrix, h0, neighbor_dict, device, h, edge_index):\n",
    "        \n",
    "        # Degree decoder below:\n",
    "        tot_nodes = gij.shape[0]\n",
    "        degree_logits = self.degree_decoding(gij)\n",
    "        ground_truth_degree_matrix = torch.unsqueeze(ground_truth_degree_matrix, dim=1)\n",
    "        degree_loss = self.degree_loss_func(degree_logits, ground_truth_degree_matrix.float())\n",
    "        degree_loss_per_node = (degree_logits-ground_truth_degree_matrix).pow(2)\n",
    "        _, degree_masks = torch.max(degree_logits.data, dim=1)\n",
    "        h_loss = 0\n",
    "        feature_loss = 0\n",
    "        # layer 1\n",
    "        loss_list = []\n",
    "        loss_list_per_node = []\n",
    "        feature_loss_list = []\n",
    "        # Sample multiple times to remove noise\n",
    "        for _ in range(3):\n",
    "            local_index_loss_sum = 0\n",
    "            local_index_loss_sum_per_node = []\n",
    "            indexes = []\n",
    "            h0_prime = self.feature_decoder(gij)\n",
    "            feature_losses = self.feature_loss_func(h0, h0_prime)\n",
    "            feature_losses_per_node = (h0-h0_prime).pow(2).mean(1)\n",
    "            feature_loss_list.append(feature_losses_per_node)\n",
    "            \n",
    "\n",
    "            \n",
    "            # local_index_loss, local_index_loss_per_node = self.reconstruction_neighbors(self.layer1_generator, indexes, neighbor_dict, gij, h0, device)\n",
    "            local_index_loss, local_index_loss_per_node = self.reconstruction_neighbors2(gij,h0,edge_index)\n",
    "            \n",
    "            # print(local_index_loss, local_index_loss2)\n",
    "            # print(local_index_loss_per_node, local_index_loss_per_node2)\n",
    "\n",
    "            loss_list.append(local_index_loss)\n",
    "            loss_list_per_node.append(local_index_loss_per_node)\n",
    "            \n",
    "        loss_list = torch.stack(loss_list)\n",
    "        h_loss += torch.mean(loss_list)\n",
    "        \n",
    "        loss_list_per_node = torch.stack(loss_list_per_node)\n",
    "        h_loss_per_node = torch.mean(loss_list_per_node,dim=0)\n",
    "        \n",
    "        feature_loss_per_node = torch.mean(torch.stack(feature_loss_list),dim=0)\n",
    "        feature_loss += torch.mean(torch.stack(feature_loss_list))\n",
    "                \n",
    "        h_loss_per_node = h_loss_per_node.reshape(tot_nodes,1)\n",
    "        degree_loss_per_node = degree_loss_per_node.reshape(tot_nodes,1)\n",
    "        feature_loss_per_node = feature_loss_per_node.reshape(tot_nodes,1)\n",
    "        \n",
    "        loss = self.lambda_loss1 * h_loss + degree_loss * self.lambda_loss3 + self.lambda_loss2 * feature_loss\n",
    "        loss_per_node = self.lambda_loss1 * h_loss_per_node + degree_loss_per_node * self.lambda_loss3 + self.lambda_loss2 * feature_loss_per_node\n",
    "        \n",
    "\n",
    "        return loss,loss_per_node,h_loss_per_node,degree_loss_per_node,feature_loss_per_node\n",
    "\n",
    "    def degree_decoding(self, node_embeddings):\n",
    "        degree_logits = F.relu(self.degree_decoder(node_embeddings))\n",
    "        return degree_logits\n",
    "\n",
    "    def forward(self, edge_index, x, ground_truth_degree_matrix, neighbor_dict, device):\n",
    "        \n",
    "        # Generate GNN encodings\n",
    "        l1, h0 = self.forward_encoder(x, edge_index)\n",
    "        loss, loss_per_node,h_loss,degree_loss,feature_loss = self.neighbor_decoder(l1, ground_truth_degree_matrix, h0, neighbor_dict, device, x, edge_index)\n",
    "        \n",
    "        return loss, loss_per_node,h_loss,degree_loss,feature_loss\n"
   ]
  },
  {
   "cell_type": "markdown",
   "id": "be33ad17-0dda-4225-a900-85f33f6680d1",
   "metadata": {},
   "source": [
    "# Execution"
   ]
  },
  {
   "cell_type": "code",
   "execution_count": 6,
   "id": "10c69df3-7250-4c26-ad8d-a29ea652d338",
   "metadata": {
    "scrolled": true,
    "tags": []
   },
   "outputs": [
    {
     "name": "stdout",
     "output_type": "stream",
     "text": [
      "GAD-NR: Graph Anomaly Detection via Neighborhood Reconstruction\n",
      "Dataset:  enron lr: 0.01 lambda_loss1 (neighbor): 0.01 lambda_loss2 (feature): 0.1 lambda_loss3 (degree): 0.8 sample_size: 10 dimension: 16 encoder: SAGE loss_step: 100 real_loss: False h_loss_weight: 1.0 feature_loss_weight 2.0 degree_loss_weight: 1.0 calculate_contextual True calculate_structural True\n"
     ]
    },
    {
     "name": "stderr",
     "output_type": "stream",
     "text": [
      "  0%|          | 2/500 [00:01<04:19,  1.92it/s]"
     ]
    },
    {
     "name": "stdout",
     "output_type": "stream",
     "text": [
      "Dataset Name:  enron , AUC Score(benchmark/combined):  66.6484328799527\n",
      "Dataset Name:  enron , AUC Score (contextual):  10.790835181079084\n",
      "Dataset Name:  enron , AUC Score (structural):  56.990340318026455\n",
      "Dataset Name:  enron , AUC Score (joint-type):  52.70263611727026\n",
      "Dataset Name:  enron , AUC Score (structure type):  56.82750669372743\n",
      "===========================================================================================\n",
      "Dataset Name:  enron  Best AUC Score(benchmark/combined):  66.6484328799527\n",
      "Dataset Name:  enron  Best AUC Score (contextual):  10.790835181079084\n",
      "Dataset Name:  enron  Best AUC Score (structural):  56.990340318026455\n",
      "Dataset Name:  enron  Best AUC Score (joint-type):  52.70263611727026\n",
      "Dataset Name:  enron  Best AUC Score (structure type):  56.82750669372743\n",
      "===========================================================================================\n",
      "Dataset Name:  enron , AUC Score(benchmark/combined):  71.42075694855116\n",
      "Dataset Name:  enron , AUC Score (contextual):  9.81522542498152\n",
      "Dataset Name:  enron , AUC Score (structural):  48.011244860553816\n",
      "Dataset Name:  enron , AUC Score (joint-type):  32.717418083271745\n",
      "Dataset Name:  enron , AUC Score (structure type):  47.41888917474202\n",
      "===========================================================================================\n",
      "Dataset Name:  enron  Best AUC Score(benchmark/combined):  71.42075694855116\n",
      "Dataset Name:  enron  Best AUC Score (contextual):  10.790835181079084\n",
      "Dataset Name:  enron  Best AUC Score (structural):  56.990340318026455\n",
      "Dataset Name:  enron  Best AUC Score (joint-type):  32.717418083271745\n",
      "Dataset Name:  enron  Best AUC Score (structure type):  56.82750669372743\n",
      "===========================================================================================\n"
     ]
    },
    {
     "name": "stderr",
     "output_type": "stream",
     "text": [
      "  1%|          | 4/500 [00:01<02:02,  4.03it/s]"
     ]
    },
    {
     "name": "stdout",
     "output_type": "stream",
     "text": [
      "Dataset Name:  enron , AUC Score(benchmark/combined):  69.79450029568302\n",
      "Dataset Name:  enron , AUC Score (contextual):  10.411431387041144\n",
      "Dataset Name:  enron , AUC Score (structural):  50.80323970872344\n",
      "Dataset Name:  enron , AUC Score (joint-type):  29.327420546932736\n",
      "Dataset Name:  enron , AUC Score (structure type):  49.97298687934139\n",
      "===========================================================================================\n",
      "Dataset Name:  enron  Best AUC Score(benchmark/combined):  71.42075694855116\n",
      "Dataset Name:  enron  Best AUC Score (contextual):  10.790835181079084\n",
      "Dataset Name:  enron  Best AUC Score (structural):  56.990340318026455\n",
      "Dataset Name:  enron  Best AUC Score (joint-type):  29.327420546932736\n",
      "Dataset Name:  enron  Best AUC Score (structure type):  56.82750669372743\n",
      "===========================================================================================\n",
      "Dataset Name:  enron , AUC Score(benchmark/combined):  71.52350680070964\n",
      "Dataset Name:  enron , AUC Score (contextual):  11.050751416605076\n",
      "Dataset Name:  enron , AUC Score (structural):  48.472085995937974\n",
      "Dataset Name:  enron , AUC Score (joint-type):  28.69918699186992\n",
      "Dataset Name:  enron , AUC Score (structure type):  47.706695633117036\n",
      "===========================================================================================\n",
      "Dataset Name:  enron  Best AUC Score(benchmark/combined):  71.52350680070964\n",
      "Dataset Name:  enron  Best AUC Score (contextual):  11.050751416605076\n",
      "Dataset Name:  enron  Best AUC Score (structural):  56.990340318026455\n",
      "Dataset Name:  enron  Best AUC Score (joint-type):  28.69918699186992\n",
      "Dataset Name:  enron  Best AUC Score (structure type):  56.82750669372743\n",
      "===========================================================================================\n"
     ]
    },
    {
     "name": "stderr",
     "output_type": "stream",
     "text": [
      "  1%|          | 6/500 [00:01<01:23,  5.90it/s]"
     ]
    },
    {
     "name": "stdout",
     "output_type": "stream",
     "text": [
      "Dataset Name:  enron , AUC Score(benchmark/combined):  74.6481371969249\n",
      "Dataset Name:  enron , AUC Score (contextual):  9.960581423996057\n",
      "Dataset Name:  enron , AUC Score (structural):  49.73250111457869\n",
      "Dataset Name:  enron , AUC Score (joint-type):  27.31953683173195\n",
      "Dataset Name:  enron , AUC Score (structure type):  48.86554421671478\n",
      "===========================================================================================\n",
      "Dataset Name:  enron  Best AUC Score(benchmark/combined):  74.6481371969249\n",
      "Dataset Name:  enron  Best AUC Score (contextual):  11.050751416605076\n",
      "Dataset Name:  enron  Best AUC Score (structural):  56.990340318026455\n",
      "Dataset Name:  enron  Best AUC Score (joint-type):  27.31953683173195\n",
      "Dataset Name:  enron  Best AUC Score (structure type):  56.82750669372743\n",
      "===========================================================================================\n",
      "Dataset Name:  enron , AUC Score(benchmark/combined):  72.44382022471909\n",
      "Dataset Name:  enron , AUC Score (contextual):  15.355999014535598\n",
      "Dataset Name:  enron , AUC Score (structural):  49.24396889087036\n",
      "Dataset Name:  enron , AUC Score (joint-type):  24.6920423749692\n",
      "Dataset Name:  enron , AUC Score (structure type):  48.29407617033035\n",
      "===========================================================================================\n",
      "Dataset Name:  enron  Best AUC Score(benchmark/combined):  74.6481371969249\n",
      "Dataset Name:  enron  Best AUC Score (contextual):  15.355999014535598\n",
      "Dataset Name:  enron  Best AUC Score (structural):  56.990340318026455\n",
      "Dataset Name:  enron  Best AUC Score (joint-type):  24.6920423749692\n",
      "Dataset Name:  enron  Best AUC Score (structure type):  56.82750669372743\n",
      "===========================================================================================\n"
     ]
    },
    {
     "name": "stderr",
     "output_type": "stream",
     "text": [
      "  2%|▏         | 8/500 [00:01<01:08,  7.19it/s]"
     ]
    },
    {
     "name": "stdout",
     "output_type": "stream",
     "text": [
      "Dataset Name:  enron , AUC Score(benchmark/combined):  73.74926079243052\n",
      "Dataset Name:  enron , AUC Score (contextual):  8.975117023897512\n",
      "Dataset Name:  enron , AUC Score (structural):  46.604151186407094\n",
      "Dataset Name:  enron , AUC Score (joint-type):  22.084257206208424\n",
      "Dataset Name:  enron , AUC Score (structure type):  45.65436545369656\n",
      "===========================================================================================\n",
      "Dataset Name:  enron  Best AUC Score(benchmark/combined):  74.6481371969249\n",
      "Dataset Name:  enron  Best AUC Score (contextual):  15.355999014535598\n",
      "Dataset Name:  enron  Best AUC Score (structural):  56.990340318026455\n",
      "Dataset Name:  enron  Best AUC Score (joint-type):  22.084257206208424\n",
      "Dataset Name:  enron  Best AUC Score (structure type):  56.82750669372743\n",
      "===========================================================================================\n",
      "Dataset Name:  enron , AUC Score(benchmark/combined):  70.2350680070964\n",
      "Dataset Name:  enron , AUC Score (contextual):  10.295639320029562\n",
      "Dataset Name:  enron , AUC Score (structural):  50.47456283746966\n",
      "Dataset Name:  enron , AUC Score (joint-type):  27.060852426706084\n",
      "Dataset Name:  enron , AUC Score (structure type):  49.56921933510562\n",
      "===========================================================================================\n",
      "Dataset Name:  enron  Best AUC Score(benchmark/combined):  74.6481371969249\n",
      "Dataset Name:  enron  Best AUC Score (contextual):  15.355999014535598\n",
      "Dataset Name:  enron  Best AUC Score (structural):  56.990340318026455\n",
      "Dataset Name:  enron  Best AUC Score (joint-type):  27.060852426706084\n",
      "Dataset Name:  enron  Best AUC Score (structure type):  56.82750669372743\n",
      "===========================================================================================\n"
     ]
    },
    {
     "name": "stderr",
     "output_type": "stream",
     "text": [
      "  2%|▏         | 10/500 [00:02<01:01,  7.99it/s]"
     ]
    },
    {
     "name": "stdout",
     "output_type": "stream",
     "text": [
      "Dataset Name:  enron , AUC Score(benchmark/combined):  75.21141336487285\n",
      "Dataset Name:  enron , AUC Score (contextual):  15.70091155457009\n",
      "Dataset Name:  enron , AUC Score (structural):  51.88963194134839\n",
      "Dataset Name:  enron , AUC Score (joint-type):  27.37866469573787\n",
      "Dataset Name:  enron , AUC Score (structure type):  50.94245776520023\n",
      "===========================================================================================\n",
      "Dataset Name:  enron  Best AUC Score(benchmark/combined):  75.21141336487285\n",
      "Dataset Name:  enron  Best AUC Score (contextual):  15.70091155457009\n",
      "Dataset Name:  enron  Best AUC Score (structural):  56.990340318026455\n",
      "Dataset Name:  enron  Best AUC Score (joint-type):  27.37866469573787\n",
      "Dataset Name:  enron  Best AUC Score (structure type):  56.82750669372743\n",
      "===========================================================================================\n",
      "Dataset Name:  enron , AUC Score(benchmark/combined):  70.11309875813127\n",
      "Dataset Name:  enron , AUC Score (contextual):  6.959842325695983\n",
      "Dataset Name:  enron , AUC Score (structural):  51.211026898499036\n",
      "Dataset Name:  enron , AUC Score (joint-type):  28.13008130081301\n",
      "Dataset Name:  enron , AUC Score (structure type):  50.31886916502302\n",
      "===========================================================================================\n",
      "Dataset Name:  enron  Best AUC Score(benchmark/combined):  75.21141336487285\n",
      "Dataset Name:  enron  Best AUC Score (contextual):  15.70091155457009\n",
      "Dataset Name:  enron  Best AUC Score (structural):  56.990340318026455\n",
      "Dataset Name:  enron  Best AUC Score (joint-type):  28.13008130081301\n",
      "Dataset Name:  enron  Best AUC Score (structure type):  56.82750669372743\n",
      "===========================================================================================\n"
     ]
    },
    {
     "name": "stderr",
     "output_type": "stream",
     "text": [
      "  2%|▏         | 12/500 [00:02<00:58,  8.36it/s]"
     ]
    },
    {
     "name": "stdout",
     "output_type": "stream",
     "text": [
      "Dataset Name:  enron , AUC Score(benchmark/combined):  77.72176227084564\n",
      "Dataset Name:  enron , AUC Score (contextual):  10.963291451096332\n",
      "Dataset Name:  enron , AUC Score (structural):  51.72457522167733\n",
      "Dataset Name:  enron , AUC Score (joint-type):  32.350332594235034\n",
      "Dataset Name:  enron , AUC Score (structure type):  50.97599786562997\n",
      "===========================================================================================\n",
      "Dataset Name:  enron  Best AUC Score(benchmark/combined):  77.72176227084564\n",
      "Dataset Name:  enron  Best AUC Score (contextual):  15.70091155457009\n",
      "Dataset Name:  enron  Best AUC Score (structural):  56.990340318026455\n",
      "Dataset Name:  enron  Best AUC Score (joint-type):  32.350332594235034\n",
      "Dataset Name:  enron  Best AUC Score (structure type):  56.82750669372743\n",
      "===========================================================================================\n",
      "Dataset Name:  enron , AUC Score(benchmark/combined):  65.98314606741572\n",
      "Dataset Name:  enron , AUC Score (contextual):  10.593742301059375\n",
      "Dataset Name:  enron , AUC Score (structural):  46.714915539703775\n",
      "Dataset Name:  enron , AUC Score (joint-type):  46.11480660261148\n",
      "Dataset Name:  enron , AUC Score (structure type):  46.690297191969435\n",
      "===========================================================================================\n",
      "Dataset Name:  enron  Best AUC Score(benchmark/combined):  77.72176227084564\n",
      "Dataset Name:  enron  Best AUC Score (contextual):  15.70091155457009\n",
      "Dataset Name:  enron  Best AUC Score (structural):  56.990340318026455\n",
      "Dataset Name:  enron  Best AUC Score (joint-type):  46.11480660261148\n",
      "Dataset Name:  enron  Best AUC Score (structure type):  56.82750669372743\n",
      "===========================================================================================\n"
     ]
    },
    {
     "name": "stderr",
     "output_type": "stream",
     "text": [
      "  3%|▎         | 14/500 [00:02<00:56,  8.55it/s]"
     ]
    },
    {
     "name": "stdout",
     "output_type": "stream",
     "text": [
      "Dataset Name:  enron , AUC Score(benchmark/combined):  63.4587522176227\n",
      "Dataset Name:  enron , AUC Score (contextual):  10.406504065040652\n",
      "Dataset Name:  enron , AUC Score (structural):  43.79546242631396\n",
      "Dataset Name:  enron , AUC Score (joint-type):  49.84971667898497\n",
      "Dataset Name:  enron , AUC Score (structure type):  44.02695595003287\n",
      "===========================================================================================\n",
      "Dataset Name:  enron  Best AUC Score(benchmark/combined):  77.72176227084564\n",
      "Dataset Name:  enron  Best AUC Score (contextual):  15.70091155457009\n",
      "Dataset Name:  enron  Best AUC Score (structural):  56.990340318026455\n",
      "Dataset Name:  enron  Best AUC Score (joint-type):  49.84971667898497\n",
      "Dataset Name:  enron  Best AUC Score (structure type):  56.82750669372743\n",
      "===========================================================================================\n",
      "Dataset Name:  enron , AUC Score(benchmark/combined):  63.54080425783559\n",
      "Dataset Name:  enron , AUC Score (contextual):  33.68563685636855\n",
      "Dataset Name:  enron , AUC Score (structural):  40.45068608510428\n",
      "Dataset Name:  enron , AUC Score (joint-type):  70.7440256220744\n",
      "Dataset Name:  enron , AUC Score (structure type):  41.61821456135838\n",
      "===========================================================================================\n",
      "Dataset Name:  enron  Best AUC Score(benchmark/combined):  77.72176227084564\n",
      "Dataset Name:  enron  Best AUC Score (contextual):  33.68563685636855\n",
      "Dataset Name:  enron  Best AUC Score (structural):  56.990340318026455\n",
      "Dataset Name:  enron  Best AUC Score (joint-type):  70.7440256220744\n",
      "Dataset Name:  enron  Best AUC Score (structure type):  56.82750669372743\n",
      "===========================================================================================\n"
     ]
    },
    {
     "name": "stderr",
     "output_type": "stream",
     "text": [
      "  3%|▎         | 16/500 [00:02<00:55,  8.66it/s]"
     ]
    },
    {
     "name": "stdout",
     "output_type": "stream",
     "text": [
      "Dataset Name:  enron , AUC Score(benchmark/combined):  58.863098758131294\n",
      "Dataset Name:  enron , AUC Score (contextual):  39.889135254988915\n",
      "Dataset Name:  enron , AUC Score (structural):  37.87036211423193\n",
      "Dataset Name:  enron , AUC Score (joint-type):  64.09706824340971\n",
      "Dataset Name:  enron , AUC Score (structure type):  38.879503377831135\n",
      "===========================================================================================\n",
      "Dataset Name:  enron  Best AUC Score(benchmark/combined):  77.72176227084564\n",
      "Dataset Name:  enron  Best AUC Score (contextual):  39.889135254988915\n",
      "Dataset Name:  enron  Best AUC Score (structural):  56.990340318026455\n",
      "Dataset Name:  enron  Best AUC Score (joint-type):  64.09706824340971\n",
      "Dataset Name:  enron  Best AUC Score (structure type):  56.82750669372743\n",
      "===========================================================================================\n",
      "Dataset Name:  enron , AUC Score(benchmark/combined):  57.04316972205796\n",
      "Dataset Name:  enron , AUC Score (contextual):  27.16678984971668\n",
      "Dataset Name:  enron , AUC Score (structural):  32.06380343785605\n",
      "Dataset Name:  enron , AUC Score (joint-type):  55.49396403054939\n",
      "Dataset Name:  enron , AUC Score (structure type):  32.96229597232942\n",
      "===========================================================================================\n",
      "Dataset Name:  enron  Best AUC Score(benchmark/combined):  77.72176227084564\n",
      "Dataset Name:  enron  Best AUC Score (contextual):  39.889135254988915\n",
      "Dataset Name:  enron  Best AUC Score (structural):  56.990340318026455\n",
      "Dataset Name:  enron  Best AUC Score (joint-type):  55.49396403054939\n",
      "Dataset Name:  enron  Best AUC Score (structure type):  56.82750669372743\n",
      "===========================================================================================\n"
     ]
    },
    {
     "name": "stderr",
     "output_type": "stream",
     "text": [
      "  4%|▎         | 18/500 [00:03<00:54,  8.79it/s]"
     ]
    },
    {
     "name": "stdout",
     "output_type": "stream",
     "text": [
      "Dataset Name:  enron , AUC Score(benchmark/combined):  46.99586043761088\n",
      "Dataset Name:  enron , AUC Score (contextual):  84.66617393446661\n",
      "Dataset Name:  enron , AUC Score (structural):  29.60340813394759\n",
      "Dataset Name:  enron , AUC Score (joint-type):  41.47080561714708\n",
      "Dataset Name:  enron , AUC Score (structure type):  30.053645103812325\n",
      "===========================================================================================\n",
      "Dataset Name:  enron  Best AUC Score(benchmark/combined):  77.72176227084564\n",
      "Dataset Name:  enron  Best AUC Score (contextual):  84.66617393446661\n",
      "Dataset Name:  enron  Best AUC Score (structural):  56.990340318026455\n",
      "Dataset Name:  enron  Best AUC Score (joint-type):  41.47080561714708\n",
      "Dataset Name:  enron  Best AUC Score (structure type):  56.82750669372743\n",
      "===========================================================================================\n",
      "Dataset Name:  enron , AUC Score(benchmark/combined):  48.839444115907746\n",
      "Dataset Name:  enron , AUC Score (contextual):  91.66789849716679\n",
      "Dataset Name:  enron , AUC Score (structural):  37.39708723435875\n",
      "Dataset Name:  enron , AUC Score (joint-type):  39.1869918699187\n",
      "Dataset Name:  enron , AUC Score (structure type):  37.460909584655404\n",
      "===========================================================================================\n",
      "Dataset Name:  enron  Best AUC Score(benchmark/combined):  77.72176227084564\n",
      "Dataset Name:  enron  Best AUC Score (contextual):  91.66789849716679\n",
      "Dataset Name:  enron  Best AUC Score (structural):  56.990340318026455\n",
      "Dataset Name:  enron  Best AUC Score (joint-type):  39.1869918699187\n",
      "Dataset Name:  enron  Best AUC Score (structure type):  56.82750669372743\n",
      "===========================================================================================\n"
     ]
    },
    {
     "name": "stderr",
     "output_type": "stream",
     "text": [
      "  4%|▍         | 20/500 [00:03<00:54,  8.86it/s]"
     ]
    },
    {
     "name": "stdout",
     "output_type": "stream",
     "text": [
      "Dataset Name:  enron , AUC Score(benchmark/combined):  46.69130691898285\n",
      "Dataset Name:  enron , AUC Score (contextual):  90.35230352303523\n",
      "Dataset Name:  enron , AUC Score (structural):  39.710457224946744\n",
      "Dataset Name:  enron , AUC Score (joint-type):  38.54890367085489\n",
      "Dataset Name:  enron , AUC Score (structure type):  39.66112111597061\n",
      "===========================================================================================\n",
      "Dataset Name:  enron  Best AUC Score(benchmark/combined):  77.72176227084564\n",
      "Dataset Name:  enron  Best AUC Score (contextual):  91.66789849716679\n",
      "Dataset Name:  enron  Best AUC Score (structural):  56.990340318026455\n",
      "Dataset Name:  enron  Best AUC Score (joint-type):  38.54890367085489\n",
      "Dataset Name:  enron  Best AUC Score (structure type):  56.82750669372743\n",
      "===========================================================================================\n",
      "Dataset Name:  enron , AUC Score(benchmark/combined):  41.85393258426967\n",
      "Dataset Name:  enron , AUC Score (contextual):  91.08401084010839\n",
      "Dataset Name:  enron , AUC Score (structural):  39.20726209937088\n",
      "Dataset Name:  enron , AUC Score (joint-type):  37.43040157674304\n",
      "Dataset Name:  enron , AUC Score (structure type):  39.133912662340755\n",
      "===========================================================================================\n",
      "Dataset Name:  enron  Best AUC Score(benchmark/combined):  77.72176227084564\n",
      "Dataset Name:  enron  Best AUC Score (contextual):  91.66789849716679\n",
      "Dataset Name:  enron  Best AUC Score (structural):  56.990340318026455\n",
      "Dataset Name:  enron  Best AUC Score (joint-type):  37.43040157674304\n",
      "Dataset Name:  enron  Best AUC Score (structure type):  56.82750669372743\n",
      "===========================================================================================\n"
     ]
    },
    {
     "name": "stderr",
     "output_type": "stream",
     "text": [
      "  4%|▍         | 22/500 [00:03<00:55,  8.65it/s]"
     ]
    },
    {
     "name": "stdout",
     "output_type": "stream",
     "text": [
      "Dataset Name:  enron , AUC Score(benchmark/combined):  47.349201655824956\n",
      "Dataset Name:  enron , AUC Score (contextual):  91.64079822616408\n",
      "Dataset Name:  enron , AUC Score (structural):  39.527121414771884\n",
      "Dataset Name:  enron , AUC Score (joint-type):  37.432865237743286\n",
      "Dataset Name:  enron , AUC Score (structure type):  39.44163355534593\n",
      "===========================================================================================\n",
      "Dataset Name:  enron  Best AUC Score(benchmark/combined):  77.72176227084564\n",
      "Dataset Name:  enron  Best AUC Score (contextual):  91.66789849716679\n",
      "Dataset Name:  enron  Best AUC Score (structural):  56.990340318026455\n",
      "Dataset Name:  enron  Best AUC Score (joint-type):  37.432865237743286\n",
      "Dataset Name:  enron  Best AUC Score (structure type):  56.82750669372743\n",
      "===========================================================================================\n",
      "Dataset Name:  enron , AUC Score(benchmark/combined):  45.756209343583684\n",
      "Dataset Name:  enron , AUC Score (contextual):  91.90440995319045\n",
      "Dataset Name:  enron , AUC Score (structural):  38.89339674047655\n",
      "Dataset Name:  enron , AUC Score (joint-type):  36.87361419068736\n",
      "Dataset Name:  enron , AUC Score (structure type):  38.81051748944725\n",
      "===========================================================================================\n",
      "Dataset Name:  enron  Best AUC Score(benchmark/combined):  77.72176227084564\n",
      "Dataset Name:  enron  Best AUC Score (contextual):  91.90440995319045\n",
      "Dataset Name:  enron  Best AUC Score (structural):  56.990340318026455\n",
      "Dataset Name:  enron  Best AUC Score (joint-type):  36.87361419068736\n",
      "Dataset Name:  enron  Best AUC Score (structure type):  56.82750669372743\n",
      "===========================================================================================\n"
     ]
    },
    {
     "name": "stderr",
     "output_type": "stream",
     "text": [
      "  5%|▍         | 24/500 [00:03<00:54,  8.66it/s]"
     ]
    },
    {
     "name": "stdout",
     "output_type": "stream",
     "text": [
      "Dataset Name:  enron , AUC Score(benchmark/combined):  43.769219396806626\n",
      "Dataset Name:  enron , AUC Score (contextual):  91.84281842818429\n",
      "Dataset Name:  enron , AUC Score (structural):  39.711943329865754\n",
      "Dataset Name:  enron , AUC Score (joint-type):  37.2480906627248\n",
      "Dataset Name:  enron , AUC Score (structure type):  39.61224023096933\n",
      "===========================================================================================\n",
      "Dataset Name:  enron  Best AUC Score(benchmark/combined):  77.72176227084564\n",
      "Dataset Name:  enron  Best AUC Score (contextual):  91.90440995319045\n",
      "Dataset Name:  enron  Best AUC Score (structural):  56.990340318026455\n",
      "Dataset Name:  enron  Best AUC Score (joint-type):  37.2480906627248\n",
      "Dataset Name:  enron  Best AUC Score (structure type):  56.82750669372743\n",
      "===========================================================================================\n",
      "Dataset Name:  enron , AUC Score(benchmark/combined):  52.554701360141934\n",
      "Dataset Name:  enron , AUC Score (contextual):  90.15274698201527\n",
      "Dataset Name:  enron , AUC Score (structural):  39.0132758706098\n",
      "Dataset Name:  enron , AUC Score (joint-type):  37.629958117762996\n",
      "Dataset Name:  enron , AUC Score (structure type):  38.95506388817426\n",
      "===========================================================================================\n",
      "Dataset Name:  enron  Best AUC Score(benchmark/combined):  77.72176227084564\n",
      "Dataset Name:  enron  Best AUC Score (contextual):  91.90440995319045\n",
      "Dataset Name:  enron  Best AUC Score (structural):  56.990340318026455\n",
      "Dataset Name:  enron  Best AUC Score (joint-type):  37.629958117762996\n",
      "Dataset Name:  enron  Best AUC Score (structure type):  56.82750669372743\n",
      "===========================================================================================\n"
     ]
    },
    {
     "name": "stderr",
     "output_type": "stream",
     "text": [
      "  5%|▌         | 26/500 [00:03<00:54,  8.72it/s]"
     ]
    },
    {
     "name": "stdout",
     "output_type": "stream",
     "text": [
      "Dataset Name:  enron , AUC Score(benchmark/combined):  36.11620342992312\n",
      "Dataset Name:  enron , AUC Score (contextual):  90.44345898004434\n",
      "Dataset Name:  enron , AUC Score (structural):  35.948035864665385\n",
      "Dataset Name:  enron , AUC Score (joint-type):  38.56368563685636\n",
      "Dataset Name:  enron , AUC Score (structure type):  36.04317335086565\n",
      "===========================================================================================\n",
      "Dataset Name:  enron  Best AUC Score(benchmark/combined):  77.72176227084564\n",
      "Dataset Name:  enron  Best AUC Score (contextual):  91.90440995319045\n",
      "Dataset Name:  enron  Best AUC Score (structural):  56.990340318026455\n",
      "Dataset Name:  enron  Best AUC Score (joint-type):  38.56368563685636\n",
      "Dataset Name:  enron  Best AUC Score (structure type):  56.82750669372743\n",
      "===========================================================================================\n",
      "Dataset Name:  enron , AUC Score(benchmark/combined):  43.654642223536364\n",
      "Dataset Name:  enron , AUC Score (contextual):  88.89135254988913\n",
      "Dataset Name:  enron , AUC Score (structural):  34.169019666121756\n",
      "Dataset Name:  enron , AUC Score (joint-type):  38.674550381867455\n",
      "Dataset Name:  enron , AUC Score (structure type):  34.336487246186245\n",
      "===========================================================================================\n",
      "Dataset Name:  enron  Best AUC Score(benchmark/combined):  77.72176227084564\n",
      "Dataset Name:  enron  Best AUC Score (contextual):  91.90440995319045\n",
      "Dataset Name:  enron  Best AUC Score (structural):  56.990340318026455\n",
      "Dataset Name:  enron  Best AUC Score (joint-type):  38.674550381867455\n",
      "Dataset Name:  enron  Best AUC Score (structure type):  56.82750669372743\n",
      "===========================================================================================\n"
     ]
    },
    {
     "name": "stderr",
     "output_type": "stream",
     "text": [
      "  6%|▌         | 28/500 [00:04<00:53,  8.80it/s]"
     ]
    },
    {
     "name": "stdout",
     "output_type": "stream",
     "text": [
      "Dataset Name:  enron , AUC Score(benchmark/combined):  40.72516262566529\n",
      "Dataset Name:  enron , AUC Score (contextual):  90.62576989406257\n",
      "Dataset Name:  enron , AUC Score (structural):  34.3322435230594\n",
      "Dataset Name:  enron , AUC Score (joint-type):  38.691796008869176\n",
      "Dataset Name:  enron , AUC Score (structure type):  34.49413524664361\n",
      "===========================================================================================\n",
      "Dataset Name:  enron  Best AUC Score(benchmark/combined):  77.72176227084564\n",
      "Dataset Name:  enron  Best AUC Score (contextual):  91.90440995319045\n",
      "Dataset Name:  enron  Best AUC Score (structural):  56.990340318026455\n",
      "Dataset Name:  enron  Best AUC Score (joint-type):  38.691796008869176\n",
      "Dataset Name:  enron  Best AUC Score (structure type):  56.82750669372743\n",
      "===========================================================================================\n",
      "Dataset Name:  enron , AUC Score(benchmark/combined):  40.17001774098167\n",
      "Dataset Name:  enron , AUC Score (contextual):  92.58438038925844\n",
      "Dataset Name:  enron , AUC Score (structural):  32.49462525387626\n",
      "Dataset Name:  enron , AUC Score (joint-type):  38.80512441488051\n",
      "Dataset Name:  enron , AUC Score (structure type):  32.73118371780579\n",
      "===========================================================================================\n",
      "Dataset Name:  enron  Best AUC Score(benchmark/combined):  77.72176227084564\n",
      "Dataset Name:  enron  Best AUC Score (contextual):  92.58438038925844\n",
      "Dataset Name:  enron  Best AUC Score (structural):  56.990340318026455\n",
      "Dataset Name:  enron  Best AUC Score (joint-type):  38.80512441488051\n",
      "Dataset Name:  enron  Best AUC Score (structure type):  56.82750669372743\n",
      "===========================================================================================\n"
     ]
    },
    {
     "name": "stderr",
     "output_type": "stream",
     "text": [
      "  6%|▌         | 30/500 [00:04<00:53,  8.79it/s]"
     ]
    },
    {
     "name": "stdout",
     "output_type": "stream",
     "text": [
      "Dataset Name:  enron , AUC Score(benchmark/combined):  41.65360733293909\n",
      "Dataset Name:  enron , AUC Score (contextual):  89.4579945799458\n",
      "Dataset Name:  enron , AUC Score (structural):  31.29543765789865\n",
      "Dataset Name:  enron , AUC Score (joint-type):  38.82237004188223\n",
      "Dataset Name:  enron , AUC Score (structure type):  31.5785286186624\n",
      "===========================================================================================\n",
      "Dataset Name:  enron  Best AUC Score(benchmark/combined):  77.72176227084564\n",
      "Dataset Name:  enron  Best AUC Score (contextual):  92.58438038925844\n",
      "Dataset Name:  enron  Best AUC Score (structural):  56.990340318026455\n",
      "Dataset Name:  enron  Best AUC Score (joint-type):  38.82237004188223\n",
      "Dataset Name:  enron  Best AUC Score (structure type):  56.82750669372743\n",
      "===========================================================================================\n",
      "Dataset Name:  enron , AUC Score(benchmark/combined):  46.05410999408634\n",
      "Dataset Name:  enron , AUC Score (contextual):  87.7950234047795\n",
      "Dataset Name:  enron , AUC Score (structural):  30.66631990885223\n",
      "Dataset Name:  enron , AUC Score (joint-type):  38.90859817689086\n",
      "Dataset Name:  enron , AUC Score (structure type):  30.976807782827855\n",
      "===========================================================================================\n",
      "Dataset Name:  enron  Best AUC Score(benchmark/combined):  77.72176227084564\n",
      "Dataset Name:  enron  Best AUC Score (contextual):  92.58438038925844\n",
      "Dataset Name:  enron  Best AUC Score (structural):  56.990340318026455\n",
      "Dataset Name:  enron  Best AUC Score (joint-type):  38.90859817689086\n",
      "Dataset Name:  enron  Best AUC Score (structure type):  56.82750669372743\n",
      "===========================================================================================\n"
     ]
    },
    {
     "name": "stderr",
     "output_type": "stream",
     "text": [
      "  6%|▋         | 32/500 [00:04<00:53,  8.81it/s]"
     ]
    },
    {
     "name": "stdout",
     "output_type": "stream",
     "text": [
      "Dataset Name:  enron , AUC Score(benchmark/combined):  42.69810762862212\n",
      "Dataset Name:  enron , AUC Score (contextual):  88.72135994087213\n",
      "Dataset Name:  enron , AUC Score (structural):  29.479268836379845\n",
      "Dataset Name:  enron , AUC Score (joint-type):  42.28381374722838\n",
      "Dataset Name:  enron , AUC Score (structure type):  29.9656976245605\n",
      "===========================================================================================\n",
      "Dataset Name:  enron  Best AUC Score(benchmark/combined):  77.72176227084564\n",
      "Dataset Name:  enron  Best AUC Score (contextual):  92.58438038925844\n",
      "Dataset Name:  enron  Best AUC Score (structural):  56.990340318026455\n",
      "Dataset Name:  enron  Best AUC Score (joint-type):  42.28381374722838\n",
      "Dataset Name:  enron  Best AUC Score (structure type):  56.82750669372743\n",
      "===========================================================================================\n",
      "Dataset Name:  enron , AUC Score(benchmark/combined):  41.275872264932\n",
      "Dataset Name:  enron , AUC Score (contextual):  91.88962798718896\n",
      "Dataset Name:  enron , AUC Score (structural):  30.477237826323872\n",
      "Dataset Name:  enron , AUC Score (joint-type):  45.838876570583885\n",
      "Dataset Name:  enron , AUC Score (structure type):  31.06299250111959\n",
      "===========================================================================================\n",
      "Dataset Name:  enron  Best AUC Score(benchmark/combined):  77.72176227084564\n",
      "Dataset Name:  enron  Best AUC Score (contextual):  92.58438038925844\n",
      "Dataset Name:  enron  Best AUC Score (structural):  56.990340318026455\n",
      "Dataset Name:  enron  Best AUC Score (joint-type):  45.838876570583885\n",
      "Dataset Name:  enron  Best AUC Score (structure type):  56.82750669372743\n",
      "===========================================================================================\n"
     ]
    },
    {
     "name": "stderr",
     "output_type": "stream",
     "text": [
      "  7%|▋         | 34/500 [00:04<00:52,  8.80it/s]"
     ]
    },
    {
     "name": "stdout",
     "output_type": "stream",
     "text": [
      "Dataset Name:  enron , AUC Score(benchmark/combined):  42.31889414547605\n",
      "Dataset Name:  enron , AUC Score (contextual):  92.76422764227644\n",
      "Dataset Name:  enron , AUC Score (structural):  30.049487293802947\n",
      "Dataset Name:  enron , AUC Score (joint-type):  55.011086474501106\n",
      "Dataset Name:  enron , AUC Score (structure type):  31.00634593945631\n",
      "===========================================================================================\n",
      "Dataset Name:  enron  Best AUC Score(benchmark/combined):  77.72176227084564\n",
      "Dataset Name:  enron  Best AUC Score (contextual):  92.76422764227644\n",
      "Dataset Name:  enron  Best AUC Score (structural):  56.990340318026455\n",
      "Dataset Name:  enron  Best AUC Score (joint-type):  55.011086474501106\n",
      "Dataset Name:  enron  Best AUC Score (structure type):  56.82750669372743\n",
      "===========================================================================================\n",
      "Dataset Name:  enron , AUC Score(benchmark/combined):  38.76182732111177\n",
      "Dataset Name:  enron , AUC Score (contextual):  92.60162601626017\n",
      "Dataset Name:  enron , AUC Score (structural):  28.870163966909395\n",
      "Dataset Name:  enron , AUC Score (joint-type):  55.597437792559745\n",
      "Dataset Name:  enron , AUC Score (structure type):  29.8948060486522\n",
      "===========================================================================================\n",
      "Dataset Name:  enron  Best AUC Score(benchmark/combined):  77.72176227084564\n",
      "Dataset Name:  enron  Best AUC Score (contextual):  92.76422764227644\n",
      "Dataset Name:  enron  Best AUC Score (structural):  56.990340318026455\n",
      "Dataset Name:  enron  Best AUC Score (joint-type):  55.597437792559745\n",
      "Dataset Name:  enron  Best AUC Score (structure type):  56.82750669372743\n",
      "===========================================================================================\n"
     ]
    },
    {
     "name": "stderr",
     "output_type": "stream",
     "text": [
      "  7%|▋         | 36/500 [00:05<00:52,  8.81it/s]"
     ]
    },
    {
     "name": "stdout",
     "output_type": "stream",
     "text": [
      "Dataset Name:  enron , AUC Score(benchmark/combined):  38.75295683027794\n",
      "Dataset Name:  enron , AUC Score (contextual):  89.50973146095097\n",
      "Dataset Name:  enron , AUC Score (structural):  28.462129092980625\n",
      "Dataset Name:  enron , AUC Score (joint-type):  55.59990145355999\n",
      "Dataset Name:  enron , AUC Score (structure type):  29.50247262956293\n",
      "===========================================================================================\n",
      "Dataset Name:  enron  Best AUC Score(benchmark/combined):  77.72176227084564\n",
      "Dataset Name:  enron  Best AUC Score (contextual):  92.76422764227644\n",
      "Dataset Name:  enron  Best AUC Score (structural):  56.990340318026455\n",
      "Dataset Name:  enron  Best AUC Score (joint-type):  55.59990145355999\n",
      "Dataset Name:  enron  Best AUC Score (structure type):  56.82750669372743\n",
      "===========================================================================================\n",
      "Dataset Name:  enron , AUC Score(benchmark/combined):  41.7652276759314\n",
      "Dataset Name:  enron , AUC Score (contextual):  87.71618625277162\n",
      "Dataset Name:  enron , AUC Score (structural):  30.56962401545549\n",
      "Dataset Name:  enron , AUC Score (joint-type):  55.41759053954175\n",
      "Dataset Name:  enron , AUC Score (structure type):  31.522310836692103\n",
      "===========================================================================================\n",
      "Dataset Name:  enron  Best AUC Score(benchmark/combined):  77.72176227084564\n",
      "Dataset Name:  enron  Best AUC Score (contextual):  92.76422764227644\n",
      "Dataset Name:  enron  Best AUC Score (structural):  56.990340318026455\n",
      "Dataset Name:  enron  Best AUC Score (joint-type):  55.41759053954175\n",
      "Dataset Name:  enron  Best AUC Score (structure type):  56.82750669372743\n",
      "===========================================================================================\n"
     ]
    },
    {
     "name": "stderr",
     "output_type": "stream",
     "text": [
      "  8%|▊         | 38/500 [00:05<00:52,  8.80it/s]"
     ]
    },
    {
     "name": "stdout",
     "output_type": "stream",
     "text": [
      "Dataset Name:  enron , AUC Score(benchmark/combined):  48.61989946777056\n",
      "Dataset Name:  enron , AUC Score (contextual):  87.13229859571324\n",
      "Dataset Name:  enron , AUC Score (structural):  33.371972061227524\n",
      "Dataset Name:  enron , AUC Score (joint-type):  55.31411677753141\n",
      "Dataset Name:  enron , AUC Score (structure type):  34.21347511648515\n",
      "===========================================================================================\n",
      "Dataset Name:  enron  Best AUC Score(benchmark/combined):  77.72176227084564\n",
      "Dataset Name:  enron  Best AUC Score (contextual):  92.76422764227644\n",
      "Dataset Name:  enron  Best AUC Score (structural):  56.990340318026455\n",
      "Dataset Name:  enron  Best AUC Score (joint-type):  55.31411677753141\n",
      "Dataset Name:  enron  Best AUC Score (structure type):  56.82750669372743\n",
      "===========================================================================================\n",
      "Dataset Name:  enron , AUC Score(benchmark/combined):  46.58338261383797\n",
      "Dataset Name:  enron , AUC Score (contextual):  86.8070953436807\n",
      "Dataset Name:  enron , AUC Score (structural):  30.002377767870414\n",
      "Dataset Name:  enron , AUC Score (joint-type):  55.24513426952451\n",
      "Dataset Name:  enron , AUC Score (structure type):  30.97009023430428\n",
      "===========================================================================================\n",
      "Dataset Name:  enron  Best AUC Score(benchmark/combined):  77.72176227084564\n",
      "Dataset Name:  enron  Best AUC Score (contextual):  92.76422764227644\n",
      "Dataset Name:  enron  Best AUC Score (structural):  56.990340318026455\n",
      "Dataset Name:  enron  Best AUC Score (joint-type):  55.24513426952451\n",
      "Dataset Name:  enron  Best AUC Score (structure type):  56.82750669372743\n",
      "===========================================================================================\n"
     ]
    },
    {
     "name": "stderr",
     "output_type": "stream",
     "text": [
      "  8%|▊         | 40/500 [00:05<00:52,  8.80it/s]"
     ]
    },
    {
     "name": "stdout",
     "output_type": "stream",
     "text": [
      "Dataset Name:  enron , AUC Score(benchmark/combined):  42.477084565345955\n",
      "Dataset Name:  enron , AUC Score (contextual):  86.5779748706578\n",
      "Dataset Name:  enron , AUC Score (structural):  30.105216228265714\n",
      "Dataset Name:  enron , AUC Score (joint-type):  55.37078098053707\n",
      "Dataset Name:  enron , AUC Score (structure type):  31.07385492000877\n",
      "===========================================================================================\n",
      "Dataset Name:  enron  Best AUC Score(benchmark/combined):  77.72176227084564\n",
      "Dataset Name:  enron  Best AUC Score (contextual):  92.76422764227644\n",
      "Dataset Name:  enron  Best AUC Score (structural):  56.990340318026455\n",
      "Dataset Name:  enron  Best AUC Score (joint-type):  55.37078098053707\n",
      "Dataset Name:  enron  Best AUC Score (structure type):  56.82750669372743\n",
      "===========================================================================================\n",
      "Dataset Name:  enron , AUC Score(benchmark/combined):  43.24438202247191\n",
      "Dataset Name:  enron , AUC Score (contextual):  86.58536585365853\n",
      "Dataset Name:  enron , AUC Score (structural):  31.19319363947094\n",
      "Dataset Name:  enron , AUC Score (joint-type):  55.28948016752895\n",
      "Dataset Name:  enron , AUC Score (structure type):  32.11707591306253\n",
      "===========================================================================================\n",
      "Dataset Name:  enron  Best AUC Score(benchmark/combined):  77.72176227084564\n",
      "Dataset Name:  enron  Best AUC Score (contextual):  92.76422764227644\n",
      "Dataset Name:  enron  Best AUC Score (structural):  56.990340318026455\n",
      "Dataset Name:  enron  Best AUC Score (joint-type):  55.28948016752895\n",
      "Dataset Name:  enron  Best AUC Score (structure type):  56.82750669372743\n",
      "===========================================================================================\n"
     ]
    },
    {
     "name": "stderr",
     "output_type": "stream",
     "text": [
      "  8%|▊         | 42/500 [00:05<00:52,  8.79it/s]"
     ]
    },
    {
     "name": "stdout",
     "output_type": "stream",
     "text": [
      "Dataset Name:  enron , AUC Score(benchmark/combined):  44.70653459491425\n",
      "Dataset Name:  enron , AUC Score (contextual):  86.59768415865977\n",
      "Dataset Name:  enron , AUC Score (structural):  31.357606380343782\n",
      "Dataset Name:  enron , AUC Score (joint-type):  55.43483616654348\n",
      "Dataset Name:  enron , AUC Score (structure type):  32.280822113598035\n",
      "===========================================================================================\n",
      "Dataset Name:  enron  Best AUC Score(benchmark/combined):  77.72176227084564\n",
      "Dataset Name:  enron  Best AUC Score (contextual):  92.76422764227644\n",
      "Dataset Name:  enron  Best AUC Score (structural):  56.990340318026455\n",
      "Dataset Name:  enron  Best AUC Score (joint-type):  55.43483616654348\n",
      "Dataset Name:  enron  Best AUC Score (structure type):  56.82750669372743\n",
      "===========================================================================================\n",
      "Dataset Name:  enron , AUC Score(benchmark/combined):  43.37004730928445\n",
      "Dataset Name:  enron , AUC Score (contextual):  86.34639073663463\n",
      "Dataset Name:  enron , AUC Score (structural):  31.598603061376128\n",
      "Dataset Name:  enron , AUC Score (joint-type):  56.038433111603844\n",
      "Dataset Name:  enron , AUC Score (structure type):  32.53594603092931\n",
      "===========================================================================================\n",
      "Dataset Name:  enron  Best AUC Score(benchmark/combined):  77.72176227084564\n",
      "Dataset Name:  enron  Best AUC Score (contextual):  92.76422764227644\n",
      "Dataset Name:  enron  Best AUC Score (structural):  56.990340318026455\n",
      "Dataset Name:  enron  Best AUC Score (joint-type):  56.038433111603844\n",
      "Dataset Name:  enron  Best AUC Score (structure type):  56.82750669372743\n",
      "===========================================================================================\n"
     ]
    },
    {
     "name": "stderr",
     "output_type": "stream",
     "text": [
      "  9%|▉         | 44/500 [00:06<00:52,  8.76it/s]"
     ]
    },
    {
     "name": "stdout",
     "output_type": "stream",
     "text": [
      "Dataset Name:  enron , AUC Score(benchmark/combined):  44.85141927853341\n",
      "Dataset Name:  enron , AUC Score (contextual):  86.07785168760779\n",
      "Dataset Name:  enron , AUC Score (structural):  33.74478624857582\n",
      "Dataset Name:  enron , AUC Score (joint-type):  55.30918945553091\n",
      "Dataset Name:  enron , AUC Score (structure type):  34.57183965545169\n",
      "===========================================================================================\n",
      "Dataset Name:  enron  Best AUC Score(benchmark/combined):  77.72176227084564\n",
      "Dataset Name:  enron  Best AUC Score (contextual):  92.76422764227644\n",
      "Dataset Name:  enron  Best AUC Score (structural):  56.990340318026455\n",
      "Dataset Name:  enron  Best AUC Score (joint-type):  55.30918945553091\n",
      "Dataset Name:  enron  Best AUC Score (structure type):  56.82750669372743\n",
      "===========================================================================================\n",
      "Dataset Name:  enron , AUC Score(benchmark/combined):  44.8521584861029\n",
      "Dataset Name:  enron , AUC Score (contextual):  85.83148558758316\n",
      "Dataset Name:  enron , AUC Score (structural):  34.72987566255511\n",
      "Dataset Name:  enron , AUC Score (joint-type):  53.559990145356\n",
      "Dataset Name:  enron , AUC Score (structure type):  35.45160030109864\n",
      "===========================================================================================\n",
      "Dataset Name:  enron  Best AUC Score(benchmark/combined):  77.72176227084564\n",
      "Dataset Name:  enron  Best AUC Score (contextual):  92.76422764227644\n",
      "Dataset Name:  enron  Best AUC Score (structural):  56.990340318026455\n",
      "Dataset Name:  enron  Best AUC Score (joint-type):  53.559990145356\n",
      "Dataset Name:  enron  Best AUC Score (structure type):  56.82750669372743\n",
      "===========================================================================================\n"
     ]
    },
    {
     "name": "stderr",
     "output_type": "stream",
     "text": [
      "  9%|▉         | 46/500 [00:06<00:52,  8.69it/s]"
     ]
    },
    {
     "name": "stdout",
     "output_type": "stream",
     "text": [
      "Dataset Name:  enron , AUC Score(benchmark/combined):  43.032968657599056\n",
      "Dataset Name:  enron , AUC Score (contextual):  85.50628233555062\n",
      "Dataset Name:  enron , AUC Score (structural):  35.0734631198296\n",
      "Dataset Name:  enron , AUC Score (joint-type):  54.380389258438036\n",
      "Dataset Name:  enron , AUC Score (structure type):  35.813776215114004\n",
      "===========================================================================================\n",
      "Dataset Name:  enron  Best AUC Score(benchmark/combined):  77.72176227084564\n",
      "Dataset Name:  enron  Best AUC Score (contextual):  92.76422764227644\n",
      "Dataset Name:  enron  Best AUC Score (structural):  56.990340318026455\n",
      "Dataset Name:  enron  Best AUC Score (joint-type):  54.380389258438036\n",
      "Dataset Name:  enron  Best AUC Score (structure type):  56.82750669372743\n",
      "===========================================================================================\n",
      "Dataset Name:  enron , AUC Score(benchmark/combined):  45.54479597871083\n",
      "Dataset Name:  enron , AUC Score (contextual):  84.81645725548164\n",
      "Dataset Name:  enron , AUC Score (structural):  35.9541288948333\n",
      "Dataset Name:  enron , AUC Score (joint-type):  53.6080315348608\n",
      "Dataset Name:  enron , AUC Score (structure type):  36.63088738339575\n",
      "===========================================================================================\n",
      "Dataset Name:  enron  Best AUC Score(benchmark/combined):  77.72176227084564\n",
      "Dataset Name:  enron  Best AUC Score (contextual):  92.76422764227644\n",
      "Dataset Name:  enron  Best AUC Score (structural):  56.990340318026455\n",
      "Dataset Name:  enron  Best AUC Score (joint-type):  53.6080315348608\n",
      "Dataset Name:  enron  Best AUC Score (structure type):  56.82750669372743\n",
      "===========================================================================================\n"
     ]
    },
    {
     "name": "stderr",
     "output_type": "stream",
     "text": [
      " 10%|▉         | 48/500 [00:06<00:53,  8.47it/s]"
     ]
    },
    {
     "name": "stdout",
     "output_type": "stream",
     "text": [
      "Dataset Name:  enron , AUC Score(benchmark/combined):  41.11694263749261\n",
      "Dataset Name:  enron , AUC Score (contextual):  85.10716925351072\n",
      "Dataset Name:  enron , AUC Score (structural):  36.61930945658097\n",
      "Dataset Name:  enron , AUC Score (joint-type):  52.93914757329391\n",
      "Dataset Name:  enron , AUC Score (structure type):  37.24475697719845\n",
      "===========================================================================================\n",
      "Dataset Name:  enron  Best AUC Score(benchmark/combined):  77.72176227084564\n",
      "Dataset Name:  enron  Best AUC Score (contextual):  92.76422764227644\n",
      "Dataset Name:  enron  Best AUC Score (structural):  56.990340318026455\n",
      "Dataset Name:  enron  Best AUC Score (joint-type):  52.93914757329391\n",
      "Dataset Name:  enron  Best AUC Score (structure type):  56.82750669372743\n",
      "===========================================================================================\n",
      "Dataset Name:  enron , AUC Score(benchmark/combined):  41.81623299822591\n",
      "Dataset Name:  enron , AUC Score (contextual):  84.86326681448632\n",
      "Dataset Name:  enron , AUC Score (structural):  36.854014960122846\n",
      "Dataset Name:  enron , AUC Score (joint-type):  52.98595713229859\n",
      "Dataset Name:  enron , AUC Score (structure type):  37.4722960676138\n",
      "===========================================================================================\n",
      "Dataset Name:  enron  Best AUC Score(benchmark/combined):  77.72176227084564\n",
      "Dataset Name:  enron  Best AUC Score (contextual):  92.76422764227644\n",
      "Dataset Name:  enron  Best AUC Score (structural):  56.990340318026455\n",
      "Dataset Name:  enron  Best AUC Score (joint-type):  52.98595713229859\n",
      "Dataset Name:  enron  Best AUC Score (structure type):  56.82750669372743\n",
      "===========================================================================================\n"
     ]
    },
    {
     "name": "stderr",
     "output_type": "stream",
     "text": [
      " 10%|█         | 50/500 [00:06<00:53,  8.45it/s]"
     ]
    },
    {
     "name": "stdout",
     "output_type": "stream",
     "text": [
      "Dataset Name:  enron , AUC Score(benchmark/combined):  41.32465996451804\n",
      "Dataset Name:  enron , AUC Score (contextual):  84.89283074648928\n",
      "Dataset Name:  enron , AUC Score (structural):  35.94070441373161\n",
      "Dataset Name:  enron , AUC Score (joint-type):  53.6560729243656\n",
      "Dataset Name:  enron , AUC Score (structure type):  36.619834395754125\n",
      "===========================================================================================\n",
      "Dataset Name:  enron  Best AUC Score(benchmark/combined):  77.72176227084564\n",
      "Dataset Name:  enron  Best AUC Score (contextual):  92.76422764227644\n",
      "Dataset Name:  enron  Best AUC Score (structural):  56.990340318026455\n",
      "Dataset Name:  enron  Best AUC Score (joint-type):  53.6560729243656\n",
      "Dataset Name:  enron  Best AUC Score (structure type):  56.82750669372743\n",
      "===========================================================================================\n",
      "Dataset Name:  enron , AUC Score(benchmark/combined):  41.54863985807214\n",
      "Dataset Name:  enron , AUC Score (contextual):  85.47671840354766\n",
      "Dataset Name:  enron , AUC Score (structural):  36.36865309357507\n",
      "Dataset Name:  enron , AUC Score (joint-type):  53.197831978319776\n",
      "Dataset Name:  enron , AUC Score (structure type):  37.01369236486293\n",
      "===========================================================================================\n",
      "Dataset Name:  enron  Best AUC Score(benchmark/combined):  77.72176227084564\n",
      "Dataset Name:  enron  Best AUC Score (contextual):  92.76422764227644\n",
      "Dataset Name:  enron  Best AUC Score (structural):  56.990340318026455\n",
      "Dataset Name:  enron  Best AUC Score (joint-type):  53.197831978319776\n",
      "Dataset Name:  enron  Best AUC Score (structure type):  56.82750669372743\n",
      "===========================================================================================\n"
     ]
    },
    {
     "name": "stderr",
     "output_type": "stream",
     "text": [
      " 10%|█         | 52/500 [00:06<00:52,  8.58it/s]"
     ]
    },
    {
     "name": "stdout",
     "output_type": "stream",
     "text": [
      "Dataset Name:  enron , AUC Score(benchmark/combined):  43.12315198107628\n",
      "Dataset Name:  enron , AUC Score (contextual):  85.77235772357723\n",
      "Dataset Name:  enron , AUC Score (structural):  36.620300193193636\n",
      "Dataset Name:  enron , AUC Score (joint-type):  44.89283074648928\n",
      "Dataset Name:  enron , AUC Score (structure type):  36.93451104822342\n",
      "===========================================================================================\n",
      "Dataset Name:  enron  Best AUC Score(benchmark/combined):  77.72176227084564\n",
      "Dataset Name:  enron  Best AUC Score (contextual):  92.76422764227644\n",
      "Dataset Name:  enron  Best AUC Score (structural):  56.990340318026455\n",
      "Dataset Name:  enron  Best AUC Score (joint-type):  44.89283074648928\n",
      "Dataset Name:  enron  Best AUC Score (structure type):  56.82750669372743\n",
      "===========================================================================================\n",
      "Dataset Name:  enron , AUC Score(benchmark/combined):  42.513305736250736\n",
      "Dataset Name:  enron , AUC Score (contextual):  85.59990145356\n",
      "Dataset Name:  enron , AUC Score (structural):  37.49254470698965\n",
      "Dataset Name:  enron , AUC Score (joint-type):  42.046070460704605\n",
      "Dataset Name:  enron , AUC Score (structure type):  37.66329359974844\n",
      "===========================================================================================\n",
      "Dataset Name:  enron  Best AUC Score(benchmark/combined):  77.72176227084564\n",
      "Dataset Name:  enron  Best AUC Score (contextual):  92.76422764227644\n",
      "Dataset Name:  enron  Best AUC Score (structural):  56.990340318026455\n",
      "Dataset Name:  enron  Best AUC Score (joint-type):  42.046070460704605\n",
      "Dataset Name:  enron  Best AUC Score (structure type):  56.82750669372743\n",
      "===========================================================================================\n"
     ]
    },
    {
     "name": "stderr",
     "output_type": "stream",
     "text": [
      " 11%|█         | 54/500 [00:07<00:51,  8.73it/s]"
     ]
    },
    {
     "name": "stdout",
     "output_type": "stream",
     "text": [
      "Dataset Name:  enron , AUC Score(benchmark/combined):  45.454612655233596\n",
      "Dataset Name:  enron , AUC Score (contextual):  85.64178369056418\n",
      "Dataset Name:  enron , AUC Score (structural):  38.50715807202655\n",
      "Dataset Name:  enron , AUC Score (joint-type):  38.499630450849956\n",
      "Dataset Name:  enron , AUC Score (structure type):  38.50193903705609\n",
      "===========================================================================================\n",
      "Dataset Name:  enron  Best AUC Score(benchmark/combined):  77.72176227084564\n",
      "Dataset Name:  enron  Best AUC Score (contextual):  92.76422764227644\n",
      "Dataset Name:  enron  Best AUC Score (structural):  56.990340318026455\n",
      "Dataset Name:  enron  Best AUC Score (joint-type):  38.499630450849956\n",
      "Dataset Name:  enron  Best AUC Score (structure type):  56.82750669372743\n",
      "===========================================================================================\n",
      "Dataset Name:  enron , AUC Score(benchmark/combined):  47.50221762270846\n",
      "Dataset Name:  enron , AUC Score (contextual):  85.60236511456023\n",
      "Dataset Name:  enron , AUC Score (structural):  38.73973349185119\n",
      "Dataset Name:  enron , AUC Score (joint-type):  37.15447154471544\n",
      "Dataset Name:  enron , AUC Score (structure type):  38.67359384081792\n",
      "===========================================================================================\n",
      "Dataset Name:  enron  Best AUC Score(benchmark/combined):  77.72176227084564\n",
      "Dataset Name:  enron  Best AUC Score (contextual):  92.76422764227644\n",
      "Dataset Name:  enron  Best AUC Score (structural):  56.990340318026455\n",
      "Dataset Name:  enron  Best AUC Score (joint-type):  37.15447154471544\n",
      "Dataset Name:  enron  Best AUC Score (structure type):  56.82750669372743\n",
      "===========================================================================================\n"
     ]
    },
    {
     "name": "stderr",
     "output_type": "stream",
     "text": [
      " 11%|█         | 56/500 [00:07<00:50,  8.78it/s]"
     ]
    },
    {
     "name": "stdout",
     "output_type": "stream",
     "text": [
      "Dataset Name:  enron , AUC Score(benchmark/combined):  46.88054405677114\n",
      "Dataset Name:  enron , AUC Score (contextual):  85.50874599655087\n",
      "Dataset Name:  enron , AUC Score (structural):  39.44503888641204\n",
      "Dataset Name:  enron , AUC Score (joint-type):  36.659275683665925\n",
      "Dataset Name:  enron , AUC Score (structure type):  39.332771155513626\n",
      "===========================================================================================\n",
      "Dataset Name:  enron  Best AUC Score(benchmark/combined):  77.72176227084564\n",
      "Dataset Name:  enron  Best AUC Score (contextual):  92.76422764227644\n",
      "Dataset Name:  enron  Best AUC Score (structural):  56.990340318026455\n",
      "Dataset Name:  enron  Best AUC Score (joint-type):  36.659275683665925\n",
      "Dataset Name:  enron  Best AUC Score (structure type):  56.82750669372743\n",
      "===========================================================================================\n",
      "Dataset Name:  enron , AUC Score(benchmark/combined):  47.43642814902424\n",
      "Dataset Name:  enron , AUC Score (contextual):  85.45947277654595\n",
      "Dataset Name:  enron , AUC Score (structural):  39.97924406796453\n",
      "Dataset Name:  enron , AUC Score (joint-type):  36.600147819660016\n",
      "Dataset Name:  enron , AUC Score (structure type):  39.844257687067056\n",
      "===========================================================================================\n",
      "Dataset Name:  enron  Best AUC Score(benchmark/combined):  77.72176227084564\n",
      "Dataset Name:  enron  Best AUC Score (contextual):  92.76422764227644\n",
      "Dataset Name:  enron  Best AUC Score (structural):  56.990340318026455\n",
      "Dataset Name:  enron  Best AUC Score (joint-type):  36.600147819660016\n",
      "Dataset Name:  enron  Best AUC Score (structure type):  56.82750669372743\n",
      "===========================================================================================\n"
     ]
    },
    {
     "name": "stderr",
     "output_type": "stream",
     "text": [
      " 12%|█▏        | 58/500 [00:07<00:50,  8.83it/s]"
     ]
    },
    {
     "name": "stdout",
     "output_type": "stream",
     "text": [
      "Dataset Name:  enron , AUC Score(benchmark/combined):  47.862950916617386\n",
      "Dataset Name:  enron , AUC Score (contextual):  85.48164572554818\n",
      "Dataset Name:  enron , AUC Score (structural):  40.204785257839205\n",
      "Dataset Name:  enron , AUC Score (joint-type):  37.18157181571815\n",
      "Dataset Name:  enron , AUC Score (structure type):  40.083659682321894\n",
      "===========================================================================================\n",
      "Dataset Name:  enron  Best AUC Score(benchmark/combined):  77.72176227084564\n",
      "Dataset Name:  enron  Best AUC Score (contextual):  92.76422764227644\n",
      "Dataset Name:  enron  Best AUC Score (structural):  56.990340318026455\n",
      "Dataset Name:  enron  Best AUC Score (joint-type):  37.18157181571815\n",
      "Dataset Name:  enron  Best AUC Score (structure type):  56.82750669372743\n",
      "===========================================================================================\n",
      "Dataset Name:  enron , AUC Score(benchmark/combined):  48.12610881135422\n",
      "Dataset Name:  enron , AUC Score (contextual):  85.51367331855137\n",
      "Dataset Name:  enron , AUC Score (structural):  40.3462624461287\n",
      "Dataset Name:  enron , AUC Score (joint-type):  36.8649913771865\n",
      "Dataset Name:  enron , AUC Score (structure type):  40.20748172922086\n",
      "===========================================================================================\n",
      "Dataset Name:  enron  Best AUC Score(benchmark/combined):  77.72176227084564\n",
      "Dataset Name:  enron  Best AUC Score (contextual):  92.76422764227644\n",
      "Dataset Name:  enron  Best AUC Score (structural):  56.990340318026455\n",
      "Dataset Name:  enron  Best AUC Score (joint-type):  36.8649913771865\n",
      "Dataset Name:  enron  Best AUC Score (structure type):  56.82750669372743\n",
      "===========================================================================================\n"
     ]
    },
    {
     "name": "stderr",
     "output_type": "stream",
     "text": [
      " 12%|█▏        | 60/500 [00:07<00:49,  8.87it/s]"
     ]
    },
    {
     "name": "stdout",
     "output_type": "stream",
     "text": [
      "Dataset Name:  enron , AUC Score(benchmark/combined):  48.57850384387936\n",
      "Dataset Name:  enron , AUC Score (contextual):  85.57772850455778\n",
      "Dataset Name:  enron , AUC Score (structural):  40.69183137662852\n",
      "Dataset Name:  enron , AUC Score (joint-type):  36.71593988667159\n",
      "Dataset Name:  enron , AUC Score (structure type):  40.53406892871775\n",
      "===========================================================================================\n",
      "Dataset Name:  enron  Best AUC Score(benchmark/combined):  77.72176227084564\n",
      "Dataset Name:  enron  Best AUC Score (contextual):  92.76422764227644\n",
      "Dataset Name:  enron  Best AUC Score (structural):  56.990340318026455\n",
      "Dataset Name:  enron  Best AUC Score (joint-type):  36.71593988667159\n",
      "Dataset Name:  enron  Best AUC Score (structure type):  56.82750669372743\n",
      "===========================================================================================\n",
      "Dataset Name:  enron , AUC Score(benchmark/combined):  48.12093435836783\n",
      "Dataset Name:  enron , AUC Score (contextual):  85.63685636856368\n",
      "Dataset Name:  enron , AUC Score (structural):  40.89661663446773\n",
      "Dataset Name:  enron , AUC Score (joint-type):  36.651884700665185\n",
      "Dataset Name:  enron , AUC Score (structure type):  40.72854434058447\n",
      "===========================================================================================\n",
      "Dataset Name:  enron  Best AUC Score(benchmark/combined):  77.72176227084564\n",
      "Dataset Name:  enron  Best AUC Score (contextual):  92.76422764227644\n",
      "Dataset Name:  enron  Best AUC Score (structural):  56.990340318026455\n",
      "Dataset Name:  enron  Best AUC Score (joint-type):  36.651884700665185\n",
      "Dataset Name:  enron  Best AUC Score (structure type):  56.82750669372743\n",
      "===========================================================================================\n"
     ]
    },
    {
     "name": "stderr",
     "output_type": "stream",
     "text": [
      " 12%|█▏        | 62/500 [00:08<00:49,  8.89it/s]"
     ]
    },
    {
     "name": "stdout",
     "output_type": "stream",
     "text": [
      "Dataset Name:  enron , AUC Score(benchmark/combined):  48.47649319929037\n",
      "Dataset Name:  enron , AUC Score (contextual):  85.69352057156937\n",
      "Dataset Name:  enron , AUC Score (structural):  41.10169911329073\n",
      "Dataset Name:  enron , AUC Score (joint-type):  36.65681202266568\n",
      "Dataset Name:  enron , AUC Score (structure type):  40.92597356811403\n",
      "===========================================================================================\n",
      "Dataset Name:  enron  Best AUC Score(benchmark/combined):  77.72176227084564\n",
      "Dataset Name:  enron  Best AUC Score (contextual):  92.76422764227644\n",
      "Dataset Name:  enron  Best AUC Score (structural):  56.990340318026455\n",
      "Dataset Name:  enron  Best AUC Score (joint-type):  36.65681202266568\n",
      "Dataset Name:  enron  Best AUC Score (structure type):  56.82750669372743\n",
      "===========================================================================================\n",
      "Dataset Name:  enron , AUC Score(benchmark/combined):  48.22590183323477\n",
      "Dataset Name:  enron , AUC Score (contextual):  85.71076619857108\n",
      "Dataset Name:  enron , AUC Score (structural):  41.242780006935156\n",
      "Dataset Name:  enron , AUC Score (joint-type):  36.659275683665925\n",
      "Dataset Name:  enron , AUC Score (structure type):  41.061753804228715\n",
      "===========================================================================================\n",
      "Dataset Name:  enron  Best AUC Score(benchmark/combined):  77.72176227084564\n",
      "Dataset Name:  enron  Best AUC Score (contextual):  92.76422764227644\n",
      "Dataset Name:  enron  Best AUC Score (structural):  56.990340318026455\n",
      "Dataset Name:  enron  Best AUC Score (joint-type):  36.659275683665925\n",
      "Dataset Name:  enron  Best AUC Score (structure type):  56.82750669372743\n",
      "===========================================================================================\n"
     ]
    },
    {
     "name": "stderr",
     "output_type": "stream",
     "text": [
      " 13%|█▎        | 64/500 [00:08<00:49,  8.81it/s]"
     ]
    },
    {
     "name": "stdout",
     "output_type": "stream",
     "text": [
      "Dataset Name:  enron , AUC Score(benchmark/combined):  48.75369603784743\n",
      "Dataset Name:  enron , AUC Score (contextual):  85.73293914757329\n",
      "Dataset Name:  enron , AUC Score (structural):  41.35874572744836\n",
      "Dataset Name:  enron , AUC Score (joint-type):  36.70115792067011\n",
      "Dataset Name:  enron , AUC Score (structure type):  41.17490400099096\n",
      "===========================================================================================\n",
      "Dataset Name:  enron  Best AUC Score(benchmark/combined):  77.72176227084564\n",
      "Dataset Name:  enron  Best AUC Score (contextual):  92.76422764227644\n",
      "Dataset Name:  enron  Best AUC Score (structural):  56.990340318026455\n",
      "Dataset Name:  enron  Best AUC Score (joint-type):  36.70115792067011\n",
      "Dataset Name:  enron  Best AUC Score (structure type):  56.82750669372743\n",
      "===========================================================================================\n",
      "Dataset Name:  enron , AUC Score(benchmark/combined):  48.085452395032526\n",
      "Dataset Name:  enron , AUC Score (contextual):  85.78713968957872\n",
      "Dataset Name:  enron , AUC Score (structural):  41.44548471788775\n",
      "Dataset Name:  enron , AUC Score (joint-type):  37.16678984971667\n",
      "Dataset Name:  enron , AUC Score (structure type):  41.27633421947804\n",
      "===========================================================================================\n",
      "Dataset Name:  enron  Best AUC Score(benchmark/combined):  77.72176227084564\n",
      "Dataset Name:  enron  Best AUC Score (contextual):  92.76422764227644\n",
      "Dataset Name:  enron  Best AUC Score (structural):  56.990340318026455\n",
      "Dataset Name:  enron  Best AUC Score (joint-type):  37.16678984971667\n",
      "Dataset Name:  enron  Best AUC Score (structure type):  56.82750669372743\n",
      "===========================================================================================\n"
     ]
    },
    {
     "name": "stderr",
     "output_type": "stream",
     "text": [
      " 13%|█▎        | 66/500 [00:08<00:49,  8.73it/s]"
     ]
    },
    {
     "name": "stdout",
     "output_type": "stream",
     "text": [
      "Dataset Name:  enron , AUC Score(benchmark/combined):  47.99600827912477\n",
      "Dataset Name:  enron , AUC Score (contextual):  85.8980044345898\n",
      "Dataset Name:  enron , AUC Score (structural):  41.41947788180512\n",
      "Dataset Name:  enron , AUC Score (joint-type):  37.841832963784185\n",
      "Dataset Name:  enron , AUC Score (structure type):  41.277429989804574\n",
      "===========================================================================================\n",
      "Dataset Name:  enron  Best AUC Score(benchmark/combined):  77.72176227084564\n",
      "Dataset Name:  enron  Best AUC Score (contextual):  92.76422764227644\n",
      "Dataset Name:  enron  Best AUC Score (structural):  56.990340318026455\n",
      "Dataset Name:  enron  Best AUC Score (joint-type):  37.841832963784185\n",
      "Dataset Name:  enron  Best AUC Score (structure type):  56.82750669372743\n",
      "===========================================================================================\n",
      "Dataset Name:  enron , AUC Score(benchmark/combined):  48.92888823181549\n",
      "Dataset Name:  enron , AUC Score (contextual):  85.94974131559498\n",
      "Dataset Name:  enron , AUC Score (structural):  41.37588547084757\n",
      "Dataset Name:  enron , AUC Score (joint-type):  38.41340231584134\n",
      "Dataset Name:  enron , AUC Score (structure type):  41.25761083955064\n",
      "===========================================================================================\n",
      "Dataset Name:  enron  Best AUC Score(benchmark/combined):  77.72176227084564\n",
      "Dataset Name:  enron  Best AUC Score (contextual):  92.76422764227644\n",
      "Dataset Name:  enron  Best AUC Score (structural):  56.990340318026455\n",
      "Dataset Name:  enron  Best AUC Score (joint-type):  38.41340231584134\n",
      "Dataset Name:  enron  Best AUC Score (structure type):  56.82750669372743\n",
      "===========================================================================================\n"
     ]
    },
    {
     "name": "stderr",
     "output_type": "stream",
     "text": [
      " 14%|█▎        | 68/500 [00:08<00:49,  8.66it/s]"
     ]
    },
    {
     "name": "stdout",
     "output_type": "stream",
     "text": [
      "Dataset Name:  enron , AUC Score(benchmark/combined):  48.567415730337075\n",
      "Dataset Name:  enron , AUC Score (contextual):  85.91278640059127\n",
      "Dataset Name:  enron , AUC Score (structural):  41.417298261257244\n",
      "Dataset Name:  enron , AUC Score (joint-type):  38.79280610987927\n",
      "Dataset Name:  enron , AUC Score (structure type):  41.31211350274896\n",
      "===========================================================================================\n",
      "Dataset Name:  enron  Best AUC Score(benchmark/combined):  77.72176227084564\n",
      "Dataset Name:  enron  Best AUC Score (contextual):  92.76422764227644\n",
      "Dataset Name:  enron  Best AUC Score (structural):  56.990340318026455\n",
      "Dataset Name:  enron  Best AUC Score (joint-type):  38.79280610987927\n",
      "Dataset Name:  enron  Best AUC Score (structure type):  56.82750669372743\n",
      "===========================================================================================\n",
      "Dataset Name:  enron , AUC Score(benchmark/combined):  48.034447072738025\n",
      "Dataset Name:  enron , AUC Score (contextual):  85.97191426459719\n",
      "Dataset Name:  enron , AUC Score (structural):  41.42032000792589\n",
      "Dataset Name:  enron , AUC Score (joint-type):  38.97511702389751\n",
      "Dataset Name:  enron , AUC Score (structure type):  41.32207072006403\n",
      "===========================================================================================\n",
      "Dataset Name:  enron  Best AUC Score(benchmark/combined):  77.72176227084564\n",
      "Dataset Name:  enron  Best AUC Score (contextual):  92.76422764227644\n",
      "Dataset Name:  enron  Best AUC Score (structural):  56.990340318026455\n",
      "Dataset Name:  enron  Best AUC Score (joint-type):  38.97511702389751\n",
      "Dataset Name:  enron  Best AUC Score (structure type):  56.82750669372743\n",
      "===========================================================================================\n"
     ]
    },
    {
     "name": "stderr",
     "output_type": "stream",
     "text": [
      " 14%|█▍        | 70/500 [00:08<00:49,  8.65it/s]"
     ]
    },
    {
     "name": "stdout",
     "output_type": "stream",
     "text": [
      "Dataset Name:  enron , AUC Score(benchmark/combined):  48.46836191602602\n",
      "Dataset Name:  enron , AUC Score (contextual):  86.07046070460704\n",
      "Dataset Name:  enron , AUC Score (structural):  41.450884232426816\n",
      "Dataset Name:  enron , AUC Score (joint-type):  39.041635870904166\n",
      "Dataset Name:  enron , AUC Score (structure type):  41.35403862828612\n",
      "===========================================================================================\n",
      "Dataset Name:  enron  Best AUC Score(benchmark/combined):  77.72176227084564\n",
      "Dataset Name:  enron  Best AUC Score (contextual):  92.76422764227644\n",
      "Dataset Name:  enron  Best AUC Score (structural):  56.990340318026455\n",
      "Dataset Name:  enron  Best AUC Score (joint-type):  39.041635870904166\n",
      "Dataset Name:  enron  Best AUC Score (structure type):  56.82750669372743\n",
      "===========================================================================================\n",
      "Dataset Name:  enron , AUC Score(benchmark/combined):  49.10629804849202\n",
      "Dataset Name:  enron , AUC Score (contextual):  86.07046070460704\n",
      "Dataset Name:  enron , AUC Score (structural):  41.448952296032104\n",
      "Dataset Name:  enron , AUC Score (joint-type):  39.15989159891598\n",
      "Dataset Name:  enron , AUC Score (structure type):  41.35675423300841\n",
      "===========================================================================================\n",
      "Dataset Name:  enron  Best AUC Score(benchmark/combined):  77.72176227084564\n",
      "Dataset Name:  enron  Best AUC Score (contextual):  92.76422764227644\n",
      "Dataset Name:  enron  Best AUC Score (structural):  56.990340318026455\n",
      "Dataset Name:  enron  Best AUC Score (joint-type):  39.15989159891598\n",
      "Dataset Name:  enron  Best AUC Score (structure type):  56.82750669372743\n",
      "===========================================================================================\n"
     ]
    },
    {
     "name": "stderr",
     "output_type": "stream",
     "text": [
      " 14%|█▍        | 72/500 [00:09<00:51,  8.34it/s]"
     ]
    },
    {
     "name": "stdout",
     "output_type": "stream",
     "text": [
      "Dataset Name:  enron , AUC Score(benchmark/combined):  48.86088113542283\n",
      "Dataset Name:  enron , AUC Score (contextual):  86.07046070460704\n",
      "Dataset Name:  enron , AUC Score (structural):  41.423638975578335\n",
      "Dataset Name:  enron , AUC Score (joint-type):  39.546686375954664\n",
      "Dataset Name:  enron , AUC Score (structure type):  41.34736872195066\n",
      "===========================================================================================\n",
      "Dataset Name:  enron  Best AUC Score(benchmark/combined):  77.72176227084564\n",
      "Dataset Name:  enron  Best AUC Score (contextual):  92.76422764227644\n",
      "Dataset Name:  enron  Best AUC Score (structural):  56.990340318026455\n",
      "Dataset Name:  enron  Best AUC Score (joint-type):  39.546686375954664\n",
      "Dataset Name:  enron  Best AUC Score (structure type):  56.82750669372743\n",
      "===========================================================================================\n",
      "Dataset Name:  enron , AUC Score(benchmark/combined):  48.8364872856298\n",
      "Dataset Name:  enron , AUC Score (contextual):  86.1788617886179\n",
      "Dataset Name:  enron , AUC Score (structural):  41.33670183781641\n",
      "Dataset Name:  enron , AUC Score (joint-type):  40.43360433604335\n",
      "Dataset Name:  enron , AUC Score (structure type):  41.29805905725638\n",
      "===========================================================================================\n",
      "Dataset Name:  enron  Best AUC Score(benchmark/combined):  77.72176227084564\n",
      "Dataset Name:  enron  Best AUC Score (contextual):  92.76422764227644\n",
      "Dataset Name:  enron  Best AUC Score (structural):  56.990340318026455\n",
      "Dataset Name:  enron  Best AUC Score (joint-type):  40.43360433604335\n",
      "Dataset Name:  enron  Best AUC Score (structure type):  56.82750669372743\n",
      "===========================================================================================\n"
     ]
    },
    {
     "name": "stderr",
     "output_type": "stream",
     "text": [
      " 15%|█▍        | 74/500 [00:09<00:50,  8.43it/s]"
     ]
    },
    {
     "name": "stdout",
     "output_type": "stream",
     "text": [
      "Dataset Name:  enron , AUC Score(benchmark/combined):  50.0199586043761\n",
      "Dataset Name:  enron , AUC Score (contextual):  86.11480660261148\n",
      "Dataset Name:  enron , AUC Score (structural):  41.21588150790112\n",
      "Dataset Name:  enron , AUC Score (joint-type):  40.729243656072924\n",
      "Dataset Name:  enron , AUC Score (structure type):  41.19329388560157\n",
      "===========================================================================================\n",
      "Dataset Name:  enron  Best AUC Score(benchmark/combined):  77.72176227084564\n",
      "Dataset Name:  enron  Best AUC Score (contextual):  92.76422764227644\n",
      "Dataset Name:  enron  Best AUC Score (structural):  56.990340318026455\n",
      "Dataset Name:  enron  Best AUC Score (joint-type):  40.729243656072924\n",
      "Dataset Name:  enron  Best AUC Score (structure type):  56.82750669372743\n",
      "===========================================================================================\n",
      "Dataset Name:  enron , AUC Score(benchmark/combined):  48.94662921348315\n",
      "Dataset Name:  enron , AUC Score (contextual):  86.07292436560729\n",
      "Dataset Name:  enron , AUC Score (structural):  41.185564967553375\n",
      "Dataset Name:  enron , AUC Score (joint-type):  40.6479428430648\n",
      "Dataset Name:  enron , AUC Score (structure type):  41.16099248206272\n",
      "===========================================================================================\n",
      "Dataset Name:  enron  Best AUC Score(benchmark/combined):  77.72176227084564\n",
      "Dataset Name:  enron  Best AUC Score (contextual):  92.76422764227644\n",
      "Dataset Name:  enron  Best AUC Score (structural):  56.990340318026455\n",
      "Dataset Name:  enron  Best AUC Score (joint-type):  40.6479428430648\n",
      "Dataset Name:  enron  Best AUC Score (structure type):  56.82750669372743\n",
      "===========================================================================================\n"
     ]
    },
    {
     "name": "stderr",
     "output_type": "stream",
     "text": [
      " 15%|█▌        | 76/500 [00:09<00:50,  8.42it/s]"
     ]
    },
    {
     "name": "stdout",
     "output_type": "stream",
     "text": [
      "Dataset Name:  enron , AUC Score(benchmark/combined):  49.09299231224127\n",
      "Dataset Name:  enron , AUC Score (contextual):  86.25523527962554\n",
      "Dataset Name:  enron , AUC Score (structural):  41.04413731609451\n",
      "Dataset Name:  enron , AUC Score (joint-type):  41.52746982015274\n",
      "Dataset Name:  enron , AUC Score (structure type):  41.058990557318324\n",
      "===========================================================================================\n",
      "Dataset Name:  enron  Best AUC Score(benchmark/combined):  77.72176227084564\n",
      "Dataset Name:  enron  Best AUC Score (contextual):  92.76422764227644\n",
      "Dataset Name:  enron  Best AUC Score (structural):  56.990340318026455\n",
      "Dataset Name:  enron  Best AUC Score (joint-type):  41.52746982015274\n",
      "Dataset Name:  enron  Best AUC Score (structure type):  56.82750669372743\n",
      "===========================================================================================\n",
      "Dataset Name:  enron , AUC Score(benchmark/combined):  50.14636309875813\n",
      "Dataset Name:  enron , AUC Score (contextual):  86.19857107661986\n",
      "Dataset Name:  enron , AUC Score (structural):  40.97666815277158\n",
      "Dataset Name:  enron , AUC Score (joint-type):  41.739344666173935\n",
      "Dataset Name:  enron , AUC Score (structure type):  41.002296353466924\n",
      "===========================================================================================\n",
      "Dataset Name:  enron  Best AUC Score(benchmark/combined):  77.72176227084564\n",
      "Dataset Name:  enron  Best AUC Score (contextual):  92.76422764227644\n",
      "Dataset Name:  enron  Best AUC Score (structural):  56.990340318026455\n",
      "Dataset Name:  enron  Best AUC Score (joint-type):  41.739344666173935\n",
      "Dataset Name:  enron  Best AUC Score (structure type):  56.82750669372743\n",
      "===========================================================================================\n"
     ]
    },
    {
     "name": "stderr",
     "output_type": "stream",
     "text": [
      " 16%|█▌        | 78/500 [00:09<00:50,  8.32it/s]"
     ]
    },
    {
     "name": "stdout",
     "output_type": "stream",
     "text": [
      "Dataset Name:  enron , AUC Score(benchmark/combined):  49.22752808988764\n",
      "Dataset Name:  enron , AUC Score (contextual):  86.07046070460704\n",
      "Dataset Name:  enron , AUC Score (structural):  40.99544261158171\n",
      "Dataset Name:  enron , AUC Score (joint-type):  41.5250061591525\n",
      "Dataset Name:  enron , AUC Score (structure type):  41.01206300202955\n",
      "===========================================================================================\n",
      "Dataset Name:  enron  Best AUC Score(benchmark/combined):  77.72176227084564\n",
      "Dataset Name:  enron  Best AUC Score (contextual):  92.76422764227644\n",
      "Dataset Name:  enron  Best AUC Score (structural):  56.990340318026455\n",
      "Dataset Name:  enron  Best AUC Score (joint-type):  41.5250061591525\n",
      "Dataset Name:  enron  Best AUC Score (structure type):  56.82750669372743\n",
      "===========================================================================================\n",
      "Dataset Name:  enron , AUC Score(benchmark/combined):  49.56017149615612\n",
      "Dataset Name:  enron , AUC Score (contextual):  86.12712490761271\n",
      "Dataset Name:  enron , AUC Score (structural):  40.96190617724278\n",
      "Dataset Name:  enron , AUC Score (joint-type):  41.41660507514165\n",
      "Dataset Name:  enron , AUC Score (structure type):  40.97561672812509\n",
      "===========================================================================================\n",
      "Dataset Name:  enron  Best AUC Score(benchmark/combined):  77.72176227084564\n",
      "Dataset Name:  enron  Best AUC Score (contextual):  92.76422764227644\n",
      "Dataset Name:  enron  Best AUC Score (structural):  56.990340318026455\n",
      "Dataset Name:  enron  Best AUC Score (joint-type):  41.41660507514165\n",
      "Dataset Name:  enron  Best AUC Score (structure type):  56.82750669372743\n",
      "===========================================================================================\n"
     ]
    },
    {
     "name": "stderr",
     "output_type": "stream",
     "text": [
      " 16%|█▌        | 80/500 [00:10<00:49,  8.42it/s]"
     ]
    },
    {
     "name": "stdout",
     "output_type": "stream",
     "text": [
      "Dataset Name:  enron , AUC Score(benchmark/combined):  49.51212300413956\n",
      "Dataset Name:  enron , AUC Score (contextual):  86.15422517861542\n",
      "Dataset Name:  enron , AUC Score (structural):  41.025858225590724\n",
      "Dataset Name:  enron , AUC Score (joint-type):  40.859817689085986\n",
      "Dataset Name:  enron , AUC Score (structure type):  41.01558852394972\n",
      "===========================================================================================\n",
      "Dataset Name:  enron  Best AUC Score(benchmark/combined):  77.72176227084564\n",
      "Dataset Name:  enron  Best AUC Score (contextual):  92.76422764227644\n",
      "Dataset Name:  enron  Best AUC Score (structural):  56.990340318026455\n",
      "Dataset Name:  enron  Best AUC Score (joint-type):  40.859817689085986\n",
      "Dataset Name:  enron  Best AUC Score (structure type):  56.82750669372743\n",
      "===========================================================================================\n",
      "Dataset Name:  enron , AUC Score(benchmark/combined):  50.175931401537554\n",
      "Dataset Name:  enron , AUC Score (contextual):  86.10741561961073\n",
      "Dataset Name:  enron , AUC Score (structural):  41.141477188289485\n",
      "Dataset Name:  enron , AUC Score (joint-type):  40.04434589800443\n",
      "Dataset Name:  enron , AUC Score (structure type):  41.09524626247035\n",
      "===========================================================================================\n",
      "Dataset Name:  enron  Best AUC Score(benchmark/combined):  77.72176227084564\n",
      "Dataset Name:  enron  Best AUC Score (contextual):  92.76422764227644\n",
      "Dataset Name:  enron  Best AUC Score (structural):  56.990340318026455\n",
      "Dataset Name:  enron  Best AUC Score (joint-type):  40.04434589800443\n",
      "Dataset Name:  enron  Best AUC Score (structure type):  56.82750669372743\n",
      "===========================================================================================\n"
     ]
    },
    {
     "name": "stderr",
     "output_type": "stream",
     "text": [
      " 16%|█▋        | 82/500 [00:10<00:49,  8.48it/s]"
     ]
    },
    {
     "name": "stdout",
     "output_type": "stream",
     "text": [
      "Dataset Name:  enron , AUC Score(benchmark/combined):  50.854523950325245\n",
      "Dataset Name:  enron , AUC Score (contextual):  86.08277900960827\n",
      "Dataset Name:  enron , AUC Score (structural):  41.28335067122406\n",
      "Dataset Name:  enron , AUC Score (joint-type):  39.2190194629219\n",
      "Dataset Name:  enron , AUC Score (structure type):  41.199773223184586\n",
      "===========================================================================================\n",
      "Dataset Name:  enron  Best AUC Score(benchmark/combined):  77.72176227084564\n",
      "Dataset Name:  enron  Best AUC Score (contextual):  92.76422764227644\n",
      "Dataset Name:  enron  Best AUC Score (structural):  56.990340318026455\n",
      "Dataset Name:  enron  Best AUC Score (joint-type):  39.2190194629219\n",
      "Dataset Name:  enron  Best AUC Score (structure type):  56.82750669372743\n",
      "===========================================================================================\n",
      "Dataset Name:  enron , AUC Score(benchmark/combined):  49.85141927853341\n",
      "Dataset Name:  enron , AUC Score (contextual):  86.08524267060852\n",
      "Dataset Name:  enron , AUC Score (structural):  41.55684351315203\n",
      "Dataset Name:  enron , AUC Score (joint-type):  38.63759546686376\n",
      "Dataset Name:  enron , AUC Score (structure type):  41.44031863095409\n",
      "===========================================================================================\n",
      "Dataset Name:  enron  Best AUC Score(benchmark/combined):  77.72176227084564\n",
      "Dataset Name:  enron  Best AUC Score (contextual):  92.76422764227644\n",
      "Dataset Name:  enron  Best AUC Score (structural):  56.990340318026455\n",
      "Dataset Name:  enron  Best AUC Score (joint-type):  38.63759546686376\n",
      "Dataset Name:  enron  Best AUC Score (structure type):  56.82750669372743\n",
      "===========================================================================================\n"
     ]
    },
    {
     "name": "stderr",
     "output_type": "stream",
     "text": [
      " 17%|█▋        | 84/500 [00:10<00:48,  8.50it/s]"
     ]
    },
    {
     "name": "stdout",
     "output_type": "stream",
     "text": [
      "Dataset Name:  enron , AUC Score(benchmark/combined):  50.251330573625076\n",
      "Dataset Name:  enron , AUC Score (contextual):  86.20842572062084\n",
      "Dataset Name:  enron , AUC Score (structural):  41.66275325704662\n",
      "Dataset Name:  enron , AUC Score (joint-type):  38.13993594481399\n",
      "Dataset Name:  enron , AUC Score (structure type):  41.52293018513754\n",
      "===========================================================================================\n",
      "Dataset Name:  enron  Best AUC Score(benchmark/combined):  77.72176227084564\n",
      "Dataset Name:  enron  Best AUC Score (contextual):  92.76422764227644\n",
      "Dataset Name:  enron  Best AUC Score (structural):  56.990340318026455\n",
      "Dataset Name:  enron  Best AUC Score (joint-type):  38.13993594481399\n",
      "Dataset Name:  enron  Best AUC Score (structure type):  56.82750669372743\n",
      "===========================================================================================\n",
      "Dataset Name:  enron , AUC Score(benchmark/combined):  50.1271437019515\n",
      "Dataset Name:  enron , AUC Score (contextual):  86.10248829761025\n",
      "Dataset Name:  enron , AUC Score (structural):  41.777084262148904\n",
      "Dataset Name:  enron , AUC Score (joint-type):  37.60285784676029\n",
      "Dataset Name:  enron , AUC Score (structure type):  41.61211636128024\n",
      "===========================================================================================\n",
      "Dataset Name:  enron  Best AUC Score(benchmark/combined):  77.72176227084564\n",
      "Dataset Name:  enron  Best AUC Score (contextual):  92.76422764227644\n",
      "Dataset Name:  enron  Best AUC Score (structural):  56.990340318026455\n",
      "Dataset Name:  enron  Best AUC Score (joint-type):  37.60285784676029\n",
      "Dataset Name:  enron  Best AUC Score (structure type):  56.82750669372743\n",
      "===========================================================================================\n"
     ]
    },
    {
     "name": "stderr",
     "output_type": "stream",
     "text": [
      " 17%|█▋        | 86/500 [00:10<00:47,  8.64it/s]"
     ]
    },
    {
     "name": "stdout",
     "output_type": "stream",
     "text": [
      "Dataset Name:  enron , AUC Score(benchmark/combined):  50.19958604376109\n",
      "Dataset Name:  enron , AUC Score (contextual):  86.06799704360681\n",
      "Dataset Name:  enron , AUC Score (structural):  41.85877049586368\n",
      "Dataset Name:  enron , AUC Score (joint-type):  37.3170731707317\n",
      "Dataset Name:  enron , AUC Score (structure type):  41.6796253418327\n",
      "===========================================================================================\n",
      "Dataset Name:  enron  Best AUC Score(benchmark/combined):  77.72176227084564\n",
      "Dataset Name:  enron  Best AUC Score (contextual):  92.76422764227644\n",
      "Dataset Name:  enron  Best AUC Score (structural):  56.990340318026455\n",
      "Dataset Name:  enron  Best AUC Score (joint-type):  37.3170731707317\n",
      "Dataset Name:  enron  Best AUC Score (structure type):  56.82750669372743\n",
      "===========================================================================================\n",
      "Dataset Name:  enron , AUC Score(benchmark/combined):  50.125665286812534\n",
      "Dataset Name:  enron , AUC Score (contextual):  86.08770633160877\n",
      "Dataset Name:  enron , AUC Score (structural):  42.06583444791202\n",
      "Dataset Name:  enron , AUC Score (joint-type):  37.2850455777285\n",
      "Dataset Name:  enron , AUC Score (structure type):  41.87753099124336\n",
      "===========================================================================================\n",
      "Dataset Name:  enron  Best AUC Score(benchmark/combined):  77.72176227084564\n",
      "Dataset Name:  enron  Best AUC Score (contextual):  92.76422764227644\n",
      "Dataset Name:  enron  Best AUC Score (structural):  56.990340318026455\n",
      "Dataset Name:  enron  Best AUC Score (joint-type):  37.2850455777285\n",
      "Dataset Name:  enron  Best AUC Score (structure type):  56.82750669372743\n",
      "===========================================================================================\n"
     ]
    },
    {
     "name": "stderr",
     "output_type": "stream",
     "text": [
      " 18%|█▊        | 88/500 [00:11<00:47,  8.70it/s]"
     ]
    },
    {
     "name": "stdout",
     "output_type": "stream",
     "text": [
      "Dataset Name:  enron , AUC Score(benchmark/combined):  50.23285038438794\n",
      "Dataset Name:  enron , AUC Score (contextual):  86.11973392461198\n",
      "Dataset Name:  enron , AUC Score (structural):  42.1159657205132\n",
      "Dataset Name:  enron , AUC Score (joint-type):  37.2209903917221\n",
      "Dataset Name:  enron , AUC Score (structure type):  41.923267491829364\n",
      "===========================================================================================\n",
      "Dataset Name:  enron  Best AUC Score(benchmark/combined):  77.72176227084564\n",
      "Dataset Name:  enron  Best AUC Score (contextual):  92.76422764227644\n",
      "Dataset Name:  enron  Best AUC Score (structural):  56.990340318026455\n",
      "Dataset Name:  enron  Best AUC Score (joint-type):  37.2209903917221\n",
      "Dataset Name:  enron  Best AUC Score (structure type):  56.82750669372743\n",
      "===========================================================================================\n",
      "Dataset Name:  enron , AUC Score(benchmark/combined):  50.297900650502655\n",
      "Dataset Name:  enron , AUC Score (contextual):  86.16654348361665\n",
      "Dataset Name:  enron , AUC Score (structural):  41.912418883439834\n",
      "Dataset Name:  enron , AUC Score (joint-type):  37.06824340970682\n",
      "Dataset Name:  enron , AUC Score (structure type):  41.72159810955798\n",
      "===========================================================================================\n",
      "Dataset Name:  enron  Best AUC Score(benchmark/combined):  77.72176227084564\n",
      "Dataset Name:  enron  Best AUC Score (contextual):  92.76422764227644\n",
      "Dataset Name:  enron  Best AUC Score (structural):  56.990340318026455\n",
      "Dataset Name:  enron  Best AUC Score (joint-type):  37.06824340970682\n",
      "Dataset Name:  enron  Best AUC Score (structure type):  56.82750669372743\n",
      "===========================================================================================\n"
     ]
    },
    {
     "name": "stderr",
     "output_type": "stream",
     "text": [
      " 18%|█▊        | 90/500 [00:11<00:47,  8.68it/s]"
     ]
    },
    {
     "name": "stdout",
     "output_type": "stream",
     "text": [
      "Dataset Name:  enron , AUC Score(benchmark/combined):  50.34668835008871\n",
      "Dataset Name:  enron , AUC Score (contextual):  86.27248090662725\n",
      "Dataset Name:  enron , AUC Score (structural):  41.77738148313271\n",
      "Dataset Name:  enron , AUC Score (joint-type):  36.91056910569106\n",
      "Dataset Name:  enron , AUC Score (structure type):  41.585627304690846\n",
      "===========================================================================================\n",
      "Dataset Name:  enron  Best AUC Score(benchmark/combined):  77.72176227084564\n",
      "Dataset Name:  enron  Best AUC Score (contextual):  92.76422764227644\n",
      "Dataset Name:  enron  Best AUC Score (structural):  56.990340318026455\n",
      "Dataset Name:  enron  Best AUC Score (joint-type):  36.91056910569106\n",
      "Dataset Name:  enron  Best AUC Score (structure type):  56.82750669372743\n",
      "===========================================================================================\n",
      "Dataset Name:  enron , AUC Score(benchmark/combined):  51.13394441159078\n",
      "Dataset Name:  enron , AUC Score (contextual):  86.22813500862281\n",
      "Dataset Name:  enron , AUC Score (structural):  41.66483380393323\n",
      "Dataset Name:  enron , AUC Score (joint-type):  36.52870165065287\n",
      "Dataset Name:  enron , AUC Score (structure type):  41.46261517498976\n",
      "===========================================================================================\n",
      "Dataset Name:  enron  Best AUC Score(benchmark/combined):  77.72176227084564\n",
      "Dataset Name:  enron  Best AUC Score (contextual):  92.76422764227644\n",
      "Dataset Name:  enron  Best AUC Score (structural):  56.990340318026455\n",
      "Dataset Name:  enron  Best AUC Score (joint-type):  36.52870165065287\n",
      "Dataset Name:  enron  Best AUC Score (structure type):  56.82750669372743\n",
      "===========================================================================================\n"
     ]
    },
    {
     "name": "stderr",
     "output_type": "stream",
     "text": [
      " 18%|█▊        | 92/500 [00:11<00:46,  8.84it/s]"
     ]
    },
    {
     "name": "stdout",
     "output_type": "stream",
     "text": [
      "Dataset Name:  enron , AUC Score(benchmark/combined):  50.23728562980485\n",
      "Dataset Name:  enron , AUC Score (contextual):  86.22813500862281\n",
      "Dataset Name:  enron , AUC Score (structural):  41.49259424382029\n",
      "Dataset Name:  enron , AUC Score (joint-type):  36.410445922641046\n",
      "Dataset Name:  enron , AUC Score (structure type):  41.29238963687125\n",
      "===========================================================================================\n",
      "Dataset Name:  enron  Best AUC Score(benchmark/combined):  77.72176227084564\n",
      "Dataset Name:  enron  Best AUC Score (contextual):  92.76422764227644\n",
      "Dataset Name:  enron  Best AUC Score (structural):  56.990340318026455\n",
      "Dataset Name:  enron  Best AUC Score (joint-type):  36.410445922641046\n",
      "Dataset Name:  enron  Best AUC Score (structure type):  56.82750669372743\n",
      "===========================================================================================\n",
      "Dataset Name:  enron , AUC Score(benchmark/combined):  50.20476049674749\n",
      "Dataset Name:  enron , AUC Score (contextual):  86.34146341463415\n",
      "Dataset Name:  enron , AUC Score (structural):  41.38168128003171\n",
      "Dataset Name:  enron , AUC Score (joint-type):  36.28233555062823\n",
      "Dataset Name:  enron , AUC Score (structure type):  41.18076399012853\n",
      "===========================================================================================\n",
      "Dataset Name:  enron  Best AUC Score(benchmark/combined):  77.72176227084564\n",
      "Dataset Name:  enron  Best AUC Score (contextual):  92.76422764227644\n",
      "Dataset Name:  enron  Best AUC Score (structural):  56.990340318026455\n",
      "Dataset Name:  enron  Best AUC Score (joint-type):  36.28233555062823\n",
      "Dataset Name:  enron  Best AUC Score (structure type):  56.82750669372743\n",
      "===========================================================================================\n"
     ]
    },
    {
     "name": "stderr",
     "output_type": "stream",
     "text": [
      " 19%|█▉        | 94/500 [00:11<00:45,  8.83it/s]"
     ]
    },
    {
     "name": "stdout",
     "output_type": "stream",
     "text": [
      "Dataset Name:  enron , AUC Score(benchmark/combined):  50.16188645771733\n",
      "Dataset Name:  enron , AUC Score (contextual):  86.19610741561961\n",
      "Dataset Name:  enron , AUC Score (structural):  41.39000346757814\n",
      "Dataset Name:  enron , AUC Score (joint-type):  36.34392707563438\n",
      "Dataset Name:  enron , AUC Score (structure type):  41.191149987136605\n",
      "===========================================================================================\n",
      "Dataset Name:  enron  Best AUC Score(benchmark/combined):  77.72176227084564\n",
      "Dataset Name:  enron  Best AUC Score (contextual):  92.76422764227644\n",
      "Dataset Name:  enron  Best AUC Score (structural):  56.990340318026455\n",
      "Dataset Name:  enron  Best AUC Score (joint-type):  36.34392707563438\n",
      "Dataset Name:  enron  Best AUC Score (structure type):  56.82750669372743\n",
      "===========================================================================================\n",
      "Dataset Name:  enron , AUC Score(benchmark/combined):  50.13010053222945\n",
      "Dataset Name:  enron , AUC Score (contextual):  86.07046070460704\n",
      "Dataset Name:  enron , AUC Score (structural):  41.44181899242086\n",
      "Dataset Name:  enron , AUC Score (joint-type):  36.55826558265583\n",
      "Dataset Name:  enron , AUC Score (structure type):  41.249273456631315\n",
      "===========================================================================================\n",
      "Dataset Name:  enron  Best AUC Score(benchmark/combined):  77.72176227084564\n",
      "Dataset Name:  enron  Best AUC Score (contextual):  92.76422764227644\n",
      "Dataset Name:  enron  Best AUC Score (structural):  56.990340318026455\n",
      "Dataset Name:  enron  Best AUC Score (joint-type):  36.55826558265583\n",
      "Dataset Name:  enron  Best AUC Score (structure type):  56.82750669372743\n",
      "===========================================================================================\n"
     ]
    },
    {
     "name": "stderr",
     "output_type": "stream",
     "text": [
      " 19%|█▉        | 96/500 [00:12<00:45,  8.80it/s]"
     ]
    },
    {
     "name": "stdout",
     "output_type": "stream",
     "text": [
      "Dataset Name:  enron , AUC Score(benchmark/combined):  50.15301596688351\n",
      "Dataset Name:  enron , AUC Score (contextual):  86.20349839862035\n",
      "Dataset Name:  enron , AUC Score (structural):  41.34046663694457\n",
      "Dataset Name:  enron , AUC Score (joint-type):  36.84651391968465\n",
      "Dataset Name:  enron , AUC Score (structure type):  41.162945811775245\n",
      "===========================================================================================\n",
      "Dataset Name:  enron  Best AUC Score(benchmark/combined):  77.72176227084564\n",
      "Dataset Name:  enron  Best AUC Score (contextual):  92.76422764227644\n",
      "Dataset Name:  enron  Best AUC Score (structural):  56.990340318026455\n",
      "Dataset Name:  enron  Best AUC Score (joint-type):  36.84651391968465\n",
      "Dataset Name:  enron  Best AUC Score (structure type):  56.82750669372743\n",
      "===========================================================================================\n",
      "Dataset Name:  enron , AUC Score(benchmark/combined):  50.18701951507983\n",
      "Dataset Name:  enron , AUC Score (contextual):  86.19118009361911\n",
      "Dataset Name:  enron , AUC Score (structural):  41.20815376232228\n",
      "Dataset Name:  enron , AUC Score (joint-type):  37.100271002710016\n",
      "Dataset Name:  enron , AUC Score (structure type):  41.045507818083074\n",
      "===========================================================================================\n",
      "Dataset Name:  enron  Best AUC Score(benchmark/combined):  77.72176227084564\n",
      "Dataset Name:  enron  Best AUC Score (contextual):  92.76422764227644\n",
      "Dataset Name:  enron  Best AUC Score (structural):  56.990340318026455\n",
      "Dataset Name:  enron  Best AUC Score (joint-type):  37.100271002710016\n",
      "Dataset Name:  enron  Best AUC Score (structure type):  56.82750669372743\n",
      "===========================================================================================\n"
     ]
    },
    {
     "name": "stderr",
     "output_type": "stream",
     "text": [
      " 20%|█▉        | 98/500 [00:12<00:46,  8.68it/s]"
     ]
    },
    {
     "name": "stdout",
     "output_type": "stream",
     "text": [
      "Dataset Name:  enron , AUC Score(benchmark/combined):  51.05189237137788\n",
      "Dataset Name:  enron , AUC Score (contextual):  86.00640551860064\n",
      "Dataset Name:  enron , AUC Score (structural):  41.06286223807401\n",
      "Dataset Name:  enron , AUC Score (joint-type):  37.459965508745995\n",
      "Dataset Name:  enron , AUC Score (structure type):  40.91968479928346\n",
      "===========================================================================================\n",
      "Dataset Name:  enron  Best AUC Score(benchmark/combined):  77.72176227084564\n",
      "Dataset Name:  enron  Best AUC Score (contextual):  92.76422764227644\n",
      "Dataset Name:  enron  Best AUC Score (structural):  56.990340318026455\n",
      "Dataset Name:  enron  Best AUC Score (joint-type):  37.459965508745995\n",
      "Dataset Name:  enron  Best AUC Score (structure type):  56.82750669372743\n",
      "===========================================================================================\n",
      "Dataset Name:  enron , AUC Score(benchmark/combined):  50.40508574807806\n",
      "Dataset Name:  enron , AUC Score (contextual):  85.96205962059621\n",
      "Dataset Name:  enron , AUC Score (structural):  40.948184475157284\n",
      "Dataset Name:  enron , AUC Score (joint-type):  37.86154225178615\n",
      "Dataset Name:  enron , AUC Score (structure type):  40.82492448713184\n",
      "===========================================================================================\n",
      "Dataset Name:  enron  Best AUC Score(benchmark/combined):  77.72176227084564\n",
      "Dataset Name:  enron  Best AUC Score (contextual):  92.76422764227644\n",
      "Dataset Name:  enron  Best AUC Score (structural):  56.990340318026455\n",
      "Dataset Name:  enron  Best AUC Score (joint-type):  37.86154225178615\n",
      "Dataset Name:  enron  Best AUC Score (structure type):  56.82750669372743\n",
      "===========================================================================================\n"
     ]
    },
    {
     "name": "stderr",
     "output_type": "stream",
     "text": [
      " 20%|██        | 100/500 [00:12<00:45,  8.73it/s]"
     ]
    },
    {
     "name": "stdout",
     "output_type": "stream",
     "text": [
      "Dataset Name:  enron , AUC Score(benchmark/combined):  50.39695446481372\n",
      "Dataset Name:  enron , AUC Score (contextual):  85.94481399359448\n",
      "Dataset Name:  enron , AUC Score (structural):  40.934165552087975\n",
      "Dataset Name:  enron , AUC Score (joint-type):  38.08080808080808\n",
      "Dataset Name:  enron , AUC Score (structure type):  40.81992205738025\n",
      "===========================================================================================\n",
      "Dataset Name:  enron  Best AUC Score(benchmark/combined):  77.72176227084564\n",
      "Dataset Name:  enron  Best AUC Score (contextual):  92.76422764227644\n",
      "Dataset Name:  enron  Best AUC Score (structural):  56.990340318026455\n",
      "Dataset Name:  enron  Best AUC Score (joint-type):  38.08080808080808\n",
      "Dataset Name:  enron  Best AUC Score (structure type):  56.82750669372743\n",
      "===========================================================================================\n",
      "Dataset Name:  enron , AUC Score(benchmark/combined):  51.26404494382022\n",
      "Dataset Name:  enron , AUC Score (contextual):  85.99901453559991\n",
      "Dataset Name:  enron , AUC Score (structural):  41.22489721107643\n",
      "Dataset Name:  enron , AUC Score (joint-type):  38.142399605814234\n",
      "Dataset Name:  enron , AUC Score (structure type):  41.1019161688058\n",
      "===========================================================================================\n",
      "Dataset Name:  enron  Best AUC Score(benchmark/combined):  77.72176227084564\n",
      "Dataset Name:  enron  Best AUC Score (contextual):  92.76422764227644\n",
      "Dataset Name:  enron  Best AUC Score (structural):  56.990340318026455\n",
      "Dataset Name:  enron  Best AUC Score (joint-type):  38.142399605814234\n",
      "Dataset Name:  enron  Best AUC Score (structure type):  56.82750669372743\n",
      "===========================================================================================\n"
     ]
    },
    {
     "name": "stderr",
     "output_type": "stream",
     "text": [
      " 20%|██        | 102/500 [00:12<00:45,  8.80it/s]"
     ]
    },
    {
     "name": "stdout",
     "output_type": "stream",
     "text": [
      "Dataset Name:  enron , AUC Score(benchmark/combined):  50.669722057953884\n",
      "Dataset Name:  enron , AUC Score (contextual):  85.93742301059375\n",
      "Dataset Name:  enron , AUC Score (structural):  41.131520285332144\n",
      "Dataset Name:  enron , AUC Score (joint-type):  37.487065779748704\n",
      "Dataset Name:  enron , AUC Score (structure type):  40.986765000142924\n",
      "===========================================================================================\n",
      "Dataset Name:  enron  Best AUC Score(benchmark/combined):  77.72176227084564\n",
      "Dataset Name:  enron  Best AUC Score (contextual):  92.76422764227644\n",
      "Dataset Name:  enron  Best AUC Score (structural):  56.990340318026455\n",
      "Dataset Name:  enron  Best AUC Score (joint-type):  37.487065779748704\n",
      "Dataset Name:  enron  Best AUC Score (structure type):  56.82750669372743\n",
      "===========================================================================================\n",
      "Dataset Name:  enron , AUC Score(benchmark/combined):  50.844175044352454\n",
      "Dataset Name:  enron , AUC Score (contextual):  86.43261887164326\n",
      "Dataset Name:  enron , AUC Score (structural):  41.034725318274134\n",
      "Dataset Name:  enron , AUC Score (joint-type):  37.487065779748704\n",
      "Dataset Name:  enron , AUC Score (structure type):  40.89367216457517\n",
      "===========================================================================================\n",
      "Dataset Name:  enron  Best AUC Score(benchmark/combined):  77.72176227084564\n",
      "Dataset Name:  enron  Best AUC Score (contextual):  92.76422764227644\n",
      "Dataset Name:  enron  Best AUC Score (structural):  56.990340318026455\n",
      "Dataset Name:  enron  Best AUC Score (joint-type):  37.487065779748704\n",
      "Dataset Name:  enron  Best AUC Score (structure type):  56.82750669372743\n",
      "===========================================================================================\n"
     ]
    },
    {
     "name": "stderr",
     "output_type": "stream",
     "text": [
      " 21%|██        | 104/500 [00:12<00:46,  8.49it/s]"
     ]
    },
    {
     "name": "stdout",
     "output_type": "stream",
     "text": [
      "Dataset Name:  enron , AUC Score(benchmark/combined):  51.65138971023063\n",
      "Dataset Name:  enron , AUC Score (contextual):  86.45725548164572\n",
      "Dataset Name:  enron , AUC Score (structural):  40.893545350968445\n",
      "Dataset Name:  enron , AUC Score (joint-type):  38.051244148805125\n",
      "Dataset Name:  enron , AUC Score (structure type):  40.77971205061506\n",
      "===========================================================================================\n",
      "Dataset Name:  enron  Best AUC Score(benchmark/combined):  77.72176227084564\n",
      "Dataset Name:  enron  Best AUC Score (contextual):  92.76422764227644\n",
      "Dataset Name:  enron  Best AUC Score (structural):  56.990340318026455\n",
      "Dataset Name:  enron  Best AUC Score (joint-type):  38.051244148805125\n",
      "Dataset Name:  enron  Best AUC Score (structure type):  56.82750669372743\n",
      "===========================================================================================\n",
      "Dataset Name:  enron , AUC Score(benchmark/combined):  51.5612063867534\n",
      "Dataset Name:  enron , AUC Score (contextual):  85.95343680709536\n",
      "Dataset Name:  enron , AUC Score (structural):  40.80081240402239\n",
      "Dataset Name:  enron , AUC Score (joint-type):  37.73835920177383\n",
      "Dataset Name:  enron , AUC Score (structure type):  40.67842475869232\n",
      "===========================================================================================\n",
      "Dataset Name:  enron  Best AUC Score(benchmark/combined):  77.72176227084564\n",
      "Dataset Name:  enron  Best AUC Score (contextual):  92.76422764227644\n",
      "Dataset Name:  enron  Best AUC Score (structural):  56.990340318026455\n",
      "Dataset Name:  enron  Best AUC Score (joint-type):  37.73835920177383\n",
      "Dataset Name:  enron  Best AUC Score (structure type):  56.82750669372743\n",
      "===========================================================================================\n"
     ]
    },
    {
     "name": "stderr",
     "output_type": "stream",
     "text": [
      " 21%|██        | 106/500 [00:13<00:46,  8.56it/s]"
     ]
    },
    {
     "name": "stdout",
     "output_type": "stream",
     "text": [
      "Dataset Name:  enron , AUC Score(benchmark/combined):  51.10289769367239\n",
      "Dataset Name:  enron , AUC Score (contextual):  85.81670362158167\n",
      "Dataset Name:  enron , AUC Score (structural):  40.88596621588151\n",
      "Dataset Name:  enron , AUC Score (joint-type):  36.93027839369303\n",
      "Dataset Name:  enron , AUC Score (structure type):  40.72906840465369\n",
      "===========================================================================================\n",
      "Dataset Name:  enron  Best AUC Score(benchmark/combined):  77.72176227084564\n",
      "Dataset Name:  enron  Best AUC Score (contextual):  92.76422764227644\n",
      "Dataset Name:  enron  Best AUC Score (structural):  56.990340318026455\n",
      "Dataset Name:  enron  Best AUC Score (joint-type):  36.93027839369303\n",
      "Dataset Name:  enron  Best AUC Score (structure type):  56.82750669372743\n",
      "===========================================================================================\n",
      "Dataset Name:  enron , AUC Score(benchmark/combined):  51.19751626256653\n",
      "Dataset Name:  enron , AUC Score (contextual):  85.78221236757821\n",
      "Dataset Name:  enron , AUC Score (structural):  41.07058998365285\n",
      "Dataset Name:  enron , AUC Score (joint-type):  36.16407982261641\n",
      "Dataset Name:  enron , AUC Score (structure type):  40.87699739873653\n",
      "===========================================================================================\n",
      "Dataset Name:  enron  Best AUC Score(benchmark/combined):  77.72176227084564\n",
      "Dataset Name:  enron  Best AUC Score (contextual):  92.76422764227644\n",
      "Dataset Name:  enron  Best AUC Score (structural):  56.990340318026455\n",
      "Dataset Name:  enron  Best AUC Score (joint-type):  36.16407982261641\n",
      "Dataset Name:  enron  Best AUC Score (structure type):  56.82750669372743\n",
      "===========================================================================================\n"
     ]
    },
    {
     "name": "stderr",
     "output_type": "stream",
     "text": [
      " 22%|██▏       | 108/500 [00:13<00:45,  8.55it/s]"
     ]
    },
    {
     "name": "stdout",
     "output_type": "stream",
     "text": [
      "Dataset Name:  enron , AUC Score(benchmark/combined):  51.24926079243052\n",
      "Dataset Name:  enron , AUC Score (contextual):  85.75264843557527\n",
      "Dataset Name:  enron , AUC Score (structural):  41.111656016248084\n",
      "Dataset Name:  enron , AUC Score (joint-type):  36.043360433604335\n",
      "Dataset Name:  enron , AUC Score (structure type):  40.91182383824525\n",
      "===========================================================================================\n",
      "Dataset Name:  enron  Best AUC Score(benchmark/combined):  77.72176227084564\n",
      "Dataset Name:  enron  Best AUC Score (contextual):  92.76422764227644\n",
      "Dataset Name:  enron  Best AUC Score (structural):  56.990340318026455\n",
      "Dataset Name:  enron  Best AUC Score (joint-type):  36.043360433604335\n",
      "Dataset Name:  enron  Best AUC Score (structure type):  56.82750669372743\n",
      "===========================================================================================\n",
      "Dataset Name:  enron , AUC Score(benchmark/combined):  51.332791247782374\n",
      "Dataset Name:  enron , AUC Score (contextual):  85.7378664695738\n",
      "Dataset Name:  enron , AUC Score (structural):  41.05206320899589\n",
      "Dataset Name:  enron , AUC Score (joint-type):  36.13697955161369\n",
      "Dataset Name:  enron , AUC Score (structure type):  40.85813109224481\n",
      "===========================================================================================\n",
      "Dataset Name:  enron  Best AUC Score(benchmark/combined):  77.72176227084564\n",
      "Dataset Name:  enron  Best AUC Score (contextual):  92.76422764227644\n",
      "Dataset Name:  enron  Best AUC Score (structural):  56.990340318026455\n",
      "Dataset Name:  enron  Best AUC Score (joint-type):  36.13697955161369\n",
      "Dataset Name:  enron  Best AUC Score (structure type):  56.82750669372743\n",
      "===========================================================================================\n"
     ]
    },
    {
     "name": "stderr",
     "output_type": "stream",
     "text": [
      " 22%|██▏       | 110/500 [00:13<00:45,  8.50it/s]"
     ]
    },
    {
     "name": "stdout",
     "output_type": "stream",
     "text": [
      "Dataset Name:  enron , AUC Score(benchmark/combined):  52.07273802483737\n",
      "Dataset Name:  enron , AUC Score (contextual):  85.72308450357231\n",
      "Dataset Name:  enron , AUC Score (structural):  40.892604151186404\n",
      "Dataset Name:  enron , AUC Score (joint-type):  36.34639073663464\n",
      "Dataset Name:  enron , AUC Score (structure type):  40.71287006069615\n",
      "===========================================================================================\n",
      "Dataset Name:  enron  Best AUC Score(benchmark/combined):  77.72176227084564\n",
      "Dataset Name:  enron  Best AUC Score (contextual):  92.76422764227644\n",
      "Dataset Name:  enron  Best AUC Score (structural):  56.990340318026455\n",
      "Dataset Name:  enron  Best AUC Score (joint-type):  36.34639073663464\n",
      "Dataset Name:  enron  Best AUC Score (structure type):  56.82750669372743\n",
      "===========================================================================================\n",
      "Dataset Name:  enron , AUC Score(benchmark/combined):  52.205056179775276\n",
      "Dataset Name:  enron , AUC Score (contextual):  85.72308450357231\n",
      "Dataset Name:  enron , AUC Score (structural):  40.80477535047308\n",
      "Dataset Name:  enron , AUC Score (joint-type):  36.37349100763735\n",
      "Dataset Name:  enron , AUC Score (structure type):  40.62944858931481\n",
      "===========================================================================================\n",
      "Dataset Name:  enron  Best AUC Score(benchmark/combined):  77.72176227084564\n",
      "Dataset Name:  enron  Best AUC Score (contextual):  92.76422764227644\n",
      "Dataset Name:  enron  Best AUC Score (structural):  56.990340318026455\n",
      "Dataset Name:  enron  Best AUC Score (joint-type):  36.37349100763735\n",
      "Dataset Name:  enron  Best AUC Score (structure type):  56.82750669372743\n",
      "===========================================================================================\n"
     ]
    },
    {
     "name": "stderr",
     "output_type": "stream",
     "text": [
      " 22%|██▏       | 112/500 [00:13<00:46,  8.38it/s]"
     ]
    },
    {
     "name": "stdout",
     "output_type": "stream",
     "text": [
      "Dataset Name:  enron , AUC Score(benchmark/combined):  51.5094618568894\n",
      "Dataset Name:  enron , AUC Score (contextual):  85.6959842325696\n",
      "Dataset Name:  enron , AUC Score (structural):  40.78203794521227\n",
      "Dataset Name:  enron , AUC Score (joint-type):  36.31436314363143\n",
      "Dataset Name:  enron , AUC Score (structure type):  40.60529399994283\n",
      "===========================================================================================\n",
      "Dataset Name:  enron  Best AUC Score(benchmark/combined):  77.72176227084564\n",
      "Dataset Name:  enron  Best AUC Score (contextual):  92.76422764227644\n",
      "Dataset Name:  enron  Best AUC Score (structural):  56.990340318026455\n",
      "Dataset Name:  enron  Best AUC Score (joint-type):  36.31436314363143\n",
      "Dataset Name:  enron  Best AUC Score (structure type):  56.82750669372743\n",
      "===========================================================================================\n",
      "Dataset Name:  enron , AUC Score(benchmark/combined):  51.3061797752809\n",
      "Dataset Name:  enron , AUC Score (contextual):  85.70337521557035\n",
      "Dataset Name:  enron , AUC Score (structural):  40.77970971417249\n",
      "Dataset Name:  enron , AUC Score (joint-type):  36.20842572062084\n",
      "Dataset Name:  enron , AUC Score (structure type):  40.598957588924144\n",
      "===========================================================================================\n",
      "Dataset Name:  enron  Best AUC Score(benchmark/combined):  77.72176227084564\n",
      "Dataset Name:  enron  Best AUC Score (contextual):  92.76422764227644\n",
      "Dataset Name:  enron  Best AUC Score (structural):  56.990340318026455\n",
      "Dataset Name:  enron  Best AUC Score (joint-type):  36.20842572062084\n",
      "Dataset Name:  enron  Best AUC Score (structure type):  56.82750669372743\n",
      "===========================================================================================\n"
     ]
    },
    {
     "name": "stderr",
     "output_type": "stream",
     "text": [
      " 23%|██▎       | 114/500 [00:14<00:46,  8.35it/s]"
     ]
    },
    {
     "name": "stdout",
     "output_type": "stream",
     "text": [
      "Dataset Name:  enron , AUC Score(benchmark/combined):  51.2603489059728\n",
      "Dataset Name:  enron , AUC Score (contextual):  85.71322985957133\n",
      "Dataset Name:  enron , AUC Score (structural):  40.71020954079358\n",
      "Dataset Name:  enron , AUC Score (joint-type):  36.30450849963045\n",
      "Dataset Name:  enron , AUC Score (structure type):  40.53583168967784\n",
      "===========================================================================================\n",
      "Dataset Name:  enron  Best AUC Score(benchmark/combined):  77.72176227084564\n",
      "Dataset Name:  enron  Best AUC Score (contextual):  92.76422764227644\n",
      "Dataset Name:  enron  Best AUC Score (structural):  56.990340318026455\n",
      "Dataset Name:  enron  Best AUC Score (joint-type):  36.30450849963045\n",
      "Dataset Name:  enron  Best AUC Score (structure type):  56.82750669372743\n",
      "===========================================================================================\n",
      "Dataset Name:  enron , AUC Score(benchmark/combined):  51.25813128326434\n",
      "Dataset Name:  enron , AUC Score (contextual):  85.72308450357231\n",
      "Dataset Name:  enron , AUC Score (structural):  40.59726556694903\n",
      "Dataset Name:  enron , AUC Score (joint-type):  36.66913032766691\n",
      "Dataset Name:  enron , AUC Score (structure type):  40.44130958846678\n",
      "===========================================================================================\n",
      "Dataset Name:  enron  Best AUC Score(benchmark/combined):  77.72176227084564\n",
      "Dataset Name:  enron  Best AUC Score (contextual):  92.76422764227644\n",
      "Dataset Name:  enron  Best AUC Score (structural):  56.990340318026455\n",
      "Dataset Name:  enron  Best AUC Score (joint-type):  36.66913032766691\n",
      "Dataset Name:  enron  Best AUC Score (structure type):  56.82750669372743\n",
      "===========================================================================================\n"
     ]
    },
    {
     "name": "stderr",
     "output_type": "stream",
     "text": [
      " 23%|██▎       | 116/500 [00:14<00:46,  8.21it/s]"
     ]
    },
    {
     "name": "stdout",
     "output_type": "stream",
     "text": [
      "Dataset Name:  enron , AUC Score(benchmark/combined):  51.224127735068\n",
      "Dataset Name:  enron , AUC Score (contextual):  85.75757575757575\n",
      "Dataset Name:  enron , AUC Score (structural):  40.539604696091544\n",
      "Dataset Name:  enron , AUC Score (joint-type):  36.93520571569352\n",
      "Dataset Name:  enron , AUC Score (structure type):  40.3961447941381\n",
      "===========================================================================================\n",
      "Dataset Name:  enron  Best AUC Score(benchmark/combined):  77.72176227084564\n",
      "Dataset Name:  enron  Best AUC Score (contextual):  92.76422764227644\n",
      "Dataset Name:  enron  Best AUC Score (structural):  56.990340318026455\n",
      "Dataset Name:  enron  Best AUC Score (joint-type):  36.93520571569352\n",
      "Dataset Name:  enron  Best AUC Score (structure type):  56.82750669372743\n",
      "===========================================================================================\n",
      "Dataset Name:  enron , AUC Score(benchmark/combined):  51.25591366055588\n",
      "Dataset Name:  enron , AUC Score (contextual):  85.760039418576\n",
      "Dataset Name:  enron , AUC Score (structural):  40.5664041214643\n",
      "Dataset Name:  enron , AUC Score (joint-type):  36.88593249568859\n",
      "Dataset Name:  enron , AUC Score (structure type):  40.420013530381425\n",
      "===========================================================================================\n",
      "Dataset Name:  enron  Best AUC Score(benchmark/combined):  77.72176227084564\n",
      "Dataset Name:  enron  Best AUC Score (contextual):  92.76422764227644\n",
      "Dataset Name:  enron  Best AUC Score (structural):  56.990340318026455\n",
      "Dataset Name:  enron  Best AUC Score (joint-type):  36.88593249568859\n",
      "Dataset Name:  enron  Best AUC Score (structure type):  56.82750669372743\n",
      "===========================================================================================\n"
     ]
    },
    {
     "name": "stderr",
     "output_type": "stream",
     "text": [
      " 24%|██▎       | 118/500 [00:14<00:45,  8.35it/s]"
     ]
    },
    {
     "name": "stdout",
     "output_type": "stream",
     "text": [
      "Dataset Name:  enron , AUC Score(benchmark/combined):  52.444559432288585\n",
      "Dataset Name:  enron , AUC Score (contextual):  85.75757575757576\n",
      "Dataset Name:  enron , AUC Score (structural):  40.62505572893446\n",
      "Dataset Name:  enron , AUC Score (joint-type):  36.77260408967726\n",
      "Dataset Name:  enron , AUC Score (structure type):  40.472038799798\n",
      "===========================================================================================\n",
      "Dataset Name:  enron  Best AUC Score(benchmark/combined):  77.72176227084564\n",
      "Dataset Name:  enron  Best AUC Score (contextual):  92.76422764227644\n",
      "Dataset Name:  enron  Best AUC Score (structural):  56.990340318026455\n",
      "Dataset Name:  enron  Best AUC Score (joint-type):  36.77260408967726\n",
      "Dataset Name:  enron  Best AUC Score (structure type):  56.82750669372743\n",
      "===========================================================================================\n",
      "Dataset Name:  enron , AUC Score(benchmark/combined):  51.374186871673565\n",
      "Dataset Name:  enron , AUC Score (contextual):  85.7649667405765\n",
      "Dataset Name:  enron , AUC Score (structural):  40.63575568435132\n",
      "Dataset Name:  enron , AUC Score (joint-type):  36.74796747967479\n",
      "Dataset Name:  enron , AUC Score (structure type):  40.481376668667636\n",
      "===========================================================================================\n",
      "Dataset Name:  enron  Best AUC Score(benchmark/combined):  77.72176227084564\n",
      "Dataset Name:  enron  Best AUC Score (contextual):  92.76422764227644\n",
      "Dataset Name:  enron  Best AUC Score (structural):  56.990340318026455\n",
      "Dataset Name:  enron  Best AUC Score (joint-type):  36.74796747967479\n",
      "Dataset Name:  enron  Best AUC Score (structure type):  56.82750669372743\n",
      "===========================================================================================\n"
     ]
    },
    {
     "name": "stderr",
     "output_type": "stream",
     "text": [
      " 24%|██▍       | 120/500 [00:14<00:44,  8.45it/s]"
     ]
    },
    {
     "name": "stdout",
     "output_type": "stream",
     "text": [
      "Dataset Name:  enron , AUC Score(benchmark/combined):  51.30765819041987\n",
      "Dataset Name:  enron , AUC Score (contextual):  85.78221236757821\n",
      "Dataset Name:  enron , AUC Score (structural):  40.61722890969436\n",
      "Dataset Name:  enron , AUC Score (joint-type):  36.824340970682435\n",
      "Dataset Name:  enron , AUC Score (structure type):  40.46651230597719\n",
      "===========================================================================================\n",
      "Dataset Name:  enron  Best AUC Score(benchmark/combined):  77.72176227084564\n",
      "Dataset Name:  enron  Best AUC Score (contextual):  92.76422764227644\n",
      "Dataset Name:  enron  Best AUC Score (structural):  56.990340318026455\n",
      "Dataset Name:  enron  Best AUC Score (joint-type):  36.824340970682435\n",
      "Dataset Name:  enron  Best AUC Score (structure type):  56.82750669372743\n",
      "===========================================================================================\n",
      "Dataset Name:  enron , AUC Score(benchmark/combined):  51.53089887640449\n",
      "Dataset Name:  enron , AUC Score (contextual):  85.81670362158167\n",
      "Dataset Name:  enron , AUC Score (structural):  40.593550304651515\n",
      "Dataset Name:  enron , AUC Score (joint-type):  36.91056910569105\n",
      "Dataset Name:  enron , AUC Score (structure type):  40.447074293228134\n",
      "===========================================================================================\n",
      "Dataset Name:  enron  Best AUC Score(benchmark/combined):  77.72176227084564\n",
      "Dataset Name:  enron  Best AUC Score (contextual):  92.76422764227644\n",
      "Dataset Name:  enron  Best AUC Score (structural):  56.990340318026455\n",
      "Dataset Name:  enron  Best AUC Score (joint-type):  36.91056910569105\n",
      "Dataset Name:  enron  Best AUC Score (structure type):  56.82750669372743\n",
      "===========================================================================================\n"
     ]
    },
    {
     "name": "stderr",
     "output_type": "stream",
     "text": [
      " 24%|██▍       | 122/500 [00:15<00:44,  8.47it/s]"
     ]
    },
    {
     "name": "stdout",
     "output_type": "stream",
     "text": [
      "Dataset Name:  enron , AUC Score(benchmark/combined):  51.4895032525133\n",
      "Dataset Name:  enron , AUC Score (contextual):  85.83887657058389\n",
      "Dataset Name:  enron , AUC Score (structural):  40.60989745876059\n",
      "Dataset Name:  enron , AUC Score (joint-type):  36.893323478689325\n",
      "Dataset Name:  enron , AUC Score (structure type):  40.46212922467103\n",
      "===========================================================================================\n",
      "Dataset Name:  enron  Best AUC Score(benchmark/combined):  77.72176227084564\n",
      "Dataset Name:  enron  Best AUC Score (contextual):  92.76422764227644\n",
      "Dataset Name:  enron  Best AUC Score (structural):  56.990340318026455\n",
      "Dataset Name:  enron  Best AUC Score (joint-type):  36.893323478689325\n",
      "Dataset Name:  enron  Best AUC Score (structure type):  56.82750669372743\n",
      "===========================================================================================\n",
      "Dataset Name:  enron , AUC Score(benchmark/combined):  52.72397989355411\n",
      "Dataset Name:  enron , AUC Score (contextual):  85.83641290958364\n",
      "Dataset Name:  enron , AUC Score (structural):  40.67454302273741\n",
      "Dataset Name:  enron , AUC Score (joint-type):  36.75782212367578\n",
      "Dataset Name:  enron , AUC Score (structure type):  40.519061639462976\n",
      "===========================================================================================\n",
      "Dataset Name:  enron  Best AUC Score(benchmark/combined):  77.72176227084564\n",
      "Dataset Name:  enron  Best AUC Score (contextual):  92.76422764227644\n",
      "Dataset Name:  enron  Best AUC Score (structural):  56.990340318026455\n",
      "Dataset Name:  enron  Best AUC Score (joint-type):  36.75782212367578\n",
      "Dataset Name:  enron  Best AUC Score (structure type):  56.82750669372743\n",
      "===========================================================================================\n"
     ]
    },
    {
     "name": "stderr",
     "output_type": "stream",
     "text": [
      " 25%|██▍       | 124/500 [00:15<00:43,  8.60it/s]"
     ]
    },
    {
     "name": "stdout",
     "output_type": "stream",
     "text": [
      "Dataset Name:  enron , AUC Score(benchmark/combined):  52.75576581904199\n",
      "Dataset Name:  enron , AUC Score (contextual):  85.81670362158167\n",
      "Dataset Name:  enron , AUC Score (structural):  40.75281121513846\n",
      "Dataset Name:  enron , AUC Score (joint-type):  36.632175412663216\n",
      "Dataset Name:  enron , AUC Score (structure type):  40.58947679349017\n",
      "===========================================================================================\n",
      "Dataset Name:  enron  Best AUC Score(benchmark/combined):  77.72176227084564\n",
      "Dataset Name:  enron  Best AUC Score (contextual):  92.76422764227644\n",
      "Dataset Name:  enron  Best AUC Score (structural):  56.990340318026455\n",
      "Dataset Name:  enron  Best AUC Score (joint-type):  36.632175412663216\n",
      "Dataset Name:  enron  Best AUC Score (structure type):  56.82750669372743\n",
      "===========================================================================================\n",
      "Dataset Name:  enron , AUC Score(benchmark/combined):  52.49112950916618\n",
      "Dataset Name:  enron , AUC Score (contextual):  85.82163094358218\n",
      "Dataset Name:  enron , AUC Score (structural):  40.82201416753356\n",
      "Dataset Name:  enron , AUC Score (joint-type):  36.437546193643755\n",
      "Dataset Name:  enron , AUC Score (structure type):  40.64850546455897\n",
      "===========================================================================================\n",
      "Dataset Name:  enron  Best AUC Score(benchmark/combined):  77.72176227084564\n",
      "Dataset Name:  enron  Best AUC Score (contextual):  92.76422764227644\n",
      "Dataset Name:  enron  Best AUC Score (structural):  56.990340318026455\n",
      "Dataset Name:  enron  Best AUC Score (joint-type):  36.437546193643755\n",
      "Dataset Name:  enron  Best AUC Score (structure type):  56.82750669372743\n",
      "===========================================================================================\n"
     ]
    },
    {
     "name": "stderr",
     "output_type": "stream",
     "text": [
      " 25%|██▌       | 126/500 [00:15<00:44,  8.41it/s]"
     ]
    },
    {
     "name": "stdout",
     "output_type": "stream",
     "text": [
      "Dataset Name:  enron , AUC Score(benchmark/combined):  52.222057953873446\n",
      "Dataset Name:  enron , AUC Score (contextual):  85.83394924858338\n",
      "Dataset Name:  enron , AUC Score (structural):  40.868975082974195\n",
      "Dataset Name:  enron , AUC Score (joint-type):  36.43015521064301\n",
      "Dataset Name:  enron , AUC Score (structure type):  40.693384405758984\n",
      "===========================================================================================\n",
      "Dataset Name:  enron  Best AUC Score(benchmark/combined):  77.72176227084564\n",
      "Dataset Name:  enron  Best AUC Score (contextual):  92.76422764227644\n",
      "Dataset Name:  enron  Best AUC Score (structural):  56.990340318026455\n",
      "Dataset Name:  enron  Best AUC Score (joint-type):  36.43015521064301\n",
      "Dataset Name:  enron  Best AUC Score (structure type):  56.82750669372743\n",
      "===========================================================================================\n",
      "Dataset Name:  enron , AUC Score(benchmark/combined):  51.947811945594324\n",
      "Dataset Name:  enron , AUC Score (contextual):  85.83148558758316\n",
      "Dataset Name:  enron , AUC Score (structural):  40.85604597017883\n",
      "Dataset Name:  enron , AUC Score (joint-type):  36.476964769647694\n",
      "Dataset Name:  enron , AUC Score (structure type):  40.68276019781037\n",
      "===========================================================================================\n",
      "Dataset Name:  enron  Best AUC Score(benchmark/combined):  77.72176227084564\n",
      "Dataset Name:  enron  Best AUC Score (contextual):  92.76422764227644\n",
      "Dataset Name:  enron  Best AUC Score (structural):  56.990340318026455\n",
      "Dataset Name:  enron  Best AUC Score (joint-type):  36.476964769647694\n",
      "Dataset Name:  enron  Best AUC Score (structure type):  56.82750669372743\n",
      "===========================================================================================\n"
     ]
    },
    {
     "name": "stderr",
     "output_type": "stream",
     "text": [
      " 26%|██▌       | 128/500 [00:15<00:42,  8.69it/s]"
     ]
    },
    {
     "name": "stdout",
     "output_type": "stream",
     "text": [
      "Dataset Name:  enron , AUC Score(benchmark/combined):  52.602749852158496\n",
      "Dataset Name:  enron , AUC Score (contextual):  85.85365853658537\n",
      "Dataset Name:  enron , AUC Score (structural):  40.881458364293856\n",
      "Dataset Name:  enron , AUC Score (joint-type):  36.425227888642524\n",
      "Dataset Name:  enron , AUC Score (structure type):  40.705199668410366\n",
      "===========================================================================================\n",
      "Dataset Name:  enron  Best AUC Score(benchmark/combined):  77.72176227084564\n",
      "Dataset Name:  enron  Best AUC Score (contextual):  92.76422764227644\n",
      "Dataset Name:  enron  Best AUC Score (structural):  56.990340318026455\n",
      "Dataset Name:  enron  Best AUC Score (joint-type):  36.425227888642524\n",
      "Dataset Name:  enron  Best AUC Score (structure type):  56.82750669372743\n",
      "===========================================================================================\n",
      "Dataset Name:  enron , AUC Score(benchmark/combined):  52.00916617386162\n",
      "Dataset Name:  enron , AUC Score (contextual):  85.84134023158413\n",
      "Dataset Name:  enron , AUC Score (structural):  40.840887700004956\n",
      "Dataset Name:  enron , AUC Score (joint-type):  36.36117270263611\n",
      "Dataset Name:  enron , AUC Score (structure type):  40.6637033225662\n",
      "===========================================================================================\n",
      "Dataset Name:  enron  Best AUC Score(benchmark/combined):  77.72176227084564\n",
      "Dataset Name:  enron  Best AUC Score (contextual):  92.76422764227644\n",
      "Dataset Name:  enron  Best AUC Score (structural):  56.990340318026455\n",
      "Dataset Name:  enron  Best AUC Score (joint-type):  36.36117270263611\n",
      "Dataset Name:  enron  Best AUC Score (structure type):  56.82750669372743\n",
      "===========================================================================================\n"
     ]
    },
    {
     "name": "stderr",
     "output_type": "stream",
     "text": [
      " 26%|██▌       | 130/500 [00:16<00:42,  8.73it/s]"
     ]
    },
    {
     "name": "stdout",
     "output_type": "stream",
     "text": [
      "Dataset Name:  enron , AUC Score(benchmark/combined):  51.9744234180958\n",
      "Dataset Name:  enron , AUC Score (contextual):  85.83271741808328\n",
      "Dataset Name:  enron , AUC Score (structural):  40.825977113984244\n",
      "Dataset Name:  enron , AUC Score (joint-type):  36.12958856861296\n",
      "Dataset Name:  enron , AUC Score (structure type):  40.6404062925802\n",
      "===========================================================================================\n",
      "Dataset Name:  enron  Best AUC Score(benchmark/combined):  77.72176227084564\n",
      "Dataset Name:  enron  Best AUC Score (contextual):  92.76422764227644\n",
      "Dataset Name:  enron  Best AUC Score (structural):  56.990340318026455\n",
      "Dataset Name:  enron  Best AUC Score (joint-type):  36.12958856861296\n",
      "Dataset Name:  enron  Best AUC Score (structure type):  56.82750669372743\n",
      "===========================================================================================\n",
      "Dataset Name:  enron , AUC Score(benchmark/combined):  51.87315198107628\n",
      "Dataset Name:  enron , AUC Score (contextual):  85.80438531658044\n",
      "Dataset Name:  enron , AUC Score (structural):  40.76692921186903\n",
      "Dataset Name:  enron , AUC Score (joint-type):  36.15915250061591\n",
      "Dataset Name:  enron , AUC Score (structure type):  40.584760216867245\n",
      "===========================================================================================\n",
      "Dataset Name:  enron  Best AUC Score(benchmark/combined):  77.72176227084564\n",
      "Dataset Name:  enron  Best AUC Score (contextual):  92.76422764227644\n",
      "Dataset Name:  enron  Best AUC Score (structural):  56.990340318026455\n",
      "Dataset Name:  enron  Best AUC Score (joint-type):  36.15915250061591\n",
      "Dataset Name:  enron  Best AUC Score (structure type):  56.82750669372743\n",
      "===========================================================================================\n"
     ]
    },
    {
     "name": "stderr",
     "output_type": "stream",
     "text": [
      " 26%|██▋       | 132/500 [00:16<00:42,  8.74it/s]"
     ]
    },
    {
     "name": "stdout",
     "output_type": "stream",
     "text": [
      "Dataset Name:  enron , AUC Score(benchmark/combined):  52.83116499112951\n",
      "Dataset Name:  enron , AUC Score (contextual):  85.79945799457995\n",
      "Dataset Name:  enron , AUC Score (structural):  40.67726754842225\n",
      "Dataset Name:  enron , AUC Score (joint-type):  36.4030549396403\n",
      "Dataset Name:  enron , AUC Score (structure type):  40.507961009633256\n",
      "===========================================================================================\n",
      "Dataset Name:  enron  Best AUC Score(benchmark/combined):  77.72176227084564\n",
      "Dataset Name:  enron  Best AUC Score (contextual):  92.76422764227644\n",
      "Dataset Name:  enron  Best AUC Score (structural):  56.990340318026455\n",
      "Dataset Name:  enron  Best AUC Score (joint-type):  36.4030549396403\n",
      "Dataset Name:  enron  Best AUC Score (structure type):  56.82750669372743\n",
      "===========================================================================================\n",
      "Dataset Name:  enron , AUC Score(benchmark/combined):  52.994529863985804\n",
      "Dataset Name:  enron , AUC Score (contextual):  85.78467602857846\n",
      "Dataset Name:  enron , AUC Score (structural):  40.54758012582354\n",
      "Dataset Name:  enron , AUC Score (joint-type):  36.506528701650645\n",
      "Dataset Name:  enron , AUC Score (structure type):  40.38723570496146\n",
      "===========================================================================================\n",
      "Dataset Name:  enron  Best AUC Score(benchmark/combined):  77.72176227084564\n",
      "Dataset Name:  enron  Best AUC Score (contextual):  92.76422764227644\n",
      "Dataset Name:  enron  Best AUC Score (structural):  56.990340318026455\n",
      "Dataset Name:  enron  Best AUC Score (joint-type):  36.506528701650645\n",
      "Dataset Name:  enron  Best AUC Score (structure type):  56.82750669372743\n",
      "===========================================================================================\n"
     ]
    },
    {
     "name": "stderr",
     "output_type": "stream",
     "text": [
      " 27%|██▋       | 134/500 [00:16<00:44,  8.28it/s]"
     ]
    },
    {
     "name": "stdout",
     "output_type": "stream",
     "text": [
      "Dataset Name:  enron , AUC Score(benchmark/combined):  51.82214665878179\n",
      "Dataset Name:  enron , AUC Score (contextual):  85.769894062577\n",
      "Dataset Name:  enron , AUC Score (structural):  40.426165353940654\n",
      "Dataset Name:  enron , AUC Score (joint-type):  36.674057649667404\n",
      "Dataset Name:  enron , AUC Score (structure type):  40.27694403948585\n",
      "===========================================================================================\n",
      "Dataset Name:  enron  Best AUC Score(benchmark/combined):  77.72176227084564\n",
      "Dataset Name:  enron  Best AUC Score (contextual):  92.76422764227644\n",
      "Dataset Name:  enron  Best AUC Score (structural):  56.990340318026455\n",
      "Dataset Name:  enron  Best AUC Score (joint-type):  36.674057649667404\n",
      "Dataset Name:  enron  Best AUC Score (structure type):  56.82750669372743\n",
      "===========================================================================================\n",
      "Dataset Name:  enron , AUC Score(benchmark/combined):  51.84949733885274\n",
      "Dataset Name:  enron , AUC Score (contextual):  85.71076619857108\n",
      "Dataset Name:  enron , AUC Score (structural):  40.36151978996384\n",
      "Dataset Name:  enron , AUC Score (joint-type):  36.75289480167528\n",
      "Dataset Name:  enron , AUC Score (structure type):  40.217820084040824\n",
      "===========================================================================================\n",
      "Dataset Name:  enron  Best AUC Score(benchmark/combined):  77.72176227084564\n",
      "Dataset Name:  enron  Best AUC Score (contextual):  92.76422764227644\n",
      "Dataset Name:  enron  Best AUC Score (structural):  56.990340318026455\n",
      "Dataset Name:  enron  Best AUC Score (joint-type):  36.75289480167528\n",
      "Dataset Name:  enron  Best AUC Score (structure type):  56.82750669372743\n",
      "===========================================================================================\n"
     ]
    },
    {
     "name": "stderr",
     "output_type": "stream",
     "text": [
      " 27%|██▋       | 136/500 [00:16<00:43,  8.41it/s]"
     ]
    },
    {
     "name": "stdout",
     "output_type": "stream",
     "text": [
      "Dataset Name:  enron , AUC Score(benchmark/combined):  52.288586635127146\n",
      "Dataset Name:  enron , AUC Score (contextual):  85.6910569105691\n",
      "Dataset Name:  enron , AUC Score (structural):  40.34606429880617\n",
      "Dataset Name:  enron , AUC Score (joint-type):  36.81448632668145\n",
      "Dataset Name:  enron , AUC Score (structure type):  40.205337830755894\n",
      "===========================================================================================\n",
      "Dataset Name:  enron  Best AUC Score(benchmark/combined):  77.72176227084564\n",
      "Dataset Name:  enron  Best AUC Score (contextual):  92.76422764227644\n",
      "Dataset Name:  enron  Best AUC Score (structural):  56.990340318026455\n",
      "Dataset Name:  enron  Best AUC Score (joint-type):  36.81448632668145\n",
      "Dataset Name:  enron  Best AUC Score (structure type):  56.82750669372743\n",
      "===========================================================================================\n",
      "Dataset Name:  enron , AUC Score(benchmark/combined):  51.80958013010053\n",
      "Dataset Name:  enron , AUC Score (contextual):  85.72062084257206\n",
      "Dataset Name:  enron , AUC Score (structural):  40.351117055530786\n",
      "Dataset Name:  enron , AUC Score (joint-type):  37.01650652870164\n",
      "Dataset Name:  enron , AUC Score (structure type):  40.218010652793254\n",
      "===========================================================================================\n",
      "Dataset Name:  enron  Best AUC Score(benchmark/combined):  77.72176227084564\n",
      "Dataset Name:  enron  Best AUC Score (contextual):  92.76422764227644\n",
      "Dataset Name:  enron  Best AUC Score (structural):  56.990340318026455\n",
      "Dataset Name:  enron  Best AUC Score (joint-type):  37.01650652870164\n",
      "Dataset Name:  enron  Best AUC Score (structure type):  56.82750669372743\n",
      "===========================================================================================\n"
     ]
    },
    {
     "name": "stderr",
     "output_type": "stream",
     "text": [
      " 28%|██▊       | 138/500 [00:16<00:42,  8.52it/s]"
     ]
    },
    {
     "name": "stdout",
     "output_type": "stream",
     "text": [
      "Dataset Name:  enron , AUC Score(benchmark/combined):  52.56431105854524\n",
      "Dataset Name:  enron , AUC Score (contextual):  85.87829514658782\n",
      "Dataset Name:  enron , AUC Score (structural):  40.335512953881214\n",
      "Dataset Name:  enron , AUC Score (joint-type):  37.238236018723825\n",
      "Dataset Name:  enron , AUC Score (structure type):  40.21157895739835\n",
      "===========================================================================================\n",
      "Dataset Name:  enron  Best AUC Score(benchmark/combined):  77.72176227084564\n",
      "Dataset Name:  enron  Best AUC Score (contextual):  92.76422764227644\n",
      "Dataset Name:  enron  Best AUC Score (structural):  56.990340318026455\n",
      "Dataset Name:  enron  Best AUC Score (joint-type):  37.238236018723825\n",
      "Dataset Name:  enron  Best AUC Score (structure type):  56.82750669372743\n",
      "===========================================================================================\n",
      "Dataset Name:  enron , AUC Score(benchmark/combined):  52.03725606150207\n",
      "Dataset Name:  enron , AUC Score (contextual):  85.97191426459719\n",
      "Dataset Name:  enron , AUC Score (structural):  40.39347104572249\n",
      "Dataset Name:  enron , AUC Score (joint-type):  37.40576496674058\n",
      "Dataset Name:  enron , AUC Score (structure type):  40.273799655070555\n",
      "===========================================================================================\n",
      "Dataset Name:  enron  Best AUC Score(benchmark/combined):  77.72176227084564\n",
      "Dataset Name:  enron  Best AUC Score (contextual):  92.76422764227644\n",
      "Dataset Name:  enron  Best AUC Score (structural):  56.990340318026455\n",
      "Dataset Name:  enron  Best AUC Score (joint-type):  37.40576496674058\n",
      "Dataset Name:  enron  Best AUC Score (structure type):  56.82750669372743\n",
      "===========================================================================================\n"
     ]
    },
    {
     "name": "stderr",
     "output_type": "stream",
     "text": [
      " 28%|██▊       | 140/500 [00:17<00:41,  8.59it/s]"
     ]
    },
    {
     "name": "stdout",
     "output_type": "stream",
     "text": [
      "Dataset Name:  enron , AUC Score(benchmark/combined):  51.91972205795388\n",
      "Dataset Name:  enron , AUC Score (contextual):  86.04336043360433\n",
      "Dataset Name:  enron , AUC Score (structural):  40.42854312181107\n",
      "Dataset Name:  enron , AUC Score (joint-type):  37.82951465878295\n",
      "Dataset Name:  enron , AUC Score (structure type):  40.323919236962716\n",
      "===========================================================================================\n",
      "Dataset Name:  enron  Best AUC Score(benchmark/combined):  77.72176227084564\n",
      "Dataset Name:  enron  Best AUC Score (contextual):  92.76422764227644\n",
      "Dataset Name:  enron  Best AUC Score (structural):  56.990340318026455\n",
      "Dataset Name:  enron  Best AUC Score (joint-type):  37.82951465878295\n",
      "Dataset Name:  enron  Best AUC Score (structure type):  56.82750669372743\n",
      "===========================================================================================\n",
      "Dataset Name:  enron , AUC Score(benchmark/combined):  51.877587226493205\n",
      "Dataset Name:  enron , AUC Score (contextual):  86.11480660261148\n",
      "Dataset Name:  enron , AUC Score (structural):  40.40932283152524\n",
      "Dataset Name:  enron , AUC Score (joint-type):  37.79748706577975\n",
      "Dataset Name:  enron , AUC Score (structure type):  40.304195371084994\n",
      "===========================================================================================\n",
      "Dataset Name:  enron  Best AUC Score(benchmark/combined):  77.72176227084564\n",
      "Dataset Name:  enron  Best AUC Score (contextual):  92.76422764227644\n",
      "Dataset Name:  enron  Best AUC Score (structural):  56.990340318026455\n",
      "Dataset Name:  enron  Best AUC Score (joint-type):  37.79748706577975\n",
      "Dataset Name:  enron  Best AUC Score (structure type):  56.82750669372743\n",
      "===========================================================================================\n"
     ]
    },
    {
     "name": "stderr",
     "output_type": "stream",
     "text": [
      " 28%|██▊       | 142/500 [00:17<00:41,  8.67it/s]"
     ]
    },
    {
     "name": "stdout",
     "output_type": "stream",
     "text": [
      "Dataset Name:  enron , AUC Score(benchmark/combined):  52.135570668243645\n",
      "Dataset Name:  enron , AUC Score (contextual):  86.15915250061592\n",
      "Dataset Name:  enron , AUC Score (structural):  40.207509783524046\n",
      "Dataset Name:  enron , AUC Score (joint-type):  38.2039911308204\n",
      "Dataset Name:  enron , AUC Score (structure type):  40.12582301879961\n",
      "===========================================================================================\n",
      "Dataset Name:  enron  Best AUC Score(benchmark/combined):  77.72176227084564\n",
      "Dataset Name:  enron  Best AUC Score (contextual):  92.76422764227644\n",
      "Dataset Name:  enron  Best AUC Score (structural):  56.990340318026455\n",
      "Dataset Name:  enron  Best AUC Score (joint-type):  38.2039911308204\n",
      "Dataset Name:  enron  Best AUC Score (structure type):  56.82750669372743\n",
      "===========================================================================================\n",
      "Dataset Name:  enron , AUC Score(benchmark/combined):  52.97087522176227\n",
      "Dataset Name:  enron , AUC Score (contextual):  86.24907612712491\n",
      "Dataset Name:  enron , AUC Score (structural):  39.90583048496558\n",
      "Dataset Name:  enron , AUC Score (joint-type):  39.00221729490021\n",
      "Dataset Name:  enron , AUC Score (structure type):  39.86655423110273\n",
      "===========================================================================================\n",
      "Dataset Name:  enron  Best AUC Score(benchmark/combined):  77.72176227084564\n",
      "Dataset Name:  enron  Best AUC Score (contextual):  92.76422764227644\n",
      "Dataset Name:  enron  Best AUC Score (structural):  56.990340318026455\n",
      "Dataset Name:  enron  Best AUC Score (joint-type):  39.00221729490021\n",
      "Dataset Name:  enron  Best AUC Score (structure type):  56.82750669372743\n",
      "===========================================================================================\n"
     ]
    },
    {
     "name": "stderr",
     "output_type": "stream",
     "text": [
      " 29%|██▉       | 144/500 [00:17<00:41,  8.68it/s]"
     ]
    },
    {
     "name": "stdout",
     "output_type": "stream",
     "text": [
      "Dataset Name:  enron , AUC Score(benchmark/combined):  51.94337670017741\n",
      "Dataset Name:  enron , AUC Score (contextual):  86.29711751662971\n",
      "Dataset Name:  enron , AUC Score (structural):  39.510328429187105\n",
      "Dataset Name:  enron , AUC Score (joint-type):  40.25252525252525\n",
      "Dataset Name:  enron , AUC Score (structure type):  39.534535822161246\n",
      "===========================================================================================\n",
      "Dataset Name:  enron  Best AUC Score(benchmark/combined):  77.72176227084564\n",
      "Dataset Name:  enron  Best AUC Score (contextual):  92.76422764227644\n",
      "Dataset Name:  enron  Best AUC Score (structural):  56.990340318026455\n",
      "Dataset Name:  enron  Best AUC Score (joint-type):  40.25252525252525\n",
      "Dataset Name:  enron  Best AUC Score (structure type):  56.82750669372743\n",
      "===========================================================================================\n",
      "Dataset Name:  enron , AUC Score(benchmark/combined):  53.51197516262567\n",
      "Dataset Name:  enron , AUC Score (contextual):  86.32421778763242\n",
      "Dataset Name:  enron , AUC Score (structural):  38.34398375191955\n",
      "Dataset Name:  enron , AUC Score (joint-type):  42.08672086720867\n",
      "Dataset Name:  enron , AUC Score (structure type):  38.483739721197914\n",
      "===========================================================================================\n",
      "Dataset Name:  enron  Best AUC Score(benchmark/combined):  77.72176227084564\n",
      "Dataset Name:  enron  Best AUC Score (contextual):  92.76422764227644\n",
      "Dataset Name:  enron  Best AUC Score (structural):  56.990340318026455\n",
      "Dataset Name:  enron  Best AUC Score (joint-type):  42.08672086720867\n",
      "Dataset Name:  enron  Best AUC Score (structure type):  56.82750669372743\n",
      "===========================================================================================\n"
     ]
    },
    {
     "name": "stderr",
     "output_type": "stream",
     "text": [
      " 29%|██▉       | 146/500 [00:17<00:40,  8.75it/s]"
     ]
    },
    {
     "name": "stdout",
     "output_type": "stream",
     "text": [
      "Dataset Name:  enron , AUC Score(benchmark/combined):  57.21688350088705\n",
      "Dataset Name:  enron , AUC Score (contextual):  86.35378171963538\n",
      "Dataset Name:  enron , AUC Score (structural):  36.783127755486206\n",
      "Dataset Name:  enron , AUC Score (joint-type):  43.82606553338261\n",
      "Dataset Name:  enron , AUC Score (structure type):  37.049852785638734\n",
      "===========================================================================================\n",
      "Dataset Name:  enron  Best AUC Score(benchmark/combined):  77.72176227084564\n",
      "Dataset Name:  enron  Best AUC Score (contextual):  92.76422764227644\n",
      "Dataset Name:  enron  Best AUC Score (structural):  56.990340318026455\n",
      "Dataset Name:  enron  Best AUC Score (joint-type):  43.82606553338261\n",
      "Dataset Name:  enron  Best AUC Score (structure type):  56.82750669372743\n",
      "===========================================================================================\n",
      "Dataset Name:  enron , AUC Score(benchmark/combined):  57.66927853341218\n",
      "Dataset Name:  enron , AUC Score (contextual):  87.75314116777531\n",
      "Dataset Name:  enron , AUC Score (structural):  34.35240501312726\n",
      "Dataset Name:  enron , AUC Score (joint-type):  54.94949494949495\n",
      "Dataset Name:  enron , AUC Score (structure type):  35.142307215885815\n",
      "===========================================================================================\n",
      "Dataset Name:  enron  Best AUC Score(benchmark/combined):  77.72176227084564\n",
      "Dataset Name:  enron  Best AUC Score (contextual):  92.76422764227644\n",
      "Dataset Name:  enron  Best AUC Score (structural):  56.990340318026455\n",
      "Dataset Name:  enron  Best AUC Score (joint-type):  54.94949494949495\n",
      "Dataset Name:  enron  Best AUC Score (structure type):  56.82750669372743\n",
      "===========================================================================================\n"
     ]
    },
    {
     "name": "stderr",
     "output_type": "stream",
     "text": [
      " 30%|██▉       | 148/500 [00:18<00:40,  8.69it/s]"
     ]
    },
    {
     "name": "stdout",
     "output_type": "stream",
     "text": [
      "Dataset Name:  enron , AUC Score(benchmark/combined):  56.73048492016558\n",
      "Dataset Name:  enron , AUC Score (contextual):  88.04385316580439\n",
      "Dataset Name:  enron , AUC Score (structural):  33.75637786694407\n",
      "Dataset Name:  enron , AUC Score (joint-type):  55.59251047055924\n",
      "Dataset Name:  enron , AUC Score (structure type):  34.59394563073493\n",
      "===========================================================================================\n",
      "Dataset Name:  enron  Best AUC Score(benchmark/combined):  77.72176227084564\n",
      "Dataset Name:  enron  Best AUC Score (contextual):  92.76422764227644\n",
      "Dataset Name:  enron  Best AUC Score (structural):  56.990340318026455\n",
      "Dataset Name:  enron  Best AUC Score (joint-type):  55.59251047055924\n",
      "Dataset Name:  enron  Best AUC Score (structure type):  56.82750669372743\n",
      "===========================================================================================\n",
      "Dataset Name:  enron , AUC Score(benchmark/combined):  58.12684801892372\n",
      "Dataset Name:  enron , AUC Score (contextual):  86.74057649667407\n",
      "Dataset Name:  enron , AUC Score (structural):  34.32902362906821\n",
      "Dataset Name:  enron , AUC Score (joint-type):  49.435821630943586\n",
      "Dataset Name:  enron , AUC Score (structure type):  34.906573669115474\n",
      "===========================================================================================\n",
      "Dataset Name:  enron  Best AUC Score(benchmark/combined):  77.72176227084564\n",
      "Dataset Name:  enron  Best AUC Score (contextual):  92.76422764227644\n",
      "Dataset Name:  enron  Best AUC Score (structural):  56.990340318026455\n",
      "Dataset Name:  enron  Best AUC Score (joint-type):  49.435821630943586\n",
      "Dataset Name:  enron  Best AUC Score (structure type):  56.82750669372743\n",
      "===========================================================================================\n"
     ]
    },
    {
     "name": "stderr",
     "output_type": "stream",
     "text": [
      " 30%|███       | 150/500 [00:18<00:40,  8.66it/s]"
     ]
    },
    {
     "name": "stdout",
     "output_type": "stream",
     "text": [
      "Dataset Name:  enron , AUC Score(benchmark/combined):  59.125517445298634\n",
      "Dataset Name:  enron , AUC Score (contextual):  86.24784429662479\n",
      "Dataset Name:  enron , AUC Score (structural):  34.96502699757269\n",
      "Dataset Name:  enron , AUC Score (joint-type):  45.71076619857107\n",
      "Dataset Name:  enron , AUC Score (structure type):  35.3741817454192\n",
      "===========================================================================================\n",
      "Dataset Name:  enron  Best AUC Score(benchmark/combined):  77.72176227084564\n",
      "Dataset Name:  enron  Best AUC Score (contextual):  92.76422764227644\n",
      "Dataset Name:  enron  Best AUC Score (structural):  56.990340318026455\n",
      "Dataset Name:  enron  Best AUC Score (joint-type):  45.71076619857107\n",
      "Dataset Name:  enron  Best AUC Score (structure type):  56.82750669372743\n",
      "===========================================================================================\n",
      "Dataset Name:  enron , AUC Score(benchmark/combined):  52.24349497338853\n",
      "Dataset Name:  enron , AUC Score (contextual):  86.35624538063563\n",
      "Dataset Name:  enron , AUC Score (structural):  34.642096398672415\n",
      "Dataset Name:  enron , AUC Score (joint-type):  44.407489529440745\n",
      "Dataset Name:  enron , AUC Score (structure type):  35.013196886106584\n",
      "===========================================================================================\n",
      "Dataset Name:  enron  Best AUC Score(benchmark/combined):  77.72176227084564\n",
      "Dataset Name:  enron  Best AUC Score (contextual):  92.76422764227644\n",
      "Dataset Name:  enron  Best AUC Score (structural):  56.990340318026455\n",
      "Dataset Name:  enron  Best AUC Score (joint-type):  44.407489529440745\n",
      "Dataset Name:  enron  Best AUC Score (structure type):  56.82750669372743\n",
      "===========================================================================================\n"
     ]
    },
    {
     "name": "stderr",
     "output_type": "stream",
     "text": [
      " 30%|███       | 152/500 [00:18<00:40,  8.60it/s]"
     ]
    },
    {
     "name": "stdout",
     "output_type": "stream",
     "text": [
      "Dataset Name:  enron , AUC Score(benchmark/combined):  53.53267297457126\n",
      "Dataset Name:  enron , AUC Score (contextual):  86.25523527962554\n",
      "Dataset Name:  enron , AUC Score (structural):  35.53425471838312\n",
      "Dataset Name:  enron , AUC Score (joint-type):  45.0689825080069\n",
      "Dataset Name:  enron , AUC Score (structure type):  35.896816548990465\n",
      "===========================================================================================\n",
      "Dataset Name:  enron  Best AUC Score(benchmark/combined):  77.72176227084564\n",
      "Dataset Name:  enron  Best AUC Score (contextual):  92.76422764227644\n",
      "Dataset Name:  enron  Best AUC Score (structural):  56.990340318026455\n",
      "Dataset Name:  enron  Best AUC Score (joint-type):  45.0689825080069\n",
      "Dataset Name:  enron  Best AUC Score (structure type):  56.82750669372743\n",
      "===========================================================================================\n",
      "Dataset Name:  enron , AUC Score(benchmark/combined):  52.38837965700769\n",
      "Dataset Name:  enron , AUC Score (contextual):  86.32175412663217\n",
      "Dataset Name:  enron , AUC Score (structural):  35.85490662307426\n",
      "Dataset Name:  enron , AUC Score (joint-type):  46.605075141660514\n",
      "Dataset Name:  enron , AUC Score (structure type):  36.26461424120288\n",
      "===========================================================================================\n",
      "Dataset Name:  enron  Best AUC Score(benchmark/combined):  77.72176227084564\n",
      "Dataset Name:  enron  Best AUC Score (contextual):  92.76422764227644\n",
      "Dataset Name:  enron  Best AUC Score (structural):  56.990340318026455\n",
      "Dataset Name:  enron  Best AUC Score (joint-type):  46.605075141660514\n",
      "Dataset Name:  enron  Best AUC Score (structure type):  56.82750669372743\n",
      "===========================================================================================\n"
     ]
    },
    {
     "name": "stderr",
     "output_type": "stream",
     "text": [
      " 31%|███       | 154/500 [00:18<00:40,  8.64it/s]"
     ]
    },
    {
     "name": "stdout",
     "output_type": "stream",
     "text": [
      "Dataset Name:  enron , AUC Score(benchmark/combined):  51.751921939680656\n",
      "Dataset Name:  enron , AUC Score (contextual):  86.3488543976349\n",
      "Dataset Name:  enron , AUC Score (structural):  36.99118244414723\n",
      "Dataset Name:  enron , AUC Score (joint-type):  45.400344912540035\n",
      "Dataset Name:  enron , AUC Score (structure type):  37.31083669210759\n",
      "===========================================================================================\n",
      "Dataset Name:  enron  Best AUC Score(benchmark/combined):  77.72176227084564\n",
      "Dataset Name:  enron  Best AUC Score (contextual):  92.76422764227644\n",
      "Dataset Name:  enron  Best AUC Score (structural):  56.990340318026455\n",
      "Dataset Name:  enron  Best AUC Score (joint-type):  45.400344912540035\n",
      "Dataset Name:  enron  Best AUC Score (structure type):  56.82750669372743\n",
      "===========================================================================================\n",
      "Dataset Name:  enron , AUC Score(benchmark/combined):  51.65138971023063\n",
      "Dataset Name:  enron , AUC Score (contextual):  86.35624538063563\n",
      "Dataset Name:  enron , AUC Score (structural):  38.22955367315599\n",
      "Dataset Name:  enron , AUC Score (joint-type):  43.10174919931018\n",
      "Dataset Name:  enron , AUC Score (structure type):  38.41294342966584\n",
      "===========================================================================================\n",
      "Dataset Name:  enron  Best AUC Score(benchmark/combined):  77.72176227084564\n",
      "Dataset Name:  enron  Best AUC Score (contextual):  92.76422764227644\n",
      "Dataset Name:  enron  Best AUC Score (structural):  56.990340318026455\n",
      "Dataset Name:  enron  Best AUC Score (joint-type):  43.10174919931018\n",
      "Dataset Name:  enron  Best AUC Score (structure type):  56.82750669372743\n",
      "===========================================================================================\n"
     ]
    },
    {
     "name": "stderr",
     "output_type": "stream",
     "text": [
      " 31%|███       | 156/500 [00:19<00:39,  8.64it/s]"
     ]
    },
    {
     "name": "stdout",
     "output_type": "stream",
     "text": [
      "Dataset Name:  enron , AUC Score(benchmark/combined):  51.9130691898285\n",
      "Dataset Name:  enron , AUC Score (contextual):  86.34392707563438\n",
      "Dataset Name:  enron , AUC Score (structural):  39.21920047555357\n",
      "Dataset Name:  enron , AUC Score (joint-type):  40.00739098300075\n",
      "Dataset Name:  enron , AUC Score (structure type):  39.24506188720236\n",
      "===========================================================================================\n",
      "Dataset Name:  enron  Best AUC Score(benchmark/combined):  77.72176227084564\n",
      "Dataset Name:  enron  Best AUC Score (contextual):  92.76422764227644\n",
      "Dataset Name:  enron  Best AUC Score (structural):  56.990340318026455\n",
      "Dataset Name:  enron  Best AUC Score (joint-type):  40.00739098300075\n",
      "Dataset Name:  enron  Best AUC Score (structure type):  56.82750669372743\n",
      "===========================================================================================\n",
      "Dataset Name:  enron , AUC Score(benchmark/combined):  51.808840922531054\n",
      "Dataset Name:  enron , AUC Score (contextual):  86.34146341463415\n",
      "Dataset Name:  enron , AUC Score (structural):  39.83603309060286\n",
      "Dataset Name:  enron , AUC Score (joint-type):  38.00689825080069\n",
      "Dataset Name:  enron , AUC Score (structure type):  39.760931500061936\n",
      "===========================================================================================\n",
      "Dataset Name:  enron  Best AUC Score(benchmark/combined):  77.72176227084564\n",
      "Dataset Name:  enron  Best AUC Score (contextual):  92.76422764227644\n",
      "Dataset Name:  enron  Best AUC Score (structural):  56.990340318026455\n",
      "Dataset Name:  enron  Best AUC Score (joint-type):  38.00689825080069\n",
      "Dataset Name:  enron  Best AUC Score (structure type):  56.82750669372743\n",
      "===========================================================================================\n"
     ]
    },
    {
     "name": "stderr",
     "output_type": "stream",
     "text": [
      " 32%|███▏      | 158/500 [00:19<00:40,  8.50it/s]"
     ]
    },
    {
     "name": "stdout",
     "output_type": "stream",
     "text": [
      "Dataset Name:  enron , AUC Score(benchmark/combined):  51.706091070372565\n",
      "Dataset Name:  enron , AUC Score (contextual):  86.32421778763242\n",
      "Dataset Name:  enron , AUC Score (structural):  40.40337841184921\n",
      "Dataset Name:  enron , AUC Score (joint-type):  37.35156442473515\n",
      "Dataset Name:  enron , AUC Score (structure type):  40.281231836415785\n",
      "===========================================================================================\n",
      "Dataset Name:  enron  Best AUC Score(benchmark/combined):  77.72176227084564\n",
      "Dataset Name:  enron  Best AUC Score (contextual):  92.76422764227644\n",
      "Dataset Name:  enron  Best AUC Score (structural):  56.990340318026455\n",
      "Dataset Name:  enron  Best AUC Score (joint-type):  37.35156442473515\n",
      "Dataset Name:  enron  Best AUC Score (structure type):  56.82750669372743\n",
      "===========================================================================================\n",
      "Dataset Name:  enron , AUC Score(benchmark/combined):  52.66780011827321\n",
      "Dataset Name:  enron , AUC Score (contextual):  86.38088199063809\n",
      "Dataset Name:  enron , AUC Score (structural):  40.55644721850695\n",
      "Dataset Name:  enron , AUC Score (joint-type):  36.29095836412909\n",
      "Dataset Name:  enron , AUC Score (structure type):  40.3874262737139\n",
      "===========================================================================================\n",
      "Dataset Name:  enron  Best AUC Score(benchmark/combined):  77.72176227084564\n",
      "Dataset Name:  enron  Best AUC Score (contextual):  92.76422764227644\n",
      "Dataset Name:  enron  Best AUC Score (structural):  56.990340318026455\n",
      "Dataset Name:  enron  Best AUC Score (joint-type):  36.29095836412909\n",
      "Dataset Name:  enron  Best AUC Score (structure type):  56.82750669372743\n",
      "===========================================================================================\n"
     ]
    },
    {
     "name": "stderr",
     "output_type": "stream",
     "text": [
      " 32%|███▏      | 160/500 [00:19<00:39,  8.63it/s]"
     ]
    },
    {
     "name": "stdout",
     "output_type": "stream",
     "text": [
      "Dataset Name:  enron , AUC Score(benchmark/combined):  51.5759905381431\n",
      "Dataset Name:  enron , AUC Score (contextual):  86.60507514166052\n",
      "Dataset Name:  enron , AUC Score (structural):  40.78550552335662\n",
      "Dataset Name:  enron , AUC Score (joint-type):  36.57797487065779\n",
      "Dataset Name:  enron , AUC Score (structure type):  40.61882438136618\n",
      "===========================================================================================\n",
      "Dataset Name:  enron  Best AUC Score(benchmark/combined):  77.72176227084564\n",
      "Dataset Name:  enron  Best AUC Score (contextual):  92.76422764227644\n",
      "Dataset Name:  enron  Best AUC Score (structural):  56.990340318026455\n",
      "Dataset Name:  enron  Best AUC Score (joint-type):  36.57797487065779\n",
      "Dataset Name:  enron  Best AUC Score (structure type):  56.82750669372743\n",
      "===========================================================================================\n",
      "Dataset Name:  enron , AUC Score(benchmark/combined):  51.57968657599055\n",
      "Dataset Name:  enron , AUC Score (contextual):  86.72333086967234\n",
      "Dataset Name:  enron , AUC Score (structural):  40.88997869916283\n",
      "Dataset Name:  enron , AUC Score (joint-type):  37.80487804878049\n",
      "Dataset Name:  enron , AUC Score (structure type):  40.76675337544903\n",
      "===========================================================================================\n",
      "Dataset Name:  enron  Best AUC Score(benchmark/combined):  77.72176227084564\n",
      "Dataset Name:  enron  Best AUC Score (contextual):  92.76422764227644\n",
      "Dataset Name:  enron  Best AUC Score (structural):  56.990340318026455\n",
      "Dataset Name:  enron  Best AUC Score (joint-type):  37.80487804878049\n",
      "Dataset Name:  enron  Best AUC Score (structure type):  56.82750669372743\n",
      "===========================================================================================\n"
     ]
    },
    {
     "name": "stderr",
     "output_type": "stream",
     "text": [
      " 32%|███▏      | 162/500 [00:19<00:39,  8.66it/s]"
     ]
    },
    {
     "name": "stdout",
     "output_type": "stream",
     "text": [
      "Dataset Name:  enron , AUC Score(benchmark/combined):  51.439976345357785\n",
      "Dataset Name:  enron , AUC Score (contextual):  86.75782212367578\n",
      "Dataset Name:  enron , AUC Score (structural):  40.91321147272998\n",
      "Dataset Name:  enron , AUC Score (joint-type):  38.66962305986696\n",
      "Dataset Name:  enron , AUC Score (structure type):  40.82254237772632\n",
      "===========================================================================================\n",
      "Dataset Name:  enron  Best AUC Score(benchmark/combined):  77.72176227084564\n",
      "Dataset Name:  enron  Best AUC Score (contextual):  92.76422764227644\n",
      "Dataset Name:  enron  Best AUC Score (structural):  56.990340318026455\n",
      "Dataset Name:  enron  Best AUC Score (joint-type):  38.66962305986696\n",
      "Dataset Name:  enron  Best AUC Score (structure type):  56.82750669372743\n",
      "===========================================================================================\n",
      "Dataset Name:  enron , AUC Score(benchmark/combined):  51.398580721466594\n",
      "Dataset Name:  enron , AUC Score (contextual):  87.27519093372753\n",
      "Dataset Name:  enron , AUC Score (structural):  40.76316441274087\n",
      "Dataset Name:  enron , AUC Score (joint-type):  39.312638580931264\n",
      "Dataset Name:  enron , AUC Score (structure type):  40.703103412133515\n",
      "===========================================================================================\n",
      "Dataset Name:  enron  Best AUC Score(benchmark/combined):  77.72176227084564\n",
      "Dataset Name:  enron  Best AUC Score (contextual):  92.76422764227644\n",
      "Dataset Name:  enron  Best AUC Score (structural):  56.990340318026455\n",
      "Dataset Name:  enron  Best AUC Score (joint-type):  39.312638580931264\n",
      "Dataset Name:  enron  Best AUC Score (structure type):  56.82750669372743\n",
      "===========================================================================================\n"
     ]
    },
    {
     "name": "stderr",
     "output_type": "stream",
     "text": [
      " 33%|███▎      | 164/500 [00:19<00:38,  8.79it/s]"
     ]
    },
    {
     "name": "stdout",
     "output_type": "stream",
     "text": [
      "Dataset Name:  enron , AUC Score(benchmark/combined):  52.077173270254285\n",
      "Dataset Name:  enron , AUC Score (contextual):  87.60039418576004\n",
      "Dataset Name:  enron , AUC Score (structural):  40.6991628275623\n",
      "Dataset Name:  enron , AUC Score (joint-type):  39.82015274698201\n",
      "Dataset Name:  enron , AUC Score (structure type):  40.66117828659635\n",
      "===========================================================================================\n",
      "Dataset Name:  enron  Best AUC Score(benchmark/combined):  77.72176227084564\n",
      "Dataset Name:  enron  Best AUC Score (contextual):  92.76422764227644\n",
      "Dataset Name:  enron  Best AUC Score (structural):  56.990340318026455\n",
      "Dataset Name:  enron  Best AUC Score (joint-type):  39.82015274698201\n",
      "Dataset Name:  enron  Best AUC Score (structure type):  56.82750669372743\n",
      "===========================================================================================\n",
      "Dataset Name:  enron , AUC Score(benchmark/combined):  52.316676522767594\n",
      "Dataset Name:  enron , AUC Score (contextual):  87.75314116777531\n",
      "Dataset Name:  enron , AUC Score (structural):  40.62198444543518\n",
      "Dataset Name:  enron , AUC Score (joint-type):  40.224193151022426\n",
      "Dataset Name:  enron , AUC Score (structure type):  40.60257839522053\n",
      "===========================================================================================\n",
      "Dataset Name:  enron  Best AUC Score(benchmark/combined):  77.72176227084564\n",
      "Dataset Name:  enron  Best AUC Score (contextual):  92.76422764227644\n",
      "Dataset Name:  enron  Best AUC Score (structural):  56.990340318026455\n",
      "Dataset Name:  enron  Best AUC Score (joint-type):  40.224193151022426\n",
      "Dataset Name:  enron  Best AUC Score (structure type):  56.82750669372743\n",
      "===========================================================================================\n"
     ]
    },
    {
     "name": "stderr",
     "output_type": "stream",
     "text": [
      " 33%|███▎      | 166/500 [00:20<00:37,  8.83it/s]"
     ]
    },
    {
     "name": "stdout",
     "output_type": "stream",
     "text": [
      "Dataset Name:  enron , AUC Score(benchmark/combined):  51.77261975162626\n",
      "Dataset Name:  enron , AUC Score (contextual):  87.76792313377679\n",
      "Dataset Name:  enron , AUC Score (structural):  40.53801951751127\n",
      "Dataset Name:  enron , AUC Score (joint-type):  41.36979551613698\n",
      "Dataset Name:  enron , AUC Score (structure type):  40.56613212131607\n",
      "===========================================================================================\n",
      "Dataset Name:  enron  Best AUC Score(benchmark/combined):  77.72176227084564\n",
      "Dataset Name:  enron  Best AUC Score (contextual):  92.76422764227644\n",
      "Dataset Name:  enron  Best AUC Score (structural):  56.990340318026455\n",
      "Dataset Name:  enron  Best AUC Score (joint-type):  41.36979551613698\n",
      "Dataset Name:  enron  Best AUC Score (structure type):  56.82750669372743\n",
      "===========================================================================================\n",
      "Dataset Name:  enron , AUC Score(benchmark/combined):  50.89296274393851\n",
      "Dataset Name:  enron , AUC Score (contextual):  87.8960335057896\n",
      "Dataset Name:  enron , AUC Score (structural):  40.4225491653044\n",
      "Dataset Name:  enron , AUC Score (joint-type):  41.690071446169\n",
      "Dataset Name:  enron , AUC Score (structure type):  40.4674651497394\n",
      "===========================================================================================\n",
      "Dataset Name:  enron  Best AUC Score(benchmark/combined):  77.72176227084564\n",
      "Dataset Name:  enron  Best AUC Score (contextual):  92.76422764227644\n",
      "Dataset Name:  enron  Best AUC Score (structural):  56.990340318026455\n",
      "Dataset Name:  enron  Best AUC Score (joint-type):  41.690071446169\n",
      "Dataset Name:  enron  Best AUC Score (structure type):  56.82750669372743\n",
      "===========================================================================================\n"
     ]
    },
    {
     "name": "stderr",
     "output_type": "stream",
     "text": [
      " 34%|███▎      | 168/500 [00:20<00:37,  8.84it/s]"
     ]
    },
    {
     "name": "stdout",
     "output_type": "stream",
     "text": [
      "Dataset Name:  enron , AUC Score(benchmark/combined):  51.74970431697221\n",
      "Dataset Name:  enron , AUC Score (contextual):  87.80734170978074\n",
      "Dataset Name:  enron , AUC Score (structural):  40.289691385545154\n",
      "Dataset Name:  enron , AUC Score (joint-type):  42.467356491746735\n",
      "Dataset Name:  enron , AUC Score (structure type):  40.369751021924934\n",
      "===========================================================================================\n",
      "Dataset Name:  enron  Best AUC Score(benchmark/combined):  77.72176227084564\n",
      "Dataset Name:  enron  Best AUC Score (contextual):  92.76422764227644\n",
      "Dataset Name:  enron  Best AUC Score (structural):  56.990340318026455\n",
      "Dataset Name:  enron  Best AUC Score (joint-type):  42.467356491746735\n",
      "Dataset Name:  enron  Best AUC Score (structure type):  56.82750669372743\n",
      "===========================================================================================\n",
      "Dataset Name:  enron , AUC Score(benchmark/combined):  50.68376700177411\n",
      "Dataset Name:  enron , AUC Score (contextual):  87.7260408967726\n",
      "Dataset Name:  enron , AUC Score (structural):  40.2587804032298\n",
      "Dataset Name:  enron , AUC Score (joint-type):  42.52525252525252\n",
      "Dataset Name:  enron , AUC Score (structure type):  40.34226147938522\n",
      "===========================================================================================\n",
      "Dataset Name:  enron  Best AUC Score(benchmark/combined):  77.72176227084564\n",
      "Dataset Name:  enron  Best AUC Score (contextual):  92.76422764227644\n",
      "Dataset Name:  enron  Best AUC Score (structural):  56.990340318026455\n",
      "Dataset Name:  enron  Best AUC Score (joint-type):  42.52525252525252\n",
      "Dataset Name:  enron  Best AUC Score (structure type):  56.82750669372743\n",
      "===========================================================================================\n"
     ]
    },
    {
     "name": "stderr",
     "output_type": "stream",
     "text": [
      " 34%|███▍      | 170/500 [00:20<00:37,  8.85it/s]"
     ]
    },
    {
     "name": "stdout",
     "output_type": "stream",
     "text": [
      "Dataset Name:  enron , AUC Score(benchmark/combined):  50.95209934949734\n",
      "Dataset Name:  enron , AUC Score (contextual):  87.79009608277902\n",
      "Dataset Name:  enron , AUC Score (structural):  40.29419923713281\n",
      "Dataset Name:  enron , AUC Score (joint-type):  42.12367578221236\n",
      "Dataset Name:  enron , AUC Score (structure type):  40.36079429056018\n",
      "===========================================================================================\n",
      "Dataset Name:  enron  Best AUC Score(benchmark/combined):  77.72176227084564\n",
      "Dataset Name:  enron  Best AUC Score (contextual):  92.76422764227644\n",
      "Dataset Name:  enron  Best AUC Score (structural):  56.990340318026455\n",
      "Dataset Name:  enron  Best AUC Score (joint-type):  42.12367578221236\n",
      "Dataset Name:  enron  Best AUC Score (structure type):  56.82750669372743\n",
      "===========================================================================================\n",
      "Dataset Name:  enron , AUC Score(benchmark/combined):  51.77853341218215\n",
      "Dataset Name:  enron , AUC Score (contextual):  87.69894062576988\n",
      "Dataset Name:  enron , AUC Score (structural):  40.23143607272007\n",
      "Dataset Name:  enron , AUC Score (joint-type):  42.60162601626016\n",
      "Dataset Name:  enron , AUC Score (structure type):  40.31891680721112\n",
      "===========================================================================================\n",
      "Dataset Name:  enron  Best AUC Score(benchmark/combined):  77.72176227084564\n",
      "Dataset Name:  enron  Best AUC Score (contextual):  92.76422764227644\n",
      "Dataset Name:  enron  Best AUC Score (structural):  56.990340318026455\n",
      "Dataset Name:  enron  Best AUC Score (joint-type):  42.60162601626016\n",
      "Dataset Name:  enron  Best AUC Score (structure type):  56.82750669372743\n",
      "===========================================================================================\n"
     ]
    },
    {
     "name": "stderr",
     "output_type": "stream",
     "text": [
      " 34%|███▍      | 172/500 [00:20<00:37,  8.76it/s]"
     ]
    },
    {
     "name": "stdout",
     "output_type": "stream",
     "text": [
      "Dataset Name:  enron , AUC Score(benchmark/combined):  51.13394441159078\n",
      "Dataset Name:  enron , AUC Score (contextual):  87.48460211874846\n",
      "Dataset Name:  enron , AUC Score (structural):  40.17005993956507\n",
      "Dataset Name:  enron , AUC Score (joint-type):  42.70017245627001\n",
      "Dataset Name:  enron , AUC Score (structure type):  40.263699511191156\n",
      "===========================================================================================\n",
      "Dataset Name:  enron  Best AUC Score(benchmark/combined):  77.72176227084564\n",
      "Dataset Name:  enron  Best AUC Score (contextual):  92.76422764227644\n",
      "Dataset Name:  enron  Best AUC Score (structural):  56.990340318026455\n",
      "Dataset Name:  enron  Best AUC Score (joint-type):  42.70017245627001\n",
      "Dataset Name:  enron  Best AUC Score (structure type):  56.82750669372743\n",
      "===========================================================================================\n",
      "Dataset Name:  enron , AUC Score(benchmark/combined):  50.71111768184507\n",
      "Dataset Name:  enron , AUC Score (contextual):  88.139935944814\n",
      "Dataset Name:  enron , AUC Score (structural):  40.57541982463962\n",
      "Dataset Name:  enron , AUC Score (joint-type):  42.19512195121952\n",
      "Dataset Name:  enron , AUC Score (structure type):  40.634022239373415\n",
      "===========================================================================================\n",
      "Dataset Name:  enron  Best AUC Score(benchmark/combined):  77.72176227084564\n",
      "Dataset Name:  enron  Best AUC Score (contextual):  92.76422764227644\n",
      "Dataset Name:  enron  Best AUC Score (structural):  56.990340318026455\n",
      "Dataset Name:  enron  Best AUC Score (joint-type):  42.19512195121952\n",
      "Dataset Name:  enron  Best AUC Score (structure type):  56.82750669372743\n",
      "===========================================================================================\n"
     ]
    },
    {
     "name": "stderr",
     "output_type": "stream",
     "text": [
      " 35%|███▍      | 174/500 [00:21<00:36,  8.85it/s]"
     ]
    },
    {
     "name": "stdout",
     "output_type": "stream",
     "text": [
      "Dataset Name:  enron , AUC Score(benchmark/combined):  51.14429331756357\n",
      "Dataset Name:  enron , AUC Score (contextual):  88.42572062084257\n",
      "Dataset Name:  enron , AUC Score (structural):  40.45717540991728\n",
      "Dataset Name:  enron , AUC Score (joint-type):  40.90169992609016\n",
      "Dataset Name:  enron , AUC Score (structure type):  40.47027603883791\n",
      "===========================================================================================\n",
      "Dataset Name:  enron  Best AUC Score(benchmark/combined):  77.72176227084564\n",
      "Dataset Name:  enron  Best AUC Score (contextual):  92.76422764227644\n",
      "Dataset Name:  enron  Best AUC Score (structural):  56.990340318026455\n",
      "Dataset Name:  enron  Best AUC Score (joint-type):  40.90169992609016\n",
      "Dataset Name:  enron  Best AUC Score (structure type):  56.82750669372743\n",
      "===========================================================================================\n",
      "Dataset Name:  enron , AUC Score(benchmark/combined):  51.3926670609107\n",
      "Dataset Name:  enron , AUC Score (contextual):  88.57846760285784\n",
      "Dataset Name:  enron , AUC Score (structural):  40.29573487888245\n",
      "Dataset Name:  enron , AUC Score (joint-type):  40.10593742301059\n",
      "Dataset Name:  enron , AUC Score (structure type):  40.284233294266734\n",
      "===========================================================================================\n",
      "Dataset Name:  enron  Best AUC Score(benchmark/combined):  77.72176227084564\n",
      "Dataset Name:  enron  Best AUC Score (contextual):  92.76422764227644\n",
      "Dataset Name:  enron  Best AUC Score (structural):  56.990340318026455\n",
      "Dataset Name:  enron  Best AUC Score (joint-type):  40.10593742301059\n",
      "Dataset Name:  enron  Best AUC Score (structure type):  56.82750669372743\n",
      "===========================================================================================\n"
     ]
    },
    {
     "name": "stderr",
     "output_type": "stream",
     "text": [
      " 35%|███▌      | 176/500 [00:21<00:36,  8.85it/s]"
     ]
    },
    {
     "name": "stdout",
     "output_type": "stream",
     "text": [
      "Dataset Name:  enron , AUC Score(benchmark/combined):  52.58870490833827\n",
      "Dataset Name:  enron , AUC Score (contextual):  88.62527716186253\n",
      "Dataset Name:  enron , AUC Score (structural):  39.93322435230595\n",
      "Dataset Name:  enron , AUC Score (joint-type):  40.47055925104705\n",
      "Dataset Name:  enron , AUC Score (structure type):  39.949689849355394\n",
      "===========================================================================================\n",
      "Dataset Name:  enron  Best AUC Score(benchmark/combined):  77.72176227084564\n",
      "Dataset Name:  enron  Best AUC Score (contextual):  92.76422764227644\n",
      "Dataset Name:  enron  Best AUC Score (structural):  56.990340318026455\n",
      "Dataset Name:  enron  Best AUC Score (joint-type):  40.47055925104705\n",
      "Dataset Name:  enron  Best AUC Score (structure type):  56.82750669372743\n",
      "===========================================================================================\n",
      "Dataset Name:  enron , AUC Score(benchmark/combined):  55.20328208160852\n",
      "Dataset Name:  enron , AUC Score (contextual):  88.6031042128603\n",
      "Dataset Name:  enron , AUC Score (structural):  39.30410660325953\n",
      "Dataset Name:  enron , AUC Score (joint-type):  42.793791574279375\n",
      "Dataset Name:  enron , AUC Score (structure type):  39.43448722712937\n",
      "===========================================================================================\n",
      "Dataset Name:  enron  Best AUC Score(benchmark/combined):  77.72176227084564\n",
      "Dataset Name:  enron  Best AUC Score (contextual):  92.76422764227644\n",
      "Dataset Name:  enron  Best AUC Score (structural):  56.990340318026455\n",
      "Dataset Name:  enron  Best AUC Score (joint-type):  42.793791574279375\n",
      "Dataset Name:  enron  Best AUC Score (structure type):  56.82750669372743\n",
      "===========================================================================================\n"
     ]
    },
    {
     "name": "stderr",
     "output_type": "stream",
     "text": [
      " 36%|███▌      | 178/500 [00:21<00:36,  8.86it/s]"
     ]
    },
    {
     "name": "stdout",
     "output_type": "stream",
     "text": [
      "Dataset Name:  enron , AUC Score(benchmark/combined):  56.133944411590775\n",
      "Dataset Name:  enron , AUC Score (contextual):  88.54890367085488\n",
      "Dataset Name:  enron , AUC Score (structural):  38.80705404468222\n",
      "Dataset Name:  enron , AUC Score (joint-type):  45.92510470559251\n",
      "Dataset Name:  enron , AUC Score (structure type):  39.077551953806136\n",
      "===========================================================================================\n",
      "Dataset Name:  enron  Best AUC Score(benchmark/combined):  77.72176227084564\n",
      "Dataset Name:  enron  Best AUC Score (contextual):  92.76422764227644\n",
      "Dataset Name:  enron  Best AUC Score (structural):  56.990340318026455\n",
      "Dataset Name:  enron  Best AUC Score (joint-type):  45.92510470559251\n",
      "Dataset Name:  enron  Best AUC Score (structure type):  56.82750669372743\n",
      "===========================================================================================\n",
      "Dataset Name:  enron , AUC Score(benchmark/combined):  56.3926670609107\n",
      "Dataset Name:  enron , AUC Score (contextual):  88.48977580684898\n",
      "Dataset Name:  enron , AUC Score (structural):  39.008124040223905\n",
      "Dataset Name:  enron , AUC Score (joint-type):  46.95737866469574\n",
      "Dataset Name:  enron , AUC Score (structure type):  39.31085574898283\n",
      "===========================================================================================\n",
      "Dataset Name:  enron  Best AUC Score(benchmark/combined):  77.72176227084564\n",
      "Dataset Name:  enron  Best AUC Score (contextual):  92.76422764227644\n",
      "Dataset Name:  enron  Best AUC Score (structural):  56.990340318026455\n",
      "Dataset Name:  enron  Best AUC Score (joint-type):  46.95737866469574\n",
      "Dataset Name:  enron  Best AUC Score (structure type):  56.82750669372743\n",
      "===========================================================================================\n"
     ]
    },
    {
     "name": "stderr",
     "output_type": "stream",
     "text": [
      " 36%|███▌      | 180/500 [00:21<00:36,  8.88it/s]"
     ]
    },
    {
     "name": "stdout",
     "output_type": "stream",
     "text": [
      "Dataset Name:  enron , AUC Score(benchmark/combined):  56.49172087522176\n",
      "Dataset Name:  enron , AUC Score (contextual):  88.50455777285046\n",
      "Dataset Name:  enron , AUC Score (structural):  38.973151037796605\n",
      "Dataset Name:  enron , AUC Score (joint-type):  44.275683665927566\n",
      "Dataset Name:  enron , AUC Score (structure type):  39.17350332066051\n",
      "===========================================================================================\n",
      "Dataset Name:  enron  Best AUC Score(benchmark/combined):  77.72176227084564\n",
      "Dataset Name:  enron  Best AUC Score (contextual):  92.76422764227644\n",
      "Dataset Name:  enron  Best AUC Score (structural):  56.990340318026455\n",
      "Dataset Name:  enron  Best AUC Score (joint-type):  44.275683665927566\n",
      "Dataset Name:  enron  Best AUC Score (structure type):  56.82750669372743\n",
      "===========================================================================================\n",
      "Dataset Name:  enron , AUC Score(benchmark/combined):  55.9794500295683\n",
      "Dataset Name:  enron , AUC Score (contextual):  88.53165804385317\n",
      "Dataset Name:  enron , AUC Score (structural):  39.0820329915292\n",
      "Dataset Name:  enron , AUC Score (joint-type):  43.79650160137965\n",
      "Dataset Name:  enron , AUC Score (structure type):  39.259688038952255\n",
      "===========================================================================================\n",
      "Dataset Name:  enron  Best AUC Score(benchmark/combined):  77.72176227084564\n",
      "Dataset Name:  enron  Best AUC Score (contextual):  92.76422764227644\n",
      "Dataset Name:  enron  Best AUC Score (structural):  56.990340318026455\n",
      "Dataset Name:  enron  Best AUC Score (joint-type):  43.79650160137965\n",
      "Dataset Name:  enron  Best AUC Score (structure type):  56.82750669372743\n",
      "===========================================================================================\n"
     ]
    },
    {
     "name": "stderr",
     "output_type": "stream",
     "text": [
      " 36%|███▋      | 182/500 [00:22<00:36,  8.83it/s]"
     ]
    },
    {
     "name": "stdout",
     "output_type": "stream",
     "text": [
      "Dataset Name:  enron , AUC Score(benchmark/combined):  55.77099349497339\n",
      "Dataset Name:  enron , AUC Score (contextual):  88.55383099285538\n",
      "Dataset Name:  enron , AUC Score (structural):  39.15470352206866\n",
      "Dataset Name:  enron , AUC Score (joint-type):  45.91771372259177\n",
      "Dataset Name:  enron , AUC Score (structure type):  39.41161897683637\n",
      "===========================================================================================\n",
      "Dataset Name:  enron  Best AUC Score(benchmark/combined):  77.72176227084564\n",
      "Dataset Name:  enron  Best AUC Score (contextual):  92.76422764227644\n",
      "Dataset Name:  enron  Best AUC Score (structural):  56.990340318026455\n",
      "Dataset Name:  enron  Best AUC Score (joint-type):  45.91771372259177\n",
      "Dataset Name:  enron  Best AUC Score (structure type):  56.82750669372743\n",
      "===========================================================================================\n",
      "Dataset Name:  enron , AUC Score(benchmark/combined):  55.793169722057954\n",
      "Dataset Name:  enron , AUC Score (contextual):  88.51687607785168\n",
      "Dataset Name:  enron , AUC Score (structural):  39.30955565462922\n",
      "Dataset Name:  enron , AUC Score (joint-type):  47.3170731707317\n",
      "Dataset Name:  enron , AUC Score (structure type):  39.61466998256296\n",
      "===========================================================================================\n",
      "Dataset Name:  enron  Best AUC Score(benchmark/combined):  77.72176227084564\n",
      "Dataset Name:  enron  Best AUC Score (contextual):  92.76422764227644\n",
      "Dataset Name:  enron  Best AUC Score (structural):  56.990340318026455\n",
      "Dataset Name:  enron  Best AUC Score (joint-type):  47.3170731707317\n",
      "Dataset Name:  enron  Best AUC Score (structure type):  56.82750669372743\n",
      "===========================================================================================\n"
     ]
    },
    {
     "name": "stderr",
     "output_type": "stream",
     "text": [
      " 37%|███▋      | 184/500 [00:22<00:35,  8.82it/s]"
     ]
    },
    {
     "name": "stdout",
     "output_type": "stream",
     "text": [
      "Dataset Name:  enron , AUC Score(benchmark/combined):  52.29967474866943\n",
      "Dataset Name:  enron , AUC Score (contextual):  88.35673811283567\n",
      "Dataset Name:  enron , AUC Score (structural):  39.45747263090108\n",
      "Dataset Name:  enron , AUC Score (joint-type):  46.58043853165804\n",
      "Dataset Name:  enron , AUC Score (structure type):  39.72843952777063\n",
      "===========================================================================================\n",
      "Dataset Name:  enron  Best AUC Score(benchmark/combined):  77.72176227084564\n",
      "Dataset Name:  enron  Best AUC Score (contextual):  92.76422764227644\n",
      "Dataset Name:  enron  Best AUC Score (structural):  56.990340318026455\n",
      "Dataset Name:  enron  Best AUC Score (joint-type):  46.58043853165804\n",
      "Dataset Name:  enron  Best AUC Score (structure type):  56.82750669372743\n",
      "===========================================================================================\n",
      "Dataset Name:  enron , AUC Score(benchmark/combined):  50.86117681845062\n",
      "Dataset Name:  enron , AUC Score (contextual):  88.24833702882484\n",
      "Dataset Name:  enron , AUC Score (structural):  39.75028483677614\n",
      "Dataset Name:  enron , AUC Score (joint-type):  45.32889874353289\n",
      "Dataset Name:  enron , AUC Score (structure type):  39.96164803857112\n",
      "===========================================================================================\n",
      "Dataset Name:  enron  Best AUC Score(benchmark/combined):  77.72176227084564\n",
      "Dataset Name:  enron  Best AUC Score (contextual):  92.76422764227644\n",
      "Dataset Name:  enron  Best AUC Score (structural):  56.990340318026455\n",
      "Dataset Name:  enron  Best AUC Score (joint-type):  45.32889874353289\n",
      "Dataset Name:  enron  Best AUC Score (structure type):  56.82750669372743\n",
      "===========================================================================================\n"
     ]
    },
    {
     "name": "stderr",
     "output_type": "stream",
     "text": [
      " 37%|███▋      | 186/500 [00:22<00:35,  8.80it/s]"
     ]
    },
    {
     "name": "stdout",
     "output_type": "stream",
     "text": [
      "Dataset Name:  enron , AUC Score(benchmark/combined):  50.60467179183915\n",
      "Dataset Name:  enron , AUC Score (contextual):  88.18674550381867\n",
      "Dataset Name:  enron , AUC Score (structural):  39.54252736909892\n",
      "Dataset Name:  enron , AUC Score (joint-type):  44.58487312145848\n",
      "Dataset Name:  enron , AUC Score (structure type):  39.73306082001734\n",
      "===========================================================================================\n",
      "Dataset Name:  enron  Best AUC Score(benchmark/combined):  77.72176227084564\n",
      "Dataset Name:  enron  Best AUC Score (contextual):  92.76422764227644\n",
      "Dataset Name:  enron  Best AUC Score (structural):  56.990340318026455\n",
      "Dataset Name:  enron  Best AUC Score (joint-type):  44.58487312145848\n",
      "Dataset Name:  enron  Best AUC Score (structure type):  56.82750669372743\n",
      "===========================================================================================\n",
      "Dataset Name:  enron , AUC Score(benchmark/combined):  50.71777054997043\n",
      "Dataset Name:  enron , AUC Score (contextual):  88.1670362158167\n",
      "Dataset Name:  enron , AUC Score (structural):  39.22742358943875\n",
      "Dataset Name:  enron , AUC Score (joint-type):  44.94210396649421\n",
      "Dataset Name:  enron , AUC Score (structure type):  39.44382509599901\n",
      "===========================================================================================\n",
      "Dataset Name:  enron  Best AUC Score(benchmark/combined):  77.72176227084564\n",
      "Dataset Name:  enron  Best AUC Score (contextual):  92.76422764227644\n",
      "Dataset Name:  enron  Best AUC Score (structural):  56.990340318026455\n",
      "Dataset Name:  enron  Best AUC Score (joint-type):  44.94210396649421\n",
      "Dataset Name:  enron  Best AUC Score (structure type):  56.82750669372743\n",
      "===========================================================================================\n"
     ]
    },
    {
     "name": "stderr",
     "output_type": "stream",
     "text": [
      " 38%|███▊      | 188/500 [00:22<00:35,  8.71it/s]"
     ]
    },
    {
     "name": "stdout",
     "output_type": "stream",
     "text": [
      "Dataset Name:  enron , AUC Score(benchmark/combined):  50.63054405677114\n",
      "Dataset Name:  enron , AUC Score (contextual):  88.1029810298103\n",
      "Dataset Name:  enron , AUC Score (structural):  38.86649824144251\n",
      "Dataset Name:  enron , AUC Score (joint-type):  46.20842572062084\n",
      "Dataset Name:  enron , AUC Score (structure type):  39.14568028280403\n",
      "===========================================================================================\n",
      "Dataset Name:  enron  Best AUC Score(benchmark/combined):  77.72176227084564\n",
      "Dataset Name:  enron  Best AUC Score (contextual):  92.76422764227644\n",
      "Dataset Name:  enron  Best AUC Score (structural):  56.990340318026455\n",
      "Dataset Name:  enron  Best AUC Score (joint-type):  46.20842572062084\n",
      "Dataset Name:  enron  Best AUC Score (structure type):  56.82750669372743\n",
      "===========================================================================================\n",
      "Dataset Name:  enron , AUC Score(benchmark/combined):  50.8774393849793\n",
      "Dataset Name:  enron , AUC Score (contextual):  87.97487065779748\n",
      "Dataset Name:  enron , AUC Score (structural):  38.16005349977708\n",
      "Dataset Name:  enron , AUC Score (joint-type):  47.71864991377187\n",
      "Dataset Name:  enron , AUC Score (structure type):  38.52466436078476\n",
      "===========================================================================================\n",
      "Dataset Name:  enron  Best AUC Score(benchmark/combined):  77.72176227084564\n",
      "Dataset Name:  enron  Best AUC Score (contextual):  92.76422764227644\n",
      "Dataset Name:  enron  Best AUC Score (structural):  56.990340318026455\n",
      "Dataset Name:  enron  Best AUC Score (joint-type):  47.71864991377187\n",
      "Dataset Name:  enron  Best AUC Score (structure type):  56.82750669372743\n",
      "===========================================================================================\n"
     ]
    },
    {
     "name": "stderr",
     "output_type": "stream",
     "text": [
      " 38%|███▊      | 190/500 [00:22<00:35,  8.82it/s]"
     ]
    },
    {
     "name": "stdout",
     "output_type": "stream",
     "text": [
      "Dataset Name:  enron , AUC Score(benchmark/combined):  51.53089887640449\n",
      "Dataset Name:  enron , AUC Score (contextual):  87.84429662478443\n",
      "Dataset Name:  enron , AUC Score (structural):  37.79338187942735\n",
      "Dataset Name:  enron , AUC Score (joint-type):  48.6449864498645\n",
      "Dataset Name:  enron , AUC Score (structure type):  38.2078438098505\n",
      "===========================================================================================\n",
      "Dataset Name:  enron  Best AUC Score(benchmark/combined):  77.72176227084564\n",
      "Dataset Name:  enron  Best AUC Score (contextual):  92.76422764227644\n",
      "Dataset Name:  enron  Best AUC Score (structural):  56.990340318026455\n",
      "Dataset Name:  enron  Best AUC Score (joint-type):  48.6449864498645\n",
      "Dataset Name:  enron  Best AUC Score (structure type):  56.82750669372743\n",
      "===========================================================================================\n",
      "Dataset Name:  enron , AUC Score(benchmark/combined):  51.48285038438794\n",
      "Dataset Name:  enron , AUC Score (contextual):  87.77038679477704\n",
      "Dataset Name:  enron , AUC Score (structural):  37.63763808391539\n",
      "Dataset Name:  enron , AUC Score (joint-type):  48.29884207932989\n",
      "Dataset Name:  enron , AUC Score (structure type):  38.04466931557233\n",
      "===========================================================================================\n",
      "Dataset Name:  enron  Best AUC Score(benchmark/combined):  77.72176227084564\n",
      "Dataset Name:  enron  Best AUC Score (contextual):  92.76422764227644\n",
      "Dataset Name:  enron  Best AUC Score (structural):  56.990340318026455\n",
      "Dataset Name:  enron  Best AUC Score (joint-type):  48.29884207932989\n",
      "Dataset Name:  enron  Best AUC Score (structure type):  56.82750669372743\n",
      "===========================================================================================\n"
     ]
    },
    {
     "name": "stderr",
     "output_type": "stream",
     "text": [
      " 38%|███▊      | 192/500 [00:23<00:35,  8.68it/s]"
     ]
    },
    {
     "name": "stdout",
     "output_type": "stream",
     "text": [
      "Dataset Name:  enron , AUC Score(benchmark/combined):  52.014340626848025\n",
      "Dataset Name:  enron , AUC Score (contextual):  87.7211135747721\n",
      "Dataset Name:  enron , AUC Score (structural):  37.160548868083424\n",
      "Dataset Name:  enron , AUC Score (joint-type):  49.21655580192166\n",
      "Dataset Name:  enron , AUC Score (structure type):  37.62132083202317\n",
      "===========================================================================================\n",
      "Dataset Name:  enron  Best AUC Score(benchmark/combined):  77.72176227084564\n",
      "Dataset Name:  enron  Best AUC Score (contextual):  92.76422764227644\n",
      "Dataset Name:  enron  Best AUC Score (structural):  56.990340318026455\n",
      "Dataset Name:  enron  Best AUC Score (joint-type):  49.21655580192166\n",
      "Dataset Name:  enron  Best AUC Score (structure type):  56.82750669372743\n",
      "===========================================================================================\n",
      "Dataset Name:  enron , AUC Score(benchmark/combined):  54.388675340035476\n",
      "Dataset Name:  enron , AUC Score (contextual):  87.64227642276423\n",
      "Dataset Name:  enron , AUC Score (structural):  36.27904096695893\n",
      "Dataset Name:  enron , AUC Score (joint-type):  51.877309682187736\n",
      "Dataset Name:  enron , AUC Score (structure type):  36.87643522091682\n",
      "===========================================================================================\n",
      "Dataset Name:  enron  Best AUC Score(benchmark/combined):  77.72176227084564\n",
      "Dataset Name:  enron  Best AUC Score (contextual):  92.76422764227644\n",
      "Dataset Name:  enron  Best AUC Score (structural):  56.990340318026455\n",
      "Dataset Name:  enron  Best AUC Score (joint-type):  51.877309682187736\n",
      "Dataset Name:  enron  Best AUC Score (structure type):  56.82750669372743\n",
      "===========================================================================================\n"
     ]
    },
    {
     "name": "stderr",
     "output_type": "stream",
     "text": [
      " 39%|███▉      | 194/500 [00:23<00:34,  8.76it/s]"
     ]
    },
    {
     "name": "stdout",
     "output_type": "stream",
     "text": [
      "Dataset Name:  enron , AUC Score(benchmark/combined):  55.113837965700775\n",
      "Dataset Name:  enron , AUC Score (contextual):  87.5609756097561\n",
      "Dataset Name:  enron , AUC Score (structural):  35.20780700450785\n",
      "Dataset Name:  enron , AUC Score (joint-type):  54.56023651145602\n",
      "Dataset Name:  enron , AUC Score (structure type):  35.94993758873357\n",
      "===========================================================================================\n",
      "Dataset Name:  enron  Best AUC Score(benchmark/combined):  77.72176227084564\n",
      "Dataset Name:  enron  Best AUC Score (contextual):  92.76422764227644\n",
      "Dataset Name:  enron  Best AUC Score (structural):  56.990340318026455\n",
      "Dataset Name:  enron  Best AUC Score (joint-type):  54.56023651145602\n",
      "Dataset Name:  enron  Best AUC Score (structure type):  56.82750669372743\n",
      "===========================================================================================\n",
      "Dataset Name:  enron , AUC Score(benchmark/combined):  53.74334713187463\n",
      "Dataset Name:  enron , AUC Score (contextual):  87.47721113574772\n",
      "Dataset Name:  enron , AUC Score (structural):  34.91880913459157\n",
      "Dataset Name:  enron , AUC Score (joint-type):  55.405272234540526\n",
      "Dataset Name:  enron , AUC Score (structure type):  35.704675604341155\n",
      "===========================================================================================\n",
      "Dataset Name:  enron  Best AUC Score(benchmark/combined):  77.72176227084564\n",
      "Dataset Name:  enron  Best AUC Score (contextual):  92.76422764227644\n",
      "Dataset Name:  enron  Best AUC Score (structural):  56.990340318026455\n",
      "Dataset Name:  enron  Best AUC Score (joint-type):  55.405272234540526\n",
      "Dataset Name:  enron  Best AUC Score (structure type):  56.82750669372743\n",
      "===========================================================================================\n"
     ]
    },
    {
     "name": "stderr",
     "output_type": "stream",
     "text": [
      " 39%|███▉      | 196/500 [00:23<00:34,  8.76it/s]"
     ]
    },
    {
     "name": "stdout",
     "output_type": "stream",
     "text": [
      "Dataset Name:  enron , AUC Score(benchmark/combined):  53.977675931401535\n",
      "Dataset Name:  enron , AUC Score (contextual):  87.4451835427445\n",
      "Dataset Name:  enron , AUC Score (structural):  35.635359389706245\n",
      "Dataset Name:  enron , AUC Score (joint-type):  54.060113328406004\n",
      "Dataset Name:  enron , AUC Score (structure type):  36.34179458594174\n",
      "===========================================================================================\n",
      "Dataset Name:  enron  Best AUC Score(benchmark/combined):  77.72176227084564\n",
      "Dataset Name:  enron  Best AUC Score (contextual):  92.76422764227644\n",
      "Dataset Name:  enron  Best AUC Score (structural):  56.990340318026455\n",
      "Dataset Name:  enron  Best AUC Score (joint-type):  54.060113328406004\n",
      "Dataset Name:  enron  Best AUC Score (structure type):  56.82750669372743\n",
      "===========================================================================================\n",
      "Dataset Name:  enron , AUC Score(benchmark/combined):  54.189828503843884\n",
      "Dataset Name:  enron , AUC Score (contextual):  87.4550381867455\n",
      "Dataset Name:  enron , AUC Score (structural):  36.56239163818299\n",
      "Dataset Name:  enron , AUC Score (joint-type):  52.19019462921901\n",
      "Dataset Name:  enron , AUC Score (structure type):  37.16104965268845\n",
      "===========================================================================================\n",
      "Dataset Name:  enron  Best AUC Score(benchmark/combined):  77.72176227084564\n",
      "Dataset Name:  enron  Best AUC Score (contextual):  92.76422764227644\n",
      "Dataset Name:  enron  Best AUC Score (structural):  56.990340318026455\n",
      "Dataset Name:  enron  Best AUC Score (joint-type):  52.19019462921901\n",
      "Dataset Name:  enron  Best AUC Score (structure type):  56.82750669372743\n",
      "===========================================================================================\n"
     ]
    },
    {
     "name": "stderr",
     "output_type": "stream",
     "text": [
      " 40%|███▉      | 198/500 [00:23<00:34,  8.80it/s]"
     ]
    },
    {
     "name": "stdout",
     "output_type": "stream",
     "text": [
      "Dataset Name:  enron , AUC Score(benchmark/combined):  53.84535777646363\n",
      "Dataset Name:  enron , AUC Score (contextual):  87.48213845774822\n",
      "Dataset Name:  enron , AUC Score (structural):  37.043493337296276\n",
      "Dataset Name:  enron , AUC Score (joint-type):  51.39935944813993\n",
      "Dataset Name:  enron , AUC Score (structure type):  37.59316429884992\n",
      "===========================================================================================\n",
      "Dataset Name:  enron  Best AUC Score(benchmark/combined):  77.72176227084564\n",
      "Dataset Name:  enron  Best AUC Score (contextual):  92.76422764227644\n",
      "Dataset Name:  enron  Best AUC Score (structural):  56.990340318026455\n",
      "Dataset Name:  enron  Best AUC Score (joint-type):  51.39935944813993\n",
      "Dataset Name:  enron  Best AUC Score (structure type):  56.82750669372743\n",
      "===========================================================================================\n",
      "Dataset Name:  enron , AUC Score(benchmark/combined):  52.129657007687754\n",
      "Dataset Name:  enron , AUC Score (contextual):  87.54865730475487\n",
      "Dataset Name:  enron , AUC Score (structural):  37.270223411106166\n",
      "Dataset Name:  enron , AUC Score (joint-type):  51.38950480413895\n",
      "Dataset Name:  enron , AUC Score (structure type):  37.81084145632641\n",
      "===========================================================================================\n",
      "Dataset Name:  enron  Best AUC Score(benchmark/combined):  77.72176227084564\n",
      "Dataset Name:  enron  Best AUC Score (contextual):  92.76422764227644\n",
      "Dataset Name:  enron  Best AUC Score (structural):  56.990340318026455\n",
      "Dataset Name:  enron  Best AUC Score (joint-type):  51.38950480413895\n",
      "Dataset Name:  enron  Best AUC Score (structure type):  56.82750669372743\n",
      "===========================================================================================\n"
     ]
    },
    {
     "name": "stderr",
     "output_type": "stream",
     "text": [
      " 40%|████      | 200/500 [00:24<00:33,  8.87it/s]"
     ]
    },
    {
     "name": "stdout",
     "output_type": "stream",
     "text": [
      "Dataset Name:  enron , AUC Score(benchmark/combined):  50.65050266114726\n",
      "Dataset Name:  enron , AUC Score (contextual):  87.71618625277162\n",
      "Dataset Name:  enron , AUC Score (structural):  37.41863575568435\n",
      "Dataset Name:  enron , AUC Score (joint-type):  50.60852426706085\n",
      "Dataset Name:  enron , AUC Score (structure type):  37.9233723046432\n",
      "===========================================================================================\n",
      "Dataset Name:  enron  Best AUC Score(benchmark/combined):  77.72176227084564\n",
      "Dataset Name:  enron  Best AUC Score (contextual):  92.76422764227644\n",
      "Dataset Name:  enron  Best AUC Score (structural):  56.990340318026455\n",
      "Dataset Name:  enron  Best AUC Score (joint-type):  50.60852426706085\n",
      "Dataset Name:  enron  Best AUC Score (structure type):  56.82750669372743\n",
      "===========================================================================================\n",
      "Dataset Name:  enron , AUC Score(benchmark/combined):  52.21096984033117\n",
      "Dataset Name:  enron , AUC Score (contextual):  87.78024143877803\n",
      "Dataset Name:  enron , AUC Score (structural):  37.61871501461337\n",
      "Dataset Name:  enron , AUC Score (joint-type):  50.58881497905888\n",
      "Dataset Name:  enron , AUC Score (structure type):  38.11503682741141\n",
      "===========================================================================================\n",
      "Dataset Name:  enron  Best AUC Score(benchmark/combined):  77.72176227084564\n",
      "Dataset Name:  enron  Best AUC Score (contextual):  92.76422764227644\n",
      "Dataset Name:  enron  Best AUC Score (structural):  56.990340318026455\n",
      "Dataset Name:  enron  Best AUC Score (joint-type):  50.58881497905888\n",
      "Dataset Name:  enron  Best AUC Score (structure type):  56.82750669372743\n",
      "===========================================================================================\n"
     ]
    },
    {
     "name": "stderr",
     "output_type": "stream",
     "text": [
      " 40%|████      | 202/500 [00:24<00:33,  8.77it/s]"
     ]
    },
    {
     "name": "stdout",
     "output_type": "stream",
     "text": [
      "Dataset Name:  enron , AUC Score(benchmark/combined):  51.70387344766411\n",
      "Dataset Name:  enron , AUC Score (contextual):  87.75560482877556\n",
      "Dataset Name:  enron , AUC Score (structural):  37.85609550700946\n",
      "Dataset Name:  enron , AUC Score (joint-type):  50.155210643015515\n",
      "Dataset Name:  enron , AUC Score (structure type):  38.32656814262165\n",
      "===========================================================================================\n",
      "Dataset Name:  enron  Best AUC Score(benchmark/combined):  77.72176227084564\n",
      "Dataset Name:  enron  Best AUC Score (contextual):  92.76422764227644\n",
      "Dataset Name:  enron  Best AUC Score (structural):  56.990340318026455\n",
      "Dataset Name:  enron  Best AUC Score (joint-type):  50.155210643015515\n",
      "Dataset Name:  enron  Best AUC Score (structure type):  56.82750669372743\n",
      "===========================================================================================\n",
      "Dataset Name:  enron , AUC Score(benchmark/combined):  54.28666469544648\n",
      "Dataset Name:  enron , AUC Score (contextual):  87.71372259177137\n",
      "Dataset Name:  enron , AUC Score (structural):  37.93902016149007\n",
      "Dataset Name:  enron , AUC Score (joint-type):  49.74624291697462\n",
      "Dataset Name:  enron , AUC Score (structure type):  38.39050395906584\n",
      "===========================================================================================\n",
      "Dataset Name:  enron  Best AUC Score(benchmark/combined):  77.72176227084564\n",
      "Dataset Name:  enron  Best AUC Score (contextual):  92.76422764227644\n",
      "Dataset Name:  enron  Best AUC Score (structural):  56.990340318026455\n",
      "Dataset Name:  enron  Best AUC Score (joint-type):  49.74624291697462\n",
      "Dataset Name:  enron  Best AUC Score (structure type):  56.82750669372743\n",
      "===========================================================================================\n"
     ]
    },
    {
     "name": "stderr",
     "output_type": "stream",
     "text": [
      " 41%|████      | 204/500 [00:24<00:33,  8.84it/s]"
     ]
    },
    {
     "name": "stdout",
     "output_type": "stream",
     "text": [
      "Dataset Name:  enron , AUC Score(benchmark/combined):  54.512862211709056\n",
      "Dataset Name:  enron , AUC Score (contextual):  87.75560482877556\n",
      "Dataset Name:  enron , AUC Score (structural):  37.973795016594835\n",
      "Dataset Name:  enron , AUC Score (joint-type):  48.62034983986204\n",
      "Dataset Name:  enron , AUC Score (structure type):  38.380403815186426\n",
      "===========================================================================================\n",
      "Dataset Name:  enron  Best AUC Score(benchmark/combined):  77.72176227084564\n",
      "Dataset Name:  enron  Best AUC Score (contextual):  92.76422764227644\n",
      "Dataset Name:  enron  Best AUC Score (structural):  56.990340318026455\n",
      "Dataset Name:  enron  Best AUC Score (joint-type):  48.62034983986204\n",
      "Dataset Name:  enron  Best AUC Score (structure type):  56.82750669372743\n",
      "===========================================================================================\n",
      "Dataset Name:  enron , AUC Score(benchmark/combined):  55.408042578355996\n",
      "Dataset Name:  enron , AUC Score (contextual):  87.77285045577729\n",
      "Dataset Name:  enron , AUC Score (structural):  38.02575915192946\n",
      "Dataset Name:  enron , AUC Score (joint-type):  46.93520571569352\n",
      "Dataset Name:  enron , AUC Score (structure type):  38.3652059571792\n",
      "===========================================================================================\n",
      "Dataset Name:  enron  Best AUC Score(benchmark/combined):  77.72176227084564\n",
      "Dataset Name:  enron  Best AUC Score (contextual):  92.76422764227644\n",
      "Dataset Name:  enron  Best AUC Score (structural):  56.990340318026455\n",
      "Dataset Name:  enron  Best AUC Score (joint-type):  46.93520571569352\n",
      "Dataset Name:  enron  Best AUC Score (structure type):  56.82750669372743\n",
      "===========================================================================================\n"
     ]
    },
    {
     "name": "stderr",
     "output_type": "stream",
     "text": [
      " 41%|████      | 206/500 [00:24<00:33,  8.78it/s]"
     ]
    },
    {
     "name": "stdout",
     "output_type": "stream",
     "text": [
      "Dataset Name:  enron , AUC Score(benchmark/combined):  54.755322294500296\n",
      "Dataset Name:  enron , AUC Score (contextual):  87.75560482877556\n",
      "Dataset Name:  enron , AUC Score (structural):  38.222568980036655\n",
      "Dataset Name:  enron , AUC Score (joint-type):  45.459472776545944\n",
      "Dataset Name:  enron , AUC Score (structure type):  38.49741302918561\n",
      "===========================================================================================\n",
      "Dataset Name:  enron  Best AUC Score(benchmark/combined):  77.72176227084564\n",
      "Dataset Name:  enron  Best AUC Score (contextual):  92.76422764227644\n",
      "Dataset Name:  enron  Best AUC Score (structural):  56.990340318026455\n",
      "Dataset Name:  enron  Best AUC Score (joint-type):  45.459472776545944\n",
      "Dataset Name:  enron  Best AUC Score (structure type):  56.82750669372743\n",
      "===========================================================================================\n",
      "Dataset Name:  enron , AUC Score(benchmark/combined):  54.86989946777056\n",
      "Dataset Name:  enron , AUC Score (contextual):  87.68169499876817\n",
      "Dataset Name:  enron , AUC Score (structural):  38.73700896616635\n",
      "Dataset Name:  enron , AUC Score (joint-type):  43.828529194382845\n",
      "Dataset Name:  enron , AUC Score (structure type):  38.92909889565408\n",
      "===========================================================================================\n",
      "Dataset Name:  enron  Best AUC Score(benchmark/combined):  77.72176227084564\n",
      "Dataset Name:  enron  Best AUC Score (contextual):  92.76422764227644\n",
      "Dataset Name:  enron  Best AUC Score (structural):  56.990340318026455\n",
      "Dataset Name:  enron  Best AUC Score (joint-type):  43.828529194382845\n",
      "Dataset Name:  enron  Best AUC Score (structure type):  56.82750669372743\n",
      "===========================================================================================\n"
     ]
    },
    {
     "name": "stderr",
     "output_type": "stream",
     "text": [
      " 42%|████▏     | 208/500 [00:24<00:33,  8.79it/s]"
     ]
    },
    {
     "name": "stdout",
     "output_type": "stream",
     "text": [
      "Dataset Name:  enron , AUC Score(benchmark/combined):  51.37270845653459\n",
      "Dataset Name:  enron , AUC Score (contextual):  87.63981276176398\n",
      "Dataset Name:  enron , AUC Score (structural):  39.26660722246991\n",
      "Dataset Name:  enron , AUC Score (joint-type):  42.92190194629219\n",
      "Dataset Name:  enron , AUC Score (structure type):  39.40337687829326\n",
      "===========================================================================================\n",
      "Dataset Name:  enron  Best AUC Score(benchmark/combined):  77.72176227084564\n",
      "Dataset Name:  enron  Best AUC Score (contextual):  92.76422764227644\n",
      "Dataset Name:  enron  Best AUC Score (structural):  56.990340318026455\n",
      "Dataset Name:  enron  Best AUC Score (joint-type):  42.92190194629219\n",
      "Dataset Name:  enron  Best AUC Score (structure type):  56.82750669372743\n",
      "===========================================================================================\n",
      "Dataset Name:  enron , AUC Score(benchmark/combined):  50.84787108219988\n",
      "Dataset Name:  enron , AUC Score (contextual):  87.60778516876077\n",
      "Dataset Name:  enron , AUC Score (structural):  39.191360776737504\n",
      "Dataset Name:  enron , AUC Score (joint-type):  44.09214092140922\n",
      "Dataset Name:  enron , AUC Score (structure type):  39.37626847325844\n",
      "===========================================================================================\n",
      "Dataset Name:  enron  Best AUC Score(benchmark/combined):  77.72176227084564\n",
      "Dataset Name:  enron  Best AUC Score (contextual):  92.76422764227644\n",
      "Dataset Name:  enron  Best AUC Score (structural):  56.990340318026455\n",
      "Dataset Name:  enron  Best AUC Score (joint-type):  44.09214092140922\n",
      "Dataset Name:  enron  Best AUC Score (structure type):  56.82750669372743\n",
      "===========================================================================================\n"
     ]
    },
    {
     "name": "stderr",
     "output_type": "stream",
     "text": [
      " 42%|████▏     | 210/500 [00:25<00:32,  8.82it/s]"
     ]
    },
    {
     "name": "stdout",
     "output_type": "stream",
     "text": [
      "Dataset Name:  enron , AUC Score(benchmark/combined):  50.48418095801301\n",
      "Dataset Name:  enron , AUC Score (contextual):  87.57452574525746\n",
      "Dataset Name:  enron , AUC Score (structural):  39.099123198097786\n",
      "Dataset Name:  enron , AUC Score (joint-type):  45.71815718157182\n",
      "Dataset Name:  enron , AUC Score (structure type):  39.3504464073026\n",
      "===========================================================================================\n",
      "Dataset Name:  enron  Best AUC Score(benchmark/combined):  77.72176227084564\n",
      "Dataset Name:  enron  Best AUC Score (contextual):  92.76422764227644\n",
      "Dataset Name:  enron  Best AUC Score (structural):  56.990340318026455\n",
      "Dataset Name:  enron  Best AUC Score (joint-type):  45.71815718157182\n",
      "Dataset Name:  enron  Best AUC Score (structure type):  56.82750669372743\n",
      "===========================================================================================\n",
      "Dataset Name:  enron , AUC Score(benchmark/combined):  50.558101714961566\n",
      "Dataset Name:  enron , AUC Score (contextual):  87.57575757575758\n",
      "Dataset Name:  enron , AUC Score (structural):  39.244959627483034\n",
      "Dataset Name:  enron , AUC Score (joint-type):  45.284552845528445\n",
      "Dataset Name:  enron , AUC Score (structure type):  39.47393495888479\n",
      "===========================================================================================\n",
      "Dataset Name:  enron  Best AUC Score(benchmark/combined):  77.72176227084564\n",
      "Dataset Name:  enron  Best AUC Score (contextual):  92.76422764227644\n",
      "Dataset Name:  enron  Best AUC Score (structural):  56.990340318026455\n",
      "Dataset Name:  enron  Best AUC Score (joint-type):  45.284552845528445\n",
      "Dataset Name:  enron  Best AUC Score (structure type):  56.82750669372743\n",
      "===========================================================================================\n"
     ]
    },
    {
     "name": "stderr",
     "output_type": "stream",
     "text": [
      " 42%|████▏     | 212/500 [00:25<00:32,  8.76it/s]"
     ]
    },
    {
     "name": "stdout",
     "output_type": "stream",
     "text": [
      "Dataset Name:  enron , AUC Score(benchmark/combined):  50.527054997043166\n",
      "Dataset Name:  enron , AUC Score (contextual):  87.54865730475487\n",
      "Dataset Name:  enron , AUC Score (structural):  39.335463417050576\n",
      "Dataset Name:  enron , AUC Score (joint-type):  44.555309189455535\n",
      "Dataset Name:  enron , AUC Score (structure type):  39.532773061201155\n",
      "===========================================================================================\n",
      "Dataset Name:  enron  Best AUC Score(benchmark/combined):  77.72176227084564\n",
      "Dataset Name:  enron  Best AUC Score (contextual):  92.76422764227644\n",
      "Dataset Name:  enron  Best AUC Score (structural):  56.990340318026455\n",
      "Dataset Name:  enron  Best AUC Score (joint-type):  44.555309189455535\n",
      "Dataset Name:  enron  Best AUC Score (structure type):  56.82750669372743\n",
      "===========================================================================================\n",
      "Dataset Name:  enron , AUC Score(benchmark/combined):  50.10274985215849\n",
      "Dataset Name:  enron , AUC Score (contextual):  87.28258191672826\n",
      "Dataset Name:  enron , AUC Score (structural):  39.11873978302868\n",
      "Dataset Name:  enron , AUC Score (joint-type):  46.20842572062084\n",
      "Dataset Name:  enron , AUC Score (structure type):  39.38827430466226\n",
      "===========================================================================================\n",
      "Dataset Name:  enron  Best AUC Score(benchmark/combined):  77.72176227084564\n",
      "Dataset Name:  enron  Best AUC Score (contextual):  92.76422764227644\n",
      "Dataset Name:  enron  Best AUC Score (structural):  56.990340318026455\n",
      "Dataset Name:  enron  Best AUC Score (joint-type):  46.20842572062084\n",
      "Dataset Name:  enron  Best AUC Score (structure type):  56.82750669372743\n",
      "===========================================================================================\n"
     ]
    },
    {
     "name": "stderr",
     "output_type": "stream",
     "text": [
      " 43%|████▎     | 214/500 [00:25<00:32,  8.81it/s]"
     ]
    },
    {
     "name": "stdout",
     "output_type": "stream",
     "text": [
      "Dataset Name:  enron , AUC Score(benchmark/combined):  49.77971614429332\n",
      "Dataset Name:  enron , AUC Score (contextual):  86.86622320768662\n",
      "Dataset Name:  enron , AUC Score (structural):  38.90964482092436\n",
      "Dataset Name:  enron , AUC Score (joint-type):  47.21236757822124\n",
      "Dataset Name:  enron , AUC Score (structure type):  39.22600501195819\n",
      "===========================================================================================\n",
      "Dataset Name:  enron  Best AUC Score(benchmark/combined):  77.72176227084564\n",
      "Dataset Name:  enron  Best AUC Score (contextual):  92.76422764227644\n",
      "Dataset Name:  enron  Best AUC Score (structural):  56.990340318026455\n",
      "Dataset Name:  enron  Best AUC Score (joint-type):  47.21236757822124\n",
      "Dataset Name:  enron  Best AUC Score (structure type):  56.82750669372743\n",
      "===========================================================================================\n",
      "Dataset Name:  enron , AUC Score(benchmark/combined):  49.33914843287995\n",
      "Dataset Name:  enron , AUC Score (contextual):  86.44247351564425\n",
      "Dataset Name:  enron , AUC Score (structural):  38.53811859117254\n",
      "Dataset Name:  enron , AUC Score (joint-type):  48.41340231584134\n",
      "Dataset Name:  enron , AUC Score (structure type):  38.91513973453773\n",
      "===========================================================================================\n",
      "Dataset Name:  enron  Best AUC Score(benchmark/combined):  77.72176227084564\n",
      "Dataset Name:  enron  Best AUC Score (contextual):  92.76422764227644\n",
      "Dataset Name:  enron  Best AUC Score (structural):  56.990340318026455\n",
      "Dataset Name:  enron  Best AUC Score (joint-type):  48.41340231584134\n",
      "Dataset Name:  enron  Best AUC Score (structure type):  56.82750669372743\n",
      "===========================================================================================\n"
     ]
    },
    {
     "name": "stderr",
     "output_type": "stream",
     "text": [
      " 43%|████▎     | 216/500 [00:25<00:32,  8.84it/s]"
     ]
    },
    {
     "name": "stdout",
     "output_type": "stream",
     "text": [
      "Dataset Name:  enron , AUC Score(benchmark/combined):  49.40124186871674\n",
      "Dataset Name:  enron , AUC Score (contextual):  86.1690071446169\n",
      "Dataset Name:  enron , AUC Score (structural):  38.48427205627384\n",
      "Dataset Name:  enron , AUC Score (joint-type):  49.263365360926336\n",
      "Dataset Name:  enron , AUC Score (structure type):  38.896225785857894\n",
      "===========================================================================================\n",
      "Dataset Name:  enron  Best AUC Score(benchmark/combined):  77.72176227084564\n",
      "Dataset Name:  enron  Best AUC Score (contextual):  92.76422764227644\n",
      "Dataset Name:  enron  Best AUC Score (structural):  56.990340318026455\n",
      "Dataset Name:  enron  Best AUC Score (joint-type):  49.263365360926336\n",
      "Dataset Name:  enron  Best AUC Score (structure type):  56.82750669372743\n",
      "===========================================================================================\n",
      "Dataset Name:  enron , AUC Score(benchmark/combined):  49.37684801892372\n",
      "Dataset Name:  enron , AUC Score (contextual):  85.95713229859572\n",
      "Dataset Name:  enron , AUC Score (structural):  38.28097290335364\n",
      "Dataset Name:  enron , AUC Score (joint-type):  49.9359448139936\n",
      "Dataset Name:  enron , AUC Score (structure type):  38.72671488056103\n",
      "===========================================================================================\n",
      "Dataset Name:  enron  Best AUC Score(benchmark/combined):  77.72176227084564\n",
      "Dataset Name:  enron  Best AUC Score (contextual):  92.76422764227644\n",
      "Dataset Name:  enron  Best AUC Score (structural):  56.990340318026455\n",
      "Dataset Name:  enron  Best AUC Score (joint-type):  49.9359448139936\n",
      "Dataset Name:  enron  Best AUC Score (structure type):  56.82750669372743\n",
      "===========================================================================================\n"
     ]
    },
    {
     "name": "stderr",
     "output_type": "stream",
     "text": [
      " 44%|████▎     | 218/500 [00:26<00:31,  8.86it/s]"
     ]
    },
    {
     "name": "stdout",
     "output_type": "stream",
     "text": [
      "Dataset Name:  enron , AUC Score(benchmark/combined):  49.209047900650496\n",
      "Dataset Name:  enron , AUC Score (contextual):  85.8240946045824\n",
      "Dataset Name:  enron , AUC Score (structural):  37.91276564125427\n",
      "Dataset Name:  enron , AUC Score (joint-type):  51.25646711012565\n",
      "Dataset Name:  enron , AUC Score (structure type):  38.423662921990676\n",
      "===========================================================================================\n",
      "Dataset Name:  enron  Best AUC Score(benchmark/combined):  77.72176227084564\n",
      "Dataset Name:  enron  Best AUC Score (contextual):  92.76422764227644\n",
      "Dataset Name:  enron  Best AUC Score (structural):  56.990340318026455\n",
      "Dataset Name:  enron  Best AUC Score (joint-type):  51.25646711012565\n",
      "Dataset Name:  enron  Best AUC Score (structure type):  56.82750669372743\n",
      "===========================================================================================\n",
      "Dataset Name:  enron , AUC Score(benchmark/combined):  48.92001774098167\n",
      "Dataset Name:  enron , AUC Score (contextual):  85.7280118255728\n",
      "Dataset Name:  enron , AUC Score (structural):  37.69396146034577\n",
      "Dataset Name:  enron , AUC Score (joint-type):  52.628726287262865\n",
      "Dataset Name:  enron , AUC Score (structure type):  38.266300774661985\n",
      "===========================================================================================\n",
      "Dataset Name:  enron  Best AUC Score(benchmark/combined):  77.72176227084564\n",
      "Dataset Name:  enron  Best AUC Score (contextual):  92.76422764227644\n",
      "Dataset Name:  enron  Best AUC Score (structural):  56.990340318026455\n",
      "Dataset Name:  enron  Best AUC Score (joint-type):  52.628726287262865\n",
      "Dataset Name:  enron  Best AUC Score (structure type):  56.82750669372743\n",
      "===========================================================================================\n"
     ]
    },
    {
     "name": "stderr",
     "output_type": "stream",
     "text": [
      " 44%|████▍     | 220/500 [00:26<00:31,  8.87it/s]"
     ]
    },
    {
     "name": "stdout",
     "output_type": "stream",
     "text": [
      "Dataset Name:  enron , AUC Score(benchmark/combined):  50.141927853341215\n",
      "Dataset Name:  enron , AUC Score (contextual):  85.66642030056664\n",
      "Dataset Name:  enron , AUC Score (structural):  37.76782087482043\n",
      "Dataset Name:  enron , AUC Score (joint-type):  51.786154225178606\n",
      "Dataset Name:  enron , AUC Score (structure type):  38.30474802046709\n",
      "===========================================================================================\n",
      "Dataset Name:  enron  Best AUC Score(benchmark/combined):  77.72176227084564\n",
      "Dataset Name:  enron  Best AUC Score (contextual):  92.76422764227644\n",
      "Dataset Name:  enron  Best AUC Score (structural):  56.990340318026455\n",
      "Dataset Name:  enron  Best AUC Score (joint-type):  51.786154225178606\n",
      "Dataset Name:  enron  Best AUC Score (structure type):  56.82750669372743\n",
      "===========================================================================================\n",
      "Dataset Name:  enron , AUC Score(benchmark/combined):  49.07007687758723\n",
      "Dataset Name:  enron , AUC Score (contextual):  85.60482877556048\n",
      "Dataset Name:  enron , AUC Score (structural):  37.97508297419131\n",
      "Dataset Name:  enron , AUC Score (joint-type):  51.73441734417344\n",
      "Dataset Name:  enron , AUC Score (structure type):  38.50208196362043\n",
      "===========================================================================================\n",
      "Dataset Name:  enron  Best AUC Score(benchmark/combined):  77.72176227084564\n",
      "Dataset Name:  enron  Best AUC Score (contextual):  92.76422764227644\n",
      "Dataset Name:  enron  Best AUC Score (structural):  56.990340318026455\n",
      "Dataset Name:  enron  Best AUC Score (joint-type):  51.73441734417344\n",
      "Dataset Name:  enron  Best AUC Score (structure type):  56.82750669372743\n",
      "===========================================================================================\n"
     ]
    },
    {
     "name": "stderr",
     "output_type": "stream",
     "text": [
      " 44%|████▍     | 222/500 [00:26<00:31,  8.83it/s]"
     ]
    },
    {
     "name": "stdout",
     "output_type": "stream",
     "text": [
      "Dataset Name:  enron , AUC Score(benchmark/combined):  49.0102010644589\n",
      "Dataset Name:  enron , AUC Score (contextual):  85.63439270756344\n",
      "Dataset Name:  enron , AUC Score (structural):  38.314261653539404\n",
      "Dataset Name:  enron , AUC Score (joint-type):  50.72924365607292\n",
      "Dataset Name:  enron , AUC Score (structure type):  38.78941200011434\n",
      "===========================================================================================\n",
      "Dataset Name:  enron  Best AUC Score(benchmark/combined):  77.72176227084564\n",
      "Dataset Name:  enron  Best AUC Score (contextual):  92.76422764227644\n",
      "Dataset Name:  enron  Best AUC Score (structural):  56.990340318026455\n",
      "Dataset Name:  enron  Best AUC Score (joint-type):  50.72924365607292\n",
      "Dataset Name:  enron  Best AUC Score (structure type):  56.82750669372743\n",
      "===========================================================================================\n",
      "Dataset Name:  enron , AUC Score(benchmark/combined):  48.65759905381431\n",
      "Dataset Name:  enron , AUC Score (contextual):  85.58019216555802\n",
      "Dataset Name:  enron , AUC Score (structural):  38.17605389607173\n",
      "Dataset Name:  enron , AUC Score (joint-type):  54.25474254742547\n",
      "Dataset Name:  enron , AUC Score (structure type):  38.792842237658284\n",
      "===========================================================================================\n",
      "Dataset Name:  enron  Best AUC Score(benchmark/combined):  77.72176227084564\n",
      "Dataset Name:  enron  Best AUC Score (contextual):  92.76422764227644\n",
      "Dataset Name:  enron  Best AUC Score (structural):  56.990340318026455\n",
      "Dataset Name:  enron  Best AUC Score (joint-type):  54.25474254742547\n",
      "Dataset Name:  enron  Best AUC Score (structure type):  56.82750669372743\n",
      "===========================================================================================\n"
     ]
    },
    {
     "name": "stderr",
     "output_type": "stream",
     "text": [
      " 45%|████▍     | 224/500 [00:26<00:31,  8.90it/s]"
     ]
    },
    {
     "name": "stdout",
     "output_type": "stream",
     "text": [
      "Dataset Name:  enron , AUC Score(benchmark/combined):  49.76936723832052\n",
      "Dataset Name:  enron , AUC Score (contextual):  85.59990145356\n",
      "Dataset Name:  enron , AUC Score (structural):  38.680239758260264\n",
      "Dataset Name:  enron , AUC Score (joint-type):  51.2490761271249\n",
      "Dataset Name:  enron , AUC Score (structure type):  39.16149748925669\n",
      "===========================================================================================\n",
      "Dataset Name:  enron  Best AUC Score(benchmark/combined):  77.72176227084564\n",
      "Dataset Name:  enron  Best AUC Score (contextual):  92.76422764227644\n",
      "Dataset Name:  enron  Best AUC Score (structural):  56.990340318026455\n",
      "Dataset Name:  enron  Best AUC Score (joint-type):  51.2490761271249\n",
      "Dataset Name:  enron  Best AUC Score (structure type):  56.82750669372743\n",
      "===========================================================================================\n",
      "Dataset Name:  enron , AUC Score(benchmark/combined):  48.69677705499705\n",
      "Dataset Name:  enron , AUC Score (contextual):  85.57772850455777\n",
      "Dataset Name:  enron , AUC Score (structural):  38.98449497201169\n",
      "Dataset Name:  enron , AUC Score (joint-type):  50.79822616407982\n",
      "Dataset Name:  enron , AUC Score (structure type):  39.43667876778244\n",
      "===========================================================================================\n",
      "Dataset Name:  enron  Best AUC Score(benchmark/combined):  77.72176227084564\n",
      "Dataset Name:  enron  Best AUC Score (contextual):  92.76422764227644\n",
      "Dataset Name:  enron  Best AUC Score (structural):  56.990340318026455\n",
      "Dataset Name:  enron  Best AUC Score (joint-type):  50.79822616407982\n",
      "Dataset Name:  enron  Best AUC Score (structure type):  56.82750669372743\n",
      "===========================================================================================\n"
     ]
    },
    {
     "name": "stderr",
     "output_type": "stream",
     "text": [
      " 45%|████▌     | 226/500 [00:27<00:30,  9.00it/s]"
     ]
    },
    {
     "name": "stdout",
     "output_type": "stream",
     "text": [
      "Dataset Name:  enron , AUC Score(benchmark/combined):  49.664399763453574\n",
      "Dataset Name:  enron , AUC Score (contextual):  85.53830992855383\n",
      "Dataset Name:  enron , AUC Score (structural):  39.05315301926983\n",
      "Dataset Name:  enron , AUC Score (joint-type):  50.98546440009854\n",
      "Dataset Name:  enron , AUC Score (structure type):  39.50995245309626\n",
      "===========================================================================================\n",
      "Dataset Name:  enron  Best AUC Score(benchmark/combined):  77.72176227084564\n",
      "Dataset Name:  enron  Best AUC Score (contextual):  92.76422764227644\n",
      "Dataset Name:  enron  Best AUC Score (structural):  56.990340318026455\n",
      "Dataset Name:  enron  Best AUC Score (joint-type):  50.98546440009854\n",
      "Dataset Name:  enron  Best AUC Score (structure type):  56.82750669372743\n",
      "===========================================================================================\n",
      "Dataset Name:  enron , AUC Score(benchmark/combined):  48.47131874630396\n",
      "Dataset Name:  enron , AUC Score (contextual):  85.50874599655087\n",
      "Dataset Name:  enron , AUC Score (structural):  38.83325902808738\n",
      "Dataset Name:  enron , AUC Score (joint-type):  51.42153239714216\n",
      "Dataset Name:  enron , AUC Score (structure type):  39.31533411466522\n",
      "===========================================================================================\n",
      "Dataset Name:  enron  Best AUC Score(benchmark/combined):  77.72176227084564\n",
      "Dataset Name:  enron  Best AUC Score (contextual):  92.76422764227644\n",
      "Dataset Name:  enron  Best AUC Score (structural):  56.990340318026455\n",
      "Dataset Name:  enron  Best AUC Score (joint-type):  51.42153239714216\n",
      "Dataset Name:  enron  Best AUC Score (structure type):  56.82750669372743\n",
      "===========================================================================================\n"
     ]
    },
    {
     "name": "stderr",
     "output_type": "stream",
     "text": [
      " 46%|████▌     | 228/500 [00:27<00:29,  9.12it/s]"
     ]
    },
    {
     "name": "stdout",
     "output_type": "stream",
     "text": [
      "Dataset Name:  enron , AUC Score(benchmark/combined):  49.52099349497339\n",
      "Dataset Name:  enron , AUC Score (contextual):  85.40527223454053\n",
      "Dataset Name:  enron , AUC Score (structural):  38.878089859810764\n",
      "Dataset Name:  enron , AUC Score (joint-type):  51.44370534614438\n",
      "Dataset Name:  enron , AUC Score (structure type):  39.35930785429113\n",
      "===========================================================================================\n",
      "Dataset Name:  enron  Best AUC Score(benchmark/combined):  77.72176227084564\n",
      "Dataset Name:  enron  Best AUC Score (contextual):  92.76422764227644\n",
      "Dataset Name:  enron  Best AUC Score (structural):  56.990340318026455\n",
      "Dataset Name:  enron  Best AUC Score (joint-type):  51.44370534614438\n",
      "Dataset Name:  enron  Best AUC Score (structure type):  56.82750669372743\n",
      "===========================================================================================\n",
      "Dataset Name:  enron , AUC Score(benchmark/combined):  48.685688941454764\n",
      "Dataset Name:  enron , AUC Score (contextual):  85.38556294653856\n",
      "Dataset Name:  enron , AUC Score (structural):  39.23297171446971\n",
      "Dataset Name:  enron , AUC Score (joint-type):  49.51219512195122\n",
      "Dataset Name:  enron , AUC Score (structure type):  39.62591353895702\n",
      "===========================================================================================\n",
      "Dataset Name:  enron  Best AUC Score(benchmark/combined):  77.72176227084564\n",
      "Dataset Name:  enron  Best AUC Score (contextual):  92.76422764227644\n",
      "Dataset Name:  enron  Best AUC Score (structural):  56.990340318026455\n",
      "Dataset Name:  enron  Best AUC Score (joint-type):  49.51219512195122\n",
      "Dataset Name:  enron  Best AUC Score (structure type):  56.82750669372743\n",
      "===========================================================================================\n"
     ]
    },
    {
     "name": "stderr",
     "output_type": "stream",
     "text": [
      " 46%|████▌     | 230/500 [00:27<00:29,  9.27it/s]"
     ]
    },
    {
     "name": "stdout",
     "output_type": "stream",
     "text": [
      "Dataset Name:  enron , AUC Score(benchmark/combined):  48.745564754583086\n",
      "Dataset Name:  enron , AUC Score (contextual):  85.37324464153733\n",
      "Dataset Name:  enron , AUC Score (structural):  39.38787338386089\n",
      "Dataset Name:  enron , AUC Score (joint-type):  48.45035723084503\n",
      "Dataset Name:  enron , AUC Score (structure type):  39.73382309502711\n",
      "===========================================================================================\n",
      "Dataset Name:  enron  Best AUC Score(benchmark/combined):  77.72176227084564\n",
      "Dataset Name:  enron  Best AUC Score (contextual):  92.76422764227644\n",
      "Dataset Name:  enron  Best AUC Score (structural):  56.990340318026455\n",
      "Dataset Name:  enron  Best AUC Score (joint-type):  48.45035723084503\n",
      "Dataset Name:  enron  Best AUC Score (structure type):  56.82750669372743\n",
      "===========================================================================================\n",
      "Dataset Name:  enron , AUC Score(benchmark/combined):  49.334713187463045\n",
      "Dataset Name:  enron , AUC Score (contextual):  85.31165311653116\n",
      "Dataset Name:  enron , AUC Score (structural):  39.1651062565017\n",
      "Dataset Name:  enron , AUC Score (joint-type):  50.17738359201774\n",
      "Dataset Name:  enron , AUC Score (structure type):  39.586370522825376\n",
      "===========================================================================================\n",
      "Dataset Name:  enron  Best AUC Score(benchmark/combined):  77.72176227084564\n",
      "Dataset Name:  enron  Best AUC Score (contextual):  92.76422764227644\n",
      "Dataset Name:  enron  Best AUC Score (structural):  56.990340318026455\n",
      "Dataset Name:  enron  Best AUC Score (joint-type):  50.17738359201774\n",
      "Dataset Name:  enron  Best AUC Score (structure type):  56.82750669372743\n",
      "===========================================================================================\n"
     ]
    },
    {
     "name": "stderr",
     "output_type": "stream",
     "text": [
      " 46%|████▋     | 232/500 [00:27<00:28,  9.32it/s]"
     ]
    },
    {
     "name": "stdout",
     "output_type": "stream",
     "text": [
      "Dataset Name:  enron , AUC Score(benchmark/combined):  48.39961561206386\n",
      "Dataset Name:  enron , AUC Score (contextual):  85.27223454052721\n",
      "Dataset Name:  enron , AUC Score (structural):  39.1832367365136\n",
      "Dataset Name:  enron , AUC Score (joint-type):  49.56885932495689\n",
      "Dataset Name:  enron , AUC Score (structure type):  39.58027232274724\n",
      "===========================================================================================\n",
      "Dataset Name:  enron  Best AUC Score(benchmark/combined):  77.72176227084564\n",
      "Dataset Name:  enron  Best AUC Score (contextual):  92.76422764227644\n",
      "Dataset Name:  enron  Best AUC Score (structural):  56.990340318026455\n",
      "Dataset Name:  enron  Best AUC Score (joint-type):  49.56885932495689\n",
      "Dataset Name:  enron  Best AUC Score (structure type):  56.82750669372743\n",
      "===========================================================================================\n",
      "Dataset Name:  enron , AUC Score(benchmark/combined):  48.73004139562389\n",
      "Dataset Name:  enron , AUC Score (contextual):  85.30672579453066\n",
      "Dataset Name:  enron , AUC Score (structural):  39.5585773022242\n",
      "Dataset Name:  enron , AUC Score (joint-type):  47.06577974870657\n",
      "Dataset Name:  enron , AUC Score (structure type):  39.8444482558195\n",
      "===========================================================================================\n",
      "Dataset Name:  enron  Best AUC Score(benchmark/combined):  77.72176227084564\n",
      "Dataset Name:  enron  Best AUC Score (contextual):  92.76422764227644\n",
      "Dataset Name:  enron  Best AUC Score (structural):  56.990340318026455\n",
      "Dataset Name:  enron  Best AUC Score (joint-type):  47.06577974870657\n",
      "Dataset Name:  enron  Best AUC Score (structure type):  56.82750669372743\n",
      "===========================================================================================\n"
     ]
    },
    {
     "name": "stderr",
     "output_type": "stream",
     "text": [
      " 47%|████▋     | 234/500 [00:27<00:28,  9.33it/s]"
     ]
    },
    {
     "name": "stdout",
     "output_type": "stream",
     "text": [
      "Dataset Name:  enron , AUC Score(benchmark/combined):  48.9384979302188\n",
      "Dataset Name:  enron , AUC Score (contextual):  85.31658043853166\n",
      "Dataset Name:  enron , AUC Score (structural):  39.74131867043146\n",
      "Dataset Name:  enron , AUC Score (joint-type):  46.29711751662972\n",
      "Dataset Name:  enron , AUC Score (structure type):  39.99047156237792\n",
      "===========================================================================================\n",
      "Dataset Name:  enron  Best AUC Score(benchmark/combined):  77.72176227084564\n",
      "Dataset Name:  enron  Best AUC Score (contextual):  92.76422764227644\n",
      "Dataset Name:  enron  Best AUC Score (structural):  56.990340318026455\n",
      "Dataset Name:  enron  Best AUC Score (joint-type):  46.29711751662972\n",
      "Dataset Name:  enron  Best AUC Score (structure type):  56.82750669372743\n",
      "===========================================================================================\n",
      "Dataset Name:  enron , AUC Score(benchmark/combined):  48.63837965700768\n",
      "Dataset Name:  enron , AUC Score (contextual):  85.34614437053462\n",
      "Dataset Name:  enron , AUC Score (structural):  39.54074404319611\n",
      "Dataset Name:  enron , AUC Score (joint-type):  47.043606799704364\n",
      "Dataset Name:  enron , AUC Score (structure type):  39.82643950871376\n",
      "===========================================================================================\n",
      "Dataset Name:  enron  Best AUC Score(benchmark/combined):  77.72176227084564\n",
      "Dataset Name:  enron  Best AUC Score (contextual):  92.76422764227644\n",
      "Dataset Name:  enron  Best AUC Score (structural):  56.990340318026455\n",
      "Dataset Name:  enron  Best AUC Score (joint-type):  47.043606799704364\n",
      "Dataset Name:  enron  Best AUC Score (structure type):  56.82750669372743\n",
      "===========================================================================================\n"
     ]
    },
    {
     "name": "stderr",
     "output_type": "stream",
     "text": [
      " 47%|████▋     | 236/500 [00:28<00:28,  9.38it/s]"
     ]
    },
    {
     "name": "stdout",
     "output_type": "stream",
     "text": [
      "Dataset Name:  enron , AUC Score(benchmark/combined):  49.368716735659376\n",
      "Dataset Name:  enron , AUC Score (contextual):  85.31904409953191\n",
      "Dataset Name:  enron , AUC Score (structural):  39.27527616783079\n",
      "Dataset Name:  enron , AUC Score (joint-type):  48.45774821384577\n",
      "Dataset Name:  enron , AUC Score (structure type):  39.6258182545808\n",
      "===========================================================================================\n",
      "Dataset Name:  enron  Best AUC Score(benchmark/combined):  77.72176227084564\n",
      "Dataset Name:  enron  Best AUC Score (contextual):  92.76422764227644\n",
      "Dataset Name:  enron  Best AUC Score (structural):  56.990340318026455\n",
      "Dataset Name:  enron  Best AUC Score (joint-type):  48.45774821384577\n",
      "Dataset Name:  enron  Best AUC Score (structure type):  56.82750669372743\n",
      "===========================================================================================\n",
      "Dataset Name:  enron , AUC Score(benchmark/combined):  48.1734180958013\n",
      "Dataset Name:  enron , AUC Score (contextual):  85.35353535353536\n",
      "Dataset Name:  enron , AUC Score (structural):  39.54292366374399\n",
      "Dataset Name:  enron , AUC Score (joint-type):  47.89480167528948\n",
      "Dataset Name:  enron , AUC Score (structure type):  39.86145651697491\n",
      "===========================================================================================\n",
      "Dataset Name:  enron  Best AUC Score(benchmark/combined):  77.72176227084564\n",
      "Dataset Name:  enron  Best AUC Score (contextual):  92.76422764227644\n",
      "Dataset Name:  enron  Best AUC Score (structural):  56.990340318026455\n",
      "Dataset Name:  enron  Best AUC Score (joint-type):  47.89480167528948\n",
      "Dataset Name:  enron  Best AUC Score (structure type):  56.82750669372743\n",
      "===========================================================================================\n"
     ]
    },
    {
     "name": "stderr",
     "output_type": "stream",
     "text": [
      " 48%|████▊     | 238/500 [00:28<00:28,  9.35it/s]"
     ]
    },
    {
     "name": "stdout",
     "output_type": "stream",
     "text": [
      "Dataset Name:  enron , AUC Score(benchmark/combined):  48.55337078651686\n",
      "Dataset Name:  enron , AUC Score (contextual):  85.29933481152993\n",
      "Dataset Name:  enron , AUC Score (structural):  39.65353940654877\n",
      "Dataset Name:  enron , AUC Score (joint-type):  46.85883222468588\n",
      "Dataset Name:  enron , AUC Score (structure type):  39.92777444282461\n",
      "===========================================================================================\n",
      "Dataset Name:  enron  Best AUC Score(benchmark/combined):  77.72176227084564\n",
      "Dataset Name:  enron  Best AUC Score (contextual):  92.76422764227644\n",
      "Dataset Name:  enron  Best AUC Score (structural):  56.990340318026455\n",
      "Dataset Name:  enron  Best AUC Score (joint-type):  46.85883222468588\n",
      "Dataset Name:  enron  Best AUC Score (structure type):  56.82750669372743\n",
      "===========================================================================================\n",
      "Dataset Name:  enron , AUC Score(benchmark/combined):  48.761088113542286\n",
      "Dataset Name:  enron , AUC Score (contextual):  85.28948016752895\n",
      "Dataset Name:  enron , AUC Score (structural):  39.46287214544014\n",
      "Dataset Name:  enron , AUC Score (joint-type):  46.41290958364128\n",
      "Dataset Name:  enron , AUC Score (structure type):  39.72715318869165\n",
      "===========================================================================================\n",
      "Dataset Name:  enron  Best AUC Score(benchmark/combined):  77.72176227084564\n",
      "Dataset Name:  enron  Best AUC Score (contextual):  92.76422764227644\n",
      "Dataset Name:  enron  Best AUC Score (structural):  56.990340318026455\n",
      "Dataset Name:  enron  Best AUC Score (joint-type):  46.41290958364128\n",
      "Dataset Name:  enron  Best AUC Score (structure type):  56.82750669372743\n",
      "===========================================================================================\n"
     ]
    },
    {
     "name": "stderr",
     "output_type": "stream",
     "text": [
      " 48%|████▊     | 240/500 [00:28<00:28,  9.02it/s]"
     ]
    },
    {
     "name": "stdout",
     "output_type": "stream",
     "text": [
      "Dataset Name:  enron , AUC Score(benchmark/combined):  48.81726788882318\n",
      "Dataset Name:  enron , AUC Score (contextual):  85.28948016752895\n",
      "Dataset Name:  enron , AUC Score (structural):  39.6737999702779\n",
      "Dataset Name:  enron , AUC Score (joint-type):  46.65681202266568\n",
      "Dataset Name:  enron , AUC Score (structure type):  39.93944677891166\n",
      "===========================================================================================\n",
      "Dataset Name:  enron  Best AUC Score(benchmark/combined):  77.72176227084564\n",
      "Dataset Name:  enron  Best AUC Score (contextual):  92.76422764227644\n",
      "Dataset Name:  enron  Best AUC Score (structural):  56.990340318026455\n",
      "Dataset Name:  enron  Best AUC Score (joint-type):  46.65681202266568\n",
      "Dataset Name:  enron  Best AUC Score (structure type):  56.82750669372743\n",
      "===========================================================================================\n",
      "Dataset Name:  enron , AUC Score(benchmark/combined):  48.68125369603785\n",
      "Dataset Name:  enron , AUC Score (contextual):  85.29687115052968\n",
      "Dataset Name:  enron , AUC Score (structural):  39.691979987120426\n",
      "Dataset Name:  enron , AUC Score (joint-type):  46.66173934466617\n",
      "Dataset Name:  enron , AUC Score (structure type):  39.95712203070063\n",
      "===========================================================================================\n",
      "Dataset Name:  enron  Best AUC Score(benchmark/combined):  77.72176227084564\n",
      "Dataset Name:  enron  Best AUC Score (contextual):  92.76422764227644\n",
      "Dataset Name:  enron  Best AUC Score (structural):  56.990340318026455\n",
      "Dataset Name:  enron  Best AUC Score (joint-type):  46.66173934466617\n",
      "Dataset Name:  enron  Best AUC Score (structure type):  56.82750669372743\n",
      "===========================================================================================\n"
     ]
    },
    {
     "name": "stderr",
     "output_type": "stream",
     "text": [
      " 48%|████▊     | 242/500 [00:28<00:29,  8.85it/s]"
     ]
    },
    {
     "name": "stdout",
     "output_type": "stream",
     "text": [
      "Dataset Name:  enron , AUC Score(benchmark/combined):  48.25325251330574\n",
      "Dataset Name:  enron , AUC Score (contextual):  85.17861542251785\n",
      "Dataset Name:  enron , AUC Score (structural):  39.519294595531775\n",
      "Dataset Name:  enron , AUC Score (joint-type):  47.13722591771372\n",
      "Dataset Name:  enron , AUC Score (structure type):  39.809431247558344\n",
      "===========================================================================================\n",
      "Dataset Name:  enron  Best AUC Score(benchmark/combined):  77.72176227084564\n",
      "Dataset Name:  enron  Best AUC Score (contextual):  92.76422764227644\n",
      "Dataset Name:  enron  Best AUC Score (structural):  56.990340318026455\n",
      "Dataset Name:  enron  Best AUC Score (joint-type):  47.13722591771372\n",
      "Dataset Name:  enron  Best AUC Score (structure type):  56.82750669372743\n",
      "===========================================================================================\n",
      "Dataset Name:  enron , AUC Score(benchmark/combined):  48.14828503843879\n",
      "Dataset Name:  enron , AUC Score (contextual):  85.05543237250555\n",
      "Dataset Name:  enron , AUC Score (structural):  39.6537375538713\n",
      "Dataset Name:  enron , AUC Score (joint-type):  46.90317812269031\n",
      "Dataset Name:  enron , AUC Score (structure type):  39.92968013034903\n",
      "===========================================================================================\n",
      "Dataset Name:  enron  Best AUC Score(benchmark/combined):  77.72176227084564\n",
      "Dataset Name:  enron  Best AUC Score (contextual):  92.76422764227644\n",
      "Dataset Name:  enron  Best AUC Score (structural):  56.990340318026455\n",
      "Dataset Name:  enron  Best AUC Score (joint-type):  46.90317812269031\n",
      "Dataset Name:  enron  Best AUC Score (structure type):  56.82750669372743\n",
      "===========================================================================================\n"
     ]
    },
    {
     "name": "stderr",
     "output_type": "stream",
     "text": [
      " 49%|████▉     | 244/500 [00:28<00:29,  8.80it/s]"
     ]
    },
    {
     "name": "stdout",
     "output_type": "stream",
     "text": [
      "Dataset Name:  enron , AUC Score(benchmark/combined):  48.39444115907747\n",
      "Dataset Name:  enron , AUC Score (contextual):  84.98152254249815\n",
      "Dataset Name:  enron , AUC Score (structural):  39.740674691633224\n",
      "Dataset Name:  enron , AUC Score (joint-type):  46.55826558265582\n",
      "Dataset Name:  enron , AUC Score (structure type):  39.99995235781189\n",
      "===========================================================================================\n",
      "Dataset Name:  enron  Best AUC Score(benchmark/combined):  77.72176227084564\n",
      "Dataset Name:  enron  Best AUC Score (contextual):  92.76422764227644\n",
      "Dataset Name:  enron  Best AUC Score (structural):  56.990340318026455\n",
      "Dataset Name:  enron  Best AUC Score (joint-type):  46.55826558265582\n",
      "Dataset Name:  enron  Best AUC Score (structure type):  56.82750669372743\n",
      "===========================================================================================\n",
      "Dataset Name:  enron , AUC Score(benchmark/combined):  48.34861028976937\n",
      "Dataset Name:  enron , AUC Score (contextual):  84.95688593249568\n",
      "Dataset Name:  enron , AUC Score (structural):  39.51825432208847\n",
      "Dataset Name:  enron , AUC Score (joint-type):  46.651884700665185\n",
      "Dataset Name:  enron , AUC Score (structure type):  39.789659739492514\n",
      "===========================================================================================\n",
      "Dataset Name:  enron  Best AUC Score(benchmark/combined):  77.72176227084564\n",
      "Dataset Name:  enron  Best AUC Score (contextual):  92.76422764227644\n",
      "Dataset Name:  enron  Best AUC Score (structural):  56.990340318026455\n",
      "Dataset Name:  enron  Best AUC Score (joint-type):  46.651884700665185\n",
      "Dataset Name:  enron  Best AUC Score (structure type):  56.82750669372743\n",
      "===========================================================================================\n"
     ]
    },
    {
     "name": "stderr",
     "output_type": "stream",
     "text": [
      " 49%|████▉     | 246/500 [00:29<00:28,  8.78it/s]"
     ]
    },
    {
     "name": "stdout",
     "output_type": "stream",
     "text": [
      "Dataset Name:  enron , AUC Score(benchmark/combined):  48.268036664695444\n",
      "Dataset Name:  enron , AUC Score (contextual):  84.98152254249815\n",
      "Dataset Name:  enron , AUC Score (structural):  39.2161291920543\n",
      "Dataset Name:  enron , AUC Score (joint-type):  47.028824833702885\n",
      "Dataset Name:  enron , AUC Score (structure type):  39.51366854376887\n",
      "===========================================================================================\n",
      "Dataset Name:  enron  Best AUC Score(benchmark/combined):  77.72176227084564\n",
      "Dataset Name:  enron  Best AUC Score (contextual):  92.76422764227644\n",
      "Dataset Name:  enron  Best AUC Score (structural):  56.990340318026455\n",
      "Dataset Name:  enron  Best AUC Score (joint-type):  47.028824833702885\n",
      "Dataset Name:  enron  Best AUC Score (structure type):  56.82750669372743\n",
      "===========================================================================================\n",
      "Dataset Name:  enron , AUC Score(benchmark/combined):  48.38039621525724\n",
      "Dataset Name:  enron , AUC Score (contextual):  84.92485833949249\n",
      "Dataset Name:  enron , AUC Score (structural):  39.14038737801556\n",
      "Dataset Name:  enron , AUC Score (joint-type):  47.16678984971667\n",
      "Dataset Name:  enron , AUC Score (structure type):  39.44615956321642\n",
      "===========================================================================================\n",
      "Dataset Name:  enron  Best AUC Score(benchmark/combined):  77.72176227084564\n",
      "Dataset Name:  enron  Best AUC Score (contextual):  92.76422764227644\n",
      "Dataset Name:  enron  Best AUC Score (structural):  56.990340318026455\n",
      "Dataset Name:  enron  Best AUC Score (joint-type):  47.16678984971667\n",
      "Dataset Name:  enron  Best AUC Score (structure type):  56.82750669372743\n",
      "===========================================================================================\n"
     ]
    },
    {
     "name": "stderr",
     "output_type": "stream",
     "text": [
      " 50%|████▉     | 248/500 [00:29<00:28,  8.76it/s]"
     ]
    },
    {
     "name": "stdout",
     "output_type": "stream",
     "text": [
      "Dataset Name:  enron , AUC Score(benchmark/combined):  48.32052040212892\n",
      "Dataset Name:  enron , AUC Score (contextual):  84.95934959349594\n",
      "Dataset Name:  enron , AUC Score (structural):  39.33680091147769\n",
      "Dataset Name:  enron , AUC Score (joint-type):  46.240453313624045\n",
      "Dataset Name:  enron , AUC Score (structure type):  39.59923391361519\n",
      "===========================================================================================\n",
      "Dataset Name:  enron  Best AUC Score(benchmark/combined):  77.72176227084564\n",
      "Dataset Name:  enron  Best AUC Score (contextual):  92.76422764227644\n",
      "Dataset Name:  enron  Best AUC Score (structural):  56.990340318026455\n",
      "Dataset Name:  enron  Best AUC Score (joint-type):  46.240453313624045\n",
      "Dataset Name:  enron  Best AUC Score (structure type):  56.82750669372743\n",
      "===========================================================================================\n",
      "Dataset Name:  enron , AUC Score(benchmark/combined):  48.76552335895919\n",
      "Dataset Name:  enron , AUC Score (contextual):  85.00862281350085\n",
      "Dataset Name:  enron , AUC Score (structural):  39.318224599990096\n",
      "Dataset Name:  enron , AUC Score (joint-type):  46.16161616161615\n",
      "Dataset Name:  enron , AUC Score (structure type):  39.57831899303471\n",
      "===========================================================================================\n",
      "Dataset Name:  enron  Best AUC Score(benchmark/combined):  77.72176227084564\n",
      "Dataset Name:  enron  Best AUC Score (contextual):  92.76422764227644\n",
      "Dataset Name:  enron  Best AUC Score (structural):  56.990340318026455\n",
      "Dataset Name:  enron  Best AUC Score (joint-type):  46.16161616161615\n",
      "Dataset Name:  enron  Best AUC Score (structure type):  56.82750669372743\n",
      "===========================================================================================\n"
     ]
    },
    {
     "name": "stderr",
     "output_type": "stream",
     "text": [
      " 50%|█████     | 250/500 [00:29<00:28,  8.73it/s]"
     ]
    },
    {
     "name": "stdout",
     "output_type": "stream",
     "text": [
      "Dataset Name:  enron , AUC Score(benchmark/combined):  48.28873447664105\n",
      "Dataset Name:  enron , AUC Score (contextual):  85.00123183050012\n",
      "Dataset Name:  enron , AUC Score (structural):  39.134096200525086\n",
      "Dataset Name:  enron , AUC Score (joint-type):  46.853904902685386\n",
      "Dataset Name:  enron , AUC Score (structure type):  39.42800788954634\n",
      "===========================================================================================\n",
      "Dataset Name:  enron  Best AUC Score(benchmark/combined):  77.72176227084564\n",
      "Dataset Name:  enron  Best AUC Score (contextual):  92.76422764227644\n",
      "Dataset Name:  enron  Best AUC Score (structural):  56.990340318026455\n",
      "Dataset Name:  enron  Best AUC Score (joint-type):  46.853904902685386\n",
      "Dataset Name:  enron  Best AUC Score (structure type):  56.82750669372743\n",
      "===========================================================================================\n",
      "Dataset Name:  enron , AUC Score(benchmark/combined):  49.356150206978114\n",
      "Dataset Name:  enron , AUC Score (contextual):  85.01355013550136\n",
      "Dataset Name:  enron , AUC Score (structural):  39.28216178728885\n",
      "Dataset Name:  enron , AUC Score (joint-type):  46.69376693766937\n",
      "Dataset Name:  enron , AUC Score (structure type):  39.56421690535403\n",
      "===========================================================================================\n",
      "Dataset Name:  enron  Best AUC Score(benchmark/combined):  77.72176227084564\n",
      "Dataset Name:  enron  Best AUC Score (contextual):  92.76422764227644\n",
      "Dataset Name:  enron  Best AUC Score (structural):  56.990340318026455\n",
      "Dataset Name:  enron  Best AUC Score (joint-type):  46.69376693766937\n",
      "Dataset Name:  enron  Best AUC Score (structure type):  56.82750669372743\n",
      "===========================================================================================\n"
     ]
    },
    {
     "name": "stderr",
     "output_type": "stream",
     "text": [
      " 50%|█████     | 252/500 [00:29<00:28,  8.74it/s]"
     ]
    },
    {
     "name": "stdout",
     "output_type": "stream",
     "text": [
      "Dataset Name:  enron , AUC Score(benchmark/combined):  48.85053222945003\n",
      "Dataset Name:  enron , AUC Score (contextual):  85.01847745750185\n",
      "Dataset Name:  enron , AUC Score (structural):  39.415614009015705\n",
      "Dataset Name:  enron , AUC Score (joint-type):  45.70091155457009\n",
      "Dataset Name:  enron , AUC Score (structure type):  39.654165356506496\n",
      "===========================================================================================\n",
      "Dataset Name:  enron  Best AUC Score(benchmark/combined):  77.72176227084564\n",
      "Dataset Name:  enron  Best AUC Score (contextual):  92.76422764227644\n",
      "Dataset Name:  enron  Best AUC Score (structural):  56.990340318026455\n",
      "Dataset Name:  enron  Best AUC Score (joint-type):  45.70091155457009\n",
      "Dataset Name:  enron  Best AUC Score (structure type):  56.82750669372743\n",
      "===========================================================================================\n",
      "Dataset Name:  enron , AUC Score(benchmark/combined):  48.72117090479006\n",
      "Dataset Name:  enron , AUC Score (contextual):  84.94456762749445\n",
      "Dataset Name:  enron , AUC Score (structural):  39.19027096646357\n",
      "Dataset Name:  enron , AUC Score (joint-type):  46.060606060606055\n",
      "Dataset Name:  enron , AUC Score (structure type):  39.451352561720455\n",
      "===========================================================================================\n",
      "Dataset Name:  enron  Best AUC Score(benchmark/combined):  77.72176227084564\n",
      "Dataset Name:  enron  Best AUC Score (contextual):  92.76422764227644\n",
      "Dataset Name:  enron  Best AUC Score (structural):  56.990340318026455\n",
      "Dataset Name:  enron  Best AUC Score (joint-type):  46.060606060606055\n",
      "Dataset Name:  enron  Best AUC Score (structure type):  56.82750669372743\n",
      "===========================================================================================\n"
     ]
    },
    {
     "name": "stderr",
     "output_type": "stream",
     "text": [
      " 51%|█████     | 254/500 [00:30<00:28,  8.74it/s]"
     ]
    },
    {
     "name": "stdout",
     "output_type": "stream",
     "text": [
      "Dataset Name:  enron , AUC Score(benchmark/combined):  48.659816676522766\n",
      "Dataset Name:  enron , AUC Score (contextual):  84.79058881497906\n",
      "Dataset Name:  enron , AUC Score (structural):  38.957002031010056\n",
      "Dataset Name:  enron , AUC Score (joint-type):  47.2850455777285\n",
      "Dataset Name:  enron , AUC Score (structure type):  39.27436183289026\n",
      "===========================================================================================\n",
      "Dataset Name:  enron  Best AUC Score(benchmark/combined):  77.72176227084564\n",
      "Dataset Name:  enron  Best AUC Score (contextual):  92.76422764227644\n",
      "Dataset Name:  enron  Best AUC Score (structural):  56.990340318026455\n",
      "Dataset Name:  enron  Best AUC Score (joint-type):  47.2850455777285\n",
      "Dataset Name:  enron  Best AUC Score (structure type):  56.82750669372743\n",
      "===========================================================================================\n",
      "Dataset Name:  enron , AUC Score(benchmark/combined):  48.75221762270846\n",
      "Dataset Name:  enron , AUC Score (contextual):  84.85341217048534\n",
      "Dataset Name:  enron , AUC Score (structural):  38.87184821915094\n",
      "Dataset Name:  enron , AUC Score (joint-type):  47.02389751170239\n",
      "Dataset Name:  enron , AUC Score (structure type):  39.18236476764905\n",
      "===========================================================================================\n",
      "Dataset Name:  enron  Best AUC Score(benchmark/combined):  77.72176227084564\n",
      "Dataset Name:  enron  Best AUC Score (contextual):  92.76422764227644\n",
      "Dataset Name:  enron  Best AUC Score (structural):  56.990340318026455\n",
      "Dataset Name:  enron  Best AUC Score (joint-type):  47.02389751170239\n",
      "Dataset Name:  enron  Best AUC Score (structure type):  56.82750669372743\n",
      "===========================================================================================\n"
     ]
    },
    {
     "name": "stderr",
     "output_type": "stream",
     "text": [
      " 51%|█████     | 256/500 [00:30<00:27,  8.76it/s]"
     ]
    },
    {
     "name": "stdout",
     "output_type": "stream",
     "text": [
      "Dataset Name:  enron , AUC Score(benchmark/combined):  47.78015966883501\n",
      "Dataset Name:  enron , AUC Score (contextual):  84.57255481645726\n",
      "Dataset Name:  enron , AUC Score (structural):  38.754445930549366\n",
      "Dataset Name:  enron , AUC Score (joint-type):  51.815718157181564\n",
      "Dataset Name:  enron , AUC Score (structure type):  39.25478089357688\n",
      "===========================================================================================\n",
      "Dataset Name:  enron  Best AUC Score(benchmark/combined):  77.72176227084564\n",
      "Dataset Name:  enron  Best AUC Score (contextual):  92.76422764227644\n",
      "Dataset Name:  enron  Best AUC Score (structural):  56.990340318026455\n",
      "Dataset Name:  enron  Best AUC Score (joint-type):  51.815718157181564\n",
      "Dataset Name:  enron  Best AUC Score (structure type):  56.82750669372743\n",
      "===========================================================================================\n",
      "Dataset Name:  enron , AUC Score(benchmark/combined):  48.076581904198704\n",
      "Dataset Name:  enron , AUC Score (contextual):  84.43458980044345\n",
      "Dataset Name:  enron , AUC Score (structural):  38.93718729875662\n",
      "Dataset Name:  enron , AUC Score (joint-type):  48.76816949987681\n",
      "Dataset Name:  enron , AUC Score (structure type):  39.31266615213104\n",
      "===========================================================================================\n",
      "Dataset Name:  enron  Best AUC Score(benchmark/combined):  77.72176227084564\n",
      "Dataset Name:  enron  Best AUC Score (contextual):  92.76422764227644\n",
      "Dataset Name:  enron  Best AUC Score (structural):  56.990340318026455\n",
      "Dataset Name:  enron  Best AUC Score (joint-type):  48.76816949987681\n",
      "Dataset Name:  enron  Best AUC Score (structure type):  56.82750669372743\n",
      "===========================================================================================\n"
     ]
    },
    {
     "name": "stderr",
     "output_type": "stream",
     "text": [
      " 52%|█████▏    | 258/500 [00:30<00:27,  8.69it/s]"
     ]
    },
    {
     "name": "stdout",
     "output_type": "stream",
     "text": [
      "Dataset Name:  enron , AUC Score(benchmark/combined):  49.33397397989355\n",
      "Dataset Name:  enron , AUC Score (contextual):  84.54545454545455\n",
      "Dataset Name:  enron , AUC Score (structural):  39.15227621736762\n",
      "Dataset Name:  enron , AUC Score (joint-type):  46.4350825326435\n",
      "Dataset Name:  enron , AUC Score (structure type):  39.42929422862533\n",
      "===========================================================================================\n",
      "Dataset Name:  enron  Best AUC Score(benchmark/combined):  77.72176227084564\n",
      "Dataset Name:  enron  Best AUC Score (contextual):  92.76422764227644\n",
      "Dataset Name:  enron  Best AUC Score (structural):  56.990340318026455\n",
      "Dataset Name:  enron  Best AUC Score (joint-type):  46.4350825326435\n",
      "Dataset Name:  enron  Best AUC Score (structure type):  56.82750669372743\n",
      "===========================================================================================\n",
      "Dataset Name:  enron , AUC Score(benchmark/combined):  48.686428149024245\n",
      "Dataset Name:  enron , AUC Score (contextual):  84.74501108647449\n",
      "Dataset Name:  enron , AUC Score (structural):  39.10343290236291\n",
      "Dataset Name:  enron , AUC Score (joint-type):  45.93988667159399\n",
      "Dataset Name:  enron , AUC Score (structure type):  39.36316687152808\n",
      "===========================================================================================\n",
      "Dataset Name:  enron  Best AUC Score(benchmark/combined):  77.72176227084564\n",
      "Dataset Name:  enron  Best AUC Score (contextual):  92.76422764227644\n",
      "Dataset Name:  enron  Best AUC Score (structural):  56.990340318026455\n",
      "Dataset Name:  enron  Best AUC Score (joint-type):  45.93988667159399\n",
      "Dataset Name:  enron  Best AUC Score (structure type):  56.82750669372743\n",
      "===========================================================================================\n"
     ]
    },
    {
     "name": "stderr",
     "output_type": "stream",
     "text": [
      " 52%|█████▏    | 260/500 [00:30<00:27,  8.81it/s]"
     ]
    },
    {
     "name": "stdout",
     "output_type": "stream",
     "text": [
      "Dataset Name:  enron , AUC Score(benchmark/combined):  48.68642814902425\n",
      "Dataset Name:  enron , AUC Score (contextual):  84.93717664449372\n",
      "Dataset Name:  enron , AUC Score (structural):  38.66958933967405\n",
      "Dataset Name:  enron , AUC Score (joint-type):  46.775067750677515\n",
      "Dataset Name:  enron , AUC Score (structure type):  38.97821799159592\n",
      "===========================================================================================\n",
      "Dataset Name:  enron  Best AUC Score(benchmark/combined):  77.72176227084564\n",
      "Dataset Name:  enron  Best AUC Score (contextual):  92.76422764227644\n",
      "Dataset Name:  enron  Best AUC Score (structural):  56.990340318026455\n",
      "Dataset Name:  enron  Best AUC Score (joint-type):  46.775067750677515\n",
      "Dataset Name:  enron  Best AUC Score (structure type):  56.82750669372743\n",
      "===========================================================================================\n",
      "Dataset Name:  enron , AUC Score(benchmark/combined):  49.917208752217626\n",
      "Dataset Name:  enron , AUC Score (contextual):  84.96427691549643\n",
      "Dataset Name:  enron , AUC Score (structural):  38.374746123743\n",
      "Dataset Name:  enron , AUC Score (joint-type):  47.94777038679477\n",
      "Dataset Name:  enron , AUC Score (structure type):  38.74000705104383\n",
      "===========================================================================================\n",
      "Dataset Name:  enron  Best AUC Score(benchmark/combined):  77.72176227084564\n",
      "Dataset Name:  enron  Best AUC Score (contextual):  92.76422764227644\n",
      "Dataset Name:  enron  Best AUC Score (structural):  56.990340318026455\n",
      "Dataset Name:  enron  Best AUC Score (joint-type):  47.94777038679477\n",
      "Dataset Name:  enron  Best AUC Score (structure type):  56.82750669372743\n",
      "===========================================================================================\n"
     ]
    },
    {
     "name": "stderr",
     "output_type": "stream",
     "text": [
      " 52%|█████▏    | 262/500 [00:31<00:27,  8.79it/s]"
     ]
    },
    {
     "name": "stdout",
     "output_type": "stream",
     "text": [
      "Dataset Name:  enron , AUC Score(benchmark/combined):  49.01611472501478\n",
      "Dataset Name:  enron , AUC Score (contextual):  84.91500369549149\n",
      "Dataset Name:  enron , AUC Score (structural):  38.37335909248526\n",
      "Dataset Name:  enron , AUC Score (joint-type):  48.03153486080315\n",
      "Dataset Name:  enron , AUC Score (structure type):  38.74191273856826\n",
      "===========================================================================================\n",
      "Dataset Name:  enron  Best AUC Score(benchmark/combined):  77.72176227084564\n",
      "Dataset Name:  enron  Best AUC Score (contextual):  92.76422764227644\n",
      "Dataset Name:  enron  Best AUC Score (structural):  56.990340318026455\n",
      "Dataset Name:  enron  Best AUC Score (joint-type):  48.03153486080315\n",
      "Dataset Name:  enron  Best AUC Score (structure type):  56.82750669372743\n",
      "===========================================================================================\n",
      "Dataset Name:  enron , AUC Score(benchmark/combined):  49.37684801892372\n",
      "Dataset Name:  enron , AUC Score (contextual):  84.8731214584873\n",
      "Dataset Name:  enron , AUC Score (structural):  38.547728736315456\n",
      "Dataset Name:  enron , AUC Score (joint-type):  46.83912293668391\n",
      "Dataset Name:  enron , AUC Score (structure type):  38.86349560262604\n",
      "===========================================================================================\n",
      "Dataset Name:  enron  Best AUC Score(benchmark/combined):  77.72176227084564\n",
      "Dataset Name:  enron  Best AUC Score (contextual):  92.76422764227644\n",
      "Dataset Name:  enron  Best AUC Score (structural):  56.990340318026455\n",
      "Dataset Name:  enron  Best AUC Score (joint-type):  46.83912293668391\n",
      "Dataset Name:  enron  Best AUC Score (structure type):  56.82750669372743\n",
      "===========================================================================================\n"
     ]
    },
    {
     "name": "stderr",
     "output_type": "stream",
     "text": [
      " 53%|█████▎    | 264/500 [00:31<00:26,  8.81it/s]"
     ]
    },
    {
     "name": "stdout",
     "output_type": "stream",
     "text": [
      "Dataset Name:  enron , AUC Score(benchmark/combined):  49.4795978710822\n",
      "Dataset Name:  enron , AUC Score (contextual):  84.86326681448632\n",
      "Dataset Name:  enron , AUC Score (structural):  38.639966314955174\n",
      "Dataset Name:  enron , AUC Score (joint-type):  46.32668144863267\n",
      "Dataset Name:  enron , AUC Score (structure type):  38.9323862066337\n",
      "===========================================================================================\n",
      "Dataset Name:  enron  Best AUC Score(benchmark/combined):  77.72176227084564\n",
      "Dataset Name:  enron  Best AUC Score (contextual):  92.76422764227644\n",
      "Dataset Name:  enron  Best AUC Score (structural):  56.990340318026455\n",
      "Dataset Name:  enron  Best AUC Score (joint-type):  46.32668144863267\n",
      "Dataset Name:  enron  Best AUC Score (structure type):  56.82750669372743\n",
      "===========================================================================================\n",
      "Dataset Name:  enron , AUC Score(benchmark/combined):  49.99778237729154\n",
      "Dataset Name:  enron , AUC Score (contextual):  84.8509485094851\n",
      "Dataset Name:  enron , AUC Score (structural):  38.439589835042355\n",
      "Dataset Name:  enron , AUC Score (joint-type):  47.26410445922641\n",
      "Dataset Name:  enron , AUC Score (structure type):  38.775929260879096\n",
      "===========================================================================================\n",
      "Dataset Name:  enron  Best AUC Score(benchmark/combined):  77.72176227084564\n",
      "Dataset Name:  enron  Best AUC Score (contextual):  92.76422764227644\n",
      "Dataset Name:  enron  Best AUC Score (structural):  56.990340318026455\n",
      "Dataset Name:  enron  Best AUC Score (joint-type):  47.26410445922641\n",
      "Dataset Name:  enron  Best AUC Score (structure type):  56.82750669372743\n",
      "===========================================================================================\n"
     ]
    },
    {
     "name": "stderr",
     "output_type": "stream",
     "text": [
      " 53%|█████▎    | 266/500 [00:31<00:26,  8.78it/s]"
     ]
    },
    {
     "name": "stdout",
     "output_type": "stream",
     "text": [
      "Dataset Name:  enron , AUC Score(benchmark/combined):  49.943081017149616\n",
      "Dataset Name:  enron , AUC Score (contextual):  84.79182064547919\n",
      "Dataset Name:  enron , AUC Score (structural):  38.59746371427156\n",
      "Dataset Name:  enron , AUC Score (joint-type):  48.13747228381374\n",
      "Dataset Name:  enron , AUC Score (structure type):  38.961543225757275\n",
      "===========================================================================================\n",
      "Dataset Name:  enron  Best AUC Score(benchmark/combined):  77.72176227084564\n",
      "Dataset Name:  enron  Best AUC Score (contextual):  92.76422764227644\n",
      "Dataset Name:  enron  Best AUC Score (structural):  56.990340318026455\n",
      "Dataset Name:  enron  Best AUC Score (joint-type):  48.13747228381374\n",
      "Dataset Name:  enron  Best AUC Score (structure type):  56.82750669372743\n",
      "===========================================================================================\n",
      "Dataset Name:  enron , AUC Score(benchmark/combined):  48.54967474866943\n",
      "Dataset Name:  enron , AUC Score (contextual):  84.62182803646219\n",
      "Dataset Name:  enron , AUC Score (structural):  39.17332937038688\n",
      "Dataset Name:  enron , AUC Score (joint-type):  47.822123675782215\n",
      "Dataset Name:  enron , AUC Score (structure type):  39.503187262384586\n",
      "===========================================================================================\n",
      "Dataset Name:  enron  Best AUC Score(benchmark/combined):  77.72176227084564\n",
      "Dataset Name:  enron  Best AUC Score (contextual):  92.76422764227644\n",
      "Dataset Name:  enron  Best AUC Score (structural):  56.990340318026455\n",
      "Dataset Name:  enron  Best AUC Score (joint-type):  47.822123675782215\n",
      "Dataset Name:  enron  Best AUC Score (structure type):  56.82750669372743\n",
      "===========================================================================================\n"
     ]
    },
    {
     "name": "stderr",
     "output_type": "stream",
     "text": [
      " 54%|█████▎    | 268/500 [00:31<00:26,  8.79it/s]"
     ]
    },
    {
     "name": "stdout",
     "output_type": "stream",
     "text": [
      "Dataset Name:  enron , AUC Score(benchmark/combined):  49.806327616794796\n",
      "Dataset Name:  enron , AUC Score (contextual):  84.38038925843804\n",
      "Dataset Name:  enron , AUC Score (structural):  39.529796403626094\n",
      "Dataset Name:  enron , AUC Score (joint-type):  46.95491500369548\n",
      "Dataset Name:  enron , AUC Score (structure type):  39.812480347597415\n",
      "===========================================================================================\n",
      "Dataset Name:  enron  Best AUC Score(benchmark/combined):  77.72176227084564\n",
      "Dataset Name:  enron  Best AUC Score (contextual):  92.76422764227644\n",
      "Dataset Name:  enron  Best AUC Score (structural):  56.990340318026455\n",
      "Dataset Name:  enron  Best AUC Score (joint-type):  46.95491500369548\n",
      "Dataset Name:  enron  Best AUC Score (structure type):  56.82750669372743\n",
      "===========================================================================================\n",
      "Dataset Name:  enron , AUC Score(benchmark/combined):  48.9384979302188\n",
      "Dataset Name:  enron , AUC Score (contextual):  84.40256220744025\n",
      "Dataset Name:  enron , AUC Score (structural):  39.750284836776146\n",
      "Dataset Name:  enron , AUC Score (joint-type):  46.405518600640555\n",
      "Dataset Name:  enron , AUC Score (structure type):  40.003287310979616\n",
      "===========================================================================================\n",
      "Dataset Name:  enron  Best AUC Score(benchmark/combined):  77.72176227084564\n",
      "Dataset Name:  enron  Best AUC Score (contextual):  92.76422764227644\n",
      "Dataset Name:  enron  Best AUC Score (structural):  56.990340318026455\n",
      "Dataset Name:  enron  Best AUC Score (joint-type):  46.405518600640555\n",
      "Dataset Name:  enron  Best AUC Score (structure type):  56.82750669372743\n",
      "===========================================================================================\n"
     ]
    },
    {
     "name": "stderr",
     "output_type": "stream",
     "text": [
      " 54%|█████▍    | 270/500 [00:31<00:26,  8.77it/s]"
     ]
    },
    {
     "name": "stdout",
     "output_type": "stream",
     "text": [
      "Dataset Name:  enron , AUC Score(benchmark/combined):  48.848314606741575\n",
      "Dataset Name:  enron , AUC Score (contextual):  84.64153732446415\n",
      "Dataset Name:  enron , AUC Score (structural):  39.616981225541195\n",
      "Dataset Name:  enron , AUC Score (joint-type):  46.499137718649905\n",
      "Dataset Name:  enron , AUC Score (structure type):  39.87870298907088\n",
      "===========================================================================================\n",
      "Dataset Name:  enron  Best AUC Score(benchmark/combined):  77.72176227084564\n",
      "Dataset Name:  enron  Best AUC Score (contextual):  92.76422764227644\n",
      "Dataset Name:  enron  Best AUC Score (structural):  56.990340318026455\n",
      "Dataset Name:  enron  Best AUC Score (joint-type):  46.499137718649905\n",
      "Dataset Name:  enron  Best AUC Score (structure type):  56.82750669372743\n",
      "===========================================================================================\n",
      "Dataset Name:  enron , AUC Score(benchmark/combined):  48.69677705499704\n",
      "Dataset Name:  enron , AUC Score (contextual):  84.84109386548411\n",
      "Dataset Name:  enron , AUC Score (structural):  39.160697478575315\n",
      "Dataset Name:  enron , AUC Score (joint-type):  47.16925351071692\n",
      "Dataset Name:  enron , AUC Score (structure type):  39.465788144717905\n",
      "===========================================================================================\n",
      "Dataset Name:  enron  Best AUC Score(benchmark/combined):  77.72176227084564\n",
      "Dataset Name:  enron  Best AUC Score (contextual):  92.76422764227644\n",
      "Dataset Name:  enron  Best AUC Score (structural):  56.990340318026455\n",
      "Dataset Name:  enron  Best AUC Score (joint-type):  47.16925351071692\n",
      "Dataset Name:  enron  Best AUC Score (structure type):  56.82750669372743\n",
      "===========================================================================================\n"
     ]
    },
    {
     "name": "stderr",
     "output_type": "stream",
     "text": [
      " 54%|█████▍    | 272/500 [00:32<00:26,  8.72it/s]"
     ]
    },
    {
     "name": "stdout",
     "output_type": "stream",
     "text": [
      "Dataset Name:  enron , AUC Score(benchmark/combined):  48.81061502069781\n",
      "Dataset Name:  enron , AUC Score (contextual):  84.87558511948757\n",
      "Dataset Name:  enron , AUC Score (structural):  38.680041610937735\n",
      "Dataset Name:  enron , AUC Score (joint-type):  47.56590293175659\n",
      "Dataset Name:  enron , AUC Score (structure type):  39.0188567780541\n",
      "===========================================================================================\n",
      "Dataset Name:  enron  Best AUC Score(benchmark/combined):  77.72176227084564\n",
      "Dataset Name:  enron  Best AUC Score (contextual):  92.76422764227644\n",
      "Dataset Name:  enron  Best AUC Score (structural):  56.990340318026455\n",
      "Dataset Name:  enron  Best AUC Score (joint-type):  47.56590293175659\n",
      "Dataset Name:  enron  Best AUC Score (structure type):  56.82750669372743\n",
      "===========================================================================================\n",
      "Dataset Name:  enron , AUC Score(benchmark/combined):  48.57332939089296\n",
      "Dataset Name:  enron , AUC Score (contextual):  84.78442966247843\n",
      "Dataset Name:  enron , AUC Score (structural):  38.70282855302918\n",
      "Dataset Name:  enron , AUC Score (joint-type):  46.79231337767923\n",
      "Dataset Name:  enron , AUC Score (structure type):  39.01085289045155\n",
      "===========================================================================================\n",
      "Dataset Name:  enron  Best AUC Score(benchmark/combined):  77.72176227084564\n",
      "Dataset Name:  enron  Best AUC Score (contextual):  92.76422764227644\n",
      "Dataset Name:  enron  Best AUC Score (structural):  56.990340318026455\n",
      "Dataset Name:  enron  Best AUC Score (joint-type):  46.79231337767923\n",
      "Dataset Name:  enron  Best AUC Score (structure type):  56.82750669372743\n",
      "===========================================================================================\n"
     ]
    },
    {
     "name": "stderr",
     "output_type": "stream",
     "text": [
      " 55%|█████▍    | 274/500 [00:32<00:26,  8.69it/s]"
     ]
    },
    {
     "name": "stdout",
     "output_type": "stream",
     "text": [
      "Dataset Name:  enron , AUC Score(benchmark/combined):  49.987433471318745\n",
      "Dataset Name:  enron , AUC Score (contextual):  84.42966247844296\n",
      "Dataset Name:  enron , AUC Score (structural):  38.754594541041264\n",
      "Dataset Name:  enron , AUC Score (joint-type):  46.66420300566642\n",
      "Dataset Name:  enron , AUC Score (structure type):  39.05568418946345\n",
      "===========================================================================================\n",
      "Dataset Name:  enron  Best AUC Score(benchmark/combined):  77.72176227084564\n",
      "Dataset Name:  enron  Best AUC Score (contextual):  92.76422764227644\n",
      "Dataset Name:  enron  Best AUC Score (structural):  56.990340318026455\n",
      "Dataset Name:  enron  Best AUC Score (joint-type):  46.66420300566642\n",
      "Dataset Name:  enron  Best AUC Score (structure type):  56.82750669372743\n",
      "===========================================================================================\n",
      "Dataset Name:  enron , AUC Score(benchmark/combined):  48.93184506209343\n",
      "Dataset Name:  enron , AUC Score (contextual):  84.19315102241931\n",
      "Dataset Name:  enron , AUC Score (structural):  38.246941100708376\n",
      "Dataset Name:  enron , AUC Score (joint-type):  46.809559004680956\n",
      "Dataset Name:  enron , AUC Score (structure type):  38.57306882390495\n",
      "===========================================================================================\n",
      "Dataset Name:  enron  Best AUC Score(benchmark/combined):  77.72176227084564\n",
      "Dataset Name:  enron  Best AUC Score (contextual):  92.76422764227644\n",
      "Dataset Name:  enron  Best AUC Score (structural):  56.990340318026455\n",
      "Dataset Name:  enron  Best AUC Score (joint-type):  46.809559004680956\n",
      "Dataset Name:  enron  Best AUC Score (structure type):  56.82750669372743\n",
      "===========================================================================================\n"
     ]
    },
    {
     "name": "stderr",
     "output_type": "stream",
     "text": [
      " 55%|█████▌    | 276/500 [00:32<00:25,  8.81it/s]"
     ]
    },
    {
     "name": "stdout",
     "output_type": "stream",
     "text": [
      "Dataset Name:  enron , AUC Score(benchmark/combined):  48.84240094618569\n",
      "Dataset Name:  enron , AUC Score (contextual):  84.10938654841094\n",
      "Dataset Name:  enron , AUC Score (structural):  36.952296032099866\n",
      "Dataset Name:  enron , AUC Score (joint-type):  47.55851194875584\n",
      "Dataset Name:  enron , AUC Score (structure type):  37.35690668801037\n",
      "===========================================================================================\n",
      "Dataset Name:  enron  Best AUC Score(benchmark/combined):  77.72176227084564\n",
      "Dataset Name:  enron  Best AUC Score (contextual):  92.76422764227644\n",
      "Dataset Name:  enron  Best AUC Score (structural):  56.990340318026455\n",
      "Dataset Name:  enron  Best AUC Score (joint-type):  47.55851194875584\n",
      "Dataset Name:  enron  Best AUC Score (structure type):  56.82750669372743\n",
      "===========================================================================================\n",
      "Dataset Name:  enron , AUC Score(benchmark/combined):  48.04849201655825\n",
      "Dataset Name:  enron , AUC Score (contextual):  83.94678492239468\n",
      "Dataset Name:  enron , AUC Score (structural):  36.17293307574182\n",
      "Dataset Name:  enron , AUC Score (joint-type):  57.243163340724315\n",
      "Dataset Name:  enron , AUC Score (structure type):  36.981915025393285\n",
      "===========================================================================================\n",
      "Dataset Name:  enron  Best AUC Score(benchmark/combined):  77.72176227084564\n",
      "Dataset Name:  enron  Best AUC Score (contextual):  92.76422764227644\n",
      "Dataset Name:  enron  Best AUC Score (structural):  56.990340318026455\n",
      "Dataset Name:  enron  Best AUC Score (joint-type):  57.243163340724315\n",
      "Dataset Name:  enron  Best AUC Score (structure type):  56.82750669372743\n",
      "===========================================================================================\n"
     ]
    },
    {
     "name": "stderr",
     "output_type": "stream",
     "text": [
      " 56%|█████▌    | 278/500 [00:32<00:26,  8.30it/s]"
     ]
    },
    {
     "name": "stdout",
     "output_type": "stream",
     "text": [
      "Dataset Name:  enron , AUC Score(benchmark/combined):  48.1068894145476\n",
      "Dataset Name:  enron , AUC Score (contextual):  83.93693027839369\n",
      "Dataset Name:  enron , AUC Score (structural):  35.4157626195076\n",
      "Dataset Name:  enron , AUC Score (joint-type):  57.89972899728997\n",
      "Dataset Name:  enron , AUC Score (structure type):  36.279097466388436\n",
      "===========================================================================================\n",
      "Dataset Name:  enron  Best AUC Score(benchmark/combined):  77.72176227084564\n",
      "Dataset Name:  enron  Best AUC Score (contextual):  92.76422764227644\n",
      "Dataset Name:  enron  Best AUC Score (structural):  56.990340318026455\n",
      "Dataset Name:  enron  Best AUC Score (joint-type):  57.89972899728997\n",
      "Dataset Name:  enron  Best AUC Score (structure type):  56.82750669372743\n",
      "===========================================================================================\n",
      "Dataset Name:  enron , AUC Score(benchmark/combined):  48.59180958013011\n",
      "Dataset Name:  enron , AUC Score (contextual):  83.93446661739344\n",
      "Dataset Name:  enron , AUC Score (structural):  37.031951255758656\n",
      "Dataset Name:  enron , AUC Score (joint-type):  47.42547425474254\n",
      "Dataset Name:  enron , AUC Score (structure type):  37.42836997017599\n",
      "===========================================================================================\n",
      "Dataset Name:  enron  Best AUC Score(benchmark/combined):  77.72176227084564\n",
      "Dataset Name:  enron  Best AUC Score (contextual):  92.76422764227644\n",
      "Dataset Name:  enron  Best AUC Score (structural):  56.990340318026455\n",
      "Dataset Name:  enron  Best AUC Score (joint-type):  47.42547425474254\n",
      "Dataset Name:  enron  Best AUC Score (structure type):  56.82750669372743\n",
      "===========================================================================================\n"
     ]
    },
    {
     "name": "stderr",
     "output_type": "stream",
     "text": [
      " 56%|█████▌    | 280/500 [00:33<00:25,  8.55it/s]"
     ]
    },
    {
     "name": "stdout",
     "output_type": "stream",
     "text": [
      "Dataset Name:  enron , AUC Score(benchmark/combined):  48.57924305144884\n",
      "Dataset Name:  enron , AUC Score (contextual):  84.02069475240206\n",
      "Dataset Name:  enron , AUC Score (structural):  37.38549561599049\n",
      "Dataset Name:  enron , AUC Score (joint-type):  46.96969696969696\n",
      "Dataset Name:  enron , AUC Score (structure type):  37.75076465711918\n",
      "===========================================================================================\n",
      "Dataset Name:  enron  Best AUC Score(benchmark/combined):  77.72176227084564\n",
      "Dataset Name:  enron  Best AUC Score (contextual):  92.76422764227644\n",
      "Dataset Name:  enron  Best AUC Score (structural):  56.990340318026455\n",
      "Dataset Name:  enron  Best AUC Score (joint-type):  46.96969696969696\n",
      "Dataset Name:  enron  Best AUC Score (structure type):  56.82750669372743\n",
      "===========================================================================================\n",
      "Dataset Name:  enron , AUC Score(benchmark/combined):  47.96052631578947\n",
      "Dataset Name:  enron , AUC Score (contextual):  83.96649421039665\n",
      "Dataset Name:  enron , AUC Score (structural):  37.61192846881657\n",
      "Dataset Name:  enron , AUC Score (joint-type):  51.44616900714462\n",
      "Dataset Name:  enron , AUC Score (structure type):  38.14166881056513\n",
      "===========================================================================================\n",
      "Dataset Name:  enron  Best AUC Score(benchmark/combined):  77.72176227084564\n",
      "Dataset Name:  enron  Best AUC Score (contextual):  92.76422764227644\n",
      "Dataset Name:  enron  Best AUC Score (structural):  56.990340318026455\n",
      "Dataset Name:  enron  Best AUC Score (joint-type):  51.44616900714462\n",
      "Dataset Name:  enron  Best AUC Score (structure type):  56.82750669372743\n",
      "===========================================================================================\n"
     ]
    },
    {
     "name": "stderr",
     "output_type": "stream",
     "text": [
      " 56%|█████▋    | 282/500 [00:33<00:25,  8.71it/s]"
     ]
    },
    {
     "name": "stdout",
     "output_type": "stream",
     "text": [
      "Dataset Name:  enron , AUC Score(benchmark/combined):  47.72989355410999\n",
      "Dataset Name:  enron , AUC Score (contextual):  84.1019955654102\n",
      "Dataset Name:  enron , AUC Score (structural):  37.301778372219744\n",
      "Dataset Name:  enron , AUC Score (joint-type):  56.57058388765706\n",
      "Dataset Name:  enron , AUC Score (structure type):  38.04157257334514\n",
      "===========================================================================================\n",
      "Dataset Name:  enron  Best AUC Score(benchmark/combined):  77.72176227084564\n",
      "Dataset Name:  enron  Best AUC Score (contextual):  92.76422764227644\n",
      "Dataset Name:  enron  Best AUC Score (structural):  56.990340318026455\n",
      "Dataset Name:  enron  Best AUC Score (joint-type):  56.57058388765706\n",
      "Dataset Name:  enron  Best AUC Score (structure type):  56.82750669372743\n",
      "===========================================================================================\n",
      "Dataset Name:  enron , AUC Score(benchmark/combined):  47.7653755174453\n",
      "Dataset Name:  enron , AUC Score (contextual):  84.09460458240946\n",
      "Dataset Name:  enron , AUC Score (structural):  37.324862535295\n",
      "Dataset Name:  enron , AUC Score (joint-type):  48.64991377186499\n",
      "Dataset Name:  enron , AUC Score (structure type):  37.75743456345463\n",
      "===========================================================================================\n",
      "Dataset Name:  enron  Best AUC Score(benchmark/combined):  77.72176227084564\n",
      "Dataset Name:  enron  Best AUC Score (contextual):  92.76422764227644\n",
      "Dataset Name:  enron  Best AUC Score (structural):  56.990340318026455\n",
      "Dataset Name:  enron  Best AUC Score (joint-type):  48.64991377186499\n",
      "Dataset Name:  enron  Best AUC Score (structure type):  56.82750669372743\n",
      "===========================================================================================\n"
     ]
    },
    {
     "name": "stderr",
     "output_type": "stream",
     "text": [
      " 57%|█████▋    | 284/500 [00:33<00:24,  8.71it/s]"
     ]
    },
    {
     "name": "stdout",
     "output_type": "stream",
     "text": [
      "Dataset Name:  enron , AUC Score(benchmark/combined):  48.44248965109402\n",
      "Dataset Name:  enron , AUC Score (contextual):  84.10692288741069\n",
      "Dataset Name:  enron , AUC Score (structural):  37.2860751969089\n",
      "Dataset Name:  enron , AUC Score (joint-type):  47.669376693766935\n",
      "Dataset Name:  enron , AUC Score (structure type):  37.68220754842829\n",
      "===========================================================================================\n",
      "Dataset Name:  enron  Best AUC Score(benchmark/combined):  77.72176227084564\n",
      "Dataset Name:  enron  Best AUC Score (contextual):  92.76422764227644\n",
      "Dataset Name:  enron  Best AUC Score (structural):  56.990340318026455\n",
      "Dataset Name:  enron  Best AUC Score (joint-type):  47.669376693766935\n",
      "Dataset Name:  enron  Best AUC Score (structure type):  56.82750669372743\n",
      "===========================================================================================\n",
      "Dataset Name:  enron , AUC Score(benchmark/combined):  48.660555884092254\n",
      "Dataset Name:  enron , AUC Score (contextual):  84.13895048041388\n",
      "Dataset Name:  enron , AUC Score (structural):  36.9254966067271\n",
      "Dataset Name:  enron , AUC Score (joint-type):  48.3739837398374\n",
      "Dataset Name:  enron , AUC Score (structure type):  37.36267139277173\n",
      "===========================================================================================\n",
      "Dataset Name:  enron  Best AUC Score(benchmark/combined):  77.72176227084564\n",
      "Dataset Name:  enron  Best AUC Score (contextual):  92.76422764227644\n",
      "Dataset Name:  enron  Best AUC Score (structural):  56.990340318026455\n",
      "Dataset Name:  enron  Best AUC Score (joint-type):  48.3739837398374\n",
      "Dataset Name:  enron  Best AUC Score (structure type):  56.82750669372743\n",
      "===========================================================================================\n"
     ]
    },
    {
     "name": "stderr",
     "output_type": "stream",
     "text": [
      " 57%|█████▋    | 286/500 [00:33<00:25,  8.53it/s]"
     ]
    },
    {
     "name": "stdout",
     "output_type": "stream",
     "text": [
      "Dataset Name:  enron , AUC Score(benchmark/combined):  48.532672974571256\n",
      "Dataset Name:  enron , AUC Score (contextual):  84.00344912540034\n",
      "Dataset Name:  enron , AUC Score (structural):  36.7552385198395\n",
      "Dataset Name:  enron , AUC Score (joint-type):  54.9470312884947\n",
      "Dataset Name:  enron , AUC Score (structure type):  37.4531439079934\n",
      "===========================================================================================\n",
      "Dataset Name:  enron  Best AUC Score(benchmark/combined):  77.72176227084564\n",
      "Dataset Name:  enron  Best AUC Score (contextual):  92.76422764227644\n",
      "Dataset Name:  enron  Best AUC Score (structural):  56.990340318026455\n",
      "Dataset Name:  enron  Best AUC Score (joint-type):  54.9470312884947\n",
      "Dataset Name:  enron  Best AUC Score (structure type):  56.82750669372743\n",
      "===========================================================================================\n",
      "Dataset Name:  enron , AUC Score(benchmark/combined):  48.46392667060911\n",
      "Dataset Name:  enron , AUC Score (contextual):  83.88765705838877\n",
      "Dataset Name:  enron , AUC Score (structural):  37.40555803239709\n",
      "Dataset Name:  enron , AUC Score (joint-type):  56.49913771864992\n",
      "Dataset Name:  enron , AUC Score (structure type):  38.138619710526065\n",
      "===========================================================================================\n",
      "Dataset Name:  enron  Best AUC Score(benchmark/combined):  77.72176227084564\n",
      "Dataset Name:  enron  Best AUC Score (contextual):  92.76422764227644\n",
      "Dataset Name:  enron  Best AUC Score (structural):  56.990340318026455\n",
      "Dataset Name:  enron  Best AUC Score (joint-type):  56.49913771864992\n",
      "Dataset Name:  enron  Best AUC Score (structure type):  56.82750669372743\n",
      "===========================================================================================\n"
     ]
    },
    {
     "name": "stderr",
     "output_type": "stream",
     "text": [
      " 58%|█████▊    | 288/500 [00:34<00:25,  8.46it/s]"
     ]
    },
    {
     "name": "stdout",
     "output_type": "stream",
     "text": [
      "Dataset Name:  enron , AUC Score(benchmark/combined):  49.68214074512123\n",
      "Dataset Name:  enron , AUC Score (contextual):  83.91475732939148\n",
      "Dataset Name:  enron , AUC Score (structural):  38.198196859364934\n",
      "Dataset Name:  enron , AUC Score (joint-type):  48.46021187484602\n",
      "Dataset Name:  enron , AUC Score (structure type):  38.59002944287225\n",
      "===========================================================================================\n",
      "Dataset Name:  enron  Best AUC Score(benchmark/combined):  77.72176227084564\n",
      "Dataset Name:  enron  Best AUC Score (contextual):  92.76422764227644\n",
      "Dataset Name:  enron  Best AUC Score (structural):  56.990340318026455\n",
      "Dataset Name:  enron  Best AUC Score (joint-type):  48.46021187484602\n",
      "Dataset Name:  enron  Best AUC Score (structure type):  56.82750669372743\n",
      "===========================================================================================\n",
      "Dataset Name:  enron , AUC Score(benchmark/combined):  48.86014192785334\n",
      "Dataset Name:  enron , AUC Score (contextual):  84.01330376940133\n",
      "Dataset Name:  enron , AUC Score (structural):  38.878486154455835\n",
      "Dataset Name:  enron , AUC Score (joint-type):  46.7381128356738\n",
      "Dataset Name:  enron , AUC Score (structure type):  39.17769583321423\n",
      "===========================================================================================\n",
      "Dataset Name:  enron  Best AUC Score(benchmark/combined):  77.72176227084564\n",
      "Dataset Name:  enron  Best AUC Score (contextual):  92.76422764227644\n",
      "Dataset Name:  enron  Best AUC Score (structural):  56.990340318026455\n",
      "Dataset Name:  enron  Best AUC Score (joint-type):  46.7381128356738\n",
      "Dataset Name:  enron  Best AUC Score (structure type):  56.82750669372743\n",
      "===========================================================================================\n"
     ]
    },
    {
     "name": "stderr",
     "output_type": "stream",
     "text": [
      " 58%|█████▊    | 290/500 [00:34<00:24,  8.50it/s]"
     ]
    },
    {
     "name": "stdout",
     "output_type": "stream",
     "text": [
      "Dataset Name:  enron , AUC Score(benchmark/combined):  48.73225901833235\n",
      "Dataset Name:  enron , AUC Score (contextual):  84.05272234540527\n",
      "Dataset Name:  enron , AUC Score (structural):  39.0692029523951\n",
      "Dataset Name:  enron , AUC Score (joint-type):  46.539788125153976\n",
      "Dataset Name:  enron , AUC Score (structure type):  39.35344786515355\n",
      "===========================================================================================\n",
      "Dataset Name:  enron  Best AUC Score(benchmark/combined):  77.72176227084564\n",
      "Dataset Name:  enron  Best AUC Score (contextual):  92.76422764227644\n",
      "Dataset Name:  enron  Best AUC Score (structural):  56.990340318026455\n",
      "Dataset Name:  enron  Best AUC Score (joint-type):  46.539788125153976\n",
      "Dataset Name:  enron  Best AUC Score (structure type):  56.82750669372743\n",
      "===========================================================================================\n",
      "Dataset Name:  enron , AUC Score(benchmark/combined):  48.24142519219397\n",
      "Dataset Name:  enron , AUC Score (contextual):  84.08228627740823\n",
      "Dataset Name:  enron , AUC Score (structural):  38.87675236538366\n",
      "Dataset Name:  enron , AUC Score (joint-type):  47.58807588075881\n",
      "Dataset Name:  enron , AUC Score (structure type):  39.208901466426546\n",
      "===========================================================================================\n",
      "Dataset Name:  enron  Best AUC Score(benchmark/combined):  77.72176227084564\n",
      "Dataset Name:  enron  Best AUC Score (contextual):  92.76422764227644\n",
      "Dataset Name:  enron  Best AUC Score (structural):  56.990340318026455\n",
      "Dataset Name:  enron  Best AUC Score (joint-type):  47.58807588075881\n",
      "Dataset Name:  enron  Best AUC Score (structure type):  56.82750669372743\n",
      "===========================================================================================\n"
     ]
    },
    {
     "name": "stderr",
     "output_type": "stream",
     "text": [
      " 58%|█████▊    | 292/500 [00:34<00:24,  8.58it/s]"
     ]
    },
    {
     "name": "stdout",
     "output_type": "stream",
     "text": [
      "Dataset Name:  enron , AUC Score(benchmark/combined):  47.79568302779421\n",
      "Dataset Name:  enron , AUC Score (contextual):  84.07243163340723\n",
      "Dataset Name:  enron , AUC Score (structural):  38.78560459701789\n",
      "Dataset Name:  enron , AUC Score (joint-type):  51.41660507514165\n",
      "Dataset Name:  enron , AUC Score (structure type):  39.26931176095056\n",
      "===========================================================================================\n",
      "Dataset Name:  enron  Best AUC Score(benchmark/combined):  77.72176227084564\n",
      "Dataset Name:  enron  Best AUC Score (contextual):  92.76422764227644\n",
      "Dataset Name:  enron  Best AUC Score (structural):  56.990340318026455\n",
      "Dataset Name:  enron  Best AUC Score (joint-type):  51.41660507514165\n",
      "Dataset Name:  enron  Best AUC Score (structure type):  56.82750669372743\n",
      "===========================================================================================\n",
      "Dataset Name:  enron , AUC Score(benchmark/combined):  47.727675931401535\n",
      "Dataset Name:  enron , AUC Score (contextual):  83.98373983739837\n",
      "Dataset Name:  enron , AUC Score (structural):  38.669936097488474\n",
      "Dataset Name:  enron , AUC Score (joint-type):  48.35427445183542\n",
      "Dataset Name:  enron , AUC Score (structure type):  39.03962877207024\n",
      "===========================================================================================\n",
      "Dataset Name:  enron  Best AUC Score(benchmark/combined):  77.72176227084564\n",
      "Dataset Name:  enron  Best AUC Score (contextual):  92.76422764227644\n",
      "Dataset Name:  enron  Best AUC Score (structural):  56.990340318026455\n",
      "Dataset Name:  enron  Best AUC Score (joint-type):  48.35427445183542\n",
      "Dataset Name:  enron  Best AUC Score (structure type):  56.82750669372743\n",
      "===========================================================================================\n"
     ]
    },
    {
     "name": "stderr",
     "output_type": "stream",
     "text": [
      " 59%|█████▉    | 294/500 [00:34<00:24,  8.42it/s]"
     ]
    },
    {
     "name": "stdout",
     "output_type": "stream",
     "text": [
      "Dataset Name:  enron , AUC Score(benchmark/combined):  48.23107628622117\n",
      "Dataset Name:  enron , AUC Score (contextual):  83.82852919438285\n",
      "Dataset Name:  enron , AUC Score (structural):  38.37860999653242\n",
      "Dataset Name:  enron , AUC Score (joint-type):  48.14732692781473\n",
      "Dataset Name:  enron , AUC Score (structure type):  38.75144117619034\n",
      "===========================================================================================\n",
      "Dataset Name:  enron  Best AUC Score(benchmark/combined):  77.72176227084564\n",
      "Dataset Name:  enron  Best AUC Score (contextual):  92.76422764227644\n",
      "Dataset Name:  enron  Best AUC Score (structural):  56.990340318026455\n",
      "Dataset Name:  enron  Best AUC Score (joint-type):  48.14732692781473\n",
      "Dataset Name:  enron  Best AUC Score (structure type):  56.82750669372743\n",
      "===========================================================================================\n",
      "Dataset Name:  enron , AUC Score(benchmark/combined):  48.35452395032525\n",
      "Dataset Name:  enron , AUC Score (contextual):  83.73737373737373\n",
      "Dataset Name:  enron , AUC Score (structural):  37.85738346460594\n",
      "Dataset Name:  enron , AUC Score (joint-type):  49.99260901699925\n",
      "Dataset Name:  enron , AUC Score (structure type):  38.32151807068195\n",
      "===========================================================================================\n",
      "Dataset Name:  enron  Best AUC Score(benchmark/combined):  77.72176227084564\n",
      "Dataset Name:  enron  Best AUC Score (contextual):  92.76422764227644\n",
      "Dataset Name:  enron  Best AUC Score (structural):  56.990340318026455\n",
      "Dataset Name:  enron  Best AUC Score (joint-type):  49.99260901699925\n",
      "Dataset Name:  enron  Best AUC Score (structure type):  56.82750669372743\n",
      "===========================================================================================\n"
     ]
    },
    {
     "name": "stderr",
     "output_type": "stream",
     "text": [
      " 59%|█████▉    | 296/500 [00:34<00:23,  8.54it/s]"
     ]
    },
    {
     "name": "stdout",
     "output_type": "stream",
     "text": [
      "Dataset Name:  enron , AUC Score(benchmark/combined):  48.310171496156116\n",
      "Dataset Name:  enron , AUC Score (contextual):  83.7891106183789\n",
      "Dataset Name:  enron , AUC Score (structural):  37.23425967206618\n",
      "Dataset Name:  enron , AUC Score (joint-type):  55.7969943335797\n",
      "Dataset Name:  enron , AUC Score (structure type):  37.946716976817314\n",
      "===========================================================================================\n",
      "Dataset Name:  enron  Best AUC Score(benchmark/combined):  77.72176227084564\n",
      "Dataset Name:  enron  Best AUC Score (contextual):  92.76422764227644\n",
      "Dataset Name:  enron  Best AUC Score (structural):  56.990340318026455\n",
      "Dataset Name:  enron  Best AUC Score (joint-type):  55.7969943335797\n",
      "Dataset Name:  enron  Best AUC Score (structure type):  56.82750669372743\n",
      "===========================================================================================\n",
      "Dataset Name:  enron , AUC Score(benchmark/combined):  48.542282672974565\n",
      "Dataset Name:  enron , AUC Score (contextual):  83.82360187238235\n",
      "Dataset Name:  enron , AUC Score (structural):  37.007529598256305\n",
      "Dataset Name:  enron , AUC Score (joint-type):  55.7280118255728\n",
      "Dataset Name:  enron , AUC Score (structure type):  37.72599071930176\n",
      "===========================================================================================\n",
      "Dataset Name:  enron  Best AUC Score(benchmark/combined):  77.72176227084564\n",
      "Dataset Name:  enron  Best AUC Score (contextual):  92.76422764227644\n",
      "Dataset Name:  enron  Best AUC Score (structural):  56.990340318026455\n",
      "Dataset Name:  enron  Best AUC Score (joint-type):  55.7280118255728\n",
      "Dataset Name:  enron  Best AUC Score (structure type):  56.82750669372743\n",
      "===========================================================================================\n"
     ]
    },
    {
     "name": "stderr",
     "output_type": "stream",
     "text": [
      " 60%|█████▉    | 298/500 [00:35<00:23,  8.62it/s]"
     ]
    },
    {
     "name": "stdout",
     "output_type": "stream",
     "text": [
      "Dataset Name:  enron , AUC Score(benchmark/combined):  48.45431697220579\n",
      "Dataset Name:  enron , AUC Score (contextual):  83.80142892338014\n",
      "Dataset Name:  enron , AUC Score (structural):  37.44702035963739\n",
      "Dataset Name:  enron , AUC Score (joint-type):  55.400344912540035\n",
      "Dataset Name:  enron , AUC Score (structure type):  38.13599939017999\n",
      "===========================================================================================\n",
      "Dataset Name:  enron  Best AUC Score(benchmark/combined):  77.72176227084564\n",
      "Dataset Name:  enron  Best AUC Score (contextual):  92.76422764227644\n",
      "Dataset Name:  enron  Best AUC Score (structural):  56.990340318026455\n",
      "Dataset Name:  enron  Best AUC Score (joint-type):  55.400344912540035\n",
      "Dataset Name:  enron  Best AUC Score (structure type):  56.82750669372743\n",
      "===========================================================================================\n",
      "Dataset Name:  enron , AUC Score(benchmark/combined):  48.5563276167948\n",
      "Dataset Name:  enron , AUC Score (contextual):  83.6191180093619\n",
      "Dataset Name:  enron , AUC Score (structural):  37.87036211423194\n",
      "Dataset Name:  enron , AUC Score (joint-type):  55.62946538556295\n",
      "Dataset Name:  enron , AUC Score (structure type):  38.552010976760144\n",
      "===========================================================================================\n",
      "Dataset Name:  enron  Best AUC Score(benchmark/combined):  77.72176227084564\n",
      "Dataset Name:  enron  Best AUC Score (contextual):  92.76422764227644\n",
      "Dataset Name:  enron  Best AUC Score (structural):  56.990340318026455\n",
      "Dataset Name:  enron  Best AUC Score (joint-type):  55.62946538556295\n",
      "Dataset Name:  enron  Best AUC Score (structure type):  56.82750669372743\n",
      "===========================================================================================\n"
     ]
    },
    {
     "name": "stderr",
     "output_type": "stream",
     "text": [
      " 60%|██████    | 300/500 [00:35<00:23,  8.52it/s]"
     ]
    },
    {
     "name": "stdout",
     "output_type": "stream",
     "text": [
      "Dataset Name:  enron , AUC Score(benchmark/combined):  48.46762270845653\n",
      "Dataset Name:  enron , AUC Score (contextual):  83.60187238236018\n",
      "Dataset Name:  enron , AUC Score (structural):  37.9657700500322\n",
      "Dataset Name:  enron , AUC Score (joint-type):  55.264843557526476\n",
      "Dataset Name:  enron , AUC Score (structure type):  38.62966774338011\n",
      "===========================================================================================\n",
      "Dataset Name:  enron  Best AUC Score(benchmark/combined):  77.72176227084564\n",
      "Dataset Name:  enron  Best AUC Score (contextual):  92.76422764227644\n",
      "Dataset Name:  enron  Best AUC Score (structural):  56.990340318026455\n",
      "Dataset Name:  enron  Best AUC Score (joint-type):  55.264843557526476\n",
      "Dataset Name:  enron  Best AUC Score (structure type):  56.82750669372743\n",
      "===========================================================================================\n",
      "Dataset Name:  enron , AUC Score(benchmark/combined):  49.104819633353046\n",
      "Dataset Name:  enron , AUC Score (contextual):  83.64621828036462\n",
      "Dataset Name:  enron , AUC Score (structural):  38.23757863971863\n",
      "Dataset Name:  enron , AUC Score (joint-type):  55.700911554570084\n",
      "Dataset Name:  enron , AUC Score (structure type):  38.90794576413305\n",
      "===========================================================================================\n",
      "Dataset Name:  enron  Best AUC Score(benchmark/combined):  77.72176227084564\n",
      "Dataset Name:  enron  Best AUC Score (contextual):  92.76422764227644\n",
      "Dataset Name:  enron  Best AUC Score (structural):  56.990340318026455\n",
      "Dataset Name:  enron  Best AUC Score (joint-type):  55.700911554570084\n",
      "Dataset Name:  enron  Best AUC Score (structure type):  56.82750669372743\n",
      "===========================================================================================\n"
     ]
    },
    {
     "name": "stderr",
     "output_type": "stream",
     "text": [
      " 60%|██████    | 302/500 [00:35<00:22,  8.62it/s]"
     ]
    },
    {
     "name": "stdout",
     "output_type": "stream",
     "text": [
      "Dataset Name:  enron , AUC Score(benchmark/combined):  47.976788882318154\n",
      "Dataset Name:  enron , AUC Score (contextual):  83.83099285538309\n",
      "Dataset Name:  enron , AUC Score (structural):  38.52969732996483\n",
      "Dataset Name:  enron , AUC Score (joint-type):  55.56787386055678\n",
      "Dataset Name:  enron , AUC Score (structure type):  39.18374639110426\n",
      "===========================================================================================\n",
      "Dataset Name:  enron  Best AUC Score(benchmark/combined):  77.72176227084564\n",
      "Dataset Name:  enron  Best AUC Score (contextual):  92.76422764227644\n",
      "Dataset Name:  enron  Best AUC Score (structural):  56.990340318026455\n",
      "Dataset Name:  enron  Best AUC Score (joint-type):  55.56787386055678\n",
      "Dataset Name:  enron  Best AUC Score (structure type):  56.82750669372743\n",
      "===========================================================================================\n",
      "Dataset Name:  enron , AUC Score(benchmark/combined):  48.027794204612654\n",
      "Dataset Name:  enron , AUC Score (contextual):  84.01330376940133\n",
      "Dataset Name:  enron , AUC Score (structural):  38.65324218556497\n",
      "Dataset Name:  enron , AUC Score (joint-type):  52.30105937423011\n",
      "Dataset Name:  enron , AUC Score (structure type):  39.1762189253828\n",
      "===========================================================================================\n",
      "Dataset Name:  enron  Best AUC Score(benchmark/combined):  77.72176227084564\n",
      "Dataset Name:  enron  Best AUC Score (contextual):  92.76422764227644\n",
      "Dataset Name:  enron  Best AUC Score (structural):  56.990340318026455\n",
      "Dataset Name:  enron  Best AUC Score (joint-type):  52.30105937423011\n",
      "Dataset Name:  enron  Best AUC Score (structure type):  56.82750669372743\n",
      "===========================================================================================\n"
     ]
    },
    {
     "name": "stderr",
     "output_type": "stream",
     "text": [
      " 61%|██████    | 304/500 [00:35<00:23,  8.32it/s]"
     ]
    },
    {
     "name": "stdout",
     "output_type": "stream",
     "text": [
      "Dataset Name:  enron , AUC Score(benchmark/combined):  48.22885866351272\n",
      "Dataset Name:  enron , AUC Score (contextual):  84.2079329884208\n",
      "Dataset Name:  enron , AUC Score (structural):  38.528458909198996\n",
      "Dataset Name:  enron , AUC Score (joint-type):  47.841832963784185\n",
      "Dataset Name:  enron , AUC Score (structure type):  38.883743532572964\n",
      "===========================================================================================\n",
      "Dataset Name:  enron  Best AUC Score(benchmark/combined):  77.72176227084564\n",
      "Dataset Name:  enron  Best AUC Score (contextual):  92.76422764227644\n",
      "Dataset Name:  enron  Best AUC Score (structural):  56.990340318026455\n",
      "Dataset Name:  enron  Best AUC Score (joint-type):  47.841832963784185\n",
      "Dataset Name:  enron  Best AUC Score (structure type):  56.82750669372743\n",
      "===========================================================================================\n",
      "Dataset Name:  enron , AUC Score(benchmark/combined):  47.80085748078061\n",
      "Dataset Name:  enron , AUC Score (contextual):  84.16851441241685\n",
      "Dataset Name:  enron , AUC Score (structural):  38.06206964878387\n",
      "Dataset Name:  enron , AUC Score (joint-type):  55.424981522542495\n",
      "Dataset Name:  enron , AUC Score (structure type):  38.72847764152112\n",
      "===========================================================================================\n",
      "Dataset Name:  enron  Best AUC Score(benchmark/combined):  77.72176227084564\n",
      "Dataset Name:  enron  Best AUC Score (contextual):  92.76422764227644\n",
      "Dataset Name:  enron  Best AUC Score (structural):  56.990340318026455\n",
      "Dataset Name:  enron  Best AUC Score (joint-type):  55.424981522542495\n",
      "Dataset Name:  enron  Best AUC Score (structure type):  56.82750669372743\n",
      "===========================================================================================\n"
     ]
    },
    {
     "name": "stderr",
     "output_type": "stream",
     "text": [
      " 61%|██████    | 306/500 [00:36<00:23,  8.33it/s]"
     ]
    },
    {
     "name": "stdout",
     "output_type": "stream",
     "text": [
      "Dataset Name:  enron , AUC Score(benchmark/combined):  49.02202838557067\n",
      "Dataset Name:  enron , AUC Score (contextual):  84.00837644740083\n",
      "Dataset Name:  enron , AUC Score (structural):  37.5861693168871\n",
      "Dataset Name:  enron , AUC Score (joint-type):  55.910322739591024\n",
      "Dataset Name:  enron , AUC Score (structure type):  38.28955016245986\n",
      "===========================================================================================\n",
      "Dataset Name:  enron  Best AUC Score(benchmark/combined):  77.72176227084564\n",
      "Dataset Name:  enron  Best AUC Score (contextual):  92.76422764227644\n",
      "Dataset Name:  enron  Best AUC Score (structural):  56.990340318026455\n",
      "Dataset Name:  enron  Best AUC Score (joint-type):  55.910322739591024\n",
      "Dataset Name:  enron  Best AUC Score (structure type):  56.82750669372743\n",
      "===========================================================================================\n",
      "Dataset Name:  enron , AUC Score(benchmark/combined):  48.37596096984033\n",
      "Dataset Name:  enron , AUC Score (contextual):  83.80389258438039\n",
      "Dataset Name:  enron , AUC Score (structural):  36.93644424629712\n",
      "Dataset Name:  enron , AUC Score (joint-type):  55.85365853658536\n",
      "Dataset Name:  enron , AUC Score (structure type):  37.66248368255057\n",
      "===========================================================================================\n",
      "Dataset Name:  enron  Best AUC Score(benchmark/combined):  77.72176227084564\n",
      "Dataset Name:  enron  Best AUC Score (contextual):  92.76422764227644\n",
      "Dataset Name:  enron  Best AUC Score (structural):  56.990340318026455\n",
      "Dataset Name:  enron  Best AUC Score (joint-type):  55.85365853658536\n",
      "Dataset Name:  enron  Best AUC Score (structure type):  56.82750669372743\n",
      "===========================================================================================\n"
     ]
    },
    {
     "name": "stderr",
     "output_type": "stream",
     "text": [
      " 62%|██████▏   | 308/500 [00:36<00:23,  8.24it/s]"
     ]
    },
    {
     "name": "stdout",
     "output_type": "stream",
     "text": [
      "Dataset Name:  enron , AUC Score(benchmark/combined):  48.58811354228267\n",
      "Dataset Name:  enron , AUC Score (contextual):  83.77925597437792\n",
      "Dataset Name:  enron , AUC Score (structural):  36.414028830435434\n",
      "Dataset Name:  enron , AUC Score (joint-type):  56.001478196600154\n",
      "Dataset Name:  enron , AUC Score (structure type):  37.16576622931138\n",
      "===========================================================================================\n",
      "Dataset Name:  enron  Best AUC Score(benchmark/combined):  77.72176227084564\n",
      "Dataset Name:  enron  Best AUC Score (contextual):  92.76422764227644\n",
      "Dataset Name:  enron  Best AUC Score (structural):  56.990340318026455\n",
      "Dataset Name:  enron  Best AUC Score (joint-type):  56.001478196600154\n",
      "Dataset Name:  enron  Best AUC Score (structure type):  56.82750669372743\n",
      "===========================================================================================\n",
      "Dataset Name:  enron , AUC Score(benchmark/combined):  48.506061502069784\n",
      "Dataset Name:  enron , AUC Score (contextual):  83.93693027839369\n",
      "Dataset Name:  enron , AUC Score (structural):  36.149105860207065\n",
      "Dataset Name:  enron , AUC Score (joint-type):  56.34885439763488\n",
      "Dataset Name:  enron , AUC Score (structure type):  36.924410904344015\n",
      "===========================================================================================\n",
      "Dataset Name:  enron  Best AUC Score(benchmark/combined):  77.72176227084564\n",
      "Dataset Name:  enron  Best AUC Score (contextual):  92.76422764227644\n",
      "Dataset Name:  enron  Best AUC Score (structural):  56.990340318026455\n",
      "Dataset Name:  enron  Best AUC Score (joint-type):  56.34885439763488\n",
      "Dataset Name:  enron  Best AUC Score (structure type):  56.82750669372743\n",
      "===========================================================================================\n"
     ]
    },
    {
     "name": "stderr",
     "output_type": "stream",
     "text": [
      " 62%|██████▏   | 310/500 [00:36<00:23,  8.24it/s]"
     ]
    },
    {
     "name": "stdout",
     "output_type": "stream",
     "text": [
      "Dataset Name:  enron , AUC Score(benchmark/combined):  48.82244234180958\n",
      "Dataset Name:  enron , AUC Score (contextual):  84.0330130574033\n",
      "Dataset Name:  enron , AUC Score (structural):  35.86664685193441\n",
      "Dataset Name:  enron , AUC Score (joint-type):  56.420300566642034\n",
      "Dataset Name:  enron , AUC Score (structure type):  36.65551839464883\n",
      "===========================================================================================\n",
      "Dataset Name:  enron  Best AUC Score(benchmark/combined):  77.72176227084564\n",
      "Dataset Name:  enron  Best AUC Score (contextual):  92.76422764227644\n",
      "Dataset Name:  enron  Best AUC Score (structural):  56.990340318026455\n",
      "Dataset Name:  enron  Best AUC Score (joint-type):  56.420300566642034\n",
      "Dataset Name:  enron  Best AUC Score (structure type):  56.82750669372743\n",
      "===========================================================================================\n",
      "Dataset Name:  enron , AUC Score(benchmark/combined):  48.916321703134244\n",
      "Dataset Name:  enron , AUC Score (contextual):  83.90736634639073\n",
      "Dataset Name:  enron , AUC Score (structural):  35.52840937236836\n",
      "Dataset Name:  enron , AUC Score (joint-type):  56.644493717664446\n",
      "Dataset Name:  enron , AUC Score (structure type):  36.33888841246701\n",
      "===========================================================================================\n",
      "Dataset Name:  enron  Best AUC Score(benchmark/combined):  77.72176227084564\n",
      "Dataset Name:  enron  Best AUC Score (contextual):  92.76422764227644\n",
      "Dataset Name:  enron  Best AUC Score (structural):  56.990340318026455\n",
      "Dataset Name:  enron  Best AUC Score (joint-type):  56.644493717664446\n",
      "Dataset Name:  enron  Best AUC Score (structure type):  56.82750669372743\n",
      "===========================================================================================\n"
     ]
    },
    {
     "name": "stderr",
     "output_type": "stream",
     "text": [
      " 62%|██████▏   | 312/500 [00:36<00:22,  8.24it/s]"
     ]
    },
    {
     "name": "stdout",
     "output_type": "stream",
     "text": [
      "Dataset Name:  enron , AUC Score(benchmark/combined):  49.10186280307511\n",
      "Dataset Name:  enron , AUC Score (contextual):  83.82852919438285\n",
      "Dataset Name:  enron , AUC Score (structural):  36.09446673601823\n",
      "Dataset Name:  enron , AUC Score (joint-type):  56.149297856614936\n",
      "Dataset Name:  enron , AUC Score (structure type):  36.86414353638434\n",
      "===========================================================================================\n",
      "Dataset Name:  enron  Best AUC Score(benchmark/combined):  77.72176227084564\n",
      "Dataset Name:  enron  Best AUC Score (contextual):  92.76422764227644\n",
      "Dataset Name:  enron  Best AUC Score (structural):  56.990340318026455\n",
      "Dataset Name:  enron  Best AUC Score (joint-type):  56.149297856614936\n",
      "Dataset Name:  enron  Best AUC Score (structure type):  56.82750669372743\n",
      "===========================================================================================\n",
      "Dataset Name:  enron , AUC Score(benchmark/combined):  48.94662921348315\n",
      "Dataset Name:  enron , AUC Score (contextual):  83.85316580438531\n",
      "Dataset Name:  enron , AUC Score (structural):  36.35973646406103\n",
      "Dataset Name:  enron , AUC Score (joint-type):  56.00147819660014\n",
      "Dataset Name:  enron , AUC Score (structure type):  37.11355039114236\n",
      "===========================================================================================\n",
      "Dataset Name:  enron  Best AUC Score(benchmark/combined):  77.72176227084564\n",
      "Dataset Name:  enron  Best AUC Score (contextual):  92.76422764227644\n",
      "Dataset Name:  enron  Best AUC Score (structural):  56.990340318026455\n",
      "Dataset Name:  enron  Best AUC Score (joint-type):  56.00147819660014\n",
      "Dataset Name:  enron  Best AUC Score (structure type):  56.82750669372743\n",
      "===========================================================================================\n"
     ]
    },
    {
     "name": "stderr",
     "output_type": "stream",
     "text": [
      " 63%|██████▎   | 314/500 [00:37<00:22,  8.29it/s]"
     ]
    },
    {
     "name": "stdout",
     "output_type": "stream",
     "text": [
      "Dataset Name:  enron , AUC Score(benchmark/combined):  49.88616203429923\n",
      "Dataset Name:  enron , AUC Score (contextual):  83.82852919438287\n",
      "Dataset Name:  enron , AUC Score (structural):  36.38792292069153\n",
      "Dataset Name:  enron , AUC Score (joint-type):  56.1369795516137\n",
      "Dataset Name:  enron , AUC Score (structure type):  37.145899436869335\n",
      "===========================================================================================\n",
      "Dataset Name:  enron  Best AUC Score(benchmark/combined):  77.72176227084564\n",
      "Dataset Name:  enron  Best AUC Score (contextual):  92.76422764227644\n",
      "Dataset Name:  enron  Best AUC Score (structural):  56.990340318026455\n",
      "Dataset Name:  enron  Best AUC Score (joint-type):  56.1369795516137\n",
      "Dataset Name:  enron  Best AUC Score (structure type):  56.82750669372743\n",
      "===========================================================================================\n",
      "Dataset Name:  enron , AUC Score(benchmark/combined):  48.64207569485512\n",
      "Dataset Name:  enron , AUC Score (contextual):  83.68563685636856\n",
      "Dataset Name:  enron , AUC Score (structural):  36.79888046762768\n",
      "Dataset Name:  enron , AUC Score (joint-type):  56.090169992609006\n",
      "Dataset Name:  enron , AUC Score (structure type):  37.539328626285155\n",
      "===========================================================================================\n",
      "Dataset Name:  enron  Best AUC Score(benchmark/combined):  77.72176227084564\n",
      "Dataset Name:  enron  Best AUC Score (contextual):  92.76422764227644\n",
      "Dataset Name:  enron  Best AUC Score (structural):  56.990340318026455\n",
      "Dataset Name:  enron  Best AUC Score (joint-type):  56.090169992609006\n",
      "Dataset Name:  enron  Best AUC Score (structure type):  56.82750669372743\n",
      "===========================================================================================\n"
     ]
    },
    {
     "name": "stderr",
     "output_type": "stream",
     "text": [
      " 63%|██████▎   | 316/500 [00:37<00:21,  8.52it/s]"
     ]
    },
    {
     "name": "stdout",
     "output_type": "stream",
     "text": [
      "Dataset Name:  enron , AUC Score(benchmark/combined):  48.806918982850384\n",
      "Dataset Name:  enron , AUC Score (contextual):  83.71766444937177\n",
      "Dataset Name:  enron , AUC Score (structural):  37.448952296032104\n",
      "Dataset Name:  enron , AUC Score (joint-type):  55.693520571569344\n",
      "Dataset Name:  enron , AUC Score (structure type):  38.14919627628658\n",
      "===========================================================================================\n",
      "Dataset Name:  enron  Best AUC Score(benchmark/combined):  77.72176227084564\n",
      "Dataset Name:  enron  Best AUC Score (contextual):  92.76422764227644\n",
      "Dataset Name:  enron  Best AUC Score (structural):  56.990340318026455\n",
      "Dataset Name:  enron  Best AUC Score (joint-type):  55.693520571569344\n",
      "Dataset Name:  enron  Best AUC Score (structure type):  56.82750669372743\n",
      "===========================================================================================\n",
      "Dataset Name:  enron , AUC Score(benchmark/combined):  48.461709047900655\n",
      "Dataset Name:  enron , AUC Score (contextual):  83.65360926336535\n",
      "Dataset Name:  enron , AUC Score (structural):  37.65165700698469\n",
      "Dataset Name:  enron , AUC Score (joint-type):  55.74279379157427\n",
      "Dataset Name:  enron , AUC Score (structure type):  38.34605379755882\n",
      "===========================================================================================\n",
      "Dataset Name:  enron  Best AUC Score(benchmark/combined):  77.72176227084564\n",
      "Dataset Name:  enron  Best AUC Score (contextual):  92.76422764227644\n",
      "Dataset Name:  enron  Best AUC Score (structural):  56.990340318026455\n",
      "Dataset Name:  enron  Best AUC Score (joint-type):  55.74279379157427\n",
      "Dataset Name:  enron  Best AUC Score (structure type):  56.82750669372743\n",
      "===========================================================================================\n"
     ]
    },
    {
     "name": "stderr",
     "output_type": "stream",
     "text": [
      " 64%|██████▎   | 318/500 [00:37<00:21,  8.48it/s]"
     ]
    },
    {
     "name": "stdout",
     "output_type": "stream",
     "text": [
      "Dataset Name:  enron , AUC Score(benchmark/combined):  48.575547013601415\n",
      "Dataset Name:  enron , AUC Score (contextual):  83.64621828036462\n",
      "Dataset Name:  enron , AUC Score (structural):  37.22464952692327\n",
      "Dataset Name:  enron , AUC Score (joint-type):  55.51120965755112\n",
      "Dataset Name:  enron , AUC Score (structure type):  37.92642140468227\n",
      "===========================================================================================\n",
      "Dataset Name:  enron  Best AUC Score(benchmark/combined):  77.72176227084564\n",
      "Dataset Name:  enron  Best AUC Score (contextual):  92.76422764227644\n",
      "Dataset Name:  enron  Best AUC Score (structural):  56.990340318026455\n",
      "Dataset Name:  enron  Best AUC Score (joint-type):  55.51120965755112\n",
      "Dataset Name:  enron  Best AUC Score (structure type):  56.82750669372743\n",
      "===========================================================================================\n",
      "Dataset Name:  enron , AUC Score(benchmark/combined):  48.43214074512123\n",
      "Dataset Name:  enron , AUC Score (contextual):  83.69056417836906\n",
      "Dataset Name:  enron , AUC Score (structural):  37.284044186852924\n",
      "Dataset Name:  enron , AUC Score (joint-type):  55.43483616654348\n",
      "Dataset Name:  enron , AUC Score (structure type):  37.98059057256381\n",
      "===========================================================================================\n",
      "Dataset Name:  enron  Best AUC Score(benchmark/combined):  77.72176227084564\n",
      "Dataset Name:  enron  Best AUC Score (contextual):  92.76422764227644\n",
      "Dataset Name:  enron  Best AUC Score (structural):  56.990340318026455\n",
      "Dataset Name:  enron  Best AUC Score (joint-type):  55.43483616654348\n",
      "Dataset Name:  enron  Best AUC Score (structure type):  56.82750669372743\n",
      "===========================================================================================\n"
     ]
    },
    {
     "name": "stderr",
     "output_type": "stream",
     "text": [
      " 64%|██████▍   | 320/500 [00:37<00:21,  8.46it/s]"
     ]
    },
    {
     "name": "stdout",
     "output_type": "stream",
     "text": [
      "Dataset Name:  enron , AUC Score(benchmark/combined):  50.81017149615612\n",
      "Dataset Name:  enron , AUC Score (contextual):  83.76447400837644\n",
      "Dataset Name:  enron , AUC Score (structural):  36.09981671372665\n",
      "Dataset Name:  enron , AUC Score (joint-type):  55.60482877556048\n",
      "Dataset Name:  enron , AUC Score (structure type):  36.84823104555546\n",
      "===========================================================================================\n",
      "Dataset Name:  enron  Best AUC Score(benchmark/combined):  77.72176227084564\n",
      "Dataset Name:  enron  Best AUC Score (contextual):  92.76422764227644\n",
      "Dataset Name:  enron  Best AUC Score (structural):  56.990340318026455\n",
      "Dataset Name:  enron  Best AUC Score (joint-type):  55.60482877556048\n",
      "Dataset Name:  enron  Best AUC Score (structure type):  56.82750669372743\n",
      "===========================================================================================\n",
      "Dataset Name:  enron , AUC Score(benchmark/combined):  53.736694263749264\n",
      "Dataset Name:  enron , AUC Score (contextual):  83.79157427937915\n",
      "Dataset Name:  enron , AUC Score (structural):  34.7272006737009\n",
      "Dataset Name:  enron , AUC Score (joint-type):  56.21828036462183\n",
      "Dataset Name:  enron , AUC Score (structure type):  35.551839464882946\n",
      "===========================================================================================\n",
      "Dataset Name:  enron  Best AUC Score(benchmark/combined):  77.72176227084564\n",
      "Dataset Name:  enron  Best AUC Score (contextual):  92.76422764227644\n",
      "Dataset Name:  enron  Best AUC Score (structural):  56.990340318026455\n",
      "Dataset Name:  enron  Best AUC Score (joint-type):  56.21828036462183\n",
      "Dataset Name:  enron  Best AUC Score (structure type):  56.82750669372743\n",
      "===========================================================================================\n"
     ]
    },
    {
     "name": "stderr",
     "output_type": "stream",
     "text": [
      " 64%|██████▍   | 322/500 [00:38<00:21,  8.40it/s]"
     ]
    },
    {
     "name": "stdout",
     "output_type": "stream",
     "text": [
      "Dataset Name:  enron , AUC Score(benchmark/combined):  53.772915434654045\n",
      "Dataset Name:  enron , AUC Score (contextual):  83.95171224439517\n",
      "Dataset Name:  enron , AUC Score (structural):  34.91975033437361\n",
      "Dataset Name:  enron , AUC Score (joint-type):  56.04459226410445\n",
      "Dataset Name:  enron , AUC Score (structure type):  35.73030710154457\n",
      "===========================================================================================\n",
      "Dataset Name:  enron  Best AUC Score(benchmark/combined):  77.72176227084564\n",
      "Dataset Name:  enron  Best AUC Score (contextual):  92.76422764227644\n",
      "Dataset Name:  enron  Best AUC Score (structural):  56.990340318026455\n",
      "Dataset Name:  enron  Best AUC Score (joint-type):  56.04459226410445\n",
      "Dataset Name:  enron  Best AUC Score (structure type):  56.82750669372743\n",
      "===========================================================================================\n",
      "Dataset Name:  enron , AUC Score(benchmark/combined):  53.34491425192195\n",
      "Dataset Name:  enron , AUC Score (contextual):  83.92461197339246\n",
      "Dataset Name:  enron , AUC Score (structural):  35.431862089463515\n",
      "Dataset Name:  enron , AUC Score (joint-type):  55.97191426459719\n",
      "Dataset Name:  enron , AUC Score (structure type):  36.22002115313152\n",
      "===========================================================================================\n",
      "Dataset Name:  enron  Best AUC Score(benchmark/combined):  77.72176227084564\n",
      "Dataset Name:  enron  Best AUC Score (contextual):  92.76422764227644\n",
      "Dataset Name:  enron  Best AUC Score (structural):  56.990340318026455\n",
      "Dataset Name:  enron  Best AUC Score (joint-type):  55.97191426459719\n",
      "Dataset Name:  enron  Best AUC Score (structure type):  56.82750669372743\n",
      "===========================================================================================\n"
     ]
    },
    {
     "name": "stderr",
     "output_type": "stream",
     "text": [
      " 65%|██████▍   | 324/500 [00:38<00:21,  8.33it/s]"
     ]
    },
    {
     "name": "stdout",
     "output_type": "stream",
     "text": [
      "Dataset Name:  enron , AUC Score(benchmark/combined):  50.43835008870491\n",
      "Dataset Name:  enron , AUC Score (contextual):  83.91968465139198\n",
      "Dataset Name:  enron , AUC Score (structural):  35.82052806261455\n",
      "Dataset Name:  enron , AUC Score (joint-type):  56.02365114560236\n",
      "Dataset Name:  enron , AUC Score (structure type):  36.59582273294648\n",
      "===========================================================================================\n",
      "Dataset Name:  enron  Best AUC Score(benchmark/combined):  77.72176227084564\n",
      "Dataset Name:  enron  Best AUC Score (contextual):  92.76422764227644\n",
      "Dataset Name:  enron  Best AUC Score (structural):  56.990340318026455\n",
      "Dataset Name:  enron  Best AUC Score (joint-type):  56.02365114560236\n",
      "Dataset Name:  enron  Best AUC Score (structure type):  56.82750669372743\n",
      "===========================================================================================\n",
      "Dataset Name:  enron , AUC Score(benchmark/combined):  49.909816676522766\n",
      "Dataset Name:  enron , AUC Score (contextual):  83.91722099039171\n",
      "Dataset Name:  enron , AUC Score (structural):  36.21439540298212\n",
      "Dataset Name:  enron , AUC Score (joint-type):  56.028578467602856\n",
      "Dataset Name:  enron , AUC Score (structure type):  36.974816339364835\n",
      "===========================================================================================\n",
      "Dataset Name:  enron  Best AUC Score(benchmark/combined):  77.72176227084564\n",
      "Dataset Name:  enron  Best AUC Score (contextual):  92.76422764227644\n",
      "Dataset Name:  enron  Best AUC Score (structural):  56.990340318026455\n",
      "Dataset Name:  enron  Best AUC Score (joint-type):  56.028578467602856\n",
      "Dataset Name:  enron  Best AUC Score (structure type):  56.82750669372743\n",
      "===========================================================================================\n"
     ]
    },
    {
     "name": "stderr",
     "output_type": "stream",
     "text": [
      " 65%|██████▌   | 326/500 [00:38<00:20,  8.35it/s]"
     ]
    },
    {
     "name": "stdout",
     "output_type": "stream",
     "text": [
      "Dataset Name:  enron , AUC Score(benchmark/combined):  50.358515671200465\n",
      "Dataset Name:  enron , AUC Score (contextual):  83.75954668637596\n",
      "Dataset Name:  enron , AUC Score (structural):  36.459503640957045\n",
      "Dataset Name:  enron , AUC Score (joint-type):  55.92264104459226\n",
      "Dataset Name:  enron , AUC Score (structure type):  37.206452657957676\n",
      "===========================================================================================\n",
      "Dataset Name:  enron  Best AUC Score(benchmark/combined):  77.72176227084564\n",
      "Dataset Name:  enron  Best AUC Score (contextual):  92.76422764227644\n",
      "Dataset Name:  enron  Best AUC Score (structural):  56.990340318026455\n",
      "Dataset Name:  enron  Best AUC Score (joint-type):  55.92264104459226\n",
      "Dataset Name:  enron  Best AUC Score (structure type):  56.82750669372743\n",
      "===========================================================================================\n",
      "Dataset Name:  enron , AUC Score(benchmark/combined):  50.61428149024246\n",
      "Dataset Name:  enron , AUC Score (contextual):  83.62650899236264\n",
      "Dataset Name:  enron , AUC Score (structural):  36.812948927527614\n",
      "Dataset Name:  enron , AUC Score (joint-type):  55.71076619857107\n",
      "Dataset Name:  enron , AUC Score (structure type):  37.538185213770504\n",
      "===========================================================================================\n",
      "Dataset Name:  enron  Best AUC Score(benchmark/combined):  77.72176227084564\n",
      "Dataset Name:  enron  Best AUC Score (contextual):  92.76422764227644\n",
      "Dataset Name:  enron  Best AUC Score (structural):  56.990340318026455\n",
      "Dataset Name:  enron  Best AUC Score (joint-type):  55.71076619857107\n",
      "Dataset Name:  enron  Best AUC Score (structure type):  56.82750669372743\n",
      "===========================================================================================\n"
     ]
    },
    {
     "name": "stderr",
     "output_type": "stream",
     "text": [
      " 66%|██████▌   | 328/500 [00:38<00:20,  8.24it/s]"
     ]
    },
    {
     "name": "stdout",
     "output_type": "stream",
     "text": [
      "Dataset Name:  enron , AUC Score(benchmark/combined):  50.49526907155529\n",
      "Dataset Name:  enron , AUC Score (contextual):  83.60187238236018\n",
      "Dataset Name:  enron , AUC Score (structural):  37.22529350572151\n",
      "Dataset Name:  enron , AUC Score (joint-type):  55.402808573540284\n",
      "Dataset Name:  enron , AUC Score (structure type):  37.92284824057399\n",
      "===========================================================================================\n",
      "Dataset Name:  enron  Best AUC Score(benchmark/combined):  77.72176227084564\n",
      "Dataset Name:  enron  Best AUC Score (contextual):  92.76422764227644\n",
      "Dataset Name:  enron  Best AUC Score (structural):  56.990340318026455\n",
      "Dataset Name:  enron  Best AUC Score (joint-type):  55.402808573540284\n",
      "Dataset Name:  enron  Best AUC Score (structure type):  56.82750669372743\n",
      "===========================================================================================\n",
      "Dataset Name:  enron , AUC Score(benchmark/combined):  49.90538143110585\n",
      "Dataset Name:  enron , AUC Score (contextual):  83.56738112835673\n",
      "Dataset Name:  enron , AUC Score (structural):  37.54926437806509\n",
      "Dataset Name:  enron , AUC Score (joint-type):  55.426213353042606\n",
      "Dataset Name:  enron , AUC Score (structure type):  38.235333352390214\n",
      "===========================================================================================\n",
      "Dataset Name:  enron  Best AUC Score(benchmark/combined):  77.72176227084564\n",
      "Dataset Name:  enron  Best AUC Score (contextual):  92.76422764227644\n",
      "Dataset Name:  enron  Best AUC Score (structural):  56.990340318026455\n",
      "Dataset Name:  enron  Best AUC Score (joint-type):  55.426213353042606\n",
      "Dataset Name:  enron  Best AUC Score (structure type):  56.82750669372743\n",
      "===========================================================================================\n"
     ]
    },
    {
     "name": "stderr",
     "output_type": "stream",
     "text": [
      " 66%|██████▌   | 330/500 [00:39<00:20,  8.34it/s]"
     ]
    },
    {
     "name": "stdout",
     "output_type": "stream",
     "text": [
      "Dataset Name:  enron , AUC Score(benchmark/combined):  49.09890597279716\n",
      "Dataset Name:  enron , AUC Score (contextual):  83.49347129834935\n",
      "Dataset Name:  enron , AUC Score (structural):  37.69351562887006\n",
      "Dataset Name:  enron , AUC Score (joint-type):  55.762503079576256\n",
      "Dataset Name:  enron , AUC Score (structure type):  38.38707372152188\n",
      "===========================================================================================\n",
      "Dataset Name:  enron  Best AUC Score(benchmark/combined):  77.72176227084564\n",
      "Dataset Name:  enron  Best AUC Score (contextual):  92.76422764227644\n",
      "Dataset Name:  enron  Best AUC Score (structural):  56.990340318026455\n",
      "Dataset Name:  enron  Best AUC Score (joint-type):  55.762503079576256\n",
      "Dataset Name:  enron  Best AUC Score (structure type):  56.82750669372743\n",
      "===========================================================================================\n",
      "Dataset Name:  enron , AUC Score(benchmark/combined):  51.57746895328208\n",
      "Dataset Name:  enron , AUC Score (contextual):  83.50825326435083\n",
      "Dataset Name:  enron , AUC Score (structural):  37.66988656065785\n",
      "Dataset Name:  enron , AUC Score (joint-type):  55.23774328652378\n",
      "Dataset Name:  enron , AUC Score (structure type):  38.34405282565818\n",
      "===========================================================================================\n",
      "Dataset Name:  enron  Best AUC Score(benchmark/combined):  77.72176227084564\n",
      "Dataset Name:  enron  Best AUC Score (contextual):  92.76422764227644\n",
      "Dataset Name:  enron  Best AUC Score (structural):  56.990340318026455\n",
      "Dataset Name:  enron  Best AUC Score (joint-type):  55.23774328652378\n",
      "Dataset Name:  enron  Best AUC Score (structure type):  56.82750669372743\n",
      "===========================================================================================\n"
     ]
    },
    {
     "name": "stderr",
     "output_type": "stream",
     "text": [
      " 66%|██████▋   | 332/500 [00:39<00:20,  8.36it/s]"
     ]
    },
    {
     "name": "stdout",
     "output_type": "stream",
     "text": [
      "Dataset Name:  enron , AUC Score(benchmark/combined):  49.5202542874039\n",
      "Dataset Name:  enron , AUC Score (contextual):  83.58462675535847\n",
      "Dataset Name:  enron , AUC Score (structural):  38.0877792638827\n",
      "Dataset Name:  enron , AUC Score (joint-type):  55.471791081547174\n",
      "Dataset Name:  enron , AUC Score (structure type):  38.755014340298615\n",
      "===========================================================================================\n",
      "Dataset Name:  enron  Best AUC Score(benchmark/combined):  77.72176227084564\n",
      "Dataset Name:  enron  Best AUC Score (contextual):  92.76422764227644\n",
      "Dataset Name:  enron  Best AUC Score (structural):  56.990340318026455\n",
      "Dataset Name:  enron  Best AUC Score (joint-type):  55.471791081547174\n",
      "Dataset Name:  enron  Best AUC Score (structure type):  56.82750669372743\n",
      "===========================================================================================\n",
      "Dataset Name:  enron , AUC Score(benchmark/combined):  50.414695446481375\n",
      "Dataset Name:  enron , AUC Score (contextual):  83.73983739837398\n",
      "Dataset Name:  enron , AUC Score (structural):  37.802942487739635\n",
      "Dataset Name:  enron , AUC Score (joint-type):  55.26237989652623\n",
      "Dataset Name:  enron , AUC Score (structure type):  38.47297258668496\n",
      "===========================================================================================\n",
      "Dataset Name:  enron  Best AUC Score(benchmark/combined):  77.72176227084564\n",
      "Dataset Name:  enron  Best AUC Score (contextual):  92.76422764227644\n",
      "Dataset Name:  enron  Best AUC Score (structural):  56.990340318026455\n",
      "Dataset Name:  enron  Best AUC Score (joint-type):  55.26237989652623\n",
      "Dataset Name:  enron  Best AUC Score (structure type):  56.82750669372743\n",
      "===========================================================================================\n"
     ]
    },
    {
     "name": "stderr",
     "output_type": "stream",
     "text": [
      " 67%|██████▋   | 334/500 [00:39<00:19,  8.31it/s]"
     ]
    },
    {
     "name": "stdout",
     "output_type": "stream",
     "text": [
      "Dataset Name:  enron , AUC Score(benchmark/combined):  50.586191602602014\n",
      "Dataset Name:  enron , AUC Score (contextual):  83.74476472037448\n",
      "Dataset Name:  enron , AUC Score (structural):  37.010006439787986\n",
      "Dataset Name:  enron , AUC Score (joint-type):  55.971914264597174\n",
      "Dataset Name:  enron , AUC Score (structure type):  37.73780598195313\n",
      "===========================================================================================\n",
      "Dataset Name:  enron  Best AUC Score(benchmark/combined):  77.72176227084564\n",
      "Dataset Name:  enron  Best AUC Score (contextual):  92.76422764227644\n",
      "Dataset Name:  enron  Best AUC Score (structural):  56.990340318026455\n",
      "Dataset Name:  enron  Best AUC Score (joint-type):  55.971914264597174\n",
      "Dataset Name:  enron  Best AUC Score (structure type):  56.82750669372743\n",
      "===========================================================================================\n",
      "Dataset Name:  enron , AUC Score(benchmark/combined):  55.025872264931984\n",
      "Dataset Name:  enron , AUC Score (contextual):  83.81621088938162\n",
      "Dataset Name:  enron , AUC Score (structural):  36.794620300193195\n",
      "Dataset Name:  enron , AUC Score (joint-type):  55.88075880758807\n",
      "Dataset Name:  enron , AUC Score (structure type):  37.52713222612888\n",
      "===========================================================================================\n",
      "Dataset Name:  enron  Best AUC Score(benchmark/combined):  77.72176227084564\n",
      "Dataset Name:  enron  Best AUC Score (contextual):  92.76422764227644\n",
      "Dataset Name:  enron  Best AUC Score (structural):  56.990340318026455\n",
      "Dataset Name:  enron  Best AUC Score (joint-type):  55.88075880758807\n",
      "Dataset Name:  enron  Best AUC Score (structure type):  56.82750669372743\n",
      "===========================================================================================\n"
     ]
    },
    {
     "name": "stderr",
     "output_type": "stream",
     "text": [
      " 67%|██████▋   | 336/500 [00:39<00:19,  8.37it/s]"
     ]
    },
    {
     "name": "stdout",
     "output_type": "stream",
     "text": [
      "Dataset Name:  enron , AUC Score(benchmark/combined):  54.67327025428741\n",
      "Dataset Name:  enron , AUC Score (contextual):  83.79403794037941\n",
      "Dataset Name:  enron , AUC Score (structural):  36.074156635458465\n",
      "Dataset Name:  enron , AUC Score (joint-type):  55.46440009854643\n",
      "Dataset Name:  enron , AUC Score (structure type):  36.81812118266968\n",
      "===========================================================================================\n",
      "Dataset Name:  enron  Best AUC Score(benchmark/combined):  77.72176227084564\n",
      "Dataset Name:  enron  Best AUC Score (contextual):  92.76422764227644\n",
      "Dataset Name:  enron  Best AUC Score (structural):  56.990340318026455\n",
      "Dataset Name:  enron  Best AUC Score (joint-type):  55.46440009854643\n",
      "Dataset Name:  enron  Best AUC Score (structure type):  56.82750669372743\n",
      "===========================================================================================\n",
      "Dataset Name:  enron , AUC Score(benchmark/combined):  53.708604376108816\n",
      "Dataset Name:  enron , AUC Score (contextual):  83.55013550135502\n",
      "Dataset Name:  enron , AUC Score (structural):  36.224253232278194\n",
      "Dataset Name:  enron , AUC Score (joint-type):  55.370780980537084\n",
      "Dataset Name:  enron , AUC Score (structure type):  36.958856206347846\n",
      "===========================================================================================\n",
      "Dataset Name:  enron  Best AUC Score(benchmark/combined):  77.72176227084564\n",
      "Dataset Name:  enron  Best AUC Score (contextual):  92.76422764227644\n",
      "Dataset Name:  enron  Best AUC Score (structural):  56.990340318026455\n",
      "Dataset Name:  enron  Best AUC Score (joint-type):  55.370780980537084\n",
      "Dataset Name:  enron  Best AUC Score (structure type):  56.82750669372743\n",
      "===========================================================================================\n"
     ]
    },
    {
     "name": "stderr",
     "output_type": "stream",
     "text": [
      " 68%|██████▊   | 338/500 [00:40<00:19,  8.43it/s]"
     ]
    },
    {
     "name": "stdout",
     "output_type": "stream",
     "text": [
      "Dataset Name:  enron , AUC Score(benchmark/combined):  53.788438793613246\n",
      "Dataset Name:  enron , AUC Score (contextual):  83.38507021433851\n",
      "Dataset Name:  enron , AUC Score (structural):  36.86189131619359\n",
      "Dataset Name:  enron , AUC Score (joint-type):  55.590046809559\n",
      "Dataset Name:  enron , AUC Score (structure type):  37.58058676118877\n",
      "===========================================================================================\n",
      "Dataset Name:  enron  Best AUC Score(benchmark/combined):  77.72176227084564\n",
      "Dataset Name:  enron  Best AUC Score (contextual):  92.76422764227644\n",
      "Dataset Name:  enron  Best AUC Score (structural):  56.990340318026455\n",
      "Dataset Name:  enron  Best AUC Score (joint-type):  55.590046809559\n",
      "Dataset Name:  enron  Best AUC Score (structure type):  56.82750669372743\n",
      "===========================================================================================\n",
      "Dataset Name:  enron , AUC Score(benchmark/combined):  52.2346244825547\n",
      "Dataset Name:  enron , AUC Score (contextual):  83.29145109632914\n",
      "Dataset Name:  enron , AUC Score (structural):  37.03893594887799\n",
      "Dataset Name:  enron , AUC Score (joint-type):  55.74033013057402\n",
      "Dataset Name:  enron , AUC Score (structure type):  37.75667228844487\n",
      "===========================================================================================\n",
      "Dataset Name:  enron  Best AUC Score(benchmark/combined):  77.72176227084564\n",
      "Dataset Name:  enron  Best AUC Score (contextual):  92.76422764227644\n",
      "Dataset Name:  enron  Best AUC Score (structural):  56.990340318026455\n",
      "Dataset Name:  enron  Best AUC Score (joint-type):  55.74033013057402\n",
      "Dataset Name:  enron  Best AUC Score (structure type):  56.82750669372743\n",
      "===========================================================================================\n"
     ]
    },
    {
     "name": "stderr",
     "output_type": "stream",
     "text": [
      " 68%|██████▊   | 340/500 [00:40<00:19,  8.37it/s]"
     ]
    },
    {
     "name": "stdout",
     "output_type": "stream",
     "text": [
      "Dataset Name:  enron , AUC Score(benchmark/combined):  52.45490833826138\n",
      "Dataset Name:  enron , AUC Score (contextual):  83.28898743532889\n",
      "Dataset Name:  enron , AUC Score (structural):  37.25719522464953\n",
      "Dataset Name:  enron , AUC Score (joint-type):  55.688593249568854\n",
      "Dataset Name:  enron , AUC Score (structure type):  37.96458279735872\n",
      "===========================================================================================\n",
      "Dataset Name:  enron  Best AUC Score(benchmark/combined):  77.72176227084564\n",
      "Dataset Name:  enron  Best AUC Score (contextual):  92.76422764227644\n",
      "Dataset Name:  enron  Best AUC Score (structural):  56.990340318026455\n",
      "Dataset Name:  enron  Best AUC Score (joint-type):  55.688593249568854\n",
      "Dataset Name:  enron  Best AUC Score (structure type):  56.82750669372743\n",
      "===========================================================================================\n",
      "Dataset Name:  enron , AUC Score(benchmark/combined):  51.37270845653459\n",
      "Dataset Name:  enron , AUC Score (contextual):  83.31855136733186\n",
      "Dataset Name:  enron , AUC Score (structural):  37.35324713924803\n",
      "Dataset Name:  enron , AUC Score (joint-type):  55.58019216555802\n",
      "Dataset Name:  enron , AUC Score (structure type):  38.0527684875511\n",
      "===========================================================================================\n",
      "Dataset Name:  enron  Best AUC Score(benchmark/combined):  77.72176227084564\n",
      "Dataset Name:  enron  Best AUC Score (contextual):  92.76422764227644\n",
      "Dataset Name:  enron  Best AUC Score (structural):  56.990340318026455\n",
      "Dataset Name:  enron  Best AUC Score (joint-type):  55.58019216555802\n",
      "Dataset Name:  enron  Best AUC Score (structure type):  56.82750669372743\n",
      "===========================================================================================\n"
     ]
    },
    {
     "name": "stderr",
     "output_type": "stream",
     "text": [
      " 68%|██████▊   | 342/500 [00:40<00:18,  8.46it/s]"
     ]
    },
    {
     "name": "stdout",
     "output_type": "stream",
     "text": [
      "Dataset Name:  enron , AUC Score(benchmark/combined):  51.862063867534005\n",
      "Dataset Name:  enron , AUC Score (contextual):  83.27666913032768\n",
      "Dataset Name:  enron , AUC Score (structural):  37.27334423143607\n",
      "Dataset Name:  enron , AUC Score (joint-type):  55.619610741561964\n",
      "Dataset Name:  enron , AUC Score (structure type):  37.97744618814853\n",
      "===========================================================================================\n",
      "Dataset Name:  enron  Best AUC Score(benchmark/combined):  77.72176227084564\n",
      "Dataset Name:  enron  Best AUC Score (contextual):  92.76422764227644\n",
      "Dataset Name:  enron  Best AUC Score (structural):  56.990340318026455\n",
      "Dataset Name:  enron  Best AUC Score (joint-type):  55.619610741561964\n",
      "Dataset Name:  enron  Best AUC Score (structure type):  56.82750669372743\n",
      "===========================================================================================\n",
      "Dataset Name:  enron , AUC Score(benchmark/combined):  53.189680662329984\n",
      "Dataset Name:  enron , AUC Score (contextual):  83.1559497413156\n",
      "Dataset Name:  enron , AUC Score (structural):  37.09981671372666\n",
      "Dataset Name:  enron , AUC Score (joint-type):  55.94481399359448\n",
      "Dataset Name:  enron , AUC Score (structure type):  37.823133140858886\n",
      "===========================================================================================\n",
      "Dataset Name:  enron  Best AUC Score(benchmark/combined):  77.72176227084564\n",
      "Dataset Name:  enron  Best AUC Score (contextual):  92.76422764227644\n",
      "Dataset Name:  enron  Best AUC Score (structural):  56.990340318026455\n",
      "Dataset Name:  enron  Best AUC Score (joint-type):  55.94481399359448\n",
      "Dataset Name:  enron  Best AUC Score (structure type):  56.82750669372743\n",
      "===========================================================================================\n"
     ]
    },
    {
     "name": "stderr",
     "output_type": "stream",
     "text": [
      " 69%|██████▉   | 344/500 [00:40<00:18,  8.47it/s]"
     ]
    },
    {
     "name": "stdout",
     "output_type": "stream",
     "text": [
      "Dataset Name:  enron , AUC Score(benchmark/combined):  52.86960378474275\n",
      "Dataset Name:  enron , AUC Score (contextual):  83.04754865730474\n",
      "Dataset Name:  enron , AUC Score (structural):  36.81740724228464\n",
      "Dataset Name:  enron , AUC Score (joint-type):  56.198571076619864\n",
      "Dataset Name:  enron , AUC Score (structure type):  37.56133931719216\n",
      "===========================================================================================\n",
      "Dataset Name:  enron  Best AUC Score(benchmark/combined):  77.72176227084564\n",
      "Dataset Name:  enron  Best AUC Score (contextual):  92.76422764227644\n",
      "Dataset Name:  enron  Best AUC Score (structural):  56.990340318026455\n",
      "Dataset Name:  enron  Best AUC Score (joint-type):  56.198571076619864\n",
      "Dataset Name:  enron  Best AUC Score (structure type):  56.82750669372743\n",
      "===========================================================================================\n",
      "Dataset Name:  enron , AUC Score(benchmark/combined):  53.140153755174445\n",
      "Dataset Name:  enron , AUC Score (contextual):  82.93175659029318\n",
      "Dataset Name:  enron , AUC Score (structural):  37.20067370089662\n",
      "Dataset Name:  enron , AUC Score (joint-type):  55.94481399359448\n",
      "Dataset Name:  enron , AUC Score (structure type):  37.9201326358517\n",
      "===========================================================================================\n",
      "Dataset Name:  enron  Best AUC Score(benchmark/combined):  77.72176227084564\n",
      "Dataset Name:  enron  Best AUC Score (contextual):  92.76422764227644\n",
      "Dataset Name:  enron  Best AUC Score (structural):  56.990340318026455\n",
      "Dataset Name:  enron  Best AUC Score (joint-type):  55.94481399359448\n",
      "Dataset Name:  enron  Best AUC Score (structure type):  56.82750669372743\n",
      "===========================================================================================\n"
     ]
    },
    {
     "name": "stderr",
     "output_type": "stream",
     "text": [
      " 69%|██████▉   | 346/500 [00:40<00:18,  8.33it/s]"
     ]
    },
    {
     "name": "stdout",
     "output_type": "stream",
     "text": [
      "Dataset Name:  enron , AUC Score(benchmark/combined):  53.573329390892965\n",
      "Dataset Name:  enron , AUC Score (contextual):  82.99581177629958\n",
      "Dataset Name:  enron , AUC Score (structural):  37.41655520879774\n",
      "Dataset Name:  enron , AUC Score (joint-type):  55.594974131559496\n",
      "Dataset Name:  enron , AUC Score (structure type):  38.11422691021353\n",
      "===========================================================================================\n",
      "Dataset Name:  enron  Best AUC Score(benchmark/combined):  77.72176227084564\n",
      "Dataset Name:  enron  Best AUC Score (contextual):  92.76422764227644\n",
      "Dataset Name:  enron  Best AUC Score (structural):  56.990340318026455\n",
      "Dataset Name:  enron  Best AUC Score (joint-type):  55.594974131559496\n",
      "Dataset Name:  enron  Best AUC Score (structure type):  56.82750669372743\n",
      "===========================================================================================\n",
      "Dataset Name:  enron , AUC Score(benchmark/combined):  53.6834713187463\n",
      "Dataset Name:  enron , AUC Score (contextual):  83.13870411431387\n",
      "Dataset Name:  enron , AUC Score (structural):  37.21033338287016\n",
      "Dataset Name:  enron , AUC Score (joint-type):  55.6541019955654\n",
      "Dataset Name:  enron , AUC Score (structure type):  37.91817930613917\n",
      "===========================================================================================\n",
      "Dataset Name:  enron  Best AUC Score(benchmark/combined):  77.72176227084564\n",
      "Dataset Name:  enron  Best AUC Score (contextual):  92.76422764227644\n",
      "Dataset Name:  enron  Best AUC Score (structural):  56.990340318026455\n",
      "Dataset Name:  enron  Best AUC Score (joint-type):  55.6541019955654\n",
      "Dataset Name:  enron  Best AUC Score (structure type):  56.82750669372743\n",
      "===========================================================================================\n"
     ]
    },
    {
     "name": "stderr",
     "output_type": "stream",
     "text": [
      " 70%|██████▉   | 348/500 [00:41<00:18,  8.24it/s]"
     ]
    },
    {
     "name": "stdout",
     "output_type": "stream",
     "text": [
      "Dataset Name:  enron , AUC Score(benchmark/combined):  53.24586043761088\n",
      "Dataset Name:  enron , AUC Score (contextual):  83.21507760532151\n",
      "Dataset Name:  enron , AUC Score (structural):  37.12379253975331\n",
      "Dataset Name:  enron , AUC Score (joint-type):  55.787139689578716\n",
      "Dataset Name:  enron , AUC Score (structure type):  37.8400937598262\n",
      "===========================================================================================\n",
      "Dataset Name:  enron  Best AUC Score(benchmark/combined):  77.72176227084564\n",
      "Dataset Name:  enron  Best AUC Score (contextual):  92.76422764227644\n",
      "Dataset Name:  enron  Best AUC Score (structural):  56.990340318026455\n",
      "Dataset Name:  enron  Best AUC Score (joint-type):  55.787139689578716\n",
      "Dataset Name:  enron  Best AUC Score (structure type):  56.82750669372743\n",
      "===========================================================================================\n",
      "Dataset Name:  enron , AUC Score(benchmark/combined):  53.077321111768185\n",
      "Dataset Name:  enron , AUC Score (contextual):  83.21261394432126\n",
      "Dataset Name:  enron , AUC Score (structural):  35.87645514439986\n",
      "Dataset Name:  enron , AUC Score (joint-type):  56.31436314363143\n",
      "Dataset Name:  enron , AUC Score (structure type):  36.660854319717195\n",
      "===========================================================================================\n",
      "Dataset Name:  enron  Best AUC Score(benchmark/combined):  77.72176227084564\n",
      "Dataset Name:  enron  Best AUC Score (contextual):  92.76422764227644\n",
      "Dataset Name:  enron  Best AUC Score (structural):  56.990340318026455\n",
      "Dataset Name:  enron  Best AUC Score (joint-type):  56.31436314363143\n",
      "Dataset Name:  enron  Best AUC Score (structure type):  56.82750669372743\n",
      "===========================================================================================\n"
     ]
    },
    {
     "name": "stderr",
     "output_type": "stream",
     "text": [
      " 70%|███████   | 350/500 [00:41<00:18,  8.33it/s]"
     ]
    },
    {
     "name": "stdout",
     "output_type": "stream",
     "text": [
      "Dataset Name:  enron , AUC Score(benchmark/combined):  49.21274393849793\n",
      "Dataset Name:  enron , AUC Score (contextual):  83.1781226903178\n",
      "Dataset Name:  enron , AUC Score (structural):  37.502105315301925\n",
      "Dataset Name:  enron , AUC Score (joint-type):  55.1810790835181\n",
      "Dataset Name:  enron , AUC Score (structure type):  38.18049719387512\n",
      "===========================================================================================\n",
      "Dataset Name:  enron  Best AUC Score(benchmark/combined):  77.72176227084564\n",
      "Dataset Name:  enron  Best AUC Score (contextual):  92.76422764227644\n",
      "Dataset Name:  enron  Best AUC Score (structural):  56.990340318026455\n",
      "Dataset Name:  enron  Best AUC Score (joint-type):  55.1810790835181\n",
      "Dataset Name:  enron  Best AUC Score (structure type):  56.82750669372743\n",
      "===========================================================================================\n",
      "Dataset Name:  enron , AUC Score(benchmark/combined):  52.313719692489656\n",
      "Dataset Name:  enron , AUC Score (contextual):  83.17073170731707\n",
      "Dataset Name:  enron , AUC Score (structural):  37.00049536830633\n",
      "Dataset Name:  enron , AUC Score (joint-type):  50.06651884700665\n",
      "Dataset Name:  enron , AUC Score (structure type):  37.500262032034605\n",
      "===========================================================================================\n",
      "Dataset Name:  enron  Best AUC Score(benchmark/combined):  77.72176227084564\n",
      "Dataset Name:  enron  Best AUC Score (contextual):  92.76422764227644\n",
      "Dataset Name:  enron  Best AUC Score (structural):  56.990340318026455\n",
      "Dataset Name:  enron  Best AUC Score (joint-type):  50.06651884700665\n",
      "Dataset Name:  enron  Best AUC Score (structure type):  56.82750669372743\n",
      "===========================================================================================\n"
     ]
    },
    {
     "name": "stderr",
     "output_type": "stream",
     "text": [
      " 70%|███████   | 352/500 [00:41<00:17,  8.48it/s]"
     ]
    },
    {
     "name": "stdout",
     "output_type": "stream",
     "text": [
      "Dataset Name:  enron , AUC Score(benchmark/combined):  54.112950916617386\n",
      "Dataset Name:  enron , AUC Score (contextual):  83.19536831731953\n",
      "Dataset Name:  enron , AUC Score (structural):  35.93693961460346\n",
      "Dataset Name:  enron , AUC Score (joint-type):  55.3190440995319\n",
      "Dataset Name:  enron , AUC Score (structure type):  36.68053054340679\n",
      "===========================================================================================\n",
      "Dataset Name:  enron  Best AUC Score(benchmark/combined):  77.72176227084564\n",
      "Dataset Name:  enron  Best AUC Score (contextual):  92.76422764227644\n",
      "Dataset Name:  enron  Best AUC Score (structural):  56.990340318026455\n",
      "Dataset Name:  enron  Best AUC Score (joint-type):  55.3190440995319\n",
      "Dataset Name:  enron  Best AUC Score (structure type):  56.82750669372743\n",
      "===========================================================================================\n",
      "Dataset Name:  enron , AUC Score(benchmark/combined):  53.944411590774685\n",
      "Dataset Name:  enron , AUC Score (contextual):  83.33333333333333\n",
      "Dataset Name:  enron , AUC Score (structural):  33.83999603705355\n",
      "Dataset Name:  enron , AUC Score (joint-type):  56.856368563685635\n",
      "Dataset Name:  enron , AUC Score (structure type):  34.723246529266596\n",
      "===========================================================================================\n",
      "Dataset Name:  enron  Best AUC Score(benchmark/combined):  77.72176227084564\n",
      "Dataset Name:  enron  Best AUC Score (contextual):  92.76422764227644\n",
      "Dataset Name:  enron  Best AUC Score (structural):  56.990340318026455\n",
      "Dataset Name:  enron  Best AUC Score (joint-type):  56.856368563685635\n",
      "Dataset Name:  enron  Best AUC Score (structure type):  56.82750669372743\n",
      "===========================================================================================\n"
     ]
    },
    {
     "name": "stderr",
     "output_type": "stream",
     "text": [
      " 71%|███████   | 354/500 [00:41<00:17,  8.46it/s]"
     ]
    },
    {
     "name": "stdout",
     "output_type": "stream",
     "text": [
      "Dataset Name:  enron , AUC Score(benchmark/combined):  54.46629213483146\n",
      "Dataset Name:  enron , AUC Score (contextual):  83.21507760532151\n",
      "Dataset Name:  enron , AUC Score (structural):  34.630504780304165\n",
      "Dataset Name:  enron , AUC Score (joint-type):  56.10495195861049\n",
      "Dataset Name:  enron , AUC Score (structure type):  35.45445883238525\n",
      "===========================================================================================\n",
      "Dataset Name:  enron  Best AUC Score(benchmark/combined):  77.72176227084564\n",
      "Dataset Name:  enron  Best AUC Score (contextual):  92.76422764227644\n",
      "Dataset Name:  enron  Best AUC Score (structural):  56.990340318026455\n",
      "Dataset Name:  enron  Best AUC Score (joint-type):  56.10495195861049\n",
      "Dataset Name:  enron  Best AUC Score (structure type):  56.82750669372743\n",
      "===========================================================================================\n",
      "Dataset Name:  enron , AUC Score(benchmark/combined):  58.256948551153165\n",
      "Dataset Name:  enron , AUC Score (contextual):  83.00073909830007\n",
      "Dataset Name:  enron , AUC Score (structural):  35.09090008421261\n",
      "Dataset Name:  enron , AUC Score (joint-type):  55.92264104459226\n",
      "Dataset Name:  enron , AUC Score (structure type):  35.89019428484311\n",
      "===========================================================================================\n",
      "Dataset Name:  enron  Best AUC Score(benchmark/combined):  77.72176227084564\n",
      "Dataset Name:  enron  Best AUC Score (contextual):  92.76422764227644\n",
      "Dataset Name:  enron  Best AUC Score (structural):  56.990340318026455\n",
      "Dataset Name:  enron  Best AUC Score (joint-type):  55.92264104459226\n",
      "Dataset Name:  enron  Best AUC Score (structure type):  56.82750669372743\n",
      "===========================================================================================\n"
     ]
    },
    {
     "name": "stderr",
     "output_type": "stream",
     "text": [
      " 71%|███████   | 356/500 [00:42<00:17,  8.45it/s]"
     ]
    },
    {
     "name": "stdout",
     "output_type": "stream",
     "text": [
      "Dataset Name:  enron , AUC Score(benchmark/combined):  58.478710821998824\n",
      "Dataset Name:  enron , AUC Score (contextual):  82.80364621828036\n",
      "Dataset Name:  enron , AUC Score (structural):  35.47114479615594\n",
      "Dataset Name:  enron , AUC Score (joint-type):  55.57280118255727\n",
      "Dataset Name:  enron , AUC Score (structure type):  36.24236533935531\n",
      "===========================================================================================\n",
      "Dataset Name:  enron  Best AUC Score(benchmark/combined):  77.72176227084564\n",
      "Dataset Name:  enron  Best AUC Score (contextual):  92.76422764227644\n",
      "Dataset Name:  enron  Best AUC Score (structural):  56.990340318026455\n",
      "Dataset Name:  enron  Best AUC Score (joint-type):  55.57280118255727\n",
      "Dataset Name:  enron  Best AUC Score (structure type):  56.82750669372743\n",
      "===========================================================================================\n",
      "Dataset Name:  enron , AUC Score(benchmark/combined):  58.214074512123005\n",
      "Dataset Name:  enron , AUC Score (contextual):  82.83813747228382\n",
      "Dataset Name:  enron , AUC Score (structural):  35.52578392034478\n",
      "Dataset Name:  enron , AUC Score (joint-type):  54.92732200049273\n",
      "Dataset Name:  enron , AUC Score (structure type):  36.269950166271244\n",
      "===========================================================================================\n",
      "Dataset Name:  enron  Best AUC Score(benchmark/combined):  77.72176227084564\n",
      "Dataset Name:  enron  Best AUC Score (contextual):  92.76422764227644\n",
      "Dataset Name:  enron  Best AUC Score (structural):  56.990340318026455\n",
      "Dataset Name:  enron  Best AUC Score (joint-type):  54.92732200049273\n",
      "Dataset Name:  enron  Best AUC Score (structure type):  56.82750669372743\n",
      "===========================================================================================\n"
     ]
    },
    {
     "name": "stderr",
     "output_type": "stream",
     "text": [
      " 72%|███████▏  | 358/500 [00:42<00:17,  8.20it/s]"
     ]
    },
    {
     "name": "stdout",
     "output_type": "stream",
     "text": [
      "Dataset Name:  enron , AUC Score(benchmark/combined):  57.48743347131875\n",
      "Dataset Name:  enron , AUC Score (contextual):  83.47376201034737\n",
      "Dataset Name:  enron , AUC Score (structural):  34.216723634021896\n",
      "Dataset Name:  enron , AUC Score (joint-type):  54.629219019462916\n",
      "Dataset Name:  enron , AUC Score (structure type):  34.999428293742675\n",
      "===========================================================================================\n",
      "Dataset Name:  enron  Best AUC Score(benchmark/combined):  77.72176227084564\n",
      "Dataset Name:  enron  Best AUC Score (contextual):  92.76422764227644\n",
      "Dataset Name:  enron  Best AUC Score (structural):  56.990340318026455\n",
      "Dataset Name:  enron  Best AUC Score (joint-type):  54.629219019462916\n",
      "Dataset Name:  enron  Best AUC Score (structure type):  56.82750669372743\n",
      "===========================================================================================\n",
      "Dataset Name:  enron , AUC Score(benchmark/combined):  55.28829095209935\n",
      "Dataset Name:  enron , AUC Score (contextual):  83.85316580438531\n",
      "Dataset Name:  enron , AUC Score (structural):  32.84499925694754\n",
      "Dataset Name:  enron , AUC Score (joint-type):  56.32914510963292\n",
      "Dataset Name:  enron , AUC Score (structure type):  33.74591468236953\n",
      "===========================================================================================\n",
      "Dataset Name:  enron  Best AUC Score(benchmark/combined):  77.72176227084564\n",
      "Dataset Name:  enron  Best AUC Score (contextual):  92.76422764227644\n",
      "Dataset Name:  enron  Best AUC Score (structural):  56.990340318026455\n",
      "Dataset Name:  enron  Best AUC Score (joint-type):  56.32914510963292\n",
      "Dataset Name:  enron  Best AUC Score (structure type):  56.82750669372743\n",
      "===========================================================================================\n"
     ]
    },
    {
     "name": "stderr",
     "output_type": "stream",
     "text": [
      " 72%|███████▏  | 360/500 [00:42<00:16,  8.54it/s]"
     ]
    },
    {
     "name": "stdout",
     "output_type": "stream",
     "text": [
      "Dataset Name:  enron , AUC Score(benchmark/combined):  52.69071555292726\n",
      "Dataset Name:  enron , AUC Score (contextual):  83.57230845035723\n",
      "Dataset Name:  enron , AUC Score (structural):  31.81374151681775\n",
      "Dataset Name:  enron , AUC Score (joint-type):  59.898989898989896\n",
      "Dataset Name:  enron , AUC Score (structure type):  32.892166671430886\n",
      "===========================================================================================\n",
      "Dataset Name:  enron  Best AUC Score(benchmark/combined):  77.72176227084564\n",
      "Dataset Name:  enron  Best AUC Score (contextual):  92.76422764227644\n",
      "Dataset Name:  enron  Best AUC Score (structural):  56.990340318026455\n",
      "Dataset Name:  enron  Best AUC Score (joint-type):  59.898989898989896\n",
      "Dataset Name:  enron  Best AUC Score (structure type):  56.82750669372743\n",
      "===========================================================================================\n",
      "Dataset Name:  enron , AUC Score(benchmark/combined):  52.69145476049675\n",
      "Dataset Name:  enron , AUC Score (contextual):  82.82828282828282\n",
      "Dataset Name:  enron , AUC Score (structural):  31.326398177044634\n",
      "Dataset Name:  enron , AUC Score (joint-type):  60.335057896033504\n",
      "Dataset Name:  enron , AUC Score (structure type):  32.440328159391704\n",
      "===========================================================================================\n",
      "Dataset Name:  enron  Best AUC Score(benchmark/combined):  77.72176227084564\n",
      "Dataset Name:  enron  Best AUC Score (contextual):  92.76422764227644\n",
      "Dataset Name:  enron  Best AUC Score (structural):  56.990340318026455\n",
      "Dataset Name:  enron  Best AUC Score (joint-type):  60.335057896033504\n",
      "Dataset Name:  enron  Best AUC Score (structure type):  56.82750669372743\n",
      "===========================================================================================\n"
     ]
    },
    {
     "name": "stderr",
     "output_type": "stream",
     "text": [
      " 72%|███████▏  | 362/500 [00:42<00:15,  8.70it/s]"
     ]
    },
    {
     "name": "stdout",
     "output_type": "stream",
     "text": [
      "Dataset Name:  enron , AUC Score(benchmark/combined):  55.41099940863394\n",
      "Dataset Name:  enron , AUC Score (contextual):  82.2641044592264\n",
      "Dataset Name:  enron , AUC Score (structural):  31.95214742160796\n",
      "Dataset Name:  enron , AUC Score (joint-type):  58.0241438778024\n",
      "Dataset Name:  enron , AUC Score (structure type):  32.952767534707334\n",
      "===========================================================================================\n",
      "Dataset Name:  enron  Best AUC Score(benchmark/combined):  77.72176227084564\n",
      "Dataset Name:  enron  Best AUC Score (contextual):  92.76422764227644\n",
      "Dataset Name:  enron  Best AUC Score (structural):  56.990340318026455\n",
      "Dataset Name:  enron  Best AUC Score (joint-type):  58.0241438778024\n",
      "Dataset Name:  enron  Best AUC Score (structure type):  56.82750669372743\n",
      "===========================================================================================\n",
      "Dataset Name:  enron , AUC Score(benchmark/combined):  57.46377882909521\n",
      "Dataset Name:  enron , AUC Score (contextual):  81.98571076619857\n",
      "Dataset Name:  enron , AUC Score (structural):  33.61118541635706\n",
      "Dataset Name:  enron , AUC Score (joint-type):  56.257698940625765\n",
      "Dataset Name:  enron , AUC Score (structure type):  34.48003315896292\n",
      "===========================================================================================\n",
      "Dataset Name:  enron  Best AUC Score(benchmark/combined):  77.72176227084564\n",
      "Dataset Name:  enron  Best AUC Score (contextual):  92.76422764227644\n",
      "Dataset Name:  enron  Best AUC Score (structural):  56.990340318026455\n",
      "Dataset Name:  enron  Best AUC Score (joint-type):  56.257698940625765\n",
      "Dataset Name:  enron  Best AUC Score (structure type):  56.82750669372743\n",
      "===========================================================================================\n"
     ]
    },
    {
     "name": "stderr",
     "output_type": "stream",
     "text": [
      " 73%|███████▎  | 364/500 [00:43<00:15,  8.80it/s]"
     ]
    },
    {
     "name": "stdout",
     "output_type": "stream",
     "text": [
      "Dataset Name:  enron , AUC Score(benchmark/combined):  56.60334121821408\n",
      "Dataset Name:  enron , AUC Score (contextual):  82.04853412170485\n",
      "Dataset Name:  enron , AUC Score (structural):  34.785208302372816\n",
      "Dataset Name:  enron , AUC Score (joint-type):  55.2919438285292\n",
      "Dataset Name:  enron , AUC Score (structure type):  35.571801541701205\n",
      "===========================================================================================\n",
      "Dataset Name:  enron  Best AUC Score(benchmark/combined):  77.72176227084564\n",
      "Dataset Name:  enron  Best AUC Score (contextual):  92.76422764227644\n",
      "Dataset Name:  enron  Best AUC Score (structural):  56.990340318026455\n",
      "Dataset Name:  enron  Best AUC Score (joint-type):  55.2919438285292\n",
      "Dataset Name:  enron  Best AUC Score (structure type):  56.82750669372743\n",
      "===========================================================================================\n",
      "Dataset Name:  enron , AUC Score(benchmark/combined):  54.64591957421644\n",
      "Dataset Name:  enron , AUC Score (contextual):  82.32569598423257\n",
      "Dataset Name:  enron , AUC Score (structural):  34.48868083420023\n",
      "Dataset Name:  enron , AUC Score (joint-type):  55.033259423503324\n",
      "Dataset Name:  enron , AUC Score (structure type):  35.27661054416907\n",
      "===========================================================================================\n",
      "Dataset Name:  enron  Best AUC Score(benchmark/combined):  77.72176227084564\n",
      "Dataset Name:  enron  Best AUC Score (contextual):  92.76422764227644\n",
      "Dataset Name:  enron  Best AUC Score (structural):  56.990340318026455\n",
      "Dataset Name:  enron  Best AUC Score (joint-type):  55.033259423503324\n",
      "Dataset Name:  enron  Best AUC Score (structure type):  56.82750669372743\n",
      "===========================================================================================\n"
     ]
    },
    {
     "name": "stderr",
     "output_type": "stream",
     "text": [
      " 73%|███████▎  | 366/500 [00:43<00:15,  8.90it/s]"
     ]
    },
    {
     "name": "stdout",
     "output_type": "stream",
     "text": [
      "Dataset Name:  enron , AUC Score(benchmark/combined):  54.421939680662334\n",
      "Dataset Name:  enron , AUC Score (contextual):  82.8159645232816\n",
      "Dataset Name:  enron , AUC Score (structural):  32.960073314509344\n",
      "Dataset Name:  enron , AUC Score (joint-type):  55.49889135254988\n",
      "Dataset Name:  enron , AUC Score (structure type):  33.824476650563604\n",
      "===========================================================================================\n",
      "Dataset Name:  enron  Best AUC Score(benchmark/combined):  77.72176227084564\n",
      "Dataset Name:  enron  Best AUC Score (contextual):  92.76422764227644\n",
      "Dataset Name:  enron  Best AUC Score (structural):  56.990340318026455\n",
      "Dataset Name:  enron  Best AUC Score (joint-type):  55.49889135254988\n",
      "Dataset Name:  enron  Best AUC Score (structure type):  56.82750669372743\n",
      "===========================================================================================\n",
      "Dataset Name:  enron , AUC Score(benchmark/combined):  55.398432879952686\n",
      "Dataset Name:  enron , AUC Score (contextual):  83.06972160630697\n",
      "Dataset Name:  enron , AUC Score (structural):  31.638480210036164\n",
      "Dataset Name:  enron , AUC Score (joint-type):  56.624784429662476\n",
      "Dataset Name:  enron , AUC Score (structure type):  32.596975673898754\n",
      "===========================================================================================\n",
      "Dataset Name:  enron  Best AUC Score(benchmark/combined):  77.72176227084564\n",
      "Dataset Name:  enron  Best AUC Score (contextual):  92.76422764227644\n",
      "Dataset Name:  enron  Best AUC Score (structural):  56.990340318026455\n",
      "Dataset Name:  enron  Best AUC Score (joint-type):  56.624784429662476\n",
      "Dataset Name:  enron  Best AUC Score (structure type):  56.82750669372743\n",
      "===========================================================================================\n"
     ]
    },
    {
     "name": "stderr",
     "output_type": "stream",
     "text": [
      " 74%|███████▎  | 368/500 [00:43<00:14,  9.01it/s]"
     ]
    },
    {
     "name": "stdout",
     "output_type": "stream",
     "text": [
      "Dataset Name:  enron , AUC Score(benchmark/combined):  53.89488468361916\n",
      "Dataset Name:  enron , AUC Score (contextual):  82.96871150529688\n",
      "Dataset Name:  enron , AUC Score (structural):  31.072224699063757\n",
      "Dataset Name:  enron , AUC Score (joint-type):  57.447647203744765\n",
      "Dataset Name:  enron , AUC Score (structure type):  32.08420280326635\n",
      "===========================================================================================\n",
      "Dataset Name:  enron  Best AUC Score(benchmark/combined):  77.72176227084564\n",
      "Dataset Name:  enron  Best AUC Score (contextual):  92.76422764227644\n",
      "Dataset Name:  enron  Best AUC Score (structural):  56.990340318026455\n",
      "Dataset Name:  enron  Best AUC Score (joint-type):  57.447647203744765\n",
      "Dataset Name:  enron  Best AUC Score (structure type):  56.82750669372743\n",
      "===========================================================================================\n",
      "Dataset Name:  enron , AUC Score(benchmark/combined):  53.09580130100533\n",
      "Dataset Name:  enron , AUC Score (contextual):  82.79625523527963\n",
      "Dataset Name:  enron , AUC Score (structural):  31.457670778223612\n",
      "Dataset Name:  enron , AUC Score (joint-type):  56.8440502586844\n",
      "Dataset Name:  enron , AUC Score (structure type):  32.431561996779394\n",
      "===========================================================================================\n",
      "Dataset Name:  enron  Best AUC Score(benchmark/combined):  77.72176227084564\n",
      "Dataset Name:  enron  Best AUC Score (contextual):  92.76422764227644\n",
      "Dataset Name:  enron  Best AUC Score (structural):  56.990340318026455\n",
      "Dataset Name:  enron  Best AUC Score (joint-type):  56.8440502586844\n",
      "Dataset Name:  enron  Best AUC Score (structure type):  56.82750669372743\n",
      "===========================================================================================\n"
     ]
    },
    {
     "name": "stderr",
     "output_type": "stream",
     "text": [
      " 74%|███████▍  | 370/500 [00:43<00:14,  9.03it/s]"
     ]
    },
    {
     "name": "stdout",
     "output_type": "stream",
     "text": [
      "Dataset Name:  enron , AUC Score(benchmark/combined):  52.68110585452395\n",
      "Dataset Name:  enron , AUC Score (contextual):  82.67307218526732\n",
      "Dataset Name:  enron , AUC Score (structural):  32.691633229305985\n",
      "Dataset Name:  enron , AUC Score (joint-type):  56.21088938162109\n",
      "Dataset Name:  enron , AUC Score (structure type):  33.593840817921084\n",
      "===========================================================================================\n",
      "Dataset Name:  enron  Best AUC Score(benchmark/combined):  77.72176227084564\n",
      "Dataset Name:  enron  Best AUC Score (contextual):  92.76422764227644\n",
      "Dataset Name:  enron  Best AUC Score (structural):  56.990340318026455\n",
      "Dataset Name:  enron  Best AUC Score (joint-type):  56.21088938162109\n",
      "Dataset Name:  enron  Best AUC Score (structure type):  56.82750669372743\n",
      "===========================================================================================\n",
      "Dataset Name:  enron , AUC Score(benchmark/combined):  52.98270254287404\n",
      "Dataset Name:  enron , AUC Score (contextual):  82.59669869425967\n",
      "Dataset Name:  enron , AUC Score (structural):  33.9523455689305\n",
      "Dataset Name:  enron , AUC Score (joint-type):  55.87583148558758\n",
      "Dataset Name:  enron , AUC Score (structure type):  34.79337583016513\n",
      "===========================================================================================\n",
      "Dataset Name:  enron  Best AUC Score(benchmark/combined):  77.72176227084564\n",
      "Dataset Name:  enron  Best AUC Score (contextual):  92.76422764227644\n",
      "Dataset Name:  enron  Best AUC Score (structural):  56.990340318026455\n",
      "Dataset Name:  enron  Best AUC Score (joint-type):  55.87583148558758\n",
      "Dataset Name:  enron  Best AUC Score (structure type):  56.82750669372743\n",
      "===========================================================================================\n"
     ]
    },
    {
     "name": "stderr",
     "output_type": "stream",
     "text": [
      " 74%|███████▍  | 372/500 [00:43<00:14,  9.02it/s]"
     ]
    },
    {
     "name": "stdout",
     "output_type": "stream",
     "text": [
      "Dataset Name:  enron , AUC Score(benchmark/combined):  53.88675340035483\n",
      "Dataset Name:  enron , AUC Score (contextual):  82.59669869425967\n",
      "Dataset Name:  enron , AUC Score (structural):  34.29627978401942\n",
      "Dataset Name:  enron , AUC Score (joint-type):  55.62946538556295\n",
      "Dataset Name:  enron , AUC Score (structure type):  35.11462710459365\n",
      "===========================================================================================\n",
      "Dataset Name:  enron  Best AUC Score(benchmark/combined):  77.72176227084564\n",
      "Dataset Name:  enron  Best AUC Score (contextual):  92.76422764227644\n",
      "Dataset Name:  enron  Best AUC Score (structural):  56.990340318026455\n",
      "Dataset Name:  enron  Best AUC Score (joint-type):  55.62946538556295\n",
      "Dataset Name:  enron  Best AUC Score (structure type):  56.82750669372743\n",
      "===========================================================================================\n",
      "Dataset Name:  enron , AUC Score(benchmark/combined):  56.73565937315198\n",
      "Dataset Name:  enron , AUC Score (contextual):  82.710027100271\n",
      "Dataset Name:  enron , AUC Score (structural):  34.17694555902313\n",
      "Dataset Name:  enron , AUC Score (joint-type):  55.56787386055678\n",
      "Dataset Name:  enron , AUC Score (structure type):  34.99747496403015\n",
      "===========================================================================================\n",
      "Dataset Name:  enron  Best AUC Score(benchmark/combined):  77.72176227084564\n",
      "Dataset Name:  enron  Best AUC Score (contextual):  92.76422764227644\n",
      "Dataset Name:  enron  Best AUC Score (structural):  56.990340318026455\n",
      "Dataset Name:  enron  Best AUC Score (joint-type):  55.56787386055678\n",
      "Dataset Name:  enron  Best AUC Score (structure type):  56.82750669372743\n",
      "===========================================================================================\n"
     ]
    },
    {
     "name": "stderr",
     "output_type": "stream",
     "text": [
      " 75%|███████▍  | 374/500 [00:44<00:13,  9.01it/s]"
     ]
    },
    {
     "name": "stdout",
     "output_type": "stream",
     "text": [
      "Dataset Name:  enron , AUC Score(benchmark/combined):  55.02735068007097\n",
      "Dataset Name:  enron , AUC Score (contextual):  82.80857354028086\n",
      "Dataset Name:  enron , AUC Score (structural):  33.85416357061475\n",
      "Dataset Name:  enron , AUC Score (joint-type):  55.824094604582406\n",
      "Dataset Name:  enron , AUC Score (structure type):  34.69694804142964\n",
      "===========================================================================================\n",
      "Dataset Name:  enron  Best AUC Score(benchmark/combined):  77.72176227084564\n",
      "Dataset Name:  enron  Best AUC Score (contextual):  92.76422764227644\n",
      "Dataset Name:  enron  Best AUC Score (structural):  56.990340318026455\n",
      "Dataset Name:  enron  Best AUC Score (joint-type):  55.824094604582406\n",
      "Dataset Name:  enron  Best AUC Score (structure type):  56.82750669372743\n",
      "===========================================================================================\n",
      "Dataset Name:  enron , AUC Score(benchmark/combined):  54.95490833826139\n",
      "Dataset Name:  enron , AUC Score (contextual):  82.91943828529193\n",
      "Dataset Name:  enron , AUC Score (structural):  34.33685044830832\n",
      "Dataset Name:  enron , AUC Score (joint-type):  55.96945060359695\n",
      "Dataset Name:  enron , AUC Score (structure type):  35.16679530057457\n",
      "===========================================================================================\n",
      "Dataset Name:  enron  Best AUC Score(benchmark/combined):  77.72176227084564\n",
      "Dataset Name:  enron  Best AUC Score (contextual):  92.76422764227644\n",
      "Dataset Name:  enron  Best AUC Score (structural):  56.990340318026455\n",
      "Dataset Name:  enron  Best AUC Score (joint-type):  55.96945060359695\n",
      "Dataset Name:  enron  Best AUC Score (structure type):  56.82750669372743\n",
      "===========================================================================================\n"
     ]
    },
    {
     "name": "stderr",
     "output_type": "stream",
     "text": [
      " 75%|███████▌  | 376/500 [00:44<00:13,  8.93it/s]"
     ]
    },
    {
     "name": "stdout",
     "output_type": "stream",
     "text": [
      "Dataset Name:  enron , AUC Score(benchmark/combined):  54.23418095801301\n",
      "Dataset Name:  enron , AUC Score (contextual):  82.9440748952944\n",
      "Dataset Name:  enron , AUC Score (structural):  35.37271511368702\n",
      "Dataset Name:  enron , AUC Score (joint-type):  55.838876570583885\n",
      "Dataset Name:  enron , AUC Score (structure type):  36.15799102421175\n",
      "===========================================================================================\n",
      "Dataset Name:  enron  Best AUC Score(benchmark/combined):  77.72176227084564\n",
      "Dataset Name:  enron  Best AUC Score (contextual):  92.76422764227644\n",
      "Dataset Name:  enron  Best AUC Score (structural):  56.990340318026455\n",
      "Dataset Name:  enron  Best AUC Score (joint-type):  55.838876570583885\n",
      "Dataset Name:  enron  Best AUC Score (structure type):  56.82750669372743\n",
      "===========================================================================================\n",
      "Dataset Name:  enron , AUC Score(benchmark/combined):  54.54316972205795\n",
      "Dataset Name:  enron , AUC Score (contextual):  82.94161123429416\n",
      "Dataset Name:  enron , AUC Score (structural):  36.6596324367167\n",
      "Dataset Name:  enron , AUC Score (joint-type):  55.6910569105691\n",
      "Dataset Name:  enron , AUC Score (structure type):  37.389970366559\n",
      "===========================================================================================\n",
      "Dataset Name:  enron  Best AUC Score(benchmark/combined):  77.72176227084564\n",
      "Dataset Name:  enron  Best AUC Score (contextual):  92.76422764227644\n",
      "Dataset Name:  enron  Best AUC Score (structural):  56.990340318026455\n",
      "Dataset Name:  enron  Best AUC Score (joint-type):  55.6910569105691\n",
      "Dataset Name:  enron  Best AUC Score (structure type):  56.82750669372743\n",
      "===========================================================================================\n"
     ]
    },
    {
     "name": "stderr",
     "output_type": "stream",
     "text": [
      " 76%|███████▌  | 378/500 [00:44<00:13,  8.92it/s]"
     ]
    },
    {
     "name": "stdout",
     "output_type": "stream",
     "text": [
      "Dataset Name:  enron , AUC Score(benchmark/combined):  54.69248965109402\n",
      "Dataset Name:  enron , AUC Score (contextual):  82.82335550628233\n",
      "Dataset Name:  enron , AUC Score (structural):  36.999752315846834\n",
      "Dataset Name:  enron , AUC Score (joint-type):  55.7649667405765\n",
      "Dataset Name:  enron , AUC Score (structure type):  37.719940161411735\n",
      "===========================================================================================\n",
      "Dataset Name:  enron  Best AUC Score(benchmark/combined):  77.72176227084564\n",
      "Dataset Name:  enron  Best AUC Score (contextual):  92.76422764227644\n",
      "Dataset Name:  enron  Best AUC Score (structural):  56.990340318026455\n",
      "Dataset Name:  enron  Best AUC Score (joint-type):  55.7649667405765\n",
      "Dataset Name:  enron  Best AUC Score (structure type):  56.82750669372743\n",
      "===========================================================================================\n",
      "Dataset Name:  enron , AUC Score(benchmark/combined):  55.82273802483737\n",
      "Dataset Name:  enron , AUC Score (contextual):  82.8159645232816\n",
      "Dataset Name:  enron , AUC Score (structural):  37.4834794669837\n",
      "Dataset Name:  enron , AUC Score (joint-type):  55.570337521557036\n",
      "Dataset Name:  enron , AUC Score (structure type):  38.1776386625885\n",
      "===========================================================================================\n",
      "Dataset Name:  enron  Best AUC Score(benchmark/combined):  77.72176227084564\n",
      "Dataset Name:  enron  Best AUC Score (contextual):  92.76422764227644\n",
      "Dataset Name:  enron  Best AUC Score (structural):  56.990340318026455\n",
      "Dataset Name:  enron  Best AUC Score (joint-type):  55.570337521557036\n",
      "Dataset Name:  enron  Best AUC Score (structure type):  56.82750669372743\n",
      "===========================================================================================\n"
     ]
    },
    {
     "name": "stderr",
     "output_type": "stream",
     "text": [
      " 76%|███████▌  | 380/500 [00:44<00:13,  8.76it/s]"
     ]
    },
    {
     "name": "stdout",
     "output_type": "stream",
     "text": [
      "Dataset Name:  enron , AUC Score(benchmark/combined):  58.51345357776463\n",
      "Dataset Name:  enron , AUC Score (contextual):  82.86523774328653\n",
      "Dataset Name:  enron , AUC Score (structural):  37.82062713627582\n",
      "Dataset Name:  enron , AUC Score (joint-type):  55.304262133530436\n",
      "Dataset Name:  enron , AUC Score (structure type):  38.491600682236125\n",
      "===========================================================================================\n",
      "Dataset Name:  enron  Best AUC Score(benchmark/combined):  77.72176227084564\n",
      "Dataset Name:  enron  Best AUC Score (contextual):  92.76422764227644\n",
      "Dataset Name:  enron  Best AUC Score (structural):  56.990340318026455\n",
      "Dataset Name:  enron  Best AUC Score (joint-type):  55.304262133530436\n",
      "Dataset Name:  enron  Best AUC Score (structure type):  56.82750669372743\n",
      "===========================================================================================\n",
      "Dataset Name:  enron , AUC Score(benchmark/combined):  54.985215848610295\n",
      "Dataset Name:  enron , AUC Score (contextual):  82.68539049026855\n",
      "Dataset Name:  enron , AUC Score (structural):  37.38103730123347\n",
      "Dataset Name:  enron , AUC Score (joint-type):  55.93249568859324\n",
      "Dataset Name:  enron , AUC Score (structure type):  38.093121420880614\n",
      "===========================================================================================\n",
      "Dataset Name:  enron  Best AUC Score(benchmark/combined):  77.72176227084564\n",
      "Dataset Name:  enron  Best AUC Score (contextual):  92.76422764227644\n",
      "Dataset Name:  enron  Best AUC Score (structural):  56.990340318026455\n",
      "Dataset Name:  enron  Best AUC Score (joint-type):  55.93249568859324\n",
      "Dataset Name:  enron  Best AUC Score (structure type):  56.82750669372743\n",
      "===========================================================================================\n"
     ]
    },
    {
     "name": "stderr",
     "output_type": "stream",
     "text": [
      " 76%|███████▋  | 382/500 [00:45<00:13,  8.76it/s]"
     ]
    },
    {
     "name": "stdout",
     "output_type": "stream",
     "text": [
      "Dataset Name:  enron , AUC Score(benchmark/combined):  57.20505617977528\n",
      "Dataset Name:  enron , AUC Score (contextual):  82.66814486326682\n",
      "Dataset Name:  enron , AUC Score (structural):  36.98558478228563\n",
      "Dataset Name:  enron , AUC Score (joint-type):  55.72554816457256\n",
      "Dataset Name:  enron , AUC Score (structure type):  37.70478994559262\n",
      "===========================================================================================\n",
      "Dataset Name:  enron  Best AUC Score(benchmark/combined):  77.72176227084564\n",
      "Dataset Name:  enron  Best AUC Score (contextual):  92.76422764227644\n",
      "Dataset Name:  enron  Best AUC Score (structural):  56.990340318026455\n",
      "Dataset Name:  enron  Best AUC Score (joint-type):  55.72554816457256\n",
      "Dataset Name:  enron  Best AUC Score (structure type):  56.82750669372743\n",
      "===========================================================================================\n",
      "Dataset Name:  enron , AUC Score(benchmark/combined):  57.47338852749853\n",
      "Dataset Name:  enron , AUC Score (contextual):  82.77654594727765\n",
      "Dataset Name:  enron , AUC Score (structural):  37.473918858671425\n",
      "Dataset Name:  enron , AUC Score (joint-type):  55.516136979551625\n",
      "Dataset Name:  enron , AUC Score (structure type):  38.16634746400632\n",
      "===========================================================================================\n",
      "Dataset Name:  enron  Best AUC Score(benchmark/combined):  77.72176227084564\n",
      "Dataset Name:  enron  Best AUC Score (contextual):  92.76422764227644\n",
      "Dataset Name:  enron  Best AUC Score (structural):  56.990340318026455\n",
      "Dataset Name:  enron  Best AUC Score (joint-type):  55.516136979551625\n",
      "Dataset Name:  enron  Best AUC Score (structure type):  56.82750669372743\n",
      "===========================================================================================\n"
     ]
    },
    {
     "name": "stderr",
     "output_type": "stream",
     "text": [
      " 77%|███████▋  | 384/500 [00:45<00:13,  8.85it/s]"
     ]
    },
    {
     "name": "stdout",
     "output_type": "stream",
     "text": [
      "Dataset Name:  enron , AUC Score(benchmark/combined):  57.75576581904199\n",
      "Dataset Name:  enron , AUC Score (contextual):  82.77161862527716\n",
      "Dataset Name:  enron , AUC Score (structural):  37.078020508247874\n",
      "Dataset Name:  enron , AUC Score (joint-type):  55.410199556541016\n",
      "Dataset Name:  enron , AUC Score (structure type):  37.78149386845039\n",
      "===========================================================================================\n",
      "Dataset Name:  enron  Best AUC Score(benchmark/combined):  77.72176227084564\n",
      "Dataset Name:  enron  Best AUC Score (contextual):  92.76422764227644\n",
      "Dataset Name:  enron  Best AUC Score (structural):  56.990340318026455\n",
      "Dataset Name:  enron  Best AUC Score (joint-type):  55.410199556541016\n",
      "Dataset Name:  enron  Best AUC Score (structure type):  56.82750669372743\n",
      "===========================================================================================\n",
      "Dataset Name:  enron , AUC Score(benchmark/combined):  57.334417504435244\n",
      "Dataset Name:  enron , AUC Score (contextual):  82.56713476225671\n",
      "Dataset Name:  enron , AUC Score (structural):  36.02541239411502\n",
      "Dataset Name:  enron , AUC Score (joint-type):  55.545700911554576\n",
      "Dataset Name:  enron , AUC Score (structure type):  36.77438565398432\n",
      "===========================================================================================\n",
      "Dataset Name:  enron  Best AUC Score(benchmark/combined):  77.72176227084564\n",
      "Dataset Name:  enron  Best AUC Score (contextual):  92.76422764227644\n",
      "Dataset Name:  enron  Best AUC Score (structural):  56.990340318026455\n",
      "Dataset Name:  enron  Best AUC Score (joint-type):  55.545700911554576\n",
      "Dataset Name:  enron  Best AUC Score (structure type):  56.82750669372743\n",
      "===========================================================================================\n"
     ]
    },
    {
     "name": "stderr",
     "output_type": "stream",
     "text": [
      " 77%|███████▋  | 386/500 [00:45<00:12,  8.85it/s]"
     ]
    },
    {
     "name": "stdout",
     "output_type": "stream",
     "text": [
      "Dataset Name:  enron , AUC Score(benchmark/combined):  54.875813128326435\n",
      "Dataset Name:  enron , AUC Score (contextual):  82.40946045824094\n",
      "Dataset Name:  enron , AUC Score (structural):  33.331401396938624\n",
      "Dataset Name:  enron , AUC Score (joint-type):  56.52254249815225\n",
      "Dataset Name:  enron , AUC Score (structure type):  34.22119315095904\n",
      "===========================================================================================\n",
      "Dataset Name:  enron  Best AUC Score(benchmark/combined):  77.72176227084564\n",
      "Dataset Name:  enron  Best AUC Score (contextual):  92.76422764227644\n",
      "Dataset Name:  enron  Best AUC Score (structural):  56.990340318026455\n",
      "Dataset Name:  enron  Best AUC Score (joint-type):  56.52254249815225\n",
      "Dataset Name:  enron  Best AUC Score (structure type):  56.82750669372743\n",
      "===========================================================================================\n",
      "Dataset Name:  enron , AUC Score(benchmark/combined):  55.3422531046718\n",
      "Dataset Name:  enron , AUC Score (contextual):  82.27642276422765\n",
      "Dataset Name:  enron , AUC Score (structural):  30.015604101649572\n",
      "Dataset Name:  enron , AUC Score (joint-type):  62.04483863020449\n",
      "Dataset Name:  enron , AUC Score (structure type):  31.245795576899262\n",
      "===========================================================================================\n",
      "Dataset Name:  enron  Best AUC Score(benchmark/combined):  77.72176227084564\n",
      "Dataset Name:  enron  Best AUC Score (contextual):  92.76422764227644\n",
      "Dataset Name:  enron  Best AUC Score (structural):  56.990340318026455\n",
      "Dataset Name:  enron  Best AUC Score (joint-type):  62.04483863020449\n",
      "Dataset Name:  enron  Best AUC Score (structure type):  56.82750669372743\n",
      "===========================================================================================\n"
     ]
    },
    {
     "name": "stderr",
     "output_type": "stream",
     "text": [
      " 78%|███████▊  | 388/500 [00:45<00:12,  8.84it/s]"
     ]
    },
    {
     "name": "stdout",
     "output_type": "stream",
     "text": [
      "Dataset Name:  enron , AUC Score(benchmark/combined):  56.25221762270846\n",
      "Dataset Name:  enron , AUC Score (contextual):  82.28135008622813\n",
      "Dataset Name:  enron , AUC Score (structural):  30.981225541189872\n",
      "Dataset Name:  enron , AUC Score (joint-type):  58.564917467356494\n",
      "Dataset Name:  enron , AUC Score (structure type):  32.039895568323665\n",
      "===========================================================================================\n",
      "Dataset Name:  enron  Best AUC Score(benchmark/combined):  77.72176227084564\n",
      "Dataset Name:  enron  Best AUC Score (contextual):  92.76422764227644\n",
      "Dataset Name:  enron  Best AUC Score (structural):  56.990340318026455\n",
      "Dataset Name:  enron  Best AUC Score (joint-type):  58.564917467356494\n",
      "Dataset Name:  enron  Best AUC Score (structure type):  56.82750669372743\n",
      "===========================================================================================\n",
      "Dataset Name:  enron , AUC Score(benchmark/combined):  55.8774393849793\n",
      "Dataset Name:  enron , AUC Score (contextual):  82.29859571322986\n",
      "Dataset Name:  enron , AUC Score (structural):  31.936295635805223\n",
      "Dataset Name:  enron , AUC Score (joint-type):  58.54520817935451\n",
      "Dataset Name:  enron , AUC Score (structure type):  32.95767468008271\n",
      "===========================================================================================\n",
      "Dataset Name:  enron  Best AUC Score(benchmark/combined):  77.72176227084564\n",
      "Dataset Name:  enron  Best AUC Score (contextual):  92.76422764227644\n",
      "Dataset Name:  enron  Best AUC Score (structural):  56.990340318026455\n",
      "Dataset Name:  enron  Best AUC Score (joint-type):  58.54520817935451\n",
      "Dataset Name:  enron  Best AUC Score (structure type):  56.82750669372743\n",
      "===========================================================================================\n"
     ]
    },
    {
     "name": "stderr",
     "output_type": "stream",
     "text": [
      " 78%|███████▊  | 390/500 [00:46<00:12,  8.87it/s]"
     ]
    },
    {
     "name": "stdout",
     "output_type": "stream",
     "text": [
      "Dataset Name:  enron , AUC Score(benchmark/combined):  53.942193968066235\n",
      "Dataset Name:  enron , AUC Score (contextual):  82.70509977827051\n",
      "Dataset Name:  enron , AUC Score (structural):  33.18432654678753\n",
      "Dataset Name:  enron , AUC Score (joint-type):  60.73663463907365\n",
      "Dataset Name:  enron , AUC Score (structure type):  34.242727419984945\n",
      "===========================================================================================\n",
      "Dataset Name:  enron  Best AUC Score(benchmark/combined):  77.72176227084564\n",
      "Dataset Name:  enron  Best AUC Score (contextual):  92.76422764227644\n",
      "Dataset Name:  enron  Best AUC Score (structural):  56.990340318026455\n",
      "Dataset Name:  enron  Best AUC Score (joint-type):  60.73663463907365\n",
      "Dataset Name:  enron  Best AUC Score (structure type):  56.82750669372743\n",
      "===========================================================================================\n",
      "Dataset Name:  enron , AUC Score(benchmark/combined):  54.33988764044943\n",
      "Dataset Name:  enron , AUC Score (contextual):  82.89972899728997\n",
      "Dataset Name:  enron , AUC Score (structural):  30.891811561896272\n",
      "Dataset Name:  enron , AUC Score (joint-type):  63.73737373737374\n",
      "Dataset Name:  enron , AUC Score (structure type):  32.15395096665999\n",
      "===========================================================================================\n",
      "Dataset Name:  enron  Best AUC Score(benchmark/combined):  77.72176227084564\n",
      "Dataset Name:  enron  Best AUC Score (contextual):  92.76422764227644\n",
      "Dataset Name:  enron  Best AUC Score (structural):  56.990340318026455\n",
      "Dataset Name:  enron  Best AUC Score (joint-type):  63.73737373737374\n",
      "Dataset Name:  enron  Best AUC Score (structure type):  56.82750669372743\n",
      "===========================================================================================\n"
     ]
    },
    {
     "name": "stderr",
     "output_type": "stream",
     "text": [
      " 78%|███████▊  | 392/500 [00:46<00:12,  8.89it/s]"
     ]
    },
    {
     "name": "stdout",
     "output_type": "stream",
     "text": [
      "Dataset Name:  enron , AUC Score(benchmark/combined):  54.18761088113542\n",
      "Dataset Name:  enron , AUC Score (contextual):  82.97856614929786\n",
      "Dataset Name:  enron , AUC Score (structural):  29.12973695942933\n",
      "Dataset Name:  enron , AUC Score (joint-type):  66.8489775806849\n",
      "Dataset Name:  enron , AUC Score (structure type):  30.579614860551313\n",
      "===========================================================================================\n",
      "Dataset Name:  enron  Best AUC Score(benchmark/combined):  77.72176227084564\n",
      "Dataset Name:  enron  Best AUC Score (contextual):  92.76422764227644\n",
      "Dataset Name:  enron  Best AUC Score (structural):  56.990340318026455\n",
      "Dataset Name:  enron  Best AUC Score (joint-type):  66.8489775806849\n",
      "Dataset Name:  enron  Best AUC Score (structure type):  56.82750669372743\n",
      "===========================================================================================\n",
      "Dataset Name:  enron , AUC Score(benchmark/combined):  54.1380839739799\n",
      "Dataset Name:  enron , AUC Score (contextual):  82.96624784429663\n",
      "Dataset Name:  enron , AUC Score (structural):  28.824292861742705\n",
      "Dataset Name:  enron , AUC Score (joint-type):  68.94062576989405\n",
      "Dataset Name:  enron , AUC Score (structure type):  30.36674956407398\n",
      "===========================================================================================\n",
      "Dataset Name:  enron  Best AUC Score(benchmark/combined):  77.72176227084564\n",
      "Dataset Name:  enron  Best AUC Score (contextual):  92.76422764227644\n",
      "Dataset Name:  enron  Best AUC Score (structural):  56.990340318026455\n",
      "Dataset Name:  enron  Best AUC Score (joint-type):  68.94062576989405\n",
      "Dataset Name:  enron  Best AUC Score (structure type):  56.82750669372743\n",
      "===========================================================================================\n"
     ]
    },
    {
     "name": "stderr",
     "output_type": "stream",
     "text": [
      " 79%|███████▉  | 394/500 [00:46<00:11,  8.94it/s]"
     ]
    },
    {
     "name": "stdout",
     "output_type": "stream",
     "text": [
      "Dataset Name:  enron , AUC Score(benchmark/combined):  52.164399763453574\n",
      "Dataset Name:  enron , AUC Score (contextual):  82.89972899728997\n",
      "Dataset Name:  enron , AUC Score (structural):  28.550453262000296\n",
      "Dataset Name:  enron , AUC Score (joint-type):  70.09854644000986\n",
      "Dataset Name:  enron , AUC Score (structure type):  30.14816720502339\n",
      "===========================================================================================\n",
      "Dataset Name:  enron  Best AUC Score(benchmark/combined):  77.72176227084564\n",
      "Dataset Name:  enron  Best AUC Score (contextual):  92.76422764227644\n",
      "Dataset Name:  enron  Best AUC Score (structural):  56.990340318026455\n",
      "Dataset Name:  enron  Best AUC Score (joint-type):  70.09854644000986\n",
      "Dataset Name:  enron  Best AUC Score (structure type):  56.82750669372743\n",
      "===========================================================================================\n",
      "Dataset Name:  enron , AUC Score(benchmark/combined):  52.845949142519224\n",
      "Dataset Name:  enron , AUC Score (contextual):  82.89972899728997\n",
      "Dataset Name:  enron , AUC Score (structural):  28.864417694555904\n",
      "Dataset Name:  enron , AUC Score (joint-type):  67.33678245873367\n",
      "Dataset Name:  enron , AUC Score (structure type):  30.34330960752365\n",
      "===========================================================================================\n",
      "Dataset Name:  enron  Best AUC Score(benchmark/combined):  77.72176227084564\n",
      "Dataset Name:  enron  Best AUC Score (contextual):  92.76422764227644\n",
      "Dataset Name:  enron  Best AUC Score (structural):  56.990340318026455\n",
      "Dataset Name:  enron  Best AUC Score (joint-type):  67.33678245873367\n",
      "Dataset Name:  enron  Best AUC Score (structure type):  56.82750669372743\n",
      "===========================================================================================\n"
     ]
    },
    {
     "name": "stderr",
     "output_type": "stream",
     "text": [
      " 79%|███████▉  | 396/500 [00:46<00:11,  8.80it/s]"
     ]
    },
    {
     "name": "stdout",
     "output_type": "stream",
     "text": [
      "Dataset Name:  enron , AUC Score(benchmark/combined):  52.46525724423419\n",
      "Dataset Name:  enron , AUC Score (contextual):  82.84552845528455\n",
      "Dataset Name:  enron , AUC Score (structural):  29.7947689106851\n",
      "Dataset Name:  enron , AUC Score (joint-type):  65.41512687854151\n",
      "Dataset Name:  enron , AUC Score (structure type):  31.16375572897312\n",
      "===========================================================================================\n",
      "Dataset Name:  enron  Best AUC Score(benchmark/combined):  77.72176227084564\n",
      "Dataset Name:  enron  Best AUC Score (contextual):  92.76422764227644\n",
      "Dataset Name:  enron  Best AUC Score (structural):  56.990340318026455\n",
      "Dataset Name:  enron  Best AUC Score (joint-type):  65.41512687854151\n",
      "Dataset Name:  enron  Best AUC Score (structure type):  56.82750669372743\n",
      "===========================================================================================\n",
      "Dataset Name:  enron , AUC Score(benchmark/combined):  52.42534003548196\n",
      "Dataset Name:  enron , AUC Score (contextual):  82.7888642522789\n",
      "Dataset Name:  enron , AUC Score (structural):  30.55823054440977\n",
      "Dataset Name:  enron , AUC Score (joint-type):  64.04286770140428\n",
      "Dataset Name:  enron , AUC Score (structure type):  31.844943734575843\n",
      "===========================================================================================\n",
      "Dataset Name:  enron  Best AUC Score(benchmark/combined):  77.72176227084564\n",
      "Dataset Name:  enron  Best AUC Score (contextual):  92.76422764227644\n",
      "Dataset Name:  enron  Best AUC Score (structural):  56.990340318026455\n",
      "Dataset Name:  enron  Best AUC Score (joint-type):  64.04286770140428\n",
      "Dataset Name:  enron  Best AUC Score (structure type):  56.82750669372743\n",
      "===========================================================================================\n"
     ]
    },
    {
     "name": "stderr",
     "output_type": "stream",
     "text": [
      " 80%|███████▉  | 398/500 [00:46<00:11,  8.85it/s]"
     ]
    },
    {
     "name": "stdout",
     "output_type": "stream",
     "text": [
      "Dataset Name:  enron , AUC Score(benchmark/combined):  54.180218805440575\n",
      "Dataset Name:  enron , AUC Score (contextual):  82.71741808327174\n",
      "Dataset Name:  enron , AUC Score (structural):  31.088819537326\n",
      "Dataset Name:  enron , AUC Score (joint-type):  63.426952451342686\n",
      "Dataset Name:  enron , AUC Score (structure type):  32.33141811737129\n",
      "===========================================================================================\n",
      "Dataset Name:  enron  Best AUC Score(benchmark/combined):  77.72176227084564\n",
      "Dataset Name:  enron  Best AUC Score (contextual):  92.76422764227644\n",
      "Dataset Name:  enron  Best AUC Score (structural):  56.990340318026455\n",
      "Dataset Name:  enron  Best AUC Score (joint-type):  63.426952451342686\n",
      "Dataset Name:  enron  Best AUC Score (structure type):  56.82750669372743\n",
      "===========================================================================================\n",
      "Dataset Name:  enron , AUC Score(benchmark/combined):  54.719840331164995\n",
      "Dataset Name:  enron , AUC Score (contextual):  82.6829268292683\n",
      "Dataset Name:  enron , AUC Score (structural):  31.556744439490757\n",
      "Dataset Name:  enron , AUC Score (joint-type):  62.68046316826804\n",
      "Dataset Name:  enron , AUC Score (structure type):  32.75257506026737\n",
      "===========================================================================================\n",
      "Dataset Name:  enron  Best AUC Score(benchmark/combined):  77.72176227084564\n",
      "Dataset Name:  enron  Best AUC Score (contextual):  92.76422764227644\n",
      "Dataset Name:  enron  Best AUC Score (structural):  56.990340318026455\n",
      "Dataset Name:  enron  Best AUC Score (joint-type):  62.68046316826804\n",
      "Dataset Name:  enron  Best AUC Score (structure type):  56.82750669372743\n",
      "===========================================================================================\n"
     ]
    },
    {
     "name": "stderr",
     "output_type": "stream",
     "text": [
      " 80%|████████  | 400/500 [00:47<00:11,  8.85it/s]"
     ]
    },
    {
     "name": "stdout",
     "output_type": "stream",
     "text": [
      "Dataset Name:  enron , AUC Score(benchmark/combined):  54.46185688941454\n",
      "Dataset Name:  enron , AUC Score (contextual):  82.72727272727273\n",
      "Dataset Name:  enron , AUC Score (structural):  32.1286471491554\n",
      "Dataset Name:  enron , AUC Score (joint-type):  61.37718649913773\n",
      "Dataset Name:  enron , AUC Score (structure type):  33.252198686981295\n",
      "===========================================================================================\n",
      "Dataset Name:  enron  Best AUC Score(benchmark/combined):  77.72176227084564\n",
      "Dataset Name:  enron  Best AUC Score (contextual):  92.76422764227644\n",
      "Dataset Name:  enron  Best AUC Score (structural):  56.990340318026455\n",
      "Dataset Name:  enron  Best AUC Score (joint-type):  61.37718649913773\n",
      "Dataset Name:  enron  Best AUC Score (structure type):  56.82750669372743\n",
      "===========================================================================================\n",
      "Dataset Name:  enron , AUC Score(benchmark/combined):  55.48048492016557\n",
      "Dataset Name:  enron , AUC Score (contextual):  82.90219265829022\n",
      "Dataset Name:  enron , AUC Score (structural):  33.10085698716996\n",
      "Dataset Name:  enron , AUC Score (joint-type):  59.512195121951216\n",
      "Dataset Name:  enron , AUC Score (structure type):  34.11509399803714\n",
      "===========================================================================================\n",
      "Dataset Name:  enron  Best AUC Score(benchmark/combined):  77.72176227084564\n",
      "Dataset Name:  enron  Best AUC Score (contextual):  92.76422764227644\n",
      "Dataset Name:  enron  Best AUC Score (structural):  56.990340318026455\n",
      "Dataset Name:  enron  Best AUC Score (joint-type):  59.512195121951216\n",
      "Dataset Name:  enron  Best AUC Score (structure type):  56.82750669372743\n",
      "===========================================================================================\n"
     ]
    },
    {
     "name": "stderr",
     "output_type": "stream",
     "text": [
      " 80%|████████  | 402/500 [00:47<00:11,  8.90it/s]"
     ]
    },
    {
     "name": "stdout",
     "output_type": "stream",
     "text": [
      "Dataset Name:  enron , AUC Score(benchmark/combined):  54.235659373151975\n",
      "Dataset Name:  enron , AUC Score (contextual):  83.14116777531412\n",
      "Dataset Name:  enron , AUC Score (structural):  34.524495962748304\n",
      "Dataset Name:  enron , AUC Score (joint-type):  57.299827543729975\n",
      "Dataset Name:  enron , AUC Score (structure type):  35.39871747229606\n",
      "===========================================================================================\n",
      "Dataset Name:  enron  Best AUC Score(benchmark/combined):  77.72176227084564\n",
      "Dataset Name:  enron  Best AUC Score (contextual):  92.76422764227644\n",
      "Dataset Name:  enron  Best AUC Score (structural):  56.990340318026455\n",
      "Dataset Name:  enron  Best AUC Score (joint-type):  57.299827543729975\n",
      "Dataset Name:  enron  Best AUC Score (structure type):  56.82750669372743\n",
      "===========================================================================================\n",
      "Dataset Name:  enron , AUC Score(benchmark/combined):  54.48403311649912\n",
      "Dataset Name:  enron , AUC Score (contextual):  83.06479428430647\n",
      "Dataset Name:  enron , AUC Score (structural):  35.34527170951603\n",
      "Dataset Name:  enron , AUC Score (joint-type):  56.5360926336536\n",
      "Dataset Name:  enron , AUC Score (structure type):  36.15856273046908\n",
      "===========================================================================================\n",
      "Dataset Name:  enron  Best AUC Score(benchmark/combined):  77.72176227084564\n",
      "Dataset Name:  enron  Best AUC Score (contextual):  92.76422764227644\n",
      "Dataset Name:  enron  Best AUC Score (structural):  56.990340318026455\n",
      "Dataset Name:  enron  Best AUC Score (joint-type):  56.5360926336536\n",
      "Dataset Name:  enron  Best AUC Score (structure type):  56.82750669372743\n",
      "===========================================================================================\n"
     ]
    },
    {
     "name": "stderr",
     "output_type": "stream",
     "text": [
      " 81%|████████  | 404/500 [00:47<00:10,  8.90it/s]"
     ]
    },
    {
     "name": "stdout",
     "output_type": "stream",
     "text": [
      "Dataset Name:  enron , AUC Score(benchmark/combined):  53.47427557658191\n",
      "Dataset Name:  enron , AUC Score (contextual):  82.9859571322986\n",
      "Dataset Name:  enron , AUC Score (structural):  35.97146678555506\n",
      "Dataset Name:  enron , AUC Score (joint-type):  56.282335550628225\n",
      "Dataset Name:  enron , AUC Score (structure type):  36.750993339622106\n",
      "===========================================================================================\n",
      "Dataset Name:  enron  Best AUC Score(benchmark/combined):  77.72176227084564\n",
      "Dataset Name:  enron  Best AUC Score (contextual):  92.76422764227644\n",
      "Dataset Name:  enron  Best AUC Score (structural):  56.990340318026455\n",
      "Dataset Name:  enron  Best AUC Score (joint-type):  56.282335550628225\n",
      "Dataset Name:  enron  Best AUC Score (structure type):  56.82750669372743\n",
      "===========================================================================================\n",
      "Dataset Name:  enron , AUC Score(benchmark/combined):  53.18746303962152\n",
      "Dataset Name:  enron , AUC Score (contextual):  82.88248337028826\n",
      "Dataset Name:  enron , AUC Score (structural):  36.2791400406202\n",
      "Dataset Name:  enron , AUC Score (joint-type):  56.31436314363144\n",
      "Dataset Name:  enron , AUC Score (structure type):  37.048137666866765\n",
      "===========================================================================================\n",
      "Dataset Name:  enron  Best AUC Score(benchmark/combined):  77.72176227084564\n",
      "Dataset Name:  enron  Best AUC Score (contextual):  92.76422764227644\n",
      "Dataset Name:  enron  Best AUC Score (structural):  56.990340318026455\n",
      "Dataset Name:  enron  Best AUC Score (joint-type):  56.31436314363144\n",
      "Dataset Name:  enron  Best AUC Score (structure type):  56.82750669372743\n",
      "===========================================================================================\n"
     ]
    },
    {
     "name": "stderr",
     "output_type": "stream",
     "text": [
      " 81%|████████  | 406/500 [00:47<00:10,  8.83it/s]"
     ]
    },
    {
     "name": "stdout",
     "output_type": "stream",
     "text": [
      "Dataset Name:  enron , AUC Score(benchmark/combined):  52.96200473092845\n",
      "Dataset Name:  enron , AUC Score (contextual):  82.99827543729982\n",
      "Dataset Name:  enron , AUC Score (structural):  36.40422053796998\n",
      "Dataset Name:  enron , AUC Score (joint-type):  56.427691549642766\n",
      "Dataset Name:  enron , AUC Score (structure type):  37.17281727315173\n",
      "===========================================================================================\n",
      "Dataset Name:  enron  Best AUC Score(benchmark/combined):  77.72176227084564\n",
      "Dataset Name:  enron  Best AUC Score (contextual):  92.76422764227644\n",
      "Dataset Name:  enron  Best AUC Score (structural):  56.990340318026455\n",
      "Dataset Name:  enron  Best AUC Score (joint-type):  56.427691549642766\n",
      "Dataset Name:  enron  Best AUC Score (structure type):  56.82750669372743\n",
      "===========================================================================================\n",
      "Dataset Name:  enron , AUC Score(benchmark/combined):  52.837817859254876\n",
      "Dataset Name:  enron , AUC Score (contextual):  83.30376940133037\n",
      "Dataset Name:  enron , AUC Score (structural):  36.55882498637737\n",
      "Dataset Name:  enron , AUC Score (joint-type):  56.07292436560729\n",
      "Dataset Name:  enron , AUC Score (structure type):  37.30778759206853\n",
      "===========================================================================================\n",
      "Dataset Name:  enron  Best AUC Score(benchmark/combined):  77.72176227084564\n",
      "Dataset Name:  enron  Best AUC Score (contextual):  92.76422764227644\n",
      "Dataset Name:  enron  Best AUC Score (structural):  56.990340318026455\n",
      "Dataset Name:  enron  Best AUC Score (joint-type):  56.07292436560729\n",
      "Dataset Name:  enron  Best AUC Score (structure type):  56.82750669372743\n",
      "===========================================================================================\n"
     ]
    },
    {
     "name": "stderr",
     "output_type": "stream",
     "text": [
      " 82%|████████▏ | 408/500 [00:48<00:10,  8.87it/s]"
     ]
    },
    {
     "name": "stdout",
     "output_type": "stream",
     "text": [
      "Dataset Name:  enron , AUC Score(benchmark/combined):  52.90138971023064\n",
      "Dataset Name:  enron , AUC Score (contextual):  83.51564424735156\n",
      "Dataset Name:  enron , AUC Score (structural):  36.88175558527766\n",
      "Dataset Name:  enron , AUC Score (joint-type):  55.811776299581176\n",
      "Dataset Name:  enron , AUC Score (structure type):  37.608266872480925\n",
      "===========================================================================================\n",
      "Dataset Name:  enron  Best AUC Score(benchmark/combined):  77.72176227084564\n",
      "Dataset Name:  enron  Best AUC Score (contextual):  92.76422764227644\n",
      "Dataset Name:  enron  Best AUC Score (structural):  56.990340318026455\n",
      "Dataset Name:  enron  Best AUC Score (joint-type):  55.811776299581176\n",
      "Dataset Name:  enron  Best AUC Score (structure type):  56.82750669372743\n",
      "===========================================================================================\n",
      "Dataset Name:  enron , AUC Score(benchmark/combined):  53.73743347131875\n",
      "Dataset Name:  enron , AUC Score (contextual):  83.41463414634146\n",
      "Dataset Name:  enron , AUC Score (structural):  36.98900282359935\n",
      "Dataset Name:  enron , AUC Score (joint-type):  55.597437792559745\n",
      "Dataset Name:  enron , AUC Score (structure type):  37.703122469008754\n",
      "===========================================================================================\n",
      "Dataset Name:  enron  Best AUC Score(benchmark/combined):  77.72176227084564\n",
      "Dataset Name:  enron  Best AUC Score (contextual):  92.76422764227644\n",
      "Dataset Name:  enron  Best AUC Score (structural):  56.990340318026455\n",
      "Dataset Name:  enron  Best AUC Score (joint-type):  55.597437792559745\n",
      "Dataset Name:  enron  Best AUC Score (structure type):  56.82750669372743\n",
      "===========================================================================================\n"
     ]
    },
    {
     "name": "stderr",
     "output_type": "stream",
     "text": [
      " 82%|████████▏ | 410/500 [00:48<00:10,  8.88it/s]"
     ]
    },
    {
     "name": "stdout",
     "output_type": "stream",
     "text": [
      "Dataset Name:  enron , AUC Score(benchmark/combined):  53.13202247191011\n",
      "Dataset Name:  enron , AUC Score (contextual):  83.25942350332593\n",
      "Dataset Name:  enron , AUC Score (structural):  37.11938376182692\n",
      "Dataset Name:  enron , AUC Score (joint-type):  55.47918206454791\n",
      "Dataset Name:  enron , AUC Score (structure type):  37.82394305805678\n",
      "===========================================================================================\n",
      "Dataset Name:  enron  Best AUC Score(benchmark/combined):  77.72176227084564\n",
      "Dataset Name:  enron  Best AUC Score (contextual):  92.76422764227644\n",
      "Dataset Name:  enron  Best AUC Score (structural):  56.990340318026455\n",
      "Dataset Name:  enron  Best AUC Score (joint-type):  55.47918206454791\n",
      "Dataset Name:  enron  Best AUC Score (structure type):  56.82750669372743\n",
      "===========================================================================================\n",
      "Dataset Name:  enron , AUC Score(benchmark/combined):  53.103193376700176\n",
      "Dataset Name:  enron , AUC Score (contextual):  83.40477950234047\n",
      "Dataset Name:  enron , AUC Score (structural):  37.14464754545004\n",
      "Dataset Name:  enron , AUC Score (joint-type):  55.447154471544714\n",
      "Dataset Name:  enron , AUC Score (structure type):  37.847001877102215\n",
      "===========================================================================================\n",
      "Dataset Name:  enron  Best AUC Score(benchmark/combined):  77.72176227084564\n",
      "Dataset Name:  enron  Best AUC Score (contextual):  92.76422764227644\n",
      "Dataset Name:  enron  Best AUC Score (structural):  56.990340318026455\n",
      "Dataset Name:  enron  Best AUC Score (joint-type):  55.447154471544714\n",
      "Dataset Name:  enron  Best AUC Score (structure type):  56.82750669372743\n",
      "===========================================================================================\n"
     ]
    },
    {
     "name": "stderr",
     "output_type": "stream",
     "text": [
      " 82%|████████▏ | 412/500 [00:48<00:09,  8.94it/s]"
     ]
    },
    {
     "name": "stdout",
     "output_type": "stream",
     "text": [
      "Dataset Name:  enron , AUC Score(benchmark/combined):  52.784594914251926\n",
      "Dataset Name:  enron , AUC Score (contextual):  83.6191180093619\n",
      "Dataset Name:  enron , AUC Score (structural):  36.91573785109229\n",
      "Dataset Name:  enron , AUC Score (joint-type):  55.53830992855383\n",
      "Dataset Name:  enron , AUC Score (structure type):  37.63037284776415\n",
      "===========================================================================================\n",
      "Dataset Name:  enron  Best AUC Score(benchmark/combined):  77.72176227084564\n",
      "Dataset Name:  enron  Best AUC Score (contextual):  92.76422764227644\n",
      "Dataset Name:  enron  Best AUC Score (structural):  56.990340318026455\n",
      "Dataset Name:  enron  Best AUC Score (joint-type):  55.53830992855383\n",
      "Dataset Name:  enron  Best AUC Score (structure type):  56.82750669372743\n",
      "===========================================================================================\n",
      "Dataset Name:  enron , AUC Score(benchmark/combined):  52.57170313424009\n",
      "Dataset Name:  enron , AUC Score (contextual):  83.60187238236018\n",
      "Dataset Name:  enron , AUC Score (structural):  36.68504483083173\n",
      "Dataset Name:  enron , AUC Score (joint-type):  55.66149297856614\n",
      "Dataset Name:  enron , AUC Score (structure type):  37.41326739654499\n",
      "===========================================================================================\n",
      "Dataset Name:  enron  Best AUC Score(benchmark/combined):  77.72176227084564\n",
      "Dataset Name:  enron  Best AUC Score (contextual):  92.76422764227644\n",
      "Dataset Name:  enron  Best AUC Score (structural):  56.990340318026455\n",
      "Dataset Name:  enron  Best AUC Score (joint-type):  55.66149297856614\n",
      "Dataset Name:  enron  Best AUC Score (structure type):  56.82750669372743\n",
      "===========================================================================================\n"
     ]
    },
    {
     "name": "stderr",
     "output_type": "stream",
     "text": [
      " 83%|████████▎ | 414/500 [00:48<00:09,  8.88it/s]"
     ]
    },
    {
     "name": "stdout",
     "output_type": "stream",
     "text": [
      "Dataset Name:  enron , AUC Score(benchmark/combined):  52.288586635127146\n",
      "Dataset Name:  enron , AUC Score (contextual):  83.4491254003449\n",
      "Dataset Name:  enron , AUC Score (structural):  36.34195274186357\n",
      "Dataset Name:  enron , AUC Score (joint-type):  55.750184774575004\n",
      "Dataset Name:  enron , AUC Score (structure type):  37.0867278392362\n",
      "===========================================================================================\n",
      "Dataset Name:  enron  Best AUC Score(benchmark/combined):  77.72176227084564\n",
      "Dataset Name:  enron  Best AUC Score (contextual):  92.76422764227644\n",
      "Dataset Name:  enron  Best AUC Score (structural):  56.990340318026455\n",
      "Dataset Name:  enron  Best AUC Score (joint-type):  55.750184774575004\n",
      "Dataset Name:  enron  Best AUC Score (structure type):  56.82750669372743\n",
      "===========================================================================================\n",
      "Dataset Name:  enron , AUC Score(benchmark/combined):  52.55913660555884\n",
      "Dataset Name:  enron , AUC Score (contextual):  83.22739591032273\n",
      "Dataset Name:  enron , AUC Score (structural):  36.23079209392183\n",
      "Dataset Name:  enron , AUC Score (joint-type):  55.83641290958363\n",
      "Dataset Name:  enron , AUC Score (structure type):  36.983153722284165\n",
      "===========================================================================================\n",
      "Dataset Name:  enron  Best AUC Score(benchmark/combined):  77.72176227084564\n",
      "Dataset Name:  enron  Best AUC Score (contextual):  92.76422764227644\n",
      "Dataset Name:  enron  Best AUC Score (structural):  56.990340318026455\n",
      "Dataset Name:  enron  Best AUC Score (joint-type):  55.83641290958363\n",
      "Dataset Name:  enron  Best AUC Score (structure type):  56.82750669372743\n",
      "===========================================================================================\n"
     ]
    },
    {
     "name": "stderr",
     "output_type": "stream",
     "text": [
      " 83%|████████▎ | 416/500 [00:48<00:09,  8.94it/s]"
     ]
    },
    {
     "name": "stdout",
     "output_type": "stream",
     "text": [
      "Dataset Name:  enron , AUC Score(benchmark/combined):  52.87403903015967\n",
      "Dataset Name:  enron , AUC Score (contextual):  83.050012318305\n",
      "Dataset Name:  enron , AUC Score (structural):  36.27606875712092\n",
      "Dataset Name:  enron , AUC Score (joint-type):  55.84626755358462\n",
      "Dataset Name:  enron , AUC Score (structure type):  37.02707981972196\n",
      "===========================================================================================\n",
      "Dataset Name:  enron  Best AUC Score(benchmark/combined):  77.72176227084564\n",
      "Dataset Name:  enron  Best AUC Score (contextual):  92.76422764227644\n",
      "Dataset Name:  enron  Best AUC Score (structural):  56.990340318026455\n",
      "Dataset Name:  enron  Best AUC Score (joint-type):  55.84626755358462\n",
      "Dataset Name:  enron  Best AUC Score (structure type):  56.82750669372743\n",
      "===========================================================================================\n",
      "Dataset Name:  enron , AUC Score(benchmark/combined):  52.993790656416316\n",
      "Dataset Name:  enron , AUC Score (contextual):  83.13624045331363\n",
      "Dataset Name:  enron , AUC Score (structural):  36.31520285332145\n",
      "Dataset Name:  enron , AUC Score (joint-type):  55.74772111357477\n",
      "Dataset Name:  enron , AUC Score (structure type):  37.06090577328035\n",
      "===========================================================================================\n",
      "Dataset Name:  enron  Best AUC Score(benchmark/combined):  77.72176227084564\n",
      "Dataset Name:  enron  Best AUC Score (contextual):  92.76422764227644\n",
      "Dataset Name:  enron  Best AUC Score (structural):  56.990340318026455\n",
      "Dataset Name:  enron  Best AUC Score (joint-type):  55.74772111357477\n",
      "Dataset Name:  enron  Best AUC Score (structure type):  56.82750669372743\n",
      "===========================================================================================\n"
     ]
    },
    {
     "name": "stderr",
     "output_type": "stream",
     "text": [
      " 84%|████████▎ | 418/500 [00:49<00:09,  8.95it/s]"
     ]
    },
    {
     "name": "stdout",
     "output_type": "stream",
     "text": [
      "Dataset Name:  enron , AUC Score(benchmark/combined):  53.47723240685984\n",
      "Dataset Name:  enron , AUC Score (contextual):  83.16580438531658\n",
      "Dataset Name:  enron , AUC Score (structural):  35.84390944667359\n",
      "Dataset Name:  enron , AUC Score (joint-type):  55.767430401576746\n",
      "Dataset Name:  enron , AUC Score (structure type):  36.60840027060763\n",
      "===========================================================================================\n",
      "Dataset Name:  enron  Best AUC Score(benchmark/combined):  77.72176227084564\n",
      "Dataset Name:  enron  Best AUC Score (contextual):  92.76422764227644\n",
      "Dataset Name:  enron  Best AUC Score (structural):  56.990340318026455\n",
      "Dataset Name:  enron  Best AUC Score (joint-type):  55.767430401576746\n",
      "Dataset Name:  enron  Best AUC Score (structure type):  56.82750669372743\n",
      "===========================================================================================\n",
      "Dataset Name:  enron , AUC Score(benchmark/combined):  54.078208160851574\n",
      "Dataset Name:  enron , AUC Score (contextual):  83.23478689332347\n",
      "Dataset Name:  enron , AUC Score (structural):  34.61722890969436\n",
      "Dataset Name:  enron , AUC Score (joint-type):  55.90785907859078\n",
      "Dataset Name:  enron , AUC Score (structure type):  35.434067975873994\n",
      "===========================================================================================\n",
      "Dataset Name:  enron  Best AUC Score(benchmark/combined):  77.72176227084564\n",
      "Dataset Name:  enron  Best AUC Score (contextual):  92.76422764227644\n",
      "Dataset Name:  enron  Best AUC Score (structural):  56.990340318026455\n",
      "Dataset Name:  enron  Best AUC Score (joint-type):  55.90785907859078\n",
      "Dataset Name:  enron  Best AUC Score (structure type):  56.82750669372743\n",
      "===========================================================================================\n"
     ]
    },
    {
     "name": "stderr",
     "output_type": "stream",
     "text": [
      " 84%|████████▍ | 420/500 [00:49<00:08,  9.00it/s]"
     ]
    },
    {
     "name": "stdout",
     "output_type": "stream",
     "text": [
      "Dataset Name:  enron , AUC Score(benchmark/combined):  54.037551744529864\n",
      "Dataset Name:  enron , AUC Score (contextual):  83.01552106430154\n",
      "Dataset Name:  enron , AUC Score (structural):  34.075295982563034\n",
      "Dataset Name:  enron , AUC Score (joint-type):  56.44000985464399\n",
      "Dataset Name:  enron , AUC Score (structure type):  34.93344386320975\n",
      "===========================================================================================\n",
      "Dataset Name:  enron  Best AUC Score(benchmark/combined):  77.72176227084564\n",
      "Dataset Name:  enron  Best AUC Score (contextual):  92.76422764227644\n",
      "Dataset Name:  enron  Best AUC Score (structural):  56.990340318026455\n",
      "Dataset Name:  enron  Best AUC Score (joint-type):  56.44000985464399\n",
      "Dataset Name:  enron  Best AUC Score (structure type):  56.82750669372743\n",
      "===========================================================================================\n",
      "Dataset Name:  enron , AUC Score(benchmark/combined):  56.28252513305736\n",
      "Dataset Name:  enron , AUC Score (contextual):  82.9120473022912\n",
      "Dataset Name:  enron , AUC Score (structural):  32.90434438004657\n",
      "Dataset Name:  enron , AUC Score (joint-type):  56.53362897265336\n",
      "Dataset Name:  enron , AUC Score (structure type):  33.81089862695214\n",
      "===========================================================================================\n",
      "Dataset Name:  enron  Best AUC Score(benchmark/combined):  77.72176227084564\n",
      "Dataset Name:  enron  Best AUC Score (contextual):  92.76422764227644\n",
      "Dataset Name:  enron  Best AUC Score (structural):  56.990340318026455\n",
      "Dataset Name:  enron  Best AUC Score (joint-type):  56.53362897265336\n",
      "Dataset Name:  enron  Best AUC Score (structure type):  56.82750669372743\n",
      "===========================================================================================\n"
     ]
    },
    {
     "name": "stderr",
     "output_type": "stream",
     "text": [
      " 84%|████████▍ | 422/500 [00:49<00:08,  8.97it/s]"
     ]
    },
    {
     "name": "stdout",
     "output_type": "stream",
     "text": [
      "Dataset Name:  enron , AUC Score(benchmark/combined):  53.91040804257836\n",
      "Dataset Name:  enron , AUC Score (contextual):  82.72973638827297\n",
      "Dataset Name:  enron , AUC Score (structural):  34.44191806608213\n",
      "Dataset Name:  enron , AUC Score (joint-type):  56.302044838630195\n",
      "Dataset Name:  enron , AUC Score (structure type):  35.28070777234657\n",
      "===========================================================================================\n",
      "Dataset Name:  enron  Best AUC Score(benchmark/combined):  77.72176227084564\n",
      "Dataset Name:  enron  Best AUC Score (contextual):  92.76422764227644\n",
      "Dataset Name:  enron  Best AUC Score (structural):  56.990340318026455\n",
      "Dataset Name:  enron  Best AUC Score (joint-type):  56.302044838630195\n",
      "Dataset Name:  enron  Best AUC Score (structure type):  56.82750669372743\n",
      "===========================================================================================\n",
      "Dataset Name:  enron , AUC Score(benchmark/combined):  54.252661147250144\n",
      "Dataset Name:  enron , AUC Score (contextual):  82.66075388026609\n",
      "Dataset Name:  enron , AUC Score (structural):  34.23113885173626\n",
      "Dataset Name:  enron , AUC Score (joint-type):  56.257698940625765\n",
      "Dataset Name:  enron , AUC Score (structure type):  35.07627514316478\n",
      "===========================================================================================\n",
      "Dataset Name:  enron  Best AUC Score(benchmark/combined):  77.72176227084564\n",
      "Dataset Name:  enron  Best AUC Score (contextual):  92.76422764227644\n",
      "Dataset Name:  enron  Best AUC Score (structural):  56.990340318026455\n",
      "Dataset Name:  enron  Best AUC Score (joint-type):  56.257698940625765\n",
      "Dataset Name:  enron  Best AUC Score (structure type):  56.82750669372743\n",
      "===========================================================================================\n"
     ]
    },
    {
     "name": "stderr",
     "output_type": "stream",
     "text": [
      " 85%|████████▍ | 424/500 [00:49<00:08,  8.94it/s]"
     ]
    },
    {
     "name": "stdout",
     "output_type": "stream",
     "text": [
      "Dataset Name:  enron , AUC Score(benchmark/combined):  54.08486102897694\n",
      "Dataset Name:  enron , AUC Score (contextual):  82.59423503325942\n",
      "Dataset Name:  enron , AUC Score (structural):  32.66007826819241\n",
      "Dataset Name:  enron , AUC Score (joint-type):  56.454791820645475\n",
      "Dataset Name:  enron , AUC Score (structure type):  33.57292589734061\n",
      "===========================================================================================\n",
      "Dataset Name:  enron  Best AUC Score(benchmark/combined):  77.72176227084564\n",
      "Dataset Name:  enron  Best AUC Score (contextual):  92.76422764227644\n",
      "Dataset Name:  enron  Best AUC Score (structural):  56.990340318026455\n",
      "Dataset Name:  enron  Best AUC Score (joint-type):  56.454791820645475\n",
      "Dataset Name:  enron  Best AUC Score (structure type):  56.82750669372743\n",
      "===========================================================================================\n",
      "Dataset Name:  enron , AUC Score(benchmark/combined):  53.22516262566528\n",
      "Dataset Name:  enron , AUC Score (contextual):  82.36265089923627\n",
      "Dataset Name:  enron , AUC Score (structural):  32.19487789171249\n",
      "Dataset Name:  enron , AUC Score (joint-type):  57.459965508745995\n",
      "Dataset Name:  enron , AUC Score (structure type):  33.16439413429381\n",
      "===========================================================================================\n",
      "Dataset Name:  enron  Best AUC Score(benchmark/combined):  77.72176227084564\n",
      "Dataset Name:  enron  Best AUC Score (contextual):  92.76422764227644\n",
      "Dataset Name:  enron  Best AUC Score (structural):  56.990340318026455\n",
      "Dataset Name:  enron  Best AUC Score (joint-type):  57.459965508745995\n",
      "Dataset Name:  enron  Best AUC Score (structure type):  56.82750669372743\n",
      "===========================================================================================\n"
     ]
    },
    {
     "name": "stderr",
     "output_type": "stream",
     "text": [
      " 85%|████████▌ | 426/500 [00:50<00:08,  8.85it/s]"
     ]
    },
    {
     "name": "stdout",
     "output_type": "stream",
     "text": [
      "Dataset Name:  enron , AUC Score(benchmark/combined):  53.31238911886458\n",
      "Dataset Name:  enron , AUC Score (contextual):  82.39714215323971\n",
      "Dataset Name:  enron , AUC Score (structural):  31.37652944964581\n",
      "Dataset Name:  enron , AUC Score (joint-type):  58.47622567134763\n",
      "Dataset Name:  enron , AUC Score (structure type):  32.416649991900826\n",
      "===========================================================================================\n",
      "Dataset Name:  enron  Best AUC Score(benchmark/combined):  77.72176227084564\n",
      "Dataset Name:  enron  Best AUC Score (contextual):  92.76422764227644\n",
      "Dataset Name:  enron  Best AUC Score (structural):  56.990340318026455\n",
      "Dataset Name:  enron  Best AUC Score (joint-type):  58.47622567134763\n",
      "Dataset Name:  enron  Best AUC Score (structure type):  56.82750669372743\n",
      "===========================================================================================\n",
      "Dataset Name:  enron , AUC Score(benchmark/combined):  55.57584269662921\n",
      "Dataset Name:  enron , AUC Score (contextual):  82.5030795762503\n",
      "Dataset Name:  enron , AUC Score (structural):  30.902313369990587\n",
      "Dataset Name:  enron , AUC Score (joint-type):  58.90859817689085\n",
      "Dataset Name:  enron , AUC Score (structure type):  31.977293733146574\n",
      "===========================================================================================\n",
      "Dataset Name:  enron  Best AUC Score(benchmark/combined):  77.72176227084564\n",
      "Dataset Name:  enron  Best AUC Score (contextual):  92.76422764227644\n",
      "Dataset Name:  enron  Best AUC Score (structural):  56.990340318026455\n",
      "Dataset Name:  enron  Best AUC Score (joint-type):  58.90859817689085\n",
      "Dataset Name:  enron  Best AUC Score (structure type):  56.82750669372743\n",
      "===========================================================================================\n"
     ]
    },
    {
     "name": "stderr",
     "output_type": "stream",
     "text": [
      " 86%|████████▌ | 428/500 [00:50<00:08,  8.87it/s]"
     ]
    },
    {
     "name": "stdout",
     "output_type": "stream",
     "text": [
      "Dataset Name:  enron , AUC Score(benchmark/combined):  54.37093435836784\n",
      "Dataset Name:  enron , AUC Score (contextual):  82.38728750923873\n",
      "Dataset Name:  enron , AUC Score (structural):  31.7840194184376\n",
      "Dataset Name:  enron , AUC Score (joint-type):  58.22616407982262\n",
      "Dataset Name:  enron , AUC Score (structure type):  32.79888326711069\n",
      "===========================================================================================\n",
      "Dataset Name:  enron  Best AUC Score(benchmark/combined):  77.72176227084564\n",
      "Dataset Name:  enron  Best AUC Score (contextual):  92.76422764227644\n",
      "Dataset Name:  enron  Best AUC Score (structural):  56.990340318026455\n",
      "Dataset Name:  enron  Best AUC Score (joint-type):  58.22616407982262\n",
      "Dataset Name:  enron  Best AUC Score (structure type):  56.82750669372743\n",
      "===========================================================================================\n",
      "Dataset Name:  enron , AUC Score(benchmark/combined):  53.64133648728563\n",
      "Dataset Name:  enron , AUC Score (contextual):  82.1729490022173\n",
      "Dataset Name:  enron , AUC Score (structural):  32.034576707782236\n",
      "Dataset Name:  enron , AUC Score (joint-type):  57.73835920177384\n",
      "Dataset Name:  enron , AUC Score (structure type):  33.02099114808145\n",
      "===========================================================================================\n",
      "Dataset Name:  enron  Best AUC Score(benchmark/combined):  77.72176227084564\n",
      "Dataset Name:  enron  Best AUC Score (contextual):  92.76422764227644\n",
      "Dataset Name:  enron  Best AUC Score (structural):  56.990340318026455\n",
      "Dataset Name:  enron  Best AUC Score (joint-type):  57.73835920177384\n",
      "Dataset Name:  enron  Best AUC Score (structure type):  56.82750669372743\n",
      "===========================================================================================\n"
     ]
    },
    {
     "name": "stderr",
     "output_type": "stream",
     "text": [
      " 86%|████████▌ | 430/500 [00:50<00:07,  8.91it/s]"
     ]
    },
    {
     "name": "stdout",
     "output_type": "stream",
     "text": [
      "Dataset Name:  enron , AUC Score(benchmark/combined):  53.52010644589\n",
      "Dataset Name:  enron , AUC Score (contextual):  82.13353042621335\n",
      "Dataset Name:  enron , AUC Score (structural):  32.09525932530837\n",
      "Dataset Name:  enron , AUC Score (joint-type):  57.46612466124661\n",
      "Dataset Name:  enron , AUC Score (structure type):  33.0688239049443\n",
      "===========================================================================================\n",
      "Dataset Name:  enron  Best AUC Score(benchmark/combined):  77.72176227084564\n",
      "Dataset Name:  enron  Best AUC Score (contextual):  92.76422764227644\n",
      "Dataset Name:  enron  Best AUC Score (structural):  56.990340318026455\n",
      "Dataset Name:  enron  Best AUC Score (joint-type):  57.46612466124661\n",
      "Dataset Name:  enron  Best AUC Score (structure type):  56.82750669372743\n",
      "===========================================================================================\n",
      "Dataset Name:  enron , AUC Score(benchmark/combined):  54.30588409225311\n",
      "Dataset Name:  enron , AUC Score (contextual):  82.29120473022911\n",
      "Dataset Name:  enron , AUC Score (structural):  31.060236786050428\n",
      "Dataset Name:  enron , AUC Score (joint-type):  60.58388765705839\n",
      "Dataset Name:  enron , AUC Score (structure type):  32.19397040467275\n",
      "===========================================================================================\n",
      "Dataset Name:  enron  Best AUC Score(benchmark/combined):  77.72176227084564\n",
      "Dataset Name:  enron  Best AUC Score (contextual):  92.76422764227644\n",
      "Dataset Name:  enron  Best AUC Score (structural):  56.990340318026455\n",
      "Dataset Name:  enron  Best AUC Score (joint-type):  60.58388765705839\n",
      "Dataset Name:  enron  Best AUC Score (structure type):  56.82750669372743\n",
      "===========================================================================================\n"
     ]
    },
    {
     "name": "stderr",
     "output_type": "stream",
     "text": [
      " 86%|████████▋ | 432/500 [00:50<00:07,  8.82it/s]"
     ]
    },
    {
     "name": "stdout",
     "output_type": "stream",
     "text": [
      "Dataset Name:  enron , AUC Score(benchmark/combined):  54.28296865759905\n",
      "Dataset Name:  enron , AUC Score (contextual):  82.27149544222715\n",
      "Dataset Name:  enron , AUC Score (structural):  33.382424332491205\n",
      "Dataset Name:  enron , AUC Score (joint-type):  56.378418329637846\n",
      "Dataset Name:  enron , AUC Score (structure type):  34.26469046870385\n",
      "===========================================================================================\n",
      "Dataset Name:  enron  Best AUC Score(benchmark/combined):  77.72176227084564\n",
      "Dataset Name:  enron  Best AUC Score (contextual):  92.76422764227644\n",
      "Dataset Name:  enron  Best AUC Score (structural):  56.990340318026455\n",
      "Dataset Name:  enron  Best AUC Score (joint-type):  56.378418329637846\n",
      "Dataset Name:  enron  Best AUC Score (structure type):  56.82750669372743\n",
      "===========================================================================================\n",
      "Dataset Name:  enron , AUC Score(benchmark/combined):  53.21777054997043\n",
      "Dataset Name:  enron , AUC Score (contextual):  82.1310667652131\n",
      "Dataset Name:  enron , AUC Score (structural):  33.7348788824491\n",
      "Dataset Name:  enron , AUC Score (joint-type):  56.230598669623056\n",
      "Dataset Name:  enron , AUC Score (structure type):  34.59794757453621\n",
      "===========================================================================================\n",
      "Dataset Name:  enron  Best AUC Score(benchmark/combined):  77.72176227084564\n",
      "Dataset Name:  enron  Best AUC Score (contextual):  92.76422764227644\n",
      "Dataset Name:  enron  Best AUC Score (structural):  56.990340318026455\n",
      "Dataset Name:  enron  Best AUC Score (joint-type):  56.230598669623056\n",
      "Dataset Name:  enron  Best AUC Score (structure type):  56.82750669372743\n",
      "===========================================================================================\n"
     ]
    },
    {
     "name": "stderr",
     "output_type": "stream",
     "text": [
      " 87%|████████▋ | 434/500 [00:50<00:07,  8.72it/s]"
     ]
    },
    {
     "name": "stdout",
     "output_type": "stream",
     "text": [
      "Dataset Name:  enron , AUC Score(benchmark/combined):  54.58086930810171\n",
      "Dataset Name:  enron , AUC Score (contextual):  82.06947524020694\n",
      "Dataset Name:  enron , AUC Score (structural):  34.18175063159459\n",
      "Dataset Name:  enron , AUC Score (joint-type):  56.12219758561222\n",
      "Dataset Name:  enron , AUC Score (structure type):  35.02353524092655\n",
      "===========================================================================================\n",
      "Dataset Name:  enron  Best AUC Score(benchmark/combined):  77.72176227084564\n",
      "Dataset Name:  enron  Best AUC Score (contextual):  92.76422764227644\n",
      "Dataset Name:  enron  Best AUC Score (structural):  56.990340318026455\n",
      "Dataset Name:  enron  Best AUC Score (joint-type):  56.12219758561222\n",
      "Dataset Name:  enron  Best AUC Score (structure type):  56.82750669372743\n",
      "===========================================================================================\n",
      "Dataset Name:  enron , AUC Score(benchmark/combined):  52.99674748669426\n",
      "Dataset Name:  enron , AUC Score (contextual):  82.0941118502094\n",
      "Dataset Name:  enron , AUC Score (structural):  33.4353792044385\n",
      "Dataset Name:  enron , AUC Score (joint-type):  56.40551860064055\n",
      "Dataset Name:  enron , AUC Score (structure type):  34.316668095932314\n",
      "===========================================================================================\n",
      "Dataset Name:  enron  Best AUC Score(benchmark/combined):  77.72176227084564\n",
      "Dataset Name:  enron  Best AUC Score (contextual):  92.76422764227644\n",
      "Dataset Name:  enron  Best AUC Score (structural):  56.990340318026455\n",
      "Dataset Name:  enron  Best AUC Score (joint-type):  56.40551860064055\n",
      "Dataset Name:  enron  Best AUC Score (structure type):  56.82750669372743\n",
      "===========================================================================================\n"
     ]
    },
    {
     "name": "stderr",
     "output_type": "stream",
     "text": [
      " 87%|████████▋ | 436/500 [00:51<00:07,  8.77it/s]"
     ]
    },
    {
     "name": "stdout",
     "output_type": "stream",
     "text": [
      "Dataset Name:  enron , AUC Score(benchmark/combined):  53.6228562980485\n",
      "Dataset Name:  enron , AUC Score (contextual):  82.0349839862035\n",
      "Dataset Name:  enron , AUC Score (structural):  32.451726358547575\n",
      "Dataset Name:  enron , AUC Score (joint-type):  56.89085981768909\n",
      "Dataset Name:  enron , AUC Score (structure type):  33.38940818873929\n",
      "===========================================================================================\n",
      "Dataset Name:  enron  Best AUC Score(benchmark/combined):  77.72176227084564\n",
      "Dataset Name:  enron  Best AUC Score (contextual):  92.76422764227644\n",
      "Dataset Name:  enron  Best AUC Score (structural):  56.990340318026455\n",
      "Dataset Name:  enron  Best AUC Score (joint-type):  56.89085981768909\n",
      "Dataset Name:  enron  Best AUC Score (structure type):  56.82750669372743\n",
      "===========================================================================================\n",
      "Dataset Name:  enron , AUC Score(benchmark/combined):  53.11058545239503\n",
      "Dataset Name:  enron , AUC Score (contextual):  81.94136486819414\n",
      "Dataset Name:  enron , AUC Score (structural):  33.34403328875018\n",
      "Dataset Name:  enron , AUC Score (joint-type):  56.17147080561714\n",
      "Dataset Name:  enron , AUC Score (structure type):  34.21976388531572\n",
      "===========================================================================================\n",
      "Dataset Name:  enron  Best AUC Score(benchmark/combined):  77.72176227084564\n",
      "Dataset Name:  enron  Best AUC Score (contextual):  92.76422764227644\n",
      "Dataset Name:  enron  Best AUC Score (structural):  56.990340318026455\n",
      "Dataset Name:  enron  Best AUC Score (joint-type):  56.17147080561714\n",
      "Dataset Name:  enron  Best AUC Score (structure type):  56.82750669372743\n",
      "===========================================================================================\n"
     ]
    },
    {
     "name": "stderr",
     "output_type": "stream",
     "text": [
      " 88%|████████▊ | 438/500 [00:51<00:07,  8.69it/s]"
     ]
    },
    {
     "name": "stdout",
     "output_type": "stream",
     "text": [
      "Dataset Name:  enron , AUC Score(benchmark/combined):  54.16026020106446\n",
      "Dataset Name:  enron , AUC Score (contextual):  82.19758561221975\n",
      "Dataset Name:  enron , AUC Score (structural):  33.11750136226285\n",
      "Dataset Name:  enron , AUC Score (joint-type):  56.205962059620596\n",
      "Dataset Name:  enron , AUC Score (structure type):  34.003230140353885\n",
      "===========================================================================================\n",
      "Dataset Name:  enron  Best AUC Score(benchmark/combined):  77.72176227084564\n",
      "Dataset Name:  enron  Best AUC Score (contextual):  92.76422764227644\n",
      "Dataset Name:  enron  Best AUC Score (structural):  56.990340318026455\n",
      "Dataset Name:  enron  Best AUC Score (joint-type):  56.205962059620596\n",
      "Dataset Name:  enron  Best AUC Score (structure type):  56.82750669372743\n",
      "===========================================================================================\n",
      "Dataset Name:  enron , AUC Score(benchmark/combined):  56.13098758131283\n",
      "Dataset Name:  enron , AUC Score (contextual):  82.46612466124661\n",
      "Dataset Name:  enron , AUC Score (structural):  34.46837073364046\n",
      "Dataset Name:  enron , AUC Score (joint-type):  55.80315348608031\n",
      "Dataset Name:  enron , AUC Score (structure type):  35.28685361461281\n",
      "===========================================================================================\n",
      "Dataset Name:  enron  Best AUC Score(benchmark/combined):  77.72176227084564\n",
      "Dataset Name:  enron  Best AUC Score (contextual):  92.76422764227644\n",
      "Dataset Name:  enron  Best AUC Score (structural):  56.990340318026455\n",
      "Dataset Name:  enron  Best AUC Score (joint-type):  55.80315348608031\n",
      "Dataset Name:  enron  Best AUC Score (structure type):  56.82750669372743\n",
      "===========================================================================================\n"
     ]
    },
    {
     "name": "stderr",
     "output_type": "stream",
     "text": [
      " 88%|████████▊ | 440/500 [00:51<00:06,  8.80it/s]"
     ]
    },
    {
     "name": "stdout",
     "output_type": "stream",
     "text": [
      "Dataset Name:  enron , AUC Score(benchmark/combined):  56.641040804257834\n",
      "Dataset Name:  enron , AUC Score (contextual):  82.64350825326434\n",
      "Dataset Name:  enron , AUC Score (structural):  35.12651706543816\n",
      "Dataset Name:  enron , AUC Score (joint-type):  55.62207440256219\n",
      "Dataset Name:  enron , AUC Score (structure type):  35.91282432419556\n",
      "===========================================================================================\n",
      "Dataset Name:  enron  Best AUC Score(benchmark/combined):  77.72176227084564\n",
      "Dataset Name:  enron  Best AUC Score (contextual):  92.76422764227644\n",
      "Dataset Name:  enron  Best AUC Score (structural):  56.990340318026455\n",
      "Dataset Name:  enron  Best AUC Score (joint-type):  55.62207440256219\n",
      "Dataset Name:  enron  Best AUC Score (structure type):  56.82750669372743\n",
      "===========================================================================================\n",
      "Dataset Name:  enron , AUC Score(benchmark/combined):  54.38867534003548\n",
      "Dataset Name:  enron , AUC Score (contextual):  82.59916235525992\n",
      "Dataset Name:  enron , AUC Score (structural):  35.301183930252144\n",
      "Dataset Name:  enron , AUC Score (joint-type):  55.959595959595966\n",
      "Dataset Name:  enron , AUC Score (structure type):  36.09386463901514\n",
      "===========================================================================================\n",
      "Dataset Name:  enron  Best AUC Score(benchmark/combined):  77.72176227084564\n",
      "Dataset Name:  enron  Best AUC Score (contextual):  92.76422764227644\n",
      "Dataset Name:  enron  Best AUC Score (structural):  56.990340318026455\n",
      "Dataset Name:  enron  Best AUC Score (joint-type):  55.959595959595966\n",
      "Dataset Name:  enron  Best AUC Score (structure type):  56.82750669372743\n",
      "===========================================================================================\n"
     ]
    },
    {
     "name": "stderr",
     "output_type": "stream",
     "text": [
      " 88%|████████▊ | 442/500 [00:51<00:06,  8.80it/s]"
     ]
    },
    {
     "name": "stdout",
     "output_type": "stream",
     "text": [
      "Dataset Name:  enron , AUC Score(benchmark/combined):  53.622117090479016\n",
      "Dataset Name:  enron , AUC Score (contextual):  82.35525991623552\n",
      "Dataset Name:  enron , AUC Score (structural):  35.73819785010155\n",
      "Dataset Name:  enron , AUC Score (joint-type):  56.11480660261148\n",
      "Dataset Name:  enron , AUC Score (structure type):  36.52016693822714\n",
      "===========================================================================================\n",
      "Dataset Name:  enron  Best AUC Score(benchmark/combined):  77.72176227084564\n",
      "Dataset Name:  enron  Best AUC Score (contextual):  92.76422764227644\n",
      "Dataset Name:  enron  Best AUC Score (structural):  56.990340318026455\n",
      "Dataset Name:  enron  Best AUC Score (joint-type):  56.11480660261148\n",
      "Dataset Name:  enron  Best AUC Score (structure type):  56.82750669372743\n",
      "===========================================================================================\n",
      "Dataset Name:  enron , AUC Score(benchmark/combined):  53.914843287995275\n",
      "Dataset Name:  enron , AUC Score (contextual):  82.16063069721606\n",
      "Dataset Name:  enron , AUC Score (structural):  36.464160103036605\n",
      "Dataset Name:  enron , AUC Score (joint-type):  55.74525745257453\n",
      "Dataset Name:  enron , AUC Score (structure type):  37.20407054855215\n",
      "===========================================================================================\n",
      "Dataset Name:  enron  Best AUC Score(benchmark/combined):  77.72176227084564\n",
      "Dataset Name:  enron  Best AUC Score (contextual):  92.76422764227644\n",
      "Dataset Name:  enron  Best AUC Score (structural):  56.990340318026455\n",
      "Dataset Name:  enron  Best AUC Score (joint-type):  55.74525745257453\n",
      "Dataset Name:  enron  Best AUC Score (structure type):  56.82750669372743\n",
      "===========================================================================================\n"
     ]
    },
    {
     "name": "stderr",
     "output_type": "stream",
     "text": [
      " 89%|████████▉ | 444/500 [00:52<00:06,  8.79it/s]"
     ]
    },
    {
     "name": "stdout",
     "output_type": "stream",
     "text": [
      "Dataset Name:  enron , AUC Score(benchmark/combined):  53.64872856298049\n",
      "Dataset Name:  enron , AUC Score (contextual):  82.00049273220004\n",
      "Dataset Name:  enron , AUC Score (structural):  36.68083420022788\n",
      "Dataset Name:  enron , AUC Score (joint-type):  55.55555555555556\n",
      "Dataset Name:  enron , AUC Score (structure type):  37.40512058237811\n",
      "===========================================================================================\n",
      "Dataset Name:  enron  Best AUC Score(benchmark/combined):  77.72176227084564\n",
      "Dataset Name:  enron  Best AUC Score (contextual):  92.76422764227644\n",
      "Dataset Name:  enron  Best AUC Score (structural):  56.990340318026455\n",
      "Dataset Name:  enron  Best AUC Score (joint-type):  55.55555555555556\n",
      "Dataset Name:  enron  Best AUC Score (structure type):  56.82750669372743\n",
      "===========================================================================================\n",
      "Dataset Name:  enron , AUC Score(benchmark/combined):  53.67829686575991\n",
      "Dataset Name:  enron , AUC Score (contextual):  81.96353781719635\n",
      "Dataset Name:  enron , AUC Score (structural):  36.69916282756229\n",
      "Dataset Name:  enron , AUC Score (joint-type):  55.38309928553831\n",
      "Dataset Name:  enron , AUC Score (structure type):  37.4160782856435\n",
      "===========================================================================================\n",
      "Dataset Name:  enron  Best AUC Score(benchmark/combined):  77.72176227084564\n",
      "Dataset Name:  enron  Best AUC Score (contextual):  92.76422764227644\n",
      "Dataset Name:  enron  Best AUC Score (structural):  56.990340318026455\n",
      "Dataset Name:  enron  Best AUC Score (joint-type):  55.38309928553831\n",
      "Dataset Name:  enron  Best AUC Score (structure type):  56.82750669372743\n",
      "===========================================================================================\n"
     ]
    },
    {
     "name": "stderr",
     "output_type": "stream",
     "text": [
      " 89%|████████▉ | 446/500 [00:52<00:06,  8.82it/s]"
     ]
    },
    {
     "name": "stdout",
     "output_type": "stream",
     "text": [
      "Dataset Name:  enron , AUC Score(benchmark/combined):  53.89414547604967\n",
      "Dataset Name:  enron , AUC Score (contextual):  82.09164818920915\n",
      "Dataset Name:  enron , AUC Score (structural):  36.619705751226036\n",
      "Dataset Name:  enron , AUC Score (joint-type):  55.424981522542495\n",
      "Dataset Name:  enron , AUC Score (structure type):  37.34128005031015\n",
      "===========================================================================================\n",
      "Dataset Name:  enron  Best AUC Score(benchmark/combined):  77.72176227084564\n",
      "Dataset Name:  enron  Best AUC Score (contextual):  92.76422764227644\n",
      "Dataset Name:  enron  Best AUC Score (structural):  56.990340318026455\n",
      "Dataset Name:  enron  Best AUC Score (joint-type):  55.424981522542495\n",
      "Dataset Name:  enron  Best AUC Score (structure type):  56.82750669372743\n",
      "===========================================================================================\n",
      "Dataset Name:  enron , AUC Score(benchmark/combined):  55.38956238911887\n",
      "Dataset Name:  enron , AUC Score (contextual):  82.28874106922888\n",
      "Dataset Name:  enron , AUC Score (structural):  36.18853717739139\n",
      "Dataset Name:  enron , AUC Score (joint-type):  55.607292436560726\n",
      "Dataset Name:  enron , AUC Score (structure type):  36.933653488837436\n",
      "===========================================================================================\n",
      "Dataset Name:  enron  Best AUC Score(benchmark/combined):  77.72176227084564\n",
      "Dataset Name:  enron  Best AUC Score (contextual):  92.76422764227644\n",
      "Dataset Name:  enron  Best AUC Score (structural):  56.990340318026455\n",
      "Dataset Name:  enron  Best AUC Score (joint-type):  55.607292436560726\n",
      "Dataset Name:  enron  Best AUC Score (structure type):  56.82750669372743\n",
      "===========================================================================================\n"
     ]
    },
    {
     "name": "stderr",
     "output_type": "stream",
     "text": [
      " 90%|████████▉ | 448/500 [00:52<00:05,  8.85it/s]"
     ]
    },
    {
     "name": "stdout",
     "output_type": "stream",
     "text": [
      "Dataset Name:  enron , AUC Score(benchmark/combined):  54.13217031342401\n",
      "Dataset Name:  enron , AUC Score (contextual):  82.36757822123676\n",
      "Dataset Name:  enron , AUC Score (structural):  35.524991331054636\n",
      "Dataset Name:  enron , AUC Score (joint-type):  55.96205962059619\n",
      "Dataset Name:  enron , AUC Score (structure type):  36.309207329274216\n",
      "===========================================================================================\n",
      "Dataset Name:  enron  Best AUC Score(benchmark/combined):  77.72176227084564\n",
      "Dataset Name:  enron  Best AUC Score (contextual):  92.76422764227644\n",
      "Dataset Name:  enron  Best AUC Score (structural):  56.990340318026455\n",
      "Dataset Name:  enron  Best AUC Score (joint-type):  55.96205962059619\n",
      "Dataset Name:  enron  Best AUC Score (structure type):  56.82750669372743\n",
      "===========================================================================================\n",
      "Dataset Name:  enron , AUC Score(benchmark/combined):  54.28518628030752\n",
      "Dataset Name:  enron , AUC Score (contextual):  82.41931510224192\n",
      "Dataset Name:  enron , AUC Score (structural):  34.90171892802299\n",
      "Dataset Name:  enron , AUC Score (joint-type):  56.203498398620354\n",
      "Dataset Name:  enron , AUC Score (structure type):  35.71911118733861\n",
      "===========================================================================================\n",
      "Dataset Name:  enron  Best AUC Score(benchmark/combined):  77.72176227084564\n",
      "Dataset Name:  enron  Best AUC Score (contextual):  92.76422764227644\n",
      "Dataset Name:  enron  Best AUC Score (structural):  56.990340318026455\n",
      "Dataset Name:  enron  Best AUC Score (joint-type):  56.203498398620354\n",
      "Dataset Name:  enron  Best AUC Score (structure type):  56.82750669372743\n",
      "===========================================================================================\n"
     ]
    },
    {
     "name": "stderr",
     "output_type": "stream",
     "text": [
      " 90%|█████████ | 450/500 [00:52<00:05,  8.85it/s]"
     ]
    },
    {
     "name": "stdout",
     "output_type": "stream",
     "text": [
      "Dataset Name:  enron , AUC Score(benchmark/combined):  56.55011827321111\n",
      "Dataset Name:  enron , AUC Score (contextual):  82.31337767923134\n",
      "Dataset Name:  enron , AUC Score (structural):  35.02912765641254\n",
      "Dataset Name:  enron , AUC Score (joint-type):  55.824094604582406\n",
      "Dataset Name:  enron , AUC Score (structure type):  35.826973101220595\n",
      "===========================================================================================\n",
      "Dataset Name:  enron  Best AUC Score(benchmark/combined):  77.72176227084564\n",
      "Dataset Name:  enron  Best AUC Score (contextual):  92.76422764227644\n",
      "Dataset Name:  enron  Best AUC Score (structural):  56.990340318026455\n",
      "Dataset Name:  enron  Best AUC Score (joint-type):  55.824094604582406\n",
      "Dataset Name:  enron  Best AUC Score (structure type):  56.82750669372743\n",
      "===========================================================================================\n",
      "Dataset Name:  enron , AUC Score(benchmark/combined):  55.54553518628032\n",
      "Dataset Name:  enron , AUC Score (contextual):  82.25178615422517\n",
      "Dataset Name:  enron , AUC Score (structural):  33.79798880467628\n",
      "Dataset Name:  enron , AUC Score (joint-type):  56.13451589061344\n",
      "Dataset Name:  enron , AUC Score (structure type):  34.654927631516266\n",
      "===========================================================================================\n",
      "Dataset Name:  enron  Best AUC Score(benchmark/combined):  77.72176227084564\n",
      "Dataset Name:  enron  Best AUC Score (contextual):  92.76422764227644\n",
      "Dataset Name:  enron  Best AUC Score (structural):  56.990340318026455\n",
      "Dataset Name:  enron  Best AUC Score (joint-type):  56.13451589061344\n",
      "Dataset Name:  enron  Best AUC Score (structure type):  56.82750669372743\n",
      "===========================================================================================\n"
     ]
    },
    {
     "name": "stderr",
     "output_type": "stream",
     "text": [
      " 90%|█████████ | 452/500 [00:53<00:05,  8.89it/s]"
     ]
    },
    {
     "name": "stdout",
     "output_type": "stream",
     "text": [
      "Dataset Name:  enron , AUC Score(benchmark/combined):  54.104080425783565\n",
      "Dataset Name:  enron , AUC Score (contextual):  82.17048534121705\n",
      "Dataset Name:  enron , AUC Score (structural):  34.07593996136127\n",
      "Dataset Name:  enron , AUC Score (joint-type):  55.646711012564666\n",
      "Dataset Name:  enron , AUC Score (structure type):  34.90338164251207\n",
      "===========================================================================================\n",
      "Dataset Name:  enron  Best AUC Score(benchmark/combined):  77.72176227084564\n",
      "Dataset Name:  enron  Best AUC Score (contextual):  92.76422764227644\n",
      "Dataset Name:  enron  Best AUC Score (structural):  56.990340318026455\n",
      "Dataset Name:  enron  Best AUC Score (joint-type):  55.646711012564666\n",
      "Dataset Name:  enron  Best AUC Score (structure type):  56.82750669372743\n",
      "===========================================================================================\n",
      "Dataset Name:  enron , AUC Score(benchmark/combined):  55.095357776463636\n",
      "Dataset Name:  enron , AUC Score (contextual):  82.07440256220744\n",
      "Dataset Name:  enron , AUC Score (structural):  33.013721702085505\n",
      "Dataset Name:  enron , AUC Score (joint-type):  56.082779009608274\n",
      "Dataset Name:  enron , AUC Score (structure type):  33.898655537451525\n",
      "===========================================================================================\n",
      "Dataset Name:  enron  Best AUC Score(benchmark/combined):  77.72176227084564\n",
      "Dataset Name:  enron  Best AUC Score (contextual):  92.76422764227644\n",
      "Dataset Name:  enron  Best AUC Score (structural):  56.990340318026455\n",
      "Dataset Name:  enron  Best AUC Score (joint-type):  56.082779009608274\n",
      "Dataset Name:  enron  Best AUC Score (structure type):  56.82750669372743\n",
      "===========================================================================================\n"
     ]
    },
    {
     "name": "stderr",
     "output_type": "stream",
     "text": [
      " 91%|█████████ | 454/500 [00:53<00:05,  8.91it/s]"
     ]
    },
    {
     "name": "stdout",
     "output_type": "stream",
     "text": [
      "Dataset Name:  enron , AUC Score(benchmark/combined):  55.141188645771734\n",
      "Dataset Name:  enron , AUC Score (contextual):  82.16063069721606\n",
      "Dataset Name:  enron , AUC Score (structural):  36.02253925793828\n",
      "Dataset Name:  enron , AUC Score (joint-type):  55.72554816457256\n",
      "Dataset Name:  enron , AUC Score (structure type):  36.77857816653803\n",
      "===========================================================================================\n",
      "Dataset Name:  enron  Best AUC Score(benchmark/combined):  77.72176227084564\n",
      "Dataset Name:  enron  Best AUC Score (contextual):  92.76422764227644\n",
      "Dataset Name:  enron  Best AUC Score (structural):  56.990340318026455\n",
      "Dataset Name:  enron  Best AUC Score (joint-type):  55.72554816457256\n",
      "Dataset Name:  enron  Best AUC Score (structure type):  56.82750669372743\n",
      "===========================================================================================\n",
      "Dataset Name:  enron , AUC Score(benchmark/combined):  56.32983441750443\n",
      "Dataset Name:  enron , AUC Score (contextual):  82.25178615422519\n",
      "Dataset Name:  enron , AUC Score (structural):  35.307871402387676\n",
      "Dataset Name:  enron , AUC Score (joint-type):  55.590046809559\n",
      "Dataset Name:  enron , AUC Score (structure type):  36.08600367797692\n",
      "===========================================================================================\n",
      "Dataset Name:  enron  Best AUC Score(benchmark/combined):  77.72176227084564\n",
      "Dataset Name:  enron  Best AUC Score (contextual):  92.76422764227644\n",
      "Dataset Name:  enron  Best AUC Score (structural):  56.990340318026455\n",
      "Dataset Name:  enron  Best AUC Score (joint-type):  55.590046809559\n",
      "Dataset Name:  enron  Best AUC Score (structure type):  56.82750669372743\n",
      "===========================================================================================\n"
     ]
    },
    {
     "name": "stderr",
     "output_type": "stream",
     "text": [
      " 91%|█████████ | 456/500 [00:53<00:04,  8.89it/s]"
     ]
    },
    {
     "name": "stdout",
     "output_type": "stream",
     "text": [
      "Dataset Name:  enron , AUC Score(benchmark/combined):  56.19825547013602\n",
      "Dataset Name:  enron , AUC Score (contextual):  82.1409214092141\n",
      "Dataset Name:  enron , AUC Score (structural):  33.66884628721455\n",
      "Dataset Name:  enron , AUC Score (joint-type):  55.570337521557036\n",
      "Dataset Name:  enron , AUC Score (structure type):  34.50890432495783\n",
      "===========================================================================================\n",
      "Dataset Name:  enron  Best AUC Score(benchmark/combined):  77.72176227084564\n",
      "Dataset Name:  enron  Best AUC Score (contextual):  92.76422764227644\n",
      "Dataset Name:  enron  Best AUC Score (structural):  56.990340318026455\n",
      "Dataset Name:  enron  Best AUC Score (joint-type):  55.570337521557036\n",
      "Dataset Name:  enron  Best AUC Score (structure type):  56.82750669372743\n",
      "===========================================================================================\n",
      "Dataset Name:  enron , AUC Score(benchmark/combined):  56.669130691898296\n",
      "Dataset Name:  enron , AUC Score (contextual):  81.98817442719881\n",
      "Dataset Name:  enron , AUC Score (structural):  33.6735027492941\n",
      "Dataset Name:  enron , AUC Score (joint-type):  55.787139689578716\n",
      "Dataset Name:  enron , AUC Score (structure type):  34.52176771574765\n",
      "===========================================================================================\n",
      "Dataset Name:  enron  Best AUC Score(benchmark/combined):  77.72176227084564\n",
      "Dataset Name:  enron  Best AUC Score (contextual):  92.76422764227644\n",
      "Dataset Name:  enron  Best AUC Score (structural):  56.990340318026455\n",
      "Dataset Name:  enron  Best AUC Score (joint-type):  55.787139689578716\n",
      "Dataset Name:  enron  Best AUC Score (structure type):  56.82750669372743\n",
      "===========================================================================================\n"
     ]
    },
    {
     "name": "stderr",
     "output_type": "stream",
     "text": [
      " 92%|█████████▏| 458/500 [00:53<00:04,  8.87it/s]"
     ]
    },
    {
     "name": "stdout",
     "output_type": "stream",
     "text": [
      "Dataset Name:  enron , AUC Score(benchmark/combined):  56.663217031342406\n",
      "Dataset Name:  enron , AUC Score (contextual):  81.86991869918698\n",
      "Dataset Name:  enron , AUC Score (structural):  33.58294942289592\n",
      "Dataset Name:  enron , AUC Score (joint-type):  55.70830253757083\n",
      "Dataset Name:  enron , AUC Score (structure type):  34.43162869584274\n",
      "===========================================================================================\n",
      "Dataset Name:  enron  Best AUC Score(benchmark/combined):  77.72176227084564\n",
      "Dataset Name:  enron  Best AUC Score (contextual):  92.76422764227644\n",
      "Dataset Name:  enron  Best AUC Score (structural):  56.990340318026455\n",
      "Dataset Name:  enron  Best AUC Score (joint-type):  55.70830253757083\n",
      "Dataset Name:  enron  Best AUC Score (structure type):  56.82750669372743\n",
      "===========================================================================================\n",
      "Dataset Name:  enron , AUC Score(benchmark/combined):  56.83397397989356\n",
      "Dataset Name:  enron , AUC Score (contextual):  81.75659029317566\n",
      "Dataset Name:  enron , AUC Score (structural):  33.94486550750483\n",
      "Dataset Name:  enron , AUC Score (joint-type):  55.410199556541016\n",
      "Dataset Name:  enron , AUC Score (structure type):  34.76817311265472\n",
      "===========================================================================================\n",
      "Dataset Name:  enron  Best AUC Score(benchmark/combined):  77.72176227084564\n",
      "Dataset Name:  enron  Best AUC Score (contextual):  92.76422764227644\n",
      "Dataset Name:  enron  Best AUC Score (structural):  56.990340318026455\n",
      "Dataset Name:  enron  Best AUC Score (joint-type):  55.410199556541016\n",
      "Dataset Name:  enron  Best AUC Score (structure type):  56.82750669372743\n",
      "===========================================================================================\n"
     ]
    },
    {
     "name": "stderr",
     "output_type": "stream",
     "text": [
      " 92%|█████████▏| 460/500 [00:53<00:04,  8.83it/s]"
     ]
    },
    {
     "name": "stdout",
     "output_type": "stream",
     "text": [
      "Dataset Name:  enron , AUC Score(benchmark/combined):  56.97516262566529\n",
      "Dataset Name:  enron , AUC Score (contextual):  81.80586351318058\n",
      "Dataset Name:  enron , AUC Score (structural):  33.96027146183187\n",
      "Dataset Name:  enron , AUC Score (joint-type):  55.35846267553585\n",
      "Dataset Name:  enron , AUC Score (structure type):  34.780988861256425\n",
      "===========================================================================================\n",
      "Dataset Name:  enron  Best AUC Score(benchmark/combined):  77.72176227084564\n",
      "Dataset Name:  enron  Best AUC Score (contextual):  92.76422764227644\n",
      "Dataset Name:  enron  Best AUC Score (structural):  56.990340318026455\n",
      "Dataset Name:  enron  Best AUC Score (joint-type):  55.35846267553585\n",
      "Dataset Name:  enron  Best AUC Score (structure type):  56.82750669372743\n",
      "===========================================================================================\n",
      "Dataset Name:  enron , AUC Score(benchmark/combined):  56.73196333530455\n",
      "Dataset Name:  enron , AUC Score (contextual):  82.0349839862035\n",
      "Dataset Name:  enron , AUC Score (structural):  33.8838856689949\n",
      "Dataset Name:  enron , AUC Score (joint-type):  55.53584626755358\n",
      "Dataset Name:  enron , AUC Score (structure type):  34.714385082278056\n",
      "===========================================================================================\n",
      "Dataset Name:  enron  Best AUC Score(benchmark/combined):  77.72176227084564\n",
      "Dataset Name:  enron  Best AUC Score (contextual):  92.76422764227644\n",
      "Dataset Name:  enron  Best AUC Score (structural):  56.990340318026455\n",
      "Dataset Name:  enron  Best AUC Score (joint-type):  55.53584626755358\n",
      "Dataset Name:  enron  Best AUC Score (structure type):  56.82750669372743\n",
      "===========================================================================================\n"
     ]
    },
    {
     "name": "stderr",
     "output_type": "stream",
     "text": [
      " 92%|█████████▏| 462/500 [00:54<00:04,  8.69it/s]"
     ]
    },
    {
     "name": "stdout",
     "output_type": "stream",
     "text": [
      "Dataset Name:  enron , AUC Score(benchmark/combined):  56.144293317563566\n",
      "Dataset Name:  enron , AUC Score (contextual):  82.49076127124908\n",
      "Dataset Name:  enron , AUC Score (structural):  33.2305939465993\n",
      "Dataset Name:  enron , AUC Score (joint-type):  55.718157181571804\n",
      "Dataset Name:  enron , AUC Score (structure type):  34.09313094931824\n",
      "===========================================================================================\n",
      "Dataset Name:  enron  Best AUC Score(benchmark/combined):  77.72176227084564\n",
      "Dataset Name:  enron  Best AUC Score (contextual):  92.76422764227644\n",
      "Dataset Name:  enron  Best AUC Score (structural):  56.990340318026455\n",
      "Dataset Name:  enron  Best AUC Score (joint-type):  55.718157181571804\n",
      "Dataset Name:  enron  Best AUC Score (structure type):  56.82750669372743\n",
      "===========================================================================================\n",
      "Dataset Name:  enron , AUC Score(benchmark/combined):  57.093435836782966\n",
      "Dataset Name:  enron , AUC Score (contextual):  82.6779995072678\n",
      "Dataset Name:  enron , AUC Score (structural):  32.5652152375291\n",
      "Dataset Name:  enron , AUC Score (joint-type):  55.61221975856123\n",
      "Dataset Name:  enron , AUC Score (structure type):  33.449103850441645\n",
      "===========================================================================================\n",
      "Dataset Name:  enron  Best AUC Score(benchmark/combined):  77.72176227084564\n",
      "Dataset Name:  enron  Best AUC Score (contextual):  92.76422764227644\n",
      "Dataset Name:  enron  Best AUC Score (structural):  56.990340318026455\n",
      "Dataset Name:  enron  Best AUC Score (joint-type):  55.61221975856123\n",
      "Dataset Name:  enron  Best AUC Score (structure type):  56.82750669372743\n",
      "===========================================================================================\n"
     ]
    },
    {
     "name": "stderr",
     "output_type": "stream",
     "text": [
      " 93%|█████████▎| 464/500 [00:54<00:04,  8.78it/s]"
     ]
    },
    {
     "name": "stdout",
     "output_type": "stream",
     "text": [
      "Dataset Name:  enron , AUC Score(benchmark/combined):  55.97353636901242\n",
      "Dataset Name:  enron , AUC Score (contextual):  82.6410445922641\n",
      "Dataset Name:  enron , AUC Score (structural):  36.557140734135835\n",
      "Dataset Name:  enron , AUC Score (joint-type):  55.6590293175659\n",
      "Dataset Name:  enron , AUC Score (structure type):  37.29015998246767\n",
      "===========================================================================================\n",
      "Dataset Name:  enron  Best AUC Score(benchmark/combined):  77.72176227084564\n",
      "Dataset Name:  enron  Best AUC Score (contextual):  92.76422764227644\n",
      "Dataset Name:  enron  Best AUC Score (structural):  56.990340318026455\n",
      "Dataset Name:  enron  Best AUC Score (joint-type):  55.6590293175659\n",
      "Dataset Name:  enron  Best AUC Score (structure type):  56.82750669372743\n",
      "===========================================================================================\n",
      "Dataset Name:  enron , AUC Score(benchmark/combined):  57.26641040804258\n",
      "Dataset Name:  enron , AUC Score (contextual):  82.65829021926582\n",
      "Dataset Name:  enron , AUC Score (structural):  36.76856392727993\n",
      "Dataset Name:  enron , AUC Score (joint-type):  55.503818674550374\n",
      "Dataset Name:  enron , AUC Score (structure type):  37.487493925621024\n",
      "===========================================================================================\n",
      "Dataset Name:  enron  Best AUC Score(benchmark/combined):  77.72176227084564\n",
      "Dataset Name:  enron  Best AUC Score (contextual):  92.76422764227644\n",
      "Dataset Name:  enron  Best AUC Score (structural):  56.990340318026455\n",
      "Dataset Name:  enron  Best AUC Score (joint-type):  55.503818674550374\n",
      "Dataset Name:  enron  Best AUC Score (structure type):  56.82750669372743\n",
      "===========================================================================================\n"
     ]
    },
    {
     "name": "stderr",
     "output_type": "stream",
     "text": [
      " 93%|█████████▎| 466/500 [00:54<00:03,  8.83it/s]"
     ]
    },
    {
     "name": "stdout",
     "output_type": "stream",
     "text": [
      "Dataset Name:  enron , AUC Score(benchmark/combined):  57.291543465405084\n",
      "Dataset Name:  enron , AUC Score (contextual):  82.65582655826557\n",
      "Dataset Name:  enron , AUC Score (structural):  35.10566205974142\n",
      "Dataset Name:  enron , AUC Score (joint-type):  55.36092633653609\n",
      "Dataset Name:  enron , AUC Score (structure type):  35.882666819121674\n",
      "===========================================================================================\n",
      "Dataset Name:  enron  Best AUC Score(benchmark/combined):  77.72176227084564\n",
      "Dataset Name:  enron  Best AUC Score (contextual):  92.76422764227644\n",
      "Dataset Name:  enron  Best AUC Score (structural):  56.990340318026455\n",
      "Dataset Name:  enron  Best AUC Score (joint-type):  55.36092633653609\n",
      "Dataset Name:  enron  Best AUC Score (structure type):  56.82750669372743\n",
      "===========================================================================================\n",
      "Dataset Name:  enron , AUC Score(benchmark/combined):  56.9441159077469\n",
      "Dataset Name:  enron , AUC Score (contextual):  82.5030795762503\n",
      "Dataset Name:  enron , AUC Score (structural):  33.12408976073711\n",
      "Dataset Name:  enron , AUC Score (joint-type):  56.44986449864498\n",
      "Dataset Name:  enron , AUC Score (structure type):  34.01899970461844\n",
      "===========================================================================================\n",
      "Dataset Name:  enron  Best AUC Score(benchmark/combined):  77.72176227084564\n",
      "Dataset Name:  enron  Best AUC Score (contextual):  92.76422764227644\n",
      "Dataset Name:  enron  Best AUC Score (structural):  56.990340318026455\n",
      "Dataset Name:  enron  Best AUC Score (joint-type):  56.44986449864498\n",
      "Dataset Name:  enron  Best AUC Score (structure type):  56.82750669372743\n",
      "===========================================================================================\n"
     ]
    },
    {
     "name": "stderr",
     "output_type": "stream",
     "text": [
      " 94%|█████████▎| 468/500 [00:54<00:03,  8.79it/s]"
     ]
    },
    {
     "name": "stdout",
     "output_type": "stream",
     "text": [
      "Dataset Name:  enron , AUC Score(benchmark/combined):  55.90331164991129\n",
      "Dataset Name:  enron , AUC Score (contextual):  82.54742547425474\n",
      "Dataset Name:  enron , AUC Score (structural):  32.10486947045128\n",
      "Dataset Name:  enron , AUC Score (joint-type):  57.925597437792554\n",
      "Dataset Name:  enron , AUC Score (structure type):  33.09583702560291\n",
      "===========================================================================================\n",
      "Dataset Name:  enron  Best AUC Score(benchmark/combined):  77.72176227084564\n",
      "Dataset Name:  enron  Best AUC Score (contextual):  92.76422764227644\n",
      "Dataset Name:  enron  Best AUC Score (structural):  56.990340318026455\n",
      "Dataset Name:  enron  Best AUC Score (joint-type):  57.925597437792554\n",
      "Dataset Name:  enron  Best AUC Score (structure type):  56.82750669372743\n",
      "===========================================================================================\n",
      "Dataset Name:  enron , AUC Score(benchmark/combined):  55.87374334713188\n",
      "Dataset Name:  enron , AUC Score (contextual):  82.5030795762503\n",
      "Dataset Name:  enron , AUC Score (structural):  31.673601822955366\n",
      "Dataset Name:  enron , AUC Score (joint-type):  57.73343187977334\n",
      "Dataset Name:  enron , AUC Score (structure type):  32.673631954568414\n",
      "===========================================================================================\n",
      "Dataset Name:  enron  Best AUC Score(benchmark/combined):  77.72176227084564\n",
      "Dataset Name:  enron  Best AUC Score (contextual):  92.76422764227644\n",
      "Dataset Name:  enron  Best AUC Score (structural):  56.990340318026455\n",
      "Dataset Name:  enron  Best AUC Score (joint-type):  57.73343187977334\n",
      "Dataset Name:  enron  Best AUC Score (structure type):  56.82750669372743\n",
      "===========================================================================================\n"
     ]
    },
    {
     "name": "stderr",
     "output_type": "stream",
     "text": [
      " 94%|█████████▍| 470/500 [00:55<00:03,  8.80it/s]"
     ]
    },
    {
     "name": "stdout",
     "output_type": "stream",
     "text": [
      "Dataset Name:  enron , AUC Score(benchmark/combined):  55.56549379065642\n",
      "Dataset Name:  enron , AUC Score (contextual):  82.28874106922888\n",
      "Dataset Name:  enron , AUC Score (structural):  31.357457769851887\n",
      "Dataset Name:  enron , AUC Score (joint-type):  56.89085981768909\n",
      "Dataset Name:  enron , AUC Score (structure type):  32.33699225338022\n",
      "===========================================================================================\n",
      "Dataset Name:  enron  Best AUC Score(benchmark/combined):  77.72176227084564\n",
      "Dataset Name:  enron  Best AUC Score (contextual):  92.76422764227644\n",
      "Dataset Name:  enron  Best AUC Score (structural):  56.990340318026455\n",
      "Dataset Name:  enron  Best AUC Score (joint-type):  56.89085981768909\n",
      "Dataset Name:  enron  Best AUC Score (structure type):  56.82750669372743\n",
      "===========================================================================================\n",
      "Dataset Name:  enron , AUC Score(benchmark/combined):  55.479006505026604\n",
      "Dataset Name:  enron , AUC Score (contextual):  82.18033998521803\n",
      "Dataset Name:  enron , AUC Score (structural):  31.689948977064446\n",
      "Dataset Name:  enron , AUC Score (joint-type):  55.90539541759054\n",
      "Dataset Name:  enron , AUC Score (structure type):  32.618652869489\n",
      "===========================================================================================\n",
      "Dataset Name:  enron  Best AUC Score(benchmark/combined):  77.72176227084564\n",
      "Dataset Name:  enron  Best AUC Score (contextual):  92.76422764227644\n",
      "Dataset Name:  enron  Best AUC Score (structural):  56.990340318026455\n",
      "Dataset Name:  enron  Best AUC Score (joint-type):  55.90539541759054\n",
      "Dataset Name:  enron  Best AUC Score (structure type):  56.82750669372743\n",
      "===========================================================================================\n"
     ]
    },
    {
     "name": "stderr",
     "output_type": "stream",
     "text": [
      " 94%|█████████▍| 472/500 [00:55<00:03,  8.84it/s]"
     ]
    },
    {
     "name": "stdout",
     "output_type": "stream",
     "text": [
      "Dataset Name:  enron , AUC Score(benchmark/combined):  56.40597279716144\n",
      "Dataset Name:  enron , AUC Score (contextual):  82.16063069721606\n",
      "Dataset Name:  enron , AUC Score (structural):  32.65324218556497\n",
      "Dataset Name:  enron , AUC Score (joint-type):  55.49150036954915\n",
      "Dataset Name:  enron , AUC Score (structure type):  33.529095084279035\n",
      "===========================================================================================\n",
      "Dataset Name:  enron  Best AUC Score(benchmark/combined):  77.72176227084564\n",
      "Dataset Name:  enron  Best AUC Score (contextual):  92.76422764227644\n",
      "Dataset Name:  enron  Best AUC Score (structural):  56.990340318026455\n",
      "Dataset Name:  enron  Best AUC Score (joint-type):  55.49150036954915\n",
      "Dataset Name:  enron  Best AUC Score (structure type):  56.82750669372743\n",
      "===========================================================================================\n",
      "Dataset Name:  enron , AUC Score(benchmark/combined):  56.62847427557658\n",
      "Dataset Name:  enron , AUC Score (contextual):  82.2049765952205\n",
      "Dataset Name:  enron , AUC Score (structural):  33.88452964779313\n",
      "Dataset Name:  enron , AUC Score (joint-type):  55.58511948755851\n",
      "Dataset Name:  enron , AUC Score (structure type):  34.71691011824791\n",
      "===========================================================================================\n",
      "Dataset Name:  enron  Best AUC Score(benchmark/combined):  77.72176227084564\n",
      "Dataset Name:  enron  Best AUC Score (contextual):  92.76422764227644\n",
      "Dataset Name:  enron  Best AUC Score (structural):  56.990340318026455\n",
      "Dataset Name:  enron  Best AUC Score (joint-type):  55.58511948755851\n",
      "Dataset Name:  enron  Best AUC Score (structure type):  56.82750669372743\n",
      "===========================================================================================\n"
     ]
    },
    {
     "name": "stderr",
     "output_type": "stream",
     "text": [
      " 95%|█████████▍| 474/500 [00:55<00:02,  8.95it/s]"
     ]
    },
    {
     "name": "stdout",
     "output_type": "stream",
     "text": [
      "Dataset Name:  enron , AUC Score(benchmark/combined):  56.625517445298634\n",
      "Dataset Name:  enron , AUC Score (contextual):  82.22714954422273\n",
      "Dataset Name:  enron , AUC Score (structural):  36.041511864070934\n",
      "Dataset Name:  enron , AUC Score (joint-type):  55.622074402562205\n",
      "Dataset Name:  enron , AUC Score (structure type):  36.79282318078305\n",
      "===========================================================================================\n",
      "Dataset Name:  enron  Best AUC Score(benchmark/combined):  77.72176227084564\n",
      "Dataset Name:  enron  Best AUC Score (contextual):  92.76422764227644\n",
      "Dataset Name:  enron  Best AUC Score (structural):  56.990340318026455\n",
      "Dataset Name:  enron  Best AUC Score (joint-type):  55.622074402562205\n",
      "Dataset Name:  enron  Best AUC Score (structure type):  56.82750669372743\n",
      "===========================================================================================\n",
      "Dataset Name:  enron , AUC Score(benchmark/combined):  56.55972797161443\n",
      "Dataset Name:  enron , AUC Score (contextual):  82.19265829021927\n",
      "Dataset Name:  enron , AUC Score (structural):  37.278694209144504\n",
      "Dataset Name:  enron , AUC Score (joint-type):  55.73786646957378\n",
      "Dataset Name:  enron , AUC Score (structure type):  37.98716519452305\n",
      "===========================================================================================\n",
      "Dataset Name:  enron  Best AUC Score(benchmark/combined):  77.72176227084564\n",
      "Dataset Name:  enron  Best AUC Score (contextual):  92.76422764227644\n",
      "Dataset Name:  enron  Best AUC Score (structural):  56.990340318026455\n",
      "Dataset Name:  enron  Best AUC Score (joint-type):  55.73786646957378\n",
      "Dataset Name:  enron  Best AUC Score (structure type):  56.82750669372743\n",
      "===========================================================================================\n"
     ]
    },
    {
     "name": "stderr",
     "output_type": "stream",
     "text": [
      " 95%|█████████▌| 476/500 [00:55<00:02,  8.92it/s]"
     ]
    },
    {
     "name": "stdout",
     "output_type": "stream",
     "text": [
      "Dataset Name:  enron , AUC Score(benchmark/combined):  56.041543465405084\n",
      "Dataset Name:  enron , AUC Score (contextual):  82.29613205222961\n",
      "Dataset Name:  enron , AUC Score (structural):  37.44493981275078\n",
      "Dataset Name:  enron , AUC Score (joint-type):  55.57772850455777\n",
      "Dataset Name:  enron , AUC Score (structure type):  38.14085889336725\n",
      "===========================================================================================\n",
      "Dataset Name:  enron  Best AUC Score(benchmark/combined):  77.72176227084564\n",
      "Dataset Name:  enron  Best AUC Score (contextual):  92.76422764227644\n",
      "Dataset Name:  enron  Best AUC Score (structural):  56.990340318026455\n",
      "Dataset Name:  enron  Best AUC Score (joint-type):  55.57772850455777\n",
      "Dataset Name:  enron  Best AUC Score (structure type):  56.82750669372743\n",
      "===========================================================================================\n",
      "Dataset Name:  enron , AUC Score(benchmark/combined):  55.14414547604968\n",
      "Dataset Name:  enron , AUC Score (contextual):  82.540034491254\n",
      "Dataset Name:  enron , AUC Score (structural):  36.542725516421456\n",
      "Dataset Name:  enron , AUC Score (joint-type):  55.56787386055678\n",
      "Dataset Name:  enron , AUC Score (structure type):  37.27277058380737\n",
      "===========================================================================================\n",
      "Dataset Name:  enron  Best AUC Score(benchmark/combined):  77.72176227084564\n",
      "Dataset Name:  enron  Best AUC Score (contextual):  92.76422764227644\n",
      "Dataset Name:  enron  Best AUC Score (structural):  56.990340318026455\n",
      "Dataset Name:  enron  Best AUC Score (joint-type):  55.56787386055678\n",
      "Dataset Name:  enron  Best AUC Score (structure type):  56.82750669372743\n",
      "===========================================================================================\n"
     ]
    },
    {
     "name": "stderr",
     "output_type": "stream",
     "text": [
      " 96%|█████████▌| 478/500 [00:55<00:02,  8.93it/s]"
     ]
    },
    {
     "name": "stdout",
     "output_type": "stream",
     "text": [
      "Dataset Name:  enron , AUC Score(benchmark/combined):  56.97220579538735\n",
      "Dataset Name:  enron , AUC Score (contextual):  83.00566642030056\n",
      "Dataset Name:  enron , AUC Score (structural):  37.326348640214\n",
      "Dataset Name:  enron , AUC Score (joint-type):  55.37078098053707\n",
      "Dataset Name:  enron , AUC Score (structure type):  38.01879960742837\n",
      "===========================================================================================\n",
      "Dataset Name:  enron  Best AUC Score(benchmark/combined):  77.72176227084564\n",
      "Dataset Name:  enron  Best AUC Score (contextual):  92.76422764227644\n",
      "Dataset Name:  enron  Best AUC Score (structural):  56.990340318026455\n",
      "Dataset Name:  enron  Best AUC Score (joint-type):  55.37078098053707\n",
      "Dataset Name:  enron  Best AUC Score (structure type):  56.82750669372743\n",
      "===========================================================================================\n",
      "Dataset Name:  enron , AUC Score(benchmark/combined):  52.864429331756355\n",
      "Dataset Name:  enron , AUC Score (contextual):  83.05986696230599\n",
      "Dataset Name:  enron , AUC Score (structural):  36.26036558181007\n",
      "Dataset Name:  enron , AUC Score (joint-type):  55.833949248583394\n",
      "Dataset Name:  enron , AUC Score (structure type):  37.011500824209854\n",
      "===========================================================================================\n",
      "Dataset Name:  enron  Best AUC Score(benchmark/combined):  77.72176227084564\n",
      "Dataset Name:  enron  Best AUC Score (contextual):  92.76422764227644\n",
      "Dataset Name:  enron  Best AUC Score (structural):  56.990340318026455\n",
      "Dataset Name:  enron  Best AUC Score (joint-type):  55.833949248583394\n",
      "Dataset Name:  enron  Best AUC Score (structure type):  56.82750669372743\n",
      "===========================================================================================\n"
     ]
    },
    {
     "name": "stderr",
     "output_type": "stream",
     "text": [
      " 96%|█████████▌| 480/500 [00:56<00:02,  8.94it/s]"
     ]
    },
    {
     "name": "stdout",
     "output_type": "stream",
     "text": [
      "Dataset Name:  enron , AUC Score(benchmark/combined):  56.885718509757545\n",
      "Dataset Name:  enron , AUC Score (contextual):  83.40724316334072\n",
      "Dataset Name:  enron , AUC Score (structural):  35.60737108039827\n",
      "Dataset Name:  enron , AUC Score (joint-type):  55.870904163587085\n",
      "Dataset Name:  enron , AUC Score (structure type):  36.38491076618167\n",
      "===========================================================================================\n",
      "Dataset Name:  enron  Best AUC Score(benchmark/combined):  77.72176227084564\n",
      "Dataset Name:  enron  Best AUC Score (contextual):  92.76422764227644\n",
      "Dataset Name:  enron  Best AUC Score (structural):  56.990340318026455\n",
      "Dataset Name:  enron  Best AUC Score (joint-type):  55.870904163587085\n",
      "Dataset Name:  enron  Best AUC Score (structure type):  56.82750669372743\n",
      "===========================================================================================\n",
      "Dataset Name:  enron , AUC Score(benchmark/combined):  55.3267297457126\n",
      "Dataset Name:  enron , AUC Score (contextual):  83.46637102734664\n",
      "Dataset Name:  enron , AUC Score (structural):  34.42948432159311\n",
      "Dataset Name:  enron , AUC Score (joint-type):  55.77974870657797\n",
      "Dataset Name:  enron , AUC Score (structure type):  35.24854929537204\n",
      "===========================================================================================\n",
      "Dataset Name:  enron  Best AUC Score(benchmark/combined):  77.72176227084564\n",
      "Dataset Name:  enron  Best AUC Score (contextual):  92.76422764227644\n",
      "Dataset Name:  enron  Best AUC Score (structural):  56.990340318026455\n",
      "Dataset Name:  enron  Best AUC Score (joint-type):  55.77974870657797\n",
      "Dataset Name:  enron  Best AUC Score (structure type):  56.82750669372743\n",
      "===========================================================================================\n"
     ]
    },
    {
     "name": "stderr",
     "output_type": "stream",
     "text": [
      " 96%|█████████▋| 482/500 [00:56<00:02,  8.94it/s]"
     ]
    },
    {
     "name": "stdout",
     "output_type": "stream",
     "text": [
      "Dataset Name:  enron , AUC Score(benchmark/combined):  54.339148432879945\n",
      "Dataset Name:  enron , AUC Score (contextual):  83.57230845035723\n",
      "Dataset Name:  enron , AUC Score (structural):  33.69148461881409\n",
      "Dataset Name:  enron , AUC Score (joint-type):  55.91278640059127\n",
      "Dataset Name:  enron , AUC Score (structure type):  34.543921333219\n",
      "===========================================================================================\n",
      "Dataset Name:  enron  Best AUC Score(benchmark/combined):  77.72176227084564\n",
      "Dataset Name:  enron  Best AUC Score (contextual):  92.76422764227644\n",
      "Dataset Name:  enron  Best AUC Score (structural):  56.990340318026455\n",
      "Dataset Name:  enron  Best AUC Score (joint-type):  55.91278640059127\n",
      "Dataset Name:  enron  Best AUC Score (structure type):  56.82750669372743\n",
      "===========================================================================================\n",
      "Dataset Name:  enron , AUC Score(benchmark/combined):  53.85348905972798\n",
      "Dataset Name:  enron , AUC Score (contextual):  83.74722838137471\n",
      "Dataset Name:  enron , AUC Score (structural):  32.4418685292515\n",
      "Dataset Name:  enron , AUC Score (joint-type):  57.526484355752636\n",
      "Dataset Name:  enron , AUC Score (structure type):  33.4045107623703\n",
      "===========================================================================================\n",
      "Dataset Name:  enron  Best AUC Score(benchmark/combined):  77.72176227084564\n",
      "Dataset Name:  enron  Best AUC Score (contextual):  92.76422764227644\n",
      "Dataset Name:  enron  Best AUC Score (structural):  56.990340318026455\n",
      "Dataset Name:  enron  Best AUC Score (joint-type):  57.526484355752636\n",
      "Dataset Name:  enron  Best AUC Score (structure type):  56.82750669372743\n",
      "===========================================================================================\n"
     ]
    },
    {
     "name": "stderr",
     "output_type": "stream",
     "text": [
      " 97%|█████████▋| 484/500 [00:56<00:01,  8.90it/s]"
     ]
    },
    {
     "name": "stdout",
     "output_type": "stream",
     "text": [
      "Dataset Name:  enron , AUC Score(benchmark/combined):  54.789325842696634\n",
      "Dataset Name:  enron , AUC Score (contextual):  84.07982261640798\n",
      "Dataset Name:  enron , AUC Score (structural):  31.625600634071425\n",
      "Dataset Name:  enron , AUC Score (joint-type):  59.088445429908845\n",
      "Dataset Name:  enron , AUC Score (structure type):  32.67987308121087\n",
      "===========================================================================================\n",
      "Dataset Name:  enron  Best AUC Score(benchmark/combined):  77.72176227084564\n",
      "Dataset Name:  enron  Best AUC Score (contextual):  92.76422764227644\n",
      "Dataset Name:  enron  Best AUC Score (structural):  56.990340318026455\n",
      "Dataset Name:  enron  Best AUC Score (joint-type):  59.088445429908845\n",
      "Dataset Name:  enron  Best AUC Score (structure type):  56.82750669372743\n",
      "===========================================================================================\n",
      "Dataset Name:  enron , AUC Score(benchmark/combined):  54.189828503843884\n",
      "Dataset Name:  enron , AUC Score (contextual):  84.81645725548164\n",
      "Dataset Name:  enron , AUC Score (structural):  31.365879031059595\n",
      "Dataset Name:  enron , AUC Score (joint-type):  59.918699186991866\n",
      "Dataset Name:  enron , AUC Score (structure type):  32.46219592373439\n",
      "===========================================================================================\n",
      "Dataset Name:  enron  Best AUC Score(benchmark/combined):  77.72176227084564\n",
      "Dataset Name:  enron  Best AUC Score (contextual):  92.76422764227644\n",
      "Dataset Name:  enron  Best AUC Score (structural):  56.990340318026455\n",
      "Dataset Name:  enron  Best AUC Score (joint-type):  59.918699186991866\n",
      "Dataset Name:  enron  Best AUC Score (structure type):  56.82750669372743\n",
      "===========================================================================================\n"
     ]
    },
    {
     "name": "stderr",
     "output_type": "stream",
     "text": [
      " 97%|█████████▋| 486/500 [00:56<00:01,  8.67it/s]"
     ]
    },
    {
     "name": "stdout",
     "output_type": "stream",
     "text": [
      "Dataset Name:  enron , AUC Score(benchmark/combined):  54.676966292134836\n",
      "Dataset Name:  enron , AUC Score (contextual):  85.54570091155456\n",
      "Dataset Name:  enron , AUC Score (structural):  30.96794967058008\n",
      "Dataset Name:  enron , AUC Score (joint-type):  60.43360433604336\n",
      "Dataset Name:  enron , AUC Score (structure type):  32.09940066127357\n",
      "===========================================================================================\n",
      "Dataset Name:  enron  Best AUC Score(benchmark/combined):  77.72176227084564\n",
      "Dataset Name:  enron  Best AUC Score (contextual):  92.76422764227644\n",
      "Dataset Name:  enron  Best AUC Score (structural):  56.990340318026455\n",
      "Dataset Name:  enron  Best AUC Score (joint-type):  60.43360433604336\n",
      "Dataset Name:  enron  Best AUC Score (structure type):  56.82750669372743\n",
      "===========================================================================================\n",
      "Dataset Name:  enron , AUC Score(benchmark/combined):  55.080573625073924\n",
      "Dataset Name:  enron , AUC Score (contextual):  86.0679970436068\n",
      "Dataset Name:  enron , AUC Score (structural):  30.83613216426413\n",
      "Dataset Name:  enron , AUC Score (joint-type):  60.41882237004188\n",
      "Dataset Name:  enron , AUC Score (structure type):  31.972053092454434\n",
      "===========================================================================================\n",
      "Dataset Name:  enron  Best AUC Score(benchmark/combined):  77.72176227084564\n",
      "Dataset Name:  enron  Best AUC Score (contextual):  92.76422764227644\n",
      "Dataset Name:  enron  Best AUC Score (structural):  56.990340318026455\n",
      "Dataset Name:  enron  Best AUC Score (joint-type):  60.41882237004188\n",
      "Dataset Name:  enron  Best AUC Score (structure type):  56.82750669372743\n",
      "===========================================================================================\n"
     ]
    },
    {
     "name": "stderr",
     "output_type": "stream",
     "text": [
      " 98%|█████████▊| 488/500 [00:57<00:01,  8.68it/s]"
     ]
    },
    {
     "name": "stdout",
     "output_type": "stream",
     "text": [
      "Dataset Name:  enron , AUC Score(benchmark/combined):  55.887049083382614\n",
      "Dataset Name:  enron , AUC Score (contextual):  86.17639812761763\n",
      "Dataset Name:  enron , AUC Score (structural):  31.20047555357408\n",
      "Dataset Name:  enron , AUC Score (joint-type):  59.3619118009362\n",
      "Dataset Name:  enron , AUC Score (structure type):  32.281584388607804\n",
      "===========================================================================================\n",
      "Dataset Name:  enron  Best AUC Score(benchmark/combined):  77.72176227084564\n",
      "Dataset Name:  enron  Best AUC Score (contextual):  92.76422764227644\n",
      "Dataset Name:  enron  Best AUC Score (structural):  56.990340318026455\n",
      "Dataset Name:  enron  Best AUC Score (joint-type):  59.3619118009362\n",
      "Dataset Name:  enron  Best AUC Score (structure type):  56.82750669372743\n",
      "===========================================================================================\n",
      "Dataset Name:  enron , AUC Score(benchmark/combined):  56.64399763453578\n",
      "Dataset Name:  enron , AUC Score (contextual):  86.0039418576004\n",
      "Dataset Name:  enron , AUC Score (structural):  32.29667607866449\n",
      "Dataset Name:  enron , AUC Score (joint-type):  57.22838137472284\n",
      "Dataset Name:  enron , AUC Score (structure type):  33.253342099495946\n",
      "===========================================================================================\n",
      "Dataset Name:  enron  Best AUC Score(benchmark/combined):  77.72176227084564\n",
      "Dataset Name:  enron  Best AUC Score (contextual):  92.76422764227644\n",
      "Dataset Name:  enron  Best AUC Score (structural):  56.990340318026455\n",
      "Dataset Name:  enron  Best AUC Score (joint-type):  57.22838137472284\n",
      "Dataset Name:  enron  Best AUC Score (structure type):  56.82750669372743\n",
      "===========================================================================================\n"
     ]
    },
    {
     "name": "stderr",
     "output_type": "stream",
     "text": [
      " 98%|█████████▊| 490/500 [00:57<00:01,  8.76it/s]"
     ]
    },
    {
     "name": "stdout",
     "output_type": "stream",
     "text": [
      "Dataset Name:  enron , AUC Score(benchmark/combined):  57.17770549970431\n",
      "Dataset Name:  enron , AUC Score (contextual):  85.71322985957133\n",
      "Dataset Name:  enron , AUC Score (structural):  33.461435577351764\n",
      "Dataset Name:  enron , AUC Score (joint-type):  56.07292436560729\n",
      "Dataset Name:  enron , AUC Score (structure type):  34.32886449608857\n",
      "===========================================================================================\n",
      "Dataset Name:  enron  Best AUC Score(benchmark/combined):  77.72176227084564\n",
      "Dataset Name:  enron  Best AUC Score (contextual):  92.76422764227644\n",
      "Dataset Name:  enron  Best AUC Score (structural):  56.990340318026455\n",
      "Dataset Name:  enron  Best AUC Score (joint-type):  56.07292436560729\n",
      "Dataset Name:  enron  Best AUC Score (structure type):  56.82750669372743\n",
      "===========================================================================================\n",
      "Dataset Name:  enron , AUC Score(benchmark/combined):  57.420165582495564\n",
      "Dataset Name:  enron , AUC Score (contextual):  85.74525745257453\n",
      "Dataset Name:  enron , AUC Score (structural):  33.956457125873094\n",
      "Dataset Name:  enron , AUC Score (joint-type):  55.811776299581176\n",
      "Dataset Name:  enron , AUC Score (structure type):  34.79485273799655\n",
      "===========================================================================================\n",
      "Dataset Name:  enron  Best AUC Score(benchmark/combined):  77.72176227084564\n",
      "Dataset Name:  enron  Best AUC Score (contextual):  92.76422764227644\n",
      "Dataset Name:  enron  Best AUC Score (structural):  56.990340318026455\n",
      "Dataset Name:  enron  Best AUC Score (joint-type):  55.811776299581176\n",
      "Dataset Name:  enron  Best AUC Score (structure type):  56.82750669372743\n",
      "===========================================================================================\n"
     ]
    },
    {
     "name": "stderr",
     "output_type": "stream",
     "text": [
      " 98%|█████████▊| 492/500 [00:57<00:00,  8.97it/s]"
     ]
    },
    {
     "name": "stdout",
     "output_type": "stream",
     "text": [
      "Dataset Name:  enron , AUC Score(benchmark/combined):  57.38542282672974\n",
      "Dataset Name:  enron , AUC Score (contextual):  85.97437792559745\n",
      "Dataset Name:  enron , AUC Score (structural):  33.701590132263334\n",
      "Dataset Name:  enron , AUC Score (joint-type):  56.225671347622566\n",
      "Dataset Name:  enron , AUC Score (structure type):  34.565741455373555\n",
      "===========================================================================================\n",
      "Dataset Name:  enron  Best AUC Score(benchmark/combined):  77.72176227084564\n",
      "Dataset Name:  enron  Best AUC Score (contextual):  92.76422764227644\n",
      "Dataset Name:  enron  Best AUC Score (structural):  56.990340318026455\n",
      "Dataset Name:  enron  Best AUC Score (joint-type):  56.225671347622566\n",
      "Dataset Name:  enron  Best AUC Score (structure type):  56.82750669372743\n",
      "===========================================================================================\n",
      "Dataset Name:  enron , AUC Score(benchmark/combined):  56.01123595505618\n",
      "Dataset Name:  enron , AUC Score (contextual):  86.53116531165311\n",
      "Dataset Name:  enron , AUC Score (structural):  32.95125575865656\n",
      "Dataset Name:  enron , AUC Score (joint-type):  57.84676028578466\n",
      "Dataset Name:  enron , AUC Score (structure type):  33.9068023516184\n",
      "===========================================================================================\n",
      "Dataset Name:  enron  Best AUC Score(benchmark/combined):  77.72176227084564\n",
      "Dataset Name:  enron  Best AUC Score (contextual):  92.76422764227644\n",
      "Dataset Name:  enron  Best AUC Score (structural):  56.990340318026455\n",
      "Dataset Name:  enron  Best AUC Score (joint-type):  57.84676028578466\n",
      "Dataset Name:  enron  Best AUC Score (structure type):  56.82750669372743\n",
      "===========================================================================================\n"
     ]
    },
    {
     "name": "stderr",
     "output_type": "stream",
     "text": [
      " 99%|█████████▉| 494/500 [00:57<00:00,  8.92it/s]"
     ]
    },
    {
     "name": "stdout",
     "output_type": "stream",
     "text": [
      "Dataset Name:  enron , AUC Score(benchmark/combined):  54.692489651094036\n",
      "Dataset Name:  enron , AUC Score (contextual):  86.70854890367086\n",
      "Dataset Name:  enron , AUC Score (structural):  32.46173279833556\n",
      "Dataset Name:  enron , AUC Score (joint-type):  59.51958610495196\n",
      "Dataset Name:  enron , AUC Score (structure type):  33.500700340165224\n",
      "===========================================================================================\n",
      "Dataset Name:  enron  Best AUC Score(benchmark/combined):  77.72176227084564\n",
      "Dataset Name:  enron  Best AUC Score (contextual):  92.76422764227644\n",
      "Dataset Name:  enron  Best AUC Score (structural):  56.990340318026455\n",
      "Dataset Name:  enron  Best AUC Score (joint-type):  59.51958610495196\n",
      "Dataset Name:  enron  Best AUC Score (structure type):  56.82750669372743\n",
      "===========================================================================================\n",
      "Dataset Name:  enron , AUC Score(benchmark/combined):  55.38512714370195\n",
      "Dataset Name:  enron , AUC Score (contextual):  86.4449371766445\n",
      "Dataset Name:  enron , AUC Score (structural):  32.35448556001387\n",
      "Dataset Name:  enron , AUC Score (joint-type):  59.540527223454056\n",
      "Dataset Name:  enron , AUC Score (structure type):  33.39836492010405\n",
      "===========================================================================================\n",
      "Dataset Name:  enron  Best AUC Score(benchmark/combined):  77.72176227084564\n",
      "Dataset Name:  enron  Best AUC Score (contextual):  92.76422764227644\n",
      "Dataset Name:  enron  Best AUC Score (structural):  56.990340318026455\n",
      "Dataset Name:  enron  Best AUC Score (joint-type):  59.540527223454056\n",
      "Dataset Name:  enron  Best AUC Score (structure type):  56.82750669372743\n",
      "===========================================================================================\n"
     ]
    },
    {
     "name": "stderr",
     "output_type": "stream",
     "text": [
      " 99%|█████████▉| 496/500 [00:57<00:00,  9.12it/s]"
     ]
    },
    {
     "name": "stdout",
     "output_type": "stream",
     "text": [
      "Dataset Name:  enron , AUC Score(benchmark/combined):  53.99541691306919\n",
      "Dataset Name:  enron , AUC Score (contextual):  86.36363636363636\n",
      "Dataset Name:  enron , AUC Score (structural):  32.84440481497993\n",
      "Dataset Name:  enron , AUC Score (joint-type):  58.84700665188469\n",
      "Dataset Name:  enron , AUC Score (structure type):  33.8427236086099\n",
      "===========================================================================================\n",
      "Dataset Name:  enron  Best AUC Score(benchmark/combined):  77.72176227084564\n",
      "Dataset Name:  enron  Best AUC Score (contextual):  92.76422764227644\n",
      "Dataset Name:  enron  Best AUC Score (structural):  56.990340318026455\n",
      "Dataset Name:  enron  Best AUC Score (joint-type):  58.84700665188469\n",
      "Dataset Name:  enron  Best AUC Score (structure type):  56.82750669372743\n",
      "===========================================================================================\n",
      "Dataset Name:  enron , AUC Score(benchmark/combined):  53.692341809580135\n",
      "Dataset Name:  enron , AUC Score (contextual):  86.55087459965507\n",
      "Dataset Name:  enron , AUC Score (structural):  33.0722742358944\n",
      "Dataset Name:  enron , AUC Score (joint-type):  58.0130574033013\n",
      "Dataset Name:  enron , AUC Score (structure type):  34.02962391256706\n",
      "===========================================================================================\n",
      "Dataset Name:  enron  Best AUC Score(benchmark/combined):  77.72176227084564\n",
      "Dataset Name:  enron  Best AUC Score (contextual):  92.76422764227644\n",
      "Dataset Name:  enron  Best AUC Score (structural):  56.990340318026455\n",
      "Dataset Name:  enron  Best AUC Score (joint-type):  58.0130574033013\n",
      "Dataset Name:  enron  Best AUC Score (structure type):  56.82750669372743\n",
      "===========================================================================================\n"
     ]
    },
    {
     "name": "stderr",
     "output_type": "stream",
     "text": [
      "100%|█████████▉| 498/500 [00:58<00:00,  9.33it/s]"
     ]
    },
    {
     "name": "stdout",
     "output_type": "stream",
     "text": [
      "Dataset Name:  enron , AUC Score(benchmark/combined):  53.719692489651095\n",
      "Dataset Name:  enron , AUC Score (contextual):  86.65927568366594\n",
      "Dataset Name:  enron , AUC Score (structural):  32.85465893892109\n",
      "Dataset Name:  enron , AUC Score (joint-type):  57.99457994579945\n",
      "Dataset Name:  enron , AUC Score (structure type):  33.81961714737635\n",
      "===========================================================================================\n",
      "Dataset Name:  enron  Best AUC Score(benchmark/combined):  77.72176227084564\n",
      "Dataset Name:  enron  Best AUC Score (contextual):  92.76422764227644\n",
      "Dataset Name:  enron  Best AUC Score (structural):  56.990340318026455\n",
      "Dataset Name:  enron  Best AUC Score (joint-type):  57.99457994579945\n",
      "Dataset Name:  enron  Best AUC Score (structure type):  56.82750669372743\n",
      "===========================================================================================\n",
      "Dataset Name:  enron , AUC Score(benchmark/combined):  52.78237729154347\n",
      "Dataset Name:  enron , AUC Score (contextual):  86.87361419068736\n",
      "Dataset Name:  enron , AUC Score (structural):  32.95878535691287\n",
      "Dataset Name:  enron , AUC Score (joint-type):  58.83715200788371\n",
      "Dataset Name:  enron , AUC Score (structure type):  33.95234828345196\n",
      "===========================================================================================\n",
      "Dataset Name:  enron  Best AUC Score(benchmark/combined):  77.72176227084564\n",
      "Dataset Name:  enron  Best AUC Score (contextual):  92.76422764227644\n",
      "Dataset Name:  enron  Best AUC Score (structural):  56.990340318026455\n",
      "Dataset Name:  enron  Best AUC Score (joint-type):  58.83715200788371\n",
      "Dataset Name:  enron  Best AUC Score (structure type):  56.82750669372743\n",
      "===========================================================================================\n"
     ]
    },
    {
     "name": "stderr",
     "output_type": "stream",
     "text": [
      "100%|██████████| 500/500 [00:58<00:00,  8.56it/s]"
     ]
    },
    {
     "name": "stdout",
     "output_type": "stream",
     "text": [
      "Dataset Name:  enron , AUC Score(benchmark/combined):  53.1785925487877\n",
      "Dataset Name:  enron , AUC Score (contextual):  86.89578713968959\n",
      "Dataset Name:  enron , AUC Score (structural):  32.81527715856739\n",
      "Dataset Name:  enron , AUC Score (joint-type):  59.43828529194383\n",
      "Dataset Name:  enron , AUC Score (structure type):  33.83757825229397\n",
      "===========================================================================================\n",
      "Dataset Name:  enron  Best AUC Score(benchmark/combined):  77.72176227084564\n",
      "Dataset Name:  enron  Best AUC Score (contextual):  92.76422764227644\n",
      "Dataset Name:  enron  Best AUC Score (structural):  56.990340318026455\n",
      "Dataset Name:  enron  Best AUC Score (joint-type):  59.43828529194383\n",
      "Dataset Name:  enron  Best AUC Score (structure type):  56.82750669372743\n",
      "===========================================================================================\n",
      "Dataset Name:  enron , AUC Score(benchmark/combined):  54.52616794795979\n",
      "Dataset Name:  enron , AUC Score (contextual):  86.65927568366592\n",
      "Dataset Name:  enron , AUC Score (structural):  32.436964383018775\n",
      "Dataset Name:  enron , AUC Score (joint-type):  58.457748213845775\n",
      "Dataset Name:  enron , AUC Score (structure type):  33.43581167995884\n",
      "===========================================================================================\n",
      "Dataset Name:  enron  Best AUC Score(benchmark/combined):  77.72176227084564\n",
      "Dataset Name:  enron  Best AUC Score (contextual):  92.76422764227644\n",
      "Dataset Name:  enron  Best AUC Score (structural):  56.990340318026455\n",
      "Dataset Name:  enron  Best AUC Score (joint-type):  58.457748213845775\n",
      "Dataset Name:  enron  Best AUC Score (structure type):  56.82750669372743\n",
      "===========================================================================================\n"
     ]
    },
    {
     "name": "stderr",
     "output_type": "stream",
     "text": [
      "\n"
     ]
    }
   ],
   "source": [
    "device = torch.device(\"cuda\" if torch.cuda.is_available() else \"cpu\")\n",
    "parser = argparse.ArgumentParser(description='parameters')\n",
    "parser.add_argument('-f')\n",
    "parser.add_argument('--dataset', type=str, default=\"enron\")\n",
    "parser.add_argument('--lr', type=float, default=0.01)\n",
    "parser.add_argument('--epoch_num', type=int, default=500)\n",
    "parser.add_argument('--lambda_loss1', type=float, default=1e-2) #neighbor reconstruction loss weight\n",
    "parser.add_argument('--lambda_loss2', type=float, default=0.1) #feature loss weight\n",
    "parser.add_argument('--lambda_loss3', type=float, default=0.8) #degree loss weight\n",
    "parser.add_argument('--sample_size', type=int, default=10)\n",
    "parser.add_argument('--dimension', type=int, default=16)\n",
    "parser.add_argument('--encoder', type=str, default=\"SAGE\")\n",
    "parser.add_argument('--loss_step', type=int, default=100)\n",
    "parser.add_argument('--real_loss', type=bool, default=False) #use real loss or adaptive loss\n",
    "parser.add_argument('--neigh_loss', type=str, default=\"KL\")\n",
    "parser.add_argument('--h_loss_weight', type=float, default=1.0)#adaptive loss weight for h_loss\n",
    "parser.add_argument('--feature_loss_weight', type=float, default=2.0) #adaptive loss weight for feature loss\n",
    "parser.add_argument('--degree_loss_weight', type=float, default=1.0)#adaptive loss weight for degree loss\n",
    "parser.add_argument('--calculate_contextual', type=bool, default=True)\n",
    "parser.add_argument('--contextual_n', type=int, default=3)\n",
    "parser.add_argument('--contextual_k', type=int, default=25)\n",
    "parser.add_argument('--calculate_structural', type=bool, default=True)\n",
    "parser.add_argument('--structural_n', type=int, default=3)\n",
    "parser.add_argument('--structural_m', type=int, default=25)\n",
    "parser.add_argument('--use_combine_outlier', type=bool, default=False)\n",
    "parser.add_argument('--plot_loss', type=bool, default=False)\n",
    "parser.add_argument('--normalize_feat', type=bool, default=False)\n",
    "\n",
    "\n",
    "\n",
    "args = parser.parse_args()\n",
    "\n",
    "print(\"GAD-NR: Graph Anomaly Detection via Neighborhood Reconstruction\")\n",
    "print(\"Dataset: \", args.dataset, \"lr:\", args.lr, \"lambda_loss1 (neighbor):\",args.lambda_loss1, \"lambda_loss2 (feature):\", args.lambda_loss2, \"lambda_loss3 (degree):\", args.lambda_loss3, \"sample_size:\", args.sample_size, \"dimension:\",args.dimension, \"encoder:\", args.encoder, \"loss_step:\", args.loss_step,\"real_loss:\", args.real_loss, \"h_loss_weight:\",args.h_loss_weight,\"feature_loss_weight\",args.feature_loss_weight,\"degree_loss_weight:\",args.degree_loss_weight,\n",
    "\"calculate_contextual\",args.calculate_contextual,\"calculate_structural\",args.calculate_structural)\n",
    "\n",
    "\n",
    "dataset_str = args.dataset\n",
    "train_real_datasets(dataset_str=dataset_str, lr=args.lr, epoch_num=args.epoch_num, lambda_loss1=args.lambda_loss1, \n",
    "lambda_loss2=args.lambda_loss2, lambda_loss3=args.lambda_loss3, encoder=args.encoder, sample_size=args.sample_size, loss_step=args.loss_step, \n",
    "hidden_dim=args.dimension,real_loss=args.real_loss,calculate_contextual=args.calculate_contextual,calculate_structural=args.calculate_structural)"
   ]
  },
  {
   "cell_type": "code",
   "execution_count": null,
   "id": "ab311da9-1448-4397-9410-060518e065a9",
   "metadata": {},
   "outputs": [],
   "source": []
  }
 ],
 "metadata": {
  "kernelspec": {
   "display_name": "NWRGAE",
   "language": "python",
   "name": "nwrgae"
  },
  "language_info": {
   "codemirror_mode": {
    "name": "ipython",
    "version": 3
   },
   "file_extension": ".py",
   "mimetype": "text/x-python",
   "name": "python",
   "nbconvert_exporter": "python",
   "pygments_lexer": "ipython3",
   "version": "3.8.5"
  }
 },
 "nbformat": 4,
 "nbformat_minor": 5
}
